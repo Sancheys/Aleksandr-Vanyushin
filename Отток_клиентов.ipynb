{
 "cells": [
  {
   "cell_type": "markdown",
   "metadata": {
    "id": "HmGjVk0mkVDM",
    "toc": true
   },
   "source": [
    "<h1>Содержание<span class=\"tocSkip\"></span></h1>\n",
    "<div class=\"toc\"><ul class=\"toc-item\"><li><span><a href=\"#Подготовка-данных\" data-toc-modified-id=\"Подготовка-данных-1\"><span class=\"toc-item-num\">1&nbsp;&nbsp;</span>Подготовка данных</a></span></li><li><span><a href=\"#Исследование-задачи\" data-toc-modified-id=\"Исследование-задачи-2\"><span class=\"toc-item-num\">2&nbsp;&nbsp;</span>Исследование задачи</a></span></li><li><span><a href=\"#Борьба-с-дисбалансом\" data-toc-modified-id=\"Борьба-с-дисбалансом-3\"><span class=\"toc-item-num\">3&nbsp;&nbsp;</span>Борьба с дисбалансом</a></span><ul class=\"toc-item\"><li><span><a href=\"#Взвешивание-классов.\" data-toc-modified-id=\"Взвешивание-классов.-3.1\"><span class=\"toc-item-num\">3.1&nbsp;&nbsp;</span>Взвешивание классов.</a></span></li><li><span><a href=\"#Увеличение-выборки\" data-toc-modified-id=\"Увеличение-выборки-3.2\"><span class=\"toc-item-num\">3.2&nbsp;&nbsp;</span>Увеличение выборки</a></span></li><li><span><a href=\"#Уменьшение-выборки\" data-toc-modified-id=\"Уменьшение-выборки-3.3\"><span class=\"toc-item-num\">3.3&nbsp;&nbsp;</span>Уменьшение выборки</a></span></li><li><span><a href=\"#Изменение-порога\" data-toc-modified-id=\"Изменение-порога-3.4\"><span class=\"toc-item-num\">3.4&nbsp;&nbsp;</span>Изменение порога</a></span></li></ul></li><li><span><a href=\"#Тестирование-модели\" data-toc-modified-id=\"Тестирование-модели-4\"><span class=\"toc-item-num\">4&nbsp;&nbsp;</span>Тестирование модели</a></span></li><li><span><a href=\"#Чек-лист-готовности-проекта\" data-toc-modified-id=\"Чек-лист-готовности-проекта-5\"><span class=\"toc-item-num\">5&nbsp;&nbsp;</span>Чек-лист готовности проекта</a></span></li></ul></div>"
   ]
  },
  {
   "cell_type": "markdown",
   "metadata": {
    "id": "eljp915ykVDN"
   },
   "source": [
    "# Отток клиентов"
   ]
  },
  {
   "cell_type": "markdown",
   "metadata": {
    "id": "GTBgQUx2kVDN"
   },
   "source": [
    "Из «Бета-Банка» стали уходить клиенты. Каждый месяц. Немного, но заметно. Банковские маркетологи посчитали: сохранять текущих клиентов дешевле, чем привлекать новых.\n",
    "\n",
    "Нужно спрогнозировать, уйдёт клиент из банка в ближайшее время или нет. Вам предоставлены исторические данные о поведении клиентов и расторжении договоров с банком.\n",
    "\n",
    "Постройте модель с предельно большим значением *F1*-меры. Чтобы сдать проект успешно, нужно довести метрику до 0.59. Проверьте *F1*-меру на тестовой выборке самостоятельно.\n",
    "\n",
    "Дополнительно измеряйте *AUC-ROC*, сравнивайте её значение с *F1*-мерой.\n",
    "\n",
    "Источник данных: [https://www.kaggle.com/barelydedicated/bank-customer-churn-modeling](https://www.kaggle.com/barelydedicated/bank-customer-churn-modeling)"
   ]
  },
  {
   "cell_type": "markdown",
   "metadata": {
    "id": "sZUgIG9jkVDO"
   },
   "source": [
    "\n",
    "# Признаки\n",
    "\n",
    "* RowNumber — индекс строки в данных\n",
    "* CustomerId — уникальный идентификатор клиента\n",
    "* Surname — фамилия\n",
    "* CreditScore — кредитный рейтинг\n",
    "* Geography — страна проживания\n",
    "* Gender — пол\n",
    "* Age — возраст\n",
    "* Tenure — сколько лет человек является клиентом банка\n",
    "* Balance — баланс на счёте\n",
    "* NumOfProducts — количество продуктов банка, используемых клиентом\n",
    "* HasCrCard — наличие кредитной карты\n",
    "* IsActiveMember — активность клиента\n",
    "* EstimatedSalary — предполагаемая зарплата\n",
    "\n",
    "# Целевой признак\n",
    "\n",
    "* Exited — факт ухода клиента"
   ]
  },
  {
   "cell_type": "markdown",
   "metadata": {
    "id": "sKbbBRpPkVDO"
   },
   "source": [
    "## Подготовка данных"
   ]
  },
  {
   "cell_type": "code",
   "execution_count": null,
   "metadata": {
    "id": "uHa1m9IdkVDP"
   },
   "outputs": [],
   "source": [
    "import pandas as pd\n",
    "pd.options.mode.chained_assignment = None\n",
    "import numpy as np\n",
    "from sklearn.metrics import f1_score, mean_absolute_error, accuracy_score, roc_auc_score, precision_score, recall_score\n",
    "from sklearn.preprocessing import StandardScaler, OrdinalEncoder\n",
    "from sklearn.utils import shuffle\n",
    "from sklearn.model_selection import train_test_split\n",
    "from sklearn.linear_model import LogisticRegression\n",
    "from sklearn.ensemble import RandomForestClassifier\n",
    "from sklearn.tree import DecisionTreeClassifier\n",
    "import matplotlib.pyplot as plt\n",
    "from sklearn import metrics\n",
    "# from sklearn.metrics import plot_roc_curve\n",
    "from sklearn.metrics import roc_curve, auc"
   ]
  },
  {
   "cell_type": "code",
   "execution_count": null,
   "metadata": {
    "id": "xHs1u-G5kVDR"
   },
   "outputs": [],
   "source": [
    "df = pd.read_csv('Churn.csv')"
   ]
  },
  {
   "cell_type": "code",
   "execution_count": null,
   "metadata": {
    "id": "RFd8ASQbkVDS",
    "outputId": "87e88a85-e921-4150-a7b0-81ecf8295d99"
   },
   "outputs": [
    {
     "data": {
      "text/html": [
       "<div>\n",
       "<style scoped>\n",
       "    .dataframe tbody tr th:only-of-type {\n",
       "        vertical-align: middle;\n",
       "    }\n",
       "\n",
       "    .dataframe tbody tr th {\n",
       "        vertical-align: top;\n",
       "    }\n",
       "\n",
       "    .dataframe thead th {\n",
       "        text-align: right;\n",
       "    }\n",
       "</style>\n",
       "<table border=\"1\" class=\"dataframe\">\n",
       "  <thead>\n",
       "    <tr style=\"text-align: right;\">\n",
       "      <th></th>\n",
       "      <th>RowNumber</th>\n",
       "      <th>CustomerId</th>\n",
       "      <th>Surname</th>\n",
       "      <th>CreditScore</th>\n",
       "      <th>Geography</th>\n",
       "      <th>Gender</th>\n",
       "      <th>Age</th>\n",
       "      <th>Tenure</th>\n",
       "      <th>Balance</th>\n",
       "      <th>NumOfProducts</th>\n",
       "      <th>HasCrCard</th>\n",
       "      <th>IsActiveMember</th>\n",
       "      <th>EstimatedSalary</th>\n",
       "      <th>Exited</th>\n",
       "    </tr>\n",
       "  </thead>\n",
       "  <tbody>\n",
       "    <tr>\n",
       "      <th>0</th>\n",
       "      <td>1</td>\n",
       "      <td>15634602</td>\n",
       "      <td>Hargrave</td>\n",
       "      <td>619</td>\n",
       "      <td>France</td>\n",
       "      <td>Female</td>\n",
       "      <td>42</td>\n",
       "      <td>2.0</td>\n",
       "      <td>0.00</td>\n",
       "      <td>1</td>\n",
       "      <td>1</td>\n",
       "      <td>1</td>\n",
       "      <td>101348.88</td>\n",
       "      <td>1</td>\n",
       "    </tr>\n",
       "    <tr>\n",
       "      <th>1</th>\n",
       "      <td>2</td>\n",
       "      <td>15647311</td>\n",
       "      <td>Hill</td>\n",
       "      <td>608</td>\n",
       "      <td>Spain</td>\n",
       "      <td>Female</td>\n",
       "      <td>41</td>\n",
       "      <td>1.0</td>\n",
       "      <td>83807.86</td>\n",
       "      <td>1</td>\n",
       "      <td>0</td>\n",
       "      <td>1</td>\n",
       "      <td>112542.58</td>\n",
       "      <td>0</td>\n",
       "    </tr>\n",
       "    <tr>\n",
       "      <th>2</th>\n",
       "      <td>3</td>\n",
       "      <td>15619304</td>\n",
       "      <td>Onio</td>\n",
       "      <td>502</td>\n",
       "      <td>France</td>\n",
       "      <td>Female</td>\n",
       "      <td>42</td>\n",
       "      <td>8.0</td>\n",
       "      <td>159660.80</td>\n",
       "      <td>3</td>\n",
       "      <td>1</td>\n",
       "      <td>0</td>\n",
       "      <td>113931.57</td>\n",
       "      <td>1</td>\n",
       "    </tr>\n",
       "    <tr>\n",
       "      <th>3</th>\n",
       "      <td>4</td>\n",
       "      <td>15701354</td>\n",
       "      <td>Boni</td>\n",
       "      <td>699</td>\n",
       "      <td>France</td>\n",
       "      <td>Female</td>\n",
       "      <td>39</td>\n",
       "      <td>1.0</td>\n",
       "      <td>0.00</td>\n",
       "      <td>2</td>\n",
       "      <td>0</td>\n",
       "      <td>0</td>\n",
       "      <td>93826.63</td>\n",
       "      <td>0</td>\n",
       "    </tr>\n",
       "    <tr>\n",
       "      <th>4</th>\n",
       "      <td>5</td>\n",
       "      <td>15737888</td>\n",
       "      <td>Mitchell</td>\n",
       "      <td>850</td>\n",
       "      <td>Spain</td>\n",
       "      <td>Female</td>\n",
       "      <td>43</td>\n",
       "      <td>2.0</td>\n",
       "      <td>125510.82</td>\n",
       "      <td>1</td>\n",
       "      <td>1</td>\n",
       "      <td>1</td>\n",
       "      <td>79084.10</td>\n",
       "      <td>0</td>\n",
       "    </tr>\n",
       "  </tbody>\n",
       "</table>\n",
       "</div>"
      ],
      "text/plain": [
       "   RowNumber  CustomerId   Surname  CreditScore Geography  Gender  Age  \\\n",
       "0          1    15634602  Hargrave          619    France  Female   42   \n",
       "1          2    15647311      Hill          608     Spain  Female   41   \n",
       "2          3    15619304      Onio          502    France  Female   42   \n",
       "3          4    15701354      Boni          699    France  Female   39   \n",
       "4          5    15737888  Mitchell          850     Spain  Female   43   \n",
       "\n",
       "   Tenure    Balance  NumOfProducts  HasCrCard  IsActiveMember  \\\n",
       "0     2.0       0.00              1          1               1   \n",
       "1     1.0   83807.86              1          0               1   \n",
       "2     8.0  159660.80              3          1               0   \n",
       "3     1.0       0.00              2          0               0   \n",
       "4     2.0  125510.82              1          1               1   \n",
       "\n",
       "   EstimatedSalary  Exited  \n",
       "0        101348.88       1  \n",
       "1        112542.58       0  \n",
       "2        113931.57       1  \n",
       "3         93826.63       0  \n",
       "4         79084.10       0  "
      ]
     },
     "execution_count": 3,
     "metadata": {},
     "output_type": "execute_result"
    }
   ],
   "source": [
    "df.head()"
   ]
  },
  {
   "cell_type": "code",
   "execution_count": null,
   "metadata": {
    "id": "fRTOcrzpkVDT"
   },
   "outputs": [],
   "source": [
    "df_try = df.copy()"
   ]
  },
  {
   "cell_type": "code",
   "execution_count": null,
   "metadata": {
    "id": "qKi9As8CkVDU",
    "outputId": "61d5c197-f7d9-46ce-e832-8838b1e1fc0d"
   },
   "outputs": [
    {
     "name": "stdout",
     "output_type": "stream",
     "text": [
      "<class 'pandas.core.frame.DataFrame'>\n",
      "RangeIndex: 10000 entries, 0 to 9999\n",
      "Data columns (total 14 columns):\n",
      " #   Column           Non-Null Count  Dtype  \n",
      "---  ------           --------------  -----  \n",
      " 0   RowNumber        10000 non-null  int64  \n",
      " 1   CustomerId       10000 non-null  int64  \n",
      " 2   Surname          10000 non-null  object \n",
      " 3   CreditScore      10000 non-null  int64  \n",
      " 4   Geography        10000 non-null  object \n",
      " 5   Gender           10000 non-null  object \n",
      " 6   Age              10000 non-null  int64  \n",
      " 7   Tenure           9091 non-null   float64\n",
      " 8   Balance          10000 non-null  float64\n",
      " 9   NumOfProducts    10000 non-null  int64  \n",
      " 10  HasCrCard        10000 non-null  int64  \n",
      " 11  IsActiveMember   10000 non-null  int64  \n",
      " 12  EstimatedSalary  10000 non-null  float64\n",
      " 13  Exited           10000 non-null  int64  \n",
      "dtypes: float64(3), int64(8), object(3)\n",
      "memory usage: 1.1+ MB\n",
      "None\n",
      "-------------------------\n",
      "RowNumber [    1     2     3 ...  9998  9999 10000]\n",
      "RowNumber : кол-во NaN 0 , процент NaN 0.0 %\n",
      "-------------------------\n",
      "CustomerId [15565701 15565706 15565714 ... 15815656 15815660 15815690]\n",
      "CustomerId : кол-во NaN 0 , процент NaN 0.0 %\n",
      "-------------------------\n",
      "Surname ['Abazu' 'Abbie' 'Abbott' ... 'Zuev' 'Zuyev' 'Zuyeva']\n",
      "Surname : кол-во NaN 0 , процент NaN 0.0 %\n",
      "-------------------------\n",
      "CreditScore [350 351 358 359 363 365 367 373 376 382 383 386 395 399 401 404 405 407\n",
      " 408 410 411 412 413 414 415 416 417 418 419 420 421 422 423 424 425 426\n",
      " 427 428 429 430 431 432 433 434 435 436 437 438 439 440 441 442 443 444\n",
      " 445 446 447 448 449 450 451 452 453 454 455 456 457 458 459 460 461 462\n",
      " 463 464 465 466 467 468 469 470 471 472 473 474 475 476 477 478 479 480\n",
      " 481 482 483 484 485 486 487 488 489 490 491 492 493 494 495 496 497 498\n",
      " 499 500 501 502 503 504 505 506 507 508 509 510 511 512 513 514 515 516\n",
      " 517 518 519 520 521 522 523 524 525 526 527 528 529 530 531 532 533 534\n",
      " 535 536 537 538 539 540 541 542 543 544 545 546 547 548 549 550 551 552\n",
      " 553 554 555 556 557 558 559 560 561 562 563 564 565 566 567 568 569 570\n",
      " 571 572 573 574 575 576 577 578 579 580 581 582 583 584 585 586 587 588\n",
      " 589 590 591 592 593 594 595 596 597 598 599 600 601 602 603 604 605 606\n",
      " 607 608 609 610 611 612 613 614 615 616 617 618 619 620 621 622 623 624\n",
      " 625 626 627 628 629 630 631 632 633 634 635 636 637 638 639 640 641 642\n",
      " 643 644 645 646 647 648 649 650 651 652 653 654 655 656 657 658 659 660\n",
      " 661 662 663 664 665 666 667 668 669 670 671 672 673 674 675 676 677 678\n",
      " 679 680 681 682 683 684 685 686 687 688 689 690 691 692 693 694 695 696\n",
      " 697 698 699 700 701 702 703 704 705 706 707 708 709 710 711 712 713 714\n",
      " 715 716 717 718 719 720 721 722 723 724 725 726 727 728 729 730 731 732\n",
      " 733 734 735 736 737 738 739 740 741 742 743 744 745 746 747 748 749 750\n",
      " 751 752 753 754 755 756 757 758 759 760 761 762 763 764 765 766 767 768\n",
      " 769 770 771 772 773 774 775 776 777 778 779 780 781 782 783 784 785 786\n",
      " 787 788 789 790 791 792 793 794 795 796 797 798 799 800 801 802 803 804\n",
      " 805 806 807 808 809 810 811 812 813 814 815 816 817 818 819 820 821 822\n",
      " 823 824 825 826 827 828 829 830 831 832 833 834 835 836 837 838 839 840\n",
      " 841 842 843 844 845 846 847 848 849 850]\n",
      "CreditScore : кол-во NaN 0 , процент NaN 0.0 %\n",
      "-------------------------\n",
      "Geography ['France' 'Germany' 'Spain']\n",
      "Geography : кол-во NaN 0 , процент NaN 0.0 %\n",
      "-------------------------\n",
      "Gender ['Female' 'Male']\n",
      "Gender : кол-во NaN 0 , процент NaN 0.0 %\n",
      "-------------------------\n",
      "Age [18 19 20 21 22 23 24 25 26 27 28 29 30 31 32 33 34 35 36 37 38 39 40 41\n",
      " 42 43 44 45 46 47 48 49 50 51 52 53 54 55 56 57 58 59 60 61 62 63 64 65\n",
      " 66 67 68 69 70 71 72 73 74 75 76 77 78 79 80 81 82 83 84 85 88 92]\n",
      "Age : кол-во NaN 0 , процент NaN 0.0 %\n",
      "-------------------------\n",
      "Tenure [ 0.  1.  2.  3.  4.  5.  6.  7.  8.  9. 10. nan]\n",
      "Tenure : кол-во NaN 909 , процент NaN 9.09 %\n",
      "-------------------------\n",
      "Balance [     0.     3768.69  12459.19 ... 222267.63 238387.56 250898.09]\n",
      "Balance : кол-во NaN 0 , процент NaN 0.0 %\n",
      "-------------------------\n",
      "NumOfProducts [1 2 3 4]\n",
      "NumOfProducts : кол-во NaN 0 , процент NaN 0.0 %\n",
      "-------------------------\n",
      "HasCrCard [0 1]\n",
      "HasCrCard : кол-во NaN 0 , процент NaN 0.0 %\n",
      "-------------------------\n",
      "IsActiveMember [0 1]\n",
      "IsActiveMember : кол-во NaN 0 , процент NaN 0.0 %\n",
      "-------------------------\n",
      "EstimatedSalary [1.1580000e+01 9.0070000e+01 9.1750000e+01 ... 1.9995333e+05 1.9997074e+05\n",
      " 1.9999248e+05]\n",
      "EstimatedSalary : кол-во NaN 0 , процент NaN 0.0 %\n",
      "-------------------------\n",
      "Exited [0 1]\n",
      "Exited : кол-во NaN 0 , процент NaN 0.0 %\n"
     ]
    }
   ],
   "source": [
    "temp = df.copy()\n",
    "list_c = [\n",
    "    'RowNumber', 'CustomerId', 'Surname', 'CreditScore', 'Geography',\n",
    "    'Gender', 'Age', 'Tenure', 'Balance', 'NumOfProducts', 'HasCrCard',\n",
    "    'IsActiveMember', 'EstimatedSalary', 'Exited']\n",
    "print(temp.info())\n",
    "for col_l in list_c:\n",
    "  print('-'* 25)\n",
    "  print(col_l, temp[col_l].sort_values().unique())\n",
    "  print(col_l,': кол-во NaN',temp[col_l].isna().sum(),\n",
    "        ', процент NaN', round(temp[col_l].isna().mean()*100,2),'%')"
   ]
  },
  {
   "cell_type": "markdown",
   "metadata": {
    "id": "l89l5nmQkVDU"
   },
   "source": [
    "В столбце Tenure есть пропуски, удалим их."
   ]
  },
  {
   "cell_type": "code",
   "execution_count": null,
   "metadata": {
    "id": "aakBmUSgkVDU"
   },
   "outputs": [],
   "source": [
    "df = df.dropna(subset=['Tenure'])"
   ]
  },
  {
   "cell_type": "code",
   "execution_count": null,
   "metadata": {
    "id": "82URCaNkkVDV",
    "outputId": "24bbcfa4-0baa-4f20-d722-8752323e6f71"
   },
   "outputs": [
    {
     "data": {
      "text/plain": [
       "0"
      ]
     },
     "execution_count": 7,
     "metadata": {},
     "output_type": "execute_result"
    }
   ],
   "source": [
    "df['Tenure'].isna().sum()"
   ]
  },
  {
   "cell_type": "markdown",
   "metadata": {
    "id": "6U6nvGTukVDW"
   },
   "source": [
    "Пропуски удалены."
   ]
  },
  {
   "cell_type": "markdown",
   "metadata": {
    "id": "oRNmDrrQkVDW"
   },
   "source": [
    "Приведем все столбцы к нижнему регистру."
   ]
  },
  {
   "cell_type": "code",
   "execution_count": null,
   "metadata": {
    "id": "Vp7V9gvKkVDW"
   },
   "outputs": [],
   "source": [
    "df.columns = map(str.lower, df.columns)"
   ]
  },
  {
   "cell_type": "code",
   "execution_count": null,
   "metadata": {
    "id": "MY9wFH1fkVDW",
    "outputId": "1de31d4d-6830-4eee-ffb1-e8bfbbfbacb5"
   },
   "outputs": [
    {
     "name": "stdout",
     "output_type": "stream",
     "text": [
      "<class 'pandas.core.frame.DataFrame'>\n",
      "Int64Index: 9091 entries, 0 to 9998\n",
      "Data columns (total 14 columns):\n",
      " #   Column           Non-Null Count  Dtype  \n",
      "---  ------           --------------  -----  \n",
      " 0   rownumber        9091 non-null   int64  \n",
      " 1   customerid       9091 non-null   int64  \n",
      " 2   surname          9091 non-null   object \n",
      " 3   creditscore      9091 non-null   int64  \n",
      " 4   geography        9091 non-null   object \n",
      " 5   gender           9091 non-null   object \n",
      " 6   age              9091 non-null   int64  \n",
      " 7   tenure           9091 non-null   float64\n",
      " 8   balance          9091 non-null   float64\n",
      " 9   numofproducts    9091 non-null   int64  \n",
      " 10  hascrcard        9091 non-null   int64  \n",
      " 11  isactivemember   9091 non-null   int64  \n",
      " 12  estimatedsalary  9091 non-null   float64\n",
      " 13  exited           9091 non-null   int64  \n",
      "dtypes: float64(3), int64(8), object(3)\n",
      "memory usage: 1.0+ MB\n"
     ]
    }
   ],
   "source": [
    "df.info()"
   ]
  },
  {
   "cell_type": "markdown",
   "metadata": {
    "id": "qYQJS8JtkVDX"
   },
   "source": [
    "Удалим столбцы которые нам не понадобятся:\n",
    "* rownumber\n",
    "* customerid\n",
    "* surname"
   ]
  },
  {
   "cell_type": "code",
   "execution_count": null,
   "metadata": {
    "id": "iRicTTLWkVDX"
   },
   "outputs": [],
   "source": [
    "df.drop(['rownumber', 'customerid', 'surname'], axis='columns', inplace=True)"
   ]
  },
  {
   "cell_type": "markdown",
   "metadata": {
    "id": "XQ9aA6rJkVDY"
   },
   "source": [
    "В датасете есть столбцы с категориальными признаками:\n",
    "* geography\n",
    "* gender\n",
    "\n",
    "При помощи техники прямого кодирования преобразуем категориальные признаки в численные."
   ]
  },
  {
   "cell_type": "code",
   "execution_count": null,
   "metadata": {
    "id": "h2oT0E_bkVDY"
   },
   "outputs": [],
   "source": [
    "df_ohe = pd.get_dummies(df, drop_first=True)"
   ]
  },
  {
   "cell_type": "code",
   "execution_count": null,
   "metadata": {
    "id": "c3OGS6fFkVDa",
    "outputId": "9d7ff72c-809f-4f91-fa49-bd7c8cb1c851"
   },
   "outputs": [
    {
     "data": {
      "text/html": [
       "<div>\n",
       "<style scoped>\n",
       "    .dataframe tbody tr th:only-of-type {\n",
       "        vertical-align: middle;\n",
       "    }\n",
       "\n",
       "    .dataframe tbody tr th {\n",
       "        vertical-align: top;\n",
       "    }\n",
       "\n",
       "    .dataframe thead th {\n",
       "        text-align: right;\n",
       "    }\n",
       "</style>\n",
       "<table border=\"1\" class=\"dataframe\">\n",
       "  <thead>\n",
       "    <tr style=\"text-align: right;\">\n",
       "      <th></th>\n",
       "      <th>creditscore</th>\n",
       "      <th>age</th>\n",
       "      <th>tenure</th>\n",
       "      <th>balance</th>\n",
       "      <th>numofproducts</th>\n",
       "      <th>hascrcard</th>\n",
       "      <th>isactivemember</th>\n",
       "      <th>estimatedsalary</th>\n",
       "      <th>exited</th>\n",
       "      <th>geography_Germany</th>\n",
       "      <th>geography_Spain</th>\n",
       "      <th>gender_Male</th>\n",
       "    </tr>\n",
       "  </thead>\n",
       "  <tbody>\n",
       "    <tr>\n",
       "      <th>0</th>\n",
       "      <td>619</td>\n",
       "      <td>42</td>\n",
       "      <td>2.0</td>\n",
       "      <td>0.00</td>\n",
       "      <td>1</td>\n",
       "      <td>1</td>\n",
       "      <td>1</td>\n",
       "      <td>101348.88</td>\n",
       "      <td>1</td>\n",
       "      <td>0</td>\n",
       "      <td>0</td>\n",
       "      <td>0</td>\n",
       "    </tr>\n",
       "    <tr>\n",
       "      <th>1</th>\n",
       "      <td>608</td>\n",
       "      <td>41</td>\n",
       "      <td>1.0</td>\n",
       "      <td>83807.86</td>\n",
       "      <td>1</td>\n",
       "      <td>0</td>\n",
       "      <td>1</td>\n",
       "      <td>112542.58</td>\n",
       "      <td>0</td>\n",
       "      <td>0</td>\n",
       "      <td>1</td>\n",
       "      <td>0</td>\n",
       "    </tr>\n",
       "    <tr>\n",
       "      <th>2</th>\n",
       "      <td>502</td>\n",
       "      <td>42</td>\n",
       "      <td>8.0</td>\n",
       "      <td>159660.80</td>\n",
       "      <td>3</td>\n",
       "      <td>1</td>\n",
       "      <td>0</td>\n",
       "      <td>113931.57</td>\n",
       "      <td>1</td>\n",
       "      <td>0</td>\n",
       "      <td>0</td>\n",
       "      <td>0</td>\n",
       "    </tr>\n",
       "    <tr>\n",
       "      <th>3</th>\n",
       "      <td>699</td>\n",
       "      <td>39</td>\n",
       "      <td>1.0</td>\n",
       "      <td>0.00</td>\n",
       "      <td>2</td>\n",
       "      <td>0</td>\n",
       "      <td>0</td>\n",
       "      <td>93826.63</td>\n",
       "      <td>0</td>\n",
       "      <td>0</td>\n",
       "      <td>0</td>\n",
       "      <td>0</td>\n",
       "    </tr>\n",
       "    <tr>\n",
       "      <th>4</th>\n",
       "      <td>850</td>\n",
       "      <td>43</td>\n",
       "      <td>2.0</td>\n",
       "      <td>125510.82</td>\n",
       "      <td>1</td>\n",
       "      <td>1</td>\n",
       "      <td>1</td>\n",
       "      <td>79084.10</td>\n",
       "      <td>0</td>\n",
       "      <td>0</td>\n",
       "      <td>1</td>\n",
       "      <td>0</td>\n",
       "    </tr>\n",
       "  </tbody>\n",
       "</table>\n",
       "</div>"
      ],
      "text/plain": [
       "   creditscore  age  tenure    balance  numofproducts  hascrcard  \\\n",
       "0          619   42     2.0       0.00              1          1   \n",
       "1          608   41     1.0   83807.86              1          0   \n",
       "2          502   42     8.0  159660.80              3          1   \n",
       "3          699   39     1.0       0.00              2          0   \n",
       "4          850   43     2.0  125510.82              1          1   \n",
       "\n",
       "   isactivemember  estimatedsalary  exited  geography_Germany  \\\n",
       "0               1        101348.88       1                  0   \n",
       "1               1        112542.58       0                  0   \n",
       "2               0        113931.57       1                  0   \n",
       "3               0         93826.63       0                  0   \n",
       "4               1         79084.10       0                  0   \n",
       "\n",
       "   geography_Spain  gender_Male  \n",
       "0                0            0  \n",
       "1                1            0  \n",
       "2                0            0  \n",
       "3                0            0  \n",
       "4                1            0  "
      ]
     },
     "execution_count": 13,
     "metadata": {},
     "output_type": "execute_result"
    }
   ],
   "source": [
    "df_ohe.head()"
   ]
  },
  {
   "cell_type": "markdown",
   "metadata": {
    "id": "YAk2eeTgkVDb"
   },
   "source": [
    "Для корректного обучения разобьем дата сет на 3 выборки - обучающую, валидационную и тестовую.\n",
    "\n",
    "Разобьем в пропорции 60%/20%/20%"
   ]
  },
  {
   "cell_type": "code",
   "execution_count": null,
   "metadata": {
    "id": "tcCQYb-mkVDb"
   },
   "outputs": [],
   "source": [
    "features = df_ohe.drop(['exited'],axis=1)\n",
    "target = df_ohe['exited']"
   ]
  },
  {
   "cell_type": "code",
   "execution_count": null,
   "metadata": {
    "id": "_c1uz_SwkVDc"
   },
   "outputs": [],
   "source": [
    "features_train, features_valid, target_train, target_valid = train_test_split(\n",
    "    features, target, test_size=0.2, random_state=1234)"
   ]
  },
  {
   "cell_type": "code",
   "execution_count": null,
   "metadata": {
    "id": "Pdcsl52hkVDc"
   },
   "outputs": [],
   "source": [
    "features_train, features_test, target_train, target_test = train_test_split(\n",
    "    features_train, target_train, test_size=0.25, random_state=1234)"
   ]
  },
  {
   "cell_type": "code",
   "execution_count": null,
   "metadata": {
    "id": "mg860zLAkVDd",
    "outputId": "48ea9f5a-7fa7-47d3-944b-eb0953bcbfbe"
   },
   "outputs": [
    {
     "name": "stdout",
     "output_type": "stream",
     "text": [
      "(9091,) (5454,) (1818,) (1818,)\n"
     ]
    }
   ],
   "source": [
    "print(target.shape, target_train.shape, target_test.shape, target_test.shape)"
   ]
  },
  {
   "cell_type": "markdown",
   "metadata": {
    "id": "x1foiNmtkVDd"
   },
   "source": [
    "Маштабируем признаки методом стандартизации."
   ]
  },
  {
   "cell_type": "code",
   "execution_count": null,
   "metadata": {
    "id": "6cDMGFWCkVDd"
   },
   "outputs": [],
   "source": [
    "numeric = ['creditscore', 'age', 'balance', 'estimatedsalary', 'tenure', 'numofproducts']"
   ]
  },
  {
   "cell_type": "code",
   "execution_count": null,
   "metadata": {
    "id": "N0XM0Yx7kVDe"
   },
   "outputs": [],
   "source": [
    "scaler = StandardScaler()\n",
    "scaler.fit(features_train[numeric])\n",
    "features_train[numeric] = scaler.transform(features_train[numeric])\n",
    "features_valid[numeric] = scaler.transform(features_valid[numeric])\n",
    "features_test[numeric] = scaler.transform(features_test[numeric])\n",
    "pd.options.mode.chained_assignment = None"
   ]
  },
  {
   "cell_type": "code",
   "execution_count": null,
   "metadata": {
    "id": "EQmcVavckVDl",
    "outputId": "32a1c6b4-3860-44c0-c513-a11911225578"
   },
   "outputs": [
    {
     "data": {
      "text/html": [
       "<div>\n",
       "<style scoped>\n",
       "    .dataframe tbody tr th:only-of-type {\n",
       "        vertical-align: middle;\n",
       "    }\n",
       "\n",
       "    .dataframe tbody tr th {\n",
       "        vertical-align: top;\n",
       "    }\n",
       "\n",
       "    .dataframe thead th {\n",
       "        text-align: right;\n",
       "    }\n",
       "</style>\n",
       "<table border=\"1\" class=\"dataframe\">\n",
       "  <thead>\n",
       "    <tr style=\"text-align: right;\">\n",
       "      <th></th>\n",
       "      <th>creditscore</th>\n",
       "      <th>age</th>\n",
       "      <th>tenure</th>\n",
       "      <th>balance</th>\n",
       "      <th>numofproducts</th>\n",
       "      <th>hascrcard</th>\n",
       "      <th>isactivemember</th>\n",
       "      <th>estimatedsalary</th>\n",
       "      <th>geography_Germany</th>\n",
       "      <th>geography_Spain</th>\n",
       "      <th>gender_Male</th>\n",
       "    </tr>\n",
       "  </thead>\n",
       "  <tbody>\n",
       "    <tr>\n",
       "      <th>8588</th>\n",
       "      <td>0.643864</td>\n",
       "      <td>-0.930050</td>\n",
       "      <td>0.701418</td>\n",
       "      <td>0.014692</td>\n",
       "      <td>-0.908567</td>\n",
       "      <td>1</td>\n",
       "      <td>0</td>\n",
       "      <td>0.399358</td>\n",
       "      <td>0</td>\n",
       "      <td>1</td>\n",
       "      <td>0</td>\n",
       "    </tr>\n",
       "    <tr>\n",
       "      <th>7149</th>\n",
       "      <td>0.311599</td>\n",
       "      <td>-0.175944</td>\n",
       "      <td>-0.338978</td>\n",
       "      <td>-1.233952</td>\n",
       "      <td>0.828924</td>\n",
       "      <td>1</td>\n",
       "      <td>0</td>\n",
       "      <td>-0.661558</td>\n",
       "      <td>0</td>\n",
       "      <td>0</td>\n",
       "      <td>1</td>\n",
       "    </tr>\n",
       "    <tr>\n",
       "      <th>9311</th>\n",
       "      <td>-0.674812</td>\n",
       "      <td>1.049478</td>\n",
       "      <td>-1.032575</td>\n",
       "      <td>0.782691</td>\n",
       "      <td>-0.908567</td>\n",
       "      <td>1</td>\n",
       "      <td>0</td>\n",
       "      <td>-1.557987</td>\n",
       "      <td>1</td>\n",
       "      <td>0</td>\n",
       "      <td>1</td>\n",
       "    </tr>\n",
       "    <tr>\n",
       "      <th>990</th>\n",
       "      <td>0.052017</td>\n",
       "      <td>-0.175944</td>\n",
       "      <td>0.007821</td>\n",
       "      <td>0.258704</td>\n",
       "      <td>0.828924</td>\n",
       "      <td>1</td>\n",
       "      <td>0</td>\n",
       "      <td>-0.575496</td>\n",
       "      <td>0</td>\n",
       "      <td>0</td>\n",
       "      <td>1</td>\n",
       "    </tr>\n",
       "    <tr>\n",
       "      <th>8581</th>\n",
       "      <td>-0.674812</td>\n",
       "      <td>0.389635</td>\n",
       "      <td>-1.032575</td>\n",
       "      <td>-1.233952</td>\n",
       "      <td>0.828924</td>\n",
       "      <td>1</td>\n",
       "      <td>0</td>\n",
       "      <td>-0.174219</td>\n",
       "      <td>0</td>\n",
       "      <td>0</td>\n",
       "      <td>0</td>\n",
       "    </tr>\n",
       "  </tbody>\n",
       "</table>\n",
       "</div>"
      ],
      "text/plain": [
       "      creditscore       age    tenure   balance  numofproducts  hascrcard  \\\n",
       "8588     0.643864 -0.930050  0.701418  0.014692      -0.908567          1   \n",
       "7149     0.311599 -0.175944 -0.338978 -1.233952       0.828924          1   \n",
       "9311    -0.674812  1.049478 -1.032575  0.782691      -0.908567          1   \n",
       "990      0.052017 -0.175944  0.007821  0.258704       0.828924          1   \n",
       "8581    -0.674812  0.389635 -1.032575 -1.233952       0.828924          1   \n",
       "\n",
       "      isactivemember  estimatedsalary  geography_Germany  geography_Spain  \\\n",
       "8588               0         0.399358                  0                1   \n",
       "7149               0        -0.661558                  0                0   \n",
       "9311               0        -1.557987                  1                0   \n",
       "990                0        -0.575496                  0                0   \n",
       "8581               0        -0.174219                  0                0   \n",
       "\n",
       "      gender_Male  \n",
       "8588            0  \n",
       "7149            1  \n",
       "9311            1  \n",
       "990             1  \n",
       "8581            0  "
      ]
     },
     "execution_count": 20,
     "metadata": {},
     "output_type": "execute_result"
    }
   ],
   "source": [
    "features_train.head()"
   ]
  },
  {
   "cell_type": "markdown",
   "metadata": {
    "id": "f8rjmP3wkVDl"
   },
   "source": [
    "**Вывод**\n",
    "* Удалили пропуски из столбца tenure\n",
    "* Привели столбцы к нижнему регистру\n",
    "* Удалили столбцы которые не понадобятся в дальнейшей работе\n",
    "* Преобразовали категориальные признаки в численные\n",
    "* Разбили датасет на 3 выборки\n",
    "  * target_train - обучающая 60%\n",
    "  * target_test - тестовая 20%\n",
    "  * target_test - валидационная 20%\n",
    "* Маштабировали признаки методом стандартизации."
   ]
  },
  {
   "cell_type": "markdown",
   "metadata": {
    "id": "6AvOTbA7kVDm"
   },
   "source": [
    "## Исследование задачи"
   ]
  },
  {
   "cell_type": "markdown",
   "metadata": {
    "id": "_bcamNUfkVDm"
   },
   "source": [
    "Обучим модели без предварительной оценки баланса классов."
   ]
  },
  {
   "cell_type": "markdown",
   "metadata": {
    "id": "gc3MkT-ekVDm"
   },
   "source": [
    "**DecisionTreeClassifier**"
   ]
  },
  {
   "cell_type": "code",
   "execution_count": null,
   "metadata": {
    "id": "AbaMPCFpkVDn",
    "outputId": "3cbd245d-af66-48d1-8975-c48f5add1963"
   },
   "outputs": [
    {
     "name": "stdout",
     "output_type": "stream",
     "text": [
      "Accuracy лучшей модели дерева решений на валидационной выборке: 0.8664101154480484 Глубина дерева: 5\n",
      "-------------------------\n",
      "F1 = 0.5668449197860962\n",
      "-------------------------\n",
      "ROC AUC 0.8461485051155598\n",
      "-------------------------\n",
      "0    0.893348\n",
      "1    0.106652\n",
      "dtype: float64\n",
      "-------------------------\n"
     ]
    },
    {
     "data": {
      "text/plain": [
       "<AxesSubplot:>"
      ]
     },
     "execution_count": 21,
     "metadata": {},
     "output_type": "execute_result"
    },
    {
     "data": {
      "image/png": "[encoded data removed]",
      "text/plain": [
       "<Figure size 432x288 with 1 Axes>"
      ]
     },
     "metadata": {
      "needs_background": "light"
     },
     "output_type": "display_data"
    }
   ],
   "source": [
    "best_model_decision = None\n",
    "best_result = 0\n",
    "best_depth = 0\n",
    "best_f1_score = 0\n",
    "best_class_decision = None\n",
    "best_auc_roc_decision = 0\n",
    "for depth in range(1, 20):\n",
    "    model_decision = DecisionTreeClassifier(random_state=1234, max_depth=depth)\n",
    "    model_decision.fit(features_train, target_train)\n",
    "    predicted_valid_decision = pd.Series(model_decision.predict(features_valid))\n",
    "    result = accuracy_score(target_valid, predicted_valid_decision)\n",
    "    class_decision = predicted_valid_decision.value_counts(normalize=True)\n",
    "    f1_decision = f1_score(target_valid, predicted_valid_decision)\n",
    "\n",
    "    probabilities_decision = model_decision.predict_proba(features_valid)\n",
    "    probabilities_one_decision = probabilities_decision[:, 1]\n",
    "    auc_roc_decision = roc_auc_score(target_valid, probabilities_one_decision)\n",
    "\n",
    "    if result > best_result:\n",
    "        best_model_decision = model_decision\n",
    "        best_result = result\n",
    "        best_depth = depth\n",
    "        best_f1_score = f1_decision\n",
    "        best_class_decision = class_decision\n",
    "        best_auc_roc_decision = auc_roc_decision\n",
    "\n",
    "print(\"Accuracy лучшей модели дерева решений на валидационной выборке:\", best_result, \"Глубина дерева:\", best_depth)\n",
    "print('-'* 25)\n",
    "print('F1 =', best_f1_score)\n",
    "print('-'* 25)\n",
    "print('ROC AUC', best_auc_roc_decision)\n",
    "print('-'* 25)\n",
    "print(best_class_decision)\n",
    "print('-'* 25)\n",
    "best_class_decision.plot(kind='bar')\n"
   ]
  },
  {
   "cell_type": "markdown",
   "metadata": {
    "id": "Ev1nWlfpkVDp"
   },
   "source": [
    "**RandomForestClassifier**"
   ]
  },
  {
   "cell_type": "code",
   "execution_count": null,
   "metadata": {
    "id": "bQp1-LuXkVDp",
    "outputId": "b6a4cc67-87e7-485b-9029-e3b1a7083da6"
   },
   "outputs": [
    {
     "name": "stdout",
     "output_type": "stream",
     "text": [
      "Accuracy наилучшей модели случайного леса на валидационной выборке: 0.8763056624518967 Количество деревьев: 50 Максимальная глубина: 12\n",
      "-------------------------\n",
      "F1 = 0.6017699115044248\n",
      "-------------------------\n",
      "ROC AUC 0.8623377695708633\n",
      "-------------------------\n",
      "0    0.891149\n",
      "1    0.108851\n",
      "dtype: float64\n",
      "-------------------------\n"
     ]
    },
    {
     "data": {
      "text/plain": [
       "<AxesSubplot:>"
      ]
     },
     "execution_count": 22,
     "metadata": {},
     "output_type": "execute_result"
    },
    {
     "data": {
      "image/png": "[encoded data removed]",
      "text/plain": [
       "<Figure size 432x288 with 1 Axes>"
      ]
     },
     "metadata": {
      "needs_background": "light"
     },
     "output_type": "display_data"
    }
   ],
   "source": [
    "best_model = None\n",
    "best_result = 0\n",
    "best_est = 0\n",
    "best_depth = 0\n",
    "best_f1_score = 0\n",
    "best_class_forest = None\n",
    "best_auc_roc_forest = 0\n",
    "for est in range(10, 160, 10):\n",
    "    for depth in range (1, 13):\n",
    "        model_forest = RandomForestClassifier(random_state=1234, n_estimators=est, max_depth=depth)\n",
    "        model_forest.fit(features_train, target_train)\n",
    "        predicted_valid_forest = pd.Series(model_forest.predict(features_valid))\n",
    "        result = accuracy_score(target_valid, predicted_valid_forest)\n",
    "        class_forest = predicted_valid_forest.value_counts(normalize=True)\n",
    "        f1_forest = f1_score(target_valid, predicted_valid_forest)\n",
    "\n",
    "        probabilities_forest = model_forest.predict_proba(features_valid)\n",
    "        probabilities_one_forest = probabilities_forest[:, 1]\n",
    "        auc_roc_forest = roc_auc_score(target_valid, probabilities_one_forest)\n",
    "\n",
    "        if result > best_result:\n",
    "            best_model_forest = model_forest\n",
    "            best_result = result\n",
    "            best_est = est\n",
    "            best_depth = depth\n",
    "            best_f1_score = f1_forest\n",
    "            best_class_forest = class_forest\n",
    "            best_auc_roc_forest = auc_roc_forest\n",
    "\n",
    "print(\"Accuracy наилучшей модели случайного леса на валидационной выборке:\", best_result,\n",
    "      \"Количество деревьев:\", best_est, \"Максимальная глубина:\", depth)\n",
    "print('-'* 25)\n",
    "print('F1 =', best_f1_score)\n",
    "print('-'* 25)\n",
    "print('ROC AUC', best_auc_roc_forest)\n",
    "print('-'* 25)\n",
    "print(best_class_forest)\n",
    "print('-'* 25)\n",
    "best_class_forest.plot(kind='bar')"
   ]
  },
  {
   "cell_type": "markdown",
   "metadata": {
    "id": "N7_Xo4GmkVDq"
   },
   "source": [
    "**LogisticRegression**"
   ]
  },
  {
   "cell_type": "code",
   "execution_count": null,
   "metadata": {
    "id": "6CZyTZBNkVDq",
    "outputId": "7612e44b-c6d1-405b-f350-588586ccfd44"
   },
   "outputs": [
    {
     "name": "stdout",
     "output_type": "stream",
     "text": [
      "Accuracy лучшей модели дерева решений на валидационной выборке: 0.868609125893348 Количество итераций: 100\n",
      "-------------------------\n",
      "F1 = 0.31237322515212984\n",
      "-------------------------\n",
      "ROC AUC 0.7627175895692121\n",
      "-------------------------\n",
      "0    0.930731\n",
      "1    0.069269\n",
      "dtype: float64\n",
      "-------------------------\n"
     ]
    },
    {
     "data": {
      "text/plain": [
       "<AxesSubplot:>"
      ]
     },
     "execution_count": 23,
     "metadata": {},
     "output_type": "execute_result"
    },
    {
     "data": {
      "image/png": "[encoded data removed]",
      "text/plain": [
       "<Figure size 432x288 with 1 Axes>"
      ]
     },
     "metadata": {
      "needs_background": "light"
     },
     "output_type": "display_data"
    }
   ],
   "source": [
    "best_model_logistic = None\n",
    "best_result = 0\n",
    "best_iteration = 0\n",
    "best_f1_score = 0\n",
    "best_class_logistic = None\n",
    "best_auc_roc_logistic = 0\n",
    "for iteration in range(100, 1000, 100):\n",
    "    model_logistic = LogisticRegression(random_state=1234, solver='liblinear', max_iter=iteration)\n",
    "    model_logistic.fit(features_train, target_train)\n",
    "    predicted_valid_logistic = pd.Series(model_logistic.predict(features_valid))\n",
    "    result = accuracy_score(target_valid, predicted_valid_forest)\n",
    "    class_logistic = predicted_valid_logistic.value_counts(normalize=True)\n",
    "    f1_forest = f1_score(target_valid, predicted_valid_logistic)\n",
    "\n",
    "    probabilities_logistic = model_logistic.predict_proba(features_valid)\n",
    "    probabilities_one_logistic = probabilities_logistic[:, 1]\n",
    "    auc_roc_logistic = roc_auc_score(target_valid, probabilities_one_logistic)\n",
    "\n",
    "    if result > best_result:\n",
    "        best_model_logistic = model_logistic\n",
    "        best_result = result\n",
    "        best_iteration = iteration\n",
    "        best_f1_score = f1_forest\n",
    "        best_class_logistic = class_logistic\n",
    "        best_auc_roc_logistic = auc_roc_logistic\n",
    "\n",
    "print(\"Accuracy лучшей модели дерева решений на валидационной выборке:\", best_result, \"Количество итераций:\", best_iteration,)\n",
    "print('-'* 25)\n",
    "print('F1 =', best_f1_score)\n",
    "print('-'* 25)\n",
    "print('ROC AUC', best_auc_roc_logistic)\n",
    "print('-'* 25)\n",
    "print(best_class_logistic)\n",
    "print('-'* 25)\n",
    "best_class_logistic.plot(kind='bar')"
   ]
  },
  {
   "cell_type": "markdown",
   "metadata": {
    "id": "iGb-hx6XkVDs"
   },
   "source": [
    "**Баланс классов**"
   ]
  },
  {
   "cell_type": "code",
   "execution_count": null,
   "metadata": {
    "id": "-zt_qISkkVDs",
    "outputId": "afb84d6a-0176-4b6e-a601-671d9f716a8a"
   },
   "outputs": [
    {
     "name": "stdout",
     "output_type": "stream",
     "text": [
      "0    0.796062\n",
      "1    0.203938\n",
      "Name: exited, dtype: float64\n",
      "-------------------------\n"
     ]
    },
    {
     "data": {
      "text/plain": [
       "<AxesSubplot:>"
      ]
     },
     "execution_count": 24,
     "metadata": {},
     "output_type": "execute_result"
    },
    {
     "data": {
      "image/png": "[encoded data removed]",
      "text/plain": [
       "<Figure size 432x288 with 1 Axes>"
      ]
     },
     "metadata": {
      "needs_background": "light"
     },
     "output_type": "display_data"
    }
   ],
   "source": [
    "class_frequency = df['exited'].value_counts(normalize=True)\n",
    "print(class_frequency)\n",
    "print('-'* 25)\n",
    "class_frequency.plot(kind='bar')"
   ]
  },
  {
   "cell_type": "code",
   "execution_count": null,
   "metadata": {
    "id": "bfXEQ0hPkVDs",
    "outputId": "bc3b950e-d382-40bd-947e-ec1af84b370d"
   },
   "outputs": [
    {
     "data": {
      "text/plain": [
       "0.7960620393796062"
      ]
     },
     "execution_count": 25,
     "metadata": {},
     "output_type": "execute_result"
    }
   ],
   "source": [
    "target_pred_constant = pd.Series(0, index=target.index)\n",
    "accuracy_score(target, target_pred_constant)"
   ]
  },
  {
   "cell_type": "markdown",
   "metadata": {
    "id": "UyZtdW7akVDt"
   },
   "source": [
    "**Вывод**\n",
    "1. Провели иследование по трем моделям:\n",
    " * DecisionTreeClassifier\n",
    " * RandomForestClassifier\n",
    " * LogisticRegression\n",
    "\n",
    " Лучше всего себя показала модель: RandomForestClassifier где f1 = 0.60, что уже лучше требуемой в задании (0,59)\n",
    "2. Посмотрели баланс классов. Классы различаются примерно в 4 раза.\n",
    "3. Выяснили, что отток клиентов составляет 20%. Показатели у моделей более оптимистичные."
   ]
  },
  {
   "cell_type": "markdown",
   "metadata": {
    "id": "5XjyMKX6kVDt"
   },
   "source": [
    "## Борьба с дисбалансом"
   ]
  },
  {
   "cell_type": "markdown",
   "metadata": {
    "id": "nsNPDH5bkVDt"
   },
   "source": [
    "### Взвешивание классов."
   ]
  },
  {
   "cell_type": "markdown",
   "metadata": {
    "id": "5q-tMP8qkVDu"
   },
   "source": [
    "**DecisionTreeClassifier**"
   ]
  },
  {
   "cell_type": "code",
   "execution_count": null,
   "metadata": {
    "id": "xZyme1WLkVDu",
    "outputId": "b5c629dd-6abf-4a1e-8ff9-2cf41b24fa11"
   },
   "outputs": [
    {
     "name": "stdout",
     "output_type": "stream",
     "text": [
      "F1 = 0.5714285714285714 Глубина дерева: 3\n",
      "-------------------------\n"
     ]
    }
   ],
   "source": [
    "best_model_decision = None\n",
    "best_depth = 0\n",
    "best_f1_score = 0\n",
    "for depth in range(1, 11):\n",
    "    model_decision = DecisionTreeClassifier(random_state=1234, max_depth=depth, class_weight='balanced')\n",
    "    model_decision.fit(features_train, target_train)\n",
    "    predicted_valid_decision = model_decision.predict(features_valid)\n",
    "    f1_decision = f1_score(target_valid, predicted_valid_decision)\n",
    "    if f1_decision > best_f1_score:\n",
    "        best_model_decision = model_decision\n",
    "        best_depth = depth\n",
    "        best_f1_score = f1_decision\n",
    "print('F1 =', best_f1_score, \"Глубина дерева:\", best_depth)\n",
    "print('-'* 25)"
   ]
  },
  {
   "cell_type": "markdown",
   "metadata": {
    "id": "I-ay6PRwkVDu"
   },
   "source": [
    "**RandomForestClassifier**"
   ]
  },
  {
   "cell_type": "code",
   "execution_count": null,
   "metadata": {
    "id": "rqXhILRRkVDv",
    "outputId": "c7d83b7e-13e5-4a45-ebdf-9e2a53e1ffd2"
   },
   "outputs": [
    {
     "name": "stdout",
     "output_type": "stream",
     "text": [
      "F1 = 0.6161490683229813 Количество деревьев: 50 Максимальная глубина: 10\n",
      "-------------------------\n"
     ]
    }
   ],
   "source": [
    "best_model = None\n",
    "best_est = 0\n",
    "best_depth = 0\n",
    "best_f1_score = 0\n",
    "for est in range(10, 51, 10):\n",
    "    for depth in range (1, 11):\n",
    "        model_forest = RandomForestClassifier(random_state=1234, n_estimators=est, max_depth=depth, class_weight='balanced')\n",
    "        model_forest.fit(features_train, target_train)\n",
    "        predicted_valid_forest = model_forest.predict(features_valid)\n",
    "        f1_forest = f1_score(target_valid, predicted_valid_forest)\n",
    "        if f1_forest > best_f1_score:\n",
    "            best_model_forest = model_forest\n",
    "            best_est = est\n",
    "            best_depth = depth\n",
    "            best_f1_score = f1_forest\n",
    "\n",
    "print('F1 =', best_f1_score,\n",
    "      \"Количество деревьев:\", best_est, \"Максимальная глубина:\", depth)\n",
    "print('-'* 25)"
   ]
  },
  {
   "cell_type": "markdown",
   "metadata": {
    "id": "wBPLSeW_kVDv"
   },
   "source": [
    "**LogisticRegression**"
   ]
  },
  {
   "cell_type": "code",
   "execution_count": null,
   "metadata": {
    "id": "xPdjoKILkVDw",
    "outputId": "f5f8fd83-df23-4f42-a6d7-75a68d39849f"
   },
   "outputs": [
    {
     "name": "stdout",
     "output_type": "stream",
     "text": [
      "F1 = 0.49630996309963105 Количество итераций: 100\n",
      "-------------------------\n"
     ]
    }
   ],
   "source": [
    "best_model_logistic = None\n",
    "best_depth = 0\n",
    "best_f1_score = 0\n",
    "best_class_logistic = None\n",
    "for depth in range(100, 1000, 100):\n",
    "    model_logistic = LogisticRegression(random_state=1234, solver='liblinear', max_iter=depth, class_weight='balanced')\n",
    "    model_logistic.fit(features_train, target_train)\n",
    "    predicted_valid_logistic = model_logistic.predict(features_valid)\n",
    "    f1_logistic = f1_score(target_valid, predicted_valid_logistic)\n",
    "    if f1_logistic > best_f1_score:\n",
    "        best_model_logistic = model_logistic\n",
    "        best_depth = depth\n",
    "        best_f1_score = f1_logistic\n",
    "print('F1 =', best_f1_score, \"Количество итераций:\", best_depth,)\n",
    "print('-'* 25)\n",
    "\n"
   ]
  },
  {
   "cell_type": "markdown",
   "metadata": {
    "id": "_ZmolWeIkVDw"
   },
   "source": [
    "**Вывод:**\n",
    "\n",
    "Самый лучший результат показала снова модель: RandomForestClassifier\n",
    "Так же показатели F1 стали еще лучше: 0,61 > 0.60"
   ]
  },
  {
   "cell_type": "markdown",
   "metadata": {
    "id": "mkWBeFfkkVDw"
   },
   "source": [
    "### Увеличение выборки"
   ]
  },
  {
   "cell_type": "code",
   "execution_count": null,
   "metadata": {
    "id": "FMFHg7I1kVDx"
   },
   "outputs": [],
   "source": [
    "def upsample(features, target, repeat):\n",
    "    features_zeros = features[target == 0]\n",
    "    features_ones = features[target == 1]\n",
    "    target_zeros = target[target == 0]\n",
    "    target_ones = target[target == 1]\n",
    "\n",
    "    features_upsampled = pd.concat([features_zeros] + [features_ones] * repeat)\n",
    "    target_upsampled = pd.concat([target_zeros] + [target_ones] * repeat)\n",
    "\n",
    "    features_upsampled, target_upsampled = shuffle(\n",
    "        features_upsampled, target_upsampled, random_state=1234)\n",
    "\n",
    "    return features_upsampled, target_upsampled\n",
    "\n",
    "features_upsampled, target_upsampled = upsample(features_train, target_train, 4)"
   ]
  },
  {
   "cell_type": "code",
   "execution_count": null,
   "metadata": {
    "id": "OCwiOhHFkVDx",
    "outputId": "5527b334-0c4e-4504-e261-698a3a3fe244"
   },
   "outputs": [
    {
     "data": {
      "text/plain": [
       "0    4332\n",
       "1    1122\n",
       "Name: exited, dtype: int64"
      ]
     },
     "execution_count": 30,
     "metadata": {},
     "output_type": "execute_result"
    }
   ],
   "source": [
    "target_train.value_counts()"
   ]
  },
  {
   "cell_type": "code",
   "execution_count": null,
   "metadata": {
    "id": "MXNKaxmpkVDy",
    "outputId": "769cfdfe-20a0-477b-a978-074a3f06551b"
   },
   "outputs": [
    {
     "data": {
      "text/plain": [
       "1    4488\n",
       "0    4332\n",
       "Name: exited, dtype: int64"
      ]
     },
     "execution_count": 31,
     "metadata": {},
     "output_type": "execute_result"
    }
   ],
   "source": [
    "target_upsampled.value_counts()"
   ]
  },
  {
   "cell_type": "markdown",
   "metadata": {
    "id": "Rp5mQdcukVDy"
   },
   "source": [
    "**DecisionTreeClassifier**"
   ]
  },
  {
   "cell_type": "code",
   "execution_count": null,
   "metadata": {
    "id": "e1Rh7DSZkVDz",
    "outputId": "f6ea5cb0-3b68-4ae9-c1b4-b0f1c82c6eab"
   },
   "outputs": [
    {
     "name": "stdout",
     "output_type": "stream",
     "text": [
      "F1 = 0.5714285714285714 Глубина дерева: 3\n",
      "-------------------------\n"
     ]
    }
   ],
   "source": [
    "best_model_decision = None\n",
    "best_depth = 0\n",
    "best_f1_score = 0\n",
    "for depth in range(1, 11):\n",
    "    model_decision = DecisionTreeClassifier(random_state=1234, max_depth=depth)\n",
    "    model_decision.fit(features_upsampled, target_upsampled)\n",
    "    predicted_valid_decision = model_decision.predict(features_valid)\n",
    "    f1_decision = f1_score(target_valid, predicted_valid_decision)\n",
    "    if f1_decision > best_f1_score:\n",
    "        best_model_decision = model_decision\n",
    "        best_depth = depth\n",
    "        best_f1_score = f1_decision\n",
    "print('F1 =', best_f1_score, \"Глубина дерева:\", best_depth)\n",
    "print('-'* 25)"
   ]
  },
  {
   "cell_type": "markdown",
   "metadata": {
    "id": "Q8IzTwZukVDz"
   },
   "source": [
    "**RandomForestClassifier**"
   ]
  },
  {
   "cell_type": "code",
   "execution_count": null,
   "metadata": {
    "id": "o3rULZN2kVDz",
    "outputId": "37eca7e9-57f5-412a-c767-9df5cfedc4a5"
   },
   "outputs": [
    {
     "name": "stdout",
     "output_type": "stream",
     "text": [
      "F1 = 0.6063454759106933 Количество деревьев: 50 Максимальная глубина: 10\n",
      "-------------------------\n"
     ]
    }
   ],
   "source": [
    "best_model = None\n",
    "best_est = 0\n",
    "best_depth = 0\n",
    "best_f1_score = 0\n",
    "for est in range(10, 51, 10):\n",
    "    for depth in range (1, 11):\n",
    "        model_forest = RandomForestClassifier(random_state=1234, n_estimators=est, max_depth=depth)\n",
    "        model_forest.fit(features_upsampled, target_upsampled)\n",
    "        predicted_valid_forest = model_forest.predict(features_valid)\n",
    "        f1_forest = f1_score(target_valid, predicted_valid_forest)\n",
    "        if f1_forest > best_f1_score:\n",
    "            best_model_forest = model_forest\n",
    "            best_est = est\n",
    "            best_depth = depth\n",
    "            best_f1_score = f1_forest\n",
    "\n",
    "print('F1 =', best_f1_score,\n",
    "      \"Количество деревьев:\", best_est, \"Максимальная глубина:\", depth)\n",
    "print('-'* 25)"
   ]
  },
  {
   "cell_type": "markdown",
   "metadata": {
    "id": "dph2qDABkVD0"
   },
   "source": [
    "**LogisticRegression**"
   ]
  },
  {
   "cell_type": "code",
   "execution_count": null,
   "metadata": {
    "id": "fPXeVBjpkVD0",
    "outputId": "19401f0e-e307-4179-cbe0-9ade99acc65e"
   },
   "outputs": [
    {
     "name": "stdout",
     "output_type": "stream",
     "text": [
      "F1 = 0.49138712601994555 Количество итераций: 100\n",
      "-------------------------\n"
     ]
    }
   ],
   "source": [
    "best_model_logistic = None\n",
    "best_depth = 0\n",
    "best_f1_score = 0\n",
    "best_class_logistic = None\n",
    "for depth in range(100, 1000, 100):\n",
    "    model_logistic = LogisticRegression(random_state=1234, solver='liblinear', max_iter=depth)\n",
    "    model_logistic.fit(features_upsampled, target_upsampled)\n",
    "    predicted_valid_logistic = model_logistic.predict(features_valid)\n",
    "    f1_logistic = f1_score(target_valid, predicted_valid_logistic)\n",
    "    if f1_logistic > best_f1_score:\n",
    "        best_model_logistic = model_logistic\n",
    "        best_depth = depth\n",
    "        best_f1_score = f1_logistic\n",
    "print('F1 =', best_f1_score, \"Количество итераций:\", best_depth,)\n",
    "print('-'* 25)"
   ]
  },
  {
   "cell_type": "markdown",
   "metadata": {
    "id": "WcFdfjcHkVD1"
   },
   "source": [
    "**Вывод**\n",
    "\n",
    "Увеличение выборки дал хуже результаты чем баланс классов:\n",
    "   * DecisionTreeClassifier 0.57\n",
    "   * RandomForestClassifier 0.60\n",
    "   * LogisticRegression 0.49"
   ]
  },
  {
   "cell_type": "markdown",
   "metadata": {
    "id": "nXWyOMjOkVD1"
   },
   "source": [
    "### Уменьшение выборки"
   ]
  },
  {
   "cell_type": "code",
   "execution_count": null,
   "metadata": {
    "id": "KgyaW3AYkVD1"
   },
   "outputs": [],
   "source": [
    "def downsample(features, target, fraction):\n",
    "    features_zeros = features[target == 0]\n",
    "    features_ones = features[target == 1]\n",
    "    target_zeros = target[target == 0]\n",
    "    target_ones = target[target == 1]\n",
    "\n",
    "    features_downsampled = pd.concat(\n",
    "        [features_zeros.sample(frac=fraction, random_state=1234)] + [features_ones])\n",
    "    target_downsampled = pd.concat(\n",
    "        [target_zeros.sample(frac=fraction, random_state=1234)] + [target_ones])\n",
    "\n",
    "    features_downsampled, target_downsampled = shuffle(\n",
    "        features_downsampled, target_downsampled, random_state=1234)\n",
    "\n",
    "    return features_downsampled, target_downsampled\n",
    "\n",
    "features_downsampled, target_downsampled = downsample(features_train, target_train, 0.26)"
   ]
  },
  {
   "cell_type": "code",
   "execution_count": null,
   "metadata": {
    "id": "-CI-JM8_kVD2",
    "outputId": "ab8ced9c-4d9f-41ae-d7ee-85fd1e533fa9"
   },
   "outputs": [
    {
     "data": {
      "text/plain": [
       "0    4332\n",
       "1    1122\n",
       "Name: exited, dtype: int64"
      ]
     },
     "execution_count": 36,
     "metadata": {},
     "output_type": "execute_result"
    }
   ],
   "source": [
    "target_train.value_counts()"
   ]
  },
  {
   "cell_type": "code",
   "execution_count": null,
   "metadata": {
    "id": "_ZEvR1NSkVD2",
    "outputId": "4ca8b9b7-5317-4811-8d7f-d93fff14a89f"
   },
   "outputs": [
    {
     "data": {
      "text/plain": [
       "0    1126\n",
       "1    1122\n",
       "Name: exited, dtype: int64"
      ]
     },
     "execution_count": 37,
     "metadata": {},
     "output_type": "execute_result"
    }
   ],
   "source": [
    "target_downsampled.value_counts()"
   ]
  },
  {
   "cell_type": "markdown",
   "metadata": {
    "id": "HRYjMj6RkVD3"
   },
   "source": [
    "**DecisionTreeClassifier**"
   ]
  },
  {
   "cell_type": "code",
   "execution_count": null,
   "metadata": {
    "id": "yeSHWArdkVD3",
    "outputId": "8a258f5e-2db1-4d21-cf36-8cd857dcbb99"
   },
   "outputs": [
    {
     "name": "stdout",
     "output_type": "stream",
     "text": [
      "F1 = 0.5603357817418677 Глубина дерева: 7\n",
      "-------------------------\n"
     ]
    }
   ],
   "source": [
    "best_model_decision = None\n",
    "best_depth = 0\n",
    "best_f1_score = 0\n",
    "for depth in range(1, 11):\n",
    "    model_decision = DecisionTreeClassifier(random_state=1234, max_depth=depth)\n",
    "    model_decision.fit(features_downsampled, target_downsampled)\n",
    "    predicted_valid_decision = model_decision.predict(features_valid)\n",
    "    f1_decision = f1_score(target_valid, predicted_valid_decision)\n",
    "    if f1_decision > best_f1_score:\n",
    "        best_model_decision = model_decision\n",
    "        best_depth = depth\n",
    "        best_f1_score = f1_decision\n",
    "print('F1 =', best_f1_score, \"Глубина дерева:\", best_depth)\n",
    "print('-'* 25)"
   ]
  },
  {
   "cell_type": "markdown",
   "metadata": {
    "id": "pe75xeO0kVD4"
   },
   "source": [
    "**RandomForestClassifier**"
   ]
  },
  {
   "cell_type": "code",
   "execution_count": null,
   "metadata": {
    "id": "GKVLVSfokVD4",
    "outputId": "64a051db-e32b-4804-81a1-9c041749a5b7"
   },
   "outputs": [
    {
     "name": "stdout",
     "output_type": "stream",
     "text": [
      "F1 = 0.5876393110435664 Количество деревьев: 50 Максимальная глубина: 10\n",
      "-------------------------\n"
     ]
    }
   ],
   "source": [
    "best_model = None\n",
    "best_est = 0\n",
    "best_depth = 0\n",
    "best_f1_score = 0\n",
    "for est in range(10, 51, 10):\n",
    "    for depth in range (1, 11):\n",
    "        model_forest = RandomForestClassifier(random_state=1234, n_estimators=est, max_depth=depth)\n",
    "        model_forest.fit(features_downsampled, target_downsampled)\n",
    "        predicted_valid_forest = model_forest.predict(features_valid)\n",
    "        f1_forest = f1_score(target_valid, predicted_valid_forest)\n",
    "        if f1_forest > best_f1_score:\n",
    "            best_model_forest = model_forest\n",
    "            best_est = est\n",
    "            best_depth = depth\n",
    "            best_f1_score = f1_forest\n",
    "\n",
    "print('F1 =', best_f1_score,\n",
    "      \"Количество деревьев:\", best_est, \"Максимальная глубина:\", depth)\n",
    "print('-'* 25)"
   ]
  },
  {
   "cell_type": "markdown",
   "metadata": {
    "id": "qmHbbi2XkVD4"
   },
   "source": [
    "**LogisticRegression**"
   ]
  },
  {
   "cell_type": "code",
   "execution_count": null,
   "metadata": {
    "id": "Br8RrZ4GkVD5",
    "outputId": "e6249fe5-6398-4669-d1cd-6c1181a2b8c3"
   },
   "outputs": [
    {
     "name": "stdout",
     "output_type": "stream",
     "text": [
      "F1 = 0.4954462659380692 Количество итераций: 100\n",
      "-------------------------\n"
     ]
    }
   ],
   "source": [
    "best_model_logistic = None\n",
    "best_depth = 0\n",
    "best_f1_score = 0\n",
    "best_class_logistic = None\n",
    "for depth in range(100, 1000, 100):\n",
    "    model_logistic = LogisticRegression(random_state=1234, solver='liblinear', max_iter=depth)\n",
    "    model_logistic.fit(features_downsampled, target_downsampled)\n",
    "    predicted_valid_logistic = model_logistic.predict(features_valid)\n",
    "    f1_logistic = f1_score(target_valid, predicted_valid_logistic)\n",
    "    if f1_logistic > best_f1_score:\n",
    "        best_model_logistic = model_logistic\n",
    "        best_depth = depth\n",
    "        best_f1_score = f1_logistic\n",
    "print('F1 =', best_f1_score, \"Количество итераций:\", best_depth,)\n",
    "print('-'* 25)"
   ]
  },
  {
   "cell_type": "markdown",
   "metadata": {
    "id": "9YesvksykVD5"
   },
   "source": [
    "**Вывод**\n",
    "\n",
    "Уменьшение выборки так же показал плохие результаты:\n",
    "   * DecisionTreeClassifier 0.56\n",
    "   * RandomForestClassifier 0.58\n",
    "   * LogisticRegression 0.49"
   ]
  },
  {
   "cell_type": "markdown",
   "metadata": {
    "id": "eOFk6WuukVD5"
   },
   "source": [
    "### Изменение порога"
   ]
  },
  {
   "cell_type": "markdown",
   "metadata": {
    "id": "L7W8X4rikVD6"
   },
   "source": [
    "**DecisionTreeClassifier**"
   ]
  },
  {
   "cell_type": "code",
   "execution_count": null,
   "metadata": {
    "id": "YqB3rZ63kVD6",
    "outputId": "b3c3d72b-270d-4205-a698-c4ebc9da269f"
   },
   "outputs": [
    {
     "name": "stdout",
     "output_type": "stream",
     "text": [
      "Порог = 0.00 | Точность = 0.202, Полнота = 1.000, F1 = 0.336\n",
      "Порог = 0.02 | Точность = 0.202, Полнота = 1.000, F1 = 0.336\n",
      "Порог = 0.04 | Точность = 0.202, Полнота = 1.000, F1 = 0.336\n",
      "Порог = 0.06 | Точность = 0.202, Полнота = 1.000, F1 = 0.336\n",
      "Порог = 0.08 | Точность = 0.202, Полнота = 1.000, F1 = 0.336\n",
      "Порог = 0.10 | Точность = 0.212, Полнота = 0.995, F1 = 0.350\n",
      "Порог = 0.12 | Точность = 0.239, Полнота = 0.975, F1 = 0.383\n",
      "Порог = 0.14 | Точность = 0.285, Полнота = 0.921, F1 = 0.436\n",
      "Порог = 0.16 | Точность = 0.336, Полнота = 0.883, F1 = 0.486\n",
      "Порог = 0.18 | Точность = 0.389, Полнота = 0.812, F1 = 0.526\n",
      "Порог = 0.20 | Точность = 0.423, Полнота = 0.752, F1 = 0.542\n",
      "Порог = 0.22 | Точность = 0.491, Полнота = 0.706, F1 = 0.579\n",
      "Порог = 0.24 | Точность = 0.531, Полнота = 0.654, F1 = 0.586\n",
      "Порог = 0.26 | Точность = 0.578, Полнота = 0.619, F1 = 0.597\n",
      "Порог = 0.28 | Точность = 0.621, Полнота = 0.580, F1 = 0.600\n"
     ]
    }
   ],
   "source": [
    "model = RandomForestClassifier(random_state=1234, max_depth=3)\n",
    "model.fit(features_train, target_train)\n",
    "probabilities_valid = model.predict_proba(features_valid)\n",
    "probabilities_one_valid = probabilities_valid[:, 1]\n",
    "\n",
    "for threshold in np.arange(0, 0.3, 0.02):\n",
    "    predicted_valid = probabilities_one_valid > threshold\n",
    "    precision = precision_score(target_valid, predicted_valid)\n",
    "    recall = recall_score(target_valid, predicted_valid)\n",
    "    f1 = f1_score(target_valid, predicted_valid)\n",
    "\n",
    "    print(\"Порог = {:.2f} | Точность = {:.3f}, Полнота = {:.3f}, F1 = {:.3f}\".format(\n",
    "        threshold, precision, recall, f1))"
   ]
  },
  {
   "cell_type": "markdown",
   "metadata": {
    "id": "hy1hJiX0kVD6"
   },
   "source": [
    "**RandomForestClassifier**"
   ]
  },
  {
   "cell_type": "code",
   "execution_count": null,
   "metadata": {
    "id": "WdOPSX6nkVD7",
    "outputId": "1bc557e9-0faf-4294-ceb8-172fb67da3fa"
   },
   "outputs": [
    {
     "name": "stdout",
     "output_type": "stream",
     "text": [
      "Порог = 0.00 | Точность = 0.202, Полнота = 1.000, F1 = 0.336\n",
      "Порог = 0.02 | Точность = 0.213, Полнота = 1.000, F1 = 0.351\n",
      "Порог = 0.04 | Точность = 0.234, Полнота = 0.986, F1 = 0.379\n",
      "Порог = 0.06 | Точность = 0.258, Полнота = 0.959, F1 = 0.407\n",
      "Порог = 0.08 | Точность = 0.285, Полнота = 0.948, F1 = 0.438\n",
      "Порог = 0.10 | Точность = 0.310, Полнота = 0.916, F1 = 0.463\n",
      "Порог = 0.12 | Точность = 0.341, Полнота = 0.888, F1 = 0.493\n",
      "Порог = 0.14 | Точность = 0.366, Полнота = 0.858, F1 = 0.513\n",
      "Порог = 0.16 | Точность = 0.397, Полнота = 0.837, F1 = 0.538\n",
      "Порог = 0.18 | Точность = 0.428, Полнота = 0.807, F1 = 0.560\n",
      "Порог = 0.20 | Точность = 0.453, Полнота = 0.774, F1 = 0.571\n",
      "Порог = 0.22 | Точность = 0.471, Полнота = 0.728, F1 = 0.572\n",
      "Порог = 0.24 | Точность = 0.507, Полнота = 0.706, F1 = 0.590\n",
      "Порог = 0.26 | Точность = 0.528, Полнота = 0.673, F1 = 0.592\n",
      "Порог = 0.28 | Точность = 0.550, Полнота = 0.649, F1 = 0.595\n"
     ]
    }
   ],
   "source": [
    "model = RandomForestClassifier(random_state=1234, n_estimators=20, max_depth=10)\n",
    "model.fit(features_train, target_train)\n",
    "probabilities_valid = model.predict_proba(features_valid)\n",
    "probabilities_one_valid = probabilities_valid[:, 1]\n",
    "\n",
    "for threshold in np.arange(0, 0.3, 0.02):\n",
    "    predicted_valid = probabilities_one_valid > threshold\n",
    "    precision = precision_score(target_valid, predicted_valid)\n",
    "    recall = recall_score(target_valid, predicted_valid)\n",
    "    f1 = f1_score(target_valid, predicted_valid)\n",
    "\n",
    "    print(\"Порог = {:.2f} | Точность = {:.3f}, Полнота = {:.3f}, F1 = {:.3f}\".format(\n",
    "        threshold, precision, recall, f1))"
   ]
  },
  {
   "cell_type": "markdown",
   "metadata": {
    "id": "GizSGt9SkVD7"
   },
   "source": [
    "**LogisticRegression**"
   ]
  },
  {
   "cell_type": "code",
   "execution_count": null,
   "metadata": {
    "id": "Kcb-Sb6ZkVD7",
    "outputId": "bd83c087-3fc3-41d5-9ba6-b090d692247f"
   },
   "outputs": [
    {
     "name": "stdout",
     "output_type": "stream",
     "text": [
      "Порог = 0.00 | Точность = 0.202, Полнота = 1.000, F1 = 0.336\n",
      "Порог = 0.02 | Точность = 0.203, Полнота = 1.000, F1 = 0.337\n",
      "Порог = 0.04 | Точность = 0.211, Полнота = 0.984, F1 = 0.348\n",
      "Порог = 0.06 | Точность = 0.226, Полнота = 0.951, F1 = 0.366\n",
      "Порог = 0.08 | Точность = 0.243, Полнота = 0.932, F1 = 0.385\n",
      "Порог = 0.10 | Точность = 0.265, Полнота = 0.907, F1 = 0.410\n",
      "Порог = 0.12 | Точность = 0.279, Полнота = 0.872, F1 = 0.423\n",
      "Порог = 0.14 | Точность = 0.303, Полнота = 0.842, F1 = 0.445\n",
      "Порог = 0.16 | Точность = 0.323, Полнота = 0.823, F1 = 0.464\n",
      "Порог = 0.18 | Точность = 0.341, Полнота = 0.771, F1 = 0.473\n",
      "Порог = 0.20 | Точность = 0.358, Полнота = 0.733, F1 = 0.481\n",
      "Порог = 0.22 | Точность = 0.372, Полнота = 0.684, F1 = 0.482\n",
      "Порог = 0.24 | Точность = 0.397, Полнота = 0.638, F1 = 0.490\n",
      "Порог = 0.26 | Точность = 0.420, Полнота = 0.594, F1 = 0.492\n",
      "Порог = 0.28 | Точность = 0.425, Полнота = 0.537, F1 = 0.475\n"
     ]
    }
   ],
   "source": [
    "model = LogisticRegression(random_state=1234, solver='liblinear', max_iter=100)\n",
    "model.fit(features_train, target_train)\n",
    "probabilities_valid = model.predict_proba(features_valid)\n",
    "probabilities_one_valid = probabilities_valid[:, 1]\n",
    "\n",
    "for threshold in np.arange(0, 0.3, 0.02):\n",
    "    predicted_valid = probabilities_one_valid > threshold\n",
    "    precision = precision_score(target_valid, predicted_valid)\n",
    "    recall = recall_score(target_valid, predicted_valid)\n",
    "    f1 = f1_score(target_valid, predicted_valid)\n",
    "\n",
    "    print(\"Порог = {:.2f} | Точность = {:.3f}, Полнота = {:.3f}, F1 = {:.3f}\".format(\n",
    "        threshold, precision, recall, f1))"
   ]
  },
  {
   "cell_type": "markdown",
   "metadata": {
    "id": "mnCPsiZ-kVD8"
   },
   "source": [
    "**Вывод**\n",
    "Изменение порога показал более лучшие результаты относительно увеличени и уменьшения выборки:\n",
    "   * DecisionTreeClassifier 0.600\n",
    "   * RandomForestClassifier 0.595\n",
    "   * LogisticRegression 0.492\n",
    "\n",
    "Благодаря изменениям порогов удалось в DecisionTreeClassifier улучшить показатели до 0,60, что больше чем требуется в задании 0,59"
   ]
  },
  {
   "cell_type": "markdown",
   "metadata": {
    "id": "8fHfRezvkVD8"
   },
   "source": [
    "## Тестирование модели"
   ]
  },
  {
   "cell_type": "markdown",
   "metadata": {
    "id": "PoxkCj35kVD8"
   },
   "source": [
    "Теперь обучим модель случайного леса и протестируем с успешными гиперпараметрами n_estimators=20 и max_depth=10, уравновешенную по классам."
   ]
  },
  {
   "cell_type": "code",
   "execution_count": null,
   "metadata": {
    "id": "f3GkcHiykVD8",
    "outputId": "369a8365-4843-4bf2-b5f0-fe1fe44237f0"
   },
   "outputs": [
    {
     "name": "stdout",
     "output_type": "stream",
     "text": [
      "F1 = 0.6024423337856174\n"
     ]
    }
   ],
   "source": [
    "model = RandomForestClassifier(random_state=1234, n_estimators=20, max_depth=10, class_weight='balanced')\n",
    "model.fit(features_train, target_train)\n",
    "predicted_test = model.predict(features_test)\n",
    "f1 = f1_score(target_test, predicted_test)\n",
    "print('F1 =', f1)"
   ]
  },
  {
   "cell_type": "markdown",
   "metadata": {
    "id": "maommQ72kVD9"
   },
   "source": [
    "F1 достигнута и соответствует заявленному минимому 0,59"
   ]
  },
  {
   "cell_type": "code",
   "execution_count": null,
   "metadata": {
    "id": "jpZqFnmZkVD9",
    "outputId": "1372dba6-93d4-431b-ba45-ab0f64229a27"
   },
   "outputs": [
    {
     "name": "stdout",
     "output_type": "stream",
     "text": [
      "0.8566668866492565\n"
     ]
    }
   ],
   "source": [
    "probabilities_test = model.predict_proba(features_test)\n",
    "probabilities_one_test = probabilities_test[:, 1]\n",
    "\n",
    "\n",
    "auc_roc = roc_auc_score(target_test, probabilities_one_test)\n",
    "print(auc_roc)"
   ]
  },
  {
   "cell_type": "markdown",
   "metadata": {
    "id": "K_D17yumkVD-"
   },
   "source": [
    "Метрика AUC-ROC отличается от значения для RandomForestClassifier (0,87)."
   ]
  },
  {
   "cell_type": "code",
   "execution_count": null,
   "metadata": {
    "id": "XShgJOkXkVD_",
    "outputId": "54b81fdd-3152-4290-c1c6-15d1a5d762a6"
   },
   "outputs": [
    {
     "data": {
      "image/png": "[encoded data removed]",
      "text/plain": [
       "<Figure size 432x288 with 1 Axes>"
      ]
     },
     "metadata": {
      "needs_background": "light"
     },
     "output_type": "display_data"
    }
   ],
   "source": [
    "fpr, tpr, treshold = roc_curve(target_test, probabilities_one_test)\n",
    "roc_auc = auc(fpr, tpr)\n",
    "# строим график\n",
    "plt.plot(fpr, tpr, color='darkorange',\n",
    "         label='ROC кривая (area = %0.2f)' % roc_auc)\n",
    "plt.plot([0, 1], [0, 1], color='navy', linestyle='--')\n",
    "plt.xlim([0.0, 1.0])\n",
    "plt.ylim([0.0, 1.05])\n",
    "plt.xlabel('False Positive Rate')\n",
    "plt.ylabel('True Positive Rate')\n",
    "plt.title('ROC-кривая')\n",
    "plt.legend(loc=\"lower right\")\n",
    "plt.show()"
   ]
  },
  {
   "cell_type": "markdown",
   "metadata": {
    "id": "VYu-hX-skVD_"
   },
   "source": [
    "# Общий вывод:\n",
    "\n",
    "1. Ознакомились с данными и подготовили их к исследованию (преобразовали категориальные признаки в численные с помощью техники прямого кодирования One-Hot Encoding,удалили пропуски, убрали лишнии столбцы, разбили получившийся датасет на 3 выборки - обучающую, валидационную и тестовую, масштабировали признаки методом стандартизации).\n",
    "\n",
    "2. Исследовали баланс классов - они оказались несбалансированы, изучили модели без учёта дисбаланса, выяснили, что результат работы модели случайного леса лучше.\n",
    "\n",
    "3. Применили 4 способа борбы с дисбалансом - взвешивание классов, увелечение выборки, уменьшение выборки и изменение порога. Лучшие результаты показал способы борьбы с дисбалансом это взвешивание классов. Достигли F1 = 0.61 в модели RandomForestClassifier\n",
    "\n",
    "4. Обучили финальную модель и проверили ее на тестовой выборке. Достигли значения F1 = 0.60. Исследовали метрику AUC-ROC - ее значение в данном случае почти не отличается от значения для RandomForestClassifier (0.87)"
   ]
  }
 ],
 "metadata": {
  "ExecuteTimeLog": [
   {
    "duration": 1178,
    "start_time": "2023-05-27T20:23:42.634Z"
   },
   {
    "duration": 361,
    "start_time": "2023-05-27T20:25:46.053Z"
   },
   {
    "duration": 20,
    "start_time": "2023-05-27T20:27:42.440Z"
   },
   {
    "duration": 3,
    "start_time": "2023-05-27T20:28:38.329Z"
   },
   {
    "duration": 1274,
    "start_time": "2023-05-27T20:29:09.711Z"
   },
   {
    "duration": 58,
    "start_time": "2023-05-27T20:32:38.283Z"
   },
   {
    "duration": 5,
    "start_time": "2023-05-27T21:51:51.957Z"
   },
   {
    "duration": 29,
    "start_time": "2023-05-27T21:52:14.549Z"
   },
   {
    "duration": 13,
    "start_time": "2023-05-27T21:52:36.251Z"
   },
   {
    "duration": 5,
    "start_time": "2023-05-27T21:52:57.000Z"
   },
   {
    "duration": 47,
    "start_time": "2023-05-28T06:29:31.513Z"
   },
   {
    "duration": 5,
    "start_time": "2023-05-28T06:29:55.026Z"
   },
   {
    "duration": 6,
    "start_time": "2023-05-28T06:33:00.563Z"
   },
   {
    "duration": 6,
    "start_time": "2023-05-28T06:33:05.544Z"
   },
   {
    "duration": 5,
    "start_time": "2023-05-28T06:33:16.101Z"
   },
   {
    "duration": 6,
    "start_time": "2023-05-28T06:33:30.537Z"
   },
   {
    "duration": 7,
    "start_time": "2023-05-28T06:35:00.785Z"
   },
   {
    "duration": 6,
    "start_time": "2023-05-28T06:35:09.625Z"
   },
   {
    "duration": 7,
    "start_time": "2023-05-28T06:35:13.452Z"
   },
   {
    "duration": 1070,
    "start_time": "2023-05-28T06:35:24.763Z"
   },
   {
    "duration": 79,
    "start_time": "2023-05-28T06:35:25.835Z"
   },
   {
    "duration": 18,
    "start_time": "2023-05-28T06:35:25.916Z"
   },
   {
    "duration": 33,
    "start_time": "2023-05-28T06:35:25.935Z"
   },
   {
    "duration": 215,
    "start_time": "2023-05-28T06:35:25.970Z"
   },
   {
    "duration": 7,
    "start_time": "2023-05-28T06:35:26.188Z"
   },
   {
    "duration": 21,
    "start_time": "2023-05-28T06:35:26.196Z"
   },
   {
    "duration": 89,
    "start_time": "2023-05-28T06:35:26.219Z"
   },
   {
    "duration": 3,
    "start_time": "2023-05-28T06:35:44.035Z"
   },
   {
    "duration": 12,
    "start_time": "2023-05-28T06:36:04.116Z"
   },
   {
    "duration": 846,
    "start_time": "2023-05-28T06:52:12.111Z"
   },
   {
    "duration": 6,
    "start_time": "2023-05-28T06:52:20.986Z"
   },
   {
    "duration": 94,
    "start_time": "2023-05-28T06:52:20.994Z"
   },
   {
    "duration": 15,
    "start_time": "2023-05-28T06:52:21.090Z"
   },
   {
    "duration": 64,
    "start_time": "2023-05-28T06:52:21.107Z"
   },
   {
    "duration": 149,
    "start_time": "2023-05-28T06:52:21.173Z"
   },
   {
    "duration": 7,
    "start_time": "2023-05-28T06:52:21.324Z"
   },
   {
    "duration": 39,
    "start_time": "2023-05-28T06:52:21.332Z"
   },
   {
    "duration": 33,
    "start_time": "2023-05-28T06:52:21.373Z"
   },
   {
    "duration": 29,
    "start_time": "2023-05-28T06:52:21.408Z"
   },
   {
    "duration": 35,
    "start_time": "2023-05-28T06:52:21.442Z"
   },
   {
    "duration": 5,
    "start_time": "2023-05-28T06:58:03.955Z"
   },
   {
    "duration": 9,
    "start_time": "2023-05-28T06:58:29.145Z"
   },
   {
    "duration": 3,
    "start_time": "2023-05-28T06:58:47.652Z"
   },
   {
    "duration": 63,
    "start_time": "2023-05-28T06:58:47.658Z"
   },
   {
    "duration": 22,
    "start_time": "2023-05-28T06:58:47.723Z"
   },
   {
    "duration": 15,
    "start_time": "2023-05-28T06:58:47.747Z"
   },
   {
    "duration": 77,
    "start_time": "2023-05-28T06:58:47.765Z"
   },
   {
    "duration": 6,
    "start_time": "2023-05-28T06:58:47.844Z"
   },
   {
    "duration": 19,
    "start_time": "2023-05-28T06:58:47.852Z"
   },
   {
    "duration": 8,
    "start_time": "2023-05-28T06:58:47.873Z"
   },
   {
    "duration": 28,
    "start_time": "2023-05-28T06:58:47.883Z"
   },
   {
    "duration": 5,
    "start_time": "2023-05-28T06:58:47.913Z"
   },
   {
    "duration": 26,
    "start_time": "2023-05-28T06:58:47.919Z"
   },
   {
    "duration": 10,
    "start_time": "2023-05-28T06:59:04.806Z"
   },
   {
    "duration": 12,
    "start_time": "2023-05-28T06:59:11.223Z"
   },
   {
    "duration": 11,
    "start_time": "2023-05-28T06:59:27.892Z"
   },
   {
    "duration": 4,
    "start_time": "2023-05-28T07:00:37.289Z"
   },
   {
    "duration": 55,
    "start_time": "2023-05-28T07:00:37.295Z"
   },
   {
    "duration": 12,
    "start_time": "2023-05-28T07:00:37.352Z"
   },
   {
    "duration": 6,
    "start_time": "2023-05-28T07:00:37.366Z"
   },
   {
    "duration": 67,
    "start_time": "2023-05-28T07:00:37.374Z"
   },
   {
    "duration": 5,
    "start_time": "2023-05-28T07:00:37.443Z"
   },
   {
    "duration": 7,
    "start_time": "2023-05-28T07:00:37.449Z"
   },
   {
    "duration": 5,
    "start_time": "2023-05-28T07:00:37.457Z"
   },
   {
    "duration": 15,
    "start_time": "2023-05-28T07:00:37.463Z"
   },
   {
    "duration": 3,
    "start_time": "2023-05-28T07:00:37.480Z"
   },
   {
    "duration": 13,
    "start_time": "2023-05-28T07:01:08.474Z"
   },
   {
    "duration": 5,
    "start_time": "2023-05-28T07:01:31.058Z"
   },
   {
    "duration": 145,
    "start_time": "2023-05-28T07:01:31.065Z"
   },
   {
    "duration": 13,
    "start_time": "2023-05-28T07:01:31.213Z"
   },
   {
    "duration": 42,
    "start_time": "2023-05-28T07:01:31.228Z"
   },
   {
    "duration": 105,
    "start_time": "2023-05-28T07:01:31.273Z"
   },
   {
    "duration": 6,
    "start_time": "2023-05-28T07:01:31.380Z"
   },
   {
    "duration": 53,
    "start_time": "2023-05-28T07:01:31.387Z"
   },
   {
    "duration": 41,
    "start_time": "2023-05-28T07:01:31.441Z"
   },
   {
    "duration": 32,
    "start_time": "2023-05-28T07:01:31.484Z"
   },
   {
    "duration": 21,
    "start_time": "2023-05-28T07:01:31.517Z"
   },
   {
    "duration": 9,
    "start_time": "2023-05-28T07:01:31.540Z"
   },
   {
    "duration": 5,
    "start_time": "2023-05-28T07:01:44.546Z"
   },
   {
    "duration": 14,
    "start_time": "2023-05-28T07:01:50.116Z"
   },
   {
    "duration": 12,
    "start_time": "2023-05-28T07:07:03.275Z"
   },
   {
    "duration": 10,
    "start_time": "2023-05-28T07:11:46.597Z"
   },
   {
    "duration": 13,
    "start_time": "2023-05-28T07:11:57.283Z"
   },
   {
    "duration": 69,
    "start_time": "2023-05-28T07:13:01.678Z"
   },
   {
    "duration": 5,
    "start_time": "2023-05-28T07:13:50.846Z"
   },
   {
    "duration": 7,
    "start_time": "2023-05-28T07:14:28.979Z"
   },
   {
    "duration": 6,
    "start_time": "2023-05-28T07:14:38.283Z"
   },
   {
    "duration": 4,
    "start_time": "2023-05-28T07:14:47.774Z"
   },
   {
    "duration": 4,
    "start_time": "2023-05-28T07:28:29.993Z"
   },
   {
    "duration": 12,
    "start_time": "2023-05-28T07:32:45.574Z"
   },
   {
    "duration": 3,
    "start_time": "2023-05-28T07:35:57.082Z"
   },
   {
    "duration": 27,
    "start_time": "2023-05-28T07:36:36.184Z"
   },
   {
    "duration": 3,
    "start_time": "2023-05-28T07:37:39.470Z"
   },
   {
    "duration": 33,
    "start_time": "2023-05-28T07:37:40.059Z"
   },
   {
    "duration": 10,
    "start_time": "2023-05-28T07:37:51.932Z"
   },
   {
    "duration": 66,
    "start_time": "2023-05-28T07:37:51.944Z"
   },
   {
    "duration": 12,
    "start_time": "2023-05-28T07:37:52.012Z"
   },
   {
    "duration": 36,
    "start_time": "2023-05-28T07:37:52.025Z"
   },
   {
    "duration": 113,
    "start_time": "2023-05-28T07:37:52.063Z"
   },
   {
    "duration": 6,
    "start_time": "2023-05-28T07:37:52.177Z"
   },
   {
    "duration": 11,
    "start_time": "2023-05-28T07:37:52.184Z"
   },
   {
    "duration": 24,
    "start_time": "2023-05-28T07:37:52.196Z"
   },
   {
    "duration": 47,
    "start_time": "2023-05-28T07:37:52.222Z"
   },
   {
    "duration": 15,
    "start_time": "2023-05-28T07:37:52.271Z"
   },
   {
    "duration": 21,
    "start_time": "2023-05-28T07:37:52.289Z"
   },
   {
    "duration": 37,
    "start_time": "2023-05-28T07:37:52.312Z"
   },
   {
    "duration": 13,
    "start_time": "2023-05-28T07:37:52.351Z"
   },
   {
    "duration": 10,
    "start_time": "2023-05-28T07:37:52.365Z"
   },
   {
    "duration": 8,
    "start_time": "2023-05-28T07:37:52.377Z"
   },
   {
    "duration": 5,
    "start_time": "2023-05-28T07:37:52.386Z"
   },
   {
    "duration": 65,
    "start_time": "2023-05-28T07:37:52.392Z"
   },
   {
    "duration": 0,
    "start_time": "2023-05-28T07:37:52.459Z"
   },
   {
    "duration": 0,
    "start_time": "2023-05-28T07:37:52.460Z"
   },
   {
    "duration": 0,
    "start_time": "2023-05-28T07:37:52.461Z"
   },
   {
    "duration": 11,
    "start_time": "2023-05-28T07:38:03.236Z"
   },
   {
    "duration": 3,
    "start_time": "2023-05-28T07:38:04.193Z"
   },
   {
    "duration": 25,
    "start_time": "2023-05-28T07:38:05.049Z"
   },
   {
    "duration": 6,
    "start_time": "2023-05-28T07:40:08.827Z"
   },
   {
    "duration": 38,
    "start_time": "2023-05-28T07:40:09.801Z"
   },
   {
    "duration": 12,
    "start_time": "2023-05-28T07:40:24.778Z"
   },
   {
    "duration": 5,
    "start_time": "2023-05-28T07:41:06.082Z"
   },
   {
    "duration": 69,
    "start_time": "2023-05-28T07:41:06.089Z"
   },
   {
    "duration": 15,
    "start_time": "2023-05-28T07:41:06.161Z"
   },
   {
    "duration": 21,
    "start_time": "2023-05-28T07:41:06.179Z"
   },
   {
    "duration": 95,
    "start_time": "2023-05-28T07:41:06.203Z"
   },
   {
    "duration": 7,
    "start_time": "2023-05-28T07:41:06.299Z"
   },
   {
    "duration": 7,
    "start_time": "2023-05-28T07:41:06.325Z"
   },
   {
    "duration": 29,
    "start_time": "2023-05-28T07:41:06.333Z"
   },
   {
    "duration": 31,
    "start_time": "2023-05-28T07:41:06.364Z"
   },
   {
    "duration": 12,
    "start_time": "2023-05-28T07:41:06.397Z"
   },
   {
    "duration": 39,
    "start_time": "2023-05-28T07:41:06.413Z"
   },
   {
    "duration": 16,
    "start_time": "2023-05-28T07:41:06.453Z"
   },
   {
    "duration": 18,
    "start_time": "2023-05-28T07:41:06.471Z"
   },
   {
    "duration": 18,
    "start_time": "2023-05-28T07:41:06.491Z"
   },
   {
    "duration": 12,
    "start_time": "2023-05-28T07:41:06.511Z"
   },
   {
    "duration": 21,
    "start_time": "2023-05-28T07:41:06.525Z"
   },
   {
    "duration": 18,
    "start_time": "2023-05-28T07:41:06.549Z"
   },
   {
    "duration": 9,
    "start_time": "2023-05-28T07:41:06.569Z"
   },
   {
    "duration": 30,
    "start_time": "2023-05-28T07:41:06.580Z"
   },
   {
    "duration": 22,
    "start_time": "2023-05-28T07:41:06.612Z"
   },
   {
    "duration": 18,
    "start_time": "2023-05-28T08:11:55.058Z"
   },
   {
    "duration": 12,
    "start_time": "2023-05-28T08:12:20.721Z"
   },
   {
    "duration": 4,
    "start_time": "2023-05-28T08:12:38.756Z"
   },
   {
    "duration": 26,
    "start_time": "2023-05-28T08:12:41.155Z"
   },
   {
    "duration": 26,
    "start_time": "2023-05-28T08:12:51.270Z"
   },
   {
    "duration": 76,
    "start_time": "2023-05-28T08:12:59.890Z"
   },
   {
    "duration": 21,
    "start_time": "2023-05-28T08:13:08.449Z"
   },
   {
    "duration": 3,
    "start_time": "2023-05-28T08:13:10.402Z"
   },
   {
    "duration": 22,
    "start_time": "2023-05-28T08:13:16.046Z"
   },
   {
    "duration": 12,
    "start_time": "2023-05-28T08:13:16.894Z"
   },
   {
    "duration": 4,
    "start_time": "2023-05-28T08:13:35.445Z"
   },
   {
    "duration": 70,
    "start_time": "2023-05-28T08:13:35.451Z"
   },
   {
    "duration": 23,
    "start_time": "2023-05-28T08:13:35.523Z"
   },
   {
    "duration": 21,
    "start_time": "2023-05-28T08:13:35.548Z"
   },
   {
    "duration": 123,
    "start_time": "2023-05-28T08:13:35.572Z"
   },
   {
    "duration": 8,
    "start_time": "2023-05-28T08:13:35.697Z"
   },
   {
    "duration": 48,
    "start_time": "2023-05-28T08:13:35.707Z"
   },
   {
    "duration": 23,
    "start_time": "2023-05-28T08:13:35.757Z"
   },
   {
    "duration": 36,
    "start_time": "2023-05-28T08:13:35.782Z"
   },
   {
    "duration": 28,
    "start_time": "2023-05-28T08:13:35.819Z"
   },
   {
    "duration": 32,
    "start_time": "2023-05-28T08:13:35.849Z"
   },
   {
    "duration": 13,
    "start_time": "2023-05-28T08:13:35.883Z"
   },
   {
    "duration": 50,
    "start_time": "2023-05-28T08:13:35.898Z"
   },
   {
    "duration": 13,
    "start_time": "2023-05-28T08:13:35.953Z"
   },
   {
    "duration": 45,
    "start_time": "2023-05-28T08:13:35.969Z"
   },
   {
    "duration": 31,
    "start_time": "2023-05-28T08:13:36.016Z"
   },
   {
    "duration": 13,
    "start_time": "2023-05-28T08:13:36.049Z"
   },
   {
    "duration": 40,
    "start_time": "2023-05-28T08:13:36.064Z"
   },
   {
    "duration": 14,
    "start_time": "2023-05-28T08:13:36.107Z"
   },
   {
    "duration": 65,
    "start_time": "2023-05-28T19:41:28.252Z"
   },
   {
    "duration": 1255,
    "start_time": "2023-05-28T19:41:37.165Z"
   },
   {
    "duration": 101,
    "start_time": "2023-05-28T19:41:38.422Z"
   },
   {
    "duration": 36,
    "start_time": "2023-05-28T19:41:38.525Z"
   },
   {
    "duration": 9,
    "start_time": "2023-05-28T19:41:38.563Z"
   },
   {
    "duration": 98,
    "start_time": "2023-05-28T19:41:38.576Z"
   },
   {
    "duration": 9,
    "start_time": "2023-05-28T19:41:38.676Z"
   },
   {
    "duration": 9,
    "start_time": "2023-05-28T19:41:38.687Z"
   },
   {
    "duration": 6,
    "start_time": "2023-05-28T19:41:38.698Z"
   },
   {
    "duration": 48,
    "start_time": "2023-05-28T19:41:38.707Z"
   },
   {
    "duration": 9,
    "start_time": "2023-05-28T19:41:38.757Z"
   },
   {
    "duration": 23,
    "start_time": "2023-05-28T19:41:38.768Z"
   },
   {
    "duration": 23,
    "start_time": "2023-05-28T19:41:38.793Z"
   },
   {
    "duration": 8,
    "start_time": "2023-05-28T19:41:38.818Z"
   },
   {
    "duration": 10,
    "start_time": "2023-05-28T19:41:38.828Z"
   },
   {
    "duration": 22,
    "start_time": "2023-05-28T19:41:38.840Z"
   },
   {
    "duration": 9,
    "start_time": "2023-05-28T19:41:38.864Z"
   },
   {
    "duration": 7,
    "start_time": "2023-05-28T19:41:38.874Z"
   },
   {
    "duration": 34,
    "start_time": "2023-05-28T19:41:38.882Z"
   },
   {
    "duration": 16,
    "start_time": "2023-05-28T19:41:38.919Z"
   },
   {
    "duration": 96,
    "start_time": "2023-05-28T19:41:38.937Z"
   },
   {
    "duration": 503,
    "start_time": "2023-05-28T19:42:28.392Z"
   },
   {
    "duration": 4,
    "start_time": "2023-05-28T19:43:19.010Z"
   },
   {
    "duration": 29,
    "start_time": "2023-05-28T19:43:29.297Z"
   },
   {
    "duration": 15,
    "start_time": "2023-05-28T19:43:31.164Z"
   },
   {
    "duration": 4,
    "start_time": "2023-05-28T19:43:36.505Z"
   },
   {
    "duration": 47,
    "start_time": "2023-05-28T19:43:36.512Z"
   },
   {
    "duration": 14,
    "start_time": "2023-05-28T19:43:36.561Z"
   },
   {
    "duration": 8,
    "start_time": "2023-05-28T19:43:36.578Z"
   },
   {
    "duration": 91,
    "start_time": "2023-05-28T19:43:36.587Z"
   },
   {
    "duration": 7,
    "start_time": "2023-05-28T19:43:36.681Z"
   },
   {
    "duration": 7,
    "start_time": "2023-05-28T19:43:36.690Z"
   },
   {
    "duration": 5,
    "start_time": "2023-05-28T19:43:36.700Z"
   },
   {
    "duration": 49,
    "start_time": "2023-05-28T19:43:36.707Z"
   },
   {
    "duration": 6,
    "start_time": "2023-05-28T19:43:36.760Z"
   },
   {
    "duration": 27,
    "start_time": "2023-05-28T19:43:36.769Z"
   },
   {
    "duration": 13,
    "start_time": "2023-05-28T19:43:36.798Z"
   },
   {
    "duration": 10,
    "start_time": "2023-05-28T19:43:36.813Z"
   },
   {
    "duration": 8,
    "start_time": "2023-05-28T19:43:36.825Z"
   },
   {
    "duration": 8,
    "start_time": "2023-05-28T19:43:36.841Z"
   },
   {
    "duration": 15,
    "start_time": "2023-05-28T19:43:36.852Z"
   },
   {
    "duration": 5,
    "start_time": "2023-05-28T19:43:36.869Z"
   },
   {
    "duration": 31,
    "start_time": "2023-05-28T19:43:36.876Z"
   },
   {
    "duration": 13,
    "start_time": "2023-05-28T19:43:36.909Z"
   },
   {
    "duration": 30,
    "start_time": "2023-05-28T19:43:36.941Z"
   },
   {
    "duration": 38,
    "start_time": "2023-05-28T19:44:19.080Z"
   },
   {
    "duration": 29,
    "start_time": "2023-05-28T19:44:47.788Z"
   },
   {
    "duration": 30,
    "start_time": "2023-05-28T19:47:03.177Z"
   },
   {
    "duration": 29,
    "start_time": "2023-05-28T19:47:21.485Z"
   },
   {
    "duration": 32,
    "start_time": "2023-05-28T19:47:26.110Z"
   },
   {
    "duration": 14,
    "start_time": "2023-05-28T19:47:31.648Z"
   },
   {
    "duration": 151,
    "start_time": "2023-05-28T19:51:01.121Z"
   },
   {
    "duration": 22,
    "start_time": "2023-05-28T19:51:08.553Z"
   },
   {
    "duration": 170,
    "start_time": "2023-05-28T19:56:35.665Z"
   },
   {
    "duration": 160,
    "start_time": "2023-05-28T19:56:46.164Z"
   },
   {
    "duration": 161,
    "start_time": "2023-05-28T19:56:59.474Z"
   },
   {
    "duration": 150,
    "start_time": "2023-05-28T19:58:04.670Z"
   },
   {
    "duration": 152,
    "start_time": "2023-05-28T19:58:08.713Z"
   },
   {
    "duration": 159,
    "start_time": "2023-05-28T19:59:51.118Z"
   },
   {
    "duration": 276,
    "start_time": "2023-05-28T20:00:00.405Z"
   },
   {
    "duration": 272,
    "start_time": "2023-05-28T20:00:31.814Z"
   },
   {
    "duration": 263,
    "start_time": "2023-05-28T20:00:51.601Z"
   },
   {
    "duration": 11,
    "start_time": "2023-05-28T20:02:48.301Z"
   },
   {
    "duration": 127,
    "start_time": "2023-05-28T20:03:19.089Z"
   },
   {
    "duration": 116,
    "start_time": "2023-05-28T20:03:36.406Z"
   },
   {
    "duration": 4,
    "start_time": "2023-05-28T20:06:24.169Z"
   },
   {
    "duration": 12,
    "start_time": "2023-05-28T20:06:30.515Z"
   },
   {
    "duration": 7,
    "start_time": "2023-05-28T20:06:50.456Z"
   },
   {
    "duration": 6,
    "start_time": "2023-05-28T20:07:01.110Z"
   },
   {
    "duration": 356,
    "start_time": "2023-05-28T20:10:22.493Z"
   },
   {
    "duration": 54,
    "start_time": "2023-05-28T20:11:17.416Z"
   },
   {
    "duration": 270,
    "start_time": "2023-05-28T20:11:23.377Z"
   },
   {
    "duration": 5846,
    "start_time": "2023-05-28T20:16:05.396Z"
   },
   {
    "duration": 5810,
    "start_time": "2023-05-28T20:17:08.484Z"
   },
   {
    "duration": 5893,
    "start_time": "2023-05-28T20:20:00.216Z"
   },
   {
    "duration": 303,
    "start_time": "2023-05-28T20:23:03.978Z"
   },
   {
    "duration": 314,
    "start_time": "2023-05-28T20:23:21.381Z"
   },
   {
    "duration": 21,
    "start_time": "2023-05-28T20:25:37.680Z"
   },
   {
    "duration": 113,
    "start_time": "2023-05-28T20:25:50.915Z"
   },
   {
    "duration": 109,
    "start_time": "2023-05-28T20:26:11.980Z"
   },
   {
    "duration": 124,
    "start_time": "2023-05-28T20:26:23.153Z"
   },
   {
    "duration": 140,
    "start_time": "2023-05-28T20:26:32.590Z"
   },
   {
    "duration": 295,
    "start_time": "2023-05-28T20:27:10.365Z"
   },
   {
    "duration": 281,
    "start_time": "2023-05-28T20:28:42.505Z"
   },
   {
    "duration": 116,
    "start_time": "2023-05-28T20:29:03.799Z"
   },
   {
    "duration": 290,
    "start_time": "2023-05-28T20:29:26.916Z"
   },
   {
    "duration": 6515,
    "start_time": "2023-05-28T20:31:56.466Z"
   },
   {
    "duration": 6317,
    "start_time": "2023-05-28T20:32:40.786Z"
   },
   {
    "duration": 1083,
    "start_time": "2023-05-28T20:48:38.061Z"
   },
   {
    "duration": 1458,
    "start_time": "2023-05-28T20:48:53.662Z"
   },
   {
    "duration": 6,
    "start_time": "2023-05-28T20:52:03.608Z"
   },
   {
    "duration": 38,
    "start_time": "2023-05-28T20:57:45.477Z"
   },
   {
    "duration": 64,
    "start_time": "2023-05-28T21:13:18.161Z"
   },
   {
    "duration": 294,
    "start_time": "2023-05-28T21:16:49.493Z"
   },
   {
    "duration": 202,
    "start_time": "2023-05-28T21:19:49.290Z"
   },
   {
    "duration": 6530,
    "start_time": "2023-05-28T21:23:33.457Z"
   },
   {
    "duration": 6306,
    "start_time": "2023-05-28T21:24:12.098Z"
   },
   {
    "duration": 6124,
    "start_time": "2023-05-28T21:24:48.967Z"
   },
   {
    "duration": 867,
    "start_time": "2023-05-28T21:28:25.083Z"
   },
   {
    "duration": 1065,
    "start_time": "2023-05-28T21:28:44.984Z"
   },
   {
    "duration": 1143,
    "start_time": "2023-05-28T21:29:20.341Z"
   },
   {
    "duration": 56,
    "start_time": "2023-05-28T21:37:07.261Z"
   },
   {
    "duration": 4,
    "start_time": "2023-05-28T21:40:02.821Z"
   },
   {
    "duration": 21,
    "start_time": "2023-05-28T21:40:58.199Z"
   },
   {
    "duration": 73,
    "start_time": "2023-05-28T21:41:06.692Z"
   },
   {
    "duration": 95,
    "start_time": "2023-05-28T21:41:20.898Z"
   },
   {
    "duration": 50,
    "start_time": "2023-05-28T21:42:27.399Z"
   },
   {
    "duration": 55,
    "start_time": "2023-05-28T21:42:29.607Z"
   },
   {
    "duration": 1601,
    "start_time": "2023-05-28T21:44:13.365Z"
   },
   {
    "duration": 1661,
    "start_time": "2023-05-28T21:45:06.302Z"
   },
   {
    "duration": 261,
    "start_time": "2023-05-28T21:47:38.718Z"
   },
   {
    "duration": 11246,
    "start_time": "2023-05-28T21:49:03.579Z"
   },
   {
    "duration": 12,
    "start_time": "2023-05-28T21:54:41.353Z"
   },
   {
    "duration": 56,
    "start_time": "2023-05-28T21:54:59.678Z"
   },
   {
    "duration": 110,
    "start_time": "2023-05-28T21:56:15.288Z"
   },
   {
    "duration": 3487,
    "start_time": "2023-05-28T21:58:34.661Z"
   },
   {
    "duration": 541,
    "start_time": "2023-05-28T21:59:18.303Z"
   },
   {
    "duration": 59,
    "start_time": "2023-05-28T22:06:37.889Z"
   },
   {
    "duration": 4,
    "start_time": "2023-05-28T22:08:37.518Z"
   },
   {
    "duration": 220,
    "start_time": "2023-05-28T22:08:45.953Z"
   },
   {
    "duration": 183,
    "start_time": "2023-05-28T22:10:34.668Z"
   },
   {
    "duration": 260,
    "start_time": "2023-05-28T22:12:58.341Z"
   },
   {
    "duration": 260,
    "start_time": "2023-05-28T22:13:13.538Z"
   },
   {
    "duration": 250,
    "start_time": "2023-05-28T22:13:46.918Z"
   },
   {
    "duration": 61,
    "start_time": "2023-05-28T22:16:10.453Z"
   },
   {
    "duration": 4,
    "start_time": "2023-05-28T22:16:37.754Z"
   },
   {
    "duration": 89,
    "start_time": "2023-05-28T22:19:58.883Z"
   },
   {
    "duration": 90,
    "start_time": "2023-05-28T22:20:10.840Z"
   },
   {
    "duration": 108,
    "start_time": "2023-05-28T22:20:19.643Z"
   },
   {
    "duration": 346,
    "start_time": "2023-05-28T22:23:13.708Z"
   },
   {
    "duration": 177,
    "start_time": "2023-05-28T22:23:24.383Z"
   },
   {
    "duration": 205,
    "start_time": "2023-05-28T22:25:46.282Z"
   },
   {
    "duration": 127,
    "start_time": "2023-05-28T22:34:36.336Z"
   },
   {
    "duration": 125,
    "start_time": "2023-05-28T22:36:09.406Z"
   },
   {
    "duration": 169,
    "start_time": "2023-05-28T22:36:21.541Z"
   },
   {
    "duration": 117,
    "start_time": "2023-05-28T22:36:27.310Z"
   },
   {
    "duration": 536,
    "start_time": "2023-05-28T22:36:37.287Z"
   },
   {
    "duration": 165,
    "start_time": "2023-05-28T22:37:26.259Z"
   },
   {
    "duration": 544,
    "start_time": "2023-05-28T22:37:33.280Z"
   },
   {
    "duration": 116,
    "start_time": "2023-05-28T22:39:58.560Z"
   },
   {
    "duration": 17,
    "start_time": "2023-05-28T22:40:42.358Z"
   },
   {
    "duration": 48,
    "start_time": "2023-05-28T22:41:53.387Z"
   },
   {
    "duration": 62,
    "start_time": "2023-05-28T22:49:08.910Z"
   },
   {
    "duration": 15,
    "start_time": "2023-05-28T22:54:55.709Z"
   },
   {
    "duration": 14,
    "start_time": "2023-05-28T22:55:38.529Z"
   },
   {
    "duration": 23,
    "start_time": "2023-05-28T22:56:23.393Z"
   },
   {
    "duration": 15,
    "start_time": "2023-05-28T22:58:13.790Z"
   },
   {
    "duration": 12,
    "start_time": "2023-05-28T22:59:09.987Z"
   },
   {
    "duration": 20,
    "start_time": "2023-05-28T23:00:01.912Z"
   },
   {
    "duration": 142,
    "start_time": "2023-05-28T23:00:24.459Z"
   },
   {
    "duration": 28,
    "start_time": "2023-05-28T23:02:25.595Z"
   },
   {
    "duration": 16,
    "start_time": "2023-05-28T23:04:02.199Z"
   },
   {
    "duration": 147,
    "start_time": "2023-05-28T23:04:44.025Z"
   },
   {
    "duration": 1575,
    "start_time": "2023-05-29T00:27:20.080Z"
   },
   {
    "duration": 44,
    "start_time": "2023-05-29T00:27:21.657Z"
   },
   {
    "duration": 19,
    "start_time": "2023-05-29T00:27:21.703Z"
   },
   {
    "duration": 4,
    "start_time": "2023-05-29T00:27:21.724Z"
   },
   {
    "duration": 86,
    "start_time": "2023-05-29T00:27:21.729Z"
   },
   {
    "duration": 7,
    "start_time": "2023-05-29T00:27:21.817Z"
   },
   {
    "duration": 14,
    "start_time": "2023-05-29T00:27:21.826Z"
   },
   {
    "duration": 3,
    "start_time": "2023-05-29T00:27:22.354Z"
   },
   {
    "duration": 14,
    "start_time": "2023-05-29T00:27:23.110Z"
   },
   {
    "duration": 6,
    "start_time": "2023-05-29T00:27:23.749Z"
   },
   {
    "duration": 12,
    "start_time": "2023-05-29T00:27:25.942Z"
   },
   {
    "duration": 53,
    "start_time": "2023-05-29T00:28:24.907Z"
   },
   {
    "duration": 17,
    "start_time": "2023-05-29T00:29:57.977Z"
   },
   {
    "duration": 6,
    "start_time": "2023-05-29T00:30:01.510Z"
   },
   {
    "duration": 8,
    "start_time": "2023-05-29T00:30:01.681Z"
   },
   {
    "duration": 8,
    "start_time": "2023-05-29T00:30:01.821Z"
   },
   {
    "duration": 4,
    "start_time": "2023-05-29T00:31:56.652Z"
   },
   {
    "duration": 3,
    "start_time": "2023-05-29T00:31:56.954Z"
   },
   {
    "duration": 27,
    "start_time": "2023-05-29T00:31:57.621Z"
   },
   {
    "duration": 12,
    "start_time": "2023-05-29T00:31:59.181Z"
   },
   {
    "duration": 302,
    "start_time": "2023-05-29T00:32:12.493Z"
   },
   {
    "duration": 1622,
    "start_time": "2023-05-29T00:34:01.077Z"
   },
   {
    "duration": 40,
    "start_time": "2023-05-29T00:34:02.701Z"
   },
   {
    "duration": 17,
    "start_time": "2023-05-29T00:34:02.743Z"
   },
   {
    "duration": 3,
    "start_time": "2023-05-29T00:34:02.762Z"
   },
   {
    "duration": 71,
    "start_time": "2023-05-29T00:34:02.767Z"
   },
   {
    "duration": 7,
    "start_time": "2023-05-29T00:34:02.839Z"
   },
   {
    "duration": 29,
    "start_time": "2023-05-29T00:34:02.847Z"
   },
   {
    "duration": 3,
    "start_time": "2023-05-29T00:34:02.878Z"
   },
   {
    "duration": 14,
    "start_time": "2023-05-29T00:34:02.882Z"
   },
   {
    "duration": 5,
    "start_time": "2023-05-29T00:34:02.898Z"
   },
   {
    "duration": 15,
    "start_time": "2023-05-29T00:34:02.904Z"
   },
   {
    "duration": 69,
    "start_time": "2023-05-29T00:34:02.921Z"
   },
   {
    "duration": 11,
    "start_time": "2023-05-29T00:34:02.991Z"
   },
   {
    "duration": 9,
    "start_time": "2023-05-29T00:34:03.005Z"
   },
   {
    "duration": 5,
    "start_time": "2023-05-29T00:34:03.016Z"
   },
   {
    "duration": 7,
    "start_time": "2023-05-29T00:34:03.023Z"
   },
   {
    "duration": 8,
    "start_time": "2023-05-29T00:34:03.032Z"
   },
   {
    "duration": 34,
    "start_time": "2023-05-29T00:34:03.042Z"
   },
   {
    "duration": 28,
    "start_time": "2023-05-29T00:34:03.078Z"
   },
   {
    "duration": 12,
    "start_time": "2023-05-29T00:34:03.108Z"
   },
   {
    "duration": 314,
    "start_time": "2023-05-29T00:34:03.122Z"
   },
   {
    "duration": 6137,
    "start_time": "2023-05-29T00:34:03.438Z"
   },
   {
    "duration": 1282,
    "start_time": "2023-05-29T00:34:09.577Z"
   },
   {
    "duration": 137,
    "start_time": "2023-05-29T00:34:10.860Z"
   },
   {
    "duration": 6,
    "start_time": "2023-05-29T00:34:10.999Z"
   },
   {
    "duration": 190,
    "start_time": "2023-05-29T00:34:11.007Z"
   },
   {
    "duration": 6160,
    "start_time": "2023-05-29T00:34:11.199Z"
   },
   {
    "duration": 821,
    "start_time": "2023-05-29T00:34:17.361Z"
   },
   {
    "duration": 100,
    "start_time": "2023-05-29T00:34:18.184Z"
   },
   {
    "duration": 360,
    "start_time": "2023-05-29T00:34:18.292Z"
   },
   {
    "duration": 10654,
    "start_time": "2023-05-29T00:34:18.654Z"
   },
   {
    "duration": 1593,
    "start_time": "2023-05-29T00:34:29.310Z"
   },
   {
    "duration": 173,
    "start_time": "2023-05-29T00:34:30.907Z"
   },
   {
    "duration": 110,
    "start_time": "2023-05-29T00:34:31.083Z"
   },
   {
    "duration": 3507,
    "start_time": "2023-05-29T00:34:31.198Z"
   },
   {
    "duration": 1077,
    "start_time": "2023-05-29T00:34:34.707Z"
   },
   {
    "duration": 444,
    "start_time": "2023-05-29T00:34:35.787Z"
   },
   {
    "duration": 194,
    "start_time": "2023-05-29T00:34:36.234Z"
   },
   {
    "duration": 271,
    "start_time": "2023-05-29T00:34:36.430Z"
   },
   {
    "duration": 126,
    "start_time": "2023-05-29T00:34:36.704Z"
   },
   {
    "duration": 132,
    "start_time": "2023-05-29T00:34:36.834Z"
   },
   {
    "duration": 0,
    "start_time": "2023-05-29T00:34:36.968Z"
   },
   {
    "duration": 1622,
    "start_time": "2023-05-29T00:38:04.659Z"
   },
   {
    "duration": 42,
    "start_time": "2023-05-29T00:38:06.284Z"
   },
   {
    "duration": 19,
    "start_time": "2023-05-29T00:38:06.328Z"
   },
   {
    "duration": 3,
    "start_time": "2023-05-29T00:38:06.350Z"
   },
   {
    "duration": 79,
    "start_time": "2023-05-29T00:38:06.355Z"
   },
   {
    "duration": 7,
    "start_time": "2023-05-29T00:38:06.436Z"
   },
   {
    "duration": 32,
    "start_time": "2023-05-29T00:38:06.444Z"
   },
   {
    "duration": 10,
    "start_time": "2023-05-29T00:38:06.478Z"
   },
   {
    "duration": 23,
    "start_time": "2023-05-29T00:38:06.489Z"
   },
   {
    "duration": 6,
    "start_time": "2023-05-29T00:38:06.514Z"
   },
   {
    "duration": 18,
    "start_time": "2023-05-29T00:38:06.521Z"
   },
   {
    "duration": 44,
    "start_time": "2023-05-29T00:38:06.541Z"
   },
   {
    "duration": 16,
    "start_time": "2023-05-29T00:38:06.588Z"
   },
   {
    "duration": 6,
    "start_time": "2023-05-29T00:38:06.606Z"
   },
   {
    "duration": 11,
    "start_time": "2023-05-29T00:38:06.614Z"
   },
   {
    "duration": 11,
    "start_time": "2023-05-29T00:38:06.627Z"
   },
   {
    "duration": 4,
    "start_time": "2023-05-29T00:38:06.640Z"
   },
   {
    "duration": 31,
    "start_time": "2023-05-29T00:38:06.646Z"
   },
   {
    "duration": 40,
    "start_time": "2023-05-29T00:38:06.679Z"
   },
   {
    "duration": 17,
    "start_time": "2023-05-29T00:38:06.721Z"
   },
   {
    "duration": 309,
    "start_time": "2023-05-29T00:38:06.740Z"
   },
   {
    "duration": 5950,
    "start_time": "2023-05-29T00:38:07.052Z"
   },
   {
    "duration": 1153,
    "start_time": "2023-05-29T00:38:13.003Z"
   },
   {
    "duration": 137,
    "start_time": "2023-05-29T00:38:14.157Z"
   },
   {
    "duration": 5,
    "start_time": "2023-05-29T00:38:14.296Z"
   },
   {
    "duration": 182,
    "start_time": "2023-05-29T00:38:14.303Z"
   },
   {
    "duration": 5810,
    "start_time": "2023-05-29T00:38:14.487Z"
   },
   {
    "duration": 785,
    "start_time": "2023-05-29T00:38:20.300Z"
   },
   {
    "duration": 92,
    "start_time": "2023-05-29T00:38:21.087Z"
   },
   {
    "duration": 367,
    "start_time": "2023-05-29T00:38:21.181Z"
   },
   {
    "duration": 10681,
    "start_time": "2023-05-29T00:38:21.550Z"
   },
   {
    "duration": 1657,
    "start_time": "2023-05-29T00:38:32.233Z"
   },
   {
    "duration": 104,
    "start_time": "2023-05-29T00:38:33.893Z"
   },
   {
    "duration": 117,
    "start_time": "2023-05-29T00:38:34.077Z"
   },
   {
    "duration": 3442,
    "start_time": "2023-05-29T00:38:34.196Z"
   },
   {
    "duration": 542,
    "start_time": "2023-05-29T00:38:37.639Z"
   },
   {
    "duration": 566,
    "start_time": "2023-05-29T00:38:38.185Z"
   },
   {
    "duration": 211,
    "start_time": "2023-05-29T00:38:38.753Z"
   },
   {
    "duration": 267,
    "start_time": "2023-05-29T00:38:38.965Z"
   },
   {
    "duration": 141,
    "start_time": "2023-05-29T00:38:39.234Z"
   },
   {
    "duration": 130,
    "start_time": "2023-05-29T00:38:39.377Z"
   },
   {
    "duration": 0,
    "start_time": "2023-05-29T00:38:39.509Z"
   },
   {
    "duration": 1552,
    "start_time": "2023-05-29T07:21:11.913Z"
   },
   {
    "duration": 165,
    "start_time": "2023-05-29T07:21:13.467Z"
   },
   {
    "duration": 28,
    "start_time": "2023-05-29T07:21:13.634Z"
   },
   {
    "duration": 3,
    "start_time": "2023-05-29T07:21:13.664Z"
   },
   {
    "duration": 71,
    "start_time": "2023-05-29T07:21:13.671Z"
   },
   {
    "duration": 7,
    "start_time": "2023-05-29T07:21:13.743Z"
   },
   {
    "duration": 6,
    "start_time": "2023-05-29T07:21:13.751Z"
   },
   {
    "duration": 4,
    "start_time": "2023-05-29T07:21:13.758Z"
   },
   {
    "duration": 14,
    "start_time": "2023-05-29T07:21:13.763Z"
   },
   {
    "duration": 4,
    "start_time": "2023-05-29T07:21:13.778Z"
   },
   {
    "duration": 28,
    "start_time": "2023-05-29T07:21:13.784Z"
   },
   {
    "duration": 38,
    "start_time": "2023-05-29T07:21:13.814Z"
   },
   {
    "duration": 11,
    "start_time": "2023-05-29T07:21:13.853Z"
   },
   {
    "duration": 7,
    "start_time": "2023-05-29T07:21:13.867Z"
   },
   {
    "duration": 8,
    "start_time": "2023-05-29T07:21:13.876Z"
   },
   {
    "duration": 22,
    "start_time": "2023-05-29T07:21:13.886Z"
   },
   {
    "duration": 3,
    "start_time": "2023-05-29T07:21:13.910Z"
   },
   {
    "duration": 7,
    "start_time": "2023-05-29T07:21:13.914Z"
   },
   {
    "duration": 27,
    "start_time": "2023-05-29T07:21:13.922Z"
   },
   {
    "duration": 11,
    "start_time": "2023-05-29T07:21:13.951Z"
   },
   {
    "duration": 259,
    "start_time": "2023-05-29T07:21:13.963Z"
   },
   {
    "duration": 5301,
    "start_time": "2023-05-29T07:21:14.224Z"
   },
   {
    "duration": 1249,
    "start_time": "2023-05-29T07:21:19.526Z"
   },
   {
    "duration": 143,
    "start_time": "2023-05-29T07:21:20.777Z"
   },
   {
    "duration": 5,
    "start_time": "2023-05-29T07:21:20.922Z"
   },
   {
    "duration": 175,
    "start_time": "2023-05-29T07:21:20.929Z"
   },
   {
    "duration": 5672,
    "start_time": "2023-05-29T07:21:21.107Z"
   },
   {
    "duration": 1032,
    "start_time": "2023-05-29T07:21:26.780Z"
   },
   {
    "duration": 92,
    "start_time": "2023-05-29T07:21:27.814Z"
   },
   {
    "duration": 325,
    "start_time": "2023-05-29T07:21:27.908Z"
   },
   {
    "duration": 9245,
    "start_time": "2023-05-29T07:21:28.234Z"
   },
   {
    "duration": 1638,
    "start_time": "2023-05-29T07:21:37.481Z"
   },
   {
    "duration": 91,
    "start_time": "2023-05-29T07:21:39.122Z"
   },
   {
    "duration": 163,
    "start_time": "2023-05-29T07:21:39.214Z"
   },
   {
    "duration": 3121,
    "start_time": "2023-05-29T07:21:39.379Z"
   },
   {
    "duration": 515,
    "start_time": "2023-05-29T07:21:42.501Z"
   },
   {
    "duration": 508,
    "start_time": "2023-05-29T07:21:43.021Z"
   },
   {
    "duration": 166,
    "start_time": "2023-05-29T07:21:43.531Z"
   },
   {
    "duration": 249,
    "start_time": "2023-05-29T07:21:43.698Z"
   },
   {
    "duration": 115,
    "start_time": "2023-05-29T07:21:43.949Z"
   },
   {
    "duration": 131,
    "start_time": "2023-05-29T07:21:44.069Z"
   },
   {
    "duration": 0,
    "start_time": "2023-05-29T07:21:44.202Z"
   },
   {
    "duration": 15,
    "start_time": "2023-05-29T07:22:21.356Z"
   },
   {
    "duration": 18,
    "start_time": "2023-05-29T07:22:24.299Z"
   },
   {
    "duration": 137,
    "start_time": "2023-05-29T07:22:26.321Z"
   },
   {
    "duration": 316,
    "start_time": "2023-05-29T08:03:15.698Z"
   },
   {
    "duration": 327,
    "start_time": "2023-05-29T08:04:42.601Z"
   },
   {
    "duration": 327,
    "start_time": "2023-05-29T08:05:10.425Z"
   },
   {
    "duration": 369,
    "start_time": "2023-05-29T08:05:42.393Z"
   },
   {
    "duration": 229,
    "start_time": "2023-05-29T08:07:58.365Z"
   },
   {
    "duration": 5109,
    "start_time": "2023-05-29T08:10:29.917Z"
   },
   {
    "duration": 5271,
    "start_time": "2023-05-29T08:10:51.826Z"
   },
   {
    "duration": 5125,
    "start_time": "2023-05-29T08:11:13.054Z"
   },
   {
    "duration": 5575,
    "start_time": "2023-05-29T08:12:38.961Z"
   },
   {
    "duration": 5765,
    "start_time": "2023-05-29T08:13:16.098Z"
   },
   {
    "duration": 254,
    "start_time": "2023-05-29T08:16:25.925Z"
   },
   {
    "duration": 487,
    "start_time": "2023-05-29T08:16:59.675Z"
   },
   {
    "duration": 477,
    "start_time": "2023-05-29T08:17:41.087Z"
   },
   {
    "duration": 76,
    "start_time": "2023-05-29T08:30:11.653Z"
   },
   {
    "duration": 49254,
    "start_time": "2023-05-29T08:31:07.152Z"
   },
   {
    "duration": 56231,
    "start_time": "2023-05-29T08:32:44.988Z"
   },
   {
    "duration": 1003,
    "start_time": "2023-05-29T08:33:42.561Z"
   },
   {
    "duration": 1035,
    "start_time": "2023-05-29T08:35:59.528Z"
   },
   {
    "duration": 1217,
    "start_time": "2023-05-29T08:38:13.647Z"
   },
   {
    "duration": 1938,
    "start_time": "2023-05-29T08:39:09.525Z"
   },
   {
    "duration": 5,
    "start_time": "2023-05-29T08:45:32.982Z"
   },
   {
    "duration": 5,
    "start_time": "2023-05-29T08:46:01.059Z"
   },
   {
    "duration": 6,
    "start_time": "2023-05-29T08:46:23.187Z"
   },
   {
    "duration": 84,
    "start_time": "2023-05-29T08:47:10.103Z"
   },
   {
    "duration": 14,
    "start_time": "2023-05-29T08:47:50.918Z"
   },
   {
    "duration": 6,
    "start_time": "2023-05-29T08:47:53.070Z"
   },
   {
    "duration": 6,
    "start_time": "2023-05-29T08:47:53.722Z"
   },
   {
    "duration": 5,
    "start_time": "2023-05-29T08:48:00.983Z"
   },
   {
    "duration": 10,
    "start_time": "2023-05-29T08:48:03.729Z"
   },
   {
    "duration": 6,
    "start_time": "2023-05-29T08:48:05.254Z"
   },
   {
    "duration": 13,
    "start_time": "2023-05-29T08:48:10.599Z"
   },
   {
    "duration": 4,
    "start_time": "2023-05-29T08:48:11.932Z"
   },
   {
    "duration": 5,
    "start_time": "2023-05-29T08:48:12.561Z"
   },
   {
    "duration": 189,
    "start_time": "2023-05-29T08:48:16.158Z"
   },
   {
    "duration": 7317,
    "start_time": "2023-05-29T08:48:21.600Z"
   },
   {
    "duration": 1091,
    "start_time": "2023-05-29T08:48:34.319Z"
   },
   {
    "duration": 7,
    "start_time": "2023-05-29T08:50:07.297Z"
   },
   {
    "duration": 6,
    "start_time": "2023-05-29T08:50:08.987Z"
   },
   {
    "duration": 5,
    "start_time": "2023-05-29T08:50:21.448Z"
   },
   {
    "duration": 14,
    "start_time": "2023-05-29T08:50:30.369Z"
   },
   {
    "duration": 6,
    "start_time": "2023-05-29T08:50:37.611Z"
   },
   {
    "duration": 14,
    "start_time": "2023-05-29T08:50:47.783Z"
   },
   {
    "duration": 6,
    "start_time": "2023-05-29T08:50:56.906Z"
   },
   {
    "duration": 10,
    "start_time": "2023-05-29T08:51:09.359Z"
   },
   {
    "duration": 5,
    "start_time": "2023-05-29T08:51:11.357Z"
   },
   {
    "duration": 5,
    "start_time": "2023-05-29T08:51:11.660Z"
   },
   {
    "duration": 11,
    "start_time": "2023-05-29T08:51:23.286Z"
   },
   {
    "duration": 5,
    "start_time": "2023-05-29T08:51:32.797Z"
   },
   {
    "duration": 82,
    "start_time": "2023-05-29T08:51:39.987Z"
   },
   {
    "duration": 3383,
    "start_time": "2023-05-29T08:51:44.749Z"
   },
   {
    "duration": 485,
    "start_time": "2023-05-29T08:51:50.122Z"
   },
   {
    "duration": 14,
    "start_time": "2023-05-29T08:52:38.818Z"
   },
   {
    "duration": 149,
    "start_time": "2023-05-29T08:52:42.554Z"
   },
   {
    "duration": 74,
    "start_time": "2023-05-29T08:53:08.856Z"
   },
   {
    "duration": 114,
    "start_time": "2023-05-29T08:55:15.402Z"
   },
   {
    "duration": 4,
    "start_time": "2023-05-29T09:02:42.280Z"
   },
   {
    "duration": 51,
    "start_time": "2023-05-29T09:02:42.286Z"
   },
   {
    "duration": 12,
    "start_time": "2023-05-29T09:02:42.339Z"
   },
   {
    "duration": 4,
    "start_time": "2023-05-29T09:02:42.352Z"
   },
   {
    "duration": 76,
    "start_time": "2023-05-29T09:02:42.358Z"
   },
   {
    "duration": 6,
    "start_time": "2023-05-29T09:02:42.436Z"
   },
   {
    "duration": 8,
    "start_time": "2023-05-29T09:02:42.444Z"
   },
   {
    "duration": 6,
    "start_time": "2023-05-29T09:02:42.455Z"
   },
   {
    "duration": 19,
    "start_time": "2023-05-29T09:02:42.463Z"
   },
   {
    "duration": 38,
    "start_time": "2023-05-29T09:02:42.484Z"
   },
   {
    "duration": 25,
    "start_time": "2023-05-29T09:02:42.524Z"
   },
   {
    "duration": 48,
    "start_time": "2023-05-29T09:02:42.551Z"
   },
   {
    "duration": 12,
    "start_time": "2023-05-29T09:02:42.601Z"
   },
   {
    "duration": 13,
    "start_time": "2023-05-29T09:02:42.617Z"
   },
   {
    "duration": 5,
    "start_time": "2023-05-29T09:02:42.632Z"
   },
   {
    "duration": 9,
    "start_time": "2023-05-29T09:02:42.639Z"
   },
   {
    "duration": 16,
    "start_time": "2023-05-29T09:02:42.650Z"
   },
   {
    "duration": 6,
    "start_time": "2023-05-29T09:02:42.668Z"
   },
   {
    "duration": 41,
    "start_time": "2023-05-29T09:02:42.676Z"
   },
   {
    "duration": 11,
    "start_time": "2023-05-29T09:02:42.719Z"
   },
   {
    "duration": 533,
    "start_time": "2023-05-29T09:02:42.732Z"
   },
   {
    "duration": 59419,
    "start_time": "2023-05-29T09:02:43.267Z"
   },
   {
    "duration": 1786,
    "start_time": "2023-05-29T09:03:42.688Z"
   },
   {
    "duration": 182,
    "start_time": "2023-05-29T09:03:44.478Z"
   },
   {
    "duration": 6,
    "start_time": "2023-05-29T09:03:44.662Z"
   },
   {
    "duration": 192,
    "start_time": "2023-05-29T09:03:44.670Z"
   },
   {
    "duration": 5480,
    "start_time": "2023-05-29T09:03:44.865Z"
   },
   {
    "duration": 872,
    "start_time": "2023-05-29T09:03:50.347Z"
   },
   {
    "duration": 87,
    "start_time": "2023-05-29T09:03:51.221Z"
   },
   {
    "duration": 8,
    "start_time": "2023-05-29T09:03:51.310Z"
   },
   {
    "duration": 10,
    "start_time": "2023-05-29T09:03:51.320Z"
   },
   {
    "duration": 251,
    "start_time": "2023-05-29T09:03:51.332Z"
   },
   {
    "duration": 7057,
    "start_time": "2023-05-29T09:03:51.585Z"
   },
   {
    "duration": 1164,
    "start_time": "2023-05-29T09:03:58.644Z"
   },
   {
    "duration": 97,
    "start_time": "2023-05-29T09:03:59.811Z"
   },
   {
    "duration": 6,
    "start_time": "2023-05-29T09:03:59.910Z"
   },
   {
    "duration": 15,
    "start_time": "2023-05-29T09:03:59.918Z"
   },
   {
    "duration": 106,
    "start_time": "2023-05-29T09:03:59.936Z"
   },
   {
    "duration": 3610,
    "start_time": "2023-05-29T09:04:00.043Z"
   },
   {
    "duration": 552,
    "start_time": "2023-05-29T09:04:03.654Z"
   },
   {
    "duration": 426,
    "start_time": "2023-05-29T09:04:04.209Z"
   },
   {
    "duration": 193,
    "start_time": "2023-05-29T09:04:04.637Z"
   },
   {
    "duration": 215,
    "start_time": "2023-05-29T09:04:04.832Z"
   },
   {
    "duration": 143,
    "start_time": "2023-05-29T09:04:05.049Z"
   },
   {
    "duration": 19,
    "start_time": "2023-05-29T09:04:05.194Z"
   },
   {
    "duration": 243,
    "start_time": "2023-05-29T09:04:05.217Z"
   },
   {
    "duration": 1447,
    "start_time": "2023-05-29T21:42:24.570Z"
   },
   {
    "duration": 0,
    "start_time": "2023-05-29T21:42:26.020Z"
   },
   {
    "duration": 0,
    "start_time": "2023-05-29T21:42:26.021Z"
   },
   {
    "duration": 0,
    "start_time": "2023-05-29T21:42:26.023Z"
   },
   {
    "duration": 0,
    "start_time": "2023-05-29T21:42:26.024Z"
   },
   {
    "duration": 0,
    "start_time": "2023-05-29T21:42:26.025Z"
   },
   {
    "duration": 0,
    "start_time": "2023-05-29T21:42:26.026Z"
   },
   {
    "duration": 0,
    "start_time": "2023-05-29T21:42:26.027Z"
   },
   {
    "duration": 0,
    "start_time": "2023-05-29T21:42:26.028Z"
   },
   {
    "duration": 0,
    "start_time": "2023-05-29T21:42:26.029Z"
   },
   {
    "duration": 0,
    "start_time": "2023-05-29T21:42:26.030Z"
   },
   {
    "duration": 0,
    "start_time": "2023-05-29T21:42:26.031Z"
   },
   {
    "duration": 0,
    "start_time": "2023-05-29T21:42:26.046Z"
   },
   {
    "duration": 0,
    "start_time": "2023-05-29T21:42:26.047Z"
   },
   {
    "duration": 0,
    "start_time": "2023-05-29T21:42:26.048Z"
   },
   {
    "duration": 0,
    "start_time": "2023-05-29T21:42:26.049Z"
   },
   {
    "duration": 0,
    "start_time": "2023-05-29T21:42:26.050Z"
   },
   {
    "duration": 0,
    "start_time": "2023-05-29T21:42:26.051Z"
   },
   {
    "duration": 0,
    "start_time": "2023-05-29T21:42:26.052Z"
   },
   {
    "duration": 0,
    "start_time": "2023-05-29T21:42:26.053Z"
   },
   {
    "duration": 0,
    "start_time": "2023-05-29T21:42:26.055Z"
   },
   {
    "duration": 0,
    "start_time": "2023-05-29T21:42:26.056Z"
   },
   {
    "duration": 0,
    "start_time": "2023-05-29T21:42:26.058Z"
   },
   {
    "duration": 0,
    "start_time": "2023-05-29T21:42:26.060Z"
   },
   {
    "duration": 0,
    "start_time": "2023-05-29T21:42:26.061Z"
   },
   {
    "duration": 0,
    "start_time": "2023-05-29T21:42:26.063Z"
   },
   {
    "duration": 0,
    "start_time": "2023-05-29T21:42:26.064Z"
   },
   {
    "duration": 0,
    "start_time": "2023-05-29T21:42:26.066Z"
   },
   {
    "duration": 0,
    "start_time": "2023-05-29T21:42:26.067Z"
   },
   {
    "duration": 0,
    "start_time": "2023-05-29T21:42:26.068Z"
   },
   {
    "duration": 0,
    "start_time": "2023-05-29T21:42:26.070Z"
   },
   {
    "duration": 1,
    "start_time": "2023-05-29T21:42:26.071Z"
   },
   {
    "duration": 0,
    "start_time": "2023-05-29T21:42:26.073Z"
   },
   {
    "duration": 0,
    "start_time": "2023-05-29T21:42:26.074Z"
   },
   {
    "duration": 0,
    "start_time": "2023-05-29T21:42:26.076Z"
   },
   {
    "duration": 0,
    "start_time": "2023-05-29T21:42:26.077Z"
   },
   {
    "duration": 0,
    "start_time": "2023-05-29T21:42:26.078Z"
   },
   {
    "duration": 0,
    "start_time": "2023-05-29T21:42:26.080Z"
   },
   {
    "duration": 0,
    "start_time": "2023-05-29T21:42:26.081Z"
   },
   {
    "duration": 0,
    "start_time": "2023-05-29T21:42:26.081Z"
   },
   {
    "duration": 0,
    "start_time": "2023-05-29T21:42:26.082Z"
   },
   {
    "duration": 0,
    "start_time": "2023-05-29T21:42:26.146Z"
   },
   {
    "duration": 0,
    "start_time": "2023-05-29T21:42:26.147Z"
   },
   {
    "duration": 0,
    "start_time": "2023-05-29T21:42:26.148Z"
   },
   {
    "duration": 0,
    "start_time": "2023-05-29T21:42:26.150Z"
   },
   {
    "duration": 0,
    "start_time": "2023-05-29T21:42:26.151Z"
   },
   {
    "duration": 1289,
    "start_time": "2023-05-29T21:42:59.599Z"
   },
   {
    "duration": 43,
    "start_time": "2023-05-29T21:43:00.890Z"
   },
   {
    "duration": 26,
    "start_time": "2023-05-29T21:43:00.935Z"
   },
   {
    "duration": 17,
    "start_time": "2023-05-29T21:43:00.965Z"
   },
   {
    "duration": 148,
    "start_time": "2023-05-29T21:43:00.985Z"
   },
   {
    "duration": 19,
    "start_time": "2023-05-29T21:43:01.135Z"
   },
   {
    "duration": 125,
    "start_time": "2023-05-29T21:43:01.157Z"
   },
   {
    "duration": 61,
    "start_time": "2023-05-29T21:43:01.285Z"
   },
   {
    "duration": 124,
    "start_time": "2023-05-29T21:43:01.348Z"
   },
   {
    "duration": 89,
    "start_time": "2023-05-29T21:43:01.476Z"
   },
   {
    "duration": 65,
    "start_time": "2023-05-29T21:43:01.567Z"
   },
   {
    "duration": 219,
    "start_time": "2023-05-29T21:43:01.634Z"
   },
   {
    "duration": 0,
    "start_time": "2023-05-29T21:43:01.858Z"
   },
   {
    "duration": 0,
    "start_time": "2023-05-29T21:43:01.861Z"
   },
   {
    "duration": 0,
    "start_time": "2023-05-29T21:43:01.863Z"
   },
   {
    "duration": 0,
    "start_time": "2023-05-29T21:43:01.864Z"
   },
   {
    "duration": 0,
    "start_time": "2023-05-29T21:43:01.866Z"
   },
   {
    "duration": 0,
    "start_time": "2023-05-29T21:43:01.867Z"
   },
   {
    "duration": 0,
    "start_time": "2023-05-29T21:43:01.868Z"
   },
   {
    "duration": 0,
    "start_time": "2023-05-29T21:43:01.869Z"
   },
   {
    "duration": 0,
    "start_time": "2023-05-29T21:43:01.871Z"
   },
   {
    "duration": 0,
    "start_time": "2023-05-29T21:43:01.872Z"
   },
   {
    "duration": 0,
    "start_time": "2023-05-29T21:43:01.873Z"
   },
   {
    "duration": 0,
    "start_time": "2023-05-29T21:43:01.874Z"
   },
   {
    "duration": 0,
    "start_time": "2023-05-29T21:43:01.876Z"
   },
   {
    "duration": 0,
    "start_time": "2023-05-29T21:43:01.877Z"
   },
   {
    "duration": 0,
    "start_time": "2023-05-29T21:43:01.879Z"
   },
   {
    "duration": 0,
    "start_time": "2023-05-29T21:43:01.880Z"
   },
   {
    "duration": 0,
    "start_time": "2023-05-29T21:43:01.883Z"
   },
   {
    "duration": 0,
    "start_time": "2023-05-29T21:43:01.884Z"
   },
   {
    "duration": 0,
    "start_time": "2023-05-29T21:43:01.886Z"
   },
   {
    "duration": 0,
    "start_time": "2023-05-29T21:43:01.888Z"
   },
   {
    "duration": 0,
    "start_time": "2023-05-29T21:43:01.890Z"
   },
   {
    "duration": 0,
    "start_time": "2023-05-29T21:43:01.892Z"
   },
   {
    "duration": 1,
    "start_time": "2023-05-29T21:43:01.893Z"
   },
   {
    "duration": 0,
    "start_time": "2023-05-29T21:43:01.946Z"
   },
   {
    "duration": 0,
    "start_time": "2023-05-29T21:43:01.948Z"
   },
   {
    "duration": 0,
    "start_time": "2023-05-29T21:43:01.950Z"
   },
   {
    "duration": 0,
    "start_time": "2023-05-29T21:43:01.952Z"
   },
   {
    "duration": 0,
    "start_time": "2023-05-29T21:43:01.954Z"
   },
   {
    "duration": 0,
    "start_time": "2023-05-29T21:43:01.956Z"
   },
   {
    "duration": 0,
    "start_time": "2023-05-29T21:43:01.958Z"
   },
   {
    "duration": 0,
    "start_time": "2023-05-29T21:43:01.959Z"
   },
   {
    "duration": 0,
    "start_time": "2023-05-29T21:43:01.961Z"
   },
   {
    "duration": 0,
    "start_time": "2023-05-29T21:43:01.963Z"
   },
   {
    "duration": 1,
    "start_time": "2023-05-29T21:43:01.964Z"
   },
   {
    "duration": 46,
    "start_time": "2023-05-29T21:47:02.506Z"
   },
   {
    "duration": 49,
    "start_time": "2023-05-29T21:47:13.271Z"
   },
   {
    "duration": 1304,
    "start_time": "2023-05-29T21:47:57.691Z"
   },
   {
    "duration": 54,
    "start_time": "2023-05-29T21:47:58.998Z"
   },
   {
    "duration": 19,
    "start_time": "2023-05-29T21:47:59.053Z"
   },
   {
    "duration": 12,
    "start_time": "2023-05-29T21:47:59.075Z"
   },
   {
    "duration": 92,
    "start_time": "2023-05-29T21:47:59.088Z"
   },
   {
    "duration": 8,
    "start_time": "2023-05-29T21:47:59.182Z"
   },
   {
    "duration": 30,
    "start_time": "2023-05-29T21:47:59.192Z"
   },
   {
    "duration": 34,
    "start_time": "2023-05-29T21:47:59.225Z"
   },
   {
    "duration": 31,
    "start_time": "2023-05-29T21:47:59.261Z"
   },
   {
    "duration": 24,
    "start_time": "2023-05-29T21:47:59.296Z"
   },
   {
    "duration": 27,
    "start_time": "2023-05-29T21:47:59.322Z"
   },
   {
    "duration": 44,
    "start_time": "2023-05-29T21:47:59.351Z"
   },
   {
    "duration": 12,
    "start_time": "2023-05-29T21:47:59.397Z"
   },
   {
    "duration": 25,
    "start_time": "2023-05-29T21:47:59.411Z"
   },
   {
    "duration": 16,
    "start_time": "2023-05-29T21:47:59.437Z"
   },
   {
    "duration": 16,
    "start_time": "2023-05-29T21:47:59.455Z"
   },
   {
    "duration": 36,
    "start_time": "2023-05-29T21:47:59.473Z"
   },
   {
    "duration": 31,
    "start_time": "2023-05-29T21:47:59.510Z"
   },
   {
    "duration": 46,
    "start_time": "2023-05-29T21:47:59.542Z"
   },
   {
    "duration": 15,
    "start_time": "2023-05-29T21:47:59.590Z"
   },
   {
    "duration": 642,
    "start_time": "2023-05-29T21:47:59.607Z"
   },
   {
    "duration": 75365,
    "start_time": "2023-05-29T21:48:00.251Z"
   },
   {
    "duration": 2838,
    "start_time": "2023-05-29T21:49:15.618Z"
   },
   {
    "duration": 155,
    "start_time": "2023-05-29T21:49:18.458Z"
   },
   {
    "duration": 8,
    "start_time": "2023-05-29T21:49:18.614Z"
   },
   {
    "duration": 217,
    "start_time": "2023-05-29T21:49:18.624Z"
   },
   {
    "duration": 7103,
    "start_time": "2023-05-29T21:49:18.846Z"
   },
   {
    "duration": 1193,
    "start_time": "2023-05-29T21:49:25.954Z"
   },
   {
    "duration": 99,
    "start_time": "2023-05-29T21:49:27.154Z"
   },
   {
    "duration": 15,
    "start_time": "2023-05-29T21:49:27.255Z"
   },
   {
    "duration": 17,
    "start_time": "2023-05-29T21:49:27.272Z"
   },
   {
    "duration": 246,
    "start_time": "2023-05-29T21:49:27.291Z"
   },
   {
    "duration": 9280,
    "start_time": "2023-05-29T21:49:27.539Z"
   },
   {
    "duration": 1635,
    "start_time": "2023-05-29T21:49:36.821Z"
   },
   {
    "duration": 98,
    "start_time": "2023-05-29T21:49:38.459Z"
   },
   {
    "duration": 99,
    "start_time": "2023-05-29T21:49:38.562Z"
   },
   {
    "duration": 9,
    "start_time": "2023-05-29T21:49:38.663Z"
   },
   {
    "duration": 118,
    "start_time": "2023-05-29T21:49:38.674Z"
   },
   {
    "duration": 4785,
    "start_time": "2023-05-29T21:49:38.794Z"
   },
   {
    "duration": 771,
    "start_time": "2023-05-29T21:49:43.581Z"
   },
   {
    "duration": 610,
    "start_time": "2023-05-29T21:49:44.357Z"
   },
   {
    "duration": 233,
    "start_time": "2023-05-29T21:49:44.969Z"
   },
   {
    "duration": 249,
    "start_time": "2023-05-29T21:49:45.204Z"
   },
   {
    "duration": 140,
    "start_time": "2023-05-29T21:49:45.455Z"
   },
   {
    "duration": 17,
    "start_time": "2023-05-29T21:49:45.597Z"
   },
   {
    "duration": 152,
    "start_time": "2023-05-29T21:49:45.616Z"
   }
  ],
  "colab": {
   "provenance": []
  },
  "kernelspec": {
   "display_name": "Python 3 (ipykernel)",
   "language": "python",
   "name": "python3"
  },
  "language_info": {
   "codemirror_mode": {
    "name": "ipython",
    "version": 3
   },
   "file_extension": ".py",
   "mimetype": "text/x-python",
   "name": "python",
   "nbconvert_exporter": "python",
   "pygments_lexer": "ipython3",
   "version": "3.9.13"
  },
  "toc": {
   "base_numbering": 1,
   "nav_menu": {},
   "number_sections": true,
   "sideBar": true,
   "skip_h1_title": true,
   "title_cell": "Содержание",
   "title_sidebar": "Contents",
   "toc_cell": true,
   "toc_position": {
    "height": "calc(100% - 180px)",
    "left": "10px",
    "top": "150px",
    "width": "342.431px"
   },
   "toc_section_display": true,
   "toc_window_display": true
  }
 },
 "nbformat": 4,
 "nbformat_minor": 1
}
