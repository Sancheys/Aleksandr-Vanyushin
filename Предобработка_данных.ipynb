{
  "cells": [
    {
      "cell_type": "markdown",
      "id": "8cce068c",
      "metadata": {
        "deletable": false,
        "editable": false,
        "id": "8cce068c"
      },
      "source": [
        "# Исследование надежности заемщиков\n"
      ]
    },
    {
      "cell_type": "markdown",
      "id": "1d8703dd",
      "metadata": {
        "deletable": false,
        "editable": false,
        "id": "1d8703dd"
      },
      "source": [
        "## Откройте таблицу и изучите общую информацию о данных"
      ]
    },
    {
      "cell_type": "code",
      "execution_count": 1,
      "id": "8030e273",
      "metadata": {
        "deletable": false,
        "id": "8030e273"
      },
      "outputs": [],
      "source": [
        "import pandas as pd\n",
        "\n",
        "try:\n",
        "    data = pd.read_csv('/datasets/data.csv')\n",
        "except:\n",
        "    data = pd.read_csv('https://code.s3.yandex.net/datasets/data.csv')"
      ]
    },
    {
      "cell_type": "code",
      "execution_count": 2,
      "id": "c61d68e9",
      "metadata": {
        "deletable": false,
        "id": "c61d68e9",
        "outputId": "0c38fc27-e2e3-4a22-fd5b-aefa6ddef0f1",
        "colab": {
          "base_uri": "https://localhost:8080/",
          "height": 677
        }
      },
      "outputs": [
        {
          "output_type": "execute_result",
          "data": {
            "text/plain": [
              "    children  days_employed  dob_years            education  education_id  \\\n",
              "0          1   -8437.673028         42               высшее             0   \n",
              "1          1   -4024.803754         36              среднее             1   \n",
              "2          0   -5623.422610         33              Среднее             1   \n",
              "3          3   -4124.747207         32              среднее             1   \n",
              "4          0  340266.072047         53              среднее             1   \n",
              "5          0    -926.185831         27               высшее             0   \n",
              "6          0   -2879.202052         43               высшее             0   \n",
              "7          0    -152.779569         50              СРЕДНЕЕ             1   \n",
              "8          2   -6929.865299         35               ВЫСШЕЕ             0   \n",
              "9          0   -2188.756445         41              среднее             1   \n",
              "10         2   -4171.483647         36               высшее             0   \n",
              "11         0    -792.701887         40              среднее             1   \n",
              "12         0            NaN         65              среднее             1   \n",
              "13         0   -1846.641941         54  неоконченное высшее             2   \n",
              "14         0   -1844.956182         56               высшее             0   \n",
              "15         1    -972.364419         26              среднее             1   \n",
              "16         0   -1719.934226         35              среднее             1   \n",
              "17         0   -2369.999720         33               высшее             0   \n",
              "18         0  400281.136913         53              среднее             1   \n",
              "19         0  -10038.818549         48              СРЕДНЕЕ             1   \n",
              "\n",
              "       family_status  family_status_id gender income_type  debt  \\\n",
              "0    женат / замужем                 0      F   сотрудник     0   \n",
              "1    женат / замужем                 0      F   сотрудник     0   \n",
              "2    женат / замужем                 0      M   сотрудник     0   \n",
              "3    женат / замужем                 0      M   сотрудник     0   \n",
              "4   гражданский брак                 1      F   пенсионер     0   \n",
              "5   гражданский брак                 1      M   компаньон     0   \n",
              "6    женат / замужем                 0      F   компаньон     0   \n",
              "7    женат / замужем                 0      M   сотрудник     0   \n",
              "8   гражданский брак                 1      F   сотрудник     0   \n",
              "9    женат / замужем                 0      M   сотрудник     0   \n",
              "10   женат / замужем                 0      M   компаньон     0   \n",
              "11   женат / замужем                 0      F   сотрудник     0   \n",
              "12  гражданский брак                 1      M   пенсионер     0   \n",
              "13   женат / замужем                 0      F   сотрудник     0   \n",
              "14  гражданский брак                 1      F   компаньон     1   \n",
              "15   женат / замужем                 0      F   сотрудник     0   \n",
              "16   женат / замужем                 0      F   сотрудник     0   \n",
              "17  гражданский брак                 1      M   сотрудник     0   \n",
              "18    вдовец / вдова                 2      F   пенсионер     0   \n",
              "19         в разводе                 3      F   сотрудник     0   \n",
              "\n",
              "     total_income                                 purpose  \n",
              "0   253875.639453                           покупка жилья  \n",
              "1   112080.014102                 приобретение автомобиля  \n",
              "2   145885.952297                           покупка жилья  \n",
              "3   267628.550329              дополнительное образование  \n",
              "4   158616.077870                         сыграть свадьбу  \n",
              "5   255763.565419                           покупка жилья  \n",
              "6   240525.971920                       операции с жильем  \n",
              "7   135823.934197                             образование  \n",
              "8    95856.832424                   на проведение свадьбы  \n",
              "9   144425.938277                 покупка жилья для семьи  \n",
              "10  113943.491460                    покупка недвижимости  \n",
              "11   77069.234271       покупка коммерческой недвижимости  \n",
              "12            NaN                         сыграть свадьбу  \n",
              "13  130458.228857                 приобретение автомобиля  \n",
              "14  165127.911772              покупка жилой недвижимости  \n",
              "15  116820.904450  строительство собственной недвижимости  \n",
              "16  289202.704229                            недвижимость  \n",
              "17   90410.586745              строительство недвижимости  \n",
              "18   56823.777243      на покупку подержанного автомобиля  \n",
              "19  242831.107982            на покупку своего автомобиля  "
            ],
            "text/html": [
              "\n",
              "  <div id=\"df-19f6a760-0299-4436-b75e-bf63aa8247a0\" class=\"colab-df-container\">\n",
              "    <div>\n",
              "<style scoped>\n",
              "    .dataframe tbody tr th:only-of-type {\n",
              "        vertical-align: middle;\n",
              "    }\n",
              "\n",
              "    .dataframe tbody tr th {\n",
              "        vertical-align: top;\n",
              "    }\n",
              "\n",
              "    .dataframe thead th {\n",
              "        text-align: right;\n",
              "    }\n",
              "</style>\n",
              "<table border=\"1\" class=\"dataframe\">\n",
              "  <thead>\n",
              "    <tr style=\"text-align: right;\">\n",
              "      <th></th>\n",
              "      <th>children</th>\n",
              "      <th>days_employed</th>\n",
              "      <th>dob_years</th>\n",
              "      <th>education</th>\n",
              "      <th>education_id</th>\n",
              "      <th>family_status</th>\n",
              "      <th>family_status_id</th>\n",
              "      <th>gender</th>\n",
              "      <th>income_type</th>\n",
              "      <th>debt</th>\n",
              "      <th>total_income</th>\n",
              "      <th>purpose</th>\n",
              "    </tr>\n",
              "  </thead>\n",
              "  <tbody>\n",
              "    <tr>\n",
              "      <th>0</th>\n",
              "      <td>1</td>\n",
              "      <td>-8437.673028</td>\n",
              "      <td>42</td>\n",
              "      <td>высшее</td>\n",
              "      <td>0</td>\n",
              "      <td>женат / замужем</td>\n",
              "      <td>0</td>\n",
              "      <td>F</td>\n",
              "      <td>сотрудник</td>\n",
              "      <td>0</td>\n",
              "      <td>253875.639453</td>\n",
              "      <td>покупка жилья</td>\n",
              "    </tr>\n",
              "    <tr>\n",
              "      <th>1</th>\n",
              "      <td>1</td>\n",
              "      <td>-4024.803754</td>\n",
              "      <td>36</td>\n",
              "      <td>среднее</td>\n",
              "      <td>1</td>\n",
              "      <td>женат / замужем</td>\n",
              "      <td>0</td>\n",
              "      <td>F</td>\n",
              "      <td>сотрудник</td>\n",
              "      <td>0</td>\n",
              "      <td>112080.014102</td>\n",
              "      <td>приобретение автомобиля</td>\n",
              "    </tr>\n",
              "    <tr>\n",
              "      <th>2</th>\n",
              "      <td>0</td>\n",
              "      <td>-5623.422610</td>\n",
              "      <td>33</td>\n",
              "      <td>Среднее</td>\n",
              "      <td>1</td>\n",
              "      <td>женат / замужем</td>\n",
              "      <td>0</td>\n",
              "      <td>M</td>\n",
              "      <td>сотрудник</td>\n",
              "      <td>0</td>\n",
              "      <td>145885.952297</td>\n",
              "      <td>покупка жилья</td>\n",
              "    </tr>\n",
              "    <tr>\n",
              "      <th>3</th>\n",
              "      <td>3</td>\n",
              "      <td>-4124.747207</td>\n",
              "      <td>32</td>\n",
              "      <td>среднее</td>\n",
              "      <td>1</td>\n",
              "      <td>женат / замужем</td>\n",
              "      <td>0</td>\n",
              "      <td>M</td>\n",
              "      <td>сотрудник</td>\n",
              "      <td>0</td>\n",
              "      <td>267628.550329</td>\n",
              "      <td>дополнительное образование</td>\n",
              "    </tr>\n",
              "    <tr>\n",
              "      <th>4</th>\n",
              "      <td>0</td>\n",
              "      <td>340266.072047</td>\n",
              "      <td>53</td>\n",
              "      <td>среднее</td>\n",
              "      <td>1</td>\n",
              "      <td>гражданский брак</td>\n",
              "      <td>1</td>\n",
              "      <td>F</td>\n",
              "      <td>пенсионер</td>\n",
              "      <td>0</td>\n",
              "      <td>158616.077870</td>\n",
              "      <td>сыграть свадьбу</td>\n",
              "    </tr>\n",
              "    <tr>\n",
              "      <th>5</th>\n",
              "      <td>0</td>\n",
              "      <td>-926.185831</td>\n",
              "      <td>27</td>\n",
              "      <td>высшее</td>\n",
              "      <td>0</td>\n",
              "      <td>гражданский брак</td>\n",
              "      <td>1</td>\n",
              "      <td>M</td>\n",
              "      <td>компаньон</td>\n",
              "      <td>0</td>\n",
              "      <td>255763.565419</td>\n",
              "      <td>покупка жилья</td>\n",
              "    </tr>\n",
              "    <tr>\n",
              "      <th>6</th>\n",
              "      <td>0</td>\n",
              "      <td>-2879.202052</td>\n",
              "      <td>43</td>\n",
              "      <td>высшее</td>\n",
              "      <td>0</td>\n",
              "      <td>женат / замужем</td>\n",
              "      <td>0</td>\n",
              "      <td>F</td>\n",
              "      <td>компаньон</td>\n",
              "      <td>0</td>\n",
              "      <td>240525.971920</td>\n",
              "      <td>операции с жильем</td>\n",
              "    </tr>\n",
              "    <tr>\n",
              "      <th>7</th>\n",
              "      <td>0</td>\n",
              "      <td>-152.779569</td>\n",
              "      <td>50</td>\n",
              "      <td>СРЕДНЕЕ</td>\n",
              "      <td>1</td>\n",
              "      <td>женат / замужем</td>\n",
              "      <td>0</td>\n",
              "      <td>M</td>\n",
              "      <td>сотрудник</td>\n",
              "      <td>0</td>\n",
              "      <td>135823.934197</td>\n",
              "      <td>образование</td>\n",
              "    </tr>\n",
              "    <tr>\n",
              "      <th>8</th>\n",
              "      <td>2</td>\n",
              "      <td>-6929.865299</td>\n",
              "      <td>35</td>\n",
              "      <td>ВЫСШЕЕ</td>\n",
              "      <td>0</td>\n",
              "      <td>гражданский брак</td>\n",
              "      <td>1</td>\n",
              "      <td>F</td>\n",
              "      <td>сотрудник</td>\n",
              "      <td>0</td>\n",
              "      <td>95856.832424</td>\n",
              "      <td>на проведение свадьбы</td>\n",
              "    </tr>\n",
              "    <tr>\n",
              "      <th>9</th>\n",
              "      <td>0</td>\n",
              "      <td>-2188.756445</td>\n",
              "      <td>41</td>\n",
              "      <td>среднее</td>\n",
              "      <td>1</td>\n",
              "      <td>женат / замужем</td>\n",
              "      <td>0</td>\n",
              "      <td>M</td>\n",
              "      <td>сотрудник</td>\n",
              "      <td>0</td>\n",
              "      <td>144425.938277</td>\n",
              "      <td>покупка жилья для семьи</td>\n",
              "    </tr>\n",
              "    <tr>\n",
              "      <th>10</th>\n",
              "      <td>2</td>\n",
              "      <td>-4171.483647</td>\n",
              "      <td>36</td>\n",
              "      <td>высшее</td>\n",
              "      <td>0</td>\n",
              "      <td>женат / замужем</td>\n",
              "      <td>0</td>\n",
              "      <td>M</td>\n",
              "      <td>компаньон</td>\n",
              "      <td>0</td>\n",
              "      <td>113943.491460</td>\n",
              "      <td>покупка недвижимости</td>\n",
              "    </tr>\n",
              "    <tr>\n",
              "      <th>11</th>\n",
              "      <td>0</td>\n",
              "      <td>-792.701887</td>\n",
              "      <td>40</td>\n",
              "      <td>среднее</td>\n",
              "      <td>1</td>\n",
              "      <td>женат / замужем</td>\n",
              "      <td>0</td>\n",
              "      <td>F</td>\n",
              "      <td>сотрудник</td>\n",
              "      <td>0</td>\n",
              "      <td>77069.234271</td>\n",
              "      <td>покупка коммерческой недвижимости</td>\n",
              "    </tr>\n",
              "    <tr>\n",
              "      <th>12</th>\n",
              "      <td>0</td>\n",
              "      <td>NaN</td>\n",
              "      <td>65</td>\n",
              "      <td>среднее</td>\n",
              "      <td>1</td>\n",
              "      <td>гражданский брак</td>\n",
              "      <td>1</td>\n",
              "      <td>M</td>\n",
              "      <td>пенсионер</td>\n",
              "      <td>0</td>\n",
              "      <td>NaN</td>\n",
              "      <td>сыграть свадьбу</td>\n",
              "    </tr>\n",
              "    <tr>\n",
              "      <th>13</th>\n",
              "      <td>0</td>\n",
              "      <td>-1846.641941</td>\n",
              "      <td>54</td>\n",
              "      <td>неоконченное высшее</td>\n",
              "      <td>2</td>\n",
              "      <td>женат / замужем</td>\n",
              "      <td>0</td>\n",
              "      <td>F</td>\n",
              "      <td>сотрудник</td>\n",
              "      <td>0</td>\n",
              "      <td>130458.228857</td>\n",
              "      <td>приобретение автомобиля</td>\n",
              "    </tr>\n",
              "    <tr>\n",
              "      <th>14</th>\n",
              "      <td>0</td>\n",
              "      <td>-1844.956182</td>\n",
              "      <td>56</td>\n",
              "      <td>высшее</td>\n",
              "      <td>0</td>\n",
              "      <td>гражданский брак</td>\n",
              "      <td>1</td>\n",
              "      <td>F</td>\n",
              "      <td>компаньон</td>\n",
              "      <td>1</td>\n",
              "      <td>165127.911772</td>\n",
              "      <td>покупка жилой недвижимости</td>\n",
              "    </tr>\n",
              "    <tr>\n",
              "      <th>15</th>\n",
              "      <td>1</td>\n",
              "      <td>-972.364419</td>\n",
              "      <td>26</td>\n",
              "      <td>среднее</td>\n",
              "      <td>1</td>\n",
              "      <td>женат / замужем</td>\n",
              "      <td>0</td>\n",
              "      <td>F</td>\n",
              "      <td>сотрудник</td>\n",
              "      <td>0</td>\n",
              "      <td>116820.904450</td>\n",
              "      <td>строительство собственной недвижимости</td>\n",
              "    </tr>\n",
              "    <tr>\n",
              "      <th>16</th>\n",
              "      <td>0</td>\n",
              "      <td>-1719.934226</td>\n",
              "      <td>35</td>\n",
              "      <td>среднее</td>\n",
              "      <td>1</td>\n",
              "      <td>женат / замужем</td>\n",
              "      <td>0</td>\n",
              "      <td>F</td>\n",
              "      <td>сотрудник</td>\n",
              "      <td>0</td>\n",
              "      <td>289202.704229</td>\n",
              "      <td>недвижимость</td>\n",
              "    </tr>\n",
              "    <tr>\n",
              "      <th>17</th>\n",
              "      <td>0</td>\n",
              "      <td>-2369.999720</td>\n",
              "      <td>33</td>\n",
              "      <td>высшее</td>\n",
              "      <td>0</td>\n",
              "      <td>гражданский брак</td>\n",
              "      <td>1</td>\n",
              "      <td>M</td>\n",
              "      <td>сотрудник</td>\n",
              "      <td>0</td>\n",
              "      <td>90410.586745</td>\n",
              "      <td>строительство недвижимости</td>\n",
              "    </tr>\n",
              "    <tr>\n",
              "      <th>18</th>\n",
              "      <td>0</td>\n",
              "      <td>400281.136913</td>\n",
              "      <td>53</td>\n",
              "      <td>среднее</td>\n",
              "      <td>1</td>\n",
              "      <td>вдовец / вдова</td>\n",
              "      <td>2</td>\n",
              "      <td>F</td>\n",
              "      <td>пенсионер</td>\n",
              "      <td>0</td>\n",
              "      <td>56823.777243</td>\n",
              "      <td>на покупку подержанного автомобиля</td>\n",
              "    </tr>\n",
              "    <tr>\n",
              "      <th>19</th>\n",
              "      <td>0</td>\n",
              "      <td>-10038.818549</td>\n",
              "      <td>48</td>\n",
              "      <td>СРЕДНЕЕ</td>\n",
              "      <td>1</td>\n",
              "      <td>в разводе</td>\n",
              "      <td>3</td>\n",
              "      <td>F</td>\n",
              "      <td>сотрудник</td>\n",
              "      <td>0</td>\n",
              "      <td>242831.107982</td>\n",
              "      <td>на покупку своего автомобиля</td>\n",
              "    </tr>\n",
              "  </tbody>\n",
              "</table>\n",
              "</div>\n",
              "    <div class=\"colab-df-buttons\">\n",
              "\n",
              "  <div class=\"colab-df-container\">\n",
              "    <button class=\"colab-df-convert\" onclick=\"convertToInteractive('df-19f6a760-0299-4436-b75e-bf63aa8247a0')\"\n",
              "            title=\"Convert this dataframe to an interactive table.\"\n",
              "            style=\"display:none;\">\n",
              "\n",
              "  <svg xmlns=\"http://www.w3.org/2000/svg\" height=\"24px\" viewBox=\"0 -960 960 960\">\n",
              "    <path d=\"M120-120v-720h720v720H120Zm60-500h600v-160H180v160Zm220 220h160v-160H400v160Zm0 220h160v-160H400v160ZM180-400h160v-160H180v160Zm440 0h160v-160H620v160ZM180-180h160v-160H180v160Zm440 0h160v-160H620v160Z\"/>\n",
              "  </svg>\n",
              "    </button>\n",
              "\n",
              "  <style>\n",
              "    .colab-df-container {\n",
              "      display:flex;\n",
              "      gap: 12px;\n",
              "    }\n",
              "\n",
              "    .colab-df-convert {\n",
              "      background-color: #E8F0FE;\n",
              "      border: none;\n",
              "      border-radius: 50%;\n",
              "      cursor: pointer;\n",
              "      display: none;\n",
              "      fill: #1967D2;\n",
              "      height: 32px;\n",
              "      padding: 0 0 0 0;\n",
              "      width: 32px;\n",
              "    }\n",
              "\n",
              "    .colab-df-convert:hover {\n",
              "      background-color: #E2EBFA;\n",
              "      box-shadow: 0px 1px 2px rgba(60, 64, 67, 0.3), 0px 1px 3px 1px rgba(60, 64, 67, 0.15);\n",
              "      fill: #174EA6;\n",
              "    }\n",
              "\n",
              "    .colab-df-buttons div {\n",
              "      margin-bottom: 4px;\n",
              "    }\n",
              "\n",
              "    [theme=dark] .colab-df-convert {\n",
              "      background-color: #3B4455;\n",
              "      fill: #D2E3FC;\n",
              "    }\n",
              "\n",
              "    [theme=dark] .colab-df-convert:hover {\n",
              "      background-color: #434B5C;\n",
              "      box-shadow: 0px 1px 3px 1px rgba(0, 0, 0, 0.15);\n",
              "      filter: drop-shadow(0px 1px 2px rgba(0, 0, 0, 0.3));\n",
              "      fill: #FFFFFF;\n",
              "    }\n",
              "  </style>\n",
              "\n",
              "    <script>\n",
              "      const buttonEl =\n",
              "        document.querySelector('#df-19f6a760-0299-4436-b75e-bf63aa8247a0 button.colab-df-convert');\n",
              "      buttonEl.style.display =\n",
              "        google.colab.kernel.accessAllowed ? 'block' : 'none';\n",
              "\n",
              "      async function convertToInteractive(key) {\n",
              "        const element = document.querySelector('#df-19f6a760-0299-4436-b75e-bf63aa8247a0');\n",
              "        const dataTable =\n",
              "          await google.colab.kernel.invokeFunction('convertToInteractive',\n",
              "                                                    [key], {});\n",
              "        if (!dataTable) return;\n",
              "\n",
              "        const docLinkHtml = 'Like what you see? Visit the ' +\n",
              "          '<a target=\"_blank\" href=https://colab.research.google.com/notebooks/data_table.ipynb>data table notebook</a>'\n",
              "          + ' to learn more about interactive tables.';\n",
              "        element.innerHTML = '';\n",
              "        dataTable['output_type'] = 'display_data';\n",
              "        await google.colab.output.renderOutput(dataTable, element);\n",
              "        const docLink = document.createElement('div');\n",
              "        docLink.innerHTML = docLinkHtml;\n",
              "        element.appendChild(docLink);\n",
              "      }\n",
              "    </script>\n",
              "  </div>\n",
              "\n",
              "\n",
              "<div id=\"df-547b1ed3-8072-45bd-8117-b6b9ce8ed0a2\">\n",
              "  <button class=\"colab-df-quickchart\" onclick=\"quickchart('df-547b1ed3-8072-45bd-8117-b6b9ce8ed0a2')\"\n",
              "            title=\"Suggest charts\"\n",
              "            style=\"display:none;\">\n",
              "\n",
              "<svg xmlns=\"http://www.w3.org/2000/svg\" height=\"24px\"viewBox=\"0 0 24 24\"\n",
              "     width=\"24px\">\n",
              "    <g>\n",
              "        <path d=\"M19 3H5c-1.1 0-2 .9-2 2v14c0 1.1.9 2 2 2h14c1.1 0 2-.9 2-2V5c0-1.1-.9-2-2-2zM9 17H7v-7h2v7zm4 0h-2V7h2v10zm4 0h-2v-4h2v4z\"/>\n",
              "    </g>\n",
              "</svg>\n",
              "  </button>\n",
              "\n",
              "<style>\n",
              "  .colab-df-quickchart {\n",
              "      --bg-color: #E8F0FE;\n",
              "      --fill-color: #1967D2;\n",
              "      --hover-bg-color: #E2EBFA;\n",
              "      --hover-fill-color: #174EA6;\n",
              "      --disabled-fill-color: #AAA;\n",
              "      --disabled-bg-color: #DDD;\n",
              "  }\n",
              "\n",
              "  [theme=dark] .colab-df-quickchart {\n",
              "      --bg-color: #3B4455;\n",
              "      --fill-color: #D2E3FC;\n",
              "      --hover-bg-color: #434B5C;\n",
              "      --hover-fill-color: #FFFFFF;\n",
              "      --disabled-bg-color: #3B4455;\n",
              "      --disabled-fill-color: #666;\n",
              "  }\n",
              "\n",
              "  .colab-df-quickchart {\n",
              "    background-color: var(--bg-color);\n",
              "    border: none;\n",
              "    border-radius: 50%;\n",
              "    cursor: pointer;\n",
              "    display: none;\n",
              "    fill: var(--fill-color);\n",
              "    height: 32px;\n",
              "    padding: 0;\n",
              "    width: 32px;\n",
              "  }\n",
              "\n",
              "  .colab-df-quickchart:hover {\n",
              "    background-color: var(--hover-bg-color);\n",
              "    box-shadow: 0 1px 2px rgba(60, 64, 67, 0.3), 0 1px 3px 1px rgba(60, 64, 67, 0.15);\n",
              "    fill: var(--button-hover-fill-color);\n",
              "  }\n",
              "\n",
              "  .colab-df-quickchart-complete:disabled,\n",
              "  .colab-df-quickchart-complete:disabled:hover {\n",
              "    background-color: var(--disabled-bg-color);\n",
              "    fill: var(--disabled-fill-color);\n",
              "    box-shadow: none;\n",
              "  }\n",
              "\n",
              "  .colab-df-spinner {\n",
              "    border: 2px solid var(--fill-color);\n",
              "    border-color: transparent;\n",
              "    border-bottom-color: var(--fill-color);\n",
              "    animation:\n",
              "      spin 1s steps(1) infinite;\n",
              "  }\n",
              "\n",
              "  @keyframes spin {\n",
              "    0% {\n",
              "      border-color: transparent;\n",
              "      border-bottom-color: var(--fill-color);\n",
              "      border-left-color: var(--fill-color);\n",
              "    }\n",
              "    20% {\n",
              "      border-color: transparent;\n",
              "      border-left-color: var(--fill-color);\n",
              "      border-top-color: var(--fill-color);\n",
              "    }\n",
              "    30% {\n",
              "      border-color: transparent;\n",
              "      border-left-color: var(--fill-color);\n",
              "      border-top-color: var(--fill-color);\n",
              "      border-right-color: var(--fill-color);\n",
              "    }\n",
              "    40% {\n",
              "      border-color: transparent;\n",
              "      border-right-color: var(--fill-color);\n",
              "      border-top-color: var(--fill-color);\n",
              "    }\n",
              "    60% {\n",
              "      border-color: transparent;\n",
              "      border-right-color: var(--fill-color);\n",
              "    }\n",
              "    80% {\n",
              "      border-color: transparent;\n",
              "      border-right-color: var(--fill-color);\n",
              "      border-bottom-color: var(--fill-color);\n",
              "    }\n",
              "    90% {\n",
              "      border-color: transparent;\n",
              "      border-bottom-color: var(--fill-color);\n",
              "    }\n",
              "  }\n",
              "</style>\n",
              "\n",
              "  <script>\n",
              "    async function quickchart(key) {\n",
              "      const quickchartButtonEl =\n",
              "        document.querySelector('#' + key + ' button');\n",
              "      quickchartButtonEl.disabled = true;  // To prevent multiple clicks.\n",
              "      quickchartButtonEl.classList.add('colab-df-spinner');\n",
              "      try {\n",
              "        const charts = await google.colab.kernel.invokeFunction(\n",
              "            'suggestCharts', [key], {});\n",
              "      } catch (error) {\n",
              "        console.error('Error during call to suggestCharts:', error);\n",
              "      }\n",
              "      quickchartButtonEl.classList.remove('colab-df-spinner');\n",
              "      quickchartButtonEl.classList.add('colab-df-quickchart-complete');\n",
              "    }\n",
              "    (() => {\n",
              "      let quickchartButtonEl =\n",
              "        document.querySelector('#df-547b1ed3-8072-45bd-8117-b6b9ce8ed0a2 button');\n",
              "      quickchartButtonEl.style.display =\n",
              "        google.colab.kernel.accessAllowed ? 'block' : 'none';\n",
              "    })();\n",
              "  </script>\n",
              "</div>\n",
              "    </div>\n",
              "  </div>\n"
            ]
          },
          "metadata": {},
          "execution_count": 2
        }
      ],
      "source": [
        "data.head(20)"
      ]
    },
    {
      "cell_type": "code",
      "execution_count": 3,
      "id": "bc6f7015",
      "metadata": {
        "deletable": false,
        "id": "bc6f7015",
        "outputId": "34e41ee2-609f-4c78-c945-13071e081718",
        "colab": {
          "base_uri": "https://localhost:8080/"
        }
      },
      "outputs": [
        {
          "output_type": "stream",
          "name": "stdout",
          "text": [
            "<class 'pandas.core.frame.DataFrame'>\n",
            "RangeIndex: 21525 entries, 0 to 21524\n",
            "Data columns (total 12 columns):\n",
            " #   Column            Non-Null Count  Dtype  \n",
            "---  ------            --------------  -----  \n",
            " 0   children          21525 non-null  int64  \n",
            " 1   days_employed     19351 non-null  float64\n",
            " 2   dob_years         21525 non-null  int64  \n",
            " 3   education         21525 non-null  object \n",
            " 4   education_id      21525 non-null  int64  \n",
            " 5   family_status     21525 non-null  object \n",
            " 6   family_status_id  21525 non-null  int64  \n",
            " 7   gender            21525 non-null  object \n",
            " 8   income_type       21525 non-null  object \n",
            " 9   debt              21525 non-null  int64  \n",
            " 10  total_income      19351 non-null  float64\n",
            " 11  purpose           21525 non-null  object \n",
            "dtypes: float64(2), int64(5), object(5)\n",
            "memory usage: 2.0+ MB\n"
          ]
        }
      ],
      "source": [
        "data.info()"
      ]
    },
    {
      "cell_type": "markdown",
      "id": "d2eaab70",
      "metadata": {
        "deletable": false,
        "editable": false,
        "id": "d2eaab70"
      },
      "source": [
        "## Предобработка данных"
      ]
    },
    {
      "cell_type": "markdown",
      "id": "b1df7f25",
      "metadata": {
        "deletable": false,
        "editable": false,
        "id": "b1df7f25"
      },
      "source": [
        "### Удаление пропусков"
      ]
    },
    {
      "cell_type": "code",
      "execution_count": 4,
      "id": "e430d528",
      "metadata": {
        "deletable": false,
        "id": "e430d528",
        "outputId": "7c44de21-9c57-4d54-b51c-3dc4cbb180cd",
        "scrolled": true,
        "colab": {
          "base_uri": "https://localhost:8080/"
        }
      },
      "outputs": [
        {
          "output_type": "execute_result",
          "data": {
            "text/plain": [
              "children               0\n",
              "days_employed       2174\n",
              "dob_years              0\n",
              "education              0\n",
              "education_id           0\n",
              "family_status          0\n",
              "family_status_id       0\n",
              "gender                 0\n",
              "income_type            0\n",
              "debt                   0\n",
              "total_income        2174\n",
              "purpose                0\n",
              "dtype: int64"
            ]
          },
          "metadata": {},
          "execution_count": 4
        }
      ],
      "source": [
        "data.isna().sum()"
      ]
    },
    {
      "cell_type": "code",
      "execution_count": 5,
      "id": "bff10914",
      "metadata": {
        "deletable": false,
        "id": "bff10914"
      },
      "outputs": [],
      "source": [
        "for t in data['income_type'].unique():\n",
        "    data.loc[(data['income_type'] == t) & (data['total_income'].isna()), 'total_income'] = \\\n",
        "    data.loc[(data['income_type'] == t), 'total_income'].median()"
      ]
    },
    {
      "cell_type": "markdown",
      "id": "c1fdf468",
      "metadata": {
        "deletable": false,
        "editable": false,
        "id": "c1fdf468"
      },
      "source": [
        "### Обработка аномальных значений"
      ]
    },
    {
      "cell_type": "code",
      "execution_count": 6,
      "id": "3de0246a",
      "metadata": {
        "deletable": false,
        "id": "3de0246a"
      },
      "outputs": [],
      "source": [
        "data['days_employed'] = data['days_employed'].abs()"
      ]
    },
    {
      "cell_type": "code",
      "execution_count": 7,
      "id": "140ca197",
      "metadata": {
        "deletable": false,
        "id": "140ca197",
        "outputId": "3917a3a9-d0ed-4b53-8b8c-091bb6fdab67",
        "colab": {
          "base_uri": "https://localhost:8080/"
        }
      },
      "outputs": [
        {
          "output_type": "execute_result",
          "data": {
            "text/plain": [
              "income_type\n",
              "безработный        366413.652744\n",
              "в декрете            3296.759962\n",
              "госслужащий          2689.368353\n",
              "компаньон            1547.382223\n",
              "пенсионер          365213.306266\n",
              "предприниматель       520.848083\n",
              "сотрудник            1574.202821\n",
              "студент               578.751554\n",
              "Name: days_employed, dtype: float64"
            ]
          },
          "metadata": {},
          "execution_count": 7
        }
      ],
      "source": [
        "data.groupby('income_type')['days_employed'].agg('median')"
      ]
    },
    {
      "cell_type": "markdown",
      "id": "9d5d72dd",
      "metadata": {
        "deletable": false,
        "editable": false,
        "id": "9d5d72dd"
      },
      "source": [
        "У двух типов (безработные и пенсионеры) получатся аномально большие значения. Исправить такие значения сложно, поэтому оставьте их как есть. Тем более этот столбец не понадобится вам для исследования."
      ]
    },
    {
      "cell_type": "code",
      "execution_count": 8,
      "id": "ce6f7147",
      "metadata": {
        "deletable": false,
        "id": "ce6f7147",
        "outputId": "07445554-9451-40cd-936e-ebf2293832bb",
        "colab": {
          "base_uri": "https://localhost:8080/"
        }
      },
      "outputs": [
        {
          "output_type": "execute_result",
          "data": {
            "text/plain": [
              "array([ 1,  0,  3,  2, -1,  4, 20,  5])"
            ]
          },
          "metadata": {},
          "execution_count": 8
        }
      ],
      "source": [
        "data['children'].unique()"
      ]
    },
    {
      "cell_type": "code",
      "execution_count": 9,
      "id": "c0d4a6a3",
      "metadata": {
        "deletable": false,
        "id": "c0d4a6a3"
      },
      "outputs": [],
      "source": [
        "data = data[(data['children'] != -1) & (data['children'] != 20)]"
      ]
    },
    {
      "cell_type": "markdown",
      "id": "e2c79f38",
      "metadata": {
        "deletable": false,
        "editable": false,
        "id": "e2c79f38"
      },
      "source": [
        "**Задание 10. Ещё раз выведите перечень уникальных значений столбца `children`, чтобы убедиться, что артефакты удалены.**"
      ]
    },
    {
      "cell_type": "code",
      "execution_count": 10,
      "id": "8a893aa8",
      "metadata": {
        "deletable": false,
        "id": "8a893aa8",
        "outputId": "d81784f1-3112-47d7-9a8d-c918ef483b47",
        "colab": {
          "base_uri": "https://localhost:8080/"
        }
      },
      "outputs": [
        {
          "output_type": "execute_result",
          "data": {
            "text/plain": [
              "array([1, 0, 3, 2, 4, 5])"
            ]
          },
          "metadata": {},
          "execution_count": 10
        }
      ],
      "source": [
        "data['children'].unique()"
      ]
    },
    {
      "cell_type": "markdown",
      "id": "bd07c42c",
      "metadata": {
        "deletable": false,
        "editable": false,
        "id": "bd07c42c"
      },
      "source": [
        "### Удаление пропусков (продолжение)"
      ]
    },
    {
      "cell_type": "code",
      "execution_count": 11,
      "id": "610a24e6",
      "metadata": {
        "deletable": false,
        "id": "610a24e6"
      },
      "outputs": [],
      "source": [
        "for t in data['income_type'].unique():\n",
        "    data.loc[(data['income_type'] == t) & (data['days_employed'].isna()), 'days_employed'] = \\\n",
        "    data.loc[(data['income_type'] == t), 'days_employed'].median()"
      ]
    },
    {
      "cell_type": "code",
      "execution_count": 12,
      "id": "23c4a649",
      "metadata": {
        "deletable": false,
        "id": "23c4a649",
        "outputId": "e37abcc2-5ee4-4a7b-a25b-1b844ed85a18",
        "colab": {
          "base_uri": "https://localhost:8080/"
        }
      },
      "outputs": [
        {
          "output_type": "execute_result",
          "data": {
            "text/plain": [
              "children            0\n",
              "days_employed       0\n",
              "dob_years           0\n",
              "education           0\n",
              "education_id        0\n",
              "family_status       0\n",
              "family_status_id    0\n",
              "gender              0\n",
              "income_type         0\n",
              "debt                0\n",
              "total_income        0\n",
              "purpose             0\n",
              "dtype: int64"
            ]
          },
          "metadata": {},
          "execution_count": 12
        }
      ],
      "source": [
        "data.isna().sum()"
      ]
    },
    {
      "cell_type": "markdown",
      "id": "07bec838",
      "metadata": {
        "deletable": false,
        "editable": false,
        "id": "07bec838"
      },
      "source": [
        "### Изменение типов данных"
      ]
    },
    {
      "cell_type": "code",
      "execution_count": 13,
      "id": "bd989d06",
      "metadata": {
        "deletable": false,
        "id": "bd989d06"
      },
      "outputs": [],
      "source": [
        "data['total_income'] = data['total_income'].astype(int)"
      ]
    },
    {
      "cell_type": "markdown",
      "id": "b0a86ca7",
      "metadata": {
        "deletable": false,
        "editable": false,
        "id": "b0a86ca7"
      },
      "source": [
        "### Обработка дубликатов"
      ]
    },
    {
      "cell_type": "code",
      "execution_count": 14,
      "id": "591e06b4",
      "metadata": {
        "deletable": false,
        "id": "591e06b4"
      },
      "outputs": [],
      "source": [
        "data['education'] = data['education'].str.lower()"
      ]
    },
    {
      "cell_type": "markdown",
      "id": "c1693b80",
      "metadata": {
        "deletable": false,
        "editable": false,
        "id": "c1693b80"
      },
      "source": [
        "**Задание 15. Выведите на экран количество строк-дубликатов в данных. Если такие строки присутствуют, удалите их.**"
      ]
    },
    {
      "cell_type": "code",
      "execution_count": 15,
      "id": "5577fbfc",
      "metadata": {
        "deletable": false,
        "id": "5577fbfc",
        "outputId": "8629e9f4-6432-48d1-9105-132fc38881e7",
        "colab": {
          "base_uri": "https://localhost:8080/"
        }
      },
      "outputs": [
        {
          "output_type": "execute_result",
          "data": {
            "text/plain": [
              "71"
            ]
          },
          "metadata": {},
          "execution_count": 15
        }
      ],
      "source": [
        "data.duplicated().sum()"
      ]
    },
    {
      "cell_type": "code",
      "execution_count": 16,
      "id": "759caa4c",
      "metadata": {
        "deletable": false,
        "id": "759caa4c"
      },
      "outputs": [],
      "source": [
        "data = data.drop_duplicates()"
      ]
    },
    {
      "cell_type": "markdown",
      "id": "efd33cdb",
      "metadata": {
        "deletable": false,
        "editable": false,
        "id": "efd33cdb"
      },
      "source": [
        "### Категоризация данных"
      ]
    },
    {
      "cell_type": "code",
      "execution_count": 17,
      "id": "9ec31607",
      "metadata": {
        "deletable": false,
        "id": "9ec31607"
      },
      "outputs": [],
      "source": [
        "def categorize_income(income):\n",
        "    try:\n",
        "        if 0 <= income <= 30000:\n",
        "            return 'E'\n",
        "        elif 30001 <= income <= 50000:\n",
        "            return 'D'\n",
        "        elif 50001 <= income <= 200000:\n",
        "            return 'C'\n",
        "        elif 200001 <= income <= 1000000:\n",
        "            return 'B'\n",
        "        elif income >= 1000001:\n",
        "            return 'A'\n",
        "    except:\n",
        "        pass"
      ]
    },
    {
      "cell_type": "code",
      "execution_count": 18,
      "id": "5ceb4480",
      "metadata": {
        "deletable": false,
        "id": "5ceb4480",
        "colab": {
          "base_uri": "https://localhost:8080/"
        },
        "outputId": "a04dafa7-d43f-4450-dd27-08caa84928c5"
      },
      "outputs": [
        {
          "output_type": "stream",
          "name": "stderr",
          "text": [
            "<ipython-input-18-0bc713f3049f>:1: SettingWithCopyWarning: \n",
            "A value is trying to be set on a copy of a slice from a DataFrame.\n",
            "Try using .loc[row_indexer,col_indexer] = value instead\n",
            "\n",
            "See the caveats in the documentation: https://pandas.pydata.org/pandas-docs/stable/user_guide/indexing.html#returning-a-view-versus-a-copy\n",
            "  data['total_income_category'] = data['total_income'].apply(categorize_income)\n"
          ]
        }
      ],
      "source": [
        "data['total_income_category'] = data['total_income'].apply(categorize_income)"
      ]
    },
    {
      "cell_type": "code",
      "execution_count": 19,
      "id": "b6a1495a",
      "metadata": {
        "deletable": false,
        "id": "b6a1495a",
        "outputId": "63ea766a-e920-4483-e0fa-0e5413520616",
        "colab": {
          "base_uri": "https://localhost:8080/"
        }
      },
      "outputs": [
        {
          "output_type": "execute_result",
          "data": {
            "text/plain": [
              "array(['покупка жилья', 'приобретение автомобиля',\n",
              "       'дополнительное образование', 'сыграть свадьбу',\n",
              "       'операции с жильем', 'образование', 'на проведение свадьбы',\n",
              "       'покупка жилья для семьи', 'покупка недвижимости',\n",
              "       'покупка коммерческой недвижимости', 'покупка жилой недвижимости',\n",
              "       'строительство собственной недвижимости', 'недвижимость',\n",
              "       'строительство недвижимости', 'на покупку подержанного автомобиля',\n",
              "       'на покупку своего автомобиля',\n",
              "       'операции с коммерческой недвижимостью',\n",
              "       'строительство жилой недвижимости', 'жилье',\n",
              "       'операции со своей недвижимостью', 'автомобили',\n",
              "       'заняться образованием', 'сделка с подержанным автомобилем',\n",
              "       'получение образования', 'автомобиль', 'свадьба',\n",
              "       'получение дополнительного образования', 'покупка своего жилья',\n",
              "       'операции с недвижимостью', 'получение высшего образования',\n",
              "       'свой автомобиль', 'сделка с автомобилем',\n",
              "       'профильное образование', 'высшее образование',\n",
              "       'покупка жилья для сдачи', 'на покупку автомобиля', 'ремонт жилью',\n",
              "       'заняться высшим образованием'], dtype=object)"
            ]
          },
          "metadata": {},
          "execution_count": 19
        }
      ],
      "source": [
        "data['purpose'].unique()"
      ]
    },
    {
      "cell_type": "code",
      "execution_count": 20,
      "id": "945e5849",
      "metadata": {
        "deletable": false,
        "id": "945e5849"
      },
      "outputs": [],
      "source": [
        "def categorize_purpose(row):\n",
        "    try:\n",
        "        if 'автом' in row:\n",
        "            return 'операции с автомобилем'\n",
        "        elif 'жил' in row or 'недвиж' in row:\n",
        "            return 'операции с недвижимостью'\n",
        "        elif 'свад' in row:\n",
        "            return 'проведение свадьбы'\n",
        "        elif 'образов' in row:\n",
        "            return 'получение образования'\n",
        "    except:\n",
        "        return 'нет категории'"
      ]
    },
    {
      "cell_type": "code",
      "execution_count": 31,
      "id": "d94226e6",
      "metadata": {
        "deletable": false,
        "id": "d94226e6"
      },
      "outputs": [],
      "source": [
        "data['purpose_category'] = data['purpose'].apply(categorize_purpose)"
      ]
    },
    {
      "cell_type": "markdown",
      "id": "ab8e276a",
      "metadata": {
        "deletable": false,
        "editable": false,
        "id": "ab8e276a"
      },
      "source": [
        "### Шаг 3. Исследуйте данные и ответьте на вопросы"
      ]
    },
    {
      "cell_type": "markdown",
      "id": "0af48ac0",
      "metadata": {
        "deletable": false,
        "editable": false,
        "id": "0af48ac0"
      },
      "source": [
        "#### 3.1 Есть ли зависимость между количеством детей и возвратом кредита в срок?"
      ]
    },
    {
      "cell_type": "code",
      "execution_count": 22,
      "id": "4c3acc93",
      "metadata": {
        "deletable": false,
        "id": "4c3acc93",
        "colab": {
          "base_uri": "https://localhost:8080/",
          "height": 293
        },
        "outputId": "406f17ee-7bec-42d0-d40f-7c2fbd4ed10c"
      },
      "outputs": [
        {
          "output_type": "execute_result",
          "data": {
            "text/plain": [
              "   children  days_employed  dob_years education  education_id  \\\n",
              "0         1    8437.673028         42    высшее             0   \n",
              "1         1    4024.803754         36   среднее             1   \n",
              "2         0    5623.422610         33   среднее             1   \n",
              "3         3    4124.747207         32   среднее             1   \n",
              "4         0  340266.072047         53   среднее             1   \n",
              "\n",
              "      family_status  family_status_id gender income_type  debt  total_income  \\\n",
              "0   женат / замужем                 0      F   сотрудник     0        253875   \n",
              "1   женат / замужем                 0      F   сотрудник     0        112080   \n",
              "2   женат / замужем                 0      M   сотрудник     0        145885   \n",
              "3   женат / замужем                 0      M   сотрудник     0        267628   \n",
              "4  гражданский брак                 1      F   пенсионер     0        158616   \n",
              "\n",
              "                      purpose total_income_category          purpose_category  \n",
              "0               покупка жилья                     B  операции с недвижимостью  \n",
              "1     приобретение автомобиля                     C    операции с автомобилем  \n",
              "2               покупка жилья                     C  операции с недвижимостью  \n",
              "3  дополнительное образование                     B     получение образования  \n",
              "4             сыграть свадьбу                     C        проведение свадьбы  "
            ],
            "text/html": [
              "\n",
              "  <div id=\"df-af58dffa-1652-4945-a686-d8534560c73e\" class=\"colab-df-container\">\n",
              "    <div>\n",
              "<style scoped>\n",
              "    .dataframe tbody tr th:only-of-type {\n",
              "        vertical-align: middle;\n",
              "    }\n",
              "\n",
              "    .dataframe tbody tr th {\n",
              "        vertical-align: top;\n",
              "    }\n",
              "\n",
              "    .dataframe thead th {\n",
              "        text-align: right;\n",
              "    }\n",
              "</style>\n",
              "<table border=\"1\" class=\"dataframe\">\n",
              "  <thead>\n",
              "    <tr style=\"text-align: right;\">\n",
              "      <th></th>\n",
              "      <th>children</th>\n",
              "      <th>days_employed</th>\n",
              "      <th>dob_years</th>\n",
              "      <th>education</th>\n",
              "      <th>education_id</th>\n",
              "      <th>family_status</th>\n",
              "      <th>family_status_id</th>\n",
              "      <th>gender</th>\n",
              "      <th>income_type</th>\n",
              "      <th>debt</th>\n",
              "      <th>total_income</th>\n",
              "      <th>purpose</th>\n",
              "      <th>total_income_category</th>\n",
              "      <th>purpose_category</th>\n",
              "    </tr>\n",
              "  </thead>\n",
              "  <tbody>\n",
              "    <tr>\n",
              "      <th>0</th>\n",
              "      <td>1</td>\n",
              "      <td>8437.673028</td>\n",
              "      <td>42</td>\n",
              "      <td>высшее</td>\n",
              "      <td>0</td>\n",
              "      <td>женат / замужем</td>\n",
              "      <td>0</td>\n",
              "      <td>F</td>\n",
              "      <td>сотрудник</td>\n",
              "      <td>0</td>\n",
              "      <td>253875</td>\n",
              "      <td>покупка жилья</td>\n",
              "      <td>B</td>\n",
              "      <td>операции с недвижимостью</td>\n",
              "    </tr>\n",
              "    <tr>\n",
              "      <th>1</th>\n",
              "      <td>1</td>\n",
              "      <td>4024.803754</td>\n",
              "      <td>36</td>\n",
              "      <td>среднее</td>\n",
              "      <td>1</td>\n",
              "      <td>женат / замужем</td>\n",
              "      <td>0</td>\n",
              "      <td>F</td>\n",
              "      <td>сотрудник</td>\n",
              "      <td>0</td>\n",
              "      <td>112080</td>\n",
              "      <td>приобретение автомобиля</td>\n",
              "      <td>C</td>\n",
              "      <td>операции с автомобилем</td>\n",
              "    </tr>\n",
              "    <tr>\n",
              "      <th>2</th>\n",
              "      <td>0</td>\n",
              "      <td>5623.422610</td>\n",
              "      <td>33</td>\n",
              "      <td>среднее</td>\n",
              "      <td>1</td>\n",
              "      <td>женат / замужем</td>\n",
              "      <td>0</td>\n",
              "      <td>M</td>\n",
              "      <td>сотрудник</td>\n",
              "      <td>0</td>\n",
              "      <td>145885</td>\n",
              "      <td>покупка жилья</td>\n",
              "      <td>C</td>\n",
              "      <td>операции с недвижимостью</td>\n",
              "    </tr>\n",
              "    <tr>\n",
              "      <th>3</th>\n",
              "      <td>3</td>\n",
              "      <td>4124.747207</td>\n",
              "      <td>32</td>\n",
              "      <td>среднее</td>\n",
              "      <td>1</td>\n",
              "      <td>женат / замужем</td>\n",
              "      <td>0</td>\n",
              "      <td>M</td>\n",
              "      <td>сотрудник</td>\n",
              "      <td>0</td>\n",
              "      <td>267628</td>\n",
              "      <td>дополнительное образование</td>\n",
              "      <td>B</td>\n",
              "      <td>получение образования</td>\n",
              "    </tr>\n",
              "    <tr>\n",
              "      <th>4</th>\n",
              "      <td>0</td>\n",
              "      <td>340266.072047</td>\n",
              "      <td>53</td>\n",
              "      <td>среднее</td>\n",
              "      <td>1</td>\n",
              "      <td>гражданский брак</td>\n",
              "      <td>1</td>\n",
              "      <td>F</td>\n",
              "      <td>пенсионер</td>\n",
              "      <td>0</td>\n",
              "      <td>158616</td>\n",
              "      <td>сыграть свадьбу</td>\n",
              "      <td>C</td>\n",
              "      <td>проведение свадьбы</td>\n",
              "    </tr>\n",
              "  </tbody>\n",
              "</table>\n",
              "</div>\n",
              "    <div class=\"colab-df-buttons\">\n",
              "\n",
              "  <div class=\"colab-df-container\">\n",
              "    <button class=\"colab-df-convert\" onclick=\"convertToInteractive('df-af58dffa-1652-4945-a686-d8534560c73e')\"\n",
              "            title=\"Convert this dataframe to an interactive table.\"\n",
              "            style=\"display:none;\">\n",
              "\n",
              "  <svg xmlns=\"http://www.w3.org/2000/svg\" height=\"24px\" viewBox=\"0 -960 960 960\">\n",
              "    <path d=\"M120-120v-720h720v720H120Zm60-500h600v-160H180v160Zm220 220h160v-160H400v160Zm0 220h160v-160H400v160ZM180-400h160v-160H180v160Zm440 0h160v-160H620v160ZM180-180h160v-160H180v160Zm440 0h160v-160H620v160Z\"/>\n",
              "  </svg>\n",
              "    </button>\n",
              "\n",
              "  <style>\n",
              "    .colab-df-container {\n",
              "      display:flex;\n",
              "      gap: 12px;\n",
              "    }\n",
              "\n",
              "    .colab-df-convert {\n",
              "      background-color: #E8F0FE;\n",
              "      border: none;\n",
              "      border-radius: 50%;\n",
              "      cursor: pointer;\n",
              "      display: none;\n",
              "      fill: #1967D2;\n",
              "      height: 32px;\n",
              "      padding: 0 0 0 0;\n",
              "      width: 32px;\n",
              "    }\n",
              "\n",
              "    .colab-df-convert:hover {\n",
              "      background-color: #E2EBFA;\n",
              "      box-shadow: 0px 1px 2px rgba(60, 64, 67, 0.3), 0px 1px 3px 1px rgba(60, 64, 67, 0.15);\n",
              "      fill: #174EA6;\n",
              "    }\n",
              "\n",
              "    .colab-df-buttons div {\n",
              "      margin-bottom: 4px;\n",
              "    }\n",
              "\n",
              "    [theme=dark] .colab-df-convert {\n",
              "      background-color: #3B4455;\n",
              "      fill: #D2E3FC;\n",
              "    }\n",
              "\n",
              "    [theme=dark] .colab-df-convert:hover {\n",
              "      background-color: #434B5C;\n",
              "      box-shadow: 0px 1px 3px 1px rgba(0, 0, 0, 0.15);\n",
              "      filter: drop-shadow(0px 1px 2px rgba(0, 0, 0, 0.3));\n",
              "      fill: #FFFFFF;\n",
              "    }\n",
              "  </style>\n",
              "\n",
              "    <script>\n",
              "      const buttonEl =\n",
              "        document.querySelector('#df-af58dffa-1652-4945-a686-d8534560c73e button.colab-df-convert');\n",
              "      buttonEl.style.display =\n",
              "        google.colab.kernel.accessAllowed ? 'block' : 'none';\n",
              "\n",
              "      async function convertToInteractive(key) {\n",
              "        const element = document.querySelector('#df-af58dffa-1652-4945-a686-d8534560c73e');\n",
              "        const dataTable =\n",
              "          await google.colab.kernel.invokeFunction('convertToInteractive',\n",
              "                                                    [key], {});\n",
              "        if (!dataTable) return;\n",
              "\n",
              "        const docLinkHtml = 'Like what you see? Visit the ' +\n",
              "          '<a target=\"_blank\" href=https://colab.research.google.com/notebooks/data_table.ipynb>data table notebook</a>'\n",
              "          + ' to learn more about interactive tables.';\n",
              "        element.innerHTML = '';\n",
              "        dataTable['output_type'] = 'display_data';\n",
              "        await google.colab.output.renderOutput(dataTable, element);\n",
              "        const docLink = document.createElement('div');\n",
              "        docLink.innerHTML = docLinkHtml;\n",
              "        element.appendChild(docLink);\n",
              "      }\n",
              "    </script>\n",
              "  </div>\n",
              "\n",
              "\n",
              "<div id=\"df-c5113cf8-1eaf-44d3-bf33-2d031ca3b91b\">\n",
              "  <button class=\"colab-df-quickchart\" onclick=\"quickchart('df-c5113cf8-1eaf-44d3-bf33-2d031ca3b91b')\"\n",
              "            title=\"Suggest charts\"\n",
              "            style=\"display:none;\">\n",
              "\n",
              "<svg xmlns=\"http://www.w3.org/2000/svg\" height=\"24px\"viewBox=\"0 0 24 24\"\n",
              "     width=\"24px\">\n",
              "    <g>\n",
              "        <path d=\"M19 3H5c-1.1 0-2 .9-2 2v14c0 1.1.9 2 2 2h14c1.1 0 2-.9 2-2V5c0-1.1-.9-2-2-2zM9 17H7v-7h2v7zm4 0h-2V7h2v10zm4 0h-2v-4h2v4z\"/>\n",
              "    </g>\n",
              "</svg>\n",
              "  </button>\n",
              "\n",
              "<style>\n",
              "  .colab-df-quickchart {\n",
              "      --bg-color: #E8F0FE;\n",
              "      --fill-color: #1967D2;\n",
              "      --hover-bg-color: #E2EBFA;\n",
              "      --hover-fill-color: #174EA6;\n",
              "      --disabled-fill-color: #AAA;\n",
              "      --disabled-bg-color: #DDD;\n",
              "  }\n",
              "\n",
              "  [theme=dark] .colab-df-quickchart {\n",
              "      --bg-color: #3B4455;\n",
              "      --fill-color: #D2E3FC;\n",
              "      --hover-bg-color: #434B5C;\n",
              "      --hover-fill-color: #FFFFFF;\n",
              "      --disabled-bg-color: #3B4455;\n",
              "      --disabled-fill-color: #666;\n",
              "  }\n",
              "\n",
              "  .colab-df-quickchart {\n",
              "    background-color: var(--bg-color);\n",
              "    border: none;\n",
              "    border-radius: 50%;\n",
              "    cursor: pointer;\n",
              "    display: none;\n",
              "    fill: var(--fill-color);\n",
              "    height: 32px;\n",
              "    padding: 0;\n",
              "    width: 32px;\n",
              "  }\n",
              "\n",
              "  .colab-df-quickchart:hover {\n",
              "    background-color: var(--hover-bg-color);\n",
              "    box-shadow: 0 1px 2px rgba(60, 64, 67, 0.3), 0 1px 3px 1px rgba(60, 64, 67, 0.15);\n",
              "    fill: var(--button-hover-fill-color);\n",
              "  }\n",
              "\n",
              "  .colab-df-quickchart-complete:disabled,\n",
              "  .colab-df-quickchart-complete:disabled:hover {\n",
              "    background-color: var(--disabled-bg-color);\n",
              "    fill: var(--disabled-fill-color);\n",
              "    box-shadow: none;\n",
              "  }\n",
              "\n",
              "  .colab-df-spinner {\n",
              "    border: 2px solid var(--fill-color);\n",
              "    border-color: transparent;\n",
              "    border-bottom-color: var(--fill-color);\n",
              "    animation:\n",
              "      spin 1s steps(1) infinite;\n",
              "  }\n",
              "\n",
              "  @keyframes spin {\n",
              "    0% {\n",
              "      border-color: transparent;\n",
              "      border-bottom-color: var(--fill-color);\n",
              "      border-left-color: var(--fill-color);\n",
              "    }\n",
              "    20% {\n",
              "      border-color: transparent;\n",
              "      border-left-color: var(--fill-color);\n",
              "      border-top-color: var(--fill-color);\n",
              "    }\n",
              "    30% {\n",
              "      border-color: transparent;\n",
              "      border-left-color: var(--fill-color);\n",
              "      border-top-color: var(--fill-color);\n",
              "      border-right-color: var(--fill-color);\n",
              "    }\n",
              "    40% {\n",
              "      border-color: transparent;\n",
              "      border-right-color: var(--fill-color);\n",
              "      border-top-color: var(--fill-color);\n",
              "    }\n",
              "    60% {\n",
              "      border-color: transparent;\n",
              "      border-right-color: var(--fill-color);\n",
              "    }\n",
              "    80% {\n",
              "      border-color: transparent;\n",
              "      border-right-color: var(--fill-color);\n",
              "      border-bottom-color: var(--fill-color);\n",
              "    }\n",
              "    90% {\n",
              "      border-color: transparent;\n",
              "      border-bottom-color: var(--fill-color);\n",
              "    }\n",
              "  }\n",
              "</style>\n",
              "\n",
              "  <script>\n",
              "    async function quickchart(key) {\n",
              "      const quickchartButtonEl =\n",
              "        document.querySelector('#' + key + ' button');\n",
              "      quickchartButtonEl.disabled = true;  // To prevent multiple clicks.\n",
              "      quickchartButtonEl.classList.add('colab-df-spinner');\n",
              "      try {\n",
              "        const charts = await google.colab.kernel.invokeFunction(\n",
              "            'suggestCharts', [key], {});\n",
              "      } catch (error) {\n",
              "        console.error('Error during call to suggestCharts:', error);\n",
              "      }\n",
              "      quickchartButtonEl.classList.remove('colab-df-spinner');\n",
              "      quickchartButtonEl.classList.add('colab-df-quickchart-complete');\n",
              "    }\n",
              "    (() => {\n",
              "      let quickchartButtonEl =\n",
              "        document.querySelector('#df-c5113cf8-1eaf-44d3-bf33-2d031ca3b91b button');\n",
              "      quickchartButtonEl.style.display =\n",
              "        google.colab.kernel.accessAllowed ? 'block' : 'none';\n",
              "    })();\n",
              "  </script>\n",
              "</div>\n",
              "    </div>\n",
              "  </div>\n"
            ]
          },
          "metadata": {},
          "execution_count": 22
        }
      ],
      "source": [
        "data.head() # Выведиv первые 5 строчек датафрейма data на экран."
      ]
    },
    {
      "cell_type": "code",
      "execution_count": 23,
      "id": "472ecbe6",
      "metadata": {
        "colab": {
          "base_uri": "https://localhost:8080/"
        },
        "id": "472ecbe6",
        "outputId": "17dcea1b-b8b4-4ba5-b777-146bb1aa1b98"
      },
      "outputs": [
        {
          "output_type": "stream",
          "name": "stdout",
          "text": [
            "<class 'pandas.core.frame.DataFrame'>\n",
            "Int64Index: 21331 entries, 0 to 21524\n",
            "Data columns (total 14 columns):\n",
            " #   Column                 Non-Null Count  Dtype  \n",
            "---  ------                 --------------  -----  \n",
            " 0   children               21331 non-null  int64  \n",
            " 1   days_employed          21331 non-null  float64\n",
            " 2   dob_years              21331 non-null  int64  \n",
            " 3   education              21331 non-null  object \n",
            " 4   education_id           21331 non-null  int64  \n",
            " 5   family_status          21331 non-null  object \n",
            " 6   family_status_id       21331 non-null  int64  \n",
            " 7   gender                 21331 non-null  object \n",
            " 8   income_type            21331 non-null  object \n",
            " 9   debt                   21331 non-null  int64  \n",
            " 10  total_income           21331 non-null  int64  \n",
            " 11  purpose                21331 non-null  object \n",
            " 12  total_income_category  21331 non-null  object \n",
            " 13  purpose_category       21331 non-null  object \n",
            "dtypes: float64(1), int64(6), object(7)\n",
            "memory usage: 2.4+ MB\n"
          ]
        }
      ],
      "source": [
        "data.info() #Выведим основную информацию о датафрейме с помощью метода info()"
      ]
    },
    {
      "cell_type": "code",
      "execution_count": 24,
      "id": "8bf5c97c",
      "metadata": {
        "colab": {
          "base_uri": "https://localhost:8080/"
        },
        "id": "8bf5c97c",
        "outputId": "5f3d7432-aaa9-4be0-b2c9-78fb93654a43"
      },
      "outputs": [
        {
          "output_type": "execute_result",
          "data": {
            "text/plain": [
              "0    14091\n",
              "1     4808\n",
              "2     2052\n",
              "3      330\n",
              "4       41\n",
              "5        9\n",
              "Name: children, dtype: int64"
            ]
          },
          "metadata": {},
          "execution_count": 24
        }
      ],
      "source": [
        "data['children'].value_counts() #отфильтруем таблицу по столбцу children с помощью метода value_counts()"
      ]
    },
    {
      "cell_type": "markdown",
      "id": "cd0b1810",
      "metadata": {
        "id": "cd0b1810"
      },
      "source": [
        "На основании диапазонов, указанных ниже, создадим в датафрейме data столбец children_category с категориями:\n",
        "\n",
        "0 — 'нет детей';\n",
        "1 — 'один ребенок';\n",
        "2 — 'два ребенка';\n",
        "3 — 'многодетные';\n",
        "Таким образом, мы объединим от 3 до 5 детей в обну категорию"
      ]
    },
    {
      "cell_type": "code",
      "execution_count": 25,
      "id": "097e1fc7",
      "metadata": {
        "id": "097e1fc7"
      },
      "outputs": [],
      "source": [
        "def categorize_children(row):\n",
        "    if row == 0:\n",
        "        return 'нет детей'\n",
        "    elif row == 1:\n",
        "        return 'один ребенок'\n",
        "    elif row == 2:\n",
        "        return 'два ребенка'\n",
        "    return 'многодетные'"
      ]
    },
    {
      "cell_type": "code",
      "execution_count": 26,
      "id": "554d7107",
      "metadata": {
        "colab": {
          "base_uri": "https://localhost:8080/"
        },
        "id": "554d7107",
        "outputId": "56fce4c2-8369-4ba4-cf52-b7732953946e"
      },
      "outputs": [
        {
          "output_type": "stream",
          "name": "stderr",
          "text": [
            "<ipython-input-26-50fd35a793c6>:1: SettingWithCopyWarning: \n",
            "A value is trying to be set on a copy of a slice from a DataFrame.\n",
            "Try using .loc[row_indexer,col_indexer] = value instead\n",
            "\n",
            "See the caveats in the documentation: https://pandas.pydata.org/pandas-docs/stable/user_guide/indexing.html#returning-a-view-versus-a-copy\n",
            "  data['children_category'] = data['children'].apply(categorize_children)\n"
          ]
        }
      ],
      "source": [
        "data['children_category'] = data['children'].apply(categorize_children)"
      ]
    },
    {
      "cell_type": "markdown",
      "id": "b8f6f27b",
      "metadata": {
        "id": "b8f6f27b"
      },
      "source": [
        "Создадим сводную таблицу"
      ]
    },
    {
      "cell_type": "code",
      "execution_count": 27,
      "id": "08d13977",
      "metadata": {
        "colab": {
          "base_uri": "https://localhost:8080/",
          "height": 175
        },
        "id": "08d13977",
        "outputId": "22807b26-a59f-44c0-e132-6cef95a1f494"
      },
      "outputs": [
        {
          "output_type": "execute_result",
          "data": {
            "text/plain": [
              "  children_category   sum  count percent\n",
              "2         нет детей  1063  14091    7.5%\n",
              "1       многодетные    31    380    8.2%\n",
              "3      один ребенок   444   4808    9.2%\n",
              "0       два ребенка   194   2052    9.5%"
            ],
            "text/html": [
              "\n",
              "  <div id=\"df-20ac9461-9ed3-48e9-bd22-b78918dab522\" class=\"colab-df-container\">\n",
              "    <div>\n",
              "<style scoped>\n",
              "    .dataframe tbody tr th:only-of-type {\n",
              "        vertical-align: middle;\n",
              "    }\n",
              "\n",
              "    .dataframe tbody tr th {\n",
              "        vertical-align: top;\n",
              "    }\n",
              "\n",
              "    .dataframe thead th {\n",
              "        text-align: right;\n",
              "    }\n",
              "</style>\n",
              "<table border=\"1\" class=\"dataframe\">\n",
              "  <thead>\n",
              "    <tr style=\"text-align: right;\">\n",
              "      <th></th>\n",
              "      <th>children_category</th>\n",
              "      <th>sum</th>\n",
              "      <th>count</th>\n",
              "      <th>percent</th>\n",
              "    </tr>\n",
              "  </thead>\n",
              "  <tbody>\n",
              "    <tr>\n",
              "      <th>2</th>\n",
              "      <td>нет детей</td>\n",
              "      <td>1063</td>\n",
              "      <td>14091</td>\n",
              "      <td>7.5%</td>\n",
              "    </tr>\n",
              "    <tr>\n",
              "      <th>1</th>\n",
              "      <td>многодетные</td>\n",
              "      <td>31</td>\n",
              "      <td>380</td>\n",
              "      <td>8.2%</td>\n",
              "    </tr>\n",
              "    <tr>\n",
              "      <th>3</th>\n",
              "      <td>один ребенок</td>\n",
              "      <td>444</td>\n",
              "      <td>4808</td>\n",
              "      <td>9.2%</td>\n",
              "    </tr>\n",
              "    <tr>\n",
              "      <th>0</th>\n",
              "      <td>два ребенка</td>\n",
              "      <td>194</td>\n",
              "      <td>2052</td>\n",
              "      <td>9.5%</td>\n",
              "    </tr>\n",
              "  </tbody>\n",
              "</table>\n",
              "</div>\n",
              "    <div class=\"colab-df-buttons\">\n",
              "\n",
              "  <div class=\"colab-df-container\">\n",
              "    <button class=\"colab-df-convert\" onclick=\"convertToInteractive('df-20ac9461-9ed3-48e9-bd22-b78918dab522')\"\n",
              "            title=\"Convert this dataframe to an interactive table.\"\n",
              "            style=\"display:none;\">\n",
              "\n",
              "  <svg xmlns=\"http://www.w3.org/2000/svg\" height=\"24px\" viewBox=\"0 -960 960 960\">\n",
              "    <path d=\"M120-120v-720h720v720H120Zm60-500h600v-160H180v160Zm220 220h160v-160H400v160Zm0 220h160v-160H400v160ZM180-400h160v-160H180v160Zm440 0h160v-160H620v160ZM180-180h160v-160H180v160Zm440 0h160v-160H620v160Z\"/>\n",
              "  </svg>\n",
              "    </button>\n",
              "\n",
              "  <style>\n",
              "    .colab-df-container {\n",
              "      display:flex;\n",
              "      gap: 12px;\n",
              "    }\n",
              "\n",
              "    .colab-df-convert {\n",
              "      background-color: #E8F0FE;\n",
              "      border: none;\n",
              "      border-radius: 50%;\n",
              "      cursor: pointer;\n",
              "      display: none;\n",
              "      fill: #1967D2;\n",
              "      height: 32px;\n",
              "      padding: 0 0 0 0;\n",
              "      width: 32px;\n",
              "    }\n",
              "\n",
              "    .colab-df-convert:hover {\n",
              "      background-color: #E2EBFA;\n",
              "      box-shadow: 0px 1px 2px rgba(60, 64, 67, 0.3), 0px 1px 3px 1px rgba(60, 64, 67, 0.15);\n",
              "      fill: #174EA6;\n",
              "    }\n",
              "\n",
              "    .colab-df-buttons div {\n",
              "      margin-bottom: 4px;\n",
              "    }\n",
              "\n",
              "    [theme=dark] .colab-df-convert {\n",
              "      background-color: #3B4455;\n",
              "      fill: #D2E3FC;\n",
              "    }\n",
              "\n",
              "    [theme=dark] .colab-df-convert:hover {\n",
              "      background-color: #434B5C;\n",
              "      box-shadow: 0px 1px 3px 1px rgba(0, 0, 0, 0.15);\n",
              "      filter: drop-shadow(0px 1px 2px rgba(0, 0, 0, 0.3));\n",
              "      fill: #FFFFFF;\n",
              "    }\n",
              "  </style>\n",
              "\n",
              "    <script>\n",
              "      const buttonEl =\n",
              "        document.querySelector('#df-20ac9461-9ed3-48e9-bd22-b78918dab522 button.colab-df-convert');\n",
              "      buttonEl.style.display =\n",
              "        google.colab.kernel.accessAllowed ? 'block' : 'none';\n",
              "\n",
              "      async function convertToInteractive(key) {\n",
              "        const element = document.querySelector('#df-20ac9461-9ed3-48e9-bd22-b78918dab522');\n",
              "        const dataTable =\n",
              "          await google.colab.kernel.invokeFunction('convertToInteractive',\n",
              "                                                    [key], {});\n",
              "        if (!dataTable) return;\n",
              "\n",
              "        const docLinkHtml = 'Like what you see? Visit the ' +\n",
              "          '<a target=\"_blank\" href=https://colab.research.google.com/notebooks/data_table.ipynb>data table notebook</a>'\n",
              "          + ' to learn more about interactive tables.';\n",
              "        element.innerHTML = '';\n",
              "        dataTable['output_type'] = 'display_data';\n",
              "        await google.colab.output.renderOutput(dataTable, element);\n",
              "        const docLink = document.createElement('div');\n",
              "        docLink.innerHTML = docLinkHtml;\n",
              "        element.appendChild(docLink);\n",
              "      }\n",
              "    </script>\n",
              "  </div>\n",
              "\n",
              "\n",
              "<div id=\"df-699b0e9c-c001-412d-a0f8-a4c1bcb682f5\">\n",
              "  <button class=\"colab-df-quickchart\" onclick=\"quickchart('df-699b0e9c-c001-412d-a0f8-a4c1bcb682f5')\"\n",
              "            title=\"Suggest charts\"\n",
              "            style=\"display:none;\">\n",
              "\n",
              "<svg xmlns=\"http://www.w3.org/2000/svg\" height=\"24px\"viewBox=\"0 0 24 24\"\n",
              "     width=\"24px\">\n",
              "    <g>\n",
              "        <path d=\"M19 3H5c-1.1 0-2 .9-2 2v14c0 1.1.9 2 2 2h14c1.1 0 2-.9 2-2V5c0-1.1-.9-2-2-2zM9 17H7v-7h2v7zm4 0h-2V7h2v10zm4 0h-2v-4h2v4z\"/>\n",
              "    </g>\n",
              "</svg>\n",
              "  </button>\n",
              "\n",
              "<style>\n",
              "  .colab-df-quickchart {\n",
              "      --bg-color: #E8F0FE;\n",
              "      --fill-color: #1967D2;\n",
              "      --hover-bg-color: #E2EBFA;\n",
              "      --hover-fill-color: #174EA6;\n",
              "      --disabled-fill-color: #AAA;\n",
              "      --disabled-bg-color: #DDD;\n",
              "  }\n",
              "\n",
              "  [theme=dark] .colab-df-quickchart {\n",
              "      --bg-color: #3B4455;\n",
              "      --fill-color: #D2E3FC;\n",
              "      --hover-bg-color: #434B5C;\n",
              "      --hover-fill-color: #FFFFFF;\n",
              "      --disabled-bg-color: #3B4455;\n",
              "      --disabled-fill-color: #666;\n",
              "  }\n",
              "\n",
              "  .colab-df-quickchart {\n",
              "    background-color: var(--bg-color);\n",
              "    border: none;\n",
              "    border-radius: 50%;\n",
              "    cursor: pointer;\n",
              "    display: none;\n",
              "    fill: var(--fill-color);\n",
              "    height: 32px;\n",
              "    padding: 0;\n",
              "    width: 32px;\n",
              "  }\n",
              "\n",
              "  .colab-df-quickchart:hover {\n",
              "    background-color: var(--hover-bg-color);\n",
              "    box-shadow: 0 1px 2px rgba(60, 64, 67, 0.3), 0 1px 3px 1px rgba(60, 64, 67, 0.15);\n",
              "    fill: var(--button-hover-fill-color);\n",
              "  }\n",
              "\n",
              "  .colab-df-quickchart-complete:disabled,\n",
              "  .colab-df-quickchart-complete:disabled:hover {\n",
              "    background-color: var(--disabled-bg-color);\n",
              "    fill: var(--disabled-fill-color);\n",
              "    box-shadow: none;\n",
              "  }\n",
              "\n",
              "  .colab-df-spinner {\n",
              "    border: 2px solid var(--fill-color);\n",
              "    border-color: transparent;\n",
              "    border-bottom-color: var(--fill-color);\n",
              "    animation:\n",
              "      spin 1s steps(1) infinite;\n",
              "  }\n",
              "\n",
              "  @keyframes spin {\n",
              "    0% {\n",
              "      border-color: transparent;\n",
              "      border-bottom-color: var(--fill-color);\n",
              "      border-left-color: var(--fill-color);\n",
              "    }\n",
              "    20% {\n",
              "      border-color: transparent;\n",
              "      border-left-color: var(--fill-color);\n",
              "      border-top-color: var(--fill-color);\n",
              "    }\n",
              "    30% {\n",
              "      border-color: transparent;\n",
              "      border-left-color: var(--fill-color);\n",
              "      border-top-color: var(--fill-color);\n",
              "      border-right-color: var(--fill-color);\n",
              "    }\n",
              "    40% {\n",
              "      border-color: transparent;\n",
              "      border-right-color: var(--fill-color);\n",
              "      border-top-color: var(--fill-color);\n",
              "    }\n",
              "    60% {\n",
              "      border-color: transparent;\n",
              "      border-right-color: var(--fill-color);\n",
              "    }\n",
              "    80% {\n",
              "      border-color: transparent;\n",
              "      border-right-color: var(--fill-color);\n",
              "      border-bottom-color: var(--fill-color);\n",
              "    }\n",
              "    90% {\n",
              "      border-color: transparent;\n",
              "      border-bottom-color: var(--fill-color);\n",
              "    }\n",
              "  }\n",
              "</style>\n",
              "\n",
              "  <script>\n",
              "    async function quickchart(key) {\n",
              "      const quickchartButtonEl =\n",
              "        document.querySelector('#' + key + ' button');\n",
              "      quickchartButtonEl.disabled = true;  // To prevent multiple clicks.\n",
              "      quickchartButtonEl.classList.add('colab-df-spinner');\n",
              "      try {\n",
              "        const charts = await google.colab.kernel.invokeFunction(\n",
              "            'suggestCharts', [key], {});\n",
              "      } catch (error) {\n",
              "        console.error('Error during call to suggestCharts:', error);\n",
              "      }\n",
              "      quickchartButtonEl.classList.remove('colab-df-spinner');\n",
              "      quickchartButtonEl.classList.add('colab-df-quickchart-complete');\n",
              "    }\n",
              "    (() => {\n",
              "      let quickchartButtonEl =\n",
              "        document.querySelector('#df-699b0e9c-c001-412d-a0f8-a4c1bcb682f5 button');\n",
              "      quickchartButtonEl.style.display =\n",
              "        google.colab.kernel.accessAllowed ? 'block' : 'none';\n",
              "    })();\n",
              "  </script>\n",
              "</div>\n",
              "    </div>\n",
              "  </div>\n"
            ]
          },
          "metadata": {},
          "execution_count": 27
        }
      ],
      "source": [
        "data_children = data.pivot_table(index=['children_category'], values=['debt'], aggfunc=['sum', 'count', 'mean'])\n",
        "data_children.columns = ['sum', 'count', 'percent'] #переименновываю колонки, чтобы уйти от мультииндексов, иначе я не могу отсортировать таблицу по %\n",
        "data_children=data_children.reset_index()\n",
        "data_children['percent'] = data_children['percent'].map('{:.1%}'.format)\n",
        "data_children.sort_values(by='percent')\n",
        "\n"
      ]
    },
    {
      "cell_type": "markdown",
      "id": "c8cc979c",
      "metadata": {
        "deletable": false,
        "id": "c8cc979c"
      },
      "source": [
        "**Вывод:** **Наличие детей увеличивает % задолженности по возврату кредитов.**\n",
        "Однако в многодетных семьях % должников ниже **(8,2%)**, чем в семьях с одним ребенком **(9,2%)** или с двумя детьми **(9,5%)**.\n",
        "Самый низкий показатель у семей без детей **(7,5%)**."
      ]
    },
    {
      "cell_type": "markdown",
      "id": "410ecadb",
      "metadata": {
        "deletable": false,
        "editable": false,
        "id": "410ecadb"
      },
      "source": [
        "#### 3.2 Есть ли зависимость между семейным положением и возвратом кредита в срок?"
      ]
    },
    {
      "cell_type": "code",
      "execution_count": 28,
      "id": "bcef42ab",
      "metadata": {
        "deletable": false,
        "id": "bcef42ab",
        "colab": {
          "base_uri": "https://localhost:8080/",
          "height": 206
        },
        "outputId": "53f70acb-78a2-429c-dda9-adaad1e569c2"
      },
      "outputs": [
        {
          "output_type": "execute_result",
          "data": {
            "text/plain": [
              "           family_status  sum  count percent\n",
              "2         вдовец / вдова   63    951    6.6%\n",
              "1              в разводе   84   1189    7.1%\n",
              "4        женат / замужем  927  12261    7.6%\n",
              "3       гражданский брак  385   4134    9.3%\n",
              "0  Не женат / не замужем  273   2796    9.8%"
            ],
            "text/html": [
              "\n",
              "  <div id=\"df-831562eb-892f-4ae4-9f45-893ee9fafc91\" class=\"colab-df-container\">\n",
              "    <div>\n",
              "<style scoped>\n",
              "    .dataframe tbody tr th:only-of-type {\n",
              "        vertical-align: middle;\n",
              "    }\n",
              "\n",
              "    .dataframe tbody tr th {\n",
              "        vertical-align: top;\n",
              "    }\n",
              "\n",
              "    .dataframe thead th {\n",
              "        text-align: right;\n",
              "    }\n",
              "</style>\n",
              "<table border=\"1\" class=\"dataframe\">\n",
              "  <thead>\n",
              "    <tr style=\"text-align: right;\">\n",
              "      <th></th>\n",
              "      <th>family_status</th>\n",
              "      <th>sum</th>\n",
              "      <th>count</th>\n",
              "      <th>percent</th>\n",
              "    </tr>\n",
              "  </thead>\n",
              "  <tbody>\n",
              "    <tr>\n",
              "      <th>2</th>\n",
              "      <td>вдовец / вдова</td>\n",
              "      <td>63</td>\n",
              "      <td>951</td>\n",
              "      <td>6.6%</td>\n",
              "    </tr>\n",
              "    <tr>\n",
              "      <th>1</th>\n",
              "      <td>в разводе</td>\n",
              "      <td>84</td>\n",
              "      <td>1189</td>\n",
              "      <td>7.1%</td>\n",
              "    </tr>\n",
              "    <tr>\n",
              "      <th>4</th>\n",
              "      <td>женат / замужем</td>\n",
              "      <td>927</td>\n",
              "      <td>12261</td>\n",
              "      <td>7.6%</td>\n",
              "    </tr>\n",
              "    <tr>\n",
              "      <th>3</th>\n",
              "      <td>гражданский брак</td>\n",
              "      <td>385</td>\n",
              "      <td>4134</td>\n",
              "      <td>9.3%</td>\n",
              "    </tr>\n",
              "    <tr>\n",
              "      <th>0</th>\n",
              "      <td>Не женат / не замужем</td>\n",
              "      <td>273</td>\n",
              "      <td>2796</td>\n",
              "      <td>9.8%</td>\n",
              "    </tr>\n",
              "  </tbody>\n",
              "</table>\n",
              "</div>\n",
              "    <div class=\"colab-df-buttons\">\n",
              "\n",
              "  <div class=\"colab-df-container\">\n",
              "    <button class=\"colab-df-convert\" onclick=\"convertToInteractive('df-831562eb-892f-4ae4-9f45-893ee9fafc91')\"\n",
              "            title=\"Convert this dataframe to an interactive table.\"\n",
              "            style=\"display:none;\">\n",
              "\n",
              "  <svg xmlns=\"http://www.w3.org/2000/svg\" height=\"24px\" viewBox=\"0 -960 960 960\">\n",
              "    <path d=\"M120-120v-720h720v720H120Zm60-500h600v-160H180v160Zm220 220h160v-160H400v160Zm0 220h160v-160H400v160ZM180-400h160v-160H180v160Zm440 0h160v-160H620v160ZM180-180h160v-160H180v160Zm440 0h160v-160H620v160Z\"/>\n",
              "  </svg>\n",
              "    </button>\n",
              "\n",
              "  <style>\n",
              "    .colab-df-container {\n",
              "      display:flex;\n",
              "      gap: 12px;\n",
              "    }\n",
              "\n",
              "    .colab-df-convert {\n",
              "      background-color: #E8F0FE;\n",
              "      border: none;\n",
              "      border-radius: 50%;\n",
              "      cursor: pointer;\n",
              "      display: none;\n",
              "      fill: #1967D2;\n",
              "      height: 32px;\n",
              "      padding: 0 0 0 0;\n",
              "      width: 32px;\n",
              "    }\n",
              "\n",
              "    .colab-df-convert:hover {\n",
              "      background-color: #E2EBFA;\n",
              "      box-shadow: 0px 1px 2px rgba(60, 64, 67, 0.3), 0px 1px 3px 1px rgba(60, 64, 67, 0.15);\n",
              "      fill: #174EA6;\n",
              "    }\n",
              "\n",
              "    .colab-df-buttons div {\n",
              "      margin-bottom: 4px;\n",
              "    }\n",
              "\n",
              "    [theme=dark] .colab-df-convert {\n",
              "      background-color: #3B4455;\n",
              "      fill: #D2E3FC;\n",
              "    }\n",
              "\n",
              "    [theme=dark] .colab-df-convert:hover {\n",
              "      background-color: #434B5C;\n",
              "      box-shadow: 0px 1px 3px 1px rgba(0, 0, 0, 0.15);\n",
              "      filter: drop-shadow(0px 1px 2px rgba(0, 0, 0, 0.3));\n",
              "      fill: #FFFFFF;\n",
              "    }\n",
              "  </style>\n",
              "\n",
              "    <script>\n",
              "      const buttonEl =\n",
              "        document.querySelector('#df-831562eb-892f-4ae4-9f45-893ee9fafc91 button.colab-df-convert');\n",
              "      buttonEl.style.display =\n",
              "        google.colab.kernel.accessAllowed ? 'block' : 'none';\n",
              "\n",
              "      async function convertToInteractive(key) {\n",
              "        const element = document.querySelector('#df-831562eb-892f-4ae4-9f45-893ee9fafc91');\n",
              "        const dataTable =\n",
              "          await google.colab.kernel.invokeFunction('convertToInteractive',\n",
              "                                                    [key], {});\n",
              "        if (!dataTable) return;\n",
              "\n",
              "        const docLinkHtml = 'Like what you see? Visit the ' +\n",
              "          '<a target=\"_blank\" href=https://colab.research.google.com/notebooks/data_table.ipynb>data table notebook</a>'\n",
              "          + ' to learn more about interactive tables.';\n",
              "        element.innerHTML = '';\n",
              "        dataTable['output_type'] = 'display_data';\n",
              "        await google.colab.output.renderOutput(dataTable, element);\n",
              "        const docLink = document.createElement('div');\n",
              "        docLink.innerHTML = docLinkHtml;\n",
              "        element.appendChild(docLink);\n",
              "      }\n",
              "    </script>\n",
              "  </div>\n",
              "\n",
              "\n",
              "<div id=\"df-4e9fd67a-dc08-423b-99f2-8e7a2a427ea4\">\n",
              "  <button class=\"colab-df-quickchart\" onclick=\"quickchart('df-4e9fd67a-dc08-423b-99f2-8e7a2a427ea4')\"\n",
              "            title=\"Suggest charts\"\n",
              "            style=\"display:none;\">\n",
              "\n",
              "<svg xmlns=\"http://www.w3.org/2000/svg\" height=\"24px\"viewBox=\"0 0 24 24\"\n",
              "     width=\"24px\">\n",
              "    <g>\n",
              "        <path d=\"M19 3H5c-1.1 0-2 .9-2 2v14c0 1.1.9 2 2 2h14c1.1 0 2-.9 2-2V5c0-1.1-.9-2-2-2zM9 17H7v-7h2v7zm4 0h-2V7h2v10zm4 0h-2v-4h2v4z\"/>\n",
              "    </g>\n",
              "</svg>\n",
              "  </button>\n",
              "\n",
              "<style>\n",
              "  .colab-df-quickchart {\n",
              "      --bg-color: #E8F0FE;\n",
              "      --fill-color: #1967D2;\n",
              "      --hover-bg-color: #E2EBFA;\n",
              "      --hover-fill-color: #174EA6;\n",
              "      --disabled-fill-color: #AAA;\n",
              "      --disabled-bg-color: #DDD;\n",
              "  }\n",
              "\n",
              "  [theme=dark] .colab-df-quickchart {\n",
              "      --bg-color: #3B4455;\n",
              "      --fill-color: #D2E3FC;\n",
              "      --hover-bg-color: #434B5C;\n",
              "      --hover-fill-color: #FFFFFF;\n",
              "      --disabled-bg-color: #3B4455;\n",
              "      --disabled-fill-color: #666;\n",
              "  }\n",
              "\n",
              "  .colab-df-quickchart {\n",
              "    background-color: var(--bg-color);\n",
              "    border: none;\n",
              "    border-radius: 50%;\n",
              "    cursor: pointer;\n",
              "    display: none;\n",
              "    fill: var(--fill-color);\n",
              "    height: 32px;\n",
              "    padding: 0;\n",
              "    width: 32px;\n",
              "  }\n",
              "\n",
              "  .colab-df-quickchart:hover {\n",
              "    background-color: var(--hover-bg-color);\n",
              "    box-shadow: 0 1px 2px rgba(60, 64, 67, 0.3), 0 1px 3px 1px rgba(60, 64, 67, 0.15);\n",
              "    fill: var(--button-hover-fill-color);\n",
              "  }\n",
              "\n",
              "  .colab-df-quickchart-complete:disabled,\n",
              "  .colab-df-quickchart-complete:disabled:hover {\n",
              "    background-color: var(--disabled-bg-color);\n",
              "    fill: var(--disabled-fill-color);\n",
              "    box-shadow: none;\n",
              "  }\n",
              "\n",
              "  .colab-df-spinner {\n",
              "    border: 2px solid var(--fill-color);\n",
              "    border-color: transparent;\n",
              "    border-bottom-color: var(--fill-color);\n",
              "    animation:\n",
              "      spin 1s steps(1) infinite;\n",
              "  }\n",
              "\n",
              "  @keyframes spin {\n",
              "    0% {\n",
              "      border-color: transparent;\n",
              "      border-bottom-color: var(--fill-color);\n",
              "      border-left-color: var(--fill-color);\n",
              "    }\n",
              "    20% {\n",
              "      border-color: transparent;\n",
              "      border-left-color: var(--fill-color);\n",
              "      border-top-color: var(--fill-color);\n",
              "    }\n",
              "    30% {\n",
              "      border-color: transparent;\n",
              "      border-left-color: var(--fill-color);\n",
              "      border-top-color: var(--fill-color);\n",
              "      border-right-color: var(--fill-color);\n",
              "    }\n",
              "    40% {\n",
              "      border-color: transparent;\n",
              "      border-right-color: var(--fill-color);\n",
              "      border-top-color: var(--fill-color);\n",
              "    }\n",
              "    60% {\n",
              "      border-color: transparent;\n",
              "      border-right-color: var(--fill-color);\n",
              "    }\n",
              "    80% {\n",
              "      border-color: transparent;\n",
              "      border-right-color: var(--fill-color);\n",
              "      border-bottom-color: var(--fill-color);\n",
              "    }\n",
              "    90% {\n",
              "      border-color: transparent;\n",
              "      border-bottom-color: var(--fill-color);\n",
              "    }\n",
              "  }\n",
              "</style>\n",
              "\n",
              "  <script>\n",
              "    async function quickchart(key) {\n",
              "      const quickchartButtonEl =\n",
              "        document.querySelector('#' + key + ' button');\n",
              "      quickchartButtonEl.disabled = true;  // To prevent multiple clicks.\n",
              "      quickchartButtonEl.classList.add('colab-df-spinner');\n",
              "      try {\n",
              "        const charts = await google.colab.kernel.invokeFunction(\n",
              "            'suggestCharts', [key], {});\n",
              "      } catch (error) {\n",
              "        console.error('Error during call to suggestCharts:', error);\n",
              "      }\n",
              "      quickchartButtonEl.classList.remove('colab-df-spinner');\n",
              "      quickchartButtonEl.classList.add('colab-df-quickchart-complete');\n",
              "    }\n",
              "    (() => {\n",
              "      let quickchartButtonEl =\n",
              "        document.querySelector('#df-4e9fd67a-dc08-423b-99f2-8e7a2a427ea4 button');\n",
              "      quickchartButtonEl.style.display =\n",
              "        google.colab.kernel.accessAllowed ? 'block' : 'none';\n",
              "    })();\n",
              "  </script>\n",
              "</div>\n",
              "    </div>\n",
              "  </div>\n"
            ]
          },
          "metadata": {},
          "execution_count": 28
        }
      ],
      "source": [
        "data_family = data.pivot_table(index=['family_status'], values=['debt'], aggfunc=['sum', 'count', 'mean'])\n",
        "data_family.columns = ['sum', 'count', 'percent']\n",
        "data_family=data_family.reset_index()\n",
        "data_family['percent'] = data_family['percent'].map('{:.1%}'.format)\n",
        "data_family.sort_values(by='percent')"
      ]
    },
    {
      "cell_type": "markdown",
      "id": "164c65f8",
      "metadata": {
        "deletable": false,
        "id": "164c65f8"
      },
      "source": [
        "**Вывод:** Самый низкий процент по задолжности у категории **вдовец / вдова (6,6%)**. Это может быть обусловленно получением дополнительного дохода в виде **наследства**, а так же судя по общей тенденции люди становятся вдовецами или вдовами уже в пенсионном возрасте или предпенсионном, что говорит о взрослых детях, которые могут помочь или постоянном доходе ввиде пенсии.\n",
        "Самый высокий показатель у категории **Не женат / не замужем (9.8%)**. Это может быть обусловленно тем, что у них больше свободы распаряжатся своими средствами и так же в основном в эту категорю лиц входят более молодые люди, что говорит о недостаточной финансовой грамотности."
      ]
    },
    {
      "cell_type": "markdown",
      "id": "b1fe120c",
      "metadata": {
        "deletable": false,
        "editable": false,
        "id": "b1fe120c"
      },
      "source": [
        "#### 3.3 Есть ли зависимость между уровнем дохода и возвратом кредита в срок?"
      ]
    },
    {
      "cell_type": "code",
      "execution_count": 29,
      "id": "dc71c7e3",
      "metadata": {
        "deletable": false,
        "id": "dc71c7e3",
        "colab": {
          "base_uri": "https://localhost:8080/",
          "height": 206
        },
        "outputId": "6f88648f-2c55-4ae0-cb13-76526ab6d767"
      },
      "outputs": [
        {
          "output_type": "execute_result",
          "data": {
            "text/plain": [
              "  total_income_category   sum  count percent\n",
              "3                     D    21    349    6.0%\n",
              "1                     B   354   5014    7.1%\n",
              "0                     A     2     25    8.0%\n",
              "2                     C  1353  15921    8.5%\n",
              "4                     E     2     22    9.1%"
            ],
            "text/html": [
              "\n",
              "  <div id=\"df-6024a8fe-1903-46e8-bac3-f9f6a5fb5aff\" class=\"colab-df-container\">\n",
              "    <div>\n",
              "<style scoped>\n",
              "    .dataframe tbody tr th:only-of-type {\n",
              "        vertical-align: middle;\n",
              "    }\n",
              "\n",
              "    .dataframe tbody tr th {\n",
              "        vertical-align: top;\n",
              "    }\n",
              "\n",
              "    .dataframe thead th {\n",
              "        text-align: right;\n",
              "    }\n",
              "</style>\n",
              "<table border=\"1\" class=\"dataframe\">\n",
              "  <thead>\n",
              "    <tr style=\"text-align: right;\">\n",
              "      <th></th>\n",
              "      <th>total_income_category</th>\n",
              "      <th>sum</th>\n",
              "      <th>count</th>\n",
              "      <th>percent</th>\n",
              "    </tr>\n",
              "  </thead>\n",
              "  <tbody>\n",
              "    <tr>\n",
              "      <th>3</th>\n",
              "      <td>D</td>\n",
              "      <td>21</td>\n",
              "      <td>349</td>\n",
              "      <td>6.0%</td>\n",
              "    </tr>\n",
              "    <tr>\n",
              "      <th>1</th>\n",
              "      <td>B</td>\n",
              "      <td>354</td>\n",
              "      <td>5014</td>\n",
              "      <td>7.1%</td>\n",
              "    </tr>\n",
              "    <tr>\n",
              "      <th>0</th>\n",
              "      <td>A</td>\n",
              "      <td>2</td>\n",
              "      <td>25</td>\n",
              "      <td>8.0%</td>\n",
              "    </tr>\n",
              "    <tr>\n",
              "      <th>2</th>\n",
              "      <td>C</td>\n",
              "      <td>1353</td>\n",
              "      <td>15921</td>\n",
              "      <td>8.5%</td>\n",
              "    </tr>\n",
              "    <tr>\n",
              "      <th>4</th>\n",
              "      <td>E</td>\n",
              "      <td>2</td>\n",
              "      <td>22</td>\n",
              "      <td>9.1%</td>\n",
              "    </tr>\n",
              "  </tbody>\n",
              "</table>\n",
              "</div>\n",
              "    <div class=\"colab-df-buttons\">\n",
              "\n",
              "  <div class=\"colab-df-container\">\n",
              "    <button class=\"colab-df-convert\" onclick=\"convertToInteractive('df-6024a8fe-1903-46e8-bac3-f9f6a5fb5aff')\"\n",
              "            title=\"Convert this dataframe to an interactive table.\"\n",
              "            style=\"display:none;\">\n",
              "\n",
              "  <svg xmlns=\"http://www.w3.org/2000/svg\" height=\"24px\" viewBox=\"0 -960 960 960\">\n",
              "    <path d=\"M120-120v-720h720v720H120Zm60-500h600v-160H180v160Zm220 220h160v-160H400v160Zm0 220h160v-160H400v160ZM180-400h160v-160H180v160Zm440 0h160v-160H620v160ZM180-180h160v-160H180v160Zm440 0h160v-160H620v160Z\"/>\n",
              "  </svg>\n",
              "    </button>\n",
              "\n",
              "  <style>\n",
              "    .colab-df-container {\n",
              "      display:flex;\n",
              "      gap: 12px;\n",
              "    }\n",
              "\n",
              "    .colab-df-convert {\n",
              "      background-color: #E8F0FE;\n",
              "      border: none;\n",
              "      border-radius: 50%;\n",
              "      cursor: pointer;\n",
              "      display: none;\n",
              "      fill: #1967D2;\n",
              "      height: 32px;\n",
              "      padding: 0 0 0 0;\n",
              "      width: 32px;\n",
              "    }\n",
              "\n",
              "    .colab-df-convert:hover {\n",
              "      background-color: #E2EBFA;\n",
              "      box-shadow: 0px 1px 2px rgba(60, 64, 67, 0.3), 0px 1px 3px 1px rgba(60, 64, 67, 0.15);\n",
              "      fill: #174EA6;\n",
              "    }\n",
              "\n",
              "    .colab-df-buttons div {\n",
              "      margin-bottom: 4px;\n",
              "    }\n",
              "\n",
              "    [theme=dark] .colab-df-convert {\n",
              "      background-color: #3B4455;\n",
              "      fill: #D2E3FC;\n",
              "    }\n",
              "\n",
              "    [theme=dark] .colab-df-convert:hover {\n",
              "      background-color: #434B5C;\n",
              "      box-shadow: 0px 1px 3px 1px rgba(0, 0, 0, 0.15);\n",
              "      filter: drop-shadow(0px 1px 2px rgba(0, 0, 0, 0.3));\n",
              "      fill: #FFFFFF;\n",
              "    }\n",
              "  </style>\n",
              "\n",
              "    <script>\n",
              "      const buttonEl =\n",
              "        document.querySelector('#df-6024a8fe-1903-46e8-bac3-f9f6a5fb5aff button.colab-df-convert');\n",
              "      buttonEl.style.display =\n",
              "        google.colab.kernel.accessAllowed ? 'block' : 'none';\n",
              "\n",
              "      async function convertToInteractive(key) {\n",
              "        const element = document.querySelector('#df-6024a8fe-1903-46e8-bac3-f9f6a5fb5aff');\n",
              "        const dataTable =\n",
              "          await google.colab.kernel.invokeFunction('convertToInteractive',\n",
              "                                                    [key], {});\n",
              "        if (!dataTable) return;\n",
              "\n",
              "        const docLinkHtml = 'Like what you see? Visit the ' +\n",
              "          '<a target=\"_blank\" href=https://colab.research.google.com/notebooks/data_table.ipynb>data table notebook</a>'\n",
              "          + ' to learn more about interactive tables.';\n",
              "        element.innerHTML = '';\n",
              "        dataTable['output_type'] = 'display_data';\n",
              "        await google.colab.output.renderOutput(dataTable, element);\n",
              "        const docLink = document.createElement('div');\n",
              "        docLink.innerHTML = docLinkHtml;\n",
              "        element.appendChild(docLink);\n",
              "      }\n",
              "    </script>\n",
              "  </div>\n",
              "\n",
              "\n",
              "<div id=\"df-cea28dac-2ac7-45cc-8fc0-29f01d980828\">\n",
              "  <button class=\"colab-df-quickchart\" onclick=\"quickchart('df-cea28dac-2ac7-45cc-8fc0-29f01d980828')\"\n",
              "            title=\"Suggest charts\"\n",
              "            style=\"display:none;\">\n",
              "\n",
              "<svg xmlns=\"http://www.w3.org/2000/svg\" height=\"24px\"viewBox=\"0 0 24 24\"\n",
              "     width=\"24px\">\n",
              "    <g>\n",
              "        <path d=\"M19 3H5c-1.1 0-2 .9-2 2v14c0 1.1.9 2 2 2h14c1.1 0 2-.9 2-2V5c0-1.1-.9-2-2-2zM9 17H7v-7h2v7zm4 0h-2V7h2v10zm4 0h-2v-4h2v4z\"/>\n",
              "    </g>\n",
              "</svg>\n",
              "  </button>\n",
              "\n",
              "<style>\n",
              "  .colab-df-quickchart {\n",
              "      --bg-color: #E8F0FE;\n",
              "      --fill-color: #1967D2;\n",
              "      --hover-bg-color: #E2EBFA;\n",
              "      --hover-fill-color: #174EA6;\n",
              "      --disabled-fill-color: #AAA;\n",
              "      --disabled-bg-color: #DDD;\n",
              "  }\n",
              "\n",
              "  [theme=dark] .colab-df-quickchart {\n",
              "      --bg-color: #3B4455;\n",
              "      --fill-color: #D2E3FC;\n",
              "      --hover-bg-color: #434B5C;\n",
              "      --hover-fill-color: #FFFFFF;\n",
              "      --disabled-bg-color: #3B4455;\n",
              "      --disabled-fill-color: #666;\n",
              "  }\n",
              "\n",
              "  .colab-df-quickchart {\n",
              "    background-color: var(--bg-color);\n",
              "    border: none;\n",
              "    border-radius: 50%;\n",
              "    cursor: pointer;\n",
              "    display: none;\n",
              "    fill: var(--fill-color);\n",
              "    height: 32px;\n",
              "    padding: 0;\n",
              "    width: 32px;\n",
              "  }\n",
              "\n",
              "  .colab-df-quickchart:hover {\n",
              "    background-color: var(--hover-bg-color);\n",
              "    box-shadow: 0 1px 2px rgba(60, 64, 67, 0.3), 0 1px 3px 1px rgba(60, 64, 67, 0.15);\n",
              "    fill: var(--button-hover-fill-color);\n",
              "  }\n",
              "\n",
              "  .colab-df-quickchart-complete:disabled,\n",
              "  .colab-df-quickchart-complete:disabled:hover {\n",
              "    background-color: var(--disabled-bg-color);\n",
              "    fill: var(--disabled-fill-color);\n",
              "    box-shadow: none;\n",
              "  }\n",
              "\n",
              "  .colab-df-spinner {\n",
              "    border: 2px solid var(--fill-color);\n",
              "    border-color: transparent;\n",
              "    border-bottom-color: var(--fill-color);\n",
              "    animation:\n",
              "      spin 1s steps(1) infinite;\n",
              "  }\n",
              "\n",
              "  @keyframes spin {\n",
              "    0% {\n",
              "      border-color: transparent;\n",
              "      border-bottom-color: var(--fill-color);\n",
              "      border-left-color: var(--fill-color);\n",
              "    }\n",
              "    20% {\n",
              "      border-color: transparent;\n",
              "      border-left-color: var(--fill-color);\n",
              "      border-top-color: var(--fill-color);\n",
              "    }\n",
              "    30% {\n",
              "      border-color: transparent;\n",
              "      border-left-color: var(--fill-color);\n",
              "      border-top-color: var(--fill-color);\n",
              "      border-right-color: var(--fill-color);\n",
              "    }\n",
              "    40% {\n",
              "      border-color: transparent;\n",
              "      border-right-color: var(--fill-color);\n",
              "      border-top-color: var(--fill-color);\n",
              "    }\n",
              "    60% {\n",
              "      border-color: transparent;\n",
              "      border-right-color: var(--fill-color);\n",
              "    }\n",
              "    80% {\n",
              "      border-color: transparent;\n",
              "      border-right-color: var(--fill-color);\n",
              "      border-bottom-color: var(--fill-color);\n",
              "    }\n",
              "    90% {\n",
              "      border-color: transparent;\n",
              "      border-bottom-color: var(--fill-color);\n",
              "    }\n",
              "  }\n",
              "</style>\n",
              "\n",
              "  <script>\n",
              "    async function quickchart(key) {\n",
              "      const quickchartButtonEl =\n",
              "        document.querySelector('#' + key + ' button');\n",
              "      quickchartButtonEl.disabled = true;  // To prevent multiple clicks.\n",
              "      quickchartButtonEl.classList.add('colab-df-spinner');\n",
              "      try {\n",
              "        const charts = await google.colab.kernel.invokeFunction(\n",
              "            'suggestCharts', [key], {});\n",
              "      } catch (error) {\n",
              "        console.error('Error during call to suggestCharts:', error);\n",
              "      }\n",
              "      quickchartButtonEl.classList.remove('colab-df-spinner');\n",
              "      quickchartButtonEl.classList.add('colab-df-quickchart-complete');\n",
              "    }\n",
              "    (() => {\n",
              "      let quickchartButtonEl =\n",
              "        document.querySelector('#df-cea28dac-2ac7-45cc-8fc0-29f01d980828 button');\n",
              "      quickchartButtonEl.style.display =\n",
              "        google.colab.kernel.accessAllowed ? 'block' : 'none';\n",
              "    })();\n",
              "  </script>\n",
              "</div>\n",
              "    </div>\n",
              "  </div>\n"
            ]
          },
          "metadata": {},
          "execution_count": 29
        }
      ],
      "source": [
        "data_income = data.pivot_table(index=['total_income_category'], values=['debt'], aggfunc=['sum', 'count', 'mean'])\n",
        "data_income.columns = ['sum', 'count', 'percent']\n",
        "data_income=data_income.reset_index()\n",
        "data_income['percent'] = data_income['percent'].map('{:.1%}'.format)\n",
        "data_income.sort_values(by='percent')"
      ]
    },
    {
      "cell_type": "markdown",
      "id": "1aa53b08",
      "metadata": {
        "deletable": false,
        "id": "1aa53b08"
      },
      "source": [
        "**Вывод:** Самый высокий % по задолжности у категории \"Е\", но основываясь на таблицу выше, я не расматривал бы категорию \"Е\" и \"А\" из-за маленькой выборки, а выводы делаем опираясь на категории \"C\", \"B\", \"D\". Основываясь на это:\n",
        "Самый высокий % по задолжности у **категории \"С\" (8,5%)**,\n",
        "Самый низкий % по задолжности у **категории \"D\" (6,0%)**"
      ]
    },
    {
      "cell_type": "markdown",
      "id": "99723da6",
      "metadata": {
        "deletable": false,
        "editable": false,
        "id": "99723da6"
      },
      "source": [
        "#### 3.4 Как разные цели кредита влияют на его возврат в срок?"
      ]
    },
    {
      "cell_type": "code",
      "execution_count": 30,
      "id": "27649425",
      "metadata": {
        "deletable": false,
        "id": "27649425",
        "colab": {
          "base_uri": "https://localhost:8080/",
          "height": 175
        },
        "outputId": "e6841517-3968-4f81-8a67-69a1483acd37"
      },
      "outputs": [
        {
          "output_type": "execute_result",
          "data": {
            "text/plain": [
              "           purpose_category  sum  count percent\n",
              "1  операции с недвижимостью  780  10751    7.3%\n",
              "3        проведение свадьбы  183   2313    7.9%\n",
              "0    операции с автомобилем  400   4279    9.3%\n",
              "2     получение образования  369   3988    9.3%"
            ],
            "text/html": [
              "\n",
              "  <div id=\"df-fdc5d76e-2df1-4291-99f9-771ae1ab8b26\" class=\"colab-df-container\">\n",
              "    <div>\n",
              "<style scoped>\n",
              "    .dataframe tbody tr th:only-of-type {\n",
              "        vertical-align: middle;\n",
              "    }\n",
              "\n",
              "    .dataframe tbody tr th {\n",
              "        vertical-align: top;\n",
              "    }\n",
              "\n",
              "    .dataframe thead th {\n",
              "        text-align: right;\n",
              "    }\n",
              "</style>\n",
              "<table border=\"1\" class=\"dataframe\">\n",
              "  <thead>\n",
              "    <tr style=\"text-align: right;\">\n",
              "      <th></th>\n",
              "      <th>purpose_category</th>\n",
              "      <th>sum</th>\n",
              "      <th>count</th>\n",
              "      <th>percent</th>\n",
              "    </tr>\n",
              "  </thead>\n",
              "  <tbody>\n",
              "    <tr>\n",
              "      <th>1</th>\n",
              "      <td>операции с недвижимостью</td>\n",
              "      <td>780</td>\n",
              "      <td>10751</td>\n",
              "      <td>7.3%</td>\n",
              "    </tr>\n",
              "    <tr>\n",
              "      <th>3</th>\n",
              "      <td>проведение свадьбы</td>\n",
              "      <td>183</td>\n",
              "      <td>2313</td>\n",
              "      <td>7.9%</td>\n",
              "    </tr>\n",
              "    <tr>\n",
              "      <th>0</th>\n",
              "      <td>операции с автомобилем</td>\n",
              "      <td>400</td>\n",
              "      <td>4279</td>\n",
              "      <td>9.3%</td>\n",
              "    </tr>\n",
              "    <tr>\n",
              "      <th>2</th>\n",
              "      <td>получение образования</td>\n",
              "      <td>369</td>\n",
              "      <td>3988</td>\n",
              "      <td>9.3%</td>\n",
              "    </tr>\n",
              "  </tbody>\n",
              "</table>\n",
              "</div>\n",
              "    <div class=\"colab-df-buttons\">\n",
              "\n",
              "  <div class=\"colab-df-container\">\n",
              "    <button class=\"colab-df-convert\" onclick=\"convertToInteractive('df-fdc5d76e-2df1-4291-99f9-771ae1ab8b26')\"\n",
              "            title=\"Convert this dataframe to an interactive table.\"\n",
              "            style=\"display:none;\">\n",
              "\n",
              "  <svg xmlns=\"http://www.w3.org/2000/svg\" height=\"24px\" viewBox=\"0 -960 960 960\">\n",
              "    <path d=\"M120-120v-720h720v720H120Zm60-500h600v-160H180v160Zm220 220h160v-160H400v160Zm0 220h160v-160H400v160ZM180-400h160v-160H180v160Zm440 0h160v-160H620v160ZM180-180h160v-160H180v160Zm440 0h160v-160H620v160Z\"/>\n",
              "  </svg>\n",
              "    </button>\n",
              "\n",
              "  <style>\n",
              "    .colab-df-container {\n",
              "      display:flex;\n",
              "      gap: 12px;\n",
              "    }\n",
              "\n",
              "    .colab-df-convert {\n",
              "      background-color: #E8F0FE;\n",
              "      border: none;\n",
              "      border-radius: 50%;\n",
              "      cursor: pointer;\n",
              "      display: none;\n",
              "      fill: #1967D2;\n",
              "      height: 32px;\n",
              "      padding: 0 0 0 0;\n",
              "      width: 32px;\n",
              "    }\n",
              "\n",
              "    .colab-df-convert:hover {\n",
              "      background-color: #E2EBFA;\n",
              "      box-shadow: 0px 1px 2px rgba(60, 64, 67, 0.3), 0px 1px 3px 1px rgba(60, 64, 67, 0.15);\n",
              "      fill: #174EA6;\n",
              "    }\n",
              "\n",
              "    .colab-df-buttons div {\n",
              "      margin-bottom: 4px;\n",
              "    }\n",
              "\n",
              "    [theme=dark] .colab-df-convert {\n",
              "      background-color: #3B4455;\n",
              "      fill: #D2E3FC;\n",
              "    }\n",
              "\n",
              "    [theme=dark] .colab-df-convert:hover {\n",
              "      background-color: #434B5C;\n",
              "      box-shadow: 0px 1px 3px 1px rgba(0, 0, 0, 0.15);\n",
              "      filter: drop-shadow(0px 1px 2px rgba(0, 0, 0, 0.3));\n",
              "      fill: #FFFFFF;\n",
              "    }\n",
              "  </style>\n",
              "\n",
              "    <script>\n",
              "      const buttonEl =\n",
              "        document.querySelector('#df-fdc5d76e-2df1-4291-99f9-771ae1ab8b26 button.colab-df-convert');\n",
              "      buttonEl.style.display =\n",
              "        google.colab.kernel.accessAllowed ? 'block' : 'none';\n",
              "\n",
              "      async function convertToInteractive(key) {\n",
              "        const element = document.querySelector('#df-fdc5d76e-2df1-4291-99f9-771ae1ab8b26');\n",
              "        const dataTable =\n",
              "          await google.colab.kernel.invokeFunction('convertToInteractive',\n",
              "                                                    [key], {});\n",
              "        if (!dataTable) return;\n",
              "\n",
              "        const docLinkHtml = 'Like what you see? Visit the ' +\n",
              "          '<a target=\"_blank\" href=https://colab.research.google.com/notebooks/data_table.ipynb>data table notebook</a>'\n",
              "          + ' to learn more about interactive tables.';\n",
              "        element.innerHTML = '';\n",
              "        dataTable['output_type'] = 'display_data';\n",
              "        await google.colab.output.renderOutput(dataTable, element);\n",
              "        const docLink = document.createElement('div');\n",
              "        docLink.innerHTML = docLinkHtml;\n",
              "        element.appendChild(docLink);\n",
              "      }\n",
              "    </script>\n",
              "  </div>\n",
              "\n",
              "\n",
              "<div id=\"df-6c7f2f4f-dc16-4f70-b80d-5e399cc59702\">\n",
              "  <button class=\"colab-df-quickchart\" onclick=\"quickchart('df-6c7f2f4f-dc16-4f70-b80d-5e399cc59702')\"\n",
              "            title=\"Suggest charts\"\n",
              "            style=\"display:none;\">\n",
              "\n",
              "<svg xmlns=\"http://www.w3.org/2000/svg\" height=\"24px\"viewBox=\"0 0 24 24\"\n",
              "     width=\"24px\">\n",
              "    <g>\n",
              "        <path d=\"M19 3H5c-1.1 0-2 .9-2 2v14c0 1.1.9 2 2 2h14c1.1 0 2-.9 2-2V5c0-1.1-.9-2-2-2zM9 17H7v-7h2v7zm4 0h-2V7h2v10zm4 0h-2v-4h2v4z\"/>\n",
              "    </g>\n",
              "</svg>\n",
              "  </button>\n",
              "\n",
              "<style>\n",
              "  .colab-df-quickchart {\n",
              "      --bg-color: #E8F0FE;\n",
              "      --fill-color: #1967D2;\n",
              "      --hover-bg-color: #E2EBFA;\n",
              "      --hover-fill-color: #174EA6;\n",
              "      --disabled-fill-color: #AAA;\n",
              "      --disabled-bg-color: #DDD;\n",
              "  }\n",
              "\n",
              "  [theme=dark] .colab-df-quickchart {\n",
              "      --bg-color: #3B4455;\n",
              "      --fill-color: #D2E3FC;\n",
              "      --hover-bg-color: #434B5C;\n",
              "      --hover-fill-color: #FFFFFF;\n",
              "      --disabled-bg-color: #3B4455;\n",
              "      --disabled-fill-color: #666;\n",
              "  }\n",
              "\n",
              "  .colab-df-quickchart {\n",
              "    background-color: var(--bg-color);\n",
              "    border: none;\n",
              "    border-radius: 50%;\n",
              "    cursor: pointer;\n",
              "    display: none;\n",
              "    fill: var(--fill-color);\n",
              "    height: 32px;\n",
              "    padding: 0;\n",
              "    width: 32px;\n",
              "  }\n",
              "\n",
              "  .colab-df-quickchart:hover {\n",
              "    background-color: var(--hover-bg-color);\n",
              "    box-shadow: 0 1px 2px rgba(60, 64, 67, 0.3), 0 1px 3px 1px rgba(60, 64, 67, 0.15);\n",
              "    fill: var(--button-hover-fill-color);\n",
              "  }\n",
              "\n",
              "  .colab-df-quickchart-complete:disabled,\n",
              "  .colab-df-quickchart-complete:disabled:hover {\n",
              "    background-color: var(--disabled-bg-color);\n",
              "    fill: var(--disabled-fill-color);\n",
              "    box-shadow: none;\n",
              "  }\n",
              "\n",
              "  .colab-df-spinner {\n",
              "    border: 2px solid var(--fill-color);\n",
              "    border-color: transparent;\n",
              "    border-bottom-color: var(--fill-color);\n",
              "    animation:\n",
              "      spin 1s steps(1) infinite;\n",
              "  }\n",
              "\n",
              "  @keyframes spin {\n",
              "    0% {\n",
              "      border-color: transparent;\n",
              "      border-bottom-color: var(--fill-color);\n",
              "      border-left-color: var(--fill-color);\n",
              "    }\n",
              "    20% {\n",
              "      border-color: transparent;\n",
              "      border-left-color: var(--fill-color);\n",
              "      border-top-color: var(--fill-color);\n",
              "    }\n",
              "    30% {\n",
              "      border-color: transparent;\n",
              "      border-left-color: var(--fill-color);\n",
              "      border-top-color: var(--fill-color);\n",
              "      border-right-color: var(--fill-color);\n",
              "    }\n",
              "    40% {\n",
              "      border-color: transparent;\n",
              "      border-right-color: var(--fill-color);\n",
              "      border-top-color: var(--fill-color);\n",
              "    }\n",
              "    60% {\n",
              "      border-color: transparent;\n",
              "      border-right-color: var(--fill-color);\n",
              "    }\n",
              "    80% {\n",
              "      border-color: transparent;\n",
              "      border-right-color: var(--fill-color);\n",
              "      border-bottom-color: var(--fill-color);\n",
              "    }\n",
              "    90% {\n",
              "      border-color: transparent;\n",
              "      border-bottom-color: var(--fill-color);\n",
              "    }\n",
              "  }\n",
              "</style>\n",
              "\n",
              "  <script>\n",
              "    async function quickchart(key) {\n",
              "      const quickchartButtonEl =\n",
              "        document.querySelector('#' + key + ' button');\n",
              "      quickchartButtonEl.disabled = true;  // To prevent multiple clicks.\n",
              "      quickchartButtonEl.classList.add('colab-df-spinner');\n",
              "      try {\n",
              "        const charts = await google.colab.kernel.invokeFunction(\n",
              "            'suggestCharts', [key], {});\n",
              "      } catch (error) {\n",
              "        console.error('Error during call to suggestCharts:', error);\n",
              "      }\n",
              "      quickchartButtonEl.classList.remove('colab-df-spinner');\n",
              "      quickchartButtonEl.classList.add('colab-df-quickchart-complete');\n",
              "    }\n",
              "    (() => {\n",
              "      let quickchartButtonEl =\n",
              "        document.querySelector('#df-6c7f2f4f-dc16-4f70-b80d-5e399cc59702 button');\n",
              "      quickchartButtonEl.style.display =\n",
              "        google.colab.kernel.accessAllowed ? 'block' : 'none';\n",
              "    })();\n",
              "  </script>\n",
              "</div>\n",
              "    </div>\n",
              "  </div>\n"
            ]
          },
          "metadata": {},
          "execution_count": 30
        }
      ],
      "source": [
        "data_purpose = data.pivot_table(index=['purpose_category'], values=['debt'], aggfunc=['sum', 'count', 'mean'])\n",
        "data_purpose.columns = ['sum', 'count', 'percent']\n",
        "data_purpose=data_purpose.reset_index()\n",
        "data_purpose['percent'] = data_purpose['percent'].map('{:.1%}'.format)\n",
        "data_purpose.sort_values(by='percent')"
      ]
    },
    {
      "cell_type": "markdown",
      "id": "d4532c75",
      "metadata": {
        "deletable": false,
        "id": "d4532c75"
      },
      "source": [
        "**Вывод:** Операясь на дынные можно сделать вывод, что самый большой % задолжности у лиц бравшие кредиты на **получение образования (9.3%)** и **операции с автомобилем\t(9.3%)**"
      ]
    },
    {
      "cell_type": "markdown",
      "id": "c3cc5b82",
      "metadata": {
        "deletable": false,
        "editable": false,
        "id": "c3cc5b82"
      },
      "source": [
        "#### 3.5 Приведите возможные причины появления пропусков в исходных данных."
      ]
    },
    {
      "cell_type": "markdown",
      "id": "6bac924e",
      "metadata": {
        "deletable": false,
        "id": "6bac924e"
      },
      "source": [
        "*Ответ:* Неверный ввод данных, повреждение файла данных при сохранении, технические проблемы."
      ]
    },
    {
      "cell_type": "markdown",
      "id": "8798725a",
      "metadata": {
        "deletable": false,
        "editable": false,
        "id": "8798725a"
      },
      "source": [
        "#### 3.6 Объясните, почему заполнить пропуски медианным значением — лучшее решение для количественных переменных."
      ]
    },
    {
      "cell_type": "markdown",
      "id": "96517bce",
      "metadata": {
        "deletable": false,
        "id": "96517bce"
      },
      "source": [
        "*Ответ:* Медианное значение лучше всего отражает выборку в целом, в случае, если есть незаполненные данные. Среднее арифметическое отражает ситуацию некорректно, так как не учитывает разброс данных."
      ]
    },
    {
      "cell_type": "markdown",
      "id": "ca617e7b",
      "metadata": {
        "deletable": false,
        "editable": false,
        "id": "ca617e7b"
      },
      "source": [
        "### Шаг 4: общий вывод."
      ]
    },
    {
      "cell_type": "markdown",
      "id": "d4cd3bf8",
      "metadata": {
        "deletable": false,
        "id": "d4cd3bf8"
      },
      "source": [
        "1.Наличие детей увеличивает % задолженности по возврату кредитов. Самый большой % у холостых(Не женат / не замужем) и лиц живущих в Гражданском браке. Лица с доходом 50001–200000 — 'C'. Лица берущие кредиты на получение образования и операции с автомобилем чаще всего попадают в задолжность.\n",
        "2.Появления пропусков в данных могут быть: неверный ввод данных, повреждение файла данных при сохранении, технические проблемы.\n",
        "Заполнение пропусков медианой является лучшим решением из-за устойчивости медианы к выбросам и аномальным значениям.\n"
      ]
    }
  ],
  "metadata": {
    "ExecuteTimeLog": [
      {
        "duration": 52,
        "start_time": "2023-02-08T18:30:24.942Z"
      },
      {
        "duration": 6,
        "start_time": "2023-02-08T18:31:22.740Z"
      },
      {
        "duration": 759,
        "start_time": "2023-02-08T18:31:34.072Z"
      },
      {
        "duration": 21,
        "start_time": "2023-02-08T18:31:34.833Z"
      },
      {
        "duration": 17,
        "start_time": "2023-02-08T18:31:35.220Z"
      },
      {
        "duration": 10,
        "start_time": "2023-02-08T18:31:36.670Z"
      },
      {
        "duration": 32,
        "start_time": "2023-02-08T18:31:36.948Z"
      },
      {
        "duration": 4,
        "start_time": "2023-02-08T18:31:38.550Z"
      },
      {
        "duration": 8,
        "start_time": "2023-02-08T18:31:39.440Z"
      },
      {
        "duration": 4,
        "start_time": "2023-02-08T18:31:41.536Z"
      },
      {
        "duration": 7,
        "start_time": "2023-02-08T18:31:42.986Z"
      },
      {
        "duration": 7,
        "start_time": "2023-02-08T18:31:44.258Z"
      },
      {
        "duration": 33,
        "start_time": "2023-02-08T18:31:49.087Z"
      },
      {
        "duration": 9,
        "start_time": "2023-02-08T18:31:50.315Z"
      },
      {
        "duration": 4,
        "start_time": "2023-02-08T18:31:54.281Z"
      },
      {
        "duration": 12,
        "start_time": "2023-02-08T18:31:55.636Z"
      },
      {
        "duration": 21,
        "start_time": "2023-02-08T18:31:59.841Z"
      },
      {
        "duration": 18,
        "start_time": "2023-02-08T18:32:00.669Z"
      },
      {
        "duration": 8,
        "start_time": "2023-02-08T18:32:03.763Z"
      },
      {
        "duration": 9,
        "start_time": "2023-02-08T18:32:10.179Z"
      },
      {
        "duration": 6,
        "start_time": "2023-02-08T18:32:12.616Z"
      },
      {
        "duration": 3,
        "start_time": "2023-02-08T18:32:26.247Z"
      },
      {
        "duration": 9,
        "start_time": "2023-02-08T18:32:27.112Z"
      },
      {
        "duration": 25,
        "start_time": "2023-02-08T18:32:30.549Z"
      },
      {
        "duration": 14,
        "start_time": "2023-02-08T18:34:03.682Z"
      },
      {
        "duration": 6,
        "start_time": "2023-02-08T18:41:40.932Z"
      },
      {
        "duration": 20,
        "start_time": "2023-02-08T18:57:11.575Z"
      },
      {
        "duration": 25,
        "start_time": "2023-02-08T18:57:33.177Z"
      },
      {
        "duration": 17,
        "start_time": "2023-02-08T19:21:34.945Z"
      },
      {
        "duration": 27,
        "start_time": "2023-02-08T19:34:04.233Z"
      },
      {
        "duration": 17,
        "start_time": "2023-02-08T19:34:18.324Z"
      },
      {
        "duration": 18,
        "start_time": "2023-02-08T19:34:59.254Z"
      },
      {
        "duration": 26,
        "start_time": "2023-02-08T19:35:13.976Z"
      },
      {
        "duration": 25,
        "start_time": "2023-02-08T19:36:23.861Z"
      },
      {
        "duration": 6,
        "start_time": "2023-02-08T19:45:44.435Z"
      },
      {
        "duration": 9,
        "start_time": "2023-02-08T19:46:47.140Z"
      },
      {
        "duration": 9,
        "start_time": "2023-02-08T19:47:16.267Z"
      },
      {
        "duration": 6,
        "start_time": "2023-02-08T19:49:27.122Z"
      },
      {
        "duration": 9,
        "start_time": "2023-02-08T20:12:55.531Z"
      },
      {
        "duration": 4,
        "start_time": "2023-02-08T20:13:50.179Z"
      },
      {
        "duration": 7,
        "start_time": "2023-02-08T20:13:51.194Z"
      },
      {
        "duration": 9,
        "start_time": "2023-02-08T20:13:55.057Z"
      },
      {
        "duration": 3,
        "start_time": "2023-02-08T20:13:57.360Z"
      },
      {
        "duration": 7,
        "start_time": "2023-02-08T20:13:58.813Z"
      },
      {
        "duration": 38,
        "start_time": "2023-02-08T20:14:18.568Z"
      },
      {
        "duration": 32,
        "start_time": "2023-02-08T20:14:55.337Z"
      },
      {
        "duration": 39,
        "start_time": "2023-02-08T20:15:21.802Z"
      },
      {
        "duration": 51,
        "start_time": "2023-02-08T20:29:00.367Z"
      },
      {
        "duration": 3,
        "start_time": "2023-02-08T20:29:12.142Z"
      },
      {
        "duration": 50,
        "start_time": "2023-02-08T20:29:37.126Z"
      },
      {
        "duration": 45,
        "start_time": "2023-02-08T20:29:48.388Z"
      },
      {
        "duration": 3,
        "start_time": "2023-02-08T20:29:51.268Z"
      },
      {
        "duration": 7,
        "start_time": "2023-02-08T20:29:53.065Z"
      },
      {
        "duration": 6,
        "start_time": "2023-02-08T20:29:53.659Z"
      },
      {
        "duration": 45,
        "start_time": "2023-02-08T20:29:54.163Z"
      },
      {
        "duration": 4,
        "start_time": "2023-02-08T20:29:56.442Z"
      },
      {
        "duration": 7,
        "start_time": "2023-02-08T20:29:56.899Z"
      },
      {
        "duration": 3,
        "start_time": "2023-02-08T20:29:57.361Z"
      },
      {
        "duration": 46,
        "start_time": "2023-02-08T20:29:58.835Z"
      },
      {
        "duration": 7,
        "start_time": "2023-02-08T20:31:21.600Z"
      },
      {
        "duration": 4,
        "start_time": "2023-02-08T20:31:22.164Z"
      },
      {
        "duration": 46,
        "start_time": "2023-02-08T20:31:22.995Z"
      },
      {
        "duration": 55,
        "start_time": "2023-02-08T20:31:46.449Z"
      },
      {
        "duration": 33,
        "start_time": "2023-02-08T20:31:52.041Z"
      },
      {
        "duration": 28,
        "start_time": "2023-02-08T20:40:18.788Z"
      },
      {
        "duration": 33,
        "start_time": "2023-02-08T20:41:22.994Z"
      },
      {
        "duration": 24,
        "start_time": "2023-02-08T20:43:42.825Z"
      },
      {
        "duration": 31,
        "start_time": "2023-02-08T20:43:45.188Z"
      },
      {
        "duration": 47,
        "start_time": "2023-02-08T20:43:52.852Z"
      },
      {
        "duration": 35,
        "start_time": "2023-02-08T20:44:20.177Z"
      },
      {
        "duration": 42,
        "start_time": "2023-02-08T20:44:46.573Z"
      },
      {
        "duration": 57,
        "start_time": "2023-02-08T20:46:30.018Z"
      },
      {
        "duration": 37,
        "start_time": "2023-02-08T20:46:44.371Z"
      },
      {
        "duration": 58,
        "start_time": "2023-02-08T20:49:00.192Z"
      },
      {
        "duration": 42,
        "start_time": "2023-02-08T20:49:18.905Z"
      },
      {
        "duration": 43,
        "start_time": "2023-02-08T20:49:25.387Z"
      },
      {
        "duration": 40,
        "start_time": "2023-02-08T20:49:36.304Z"
      },
      {
        "duration": 40,
        "start_time": "2023-02-08T20:52:02.360Z"
      },
      {
        "duration": 50,
        "start_time": "2023-02-08T20:55:50.594Z"
      },
      {
        "duration": 45,
        "start_time": "2023-02-08T20:56:15.280Z"
      },
      {
        "duration": 58,
        "start_time": "2023-02-08T20:57:30.583Z"
      },
      {
        "duration": 41,
        "start_time": "2023-02-08T20:57:40.643Z"
      },
      {
        "duration": 33,
        "start_time": "2023-02-08T20:57:55.005Z"
      },
      {
        "duration": 52,
        "start_time": "2023-02-08T20:58:26.827Z"
      },
      {
        "duration": 46,
        "start_time": "2023-02-08T20:58:34.882Z"
      },
      {
        "duration": 31,
        "start_time": "2023-02-08T20:58:48.864Z"
      },
      {
        "duration": 31,
        "start_time": "2023-02-08T20:58:53.422Z"
      },
      {
        "duration": 37,
        "start_time": "2023-02-08T20:59:53.719Z"
      },
      {
        "duration": 64,
        "start_time": "2023-02-08T21:02:27.950Z"
      },
      {
        "duration": 34,
        "start_time": "2023-02-08T21:02:35.528Z"
      },
      {
        "duration": 50,
        "start_time": "2023-02-08T21:02:52.960Z"
      },
      {
        "duration": 29,
        "start_time": "2023-02-08T21:05:34.771Z"
      },
      {
        "duration": 727,
        "start_time": "2023-02-09T13:50:20.950Z"
      },
      {
        "duration": 21,
        "start_time": "2023-02-09T13:50:23.169Z"
      },
      {
        "duration": 14,
        "start_time": "2023-02-09T13:50:24.407Z"
      },
      {
        "duration": 11,
        "start_time": "2023-02-09T13:50:27.069Z"
      },
      {
        "duration": 34,
        "start_time": "2023-02-09T13:50:28.496Z"
      },
      {
        "duration": 4,
        "start_time": "2023-02-09T13:50:30.079Z"
      },
      {
        "duration": 8,
        "start_time": "2023-02-09T13:50:31.108Z"
      },
      {
        "duration": 5,
        "start_time": "2023-02-09T13:50:32.593Z"
      },
      {
        "duration": 6,
        "start_time": "2023-02-09T13:50:33.405Z"
      },
      {
        "duration": 6,
        "start_time": "2023-02-09T13:50:33.940Z"
      },
      {
        "duration": 35,
        "start_time": "2023-02-09T13:50:34.686Z"
      },
      {
        "duration": 10,
        "start_time": "2023-02-09T13:50:36.167Z"
      },
      {
        "duration": 4,
        "start_time": "2023-02-09T13:50:38.073Z"
      },
      {
        "duration": 16,
        "start_time": "2023-02-09T13:50:40.082Z"
      },
      {
        "duration": 18,
        "start_time": "2023-02-09T13:50:40.704Z"
      },
      {
        "duration": 15,
        "start_time": "2023-02-09T13:50:41.220Z"
      },
      {
        "duration": 4,
        "start_time": "2023-02-09T13:50:48.467Z"
      },
      {
        "duration": 11,
        "start_time": "2023-02-09T13:50:49.014Z"
      },
      {
        "duration": 6,
        "start_time": "2023-02-09T13:50:50.380Z"
      },
      {
        "duration": 3,
        "start_time": "2023-02-09T13:50:52.005Z"
      },
      {
        "duration": 7,
        "start_time": "2023-02-09T13:50:52.600Z"
      },
      {
        "duration": 12,
        "start_time": "2023-02-09T13:50:54.581Z"
      },
      {
        "duration": 24,
        "start_time": "2023-02-09T13:50:55.581Z"
      },
      {
        "duration": 5,
        "start_time": "2023-02-09T13:50:59.285Z"
      },
      {
        "duration": 3,
        "start_time": "2023-02-09T13:50:59.969Z"
      },
      {
        "duration": 7,
        "start_time": "2023-02-09T13:51:00.600Z"
      },
      {
        "duration": 33,
        "start_time": "2023-02-09T13:51:01.297Z"
      },
      {
        "duration": 29,
        "start_time": "2023-02-09T13:57:38.781Z"
      },
      {
        "duration": 27,
        "start_time": "2023-02-09T13:58:54.080Z"
      },
      {
        "duration": 27,
        "start_time": "2023-02-09T14:02:13.224Z"
      },
      {
        "duration": 26,
        "start_time": "2023-02-09T14:02:29.084Z"
      },
      {
        "duration": 29,
        "start_time": "2023-02-09T14:03:24.668Z"
      },
      {
        "duration": 27,
        "start_time": "2023-02-09T14:03:52.901Z"
      },
      {
        "duration": 36,
        "start_time": "2023-02-09T14:04:32.789Z"
      },
      {
        "duration": 45,
        "start_time": "2023-02-09T14:04:52.116Z"
      },
      {
        "duration": 109,
        "start_time": "2023-02-09T14:06:33.066Z"
      },
      {
        "duration": 39,
        "start_time": "2023-02-09T14:06:51.118Z"
      },
      {
        "duration": 40,
        "start_time": "2023-02-09T14:07:16.426Z"
      },
      {
        "duration": 42,
        "start_time": "2023-02-09T14:07:35.021Z"
      },
      {
        "duration": 25,
        "start_time": "2023-02-09T14:23:10.593Z"
      },
      {
        "duration": 39,
        "start_time": "2023-02-09T14:23:28.724Z"
      },
      {
        "duration": 29,
        "start_time": "2023-02-09T14:27:28.926Z"
      },
      {
        "duration": 994,
        "start_time": "2023-02-09T14:28:04.067Z"
      },
      {
        "duration": 15,
        "start_time": "2023-02-09T14:28:20.569Z"
      },
      {
        "duration": 29,
        "start_time": "2023-02-09T14:31:12.158Z"
      },
      {
        "duration": 33,
        "start_time": "2023-02-09T14:31:51.914Z"
      },
      {
        "duration": 44,
        "start_time": "2023-02-09T14:32:40.079Z"
      },
      {
        "duration": 29,
        "start_time": "2023-02-09T14:32:54.074Z"
      },
      {
        "duration": 37,
        "start_time": "2023-02-09T14:33:04.932Z"
      },
      {
        "duration": 33,
        "start_time": "2023-02-09T14:33:18.788Z"
      },
      {
        "duration": 27,
        "start_time": "2023-02-09T14:36:32.899Z"
      },
      {
        "duration": 30,
        "start_time": "2023-02-09T14:36:46.136Z"
      },
      {
        "duration": 29,
        "start_time": "2023-02-09T14:37:01.327Z"
      },
      {
        "duration": 15,
        "start_time": "2023-02-09T14:37:28.753Z"
      },
      {
        "duration": 793,
        "start_time": "2023-02-09T14:38:57.545Z"
      },
      {
        "duration": 742,
        "start_time": "2023-02-09T14:39:23.695Z"
      },
      {
        "duration": 65,
        "start_time": "2023-02-09T14:40:42.492Z"
      },
      {
        "duration": 12,
        "start_time": "2023-02-09T14:48:03.553Z"
      },
      {
        "duration": 12,
        "start_time": "2023-02-09T14:48:09.874Z"
      },
      {
        "duration": 12,
        "start_time": "2023-02-09T14:48:31.646Z"
      },
      {
        "duration": 13,
        "start_time": "2023-02-09T14:48:34.050Z"
      },
      {
        "duration": 41,
        "start_time": "2023-02-09T14:48:52.910Z"
      },
      {
        "duration": 14,
        "start_time": "2023-02-09T14:49:08.821Z"
      },
      {
        "duration": 67,
        "start_time": "2023-02-09T14:49:21.605Z"
      },
      {
        "duration": 13,
        "start_time": "2023-02-09T14:49:22.346Z"
      },
      {
        "duration": 12,
        "start_time": "2023-02-09T14:49:22.823Z"
      },
      {
        "duration": 9,
        "start_time": "2023-02-09T14:49:23.663Z"
      },
      {
        "duration": 31,
        "start_time": "2023-02-09T14:49:24.096Z"
      },
      {
        "duration": 3,
        "start_time": "2023-02-09T14:49:24.740Z"
      },
      {
        "duration": 8,
        "start_time": "2023-02-09T14:49:25.191Z"
      },
      {
        "duration": 5,
        "start_time": "2023-02-09T14:49:25.896Z"
      },
      {
        "duration": 7,
        "start_time": "2023-02-09T14:49:26.352Z"
      },
      {
        "duration": 5,
        "start_time": "2023-02-09T14:49:26.803Z"
      },
      {
        "duration": 31,
        "start_time": "2023-02-09T14:49:27.503Z"
      },
      {
        "duration": 10,
        "start_time": "2023-02-09T14:49:28.010Z"
      },
      {
        "duration": 4,
        "start_time": "2023-02-09T14:49:28.909Z"
      },
      {
        "duration": 10,
        "start_time": "2023-02-09T14:49:29.674Z"
      },
      {
        "duration": 19,
        "start_time": "2023-02-09T14:49:30.209Z"
      },
      {
        "duration": 17,
        "start_time": "2023-02-09T14:49:30.453Z"
      },
      {
        "duration": 3,
        "start_time": "2023-02-09T14:49:31.181Z"
      },
      {
        "duration": 8,
        "start_time": "2023-02-09T14:49:31.468Z"
      },
      {
        "duration": 7,
        "start_time": "2023-02-09T14:49:32.306Z"
      },
      {
        "duration": 4,
        "start_time": "2023-02-09T14:49:33.668Z"
      },
      {
        "duration": 8,
        "start_time": "2023-02-09T14:49:34.196Z"
      },
      {
        "duration": 13,
        "start_time": "2023-02-09T14:49:36.094Z"
      },
      {
        "duration": 16,
        "start_time": "2023-02-09T14:49:37.228Z"
      },
      {
        "duration": 5,
        "start_time": "2023-02-09T14:49:40.722Z"
      },
      {
        "duration": 3,
        "start_time": "2023-02-09T14:49:41.745Z"
      },
      {
        "duration": 9,
        "start_time": "2023-02-09T14:49:42.424Z"
      },
      {
        "duration": 31,
        "start_time": "2023-02-09T14:49:43.796Z"
      },
      {
        "duration": 72,
        "start_time": "2023-02-09T14:52:22.931Z"
      },
      {
        "duration": 50,
        "start_time": "2023-02-09T14:53:27.604Z"
      },
      {
        "duration": 13,
        "start_time": "2023-02-09T14:54:00.641Z"
      },
      {
        "duration": 7,
        "start_time": "2023-02-09T14:54:10.130Z"
      },
      {
        "duration": 30,
        "start_time": "2023-02-09T14:54:42.125Z"
      },
      {
        "duration": 73,
        "start_time": "2023-02-09T14:55:07.818Z"
      },
      {
        "duration": 13,
        "start_time": "2023-02-09T14:55:15.864Z"
      },
      {
        "duration": 17,
        "start_time": "2023-02-09T14:55:26.042Z"
      },
      {
        "duration": 16,
        "start_time": "2023-02-09T14:57:19.389Z"
      },
      {
        "duration": 201,
        "start_time": "2023-02-09T14:58:01.332Z"
      },
      {
        "duration": 26,
        "start_time": "2023-02-09T14:58:28.898Z"
      },
      {
        "duration": 29,
        "start_time": "2023-02-09T15:00:18.943Z"
      },
      {
        "duration": 30,
        "start_time": "2023-02-09T15:00:55.609Z"
      },
      {
        "duration": 26,
        "start_time": "2023-02-09T15:01:33.931Z"
      },
      {
        "duration": 26,
        "start_time": "2023-02-09T15:02:29.714Z"
      },
      {
        "duration": 31,
        "start_time": "2023-02-09T15:06:32.716Z"
      },
      {
        "duration": 31,
        "start_time": "2023-02-09T15:06:37.193Z"
      },
      {
        "duration": 37,
        "start_time": "2023-02-09T15:07:36.357Z"
      },
      {
        "duration": 42,
        "start_time": "2023-02-09T15:08:36.259Z"
      },
      {
        "duration": 29,
        "start_time": "2023-02-09T15:09:03.026Z"
      },
      {
        "duration": 26,
        "start_time": "2023-02-09T15:09:38.611Z"
      },
      {
        "duration": 27,
        "start_time": "2023-02-09T15:09:53.882Z"
      },
      {
        "duration": 26,
        "start_time": "2023-02-09T15:09:58.356Z"
      },
      {
        "duration": 7,
        "start_time": "2023-02-09T15:10:14.736Z"
      },
      {
        "duration": 27,
        "start_time": "2023-02-09T15:10:15.493Z"
      },
      {
        "duration": 27,
        "start_time": "2023-02-09T15:10:25.421Z"
      },
      {
        "duration": 70,
        "start_time": "2023-02-09T15:10:55.239Z"
      },
      {
        "duration": 16,
        "start_time": "2023-02-09T15:10:55.651Z"
      },
      {
        "duration": 15,
        "start_time": "2023-02-09T15:10:56.064Z"
      },
      {
        "duration": 12,
        "start_time": "2023-02-09T15:10:56.900Z"
      },
      {
        "duration": 39,
        "start_time": "2023-02-09T15:10:57.310Z"
      },
      {
        "duration": 4,
        "start_time": "2023-02-09T15:10:57.962Z"
      },
      {
        "duration": 8,
        "start_time": "2023-02-09T15:10:58.390Z"
      },
      {
        "duration": 4,
        "start_time": "2023-02-09T15:10:59.077Z"
      },
      {
        "duration": 6,
        "start_time": "2023-02-09T15:10:59.526Z"
      },
      {
        "duration": 4,
        "start_time": "2023-02-09T15:10:59.988Z"
      },
      {
        "duration": 34,
        "start_time": "2023-02-09T15:11:00.680Z"
      },
      {
        "duration": 9,
        "start_time": "2023-02-09T15:11:01.246Z"
      },
      {
        "duration": 4,
        "start_time": "2023-02-09T15:11:02.262Z"
      },
      {
        "duration": 13,
        "start_time": "2023-02-09T15:11:03.167Z"
      },
      {
        "duration": 19,
        "start_time": "2023-02-09T15:11:03.679Z"
      },
      {
        "duration": 16,
        "start_time": "2023-02-09T15:11:03.904Z"
      },
      {
        "duration": 3,
        "start_time": "2023-02-09T15:11:04.939Z"
      },
      {
        "duration": 9,
        "start_time": "2023-02-09T15:11:05.344Z"
      },
      {
        "duration": 5,
        "start_time": "2023-02-09T15:11:05.966Z"
      },
      {
        "duration": 6,
        "start_time": "2023-02-09T15:11:07.294Z"
      },
      {
        "duration": 8,
        "start_time": "2023-02-09T15:11:07.659Z"
      },
      {
        "duration": 12,
        "start_time": "2023-02-09T15:11:08.984Z"
      },
      {
        "duration": 15,
        "start_time": "2023-02-09T15:11:09.659Z"
      },
      {
        "duration": 5,
        "start_time": "2023-02-09T15:11:10.475Z"
      },
      {
        "duration": 3,
        "start_time": "2023-02-09T15:11:11.272Z"
      },
      {
        "duration": 7,
        "start_time": "2023-02-09T15:11:11.866Z"
      },
      {
        "duration": 29,
        "start_time": "2023-02-09T15:11:12.464Z"
      },
      {
        "duration": 27,
        "start_time": "2023-02-09T15:11:34.017Z"
      },
      {
        "duration": 28,
        "start_time": "2023-02-09T15:11:38.556Z"
      },
      {
        "duration": 204,
        "start_time": "2023-02-09T15:17:51.085Z"
      },
      {
        "duration": 27,
        "start_time": "2023-02-09T15:18:16.216Z"
      },
      {
        "duration": 40,
        "start_time": "2023-02-09T15:18:33.783Z"
      },
      {
        "duration": 31,
        "start_time": "2023-02-09T15:19:16.800Z"
      },
      {
        "duration": 39,
        "start_time": "2023-02-09T15:19:40.962Z"
      },
      {
        "duration": 27,
        "start_time": "2023-02-09T15:26:29.398Z"
      },
      {
        "duration": 29,
        "start_time": "2023-02-09T15:27:34.660Z"
      },
      {
        "duration": 36,
        "start_time": "2023-02-09T15:28:26.165Z"
      },
      {
        "duration": 28,
        "start_time": "2023-02-09T15:29:20.798Z"
      },
      {
        "duration": 25,
        "start_time": "2023-02-09T15:35:54.618Z"
      },
      {
        "duration": 518,
        "start_time": "2023-11-22T14:36:59.765Z"
      },
      {
        "duration": 21,
        "start_time": "2023-11-22T14:37:00.285Z"
      },
      {
        "duration": 36,
        "start_time": "2023-11-22T14:37:00.308Z"
      },
      {
        "duration": 37,
        "start_time": "2023-11-22T14:37:00.346Z"
      },
      {
        "duration": 59,
        "start_time": "2023-11-22T14:37:00.385Z"
      },
      {
        "duration": 7,
        "start_time": "2023-11-22T14:37:00.446Z"
      },
      {
        "duration": 31,
        "start_time": "2023-11-22T14:37:00.455Z"
      },
      {
        "duration": 27,
        "start_time": "2023-11-22T14:37:00.488Z"
      },
      {
        "duration": 24,
        "start_time": "2023-11-22T14:37:00.517Z"
      },
      {
        "duration": 6,
        "start_time": "2023-11-22T14:37:00.544Z"
      },
      {
        "duration": 48,
        "start_time": "2023-11-22T14:37:00.552Z"
      },
      {
        "duration": 9,
        "start_time": "2023-11-22T14:37:00.602Z"
      },
      {
        "duration": 21,
        "start_time": "2023-11-22T14:37:00.612Z"
      },
      {
        "duration": 15,
        "start_time": "2023-11-22T14:37:00.634Z"
      },
      {
        "duration": 28,
        "start_time": "2023-11-22T14:37:00.651Z"
      },
      {
        "duration": 23,
        "start_time": "2023-11-22T14:37:00.680Z"
      },
      {
        "duration": 3,
        "start_time": "2023-11-22T14:37:00.705Z"
      },
      {
        "duration": 25,
        "start_time": "2023-11-22T14:37:00.710Z"
      },
      {
        "duration": 10,
        "start_time": "2023-11-22T14:37:00.736Z"
      },
      {
        "duration": 26,
        "start_time": "2023-11-22T14:37:00.748Z"
      },
      {
        "duration": 49,
        "start_time": "2023-11-22T14:37:00.776Z"
      },
      {
        "duration": 36,
        "start_time": "2023-11-22T14:37:00.827Z"
      },
      {
        "duration": 50,
        "start_time": "2023-11-22T14:37:00.865Z"
      },
      {
        "duration": 51,
        "start_time": "2023-11-22T14:37:00.916Z"
      },
      {
        "duration": 35,
        "start_time": "2023-11-22T14:37:00.968Z"
      },
      {
        "duration": 32,
        "start_time": "2023-11-22T14:37:01.004Z"
      },
      {
        "duration": 55,
        "start_time": "2023-11-22T14:37:01.037Z"
      },
      {
        "duration": 44,
        "start_time": "2023-11-22T14:37:01.095Z"
      },
      {
        "duration": 72,
        "start_time": "2023-11-22T14:37:01.141Z"
      },
      {
        "duration": 36,
        "start_time": "2023-11-22T14:37:01.215Z"
      }
    ],
    "colab": {
      "provenance": []
    },
    "kernelspec": {
      "display_name": "Python 3 (ipykernel)",
      "language": "python",
      "name": "python3"
    },
    "language_info": {
      "codemirror_mode": {
        "name": "ipython",
        "version": 3
      },
      "file_extension": ".py",
      "mimetype": "text/x-python",
      "name": "python",
      "nbconvert_exporter": "python",
      "pygments_lexer": "ipython3",
      "version": "3.9.5"
    },
    "toc": {
      "base_numbering": 1,
      "nav_menu": {},
      "number_sections": true,
      "sideBar": true,
      "skip_h1_title": true,
      "title_cell": "Table of Contents",
      "title_sidebar": "Contents",
      "toc_cell": false,
      "toc_position": {
        "height": "calc(100% - 180px)",
        "left": "10px",
        "top": "150px",
        "width": "318.872px"
      },
      "toc_section_display": true,
      "toc_window_display": false
    }
  },
  "nbformat": 4,
  "nbformat_minor": 5
}