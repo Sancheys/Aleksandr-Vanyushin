{
 "cells": [
  {
   "cell_type": "markdown",
   "metadata": {
    "id": "3ecLkJuQggOO"
   },
   "source": [
    "# Рекомендация тарифов"
   ]
  },
  {
   "cell_type": "markdown",
   "metadata": {
    "id": "cFr5SOdAggOP"
   },
   "source": [
    "В вашем распоряжении данные о поведении клиентов, которые уже перешли на эти тарифы (из проекта курса «Статистический анализ данных»). Нужно построить модель для задачи классификации, которая выберет подходящий тариф. Предобработка данных не понадобится — вы её уже сделали.\n",
    "\n",
    "Постройте модель с максимально большим значением *accuracy*. Чтобы сдать проект успешно, нужно довести долю правильных ответов по крайней мере до 0.75. Проверьте *accuracy* на тестовой выборке самостоятельно."
   ]
  },
  {
   "cell_type": "markdown",
   "metadata": {
    "id": "YAsMUKoMggOQ"
   },
   "source": [
    "# Описание данных\n",
    "\n",
    "Каждый объект в наборе данных — это информация о поведении одного пользователя за месяц. Известно:\n",
    "\n",
    "* сalls — количество звонков,\n",
    "* minutes — суммарная длительность звонков в минутах,\n",
    "* messages — количество sms-сообщений,\n",
    "* mb_used — израсходованный интернет-трафик в Мб,\n",
    "* is_ultra — каким тарифом пользовался в течение месяца («Ультра» — 1, «Смарт» — 0)."
   ]
  },
  {
   "cell_type": "markdown",
   "metadata": {
    "id": "Witjs_dWggOQ"
   },
   "source": [
    "## Откройте и изучите файл"
   ]
  },
  {
   "cell_type": "code",
   "execution_count": 1,
   "metadata": {
    "id": "oVvT0eNeggOR"
   },
   "outputs": [],
   "source": [
    "import pandas as pd\n",
    "from sklearn.tree import DecisionTreeClassifier\n",
    "from sklearn.ensemble import RandomForestClassifier\n",
    "from sklearn.linear_model import LogisticRegression\n",
    "from sklearn.model_selection import train_test_split\n",
    "from sklearn.metrics import accuracy_score\n",
    "from sklearn.dummy import DummyClassifier"
   ]
  },
  {
   "cell_type": "code",
   "execution_count": 2,
   "metadata": {
    "id": "jQY1rBxHggOT"
   },
   "outputs": [],
   "source": [
    "df = pd.read_csv('users_behavior.csv')"
   ]
  },
  {
   "cell_type": "code",
   "execution_count": 3,
   "metadata": {
    "id": "Vt5yrq8cggOU",
    "outputId": "67dd6897-dd89-4f1e-e2fd-bfed9556aa56"
   },
   "outputs": [
    {
     "data": {
      "text/html": [
       "<div>\n",
       "<style scoped>\n",
       "    .dataframe tbody tr th:only-of-type {\n",
       "        vertical-align: middle;\n",
       "    }\n",
       "\n",
       "    .dataframe tbody tr th {\n",
       "        vertical-align: top;\n",
       "    }\n",
       "\n",
       "    .dataframe thead th {\n",
       "        text-align: right;\n",
       "    }\n",
       "</style>\n",
       "<table border=\"1\" class=\"dataframe\">\n",
       "  <thead>\n",
       "    <tr style=\"text-align: right;\">\n",
       "      <th></th>\n",
       "      <th>calls</th>\n",
       "      <th>minutes</th>\n",
       "      <th>messages</th>\n",
       "      <th>mb_used</th>\n",
       "      <th>is_ultra</th>\n",
       "    </tr>\n",
       "  </thead>\n",
       "  <tbody>\n",
       "    <tr>\n",
       "      <th>0</th>\n",
       "      <td>40.0</td>\n",
       "      <td>311.90</td>\n",
       "      <td>83.0</td>\n",
       "      <td>19915.42</td>\n",
       "      <td>0</td>\n",
       "    </tr>\n",
       "    <tr>\n",
       "      <th>1</th>\n",
       "      <td>85.0</td>\n",
       "      <td>516.75</td>\n",
       "      <td>56.0</td>\n",
       "      <td>22696.96</td>\n",
       "      <td>0</td>\n",
       "    </tr>\n",
       "    <tr>\n",
       "      <th>2</th>\n",
       "      <td>77.0</td>\n",
       "      <td>467.66</td>\n",
       "      <td>86.0</td>\n",
       "      <td>21060.45</td>\n",
       "      <td>0</td>\n",
       "    </tr>\n",
       "    <tr>\n",
       "      <th>3</th>\n",
       "      <td>106.0</td>\n",
       "      <td>745.53</td>\n",
       "      <td>81.0</td>\n",
       "      <td>8437.39</td>\n",
       "      <td>1</td>\n",
       "    </tr>\n",
       "    <tr>\n",
       "      <th>4</th>\n",
       "      <td>66.0</td>\n",
       "      <td>418.74</td>\n",
       "      <td>1.0</td>\n",
       "      <td>14502.75</td>\n",
       "      <td>0</td>\n",
       "    </tr>\n",
       "  </tbody>\n",
       "</table>\n",
       "</div>"
      ],
      "text/plain": [
       "   calls  minutes  messages   mb_used  is_ultra\n",
       "0   40.0   311.90      83.0  19915.42         0\n",
       "1   85.0   516.75      56.0  22696.96         0\n",
       "2   77.0   467.66      86.0  21060.45         0\n",
       "3  106.0   745.53      81.0   8437.39         1\n",
       "4   66.0   418.74       1.0  14502.75         0"
      ]
     },
     "execution_count": 3,
     "metadata": {},
     "output_type": "execute_result"
    }
   ],
   "source": [
    "df.head()"
   ]
  },
  {
   "cell_type": "code",
   "execution_count": 4,
   "metadata": {
    "id": "HkLw41uTggOV",
    "outputId": "beff6915-ac79-49a7-dcb5-36912a84a8c0"
   },
   "outputs": [
    {
     "name": "stdout",
     "output_type": "stream",
     "text": [
      "<class 'pandas.core.frame.DataFrame'>\n",
      "RangeIndex: 3214 entries, 0 to 3213\n",
      "Data columns (total 5 columns):\n",
      " #   Column    Non-Null Count  Dtype  \n",
      "---  ------    --------------  -----  \n",
      " 0   calls     3214 non-null   float64\n",
      " 1   minutes   3214 non-null   float64\n",
      " 2   messages  3214 non-null   float64\n",
      " 3   mb_used   3214 non-null   float64\n",
      " 4   is_ultra  3214 non-null   int64  \n",
      "dtypes: float64(4), int64(1)\n",
      "memory usage: 125.7 KB\n",
      "None\n",
      "-------------------------\n",
      "calls [  0.   1.   2.   3.   4.   5.   6.   7.   8.   9.  10.  11.  12.  13.\n",
      "  14.  15.  16.  17.  18.  19.  20.  21.  22.  23.  24.  25.  26.  27.\n",
      "  28.  29.  30.  31.  32.  33.  34.  35.  36.  37.  38.  39.  40.  41.\n",
      "  42.  43.  44.  45.  46.  47.  48.  49.  50.  51.  52.  53.  54.  55.\n",
      "  56.  57.  58.  59.  60.  61.  62.  63.  64.  65.  66.  67.  68.  69.\n",
      "  70.  71.  72.  73.  74.  75.  76.  77.  78.  79.  80.  81.  82.  83.\n",
      "  84.  85.  86.  87.  88.  89.  90.  91.  92.  93.  94.  95.  96.  97.\n",
      "  98.  99. 100. 101. 102. 103. 104. 105. 106. 107. 108. 109. 110. 111.\n",
      " 112. 113. 114. 115. 116. 117. 118. 119. 120. 121. 122. 123. 124. 125.\n",
      " 126. 127. 128. 129. 130. 131. 132. 133. 134. 136. 137. 138. 140. 141.\n",
      " 142. 143. 144. 145. 146. 148. 150. 151. 152. 153. 154. 155. 156. 157.\n",
      " 158. 159. 160. 161. 162. 163. 164. 165. 167. 168. 169. 171. 172. 173.\n",
      " 174. 176. 177. 178. 180. 181. 182. 183. 184. 185. 188. 189. 196. 198.\n",
      " 203. 244.]\n",
      "calls : кол-во NaN 0 , процент NaN 0.0 %\n",
      "-------------------------\n",
      "minutes [0.00000e+00 1.00000e-01 1.00000e+00 ... 1.39022e+03 1.56645e+03\n",
      " 1.63206e+03]\n",
      "minutes : кол-во NaN 0 , процент NaN 0.0 %\n",
      "-------------------------\n",
      "messages [  0.   1.   2.   3.   4.   5.   6.   7.   8.   9.  10.  11.  12.  13.\n",
      "  14.  15.  16.  17.  18.  19.  20.  21.  22.  23.  24.  25.  26.  27.\n",
      "  28.  29.  30.  31.  32.  33.  34.  35.  36.  37.  38.  39.  40.  41.\n",
      "  42.  43.  44.  45.  46.  47.  48.  49.  50.  51.  52.  53.  54.  55.\n",
      "  56.  57.  58.  59.  60.  61.  62.  63.  64.  65.  66.  67.  68.  69.\n",
      "  70.  71.  72.  73.  74.  75.  76.  77.  78.  79.  80.  81.  82.  83.\n",
      "  84.  85.  86.  87.  88.  89.  90.  91.  92.  93.  94.  95.  96.  97.\n",
      "  98.  99. 100. 101. 102. 103. 104. 105. 106. 107. 108. 109. 110. 111.\n",
      " 112. 113. 114. 115. 116. 117. 118. 119. 120. 121. 122. 123. 124. 125.\n",
      " 126. 127. 128. 129. 130. 131. 132. 133. 134. 135. 136. 137. 138. 139.\n",
      " 140. 141. 142. 143. 144. 145. 146. 148. 149. 150. 151. 152. 153. 154.\n",
      " 155. 157. 158. 159. 162. 165. 169. 170. 171. 172. 173. 176. 178. 180.\n",
      " 181. 182. 183. 185. 188. 190. 191. 197. 201. 211. 223. 224.]\n",
      "messages : кол-во NaN 0 , процент NaN 0.0 %\n",
      "-------------------------\n",
      "mb_used [0.000000e+00 1.000000e-02 2.010800e+02 ... 4.518075e+04 4.835161e+04\n",
      " 4.974573e+04]\n",
      "mb_used : кол-во NaN 0 , процент NaN 0.0 %\n",
      "-------------------------\n",
      "is_ultra [0 1]\n",
      "is_ultra : кол-во NaN 0 , процент NaN 0.0 %\n"
     ]
    }
   ],
   "source": [
    "temp = df.copy() #Подсмотрел все это у прошлого проверяющего)))\n",
    "list_c = ['calls', 'minutes', 'messages', 'mb_used', 'is_ultra']\n",
    "print(temp.info())\n",
    "for col_l in list_c:\n",
    "  print('-'* 25)\n",
    "  print(col_l, temp[col_l].sort_values().unique())\n",
    "  print(col_l,': кол-во NaN',temp[col_l].isna().sum(),\n",
    "        ', процент NaN', round(temp[col_l].isna().mean()*100,2),'%')"
   ]
  },
  {
   "cell_type": "markdown",
   "metadata": {
    "id": "SMRhxv4NggOW"
   },
   "source": [
    "**Вывод:**\n",
    "\n",
    "Данные уже обработаны и готовые, так что можем приступить к обучению.\n",
    "\n"
   ]
  },
  {
   "cell_type": "markdown",
   "metadata": {
    "id": "uZMGJ6mDggOX"
   },
   "source": [
    "## Разбейте данные на выборки"
   ]
  },
  {
   "cell_type": "markdown",
   "metadata": {
    "id": "dU5HhQhxggOX"
   },
   "source": [
    "Для корректного обучения разобьем дата сет на 3 выборки - обучающую, валидационную и тестовую.\n",
    "\n",
    "Разобьем в пропорции 60%/20%/20%"
   ]
  },
  {
   "cell_type": "code",
   "execution_count": 5,
   "metadata": {
    "id": "Olrr2ZW4ggOX"
   },
   "outputs": [],
   "source": [
    "features = df.drop(['is_ultra'],axis=1)\n",
    "target = df['is_ultra']"
   ]
  },
  {
   "cell_type": "code",
   "execution_count": 6,
   "metadata": {
    "id": "5V0VpDmoggOY"
   },
   "outputs": [],
   "source": [
    "features_train, features_valid, target_train, target_valid = train_test_split(\n",
    "    features, target, test_size=0.2, random_state=1234)"
   ]
  },
  {
   "cell_type": "code",
   "execution_count": 7,
   "metadata": {
    "id": "PLtC6syGggOY"
   },
   "outputs": [],
   "source": [
    "features_train, features_test, target_train, target_test = train_test_split(\n",
    "    features_train, target_train, test_size=0.25, random_state=1234)"
   ]
  },
  {
   "cell_type": "code",
   "execution_count": 8,
   "metadata": {
    "id": "apiR-FT3ggOY",
    "outputId": "d6038ab2-1864-4ed3-e2c0-e4b35cd35d0d"
   },
   "outputs": [
    {
     "name": "stdout",
     "output_type": "stream",
     "text": [
      "(3214,) (1928,) (643,) (643,)\n"
     ]
    }
   ],
   "source": [
    "print(target.shape, target_train.shape, target_test.shape, target_test.shape)"
   ]
  },
  {
   "cell_type": "markdown",
   "metadata": {
    "id": "ce8rqEiqggOZ"
   },
   "source": [
    "**Вывод:**\n",
    "Разбили датасет на 3 выборки\n",
    "\n",
    "* target_train - обучающая 60%\n",
    "* target_test - тестовая 20%\n",
    "* target_test - валидационная 20%"
   ]
  },
  {
   "cell_type": "markdown",
   "metadata": {
    "id": "du8UTjxkggOZ"
   },
   "source": [
    "## Исследуйте модели"
   ]
  },
  {
   "cell_type": "markdown",
   "metadata": {
    "id": "hXqqVjejggOZ"
   },
   "source": [
    "**DecisionTreeClassifier**"
   ]
  },
  {
   "cell_type": "code",
   "execution_count": 9,
   "metadata": {
    "id": "b7D9tbUjggOa",
    "outputId": "594f6071-0251-481f-9f0a-1fcb0cbae1c7"
   },
   "outputs": [
    {
     "name": "stdout",
     "output_type": "stream",
     "text": [
      "Accuracy лучшей модели дерева решений на валидационной выборке: 0.7884914463452566 Глубина дерева: 3\n"
     ]
    }
   ],
   "source": [
    "best_model = None\n",
    "best_result = 0\n",
    "best_depth = 0\n",
    "for depth in range(1, 11):\n",
    "    model_decision = DecisionTreeClassifier(random_state=1234, max_depth=depth)\n",
    "    model_decision.fit(features_train, target_train)\n",
    "    predictions = model_decision.predict(features_valid)\n",
    "    result = accuracy_score(target_valid, predictions)\n",
    "    if result > best_result:\n",
    "        best_model_decision = model_decision\n",
    "        best_result = result\n",
    "        best_depth = depth\n",
    "print(\"Accuracy лучшей модели дерева решений на валидационной выборке:\", best_result, \"Глубина дерева:\", best_depth)"
   ]
  },
  {
   "cell_type": "code",
   "execution_count": 10,
   "metadata": {
    "id": "cqhi_j65ggOb",
    "outputId": "a6925a87-4509-4c88-fc08-06510a59d66e"
   },
   "outputs": [
    {
     "name": "stdout",
     "output_type": "stream",
     "text": [
      "Accuracy лучшей модели дерева решений на валидационной выборке: 0.7993779160186625 Глубина дерева: 10 Минимальное количество примеров для разделения 2 Минимальное количество объектов в листе 9\n"
     ]
    }
   ],
   "source": [
    "best_model = None\n",
    "best_result = 0\n",
    "best_depth = 0\n",
    "best_min_samples_split = 0\n",
    "best_min_samples_leaf = 0\n",
    "for depth in range(1, 11):\n",
    "    for split in range(2, 6):\n",
    "        for leaf in range(1, 10):\n",
    "            model_decision = DecisionTreeClassifier(random_state=1234, max_depth=depth, min_samples_split = split,\n",
    "                                               min_samples_leaf = leaf)\n",
    "            model_decision.fit(features_train, target_train)\n",
    "            predictions = model_decision.predict(features_valid)\n",
    "            result = accuracy_score(target_valid, predictions)\n",
    "            if result > best_result:\n",
    "                best_model_decision = model_decision\n",
    "                best_result = result\n",
    "                best_depth = depth\n",
    "                best_min_samples_split = split\n",
    "                best_min_samples_leaf = leaf\n",
    "print(\"Accuracy лучшей модели дерева решений на валидационной выборке:\", best_result, \"Глубина дерева:\", best_depth,\n",
    "      'Минимальное количество примеров для разделения', best_min_samples_split,\n",
    "      'Минимальное количество объектов в листе', best_min_samples_leaf)"
   ]
  },
  {
   "cell_type": "markdown",
   "metadata": {
    "id": "3_On_dT7ggOb"
   },
   "source": [
    "**RandomForestClassifier**"
   ]
  },
  {
   "cell_type": "code",
   "execution_count": 11,
   "metadata": {
    "id": "F0_AMSRMggOc",
    "outputId": "cffb6c7f-3666-4b53-96a0-e3a9b4aabadd"
   },
   "outputs": [
    {
     "name": "stdout",
     "output_type": "stream",
     "text": [
      "Accuracy наилучшей модели случайного леса на валидационной выборке: 0.8149300155520995 Количество деревьев: 20 Максимальная глубина: 10\n"
     ]
    }
   ],
   "source": [
    "best_model = None\n",
    "best_result = 0\n",
    "best_est = 0\n",
    "best_depth = 0\n",
    "for est in range(10, 51, 10):\n",
    "    for depth in range (1, 11):\n",
    "        model_forest = RandomForestClassifier(random_state=1234, n_estimators=est, max_depth=depth)\n",
    "        model_forest.fit(features_train, target_train)\n",
    "        predictions_valid = model_forest.predict(features_valid)\n",
    "        result = accuracy_score(target_valid, predictions_valid)\n",
    "        if result > best_result:\n",
    "            best_model_forest = model_forest\n",
    "            best_result = result\n",
    "            best_est = est\n",
    "            best_depth = depth\n",
    "print(\"Accuracy наилучшей модели случайного леса на валидационной выборке:\", best_result,\n",
    "      \"Количество деревьев:\", best_est, \"Максимальная глубина:\", depth)"
   ]
  },
  {
   "cell_type": "code",
   "execution_count": 12,
   "metadata": {
    "id": "gXRyBffUggOd",
    "outputId": "eda62773-2fe9-4354-b276-209982475483"
   },
   "outputs": [
    {
     "name": "stdout",
     "output_type": "stream",
     "text": [
      "Accuracy наилучшей модели случайного леса на валидационной выборке: 0.8242612752721618 Количество деревьев: 30 Максимальная глубина: 10 Минимальное количество примеров для разделения 2 Минимальное количество объектов в листе 4\n"
     ]
    }
   ],
   "source": [
    "best_model = None\n",
    "best_result = 0\n",
    "best_est = 0\n",
    "best_depth = 0\n",
    "best_min_samples_split = 0\n",
    "best_min_samples_leaf = 0\n",
    "for est in range(10, 51, 10):\n",
    "    for depth in range (1, 11):\n",
    "        for split in range(2, 4):\n",
    "            for leaf in range(1, 5):\n",
    "                model_forest = RandomForestClassifier(random_state=1234, n_estimators=est, max_depth=depth,\n",
    "                                                  min_samples_split=split, min_samples_leaf = leaf)\n",
    "                model_forest.fit(features_train, target_train)\n",
    "                predictions_valid = model_forest.predict(features_valid)\n",
    "                result = accuracy_score(target_valid, predictions_valid)\n",
    "                if result > best_result:\n",
    "                    best_model_forest = model_forest\n",
    "                    best_result = result\n",
    "                    best_est = est\n",
    "                    best_depth = depth\n",
    "                    best_min_samples_split = split\n",
    "                    best_min_samples_leaf = leaf\n",
    "print(\"Accuracy наилучшей модели случайного леса на валидационной выборке:\", best_result,\n",
    "      \"Количество деревьев:\", best_est, \"Максимальная глубина:\", depth,\n",
    "      'Минимальное количество примеров для разделения', best_min_samples_split,\n",
    "     'Минимальное количество объектов в листе', best_min_samples_leaf)"
   ]
  },
  {
   "cell_type": "markdown",
   "metadata": {
    "id": "ZVGPNbQ3ggOe"
   },
   "source": [
    "**LogisticRegression**"
   ]
  },
  {
   "cell_type": "code",
   "execution_count": 13,
   "metadata": {
    "id": "dzzjyW53ggOe",
    "outputId": "0a58a51e-ceb1-4f4d-f378-9a0ceb819365"
   },
   "outputs": [
    {
     "name": "stdout",
     "output_type": "stream",
     "text": [
      "Accuracy наилучшей модели на валидационной выборке: 0.7325038880248833\n"
     ]
    }
   ],
   "source": [
    "model_logistic = LogisticRegression(random_state=1234, solver='lbfgs', max_iter=500)\n",
    "model_logistic.fit(features_train, target_train)\n",
    "predictions_valid = model_logistic.predict(features_valid)\n",
    "result = accuracy_score(target_valid,predictions_valid)\n",
    "print(\"Accuracy наилучшей модели на валидационной выборке:\", result)"
   ]
  },
  {
   "cell_type": "code",
   "execution_count": 14,
   "metadata": {
    "id": "K7KAKPHvggOf",
    "outputId": "0826622c-0885-4381-98a2-ba7934db620e"
   },
   "outputs": [
    {
     "name": "stdout",
     "output_type": "stream",
     "text": [
      "Accuracy лучшей модели дерева решений на валидационной выборке: 0.7325038880248833 Количество итераций: 100 Алгоритм, используемый для оптимизации lbfgs\n"
     ]
    }
   ],
   "source": [
    "best_model_logistic = None\n",
    "best_result = 0\n",
    "best_depth = 0\n",
    "solvers = ['lbfgs', 'liblinear']\n",
    "for depth in range(100, 1000, 100):\n",
    "    for sol in solvers:\n",
    "        model_logistic = LogisticRegression(random_state=1234, solver=sol, max_iter=depth)\n",
    "        model_logistic.fit(features_train, target_train)\n",
    "        predictions_valid = model_logistic.predict(features_valid)\n",
    "        result = accuracy_score(target_valid, predictions_valid)\n",
    "        if result > best_result:\n",
    "            best_model_logistic = model_logistic\n",
    "            best_result = result\n",
    "            best_depth = depth\n",
    "            best_sol = sol\n",
    "\n",
    "print(\"Accuracy лучшей модели дерева решений на валидационной выборке:\", best_result, \"Количество итераций:\", best_depth,\n",
    "      'Алгоритм, используемый для оптимизации', best_sol)"
   ]
  },
  {
   "cell_type": "markdown",
   "metadata": {
    "id": "pPpbcG4yggOg"
   },
   "source": [
    "**Вывод:**\n",
    "\n",
    "Обучая три разныемодели были полученны лучшие метрики качества:\n",
    "\n",
    "* Качество модели \"Дерево предсказания\": 0.78, Глубина дерева: 3\n",
    "* Качество модели \"Случайный лес\": 0.81, Количество деревьев: 20, Максимальная глубина: 10\n",
    "* Качество модели \"Логистическая регрессия\": 0.73\n",
    "\n",
    "Лучше всего себя проявила модель \"Случайный лес\""
   ]
  },
  {
   "cell_type": "markdown",
   "metadata": {
    "id": "vzSjToR4ggOw"
   },
   "source": [
    "**Вывод:**\n",
    "\n",
    "Обучая три разныемодели были полученны лучшие метрики качества:\n",
    "\n",
    "* Accuracy лучшей модели \"Дерево предсказания\": 0.79\n",
    "* Accuracy лучшей модели \"Случайный лес\": 0.82\n",
    "* Accuracy лучшей модели \"Логистическая регрессия\": 0.73\n",
    "\n",
    "Лучше всего себя проявила модель \"Случайный лес\""
   ]
  },
  {
   "cell_type": "markdown",
   "metadata": {
    "id": "SvkHeIW9ggOx"
   },
   "source": [
    "## Проверьте модель на тестовой выборке"
   ]
  },
  {
   "cell_type": "markdown",
   "metadata": {
    "id": "LUs6Q9CTggOx"
   },
   "source": [
    "**DecisionTreeClassifier**"
   ]
  },
  {
   "cell_type": "code",
   "execution_count": 15,
   "metadata": {
    "id": "XB92fgljggOx",
    "outputId": "54357c61-519d-439d-cd84-d74b64cb7360"
   },
   "outputs": [
    {
     "name": "stdout",
     "output_type": "stream",
     "text": [
      "Accuracy модели дерева решений на тестовой выборке: 0.80248833592535\n"
     ]
    }
   ],
   "source": [
    "predictions_test1 = best_model_decision.predict(features_test)\n",
    "result_test = accuracy_score(target_test,predictions_test1)\n",
    "print(\"Accuracy модели дерева решений на тестовой выборке:\", result_test)"
   ]
  },
  {
   "cell_type": "markdown",
   "metadata": {
    "id": "XkJ_dd7iggOy"
   },
   "source": [
    "**RandomForestClassifier**"
   ]
  },
  {
   "cell_type": "code",
   "execution_count": 16,
   "metadata": {
    "id": "ZxK8c37wggOy",
    "outputId": "913c4882-0b81-4ec3-f094-4b6a853c9fbc"
   },
   "outputs": [
    {
     "name": "stdout",
     "output_type": "stream",
     "text": [
      "Accuracy модели случайного леса на тестовой выборке: 0.8055987558320373\n"
     ]
    }
   ],
   "source": [
    "predictions_test2 = best_model_forest.predict(features_test)\n",
    "result_test = accuracy_score(target_test,predictions_test2)\n",
    "print(\"Accuracy модели случайного леса на тестовой выборке:\", result_test)"
   ]
  },
  {
   "cell_type": "markdown",
   "metadata": {
    "id": "r0L6_01WggOy"
   },
   "source": [
    "**LogisticRegression**"
   ]
  },
  {
   "cell_type": "code",
   "execution_count": 17,
   "metadata": {
    "id": "vheR3NcJggOz",
    "outputId": "b2d178cc-cd8c-4d11-a09e-9526db39dbb4"
   },
   "outputs": [
    {
     "name": "stdout",
     "output_type": "stream",
     "text": [
      "Accuracy модели случайного леса на тестовой выборке: 0.7262830482115086\n"
     ]
    }
   ],
   "source": [
    "predictions_test3 = model_logistic.predict(features_test)\n",
    "result_test = accuracy_score(target_test,predictions_test3)\n",
    "print(\"Accuracy модели случайного леса на тестовой выборке:\", result_test)"
   ]
  },
  {
   "cell_type": "markdown",
   "metadata": {
    "id": "HAuvth4HggOz"
   },
   "source": [
    "**Вывод:**\n",
    "\n",
    "После проверки на тестовой выборке:\n",
    "\n",
    "* Качество модели \"Дерево предсказания\": 0.79\n",
    "* Качество модели \"Случайный лес\": 0.81\n",
    "* Качество модели \"Логистическая регрессия\": 0.72\n",
    "\n",
    "так же лучше всего себя проявила модель \"Случайный лес\""
   ]
  },
  {
   "cell_type": "markdown",
   "metadata": {
    "id": "URRRkOUhggO0"
   },
   "source": [
    "## (бонус) Проверьте модели на адекватность"
   ]
  },
  {
   "cell_type": "code",
   "execution_count": 18,
   "metadata": {
    "id": "7siR5Cy-ggO0",
    "outputId": "7eca6764-743a-4174-8a9d-fe50c650681d"
   },
   "outputs": [
    {
     "data": {
      "text/plain": [
       "0.6998444790046656"
      ]
     },
     "execution_count": 18,
     "metadata": {},
     "output_type": "execute_result"
    }
   ],
   "source": [
    "dummy = DummyClassifier(strategy=\"most_frequent\", random_state=777)\n",
    "dummy.fit(features_train, target_train)\n",
    "dummy.score(features_test, target_test)"
   ]
  },
  {
   "cell_type": "markdown",
   "metadata": {
    "id": "68tX-B8rggO0"
   },
   "source": [
    "**Вывод:**\n",
    "\n",
    "Простейшая модель ошибается в 30% случаев\n",
    "\n",
    "Выбранная модель ошибается в 19% случаев\n",
    "\n",
    "**Модель адекватна.**"
   ]
  },
  {
   "cell_type": "markdown",
   "metadata": {
    "id": "XaBP7JX5ggO1"
   },
   "source": [
    "# Общий вывод:\n",
    "1. Разбили датасет на 3 выборки: обучающую - 60%, валидационную - 20% и тестовую - 20%.\n",
    "2. Исследовали 3 модели: дерева решений, случайного леса и логистической регрессии.\n",
    "3. Лучше всего себя проявила модель \"Случайный лес\" как на валидационной (0,82), так и на тестовой выборке(0,81).\n",
    "4. После проверки модели убедились в ее адекватности."
   ]
  }
 ],
 "metadata": {
  "ExecuteTimeLog": [
   {
    "duration": 1264,
    "start_time": "2023-05-15T18:05:46.681Z"
   },
   {
    "duration": 121,
    "start_time": "2023-05-15T18:07:59.346Z"
   },
   {
    "duration": 14,
    "start_time": "2023-05-15T18:08:10.237Z"
   },
   {
    "duration": 11,
    "start_time": "2023-05-15T18:08:33.415Z"
   },
   {
    "duration": 33,
    "start_time": "2023-05-15T18:17:15.962Z"
   },
   {
    "duration": 9,
    "start_time": "2023-05-15T18:18:02.838Z"
   },
   {
    "duration": 4,
    "start_time": "2023-05-15T18:23:32.121Z"
   },
   {
    "duration": 65,
    "start_time": "2023-05-15T18:24:42.478Z"
   },
   {
    "duration": 301,
    "start_time": "2023-05-15T18:25:15.516Z"
   },
   {
    "duration": 57,
    "start_time": "2023-05-15T18:25:20.860Z"
   },
   {
    "duration": 6,
    "start_time": "2023-05-15T18:25:26.749Z"
   },
   {
    "duration": 6,
    "start_time": "2023-05-15T18:25:36.850Z"
   },
   {
    "duration": 2,
    "start_time": "2023-05-15T18:25:41.673Z"
   },
   {
    "duration": 104,
    "start_time": "2023-05-15T18:26:45.591Z"
   },
   {
    "duration": 3,
    "start_time": "2023-05-15T18:26:58.267Z"
   },
   {
    "duration": 40,
    "start_time": "2023-05-15T18:26:58.273Z"
   },
   {
    "duration": 11,
    "start_time": "2023-05-15T18:26:58.315Z"
   },
   {
    "duration": 28,
    "start_time": "2023-05-15T18:26:58.329Z"
   },
   {
    "duration": 3,
    "start_time": "2023-05-15T18:26:58.360Z"
   },
   {
    "duration": 15,
    "start_time": "2023-05-15T18:26:58.365Z"
   },
   {
    "duration": 4,
    "start_time": "2023-05-15T18:26:58.382Z"
   },
   {
    "duration": 16,
    "start_time": "2023-05-15T18:26:58.398Z"
   },
   {
    "duration": 5,
    "start_time": "2023-05-15T18:26:58.416Z"
   },
   {
    "duration": 6,
    "start_time": "2023-05-15T18:26:58.423Z"
   },
   {
    "duration": 4,
    "start_time": "2023-05-15T18:27:05.688Z"
   },
   {
    "duration": 3,
    "start_time": "2023-05-15T18:32:05.266Z"
   },
   {
    "duration": 35,
    "start_time": "2023-05-15T18:32:05.271Z"
   },
   {
    "duration": 10,
    "start_time": "2023-05-15T18:32:05.308Z"
   },
   {
    "duration": 50,
    "start_time": "2023-05-15T18:32:05.321Z"
   },
   {
    "duration": 3,
    "start_time": "2023-05-15T18:32:05.374Z"
   },
   {
    "duration": 11,
    "start_time": "2023-05-15T18:32:05.379Z"
   },
   {
    "duration": 26,
    "start_time": "2023-05-15T18:32:05.392Z"
   },
   {
    "duration": 29,
    "start_time": "2023-05-15T18:32:05.420Z"
   },
   {
    "duration": 4,
    "start_time": "2023-05-15T18:32:05.451Z"
   },
   {
    "duration": 20,
    "start_time": "2023-05-15T18:32:05.457Z"
   },
   {
    "duration": 8,
    "start_time": "2023-05-15T18:32:05.479Z"
   },
   {
    "duration": 10,
    "start_time": "2023-05-15T18:32:05.489Z"
   },
   {
    "duration": 50,
    "start_time": "2023-05-15T18:32:05.501Z"
   },
   {
    "duration": 6,
    "start_time": "2023-05-15T18:32:05.553Z"
   },
   {
    "duration": 13,
    "start_time": "2023-05-15T18:32:05.560Z"
   },
   {
    "duration": 18,
    "start_time": "2023-05-15T18:32:05.574Z"
   },
   {
    "duration": 3,
    "start_time": "2023-05-15T18:32:34.644Z"
   },
   {
    "duration": 33,
    "start_time": "2023-05-15T18:32:34.650Z"
   },
   {
    "duration": 10,
    "start_time": "2023-05-15T18:32:34.684Z"
   },
   {
    "duration": 30,
    "start_time": "2023-05-15T18:32:34.696Z"
   },
   {
    "duration": 3,
    "start_time": "2023-05-15T18:32:34.728Z"
   },
   {
    "duration": 8,
    "start_time": "2023-05-15T18:32:34.733Z"
   },
   {
    "duration": 8,
    "start_time": "2023-05-15T18:32:34.742Z"
   },
   {
    "duration": 23,
    "start_time": "2023-05-15T18:32:34.751Z"
   },
   {
    "duration": 13,
    "start_time": "2023-05-15T18:32:34.775Z"
   },
   {
    "duration": 17,
    "start_time": "2023-05-15T18:32:34.790Z"
   },
   {
    "duration": 11,
    "start_time": "2023-05-15T18:32:34.808Z"
   },
   {
    "duration": 13,
    "start_time": "2023-05-15T18:32:34.821Z"
   },
   {
    "duration": 41,
    "start_time": "2023-05-15T18:32:34.836Z"
   },
   {
    "duration": 6,
    "start_time": "2023-05-15T18:32:34.880Z"
   },
   {
    "duration": 7,
    "start_time": "2023-05-15T18:32:34.888Z"
   },
   {
    "duration": 10,
    "start_time": "2023-05-15T18:32:34.897Z"
   },
   {
    "duration": 4,
    "start_time": "2023-05-15T18:33:58.765Z"
   },
   {
    "duration": 38,
    "start_time": "2023-05-15T18:33:58.771Z"
   },
   {
    "duration": 11,
    "start_time": "2023-05-15T18:33:58.810Z"
   },
   {
    "duration": 29,
    "start_time": "2023-05-15T18:33:58.823Z"
   },
   {
    "duration": 4,
    "start_time": "2023-05-15T18:33:58.853Z"
   },
   {
    "duration": 14,
    "start_time": "2023-05-15T18:33:58.859Z"
   },
   {
    "duration": 6,
    "start_time": "2023-05-15T18:33:58.875Z"
   },
   {
    "duration": 27,
    "start_time": "2023-05-15T18:33:58.897Z"
   },
   {
    "duration": 5,
    "start_time": "2023-05-15T18:33:58.927Z"
   },
   {
    "duration": 6,
    "start_time": "2023-05-15T18:33:58.934Z"
   },
   {
    "duration": 8,
    "start_time": "2023-05-15T18:33:58.942Z"
   },
   {
    "duration": 6,
    "start_time": "2023-05-15T18:33:58.952Z"
   },
   {
    "duration": 52,
    "start_time": "2023-05-15T18:33:58.960Z"
   },
   {
    "duration": 7,
    "start_time": "2023-05-15T18:33:59.013Z"
   },
   {
    "duration": 5,
    "start_time": "2023-05-15T18:33:59.022Z"
   },
   {
    "duration": 19,
    "start_time": "2023-05-15T18:33:59.029Z"
   },
   {
    "duration": 7,
    "start_time": "2023-05-15T18:33:59.051Z"
   },
   {
    "duration": 17,
    "start_time": "2023-05-15T18:33:59.059Z"
   },
   {
    "duration": 29,
    "start_time": "2023-05-15T18:33:59.078Z"
   },
   {
    "duration": 11,
    "start_time": "2023-05-15T18:33:59.109Z"
   },
   {
    "duration": 7,
    "start_time": "2023-05-15T18:33:59.122Z"
   },
   {
    "duration": 3,
    "start_time": "2023-05-15T19:04:01.982Z"
   },
   {
    "duration": 4,
    "start_time": "2023-05-15T19:04:41.543Z"
   },
   {
    "duration": 5,
    "start_time": "2023-05-15T19:04:54.426Z"
   },
   {
    "duration": 4,
    "start_time": "2023-05-15T19:04:59.381Z"
   },
   {
    "duration": 6,
    "start_time": "2023-05-15T19:04:59.813Z"
   },
   {
    "duration": 5,
    "start_time": "2023-05-15T19:05:00.442Z"
   },
   {
    "duration": 5,
    "start_time": "2023-05-15T19:05:18.593Z"
   },
   {
    "duration": 4,
    "start_time": "2023-05-15T19:05:20.823Z"
   },
   {
    "duration": 3,
    "start_time": "2023-05-15T19:11:43.790Z"
   },
   {
    "duration": 5,
    "start_time": "2023-05-15T19:11:44.411Z"
   },
   {
    "duration": 5,
    "start_time": "2023-05-15T19:11:44.987Z"
   },
   {
    "duration": 4,
    "start_time": "2023-05-15T19:11:45.592Z"
   },
   {
    "duration": 4,
    "start_time": "2023-05-15T19:11:55.784Z"
   },
   {
    "duration": 51,
    "start_time": "2023-05-15T19:11:55.793Z"
   },
   {
    "duration": 9,
    "start_time": "2023-05-15T19:11:55.847Z"
   },
   {
    "duration": 26,
    "start_time": "2023-05-15T19:11:55.858Z"
   },
   {
    "duration": 4,
    "start_time": "2023-05-15T19:11:55.886Z"
   },
   {
    "duration": 17,
    "start_time": "2023-05-15T19:11:55.891Z"
   },
   {
    "duration": 17,
    "start_time": "2023-05-15T19:11:55.910Z"
   },
   {
    "duration": 16,
    "start_time": "2023-05-15T19:11:55.928Z"
   },
   {
    "duration": 9,
    "start_time": "2023-05-15T19:16:19.690Z"
   },
   {
    "duration": 4,
    "start_time": "2023-05-15T19:16:24.642Z"
   },
   {
    "duration": 40,
    "start_time": "2023-05-15T19:16:24.648Z"
   },
   {
    "duration": 20,
    "start_time": "2023-05-15T19:16:24.690Z"
   },
   {
    "duration": 26,
    "start_time": "2023-05-15T19:16:24.712Z"
   },
   {
    "duration": 3,
    "start_time": "2023-05-15T19:16:24.740Z"
   },
   {
    "duration": 6,
    "start_time": "2023-05-15T19:16:24.745Z"
   },
   {
    "duration": 6,
    "start_time": "2023-05-15T19:16:24.753Z"
   },
   {
    "duration": 5,
    "start_time": "2023-05-15T19:16:24.761Z"
   },
   {
    "duration": 3,
    "start_time": "2023-05-15T19:17:07.179Z"
   },
   {
    "duration": 4,
    "start_time": "2023-05-15T19:17:16.793Z"
   },
   {
    "duration": 5,
    "start_time": "2023-05-15T19:17:24.324Z"
   },
   {
    "duration": 3,
    "start_time": "2023-05-15T19:17:24.986Z"
   },
   {
    "duration": 5,
    "start_time": "2023-05-15T19:17:33.922Z"
   },
   {
    "duration": 8,
    "start_time": "2023-05-15T19:17:34.594Z"
   },
   {
    "duration": 6,
    "start_time": "2023-05-15T19:17:37.414Z"
   },
   {
    "duration": 5,
    "start_time": "2023-05-15T19:17:37.724Z"
   },
   {
    "duration": 4,
    "start_time": "2023-05-15T19:17:38.252Z"
   },
   {
    "duration": 5,
    "start_time": "2023-05-15T19:17:47.394Z"
   },
   {
    "duration": 55,
    "start_time": "2023-05-15T19:17:47.401Z"
   },
   {
    "duration": 10,
    "start_time": "2023-05-15T19:17:47.457Z"
   },
   {
    "duration": 25,
    "start_time": "2023-05-15T19:17:47.470Z"
   },
   {
    "duration": 5,
    "start_time": "2023-05-15T19:17:47.497Z"
   },
   {
    "duration": 25,
    "start_time": "2023-05-15T19:17:47.504Z"
   },
   {
    "duration": 16,
    "start_time": "2023-05-15T19:17:47.530Z"
   },
   {
    "duration": 13,
    "start_time": "2023-05-15T19:17:47.547Z"
   },
   {
    "duration": 11,
    "start_time": "2023-05-15T19:21:30.002Z"
   },
   {
    "duration": 3,
    "start_time": "2023-05-15T19:23:39.887Z"
   },
   {
    "duration": 41,
    "start_time": "2023-05-15T19:23:39.892Z"
   },
   {
    "duration": 8,
    "start_time": "2023-05-15T19:23:39.935Z"
   },
   {
    "duration": 32,
    "start_time": "2023-05-15T19:23:39.945Z"
   },
   {
    "duration": 3,
    "start_time": "2023-05-15T19:23:39.979Z"
   },
   {
    "duration": 8,
    "start_time": "2023-05-15T19:23:39.983Z"
   },
   {
    "duration": 17,
    "start_time": "2023-05-15T19:23:39.992Z"
   },
   {
    "duration": 14,
    "start_time": "2023-05-15T19:23:40.011Z"
   },
   {
    "duration": 24,
    "start_time": "2023-05-15T19:23:40.026Z"
   },
   {
    "duration": 3,
    "start_time": "2023-05-15T19:24:28.451Z"
   },
   {
    "duration": 34,
    "start_time": "2023-05-15T19:24:28.456Z"
   },
   {
    "duration": 19,
    "start_time": "2023-05-15T19:24:28.492Z"
   },
   {
    "duration": 26,
    "start_time": "2023-05-15T19:24:28.513Z"
   },
   {
    "duration": 4,
    "start_time": "2023-05-15T19:24:28.541Z"
   },
   {
    "duration": 14,
    "start_time": "2023-05-15T19:24:28.546Z"
   },
   {
    "duration": 5,
    "start_time": "2023-05-15T19:24:28.562Z"
   },
   {
    "duration": 6,
    "start_time": "2023-05-15T19:24:28.569Z"
   },
   {
    "duration": 59,
    "start_time": "2023-05-15T19:24:28.576Z"
   },
   {
    "duration": 4,
    "start_time": "2023-05-15T19:29:47.782Z"
   },
   {
    "duration": 17,
    "start_time": "2023-05-15T19:29:56.632Z"
   },
   {
    "duration": 32,
    "start_time": "2023-05-15T19:30:51.502Z"
   },
   {
    "duration": 43,
    "start_time": "2023-05-15T19:32:29.398Z"
   },
   {
    "duration": 39,
    "start_time": "2023-05-15T19:35:32.939Z"
   },
   {
    "duration": 35,
    "start_time": "2023-05-15T19:37:44.433Z"
   },
   {
    "duration": 37,
    "start_time": "2023-05-15T19:38:02.879Z"
   },
   {
    "duration": 38,
    "start_time": "2023-05-15T19:38:16.880Z"
   },
   {
    "duration": 51,
    "start_time": "2023-05-15T19:39:25.194Z"
   },
   {
    "duration": 36,
    "start_time": "2023-05-15T19:40:04.986Z"
   },
   {
    "duration": 3,
    "start_time": "2023-05-15T19:42:55.182Z"
   },
   {
    "duration": 36,
    "start_time": "2023-05-15T19:42:55.189Z"
   },
   {
    "duration": 13,
    "start_time": "2023-05-15T19:42:55.227Z"
   },
   {
    "duration": 23,
    "start_time": "2023-05-15T19:42:55.241Z"
   },
   {
    "duration": 3,
    "start_time": "2023-05-15T19:42:55.266Z"
   },
   {
    "duration": 14,
    "start_time": "2023-05-15T19:42:55.270Z"
   },
   {
    "duration": 5,
    "start_time": "2023-05-15T19:42:55.286Z"
   },
   {
    "duration": 24,
    "start_time": "2023-05-15T19:42:55.293Z"
   },
   {
    "duration": 54,
    "start_time": "2023-05-15T19:42:55.319Z"
   },
   {
    "duration": 53,
    "start_time": "2023-05-15T19:42:55.375Z"
   },
   {
    "duration": 33,
    "start_time": "2023-05-15T19:43:21.022Z"
   },
   {
    "duration": 35,
    "start_time": "2023-05-15T19:44:08.221Z"
   },
   {
    "duration": 44,
    "start_time": "2023-05-15T19:44:30.886Z"
   },
   {
    "duration": 32,
    "start_time": "2023-05-15T19:45:57.930Z"
   },
   {
    "duration": 266,
    "start_time": "2023-05-15T19:53:06.462Z"
   },
   {
    "duration": 4,
    "start_time": "2023-05-15T19:54:23.030Z"
   },
   {
    "duration": 35,
    "start_time": "2023-05-15T19:54:23.035Z"
   },
   {
    "duration": 9,
    "start_time": "2023-05-15T19:54:23.071Z"
   },
   {
    "duration": 31,
    "start_time": "2023-05-15T19:54:23.082Z"
   },
   {
    "duration": 3,
    "start_time": "2023-05-15T19:54:23.114Z"
   },
   {
    "duration": 17,
    "start_time": "2023-05-15T19:54:23.118Z"
   },
   {
    "duration": 7,
    "start_time": "2023-05-15T19:54:23.137Z"
   },
   {
    "duration": 9,
    "start_time": "2023-05-15T19:54:23.146Z"
   },
   {
    "duration": 40,
    "start_time": "2023-05-15T19:54:23.157Z"
   },
   {
    "duration": 249,
    "start_time": "2023-05-15T19:54:23.199Z"
   },
   {
    "duration": 3,
    "start_time": "2023-05-15T19:55:28.387Z"
   },
   {
    "duration": 35,
    "start_time": "2023-05-15T19:55:28.392Z"
   },
   {
    "duration": 11,
    "start_time": "2023-05-15T19:55:28.428Z"
   },
   {
    "duration": 43,
    "start_time": "2023-05-15T19:55:28.440Z"
   },
   {
    "duration": 4,
    "start_time": "2023-05-15T19:55:28.485Z"
   },
   {
    "duration": 15,
    "start_time": "2023-05-15T19:55:28.490Z"
   },
   {
    "duration": 13,
    "start_time": "2023-05-15T19:55:28.506Z"
   },
   {
    "duration": 9,
    "start_time": "2023-05-15T19:55:28.521Z"
   },
   {
    "duration": 38,
    "start_time": "2023-05-15T19:55:28.532Z"
   },
   {
    "duration": 251,
    "start_time": "2023-05-15T19:55:28.572Z"
   },
   {
    "duration": 388,
    "start_time": "2023-05-15T20:02:58.719Z"
   },
   {
    "duration": 417,
    "start_time": "2023-05-15T20:03:22.882Z"
   },
   {
    "duration": 30,
    "start_time": "2023-05-15T20:04:29.651Z"
   },
   {
    "duration": 98,
    "start_time": "2023-05-15T20:36:28.345Z"
   },
   {
    "duration": 156,
    "start_time": "2023-05-15T20:37:25.963Z"
   },
   {
    "duration": 270,
    "start_time": "2023-05-15T20:38:07.262Z"
   },
   {
    "duration": 257,
    "start_time": "2023-05-15T20:38:36.784Z"
   },
   {
    "duration": 260,
    "start_time": "2023-05-15T20:40:29.287Z"
   },
   {
    "duration": 292,
    "start_time": "2023-05-15T20:41:00.195Z"
   },
   {
    "duration": 284,
    "start_time": "2023-05-15T20:41:07.198Z"
   },
   {
    "duration": 3,
    "start_time": "2023-05-15T20:41:17.771Z"
   },
   {
    "duration": 42,
    "start_time": "2023-05-15T20:41:17.776Z"
   },
   {
    "duration": 8,
    "start_time": "2023-05-15T20:41:17.819Z"
   },
   {
    "duration": 22,
    "start_time": "2023-05-15T20:41:17.829Z"
   },
   {
    "duration": 3,
    "start_time": "2023-05-15T20:41:17.852Z"
   },
   {
    "duration": 9,
    "start_time": "2023-05-15T20:41:17.856Z"
   },
   {
    "duration": 7,
    "start_time": "2023-05-15T20:41:17.866Z"
   },
   {
    "duration": 7,
    "start_time": "2023-05-15T20:41:17.874Z"
   },
   {
    "duration": 41,
    "start_time": "2023-05-15T20:41:17.883Z"
   },
   {
    "duration": 286,
    "start_time": "2023-05-15T20:41:17.925Z"
   },
   {
    "duration": 281,
    "start_time": "2023-05-15T20:41:18.212Z"
   },
   {
    "duration": 3,
    "start_time": "2023-05-15T20:42:34.157Z"
   },
   {
    "duration": 37,
    "start_time": "2023-05-15T20:42:34.161Z"
   },
   {
    "duration": 11,
    "start_time": "2023-05-15T20:42:34.200Z"
   },
   {
    "duration": 29,
    "start_time": "2023-05-15T20:42:34.213Z"
   },
   {
    "duration": 4,
    "start_time": "2023-05-15T20:42:34.244Z"
   },
   {
    "duration": 30,
    "start_time": "2023-05-15T20:42:34.249Z"
   },
   {
    "duration": 7,
    "start_time": "2023-05-15T20:42:34.281Z"
   },
   {
    "duration": 12,
    "start_time": "2023-05-15T20:42:34.290Z"
   },
   {
    "duration": 41,
    "start_time": "2023-05-15T20:42:34.304Z"
   },
   {
    "duration": 294,
    "start_time": "2023-05-15T20:42:34.347Z"
   },
   {
    "duration": 3,
    "start_time": "2023-05-15T20:42:38.754Z"
   },
   {
    "duration": 34,
    "start_time": "2023-05-15T20:42:38.759Z"
   },
   {
    "duration": 8,
    "start_time": "2023-05-15T20:42:38.795Z"
   },
   {
    "duration": 23,
    "start_time": "2023-05-15T20:42:38.805Z"
   },
   {
    "duration": 3,
    "start_time": "2023-05-15T20:42:38.831Z"
   },
   {
    "duration": 6,
    "start_time": "2023-05-15T20:42:38.836Z"
   },
   {
    "duration": 9,
    "start_time": "2023-05-15T20:42:38.844Z"
   },
   {
    "duration": 11,
    "start_time": "2023-05-15T20:42:38.854Z"
   },
   {
    "duration": 47,
    "start_time": "2023-05-15T20:42:38.866Z"
   },
   {
    "duration": 243,
    "start_time": "2023-05-15T20:42:38.915Z"
   },
   {
    "duration": 462,
    "start_time": "2023-05-15T20:42:39.160Z"
   },
   {
    "duration": 507,
    "start_time": "2023-05-15T20:42:48.949Z"
   },
   {
    "duration": 3370,
    "start_time": "2023-05-15T20:45:19.040Z"
   },
   {
    "duration": 3391,
    "start_time": "2023-05-15T20:45:40.665Z"
   },
   {
    "duration": 27,
    "start_time": "2023-05-15T20:47:30.212Z"
   },
   {
    "duration": 3,
    "start_time": "2023-05-15T20:47:44.337Z"
   },
   {
    "duration": 33,
    "start_time": "2023-05-15T20:47:44.342Z"
   },
   {
    "duration": 9,
    "start_time": "2023-05-15T20:47:44.376Z"
   },
   {
    "duration": 23,
    "start_time": "2023-05-15T20:47:44.386Z"
   },
   {
    "duration": 3,
    "start_time": "2023-05-15T20:47:44.410Z"
   },
   {
    "duration": 11,
    "start_time": "2023-05-15T20:47:44.414Z"
   },
   {
    "duration": 6,
    "start_time": "2023-05-15T20:47:44.426Z"
   },
   {
    "duration": 6,
    "start_time": "2023-05-15T20:47:44.433Z"
   },
   {
    "duration": 28,
    "start_time": "2023-05-15T20:47:44.440Z"
   },
   {
    "duration": 3444,
    "start_time": "2023-05-15T20:47:44.470Z"
   },
   {
    "duration": 3431,
    "start_time": "2023-05-15T20:48:15.383Z"
   },
   {
    "duration": 63,
    "start_time": "2023-05-15T20:49:23.330Z"
   },
   {
    "duration": 63,
    "start_time": "2023-05-15T20:49:28.894Z"
   },
   {
    "duration": 3,
    "start_time": "2023-05-15T20:49:40.136Z"
   },
   {
    "duration": 50,
    "start_time": "2023-05-15T20:49:40.141Z"
   },
   {
    "duration": 9,
    "start_time": "2023-05-15T20:49:40.192Z"
   },
   {
    "duration": 22,
    "start_time": "2023-05-15T20:49:40.202Z"
   },
   {
    "duration": 3,
    "start_time": "2023-05-15T20:49:40.226Z"
   },
   {
    "duration": 6,
    "start_time": "2023-05-15T20:49:40.230Z"
   },
   {
    "duration": 7,
    "start_time": "2023-05-15T20:49:40.238Z"
   },
   {
    "duration": 13,
    "start_time": "2023-05-15T20:49:40.246Z"
   },
   {
    "duration": 35,
    "start_time": "2023-05-15T20:49:40.261Z"
   },
   {
    "duration": 58,
    "start_time": "2023-05-15T20:49:40.297Z"
   },
   {
    "duration": 3428,
    "start_time": "2023-05-15T20:49:40.356Z"
   },
   {
    "duration": 34,
    "start_time": "2023-05-15T20:49:43.785Z"
   },
   {
    "duration": 61,
    "start_time": "2023-05-15T20:50:46.499Z"
   },
   {
    "duration": 65,
    "start_time": "2023-05-15T20:50:47.413Z"
   },
   {
    "duration": 3,
    "start_time": "2023-05-15T20:51:13.294Z"
   },
   {
    "duration": 31,
    "start_time": "2023-05-15T20:51:13.300Z"
   },
   {
    "duration": 8,
    "start_time": "2023-05-15T20:51:13.333Z"
   },
   {
    "duration": 24,
    "start_time": "2023-05-15T20:51:13.343Z"
   },
   {
    "duration": 3,
    "start_time": "2023-05-15T20:51:13.369Z"
   },
   {
    "duration": 22,
    "start_time": "2023-05-15T20:51:13.373Z"
   },
   {
    "duration": 18,
    "start_time": "2023-05-15T20:51:13.397Z"
   },
   {
    "duration": 11,
    "start_time": "2023-05-15T20:51:13.417Z"
   },
   {
    "duration": 66,
    "start_time": "2023-05-15T20:51:13.429Z"
   },
   {
    "duration": 68,
    "start_time": "2023-05-15T20:51:13.497Z"
   },
   {
    "duration": 3465,
    "start_time": "2023-05-15T20:51:13.567Z"
   },
   {
    "duration": 59,
    "start_time": "2023-05-15T20:52:23.152Z"
   },
   {
    "duration": 33,
    "start_time": "2023-05-15T20:55:55.013Z"
   },
   {
    "duration": 3,
    "start_time": "2023-05-15T20:56:09.090Z"
   },
   {
    "duration": 48,
    "start_time": "2023-05-15T20:56:09.096Z"
   },
   {
    "duration": 8,
    "start_time": "2023-05-15T20:56:09.145Z"
   },
   {
    "duration": 34,
    "start_time": "2023-05-15T20:56:09.155Z"
   },
   {
    "duration": 3,
    "start_time": "2023-05-15T20:56:09.192Z"
   },
   {
    "duration": 24,
    "start_time": "2023-05-15T20:56:09.197Z"
   },
   {
    "duration": 16,
    "start_time": "2023-05-15T20:56:09.223Z"
   },
   {
    "duration": 8,
    "start_time": "2023-05-15T20:56:09.240Z"
   },
   {
    "duration": 61,
    "start_time": "2023-05-15T20:56:09.250Z"
   },
   {
    "duration": 3458,
    "start_time": "2023-05-15T20:56:09.313Z"
   },
   {
    "duration": 35,
    "start_time": "2023-05-15T20:56:12.773Z"
   },
   {
    "duration": 30,
    "start_time": "2023-05-15T20:56:41.920Z"
   },
   {
    "duration": 31,
    "start_time": "2023-05-15T20:57:05.986Z"
   },
   {
    "duration": 2,
    "start_time": "2023-05-15T20:57:12.161Z"
   },
   {
    "duration": 34,
    "start_time": "2023-05-15T20:57:12.165Z"
   },
   {
    "duration": 9,
    "start_time": "2023-05-15T20:57:12.200Z"
   },
   {
    "duration": 25,
    "start_time": "2023-05-15T20:57:12.210Z"
   },
   {
    "duration": 3,
    "start_time": "2023-05-15T20:57:12.236Z"
   },
   {
    "duration": 10,
    "start_time": "2023-05-15T20:57:12.240Z"
   },
   {
    "duration": 8,
    "start_time": "2023-05-15T20:57:12.251Z"
   },
   {
    "duration": 7,
    "start_time": "2023-05-15T20:57:12.260Z"
   },
   {
    "duration": 68,
    "start_time": "2023-05-15T20:57:12.269Z"
   },
   {
    "duration": 3399,
    "start_time": "2023-05-15T20:57:12.338Z"
   },
   {
    "duration": 30,
    "start_time": "2023-05-15T20:57:15.739Z"
   },
   {
    "duration": 41,
    "start_time": "2023-05-15T20:57:15.770Z"
   },
   {
    "duration": 29,
    "start_time": "2023-05-15T20:59:37.897Z"
   },
   {
    "duration": 3710,
    "start_time": "2023-05-15T21:10:08.354Z"
   },
   {
    "duration": 64,
    "start_time": "2023-05-15T21:12:02.435Z"
   },
   {
    "duration": 60,
    "start_time": "2023-05-15T21:12:16.624Z"
   },
   {
    "duration": 61,
    "start_time": "2023-05-15T21:12:31.072Z"
   },
   {
    "duration": 5,
    "start_time": "2023-05-15T21:28:08.972Z"
   },
   {
    "duration": 5,
    "start_time": "2023-05-15T21:29:46.479Z"
   },
   {
    "duration": 10,
    "start_time": "2023-05-15T21:31:26.437Z"
   },
   {
    "duration": 6,
    "start_time": "2023-05-15T21:34:12.611Z"
   },
   {
    "duration": 2,
    "start_time": "2023-05-15T21:34:19.909Z"
   },
   {
    "duration": 44,
    "start_time": "2023-05-15T21:34:19.913Z"
   },
   {
    "duration": 8,
    "start_time": "2023-05-15T21:34:19.958Z"
   },
   {
    "duration": 26,
    "start_time": "2023-05-15T21:34:19.968Z"
   },
   {
    "duration": 3,
    "start_time": "2023-05-15T21:34:19.996Z"
   },
   {
    "duration": 26,
    "start_time": "2023-05-15T21:34:20.000Z"
   },
   {
    "duration": 5,
    "start_time": "2023-05-15T21:34:20.298Z"
   },
   {
    "duration": 17,
    "start_time": "2023-05-15T21:34:20.304Z"
   },
   {
    "duration": 80,
    "start_time": "2023-05-15T21:34:20.323Z"
   },
   {
    "duration": 3434,
    "start_time": "2023-05-15T21:34:20.405Z"
   },
   {
    "duration": 30,
    "start_time": "2023-05-15T21:34:23.841Z"
   },
   {
    "duration": 5,
    "start_time": "2023-05-15T21:34:23.873Z"
   },
   {
    "duration": 24,
    "start_time": "2023-05-15T21:34:23.879Z"
   },
   {
    "duration": 9,
    "start_time": "2023-05-15T21:34:23.904Z"
   },
   {
    "duration": 70,
    "start_time": "2023-05-15T21:35:03.729Z"
   },
   {
    "duration": 7,
    "start_time": "2023-05-15T21:49:39.187Z"
   },
   {
    "duration": 2,
    "start_time": "2023-05-15T21:50:36.455Z"
   },
   {
    "duration": 37,
    "start_time": "2023-05-15T21:50:36.459Z"
   },
   {
    "duration": 9,
    "start_time": "2023-05-15T21:50:36.498Z"
   },
   {
    "duration": 23,
    "start_time": "2023-05-15T21:50:36.508Z"
   },
   {
    "duration": 4,
    "start_time": "2023-05-15T21:50:36.534Z"
   },
   {
    "duration": 9,
    "start_time": "2023-05-15T21:50:36.540Z"
   },
   {
    "duration": 11,
    "start_time": "2023-05-15T21:50:36.551Z"
   },
   {
    "duration": 11,
    "start_time": "2023-05-15T21:50:36.564Z"
   },
   {
    "duration": 91,
    "start_time": "2023-05-15T21:50:36.577Z"
   },
   {
    "duration": 3415,
    "start_time": "2023-05-15T21:50:36.670Z"
   },
   {
    "duration": 34,
    "start_time": "2023-05-15T21:50:40.086Z"
   },
   {
    "duration": 5,
    "start_time": "2023-05-15T21:50:40.121Z"
   },
   {
    "duration": 12,
    "start_time": "2023-05-15T21:50:40.127Z"
   },
   {
    "duration": 5,
    "start_time": "2023-05-15T21:50:40.140Z"
   },
   {
    "duration": 9,
    "start_time": "2023-05-15T21:50:40.146Z"
   },
   {
    "duration": 50,
    "start_time": "2023-05-15T21:59:08.442Z"
   },
   {
    "duration": 4,
    "start_time": "2023-05-15T22:04:52.629Z"
   },
   {
    "duration": 36,
    "start_time": "2023-05-15T22:04:52.634Z"
   },
   {
    "duration": 8,
    "start_time": "2023-05-15T22:04:52.672Z"
   },
   {
    "duration": 27,
    "start_time": "2023-05-15T22:04:52.681Z"
   },
   {
    "duration": 4,
    "start_time": "2023-05-15T22:04:52.709Z"
   },
   {
    "duration": 20,
    "start_time": "2023-05-15T22:04:52.714Z"
   },
   {
    "duration": 10,
    "start_time": "2023-05-15T22:04:52.735Z"
   },
   {
    "duration": 13,
    "start_time": "2023-05-15T22:04:52.746Z"
   },
   {
    "duration": 67,
    "start_time": "2023-05-15T22:04:52.761Z"
   },
   {
    "duration": 3453,
    "start_time": "2023-05-15T22:04:52.829Z"
   },
   {
    "duration": 36,
    "start_time": "2023-05-15T22:04:56.284Z"
   },
   {
    "duration": 6,
    "start_time": "2023-05-15T22:04:56.322Z"
   },
   {
    "duration": 49,
    "start_time": "2023-05-15T22:04:56.330Z"
   },
   {
    "duration": 66,
    "start_time": "2023-05-15T22:04:56.381Z"
   },
   {
    "duration": 8,
    "start_time": "2023-05-15T22:04:56.449Z"
   },
   {
    "duration": 1629,
    "start_time": "2023-05-16T11:19:15.090Z"
   },
   {
    "duration": 66,
    "start_time": "2023-05-16T11:19:16.722Z"
   },
   {
    "duration": 17,
    "start_time": "2023-05-16T11:19:16.790Z"
   },
   {
    "duration": 26,
    "start_time": "2023-05-16T11:19:16.809Z"
   },
   {
    "duration": 51,
    "start_time": "2023-05-16T19:20:45.227Z"
   },
   {
    "duration": 7,
    "start_time": "2023-05-16T19:23:11.151Z"
   },
   {
    "duration": 1116,
    "start_time": "2023-05-16T19:23:31.481Z"
   },
   {
    "duration": 105,
    "start_time": "2023-05-16T19:23:32.599Z"
   },
   {
    "duration": 17,
    "start_time": "2023-05-16T19:23:32.706Z"
   },
   {
    "duration": 29,
    "start_time": "2023-05-16T19:23:32.725Z"
   },
   {
    "duration": 4,
    "start_time": "2023-05-16T19:23:32.756Z"
   },
   {
    "duration": 8,
    "start_time": "2023-05-16T19:23:32.762Z"
   },
   {
    "duration": 21,
    "start_time": "2023-05-16T19:23:32.772Z"
   },
   {
    "duration": 21,
    "start_time": "2023-05-16T19:23:32.796Z"
   },
   {
    "duration": 67,
    "start_time": "2023-05-16T19:23:32.819Z"
   },
   {
    "duration": 3783,
    "start_time": "2023-05-16T19:23:32.888Z"
   },
   {
    "duration": 40,
    "start_time": "2023-05-16T19:23:36.673Z"
   },
   {
    "duration": 254,
    "start_time": "2023-05-16T19:23:36.714Z"
   },
   {
    "duration": 57,
    "start_time": "2023-05-16T19:24:14.199Z"
   },
   {
    "duration": 3,
    "start_time": "2023-05-16T19:24:25.476Z"
   },
   {
    "duration": 49,
    "start_time": "2023-05-16T19:24:25.481Z"
   },
   {
    "duration": 11,
    "start_time": "2023-05-16T19:24:25.531Z"
   },
   {
    "duration": 22,
    "start_time": "2023-05-16T19:24:25.544Z"
   },
   {
    "duration": 3,
    "start_time": "2023-05-16T19:24:25.568Z"
   },
   {
    "duration": 6,
    "start_time": "2023-05-16T19:24:25.572Z"
   },
   {
    "duration": 3,
    "start_time": "2023-05-16T19:24:25.579Z"
   },
   {
    "duration": 4,
    "start_time": "2023-05-16T19:24:25.584Z"
   },
   {
    "duration": 84,
    "start_time": "2023-05-16T19:24:25.589Z"
   },
   {
    "duration": 3720,
    "start_time": "2023-05-16T19:24:25.675Z"
   },
   {
    "duration": 48,
    "start_time": "2023-05-16T19:24:29.396Z"
   },
   {
    "duration": 296,
    "start_time": "2023-05-16T19:24:29.446Z"
   },
   {
    "duration": 1388,
    "start_time": "2023-05-16T19:30:47.093Z"
   },
   {
    "duration": 1215,
    "start_time": "2023-05-16T19:31:14.824Z"
   },
   {
    "duration": 1285,
    "start_time": "2023-05-16T19:34:51.040Z"
   },
   {
    "duration": 1352,
    "start_time": "2023-05-16T19:35:27.038Z"
   },
   {
    "duration": 3,
    "start_time": "2023-05-16T19:35:42.130Z"
   },
   {
    "duration": 34,
    "start_time": "2023-05-16T19:35:42.135Z"
   },
   {
    "duration": 8,
    "start_time": "2023-05-16T19:35:42.171Z"
   },
   {
    "duration": 23,
    "start_time": "2023-05-16T19:35:42.181Z"
   },
   {
    "duration": 11,
    "start_time": "2023-05-16T19:35:42.206Z"
   },
   {
    "duration": 12,
    "start_time": "2023-05-16T19:35:42.224Z"
   },
   {
    "duration": 5,
    "start_time": "2023-05-16T19:35:42.238Z"
   },
   {
    "duration": 5,
    "start_time": "2023-05-16T19:35:42.244Z"
   },
   {
    "duration": 72,
    "start_time": "2023-05-16T19:35:42.250Z"
   },
   {
    "duration": 3618,
    "start_time": "2023-05-16T19:35:42.324Z"
   },
   {
    "duration": 28,
    "start_time": "2023-05-16T19:35:45.943Z"
   },
   {
    "duration": 1267,
    "start_time": "2023-05-16T19:35:45.972Z"
   },
   {
    "duration": 667,
    "start_time": "2023-05-16T19:37:07.121Z"
   },
   {
    "duration": 3,
    "start_time": "2023-05-16T19:38:02.661Z"
   },
   {
    "duration": 57,
    "start_time": "2023-05-16T19:38:03.132Z"
   },
   {
    "duration": 7,
    "start_time": "2023-05-16T19:38:32.861Z"
   },
   {
    "duration": 3,
    "start_time": "2023-05-16T19:39:51.935Z"
   },
   {
    "duration": 21,
    "start_time": "2023-05-16T19:39:54.628Z"
   },
   {
    "duration": 3,
    "start_time": "2023-05-16T19:41:12.534Z"
   },
   {
    "duration": 17,
    "start_time": "2023-05-16T19:41:13.147Z"
   },
   {
    "duration": 101,
    "start_time": "2023-05-16T19:41:24.691Z"
   },
   {
    "duration": 16,
    "start_time": "2023-05-16T19:41:25.189Z"
   },
   {
    "duration": 4,
    "start_time": "2023-05-16T19:41:34.704Z"
   },
   {
    "duration": 32,
    "start_time": "2023-05-16T19:41:35.593Z"
   },
   {
    "duration": 3,
    "start_time": "2023-05-16T19:41:37.121Z"
   },
   {
    "duration": 9,
    "start_time": "2023-05-16T19:41:38.466Z"
   },
   {
    "duration": 87,
    "start_time": "2023-05-16T19:43:14.237Z"
   },
   {
    "duration": 141,
    "start_time": "2023-05-16T19:43:48.986Z"
   },
   {
    "duration": 227,
    "start_time": "2023-05-16T19:44:21.894Z"
   },
   {
    "duration": 826,
    "start_time": "2023-05-16T19:44:39.993Z"
   },
   {
    "duration": 68,
    "start_time": "2023-05-16T19:45:06.397Z"
   },
   {
    "duration": 4,
    "start_time": "2023-05-16T19:49:43.337Z"
   },
   {
    "duration": 71,
    "start_time": "2023-05-16T19:50:29.264Z"
   },
   {
    "duration": 21,
    "start_time": "2023-05-16T19:50:38.962Z"
   },
   {
    "duration": 11,
    "start_time": "2023-05-16T19:51:18.800Z"
   },
   {
    "duration": 13,
    "start_time": "2023-05-16T19:51:28.254Z"
   },
   {
    "duration": 14,
    "start_time": "2023-05-16T19:51:32.648Z"
   },
   {
    "duration": 4,
    "start_time": "2023-05-16T19:51:40.598Z"
   },
   {
    "duration": 38,
    "start_time": "2023-05-16T19:51:40.604Z"
   },
   {
    "duration": 9,
    "start_time": "2023-05-16T19:51:40.644Z"
   },
   {
    "duration": 23,
    "start_time": "2023-05-16T19:51:40.655Z"
   },
   {
    "duration": 3,
    "start_time": "2023-05-16T19:51:40.680Z"
   },
   {
    "duration": 5,
    "start_time": "2023-05-16T19:51:40.685Z"
   },
   {
    "duration": 4,
    "start_time": "2023-05-16T19:51:40.692Z"
   },
   {
    "duration": 4,
    "start_time": "2023-05-16T19:51:40.697Z"
   },
   {
    "duration": 57,
    "start_time": "2023-05-16T19:51:40.702Z"
   },
   {
    "duration": 3329,
    "start_time": "2023-05-16T19:51:40.761Z"
   },
   {
    "duration": 30,
    "start_time": "2023-05-16T19:51:44.091Z"
   },
   {
    "duration": 253,
    "start_time": "2023-05-16T19:51:44.122Z"
   },
   {
    "duration": 12,
    "start_time": "2023-05-16T19:51:44.377Z"
   },
   {
    "duration": 257,
    "start_time": "2023-05-16T19:52:20.550Z"
   },
   {
    "duration": 149,
    "start_time": "2023-05-16T19:52:33.911Z"
   },
   {
    "duration": 45,
    "start_time": "2023-05-16T19:53:14.994Z"
   },
   {
    "duration": 2016,
    "start_time": "2023-05-16T19:53:33.822Z"
   },
   {
    "duration": 1159,
    "start_time": "2023-05-16T19:53:50.258Z"
   },
   {
    "duration": 340,
    "start_time": "2023-05-16T19:53:58.023Z"
   },
   {
    "duration": 123,
    "start_time": "2023-05-16T20:44:54.620Z"
   },
   {
    "duration": 12,
    "start_time": "2023-05-16T20:45:02.578Z"
   },
   {
    "duration": 319,
    "start_time": "2023-05-16T20:45:18.035Z"
   },
   {
    "duration": 233,
    "start_time": "2023-05-16T20:45:41.141Z"
   },
   {
    "duration": 2256,
    "start_time": "2023-05-16T20:48:55.381Z"
   },
   {
    "duration": 2289,
    "start_time": "2023-05-16T20:49:08.377Z"
   },
   {
    "duration": 37,
    "start_time": "2023-05-16T21:02:37.424Z"
   },
   {
    "duration": 27,
    "start_time": "2023-05-16T21:03:06.701Z"
   },
   {
    "duration": 16,
    "start_time": "2023-05-16T21:03:14.534Z"
   },
   {
    "duration": 8328,
    "start_time": "2023-05-16T21:05:27.346Z"
   },
   {
    "duration": 134,
    "start_time": "2023-05-16T21:08:36.131Z"
   },
   {
    "duration": 9165,
    "start_time": "2023-05-16T21:08:52.262Z"
   },
   {
    "duration": 1994,
    "start_time": "2023-05-16T21:18:24.773Z"
   },
   {
    "duration": 3876,
    "start_time": "2023-05-16T21:23:00.980Z"
   },
   {
    "duration": 15238,
    "start_time": "2023-05-16T21:24:07.678Z"
   },
   {
    "duration": 128,
    "start_time": "2023-05-16T21:28:16.175Z"
   },
   {
    "duration": 140056,
    "start_time": "2023-05-16T21:28:22.328Z"
   },
   {
    "duration": 2240,
    "start_time": "2023-05-16T21:31:37.958Z"
   },
   {
    "duration": 28,
    "start_time": "2023-05-16T21:33:17.667Z"
   },
   {
    "duration": 28283,
    "start_time": "2023-05-16T21:33:30.792Z"
   },
   {
    "duration": 971,
    "start_time": "2023-05-16T21:42:54.708Z"
   },
   {
    "duration": 896,
    "start_time": "2023-05-16T21:43:39.904Z"
   },
   {
    "duration": 317,
    "start_time": "2023-05-16T21:45:29.058Z"
   },
   {
    "duration": 933,
    "start_time": "2023-05-16T21:45:56.796Z"
   },
   {
    "duration": 4614,
    "start_time": "2023-05-16T21:46:24.544Z"
   },
   {
    "duration": 31115,
    "start_time": "2023-05-16T21:46:40.661Z"
   },
   {
    "duration": 107,
    "start_time": "2023-05-16T21:48:01.247Z"
   },
   {
    "duration": 25190,
    "start_time": "2023-05-16T21:48:10.479Z"
   },
   {
    "duration": 74,
    "start_time": "2023-05-16T22:00:41.527Z"
   },
   {
    "duration": 12,
    "start_time": "2023-05-16T22:00:52.178Z"
   },
   {
    "duration": 61,
    "start_time": "2023-05-16T22:01:09.024Z"
   },
   {
    "duration": 40,
    "start_time": "2023-05-16T22:01:19.235Z"
   },
   {
    "duration": 12,
    "start_time": "2023-05-16T22:01:28.044Z"
   },
   {
    "duration": 312,
    "start_time": "2023-05-16T22:02:07.406Z"
   },
   {
    "duration": 313,
    "start_time": "2023-05-16T22:05:52.633Z"
   },
   {
    "duration": 82,
    "start_time": "2023-05-16T22:14:10.772Z"
   },
   {
    "duration": 106,
    "start_time": "2023-05-16T22:15:18.681Z"
   },
   {
    "duration": 4,
    "start_time": "2023-05-16T22:18:58.230Z"
   },
   {
    "duration": 45,
    "start_time": "2023-05-16T22:18:58.236Z"
   },
   {
    "duration": 9,
    "start_time": "2023-05-16T22:18:58.283Z"
   },
   {
    "duration": 40,
    "start_time": "2023-05-16T22:18:58.294Z"
   },
   {
    "duration": 3,
    "start_time": "2023-05-16T22:18:58.336Z"
   },
   {
    "duration": 6,
    "start_time": "2023-05-16T22:18:58.341Z"
   },
   {
    "duration": 5,
    "start_time": "2023-05-16T22:18:58.349Z"
   },
   {
    "duration": 4,
    "start_time": "2023-05-16T22:18:58.355Z"
   },
   {
    "duration": 86,
    "start_time": "2023-05-16T22:18:58.360Z"
   },
   {
    "duration": 2046,
    "start_time": "2023-05-16T22:18:58.448Z"
   },
   {
    "duration": 3476,
    "start_time": "2023-05-16T22:19:00.496Z"
   },
   {
    "duration": 28190,
    "start_time": "2023-05-16T22:19:03.973Z"
   },
   {
    "duration": 27,
    "start_time": "2023-05-16T22:19:32.165Z"
   },
   {
    "duration": 335,
    "start_time": "2023-05-16T22:19:32.193Z"
   },
   {
    "duration": 11,
    "start_time": "2023-05-16T22:19:32.529Z"
   },
   {
    "duration": 12,
    "start_time": "2023-05-16T22:19:32.542Z"
   },
   {
    "duration": 6,
    "start_time": "2023-05-16T22:19:32.556Z"
   },
   {
    "duration": 6,
    "start_time": "2023-05-16T22:19:32.564Z"
   }
  ],
  "colab": {
   "provenance": []
  },
  "kernelspec": {
   "display_name": "Python 3 (ipykernel)",
   "language": "python",
   "name": "python3"
  },
  "language_info": {
   "codemirror_mode": {
    "name": "ipython",
    "version": 3
   },
   "file_extension": ".py",
   "mimetype": "text/x-python",
   "name": "python",
   "nbconvert_exporter": "python",
   "pygments_lexer": "ipython3",
   "version": "3.9.13"
  },
  "toc": {
   "base_numbering": 1,
   "nav_menu": {},
   "number_sections": true,
   "sideBar": true,
   "skip_h1_title": true,
   "title_cell": "Table of Contents",
   "title_sidebar": "Contents",
   "toc_cell": false,
   "toc_position": {},
   "toc_section_display": true,
   "toc_window_display": false
  }
 },
 "nbformat": 4,
 "nbformat_minor": 1
}
