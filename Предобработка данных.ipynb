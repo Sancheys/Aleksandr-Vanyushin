{
 "cells": [
  {
   "cell_type": "markdown",
   "id": "8cce068c",
   "metadata": {
    "deletable": false,
    "editable": false,
    "id": "c81daeeb"
   },
   "source": [
    "# Исследование надежности заемщиков\n"
   ]
  },
  {
   "cell_type": "markdown",
   "id": "1bcdebef",
   "metadata": {
    "deletable": false,
    "editable": false,
    "id": "827c20bf"
   },
   "source": [
    "Во второй части проекта вы выполните шаги 3 и 4. Их вручную проверит ревьюер.\n",
    "Чтобы вам не пришлось писать код заново для шагов 1 и 2, мы добавили авторские решения в ячейки с кодом. \n",
    "\n"
   ]
  },
  {
   "cell_type": "markdown",
   "id": "1d8703dd",
   "metadata": {
    "deletable": false,
    "editable": false,
    "id": "744d7639"
   },
   "source": [
    "## Откройте таблицу и изучите общую информацию о данных"
   ]
  },
  {
   "cell_type": "markdown",
   "id": "52fd0e0b",
   "metadata": {
    "deletable": false,
    "editable": false,
    "id": "e7a14c31"
   },
   "source": [
    "**Задание 1. Импортируйте библиотеку pandas. Считайте данные из csv-файла в датафрейм и сохраните в переменную `data`. Путь к файлу:**\n",
    "\n",
    "`/datasets/data.csv`"
   ]
  },
  {
   "cell_type": "code",
   "execution_count": 1,
   "id": "8030e273",
   "metadata": {
    "deletable": false,
    "id": "7bcf75c9"
   },
   "outputs": [],
   "source": [
    "import pandas as pd\n",
    "\n",
    "try:\n",
    "    data = pd.read_csv('/datasets/data.csv')\n",
    "except:\n",
    "    data = pd.read_csv('https://code.s3.yandex.net/datasets/data.csv')"
   ]
  },
  {
   "cell_type": "markdown",
   "id": "3a98f588",
   "metadata": {
    "deletable": false,
    "editable": false,
    "id": "b8038fe3"
   },
   "source": [
    "**Задание 2. Выведите первые 20 строчек датафрейма `data` на экран.**"
   ]
  },
  {
   "cell_type": "code",
   "execution_count": 2,
   "id": "c61d68e9",
   "metadata": {
    "deletable": false,
    "id": "2a7cab99",
    "outputId": "1a8f3ef2-d323-4ec2-ddf7-89670b5944c4"
   },
   "outputs": [
    {
     "data": {
      "text/html": [
       "<div>\n",
       "<style scoped>\n",
       "    .dataframe tbody tr th:only-of-type {\n",
       "        vertical-align: middle;\n",
       "    }\n",
       "\n",
       "    .dataframe tbody tr th {\n",
       "        vertical-align: top;\n",
       "    }\n",
       "\n",
       "    .dataframe thead th {\n",
       "        text-align: right;\n",
       "    }\n",
       "</style>\n",
       "<table border=\"1\" class=\"dataframe\">\n",
       "  <thead>\n",
       "    <tr style=\"text-align: right;\">\n",
       "      <th></th>\n",
       "      <th>children</th>\n",
       "      <th>days_employed</th>\n",
       "      <th>dob_years</th>\n",
       "      <th>education</th>\n",
       "      <th>education_id</th>\n",
       "      <th>family_status</th>\n",
       "      <th>family_status_id</th>\n",
       "      <th>gender</th>\n",
       "      <th>income_type</th>\n",
       "      <th>debt</th>\n",
       "      <th>total_income</th>\n",
       "      <th>purpose</th>\n",
       "    </tr>\n",
       "  </thead>\n",
       "  <tbody>\n",
       "    <tr>\n",
       "      <th>0</th>\n",
       "      <td>1</td>\n",
       "      <td>-8437.673028</td>\n",
       "      <td>42</td>\n",
       "      <td>высшее</td>\n",
       "      <td>0</td>\n",
       "      <td>женат / замужем</td>\n",
       "      <td>0</td>\n",
       "      <td>F</td>\n",
       "      <td>сотрудник</td>\n",
       "      <td>0</td>\n",
       "      <td>253875.639453</td>\n",
       "      <td>покупка жилья</td>\n",
       "    </tr>\n",
       "    <tr>\n",
       "      <th>1</th>\n",
       "      <td>1</td>\n",
       "      <td>-4024.803754</td>\n",
       "      <td>36</td>\n",
       "      <td>среднее</td>\n",
       "      <td>1</td>\n",
       "      <td>женат / замужем</td>\n",
       "      <td>0</td>\n",
       "      <td>F</td>\n",
       "      <td>сотрудник</td>\n",
       "      <td>0</td>\n",
       "      <td>112080.014102</td>\n",
       "      <td>приобретение автомобиля</td>\n",
       "    </tr>\n",
       "    <tr>\n",
       "      <th>2</th>\n",
       "      <td>0</td>\n",
       "      <td>-5623.422610</td>\n",
       "      <td>33</td>\n",
       "      <td>Среднее</td>\n",
       "      <td>1</td>\n",
       "      <td>женат / замужем</td>\n",
       "      <td>0</td>\n",
       "      <td>M</td>\n",
       "      <td>сотрудник</td>\n",
       "      <td>0</td>\n",
       "      <td>145885.952297</td>\n",
       "      <td>покупка жилья</td>\n",
       "    </tr>\n",
       "    <tr>\n",
       "      <th>3</th>\n",
       "      <td>3</td>\n",
       "      <td>-4124.747207</td>\n",
       "      <td>32</td>\n",
       "      <td>среднее</td>\n",
       "      <td>1</td>\n",
       "      <td>женат / замужем</td>\n",
       "      <td>0</td>\n",
       "      <td>M</td>\n",
       "      <td>сотрудник</td>\n",
       "      <td>0</td>\n",
       "      <td>267628.550329</td>\n",
       "      <td>дополнительное образование</td>\n",
       "    </tr>\n",
       "    <tr>\n",
       "      <th>4</th>\n",
       "      <td>0</td>\n",
       "      <td>340266.072047</td>\n",
       "      <td>53</td>\n",
       "      <td>среднее</td>\n",
       "      <td>1</td>\n",
       "      <td>гражданский брак</td>\n",
       "      <td>1</td>\n",
       "      <td>F</td>\n",
       "      <td>пенсионер</td>\n",
       "      <td>0</td>\n",
       "      <td>158616.077870</td>\n",
       "      <td>сыграть свадьбу</td>\n",
       "    </tr>\n",
       "    <tr>\n",
       "      <th>5</th>\n",
       "      <td>0</td>\n",
       "      <td>-926.185831</td>\n",
       "      <td>27</td>\n",
       "      <td>высшее</td>\n",
       "      <td>0</td>\n",
       "      <td>гражданский брак</td>\n",
       "      <td>1</td>\n",
       "      <td>M</td>\n",
       "      <td>компаньон</td>\n",
       "      <td>0</td>\n",
       "      <td>255763.565419</td>\n",
       "      <td>покупка жилья</td>\n",
       "    </tr>\n",
       "    <tr>\n",
       "      <th>6</th>\n",
       "      <td>0</td>\n",
       "      <td>-2879.202052</td>\n",
       "      <td>43</td>\n",
       "      <td>высшее</td>\n",
       "      <td>0</td>\n",
       "      <td>женат / замужем</td>\n",
       "      <td>0</td>\n",
       "      <td>F</td>\n",
       "      <td>компаньон</td>\n",
       "      <td>0</td>\n",
       "      <td>240525.971920</td>\n",
       "      <td>операции с жильем</td>\n",
       "    </tr>\n",
       "    <tr>\n",
       "      <th>7</th>\n",
       "      <td>0</td>\n",
       "      <td>-152.779569</td>\n",
       "      <td>50</td>\n",
       "      <td>СРЕДНЕЕ</td>\n",
       "      <td>1</td>\n",
       "      <td>женат / замужем</td>\n",
       "      <td>0</td>\n",
       "      <td>M</td>\n",
       "      <td>сотрудник</td>\n",
       "      <td>0</td>\n",
       "      <td>135823.934197</td>\n",
       "      <td>образование</td>\n",
       "    </tr>\n",
       "    <tr>\n",
       "      <th>8</th>\n",
       "      <td>2</td>\n",
       "      <td>-6929.865299</td>\n",
       "      <td>35</td>\n",
       "      <td>ВЫСШЕЕ</td>\n",
       "      <td>0</td>\n",
       "      <td>гражданский брак</td>\n",
       "      <td>1</td>\n",
       "      <td>F</td>\n",
       "      <td>сотрудник</td>\n",
       "      <td>0</td>\n",
       "      <td>95856.832424</td>\n",
       "      <td>на проведение свадьбы</td>\n",
       "    </tr>\n",
       "    <tr>\n",
       "      <th>9</th>\n",
       "      <td>0</td>\n",
       "      <td>-2188.756445</td>\n",
       "      <td>41</td>\n",
       "      <td>среднее</td>\n",
       "      <td>1</td>\n",
       "      <td>женат / замужем</td>\n",
       "      <td>0</td>\n",
       "      <td>M</td>\n",
       "      <td>сотрудник</td>\n",
       "      <td>0</td>\n",
       "      <td>144425.938277</td>\n",
       "      <td>покупка жилья для семьи</td>\n",
       "    </tr>\n",
       "    <tr>\n",
       "      <th>10</th>\n",
       "      <td>2</td>\n",
       "      <td>-4171.483647</td>\n",
       "      <td>36</td>\n",
       "      <td>высшее</td>\n",
       "      <td>0</td>\n",
       "      <td>женат / замужем</td>\n",
       "      <td>0</td>\n",
       "      <td>M</td>\n",
       "      <td>компаньон</td>\n",
       "      <td>0</td>\n",
       "      <td>113943.491460</td>\n",
       "      <td>покупка недвижимости</td>\n",
       "    </tr>\n",
       "    <tr>\n",
       "      <th>11</th>\n",
       "      <td>0</td>\n",
       "      <td>-792.701887</td>\n",
       "      <td>40</td>\n",
       "      <td>среднее</td>\n",
       "      <td>1</td>\n",
       "      <td>женат / замужем</td>\n",
       "      <td>0</td>\n",
       "      <td>F</td>\n",
       "      <td>сотрудник</td>\n",
       "      <td>0</td>\n",
       "      <td>77069.234271</td>\n",
       "      <td>покупка коммерческой недвижимости</td>\n",
       "    </tr>\n",
       "    <tr>\n",
       "      <th>12</th>\n",
       "      <td>0</td>\n",
       "      <td>NaN</td>\n",
       "      <td>65</td>\n",
       "      <td>среднее</td>\n",
       "      <td>1</td>\n",
       "      <td>гражданский брак</td>\n",
       "      <td>1</td>\n",
       "      <td>M</td>\n",
       "      <td>пенсионер</td>\n",
       "      <td>0</td>\n",
       "      <td>NaN</td>\n",
       "      <td>сыграть свадьбу</td>\n",
       "    </tr>\n",
       "    <tr>\n",
       "      <th>13</th>\n",
       "      <td>0</td>\n",
       "      <td>-1846.641941</td>\n",
       "      <td>54</td>\n",
       "      <td>неоконченное высшее</td>\n",
       "      <td>2</td>\n",
       "      <td>женат / замужем</td>\n",
       "      <td>0</td>\n",
       "      <td>F</td>\n",
       "      <td>сотрудник</td>\n",
       "      <td>0</td>\n",
       "      <td>130458.228857</td>\n",
       "      <td>приобретение автомобиля</td>\n",
       "    </tr>\n",
       "    <tr>\n",
       "      <th>14</th>\n",
       "      <td>0</td>\n",
       "      <td>-1844.956182</td>\n",
       "      <td>56</td>\n",
       "      <td>высшее</td>\n",
       "      <td>0</td>\n",
       "      <td>гражданский брак</td>\n",
       "      <td>1</td>\n",
       "      <td>F</td>\n",
       "      <td>компаньон</td>\n",
       "      <td>1</td>\n",
       "      <td>165127.911772</td>\n",
       "      <td>покупка жилой недвижимости</td>\n",
       "    </tr>\n",
       "    <tr>\n",
       "      <th>15</th>\n",
       "      <td>1</td>\n",
       "      <td>-972.364419</td>\n",
       "      <td>26</td>\n",
       "      <td>среднее</td>\n",
       "      <td>1</td>\n",
       "      <td>женат / замужем</td>\n",
       "      <td>0</td>\n",
       "      <td>F</td>\n",
       "      <td>сотрудник</td>\n",
       "      <td>0</td>\n",
       "      <td>116820.904450</td>\n",
       "      <td>строительство собственной недвижимости</td>\n",
       "    </tr>\n",
       "    <tr>\n",
       "      <th>16</th>\n",
       "      <td>0</td>\n",
       "      <td>-1719.934226</td>\n",
       "      <td>35</td>\n",
       "      <td>среднее</td>\n",
       "      <td>1</td>\n",
       "      <td>женат / замужем</td>\n",
       "      <td>0</td>\n",
       "      <td>F</td>\n",
       "      <td>сотрудник</td>\n",
       "      <td>0</td>\n",
       "      <td>289202.704229</td>\n",
       "      <td>недвижимость</td>\n",
       "    </tr>\n",
       "    <tr>\n",
       "      <th>17</th>\n",
       "      <td>0</td>\n",
       "      <td>-2369.999720</td>\n",
       "      <td>33</td>\n",
       "      <td>высшее</td>\n",
       "      <td>0</td>\n",
       "      <td>гражданский брак</td>\n",
       "      <td>1</td>\n",
       "      <td>M</td>\n",
       "      <td>сотрудник</td>\n",
       "      <td>0</td>\n",
       "      <td>90410.586745</td>\n",
       "      <td>строительство недвижимости</td>\n",
       "    </tr>\n",
       "    <tr>\n",
       "      <th>18</th>\n",
       "      <td>0</td>\n",
       "      <td>400281.136913</td>\n",
       "      <td>53</td>\n",
       "      <td>среднее</td>\n",
       "      <td>1</td>\n",
       "      <td>вдовец / вдова</td>\n",
       "      <td>2</td>\n",
       "      <td>F</td>\n",
       "      <td>пенсионер</td>\n",
       "      <td>0</td>\n",
       "      <td>56823.777243</td>\n",
       "      <td>на покупку подержанного автомобиля</td>\n",
       "    </tr>\n",
       "    <tr>\n",
       "      <th>19</th>\n",
       "      <td>0</td>\n",
       "      <td>-10038.818549</td>\n",
       "      <td>48</td>\n",
       "      <td>СРЕДНЕЕ</td>\n",
       "      <td>1</td>\n",
       "      <td>в разводе</td>\n",
       "      <td>3</td>\n",
       "      <td>F</td>\n",
       "      <td>сотрудник</td>\n",
       "      <td>0</td>\n",
       "      <td>242831.107982</td>\n",
       "      <td>на покупку своего автомобиля</td>\n",
       "    </tr>\n",
       "  </tbody>\n",
       "</table>\n",
       "</div>"
      ],
      "text/plain": [
       "    children  days_employed  dob_years            education  education_id  \\\n",
       "0          1   -8437.673028         42               высшее             0   \n",
       "1          1   -4024.803754         36              среднее             1   \n",
       "2          0   -5623.422610         33              Среднее             1   \n",
       "3          3   -4124.747207         32              среднее             1   \n",
       "4          0  340266.072047         53              среднее             1   \n",
       "5          0    -926.185831         27               высшее             0   \n",
       "6          0   -2879.202052         43               высшее             0   \n",
       "7          0    -152.779569         50              СРЕДНЕЕ             1   \n",
       "8          2   -6929.865299         35               ВЫСШЕЕ             0   \n",
       "9          0   -2188.756445         41              среднее             1   \n",
       "10         2   -4171.483647         36               высшее             0   \n",
       "11         0    -792.701887         40              среднее             1   \n",
       "12         0            NaN         65              среднее             1   \n",
       "13         0   -1846.641941         54  неоконченное высшее             2   \n",
       "14         0   -1844.956182         56               высшее             0   \n",
       "15         1    -972.364419         26              среднее             1   \n",
       "16         0   -1719.934226         35              среднее             1   \n",
       "17         0   -2369.999720         33               высшее             0   \n",
       "18         0  400281.136913         53              среднее             1   \n",
       "19         0  -10038.818549         48              СРЕДНЕЕ             1   \n",
       "\n",
       "       family_status  family_status_id gender income_type  debt  \\\n",
       "0    женат / замужем                 0      F   сотрудник     0   \n",
       "1    женат / замужем                 0      F   сотрудник     0   \n",
       "2    женат / замужем                 0      M   сотрудник     0   \n",
       "3    женат / замужем                 0      M   сотрудник     0   \n",
       "4   гражданский брак                 1      F   пенсионер     0   \n",
       "5   гражданский брак                 1      M   компаньон     0   \n",
       "6    женат / замужем                 0      F   компаньон     0   \n",
       "7    женат / замужем                 0      M   сотрудник     0   \n",
       "8   гражданский брак                 1      F   сотрудник     0   \n",
       "9    женат / замужем                 0      M   сотрудник     0   \n",
       "10   женат / замужем                 0      M   компаньон     0   \n",
       "11   женат / замужем                 0      F   сотрудник     0   \n",
       "12  гражданский брак                 1      M   пенсионер     0   \n",
       "13   женат / замужем                 0      F   сотрудник     0   \n",
       "14  гражданский брак                 1      F   компаньон     1   \n",
       "15   женат / замужем                 0      F   сотрудник     0   \n",
       "16   женат / замужем                 0      F   сотрудник     0   \n",
       "17  гражданский брак                 1      M   сотрудник     0   \n",
       "18    вдовец / вдова                 2      F   пенсионер     0   \n",
       "19         в разводе                 3      F   сотрудник     0   \n",
       "\n",
       "     total_income                                 purpose  \n",
       "0   253875.639453                           покупка жилья  \n",
       "1   112080.014102                 приобретение автомобиля  \n",
       "2   145885.952297                           покупка жилья  \n",
       "3   267628.550329              дополнительное образование  \n",
       "4   158616.077870                         сыграть свадьбу  \n",
       "5   255763.565419                           покупка жилья  \n",
       "6   240525.971920                       операции с жильем  \n",
       "7   135823.934197                             образование  \n",
       "8    95856.832424                   на проведение свадьбы  \n",
       "9   144425.938277                 покупка жилья для семьи  \n",
       "10  113943.491460                    покупка недвижимости  \n",
       "11   77069.234271       покупка коммерческой недвижимости  \n",
       "12            NaN                         сыграть свадьбу  \n",
       "13  130458.228857                 приобретение автомобиля  \n",
       "14  165127.911772              покупка жилой недвижимости  \n",
       "15  116820.904450  строительство собственной недвижимости  \n",
       "16  289202.704229                            недвижимость  \n",
       "17   90410.586745              строительство недвижимости  \n",
       "18   56823.777243      на покупку подержанного автомобиля  \n",
       "19  242831.107982            на покупку своего автомобиля  "
      ]
     },
     "execution_count": 2,
     "metadata": {},
     "output_type": "execute_result"
    }
   ],
   "source": [
    "data.head(20)"
   ]
  },
  {
   "cell_type": "markdown",
   "id": "e17c473a",
   "metadata": {
    "deletable": false,
    "editable": false,
    "id": "1c12e233"
   },
   "source": [
    "**Задание 3. Выведите основную информацию о датафрейме с помощью метода `info()`.**"
   ]
  },
  {
   "cell_type": "code",
   "execution_count": 3,
   "id": "bc6f7015",
   "metadata": {
    "deletable": false,
    "id": "2b757bca",
    "outputId": "15376089-8dad-46c9-b520-c05248d43158"
   },
   "outputs": [
    {
     "name": "stdout",
     "output_type": "stream",
     "text": [
      "<class 'pandas.core.frame.DataFrame'>\n",
      "RangeIndex: 21525 entries, 0 to 21524\n",
      "Data columns (total 12 columns):\n",
      " #   Column            Non-Null Count  Dtype  \n",
      "---  ------            --------------  -----  \n",
      " 0   children          21525 non-null  int64  \n",
      " 1   days_employed     19351 non-null  float64\n",
      " 2   dob_years         21525 non-null  int64  \n",
      " 3   education         21525 non-null  object \n",
      " 4   education_id      21525 non-null  int64  \n",
      " 5   family_status     21525 non-null  object \n",
      " 6   family_status_id  21525 non-null  int64  \n",
      " 7   gender            21525 non-null  object \n",
      " 8   income_type       21525 non-null  object \n",
      " 9   debt              21525 non-null  int64  \n",
      " 10  total_income      19351 non-null  float64\n",
      " 11  purpose           21525 non-null  object \n",
      "dtypes: float64(2), int64(5), object(5)\n",
      "memory usage: 2.0+ MB\n"
     ]
    }
   ],
   "source": [
    "data.info()"
   ]
  },
  {
   "cell_type": "markdown",
   "id": "d2eaab70",
   "metadata": {
    "deletable": false,
    "editable": false,
    "id": "333ec665"
   },
   "source": [
    "## Предобработка данных"
   ]
  },
  {
   "cell_type": "markdown",
   "id": "b1df7f25",
   "metadata": {
    "deletable": false,
    "editable": false,
    "id": "02d92d53"
   },
   "source": [
    "### Удаление пропусков"
   ]
  },
  {
   "cell_type": "markdown",
   "id": "777d2fa9",
   "metadata": {
    "deletable": false,
    "editable": false,
    "id": "cd84967c"
   },
   "source": [
    "**Задание 4. Выведите количество пропущенных значений для каждого столбца. Используйте комбинацию двух методов.**"
   ]
  },
  {
   "cell_type": "code",
   "execution_count": 4,
   "id": "e430d528",
   "metadata": {
    "deletable": false,
    "id": "7f9b2309",
    "outputId": "81f4d817-781c-465c-ed15-91ce4446810d",
    "scrolled": true
   },
   "outputs": [
    {
     "data": {
      "text/plain": [
       "children               0\n",
       "days_employed       2174\n",
       "dob_years              0\n",
       "education              0\n",
       "education_id           0\n",
       "family_status          0\n",
       "family_status_id       0\n",
       "gender                 0\n",
       "income_type            0\n",
       "debt                   0\n",
       "total_income        2174\n",
       "purpose                0\n",
       "dtype: int64"
      ]
     },
     "execution_count": 4,
     "metadata": {},
     "output_type": "execute_result"
    }
   ],
   "source": [
    "data.isna().sum()"
   ]
  },
  {
   "cell_type": "markdown",
   "id": "61c278dc",
   "metadata": {
    "deletable": false,
    "editable": false,
    "id": "db86e27b"
   },
   "source": [
    "**Задание 5. В двух столбцах есть пропущенные значения. Один из них — `days_employed`. Пропуски в этом столбце вы обработаете на следующем этапе. Другой столбец с пропущенными значениями — `total_income` — хранит данные о доходах. На сумму дохода сильнее всего влияет тип занятости, поэтому заполнить пропуски в этом столбце нужно медианным значением по каждому типу из столбца `income_type`. Например, у человека с типом занятости `сотрудник` пропуск в столбце `total_income` должен быть заполнен медианным доходом среди всех записей с тем же типом.**"
   ]
  },
  {
   "cell_type": "code",
   "execution_count": 5,
   "id": "bff10914",
   "metadata": {
    "deletable": false,
    "id": "42006a93"
   },
   "outputs": [],
   "source": [
    "for t in data['income_type'].unique():\n",
    "    data.loc[(data['income_type'] == t) & (data['total_income'].isna()), 'total_income'] = \\\n",
    "    data.loc[(data['income_type'] == t), 'total_income'].median()"
   ]
  },
  {
   "cell_type": "markdown",
   "id": "c1fdf468",
   "metadata": {
    "deletable": false,
    "editable": false,
    "id": "89da5ece"
   },
   "source": [
    "### Обработка аномальных значений"
   ]
  },
  {
   "cell_type": "markdown",
   "id": "85bb7be9",
   "metadata": {
    "deletable": false,
    "editable": false,
    "id": "57964554"
   },
   "source": [
    "**Задание 6. В данных могут встречаться артефакты (аномалии) — значения, которые не отражают действительность и появились по какой-то ошибке. таким артефактом будет отрицательное количество дней трудового стажа в столбце `days_employed`. Для реальных данных это нормально. Обработайте значения в этом столбце: замените все отрицательные значения положительными с помощью метода `abs()`.**"
   ]
  },
  {
   "cell_type": "code",
   "execution_count": 6,
   "id": "3de0246a",
   "metadata": {
    "deletable": false,
    "id": "f6f055bf"
   },
   "outputs": [],
   "source": [
    "data['days_employed'] = data['days_employed'].abs()"
   ]
  },
  {
   "cell_type": "markdown",
   "id": "b0312803",
   "metadata": {
    "deletable": false,
    "editable": false,
    "id": "6107dd2f"
   },
   "source": [
    "**Задание 7. Для каждого типа занятости выведите медианное значение трудового стажа `days_employed` в днях.**"
   ]
  },
  {
   "cell_type": "code",
   "execution_count": 7,
   "id": "140ca197",
   "metadata": {
    "deletable": false,
    "id": "85a5faf6",
    "outputId": "801ef80e-522b-4668-f34e-565af7432bcf"
   },
   "outputs": [
    {
     "data": {
      "text/plain": [
       "income_type\n",
       "безработный        366413.652744\n",
       "в декрете            3296.759962\n",
       "госслужащий          2689.368353\n",
       "компаньон            1547.382223\n",
       "пенсионер          365213.306266\n",
       "предприниматель       520.848083\n",
       "сотрудник            1574.202821\n",
       "студент               578.751554\n",
       "Name: days_employed, dtype: float64"
      ]
     },
     "execution_count": 7,
     "metadata": {},
     "output_type": "execute_result"
    }
   ],
   "source": [
    "data.groupby('income_type')['days_employed'].agg('median')"
   ]
  },
  {
   "cell_type": "markdown",
   "id": "9d5d72dd",
   "metadata": {
    "deletable": false,
    "editable": false,
    "id": "38d1a030"
   },
   "source": [
    "У двух типов (безработные и пенсионеры) получатся аномально большие значения. Исправить такие значения сложно, поэтому оставьте их как есть. Тем более этот столбец не понадобится вам для исследования."
   ]
  },
  {
   "cell_type": "markdown",
   "id": "953d26ba",
   "metadata": {
    "deletable": false,
    "editable": false,
    "id": "d8a9f147"
   },
   "source": [
    "**Задание 8. Выведите перечень уникальных значений столбца `children`.**"
   ]
  },
  {
   "cell_type": "code",
   "execution_count": 8,
   "id": "ce6f7147",
   "metadata": {
    "deletable": false,
    "id": "ef5056eb",
    "outputId": "6975b15c-7f95-4697-d16d-a0c79b657b03"
   },
   "outputs": [
    {
     "data": {
      "text/plain": [
       "array([ 1,  0,  3,  2, -1,  4, 20,  5])"
      ]
     },
     "execution_count": 8,
     "metadata": {},
     "output_type": "execute_result"
    }
   ],
   "source": [
    "data['children'].unique()"
   ]
  },
  {
   "cell_type": "markdown",
   "id": "e1ef98d5",
   "metadata": {
    "deletable": false,
    "editable": false,
    "id": "40b9ebf2"
   },
   "source": [
    "**Задание 9. В столбце `children` есть два аномальных значения. Удалите строки, в которых встречаются такие аномальные значения из датафрейма `data`.**"
   ]
  },
  {
   "cell_type": "code",
   "execution_count": 9,
   "id": "c0d4a6a3",
   "metadata": {
    "deletable": false,
    "id": "3ff9801d"
   },
   "outputs": [],
   "source": [
    "data = data[(data['children'] != -1) & (data['children'] != 20)]"
   ]
  },
  {
   "cell_type": "markdown",
   "id": "e2c79f38",
   "metadata": {
    "deletable": false,
    "editable": false,
    "id": "bbc4d0ce"
   },
   "source": [
    "**Задание 10. Ещё раз выведите перечень уникальных значений столбца `children`, чтобы убедиться, что артефакты удалены.**"
   ]
  },
  {
   "cell_type": "code",
   "execution_count": 10,
   "id": "8a893aa8",
   "metadata": {
    "deletable": false,
    "id": "ad4fa8b7",
    "outputId": "b2097101-d49d-44d9-901b-32a65c9463d1"
   },
   "outputs": [
    {
     "data": {
      "text/plain": [
       "array([1, 0, 3, 2, 4, 5])"
      ]
     },
     "execution_count": 10,
     "metadata": {},
     "output_type": "execute_result"
    }
   ],
   "source": [
    "data['children'].unique()"
   ]
  },
  {
   "cell_type": "markdown",
   "id": "bd07c42c",
   "metadata": {
    "deletable": false,
    "editable": false,
    "id": "75440b63"
   },
   "source": [
    "### Удаление пропусков (продолжение)"
   ]
  },
  {
   "cell_type": "markdown",
   "id": "91d612cd",
   "metadata": {
    "deletable": false,
    "editable": false,
    "id": "f4ea573f"
   },
   "source": [
    "**Задание 11. Заполните пропуски в столбце `days_employed` медианными значениями по каждого типа занятости `income_type`.**"
   ]
  },
  {
   "cell_type": "code",
   "execution_count": 11,
   "id": "610a24e6",
   "metadata": {
    "deletable": false,
    "id": "af6b1a7e"
   },
   "outputs": [],
   "source": [
    "for t in data['income_type'].unique():\n",
    "    data.loc[(data['income_type'] == t) & (data['days_employed'].isna()), 'days_employed'] = \\\n",
    "    data.loc[(data['income_type'] == t), 'days_employed'].median()"
   ]
  },
  {
   "cell_type": "markdown",
   "id": "df9e0243",
   "metadata": {
    "deletable": false,
    "editable": false,
    "id": "2753f40d"
   },
   "source": [
    "**Задание 12. Убедитесь, что все пропуски заполнены. Проверьте себя и ещё раз выведите количество пропущенных значений для каждого столбца с помощью двух методов.**"
   ]
  },
  {
   "cell_type": "code",
   "execution_count": 12,
   "id": "23c4a649",
   "metadata": {
    "deletable": false,
    "id": "55f78bc2",
    "outputId": "8da1e4e1-358e-4e87-98c9-f261bce0a7b2"
   },
   "outputs": [
    {
     "data": {
      "text/plain": [
       "children            0\n",
       "days_employed       0\n",
       "dob_years           0\n",
       "education           0\n",
       "education_id        0\n",
       "family_status       0\n",
       "family_status_id    0\n",
       "gender              0\n",
       "income_type         0\n",
       "debt                0\n",
       "total_income        0\n",
       "purpose             0\n",
       "dtype: int64"
      ]
     },
     "execution_count": 12,
     "metadata": {},
     "output_type": "execute_result"
    }
   ],
   "source": [
    "data.isna().sum()"
   ]
  },
  {
   "cell_type": "markdown",
   "id": "07bec838",
   "metadata": {
    "deletable": false,
    "editable": false,
    "id": "ddc81e43"
   },
   "source": [
    "### Изменение типов данных"
   ]
  },
  {
   "cell_type": "markdown",
   "id": "bb08ccdb",
   "metadata": {
    "deletable": false,
    "editable": false,
    "id": "42d19d24"
   },
   "source": [
    "**Задание 13. Замените вещественный тип данных в столбце `total_income` на целочисленный с помощью метода `astype()`.**"
   ]
  },
  {
   "cell_type": "code",
   "execution_count": 13,
   "id": "bd989d06",
   "metadata": {
    "deletable": false,
    "id": "920b65ad"
   },
   "outputs": [],
   "source": [
    "data['total_income'] = data['total_income'].astype(int)"
   ]
  },
  {
   "cell_type": "markdown",
   "id": "b0a86ca7",
   "metadata": {
    "deletable": false,
    "editable": false,
    "id": "80c420ba"
   },
   "source": [
    "### Обработка дубликатов"
   ]
  },
  {
   "cell_type": "markdown",
   "id": "e9cac57d",
   "metadata": {
    "deletable": false,
    "editable": false
   },
   "source": [
    "**Задание 14. Обработайте неявные дубликаты в столбце `education`. В этом столбце есть одни и те же значения, но записанные по-разному: с использованием заглавных и строчных букв. Приведите их к нижнему регистру. Проверьте остальные столбцы.**"
   ]
  },
  {
   "cell_type": "code",
   "execution_count": 14,
   "id": "591e06b4",
   "metadata": {
    "deletable": false
   },
   "outputs": [],
   "source": [
    "data['education'] = data['education'].str.lower()"
   ]
  },
  {
   "cell_type": "markdown",
   "id": "c1693b80",
   "metadata": {
    "deletable": false,
    "editable": false,
    "id": "dc587695"
   },
   "source": [
    "**Задание 15. Выведите на экран количество строк-дубликатов в данных. Если такие строки присутствуют, удалите их.**"
   ]
  },
  {
   "cell_type": "code",
   "execution_count": 15,
   "id": "5577fbfc",
   "metadata": {
    "deletable": false,
    "id": "3ee445e4",
    "outputId": "9684deba-1934-42d1-99e1-cda61740f822"
   },
   "outputs": [
    {
     "data": {
      "text/plain": [
       "71"
      ]
     },
     "execution_count": 15,
     "metadata": {},
     "output_type": "execute_result"
    }
   ],
   "source": [
    "data.duplicated().sum()"
   ]
  },
  {
   "cell_type": "code",
   "execution_count": 16,
   "id": "759caa4c",
   "metadata": {
    "deletable": false,
    "id": "8575fe05"
   },
   "outputs": [],
   "source": [
    "data = data.drop_duplicates()"
   ]
  },
  {
   "cell_type": "markdown",
   "id": "efd33cdb",
   "metadata": {
    "deletable": false,
    "editable": false,
    "id": "9904cf55"
   },
   "source": [
    "### Категоризация данных"
   ]
  },
  {
   "cell_type": "markdown",
   "id": "e38280ad",
   "metadata": {
    "deletable": false,
    "editable": false,
    "id": "72fcc8a2"
   },
   "source": [
    "**Задание 16. На основании диапазонов, указанных ниже, создайте в датафрейме `data` столбец `total_income_category` с категориями:**\n",
    "\n",
    "- 0–30000 — `'E'`;\n",
    "- 30001–50000 — `'D'`;\n",
    "- 50001–200000 — `'C'`;\n",
    "- 200001–1000000 — `'B'`;\n",
    "- 1000001 и выше — `'A'`.\n",
    "\n",
    "\n",
    "**Например, кредитополучателю с доходом 25000 нужно назначить категорию `'E'`, а клиенту, получающему 235000, — `'B'`. Используйте собственную функцию с именем `categorize_income()` и метод `apply()`.**"
   ]
  },
  {
   "cell_type": "code",
   "execution_count": 17,
   "id": "9ec31607",
   "metadata": {
    "deletable": false,
    "id": "e1771346"
   },
   "outputs": [],
   "source": [
    "def categorize_income(income):\n",
    "    try:\n",
    "        if 0 <= income <= 30000:\n",
    "            return 'E'\n",
    "        elif 30001 <= income <= 50000:\n",
    "            return 'D'\n",
    "        elif 50001 <= income <= 200000:\n",
    "            return 'C'\n",
    "        elif 200001 <= income <= 1000000:\n",
    "            return 'B'\n",
    "        elif income >= 1000001:\n",
    "            return 'A'\n",
    "    except:\n",
    "        pass"
   ]
  },
  {
   "cell_type": "code",
   "execution_count": 18,
   "id": "5ceb4480",
   "metadata": {
    "deletable": false,
    "id": "d5f3586d"
   },
   "outputs": [],
   "source": [
    "data['total_income_category'] = data['total_income'].apply(categorize_income)"
   ]
  },
  {
   "cell_type": "markdown",
   "id": "3eb27002",
   "metadata": {
    "deletable": false,
    "editable": false,
    "id": "dde49b5c"
   },
   "source": [
    "**Задание 17. Выведите на экран перечень уникальных целей взятия кредита из столбца `purpose`.**"
   ]
  },
  {
   "cell_type": "code",
   "execution_count": 19,
   "id": "b6a1495a",
   "metadata": {
    "deletable": false,
    "id": "f67ce9b3",
    "outputId": "673c12d9-7d7e-4ae0-9812-c622c89dd244"
   },
   "outputs": [
    {
     "data": {
      "text/plain": [
       "array(['покупка жилья', 'приобретение автомобиля',\n",
       "       'дополнительное образование', 'сыграть свадьбу',\n",
       "       'операции с жильем', 'образование', 'на проведение свадьбы',\n",
       "       'покупка жилья для семьи', 'покупка недвижимости',\n",
       "       'покупка коммерческой недвижимости', 'покупка жилой недвижимости',\n",
       "       'строительство собственной недвижимости', 'недвижимость',\n",
       "       'строительство недвижимости', 'на покупку подержанного автомобиля',\n",
       "       'на покупку своего автомобиля',\n",
       "       'операции с коммерческой недвижимостью',\n",
       "       'строительство жилой недвижимости', 'жилье',\n",
       "       'операции со своей недвижимостью', 'автомобили',\n",
       "       'заняться образованием', 'сделка с подержанным автомобилем',\n",
       "       'получение образования', 'автомобиль', 'свадьба',\n",
       "       'получение дополнительного образования', 'покупка своего жилья',\n",
       "       'операции с недвижимостью', 'получение высшего образования',\n",
       "       'свой автомобиль', 'сделка с автомобилем',\n",
       "       'профильное образование', 'высшее образование',\n",
       "       'покупка жилья для сдачи', 'на покупку автомобиля', 'ремонт жилью',\n",
       "       'заняться высшим образованием'], dtype=object)"
      ]
     },
     "execution_count": 19,
     "metadata": {},
     "output_type": "execute_result"
    }
   ],
   "source": [
    "data['purpose'].unique()"
   ]
  },
  {
   "cell_type": "markdown",
   "id": "7a43be4f",
   "metadata": {
    "deletable": false,
    "editable": false,
    "id": "85d0aef0"
   },
   "source": [
    "**Задание 18. Создайте функцию, которая на основании данных из столбца `purpose` сформирует новый столбец `purpose_category`, в который войдут следующие категории:**\n",
    "\n",
    "- `'операции с автомобилем'`,\n",
    "- `'операции с недвижимостью'`,\n",
    "- `'проведение свадьбы'`,\n",
    "- `'получение образования'`.\n",
    "\n",
    "**Например, если в столбце `purpose` находится подстрока `'на покупку автомобиля'`, то в столбце `purpose_category` должна появиться строка `'операции с автомобилем'`.**\n",
    "\n",
    "**Используйте собственную функцию с именем `categorize_purpose()` и метод `apply()`. Изучите данные в столбце `purpose` и определите, какие подстроки помогут вам правильно определить категорию.**"
   ]
  },
  {
   "cell_type": "code",
   "execution_count": 20,
   "id": "945e5849",
   "metadata": {
    "deletable": false,
    "id": "e149fab4"
   },
   "outputs": [],
   "source": [
    "def categorize_purpose(row):\n",
    "    try:\n",
    "        if 'автом' in row:\n",
    "            return 'операции с автомобилем'\n",
    "        elif 'жил' in row or 'недвиж' in row:\n",
    "            return 'операции с недвижимостью'\n",
    "        elif 'свад' in row:\n",
    "            return 'проведение свадьбы'\n",
    "        elif 'образов' in row:\n",
    "            return 'получение образования'\n",
    "    except:\n",
    "        return 'нет категории'"
   ]
  },
  {
   "cell_type": "code",
   "execution_count": 21,
   "id": "d94226e6",
   "metadata": {
    "deletable": false,
    "id": "bf36e69b"
   },
   "outputs": [],
   "source": [
    "data['purpose_category'] = data['purpose'].apply(categorize_purpose)"
   ]
  },
  {
   "cell_type": "markdown",
   "id": "ab8e276a",
   "metadata": {
    "deletable": false,
    "editable": false,
    "id": "09b242bf"
   },
   "source": [
    "### Шаг 3. Исследуйте данные и ответьте на вопросы"
   ]
  },
  {
   "cell_type": "markdown",
   "id": "0af48ac0",
   "metadata": {
    "deletable": false,
    "editable": false,
    "id": "c5d66278"
   },
   "source": [
    "#### 3.1 Есть ли зависимость между количеством детей и возвратом кредита в срок?"
   ]
  },
  {
   "cell_type": "code",
   "execution_count": 22,
   "id": "4c3acc93",
   "metadata": {
    "deletable": false,
    "id": "2cacfc4a"
   },
   "outputs": [
    {
     "data": {
      "text/html": [
       "<div>\n",
       "<style scoped>\n",
       "    .dataframe tbody tr th:only-of-type {\n",
       "        vertical-align: middle;\n",
       "    }\n",
       "\n",
       "    .dataframe tbody tr th {\n",
       "        vertical-align: top;\n",
       "    }\n",
       "\n",
       "    .dataframe thead th {\n",
       "        text-align: right;\n",
       "    }\n",
       "</style>\n",
       "<table border=\"1\" class=\"dataframe\">\n",
       "  <thead>\n",
       "    <tr style=\"text-align: right;\">\n",
       "      <th></th>\n",
       "      <th>children</th>\n",
       "      <th>days_employed</th>\n",
       "      <th>dob_years</th>\n",
       "      <th>education</th>\n",
       "      <th>education_id</th>\n",
       "      <th>family_status</th>\n",
       "      <th>family_status_id</th>\n",
       "      <th>gender</th>\n",
       "      <th>income_type</th>\n",
       "      <th>debt</th>\n",
       "      <th>total_income</th>\n",
       "      <th>purpose</th>\n",
       "      <th>total_income_category</th>\n",
       "      <th>purpose_category</th>\n",
       "    </tr>\n",
       "  </thead>\n",
       "  <tbody>\n",
       "    <tr>\n",
       "      <th>0</th>\n",
       "      <td>1</td>\n",
       "      <td>8437.673028</td>\n",
       "      <td>42</td>\n",
       "      <td>высшее</td>\n",
       "      <td>0</td>\n",
       "      <td>женат / замужем</td>\n",
       "      <td>0</td>\n",
       "      <td>F</td>\n",
       "      <td>сотрудник</td>\n",
       "      <td>0</td>\n",
       "      <td>253875</td>\n",
       "      <td>покупка жилья</td>\n",
       "      <td>B</td>\n",
       "      <td>операции с недвижимостью</td>\n",
       "    </tr>\n",
       "    <tr>\n",
       "      <th>1</th>\n",
       "      <td>1</td>\n",
       "      <td>4024.803754</td>\n",
       "      <td>36</td>\n",
       "      <td>среднее</td>\n",
       "      <td>1</td>\n",
       "      <td>женат / замужем</td>\n",
       "      <td>0</td>\n",
       "      <td>F</td>\n",
       "      <td>сотрудник</td>\n",
       "      <td>0</td>\n",
       "      <td>112080</td>\n",
       "      <td>приобретение автомобиля</td>\n",
       "      <td>C</td>\n",
       "      <td>операции с автомобилем</td>\n",
       "    </tr>\n",
       "    <tr>\n",
       "      <th>2</th>\n",
       "      <td>0</td>\n",
       "      <td>5623.422610</td>\n",
       "      <td>33</td>\n",
       "      <td>среднее</td>\n",
       "      <td>1</td>\n",
       "      <td>женат / замужем</td>\n",
       "      <td>0</td>\n",
       "      <td>M</td>\n",
       "      <td>сотрудник</td>\n",
       "      <td>0</td>\n",
       "      <td>145885</td>\n",
       "      <td>покупка жилья</td>\n",
       "      <td>C</td>\n",
       "      <td>операции с недвижимостью</td>\n",
       "    </tr>\n",
       "    <tr>\n",
       "      <th>3</th>\n",
       "      <td>3</td>\n",
       "      <td>4124.747207</td>\n",
       "      <td>32</td>\n",
       "      <td>среднее</td>\n",
       "      <td>1</td>\n",
       "      <td>женат / замужем</td>\n",
       "      <td>0</td>\n",
       "      <td>M</td>\n",
       "      <td>сотрудник</td>\n",
       "      <td>0</td>\n",
       "      <td>267628</td>\n",
       "      <td>дополнительное образование</td>\n",
       "      <td>B</td>\n",
       "      <td>получение образования</td>\n",
       "    </tr>\n",
       "    <tr>\n",
       "      <th>4</th>\n",
       "      <td>0</td>\n",
       "      <td>340266.072047</td>\n",
       "      <td>53</td>\n",
       "      <td>среднее</td>\n",
       "      <td>1</td>\n",
       "      <td>гражданский брак</td>\n",
       "      <td>1</td>\n",
       "      <td>F</td>\n",
       "      <td>пенсионер</td>\n",
       "      <td>0</td>\n",
       "      <td>158616</td>\n",
       "      <td>сыграть свадьбу</td>\n",
       "      <td>C</td>\n",
       "      <td>проведение свадьбы</td>\n",
       "    </tr>\n",
       "  </tbody>\n",
       "</table>\n",
       "</div>"
      ],
      "text/plain": [
       "   children  days_employed  dob_years education  education_id  \\\n",
       "0         1    8437.673028         42    высшее             0   \n",
       "1         1    4024.803754         36   среднее             1   \n",
       "2         0    5623.422610         33   среднее             1   \n",
       "3         3    4124.747207         32   среднее             1   \n",
       "4         0  340266.072047         53   среднее             1   \n",
       "\n",
       "      family_status  family_status_id gender income_type  debt  total_income  \\\n",
       "0   женат / замужем                 0      F   сотрудник     0        253875   \n",
       "1   женат / замужем                 0      F   сотрудник     0        112080   \n",
       "2   женат / замужем                 0      M   сотрудник     0        145885   \n",
       "3   женат / замужем                 0      M   сотрудник     0        267628   \n",
       "4  гражданский брак                 1      F   пенсионер     0        158616   \n",
       "\n",
       "                      purpose total_income_category          purpose_category  \n",
       "0               покупка жилья                     B  операции с недвижимостью  \n",
       "1     приобретение автомобиля                     C    операции с автомобилем  \n",
       "2               покупка жилья                     C  операции с недвижимостью  \n",
       "3  дополнительное образование                     B     получение образования  \n",
       "4             сыграть свадьбу                     C        проведение свадьбы  "
      ]
     },
     "execution_count": 22,
     "metadata": {},
     "output_type": "execute_result"
    }
   ],
   "source": [
    "data.head() # Выведиv первые 5 строчек датафрейма data на экран."
   ]
  },
  {
   "cell_type": "code",
   "execution_count": 23,
   "id": "472ecbe6",
   "metadata": {},
   "outputs": [
    {
     "name": "stdout",
     "output_type": "stream",
     "text": [
      "<class 'pandas.core.frame.DataFrame'>\n",
      "Int64Index: 21331 entries, 0 to 21524\n",
      "Data columns (total 14 columns):\n",
      " #   Column                 Non-Null Count  Dtype  \n",
      "---  ------                 --------------  -----  \n",
      " 0   children               21331 non-null  int64  \n",
      " 1   days_employed          21331 non-null  float64\n",
      " 2   dob_years              21331 non-null  int64  \n",
      " 3   education              21331 non-null  object \n",
      " 4   education_id           21331 non-null  int64  \n",
      " 5   family_status          21331 non-null  object \n",
      " 6   family_status_id       21331 non-null  int64  \n",
      " 7   gender                 21331 non-null  object \n",
      " 8   income_type            21331 non-null  object \n",
      " 9   debt                   21331 non-null  int64  \n",
      " 10  total_income           21331 non-null  int64  \n",
      " 11  purpose                21331 non-null  object \n",
      " 12  total_income_category  21331 non-null  object \n",
      " 13  purpose_category       21331 non-null  object \n",
      "dtypes: float64(1), int64(6), object(7)\n",
      "memory usage: 2.4+ MB\n"
     ]
    }
   ],
   "source": [
    "data.info() #Выведим основную информацию о датафрейме с помощью метода info()"
   ]
  },
  {
   "cell_type": "code",
   "execution_count": 24,
   "id": "8bf5c97c",
   "metadata": {},
   "outputs": [
    {
     "data": {
      "text/plain": [
       "0    14091\n",
       "1     4808\n",
       "2     2052\n",
       "3      330\n",
       "4       41\n",
       "5        9\n",
       "Name: children, dtype: int64"
      ]
     },
     "execution_count": 24,
     "metadata": {},
     "output_type": "execute_result"
    }
   ],
   "source": [
    "data['children'].value_counts() #отфильтруем таблицу по столбцу children с помощью метода value_counts()"
   ]
  },
  {
   "cell_type": "markdown",
   "id": "cd0b1810",
   "metadata": {},
   "source": [
    "На основании диапазонов, указанных ниже, создадим в датафрейме data столбец children_category с категориями:\n",
    "\n",
    "0 — 'нет детей';\n",
    "1 — 'один ребенок';\n",
    "2 — 'два ребенка';\n",
    "3 — 'многодетные';\n",
    "Таким образом, мы объединим от 3 до 5 детей в обну категорию"
   ]
  },
  {
   "cell_type": "code",
   "execution_count": 25,
   "id": "097e1fc7",
   "metadata": {},
   "outputs": [],
   "source": [
    "def categorize_children(row):\n",
    "    if row == 0:\n",
    "        return 'нет детей'\n",
    "    elif row == 1:\n",
    "        return 'один ребенок'\n",
    "    elif row == 2:\n",
    "        return 'два ребенка'\n",
    "    return 'многодетные'"
   ]
  },
  {
   "cell_type": "code",
   "execution_count": 26,
   "id": "554d7107",
   "metadata": {},
   "outputs": [],
   "source": [
    "data['children_category'] = data['children'].apply(categorize_children)"
   ]
  },
  {
   "cell_type": "markdown",
   "id": "b8f6f27b",
   "metadata": {},
   "source": [
    "Создадим сводную таблицу"
   ]
  },
  {
   "cell_type": "code",
   "execution_count": 27,
   "id": "08d13977",
   "metadata": {},
   "outputs": [
    {
     "data": {
      "text/html": [
       "<div>\n",
       "<style scoped>\n",
       "    .dataframe tbody tr th:only-of-type {\n",
       "        vertical-align: middle;\n",
       "    }\n",
       "\n",
       "    .dataframe tbody tr th {\n",
       "        vertical-align: top;\n",
       "    }\n",
       "\n",
       "    .dataframe thead th {\n",
       "        text-align: right;\n",
       "    }\n",
       "</style>\n",
       "<table border=\"1\" class=\"dataframe\">\n",
       "  <thead>\n",
       "    <tr style=\"text-align: right;\">\n",
       "      <th></th>\n",
       "      <th>children_category</th>\n",
       "      <th>sum</th>\n",
       "      <th>count</th>\n",
       "      <th>percent</th>\n",
       "    </tr>\n",
       "  </thead>\n",
       "  <tbody>\n",
       "    <tr>\n",
       "      <th>2</th>\n",
       "      <td>нет детей</td>\n",
       "      <td>1063</td>\n",
       "      <td>14091</td>\n",
       "      <td>7.5%</td>\n",
       "    </tr>\n",
       "    <tr>\n",
       "      <th>1</th>\n",
       "      <td>многодетные</td>\n",
       "      <td>31</td>\n",
       "      <td>380</td>\n",
       "      <td>8.2%</td>\n",
       "    </tr>\n",
       "    <tr>\n",
       "      <th>3</th>\n",
       "      <td>один ребенок</td>\n",
       "      <td>444</td>\n",
       "      <td>4808</td>\n",
       "      <td>9.2%</td>\n",
       "    </tr>\n",
       "    <tr>\n",
       "      <th>0</th>\n",
       "      <td>два ребенка</td>\n",
       "      <td>194</td>\n",
       "      <td>2052</td>\n",
       "      <td>9.5%</td>\n",
       "    </tr>\n",
       "  </tbody>\n",
       "</table>\n",
       "</div>"
      ],
      "text/plain": [
       "  children_category   sum  count percent\n",
       "2         нет детей  1063  14091    7.5%\n",
       "1       многодетные    31    380    8.2%\n",
       "3      один ребенок   444   4808    9.2%\n",
       "0       два ребенка   194   2052    9.5%"
      ]
     },
     "execution_count": 27,
     "metadata": {},
     "output_type": "execute_result"
    }
   ],
   "source": [
    "data_children = data.pivot_table(index=['children_category'], values=['debt'], aggfunc=['sum', 'count', 'mean'])\n",
    "data_children.columns = ['sum', 'count', 'percent'] #переименновываю колонки, чтобы уйти от мультииндексов, иначе я не могу отсортировать таблицу по %\n",
    "data_children=data_children.reset_index()\n",
    "data_children['percent'] = data_children['percent'].map('{:.1%}'.format)\n",
    "data_children.sort_values(by='percent')\n",
    "\n"
   ]
  },
  {
   "cell_type": "markdown",
   "id": "c8cc979c",
   "metadata": {
    "deletable": false,
    "id": "3a6b99ec"
   },
   "source": [
    "**Вывод:** **Наличие детей увеличивает % задолженности по возврату кредитов.** \n",
    "Однако в многодетных семьях % должников ниже **(8,2%)**, чем в семьях с одним ребенком **(9,2%)** или с двумя детьми **(9,5%)**.\n",
    "Самый низкий показатель у семей без детей **(7,5%)**."
   ]
  },
  {
   "cell_type": "markdown",
   "id": "410ecadb",
   "metadata": {
    "deletable": false,
    "editable": false,
    "id": "97be82ca"
   },
   "source": [
    "#### 3.2 Есть ли зависимость между семейным положением и возвратом кредита в срок?"
   ]
  },
  {
   "cell_type": "code",
   "execution_count": 28,
   "id": "bcef42ab",
   "metadata": {
    "deletable": false,
    "id": "dc3f7ee8"
   },
   "outputs": [
    {
     "data": {
      "text/html": [
       "<div>\n",
       "<style scoped>\n",
       "    .dataframe tbody tr th:only-of-type {\n",
       "        vertical-align: middle;\n",
       "    }\n",
       "\n",
       "    .dataframe tbody tr th {\n",
       "        vertical-align: top;\n",
       "    }\n",
       "\n",
       "    .dataframe thead th {\n",
       "        text-align: right;\n",
       "    }\n",
       "</style>\n",
       "<table border=\"1\" class=\"dataframe\">\n",
       "  <thead>\n",
       "    <tr style=\"text-align: right;\">\n",
       "      <th></th>\n",
       "      <th>family_status</th>\n",
       "      <th>sum</th>\n",
       "      <th>count</th>\n",
       "      <th>percent</th>\n",
       "    </tr>\n",
       "  </thead>\n",
       "  <tbody>\n",
       "    <tr>\n",
       "      <th>2</th>\n",
       "      <td>вдовец / вдова</td>\n",
       "      <td>63</td>\n",
       "      <td>951</td>\n",
       "      <td>6.6%</td>\n",
       "    </tr>\n",
       "    <tr>\n",
       "      <th>1</th>\n",
       "      <td>в разводе</td>\n",
       "      <td>84</td>\n",
       "      <td>1189</td>\n",
       "      <td>7.1%</td>\n",
       "    </tr>\n",
       "    <tr>\n",
       "      <th>4</th>\n",
       "      <td>женат / замужем</td>\n",
       "      <td>927</td>\n",
       "      <td>12261</td>\n",
       "      <td>7.6%</td>\n",
       "    </tr>\n",
       "    <tr>\n",
       "      <th>3</th>\n",
       "      <td>гражданский брак</td>\n",
       "      <td>385</td>\n",
       "      <td>4134</td>\n",
       "      <td>9.3%</td>\n",
       "    </tr>\n",
       "    <tr>\n",
       "      <th>0</th>\n",
       "      <td>Не женат / не замужем</td>\n",
       "      <td>273</td>\n",
       "      <td>2796</td>\n",
       "      <td>9.8%</td>\n",
       "    </tr>\n",
       "  </tbody>\n",
       "</table>\n",
       "</div>"
      ],
      "text/plain": [
       "           family_status  sum  count percent\n",
       "2         вдовец / вдова   63    951    6.6%\n",
       "1              в разводе   84   1189    7.1%\n",
       "4        женат / замужем  927  12261    7.6%\n",
       "3       гражданский брак  385   4134    9.3%\n",
       "0  Не женат / не замужем  273   2796    9.8%"
      ]
     },
     "execution_count": 28,
     "metadata": {},
     "output_type": "execute_result"
    }
   ],
   "source": [
    "data_family = data.pivot_table(index=['family_status'], values=['debt'], aggfunc=['sum', 'count', 'mean'])\n",
    "data_family.columns = ['sum', 'count', 'percent']\n",
    "data_family=data_family.reset_index()\n",
    "data_family['percent'] = data_family['percent'].map('{:.1%}'.format)\n",
    "data_family.sort_values(by='percent')"
   ]
  },
  {
   "cell_type": "markdown",
   "id": "164c65f8",
   "metadata": {
    "deletable": false,
    "id": "1cef7837"
   },
   "source": [
    "**Вывод:** Самый низкий процент по задолжности у категории **вдовец / вдова (6,6%)**. Это может быть обусловленно получением дополнительного дохода в виде **наследства**, а так же судя по общей тенденции люди становятся вдовецами или вдовами уже в пенсионном возрасте или предпенсионном, что говорит о взрослых детях, которые могут помочь или постоянном доходе ввиде пенсии.\n",
    "Самый высокий показатель у категории **Не женат / не замужем (9.8%)**. Это может быть обусловленно тем, что у них больше свободы распаряжатся своими средствами и так же в основном в эту категорю лиц входят более молодые люди, что говорит о недостаточной финансовой грамотности."
   ]
  },
  {
   "cell_type": "markdown",
   "id": "b1fe120c",
   "metadata": {
    "deletable": false,
    "editable": false,
    "id": "1e8b2fca"
   },
   "source": [
    "#### 3.3 Есть ли зависимость между уровнем дохода и возвратом кредита в срок?"
   ]
  },
  {
   "cell_type": "code",
   "execution_count": 29,
   "id": "dc71c7e3",
   "metadata": {
    "deletable": false,
    "id": "cd7e3720"
   },
   "outputs": [
    {
     "data": {
      "text/html": [
       "<div>\n",
       "<style scoped>\n",
       "    .dataframe tbody tr th:only-of-type {\n",
       "        vertical-align: middle;\n",
       "    }\n",
       "\n",
       "    .dataframe tbody tr th {\n",
       "        vertical-align: top;\n",
       "    }\n",
       "\n",
       "    .dataframe thead th {\n",
       "        text-align: right;\n",
       "    }\n",
       "</style>\n",
       "<table border=\"1\" class=\"dataframe\">\n",
       "  <thead>\n",
       "    <tr style=\"text-align: right;\">\n",
       "      <th></th>\n",
       "      <th>total_income_category</th>\n",
       "      <th>sum</th>\n",
       "      <th>count</th>\n",
       "      <th>percent</th>\n",
       "    </tr>\n",
       "  </thead>\n",
       "  <tbody>\n",
       "    <tr>\n",
       "      <th>3</th>\n",
       "      <td>D</td>\n",
       "      <td>21</td>\n",
       "      <td>349</td>\n",
       "      <td>6.0%</td>\n",
       "    </tr>\n",
       "    <tr>\n",
       "      <th>1</th>\n",
       "      <td>B</td>\n",
       "      <td>354</td>\n",
       "      <td>5014</td>\n",
       "      <td>7.1%</td>\n",
       "    </tr>\n",
       "    <tr>\n",
       "      <th>0</th>\n",
       "      <td>A</td>\n",
       "      <td>2</td>\n",
       "      <td>25</td>\n",
       "      <td>8.0%</td>\n",
       "    </tr>\n",
       "    <tr>\n",
       "      <th>2</th>\n",
       "      <td>C</td>\n",
       "      <td>1353</td>\n",
       "      <td>15921</td>\n",
       "      <td>8.5%</td>\n",
       "    </tr>\n",
       "    <tr>\n",
       "      <th>4</th>\n",
       "      <td>E</td>\n",
       "      <td>2</td>\n",
       "      <td>22</td>\n",
       "      <td>9.1%</td>\n",
       "    </tr>\n",
       "  </tbody>\n",
       "</table>\n",
       "</div>"
      ],
      "text/plain": [
       "  total_income_category   sum  count percent\n",
       "3                     D    21    349    6.0%\n",
       "1                     B   354   5014    7.1%\n",
       "0                     A     2     25    8.0%\n",
       "2                     C  1353  15921    8.5%\n",
       "4                     E     2     22    9.1%"
      ]
     },
     "execution_count": 29,
     "metadata": {},
     "output_type": "execute_result"
    }
   ],
   "source": [
    "data_income = data.pivot_table(index=['total_income_category'], values=['debt'], aggfunc=['sum', 'count', 'mean'])\n",
    "data_income.columns = ['sum', 'count', 'percent']\n",
    "data_income=data_income.reset_index()\n",
    "data_income['percent'] = data_income['percent'].map('{:.1%}'.format)\n",
    "data_income.sort_values(by='percent')"
   ]
  },
  {
   "cell_type": "markdown",
   "id": "1aa53b08",
   "metadata": {
    "deletable": false,
    "id": "e8593def"
   },
   "source": [
    "**Вывод:** Самый высокий % по задолжности у категории \"Е\", но основываясь на таблицу выше, я не расматривал бы категорию \"Е\" и \"А\" из-за маленькой выборки, а выводы делаем опираясь на категории \"C\", \"B\", \"D\". Основываясь на это: \n",
    "Самый высокий % по задолжности у **категории \"С\" (8,5%)**,\n",
    "Самый низкий % по задолжности у **категории \"D\" (6,0%)**"
   ]
  },
  {
   "cell_type": "markdown",
   "id": "99723da6",
   "metadata": {
    "deletable": false,
    "editable": false,
    "id": "99ecbd1f"
   },
   "source": [
    "#### 3.4 Как разные цели кредита влияют на его возврат в срок?"
   ]
  },
  {
   "cell_type": "code",
   "execution_count": 30,
   "id": "27649425",
   "metadata": {
    "deletable": false,
    "id": "2b687290"
   },
   "outputs": [
    {
     "data": {
      "text/html": [
       "<div>\n",
       "<style scoped>\n",
       "    .dataframe tbody tr th:only-of-type {\n",
       "        vertical-align: middle;\n",
       "    }\n",
       "\n",
       "    .dataframe tbody tr th {\n",
       "        vertical-align: top;\n",
       "    }\n",
       "\n",
       "    .dataframe thead th {\n",
       "        text-align: right;\n",
       "    }\n",
       "</style>\n",
       "<table border=\"1\" class=\"dataframe\">\n",
       "  <thead>\n",
       "    <tr style=\"text-align: right;\">\n",
       "      <th></th>\n",
       "      <th>purpose_category</th>\n",
       "      <th>sum</th>\n",
       "      <th>count</th>\n",
       "      <th>percent</th>\n",
       "    </tr>\n",
       "  </thead>\n",
       "  <tbody>\n",
       "    <tr>\n",
       "      <th>1</th>\n",
       "      <td>операции с недвижимостью</td>\n",
       "      <td>780</td>\n",
       "      <td>10751</td>\n",
       "      <td>7.3%</td>\n",
       "    </tr>\n",
       "    <tr>\n",
       "      <th>3</th>\n",
       "      <td>проведение свадьбы</td>\n",
       "      <td>183</td>\n",
       "      <td>2313</td>\n",
       "      <td>7.9%</td>\n",
       "    </tr>\n",
       "    <tr>\n",
       "      <th>0</th>\n",
       "      <td>операции с автомобилем</td>\n",
       "      <td>400</td>\n",
       "      <td>4279</td>\n",
       "      <td>9.3%</td>\n",
       "    </tr>\n",
       "    <tr>\n",
       "      <th>2</th>\n",
       "      <td>получение образования</td>\n",
       "      <td>369</td>\n",
       "      <td>3988</td>\n",
       "      <td>9.3%</td>\n",
       "    </tr>\n",
       "  </tbody>\n",
       "</table>\n",
       "</div>"
      ],
      "text/plain": [
       "           purpose_category  sum  count percent\n",
       "1  операции с недвижимостью  780  10751    7.3%\n",
       "3        проведение свадьбы  183   2313    7.9%\n",
       "0    операции с автомобилем  400   4279    9.3%\n",
       "2     получение образования  369   3988    9.3%"
      ]
     },
     "execution_count": 30,
     "metadata": {},
     "output_type": "execute_result"
    }
   ],
   "source": [
    "data_purpose = data.pivot_table(index=['purpose_category'], values=['debt'], aggfunc=['sum', 'count', 'mean'])\n",
    "data_purpose.columns = ['sum', 'count', 'percent']\n",
    "data_purpose=data_purpose.reset_index()\n",
    "data_purpose['percent'] = data_purpose['percent'].map('{:.1%}'.format)\n",
    "data_purpose.sort_values(by='percent')"
   ]
  },
  {
   "cell_type": "markdown",
   "id": "d4532c75",
   "metadata": {
    "deletable": false,
    "id": "b4bb2ce6"
   },
   "source": [
    "**Вывод:** Операясь на дынные можно сделать вывод, что самый большой % задолжности у лиц бравшие кредиты на **получение образования (9.3%)** и **операции с автомобилем\t(9.3%)**"
   ]
  },
  {
   "cell_type": "markdown",
   "id": "c3cc5b82",
   "metadata": {
    "deletable": false,
    "editable": false,
    "id": "09c3ac4c"
   },
   "source": [
    "#### 3.5 Приведите возможные причины появления пропусков в исходных данных."
   ]
  },
  {
   "cell_type": "markdown",
   "id": "6bac924e",
   "metadata": {
    "deletable": false,
    "id": "9da2ceda"
   },
   "source": [
    "*Ответ:* Неверный ввод данных, повреждение файла данных при сохранении, технические проблемы."
   ]
  },
  {
   "cell_type": "markdown",
   "id": "8798725a",
   "metadata": {
    "deletable": false,
    "editable": false,
    "id": "7b0487d6"
   },
   "source": [
    "#### 3.6 Объясните, почему заполнить пропуски медианным значением — лучшее решение для количественных переменных."
   ]
  },
  {
   "cell_type": "markdown",
   "id": "96517bce",
   "metadata": {
    "deletable": false,
    "id": "7ecf2b8e"
   },
   "source": [
    "*Ответ:* Медианное значение лучше всего отражает выборку в целом, в случае, если есть незаполненные данные. Среднее арифметическое отражает ситуацию некорректно, так как не учитывает разброс данных."
   ]
  },
  {
   "cell_type": "markdown",
   "id": "ca617e7b",
   "metadata": {
    "deletable": false,
    "editable": false,
    "id": "6db5255a"
   },
   "source": [
    "### Шаг 4: общий вывод."
   ]
  },
  {
   "cell_type": "markdown",
   "id": "d4cd3bf8",
   "metadata": {
    "deletable": false,
    "id": "bad65432"
   },
   "source": [
    "1.Наличие детей увеличивает % задолженности по возврату кредитов. Самый большой % у холостых(Не женат / не замужем) и лиц живущих в Гражданском браке. Лица с доходом 50001–200000 — 'C'. Лица берущие кредиты на получение образования и операции с автомобилем чаще всего попадают в задолжность.\n",
    "2.Появления пропусков в данных могут быть: неверный ввод данных, повреждение файла данных при сохранении, технические проблемы.\n",
    "Заполнение пропусков медианой является лучшим решением из-за устойчивости медианы к выбросам и аномальным значениям.\n"
   ]
  }
 ],
 "metadata": {
  "ExecuteTimeLog": [
   {
    "duration": 52,
    "start_time": "2023-02-08T18:30:24.942Z"
   },
   {
    "duration": 6,
    "start_time": "2023-02-08T18:31:22.740Z"
   },
   {
    "duration": 759,
    "start_time": "2023-02-08T18:31:34.072Z"
   },
   {
    "duration": 21,
    "start_time": "2023-02-08T18:31:34.833Z"
   },
   {
    "duration": 17,
    "start_time": "2023-02-08T18:31:35.220Z"
   },
   {
    "duration": 10,
    "start_time": "2023-02-08T18:31:36.670Z"
   },
   {
    "duration": 32,
    "start_time": "2023-02-08T18:31:36.948Z"
   },
   {
    "duration": 4,
    "start_time": "2023-02-08T18:31:38.550Z"
   },
   {
    "duration": 8,
    "start_time": "2023-02-08T18:31:39.440Z"
   },
   {
    "duration": 4,
    "start_time": "2023-02-08T18:31:41.536Z"
   },
   {
    "duration": 7,
    "start_time": "2023-02-08T18:31:42.986Z"
   },
   {
    "duration": 7,
    "start_time": "2023-02-08T18:31:44.258Z"
   },
   {
    "duration": 33,
    "start_time": "2023-02-08T18:31:49.087Z"
   },
   {
    "duration": 9,
    "start_time": "2023-02-08T18:31:50.315Z"
   },
   {
    "duration": 4,
    "start_time": "2023-02-08T18:31:54.281Z"
   },
   {
    "duration": 12,
    "start_time": "2023-02-08T18:31:55.636Z"
   },
   {
    "duration": 21,
    "start_time": "2023-02-08T18:31:59.841Z"
   },
   {
    "duration": 18,
    "start_time": "2023-02-08T18:32:00.669Z"
   },
   {
    "duration": 8,
    "start_time": "2023-02-08T18:32:03.763Z"
   },
   {
    "duration": 9,
    "start_time": "2023-02-08T18:32:10.179Z"
   },
   {
    "duration": 6,
    "start_time": "2023-02-08T18:32:12.616Z"
   },
   {
    "duration": 3,
    "start_time": "2023-02-08T18:32:26.247Z"
   },
   {
    "duration": 9,
    "start_time": "2023-02-08T18:32:27.112Z"
   },
   {
    "duration": 25,
    "start_time": "2023-02-08T18:32:30.549Z"
   },
   {
    "duration": 14,
    "start_time": "2023-02-08T18:34:03.682Z"
   },
   {
    "duration": 6,
    "start_time": "2023-02-08T18:41:40.932Z"
   },
   {
    "duration": 20,
    "start_time": "2023-02-08T18:57:11.575Z"
   },
   {
    "duration": 25,
    "start_time": "2023-02-08T18:57:33.177Z"
   },
   {
    "duration": 17,
    "start_time": "2023-02-08T19:21:34.945Z"
   },
   {
    "duration": 27,
    "start_time": "2023-02-08T19:34:04.233Z"
   },
   {
    "duration": 17,
    "start_time": "2023-02-08T19:34:18.324Z"
   },
   {
    "duration": 18,
    "start_time": "2023-02-08T19:34:59.254Z"
   },
   {
    "duration": 26,
    "start_time": "2023-02-08T19:35:13.976Z"
   },
   {
    "duration": 25,
    "start_time": "2023-02-08T19:36:23.861Z"
   },
   {
    "duration": 6,
    "start_time": "2023-02-08T19:45:44.435Z"
   },
   {
    "duration": 9,
    "start_time": "2023-02-08T19:46:47.140Z"
   },
   {
    "duration": 9,
    "start_time": "2023-02-08T19:47:16.267Z"
   },
   {
    "duration": 6,
    "start_time": "2023-02-08T19:49:27.122Z"
   },
   {
    "duration": 9,
    "start_time": "2023-02-08T20:12:55.531Z"
   },
   {
    "duration": 4,
    "start_time": "2023-02-08T20:13:50.179Z"
   },
   {
    "duration": 7,
    "start_time": "2023-02-08T20:13:51.194Z"
   },
   {
    "duration": 9,
    "start_time": "2023-02-08T20:13:55.057Z"
   },
   {
    "duration": 3,
    "start_time": "2023-02-08T20:13:57.360Z"
   },
   {
    "duration": 7,
    "start_time": "2023-02-08T20:13:58.813Z"
   },
   {
    "duration": 38,
    "start_time": "2023-02-08T20:14:18.568Z"
   },
   {
    "duration": 32,
    "start_time": "2023-02-08T20:14:55.337Z"
   },
   {
    "duration": 39,
    "start_time": "2023-02-08T20:15:21.802Z"
   },
   {
    "duration": 51,
    "start_time": "2023-02-08T20:29:00.367Z"
   },
   {
    "duration": 3,
    "start_time": "2023-02-08T20:29:12.142Z"
   },
   {
    "duration": 50,
    "start_time": "2023-02-08T20:29:37.126Z"
   },
   {
    "duration": 45,
    "start_time": "2023-02-08T20:29:48.388Z"
   },
   {
    "duration": 3,
    "start_time": "2023-02-08T20:29:51.268Z"
   },
   {
    "duration": 7,
    "start_time": "2023-02-08T20:29:53.065Z"
   },
   {
    "duration": 6,
    "start_time": "2023-02-08T20:29:53.659Z"
   },
   {
    "duration": 45,
    "start_time": "2023-02-08T20:29:54.163Z"
   },
   {
    "duration": 4,
    "start_time": "2023-02-08T20:29:56.442Z"
   },
   {
    "duration": 7,
    "start_time": "2023-02-08T20:29:56.899Z"
   },
   {
    "duration": 3,
    "start_time": "2023-02-08T20:29:57.361Z"
   },
   {
    "duration": 46,
    "start_time": "2023-02-08T20:29:58.835Z"
   },
   {
    "duration": 7,
    "start_time": "2023-02-08T20:31:21.600Z"
   },
   {
    "duration": 4,
    "start_time": "2023-02-08T20:31:22.164Z"
   },
   {
    "duration": 46,
    "start_time": "2023-02-08T20:31:22.995Z"
   },
   {
    "duration": 55,
    "start_time": "2023-02-08T20:31:46.449Z"
   },
   {
    "duration": 33,
    "start_time": "2023-02-08T20:31:52.041Z"
   },
   {
    "duration": 28,
    "start_time": "2023-02-08T20:40:18.788Z"
   },
   {
    "duration": 33,
    "start_time": "2023-02-08T20:41:22.994Z"
   },
   {
    "duration": 24,
    "start_time": "2023-02-08T20:43:42.825Z"
   },
   {
    "duration": 31,
    "start_time": "2023-02-08T20:43:45.188Z"
   },
   {
    "duration": 47,
    "start_time": "2023-02-08T20:43:52.852Z"
   },
   {
    "duration": 35,
    "start_time": "2023-02-08T20:44:20.177Z"
   },
   {
    "duration": 42,
    "start_time": "2023-02-08T20:44:46.573Z"
   },
   {
    "duration": 57,
    "start_time": "2023-02-08T20:46:30.018Z"
   },
   {
    "duration": 37,
    "start_time": "2023-02-08T20:46:44.371Z"
   },
   {
    "duration": 58,
    "start_time": "2023-02-08T20:49:00.192Z"
   },
   {
    "duration": 42,
    "start_time": "2023-02-08T20:49:18.905Z"
   },
   {
    "duration": 43,
    "start_time": "2023-02-08T20:49:25.387Z"
   },
   {
    "duration": 40,
    "start_time": "2023-02-08T20:49:36.304Z"
   },
   {
    "duration": 40,
    "start_time": "2023-02-08T20:52:02.360Z"
   },
   {
    "duration": 50,
    "start_time": "2023-02-08T20:55:50.594Z"
   },
   {
    "duration": 45,
    "start_time": "2023-02-08T20:56:15.280Z"
   },
   {
    "duration": 58,
    "start_time": "2023-02-08T20:57:30.583Z"
   },
   {
    "duration": 41,
    "start_time": "2023-02-08T20:57:40.643Z"
   },
   {
    "duration": 33,
    "start_time": "2023-02-08T20:57:55.005Z"
   },
   {
    "duration": 52,
    "start_time": "2023-02-08T20:58:26.827Z"
   },
   {
    "duration": 46,
    "start_time": "2023-02-08T20:58:34.882Z"
   },
   {
    "duration": 31,
    "start_time": "2023-02-08T20:58:48.864Z"
   },
   {
    "duration": 31,
    "start_time": "2023-02-08T20:58:53.422Z"
   },
   {
    "duration": 37,
    "start_time": "2023-02-08T20:59:53.719Z"
   },
   {
    "duration": 64,
    "start_time": "2023-02-08T21:02:27.950Z"
   },
   {
    "duration": 34,
    "start_time": "2023-02-08T21:02:35.528Z"
   },
   {
    "duration": 50,
    "start_time": "2023-02-08T21:02:52.960Z"
   },
   {
    "duration": 29,
    "start_time": "2023-02-08T21:05:34.771Z"
   },
   {
    "duration": 727,
    "start_time": "2023-02-09T13:50:20.950Z"
   },
   {
    "duration": 21,
    "start_time": "2023-02-09T13:50:23.169Z"
   },
   {
    "duration": 14,
    "start_time": "2023-02-09T13:50:24.407Z"
   },
   {
    "duration": 11,
    "start_time": "2023-02-09T13:50:27.069Z"
   },
   {
    "duration": 34,
    "start_time": "2023-02-09T13:50:28.496Z"
   },
   {
    "duration": 4,
    "start_time": "2023-02-09T13:50:30.079Z"
   },
   {
    "duration": 8,
    "start_time": "2023-02-09T13:50:31.108Z"
   },
   {
    "duration": 5,
    "start_time": "2023-02-09T13:50:32.593Z"
   },
   {
    "duration": 6,
    "start_time": "2023-02-09T13:50:33.405Z"
   },
   {
    "duration": 6,
    "start_time": "2023-02-09T13:50:33.940Z"
   },
   {
    "duration": 35,
    "start_time": "2023-02-09T13:50:34.686Z"
   },
   {
    "duration": 10,
    "start_time": "2023-02-09T13:50:36.167Z"
   },
   {
    "duration": 4,
    "start_time": "2023-02-09T13:50:38.073Z"
   },
   {
    "duration": 16,
    "start_time": "2023-02-09T13:50:40.082Z"
   },
   {
    "duration": 18,
    "start_time": "2023-02-09T13:50:40.704Z"
   },
   {
    "duration": 15,
    "start_time": "2023-02-09T13:50:41.220Z"
   },
   {
    "duration": 4,
    "start_time": "2023-02-09T13:50:48.467Z"
   },
   {
    "duration": 11,
    "start_time": "2023-02-09T13:50:49.014Z"
   },
   {
    "duration": 6,
    "start_time": "2023-02-09T13:50:50.380Z"
   },
   {
    "duration": 3,
    "start_time": "2023-02-09T13:50:52.005Z"
   },
   {
    "duration": 7,
    "start_time": "2023-02-09T13:50:52.600Z"
   },
   {
    "duration": 12,
    "start_time": "2023-02-09T13:50:54.581Z"
   },
   {
    "duration": 24,
    "start_time": "2023-02-09T13:50:55.581Z"
   },
   {
    "duration": 5,
    "start_time": "2023-02-09T13:50:59.285Z"
   },
   {
    "duration": 3,
    "start_time": "2023-02-09T13:50:59.969Z"
   },
   {
    "duration": 7,
    "start_time": "2023-02-09T13:51:00.600Z"
   },
   {
    "duration": 33,
    "start_time": "2023-02-09T13:51:01.297Z"
   },
   {
    "duration": 29,
    "start_time": "2023-02-09T13:57:38.781Z"
   },
   {
    "duration": 27,
    "start_time": "2023-02-09T13:58:54.080Z"
   },
   {
    "duration": 27,
    "start_time": "2023-02-09T14:02:13.224Z"
   },
   {
    "duration": 26,
    "start_time": "2023-02-09T14:02:29.084Z"
   },
   {
    "duration": 29,
    "start_time": "2023-02-09T14:03:24.668Z"
   },
   {
    "duration": 27,
    "start_time": "2023-02-09T14:03:52.901Z"
   },
   {
    "duration": 36,
    "start_time": "2023-02-09T14:04:32.789Z"
   },
   {
    "duration": 45,
    "start_time": "2023-02-09T14:04:52.116Z"
   },
   {
    "duration": 109,
    "start_time": "2023-02-09T14:06:33.066Z"
   },
   {
    "duration": 39,
    "start_time": "2023-02-09T14:06:51.118Z"
   },
   {
    "duration": 40,
    "start_time": "2023-02-09T14:07:16.426Z"
   },
   {
    "duration": 42,
    "start_time": "2023-02-09T14:07:35.021Z"
   },
   {
    "duration": 25,
    "start_time": "2023-02-09T14:23:10.593Z"
   },
   {
    "duration": 39,
    "start_time": "2023-02-09T14:23:28.724Z"
   },
   {
    "duration": 29,
    "start_time": "2023-02-09T14:27:28.926Z"
   },
   {
    "duration": 994,
    "start_time": "2023-02-09T14:28:04.067Z"
   },
   {
    "duration": 15,
    "start_time": "2023-02-09T14:28:20.569Z"
   },
   {
    "duration": 29,
    "start_time": "2023-02-09T14:31:12.158Z"
   },
   {
    "duration": 33,
    "start_time": "2023-02-09T14:31:51.914Z"
   },
   {
    "duration": 44,
    "start_time": "2023-02-09T14:32:40.079Z"
   },
   {
    "duration": 29,
    "start_time": "2023-02-09T14:32:54.074Z"
   },
   {
    "duration": 37,
    "start_time": "2023-02-09T14:33:04.932Z"
   },
   {
    "duration": 33,
    "start_time": "2023-02-09T14:33:18.788Z"
   },
   {
    "duration": 27,
    "start_time": "2023-02-09T14:36:32.899Z"
   },
   {
    "duration": 30,
    "start_time": "2023-02-09T14:36:46.136Z"
   },
   {
    "duration": 29,
    "start_time": "2023-02-09T14:37:01.327Z"
   },
   {
    "duration": 15,
    "start_time": "2023-02-09T14:37:28.753Z"
   },
   {
    "duration": 793,
    "start_time": "2023-02-09T14:38:57.545Z"
   },
   {
    "duration": 742,
    "start_time": "2023-02-09T14:39:23.695Z"
   },
   {
    "duration": 65,
    "start_time": "2023-02-09T14:40:42.492Z"
   },
   {
    "duration": 12,
    "start_time": "2023-02-09T14:48:03.553Z"
   },
   {
    "duration": 12,
    "start_time": "2023-02-09T14:48:09.874Z"
   },
   {
    "duration": 12,
    "start_time": "2023-02-09T14:48:31.646Z"
   },
   {
    "duration": 13,
    "start_time": "2023-02-09T14:48:34.050Z"
   },
   {
    "duration": 41,
    "start_time": "2023-02-09T14:48:52.910Z"
   },
   {
    "duration": 14,
    "start_time": "2023-02-09T14:49:08.821Z"
   },
   {
    "duration": 67,
    "start_time": "2023-02-09T14:49:21.605Z"
   },
   {
    "duration": 13,
    "start_time": "2023-02-09T14:49:22.346Z"
   },
   {
    "duration": 12,
    "start_time": "2023-02-09T14:49:22.823Z"
   },
   {
    "duration": 9,
    "start_time": "2023-02-09T14:49:23.663Z"
   },
   {
    "duration": 31,
    "start_time": "2023-02-09T14:49:24.096Z"
   },
   {
    "duration": 3,
    "start_time": "2023-02-09T14:49:24.740Z"
   },
   {
    "duration": 8,
    "start_time": "2023-02-09T14:49:25.191Z"
   },
   {
    "duration": 5,
    "start_time": "2023-02-09T14:49:25.896Z"
   },
   {
    "duration": 7,
    "start_time": "2023-02-09T14:49:26.352Z"
   },
   {
    "duration": 5,
    "start_time": "2023-02-09T14:49:26.803Z"
   },
   {
    "duration": 31,
    "start_time": "2023-02-09T14:49:27.503Z"
   },
   {
    "duration": 10,
    "start_time": "2023-02-09T14:49:28.010Z"
   },
   {
    "duration": 4,
    "start_time": "2023-02-09T14:49:28.909Z"
   },
   {
    "duration": 10,
    "start_time": "2023-02-09T14:49:29.674Z"
   },
   {
    "duration": 19,
    "start_time": "2023-02-09T14:49:30.209Z"
   },
   {
    "duration": 17,
    "start_time": "2023-02-09T14:49:30.453Z"
   },
   {
    "duration": 3,
    "start_time": "2023-02-09T14:49:31.181Z"
   },
   {
    "duration": 8,
    "start_time": "2023-02-09T14:49:31.468Z"
   },
   {
    "duration": 7,
    "start_time": "2023-02-09T14:49:32.306Z"
   },
   {
    "duration": 4,
    "start_time": "2023-02-09T14:49:33.668Z"
   },
   {
    "duration": 8,
    "start_time": "2023-02-09T14:49:34.196Z"
   },
   {
    "duration": 13,
    "start_time": "2023-02-09T14:49:36.094Z"
   },
   {
    "duration": 16,
    "start_time": "2023-02-09T14:49:37.228Z"
   },
   {
    "duration": 5,
    "start_time": "2023-02-09T14:49:40.722Z"
   },
   {
    "duration": 3,
    "start_time": "2023-02-09T14:49:41.745Z"
   },
   {
    "duration": 9,
    "start_time": "2023-02-09T14:49:42.424Z"
   },
   {
    "duration": 31,
    "start_time": "2023-02-09T14:49:43.796Z"
   },
   {
    "duration": 72,
    "start_time": "2023-02-09T14:52:22.931Z"
   },
   {
    "duration": 50,
    "start_time": "2023-02-09T14:53:27.604Z"
   },
   {
    "duration": 13,
    "start_time": "2023-02-09T14:54:00.641Z"
   },
   {
    "duration": 7,
    "start_time": "2023-02-09T14:54:10.130Z"
   },
   {
    "duration": 30,
    "start_time": "2023-02-09T14:54:42.125Z"
   },
   {
    "duration": 73,
    "start_time": "2023-02-09T14:55:07.818Z"
   },
   {
    "duration": 13,
    "start_time": "2023-02-09T14:55:15.864Z"
   },
   {
    "duration": 17,
    "start_time": "2023-02-09T14:55:26.042Z"
   },
   {
    "duration": 16,
    "start_time": "2023-02-09T14:57:19.389Z"
   },
   {
    "duration": 201,
    "start_time": "2023-02-09T14:58:01.332Z"
   },
   {
    "duration": 26,
    "start_time": "2023-02-09T14:58:28.898Z"
   },
   {
    "duration": 29,
    "start_time": "2023-02-09T15:00:18.943Z"
   },
   {
    "duration": 30,
    "start_time": "2023-02-09T15:00:55.609Z"
   },
   {
    "duration": 26,
    "start_time": "2023-02-09T15:01:33.931Z"
   },
   {
    "duration": 26,
    "start_time": "2023-02-09T15:02:29.714Z"
   },
   {
    "duration": 31,
    "start_time": "2023-02-09T15:06:32.716Z"
   },
   {
    "duration": 31,
    "start_time": "2023-02-09T15:06:37.193Z"
   },
   {
    "duration": 37,
    "start_time": "2023-02-09T15:07:36.357Z"
   },
   {
    "duration": 42,
    "start_time": "2023-02-09T15:08:36.259Z"
   },
   {
    "duration": 29,
    "start_time": "2023-02-09T15:09:03.026Z"
   },
   {
    "duration": 26,
    "start_time": "2023-02-09T15:09:38.611Z"
   },
   {
    "duration": 27,
    "start_time": "2023-02-09T15:09:53.882Z"
   },
   {
    "duration": 26,
    "start_time": "2023-02-09T15:09:58.356Z"
   },
   {
    "duration": 7,
    "start_time": "2023-02-09T15:10:14.736Z"
   },
   {
    "duration": 27,
    "start_time": "2023-02-09T15:10:15.493Z"
   },
   {
    "duration": 27,
    "start_time": "2023-02-09T15:10:25.421Z"
   },
   {
    "duration": 70,
    "start_time": "2023-02-09T15:10:55.239Z"
   },
   {
    "duration": 16,
    "start_time": "2023-02-09T15:10:55.651Z"
   },
   {
    "duration": 15,
    "start_time": "2023-02-09T15:10:56.064Z"
   },
   {
    "duration": 12,
    "start_time": "2023-02-09T15:10:56.900Z"
   },
   {
    "duration": 39,
    "start_time": "2023-02-09T15:10:57.310Z"
   },
   {
    "duration": 4,
    "start_time": "2023-02-09T15:10:57.962Z"
   },
   {
    "duration": 8,
    "start_time": "2023-02-09T15:10:58.390Z"
   },
   {
    "duration": 4,
    "start_time": "2023-02-09T15:10:59.077Z"
   },
   {
    "duration": 6,
    "start_time": "2023-02-09T15:10:59.526Z"
   },
   {
    "duration": 4,
    "start_time": "2023-02-09T15:10:59.988Z"
   },
   {
    "duration": 34,
    "start_time": "2023-02-09T15:11:00.680Z"
   },
   {
    "duration": 9,
    "start_time": "2023-02-09T15:11:01.246Z"
   },
   {
    "duration": 4,
    "start_time": "2023-02-09T15:11:02.262Z"
   },
   {
    "duration": 13,
    "start_time": "2023-02-09T15:11:03.167Z"
   },
   {
    "duration": 19,
    "start_time": "2023-02-09T15:11:03.679Z"
   },
   {
    "duration": 16,
    "start_time": "2023-02-09T15:11:03.904Z"
   },
   {
    "duration": 3,
    "start_time": "2023-02-09T15:11:04.939Z"
   },
   {
    "duration": 9,
    "start_time": "2023-02-09T15:11:05.344Z"
   },
   {
    "duration": 5,
    "start_time": "2023-02-09T15:11:05.966Z"
   },
   {
    "duration": 6,
    "start_time": "2023-02-09T15:11:07.294Z"
   },
   {
    "duration": 8,
    "start_time": "2023-02-09T15:11:07.659Z"
   },
   {
    "duration": 12,
    "start_time": "2023-02-09T15:11:08.984Z"
   },
   {
    "duration": 15,
    "start_time": "2023-02-09T15:11:09.659Z"
   },
   {
    "duration": 5,
    "start_time": "2023-02-09T15:11:10.475Z"
   },
   {
    "duration": 3,
    "start_time": "2023-02-09T15:11:11.272Z"
   },
   {
    "duration": 7,
    "start_time": "2023-02-09T15:11:11.866Z"
   },
   {
    "duration": 29,
    "start_time": "2023-02-09T15:11:12.464Z"
   },
   {
    "duration": 27,
    "start_time": "2023-02-09T15:11:34.017Z"
   },
   {
    "duration": 28,
    "start_time": "2023-02-09T15:11:38.556Z"
   },
   {
    "duration": 204,
    "start_time": "2023-02-09T15:17:51.085Z"
   },
   {
    "duration": 27,
    "start_time": "2023-02-09T15:18:16.216Z"
   },
   {
    "duration": 40,
    "start_time": "2023-02-09T15:18:33.783Z"
   },
   {
    "duration": 31,
    "start_time": "2023-02-09T15:19:16.800Z"
   },
   {
    "duration": 39,
    "start_time": "2023-02-09T15:19:40.962Z"
   },
   {
    "duration": 27,
    "start_time": "2023-02-09T15:26:29.398Z"
   },
   {
    "duration": 29,
    "start_time": "2023-02-09T15:27:34.660Z"
   },
   {
    "duration": 36,
    "start_time": "2023-02-09T15:28:26.165Z"
   },
   {
    "duration": 28,
    "start_time": "2023-02-09T15:29:20.798Z"
   },
   {
    "duration": 25,
    "start_time": "2023-02-09T15:35:54.618Z"
   },
   {
    "duration": 518,
    "start_time": "2023-11-22T14:36:59.765Z"
   },
   {
    "duration": 21,
    "start_time": "2023-11-22T14:37:00.285Z"
   },
   {
    "duration": 36,
    "start_time": "2023-11-22T14:37:00.308Z"
   },
   {
    "duration": 37,
    "start_time": "2023-11-22T14:37:00.346Z"
   },
   {
    "duration": 59,
    "start_time": "2023-11-22T14:37:00.385Z"
   },
   {
    "duration": 7,
    "start_time": "2023-11-22T14:37:00.446Z"
   },
   {
    "duration": 31,
    "start_time": "2023-11-22T14:37:00.455Z"
   },
   {
    "duration": 27,
    "start_time": "2023-11-22T14:37:00.488Z"
   },
   {
    "duration": 24,
    "start_time": "2023-11-22T14:37:00.517Z"
   },
   {
    "duration": 6,
    "start_time": "2023-11-22T14:37:00.544Z"
   },
   {
    "duration": 48,
    "start_time": "2023-11-22T14:37:00.552Z"
   },
   {
    "duration": 9,
    "start_time": "2023-11-22T14:37:00.602Z"
   },
   {
    "duration": 21,
    "start_time": "2023-11-22T14:37:00.612Z"
   },
   {
    "duration": 15,
    "start_time": "2023-11-22T14:37:00.634Z"
   },
   {
    "duration": 28,
    "start_time": "2023-11-22T14:37:00.651Z"
   },
   {
    "duration": 23,
    "start_time": "2023-11-22T14:37:00.680Z"
   },
   {
    "duration": 3,
    "start_time": "2023-11-22T14:37:00.705Z"
   },
   {
    "duration": 25,
    "start_time": "2023-11-22T14:37:00.710Z"
   },
   {
    "duration": 10,
    "start_time": "2023-11-22T14:37:00.736Z"
   },
   {
    "duration": 26,
    "start_time": "2023-11-22T14:37:00.748Z"
   },
   {
    "duration": 49,
    "start_time": "2023-11-22T14:37:00.776Z"
   },
   {
    "duration": 36,
    "start_time": "2023-11-22T14:37:00.827Z"
   },
   {
    "duration": 50,
    "start_time": "2023-11-22T14:37:00.865Z"
   },
   {
    "duration": 51,
    "start_time": "2023-11-22T14:37:00.916Z"
   },
   {
    "duration": 35,
    "start_time": "2023-11-22T14:37:00.968Z"
   },
   {
    "duration": 32,
    "start_time": "2023-11-22T14:37:01.004Z"
   },
   {
    "duration": 55,
    "start_time": "2023-11-22T14:37:01.037Z"
   },
   {
    "duration": 44,
    "start_time": "2023-11-22T14:37:01.095Z"
   },
   {
    "duration": 72,
    "start_time": "2023-11-22T14:37:01.141Z"
   },
   {
    "duration": 36,
    "start_time": "2023-11-22T14:37:01.215Z"
   }
  ],
  "colab": {
   "name": "dpp_template_part2.ipynb",
   "provenance": []
  },
  "kernelspec": {
   "display_name": "Python 3 (ipykernel)",
   "language": "python",
   "name": "python3"
  },
  "language_info": {
   "codemirror_mode": {
    "name": "ipython",
    "version": 3
   },
   "file_extension": ".py",
   "mimetype": "text/x-python",
   "name": "python",
   "nbconvert_exporter": "python",
   "pygments_lexer": "ipython3",
   "version": "3.9.5"
  },
  "toc": {
   "base_numbering": 1,
   "nav_menu": {},
   "number_sections": true,
   "sideBar": true,
   "skip_h1_title": true,
   "title_cell": "Table of Contents",
   "title_sidebar": "Contents",
   "toc_cell": false,
   "toc_position": {
    "height": "calc(100% - 180px)",
    "left": "10px",
    "top": "150px",
    "width": "318.872px"
   },
   "toc_section_display": true,
   "toc_window_display": false
  }
 },
 "nbformat": 4,
 "nbformat_minor": 5
}
