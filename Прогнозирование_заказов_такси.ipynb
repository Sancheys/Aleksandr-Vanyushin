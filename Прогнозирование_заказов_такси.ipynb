{
 "cells": [
  {
   "cell_type": "markdown",
   "metadata": {
    "id": "Nnab_fkgk4xf",
    "toc": true
   },
   "source": [
    "<h1>Содержание<span class=\"tocSkip\"></span></h1>\n",
    "<div class=\"toc\"><ul class=\"toc-item\"><li><span><a href=\"#Подготовка\" data-toc-modified-id=\"Подготовка-1\"><span class=\"toc-item-num\">1&nbsp;&nbsp;</span>Подготовка</a></span></li><li><span><a href=\"#Анализ\" data-toc-modified-id=\"Анализ-2\"><span class=\"toc-item-num\">2&nbsp;&nbsp;</span>Анализ</a></span></li><li><span><a href=\"#Обучение\" data-toc-modified-id=\"Обучение-3\"><span class=\"toc-item-num\">3&nbsp;&nbsp;</span>Обучение</a></span></li><li><span><a href=\"#Тестирование\" data-toc-modified-id=\"Тестирование-4\"><span class=\"toc-item-num\">4&nbsp;&nbsp;</span>Тестирование</a></span></li><li><span><a href=\"#Чек-лист-проверки\" data-toc-modified-id=\"Чек-лист-проверки-5\"><span class=\"toc-item-num\">5&nbsp;&nbsp;</span>Чек-лист проверки</a></span></li></ul></div>"
   ]
  },
  {
   "cell_type": "markdown",
   "metadata": {
    "id": "pxCGNyeik4xu"
   },
   "source": [
    "#  Прогнозирование заказов такси"
   ]
  },
  {
   "cell_type": "markdown",
   "metadata": {
    "id": "9VJQZAWsk4xw"
   },
   "source": [
    "Компания «Чётенькое такси» собрала исторические данные о заказах такси в аэропортах. Чтобы привлекать больше водителей в период пиковой нагрузки, нужно спрогнозировать количество заказов такси на следующий час. Постройте модель для такого предсказания.\n",
    "\n",
    "Значение метрики *RMSE* на тестовой выборке должно быть не больше 48.\n",
    "\n",
    "Вам нужно:\n",
    "\n",
    "1. Загрузить данные и выполнить их ресемплирование по одному часу.\n",
    "2. Проанализировать данные.\n",
    "3. Обучить разные модели с различными гиперпараметрами. Сделать тестовую выборку размером 10% от исходных данных.\n",
    "4. Проверить данные на тестовой выборке и сделать выводы.\n",
    "\n",
    "\n",
    "Данные лежат в файле `taxi.csv`. Количество заказов находится в столбце `num_orders` (от англ. *number of orders*, «число заказов»)."
   ]
  },
  {
   "cell_type": "markdown",
   "metadata": {
    "id": "p8_BegKEk4xy"
   },
   "source": [
    "## Подготовка"
   ]
  },
  {
   "cell_type": "code",
   "execution_count": 1,
   "metadata": {},
   "outputs": [
    {
     "name": "stdout",
     "output_type": "stream",
     "text": [
      "Requirement already satisfied: lightgbm in /opt/conda/lib/python3.9/site-packages (3.3.1)\n",
      "Requirement already satisfied: scipy in /opt/conda/lib/python3.9/site-packages (from lightgbm) (1.9.1)\n",
      "Requirement already satisfied: numpy in /opt/conda/lib/python3.9/site-packages (from lightgbm) (1.21.1)\n",
      "Requirement already satisfied: wheel in /opt/conda/lib/python3.9/site-packages (from lightgbm) (0.36.2)\n",
      "Requirement already satisfied: scikit-learn!=0.22.0 in /opt/conda/lib/python3.9/site-packages (from lightgbm) (0.24.1)\n",
      "Requirement already satisfied: joblib>=0.11 in /opt/conda/lib/python3.9/site-packages (from scikit-learn!=0.22.0->lightgbm) (1.1.0)\n",
      "Requirement already satisfied: threadpoolctl>=2.0.0 in /opt/conda/lib/python3.9/site-packages (from scikit-learn!=0.22.0->lightgbm) (3.1.0)\n",
      "Note: you may need to restart the kernel to use updated packages.\n"
     ]
    }
   ],
   "source": [
    "pip install lightgbm"
   ]
  },
  {
   "cell_type": "code",
   "execution_count": 2,
   "metadata": {
    "id": "RVWKDYVqk4x0"
   },
   "outputs": [],
   "source": [
    "import time\n",
    "import warnings\n",
    "warnings.filterwarnings(\"ignore\")\n",
    "\n",
    "import pandas as pd\n",
    "import seaborn as sns\n",
    "import numpy as np\n",
    "import matplotlib.pyplot as plt\n",
    "plt.rcParams[\"figure.figsize\"] = (20,7)\n",
    "import os\n",
    "\n",
    "from lightgbm import LGBMRegressor\n",
    "from statsmodels.tsa.seasonal import seasonal_decompose\n",
    "from sklearn.model_selection import train_test_split, TimeSeriesSplit, GridSearchCV\n",
    "from sklearn.linear_model import Ridge\n",
    "from sklearn.ensemble import RandomForestRegressor\n",
    "from sklearn.linear_model import LinearRegression\n",
    "from sklearn.metrics import mean_squared_error"
   ]
  },
  {
   "cell_type": "code",
   "execution_count": 3,
   "metadata": {
    "id": "nsfS17qKk4x5"
   },
   "outputs": [],
   "source": [
    "pth1 = 'taxi.csv'\n",
    "pth2 = '/datasets/taxi.csv'\n",
    "\n",
    "if os.path.exists(pth1):\n",
    "    df = pd.read_csv(pth1, index_col=[0], parse_dates=[0])\n",
    "elif os.path.exists(pth2):\n",
    "    df = pd.read_csv(pth2, index_col=[0], parse_dates=[0])\n",
    "else:\n",
    "    print('Something is wrong')"
   ]
  },
  {
   "cell_type": "code",
   "execution_count": 4,
   "metadata": {
    "id": "9uR6mLfyk4x6"
   },
   "outputs": [],
   "source": [
    "state = 888"
   ]
  },
  {
   "cell_type": "code",
   "execution_count": 5,
   "metadata": {
    "colab": {
     "base_uri": "https://localhost:8080/",
     "height": 238
    },
    "id": "Y9K3Hn4Tk4x9",
    "outputId": "d07edc57-2f89-482f-cfaa-7edd5793a106"
   },
   "outputs": [
    {
     "data": {
      "text/html": [
       "<div>\n",
       "<style scoped>\n",
       "    .dataframe tbody tr th:only-of-type {\n",
       "        vertical-align: middle;\n",
       "    }\n",
       "\n",
       "    .dataframe tbody tr th {\n",
       "        vertical-align: top;\n",
       "    }\n",
       "\n",
       "    .dataframe thead th {\n",
       "        text-align: right;\n",
       "    }\n",
       "</style>\n",
       "<table border=\"1\" class=\"dataframe\">\n",
       "  <thead>\n",
       "    <tr style=\"text-align: right;\">\n",
       "      <th></th>\n",
       "      <th>num_orders</th>\n",
       "    </tr>\n",
       "    <tr>\n",
       "      <th>datetime</th>\n",
       "      <th></th>\n",
       "    </tr>\n",
       "  </thead>\n",
       "  <tbody>\n",
       "    <tr>\n",
       "      <th>2018-03-01 00:00:00</th>\n",
       "      <td>9</td>\n",
       "    </tr>\n",
       "    <tr>\n",
       "      <th>2018-03-01 00:10:00</th>\n",
       "      <td>14</td>\n",
       "    </tr>\n",
       "    <tr>\n",
       "      <th>2018-03-01 00:20:00</th>\n",
       "      <td>28</td>\n",
       "    </tr>\n",
       "    <tr>\n",
       "      <th>2018-03-01 00:30:00</th>\n",
       "      <td>20</td>\n",
       "    </tr>\n",
       "    <tr>\n",
       "      <th>2018-03-01 00:40:00</th>\n",
       "      <td>32</td>\n",
       "    </tr>\n",
       "  </tbody>\n",
       "</table>\n",
       "</div>"
      ],
      "text/plain": [
       "                     num_orders\n",
       "datetime                       \n",
       "2018-03-01 00:00:00           9\n",
       "2018-03-01 00:10:00          14\n",
       "2018-03-01 00:20:00          28\n",
       "2018-03-01 00:30:00          20\n",
       "2018-03-01 00:40:00          32"
      ]
     },
     "execution_count": 5,
     "metadata": {},
     "output_type": "execute_result"
    }
   ],
   "source": [
    "df.head(5)"
   ]
  },
  {
   "cell_type": "markdown",
   "metadata": {
    "id": "ro_DxQg-k4yC"
   },
   "source": [
    "**Целевой признак**\n",
    "* **num_orders** - количество заказов"
   ]
  },
  {
   "cell_type": "code",
   "execution_count": 6,
   "metadata": {
    "colab": {
     "base_uri": "https://localhost:8080/"
    },
    "id": "WOW_z3w3k4yD",
    "outputId": "7c1621e0-b2c7-45c0-d522-e3a896a1a71f"
   },
   "outputs": [
    {
     "name": "stdout",
     "output_type": "stream",
     "text": [
      "Размер данных: (26496, 1)\n"
     ]
    }
   ],
   "source": [
    "print(f'Размер данных: {df.shape}')"
   ]
  },
  {
   "cell_type": "code",
   "execution_count": 7,
   "metadata": {
    "id": "uAgnmqJ9k4yF"
   },
   "outputs": [],
   "source": [
    "#создадим копию\n",
    "df_full = df.copy()"
   ]
  },
  {
   "cell_type": "code",
   "execution_count": 8,
   "metadata": {
    "colab": {
     "base_uri": "https://localhost:8080/"
    },
    "id": "KCq5Vc0Uk4yG",
    "outputId": "66c03dc5-54ff-49e6-8ce8-b82a5bfa1fe1"
   },
   "outputs": [
    {
     "data": {
      "text/plain": [
       "num_orders    0\n",
       "dtype: int64"
      ]
     },
     "execution_count": 8,
     "metadata": {},
     "output_type": "execute_result"
    }
   ],
   "source": [
    "# взглянем на пропуски\n",
    "df.isna().sum()"
   ]
  },
  {
   "cell_type": "code",
   "execution_count": 9,
   "metadata": {
    "colab": {
     "base_uri": "https://localhost:8080/"
    },
    "id": "pBpbvldTk4yH",
    "outputId": "613c52e3-c636-4724-bec6-c557412a444a"
   },
   "outputs": [
    {
     "data": {
      "text/plain": [
       "0"
      ]
     },
     "execution_count": 9,
     "metadata": {},
     "output_type": "execute_result"
    }
   ],
   "source": [
    "# взглянем на дубликаты\n",
    "df.index.duplicated().sum()"
   ]
  },
  {
   "cell_type": "code",
   "execution_count": 10,
   "metadata": {
    "colab": {
     "base_uri": "https://localhost:8080/"
    },
    "id": "hvQ6wPLmk4yI",
    "outputId": "3e5822c5-1007-4824-a4f9-bbb3e21a1357"
   },
   "outputs": [
    {
     "name": "stdout",
     "output_type": "stream",
     "text": [
      "True\n"
     ]
    }
   ],
   "source": [
    "#проверим упорядочен ли наш index\n",
    "print(df.index.is_monotonic)"
   ]
  },
  {
   "cell_type": "code",
   "execution_count": 11,
   "metadata": {
    "id": "VPokjFrNk4yK"
   },
   "outputs": [],
   "source": [
    "#Измененим интервал со значениями до 1 часа, при этом агрегированным значением ряда выберем сумму.\n",
    "df = df.resample('1H').sum()"
   ]
  },
  {
   "cell_type": "code",
   "execution_count": 12,
   "metadata": {
    "colab": {
     "base_uri": "https://localhost:8080/",
     "height": 238
    },
    "id": "5fEn1qfck4yL",
    "outputId": "abd656e3-b020-4b55-ca56-fd324ef343f1"
   },
   "outputs": [
    {
     "data": {
      "text/html": [
       "<div>\n",
       "<style scoped>\n",
       "    .dataframe tbody tr th:only-of-type {\n",
       "        vertical-align: middle;\n",
       "    }\n",
       "\n",
       "    .dataframe tbody tr th {\n",
       "        vertical-align: top;\n",
       "    }\n",
       "\n",
       "    .dataframe thead th {\n",
       "        text-align: right;\n",
       "    }\n",
       "</style>\n",
       "<table border=\"1\" class=\"dataframe\">\n",
       "  <thead>\n",
       "    <tr style=\"text-align: right;\">\n",
       "      <th></th>\n",
       "      <th>num_orders</th>\n",
       "    </tr>\n",
       "    <tr>\n",
       "      <th>datetime</th>\n",
       "      <th></th>\n",
       "    </tr>\n",
       "  </thead>\n",
       "  <tbody>\n",
       "    <tr>\n",
       "      <th>2018-03-01 00:00:00</th>\n",
       "      <td>124</td>\n",
       "    </tr>\n",
       "    <tr>\n",
       "      <th>2018-03-01 01:00:00</th>\n",
       "      <td>85</td>\n",
       "    </tr>\n",
       "    <tr>\n",
       "      <th>2018-03-01 02:00:00</th>\n",
       "      <td>71</td>\n",
       "    </tr>\n",
       "    <tr>\n",
       "      <th>2018-03-01 03:00:00</th>\n",
       "      <td>66</td>\n",
       "    </tr>\n",
       "    <tr>\n",
       "      <th>2018-03-01 04:00:00</th>\n",
       "      <td>43</td>\n",
       "    </tr>\n",
       "  </tbody>\n",
       "</table>\n",
       "</div>"
      ],
      "text/plain": [
       "                     num_orders\n",
       "datetime                       \n",
       "2018-03-01 00:00:00         124\n",
       "2018-03-01 01:00:00          85\n",
       "2018-03-01 02:00:00          71\n",
       "2018-03-01 03:00:00          66\n",
       "2018-03-01 04:00:00          43"
      ]
     },
     "execution_count": 12,
     "metadata": {},
     "output_type": "execute_result"
    }
   ],
   "source": [
    " df.head()"
   ]
  },
  {
   "cell_type": "markdown",
   "metadata": {
    "id": "Hg6vRgCuk4yN"
   },
   "source": [
    "## Анализ"
   ]
  },
  {
   "cell_type": "code",
   "execution_count": 13,
   "metadata": {
    "colab": {
     "base_uri": "https://localhost:8080/"
    },
    "id": "FTzm4WLnk4yN",
    "outputId": "d256b160-0362-4f07-f379-f5683dfb9efc"
   },
   "outputs": [
    {
     "data": {
      "text/plain": [
       "(Timestamp('2018-03-01 00:00:00', freq='H'),\n",
       " Timestamp('2018-08-31 23:00:00', freq='H'))"
      ]
     },
     "execution_count": 13,
     "metadata": {},
     "output_type": "execute_result"
    }
   ],
   "source": [
    "#анализ периода за который предоставили данные:\n",
    "df.index.min(), df.index.max()"
   ]
  },
  {
   "cell_type": "markdown",
   "metadata": {
    "id": "mIhgLDFJk4yO"
   },
   "source": [
    "Данные предоставленны за период с 01 марта до 31 августа (включительно) - то есть за полгода"
   ]
  },
  {
   "cell_type": "markdown",
   "metadata": {
    "id": "fhZmjfztk4yP"
   },
   "source": [
    " **Необработанный временной ряд**"
   ]
  },
  {
   "cell_type": "code",
   "execution_count": 14,
   "metadata": {
    "colab": {
     "base_uri": "https://localhost:8080/",
     "height": 646
    },
    "id": "tSXG27ivk4yQ",
    "outputId": "9a6dd3f5-cf81-4914-ab0f-b0347bcb4656"
   },
   "outputs": [
    {
     "data": {
      "image/png": "[encoded data removed]",
      "text/plain": [
       "<Figure size 1440x504 with 1 Axes>"
      ]
     },
     "metadata": {
      "needs_background": "light"
     },
     "output_type": "display_data"
    }
   ],
   "source": [
    "df.plot(title='Распределение заказов по времени', grid=True);"
   ]
  },
  {
   "cell_type": "markdown",
   "metadata": {
    "id": "UCSqebZGk4yR"
   },
   "source": [
    "Не особо понятно. Проведём декомпозицию и выведем графики трендов и сезонности."
   ]
  },
  {
   "cell_type": "markdown",
   "metadata": {
    "id": "pPT8hI5Ok4yR"
   },
   "source": [
    "**Тренды и сезонность**"
   ]
  },
  {
   "cell_type": "code",
   "execution_count": 15,
   "metadata": {
    "id": "eV3jL814k4yS"
   },
   "outputs": [],
   "source": [
    "decomposed = seasonal_decompose(df)"
   ]
  },
  {
   "cell_type": "code",
   "execution_count": 16,
   "metadata": {
    "colab": {
     "base_uri": "https://localhost:8080/",
     "height": 1000
    },
    "id": "94L0PWrMk4yS",
    "outputId": "8f9081c3-9922-490b-83b0-335f7874d754"
   },
   "outputs": [
    {
     "data": {
      "image/png": "[encoded data removed]",
      "text/plain": [
       "<Figure size 1440x504 with 1 Axes>"
      ]
     },
     "metadata": {
      "needs_background": "light"
     },
     "output_type": "display_data"
    },
    {
     "data": {
      "image/png": "[encoded data removed]",
      "text/plain": [
       "<Figure size 1440x504 with 1 Axes>"
      ]
     },
     "metadata": {
      "needs_background": "light"
     },
     "output_type": "display_data"
    },
    {
     "data": {
      "image/png": "[encoded data removed]",
      "text/plain": [
       "<Figure size 1440x504 with 1 Axes>"
      ]
     },
     "metadata": {
      "needs_background": "light"
     },
     "output_type": "display_data"
    },
    {
     "data": {
      "image/png": "[encoded data removed]",
      "text/plain": [
       "<Figure size 1440x504 with 1 Axes>"
      ]
     },
     "metadata": {
      "needs_background": "light"
     },
     "output_type": "display_data"
    }
   ],
   "source": [
    "decomposed.seasonal.head(24*7).plot(title='Сезонность', grid=True)\n",
    "plt.show()\n",
    "decomposed.seasonal['2018-05-10':'2018-05-11'].plot(ax=plt.gca())\n",
    "plt.title('Сезонность в течении дня')\n",
    "plt.tight_layout()\n",
    "plt.show()\n",
    "decomposed.trend.plot(title='Тренд', grid=True)\n",
    "plt.show()\n",
    "decomposed.resid.plot(title='Шумы');"
   ]
  },
  {
   "cell_type": "markdown",
   "metadata": {
    "id": "-HGcO9FVk4yT"
   },
   "source": [
    "**Вывод**\n",
    "\n",
    "* Предоставленный датасет имеет данные за пол года: с марта по август.\n",
    "* Данные имеют суточную сезонность - в ночное время заказов мало, а в веченее наоборот  - большое количесвто заказов:\n",
    "* По графику видно, что данные имеют восходящий тренд, возможно это связано с приходом лета и начала сезона отпусков."
   ]
  },
  {
   "cell_type": "markdown",
   "metadata": {
    "id": "_UxiBSYkk4yU"
   },
   "source": [
    "## Обучение"
   ]
  },
  {
   "cell_type": "code",
   "execution_count": 17,
   "metadata": {
    "id": "Lfj7YNrak4yU"
   },
   "outputs": [],
   "source": [
    "#Создадим признаки\n",
    "def make_features(dataframe, max_lag, rolling_mean_size):\n",
    "    data = dataframe.copy(deep=True)\n",
    "    data['dayofweek'] = data.index.dayofweek\n",
    "    data['hour'] = data.index.hour\n",
    "\n",
    "    for lag in range(1, max_lag + 1):\n",
    "        data['lag_{}'.format(lag)] = data['num_orders'].shift(lag)\n",
    "\n",
    "    data['rolling_mean'] = data['num_orders'].shift().rolling(rolling_mean_size).mean()\n",
    "    return data\n"
   ]
  },
  {
   "cell_type": "code",
   "execution_count": 18,
   "metadata": {
    "id": "XZvYHggzk4yV"
   },
   "outputs": [],
   "source": [
    "df = make_features(df, 168, 10)"
   ]
  },
  {
   "cell_type": "code",
   "execution_count": 19,
   "metadata": {
    "colab": {
     "base_uri": "https://localhost:8080/",
     "height": 424
    },
    "id": "9SHkNzQ7k4yW",
    "outputId": "b8500e48-c582-4152-d9ee-38dd6799f3b7"
   },
   "outputs": [
    {
     "data": {
      "text/html": [
       "<div>\n",
       "<style scoped>\n",
       "    .dataframe tbody tr th:only-of-type {\n",
       "        vertical-align: middle;\n",
       "    }\n",
       "\n",
       "    .dataframe tbody tr th {\n",
       "        vertical-align: top;\n",
       "    }\n",
       "\n",
       "    .dataframe thead th {\n",
       "        text-align: right;\n",
       "    }\n",
       "</style>\n",
       "<table border=\"1\" class=\"dataframe\">\n",
       "  <thead>\n",
       "    <tr style=\"text-align: right;\">\n",
       "      <th></th>\n",
       "      <th>num_orders</th>\n",
       "      <th>dayofweek</th>\n",
       "      <th>hour</th>\n",
       "      <th>lag_1</th>\n",
       "      <th>lag_2</th>\n",
       "      <th>lag_3</th>\n",
       "      <th>lag_4</th>\n",
       "      <th>lag_5</th>\n",
       "      <th>lag_6</th>\n",
       "      <th>lag_7</th>\n",
       "      <th>...</th>\n",
       "      <th>lag_160</th>\n",
       "      <th>lag_161</th>\n",
       "      <th>lag_162</th>\n",
       "      <th>lag_163</th>\n",
       "      <th>lag_164</th>\n",
       "      <th>lag_165</th>\n",
       "      <th>lag_166</th>\n",
       "      <th>lag_167</th>\n",
       "      <th>lag_168</th>\n",
       "      <th>rolling_mean</th>\n",
       "    </tr>\n",
       "    <tr>\n",
       "      <th>datetime</th>\n",
       "      <th></th>\n",
       "      <th></th>\n",
       "      <th></th>\n",
       "      <th></th>\n",
       "      <th></th>\n",
       "      <th></th>\n",
       "      <th></th>\n",
       "      <th></th>\n",
       "      <th></th>\n",
       "      <th></th>\n",
       "      <th></th>\n",
       "      <th></th>\n",
       "      <th></th>\n",
       "      <th></th>\n",
       "      <th></th>\n",
       "      <th></th>\n",
       "      <th></th>\n",
       "      <th></th>\n",
       "      <th></th>\n",
       "      <th></th>\n",
       "      <th></th>\n",
       "    </tr>\n",
       "  </thead>\n",
       "  <tbody>\n",
       "    <tr>\n",
       "      <th>2018-03-01 00:00:00</th>\n",
       "      <td>124</td>\n",
       "      <td>3</td>\n",
       "      <td>0</td>\n",
       "      <td>NaN</td>\n",
       "      <td>NaN</td>\n",
       "      <td>NaN</td>\n",
       "      <td>NaN</td>\n",
       "      <td>NaN</td>\n",
       "      <td>NaN</td>\n",
       "      <td>NaN</td>\n",
       "      <td>...</td>\n",
       "      <td>NaN</td>\n",
       "      <td>NaN</td>\n",
       "      <td>NaN</td>\n",
       "      <td>NaN</td>\n",
       "      <td>NaN</td>\n",
       "      <td>NaN</td>\n",
       "      <td>NaN</td>\n",
       "      <td>NaN</td>\n",
       "      <td>NaN</td>\n",
       "      <td>NaN</td>\n",
       "    </tr>\n",
       "    <tr>\n",
       "      <th>2018-03-01 01:00:00</th>\n",
       "      <td>85</td>\n",
       "      <td>3</td>\n",
       "      <td>1</td>\n",
       "      <td>124.0</td>\n",
       "      <td>NaN</td>\n",
       "      <td>NaN</td>\n",
       "      <td>NaN</td>\n",
       "      <td>NaN</td>\n",
       "      <td>NaN</td>\n",
       "      <td>NaN</td>\n",
       "      <td>...</td>\n",
       "      <td>NaN</td>\n",
       "      <td>NaN</td>\n",
       "      <td>NaN</td>\n",
       "      <td>NaN</td>\n",
       "      <td>NaN</td>\n",
       "      <td>NaN</td>\n",
       "      <td>NaN</td>\n",
       "      <td>NaN</td>\n",
       "      <td>NaN</td>\n",
       "      <td>NaN</td>\n",
       "    </tr>\n",
       "    <tr>\n",
       "      <th>2018-03-01 02:00:00</th>\n",
       "      <td>71</td>\n",
       "      <td>3</td>\n",
       "      <td>2</td>\n",
       "      <td>85.0</td>\n",
       "      <td>124.0</td>\n",
       "      <td>NaN</td>\n",
       "      <td>NaN</td>\n",
       "      <td>NaN</td>\n",
       "      <td>NaN</td>\n",
       "      <td>NaN</td>\n",
       "      <td>...</td>\n",
       "      <td>NaN</td>\n",
       "      <td>NaN</td>\n",
       "      <td>NaN</td>\n",
       "      <td>NaN</td>\n",
       "      <td>NaN</td>\n",
       "      <td>NaN</td>\n",
       "      <td>NaN</td>\n",
       "      <td>NaN</td>\n",
       "      <td>NaN</td>\n",
       "      <td>NaN</td>\n",
       "    </tr>\n",
       "    <tr>\n",
       "      <th>2018-03-01 03:00:00</th>\n",
       "      <td>66</td>\n",
       "      <td>3</td>\n",
       "      <td>3</td>\n",
       "      <td>71.0</td>\n",
       "      <td>85.0</td>\n",
       "      <td>124.0</td>\n",
       "      <td>NaN</td>\n",
       "      <td>NaN</td>\n",
       "      <td>NaN</td>\n",
       "      <td>NaN</td>\n",
       "      <td>...</td>\n",
       "      <td>NaN</td>\n",
       "      <td>NaN</td>\n",
       "      <td>NaN</td>\n",
       "      <td>NaN</td>\n",
       "      <td>NaN</td>\n",
       "      <td>NaN</td>\n",
       "      <td>NaN</td>\n",
       "      <td>NaN</td>\n",
       "      <td>NaN</td>\n",
       "      <td>NaN</td>\n",
       "    </tr>\n",
       "    <tr>\n",
       "      <th>2018-03-01 04:00:00</th>\n",
       "      <td>43</td>\n",
       "      <td>3</td>\n",
       "      <td>4</td>\n",
       "      <td>66.0</td>\n",
       "      <td>71.0</td>\n",
       "      <td>85.0</td>\n",
       "      <td>124.0</td>\n",
       "      <td>NaN</td>\n",
       "      <td>NaN</td>\n",
       "      <td>NaN</td>\n",
       "      <td>...</td>\n",
       "      <td>NaN</td>\n",
       "      <td>NaN</td>\n",
       "      <td>NaN</td>\n",
       "      <td>NaN</td>\n",
       "      <td>NaN</td>\n",
       "      <td>NaN</td>\n",
       "      <td>NaN</td>\n",
       "      <td>NaN</td>\n",
       "      <td>NaN</td>\n",
       "      <td>NaN</td>\n",
       "    </tr>\n",
       "    <tr>\n",
       "      <th>2018-03-01 05:00:00</th>\n",
       "      <td>6</td>\n",
       "      <td>3</td>\n",
       "      <td>5</td>\n",
       "      <td>43.0</td>\n",
       "      <td>66.0</td>\n",
       "      <td>71.0</td>\n",
       "      <td>85.0</td>\n",
       "      <td>124.0</td>\n",
       "      <td>NaN</td>\n",
       "      <td>NaN</td>\n",
       "      <td>...</td>\n",
       "      <td>NaN</td>\n",
       "      <td>NaN</td>\n",
       "      <td>NaN</td>\n",
       "      <td>NaN</td>\n",
       "      <td>NaN</td>\n",
       "      <td>NaN</td>\n",
       "      <td>NaN</td>\n",
       "      <td>NaN</td>\n",
       "      <td>NaN</td>\n",
       "      <td>NaN</td>\n",
       "    </tr>\n",
       "    <tr>\n",
       "      <th>2018-03-01 06:00:00</th>\n",
       "      <td>12</td>\n",
       "      <td>3</td>\n",
       "      <td>6</td>\n",
       "      <td>6.0</td>\n",
       "      <td>43.0</td>\n",
       "      <td>66.0</td>\n",
       "      <td>71.0</td>\n",
       "      <td>85.0</td>\n",
       "      <td>124.0</td>\n",
       "      <td>NaN</td>\n",
       "      <td>...</td>\n",
       "      <td>NaN</td>\n",
       "      <td>NaN</td>\n",
       "      <td>NaN</td>\n",
       "      <td>NaN</td>\n",
       "      <td>NaN</td>\n",
       "      <td>NaN</td>\n",
       "      <td>NaN</td>\n",
       "      <td>NaN</td>\n",
       "      <td>NaN</td>\n",
       "      <td>NaN</td>\n",
       "    </tr>\n",
       "    <tr>\n",
       "      <th>2018-03-01 07:00:00</th>\n",
       "      <td>15</td>\n",
       "      <td>3</td>\n",
       "      <td>7</td>\n",
       "      <td>12.0</td>\n",
       "      <td>6.0</td>\n",
       "      <td>43.0</td>\n",
       "      <td>66.0</td>\n",
       "      <td>71.0</td>\n",
       "      <td>85.0</td>\n",
       "      <td>124.0</td>\n",
       "      <td>...</td>\n",
       "      <td>NaN</td>\n",
       "      <td>NaN</td>\n",
       "      <td>NaN</td>\n",
       "      <td>NaN</td>\n",
       "      <td>NaN</td>\n",
       "      <td>NaN</td>\n",
       "      <td>NaN</td>\n",
       "      <td>NaN</td>\n",
       "      <td>NaN</td>\n",
       "      <td>NaN</td>\n",
       "    </tr>\n",
       "    <tr>\n",
       "      <th>2018-03-01 08:00:00</th>\n",
       "      <td>34</td>\n",
       "      <td>3</td>\n",
       "      <td>8</td>\n",
       "      <td>15.0</td>\n",
       "      <td>12.0</td>\n",
       "      <td>6.0</td>\n",
       "      <td>43.0</td>\n",
       "      <td>66.0</td>\n",
       "      <td>71.0</td>\n",
       "      <td>85.0</td>\n",
       "      <td>...</td>\n",
       "      <td>NaN</td>\n",
       "      <td>NaN</td>\n",
       "      <td>NaN</td>\n",
       "      <td>NaN</td>\n",
       "      <td>NaN</td>\n",
       "      <td>NaN</td>\n",
       "      <td>NaN</td>\n",
       "      <td>NaN</td>\n",
       "      <td>NaN</td>\n",
       "      <td>NaN</td>\n",
       "    </tr>\n",
       "    <tr>\n",
       "      <th>2018-03-01 09:00:00</th>\n",
       "      <td>69</td>\n",
       "      <td>3</td>\n",
       "      <td>9</td>\n",
       "      <td>34.0</td>\n",
       "      <td>15.0</td>\n",
       "      <td>12.0</td>\n",
       "      <td>6.0</td>\n",
       "      <td>43.0</td>\n",
       "      <td>66.0</td>\n",
       "      <td>71.0</td>\n",
       "      <td>...</td>\n",
       "      <td>NaN</td>\n",
       "      <td>NaN</td>\n",
       "      <td>NaN</td>\n",
       "      <td>NaN</td>\n",
       "      <td>NaN</td>\n",
       "      <td>NaN</td>\n",
       "      <td>NaN</td>\n",
       "      <td>NaN</td>\n",
       "      <td>NaN</td>\n",
       "      <td>NaN</td>\n",
       "    </tr>\n",
       "  </tbody>\n",
       "</table>\n",
       "<p>10 rows × 172 columns</p>\n",
       "</div>"
      ],
      "text/plain": [
       "                     num_orders  dayofweek  hour  lag_1  lag_2  lag_3  lag_4  \\\n",
       "datetime                                                                       \n",
       "2018-03-01 00:00:00         124          3     0    NaN    NaN    NaN    NaN   \n",
       "2018-03-01 01:00:00          85          3     1  124.0    NaN    NaN    NaN   \n",
       "2018-03-01 02:00:00          71          3     2   85.0  124.0    NaN    NaN   \n",
       "2018-03-01 03:00:00          66          3     3   71.0   85.0  124.0    NaN   \n",
       "2018-03-01 04:00:00          43          3     4   66.0   71.0   85.0  124.0   \n",
       "2018-03-01 05:00:00           6          3     5   43.0   66.0   71.0   85.0   \n",
       "2018-03-01 06:00:00          12          3     6    6.0   43.0   66.0   71.0   \n",
       "2018-03-01 07:00:00          15          3     7   12.0    6.0   43.0   66.0   \n",
       "2018-03-01 08:00:00          34          3     8   15.0   12.0    6.0   43.0   \n",
       "2018-03-01 09:00:00          69          3     9   34.0   15.0   12.0    6.0   \n",
       "\n",
       "                     lag_5  lag_6  lag_7  ...  lag_160  lag_161  lag_162  \\\n",
       "datetime                                  ...                              \n",
       "2018-03-01 00:00:00    NaN    NaN    NaN  ...      NaN      NaN      NaN   \n",
       "2018-03-01 01:00:00    NaN    NaN    NaN  ...      NaN      NaN      NaN   \n",
       "2018-03-01 02:00:00    NaN    NaN    NaN  ...      NaN      NaN      NaN   \n",
       "2018-03-01 03:00:00    NaN    NaN    NaN  ...      NaN      NaN      NaN   \n",
       "2018-03-01 04:00:00    NaN    NaN    NaN  ...      NaN      NaN      NaN   \n",
       "2018-03-01 05:00:00  124.0    NaN    NaN  ...      NaN      NaN      NaN   \n",
       "2018-03-01 06:00:00   85.0  124.0    NaN  ...      NaN      NaN      NaN   \n",
       "2018-03-01 07:00:00   71.0   85.0  124.0  ...      NaN      NaN      NaN   \n",
       "2018-03-01 08:00:00   66.0   71.0   85.0  ...      NaN      NaN      NaN   \n",
       "2018-03-01 09:00:00   43.0   66.0   71.0  ...      NaN      NaN      NaN   \n",
       "\n",
       "                     lag_163  lag_164  lag_165  lag_166  lag_167  lag_168  \\\n",
       "datetime                                                                    \n",
       "2018-03-01 00:00:00      NaN      NaN      NaN      NaN      NaN      NaN   \n",
       "2018-03-01 01:00:00      NaN      NaN      NaN      NaN      NaN      NaN   \n",
       "2018-03-01 02:00:00      NaN      NaN      NaN      NaN      NaN      NaN   \n",
       "2018-03-01 03:00:00      NaN      NaN      NaN      NaN      NaN      NaN   \n",
       "2018-03-01 04:00:00      NaN      NaN      NaN      NaN      NaN      NaN   \n",
       "2018-03-01 05:00:00      NaN      NaN      NaN      NaN      NaN      NaN   \n",
       "2018-03-01 06:00:00      NaN      NaN      NaN      NaN      NaN      NaN   \n",
       "2018-03-01 07:00:00      NaN      NaN      NaN      NaN      NaN      NaN   \n",
       "2018-03-01 08:00:00      NaN      NaN      NaN      NaN      NaN      NaN   \n",
       "2018-03-01 09:00:00      NaN      NaN      NaN      NaN      NaN      NaN   \n",
       "\n",
       "                     rolling_mean  \n",
       "datetime                           \n",
       "2018-03-01 00:00:00           NaN  \n",
       "2018-03-01 01:00:00           NaN  \n",
       "2018-03-01 02:00:00           NaN  \n",
       "2018-03-01 03:00:00           NaN  \n",
       "2018-03-01 04:00:00           NaN  \n",
       "2018-03-01 05:00:00           NaN  \n",
       "2018-03-01 06:00:00           NaN  \n",
       "2018-03-01 07:00:00           NaN  \n",
       "2018-03-01 08:00:00           NaN  \n",
       "2018-03-01 09:00:00           NaN  \n",
       "\n",
       "[10 rows x 172 columns]"
      ]
     },
     "execution_count": 19,
     "metadata": {},
     "output_type": "execute_result"
    }
   ],
   "source": [
    "df.head(10)"
   ]
  },
  {
   "cell_type": "code",
   "execution_count": 20,
   "metadata": {
    "id": "mLpi89Ltk4yX"
   },
   "outputs": [],
   "source": [
    "#Разделим нашу таблилцу на обучающую и тестовые выборку:\n",
    "train, test = train_test_split(df, shuffle=False, test_size=0.1)\n",
    "train = train.dropna()"
   ]
  },
  {
   "cell_type": "code",
   "execution_count": 21,
   "metadata": {
    "id": "IFr32AaXk4yX"
   },
   "outputs": [],
   "source": [
    "#Определим признаки и целевой признак у обучающей и тестовой выборк\n",
    "x = train.drop(['num_orders'], axis=1)\n",
    "y = train['num_orders']\n",
    "\n",
    "x_test = test.drop(['num_orders'],axis=1)\n",
    "y_test = test['num_orders']"
   ]
  },
  {
   "cell_type": "code",
   "execution_count": 22,
   "metadata": {
    "colab": {
     "base_uri": "https://localhost:8080/",
     "height": 392
    },
    "id": "frBc2iOYk4yY",
    "outputId": "31f92022-a937-4a8d-dc86-52dc74367195"
   },
   "outputs": [
    {
     "data": {
      "text/html": [
       "<div>\n",
       "<style scoped>\n",
       "    .dataframe tbody tr th:only-of-type {\n",
       "        vertical-align: middle;\n",
       "    }\n",
       "\n",
       "    .dataframe tbody tr th {\n",
       "        vertical-align: top;\n",
       "    }\n",
       "\n",
       "    .dataframe thead th {\n",
       "        text-align: right;\n",
       "    }\n",
       "</style>\n",
       "<table border=\"1\" class=\"dataframe\">\n",
       "  <thead>\n",
       "    <tr style=\"text-align: right;\">\n",
       "      <th></th>\n",
       "      <th>num_orders</th>\n",
       "      <th>dayofweek</th>\n",
       "      <th>hour</th>\n",
       "      <th>lag_1</th>\n",
       "      <th>lag_2</th>\n",
       "      <th>lag_3</th>\n",
       "      <th>lag_4</th>\n",
       "      <th>lag_5</th>\n",
       "      <th>lag_6</th>\n",
       "      <th>lag_7</th>\n",
       "      <th>...</th>\n",
       "      <th>lag_160</th>\n",
       "      <th>lag_161</th>\n",
       "      <th>lag_162</th>\n",
       "      <th>lag_163</th>\n",
       "      <th>lag_164</th>\n",
       "      <th>lag_165</th>\n",
       "      <th>lag_166</th>\n",
       "      <th>lag_167</th>\n",
       "      <th>lag_168</th>\n",
       "      <th>rolling_mean</th>\n",
       "    </tr>\n",
       "    <tr>\n",
       "      <th>datetime</th>\n",
       "      <th></th>\n",
       "      <th></th>\n",
       "      <th></th>\n",
       "      <th></th>\n",
       "      <th></th>\n",
       "      <th></th>\n",
       "      <th></th>\n",
       "      <th></th>\n",
       "      <th></th>\n",
       "      <th></th>\n",
       "      <th></th>\n",
       "      <th></th>\n",
       "      <th></th>\n",
       "      <th></th>\n",
       "      <th></th>\n",
       "      <th></th>\n",
       "      <th></th>\n",
       "      <th></th>\n",
       "      <th></th>\n",
       "      <th></th>\n",
       "      <th></th>\n",
       "    </tr>\n",
       "  </thead>\n",
       "  <tbody>\n",
       "    <tr>\n",
       "      <th>2018-08-13 11:00:00</th>\n",
       "      <td>144</td>\n",
       "      <td>0</td>\n",
       "      <td>11</td>\n",
       "      <td>156.0</td>\n",
       "      <td>137.0</td>\n",
       "      <td>91.0</td>\n",
       "      <td>39.0</td>\n",
       "      <td>66.0</td>\n",
       "      <td>83.0</td>\n",
       "      <td>143.0</td>\n",
       "      <td>...</td>\n",
       "      <td>104.0</td>\n",
       "      <td>85.0</td>\n",
       "      <td>133.0</td>\n",
       "      <td>204.0</td>\n",
       "      <td>117.0</td>\n",
       "      <td>98.0</td>\n",
       "      <td>104.0</td>\n",
       "      <td>87.0</td>\n",
       "      <td>131.0</td>\n",
       "      <td>159.3</td>\n",
       "    </tr>\n",
       "    <tr>\n",
       "      <th>2018-08-13 12:00:00</th>\n",
       "      <td>92</td>\n",
       "      <td>0</td>\n",
       "      <td>12</td>\n",
       "      <td>144.0</td>\n",
       "      <td>156.0</td>\n",
       "      <td>137.0</td>\n",
       "      <td>91.0</td>\n",
       "      <td>39.0</td>\n",
       "      <td>66.0</td>\n",
       "      <td>83.0</td>\n",
       "      <td>...</td>\n",
       "      <td>67.0</td>\n",
       "      <td>104.0</td>\n",
       "      <td>85.0</td>\n",
       "      <td>133.0</td>\n",
       "      <td>204.0</td>\n",
       "      <td>117.0</td>\n",
       "      <td>98.0</td>\n",
       "      <td>104.0</td>\n",
       "      <td>87.0</td>\n",
       "      <td>146.4</td>\n",
       "    </tr>\n",
       "    <tr>\n",
       "      <th>2018-08-13 13:00:00</th>\n",
       "      <td>119</td>\n",
       "      <td>0</td>\n",
       "      <td>13</td>\n",
       "      <td>92.0</td>\n",
       "      <td>144.0</td>\n",
       "      <td>156.0</td>\n",
       "      <td>137.0</td>\n",
       "      <td>91.0</td>\n",
       "      <td>39.0</td>\n",
       "      <td>66.0</td>\n",
       "      <td>...</td>\n",
       "      <td>98.0</td>\n",
       "      <td>67.0</td>\n",
       "      <td>104.0</td>\n",
       "      <td>85.0</td>\n",
       "      <td>133.0</td>\n",
       "      <td>204.0</td>\n",
       "      <td>117.0</td>\n",
       "      <td>98.0</td>\n",
       "      <td>104.0</td>\n",
       "      <td>111.9</td>\n",
       "    </tr>\n",
       "  </tbody>\n",
       "</table>\n",
       "<p>3 rows × 172 columns</p>\n",
       "</div>"
      ],
      "text/plain": [
       "                     num_orders  dayofweek  hour  lag_1  lag_2  lag_3  lag_4  \\\n",
       "datetime                                                                       \n",
       "2018-08-13 11:00:00         144          0    11  156.0  137.0   91.0   39.0   \n",
       "2018-08-13 12:00:00          92          0    12  144.0  156.0  137.0   91.0   \n",
       "2018-08-13 13:00:00         119          0    13   92.0  144.0  156.0  137.0   \n",
       "\n",
       "                     lag_5  lag_6  lag_7  ...  lag_160  lag_161  lag_162  \\\n",
       "datetime                                  ...                              \n",
       "2018-08-13 11:00:00   66.0   83.0  143.0  ...    104.0     85.0    133.0   \n",
       "2018-08-13 12:00:00   39.0   66.0   83.0  ...     67.0    104.0     85.0   \n",
       "2018-08-13 13:00:00   91.0   39.0   66.0  ...     98.0     67.0    104.0   \n",
       "\n",
       "                     lag_163  lag_164  lag_165  lag_166  lag_167  lag_168  \\\n",
       "datetime                                                                    \n",
       "2018-08-13 11:00:00    204.0    117.0     98.0    104.0     87.0    131.0   \n",
       "2018-08-13 12:00:00    133.0    204.0    117.0     98.0    104.0     87.0   \n",
       "2018-08-13 13:00:00     85.0    133.0    204.0    117.0     98.0    104.0   \n",
       "\n",
       "                     rolling_mean  \n",
       "datetime                           \n",
       "2018-08-13 11:00:00         159.3  \n",
       "2018-08-13 12:00:00         146.4  \n",
       "2018-08-13 13:00:00         111.9  \n",
       "\n",
       "[3 rows x 172 columns]"
      ]
     },
     "metadata": {},
     "output_type": "display_data"
    },
    {
     "data": {
      "text/html": [
       "<div>\n",
       "<style scoped>\n",
       "    .dataframe tbody tr th:only-of-type {\n",
       "        vertical-align: middle;\n",
       "    }\n",
       "\n",
       "    .dataframe tbody tr th {\n",
       "        vertical-align: top;\n",
       "    }\n",
       "\n",
       "    .dataframe thead th {\n",
       "        text-align: right;\n",
       "    }\n",
       "</style>\n",
       "<table border=\"1\" class=\"dataframe\">\n",
       "  <thead>\n",
       "    <tr style=\"text-align: right;\">\n",
       "      <th></th>\n",
       "      <th>num_orders</th>\n",
       "      <th>dayofweek</th>\n",
       "      <th>hour</th>\n",
       "      <th>lag_1</th>\n",
       "      <th>lag_2</th>\n",
       "      <th>lag_3</th>\n",
       "      <th>lag_4</th>\n",
       "      <th>lag_5</th>\n",
       "      <th>lag_6</th>\n",
       "      <th>lag_7</th>\n",
       "      <th>...</th>\n",
       "      <th>lag_160</th>\n",
       "      <th>lag_161</th>\n",
       "      <th>lag_162</th>\n",
       "      <th>lag_163</th>\n",
       "      <th>lag_164</th>\n",
       "      <th>lag_165</th>\n",
       "      <th>lag_166</th>\n",
       "      <th>lag_167</th>\n",
       "      <th>lag_168</th>\n",
       "      <th>rolling_mean</th>\n",
       "    </tr>\n",
       "    <tr>\n",
       "      <th>datetime</th>\n",
       "      <th></th>\n",
       "      <th></th>\n",
       "      <th></th>\n",
       "      <th></th>\n",
       "      <th></th>\n",
       "      <th></th>\n",
       "      <th></th>\n",
       "      <th></th>\n",
       "      <th></th>\n",
       "      <th></th>\n",
       "      <th></th>\n",
       "      <th></th>\n",
       "      <th></th>\n",
       "      <th></th>\n",
       "      <th></th>\n",
       "      <th></th>\n",
       "      <th></th>\n",
       "      <th></th>\n",
       "      <th></th>\n",
       "      <th></th>\n",
       "      <th></th>\n",
       "    </tr>\n",
       "  </thead>\n",
       "  <tbody>\n",
       "    <tr>\n",
       "      <th>2018-08-13 14:00:00</th>\n",
       "      <td>102</td>\n",
       "      <td>0</td>\n",
       "      <td>14</td>\n",
       "      <td>119.0</td>\n",
       "      <td>92.0</td>\n",
       "      <td>144.0</td>\n",
       "      <td>156.0</td>\n",
       "      <td>137.0</td>\n",
       "      <td>91.0</td>\n",
       "      <td>39.0</td>\n",
       "      <td>...</td>\n",
       "      <td>101.0</td>\n",
       "      <td>98.0</td>\n",
       "      <td>67.0</td>\n",
       "      <td>104.0</td>\n",
       "      <td>85.0</td>\n",
       "      <td>133.0</td>\n",
       "      <td>204.0</td>\n",
       "      <td>117.0</td>\n",
       "      <td>98.0</td>\n",
       "      <td>107.0</td>\n",
       "    </tr>\n",
       "    <tr>\n",
       "      <th>2018-08-13 15:00:00</th>\n",
       "      <td>175</td>\n",
       "      <td>0</td>\n",
       "      <td>15</td>\n",
       "      <td>102.0</td>\n",
       "      <td>119.0</td>\n",
       "      <td>92.0</td>\n",
       "      <td>144.0</td>\n",
       "      <td>156.0</td>\n",
       "      <td>137.0</td>\n",
       "      <td>91.0</td>\n",
       "      <td>...</td>\n",
       "      <td>119.0</td>\n",
       "      <td>101.0</td>\n",
       "      <td>98.0</td>\n",
       "      <td>67.0</td>\n",
       "      <td>104.0</td>\n",
       "      <td>85.0</td>\n",
       "      <td>133.0</td>\n",
       "      <td>204.0</td>\n",
       "      <td>117.0</td>\n",
       "      <td>102.9</td>\n",
       "    </tr>\n",
       "    <tr>\n",
       "      <th>2018-08-13 16:00:00</th>\n",
       "      <td>144</td>\n",
       "      <td>0</td>\n",
       "      <td>16</td>\n",
       "      <td>175.0</td>\n",
       "      <td>102.0</td>\n",
       "      <td>119.0</td>\n",
       "      <td>92.0</td>\n",
       "      <td>144.0</td>\n",
       "      <td>156.0</td>\n",
       "      <td>137.0</td>\n",
       "      <td>...</td>\n",
       "      <td>156.0</td>\n",
       "      <td>119.0</td>\n",
       "      <td>101.0</td>\n",
       "      <td>98.0</td>\n",
       "      <td>67.0</td>\n",
       "      <td>104.0</td>\n",
       "      <td>85.0</td>\n",
       "      <td>133.0</td>\n",
       "      <td>204.0</td>\n",
       "      <td>112.1</td>\n",
       "    </tr>\n",
       "  </tbody>\n",
       "</table>\n",
       "<p>3 rows × 172 columns</p>\n",
       "</div>"
      ],
      "text/plain": [
       "                     num_orders  dayofweek  hour  lag_1  lag_2  lag_3  lag_4  \\\n",
       "datetime                                                                       \n",
       "2018-08-13 14:00:00         102          0    14  119.0   92.0  144.0  156.0   \n",
       "2018-08-13 15:00:00         175          0    15  102.0  119.0   92.0  144.0   \n",
       "2018-08-13 16:00:00         144          0    16  175.0  102.0  119.0   92.0   \n",
       "\n",
       "                     lag_5  lag_6  lag_7  ...  lag_160  lag_161  lag_162  \\\n",
       "datetime                                  ...                              \n",
       "2018-08-13 14:00:00  137.0   91.0   39.0  ...    101.0     98.0     67.0   \n",
       "2018-08-13 15:00:00  156.0  137.0   91.0  ...    119.0    101.0     98.0   \n",
       "2018-08-13 16:00:00  144.0  156.0  137.0  ...    156.0    119.0    101.0   \n",
       "\n",
       "                     lag_163  lag_164  lag_165  lag_166  lag_167  lag_168  \\\n",
       "datetime                                                                    \n",
       "2018-08-13 14:00:00    104.0     85.0    133.0    204.0    117.0     98.0   \n",
       "2018-08-13 15:00:00     67.0    104.0     85.0    133.0    204.0    117.0   \n",
       "2018-08-13 16:00:00     98.0     67.0    104.0     85.0    133.0    204.0   \n",
       "\n",
       "                     rolling_mean  \n",
       "datetime                           \n",
       "2018-08-13 14:00:00         107.0  \n",
       "2018-08-13 15:00:00         102.9  \n",
       "2018-08-13 16:00:00         112.1  \n",
       "\n",
       "[3 rows x 172 columns]"
      ]
     },
     "metadata": {},
     "output_type": "display_data"
    }
   ],
   "source": [
    "#Проверим правильно ли расположены временные даннные\n",
    "display(train.tail(3))\n",
    "display(test.head(3))"
   ]
  },
  {
   "cell_type": "code",
   "execution_count": 23,
   "metadata": {
    "colab": {
     "base_uri": "https://localhost:8080/"
    },
    "id": "GH2YBB6sk4yZ",
    "outputId": "72565c87-20b8-49a1-eac7-f016c1749ca6",
    "scrolled": true
   },
   "outputs": [
    {
     "name": "stdout",
     "output_type": "stream",
     "text": [
      "Размер обучающей выборки: 3806 объектов, 171 признаков\n",
      "Размер тестовой выборки: 442 объектов, 171 признаков\n"
     ]
    }
   ],
   "source": [
    "#Размеры обучающей и тестовой выборки\n",
    "print('Размер обучающей выборки: {} объектов, {} признаков'.format(x.shape[0], x.shape[1]))\n",
    "print('Размер тестовой выборки: {} объектов, {} признаков'.format(x_test.shape[0], x_test.shape[1]))"
   ]
  },
  {
   "cell_type": "markdown",
   "metadata": {
    "id": "sqkCDP55k4yl"
   },
   "source": [
    "**Обучение**"
   ]
  },
  {
   "cell_type": "code",
   "execution_count": 24,
   "metadata": {
    "id": "7djV84wOui41"
   },
   "outputs": [],
   "source": [
    "tscv = TimeSeriesSplit(n_splits=5)\n",
    "\n",
    "def model_analysis(model, parameters, x, y):\n",
    "    start_time = time.time()\n",
    "    grid = GridSearchCV(model, param_grid = parameters,\n",
    "                        cv=tscv,\n",
    "                        n_jobs=-1,\n",
    "                        scoring = 'neg_root_mean_squared_error')\n",
    "    grid.fit(x, y)\n",
    "    first_time = time.time() - start_time\n",
    "    start_time = time.time()\n",
    "    predict = grid.predict(x)\n",
    "    second_time = time.time() - start_time\n",
    "    stat_data = [first_time, second_time, grid.best_score_]\n",
    "    return stat_data, grid"
   ]
  },
  {
   "cell_type": "markdown",
   "metadata": {
    "id": "IOJHmtZqk4yy"
   },
   "source": [
    "**LinearRegression**"
   ]
  },
  {
   "cell_type": "code",
   "execution_count": 25,
   "metadata": {
    "id": "y3lCGWIjui42"
   },
   "outputs": [],
   "source": [
    "lr = LinearRegression()\n",
    "param_lr = {}"
   ]
  },
  {
   "cell_type": "code",
   "execution_count": 26,
   "metadata": {
    "id": "O40SRf4mui43"
   },
   "outputs": [],
   "source": [
    "model_lr, grid_lr = model_analysis(lr, param_lr, x, y)"
   ]
  },
  {
   "cell_type": "code",
   "execution_count": 27,
   "metadata": {
    "colab": {
     "base_uri": "https://localhost:8080/",
     "height": 119
    },
    "id": "LOW5HpNKui43",
    "outputId": "37762a7e-0651-4ee5-ef15-05ed6aedb5ab",
    "scrolled": false
   },
   "outputs": [
    {
     "data": {
      "text/plain": [
       "GridSearchCV(cv=TimeSeriesSplit(gap=0, max_train_size=None, n_splits=5, test_size=None),\n",
       "             estimator=LinearRegression(), n_jobs=-1, param_grid={},\n",
       "             scoring='neg_root_mean_squared_error')"
      ]
     },
     "execution_count": 27,
     "metadata": {},
     "output_type": "execute_result"
    }
   ],
   "source": [
    "grid_lr"
   ]
  },
  {
   "cell_type": "code",
   "execution_count": 28,
   "metadata": {
    "colab": {
     "base_uri": "https://localhost:8080/"
    },
    "id": "bSBxSEO5ui44",
    "outputId": "32919821-8c5c-4f76-adea-a13f3f242ac2"
   },
   "outputs": [
    {
     "data": {
      "text/plain": [
       "[3.682936668395996, 0.11616301536560059, -22.627523499578512]"
      ]
     },
     "execution_count": 28,
     "metadata": {},
     "output_type": "execute_result"
    }
   ],
   "source": [
    "model_lr"
   ]
  },
  {
   "cell_type": "markdown",
   "metadata": {
    "id": "5j1CVFT8k4y0"
   },
   "source": [
    " **Ridge**"
   ]
  },
  {
   "cell_type": "code",
   "execution_count": 29,
   "metadata": {
    "id": "WMwb8t0mk4y0"
   },
   "outputs": [],
   "source": [
    "ridge = Ridge()\n"
   ]
  },
  {
   "cell_type": "code",
   "execution_count": 30,
   "metadata": {
    "id": "lXuUpEIdk4y0"
   },
   "outputs": [],
   "source": [
    "param_ridge = {\n",
    "    'alpha': np.arange(0, 0.21, 0.01),\n",
    "    'random_state' : [state]\n",
    "}"
   ]
  },
  {
   "cell_type": "code",
   "execution_count": 31,
   "metadata": {
    "id": "oOn9Fo5fk4zG"
   },
   "outputs": [],
   "source": [
    "model_ridge, grid_ridge = model_analysis(ridge, param_ridge, x, y)"
   ]
  },
  {
   "cell_type": "code",
   "execution_count": 32,
   "metadata": {
    "colab": {
     "base_uri": "https://localhost:8080/",
     "height": 119
    },
    "id": "sPXPlxYEui46",
    "outputId": "a056e25a-de24-4032-967a-9ee47bf3cf58"
   },
   "outputs": [
    {
     "data": {
      "text/plain": [
       "GridSearchCV(cv=TimeSeriesSplit(gap=0, max_train_size=None, n_splits=5, test_size=None),\n",
       "             estimator=Ridge(), n_jobs=-1,\n",
       "             param_grid={'alpha': array([0.  , 0.01, 0.02, 0.03, 0.04, 0.05, 0.06, 0.07, 0.08, 0.09, 0.1 ,\n",
       "       0.11, 0.12, 0.13, 0.14, 0.15, 0.16, 0.17, 0.18, 0.19, 0.2 ]),\n",
       "                         'random_state': [888]},\n",
       "             scoring='neg_root_mean_squared_error')"
      ]
     },
     "execution_count": 32,
     "metadata": {},
     "output_type": "execute_result"
    }
   ],
   "source": [
    "grid_ridge"
   ]
  },
  {
   "cell_type": "code",
   "execution_count": 33,
   "metadata": {
    "colab": {
     "base_uri": "https://localhost:8080/"
    },
    "id": "T2tVPx1uui46",
    "outputId": "e6fb8dfa-7498-4b08-d774-b19d0fac209c"
   },
   "outputs": [
    {
     "data": {
      "text/plain": [
       "[36.14596366882324, 0.09465217590332031, -22.52912480202953]"
      ]
     },
     "execution_count": 33,
     "metadata": {},
     "output_type": "execute_result"
    }
   ],
   "source": [
    "model_ridge"
   ]
  },
  {
   "cell_type": "markdown",
   "metadata": {
    "id": "yk3aebK8k4zO"
   },
   "source": [
    "**LightGBM** "
   ]
  },
  {
   "cell_type": "markdown",
   "metadata": {},
   "source": [
    "Данная модель у меня быстро считает исключительно в Гугл Коллаб. В Jupyterhub постоянно падает даже без подбора гипер параметров. В дальнейшем планирую отказаться от этой модели в проектах, т.к. она мне второй проект делает мозг(((."
   ]
  },
  {
   "cell_type": "code",
   "execution_count": 34,
   "metadata": {
    "id": "I62j6BJmk4zP"
   },
   "outputs": [],
   "source": [
    "lgbm = LGBMRegressor()"
   ]
  },
  {
   "cell_type": "code",
   "execution_count": 35,
   "metadata": {
    "id": "oYDup9nOk4zP"
   },
   "outputs": [],
   "source": [
    "param_lgbm = {\n",
    "    'n_estimators': [25,80,220],\n",
    "    'learning_rate': [0.12],\n",
    "    'random_state' : [state]\n",
    "}"
   ]
  },
  {
   "cell_type": "code",
   "execution_count": null,
   "metadata": {
    "colab": {
     "base_uri": "https://localhost:8080/"
    },
    "id": "um5ILSXGui48",
    "outputId": "d2d39fd2-5860-4165-af95-119fff98e08b"
   },
   "outputs": [],
   "source": [
    "model_lgbm, grid_lgbm = model_analysis(lgbm, param_lgbm, x, y)"
   ]
  },
  {
   "cell_type": "code",
   "execution_count": null,
   "metadata": {
    "colab": {
     "base_uri": "https://localhost:8080/",
     "height": 119
    },
    "id": "OM0o7uCxui48",
    "outputId": "61cafd79-50e9-4c3e-9152-0a32792de4c6"
   },
   "outputs": [],
   "source": [
    "grid_lgbm"
   ]
  },
  {
   "cell_type": "code",
   "execution_count": null,
   "metadata": {
    "colab": {
     "base_uri": "https://localhost:8080/"
    },
    "id": "prr5jDgGui48",
    "outputId": "666231f8-9edc-4d0d-9ab5-b91806407174"
   },
   "outputs": [],
   "source": [
    "model_lgbm"
   ]
  },
  {
   "cell_type": "markdown",
   "metadata": {
    "id": "MurWln_Dk4zU"
   },
   "source": [
    "**Random Forest**"
   ]
  },
  {
   "cell_type": "code",
   "execution_count": null,
   "metadata": {
    "id": "ZaIB9MOfk4zV"
   },
   "outputs": [],
   "source": [
    "forest = RandomForestRegressor()"
   ]
  },
  {
   "cell_type": "code",
   "execution_count": null,
   "metadata": {
    "id": "x35L4QGTk4zW"
   },
   "outputs": [],
   "source": [
    "param_forest = {\n",
    "    'n_estimators': [80, 120, 100],\n",
    "    'max_depth': [13, 22, 33],\n",
    "    'max_features': [3, 6, 9],\n",
    "    'random_state' : [state]\n",
    "}"
   ]
  },
  {
   "cell_type": "code",
   "execution_count": null,
   "metadata": {
    "id": "TvIfrDSkk4zW"
   },
   "outputs": [],
   "source": [
    "model_forest, grid_forest = model_analysis(forest, param_forest, x, y)"
   ]
  },
  {
   "cell_type": "code",
   "execution_count": null,
   "metadata": {
    "colab": {
     "base_uri": "https://localhost:8080/",
     "height": 119
    },
    "id": "uIRJnuIRui4-",
    "outputId": "9cca5b24-dae7-44d5-a363-09ce54f4052d"
   },
   "outputs": [],
   "source": [
    "grid_forest"
   ]
  },
  {
   "cell_type": "code",
   "execution_count": null,
   "metadata": {
    "colab": {
     "base_uri": "https://localhost:8080/"
    },
    "id": "B9TYBVKfui4_",
    "outputId": "f5c7069b-8e27-4f69-a440-99de4b8117c0"
   },
   "outputs": [],
   "source": [
    "model_forest"
   ]
  },
  {
   "cell_type": "markdown",
   "metadata": {
    "id": "iLjXtb2Gk4za"
   },
   "source": [
    "**Результаты**"
   ]
  },
  {
   "cell_type": "code",
   "execution_count": null,
   "metadata": {
    "id": "fLpvT_PXk4zb"
   },
   "outputs": [],
   "source": [
    "#для Гугл колаб\n",
    "# results_df =  analysis_data = pd.DataFrame([model_lr, model_ridge, model_lgbm, model_forest],\n",
    "#              columns=['Learning Time', 'Predicting Time', 'RMSE'],\n",
    "#                       index=['LinearRegression','Ridge','LightGBM','Random Forest'])"
   ]
  },
  {
   "cell_type": "code",
   "execution_count": null,
   "metadata": {},
   "outputs": [],
   "source": [
    "#для Jupyterhub\n",
    "results_df =  analysis_data = pd.DataFrame([model_lr, model_ridge, model_forest],\n",
    "             columns=['Learning Time', 'Predicting Time', 'RMSE'],\n",
    "                      index=['LinearRegression','Ridge','Random Forest'])"
   ]
  },
  {
   "cell_type": "code",
   "execution_count": null,
   "metadata": {
    "colab": {
     "base_uri": "https://localhost:8080/",
     "height": 175
    },
    "id": "CpZGdZh0k4zc",
    "outputId": "ab5bc17f-e3ad-484b-f9cf-16c4e4612a85"
   },
   "outputs": [],
   "source": [
    "results_df"
   ]
  },
  {
   "cell_type": "markdown",
   "metadata": {},
   "source": [
    "Модель LightGBM у меня работает только в ГуглКолаб(((."
   ]
  },
  {
   "cell_type": "markdown",
   "metadata": {
    "id": "Utz2VPvSqfNi"
   },
   "source": [
    "**Вывод**\n",
    "\n",
    "Все модели показали достойный результат, но стоит выделить это модели `LightGBM` и `Random Forest`.\n",
    "\n",
    "Основным кретерием у заказчика является показатель `RMSE`, то лучшей моделью является `Random Forest`. Заказчик не выдвигал требования по скорости обучения и предсказания, эти данные были созданы больше для наглядности и на итоговое решение никак не влияют."
   ]
  },
  {
   "cell_type": "markdown",
   "metadata": {
    "id": "k_5ihIk0k4zd"
   },
   "source": [
    "## Тестирование"
   ]
  },
  {
   "cell_type": "code",
   "execution_count": null,
   "metadata": {
    "id": "CJyNwZuOSCtP"
   },
   "outputs": [],
   "source": [
    "forest_test = grid_forest.predict(x_test)"
   ]
  },
  {
   "cell_type": "code",
   "execution_count": null,
   "metadata": {
    "colab": {
     "base_uri": "https://localhost:8080/"
    },
    "id": "5nVJuf5Dwacf",
    "outputId": "cbaa20f5-21cf-48b6-fc73-b1b0a29cc7f3"
   },
   "outputs": [],
   "source": [
    "print('rmse', np.sqrt(mean_squared_error(y_test, forest_test)))"
   ]
  },
  {
   "cell_type": "code",
   "execution_count": null,
   "metadata": {
    "colab": {
     "base_uri": "https://localhost:8080/",
     "height": 640
    },
    "id": "YBUgZiegtNdH",
    "outputId": "40842f90-4d4a-4ea6-ba53-974b11bbfed3"
   },
   "outputs": [],
   "source": [
    "graph = y_test.copy()\n",
    "predictions_taxi = pd.DataFrame(data = forest_test, columns = ['predictions'], index = x_test.index.copy())\n",
    "df_out = pd.merge(graph, predictions_taxi, how = 'left', left_index = True, right_index = True)\n",
    "df_out['predictions'] = df_out['predictions'].astype('int64')\n",
    "df_out['2018-08-15':'2018-08-17'].plot()\n",
    "plt.show()"
   ]
  },
  {
   "cell_type": "markdown",
   "metadata": {
    "id": "owQjhZYIRGmb"
   },
   "source": [
    "**Вывод**\n",
    "\n",
    "Как видно по графику, наша модель достаточно хорошо попадает в реальные заказы. Конечно есть погрешности, которые можно исправить. Но в целом дает хороший результат."
   ]
  }
 ],
 "metadata": {
  "ExecuteTimeLog": [
   {
    "duration": 905,
    "start_time": "2023-10-09T12:27:05.751Z"
   },
   {
    "duration": 4,
    "start_time": "2023-10-09T12:29:22.869Z"
   },
   {
    "duration": 114,
    "start_time": "2023-10-09T12:29:29.244Z"
   },
   {
    "duration": 3,
    "start_time": "2023-10-09T12:29:34.078Z"
   },
   {
    "duration": 160,
    "start_time": "2023-10-09T12:29:34.765Z"
   },
   {
    "duration": 3,
    "start_time": "2023-10-09T12:31:49.635Z"
   },
   {
    "duration": 3,
    "start_time": "2023-10-09T12:32:45.081Z"
   },
   {
    "duration": 12,
    "start_time": "2023-10-09T12:32:54.402Z"
   },
   {
    "duration": 10,
    "start_time": "2023-10-09T12:35:41.864Z"
   },
   {
    "duration": 3,
    "start_time": "2023-10-09T12:35:47.266Z"
   },
   {
    "duration": 3,
    "start_time": "2023-10-09T12:37:39.370Z"
   },
   {
    "duration": 3,
    "start_time": "2023-10-09T12:38:21.264Z"
   },
   {
    "duration": 11,
    "start_time": "2023-10-09T12:38:40.369Z"
   },
   {
    "duration": 5,
    "start_time": "2023-10-09T12:38:59.880Z"
   },
   {
    "duration": 5,
    "start_time": "2023-10-09T12:39:23.433Z"
   },
   {
    "duration": 5,
    "start_time": "2023-10-09T12:39:39.067Z"
   },
   {
    "duration": 4,
    "start_time": "2023-10-09T12:40:03.810Z"
   },
   {
    "duration": 4,
    "start_time": "2023-10-09T12:40:55.005Z"
   },
   {
    "duration": 9,
    "start_time": "2023-10-09T12:45:37.720Z"
   },
   {
    "duration": 6,
    "start_time": "2023-10-09T12:45:46.874Z"
   },
   {
    "duration": 4,
    "start_time": "2023-10-09T16:36:03.147Z"
   },
   {
    "duration": 264,
    "start_time": "2023-10-09T16:39:48.177Z"
   },
   {
    "duration": 4,
    "start_time": "2023-10-09T16:40:08.082Z"
   },
   {
    "duration": 285,
    "start_time": "2023-10-09T16:40:12.403Z"
   },
   {
    "duration": 4,
    "start_time": "2023-10-09T16:40:22.427Z"
   },
   {
    "duration": 560,
    "start_time": "2023-10-09T16:40:27.641Z"
   },
   {
    "duration": 9,
    "start_time": "2023-10-09T16:43:38.834Z"
   },
   {
    "duration": 674,
    "start_time": "2023-10-09T16:44:19.989Z"
   },
   {
    "duration": 204,
    "start_time": "2023-10-09T16:54:10.339Z"
   },
   {
    "duration": 907,
    "start_time": "2023-10-09T16:54:29.451Z"
   },
   {
    "duration": 1231,
    "start_time": "2023-10-09T16:54:51.722Z"
   },
   {
    "duration": 13,
    "start_time": "2023-10-09T17:03:46.926Z"
   },
   {
    "duration": 7,
    "start_time": "2023-10-09T17:04:44.817Z"
   },
   {
    "duration": 12,
    "start_time": "2023-10-09T17:05:06.593Z"
   },
   {
    "duration": 13,
    "start_time": "2023-10-09T17:05:15.596Z"
   },
   {
    "duration": 5,
    "start_time": "2023-10-09T17:05:18.830Z"
   },
   {
    "duration": 14,
    "start_time": "2023-10-09T17:05:19.280Z"
   },
   {
    "duration": 10,
    "start_time": "2023-10-09T17:05:23.689Z"
   },
   {
    "duration": 1530,
    "start_time": "2023-10-09T17:05:40.051Z"
   },
   {
    "duration": 138,
    "start_time": "2023-10-09T17:05:41.583Z"
   },
   {
    "duration": 3,
    "start_time": "2023-10-09T17:05:41.722Z"
   },
   {
    "duration": 18,
    "start_time": "2023-10-09T17:05:41.727Z"
   },
   {
    "duration": 6,
    "start_time": "2023-10-09T17:05:41.748Z"
   },
   {
    "duration": 11,
    "start_time": "2023-10-09T17:05:41.756Z"
   },
   {
    "duration": 9,
    "start_time": "2023-10-09T17:05:41.768Z"
   },
   {
    "duration": 11,
    "start_time": "2023-10-09T17:05:41.778Z"
   },
   {
    "duration": 19,
    "start_time": "2023-10-09T17:05:41.791Z"
   },
   {
    "duration": 69,
    "start_time": "2023-10-09T17:05:41.812Z"
   },
   {
    "duration": 12,
    "start_time": "2023-10-09T17:05:41.884Z"
   },
   {
    "duration": 10,
    "start_time": "2023-10-09T17:05:41.898Z"
   },
   {
    "duration": 402,
    "start_time": "2023-10-09T17:05:41.910Z"
   },
   {
    "duration": 7,
    "start_time": "2023-10-09T17:05:42.315Z"
   },
   {
    "duration": 1195,
    "start_time": "2023-10-09T17:05:42.323Z"
   },
   {
    "duration": 5,
    "start_time": "2023-10-09T17:05:43.521Z"
   },
   {
    "duration": 62,
    "start_time": "2023-10-09T17:05:43.528Z"
   },
   {
    "duration": 131,
    "start_time": "2023-10-09T17:05:43.593Z"
   },
   {
    "duration": 10,
    "start_time": "2023-10-09T17:05:58.671Z"
   },
   {
    "duration": 4,
    "start_time": "2023-10-09T17:07:43.904Z"
   },
   {
    "duration": 16,
    "start_time": "2023-10-09T17:07:44.488Z"
   },
   {
    "duration": 5,
    "start_time": "2023-10-09T17:09:25.978Z"
   },
   {
    "duration": 12,
    "start_time": "2023-10-09T17:09:26.580Z"
   },
   {
    "duration": 6,
    "start_time": "2023-10-09T17:09:56.208Z"
   },
   {
    "duration": 19,
    "start_time": "2023-10-09T17:09:56.637Z"
   },
   {
    "duration": 4,
    "start_time": "2023-10-09T17:10:38.685Z"
   },
   {
    "duration": 12,
    "start_time": "2023-10-09T17:10:39.727Z"
   },
   {
    "duration": 9,
    "start_time": "2023-10-09T17:10:48.371Z"
   },
   {
    "duration": 5,
    "start_time": "2023-10-09T17:11:04.379Z"
   },
   {
    "duration": 14,
    "start_time": "2023-10-09T17:11:04.888Z"
   },
   {
    "duration": 1752,
    "start_time": "2023-10-09T17:12:53.270Z"
   },
   {
    "duration": 96,
    "start_time": "2023-10-09T17:12:55.024Z"
   },
   {
    "duration": 3,
    "start_time": "2023-10-09T17:12:55.123Z"
   },
   {
    "duration": 29,
    "start_time": "2023-10-09T17:12:55.127Z"
   },
   {
    "duration": 14,
    "start_time": "2023-10-09T17:12:55.158Z"
   },
   {
    "duration": 26,
    "start_time": "2023-10-09T17:12:55.174Z"
   },
   {
    "duration": 29,
    "start_time": "2023-10-09T17:12:55.201Z"
   },
   {
    "duration": 30,
    "start_time": "2023-10-09T17:12:55.232Z"
   },
   {
    "duration": 6,
    "start_time": "2023-10-09T17:12:55.265Z"
   },
   {
    "duration": 12,
    "start_time": "2023-10-09T17:12:55.273Z"
   },
   {
    "duration": 30,
    "start_time": "2023-10-09T17:12:55.286Z"
   },
   {
    "duration": 143,
    "start_time": "2023-10-09T17:12:55.318Z"
   },
   {
    "duration": 328,
    "start_time": "2023-10-09T17:12:55.464Z"
   },
   {
    "duration": 7,
    "start_time": "2023-10-09T17:12:55.795Z"
   },
   {
    "duration": 1380,
    "start_time": "2023-10-09T17:12:55.804Z"
   },
   {
    "duration": 5,
    "start_time": "2023-10-09T17:12:57.187Z"
   },
   {
    "duration": 26,
    "start_time": "2023-10-09T17:12:57.194Z"
   },
   {
    "duration": 27,
    "start_time": "2023-10-09T17:12:57.222Z"
   },
   {
    "duration": 29,
    "start_time": "2023-10-09T17:13:23.805Z"
   },
   {
    "duration": 33,
    "start_time": "2023-10-09T17:13:48.292Z"
   },
   {
    "duration": 29,
    "start_time": "2023-10-09T17:14:00.664Z"
   },
   {
    "duration": 15,
    "start_time": "2023-10-09T17:14:16.383Z"
   },
   {
    "duration": 28,
    "start_time": "2023-10-09T17:14:16.983Z"
   },
   {
    "duration": 9,
    "start_time": "2023-10-09T17:18:48.977Z"
   },
   {
    "duration": 4,
    "start_time": "2023-10-09T17:19:39.985Z"
   },
   {
    "duration": 41,
    "start_time": "2023-10-09T17:20:23.398Z"
   },
   {
    "duration": 152,
    "start_time": "2023-10-09T17:21:52.115Z"
   },
   {
    "duration": 3,
    "start_time": "2023-10-09T17:22:03.274Z"
   },
   {
    "duration": 4,
    "start_time": "2023-10-09T17:25:47.622Z"
   },
   {
    "duration": 3,
    "start_time": "2023-10-09T17:30:30.222Z"
   },
   {
    "duration": 146265,
    "start_time": "2023-10-09T17:30:31.547Z"
   },
   {
    "duration": 3,
    "start_time": "2023-10-09T17:32:57.814Z"
   },
   {
    "duration": 179,
    "start_time": "2023-10-09T17:33:00.947Z"
   },
   {
    "duration": 10,
    "start_time": "2023-10-09T17:34:50.984Z"
   },
   {
    "duration": 5,
    "start_time": "2023-10-09T17:35:23.471Z"
   },
   {
    "duration": 3,
    "start_time": "2023-10-09T17:35:30.676Z"
   },
   {
    "duration": 85,
    "start_time": "2023-10-09T17:35:31.876Z"
   },
   {
    "duration": 5,
    "start_time": "2023-10-09T17:35:41.632Z"
   },
   {
    "duration": 3,
    "start_time": "2023-10-09T17:38:21.917Z"
   },
   {
    "duration": 3,
    "start_time": "2023-10-09T17:38:24.038Z"
   },
   {
    "duration": 3,
    "start_time": "2023-10-09T17:39:05.598Z"
   },
   {
    "duration": 10969,
    "start_time": "2023-10-09T17:39:47.792Z"
   },
   {
    "duration": 6,
    "start_time": "2023-10-09T17:40:14.686Z"
   },
   {
    "duration": 6,
    "start_time": "2023-10-09T17:40:21.380Z"
   },
   {
    "duration": 2,
    "start_time": "2023-10-09T17:41:08.196Z"
   },
   {
    "duration": 13,
    "start_time": "2023-10-09T17:41:48.291Z"
   },
   {
    "duration": 5,
    "start_time": "2023-10-09T17:42:00.394Z"
   },
   {
    "duration": 2,
    "start_time": "2023-10-09T17:43:10.113Z"
   },
   {
    "duration": 5,
    "start_time": "2023-10-09T17:43:12.189Z"
   },
   {
    "duration": 4,
    "start_time": "2023-10-09T17:43:30.120Z"
   },
   {
    "duration": 20,
    "start_time": "2023-10-09T17:43:44.370Z"
   },
   {
    "duration": 121,
    "start_time": "2023-10-09T17:43:53.026Z"
   },
   {
    "duration": 4,
    "start_time": "2023-10-09T17:44:18.947Z"
   },
   {
    "duration": 3,
    "start_time": "2023-10-09T17:44:19.487Z"
   },
   {
    "duration": 401275,
    "start_time": "2023-10-09T17:44:20.431Z"
   },
   {
    "duration": 0,
    "start_time": "2023-10-09T17:51:01.708Z"
   },
   {
    "duration": 0,
    "start_time": "2023-10-09T17:51:01.710Z"
   },
   {
    "duration": 0,
    "start_time": "2023-10-09T17:51:01.711Z"
   },
   {
    "duration": 0,
    "start_time": "2023-10-09T17:51:01.712Z"
   },
   {
    "duration": 0,
    "start_time": "2023-10-09T17:51:01.714Z"
   },
   {
    "duration": 0,
    "start_time": "2023-10-09T17:51:01.715Z"
   },
   {
    "duration": 0,
    "start_time": "2023-10-09T17:51:01.717Z"
   },
   {
    "duration": 0,
    "start_time": "2023-10-09T17:51:01.718Z"
   },
   {
    "duration": 3,
    "start_time": "2023-10-09T17:51:06.141Z"
   },
   {
    "duration": 4,
    "start_time": "2023-10-09T17:51:12.994Z"
   },
   {
    "duration": 3,
    "start_time": "2023-10-09T17:51:13.894Z"
   },
   {
    "duration": 1781,
    "start_time": "2023-10-10T12:06:40.197Z"
   },
   {
    "duration": 157,
    "start_time": "2023-10-10T12:06:41.980Z"
   },
   {
    "duration": 3,
    "start_time": "2023-10-10T12:06:42.138Z"
   },
   {
    "duration": 11,
    "start_time": "2023-10-10T12:06:42.143Z"
   },
   {
    "duration": 3,
    "start_time": "2023-10-10T12:06:42.156Z"
   },
   {
    "duration": 16,
    "start_time": "2023-10-10T12:06:42.161Z"
   },
   {
    "duration": 7,
    "start_time": "2023-10-10T12:06:42.179Z"
   },
   {
    "duration": 4,
    "start_time": "2023-10-10T12:06:42.188Z"
   },
   {
    "duration": 3,
    "start_time": "2023-10-10T12:06:42.194Z"
   },
   {
    "duration": 14,
    "start_time": "2023-10-10T12:06:42.199Z"
   },
   {
    "duration": 7,
    "start_time": "2023-10-10T12:06:42.240Z"
   },
   {
    "duration": 8,
    "start_time": "2023-10-10T12:06:42.249Z"
   },
   {
    "duration": 372,
    "start_time": "2023-10-10T12:06:42.258Z"
   },
   {
    "duration": 12,
    "start_time": "2023-10-10T12:06:42.632Z"
   },
   {
    "duration": 1124,
    "start_time": "2023-10-10T12:06:42.646Z"
   },
   {
    "duration": 4,
    "start_time": "2023-10-10T12:06:43.772Z"
   },
   {
    "duration": 110,
    "start_time": "2023-10-10T12:06:43.777Z"
   },
   {
    "duration": 24,
    "start_time": "2023-10-10T12:06:43.888Z"
   },
   {
    "duration": 83,
    "start_time": "2023-10-10T12:06:43.914Z"
   },
   {
    "duration": 8,
    "start_time": "2023-10-10T12:06:43.999Z"
   },
   {
    "duration": 61,
    "start_time": "2023-10-10T12:06:44.009Z"
   },
   {
    "duration": 4,
    "start_time": "2023-10-10T12:06:44.072Z"
   },
   {
    "duration": 9,
    "start_time": "2023-10-10T12:06:44.078Z"
   },
   {
    "duration": 5,
    "start_time": "2023-10-10T12:06:44.088Z"
   },
   {
    "duration": 4,
    "start_time": "2023-10-10T12:08:07.022Z"
   },
   {
    "duration": 3,
    "start_time": "2023-10-10T12:08:11.352Z"
   },
   {
    "duration": 248,
    "start_time": "2023-10-10T12:08:12.593Z"
   },
   {
    "duration": 3,
    "start_time": "2023-10-10T12:08:15.226Z"
   },
   {
    "duration": 2,
    "start_time": "2023-10-10T12:09:17.974Z"
   },
   {
    "duration": 108,
    "start_time": "2023-10-10T12:10:24.614Z"
   },
   {
    "duration": 10,
    "start_time": "2023-10-10T12:10:36.429Z"
   },
   {
    "duration": 94,
    "start_time": "2023-10-10T12:11:19.346Z"
   },
   {
    "duration": 4,
    "start_time": "2023-10-10T12:11:34.307Z"
   },
   {
    "duration": 8,
    "start_time": "2023-10-10T12:11:45.897Z"
   },
   {
    "duration": 10,
    "start_time": "2023-10-10T12:12:58.842Z"
   },
   {
    "duration": 8,
    "start_time": "2023-10-10T12:13:43.649Z"
   },
   {
    "duration": 4,
    "start_time": "2023-10-10T12:15:05.847Z"
   },
   {
    "duration": 2252,
    "start_time": "2023-10-10T12:15:12.289Z"
   },
   {
    "duration": 5,
    "start_time": "2023-10-10T12:15:21.338Z"
   },
   {
    "duration": 4,
    "start_time": "2023-10-10T12:15:29.101Z"
   },
   {
    "duration": 5,
    "start_time": "2023-10-10T12:42:23.139Z"
   },
   {
    "duration": 10,
    "start_time": "2023-10-10T12:42:31.669Z"
   },
   {
    "duration": 8,
    "start_time": "2023-10-10T12:42:41.631Z"
   },
   {
    "duration": 5,
    "start_time": "2023-10-10T12:42:54.652Z"
   },
   {
    "duration": 9,
    "start_time": "2023-10-10T12:42:55.111Z"
   },
   {
    "duration": 10,
    "start_time": "2023-10-10T12:43:03.185Z"
   },
   {
    "duration": 5,
    "start_time": "2023-10-10T12:43:31.117Z"
   },
   {
    "duration": 3,
    "start_time": "2023-10-10T12:43:33.357Z"
   },
   {
    "duration": 10666,
    "start_time": "2023-10-10T12:43:34.775Z"
   },
   {
    "duration": 5,
    "start_time": "2023-10-10T12:43:45.443Z"
   },
   {
    "duration": 4,
    "start_time": "2023-10-10T12:43:45.917Z"
   },
   {
    "duration": 5,
    "start_time": "2023-10-10T12:44:36.572Z"
   },
   {
    "duration": 3,
    "start_time": "2023-10-10T12:44:41.135Z"
   },
   {
    "duration": 11090,
    "start_time": "2023-10-10T12:44:41.752Z"
   },
   {
    "duration": 10,
    "start_time": "2023-10-10T12:44:52.844Z"
   },
   {
    "duration": 103,
    "start_time": "2023-10-10T12:44:52.939Z"
   },
   {
    "duration": 10,
    "start_time": "2023-10-10T12:44:53.043Z"
   },
   {
    "duration": 3,
    "start_time": "2023-10-10T12:44:58.852Z"
   },
   {
    "duration": 4,
    "start_time": "2023-10-10T12:49:13.776Z"
   },
   {
    "duration": 239,
    "start_time": "2023-10-10T12:49:13.782Z"
   },
   {
    "duration": 3,
    "start_time": "2023-10-10T12:49:14.024Z"
   },
   {
    "duration": 17,
    "start_time": "2023-10-10T12:49:14.029Z"
   },
   {
    "duration": 13,
    "start_time": "2023-10-10T12:49:14.049Z"
   },
   {
    "duration": 3,
    "start_time": "2023-10-10T12:49:14.064Z"
   },
   {
    "duration": 7,
    "start_time": "2023-10-10T12:49:14.069Z"
   },
   {
    "duration": 6,
    "start_time": "2023-10-10T12:49:14.078Z"
   },
   {
    "duration": 4,
    "start_time": "2023-10-10T12:49:14.086Z"
   },
   {
    "duration": 18,
    "start_time": "2023-10-10T12:49:14.091Z"
   },
   {
    "duration": 28,
    "start_time": "2023-10-10T12:49:14.113Z"
   },
   {
    "duration": 4,
    "start_time": "2023-10-10T12:49:14.143Z"
   },
   {
    "duration": 291,
    "start_time": "2023-10-10T12:49:14.148Z"
   },
   {
    "duration": 7,
    "start_time": "2023-10-10T12:49:14.441Z"
   },
   {
    "duration": 1105,
    "start_time": "2023-10-10T12:49:14.449Z"
   },
   {
    "duration": 5,
    "start_time": "2023-10-10T12:49:15.556Z"
   },
   {
    "duration": 111,
    "start_time": "2023-10-10T12:49:15.562Z"
   },
   {
    "duration": 34,
    "start_time": "2023-10-10T12:49:15.675Z"
   },
   {
    "duration": 28,
    "start_time": "2023-10-10T12:49:15.711Z"
   },
   {
    "duration": 6,
    "start_time": "2023-10-10T12:49:15.741Z"
   },
   {
    "duration": 45,
    "start_time": "2023-10-10T12:49:15.749Z"
   },
   {
    "duration": 4,
    "start_time": "2023-10-10T12:49:15.795Z"
   },
   {
    "duration": 20,
    "start_time": "2023-10-10T12:49:15.801Z"
   },
   {
    "duration": 23,
    "start_time": "2023-10-10T12:49:15.823Z"
   },
   {
    "duration": 2193,
    "start_time": "2023-10-10T12:49:15.848Z"
   },
   {
    "duration": 9,
    "start_time": "2023-10-10T12:49:18.042Z"
   },
   {
    "duration": 104,
    "start_time": "2023-10-10T12:49:18.052Z"
   },
   {
    "duration": 38,
    "start_time": "2023-10-10T12:49:18.157Z"
   },
   {
    "duration": 42,
    "start_time": "2023-10-10T12:49:18.199Z"
   },
   {
    "duration": 26211,
    "start_time": "2023-10-10T12:49:18.243Z"
   },
   {
    "duration": 92,
    "start_time": "2023-10-10T12:49:44.457Z"
   },
   {
    "duration": 5,
    "start_time": "2023-10-10T12:49:44.551Z"
   },
   {
    "duration": 12,
    "start_time": "2023-10-10T12:51:43.681Z"
   },
   {
    "duration": 3,
    "start_time": "2023-10-10T12:51:46.392Z"
   },
   {
    "duration": 3,
    "start_time": "2023-10-10T12:51:50.767Z"
   },
   {
    "duration": 11,
    "start_time": "2023-10-10T12:51:52.327Z"
   },
   {
    "duration": 3,
    "start_time": "2023-10-10T12:52:13.923Z"
   },
   {
    "duration": 1996,
    "start_time": "2023-10-10T13:12:34.902Z"
   },
   {
    "duration": 104,
    "start_time": "2023-10-10T13:12:36.900Z"
   },
   {
    "duration": 3,
    "start_time": "2023-10-10T13:12:37.006Z"
   },
   {
    "duration": 29,
    "start_time": "2023-10-10T13:12:37.011Z"
   },
   {
    "duration": 30,
    "start_time": "2023-10-10T13:12:37.042Z"
   },
   {
    "duration": 25,
    "start_time": "2023-10-10T13:12:37.074Z"
   },
   {
    "duration": 35,
    "start_time": "2023-10-10T13:12:37.100Z"
   },
   {
    "duration": 16,
    "start_time": "2023-10-10T13:12:37.137Z"
   },
   {
    "duration": 32,
    "start_time": "2023-10-10T13:12:37.155Z"
   },
   {
    "duration": 20,
    "start_time": "2023-10-10T13:12:37.190Z"
   },
   {
    "duration": 23,
    "start_time": "2023-10-10T13:12:37.212Z"
   },
   {
    "duration": 55,
    "start_time": "2023-10-10T13:12:37.237Z"
   },
   {
    "duration": 483,
    "start_time": "2023-10-10T13:12:37.294Z"
   },
   {
    "duration": 8,
    "start_time": "2023-10-10T13:12:37.780Z"
   },
   {
    "duration": 1435,
    "start_time": "2023-10-10T13:12:37.790Z"
   },
   {
    "duration": 5,
    "start_time": "2023-10-10T13:12:39.226Z"
   },
   {
    "duration": 109,
    "start_time": "2023-10-10T13:12:39.233Z"
   },
   {
    "duration": 24,
    "start_time": "2023-10-10T13:12:39.344Z"
   },
   {
    "duration": 22,
    "start_time": "2023-10-10T13:12:39.370Z"
   },
   {
    "duration": 19,
    "start_time": "2023-10-10T13:12:39.394Z"
   },
   {
    "duration": 68,
    "start_time": "2023-10-10T13:12:39.417Z"
   },
   {
    "duration": 4,
    "start_time": "2023-10-10T13:12:39.486Z"
   },
   {
    "duration": 12,
    "start_time": "2023-10-10T13:12:39.492Z"
   },
   {
    "duration": 9,
    "start_time": "2023-10-10T13:12:39.505Z"
   },
   {
    "duration": 2726,
    "start_time": "2023-10-10T13:12:39.515Z"
   },
   {
    "duration": 9,
    "start_time": "2023-10-10T13:12:42.242Z"
   },
   {
    "duration": 188,
    "start_time": "2023-10-10T13:12:42.253Z"
   },
   {
    "duration": 14,
    "start_time": "2023-10-10T13:12:42.445Z"
   },
   {
    "duration": 11,
    "start_time": "2023-10-10T13:12:42.462Z"
   },
   {
    "duration": 1551,
    "start_time": "2023-10-10T13:47:23.232Z"
   },
   {
    "duration": 125,
    "start_time": "2023-10-10T13:47:24.785Z"
   },
   {
    "duration": 3,
    "start_time": "2023-10-10T13:47:24.912Z"
   },
   {
    "duration": 58,
    "start_time": "2023-10-10T13:47:24.917Z"
   },
   {
    "duration": 30,
    "start_time": "2023-10-10T13:47:24.977Z"
   },
   {
    "duration": 48,
    "start_time": "2023-10-10T13:47:25.009Z"
   },
   {
    "duration": 22,
    "start_time": "2023-10-10T13:47:25.059Z"
   },
   {
    "duration": 28,
    "start_time": "2023-10-10T13:47:25.082Z"
   },
   {
    "duration": 32,
    "start_time": "2023-10-10T13:47:25.112Z"
   },
   {
    "duration": 30,
    "start_time": "2023-10-10T13:47:25.147Z"
   },
   {
    "duration": 38,
    "start_time": "2023-10-10T13:47:25.179Z"
   },
   {
    "duration": 39,
    "start_time": "2023-10-10T13:47:25.219Z"
   },
   {
    "duration": 358,
    "start_time": "2023-10-10T13:47:25.259Z"
   },
   {
    "duration": 8,
    "start_time": "2023-10-10T13:47:25.619Z"
   },
   {
    "duration": 2344,
    "start_time": "2023-10-10T13:47:25.629Z"
   },
   {
    "duration": 4,
    "start_time": "2023-10-10T13:47:27.974Z"
   },
   {
    "duration": 109,
    "start_time": "2023-10-10T13:47:27.980Z"
   },
   {
    "duration": 33,
    "start_time": "2023-10-10T13:47:28.091Z"
   },
   {
    "duration": 57,
    "start_time": "2023-10-10T13:47:28.126Z"
   },
   {
    "duration": 26,
    "start_time": "2023-10-10T13:47:28.185Z"
   },
   {
    "duration": 78,
    "start_time": "2023-10-10T13:47:28.214Z"
   },
   {
    "duration": 3,
    "start_time": "2023-10-10T13:47:28.294Z"
   },
   {
    "duration": 20,
    "start_time": "2023-10-10T13:47:28.299Z"
   },
   {
    "duration": 8,
    "start_time": "2023-10-10T13:47:28.320Z"
   },
   {
    "duration": 7830,
    "start_time": "2023-10-10T13:47:28.330Z"
   },
   {
    "duration": 13,
    "start_time": "2023-10-10T13:47:36.161Z"
   },
   {
    "duration": 10,
    "start_time": "2023-10-10T13:47:36.252Z"
   },
   {
    "duration": 3,
    "start_time": "2023-10-10T13:47:36.275Z"
   },
   {
    "duration": 25,
    "start_time": "2023-10-10T13:47:36.279Z"
   },
   {
    "duration": 3300,
    "start_time": "2023-10-10T19:11:44.822Z"
   },
   {
    "duration": 159,
    "start_time": "2023-10-10T19:11:48.125Z"
   },
   {
    "duration": 3,
    "start_time": "2023-10-10T19:11:48.286Z"
   },
   {
    "duration": 39,
    "start_time": "2023-10-10T19:11:48.290Z"
   },
   {
    "duration": 20,
    "start_time": "2023-10-10T19:11:48.331Z"
   },
   {
    "duration": 32,
    "start_time": "2023-10-10T19:11:48.352Z"
   },
   {
    "duration": 35,
    "start_time": "2023-10-10T19:11:48.386Z"
   },
   {
    "duration": 13,
    "start_time": "2023-10-10T19:11:48.423Z"
   },
   {
    "duration": 13,
    "start_time": "2023-10-10T19:11:48.438Z"
   },
   {
    "duration": 34,
    "start_time": "2023-10-10T19:11:48.453Z"
   },
   {
    "duration": 29,
    "start_time": "2023-10-10T19:11:48.489Z"
   },
   {
    "duration": 20,
    "start_time": "2023-10-10T19:11:48.520Z"
   },
   {
    "duration": 395,
    "start_time": "2023-10-10T19:11:48.542Z"
   },
   {
    "duration": 10,
    "start_time": "2023-10-10T19:11:48.940Z"
   },
   {
    "duration": 1287,
    "start_time": "2023-10-10T19:11:48.951Z"
   },
   {
    "duration": 7,
    "start_time": "2023-10-10T19:11:50.240Z"
   },
   {
    "duration": 146,
    "start_time": "2023-10-10T19:11:50.249Z"
   },
   {
    "duration": 31,
    "start_time": "2023-10-10T19:11:50.397Z"
   },
   {
    "duration": 51,
    "start_time": "2023-10-10T19:11:50.429Z"
   },
   {
    "duration": 10,
    "start_time": "2023-10-10T19:11:50.483Z"
   },
   {
    "duration": 102,
    "start_time": "2023-10-10T19:11:50.496Z"
   },
   {
    "duration": 5,
    "start_time": "2023-10-10T19:11:50.601Z"
   },
   {
    "duration": 25,
    "start_time": "2023-10-10T19:11:50.607Z"
   },
   {
    "duration": 23,
    "start_time": "2023-10-10T19:11:50.634Z"
   },
   {
    "duration": 2699,
    "start_time": "2023-10-10T19:11:50.659Z"
   },
   {
    "duration": 10,
    "start_time": "2023-10-10T19:11:53.446Z"
   },
   {
    "duration": 91,
    "start_time": "2023-10-10T19:11:53.458Z"
   },
   {
    "duration": 14,
    "start_time": "2023-10-10T19:11:53.551Z"
   },
   {
    "duration": 7,
    "start_time": "2023-10-10T19:11:53.567Z"
   },
   {
    "duration": 37880,
    "start_time": "2023-10-10T19:11:53.575Z"
   },
   {
    "duration": 95,
    "start_time": "2023-10-10T19:12:31.458Z"
   },
   {
    "duration": 126,
    "start_time": "2023-10-10T19:12:31.556Z"
   },
   {
    "duration": 37,
    "start_time": "2023-10-10T19:12:31.685Z"
   },
   {
    "duration": 32,
    "start_time": "2023-10-10T19:12:31.724Z"
   },
   {
    "duration": 2619690,
    "start_time": "2023-10-10T19:12:31.758Z"
   },
   {
    "duration": 0,
    "start_time": "2023-10-10T19:56:11.458Z"
   },
   {
    "duration": 0,
    "start_time": "2023-10-10T19:56:11.459Z"
   },
   {
    "duration": 0,
    "start_time": "2023-10-10T19:56:11.461Z"
   },
   {
    "duration": 0,
    "start_time": "2023-10-10T19:56:11.462Z"
   },
   {
    "duration": 0,
    "start_time": "2023-10-10T19:56:11.463Z"
   },
   {
    "duration": 0,
    "start_time": "2023-10-10T19:56:11.463Z"
   },
   {
    "duration": 0,
    "start_time": "2023-10-10T19:56:11.550Z"
   },
   {
    "duration": 0,
    "start_time": "2023-10-10T19:56:11.553Z"
   },
   {
    "duration": 0,
    "start_time": "2023-10-10T19:56:11.555Z"
   },
   {
    "duration": 0,
    "start_time": "2023-10-10T19:56:11.557Z"
   },
   {
    "duration": 0,
    "start_time": "2023-10-10T19:56:11.558Z"
   },
   {
    "duration": 0,
    "start_time": "2023-10-10T19:56:11.559Z"
   },
   {
    "duration": 7,
    "start_time": "2023-10-10T19:56:26.447Z"
   },
   {
    "duration": 5,
    "start_time": "2023-10-10T19:56:26.747Z"
   },
   {
    "duration": 1929,
    "start_time": "2023-10-13T13:00:59.326Z"
   },
   {
    "duration": 162,
    "start_time": "2023-10-13T13:01:01.258Z"
   },
   {
    "duration": 3,
    "start_time": "2023-10-13T13:01:01.422Z"
   },
   {
    "duration": 53,
    "start_time": "2023-10-13T13:01:01.426Z"
   },
   {
    "duration": 33,
    "start_time": "2023-10-13T13:01:01.481Z"
   },
   {
    "duration": 49,
    "start_time": "2023-10-13T13:01:01.516Z"
   },
   {
    "duration": 52,
    "start_time": "2023-10-13T13:01:01.566Z"
   },
   {
    "duration": 21,
    "start_time": "2023-10-13T13:01:01.620Z"
   },
   {
    "duration": 40,
    "start_time": "2023-10-13T13:01:01.643Z"
   },
   {
    "duration": 32,
    "start_time": "2023-10-13T13:01:01.687Z"
   },
   {
    "duration": 109,
    "start_time": "2023-10-13T13:01:01.721Z"
   },
   {
    "duration": 30,
    "start_time": "2023-10-13T13:01:01.832Z"
   },
   {
    "duration": 415,
    "start_time": "2023-10-13T13:01:01.863Z"
   },
   {
    "duration": 10,
    "start_time": "2023-10-13T13:01:02.280Z"
   },
   {
    "duration": 1267,
    "start_time": "2023-10-13T13:01:02.292Z"
   },
   {
    "duration": 5,
    "start_time": "2023-10-13T13:01:03.560Z"
   },
   {
    "duration": 138,
    "start_time": "2023-10-13T13:01:03.567Z"
   },
   {
    "duration": 27,
    "start_time": "2023-10-13T13:01:03.707Z"
   },
   {
    "duration": 69,
    "start_time": "2023-10-13T13:01:03.736Z"
   },
   {
    "duration": 30,
    "start_time": "2023-10-13T13:01:03.807Z"
   },
   {
    "duration": 110,
    "start_time": "2023-10-13T13:01:03.839Z"
   },
   {
    "duration": 43,
    "start_time": "2023-10-13T13:01:03.951Z"
   },
   {
    "duration": 35,
    "start_time": "2023-10-13T13:01:03.996Z"
   },
   {
    "duration": 52,
    "start_time": "2023-10-13T13:01:04.032Z"
   },
   {
    "duration": 2171,
    "start_time": "2023-10-13T13:01:04.086Z"
   },
   {
    "duration": 98,
    "start_time": "2023-10-13T13:01:06.350Z"
   },
   {
    "duration": 18,
    "start_time": "2023-10-13T13:01:06.450Z"
   },
   {
    "duration": 44,
    "start_time": "2023-10-13T13:01:06.471Z"
   },
   {
    "duration": 29,
    "start_time": "2023-10-13T13:01:06.517Z"
   },
   {
    "duration": 30306,
    "start_time": "2023-10-13T13:01:06.548Z"
   },
   {
    "duration": 91,
    "start_time": "2023-10-13T13:01:36.856Z"
   },
   {
    "duration": 102,
    "start_time": "2023-10-13T13:01:36.951Z"
   },
   {
    "duration": 22,
    "start_time": "2023-10-13T13:01:37.054Z"
   },
   {
    "duration": 29,
    "start_time": "2023-10-13T13:01:37.078Z"
   },
   {
    "duration": 160,
    "start_time": "2023-10-13T13:01:37.109Z"
   },
   {
    "duration": 0,
    "start_time": "2023-10-13T13:01:37.271Z"
   },
   {
    "duration": 0,
    "start_time": "2023-10-13T13:01:37.272Z"
   },
   {
    "duration": 0,
    "start_time": "2023-10-13T13:01:37.274Z"
   },
   {
    "duration": 0,
    "start_time": "2023-10-13T13:01:37.275Z"
   },
   {
    "duration": 0,
    "start_time": "2023-10-13T13:01:37.277Z"
   },
   {
    "duration": 0,
    "start_time": "2023-10-13T13:01:37.278Z"
   },
   {
    "duration": 0,
    "start_time": "2023-10-13T13:01:37.279Z"
   },
   {
    "duration": 0,
    "start_time": "2023-10-13T13:01:37.280Z"
   },
   {
    "duration": 0,
    "start_time": "2023-10-13T13:01:37.282Z"
   },
   {
    "duration": 0,
    "start_time": "2023-10-13T13:01:37.283Z"
   },
   {
    "duration": 0,
    "start_time": "2023-10-13T13:01:37.284Z"
   },
   {
    "duration": 0,
    "start_time": "2023-10-13T13:01:37.286Z"
   },
   {
    "duration": 0,
    "start_time": "2023-10-13T13:01:37.287Z"
   },
   {
    "duration": 1646,
    "start_time": "2023-10-13T13:02:07.944Z"
   },
   {
    "duration": 103,
    "start_time": "2023-10-13T13:02:09.592Z"
   },
   {
    "duration": 3,
    "start_time": "2023-10-13T13:02:09.697Z"
   },
   {
    "duration": 22,
    "start_time": "2023-10-13T13:02:09.702Z"
   },
   {
    "duration": 7,
    "start_time": "2023-10-13T13:02:09.726Z"
   },
   {
    "duration": 19,
    "start_time": "2023-10-13T13:02:09.735Z"
   },
   {
    "duration": 39,
    "start_time": "2023-10-13T13:02:09.756Z"
   },
   {
    "duration": 28,
    "start_time": "2023-10-13T13:02:09.797Z"
   },
   {
    "duration": 50,
    "start_time": "2023-10-13T13:02:09.826Z"
   },
   {
    "duration": 25,
    "start_time": "2023-10-13T13:02:09.878Z"
   },
   {
    "duration": 41,
    "start_time": "2023-10-13T13:02:09.904Z"
   },
   {
    "duration": 34,
    "start_time": "2023-10-13T13:02:09.947Z"
   },
   {
    "duration": 407,
    "start_time": "2023-10-13T13:02:09.982Z"
   },
   {
    "duration": 9,
    "start_time": "2023-10-13T13:02:10.391Z"
   },
   {
    "duration": 1265,
    "start_time": "2023-10-13T13:02:10.401Z"
   },
   {
    "duration": 5,
    "start_time": "2023-10-13T13:02:11.668Z"
   },
   {
    "duration": 130,
    "start_time": "2023-10-13T13:02:11.674Z"
   },
   {
    "duration": 29,
    "start_time": "2023-10-13T13:02:11.806Z"
   },
   {
    "duration": 31,
    "start_time": "2023-10-13T13:02:11.836Z"
   },
   {
    "duration": 7,
    "start_time": "2023-10-13T13:02:11.869Z"
   },
   {
    "duration": 56,
    "start_time": "2023-10-13T13:02:11.877Z"
   },
   {
    "duration": 4,
    "start_time": "2023-10-13T13:02:11.947Z"
   },
   {
    "duration": 15,
    "start_time": "2023-10-13T13:02:11.953Z"
   },
   {
    "duration": 7,
    "start_time": "2023-10-13T13:02:11.970Z"
   },
   {
    "duration": 2469,
    "start_time": "2023-10-13T13:02:11.979Z"
   },
   {
    "duration": 98,
    "start_time": "2023-10-13T13:02:14.451Z"
   },
   {
    "duration": 97,
    "start_time": "2023-10-13T13:02:14.551Z"
   },
   {
    "duration": 33,
    "start_time": "2023-10-13T13:02:14.652Z"
   },
   {
    "duration": 7,
    "start_time": "2023-10-13T13:02:14.687Z"
   },
   {
    "duration": 30656,
    "start_time": "2023-10-13T13:02:14.695Z"
   },
   {
    "duration": 95,
    "start_time": "2023-10-13T13:02:45.354Z"
   },
   {
    "duration": 105,
    "start_time": "2023-10-13T13:02:45.452Z"
   },
   {
    "duration": 22,
    "start_time": "2023-10-13T13:02:45.559Z"
   },
   {
    "duration": 20,
    "start_time": "2023-10-13T13:02:45.583Z"
   },
   {
    "duration": 23,
    "start_time": "2023-10-13T13:02:45.606Z"
   },
   {
    "duration": 42,
    "start_time": "2023-10-13T13:02:45.631Z"
   },
   {
    "duration": 39,
    "start_time": "2023-10-13T13:02:45.675Z"
   },
   {
    "duration": 52,
    "start_time": "2023-10-13T13:02:45.716Z"
   },
   {
    "duration": 26,
    "start_time": "2023-10-13T13:02:45.771Z"
   },
   {
    "duration": 107333,
    "start_time": "2023-10-13T13:02:45.799Z"
   },
   {
    "duration": 12,
    "start_time": "2023-10-13T13:04:33.134Z"
   },
   {
    "duration": 80,
    "start_time": "2023-10-13T13:04:33.149Z"
   },
   {
    "duration": 357,
    "start_time": "2023-10-13T13:04:33.231Z"
   },
   {
    "duration": 115,
    "start_time": "2023-10-13T13:04:33.590Z"
   },
   {
    "duration": 126,
    "start_time": "2023-10-13T13:04:33.707Z"
   },
   {
    "duration": 51,
    "start_time": "2023-10-13T13:04:33.835Z"
   },
   {
    "duration": 15,
    "start_time": "2023-10-13T13:04:33.888Z"
   },
   {
    "duration": 296,
    "start_time": "2023-10-13T13:04:33.905Z"
   },
   {
    "duration": 1696,
    "start_time": "2023-10-13T20:00:19.822Z"
   },
   {
    "duration": 2205,
    "start_time": "2023-10-13T20:00:57.218Z"
   },
   {
    "duration": 2343,
    "start_time": "2023-10-13T20:01:43.830Z"
   },
   {
    "duration": 1774,
    "start_time": "2023-10-13T20:01:46.176Z"
   },
   {
    "duration": 165,
    "start_time": "2023-10-13T20:01:47.952Z"
   },
   {
    "duration": 3,
    "start_time": "2023-10-13T20:01:48.120Z"
   },
   {
    "duration": 23,
    "start_time": "2023-10-13T20:01:48.125Z"
   },
   {
    "duration": 5,
    "start_time": "2023-10-13T20:01:48.150Z"
   },
   {
    "duration": 18,
    "start_time": "2023-10-13T20:01:48.156Z"
   },
   {
    "duration": 29,
    "start_time": "2023-10-13T20:01:48.175Z"
   },
   {
    "duration": 19,
    "start_time": "2023-10-13T20:01:48.206Z"
   },
   {
    "duration": 13,
    "start_time": "2023-10-13T20:01:48.227Z"
   },
   {
    "duration": 19,
    "start_time": "2023-10-13T20:01:48.241Z"
   },
   {
    "duration": 14,
    "start_time": "2023-10-13T20:01:48.262Z"
   },
   {
    "duration": 23,
    "start_time": "2023-10-13T20:01:48.277Z"
   },
   {
    "duration": 356,
    "start_time": "2023-10-13T20:01:48.301Z"
   },
   {
    "duration": 11,
    "start_time": "2023-10-13T20:01:48.659Z"
   },
   {
    "duration": 1222,
    "start_time": "2023-10-13T20:01:48.671Z"
   },
   {
    "duration": 4,
    "start_time": "2023-10-13T20:01:49.894Z"
   },
   {
    "duration": 118,
    "start_time": "2023-10-13T20:01:49.899Z"
   },
   {
    "duration": 30,
    "start_time": "2023-10-13T20:01:50.019Z"
   },
   {
    "duration": 19,
    "start_time": "2023-10-13T20:01:50.051Z"
   },
   {
    "duration": 6,
    "start_time": "2023-10-13T20:01:50.072Z"
   },
   {
    "duration": 72,
    "start_time": "2023-10-13T20:01:50.079Z"
   },
   {
    "duration": 3,
    "start_time": "2023-10-13T20:01:50.153Z"
   },
   {
    "duration": 25,
    "start_time": "2023-10-13T20:01:50.157Z"
   },
   {
    "duration": 36,
    "start_time": "2023-10-13T20:01:50.184Z"
   },
   {
    "duration": 3888,
    "start_time": "2023-10-13T20:01:50.223Z"
   },
   {
    "duration": 13,
    "start_time": "2023-10-13T20:01:54.116Z"
   },
   {
    "duration": 90,
    "start_time": "2023-10-13T20:01:54.134Z"
   },
   {
    "duration": 5,
    "start_time": "2023-10-13T20:01:54.225Z"
   },
   {
    "duration": 20,
    "start_time": "2023-10-13T20:01:54.232Z"
   },
   {
    "duration": 36255,
    "start_time": "2023-10-13T20:01:54.254Z"
   },
   {
    "duration": 15,
    "start_time": "2023-10-13T20:02:30.513Z"
   },
   {
    "duration": 22,
    "start_time": "2023-10-13T20:02:30.609Z"
   },
   {
    "duration": 84,
    "start_time": "2023-10-13T20:02:30.632Z"
   },
   {
    "duration": 44,
    "start_time": "2023-10-13T20:02:30.718Z"
   }
  ],
  "colab": {
   "provenance": []
  },
  "kernelspec": {
   "display_name": "Python 3 (ipykernel)",
   "language": "python",
   "name": "python3"
  },
  "language_info": {
   "codemirror_mode": {
    "name": "ipython",
    "version": 3
   },
   "file_extension": ".py",
   "mimetype": "text/x-python",
   "name": "python",
   "nbconvert_exporter": "python",
   "pygments_lexer": "ipython3",
   "version": "3.9.13"
  },
  "toc": {
   "base_numbering": 1,
   "nav_menu": {},
   "number_sections": true,
   "sideBar": true,
   "skip_h1_title": true,
   "title_cell": "Содержание",
   "title_sidebar": "Contents",
   "toc_cell": true,
   "toc_position": {
    "height": "calc(100% - 180px)",
    "left": "10px",
    "top": "150px",
    "width": "165px"
   },
   "toc_section_display": true,
   "toc_window_display": true
  }
 },
 "nbformat": 4,
 "nbformat_minor": 1
}
