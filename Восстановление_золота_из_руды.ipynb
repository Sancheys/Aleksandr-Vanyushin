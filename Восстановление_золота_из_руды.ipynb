{
  "cells": [
    {
      "cell_type": "markdown",
      "metadata": {
        "toc": true,
        "id": "2TcrMtLDWRQo"
      },
      "source": [
        "<h1>Содержание<span class=\"tocSkip\"></span></h1>\n",
        "<div class=\"toc\"><ul class=\"toc-item\"><li><span><a href=\"#Подготовка-данных\" data-toc-modified-id=\"Подготовка-данных-1\"><span class=\"toc-item-num\">1&nbsp;&nbsp;</span>Подготовка данных</a></span></li><li><span><a href=\"#Анализ-данных\" data-toc-modified-id=\"Анализ-данных-2\"><span class=\"toc-item-num\">2&nbsp;&nbsp;</span>Анализ данных</a></span></li><li><span><a href=\"#Модель\" data-toc-modified-id=\"Модель-3\"><span class=\"toc-item-num\">3&nbsp;&nbsp;</span>Модель</a></span></li><li><span><a href=\"#Чек-лист-готовности-проекта\" data-toc-modified-id=\"Чек-лист-готовности-проекта-4\"><span class=\"toc-item-num\">4&nbsp;&nbsp;</span>Чек-лист готовности проекта</a></span></li></ul></div>"
      ]
    },
    {
      "cell_type": "markdown",
      "metadata": {
        "id": "dRp028TBWRVO"
      },
      "source": [
        "# Восстановление золота из руды"
      ]
    },
    {
      "cell_type": "markdown",
      "metadata": {
        "id": "Jton0LuGWRVT"
      },
      "source": [
        "Подготовьте прототип модели машинного обучения для «Цифры». Компания разрабатывает решения для эффективной работы промышленных предприятий.\n",
        "\n",
        "Модель должна предсказать коэффициент восстановления золота из золотосодержащей руды. Используйте данные с параметрами добычи и очистки.\n",
        "\n",
        "Модель поможет оптимизировать производство, чтобы не запускать предприятие с убыточными характеристиками.\n",
        "\n",
        "Вам нужно:\n",
        "\n",
        "1. Подготовить данные;\n",
        "2. Провести исследовательский анализ данных;\n",
        "3. Построить и обучить модель.\n",
        "\n",
        "Чтобы выполнить проект, обращайтесь к библиотекам *pandas*, *matplotlib* и *sklearn.* Вам поможет их документация."
      ]
    },
    {
      "cell_type": "markdown",
      "metadata": {
        "id": "s7SQNcy7WRVV"
      },
      "source": [
        "# Описание данных\n",
        "\n",
        "**Технологический процесс**\n",
        "\n",
        "* Rougher feed — исходное сырье\n",
        "* Rougher additions (или reagent additions) — флотационные реагенты: Xanthate, Sulphate, Depressant\n",
        "    * Xanthate — ксантогенат (промотер, или активатор флотации);\n",
        "    * Sulphate — сульфат (на данном производстве сульфид натрия);\n",
        "    * Depressant — депрессант (силикат натрия).\n",
        "* Rougher process (англ. «грубый процесс») — флотация\n",
        "* Rougher tails — отвальные хвосты\n",
        "* Float banks — флотационная установка\n",
        "* Cleaner process — очистка\n",
        "* Rougher Au — черновой концентрат золота\n",
        "* Final Au — финальный концентрат золота\n",
        "\n",
        "**Параметры этапов**\n",
        "\n",
        "* air amount — объём воздуха\n",
        "* fluid levels — уровень жидкости\n",
        "* feed size — размер гранул сырья\n",
        "* feed rate — скорость подачи\n",
        "\n",
        "Наименование признаков\n",
        "Наименование признаков должно быть такое:\n",
        "[этап].[тип_параметра].[название_параметра]\n",
        "\n",
        "Возможные значения для блока [этап]:\n",
        "* rougher — флотация\n",
        "* primary_cleaner — первичная очистка\n",
        "* secondary_cleaner — вторичная очистка\n",
        "* final — финальные характеристики\n",
        "\n",
        "Возможные значения для блока [тип_параметра]\n",
        "\n",
        "* input — параметры сырья\n",
        "* output — параметры продукта\n",
        "* state — параметры, характеризующие текущее состояние этапа\n",
        "* calculation — расчётные характеристики\n"
      ]
    },
    {
      "cell_type": "code",
      "source": [
        "pip install catboost"
      ],
      "metadata": {
        "colab": {
          "base_uri": "https://localhost:8080/"
        },
        "id": "9QBAvIbqgp9C",
        "outputId": "870b0d1f-49ce-410b-c046-f56f31c6bed9"
      },
      "execution_count": 1,
      "outputs": [
        {
          "output_type": "stream",
          "name": "stdout",
          "text": [
            "Requirement already satisfied: catboost in /usr/local/lib/python3.10/dist-packages (1.2.2)\n",
            "Requirement already satisfied: graphviz in /usr/local/lib/python3.10/dist-packages (from catboost) (0.20.1)\n",
            "Requirement already satisfied: matplotlib in /usr/local/lib/python3.10/dist-packages (from catboost) (3.7.1)\n",
            "Requirement already satisfied: numpy>=1.16.0 in /usr/local/lib/python3.10/dist-packages (from catboost) (1.23.5)\n",
            "Requirement already satisfied: pandas>=0.24 in /usr/local/lib/python3.10/dist-packages (from catboost) (1.5.3)\n",
            "Requirement already satisfied: scipy in /usr/local/lib/python3.10/dist-packages (from catboost) (1.11.3)\n",
            "Requirement already satisfied: plotly in /usr/local/lib/python3.10/dist-packages (from catboost) (5.15.0)\n",
            "Requirement already satisfied: six in /usr/local/lib/python3.10/dist-packages (from catboost) (1.16.0)\n",
            "Requirement already satisfied: python-dateutil>=2.8.1 in /usr/local/lib/python3.10/dist-packages (from pandas>=0.24->catboost) (2.8.2)\n",
            "Requirement already satisfied: pytz>=2020.1 in /usr/local/lib/python3.10/dist-packages (from pandas>=0.24->catboost) (2023.3.post1)\n",
            "Requirement already satisfied: contourpy>=1.0.1 in /usr/local/lib/python3.10/dist-packages (from matplotlib->catboost) (1.2.0)\n",
            "Requirement already satisfied: cycler>=0.10 in /usr/local/lib/python3.10/dist-packages (from matplotlib->catboost) (0.12.1)\n",
            "Requirement already satisfied: fonttools>=4.22.0 in /usr/local/lib/python3.10/dist-packages (from matplotlib->catboost) (4.44.3)\n",
            "Requirement already satisfied: kiwisolver>=1.0.1 in /usr/local/lib/python3.10/dist-packages (from matplotlib->catboost) (1.4.5)\n",
            "Requirement already satisfied: packaging>=20.0 in /usr/local/lib/python3.10/dist-packages (from matplotlib->catboost) (23.2)\n",
            "Requirement already satisfied: pillow>=6.2.0 in /usr/local/lib/python3.10/dist-packages (from matplotlib->catboost) (9.4.0)\n",
            "Requirement already satisfied: pyparsing>=2.3.1 in /usr/local/lib/python3.10/dist-packages (from matplotlib->catboost) (3.1.1)\n",
            "Requirement already satisfied: tenacity>=6.2.0 in /usr/local/lib/python3.10/dist-packages (from plotly->catboost) (8.2.3)\n"
          ]
        }
      ]
    },
    {
      "cell_type": "code",
      "execution_count": 2,
      "metadata": {
        "id": "zwuiC82SWRVY"
      },
      "outputs": [],
      "source": [
        "import pandas as pd\n",
        "pd.options.mode.chained_assignment = None\n",
        "import numpy as np\n",
        "import matplotlib.pyplot as plt\n",
        "import seaborn as sns\n",
        "import os\n",
        "from sklearn.metrics import mean_absolute_error, accuracy_score, make_scorer\n",
        "from sklearn.preprocessing import StandardScaler\n",
        "from sklearn.model_selection import train_test_split, cross_val_score\n",
        "from sklearn.linear_model import LinearRegression\n",
        "from sklearn.ensemble import RandomForestRegressor\n",
        "from sklearn.tree import DecisionTreeRegressor\n",
        "from catboost import CatBoostRegressor\n",
        "from sklearn.dummy import DummyRegressor\n",
        "from numpy.random import RandomState\n",
        "from sklearn.model_selection import GridSearchCV"
      ]
    },
    {
      "cell_type": "code",
      "source": [
        "pth1 = 'gold_industry_train.csv'\n",
        "pth2 = '/datasets/gold_industry_train.csv'\n",
        "\n",
        "if os.path.exists(pth1):\n",
        "    train = pd.read_csv(pth1)\n",
        "elif os.path.exists(pth2):\n",
        "    train = pd.read_csv(pth2)\n",
        "else:\n",
        "    print('Something is wrong')"
      ],
      "metadata": {
        "id": "70lQboc0em-K"
      },
      "execution_count": 3,
      "outputs": []
    },
    {
      "cell_type": "code",
      "source": [
        "pth1 = 'gold_industry_test.csv'\n",
        "pth2 = '/datasets/gold_industry_test.csv'\n",
        "\n",
        "if os.path.exists(pth1):\n",
        "    test = pd.read_csv(pth1)\n",
        "elif os.path.exists(pth2):\n",
        "    test = pd.read_csv(pth2)\n",
        "else:\n",
        "    print('Something is wrong')"
      ],
      "metadata": {
        "id": "QP51dVfOeowA"
      },
      "execution_count": 4,
      "outputs": []
    },
    {
      "cell_type": "code",
      "source": [
        "pth1 = 'gold_industry_full.csv'\n",
        "pth2 = '/datasets/gold_industry_full.csv'\n",
        "\n",
        "if os.path.exists(pth1):\n",
        "    full = pd.read_csv(pth1)\n",
        "elif os.path.exists(pth2):\n",
        "    full = pd.read_csv(pth2)\n",
        "else:\n",
        "    print('Something is wrong')"
      ],
      "metadata": {
        "id": "nZG8CYJfgKjB"
      },
      "execution_count": 5,
      "outputs": []
    },
    {
      "cell_type": "code",
      "execution_count": 6,
      "metadata": {
        "collapsed": true,
        "colab": {
          "base_uri": "https://localhost:8080/"
        },
        "id": "qgJpCnT5WRVn",
        "outputId": "9c5e81a5-7b81-4610-d3a5-12afcaf64efd"
      },
      "outputs": [
        {
          "output_type": "stream",
          "name": "stdout",
          "text": [
            "<class 'pandas.core.frame.DataFrame'>\n",
            "RangeIndex: 19439 entries, 0 to 19438\n",
            "Data columns (total 87 columns):\n",
            " #   Column                                              Non-Null Count  Dtype  \n",
            "---  ------                                              --------------  -----  \n",
            " 0   date                                                19439 non-null  object \n",
            " 1   rougher.input.feed_au                               19439 non-null  float64\n",
            " 2   rougher.input.feed_ag                               19439 non-null  float64\n",
            " 3   rougher.input.feed_pb                               19339 non-null  float64\n",
            " 4   rougher.input.feed_sol                              19340 non-null  float64\n",
            " 5   rougher.input.feed_rate                             19428 non-null  float64\n",
            " 6   rougher.input.feed_size                             19294 non-null  float64\n",
            " 7   rougher.input.floatbank10_sulfate                   19405 non-null  float64\n",
            " 8   rougher.input.floatbank10_xanthate                  19431 non-null  float64\n",
            " 9   rougher.state.floatbank10_a_air                     19438 non-null  float64\n",
            " 10  rougher.state.floatbank10_a_level                   19438 non-null  float64\n",
            " 11  rougher.state.floatbank10_b_air                     19438 non-null  float64\n",
            " 12  rougher.state.floatbank10_b_level                   19438 non-null  float64\n",
            " 13  rougher.state.floatbank10_c_air                     19438 non-null  float64\n",
            " 14  rougher.state.floatbank10_c_level                   19438 non-null  float64\n",
            " 15  rougher.state.floatbank10_d_air                     19439 non-null  float64\n",
            " 16  rougher.state.floatbank10_d_level                   19439 non-null  float64\n",
            " 17  rougher.state.floatbank10_e_air                     19003 non-null  float64\n",
            " 18  rougher.state.floatbank10_e_level                   19439 non-null  float64\n",
            " 19  rougher.state.floatbank10_f_air                     19439 non-null  float64\n",
            " 20  rougher.state.floatbank10_f_level                   19439 non-null  float64\n",
            " 21  rougher.input.floatbank11_sulfate                   19395 non-null  float64\n",
            " 22  rougher.input.floatbank11_xanthate                  18986 non-null  float64\n",
            " 23  rougher.calculation.sulfate_to_au_concentrate       19437 non-null  float64\n",
            " 24  rougher.calculation.floatbank10_sulfate_to_au_feed  19437 non-null  float64\n",
            " 25  rougher.calculation.floatbank11_sulfate_to_au_feed  19437 non-null  float64\n",
            " 26  rougher.calculation.au_pb_ratio                     19439 non-null  float64\n",
            " 27  rougher.output.concentrate_au                       19439 non-null  float64\n",
            " 28  rougher.output.concentrate_ag                       19439 non-null  float64\n",
            " 29  rougher.output.concentrate_pb                       19439 non-null  float64\n",
            " 30  rougher.output.concentrate_sol                      19416 non-null  float64\n",
            " 31  rougher.output.recovery                             19439 non-null  float64\n",
            " 32  rougher.output.tail_au                              19439 non-null  float64\n",
            " 33  rougher.output.tail_ag                              19438 non-null  float64\n",
            " 34  rougher.output.tail_pb                              19439 non-null  float64\n",
            " 35  rougher.output.tail_sol                             19439 non-null  float64\n",
            " 36  primary_cleaner.input.sulfate                       19415 non-null  float64\n",
            " 37  primary_cleaner.input.depressant                    19402 non-null  float64\n",
            " 38  primary_cleaner.input.feed_size                     19439 non-null  float64\n",
            " 39  primary_cleaner.input.xanthate                      19335 non-null  float64\n",
            " 40  primary_cleaner.state.floatbank8_a_air              19435 non-null  float64\n",
            " 41  primary_cleaner.state.floatbank8_a_level            19438 non-null  float64\n",
            " 42  primary_cleaner.state.floatbank8_b_air              19435 non-null  float64\n",
            " 43  primary_cleaner.state.floatbank8_b_level            19438 non-null  float64\n",
            " 44  primary_cleaner.state.floatbank8_c_air              19437 non-null  float64\n",
            " 45  primary_cleaner.state.floatbank8_c_level            19438 non-null  float64\n",
            " 46  primary_cleaner.state.floatbank8_d_air              19436 non-null  float64\n",
            " 47  primary_cleaner.state.floatbank8_d_level            19438 non-null  float64\n",
            " 48  primary_cleaner.output.concentrate_au               19439 non-null  float64\n",
            " 49  primary_cleaner.output.concentrate_ag               19439 non-null  float64\n",
            " 50  primary_cleaner.output.concentrate_pb               19323 non-null  float64\n",
            " 51  primary_cleaner.output.concentrate_sol              19069 non-null  float64\n",
            " 52  primary_cleaner.output.tail_au                      19439 non-null  float64\n",
            " 53  primary_cleaner.output.tail_ag                      19435 non-null  float64\n",
            " 54  primary_cleaner.output.tail_pb                      19418 non-null  float64\n",
            " 55  primary_cleaner.output.tail_sol                     19377 non-null  float64\n",
            " 56  secondary_cleaner.state.floatbank2_a_air            19219 non-null  float64\n",
            " 57  secondary_cleaner.state.floatbank2_a_level          19438 non-null  float64\n",
            " 58  secondary_cleaner.state.floatbank2_b_air            19416 non-null  float64\n",
            " 59  secondary_cleaner.state.floatbank2_b_level          19438 non-null  float64\n",
            " 60  secondary_cleaner.state.floatbank3_a_air            19426 non-null  float64\n",
            " 61  secondary_cleaner.state.floatbank3_a_level          19438 non-null  float64\n",
            " 62  secondary_cleaner.state.floatbank3_b_air            19438 non-null  float64\n",
            " 63  secondary_cleaner.state.floatbank3_b_level          19438 non-null  float64\n",
            " 64  secondary_cleaner.state.floatbank4_a_air            19433 non-null  float64\n",
            " 65  secondary_cleaner.state.floatbank4_a_level          19438 non-null  float64\n",
            " 66  secondary_cleaner.state.floatbank4_b_air            19438 non-null  float64\n",
            " 67  secondary_cleaner.state.floatbank4_b_level          19438 non-null  float64\n",
            " 68  secondary_cleaner.state.floatbank5_a_air            19438 non-null  float64\n",
            " 69  secondary_cleaner.state.floatbank5_a_level          19438 non-null  float64\n",
            " 70  secondary_cleaner.state.floatbank5_b_air            19438 non-null  float64\n",
            " 71  secondary_cleaner.state.floatbank5_b_level          19438 non-null  float64\n",
            " 72  secondary_cleaner.state.floatbank6_a_air            19437 non-null  float64\n",
            " 73  secondary_cleaner.state.floatbank6_a_level          19438 non-null  float64\n",
            " 74  secondary_cleaner.output.tail_au                    19439 non-null  float64\n",
            " 75  secondary_cleaner.output.tail_ag                    19437 non-null  float64\n",
            " 76  secondary_cleaner.output.tail_pb                    19427 non-null  float64\n",
            " 77  secondary_cleaner.output.tail_sol                   17691 non-null  float64\n",
            " 78  final.output.concentrate_au                         19439 non-null  float64\n",
            " 79  final.output.concentrate_ag                         19438 non-null  float64\n",
            " 80  final.output.concentrate_pb                         19438 non-null  float64\n",
            " 81  final.output.concentrate_sol                        19228 non-null  float64\n",
            " 82  final.output.recovery                               19439 non-null  float64\n",
            " 83  final.output.tail_au                                19439 non-null  float64\n",
            " 84  final.output.tail_ag                                19438 non-null  float64\n",
            " 85  final.output.tail_pb                                19338 non-null  float64\n",
            " 86  final.output.tail_sol                               19433 non-null  float64\n",
            "dtypes: float64(86), object(1)\n",
            "memory usage: 12.9+ MB\n"
          ]
        }
      ],
      "source": [
        "full.info()"
      ]
    },
    {
      "cell_type": "markdown",
      "metadata": {
        "id": "aRIvErNJWRV3"
      },
      "source": [
        "В рамках подготовки данных нам необходимо проверить формулу вычисления эффективности обогащения. Формула выглядит так:\n",
        "\n",
        "`recovery = ((C * (F - T)) / (F * (C - T))) * 100%`\n",
        "\n",
        "где:\n",
        "\n",
        "* C — доля золота в концентрате после флотации/очистки;\n",
        "* F — доля золота в сырье/концентрате до флотации/очистки;\n",
        "* T — доля золота в отвальных хвостах после флотации/очистки.\n",
        "\n",
        "Основываясь на полученных от компании данных, необходимые нам признаки для проверки формулы это:\n",
        "\n",
        "* rougher.output.concentrate_au (С)\n",
        "* rougher.input.feed_au (F)\n",
        "* rougher.output.tail_au (T)\n",
        "\n",
        "А сам результат работы формулы находится здесь:\n",
        "\n",
        "* rougher.output.recovery\n",
        "\n",
        "Проверим, что эффективность обогащения рассчитана правильно. Вычислим её на обучающей выборке для признака rougher.output.recovery.\n",
        "\n",
        "Найдем MAE между нашими расчётами и значением признака.\n",
        "\n",
        "Создадим новый столбец с результатом вычисления эффективности обогащения по формуле."
      ]
    },
    {
      "cell_type": "markdown",
      "metadata": {
        "id": "D755syqWWRV4"
      },
      "source": [
        "## Подготовка данных"
      ]
    },
    {
      "cell_type": "markdown",
      "metadata": {
        "id": "Av38XDwaWRV5"
      },
      "source": [
        "Избавимся от пропусков в столбце rougher.output.recovery"
      ]
    },
    {
      "cell_type": "code",
      "execution_count": 7,
      "metadata": {
        "id": "PFn0C1tJWRV7"
      },
      "outputs": [],
      "source": [
        "train.dropna(subset = ['rougher.output.recovery'], inplace = True)"
      ]
    },
    {
      "cell_type": "code",
      "execution_count": 8,
      "metadata": {
        "id": "eSnPkN3YWRV9"
      },
      "outputs": [],
      "source": [
        "C = train['rougher.output.concentrate_au']\n",
        "F = train['rougher.input.feed_au']\n",
        "T = train['rougher.output.tail_au']"
      ]
    },
    {
      "cell_type": "code",
      "execution_count": 9,
      "metadata": {
        "id": "A7bhOBe3WRWC"
      },
      "outputs": [],
      "source": [
        "calculation = ((C * (F - T)) / (F * (C - T))) * 100"
      ]
    },
    {
      "cell_type": "markdown",
      "metadata": {
        "id": "4K6MnMGLWRWD"
      },
      "source": [
        "Построим гистограмму для сравнения рассчетов"
      ]
    },
    {
      "cell_type": "code",
      "execution_count": 10,
      "metadata": {
        "colab": {
          "base_uri": "https://localhost:8080/",
          "height": 447
        },
        "id": "kFQOxliQWRWD",
        "outputId": "95882586-63da-4694-ad7f-400731b12fa1"
      },
      "outputs": [
        {
          "output_type": "execute_result",
          "data": {
            "text/plain": [
              "<Axes: >"
            ]
          },
          "metadata": {},
          "execution_count": 10
        },
        {
          "output_type": "display_data",
          "data": {
            "text/plain": [
              "<Figure size 640x480 with 1 Axes>"
            ],
            "image/png": "[encoded data removed]"
          },
          "metadata": {}
        }
      ],
      "source": [
        "calculation.hist(bins=100)"
      ]
    },
    {
      "cell_type": "code",
      "execution_count": 11,
      "metadata": {
        "colab": {
          "base_uri": "https://localhost:8080/",
          "height": 447
        },
        "id": "ELVBb1r5WRWE",
        "outputId": "d763fb03-0afc-4ef3-99ea-1605727e66f2"
      },
      "outputs": [
        {
          "output_type": "execute_result",
          "data": {
            "text/plain": [
              "<Axes: >"
            ]
          },
          "metadata": {},
          "execution_count": 11
        },
        {
          "output_type": "display_data",
          "data": {
            "text/plain": [
              "<Figure size 640x480 with 1 Axes>"
            ],
            "image/png": "[encoded data removed]"
          },
          "metadata": {}
        }
      ],
      "source": [
        "train['rougher.output.recovery'].hist(bins=100)"
      ]
    },
    {
      "cell_type": "code",
      "execution_count": 12,
      "metadata": {
        "colab": {
          "base_uri": "https://localhost:8080/"
        },
        "id": "PNaXzHeuWRWF",
        "outputId": "9330dd87-8630-49c9-b115-a17c20af0038"
      },
      "outputs": [
        {
          "output_type": "execute_result",
          "data": {
            "text/plain": [
              "0    87.107763\n",
              "1    86.843261\n",
              "2    86.842308\n",
              "3    87.226430\n",
              "4    86.688794\n",
              "5    88.156912\n",
              "6    88.168065\n",
              "7    87.668336\n",
              "8    87.035862\n",
              "9    88.280699\n",
              "dtype: float64"
            ]
          },
          "metadata": {},
          "execution_count": 12
        }
      ],
      "source": [
        "calculation.head(10)"
      ]
    },
    {
      "cell_type": "code",
      "execution_count": 13,
      "metadata": {
        "colab": {
          "base_uri": "https://localhost:8080/"
        },
        "id": "hb8QSHyJWRWX",
        "outputId": "8c8fc434-e798-4ee1-a50e-161fdc3c5433"
      },
      "outputs": [
        {
          "output_type": "execute_result",
          "data": {
            "text/plain": [
              "0    87.107763\n",
              "1    86.843261\n",
              "2    86.842308\n",
              "3    87.226430\n",
              "4    86.688794\n",
              "5    88.156912\n",
              "6    88.168065\n",
              "7    87.668336\n",
              "8    87.035862\n",
              "9    88.280699\n",
              "Name: rougher.output.recovery, dtype: float64"
            ]
          },
          "metadata": {},
          "execution_count": 13
        }
      ],
      "source": [
        "train['rougher.output.recovery'].head(10)"
      ]
    },
    {
      "cell_type": "markdown",
      "metadata": {
        "id": "60occ4CTWRWa"
      },
      "source": [
        "Графики и первые 10 строчек идентичные, что говорить о том что рассчеты верны."
      ]
    },
    {
      "cell_type": "markdown",
      "metadata": {
        "id": "3yXtISZUWRWc"
      },
      "source": [
        "Произведем рассчеты MAE"
      ]
    },
    {
      "cell_type": "code",
      "execution_count": 14,
      "metadata": {
        "colab": {
          "base_uri": "https://localhost:8080/"
        },
        "id": "4MrL05_1WRWk",
        "outputId": "9bd27bae-d2f0-4139-bcd7-b5d8ce47d33b"
      },
      "outputs": [
        {
          "output_type": "stream",
          "name": "stdout",
          "text": [
            "MAE 9.83758577644259e-15\n"
          ]
        }
      ],
      "source": [
        "print('MAE', mean_absolute_error(calculation, train['rougher.output.recovery']))"
      ]
    },
    {
      "cell_type": "markdown",
      "metadata": {
        "id": "Y4mgwjwvWRWl"
      },
      "source": [
        "Среднее обсалютное отклонеие очень мало, данные действительно почти не различаются, рассчеты верны."
      ]
    },
    {
      "cell_type": "markdown",
      "metadata": {
        "id": "QLZEEO7YWRWm"
      },
      "source": [
        "Сравним выборки test и train."
      ]
    },
    {
      "cell_type": "code",
      "execution_count": 15,
      "metadata": {
        "colab": {
          "base_uri": "https://localhost:8080/"
        },
        "id": "_dc0i8c6WRWn",
        "outputId": "3900dfb9-5db8-4381-8204-f1228a234fdf"
      },
      "outputs": [
        {
          "output_type": "stream",
          "name": "stdout",
          "text": [
            "(14579, 87)\n",
            "(4860, 53)\n"
          ]
        }
      ],
      "source": [
        "print(train.shape)\n",
        "print(test.shape)"
      ]
    },
    {
      "cell_type": "markdown",
      "metadata": {
        "id": "lufWfK_sWRWo"
      },
      "source": [
        "В обучающей выборке больше признаков чем в тестовой, изучим недостающие признаки."
      ]
    },
    {
      "cell_type": "code",
      "execution_count": 16,
      "metadata": {
        "colab": {
          "base_uri": "https://localhost:8080/"
        },
        "id": "oZ_GWlT6WRWp",
        "outputId": "1ff877c8-452e-40c9-9770-5229d96bfa6d"
      },
      "outputs": [
        {
          "output_type": "stream",
          "name": "stdout",
          "text": [
            "Index(['rougher.calculation.sulfate_to_au_concentrate',\n",
            "       'rougher.calculation.floatbank10_sulfate_to_au_feed',\n",
            "       'rougher.calculation.floatbank11_sulfate_to_au_feed',\n",
            "       'rougher.calculation.au_pb_ratio', 'rougher.output.concentrate_au',\n",
            "       'rougher.output.concentrate_ag', 'rougher.output.concentrate_pb',\n",
            "       'rougher.output.concentrate_sol', 'rougher.output.recovery',\n",
            "       'rougher.output.tail_au', 'rougher.output.tail_ag',\n",
            "       'rougher.output.tail_pb', 'rougher.output.tail_sol',\n",
            "       'primary_cleaner.output.concentrate_au',\n",
            "       'primary_cleaner.output.concentrate_ag',\n",
            "       'primary_cleaner.output.concentrate_pb',\n",
            "       'primary_cleaner.output.concentrate_sol',\n",
            "       'primary_cleaner.output.tail_au', 'primary_cleaner.output.tail_ag',\n",
            "       'primary_cleaner.output.tail_pb', 'primary_cleaner.output.tail_sol',\n",
            "       'secondary_cleaner.output.tail_au', 'secondary_cleaner.output.tail_ag',\n",
            "       'secondary_cleaner.output.tail_pb', 'secondary_cleaner.output.tail_sol',\n",
            "       'final.output.concentrate_au', 'final.output.concentrate_ag',\n",
            "       'final.output.concentrate_pb', 'final.output.concentrate_sol',\n",
            "       'final.output.recovery', 'final.output.tail_au', 'final.output.tail_ag',\n",
            "       'final.output.tail_pb', 'final.output.tail_sol'],\n",
            "      dtype='object')\n",
            "\n",
            "Количество отсутствующих признаков - 34\n"
          ]
        }
      ],
      "source": [
        "missing_column = train.columns.drop(test.columns)\n",
        "print(missing_column)\n",
        "print('\\nКоличество отсутствующих признаков -', len(missing_column))"
      ]
    },
    {
      "cell_type": "markdown",
      "metadata": {
        "id": "CBVUzhWaWRWq"
      },
      "source": [
        "По сути это целевые признаки. Это концентрация различных веществ на выходе после отчистки, а также доля веществ в отвальных хвостах.\n",
        "\n",
        "Получается что у нас есть 53 признака ( те что в test) и нам нужны 2 целевых признака `rougher.output.recovery, final.output.recovery`\n",
        "\n",
        "Далее уберем целевые признаки из обучающей выборки и добавим их в тестовую."
      ]
    },
    {
      "cell_type": "code",
      "execution_count": 17,
      "metadata": {
        "id": "DJBLxZV4WRWr"
      },
      "outputs": [],
      "source": [
        "col_missing_column = missing_column.drop(['rougher.output.recovery', 'final.output.recovery'])\n",
        "right_cols = train.columns.drop(col_missing_column)\n",
        "train = train[right_cols]"
      ]
    },
    {
      "cell_type": "markdown",
      "metadata": {
        "id": "62NoI0HCWRWr"
      },
      "source": [
        "Тепер подготовим тестовую выборку. Будем использовать столбец `date` как индекс."
      ]
    },
    {
      "cell_type": "code",
      "execution_count": 18,
      "metadata": {
        "id": "4Ny0Y5gjWRWv"
      },
      "outputs": [],
      "source": [
        "target_to_join = full[['date', 'final.output.recovery', 'rougher.output.recovery']].copy()"
      ]
    },
    {
      "cell_type": "code",
      "execution_count": 19,
      "metadata": {
        "id": "eSfgnr4LWRWw"
      },
      "outputs": [],
      "source": [
        "test = test.join(target_to_join.set_index('date'), on='date')"
      ]
    },
    {
      "cell_type": "markdown",
      "metadata": {
        "id": "cqDhSr-uWRWz"
      },
      "source": [
        "Проверим на пропуски в целевых признаках."
      ]
    },
    {
      "cell_type": "code",
      "execution_count": 20,
      "metadata": {
        "colab": {
          "base_uri": "https://localhost:8080/"
        },
        "id": "T08MPx4TWRW1",
        "outputId": "44ddb872-f1de-484b-8be3-704e30ba5e09"
      },
      "outputs": [
        {
          "output_type": "execute_result",
          "data": {
            "text/plain": [
              "False    4860\n",
              "Name: final.output.recovery, dtype: int64"
            ]
          },
          "metadata": {},
          "execution_count": 20
        }
      ],
      "source": [
        "test['final.output.recovery'].isna().value_counts()"
      ]
    },
    {
      "cell_type": "code",
      "execution_count": 21,
      "metadata": {
        "colab": {
          "base_uri": "https://localhost:8080/"
        },
        "id": "ExJqoSokWRW3",
        "outputId": "d529c5b6-a568-4db2-9cd3-395332aa11ef"
      },
      "outputs": [
        {
          "output_type": "execute_result",
          "data": {
            "text/plain": [
              "False    14579\n",
              "Name: final.output.recovery, dtype: int64"
            ]
          },
          "metadata": {},
          "execution_count": 21
        }
      ],
      "source": [
        "train['final.output.recovery'].isna().value_counts()"
      ]
    },
    {
      "cell_type": "code",
      "execution_count": 22,
      "metadata": {
        "colab": {
          "base_uri": "https://localhost:8080/"
        },
        "id": "Qn_eq1F6WRW5",
        "outputId": "d51bbf4c-45e9-408c-909d-ffb6b82712f7"
      },
      "outputs": [
        {
          "output_type": "execute_result",
          "data": {
            "text/plain": [
              "False    14579\n",
              "Name: rougher.output.recovery, dtype: int64"
            ]
          },
          "metadata": {},
          "execution_count": 22
        }
      ],
      "source": [
        "train['rougher.output.recovery'].isna().value_counts()"
      ]
    },
    {
      "cell_type": "code",
      "execution_count": 23,
      "metadata": {
        "colab": {
          "base_uri": "https://localhost:8080/"
        },
        "id": "IFPQAp29WRXR",
        "outputId": "5feab151-58ea-4c5b-f063-a52f0b5d3ad9"
      },
      "outputs": [
        {
          "output_type": "execute_result",
          "data": {
            "text/plain": [
              "False    4860\n",
              "Name: rougher.output.recovery, dtype: int64"
            ]
          },
          "metadata": {},
          "execution_count": 23
        }
      ],
      "source": [
        "test['rougher.output.recovery'].isna().value_counts()"
      ]
    },
    {
      "cell_type": "markdown",
      "metadata": {
        "id": "CZbaG-jfWRXW"
      },
      "source": [
        "Пропуски в целевых признаках отсутсвуют."
      ]
    },
    {
      "cell_type": "code",
      "execution_count": 24,
      "metadata": {
        "id": "5fPgGCE_WRXX"
      },
      "outputs": [],
      "source": [
        "test.reset_index(drop=True, inplace=True)\n",
        "train.reset_index(drop=True, inplace=True)"
      ]
    },
    {
      "cell_type": "code",
      "execution_count": 25,
      "metadata": {
        "colab": {
          "base_uri": "https://localhost:8080/"
        },
        "id": "2ueqx_wHWRXY",
        "outputId": "dceb0385-dd10-4c3a-f4d2-ed6dcca6563b"
      },
      "outputs": [
        {
          "output_type": "stream",
          "name": "stdout",
          "text": [
            "(4860, 55)\n",
            "(14579, 55)\n"
          ]
        }
      ],
      "source": [
        "print(test.shape)\n",
        "print(train.shape)"
      ]
    },
    {
      "cell_type": "markdown",
      "metadata": {
        "id": "I8dSTvI0WRYf"
      },
      "source": [
        "**Вывод**\n",
        "* Избавились от пропусков в столбце rougher.output.recovery\n",
        "* Проверили правильность расчета эффективности обогащения. МАЕ равно предельно малому значению.\n",
        "* Сравнили выборки test и train.\n",
        "* В тестовую выборку были добавлены целевые признаки `rougher.output.recovery, final.output.recovery`, которые будут необходимы в дальнейшем для рассчета итоговой метрики качества."
      ]
    },
    {
      "cell_type": "markdown",
      "metadata": {
        "id": "btqMyR3rWRYv"
      },
      "source": [
        "## Анализ данных"
      ]
    },
    {
      "cell_type": "markdown",
      "metadata": {
        "id": "Kzwsxi4xWRY_"
      },
      "source": [
        "Посмотрим, как меняется концентрация металлов (Au, Ag, Pb) на различных этапах очистки."
      ]
    },
    {
      "cell_type": "markdown",
      "metadata": {
        "id": "jywnlVf7WRZA"
      },
      "source": [
        "**Золото**"
      ]
    },
    {
      "cell_type": "code",
      "execution_count": 26,
      "metadata": {
        "id": "sWKW7xBKWRZO"
      },
      "outputs": [],
      "source": [
        "au_data = (full[[\n",
        "    'rougher.input.feed_au',\n",
        "    'rougher.output.concentrate_au',\n",
        "    'primary_cleaner.output.concentrate_au',\n",
        "    'final.output.concentrate_au']].copy())"
      ]
    },
    {
      "cell_type": "markdown",
      "metadata": {
        "id": "StRLjXRSWRaD"
      },
      "source": [
        "**Серебро**"
      ]
    },
    {
      "cell_type": "code",
      "execution_count": 27,
      "metadata": {
        "id": "gmJV_QvNWRaT"
      },
      "outputs": [],
      "source": [
        "ag_data = (full[[\n",
        "    'rougher.input.feed_ag',\n",
        "    'rougher.output.concentrate_ag',\n",
        "    'primary_cleaner.output.concentrate_ag',\n",
        "    'final.output.concentrate_ag']].copy())"
      ]
    },
    {
      "cell_type": "markdown",
      "metadata": {
        "id": "-z-l64ZFWRaV"
      },
      "source": [
        "**Cвинeц**"
      ]
    },
    {
      "cell_type": "code",
      "execution_count": 28,
      "metadata": {
        "id": "rpw5UArHWRaz"
      },
      "outputs": [],
      "source": [
        "pb_data = (full[[\n",
        "    'rougher.input.feed_pb',\n",
        "    'rougher.output.concentrate_pb',\n",
        "    'primary_cleaner.output.concentrate_pb',\n",
        "    'final.output.concentrate_pb']].copy())"
      ]
    },
    {
      "cell_type": "markdown",
      "metadata": {
        "id": "R0f4m_hyWRa1"
      },
      "source": [
        "Напишем функцию которая будет строить графики всех четырех столбцов на одном графике"
      ]
    },
    {
      "cell_type": "code",
      "execution_count": 29,
      "metadata": {
        "id": "llXmVllNWRa2"
      },
      "outputs": [],
      "source": [
        "def draw_graph(data, title):\n",
        "    fig, ax = plt.subplots(figsize=(12,6))\n",
        "    ax.set_ylabel('Кол-во наблюдений')\n",
        "    ax.set_xlabel('Концентрация металла')\n",
        "    ax.set_title(title)\n",
        "    for col in data:\n",
        "        data[col].hist(alpha=.3)\n",
        "        ax.legend(['Исходное сырье','Флотация','Первичная очистка', 'Вторичная очистка'])"
      ]
    },
    {
      "cell_type": "code",
      "execution_count": 30,
      "metadata": {
        "colab": {
          "base_uri": "https://localhost:8080/",
          "height": 564
        },
        "id": "jbNjxAbbWRa5",
        "outputId": "2bad2370-5b92-4b28-d211-e4c9ff6084b3"
      },
      "outputs": [
        {
          "output_type": "display_data",
          "data": {
            "text/plain": [
              "<Figure size 1200x600 with 1 Axes>"
            ],
            "image/png": "[encoded data removed]"
          },
          "metadata": {}
        }
      ],
      "source": [
        "draw_graph(au_data, 'Золото')"
      ]
    },
    {
      "cell_type": "code",
      "execution_count": 31,
      "metadata": {
        "colab": {
          "base_uri": "https://localhost:8080/",
          "height": 564
        },
        "id": "qZeFEDerWRa7",
        "outputId": "54699a09-a673-46e9-852c-a84d9c0140c2"
      },
      "outputs": [
        {
          "output_type": "display_data",
          "data": {
            "text/plain": [
              "<Figure size 1200x600 with 1 Axes>"
            ],
            "image/png": "[encoded data removed]"
          },
          "metadata": {}
        }
      ],
      "source": [
        "draw_graph(ag_data, 'Серебро')"
      ]
    },
    {
      "cell_type": "code",
      "execution_count": 32,
      "metadata": {
        "colab": {
          "base_uri": "https://localhost:8080/",
          "height": 564
        },
        "id": "O0_W6tNWWRa_",
        "outputId": "5df7e972-9ece-4ba9-c4e2-27ee72fecb63"
      },
      "outputs": [
        {
          "output_type": "display_data",
          "data": {
            "text/plain": [
              "<Figure size 1200x600 with 1 Axes>"
            ],
            "image/png": "[encoded data removed]"
          },
          "metadata": {}
        }
      ],
      "source": [
        "draw_graph(pb_data, 'Свинец')"
      ]
    },
    {
      "cell_type": "markdown",
      "metadata": {
        "id": "qAcpmitjWRbB"
      },
      "source": [
        "На графиках становиться видно что содержания металла разное на различных этапах, так например видно как с каждым новым этапом ростёт содержание золота, серебра становитсья меньше после вторичной очистки, а для свинца концентрация после первичной и вторичной очиски практически одинаковое"
      ]
    },
    {
      "cell_type": "markdown",
      "metadata": {
        "id": "bW_IExfSWRbC"
      },
      "source": [
        "В датасете есть 2 параметра `feed_size` это `rougher.input.feed_size` и `primary_cleaner.input.feed_size` сравним их распределения в обучающей и тестовой выборках."
      ]
    },
    {
      "cell_type": "code",
      "execution_count": 33,
      "metadata": {
        "colab": {
          "base_uri": "https://localhost:8080/",
          "height": 430
        },
        "id": "I4zacFT4WRbD",
        "outputId": "141c7036-fea9-41f2-9bde-59049eddf063"
      },
      "outputs": [
        {
          "output_type": "display_data",
          "data": {
            "text/plain": [
              "<Figure size 640x480 with 1 Axes>"
            ],
            "image/png": "[encoded data removed]"
          },
          "metadata": {}
        }
      ],
      "source": [
        "train['rougher.input.feed_size'].hist(bins=20,density=True, alpha=.3)\n",
        "test['rougher.input.feed_size'].hist(bins=20,density=True, alpha=.3)\n",
        "plt.show()"
      ]
    },
    {
      "cell_type": "code",
      "execution_count": 34,
      "metadata": {
        "colab": {
          "base_uri": "https://localhost:8080/",
          "height": 431
        },
        "id": "ibV0M6aaWRbQ",
        "outputId": "4fa0fd66-4384-43cb-b63e-1e5d9b7a55f9"
      },
      "outputs": [
        {
          "output_type": "display_data",
          "data": {
            "text/plain": [
              "<Figure size 640x480 with 1 Axes>"
            ],
            "image/png": "[encoded data removed]"
          },
          "metadata": {}
        }
      ],
      "source": [
        "train['primary_cleaner.input.feed_size'].hist(density=True, alpha=.3)\n",
        "test['primary_cleaner.input.feed_size'].hist(density=True, alpha=.3)\n",
        "plt.show()"
      ]
    },
    {
      "cell_type": "markdown",
      "metadata": {
        "id": "6IYJzpp6WRbm"
      },
      "source": [
        "У обоих параметров не сильно различатся параметры, эти различия не должны сильно повлиять на модель."
      ]
    },
    {
      "cell_type": "markdown",
      "metadata": {
        "id": "Tgn_TA1uWRbo"
      },
      "source": [
        "Cоздадим новый датасет с данныим о концентрации веществ и просуммируем их концентрацию на разных стадиях"
      ]
    },
    {
      "cell_type": "code",
      "execution_count": 35,
      "metadata": {
        "id": "n3L1jKrbWRbt"
      },
      "outputs": [],
      "source": [
        "concentrate_data = full[[\n",
        "    'date','rougher.input.feed_ag', 'rougher.input.feed_pb', 'rougher.input.feed_sol',\n",
        "    'rougher.input.feed_au', 'primary_cleaner.output.concentrate_ag', 'primary_cleaner.output.concentrate_pb',\n",
        "    'primary_cleaner.output.concentrate_sol', 'primary_cleaner.output.concentrate_au', 'final.output.concentrate_ag',\n",
        "    'final.output.concentrate_pb', 'final.output.concentrate_sol', 'final.output.concentrate_au']].copy()\n",
        "\n",
        "concentrate_data['conc_sum_rougher'] = concentrate_data[\n",
        "    'rougher.input.feed_ag'] + concentrate_data['rougher.input.feed_pb'] + concentrate_data[\n",
        "    'rougher.input.feed_sol'] + concentrate_data['rougher.input.feed_au']\n",
        "\n",
        "concentrate_data['conc_sum_primary'] = concentrate_data[\n",
        "    'primary_cleaner.output.concentrate_ag'] + concentrate_data['primary_cleaner.output.concentrate_pb'] + concentrate_data[\n",
        "    'primary_cleaner.output.concentrate_sol'] + concentrate_data['primary_cleaner.output.concentrate_au']\n",
        "\n",
        "concentrate_data['conc_sum_final'] = concentrate_data[\n",
        "    'final.output.concentrate_ag'] + concentrate_data['final.output.concentrate_pb'] + concentrate_data[\n",
        "    'final.output.concentrate_sol'] + concentrate_data['final.output.concentrate_au']\n"
      ]
    },
    {
      "cell_type": "markdown",
      "metadata": {
        "id": "3EAUa8_WWRb2"
      },
      "source": [
        "Построим гистограммы для суммарных концентраций веществ"
      ]
    },
    {
      "cell_type": "code",
      "execution_count": 36,
      "metadata": {
        "colab": {
          "base_uri": "https://localhost:8080/",
          "height": 447
        },
        "id": "7O2N-KnsWRcP",
        "outputId": "4e1b5392-d45b-4781-e25a-570be92fa091"
      },
      "outputs": [
        {
          "output_type": "execute_result",
          "data": {
            "text/plain": [
              "<Axes: >"
            ]
          },
          "metadata": {},
          "execution_count": 36
        },
        {
          "output_type": "display_data",
          "data": {
            "text/plain": [
              "<Figure size 640x480 with 1 Axes>"
            ],
            "image/png": "[encoded data removed]"
          },
          "metadata": {}
        }
      ],
      "source": [
        "concentrate_data['conc_sum_rougher'].hist(alpha=.3)\n",
        "concentrate_data['conc_sum_primary'].hist(alpha=.3)\n",
        "concentrate_data['conc_sum_final'].hist(alpha=.3)"
      ]
    },
    {
      "cell_type": "markdown",
      "metadata": {
        "id": "D42_3-fGWRdF"
      },
      "source": [
        "По графикам видим, что в суммарных данных присутсвуют нулевые или близких к нулю значений. Нужно избавиться от наблюдений с такими аномалиями, чтобы они не повлияли на качество модели."
      ]
    },
    {
      "cell_type": "markdown",
      "metadata": {
        "id": "xbNCxC9lWRdH"
      },
      "source": [
        "Создадим датасет с аномальными наблюдениями"
      ]
    },
    {
      "cell_type": "code",
      "execution_count": 37,
      "metadata": {
        "id": "hKjsxuucWRdI"
      },
      "outputs": [],
      "source": [
        "anomaly = (concentrate_data[['date', 'conc_sum_rougher', 'conc_sum_primary', 'conc_sum_final']]\n",
        "           .copy()\n",
        "           .query('conc_sum_rougher == 0 or conc_sum_primary == 0 or conc_sum_final == 0')\n",
        "           .fillna(0))"
      ]
    },
    {
      "cell_type": "code",
      "execution_count": 38,
      "metadata": {
        "colab": {
          "base_uri": "https://localhost:8080/",
          "height": 363
        },
        "id": "RuQUDew0WRdJ",
        "outputId": "06fadaa4-6202-4b0d-fe68-169373a3a395"
      },
      "outputs": [
        {
          "output_type": "execute_result",
          "data": {
            "text/plain": [
              "                      date  conc_sum_rougher  conc_sum_primary  conc_sum_final\n",
              "11123  2017-07-07 02:59:59         68.352122          0.000000       71.263933\n",
              "9244   2017-04-05 05:59:59          0.000000          0.000000       64.690452\n",
              "25     2016-01-16 01:00:00         57.764677          0.000000       63.765751\n",
              "9249   2017-04-05 10:59:59          0.000000          0.000000       64.690452\n",
              "11898  2017-08-10 08:59:59         66.538045          0.000000       70.374035\n",
              "10325  2017-06-02 01:59:59         51.940241          0.000000        0.000000\n",
              "11110  2017-07-06 13:59:59         65.819140          0.000000       72.999385\n",
              "9377   2017-04-11 00:59:59         55.061367          0.000000       70.788415\n",
              "10881  2017-06-26 21:59:59         66.157124         68.515189        0.000000\n",
              "516    2016-02-08 00:00:00         46.703740         53.725613        0.000000"
            ],
            "text/html": [
              "\n",
              "  <div id=\"df-78b3e015-bffa-41f4-8619-fec9ec960f7a\" class=\"colab-df-container\">\n",
              "    <div>\n",
              "<style scoped>\n",
              "    .dataframe tbody tr th:only-of-type {\n",
              "        vertical-align: middle;\n",
              "    }\n",
              "\n",
              "    .dataframe tbody tr th {\n",
              "        vertical-align: top;\n",
              "    }\n",
              "\n",
              "    .dataframe thead th {\n",
              "        text-align: right;\n",
              "    }\n",
              "</style>\n",
              "<table border=\"1\" class=\"dataframe\">\n",
              "  <thead>\n",
              "    <tr style=\"text-align: right;\">\n",
              "      <th></th>\n",
              "      <th>date</th>\n",
              "      <th>conc_sum_rougher</th>\n",
              "      <th>conc_sum_primary</th>\n",
              "      <th>conc_sum_final</th>\n",
              "    </tr>\n",
              "  </thead>\n",
              "  <tbody>\n",
              "    <tr>\n",
              "      <th>11123</th>\n",
              "      <td>2017-07-07 02:59:59</td>\n",
              "      <td>68.352122</td>\n",
              "      <td>0.000000</td>\n",
              "      <td>71.263933</td>\n",
              "    </tr>\n",
              "    <tr>\n",
              "      <th>9244</th>\n",
              "      <td>2017-04-05 05:59:59</td>\n",
              "      <td>0.000000</td>\n",
              "      <td>0.000000</td>\n",
              "      <td>64.690452</td>\n",
              "    </tr>\n",
              "    <tr>\n",
              "      <th>25</th>\n",
              "      <td>2016-01-16 01:00:00</td>\n",
              "      <td>57.764677</td>\n",
              "      <td>0.000000</td>\n",
              "      <td>63.765751</td>\n",
              "    </tr>\n",
              "    <tr>\n",
              "      <th>9249</th>\n",
              "      <td>2017-04-05 10:59:59</td>\n",
              "      <td>0.000000</td>\n",
              "      <td>0.000000</td>\n",
              "      <td>64.690452</td>\n",
              "    </tr>\n",
              "    <tr>\n",
              "      <th>11898</th>\n",
              "      <td>2017-08-10 08:59:59</td>\n",
              "      <td>66.538045</td>\n",
              "      <td>0.000000</td>\n",
              "      <td>70.374035</td>\n",
              "    </tr>\n",
              "    <tr>\n",
              "      <th>10325</th>\n",
              "      <td>2017-06-02 01:59:59</td>\n",
              "      <td>51.940241</td>\n",
              "      <td>0.000000</td>\n",
              "      <td>0.000000</td>\n",
              "    </tr>\n",
              "    <tr>\n",
              "      <th>11110</th>\n",
              "      <td>2017-07-06 13:59:59</td>\n",
              "      <td>65.819140</td>\n",
              "      <td>0.000000</td>\n",
              "      <td>72.999385</td>\n",
              "    </tr>\n",
              "    <tr>\n",
              "      <th>9377</th>\n",
              "      <td>2017-04-11 00:59:59</td>\n",
              "      <td>55.061367</td>\n",
              "      <td>0.000000</td>\n",
              "      <td>70.788415</td>\n",
              "    </tr>\n",
              "    <tr>\n",
              "      <th>10881</th>\n",
              "      <td>2017-06-26 21:59:59</td>\n",
              "      <td>66.157124</td>\n",
              "      <td>68.515189</td>\n",
              "      <td>0.000000</td>\n",
              "    </tr>\n",
              "    <tr>\n",
              "      <th>516</th>\n",
              "      <td>2016-02-08 00:00:00</td>\n",
              "      <td>46.703740</td>\n",
              "      <td>53.725613</td>\n",
              "      <td>0.000000</td>\n",
              "    </tr>\n",
              "  </tbody>\n",
              "</table>\n",
              "</div>\n",
              "    <div class=\"colab-df-buttons\">\n",
              "\n",
              "  <div class=\"colab-df-container\">\n",
              "    <button class=\"colab-df-convert\" onclick=\"convertToInteractive('df-78b3e015-bffa-41f4-8619-fec9ec960f7a')\"\n",
              "            title=\"Convert this dataframe to an interactive table.\"\n",
              "            style=\"display:none;\">\n",
              "\n",
              "  <svg xmlns=\"http://www.w3.org/2000/svg\" height=\"24px\" viewBox=\"0 -960 960 960\">\n",
              "    <path d=\"M120-120v-720h720v720H120Zm60-500h600v-160H180v160Zm220 220h160v-160H400v160Zm0 220h160v-160H400v160ZM180-400h160v-160H180v160Zm440 0h160v-160H620v160ZM180-180h160v-160H180v160Zm440 0h160v-160H620v160Z\"/>\n",
              "  </svg>\n",
              "    </button>\n",
              "\n",
              "  <style>\n",
              "    .colab-df-container {\n",
              "      display:flex;\n",
              "      gap: 12px;\n",
              "    }\n",
              "\n",
              "    .colab-df-convert {\n",
              "      background-color: #E8F0FE;\n",
              "      border: none;\n",
              "      border-radius: 50%;\n",
              "      cursor: pointer;\n",
              "      display: none;\n",
              "      fill: #1967D2;\n",
              "      height: 32px;\n",
              "      padding: 0 0 0 0;\n",
              "      width: 32px;\n",
              "    }\n",
              "\n",
              "    .colab-df-convert:hover {\n",
              "      background-color: #E2EBFA;\n",
              "      box-shadow: 0px 1px 2px rgba(60, 64, 67, 0.3), 0px 1px 3px 1px rgba(60, 64, 67, 0.15);\n",
              "      fill: #174EA6;\n",
              "    }\n",
              "\n",
              "    .colab-df-buttons div {\n",
              "      margin-bottom: 4px;\n",
              "    }\n",
              "\n",
              "    [theme=dark] .colab-df-convert {\n",
              "      background-color: #3B4455;\n",
              "      fill: #D2E3FC;\n",
              "    }\n",
              "\n",
              "    [theme=dark] .colab-df-convert:hover {\n",
              "      background-color: #434B5C;\n",
              "      box-shadow: 0px 1px 3px 1px rgba(0, 0, 0, 0.15);\n",
              "      filter: drop-shadow(0px 1px 2px rgba(0, 0, 0, 0.3));\n",
              "      fill: #FFFFFF;\n",
              "    }\n",
              "  </style>\n",
              "\n",
              "    <script>\n",
              "      const buttonEl =\n",
              "        document.querySelector('#df-78b3e015-bffa-41f4-8619-fec9ec960f7a button.colab-df-convert');\n",
              "      buttonEl.style.display =\n",
              "        google.colab.kernel.accessAllowed ? 'block' : 'none';\n",
              "\n",
              "      async function convertToInteractive(key) {\n",
              "        const element = document.querySelector('#df-78b3e015-bffa-41f4-8619-fec9ec960f7a');\n",
              "        const dataTable =\n",
              "          await google.colab.kernel.invokeFunction('convertToInteractive',\n",
              "                                                    [key], {});\n",
              "        if (!dataTable) return;\n",
              "\n",
              "        const docLinkHtml = 'Like what you see? Visit the ' +\n",
              "          '<a target=\"_blank\" href=https://colab.research.google.com/notebooks/data_table.ipynb>data table notebook</a>'\n",
              "          + ' to learn more about interactive tables.';\n",
              "        element.innerHTML = '';\n",
              "        dataTable['output_type'] = 'display_data';\n",
              "        await google.colab.output.renderOutput(dataTable, element);\n",
              "        const docLink = document.createElement('div');\n",
              "        docLink.innerHTML = docLinkHtml;\n",
              "        element.appendChild(docLink);\n",
              "      }\n",
              "    </script>\n",
              "  </div>\n",
              "\n",
              "\n",
              "<div id=\"df-fee1c165-6e38-4317-a2ac-e47873b9a77d\">\n",
              "  <button class=\"colab-df-quickchart\" onclick=\"quickchart('df-fee1c165-6e38-4317-a2ac-e47873b9a77d')\"\n",
              "            title=\"Suggest charts\"\n",
              "            style=\"display:none;\">\n",
              "\n",
              "<svg xmlns=\"http://www.w3.org/2000/svg\" height=\"24px\"viewBox=\"0 0 24 24\"\n",
              "     width=\"24px\">\n",
              "    <g>\n",
              "        <path d=\"M19 3H5c-1.1 0-2 .9-2 2v14c0 1.1.9 2 2 2h14c1.1 0 2-.9 2-2V5c0-1.1-.9-2-2-2zM9 17H7v-7h2v7zm4 0h-2V7h2v10zm4 0h-2v-4h2v4z\"/>\n",
              "    </g>\n",
              "</svg>\n",
              "  </button>\n",
              "\n",
              "<style>\n",
              "  .colab-df-quickchart {\n",
              "      --bg-color: #E8F0FE;\n",
              "      --fill-color: #1967D2;\n",
              "      --hover-bg-color: #E2EBFA;\n",
              "      --hover-fill-color: #174EA6;\n",
              "      --disabled-fill-color: #AAA;\n",
              "      --disabled-bg-color: #DDD;\n",
              "  }\n",
              "\n",
              "  [theme=dark] .colab-df-quickchart {\n",
              "      --bg-color: #3B4455;\n",
              "      --fill-color: #D2E3FC;\n",
              "      --hover-bg-color: #434B5C;\n",
              "      --hover-fill-color: #FFFFFF;\n",
              "      --disabled-bg-color: #3B4455;\n",
              "      --disabled-fill-color: #666;\n",
              "  }\n",
              "\n",
              "  .colab-df-quickchart {\n",
              "    background-color: var(--bg-color);\n",
              "    border: none;\n",
              "    border-radius: 50%;\n",
              "    cursor: pointer;\n",
              "    display: none;\n",
              "    fill: var(--fill-color);\n",
              "    height: 32px;\n",
              "    padding: 0;\n",
              "    width: 32px;\n",
              "  }\n",
              "\n",
              "  .colab-df-quickchart:hover {\n",
              "    background-color: var(--hover-bg-color);\n",
              "    box-shadow: 0 1px 2px rgba(60, 64, 67, 0.3), 0 1px 3px 1px rgba(60, 64, 67, 0.15);\n",
              "    fill: var(--button-hover-fill-color);\n",
              "  }\n",
              "\n",
              "  .colab-df-quickchart-complete:disabled,\n",
              "  .colab-df-quickchart-complete:disabled:hover {\n",
              "    background-color: var(--disabled-bg-color);\n",
              "    fill: var(--disabled-fill-color);\n",
              "    box-shadow: none;\n",
              "  }\n",
              "\n",
              "  .colab-df-spinner {\n",
              "    border: 2px solid var(--fill-color);\n",
              "    border-color: transparent;\n",
              "    border-bottom-color: var(--fill-color);\n",
              "    animation:\n",
              "      spin 1s steps(1) infinite;\n",
              "  }\n",
              "\n",
              "  @keyframes spin {\n",
              "    0% {\n",
              "      border-color: transparent;\n",
              "      border-bottom-color: var(--fill-color);\n",
              "      border-left-color: var(--fill-color);\n",
              "    }\n",
              "    20% {\n",
              "      border-color: transparent;\n",
              "      border-left-color: var(--fill-color);\n",
              "      border-top-color: var(--fill-color);\n",
              "    }\n",
              "    30% {\n",
              "      border-color: transparent;\n",
              "      border-left-color: var(--fill-color);\n",
              "      border-top-color: var(--fill-color);\n",
              "      border-right-color: var(--fill-color);\n",
              "    }\n",
              "    40% {\n",
              "      border-color: transparent;\n",
              "      border-right-color: var(--fill-color);\n",
              "      border-top-color: var(--fill-color);\n",
              "    }\n",
              "    60% {\n",
              "      border-color: transparent;\n",
              "      border-right-color: var(--fill-color);\n",
              "    }\n",
              "    80% {\n",
              "      border-color: transparent;\n",
              "      border-right-color: var(--fill-color);\n",
              "      border-bottom-color: var(--fill-color);\n",
              "    }\n",
              "    90% {\n",
              "      border-color: transparent;\n",
              "      border-bottom-color: var(--fill-color);\n",
              "    }\n",
              "  }\n",
              "</style>\n",
              "\n",
              "  <script>\n",
              "    async function quickchart(key) {\n",
              "      const quickchartButtonEl =\n",
              "        document.querySelector('#' + key + ' button');\n",
              "      quickchartButtonEl.disabled = true;  // To prevent multiple clicks.\n",
              "      quickchartButtonEl.classList.add('colab-df-spinner');\n",
              "      try {\n",
              "        const charts = await google.colab.kernel.invokeFunction(\n",
              "            'suggestCharts', [key], {});\n",
              "      } catch (error) {\n",
              "        console.error('Error during call to suggestCharts:', error);\n",
              "      }\n",
              "      quickchartButtonEl.classList.remove('colab-df-spinner');\n",
              "      quickchartButtonEl.classList.add('colab-df-quickchart-complete');\n",
              "    }\n",
              "    (() => {\n",
              "      let quickchartButtonEl =\n",
              "        document.querySelector('#df-fee1c165-6e38-4317-a2ac-e47873b9a77d button');\n",
              "      quickchartButtonEl.style.display =\n",
              "        google.colab.kernel.accessAllowed ? 'block' : 'none';\n",
              "    })();\n",
              "  </script>\n",
              "</div>\n",
              "    </div>\n",
              "  </div>\n"
            ]
          },
          "metadata": {},
          "execution_count": 38
        }
      ],
      "source": [
        "anomaly.sample(10)"
      ]
    },
    {
      "cell_type": "markdown",
      "metadata": {
        "id": "guWzdof-WRdM"
      },
      "source": [
        "Избавимся от аномальных значений в обучающей выборке."
      ]
    },
    {
      "cell_type": "code",
      "execution_count": 39,
      "metadata": {
        "id": "dMHW-ztMWRd3"
      },
      "outputs": [],
      "source": [
        "train = train.join(anomaly.set_index('date'), on='date')"
      ]
    },
    {
      "cell_type": "code",
      "execution_count": 40,
      "metadata": {
        "id": "cnDutCf8WRd5"
      },
      "outputs": [],
      "source": [
        "train[['conc_sum_rougher', 'conc_sum_primary', 'conc_sum_final']] = train[[\n",
        "    'conc_sum_rougher', 'conc_sum_primary', 'conc_sum_final']].fillna(-1)"
      ]
    },
    {
      "cell_type": "code",
      "execution_count": 41,
      "metadata": {
        "id": "LoFxh88eWRd5"
      },
      "outputs": [],
      "source": [
        "train = train.query('conc_sum_rougher == -1 and conc_sum_primary == -1 and conc_sum_final == -1')"
      ]
    },
    {
      "cell_type": "markdown",
      "metadata": {
        "id": "25DqXqOZWRd6"
      },
      "source": [
        "Проверим, что все выполнилось правильно - значением всех признаков должно быть -1"
      ]
    },
    {
      "cell_type": "code",
      "execution_count": 42,
      "metadata": {
        "colab": {
          "base_uri": "https://localhost:8080/",
          "height": 447
        },
        "id": "iovxy85DWRd7",
        "outputId": "38459b17-d8fe-48b5-990e-0a25c435b52e"
      },
      "outputs": [
        {
          "output_type": "execute_result",
          "data": {
            "text/plain": [
              "<Axes: >"
            ]
          },
          "metadata": {},
          "execution_count": 42
        },
        {
          "output_type": "display_data",
          "data": {
            "text/plain": [
              "<Figure size 640x480 with 1 Axes>"
            ],
            "image/png": "[encoded data removed]"
          },
          "metadata": {}
        }
      ],
      "source": [
        "train['conc_sum_rougher'].hist(alpha=.2)\n",
        "train['conc_sum_primary'].hist(alpha=.2)\n",
        "train['conc_sum_final'].hist(alpha=.2)"
      ]
    },
    {
      "cell_type": "markdown",
      "metadata": {
        "id": "UIbxyYePWRed"
      },
      "source": [
        "Избавимся от ненужных столбцов"
      ]
    },
    {
      "cell_type": "code",
      "execution_count": 43,
      "metadata": {
        "id": "unoNhBOxWRef"
      },
      "outputs": [],
      "source": [
        "train.drop(['conc_sum_rougher', 'conc_sum_primary', 'conc_sum_final'], axis='columns', inplace=True)"
      ]
    },
    {
      "cell_type": "code",
      "execution_count": 44,
      "metadata": {
        "id": "Kqji4n4DWRel"
      },
      "outputs": [],
      "source": [
        "train.dropna(inplace=True)"
      ]
    },
    {
      "cell_type": "code",
      "execution_count": 45,
      "metadata": {
        "colab": {
          "base_uri": "https://localhost:8080/"
        },
        "id": "4fZbiPmsWRe9",
        "outputId": "49709d90-2231-4cd1-a4eb-c3dfd163ac55"
      },
      "outputs": [
        {
          "output_type": "stream",
          "name": "stdout",
          "text": [
            "(13225, 55)\n",
            "(4860, 55)\n"
          ]
        }
      ],
      "source": [
        "print(train.shape)\n",
        "print(test.shape)"
      ]
    },
    {
      "cell_type": "markdown",
      "metadata": {
        "id": "GF5BHdXqWRfO"
      },
      "source": [
        "Все готово, можно построить модель."
      ]
    },
    {
      "cell_type": "markdown",
      "metadata": {
        "id": "7P4plHnDWRfP"
      },
      "source": [
        "**Вывод**\n",
        "* Доля золота увеличивается по мере прохождения этапов очистки\n",
        "* Распределения гранул сырья на обучающей и тестовой выборках значительных различий не имеют\n",
        "* Анамалии были удалены для улучшения качества будущих моделей прогнозирования"
      ]
    },
    {
      "cell_type": "markdown",
      "metadata": {
        "id": "5MqRiXZ-WRfu"
      },
      "source": [
        "## Модель"
      ]
    },
    {
      "cell_type": "markdown",
      "metadata": {
        "id": "BBrFToB9WRfv"
      },
      "source": [
        "Создадим функцию для рассчета метрики качества модели - sMAPE (Symmetric Mean Absolute Percentage Error)."
      ]
    },
    {
      "cell_type": "code",
      "execution_count": 46,
      "metadata": {
        "id": "u91gT5XGWRfx"
      },
      "outputs": [],
      "source": [
        "def smape (target, predictions):\n",
        "    return 100/len(target) * np.sum(2 * np.abs(predictions - target) / (np.abs(target) + np.abs(predictions)))"
      ]
    },
    {
      "cell_type": "code",
      "execution_count": 47,
      "metadata": {
        "id": "9OjRXjQkWRfy"
      },
      "outputs": [],
      "source": [
        "smape_scorer = make_scorer(smape, greater_is_better = False)"
      ]
    },
    {
      "cell_type": "markdown",
      "metadata": {
        "id": "puWvsWabWRfz"
      },
      "source": [
        "А также функцию для рассчета итогового sMAPE"
      ]
    },
    {
      "cell_type": "code",
      "execution_count": 48,
      "metadata": {
        "id": "kI8w_jaGWRgS"
      },
      "outputs": [],
      "source": [
        "def final_smape (rougher, final):\n",
        "    return 0.25 * rougher + 0.75 * final"
      ]
    },
    {
      "cell_type": "markdown",
      "metadata": {
        "id": "OBO1U2eVWRgf"
      },
      "source": [
        "Подготовим features и target для обучающей выборки."
      ]
    },
    {
      "cell_type": "code",
      "execution_count": 49,
      "metadata": {
        "id": "YJ4hYgR8WRgg"
      },
      "outputs": [],
      "source": [
        "target_rougher = train['rougher.output.recovery']\n",
        "target_final = train['final.output.recovery']\n",
        "\n",
        "features_train = train.drop(['date', 'final.output.recovery', 'rougher.output.recovery'], axis='columns')"
      ]
    },
    {
      "cell_type": "markdown",
      "metadata": {
        "id": "KeQAogNmWRgg"
      },
      "source": [
        "Проверим несколько моделей методом кросс-валидации и выберем лучший результат."
      ]
    },
    {
      "cell_type": "code",
      "execution_count": 50,
      "metadata": {
        "id": "RDUjqtnuWRgh"
      },
      "outputs": [],
      "source": [
        "state=RandomState(777)"
      ]
    },
    {
      "cell_type": "markdown",
      "metadata": {
        "id": "wqvwpIdvWRgi"
      },
      "source": [
        "**DecisionTreeRegressor**"
      ]
    },
    {
      "cell_type": "code",
      "execution_count": 51,
      "metadata": {
        "colab": {
          "base_uri": "https://localhost:8080/"
        },
        "id": "vXquwZU7WRgj",
        "outputId": "948ae1e4-bda1-4415-caf0-f0363034faf1"
      },
      "outputs": [
        {
          "output_type": "execute_result",
          "data": {
            "text/plain": [
              "-1.5868668409352071"
            ]
          },
          "metadata": {},
          "execution_count": 51
        }
      ],
      "source": [
        "model_dtr = DecisionTreeRegressor(random_state=state)\n",
        "cross_val_score(model_dtr, features_train, target_rougher, cv=3).mean()"
      ]
    },
    {
      "cell_type": "code",
      "execution_count": 52,
      "metadata": {
        "colab": {
          "base_uri": "https://localhost:8080/"
        },
        "id": "WXFu2t23WRgk",
        "outputId": "cb86170a-c276-47d3-ff85-06e2c71d550d"
      },
      "outputs": [
        {
          "output_type": "stream",
          "name": "stdout",
          "text": [
            "10.248319437326375\n"
          ]
        }
      ],
      "source": [
        "best_result_for_dtr = 100\n",
        "best_param_for_dtr = 0\n",
        "for n in range(1, 10, 1):\n",
        "    model_dtr_rougher = DecisionTreeRegressor(max_depth=n, random_state=state)\n",
        "    smape_rougher = cross_val_score(model_dtr_rougher,\n",
        "                              features_train,\n",
        "                              target_rougher,\n",
        "                              scoring=smape_scorer,\n",
        "                              cv=3)\n",
        "    final_smape_rougher = smape_rougher.mean()\n",
        "\n",
        "    model_dtr_final = DecisionTreeRegressor(max_depth=n, random_state=state)\n",
        "    smape_final = cross_val_score(model_dtr_final,\n",
        "                                  features_train,\n",
        "                                  target_final,\n",
        "                                  scoring=smape_scorer,\n",
        "                                  cv=3)\n",
        "    final_smape_final = smape_final.mean()\n",
        "    result_smape = final_smape(final_smape_rougher, final_smape_final)*(-1)\n",
        "    if result_smape < best_result_for_dtr:\n",
        "        best_result_for_dtr = result_smape\n",
        "        best_param_for_dtr = n\n",
        "dct_with_scores= best_result_for_dtr\n",
        "print(dct_with_scores)"
      ]
    },
    {
      "cell_type": "markdown",
      "metadata": {
        "id": "1zQmFQXUWRgp"
      },
      "source": [
        "**LinearRegression**"
      ]
    },
    {
      "cell_type": "code",
      "execution_count": 53,
      "metadata": {
        "colab": {
          "base_uri": "https://localhost:8080/"
        },
        "id": "AgoynkpMWRgu",
        "outputId": "a5741960-39e7-42b3-db84-984fdb13aa74"
      },
      "outputs": [
        {
          "output_type": "execute_result",
          "data": {
            "text/plain": [
              "-0.33268518756823956"
            ]
          },
          "metadata": {},
          "execution_count": 53
        }
      ],
      "source": [
        "model_lr = LinearRegression()\n",
        "cross_val_score(model_lr, features_train, target_rougher, cv=3).mean()"
      ]
    },
    {
      "cell_type": "code",
      "execution_count": 54,
      "metadata": {
        "colab": {
          "base_uri": "https://localhost:8080/"
        },
        "id": "ao75lRoAWRgx",
        "outputId": "0b4e0eca-057d-4891-db24-4383a95299a4"
      },
      "outputs": [
        {
          "output_type": "stream",
          "name": "stdout",
          "text": [
            "11.166135453160907\n"
          ]
        }
      ],
      "source": [
        "model_lr_rougher = LinearRegression()\n",
        "smape_rougher = cross_val_score(model_lr_rougher,\n",
        "                          features_train,\n",
        "                          target_rougher,\n",
        "                          scoring=smape_scorer,\n",
        "                          cv=3)\n",
        "final_smape_rougher = smape_rougher.mean()\n",
        "model_lr_final = LinearRegression()\n",
        "smape_final = cross_val_score(model_lr_final,\n",
        "                        features_train,\n",
        "                        target_final,\n",
        "                        scoring=smape_scorer,\n",
        "                        cv=3)\n",
        "final_smape_final = smape_final.mean()\n",
        "result_smape = final_smape(final_smape_rougher, final_smape_final)*(-1)\n",
        "dct_with_scores = result_smape\n",
        "print(dct_with_scores)"
      ]
    },
    {
      "cell_type": "markdown",
      "metadata": {
        "id": "0JbAGl2vWRgz"
      },
      "source": [
        "**CatBoostRegressor**"
      ]
    },
    {
      "cell_type": "code",
      "execution_count": 55,
      "metadata": {
        "colab": {
          "base_uri": "https://localhost:8080/"
        },
        "id": "okUeL6rLWRg0",
        "outputId": "6d003001-2e14-42a3-8f01-11018f99b17e"
      },
      "outputs": [
        {
          "output_type": "stream",
          "name": "stdout",
          "text": [
            "0:\tlearn: 12.5225610\ttotal: 57.2ms\tremaining: 57.2ms\n",
            "1:\tlearn: 12.1346109\ttotal: 65.1ms\tremaining: 0us\n",
            "0:\tlearn: 12.7483610\ttotal: 9.22ms\tremaining: 9.22ms\n",
            "1:\tlearn: 12.2280527\ttotal: 16.9ms\tremaining: 0us\n",
            "0:\tlearn: 13.2281343\ttotal: 8.07ms\tremaining: 8.07ms\n",
            "1:\tlearn: 12.2756298\ttotal: 16.8ms\tremaining: 0us\n"
          ]
        },
        {
          "output_type": "execute_result",
          "data": {
            "text/plain": [
              "-0.3297013348362244"
            ]
          },
          "metadata": {},
          "execution_count": 55
        }
      ],
      "source": [
        "model_cb = CatBoostRegressor(iterations=2, learning_rate=1, depth=2)\n",
        "cross_val_score(model_cb, features_train, target_rougher, cv=3).mean()"
      ]
    },
    {
      "cell_type": "code",
      "execution_count": 56,
      "metadata": {
        "id": "MUf1XQZ8WRg1"
      },
      "outputs": [],
      "source": [
        "cbr = CatBoostRegressor()"
      ]
    },
    {
      "cell_type": "code",
      "execution_count": 57,
      "metadata": {
        "id": "pYG1P8_zWRg7"
      },
      "outputs": [],
      "source": [
        "parametrs = { 'iterations': range (1, 5, 1),\n",
        "              'depth': range (1,10, 1) }\n"
      ]
    },
    {
      "cell_type": "code",
      "execution_count": 58,
      "metadata": {
        "collapsed": true,
        "colab": {
          "base_uri": "https://localhost:8080/",
          "height": 1000
        },
        "id": "gCTVqLC1WRhB",
        "outputId": "7f7530a0-314d-4a29-d7d4-118f877db1ca"
      },
      "outputs": [
        {
          "output_type": "stream",
          "name": "stdout",
          "text": [
            "Learning rate set to 0.5\n",
            "0:\tlearn: 13.6911548\ttotal: 8.26ms\tremaining: 0us\n",
            "Learning rate set to 0.5\n",
            "0:\tlearn: 13.3608974\ttotal: 3.36ms\tremaining: 0us\n",
            "Learning rate set to 0.5\n",
            "0:\tlearn: 14.4473040\ttotal: 3.07ms\tremaining: 0us\n",
            "Learning rate set to 0.5\n",
            "0:\tlearn: 13.6911548\ttotal: 6.69ms\tremaining: 6.69ms\n",
            "1:\tlearn: 13.1526233\ttotal: 12.3ms\tremaining: 0us\n",
            "Learning rate set to 0.5\n",
            "0:\tlearn: 13.3608974\ttotal: 6.8ms\tremaining: 6.8ms\n",
            "1:\tlearn: 12.9692869\ttotal: 10.9ms\tremaining: 0us\n",
            "Learning rate set to 0.5\n",
            "0:\tlearn: 14.4473040\ttotal: 4.44ms\tremaining: 4.44ms\n",
            "1:\tlearn: 14.0578297\ttotal: 9.31ms\tremaining: 0us\n",
            "Learning rate set to 0.5\n",
            "0:\tlearn: 13.6911548\ttotal: 4.14ms\tremaining: 8.29ms\n",
            "1:\tlearn: 13.1526233\ttotal: 8.69ms\tremaining: 4.34ms\n",
            "2:\tlearn: 12.9289427\ttotal: 10.9ms\tremaining: 0us\n",
            "Learning rate set to 0.5\n",
            "0:\tlearn: 13.3608974\ttotal: 6.48ms\tremaining: 13ms\n",
            "1:\tlearn: 12.9692869\ttotal: 10.1ms\tremaining: 5.06ms\n",
            "2:\tlearn: 12.7489992\ttotal: 13.3ms\tremaining: 0us\n",
            "Learning rate set to 0.5\n",
            "0:\tlearn: 14.4473040\ttotal: 6.47ms\tremaining: 12.9ms\n",
            "1:\tlearn: 14.0578297\ttotal: 12ms\tremaining: 5.99ms\n",
            "2:\tlearn: 13.7181271\ttotal: 17.1ms\tremaining: 0us\n",
            "Learning rate set to 0.5\n",
            "0:\tlearn: 13.6911548\ttotal: 3.31ms\tremaining: 9.94ms\n",
            "1:\tlearn: 13.1526233\ttotal: 7.03ms\tremaining: 7.03ms\n",
            "2:\tlearn: 12.9289427\ttotal: 12.6ms\tremaining: 4.18ms\n",
            "3:\tlearn: 12.7600652\ttotal: 17.7ms\tremaining: 0us\n",
            "Learning rate set to 0.5\n",
            "0:\tlearn: 13.3608974\ttotal: 3.39ms\tremaining: 10.2ms\n",
            "1:\tlearn: 12.9692869\ttotal: 9.25ms\tremaining: 9.25ms\n",
            "2:\tlearn: 12.7489992\ttotal: 13.4ms\tremaining: 4.46ms\n",
            "3:\tlearn: 12.5288098\ttotal: 18.9ms\tremaining: 0us\n",
            "Learning rate set to 0.5\n",
            "0:\tlearn: 14.4473040\ttotal: 7.29ms\tremaining: 21.9ms\n",
            "1:\tlearn: 14.0578297\ttotal: 10.9ms\tremaining: 10.9ms\n",
            "2:\tlearn: 13.7181271\ttotal: 16.7ms\tremaining: 5.56ms\n",
            "3:\tlearn: 13.4328160\ttotal: 22.8ms\tremaining: 0us\n",
            "Learning rate set to 0.5\n",
            "0:\tlearn: 13.0525011\ttotal: 9.24ms\tremaining: 0us\n",
            "Learning rate set to 0.5\n",
            "0:\tlearn: 13.0340740\ttotal: 4.79ms\tremaining: 0us\n",
            "Learning rate set to 0.5\n",
            "0:\tlearn: 13.7696293\ttotal: 6.87ms\tremaining: 0us\n",
            "Learning rate set to 0.5\n",
            "0:\tlearn: 13.0525011\ttotal: 8.48ms\tremaining: 8.48ms\n",
            "1:\tlearn: 12.4329453\ttotal: 15ms\tremaining: 0us\n",
            "Learning rate set to 0.5\n",
            "0:\tlearn: 13.0340740\ttotal: 6.26ms\tremaining: 6.26ms\n",
            "1:\tlearn: 12.6234401\ttotal: 10.2ms\tremaining: 0us\n",
            "Learning rate set to 0.5\n",
            "0:\tlearn: 13.7696293\ttotal: 6.04ms\tremaining: 6.04ms\n",
            "1:\tlearn: 13.0302452\ttotal: 12.1ms\tremaining: 0us\n",
            "Learning rate set to 0.5\n",
            "0:\tlearn: 13.0525011\ttotal: 9.94ms\tremaining: 19.9ms\n",
            "1:\tlearn: 12.4329453\ttotal: 17.8ms\tremaining: 8.92ms\n",
            "2:\tlearn: 12.1834464\ttotal: 27.7ms\tremaining: 0us\n",
            "Learning rate set to 0.5\n",
            "0:\tlearn: 13.0340740\ttotal: 3.42ms\tremaining: 6.85ms\n",
            "1:\tlearn: 12.6234401\ttotal: 6.7ms\tremaining: 3.35ms\n",
            "2:\tlearn: 12.2486621\ttotal: 9.81ms\tremaining: 0us\n",
            "Learning rate set to 0.5\n",
            "0:\tlearn: 13.7696293\ttotal: 3.98ms\tremaining: 7.97ms\n",
            "1:\tlearn: 13.0302452\ttotal: 7.02ms\tremaining: 3.51ms\n",
            "2:\tlearn: 12.6099219\ttotal: 10.2ms\tremaining: 0us\n",
            "Learning rate set to 0.5\n",
            "0:\tlearn: 13.0525011\ttotal: 3.12ms\tremaining: 9.36ms\n",
            "1:\tlearn: 12.4329453\ttotal: 5.97ms\tremaining: 5.97ms\n",
            "2:\tlearn: 12.1834464\ttotal: 9.47ms\tremaining: 3.15ms\n",
            "3:\tlearn: 11.8588074\ttotal: 12.8ms\tremaining: 0us\n",
            "Learning rate set to 0.5\n",
            "0:\tlearn: 13.0340740\ttotal: 3.51ms\tremaining: 10.5ms\n",
            "1:\tlearn: 12.6234401\ttotal: 7.15ms\tremaining: 7.15ms\n",
            "2:\tlearn: 12.2486621\ttotal: 11.3ms\tremaining: 3.78ms\n",
            "3:\tlearn: 11.7120147\ttotal: 20.3ms\tremaining: 0us\n",
            "Learning rate set to 0.5\n",
            "0:\tlearn: 13.7696293\ttotal: 3.32ms\tremaining: 9.96ms\n",
            "1:\tlearn: 13.0302452\ttotal: 6.73ms\tremaining: 6.73ms\n",
            "2:\tlearn: 12.6099219\ttotal: 9.8ms\tremaining: 3.27ms\n",
            "3:\tlearn: 12.2485954\ttotal: 13.3ms\tremaining: 0us\n",
            "Learning rate set to 0.5\n",
            "0:\tlearn: 12.6186327\ttotal: 9.83ms\tremaining: 0us\n",
            "Learning rate set to 0.5\n",
            "0:\tlearn: 12.3236663\ttotal: 5.2ms\tremaining: 0us\n",
            "Learning rate set to 0.5\n",
            "0:\tlearn: 13.4978267\ttotal: 4.68ms\tremaining: 0us\n",
            "Learning rate set to 0.5\n",
            "0:\tlearn: 12.6186327\ttotal: 4.46ms\tremaining: 4.46ms\n",
            "1:\tlearn: 12.0246577\ttotal: 9.14ms\tremaining: 0us\n",
            "Learning rate set to 0.5\n",
            "0:\tlearn: 12.3236663\ttotal: 4.73ms\tremaining: 4.73ms\n",
            "1:\tlearn: 11.5586951\ttotal: 9.29ms\tremaining: 0us\n",
            "Learning rate set to 0.5\n",
            "0:\tlearn: 13.4978267\ttotal: 13.9ms\tremaining: 13.9ms\n",
            "1:\tlearn: 12.4790139\ttotal: 18.9ms\tremaining: 0us\n",
            "Learning rate set to 0.5\n",
            "0:\tlearn: 12.6186327\ttotal: 4.5ms\tremaining: 8.99ms\n",
            "1:\tlearn: 12.0246577\ttotal: 8.88ms\tremaining: 4.44ms\n",
            "2:\tlearn: 11.7070383\ttotal: 13.9ms\tremaining: 0us\n",
            "Learning rate set to 0.5\n",
            "0:\tlearn: 12.3236663\ttotal: 4.55ms\tremaining: 9.1ms\n",
            "1:\tlearn: 11.5586951\ttotal: 9.28ms\tremaining: 4.64ms\n",
            "2:\tlearn: 11.0413276\ttotal: 14.1ms\tremaining: 0us\n",
            "Learning rate set to 0.5\n",
            "0:\tlearn: 13.4978267\ttotal: 4.75ms\tremaining: 9.49ms\n",
            "1:\tlearn: 12.4790139\ttotal: 9.28ms\tremaining: 4.64ms\n",
            "2:\tlearn: 11.9164003\ttotal: 13.7ms\tremaining: 0us\n",
            "Learning rate set to 0.5\n",
            "0:\tlearn: 12.6186327\ttotal: 4.57ms\tremaining: 13.7ms\n",
            "1:\tlearn: 12.0246577\ttotal: 9.21ms\tremaining: 9.21ms\n",
            "2:\tlearn: 11.7070383\ttotal: 14.2ms\tremaining: 4.73ms\n",
            "3:\tlearn: 11.4524624\ttotal: 18.6ms\tremaining: 0us\n",
            "Learning rate set to 0.5\n",
            "0:\tlearn: 12.3236663\ttotal: 4.58ms\tremaining: 13.7ms\n",
            "1:\tlearn: 11.5586951\ttotal: 8.88ms\tremaining: 8.88ms\n",
            "2:\tlearn: 11.0413276\ttotal: 13.3ms\tremaining: 4.45ms\n",
            "3:\tlearn: 10.7460790\ttotal: 17.7ms\tremaining: 0us\n",
            "Learning rate set to 0.5\n",
            "0:\tlearn: 13.4978267\ttotal: 4.52ms\tremaining: 13.6ms\n",
            "1:\tlearn: 12.4790139\ttotal: 10.7ms\tremaining: 10.7ms\n",
            "2:\tlearn: 11.9164003\ttotal: 20.1ms\tremaining: 6.71ms\n",
            "3:\tlearn: 11.4304196\ttotal: 24.6ms\tremaining: 0us\n",
            "Learning rate set to 0.5\n",
            "0:\tlearn: 12.3930382\ttotal: 7ms\tremaining: 0us\n",
            "Learning rate set to 0.5\n",
            "0:\tlearn: 11.9093740\ttotal: 6.99ms\tremaining: 0us\n",
            "Learning rate set to 0.5\n",
            "0:\tlearn: 13.1865616\ttotal: 6.59ms\tremaining: 0us\n",
            "Learning rate set to 0.5\n",
            "0:\tlearn: 12.3930382\ttotal: 6.46ms\tremaining: 6.46ms\n",
            "1:\tlearn: 11.5496798\ttotal: 13ms\tremaining: 0us\n",
            "Learning rate set to 0.5\n",
            "0:\tlearn: 11.9093740\ttotal: 6.64ms\tremaining: 6.64ms\n",
            "1:\tlearn: 11.0623731\ttotal: 14.8ms\tremaining: 0us\n",
            "Learning rate set to 0.5\n",
            "0:\tlearn: 13.1865616\ttotal: 6.17ms\tremaining: 6.17ms\n",
            "1:\tlearn: 12.2030340\ttotal: 13.3ms\tremaining: 0us\n",
            "Learning rate set to 0.5\n",
            "0:\tlearn: 12.3930382\ttotal: 6.42ms\tremaining: 12.8ms\n",
            "1:\tlearn: 11.5496798\ttotal: 14.5ms\tremaining: 7.25ms\n",
            "2:\tlearn: 10.9819640\ttotal: 20.7ms\tremaining: 0us\n",
            "Learning rate set to 0.5\n",
            "0:\tlearn: 11.9093740\ttotal: 6.46ms\tremaining: 12.9ms\n",
            "1:\tlearn: 11.0623731\ttotal: 13.1ms\tremaining: 6.56ms\n",
            "2:\tlearn: 10.6430827\ttotal: 19.5ms\tremaining: 0us\n",
            "Learning rate set to 0.5\n",
            "0:\tlearn: 13.1865616\ttotal: 6.35ms\tremaining: 12.7ms\n",
            "1:\tlearn: 12.2030340\ttotal: 12.4ms\tremaining: 6.19ms\n",
            "2:\tlearn: 11.6027462\ttotal: 18.9ms\tremaining: 0us\n",
            "Learning rate set to 0.5\n",
            "0:\tlearn: 12.3930382\ttotal: 6.46ms\tremaining: 19.4ms\n",
            "1:\tlearn: 11.5496798\ttotal: 13.1ms\tremaining: 13.1ms\n",
            "2:\tlearn: 10.9819640\ttotal: 19ms\tremaining: 6.35ms\n",
            "3:\tlearn: 10.6585817\ttotal: 25.3ms\tremaining: 0us\n",
            "Learning rate set to 0.5\n",
            "0:\tlearn: 11.9093740\ttotal: 6.5ms\tremaining: 19.5ms\n",
            "1:\tlearn: 11.0623731\ttotal: 13.8ms\tremaining: 13.8ms\n",
            "2:\tlearn: 10.6430827\ttotal: 20.7ms\tremaining: 6.89ms\n",
            "3:\tlearn: 10.2345348\ttotal: 26.8ms\tremaining: 0us\n",
            "Learning rate set to 0.5\n",
            "0:\tlearn: 13.1865616\ttotal: 6.68ms\tremaining: 20ms\n",
            "1:\tlearn: 12.2030340\ttotal: 12.7ms\tremaining: 12.7ms\n",
            "2:\tlearn: 11.6027462\ttotal: 19ms\tremaining: 6.35ms\n",
            "3:\tlearn: 10.9397162\ttotal: 25.1ms\tremaining: 0us\n",
            "Learning rate set to 0.5\n",
            "0:\tlearn: 12.3590475\ttotal: 11.2ms\tremaining: 0us\n",
            "Learning rate set to 0.5\n",
            "0:\tlearn: 11.7665441\ttotal: 15.9ms\tremaining: 0us\n",
            "Learning rate set to 0.5\n",
            "0:\tlearn: 12.7431427\ttotal: 13.5ms\tremaining: 0us\n",
            "Learning rate set to 0.5\n",
            "0:\tlearn: 12.3590475\ttotal: 12.5ms\tremaining: 12.5ms\n",
            "1:\tlearn: 11.2317301\ttotal: 22ms\tremaining: 0us\n",
            "Learning rate set to 0.5\n",
            "0:\tlearn: 11.7665441\ttotal: 14.8ms\tremaining: 14.8ms\n",
            "1:\tlearn: 10.8641044\ttotal: 33.5ms\tremaining: 0us\n",
            "Learning rate set to 0.5\n",
            "0:\tlearn: 12.7431427\ttotal: 9.33ms\tremaining: 9.33ms\n",
            "1:\tlearn: 11.3519397\ttotal: 20.1ms\tremaining: 0us\n",
            "Learning rate set to 0.5\n",
            "0:\tlearn: 12.3590475\ttotal: 9.07ms\tremaining: 18.1ms\n",
            "1:\tlearn: 11.2317301\ttotal: 19.7ms\tremaining: 9.85ms\n",
            "2:\tlearn: 10.7712617\ttotal: 31.2ms\tremaining: 0us\n",
            "Learning rate set to 0.5\n",
            "0:\tlearn: 11.7665441\ttotal: 9.64ms\tremaining: 19.3ms\n",
            "1:\tlearn: 10.8641044\ttotal: 19ms\tremaining: 9.52ms\n",
            "2:\tlearn: 10.4195545\ttotal: 28.4ms\tremaining: 0us\n",
            "Learning rate set to 0.5\n",
            "0:\tlearn: 12.7431427\ttotal: 15.6ms\tremaining: 31.1ms\n",
            "1:\tlearn: 11.3519397\ttotal: 25ms\tremaining: 12.5ms\n",
            "2:\tlearn: 10.8834457\ttotal: 34.2ms\tremaining: 0us\n",
            "Learning rate set to 0.5\n",
            "0:\tlearn: 12.3590475\ttotal: 9.58ms\tremaining: 28.7ms\n",
            "1:\tlearn: 11.2317301\ttotal: 18.9ms\tremaining: 18.9ms\n",
            "2:\tlearn: 10.7712617\ttotal: 28.4ms\tremaining: 9.47ms\n",
            "3:\tlearn: 10.5224978\ttotal: 37.6ms\tremaining: 0us\n",
            "Learning rate set to 0.5\n",
            "0:\tlearn: 11.7665441\ttotal: 9.65ms\tremaining: 28.9ms\n",
            "1:\tlearn: 10.8641044\ttotal: 20.5ms\tremaining: 20.5ms\n",
            "2:\tlearn: 10.4195545\ttotal: 30.5ms\tremaining: 10.2ms\n",
            "3:\tlearn: 9.9540270\ttotal: 40.7ms\tremaining: 0us\n",
            "Learning rate set to 0.5\n",
            "0:\tlearn: 12.7431427\ttotal: 9.17ms\tremaining: 27.5ms\n",
            "1:\tlearn: 11.3519397\ttotal: 18.5ms\tremaining: 18.5ms\n",
            "2:\tlearn: 10.8834457\ttotal: 28ms\tremaining: 9.34ms\n",
            "3:\tlearn: 10.6150147\ttotal: 37.3ms\tremaining: 0us\n",
            "Learning rate set to 0.5\n",
            "0:\tlearn: 12.1503556\ttotal: 19ms\tremaining: 0us\n",
            "Learning rate set to 0.5\n",
            "0:\tlearn: 11.5189565\ttotal: 15.8ms\tremaining: 0us\n",
            "Learning rate set to 0.5\n",
            "0:\tlearn: 12.5900650\ttotal: 15.1ms\tremaining: 0us\n",
            "Learning rate set to 0.5\n",
            "0:\tlearn: 12.1503556\ttotal: 14.8ms\tremaining: 14.8ms\n",
            "1:\tlearn: 11.3700668\ttotal: 29.8ms\tremaining: 0us\n",
            "Learning rate set to 0.5\n",
            "0:\tlearn: 11.5189565\ttotal: 14.6ms\tremaining: 14.6ms\n",
            "1:\tlearn: 10.6306191\ttotal: 28.5ms\tremaining: 0us\n",
            "Learning rate set to 0.5\n",
            "0:\tlearn: 12.5900650\ttotal: 14.5ms\tremaining: 14.5ms\n",
            "1:\tlearn: 11.1321903\ttotal: 29.3ms\tremaining: 0us\n",
            "Learning rate set to 0.5\n",
            "0:\tlearn: 12.1503556\ttotal: 14.4ms\tremaining: 28.8ms\n",
            "1:\tlearn: 11.3700668\ttotal: 29.1ms\tremaining: 14.5ms\n",
            "2:\tlearn: 10.6059491\ttotal: 50.6ms\tremaining: 0us\n",
            "Learning rate set to 0.5\n",
            "0:\tlearn: 11.5189565\ttotal: 14.6ms\tremaining: 29.3ms\n",
            "1:\tlearn: 10.6306191\ttotal: 29.6ms\tremaining: 14.8ms\n",
            "2:\tlearn: 9.9375999\ttotal: 44.5ms\tremaining: 0us\n",
            "Learning rate set to 0.5\n",
            "0:\tlearn: 12.5900650\ttotal: 14.8ms\tremaining: 29.7ms\n",
            "1:\tlearn: 11.1321903\ttotal: 30.2ms\tremaining: 15.1ms\n",
            "2:\tlearn: 10.5070845\ttotal: 45.3ms\tremaining: 0us\n",
            "Learning rate set to 0.5\n",
            "0:\tlearn: 12.1503556\ttotal: 14.6ms\tremaining: 43.8ms\n",
            "1:\tlearn: 11.3700668\ttotal: 29.6ms\tremaining: 29.6ms\n",
            "2:\tlearn: 10.6059491\ttotal: 49.1ms\tremaining: 16.4ms\n",
            "3:\tlearn: 10.3845859\ttotal: 76ms\tremaining: 0us\n",
            "Learning rate set to 0.5\n",
            "0:\tlearn: 11.5189565\ttotal: 15.1ms\tremaining: 45.3ms\n",
            "1:\tlearn: 10.6306191\ttotal: 30ms\tremaining: 30ms\n",
            "2:\tlearn: 9.9375999\ttotal: 44.4ms\tremaining: 14.8ms\n",
            "3:\tlearn: 9.6287781\ttotal: 58.9ms\tremaining: 0us\n",
            "Learning rate set to 0.5\n",
            "0:\tlearn: 12.5900650\ttotal: 14.3ms\tremaining: 42.9ms\n",
            "1:\tlearn: 11.1321903\ttotal: 28.7ms\tremaining: 28.7ms\n",
            "2:\tlearn: 10.5070845\ttotal: 43.5ms\tremaining: 14.5ms\n",
            "3:\tlearn: 10.1891939\ttotal: 59.6ms\tremaining: 0us\n",
            "Learning rate set to 0.5\n",
            "0:\tlearn: 11.9189663\ttotal: 37.1ms\tremaining: 0us\n",
            "Learning rate set to 0.5\n",
            "0:\tlearn: 11.4421552\ttotal: 36.3ms\tremaining: 0us\n",
            "Learning rate set to 0.5\n",
            "0:\tlearn: 12.3567886\ttotal: 32.1ms\tremaining: 0us\n",
            "Learning rate set to 0.5\n",
            "0:\tlearn: 11.9189663\ttotal: 33.3ms\tremaining: 33.3ms\n",
            "1:\tlearn: 11.0854061\ttotal: 56.5ms\tremaining: 0us\n",
            "Learning rate set to 0.5\n",
            "0:\tlearn: 11.4421552\ttotal: 32ms\tremaining: 32ms\n",
            "1:\tlearn: 10.4535814\ttotal: 60.7ms\tremaining: 0us\n",
            "Learning rate set to 0.5\n",
            "0:\tlearn: 12.3567886\ttotal: 32.3ms\tremaining: 32.3ms\n",
            "1:\tlearn: 10.9796656\ttotal: 58.7ms\tremaining: 0us\n",
            "Learning rate set to 0.5\n",
            "0:\tlearn: 11.9189663\ttotal: 35.3ms\tremaining: 70.6ms\n",
            "1:\tlearn: 11.0854061\ttotal: 58.7ms\tremaining: 29.3ms\n",
            "2:\tlearn: 10.6164343\ttotal: 82.4ms\tremaining: 0us\n",
            "Learning rate set to 0.5\n",
            "0:\tlearn: 11.4421552\ttotal: 64.5ms\tremaining: 129ms\n",
            "1:\tlearn: 10.4535814\ttotal: 102ms\tremaining: 50.9ms\n",
            "2:\tlearn: 9.6917764\ttotal: 144ms\tremaining: 0us\n",
            "Learning rate set to 0.5\n",
            "0:\tlearn: 12.3567886\ttotal: 65.7ms\tremaining: 131ms\n",
            "1:\tlearn: 10.9796656\ttotal: 116ms\tremaining: 57.9ms\n",
            "2:\tlearn: 10.5169241\ttotal: 170ms\tremaining: 0us\n",
            "Learning rate set to 0.5\n",
            "0:\tlearn: 11.9189663\ttotal: 70.3ms\tremaining: 211ms\n",
            "1:\tlearn: 11.0854061\ttotal: 122ms\tremaining: 122ms\n",
            "2:\tlearn: 10.6164343\ttotal: 171ms\tremaining: 57ms\n",
            "3:\tlearn: 10.2754520\ttotal: 235ms\tremaining: 0us\n",
            "Learning rate set to 0.5\n",
            "0:\tlearn: 11.4421552\ttotal: 86ms\tremaining: 258ms\n",
            "1:\tlearn: 10.4535814\ttotal: 116ms\tremaining: 116ms\n",
            "2:\tlearn: 9.6917764\ttotal: 140ms\tremaining: 46.6ms\n",
            "3:\tlearn: 9.2801486\ttotal: 164ms\tremaining: 0us\n",
            "Learning rate set to 0.5\n",
            "0:\tlearn: 12.3567886\ttotal: 34.1ms\tremaining: 102ms\n",
            "1:\tlearn: 10.9796656\ttotal: 65.4ms\tremaining: 65.4ms\n",
            "2:\tlearn: 10.5169241\ttotal: 89.7ms\tremaining: 29.9ms\n",
            "3:\tlearn: 10.0275039\ttotal: 114ms\tremaining: 0us\n",
            "Learning rate set to 0.5\n",
            "0:\tlearn: 11.8590065\ttotal: 60.5ms\tremaining: 0us\n",
            "Learning rate set to 0.5\n",
            "0:\tlearn: 11.2647058\ttotal: 61.5ms\tremaining: 0us\n",
            "Learning rate set to 0.5\n",
            "0:\tlearn: 12.0412954\ttotal: 62.6ms\tremaining: 0us\n",
            "Learning rate set to 0.5\n",
            "0:\tlearn: 11.8590065\ttotal: 60.2ms\tremaining: 60.2ms\n",
            "1:\tlearn: 10.9119240\ttotal: 105ms\tremaining: 0us\n",
            "Learning rate set to 0.5\n",
            "0:\tlearn: 11.2647058\ttotal: 58.2ms\tremaining: 58.2ms\n",
            "1:\tlearn: 10.3098845\ttotal: 102ms\tremaining: 0us\n",
            "Learning rate set to 0.5\n",
            "0:\tlearn: 12.0412954\ttotal: 62.5ms\tremaining: 62.5ms\n",
            "1:\tlearn: 10.8113461\ttotal: 111ms\tremaining: 0us\n",
            "Learning rate set to 0.5\n",
            "0:\tlearn: 11.8590065\ttotal: 68ms\tremaining: 136ms\n",
            "1:\tlearn: 10.9119240\ttotal: 113ms\tremaining: 56.6ms\n",
            "2:\tlearn: 10.3449549\ttotal: 161ms\tremaining: 0us\n",
            "Learning rate set to 0.5\n",
            "0:\tlearn: 11.2647058\ttotal: 65.8ms\tremaining: 132ms\n",
            "1:\tlearn: 10.3098845\ttotal: 116ms\tremaining: 58ms\n",
            "2:\tlearn: 9.6133674\ttotal: 169ms\tremaining: 0us\n",
            "Learning rate set to 0.5\n",
            "0:\tlearn: 12.0412954\ttotal: 61.7ms\tremaining: 123ms\n",
            "1:\tlearn: 10.8113461\ttotal: 125ms\tremaining: 62.4ms\n",
            "2:\tlearn: 10.1134600\ttotal: 203ms\tremaining: 0us\n",
            "Learning rate set to 0.5\n",
            "0:\tlearn: 11.8590065\ttotal: 115ms\tremaining: 345ms\n",
            "1:\tlearn: 10.9119240\ttotal: 213ms\tremaining: 213ms\n",
            "2:\tlearn: 10.3449549\ttotal: 282ms\tremaining: 93.8ms\n",
            "3:\tlearn: 9.9248342\ttotal: 360ms\tremaining: 0us\n",
            "Learning rate set to 0.5\n",
            "0:\tlearn: 11.2647058\ttotal: 101ms\tremaining: 304ms\n",
            "1:\tlearn: 10.3098845\ttotal: 162ms\tremaining: 162ms\n",
            "2:\tlearn: 9.6133674\ttotal: 244ms\tremaining: 81.2ms\n",
            "3:\tlearn: 8.7429643\ttotal: 319ms\tremaining: 0us\n",
            "Learning rate set to 0.5\n",
            "0:\tlearn: 12.0412954\ttotal: 120ms\tremaining: 359ms\n",
            "1:\tlearn: 10.8113461\ttotal: 212ms\tremaining: 212ms\n",
            "2:\tlearn: 10.1134600\ttotal: 296ms\tremaining: 98.6ms\n",
            "3:\tlearn: 9.7180159\ttotal: 381ms\tremaining: 0us\n",
            "Learning rate set to 0.5\n",
            "0:\tlearn: 11.8521415\ttotal: 225ms\tremaining: 0us\n",
            "Learning rate set to 0.5\n",
            "0:\tlearn: 11.1894172\ttotal: 215ms\tremaining: 0us\n",
            "Learning rate set to 0.5\n",
            "0:\tlearn: 12.0270206\ttotal: 228ms\tremaining: 0us\n",
            "Learning rate set to 0.5\n",
            "0:\tlearn: 11.8521415\ttotal: 201ms\tremaining: 201ms\n",
            "1:\tlearn: 10.7417458\ttotal: 347ms\tremaining: 0us\n",
            "Learning rate set to 0.5\n",
            "0:\tlearn: 11.1894172\ttotal: 204ms\tremaining: 204ms\n",
            "1:\tlearn: 10.1596496\ttotal: 348ms\tremaining: 0us\n",
            "Learning rate set to 0.5\n",
            "0:\tlearn: 12.0270206\ttotal: 193ms\tremaining: 193ms\n",
            "1:\tlearn: 10.6312707\ttotal: 330ms\tremaining: 0us\n",
            "Learning rate set to 0.5\n",
            "0:\tlearn: 11.8521415\ttotal: 196ms\tremaining: 393ms\n",
            "1:\tlearn: 10.7417458\ttotal: 277ms\tremaining: 138ms\n",
            "2:\tlearn: 10.0965247\ttotal: 360ms\tremaining: 0us\n",
            "Learning rate set to 0.5\n",
            "0:\tlearn: 11.1894172\ttotal: 124ms\tremaining: 247ms\n",
            "1:\tlearn: 10.1596496\ttotal: 209ms\tremaining: 105ms\n",
            "2:\tlearn: 9.2406200\ttotal: 291ms\tremaining: 0us\n",
            "Learning rate set to 0.5\n",
            "0:\tlearn: 12.0270206\ttotal: 115ms\tremaining: 231ms\n",
            "1:\tlearn: 10.6312707\ttotal: 202ms\tremaining: 101ms\n",
            "2:\tlearn: 9.9514923\ttotal: 285ms\tremaining: 0us\n",
            "Learning rate set to 0.5\n",
            "0:\tlearn: 11.8521415\ttotal: 114ms\tremaining: 343ms\n",
            "1:\tlearn: 10.7417458\ttotal: 197ms\tremaining: 197ms\n",
            "2:\tlearn: 10.0965247\ttotal: 288ms\tremaining: 96.1ms\n",
            "3:\tlearn: 9.6818574\ttotal: 382ms\tremaining: 0us\n",
            "Learning rate set to 0.5\n",
            "0:\tlearn: 11.1894172\ttotal: 114ms\tremaining: 343ms\n",
            "1:\tlearn: 10.1596496\ttotal: 200ms\tremaining: 200ms\n",
            "2:\tlearn: 9.2406200\ttotal: 285ms\tremaining: 94.9ms\n",
            "3:\tlearn: 8.5813945\ttotal: 373ms\tremaining: 0us\n",
            "Learning rate set to 0.5\n",
            "0:\tlearn: 12.0270206\ttotal: 123ms\tremaining: 368ms\n",
            "1:\tlearn: 10.6312707\ttotal: 204ms\tremaining: 204ms\n",
            "2:\tlearn: 9.9514923\ttotal: 287ms\tremaining: 95.6ms\n",
            "3:\tlearn: 9.5238784\ttotal: 375ms\tremaining: 0us\n",
            "Learning rate set to 0.5\n",
            "0:\tlearn: 12.4610294\ttotal: 15.7ms\tremaining: 47ms\n",
            "1:\tlearn: 11.4129278\ttotal: 31.3ms\tremaining: 31.3ms\n",
            "2:\tlearn: 10.8329860\ttotal: 46.7ms\tremaining: 15.6ms\n",
            "3:\tlearn: 10.5088478\ttotal: 61.7ms\tremaining: 0us\n"
          ]
        },
        {
          "output_type": "execute_result",
          "data": {
            "text/plain": [
              "GridSearchCV(cv=3,\n",
              "             estimator=<catboost.core.CatBoostRegressor object at 0x7f840ca11570>,\n",
              "             param_grid={'depth': range(1, 10), 'iterations': range(1, 5)})"
            ],
            "text/html": [
              "<style>#sk-container-id-1 {color: black;background-color: white;}#sk-container-id-1 pre{padding: 0;}#sk-container-id-1 div.sk-toggleable {background-color: white;}#sk-container-id-1 label.sk-toggleable__label {cursor: pointer;display: block;width: 100%;margin-bottom: 0;padding: 0.3em;box-sizing: border-box;text-align: center;}#sk-container-id-1 label.sk-toggleable__label-arrow:before {content: \"▸\";float: left;margin-right: 0.25em;color: #696969;}#sk-container-id-1 label.sk-toggleable__label-arrow:hover:before {color: black;}#sk-container-id-1 div.sk-estimator:hover label.sk-toggleable__label-arrow:before {color: black;}#sk-container-id-1 div.sk-toggleable__content {max-height: 0;max-width: 0;overflow: hidden;text-align: left;background-color: #f0f8ff;}#sk-container-id-1 div.sk-toggleable__content pre {margin: 0.2em;color: black;border-radius: 0.25em;background-color: #f0f8ff;}#sk-container-id-1 input.sk-toggleable__control:checked~div.sk-toggleable__content {max-height: 200px;max-width: 100%;overflow: auto;}#sk-container-id-1 input.sk-toggleable__control:checked~label.sk-toggleable__label-arrow:before {content: \"▾\";}#sk-container-id-1 div.sk-estimator input.sk-toggleable__control:checked~label.sk-toggleable__label {background-color: #d4ebff;}#sk-container-id-1 div.sk-label input.sk-toggleable__control:checked~label.sk-toggleable__label {background-color: #d4ebff;}#sk-container-id-1 input.sk-hidden--visually {border: 0;clip: rect(1px 1px 1px 1px);clip: rect(1px, 1px, 1px, 1px);height: 1px;margin: -1px;overflow: hidden;padding: 0;position: absolute;width: 1px;}#sk-container-id-1 div.sk-estimator {font-family: monospace;background-color: #f0f8ff;border: 1px dotted black;border-radius: 0.25em;box-sizing: border-box;margin-bottom: 0.5em;}#sk-container-id-1 div.sk-estimator:hover {background-color: #d4ebff;}#sk-container-id-1 div.sk-parallel-item::after {content: \"\";width: 100%;border-bottom: 1px solid gray;flex-grow: 1;}#sk-container-id-1 div.sk-label:hover label.sk-toggleable__label {background-color: #d4ebff;}#sk-container-id-1 div.sk-serial::before {content: \"\";position: absolute;border-left: 1px solid gray;box-sizing: border-box;top: 0;bottom: 0;left: 50%;z-index: 0;}#sk-container-id-1 div.sk-serial {display: flex;flex-direction: column;align-items: center;background-color: white;padding-right: 0.2em;padding-left: 0.2em;position: relative;}#sk-container-id-1 div.sk-item {position: relative;z-index: 1;}#sk-container-id-1 div.sk-parallel {display: flex;align-items: stretch;justify-content: center;background-color: white;position: relative;}#sk-container-id-1 div.sk-item::before, #sk-container-id-1 div.sk-parallel-item::before {content: \"\";position: absolute;border-left: 1px solid gray;box-sizing: border-box;top: 0;bottom: 0;left: 50%;z-index: -1;}#sk-container-id-1 div.sk-parallel-item {display: flex;flex-direction: column;z-index: 1;position: relative;background-color: white;}#sk-container-id-1 div.sk-parallel-item:first-child::after {align-self: flex-end;width: 50%;}#sk-container-id-1 div.sk-parallel-item:last-child::after {align-self: flex-start;width: 50%;}#sk-container-id-1 div.sk-parallel-item:only-child::after {width: 0;}#sk-container-id-1 div.sk-dashed-wrapped {border: 1px dashed gray;margin: 0 0.4em 0.5em 0.4em;box-sizing: border-box;padding-bottom: 0.4em;background-color: white;}#sk-container-id-1 div.sk-label label {font-family: monospace;font-weight: bold;display: inline-block;line-height: 1.2em;}#sk-container-id-1 div.sk-label-container {text-align: center;}#sk-container-id-1 div.sk-container {/* jupyter's `normalize.less` sets `[hidden] { display: none; }` but bootstrap.min.css set `[hidden] { display: none !important; }` so we also need the `!important` here to be able to override the default hidden behavior on the sphinx rendered scikit-learn.org. See: https://github.com/scikit-learn/scikit-learn/issues/21755 */display: inline-block !important;position: relative;}#sk-container-id-1 div.sk-text-repr-fallback {display: none;}</style><div id=\"sk-container-id-1\" class=\"sk-top-container\"><div class=\"sk-text-repr-fallback\"><pre>GridSearchCV(cv=3,\n",
              "             estimator=&lt;catboost.core.CatBoostRegressor object at 0x7f840ca11570&gt;,\n",
              "             param_grid={&#x27;depth&#x27;: range(1, 10), &#x27;iterations&#x27;: range(1, 5)})</pre><b>In a Jupyter environment, please rerun this cell to show the HTML representation or trust the notebook. <br />On GitHub, the HTML representation is unable to render, please try loading this page with nbviewer.org.</b></div><div class=\"sk-container\" hidden><div class=\"sk-item sk-dashed-wrapped\"><div class=\"sk-label-container\"><div class=\"sk-label sk-toggleable\"><input class=\"sk-toggleable__control sk-hidden--visually\" id=\"sk-estimator-id-1\" type=\"checkbox\" ><label for=\"sk-estimator-id-1\" class=\"sk-toggleable__label sk-toggleable__label-arrow\">GridSearchCV</label><div class=\"sk-toggleable__content\"><pre>GridSearchCV(cv=3,\n",
              "             estimator=&lt;catboost.core.CatBoostRegressor object at 0x7f840ca11570&gt;,\n",
              "             param_grid={&#x27;depth&#x27;: range(1, 10), &#x27;iterations&#x27;: range(1, 5)})</pre></div></div></div><div class=\"sk-parallel\"><div class=\"sk-parallel-item\"><div class=\"sk-item\"><div class=\"sk-label-container\"><div class=\"sk-label sk-toggleable\"><input class=\"sk-toggleable__control sk-hidden--visually\" id=\"sk-estimator-id-2\" type=\"checkbox\" ><label for=\"sk-estimator-id-2\" class=\"sk-toggleable__label sk-toggleable__label-arrow\">estimator: CatBoostRegressor</label><div class=\"sk-toggleable__content\"><pre>&lt;catboost.core.CatBoostRegressor object at 0x7f840ca11570&gt;</pre></div></div></div><div class=\"sk-serial\"><div class=\"sk-item\"><div class=\"sk-estimator sk-toggleable\"><input class=\"sk-toggleable__control sk-hidden--visually\" id=\"sk-estimator-id-3\" type=\"checkbox\" ><label for=\"sk-estimator-id-3\" class=\"sk-toggleable__label sk-toggleable__label-arrow\">CatBoostRegressor</label><div class=\"sk-toggleable__content\"><pre>&lt;catboost.core.CatBoostRegressor object at 0x7f840ca11570&gt;</pre></div></div></div></div></div></div></div></div></div></div>"
            ]
          },
          "metadata": {},
          "execution_count": 58
        }
      ],
      "source": [
        "grid = GridSearchCV(cbr, parametrs, cv=3)\n",
        "grid.fit(features_train, target_rougher)"
      ]
    },
    {
      "cell_type": "code",
      "execution_count": 59,
      "metadata": {
        "colab": {
          "base_uri": "https://localhost:8080/"
        },
        "id": "LzD6MchnWRhE",
        "outputId": "b0c1a08d-e6f8-457a-b4de-49cc19f2bbb4"
      },
      "outputs": [
        {
          "output_type": "execute_result",
          "data": {
            "text/plain": [
              "{'depth': 6, 'iterations': 4}"
            ]
          },
          "metadata": {},
          "execution_count": 59
        }
      ],
      "source": [
        "grid.best_params_"
      ]
    },
    {
      "cell_type": "code",
      "execution_count": 60,
      "metadata": {
        "collapsed": true,
        "colab": {
          "base_uri": "https://localhost:8080/",
          "height": 1000
        },
        "id": "QElIpbDjWRhW",
        "outputId": "2e67bc92-915e-4312-ea59-d8a8dcbd5a2a"
      },
      "outputs": [
        {
          "output_type": "stream",
          "name": "stdout",
          "text": [
            "Learning rate set to 0.5\n",
            "0:\tlearn: 7.7217494\ttotal: 2.23ms\tremaining: 0us\n",
            "Learning rate set to 0.5\n",
            "0:\tlearn: 7.7974671\ttotal: 2.16ms\tremaining: 0us\n",
            "Learning rate set to 0.5\n",
            "0:\tlearn: 7.7827825\ttotal: 2.08ms\tremaining: 0us\n",
            "Learning rate set to 0.5\n",
            "0:\tlearn: 7.7217494\ttotal: 2.09ms\tremaining: 2.09ms\n",
            "1:\tlearn: 7.4597081\ttotal: 4.58ms\tremaining: 0us\n",
            "Learning rate set to 0.5\n",
            "0:\tlearn: 7.7974671\ttotal: 2.03ms\tremaining: 2.03ms\n",
            "1:\tlearn: 7.5595328\ttotal: 3.96ms\tremaining: 0us\n",
            "Learning rate set to 0.5\n",
            "0:\tlearn: 7.7827825\ttotal: 2.11ms\tremaining: 2.11ms\n",
            "1:\tlearn: 7.4783928\ttotal: 4.12ms\tremaining: 0us\n",
            "Learning rate set to 0.5\n",
            "0:\tlearn: 7.7217494\ttotal: 2.13ms\tremaining: 4.27ms\n",
            "1:\tlearn: 7.4597081\ttotal: 4.86ms\tremaining: 2.43ms\n",
            "2:\tlearn: 7.2893806\ttotal: 7.31ms\tremaining: 0us\n",
            "Learning rate set to 0.5\n",
            "0:\tlearn: 7.7974671\ttotal: 2.11ms\tremaining: 4.23ms\n",
            "1:\tlearn: 7.5595328\ttotal: 4.16ms\tremaining: 2.08ms\n",
            "2:\tlearn: 7.3656070\ttotal: 6.41ms\tremaining: 0us\n",
            "Learning rate set to 0.5\n",
            "0:\tlearn: 7.7827825\ttotal: 2.19ms\tremaining: 4.38ms\n",
            "1:\tlearn: 7.4783928\ttotal: 4.58ms\tremaining: 2.29ms\n",
            "2:\tlearn: 7.3112897\ttotal: 6.86ms\tremaining: 0us\n",
            "Learning rate set to 0.5\n",
            "0:\tlearn: 7.7217494\ttotal: 2.19ms\tremaining: 6.58ms\n",
            "1:\tlearn: 7.4597081\ttotal: 4.3ms\tremaining: 4.3ms\n",
            "2:\tlearn: 7.2893806\ttotal: 6.43ms\tremaining: 2.14ms\n",
            "3:\tlearn: 7.1683080\ttotal: 8.7ms\tremaining: 0us\n",
            "Learning rate set to 0.5\n",
            "0:\tlearn: 7.7974671\ttotal: 2.12ms\tremaining: 6.36ms\n",
            "1:\tlearn: 7.5595328\ttotal: 4.16ms\tremaining: 4.16ms\n",
            "2:\tlearn: 7.3656070\ttotal: 6.2ms\tremaining: 2.07ms\n",
            "3:\tlearn: 7.2035704\ttotal: 8.22ms\tremaining: 0us\n",
            "Learning rate set to 0.5\n",
            "0:\tlearn: 7.7827825\ttotal: 2.18ms\tremaining: 6.55ms\n",
            "1:\tlearn: 7.4783928\ttotal: 4.24ms\tremaining: 4.24ms\n",
            "2:\tlearn: 7.3112897\ttotal: 6.38ms\tremaining: 2.13ms\n",
            "3:\tlearn: 7.1849135\ttotal: 11.1ms\tremaining: 0us\n",
            "Learning rate set to 0.5\n",
            "0:\tlearn: 7.5132519\ttotal: 3.46ms\tremaining: 0us\n",
            "Learning rate set to 0.5\n",
            "0:\tlearn: 7.6029949\ttotal: 3.31ms\tremaining: 0us\n",
            "Learning rate set to 0.5\n",
            "0:\tlearn: 7.5673156\ttotal: 3.21ms\tremaining: 0us\n",
            "Learning rate set to 0.5\n",
            "0:\tlearn: 7.5132519\ttotal: 3.39ms\tremaining: 3.39ms\n",
            "1:\tlearn: 7.2103889\ttotal: 7ms\tremaining: 0us\n",
            "Learning rate set to 0.5\n",
            "0:\tlearn: 7.6029949\ttotal: 3.36ms\tremaining: 3.36ms\n",
            "1:\tlearn: 7.2515747\ttotal: 6.41ms\tremaining: 0us\n",
            "Learning rate set to 0.5\n",
            "0:\tlearn: 7.5673156\ttotal: 3.29ms\tremaining: 3.29ms\n",
            "1:\tlearn: 7.2279890\ttotal: 6.24ms\tremaining: 0us\n",
            "Learning rate set to 0.5\n",
            "0:\tlearn: 7.5132519\ttotal: 3.46ms\tremaining: 6.92ms\n",
            "1:\tlearn: 7.2103889\ttotal: 7.28ms\tremaining: 3.64ms\n",
            "2:\tlearn: 7.0468739\ttotal: 10.4ms\tremaining: 0us\n",
            "Learning rate set to 0.5\n",
            "0:\tlearn: 7.6029949\ttotal: 3.5ms\tremaining: 7ms\n",
            "1:\tlearn: 7.2515747\ttotal: 6.88ms\tremaining: 3.44ms\n",
            "2:\tlearn: 7.0255794\ttotal: 10.3ms\tremaining: 0us\n",
            "Learning rate set to 0.5\n",
            "0:\tlearn: 7.5673156\ttotal: 3.45ms\tremaining: 6.89ms\n",
            "1:\tlearn: 7.2279890\ttotal: 6.57ms\tremaining: 3.28ms\n",
            "2:\tlearn: 7.0285887\ttotal: 9.64ms\tremaining: 0us\n",
            "Learning rate set to 0.5\n",
            "0:\tlearn: 7.5132519\ttotal: 3.54ms\tremaining: 10.6ms\n",
            "1:\tlearn: 7.2103889\ttotal: 6.8ms\tremaining: 6.8ms\n",
            "2:\tlearn: 7.0468739\ttotal: 10.3ms\tremaining: 3.43ms\n",
            "3:\tlearn: 6.9367179\ttotal: 13.7ms\tremaining: 0us\n",
            "Learning rate set to 0.5\n",
            "0:\tlearn: 7.6029949\ttotal: 4.81ms\tremaining: 14.4ms\n",
            "1:\tlearn: 7.2515747\ttotal: 11.2ms\tremaining: 11.2ms\n",
            "2:\tlearn: 7.0255794\ttotal: 15.1ms\tremaining: 5.03ms\n",
            "3:\tlearn: 6.8893269\ttotal: 19.6ms\tremaining: 0us\n",
            "Learning rate set to 0.5\n",
            "0:\tlearn: 7.5673156\ttotal: 3.29ms\tremaining: 9.87ms\n",
            "1:\tlearn: 7.2279890\ttotal: 6.68ms\tremaining: 6.68ms\n",
            "2:\tlearn: 7.0285887\ttotal: 9.63ms\tremaining: 3.21ms\n",
            "3:\tlearn: 6.8868249\ttotal: 12.5ms\tremaining: 0us\n",
            "Learning rate set to 0.5\n",
            "0:\tlearn: 7.4555852\ttotal: 4.66ms\tremaining: 0us\n",
            "Learning rate set to 0.5\n",
            "0:\tlearn: 7.5316760\ttotal: 4.76ms\tremaining: 0us\n",
            "Learning rate set to 0.5\n",
            "0:\tlearn: 7.5008687\ttotal: 4.75ms\tremaining: 0us\n",
            "Learning rate set to 0.5\n",
            "0:\tlearn: 7.4555852\ttotal: 4.86ms\tremaining: 4.86ms\n",
            "1:\tlearn: 7.1169479\ttotal: 9.48ms\tremaining: 0us\n",
            "Learning rate set to 0.5\n",
            "0:\tlearn: 7.5316760\ttotal: 4.92ms\tremaining: 4.92ms\n",
            "1:\tlearn: 7.1640275\ttotal: 9.34ms\tremaining: 0us\n",
            "Learning rate set to 0.5\n",
            "0:\tlearn: 7.5008687\ttotal: 4.86ms\tremaining: 4.86ms\n",
            "1:\tlearn: 7.0968156\ttotal: 9.98ms\tremaining: 0us\n",
            "Learning rate set to 0.5\n",
            "0:\tlearn: 7.4555852\ttotal: 14ms\tremaining: 28ms\n",
            "1:\tlearn: 7.1169479\ttotal: 27.7ms\tremaining: 13.9ms\n",
            "2:\tlearn: 6.9095413\ttotal: 32.5ms\tremaining: 0us\n",
            "Learning rate set to 0.5\n",
            "0:\tlearn: 7.5316760\ttotal: 4.84ms\tremaining: 9.69ms\n",
            "1:\tlearn: 7.1640275\ttotal: 9.33ms\tremaining: 4.66ms\n",
            "2:\tlearn: 6.9400859\ttotal: 15.6ms\tremaining: 0us\n",
            "Learning rate set to 0.5\n",
            "0:\tlearn: 7.5008687\ttotal: 4.88ms\tremaining: 9.75ms\n",
            "1:\tlearn: 7.0968156\ttotal: 9.65ms\tremaining: 4.82ms\n",
            "2:\tlearn: 6.8544740\ttotal: 14.1ms\tremaining: 0us\n",
            "Learning rate set to 0.5\n",
            "0:\tlearn: 7.4555852\ttotal: 4.65ms\tremaining: 13.9ms\n",
            "1:\tlearn: 7.1169479\ttotal: 9.55ms\tremaining: 9.55ms\n",
            "2:\tlearn: 6.9095413\ttotal: 14.2ms\tremaining: 4.72ms\n",
            "3:\tlearn: 6.7645431\ttotal: 19.2ms\tremaining: 0us\n",
            "Learning rate set to 0.5\n",
            "0:\tlearn: 7.5316760\ttotal: 4.91ms\tremaining: 14.7ms\n",
            "1:\tlearn: 7.1640275\ttotal: 9.45ms\tremaining: 9.45ms\n",
            "2:\tlearn: 6.9400859\ttotal: 14.2ms\tremaining: 4.73ms\n",
            "3:\tlearn: 6.7793605\ttotal: 19.1ms\tremaining: 0us\n",
            "Learning rate set to 0.5\n",
            "0:\tlearn: 7.5008687\ttotal: 4.78ms\tremaining: 14.3ms\n",
            "1:\tlearn: 7.0968156\ttotal: 9.23ms\tremaining: 9.23ms\n",
            "2:\tlearn: 6.8544740\ttotal: 13.9ms\tremaining: 4.63ms\n",
            "3:\tlearn: 6.6935535\ttotal: 18.6ms\tremaining: 0us\n",
            "Learning rate set to 0.5\n",
            "0:\tlearn: 7.3559446\ttotal: 7.05ms\tremaining: 0us\n",
            "Learning rate set to 0.5\n",
            "0:\tlearn: 7.4086768\ttotal: 6.7ms\tremaining: 0us\n",
            "Learning rate set to 0.5\n",
            "0:\tlearn: 7.3379815\ttotal: 6.61ms\tremaining: 0us\n",
            "Learning rate set to 0.5\n",
            "0:\tlearn: 7.3559446\ttotal: 6.82ms\tremaining: 6.82ms\n",
            "1:\tlearn: 7.0234104\ttotal: 13.2ms\tremaining: 0us\n",
            "Learning rate set to 0.5\n",
            "0:\tlearn: 7.4086768\ttotal: 17.8ms\tremaining: 17.8ms\n",
            "1:\tlearn: 6.9555457\ttotal: 26.3ms\tremaining: 0us\n",
            "Learning rate set to 0.5\n",
            "0:\tlearn: 7.3379815\ttotal: 6.73ms\tremaining: 6.73ms\n",
            "1:\tlearn: 6.8529739\ttotal: 13ms\tremaining: 0us\n",
            "Learning rate set to 0.5\n",
            "0:\tlearn: 7.3559446\ttotal: 7.9ms\tremaining: 15.8ms\n",
            "1:\tlearn: 7.0234104\ttotal: 15.5ms\tremaining: 7.73ms\n",
            "2:\tlearn: 6.8092012\ttotal: 22ms\tremaining: 0us\n",
            "Learning rate set to 0.5\n",
            "0:\tlearn: 7.4086768\ttotal: 6.47ms\tremaining: 13ms\n",
            "1:\tlearn: 6.9555457\ttotal: 12.8ms\tremaining: 6.41ms\n",
            "2:\tlearn: 6.7291842\ttotal: 19.1ms\tremaining: 0us\n",
            "Learning rate set to 0.5\n",
            "0:\tlearn: 7.3379815\ttotal: 6.59ms\tremaining: 13.2ms\n",
            "1:\tlearn: 6.8529739\ttotal: 13ms\tremaining: 6.49ms\n",
            "2:\tlearn: 6.6425389\ttotal: 19.1ms\tremaining: 0us\n",
            "Learning rate set to 0.5\n",
            "0:\tlearn: 7.3559446\ttotal: 6.68ms\tremaining: 20.1ms\n",
            "1:\tlearn: 7.0234104\ttotal: 13.2ms\tremaining: 13.2ms\n",
            "2:\tlearn: 6.8092012\ttotal: 19.8ms\tremaining: 6.6ms\n",
            "3:\tlearn: 6.6947108\ttotal: 26.3ms\tremaining: 0us\n",
            "Learning rate set to 0.5\n",
            "0:\tlearn: 7.4086768\ttotal: 6.72ms\tremaining: 20.2ms\n",
            "1:\tlearn: 6.9555457\ttotal: 13.3ms\tremaining: 13.3ms\n",
            "2:\tlearn: 6.7291842\ttotal: 19.7ms\tremaining: 6.55ms\n",
            "3:\tlearn: 6.5755098\ttotal: 25.9ms\tremaining: 0us\n",
            "Learning rate set to 0.5\n",
            "0:\tlearn: 7.3379815\ttotal: 6.74ms\tremaining: 20.2ms\n",
            "1:\tlearn: 6.8529739\ttotal: 13ms\tremaining: 13ms\n",
            "2:\tlearn: 6.6425389\ttotal: 19.1ms\tremaining: 6.38ms\n",
            "3:\tlearn: 6.4581040\ttotal: 25.4ms\tremaining: 0us\n",
            "Learning rate set to 0.5\n",
            "0:\tlearn: 7.2802015\ttotal: 10.1ms\tremaining: 0us\n",
            "Learning rate set to 0.5\n",
            "0:\tlearn: 7.3816972\ttotal: 11.4ms\tremaining: 0us\n",
            "Learning rate set to 0.5\n",
            "0:\tlearn: 7.2738887\ttotal: 9.45ms\tremaining: 0us\n",
            "Learning rate set to 0.5\n",
            "0:\tlearn: 7.2802015\ttotal: 14.6ms\tremaining: 14.6ms\n",
            "1:\tlearn: 6.9033082\ttotal: 24.1ms\tremaining: 0us\n",
            "Learning rate set to 0.5\n",
            "0:\tlearn: 7.3816972\ttotal: 9.63ms\tremaining: 9.63ms\n",
            "1:\tlearn: 6.9032564\ttotal: 19.7ms\tremaining: 0us\n",
            "Learning rate set to 0.5\n",
            "0:\tlearn: 7.2738887\ttotal: 11.1ms\tremaining: 11.1ms\n",
            "1:\tlearn: 6.8144743\ttotal: 20.7ms\tremaining: 0us\n",
            "Learning rate set to 0.5\n",
            "0:\tlearn: 7.2802015\ttotal: 10.1ms\tremaining: 20.2ms\n",
            "1:\tlearn: 6.9033082\ttotal: 19.6ms\tremaining: 9.82ms\n",
            "2:\tlearn: 6.6771238\ttotal: 33.9ms\tremaining: 0us\n",
            "Learning rate set to 0.5\n",
            "0:\tlearn: 7.3816972\ttotal: 9.82ms\tremaining: 19.6ms\n",
            "1:\tlearn: 6.9032564\ttotal: 19.4ms\tremaining: 9.72ms\n",
            "2:\tlearn: 6.6225003\ttotal: 28.6ms\tremaining: 0us\n",
            "Learning rate set to 0.5\n",
            "0:\tlearn: 7.2738887\ttotal: 9.66ms\tremaining: 19.3ms\n",
            "1:\tlearn: 6.8144743\ttotal: 18.9ms\tremaining: 9.47ms\n",
            "2:\tlearn: 6.5028622\ttotal: 27.6ms\tremaining: 0us\n",
            "Learning rate set to 0.5\n",
            "0:\tlearn: 7.2802015\ttotal: 11.9ms\tremaining: 35.7ms\n",
            "1:\tlearn: 6.9033082\ttotal: 24.1ms\tremaining: 24.1ms\n",
            "2:\tlearn: 6.6771238\ttotal: 34ms\tremaining: 11.3ms\n",
            "3:\tlearn: 6.4984594\ttotal: 43.2ms\tremaining: 0us\n",
            "Learning rate set to 0.5\n",
            "0:\tlearn: 7.3816972\ttotal: 9.84ms\tremaining: 29.5ms\n",
            "1:\tlearn: 6.9032564\ttotal: 19.7ms\tremaining: 19.7ms\n",
            "2:\tlearn: 6.6225003\ttotal: 29.1ms\tremaining: 9.71ms\n",
            "3:\tlearn: 6.4764190\ttotal: 38.1ms\tremaining: 0us\n",
            "Learning rate set to 0.5\n",
            "0:\tlearn: 7.2738887\ttotal: 9.47ms\tremaining: 28.4ms\n",
            "1:\tlearn: 6.8144743\ttotal: 19ms\tremaining: 19ms\n",
            "2:\tlearn: 6.5028622\ttotal: 27.9ms\tremaining: 9.31ms\n",
            "3:\tlearn: 6.3471711\ttotal: 36.9ms\tremaining: 0us\n",
            "Learning rate set to 0.5\n",
            "0:\tlearn: 7.2244599\ttotal: 15.6ms\tremaining: 0us\n",
            "Learning rate set to 0.5\n",
            "0:\tlearn: 7.3462379\ttotal: 15ms\tremaining: 0us\n",
            "Learning rate set to 0.5\n",
            "0:\tlearn: 7.1681328\ttotal: 14.8ms\tremaining: 0us\n",
            "Learning rate set to 0.5\n",
            "0:\tlearn: 7.2244599\ttotal: 15.3ms\tremaining: 15.3ms\n",
            "1:\tlearn: 6.7445458\ttotal: 30.1ms\tremaining: 0us\n",
            "Learning rate set to 0.5\n",
            "0:\tlearn: 7.3462379\ttotal: 15.1ms\tremaining: 15.1ms\n",
            "1:\tlearn: 6.7723347\ttotal: 30.7ms\tremaining: 0us\n",
            "Learning rate set to 0.5\n",
            "0:\tlearn: 7.1681328\ttotal: 16.8ms\tremaining: 16.8ms\n",
            "1:\tlearn: 6.6923819\ttotal: 31.4ms\tremaining: 0us\n",
            "Learning rate set to 0.5\n",
            "0:\tlearn: 7.2244599\ttotal: 15.1ms\tremaining: 30.2ms\n",
            "1:\tlearn: 6.7445458\ttotal: 29.5ms\tremaining: 14.8ms\n",
            "2:\tlearn: 6.5723329\ttotal: 43.7ms\tremaining: 0us\n",
            "Learning rate set to 0.5\n",
            "0:\tlearn: 7.3462379\ttotal: 14.8ms\tremaining: 29.6ms\n",
            "1:\tlearn: 6.7723347\ttotal: 30.7ms\tremaining: 15.4ms\n",
            "2:\tlearn: 6.5372490\ttotal: 50.5ms\tremaining: 0us\n",
            "Learning rate set to 0.5\n",
            "0:\tlearn: 7.1681328\ttotal: 16.9ms\tremaining: 33.8ms\n",
            "1:\tlearn: 6.6923819\ttotal: 31.9ms\tremaining: 16ms\n",
            "2:\tlearn: 6.4432378\ttotal: 46.5ms\tremaining: 0us\n",
            "Learning rate set to 0.5\n",
            "0:\tlearn: 7.2244599\ttotal: 15.4ms\tremaining: 46.2ms\n",
            "1:\tlearn: 6.7445458\ttotal: 32.8ms\tremaining: 32.8ms\n",
            "2:\tlearn: 6.5723329\ttotal: 67.6ms\tremaining: 22.5ms\n",
            "3:\tlearn: 6.3854540\ttotal: 101ms\tremaining: 0us\n",
            "Learning rate set to 0.5\n",
            "0:\tlearn: 7.3462379\ttotal: 21.7ms\tremaining: 65.1ms\n",
            "1:\tlearn: 6.7723347\ttotal: 54.7ms\tremaining: 54.7ms\n",
            "2:\tlearn: 6.5372490\ttotal: 76ms\tremaining: 25.3ms\n",
            "3:\tlearn: 6.3611124\ttotal: 109ms\tremaining: 0us\n",
            "Learning rate set to 0.5\n",
            "0:\tlearn: 7.1681328\ttotal: 34.9ms\tremaining: 105ms\n",
            "1:\tlearn: 6.6923819\ttotal: 69.8ms\tremaining: 69.8ms\n",
            "2:\tlearn: 6.4432378\ttotal: 107ms\tremaining: 35.6ms\n",
            "3:\tlearn: 6.2286836\ttotal: 130ms\tremaining: 0us\n",
            "Learning rate set to 0.5\n",
            "0:\tlearn: 7.1284050\ttotal: 68.4ms\tremaining: 0us\n",
            "Learning rate set to 0.5\n",
            "0:\tlearn: 7.2909045\ttotal: 56.5ms\tremaining: 0us\n",
            "Learning rate set to 0.5\n",
            "0:\tlearn: 7.1200113\ttotal: 65.4ms\tremaining: 0us\n",
            "Learning rate set to 0.5\n",
            "0:\tlearn: 7.1284050\ttotal: 68.5ms\tremaining: 68.5ms\n",
            "1:\tlearn: 6.6805766\ttotal: 123ms\tremaining: 0us\n",
            "Learning rate set to 0.5\n",
            "0:\tlearn: 7.2909045\ttotal: 80.3ms\tremaining: 80.3ms\n",
            "1:\tlearn: 6.7427436\ttotal: 117ms\tremaining: 0us\n",
            "Learning rate set to 0.5\n",
            "0:\tlearn: 7.1200113\ttotal: 67.4ms\tremaining: 67.4ms\n",
            "1:\tlearn: 6.6176094\ttotal: 118ms\tremaining: 0us\n",
            "Learning rate set to 0.5\n",
            "0:\tlearn: 7.1284050\ttotal: 64.5ms\tremaining: 129ms\n",
            "1:\tlearn: 6.6805766\ttotal: 105ms\tremaining: 52.5ms\n",
            "2:\tlearn: 6.4125971\ttotal: 150ms\tremaining: 0us\n",
            "Learning rate set to 0.5\n",
            "0:\tlearn: 7.2909045\ttotal: 64ms\tremaining: 128ms\n",
            "1:\tlearn: 6.7427436\ttotal: 110ms\tremaining: 55.1ms\n",
            "2:\tlearn: 6.3914536\ttotal: 158ms\tremaining: 0us\n",
            "Learning rate set to 0.5\n",
            "0:\tlearn: 7.1200113\ttotal: 66.5ms\tremaining: 133ms\n",
            "1:\tlearn: 6.6176094\ttotal: 128ms\tremaining: 64ms\n",
            "2:\tlearn: 6.2289832\ttotal: 180ms\tremaining: 0us\n",
            "Learning rate set to 0.5\n",
            "0:\tlearn: 7.1284050\ttotal: 64.2ms\tremaining: 193ms\n",
            "1:\tlearn: 6.6805766\ttotal: 115ms\tremaining: 115ms\n",
            "2:\tlearn: 6.4125971\ttotal: 168ms\tremaining: 55.9ms\n",
            "3:\tlearn: 6.2444704\ttotal: 218ms\tremaining: 0us\n",
            "Learning rate set to 0.5\n",
            "0:\tlearn: 7.2909045\ttotal: 60.9ms\tremaining: 183ms\n",
            "1:\tlearn: 6.7427436\ttotal: 113ms\tremaining: 113ms\n",
            "2:\tlearn: 6.3914536\ttotal: 163ms\tremaining: 54.2ms\n",
            "3:\tlearn: 6.2021628\ttotal: 211ms\tremaining: 0us\n",
            "Learning rate set to 0.5\n",
            "0:\tlearn: 7.1200113\ttotal: 59.6ms\tremaining: 179ms\n",
            "1:\tlearn: 6.6176094\ttotal: 96.2ms\tremaining: 96.2ms\n",
            "2:\tlearn: 6.2289832\ttotal: 141ms\tremaining: 46.9ms\n",
            "3:\tlearn: 5.9922872\ttotal: 178ms\tremaining: 0us\n",
            "Learning rate set to 0.5\n",
            "0:\tlearn: 7.0605550\ttotal: 108ms\tremaining: 0us\n",
            "Learning rate set to 0.5\n",
            "0:\tlearn: 7.2390505\ttotal: 87.6ms\tremaining: 0us\n",
            "Learning rate set to 0.5\n",
            "0:\tlearn: 7.0329963\ttotal: 113ms\tremaining: 0us\n",
            "Learning rate set to 0.5\n",
            "0:\tlearn: 7.0605550\ttotal: 60.8ms\tremaining: 60.8ms\n",
            "1:\tlearn: 6.5627738\ttotal: 106ms\tremaining: 0us\n",
            "Learning rate set to 0.5\n",
            "0:\tlearn: 7.2390505\ttotal: 62.7ms\tremaining: 62.7ms\n",
            "1:\tlearn: 6.6166832\ttotal: 107ms\tremaining: 0us\n",
            "Learning rate set to 0.5\n",
            "0:\tlearn: 7.0329963\ttotal: 64.5ms\tremaining: 64.5ms\n",
            "1:\tlearn: 6.4201078\ttotal: 113ms\tremaining: 0us\n",
            "Learning rate set to 0.5\n",
            "0:\tlearn: 7.0605550\ttotal: 61ms\tremaining: 122ms\n",
            "1:\tlearn: 6.5627738\ttotal: 107ms\tremaining: 53.3ms\n",
            "2:\tlearn: 6.3097278\ttotal: 155ms\tremaining: 0us\n",
            "Learning rate set to 0.5\n",
            "0:\tlearn: 7.2390505\ttotal: 61.1ms\tremaining: 122ms\n",
            "1:\tlearn: 6.6166832\ttotal: 105ms\tremaining: 52.6ms\n",
            "2:\tlearn: 6.3221917\ttotal: 164ms\tremaining: 0us\n",
            "Learning rate set to 0.5\n",
            "0:\tlearn: 7.0329963\ttotal: 58.8ms\tremaining: 118ms\n",
            "1:\tlearn: 6.4201078\ttotal: 104ms\tremaining: 51.9ms\n",
            "2:\tlearn: 6.0649272\ttotal: 163ms\tremaining: 0us\n",
            "Learning rate set to 0.5\n",
            "0:\tlearn: 7.0605550\ttotal: 60.7ms\tremaining: 182ms\n",
            "1:\tlearn: 6.5627738\ttotal: 107ms\tremaining: 107ms\n",
            "2:\tlearn: 6.3097278\ttotal: 154ms\tremaining: 51.3ms\n",
            "3:\tlearn: 6.0712214\ttotal: 199ms\tremaining: 0us\n",
            "Learning rate set to 0.5\n",
            "0:\tlearn: 7.2390505\ttotal: 60.5ms\tremaining: 181ms\n",
            "1:\tlearn: 6.6166832\ttotal: 109ms\tremaining: 109ms\n",
            "2:\tlearn: 6.3221917\ttotal: 158ms\tremaining: 52.5ms\n",
            "3:\tlearn: 6.0987086\ttotal: 202ms\tremaining: 0us\n",
            "Learning rate set to 0.5\n",
            "0:\tlearn: 7.0329963\ttotal: 62.4ms\tremaining: 187ms\n",
            "1:\tlearn: 6.4201078\ttotal: 107ms\tremaining: 107ms\n",
            "2:\tlearn: 6.0649272\ttotal: 152ms\tremaining: 50.5ms\n",
            "3:\tlearn: 5.8192234\ttotal: 195ms\tremaining: 0us\n",
            "Learning rate set to 0.5\n",
            "0:\tlearn: 7.0120642\ttotal: 127ms\tremaining: 0us\n",
            "Learning rate set to 0.5\n",
            "0:\tlearn: 7.1634515\ttotal: 130ms\tremaining: 0us\n",
            "Learning rate set to 0.5\n",
            "0:\tlearn: 6.9973625\ttotal: 114ms\tremaining: 0us\n",
            "Learning rate set to 0.5\n",
            "0:\tlearn: 7.0120642\ttotal: 115ms\tremaining: 115ms\n",
            "1:\tlearn: 6.4408923\ttotal: 200ms\tremaining: 0us\n",
            "Learning rate set to 0.5\n",
            "0:\tlearn: 7.1634515\ttotal: 122ms\tremaining: 122ms\n",
            "1:\tlearn: 6.4708834\ttotal: 212ms\tremaining: 0us\n",
            "Learning rate set to 0.5\n",
            "0:\tlearn: 6.9973625\ttotal: 115ms\tremaining: 115ms\n",
            "1:\tlearn: 6.3352863\ttotal: 200ms\tremaining: 0us\n",
            "Learning rate set to 0.5\n",
            "0:\tlearn: 7.0120642\ttotal: 118ms\tremaining: 237ms\n",
            "1:\tlearn: 6.4408923\ttotal: 207ms\tremaining: 104ms\n",
            "2:\tlearn: 6.1447115\ttotal: 290ms\tremaining: 0us\n",
            "Learning rate set to 0.5\n",
            "0:\tlearn: 7.1634515\ttotal: 110ms\tremaining: 221ms\n",
            "1:\tlearn: 6.4708834\ttotal: 207ms\tremaining: 104ms\n",
            "2:\tlearn: 6.0941408\ttotal: 293ms\tremaining: 0us\n",
            "Learning rate set to 0.5\n",
            "0:\tlearn: 6.9973625\ttotal: 115ms\tremaining: 229ms\n",
            "1:\tlearn: 6.3352863\ttotal: 202ms\tremaining: 101ms\n",
            "2:\tlearn: 5.8795783\ttotal: 284ms\tremaining: 0us\n",
            "Learning rate set to 0.5\n",
            "0:\tlearn: 7.0120642\ttotal: 115ms\tremaining: 345ms\n",
            "1:\tlearn: 6.4408923\ttotal: 204ms\tremaining: 204ms\n",
            "2:\tlearn: 6.1447115\ttotal: 293ms\tremaining: 97.7ms\n",
            "3:\tlearn: 5.9350673\ttotal: 379ms\tremaining: 0us\n",
            "Learning rate set to 0.5\n",
            "0:\tlearn: 7.1634515\ttotal: 113ms\tremaining: 339ms\n",
            "1:\tlearn: 6.4708834\ttotal: 199ms\tremaining: 199ms\n",
            "2:\tlearn: 6.0941408\ttotal: 287ms\tremaining: 95.6ms\n",
            "3:\tlearn: 5.8674432\ttotal: 370ms\tremaining: 0us\n",
            "Learning rate set to 0.5\n",
            "0:\tlearn: 6.9973625\ttotal: 111ms\tremaining: 333ms\n",
            "1:\tlearn: 6.3352863\ttotal: 200ms\tremaining: 200ms\n",
            "2:\tlearn: 5.8795783\ttotal: 287ms\tremaining: 95.7ms\n",
            "3:\tlearn: 5.6488924\ttotal: 373ms\tremaining: 0us\n",
            "Learning rate set to 0.5\n",
            "0:\tlearn: 7.7029573\ttotal: 4.06ms\tremaining: 12.2ms\n",
            "1:\tlearn: 7.3286029\ttotal: 7.76ms\tremaining: 7.76ms\n",
            "2:\tlearn: 7.1317916\ttotal: 11.5ms\tremaining: 3.82ms\n",
            "3:\tlearn: 7.0266071\ttotal: 15.4ms\tremaining: 0us\n"
          ]
        },
        {
          "output_type": "execute_result",
          "data": {
            "text/plain": [
              "GridSearchCV(cv=3,\n",
              "             estimator=<catboost.core.CatBoostRegressor object at 0x7f840ca11570>,\n",
              "             param_grid={'depth': range(1, 10), 'iterations': range(1, 5)})"
            ],
            "text/html": [
              "<style>#sk-container-id-2 {color: black;background-color: white;}#sk-container-id-2 pre{padding: 0;}#sk-container-id-2 div.sk-toggleable {background-color: white;}#sk-container-id-2 label.sk-toggleable__label {cursor: pointer;display: block;width: 100%;margin-bottom: 0;padding: 0.3em;box-sizing: border-box;text-align: center;}#sk-container-id-2 label.sk-toggleable__label-arrow:before {content: \"▸\";float: left;margin-right: 0.25em;color: #696969;}#sk-container-id-2 label.sk-toggleable__label-arrow:hover:before {color: black;}#sk-container-id-2 div.sk-estimator:hover label.sk-toggleable__label-arrow:before {color: black;}#sk-container-id-2 div.sk-toggleable__content {max-height: 0;max-width: 0;overflow: hidden;text-align: left;background-color: #f0f8ff;}#sk-container-id-2 div.sk-toggleable__content pre {margin: 0.2em;color: black;border-radius: 0.25em;background-color: #f0f8ff;}#sk-container-id-2 input.sk-toggleable__control:checked~div.sk-toggleable__content {max-height: 200px;max-width: 100%;overflow: auto;}#sk-container-id-2 input.sk-toggleable__control:checked~label.sk-toggleable__label-arrow:before {content: \"▾\";}#sk-container-id-2 div.sk-estimator input.sk-toggleable__control:checked~label.sk-toggleable__label {background-color: #d4ebff;}#sk-container-id-2 div.sk-label input.sk-toggleable__control:checked~label.sk-toggleable__label {background-color: #d4ebff;}#sk-container-id-2 input.sk-hidden--visually {border: 0;clip: rect(1px 1px 1px 1px);clip: rect(1px, 1px, 1px, 1px);height: 1px;margin: -1px;overflow: hidden;padding: 0;position: absolute;width: 1px;}#sk-container-id-2 div.sk-estimator {font-family: monospace;background-color: #f0f8ff;border: 1px dotted black;border-radius: 0.25em;box-sizing: border-box;margin-bottom: 0.5em;}#sk-container-id-2 div.sk-estimator:hover {background-color: #d4ebff;}#sk-container-id-2 div.sk-parallel-item::after {content: \"\";width: 100%;border-bottom: 1px solid gray;flex-grow: 1;}#sk-container-id-2 div.sk-label:hover label.sk-toggleable__label {background-color: #d4ebff;}#sk-container-id-2 div.sk-serial::before {content: \"\";position: absolute;border-left: 1px solid gray;box-sizing: border-box;top: 0;bottom: 0;left: 50%;z-index: 0;}#sk-container-id-2 div.sk-serial {display: flex;flex-direction: column;align-items: center;background-color: white;padding-right: 0.2em;padding-left: 0.2em;position: relative;}#sk-container-id-2 div.sk-item {position: relative;z-index: 1;}#sk-container-id-2 div.sk-parallel {display: flex;align-items: stretch;justify-content: center;background-color: white;position: relative;}#sk-container-id-2 div.sk-item::before, #sk-container-id-2 div.sk-parallel-item::before {content: \"\";position: absolute;border-left: 1px solid gray;box-sizing: border-box;top: 0;bottom: 0;left: 50%;z-index: -1;}#sk-container-id-2 div.sk-parallel-item {display: flex;flex-direction: column;z-index: 1;position: relative;background-color: white;}#sk-container-id-2 div.sk-parallel-item:first-child::after {align-self: flex-end;width: 50%;}#sk-container-id-2 div.sk-parallel-item:last-child::after {align-self: flex-start;width: 50%;}#sk-container-id-2 div.sk-parallel-item:only-child::after {width: 0;}#sk-container-id-2 div.sk-dashed-wrapped {border: 1px dashed gray;margin: 0 0.4em 0.5em 0.4em;box-sizing: border-box;padding-bottom: 0.4em;background-color: white;}#sk-container-id-2 div.sk-label label {font-family: monospace;font-weight: bold;display: inline-block;line-height: 1.2em;}#sk-container-id-2 div.sk-label-container {text-align: center;}#sk-container-id-2 div.sk-container {/* jupyter's `normalize.less` sets `[hidden] { display: none; }` but bootstrap.min.css set `[hidden] { display: none !important; }` so we also need the `!important` here to be able to override the default hidden behavior on the sphinx rendered scikit-learn.org. See: https://github.com/scikit-learn/scikit-learn/issues/21755 */display: inline-block !important;position: relative;}#sk-container-id-2 div.sk-text-repr-fallback {display: none;}</style><div id=\"sk-container-id-2\" class=\"sk-top-container\"><div class=\"sk-text-repr-fallback\"><pre>GridSearchCV(cv=3,\n",
              "             estimator=&lt;catboost.core.CatBoostRegressor object at 0x7f840ca11570&gt;,\n",
              "             param_grid={&#x27;depth&#x27;: range(1, 10), &#x27;iterations&#x27;: range(1, 5)})</pre><b>In a Jupyter environment, please rerun this cell to show the HTML representation or trust the notebook. <br />On GitHub, the HTML representation is unable to render, please try loading this page with nbviewer.org.</b></div><div class=\"sk-container\" hidden><div class=\"sk-item sk-dashed-wrapped\"><div class=\"sk-label-container\"><div class=\"sk-label sk-toggleable\"><input class=\"sk-toggleable__control sk-hidden--visually\" id=\"sk-estimator-id-4\" type=\"checkbox\" ><label for=\"sk-estimator-id-4\" class=\"sk-toggleable__label sk-toggleable__label-arrow\">GridSearchCV</label><div class=\"sk-toggleable__content\"><pre>GridSearchCV(cv=3,\n",
              "             estimator=&lt;catboost.core.CatBoostRegressor object at 0x7f840ca11570&gt;,\n",
              "             param_grid={&#x27;depth&#x27;: range(1, 10), &#x27;iterations&#x27;: range(1, 5)})</pre></div></div></div><div class=\"sk-parallel\"><div class=\"sk-parallel-item\"><div class=\"sk-item\"><div class=\"sk-label-container\"><div class=\"sk-label sk-toggleable\"><input class=\"sk-toggleable__control sk-hidden--visually\" id=\"sk-estimator-id-5\" type=\"checkbox\" ><label for=\"sk-estimator-id-5\" class=\"sk-toggleable__label sk-toggleable__label-arrow\">estimator: CatBoostRegressor</label><div class=\"sk-toggleable__content\"><pre>&lt;catboost.core.CatBoostRegressor object at 0x7f840ca11570&gt;</pre></div></div></div><div class=\"sk-serial\"><div class=\"sk-item\"><div class=\"sk-estimator sk-toggleable\"><input class=\"sk-toggleable__control sk-hidden--visually\" id=\"sk-estimator-id-6\" type=\"checkbox\" ><label for=\"sk-estimator-id-6\" class=\"sk-toggleable__label sk-toggleable__label-arrow\">CatBoostRegressor</label><div class=\"sk-toggleable__content\"><pre>&lt;catboost.core.CatBoostRegressor object at 0x7f840ca11570&gt;</pre></div></div></div></div></div></div></div></div></div></div>"
            ]
          },
          "metadata": {},
          "execution_count": 60
        }
      ],
      "source": [
        "grid = GridSearchCV(cbr, parametrs, cv=3)\n",
        "grid.fit(features_train, target_final)"
      ]
    },
    {
      "cell_type": "code",
      "execution_count": 61,
      "metadata": {
        "colab": {
          "base_uri": "https://localhost:8080/"
        },
        "id": "ixV6u5R0WRhc",
        "outputId": "f48f3c0d-60ef-45de-f402-acf5c13e1eaf"
      },
      "outputs": [
        {
          "output_type": "execute_result",
          "data": {
            "text/plain": [
              "{'depth': 2, 'iterations': 4}"
            ]
          },
          "metadata": {},
          "execution_count": 61
        }
      ],
      "source": [
        "grid.best_params_"
      ]
    },
    {
      "cell_type": "code",
      "execution_count": 62,
      "metadata": {
        "collapsed": true,
        "colab": {
          "base_uri": "https://localhost:8080/"
        },
        "id": "QnaqzOR_WRhe",
        "outputId": "2fc7944c-303b-485e-e5af-eee3239e01a8"
      },
      "outputs": [
        {
          "output_type": "stream",
          "name": "stdout",
          "text": [
            "Learning rate set to 0.5\n",
            "0:\tlearn: 12.1503556\ttotal: 14.6ms\tremaining: 43.8ms\n",
            "1:\tlearn: 11.3700668\ttotal: 29.8ms\tremaining: 29.8ms\n",
            "2:\tlearn: 10.6059491\ttotal: 44.3ms\tremaining: 14.8ms\n",
            "3:\tlearn: 10.3845859\ttotal: 62.9ms\tremaining: 0us\n",
            "Learning rate set to 0.5\n",
            "0:\tlearn: 11.5189565\ttotal: 14.5ms\tremaining: 43.6ms\n",
            "1:\tlearn: 10.6306191\ttotal: 31ms\tremaining: 31ms\n",
            "2:\tlearn: 9.9375999\ttotal: 45.2ms\tremaining: 15.1ms\n",
            "3:\tlearn: 9.6287781\ttotal: 64.3ms\tremaining: 0us\n",
            "Learning rate set to 0.5\n",
            "0:\tlearn: 12.5900650\ttotal: 17.7ms\tremaining: 53.2ms\n",
            "1:\tlearn: 11.1321903\ttotal: 32.5ms\tremaining: 32.5ms\n",
            "2:\tlearn: 10.5070845\ttotal: 47.1ms\tremaining: 15.7ms\n",
            "3:\tlearn: 10.1891939\ttotal: 61.9ms\tremaining: 0us\n",
            "Learning rate set to 0.5\n",
            "0:\tlearn: 7.5132519\ttotal: 3.65ms\tremaining: 11ms\n",
            "1:\tlearn: 7.2103889\ttotal: 6.88ms\tremaining: 6.88ms\n",
            "2:\tlearn: 7.0468739\ttotal: 10ms\tremaining: 3.33ms\n",
            "3:\tlearn: 6.9367179\ttotal: 13.2ms\tremaining: 0us\n",
            "Learning rate set to 0.5\n",
            "0:\tlearn: 7.6029949\ttotal: 6.27ms\tremaining: 18.8ms\n",
            "1:\tlearn: 7.2515747\ttotal: 9.64ms\tremaining: 9.64ms\n",
            "2:\tlearn: 7.0255794\ttotal: 12.8ms\tremaining: 4.28ms\n",
            "3:\tlearn: 6.8893269\ttotal: 16ms\tremaining: 0us\n",
            "Learning rate set to 0.5\n",
            "0:\tlearn: 7.5673156\ttotal: 3.31ms\tremaining: 9.93ms\n",
            "1:\tlearn: 7.2279890\ttotal: 6.36ms\tremaining: 6.36ms\n",
            "2:\tlearn: 7.0285887\ttotal: 9.38ms\tremaining: 3.13ms\n",
            "3:\tlearn: 6.8868249\ttotal: 12.4ms\tremaining: 0us\n",
            "9.348149871758162\n"
          ]
        }
      ],
      "source": [
        "model_cbr_rougher = CatBoostRegressor(iterations=4, depth=6)\n",
        "smape_rougher = cross_val_score(model_cbr_rougher,\n",
        "                                  features_train,\n",
        "                                  target_rougher,\n",
        "                                  scoring=smape_scorer,\n",
        "                                  cv=3)\n",
        "final_smape_rougher = smape_rougher.mean()\n",
        "\n",
        "model_rfr_final = CatBoostRegressor(iterations=4, depth=2)\n",
        "smape_final = cross_val_score(model_rfr_final,\n",
        "                                features_train,\n",
        "                                target_final,\n",
        "                                scoring=smape_scorer,\n",
        "                                cv=3)\n",
        "final_smape_final = smape_final.mean()\n",
        "result_smape = final_smape(final_smape_rougher, final_smape_final)*(-1)\n",
        "\n",
        "print(result_smape)"
      ]
    },
    {
      "cell_type": "markdown",
      "metadata": {
        "id": "X31HC-iLWRhh"
      },
      "source": [
        "**RandomForestRegressor**"
      ]
    },
    {
      "cell_type": "code",
      "execution_count": 63,
      "metadata": {
        "colab": {
          "base_uri": "https://localhost:8080/"
        },
        "id": "zUM4ZuV2WRhj",
        "outputId": "3a8570aa-891c-4727-9afb-c4cba29d32dd"
      },
      "outputs": [
        {
          "output_type": "stream",
          "name": "stdout",
          "text": [
            "-1.639699939340573\n",
            "-1.3842110969230903\n",
            "-1.1211642673973718\n",
            "-1.0051110323391645\n",
            "-0.903832004247\n"
          ]
        }
      ],
      "source": [
        "for i in range(5,10,1):\n",
        "    model_rf = RandomForestRegressor(random_state=777, n_estimators=i)\n",
        "    print(cross_val_score(model_rf, features_train, target_rougher, cv=3).mean())"
      ]
    },
    {
      "cell_type": "code",
      "execution_count": 64,
      "metadata": {
        "id": "DGe16XPrWRhk"
      },
      "outputs": [],
      "source": [
        "rfr = RandomForestRegressor()"
      ]
    },
    {
      "cell_type": "code",
      "execution_count": 65,
      "metadata": {
        "id": "5_nq3lZ8WRhm"
      },
      "outputs": [],
      "source": [
        "param_grid = [{'n_estimators': [3, 10, 30],\n",
        "               'max_features': [2, 4, 6, 8],\n",
        "               'max_depth': [1, 3, 5, 7, 9, 11],\n",
        "               'random_state': [state]},\n",
        "              {'bootstrap': [False],\n",
        "               'n_estimators': [3, 10],\n",
        "               'max_features': [2, 3, 4],\n",
        "               'max_depth': [1, 3, 5, 7, 9, 11],\n",
        "               'random_state': [state]},\n",
        "]"
      ]
    },
    {
      "cell_type": "code",
      "execution_count": 66,
      "metadata": {
        "colab": {
          "base_uri": "https://localhost:8080/",
          "height": 119
        },
        "id": "4HWbaqxMWRhn",
        "outputId": "20381f9c-d51b-4f73-9c3c-4ecbdb0f4304"
      },
      "outputs": [
        {
          "output_type": "execute_result",
          "data": {
            "text/plain": [
              "GridSearchCV(cv=3, estimator=RandomForestRegressor(),\n",
              "             param_grid=[{'max_depth': [1, 3, 5, 7, 9, 11],\n",
              "                          'max_features': [2, 4, 6, 8],\n",
              "                          'n_estimators': [3, 10, 30],\n",
              "                          'random_state': [RandomState(MT19937) at 0x7F840CEB9240]},\n",
              "                         {'bootstrap': [False],\n",
              "                          'max_depth': [1, 3, 5, 7, 9, 11],\n",
              "                          'max_features': [2, 3, 4], 'n_estimators': [3, 10],\n",
              "                          'random_state': [RandomState(MT19937) at 0x7F840CEB9240]}])"
            ],
            "text/html": [
              "<style>#sk-container-id-3 {color: black;background-color: white;}#sk-container-id-3 pre{padding: 0;}#sk-container-id-3 div.sk-toggleable {background-color: white;}#sk-container-id-3 label.sk-toggleable__label {cursor: pointer;display: block;width: 100%;margin-bottom: 0;padding: 0.3em;box-sizing: border-box;text-align: center;}#sk-container-id-3 label.sk-toggleable__label-arrow:before {content: \"▸\";float: left;margin-right: 0.25em;color: #696969;}#sk-container-id-3 label.sk-toggleable__label-arrow:hover:before {color: black;}#sk-container-id-3 div.sk-estimator:hover label.sk-toggleable__label-arrow:before {color: black;}#sk-container-id-3 div.sk-toggleable__content {max-height: 0;max-width: 0;overflow: hidden;text-align: left;background-color: #f0f8ff;}#sk-container-id-3 div.sk-toggleable__content pre {margin: 0.2em;color: black;border-radius: 0.25em;background-color: #f0f8ff;}#sk-container-id-3 input.sk-toggleable__control:checked~div.sk-toggleable__content {max-height: 200px;max-width: 100%;overflow: auto;}#sk-container-id-3 input.sk-toggleable__control:checked~label.sk-toggleable__label-arrow:before {content: \"▾\";}#sk-container-id-3 div.sk-estimator input.sk-toggleable__control:checked~label.sk-toggleable__label {background-color: #d4ebff;}#sk-container-id-3 div.sk-label input.sk-toggleable__control:checked~label.sk-toggleable__label {background-color: #d4ebff;}#sk-container-id-3 input.sk-hidden--visually {border: 0;clip: rect(1px 1px 1px 1px);clip: rect(1px, 1px, 1px, 1px);height: 1px;margin: -1px;overflow: hidden;padding: 0;position: absolute;width: 1px;}#sk-container-id-3 div.sk-estimator {font-family: monospace;background-color: #f0f8ff;border: 1px dotted black;border-radius: 0.25em;box-sizing: border-box;margin-bottom: 0.5em;}#sk-container-id-3 div.sk-estimator:hover {background-color: #d4ebff;}#sk-container-id-3 div.sk-parallel-item::after {content: \"\";width: 100%;border-bottom: 1px solid gray;flex-grow: 1;}#sk-container-id-3 div.sk-label:hover label.sk-toggleable__label {background-color: #d4ebff;}#sk-container-id-3 div.sk-serial::before {content: \"\";position: absolute;border-left: 1px solid gray;box-sizing: border-box;top: 0;bottom: 0;left: 50%;z-index: 0;}#sk-container-id-3 div.sk-serial {display: flex;flex-direction: column;align-items: center;background-color: white;padding-right: 0.2em;padding-left: 0.2em;position: relative;}#sk-container-id-3 div.sk-item {position: relative;z-index: 1;}#sk-container-id-3 div.sk-parallel {display: flex;align-items: stretch;justify-content: center;background-color: white;position: relative;}#sk-container-id-3 div.sk-item::before, #sk-container-id-3 div.sk-parallel-item::before {content: \"\";position: absolute;border-left: 1px solid gray;box-sizing: border-box;top: 0;bottom: 0;left: 50%;z-index: -1;}#sk-container-id-3 div.sk-parallel-item {display: flex;flex-direction: column;z-index: 1;position: relative;background-color: white;}#sk-container-id-3 div.sk-parallel-item:first-child::after {align-self: flex-end;width: 50%;}#sk-container-id-3 div.sk-parallel-item:last-child::after {align-self: flex-start;width: 50%;}#sk-container-id-3 div.sk-parallel-item:only-child::after {width: 0;}#sk-container-id-3 div.sk-dashed-wrapped {border: 1px dashed gray;margin: 0 0.4em 0.5em 0.4em;box-sizing: border-box;padding-bottom: 0.4em;background-color: white;}#sk-container-id-3 div.sk-label label {font-family: monospace;font-weight: bold;display: inline-block;line-height: 1.2em;}#sk-container-id-3 div.sk-label-container {text-align: center;}#sk-container-id-3 div.sk-container {/* jupyter's `normalize.less` sets `[hidden] { display: none; }` but bootstrap.min.css set `[hidden] { display: none !important; }` so we also need the `!important` here to be able to override the default hidden behavior on the sphinx rendered scikit-learn.org. See: https://github.com/scikit-learn/scikit-learn/issues/21755 */display: inline-block !important;position: relative;}#sk-container-id-3 div.sk-text-repr-fallback {display: none;}</style><div id=\"sk-container-id-3\" class=\"sk-top-container\"><div class=\"sk-text-repr-fallback\"><pre>GridSearchCV(cv=3, estimator=RandomForestRegressor(),\n",
              "             param_grid=[{&#x27;max_depth&#x27;: [1, 3, 5, 7, 9, 11],\n",
              "                          &#x27;max_features&#x27;: [2, 4, 6, 8],\n",
              "                          &#x27;n_estimators&#x27;: [3, 10, 30],\n",
              "                          &#x27;random_state&#x27;: [RandomState(MT19937) at 0x7F840CEB9240]},\n",
              "                         {&#x27;bootstrap&#x27;: [False],\n",
              "                          &#x27;max_depth&#x27;: [1, 3, 5, 7, 9, 11],\n",
              "                          &#x27;max_features&#x27;: [2, 3, 4], &#x27;n_estimators&#x27;: [3, 10],\n",
              "                          &#x27;random_state&#x27;: [RandomState(MT19937) at 0x7F840CEB9240]}])</pre><b>In a Jupyter environment, please rerun this cell to show the HTML representation or trust the notebook. <br />On GitHub, the HTML representation is unable to render, please try loading this page with nbviewer.org.</b></div><div class=\"sk-container\" hidden><div class=\"sk-item sk-dashed-wrapped\"><div class=\"sk-label-container\"><div class=\"sk-label sk-toggleable\"><input class=\"sk-toggleable__control sk-hidden--visually\" id=\"sk-estimator-id-7\" type=\"checkbox\" ><label for=\"sk-estimator-id-7\" class=\"sk-toggleable__label sk-toggleable__label-arrow\">GridSearchCV</label><div class=\"sk-toggleable__content\"><pre>GridSearchCV(cv=3, estimator=RandomForestRegressor(),\n",
              "             param_grid=[{&#x27;max_depth&#x27;: [1, 3, 5, 7, 9, 11],\n",
              "                          &#x27;max_features&#x27;: [2, 4, 6, 8],\n",
              "                          &#x27;n_estimators&#x27;: [3, 10, 30],\n",
              "                          &#x27;random_state&#x27;: [RandomState(MT19937) at 0x7F840CEB9240]},\n",
              "                         {&#x27;bootstrap&#x27;: [False],\n",
              "                          &#x27;max_depth&#x27;: [1, 3, 5, 7, 9, 11],\n",
              "                          &#x27;max_features&#x27;: [2, 3, 4], &#x27;n_estimators&#x27;: [3, 10],\n",
              "                          &#x27;random_state&#x27;: [RandomState(MT19937) at 0x7F840CEB9240]}])</pre></div></div></div><div class=\"sk-parallel\"><div class=\"sk-parallel-item\"><div class=\"sk-item\"><div class=\"sk-label-container\"><div class=\"sk-label sk-toggleable\"><input class=\"sk-toggleable__control sk-hidden--visually\" id=\"sk-estimator-id-8\" type=\"checkbox\" ><label for=\"sk-estimator-id-8\" class=\"sk-toggleable__label sk-toggleable__label-arrow\">estimator: RandomForestRegressor</label><div class=\"sk-toggleable__content\"><pre>RandomForestRegressor()</pre></div></div></div><div class=\"sk-serial\"><div class=\"sk-item\"><div class=\"sk-estimator sk-toggleable\"><input class=\"sk-toggleable__control sk-hidden--visually\" id=\"sk-estimator-id-9\" type=\"checkbox\" ><label for=\"sk-estimator-id-9\" class=\"sk-toggleable__label sk-toggleable__label-arrow\">RandomForestRegressor</label><div class=\"sk-toggleable__content\"><pre>RandomForestRegressor()</pre></div></div></div></div></div></div></div></div></div></div>"
            ]
          },
          "metadata": {},
          "execution_count": 66
        }
      ],
      "source": [
        "grid = GridSearchCV(rfr, param_grid, cv=3)\n",
        "grid.fit(features_train, target_rougher)"
      ]
    },
    {
      "cell_type": "code",
      "execution_count": 67,
      "metadata": {
        "colab": {
          "base_uri": "https://localhost:8080/"
        },
        "id": "0cR2LOhZWRho",
        "outputId": "2d79c949-9aa1-4d7f-e37d-61ff8f28f682"
      },
      "outputs": [
        {
          "output_type": "execute_result",
          "data": {
            "text/plain": [
              "{'bootstrap': False,\n",
              " 'max_depth': 5,\n",
              " 'max_features': 3,\n",
              " 'n_estimators': 10,\n",
              " 'random_state': RandomState(MT19937) at 0x7F840CEB9240}"
            ]
          },
          "metadata": {},
          "execution_count": 67
        }
      ],
      "source": [
        "grid.best_params_"
      ]
    },
    {
      "cell_type": "code",
      "execution_count": 68,
      "metadata": {
        "colab": {
          "base_uri": "https://localhost:8080/",
          "height": 119
        },
        "id": "uMPZtCMDWRhy",
        "outputId": "58348d79-5eb9-4e78-c72c-994e7fb14b5e"
      },
      "outputs": [
        {
          "output_type": "execute_result",
          "data": {
            "text/plain": [
              "GridSearchCV(cv=3, estimator=RandomForestRegressor(),\n",
              "             param_grid=[{'max_depth': [1, 3, 5, 7, 9, 11],\n",
              "                          'max_features': [2, 4, 6, 8],\n",
              "                          'n_estimators': [3, 10, 30],\n",
              "                          'random_state': [RandomState(MT19937) at 0x7F840CEB9240]},\n",
              "                         {'bootstrap': [False],\n",
              "                          'max_depth': [1, 3, 5, 7, 9, 11],\n",
              "                          'max_features': [2, 3, 4], 'n_estimators': [3, 10],\n",
              "                          'random_state': [RandomState(MT19937) at 0x7F840CEB9240]}])"
            ],
            "text/html": [
              "<style>#sk-container-id-4 {color: black;background-color: white;}#sk-container-id-4 pre{padding: 0;}#sk-container-id-4 div.sk-toggleable {background-color: white;}#sk-container-id-4 label.sk-toggleable__label {cursor: pointer;display: block;width: 100%;margin-bottom: 0;padding: 0.3em;box-sizing: border-box;text-align: center;}#sk-container-id-4 label.sk-toggleable__label-arrow:before {content: \"▸\";float: left;margin-right: 0.25em;color: #696969;}#sk-container-id-4 label.sk-toggleable__label-arrow:hover:before {color: black;}#sk-container-id-4 div.sk-estimator:hover label.sk-toggleable__label-arrow:before {color: black;}#sk-container-id-4 div.sk-toggleable__content {max-height: 0;max-width: 0;overflow: hidden;text-align: left;background-color: #f0f8ff;}#sk-container-id-4 div.sk-toggleable__content pre {margin: 0.2em;color: black;border-radius: 0.25em;background-color: #f0f8ff;}#sk-container-id-4 input.sk-toggleable__control:checked~div.sk-toggleable__content {max-height: 200px;max-width: 100%;overflow: auto;}#sk-container-id-4 input.sk-toggleable__control:checked~label.sk-toggleable__label-arrow:before {content: \"▾\";}#sk-container-id-4 div.sk-estimator input.sk-toggleable__control:checked~label.sk-toggleable__label {background-color: #d4ebff;}#sk-container-id-4 div.sk-label input.sk-toggleable__control:checked~label.sk-toggleable__label {background-color: #d4ebff;}#sk-container-id-4 input.sk-hidden--visually {border: 0;clip: rect(1px 1px 1px 1px);clip: rect(1px, 1px, 1px, 1px);height: 1px;margin: -1px;overflow: hidden;padding: 0;position: absolute;width: 1px;}#sk-container-id-4 div.sk-estimator {font-family: monospace;background-color: #f0f8ff;border: 1px dotted black;border-radius: 0.25em;box-sizing: border-box;margin-bottom: 0.5em;}#sk-container-id-4 div.sk-estimator:hover {background-color: #d4ebff;}#sk-container-id-4 div.sk-parallel-item::after {content: \"\";width: 100%;border-bottom: 1px solid gray;flex-grow: 1;}#sk-container-id-4 div.sk-label:hover label.sk-toggleable__label {background-color: #d4ebff;}#sk-container-id-4 div.sk-serial::before {content: \"\";position: absolute;border-left: 1px solid gray;box-sizing: border-box;top: 0;bottom: 0;left: 50%;z-index: 0;}#sk-container-id-4 div.sk-serial {display: flex;flex-direction: column;align-items: center;background-color: white;padding-right: 0.2em;padding-left: 0.2em;position: relative;}#sk-container-id-4 div.sk-item {position: relative;z-index: 1;}#sk-container-id-4 div.sk-parallel {display: flex;align-items: stretch;justify-content: center;background-color: white;position: relative;}#sk-container-id-4 div.sk-item::before, #sk-container-id-4 div.sk-parallel-item::before {content: \"\";position: absolute;border-left: 1px solid gray;box-sizing: border-box;top: 0;bottom: 0;left: 50%;z-index: -1;}#sk-container-id-4 div.sk-parallel-item {display: flex;flex-direction: column;z-index: 1;position: relative;background-color: white;}#sk-container-id-4 div.sk-parallel-item:first-child::after {align-self: flex-end;width: 50%;}#sk-container-id-4 div.sk-parallel-item:last-child::after {align-self: flex-start;width: 50%;}#sk-container-id-4 div.sk-parallel-item:only-child::after {width: 0;}#sk-container-id-4 div.sk-dashed-wrapped {border: 1px dashed gray;margin: 0 0.4em 0.5em 0.4em;box-sizing: border-box;padding-bottom: 0.4em;background-color: white;}#sk-container-id-4 div.sk-label label {font-family: monospace;font-weight: bold;display: inline-block;line-height: 1.2em;}#sk-container-id-4 div.sk-label-container {text-align: center;}#sk-container-id-4 div.sk-container {/* jupyter's `normalize.less` sets `[hidden] { display: none; }` but bootstrap.min.css set `[hidden] { display: none !important; }` so we also need the `!important` here to be able to override the default hidden behavior on the sphinx rendered scikit-learn.org. See: https://github.com/scikit-learn/scikit-learn/issues/21755 */display: inline-block !important;position: relative;}#sk-container-id-4 div.sk-text-repr-fallback {display: none;}</style><div id=\"sk-container-id-4\" class=\"sk-top-container\"><div class=\"sk-text-repr-fallback\"><pre>GridSearchCV(cv=3, estimator=RandomForestRegressor(),\n",
              "             param_grid=[{&#x27;max_depth&#x27;: [1, 3, 5, 7, 9, 11],\n",
              "                          &#x27;max_features&#x27;: [2, 4, 6, 8],\n",
              "                          &#x27;n_estimators&#x27;: [3, 10, 30],\n",
              "                          &#x27;random_state&#x27;: [RandomState(MT19937) at 0x7F840CEB9240]},\n",
              "                         {&#x27;bootstrap&#x27;: [False],\n",
              "                          &#x27;max_depth&#x27;: [1, 3, 5, 7, 9, 11],\n",
              "                          &#x27;max_features&#x27;: [2, 3, 4], &#x27;n_estimators&#x27;: [3, 10],\n",
              "                          &#x27;random_state&#x27;: [RandomState(MT19937) at 0x7F840CEB9240]}])</pre><b>In a Jupyter environment, please rerun this cell to show the HTML representation or trust the notebook. <br />On GitHub, the HTML representation is unable to render, please try loading this page with nbviewer.org.</b></div><div class=\"sk-container\" hidden><div class=\"sk-item sk-dashed-wrapped\"><div class=\"sk-label-container\"><div class=\"sk-label sk-toggleable\"><input class=\"sk-toggleable__control sk-hidden--visually\" id=\"sk-estimator-id-10\" type=\"checkbox\" ><label for=\"sk-estimator-id-10\" class=\"sk-toggleable__label sk-toggleable__label-arrow\">GridSearchCV</label><div class=\"sk-toggleable__content\"><pre>GridSearchCV(cv=3, estimator=RandomForestRegressor(),\n",
              "             param_grid=[{&#x27;max_depth&#x27;: [1, 3, 5, 7, 9, 11],\n",
              "                          &#x27;max_features&#x27;: [2, 4, 6, 8],\n",
              "                          &#x27;n_estimators&#x27;: [3, 10, 30],\n",
              "                          &#x27;random_state&#x27;: [RandomState(MT19937) at 0x7F840CEB9240]},\n",
              "                         {&#x27;bootstrap&#x27;: [False],\n",
              "                          &#x27;max_depth&#x27;: [1, 3, 5, 7, 9, 11],\n",
              "                          &#x27;max_features&#x27;: [2, 3, 4], &#x27;n_estimators&#x27;: [3, 10],\n",
              "                          &#x27;random_state&#x27;: [RandomState(MT19937) at 0x7F840CEB9240]}])</pre></div></div></div><div class=\"sk-parallel\"><div class=\"sk-parallel-item\"><div class=\"sk-item\"><div class=\"sk-label-container\"><div class=\"sk-label sk-toggleable\"><input class=\"sk-toggleable__control sk-hidden--visually\" id=\"sk-estimator-id-11\" type=\"checkbox\" ><label for=\"sk-estimator-id-11\" class=\"sk-toggleable__label sk-toggleable__label-arrow\">estimator: RandomForestRegressor</label><div class=\"sk-toggleable__content\"><pre>RandomForestRegressor()</pre></div></div></div><div class=\"sk-serial\"><div class=\"sk-item\"><div class=\"sk-estimator sk-toggleable\"><input class=\"sk-toggleable__control sk-hidden--visually\" id=\"sk-estimator-id-12\" type=\"checkbox\" ><label for=\"sk-estimator-id-12\" class=\"sk-toggleable__label sk-toggleable__label-arrow\">RandomForestRegressor</label><div class=\"sk-toggleable__content\"><pre>RandomForestRegressor()</pre></div></div></div></div></div></div></div></div></div></div>"
            ]
          },
          "metadata": {},
          "execution_count": 68
        }
      ],
      "source": [
        "grid = GridSearchCV(rfr, param_grid, cv=3)\n",
        "grid.fit(features_train, target_final)"
      ]
    },
    {
      "cell_type": "code",
      "execution_count": 69,
      "metadata": {
        "colab": {
          "base_uri": "https://localhost:8080/"
        },
        "id": "J6kmNK35WRhz",
        "outputId": "861276cf-006d-43fa-ff5d-9446d7dcff6e"
      },
      "outputs": [
        {
          "output_type": "execute_result",
          "data": {
            "text/plain": [
              "{'max_depth': 3,\n",
              " 'max_features': 8,\n",
              " 'n_estimators': 10,\n",
              " 'random_state': RandomState(MT19937) at 0x7F840CEB9240}"
            ]
          },
          "metadata": {},
          "execution_count": 69
        }
      ],
      "source": [
        "grid.best_params_"
      ]
    },
    {
      "cell_type": "code",
      "execution_count": 70,
      "metadata": {
        "colab": {
          "base_uri": "https://localhost:8080/"
        },
        "id": "wd0fVnWzWRh0",
        "outputId": "ee6cc8b1-d9e5-41eb-e4ec-707b9f74ba9d"
      },
      "outputs": [
        {
          "output_type": "stream",
          "name": "stdout",
          "text": [
            "9.720033904237185\n"
          ]
        }
      ],
      "source": [
        "model_rfr_rougher = RandomForestRegressor(max_depth= 5, max_features= 3, n_estimators= 10, random_state=state)\n",
        "smape_rougher = cross_val_score(model_rfr_rougher,\n",
        "                                  features_train,\n",
        "                                  target_rougher,\n",
        "                                  scoring=smape_scorer,\n",
        "                                  cv=3)\n",
        "final_smape_rougher = smape_rougher.mean()\n",
        "\n",
        "model_rfr_final = RandomForestRegressor(max_depth= 3, max_features= 8, n_estimators= 10, random_state=state)\n",
        "smape_final = cross_val_score(model_rfr_final,\n",
        "                                features_train,\n",
        "                                target_final,\n",
        "                                scoring=smape_scorer,\n",
        "                                cv=3)\n",
        "final_smape_final = smape_final.mean()\n",
        "result_smape = final_smape(final_smape_rougher, final_smape_final)*(-1)\n",
        "\n",
        "print(result_smape)"
      ]
    },
    {
      "cell_type": "markdown",
      "metadata": {
        "id": "12AEodv1WRh-"
      },
      "source": [
        "Лучший результат показывает модель CatBoost. Обучим её."
      ]
    },
    {
      "cell_type": "markdown",
      "metadata": {
        "id": "xA0jMA5zWRiE"
      },
      "source": [
        "Подготовим features и target для тестовой выборки и масштабируем признаки."
      ]
    },
    {
      "cell_type": "code",
      "execution_count": 71,
      "metadata": {
        "id": "g8uu3eMhWRiF"
      },
      "outputs": [],
      "source": [
        "target_rougher_test = test['rougher.output.recovery']\n",
        "target_final_test = test['final.output.recovery']\n",
        "\n",
        "features_test = test.drop(['date', 'final.output.recovery', 'rougher.output.recovery'], axis='columns')"
      ]
    },
    {
      "cell_type": "markdown",
      "metadata": {
        "id": "AE35O13dWRiG"
      },
      "source": [
        "Обучим модель и получим предсказания."
      ]
    },
    {
      "cell_type": "code",
      "execution_count": 72,
      "metadata": {
        "colab": {
          "base_uri": "https://localhost:8080/"
        },
        "id": "5lQbszS5WRiH",
        "outputId": "823f2cbe-682c-49a5-ad8e-7be09fced1bd"
      },
      "outputs": [
        {
          "output_type": "stream",
          "name": "stdout",
          "text": [
            "Learning rate set to 0.5\n",
            "0:\tlearn: 12.4610294\ttotal: 16.8ms\tremaining: 50.5ms\n",
            "1:\tlearn: 11.4129278\ttotal: 32.8ms\tremaining: 32.8ms\n",
            "2:\tlearn: 10.8329860\ttotal: 48.8ms\tremaining: 16.3ms\n",
            "3:\tlearn: 10.5088478\ttotal: 64ms\tremaining: 0us\n",
            "Learning rate set to 0.5\n",
            "0:\tlearn: 7.7029573\ttotal: 4.08ms\tremaining: 12.2ms\n",
            "1:\tlearn: 7.3286029\ttotal: 7.68ms\tremaining: 7.68ms\n",
            "2:\tlearn: 7.1317916\ttotal: 11.4ms\tremaining: 3.79ms\n",
            "3:\tlearn: 7.0266071\ttotal: 14.9ms\tremaining: 0us\n"
          ]
        }
      ],
      "source": [
        "model_cb = CatBoostRegressor(iterations=4, depth=6)\n",
        "model_cb_1 = CatBoostRegressor(iterations=4, depth=2)\n",
        "\n",
        "cb_rougher = model_cb.fit(features_train, target_rougher)\n",
        "cb_final = model_cb_1.fit(features_train, target_final)\n",
        "\n",
        "cb_predictions_rougher = cb_rougher.predict(features_test)\n",
        "cb_predictions_final = cb_final.predict(features_test)"
      ]
    },
    {
      "cell_type": "markdown",
      "metadata": {
        "id": "fLyw9EPhWRi2"
      },
      "source": [
        "Посчитаем sMAPE для обоих признаков и итоговый"
      ]
    },
    {
      "cell_type": "code",
      "execution_count": 73,
      "metadata": {
        "id": "eB_RI1PLWRi4"
      },
      "outputs": [],
      "source": [
        "smape_rougher = smape(target_rougher_test, cb_predictions_rougher)"
      ]
    },
    {
      "cell_type": "code",
      "execution_count": 74,
      "metadata": {
        "id": "9g-t-5MAWRi_"
      },
      "outputs": [],
      "source": [
        "smape_final = smape(target_final_test, cb_predictions_final)"
      ]
    },
    {
      "cell_type": "code",
      "execution_count": 75,
      "metadata": {
        "colab": {
          "base_uri": "https://localhost:8080/"
        },
        "id": "bVUpvnijWRjP",
        "outputId": "15cfba9e-2ca5-4904-fb59-cac320b58260"
      },
      "outputs": [
        {
          "output_type": "execute_result",
          "data": {
            "text/plain": [
              "7.386702171870651"
            ]
          },
          "metadata": {},
          "execution_count": 75
        }
      ],
      "source": [
        "final_smape(smape_rougher, smape_final)"
      ]
    },
    {
      "cell_type": "markdown",
      "metadata": {
        "id": "52s2HiZmWRjR"
      },
      "source": [
        "Проверим качество модели, сравнив с константной. Для этого будем использовать модель DummyRegressor."
      ]
    },
    {
      "cell_type": "code",
      "execution_count": 76,
      "metadata": {
        "id": "TCTVnIJzWRjS"
      },
      "outputs": [],
      "source": [
        "dummy = DummyRegressor(strategy = 'mean')\n",
        "dummy_1 = DummyRegressor(strategy = 'mean')\n",
        "\n",
        "dummy_rougher = dummy.fit(features_train, target_rougher)\n",
        "dummy_predictions_rougher = dummy_rougher.predict(features_test)\n",
        "\n",
        "dummy_final = dummy_1.fit(features_train, target_final)\n",
        "dummy_predictions_final = dummy_final.predict(features_test)"
      ]
    },
    {
      "cell_type": "code",
      "execution_count": 77,
      "metadata": {
        "id": "7fBJePluWRjU"
      },
      "outputs": [],
      "source": [
        "smape_rougher_dummy = smape(target_rougher_test, dummy_predictions_rougher)"
      ]
    },
    {
      "cell_type": "code",
      "execution_count": 78,
      "metadata": {
        "id": "iEhtzPaTWRjV"
      },
      "outputs": [],
      "source": [
        "smape_final_dummy = smape(target_final_test, dummy_predictions_final)"
      ]
    },
    {
      "cell_type": "code",
      "execution_count": 79,
      "metadata": {
        "colab": {
          "base_uri": "https://localhost:8080/"
        },
        "id": "pIPX7LzCWRjX",
        "outputId": "822dce76-609b-451e-ca12-71ed69447832"
      },
      "outputs": [
        {
          "output_type": "execute_result",
          "data": {
            "text/plain": [
              "8.667836982352153"
            ]
          },
          "metadata": {},
          "execution_count": 79
        }
      ],
      "source": [
        "final_smape(smape_rougher_dummy, smape_final_dummy)"
      ]
    },
    {
      "cell_type": "markdown",
      "metadata": {
        "id": "Xcrakf1LWRjY"
      },
      "source": [
        "Обученная модель предсказывает результат точнее константной. Это говорит о том, что построенная модель адекватна."
      ]
    },
    {
      "cell_type": "markdown",
      "metadata": {
        "id": "gPe8itc9WRjZ"
      },
      "source": [
        "**Вывод:**\n",
        "* Написали функции для рассчета sMAPE и итогового sMAPE.\n",
        "* Проверили несколько формул кросс-валидацией.\n",
        "* Проверили работу модели на тестовой выборке с помощью метрики качества sMAPE и сравнения с константной моделью.\n",
        "* Подготовили прототип модели машинного обучения для «Цифры»"
      ]
    }
  ],
  "metadata": {
    "ExecuteTimeLog": [
      {
        "duration": 1649,
        "start_time": "2023-06-04T16:12:26.644Z"
      },
      {
        "duration": 142,
        "start_time": "2023-06-04T16:12:46.613Z"
      },
      {
        "duration": 2142,
        "start_time": "2023-06-04T16:14:02.329Z"
      },
      {
        "duration": 20,
        "start_time": "2023-06-04T16:14:20.107Z"
      },
      {
        "duration": 16,
        "start_time": "2023-06-04T16:40:58.207Z"
      },
      {
        "duration": 4,
        "start_time": "2023-06-04T16:41:07.640Z"
      },
      {
        "duration": 4,
        "start_time": "2023-06-04T16:41:16.253Z"
      },
      {
        "duration": 248,
        "start_time": "2023-06-04T16:41:45.557Z"
      },
      {
        "duration": 346,
        "start_time": "2023-06-04T16:41:51.308Z"
      },
      {
        "duration": 243,
        "start_time": "2023-06-04T16:42:09.137Z"
      },
      {
        "duration": 267,
        "start_time": "2023-06-04T16:42:16.541Z"
      },
      {
        "duration": 262,
        "start_time": "2023-06-04T16:42:24.636Z"
      },
      {
        "duration": 1588,
        "start_time": "2023-06-04T16:42:54.889Z"
      },
      {
        "duration": 262,
        "start_time": "2023-06-04T16:43:04.818Z"
      },
      {
        "duration": 5,
        "start_time": "2023-06-04T16:43:43.692Z"
      },
      {
        "duration": 5,
        "start_time": "2023-06-04T16:44:05.089Z"
      },
      {
        "duration": 1604,
        "start_time": "2023-06-04T16:44:23.390Z"
      },
      {
        "duration": 5,
        "start_time": "2023-06-04T16:44:24.996Z"
      },
      {
        "duration": 470,
        "start_time": "2023-06-04T16:44:30.262Z"
      },
      {
        "duration": 5,
        "start_time": "2023-06-04T16:45:15.107Z"
      },
      {
        "duration": 5,
        "start_time": "2023-06-04T16:45:16.803Z"
      },
      {
        "duration": 5,
        "start_time": "2023-06-04T16:46:25.659Z"
      },
      {
        "duration": 3,
        "start_time": "2023-06-04T16:49:25.021Z"
      },
      {
        "duration": 64,
        "start_time": "2023-06-04T16:50:13.841Z"
      },
      {
        "duration": 5,
        "start_time": "2023-06-04T16:50:25.380Z"
      },
      {
        "duration": 5,
        "start_time": "2023-06-04T17:00:33.593Z"
      },
      {
        "duration": 5,
        "start_time": "2023-06-04T17:00:57.818Z"
      },
      {
        "duration": 8,
        "start_time": "2023-06-04T17:02:00.667Z"
      },
      {
        "duration": 5,
        "start_time": "2023-06-04T17:03:53.834Z"
      },
      {
        "duration": 15,
        "start_time": "2023-06-04T17:03:54.284Z"
      },
      {
        "duration": 9,
        "start_time": "2023-06-04T17:04:35.852Z"
      },
      {
        "duration": 6,
        "start_time": "2023-06-04T17:05:40.838Z"
      },
      {
        "duration": 8,
        "start_time": "2023-06-04T17:05:42.316Z"
      },
      {
        "duration": 7,
        "start_time": "2023-06-04T17:05:44.021Z"
      },
      {
        "duration": 46,
        "start_time": "2023-06-04T17:05:55.909Z"
      },
      {
        "duration": 3,
        "start_time": "2023-06-04T17:06:12.699Z"
      },
      {
        "duration": 3,
        "start_time": "2023-06-04T17:06:20.120Z"
      },
      {
        "duration": 14,
        "start_time": "2023-06-04T17:26:14.637Z"
      },
      {
        "duration": 22,
        "start_time": "2023-06-04T17:26:58.963Z"
      },
      {
        "duration": 62,
        "start_time": "2023-06-04T17:29:42.406Z"
      },
      {
        "duration": 5,
        "start_time": "2023-06-04T17:30:13.166Z"
      },
      {
        "duration": 4,
        "start_time": "2023-06-04T17:30:16.167Z"
      },
      {
        "duration": 5,
        "start_time": "2023-06-04T17:30:17.027Z"
      },
      {
        "duration": 4,
        "start_time": "2023-06-04T17:30:17.456Z"
      },
      {
        "duration": 5,
        "start_time": "2023-06-04T17:31:52.999Z"
      },
      {
        "duration": 267,
        "start_time": "2023-06-04T17:32:24.093Z"
      },
      {
        "duration": 270,
        "start_time": "2023-06-04T17:32:49.241Z"
      },
      {
        "duration": 284,
        "start_time": "2023-06-04T17:32:56.490Z"
      },
      {
        "duration": 196,
        "start_time": "2023-06-04T17:34:40.104Z"
      },
      {
        "duration": 181,
        "start_time": "2023-06-04T17:35:18.965Z"
      },
      {
        "duration": 166,
        "start_time": "2023-06-04T17:36:13.130Z"
      },
      {
        "duration": 196,
        "start_time": "2023-06-04T17:36:23.399Z"
      },
      {
        "duration": 192,
        "start_time": "2023-06-04T17:37:38.194Z"
      },
      {
        "duration": 153,
        "start_time": "2023-06-04T17:37:49.455Z"
      },
      {
        "duration": 48,
        "start_time": "2023-06-04T17:38:47.601Z"
      },
      {
        "duration": 17,
        "start_time": "2023-06-04T17:39:54.244Z"
      },
      {
        "duration": 216,
        "start_time": "2023-06-04T17:40:24.643Z"
      },
      {
        "duration": 13,
        "start_time": "2023-06-04T17:41:16.791Z"
      },
      {
        "duration": 186,
        "start_time": "2023-06-04T17:41:17.895Z"
      },
      {
        "duration": 51,
        "start_time": "2023-06-04T17:41:41.233Z"
      },
      {
        "duration": 51,
        "start_time": "2023-06-04T17:41:47.975Z"
      },
      {
        "duration": 16,
        "start_time": "2023-06-04T17:42:39.534Z"
      },
      {
        "duration": 12,
        "start_time": "2023-06-04T17:42:49.549Z"
      },
      {
        "duration": 191,
        "start_time": "2023-06-04T17:42:50.759Z"
      },
      {
        "duration": 43,
        "start_time": "2023-06-04T17:43:38.887Z"
      },
      {
        "duration": 10,
        "start_time": "2023-06-04T17:44:03.612Z"
      },
      {
        "duration": 56,
        "start_time": "2023-06-04T17:44:13.613Z"
      },
      {
        "duration": 9,
        "start_time": "2023-06-04T17:44:36.226Z"
      },
      {
        "duration": 12,
        "start_time": "2023-06-04T17:44:47.425Z"
      },
      {
        "duration": 9,
        "start_time": "2023-06-04T17:45:52.514Z"
      },
      {
        "duration": 8,
        "start_time": "2023-06-04T17:46:14.584Z"
      },
      {
        "duration": 68,
        "start_time": "2023-06-04T17:46:39.316Z"
      },
      {
        "duration": 158,
        "start_time": "2023-06-04T17:46:51.487Z"
      },
      {
        "duration": 5,
        "start_time": "2023-06-04T17:47:33.413Z"
      },
      {
        "duration": 46,
        "start_time": "2023-06-04T17:48:32.171Z"
      },
      {
        "duration": 27,
        "start_time": "2023-06-04T17:49:03.992Z"
      },
      {
        "duration": 13,
        "start_time": "2023-06-04T17:49:31.017Z"
      },
      {
        "duration": 4,
        "start_time": "2023-06-04T17:50:13.019Z"
      },
      {
        "duration": 54,
        "start_time": "2023-06-04T17:50:24.198Z"
      },
      {
        "duration": 57,
        "start_time": "2023-06-04T17:54:15.601Z"
      },
      {
        "duration": 3,
        "start_time": "2023-06-04T17:59:03.563Z"
      },
      {
        "duration": 3,
        "start_time": "2023-06-04T17:59:31.410Z"
      },
      {
        "duration": 7,
        "start_time": "2023-06-04T18:00:05.885Z"
      },
      {
        "duration": 24,
        "start_time": "2023-06-04T18:01:18.128Z"
      },
      {
        "duration": 2443,
        "start_time": "2023-06-04T18:02:16.466Z"
      },
      {
        "duration": 2532,
        "start_time": "2023-06-04T18:02:54.069Z"
      },
      {
        "duration": 971,
        "start_time": "2023-06-04T18:03:05.976Z"
      },
      {
        "duration": 3218,
        "start_time": "2023-06-04T18:03:30.217Z"
      },
      {
        "duration": 0,
        "start_time": "2023-06-04T18:04:59.500Z"
      },
      {
        "duration": 6,
        "start_time": "2023-06-04T18:05:07.385Z"
      },
      {
        "duration": 2405,
        "start_time": "2023-06-04T18:05:07.394Z"
      },
      {
        "duration": 25,
        "start_time": "2023-06-04T18:05:09.802Z"
      },
      {
        "duration": 11,
        "start_time": "2023-06-04T18:05:09.829Z"
      },
      {
        "duration": 4,
        "start_time": "2023-06-04T18:05:09.841Z"
      },
      {
        "duration": 39,
        "start_time": "2023-06-04T18:05:09.847Z"
      },
      {
        "duration": 482,
        "start_time": "2023-06-04T18:05:09.889Z"
      },
      {
        "duration": 255,
        "start_time": "2023-06-04T18:05:10.372Z"
      },
      {
        "duration": 5,
        "start_time": "2023-06-04T18:05:10.629Z"
      },
      {
        "duration": 66,
        "start_time": "2023-06-04T18:05:10.645Z"
      },
      {
        "duration": 23,
        "start_time": "2023-06-04T18:05:10.712Z"
      },
      {
        "duration": 33,
        "start_time": "2023-06-04T18:05:10.737Z"
      },
      {
        "duration": 27,
        "start_time": "2023-06-04T18:05:10.771Z"
      },
      {
        "duration": 17,
        "start_time": "2023-06-04T18:05:10.800Z"
      },
      {
        "duration": 19,
        "start_time": "2023-06-04T18:05:10.819Z"
      },
      {
        "duration": 33,
        "start_time": "2023-06-04T18:05:10.840Z"
      },
      {
        "duration": 7,
        "start_time": "2023-06-04T18:05:10.875Z"
      },
      {
        "duration": 36,
        "start_time": "2023-06-04T18:05:10.883Z"
      },
      {
        "duration": 15,
        "start_time": "2023-06-04T18:05:10.921Z"
      },
      {
        "duration": 11,
        "start_time": "2023-06-04T18:05:10.938Z"
      },
      {
        "duration": 29,
        "start_time": "2023-06-04T18:05:10.954Z"
      },
      {
        "duration": 20,
        "start_time": "2023-06-04T18:05:10.984Z"
      },
      {
        "duration": 17,
        "start_time": "2023-06-04T18:05:11.005Z"
      },
      {
        "duration": 9,
        "start_time": "2023-06-04T18:05:11.023Z"
      },
      {
        "duration": 29,
        "start_time": "2023-06-04T18:05:11.033Z"
      },
      {
        "duration": 41,
        "start_time": "2023-06-04T18:05:11.064Z"
      },
      {
        "duration": 278,
        "start_time": "2023-06-04T18:05:11.107Z"
      },
      {
        "duration": 286,
        "start_time": "2023-06-04T18:05:11.389Z"
      },
      {
        "duration": 298,
        "start_time": "2023-06-04T18:05:11.676Z"
      },
      {
        "duration": 204,
        "start_time": "2023-06-04T18:05:11.976Z"
      },
      {
        "duration": 170,
        "start_time": "2023-06-04T18:05:12.182Z"
      },
      {
        "duration": 17,
        "start_time": "2023-06-04T18:05:12.354Z"
      },
      {
        "duration": 243,
        "start_time": "2023-06-04T18:05:12.372Z"
      },
      {
        "duration": 15,
        "start_time": "2023-06-04T18:05:12.618Z"
      },
      {
        "duration": 46,
        "start_time": "2023-06-04T18:05:12.645Z"
      },
      {
        "duration": 41,
        "start_time": "2023-06-04T18:05:12.692Z"
      },
      {
        "duration": 37,
        "start_time": "2023-06-04T18:05:12.735Z"
      },
      {
        "duration": 192,
        "start_time": "2023-06-04T18:05:12.774Z"
      },
      {
        "duration": 6,
        "start_time": "2023-06-04T18:05:12.968Z"
      },
      {
        "duration": 72,
        "start_time": "2023-06-04T18:05:12.976Z"
      },
      {
        "duration": 45,
        "start_time": "2023-06-04T18:05:13.050Z"
      },
      {
        "duration": 24,
        "start_time": "2023-06-04T18:05:13.098Z"
      },
      {
        "duration": 42,
        "start_time": "2023-06-04T18:05:13.123Z"
      },
      {
        "duration": 15,
        "start_time": "2023-06-04T18:05:13.167Z"
      },
      {
        "duration": 34,
        "start_time": "2023-06-04T18:05:13.184Z"
      },
      {
        "duration": 24,
        "start_time": "2023-06-04T18:05:13.219Z"
      },
      {
        "duration": 2388,
        "start_time": "2023-06-04T18:05:13.244Z"
      },
      {
        "duration": 1022,
        "start_time": "2023-06-04T18:05:15.634Z"
      },
      {
        "duration": 2192,
        "start_time": "2023-06-04T18:05:16.659Z"
      },
      {
        "duration": 49804,
        "start_time": "2023-06-04T18:05:18.853Z"
      },
      {
        "duration": 769,
        "start_time": "2023-06-04T18:06:11.178Z"
      },
      {
        "duration": 2032,
        "start_time": "2023-06-04T18:06:16.071Z"
      },
      {
        "duration": 2479,
        "start_time": "2023-06-04T18:06:46.225Z"
      },
      {
        "duration": 2253,
        "start_time": "2023-06-04T18:06:55.113Z"
      },
      {
        "duration": 71,
        "start_time": "2023-06-04T18:07:40.038Z"
      },
      {
        "duration": 4,
        "start_time": "2023-06-04T18:08:02.065Z"
      },
      {
        "duration": 11,
        "start_time": "2023-06-04T18:08:16.920Z"
      },
      {
        "duration": 1459,
        "start_time": "2023-06-04T18:08:51.268Z"
      },
      {
        "duration": 1156,
        "start_time": "2023-06-04T18:09:11.807Z"
      },
      {
        "duration": 6,
        "start_time": "2023-06-04T18:10:33.722Z"
      },
      {
        "duration": 5,
        "start_time": "2023-06-04T18:10:57.432Z"
      },
      {
        "duration": 5,
        "start_time": "2023-06-04T18:11:10.866Z"
      },
      {
        "duration": 45,
        "start_time": "2023-06-04T18:11:24.858Z"
      },
      {
        "duration": 5,
        "start_time": "2023-06-04T18:11:35.835Z"
      },
      {
        "duration": 5,
        "start_time": "2023-06-04T18:11:55.117Z"
      },
      {
        "duration": 5,
        "start_time": "2023-06-04T18:11:55.744Z"
      },
      {
        "duration": 5,
        "start_time": "2023-06-04T18:11:56.552Z"
      },
      {
        "duration": 6,
        "start_time": "2023-06-04T18:11:57.869Z"
      },
      {
        "duration": 3,
        "start_time": "2023-06-04T18:14:29.764Z"
      },
      {
        "duration": 2234,
        "start_time": "2023-06-04T18:14:29.771Z"
      },
      {
        "duration": 19,
        "start_time": "2023-06-04T18:14:32.007Z"
      },
      {
        "duration": 28,
        "start_time": "2023-06-04T18:14:32.028Z"
      },
      {
        "duration": 29,
        "start_time": "2023-06-04T18:14:32.057Z"
      },
      {
        "duration": 33,
        "start_time": "2023-06-04T18:14:32.088Z"
      },
      {
        "duration": 257,
        "start_time": "2023-06-04T18:14:32.122Z"
      },
      {
        "duration": 290,
        "start_time": "2023-06-04T18:14:32.380Z"
      },
      {
        "duration": 5,
        "start_time": "2023-06-04T18:14:32.672Z"
      },
      {
        "duration": 11,
        "start_time": "2023-06-04T18:14:32.679Z"
      },
      {
        "duration": 31,
        "start_time": "2023-06-04T18:14:32.691Z"
      },
      {
        "duration": 24,
        "start_time": "2023-06-04T18:14:32.724Z"
      },
      {
        "duration": 24,
        "start_time": "2023-06-04T18:14:32.750Z"
      },
      {
        "duration": 19,
        "start_time": "2023-06-04T18:14:32.775Z"
      },
      {
        "duration": 6,
        "start_time": "2023-06-04T18:14:32.798Z"
      },
      {
        "duration": 27,
        "start_time": "2023-06-04T18:14:32.806Z"
      },
      {
        "duration": 13,
        "start_time": "2023-06-04T18:14:32.835Z"
      },
      {
        "duration": 14,
        "start_time": "2023-06-04T18:14:32.849Z"
      },
      {
        "duration": 24,
        "start_time": "2023-06-04T18:14:32.864Z"
      },
      {
        "duration": 8,
        "start_time": "2023-06-04T18:14:32.889Z"
      },
      {
        "duration": 15,
        "start_time": "2023-06-04T18:14:32.898Z"
      },
      {
        "duration": 14,
        "start_time": "2023-06-04T18:14:32.914Z"
      },
      {
        "duration": 9,
        "start_time": "2023-06-04T18:14:32.930Z"
      },
      {
        "duration": 9,
        "start_time": "2023-06-04T18:14:32.941Z"
      },
      {
        "duration": 15,
        "start_time": "2023-06-04T18:14:32.951Z"
      },
      {
        "duration": 8,
        "start_time": "2023-06-04T18:14:32.968Z"
      },
      {
        "duration": 284,
        "start_time": "2023-06-04T18:14:32.978Z"
      },
      {
        "duration": 265,
        "start_time": "2023-06-04T18:14:33.264Z"
      },
      {
        "duration": 491,
        "start_time": "2023-06-04T18:14:33.530Z"
      },
      {
        "duration": 187,
        "start_time": "2023-06-04T18:14:34.023Z"
      },
      {
        "duration": 162,
        "start_time": "2023-06-04T18:14:34.211Z"
      },
      {
        "duration": 12,
        "start_time": "2023-06-04T18:14:34.374Z"
      },
      {
        "duration": 200,
        "start_time": "2023-06-04T18:14:34.387Z"
      },
      {
        "duration": 9,
        "start_time": "2023-06-04T18:14:34.589Z"
      },
      {
        "duration": 15,
        "start_time": "2023-06-04T18:14:34.599Z"
      },
      {
        "duration": 21,
        "start_time": "2023-06-04T18:14:34.615Z"
      },
      {
        "duration": 17,
        "start_time": "2023-06-04T18:14:34.638Z"
      },
      {
        "duration": 148,
        "start_time": "2023-06-04T18:14:34.657Z"
      },
      {
        "duration": 5,
        "start_time": "2023-06-04T18:14:34.807Z"
      },
      {
        "duration": 47,
        "start_time": "2023-06-04T18:14:34.814Z"
      },
      {
        "duration": 14,
        "start_time": "2023-06-04T18:14:34.863Z"
      },
      {
        "duration": 3,
        "start_time": "2023-06-04T18:14:34.882Z"
      },
      {
        "duration": 7,
        "start_time": "2023-06-04T18:14:34.887Z"
      },
      {
        "duration": 7,
        "start_time": "2023-06-04T18:14:34.895Z"
      },
      {
        "duration": 11,
        "start_time": "2023-06-04T18:14:34.903Z"
      },
      {
        "duration": 42,
        "start_time": "2023-06-04T18:14:34.916Z"
      },
      {
        "duration": 2453,
        "start_time": "2023-06-04T18:14:34.960Z"
      },
      {
        "duration": 633,
        "start_time": "2023-06-04T18:14:37.415Z"
      },
      {
        "duration": 2119,
        "start_time": "2023-06-04T18:14:38.049Z"
      },
      {
        "duration": 50,
        "start_time": "2023-06-04T19:47:07.164Z"
      },
      {
        "duration": 2972,
        "start_time": "2023-06-04T19:47:10.901Z"
      },
      {
        "duration": 7115,
        "start_time": "2023-06-04T19:47:13.878Z"
      },
      {
        "duration": 28,
        "start_time": "2023-06-04T19:47:20.995Z"
      },
      {
        "duration": 18,
        "start_time": "2023-06-04T19:47:21.025Z"
      },
      {
        "duration": 5,
        "start_time": "2023-06-04T19:47:21.049Z"
      },
      {
        "duration": 14,
        "start_time": "2023-06-04T19:47:21.059Z"
      },
      {
        "duration": 274,
        "start_time": "2023-06-04T19:47:21.077Z"
      },
      {
        "duration": 335,
        "start_time": "2023-06-04T19:47:21.356Z"
      },
      {
        "duration": 5,
        "start_time": "2023-06-04T19:47:21.693Z"
      },
      {
        "duration": 33,
        "start_time": "2023-06-04T19:47:21.700Z"
      },
      {
        "duration": 8,
        "start_time": "2023-06-04T19:47:21.739Z"
      },
      {
        "duration": 36,
        "start_time": "2023-06-04T19:47:21.750Z"
      },
      {
        "duration": 53,
        "start_time": "2023-06-04T19:47:21.788Z"
      },
      {
        "duration": 11,
        "start_time": "2023-06-04T19:47:21.844Z"
      },
      {
        "duration": 30,
        "start_time": "2023-06-04T19:47:21.857Z"
      },
      {
        "duration": 19,
        "start_time": "2023-06-04T19:47:21.890Z"
      },
      {
        "duration": 8,
        "start_time": "2023-06-04T19:47:21.911Z"
      },
      {
        "duration": 42,
        "start_time": "2023-06-04T19:47:21.921Z"
      },
      {
        "duration": 10,
        "start_time": "2023-06-04T19:47:21.968Z"
      },
      {
        "duration": 12,
        "start_time": "2023-06-04T19:47:21.983Z"
      },
      {
        "duration": 12,
        "start_time": "2023-06-04T19:47:21.997Z"
      },
      {
        "duration": 21,
        "start_time": "2023-06-04T19:47:22.012Z"
      },
      {
        "duration": 18,
        "start_time": "2023-06-04T19:47:22.034Z"
      },
      {
        "duration": 40,
        "start_time": "2023-06-04T19:47:22.054Z"
      },
      {
        "duration": 22,
        "start_time": "2023-06-04T19:47:22.096Z"
      },
      {
        "duration": 37,
        "start_time": "2023-06-04T19:47:22.120Z"
      },
      {
        "duration": 272,
        "start_time": "2023-06-04T19:47:22.161Z"
      },
      {
        "duration": 286,
        "start_time": "2023-06-04T19:47:22.435Z"
      },
      {
        "duration": 364,
        "start_time": "2023-06-04T19:47:22.724Z"
      },
      {
        "duration": 200,
        "start_time": "2023-06-04T19:47:23.090Z"
      },
      {
        "duration": 161,
        "start_time": "2023-06-04T19:47:23.291Z"
      },
      {
        "duration": 19,
        "start_time": "2023-06-04T19:47:23.454Z"
      },
      {
        "duration": 212,
        "start_time": "2023-06-04T19:47:23.477Z"
      },
      {
        "duration": 12,
        "start_time": "2023-06-04T19:47:23.691Z"
      },
      {
        "duration": 32,
        "start_time": "2023-06-04T19:47:23.705Z"
      },
      {
        "duration": 19,
        "start_time": "2023-06-04T19:47:23.745Z"
      },
      {
        "duration": 18,
        "start_time": "2023-06-04T19:47:23.767Z"
      },
      {
        "duration": 189,
        "start_time": "2023-06-04T19:47:23.787Z"
      },
      {
        "duration": 5,
        "start_time": "2023-06-04T19:47:23.978Z"
      },
      {
        "duration": 182,
        "start_time": "2023-06-04T19:47:23.986Z"
      },
      {
        "duration": 19,
        "start_time": "2023-06-04T19:47:24.172Z"
      },
      {
        "duration": 5,
        "start_time": "2023-06-04T19:47:24.192Z"
      },
      {
        "duration": 15,
        "start_time": "2023-06-04T19:47:24.198Z"
      },
      {
        "duration": 5,
        "start_time": "2023-06-04T19:47:24.215Z"
      },
      {
        "duration": 28,
        "start_time": "2023-06-04T19:47:24.222Z"
      },
      {
        "duration": 28,
        "start_time": "2023-06-04T19:47:24.252Z"
      },
      {
        "duration": 1703,
        "start_time": "2023-06-04T22:12:25.130Z"
      },
      {
        "duration": 3456,
        "start_time": "2023-06-04T22:12:26.835Z"
      },
      {
        "duration": 18,
        "start_time": "2023-06-04T22:12:30.293Z"
      },
      {
        "duration": 33,
        "start_time": "2023-06-04T22:12:30.313Z"
      },
      {
        "duration": 44,
        "start_time": "2023-06-04T22:12:30.348Z"
      },
      {
        "duration": 62,
        "start_time": "2023-06-04T22:12:30.394Z"
      },
      {
        "duration": 287,
        "start_time": "2023-06-04T22:12:30.458Z"
      },
      {
        "duration": 343,
        "start_time": "2023-06-04T22:12:30.747Z"
      },
      {
        "duration": 5,
        "start_time": "2023-06-04T22:12:31.091Z"
      },
      {
        "duration": 68,
        "start_time": "2023-06-04T22:12:31.099Z"
      },
      {
        "duration": 57,
        "start_time": "2023-06-04T22:12:31.168Z"
      },
      {
        "duration": 42,
        "start_time": "2023-06-04T22:12:31.227Z"
      },
      {
        "duration": 59,
        "start_time": "2023-06-04T22:12:31.271Z"
      },
      {
        "duration": 51,
        "start_time": "2023-06-04T22:12:31.332Z"
      },
      {
        "duration": 49,
        "start_time": "2023-06-04T22:12:31.384Z"
      },
      {
        "duration": 49,
        "start_time": "2023-06-04T22:12:31.435Z"
      },
      {
        "duration": 37,
        "start_time": "2023-06-04T22:12:31.486Z"
      },
      {
        "duration": 79,
        "start_time": "2023-06-04T22:12:31.525Z"
      },
      {
        "duration": 53,
        "start_time": "2023-06-04T22:12:31.606Z"
      },
      {
        "duration": 33,
        "start_time": "2023-06-04T22:12:31.662Z"
      },
      {
        "duration": 34,
        "start_time": "2023-06-04T22:12:31.697Z"
      },
      {
        "duration": 78,
        "start_time": "2023-06-04T22:12:31.733Z"
      },
      {
        "duration": 30,
        "start_time": "2023-06-04T22:12:31.813Z"
      },
      {
        "duration": 25,
        "start_time": "2023-06-04T22:12:31.845Z"
      },
      {
        "duration": 16,
        "start_time": "2023-06-04T22:12:31.871Z"
      },
      {
        "duration": 32,
        "start_time": "2023-06-04T22:12:31.889Z"
      },
      {
        "duration": 290,
        "start_time": "2023-06-04T22:12:31.923Z"
      },
      {
        "duration": 305,
        "start_time": "2023-06-04T22:12:32.216Z"
      },
      {
        "duration": 283,
        "start_time": "2023-06-04T22:12:32.523Z"
      },
      {
        "duration": 177,
        "start_time": "2023-06-04T22:12:32.807Z"
      },
      {
        "duration": 179,
        "start_time": "2023-06-04T22:12:32.986Z"
      },
      {
        "duration": 12,
        "start_time": "2023-06-04T22:12:33.167Z"
      },
      {
        "duration": 191,
        "start_time": "2023-06-04T22:12:33.180Z"
      },
      {
        "duration": 11,
        "start_time": "2023-06-04T22:12:33.373Z"
      },
      {
        "duration": 12,
        "start_time": "2023-06-04T22:12:33.385Z"
      },
      {
        "duration": 13,
        "start_time": "2023-06-04T22:12:33.399Z"
      },
      {
        "duration": 8,
        "start_time": "2023-06-04T22:12:33.414Z"
      },
      {
        "duration": 179,
        "start_time": "2023-06-04T22:12:33.425Z"
      },
      {
        "duration": 4,
        "start_time": "2023-06-04T22:12:33.606Z"
      },
      {
        "duration": 135,
        "start_time": "2023-06-04T22:12:33.612Z"
      },
      {
        "duration": 23,
        "start_time": "2023-06-04T22:12:33.750Z"
      },
      {
        "duration": 5,
        "start_time": "2023-06-04T22:12:33.774Z"
      },
      {
        "duration": 6,
        "start_time": "2023-06-04T22:12:33.781Z"
      },
      {
        "duration": 4,
        "start_time": "2023-06-04T22:12:33.789Z"
      },
      {
        "duration": 11,
        "start_time": "2023-06-04T22:12:33.794Z"
      },
      {
        "duration": 18,
        "start_time": "2023-06-04T22:12:33.806Z"
      },
      {
        "duration": 2192,
        "start_time": "2023-06-04T22:12:33.825Z"
      },
      {
        "duration": 1236,
        "start_time": "2023-06-04T22:12:36.019Z"
      },
      {
        "duration": 2468,
        "start_time": "2023-06-04T22:12:37.259Z"
      },
      {
        "duration": 43494,
        "start_time": "2023-06-04T22:12:39.729Z"
      },
      {
        "duration": 5,
        "start_time": "2023-06-04T22:13:23.224Z"
      },
      {
        "duration": 35,
        "start_time": "2023-06-04T22:13:23.231Z"
      },
      {
        "duration": 1479,
        "start_time": "2023-06-04T22:13:23.268Z"
      },
      {
        "duration": 5,
        "start_time": "2023-06-04T22:13:24.748Z"
      },
      {
        "duration": 21,
        "start_time": "2023-06-04T22:13:24.758Z"
      },
      {
        "duration": 44,
        "start_time": "2023-06-04T22:13:24.781Z"
      },
      {
        "duration": 48,
        "start_time": "2023-06-04T22:13:24.827Z"
      },
      {
        "duration": 40,
        "start_time": "2023-06-04T22:13:24.876Z"
      },
      {
        "duration": 28,
        "start_time": "2023-06-04T22:13:24.918Z"
      },
      {
        "duration": 17,
        "start_time": "2023-06-04T22:13:24.948Z"
      },
      {
        "duration": 156,
        "start_time": "2023-06-04T22:13:24.969Z"
      },
      {
        "duration": 152,
        "start_time": "2023-06-04T22:13:59.012Z"
      },
      {
        "duration": 152,
        "start_time": "2023-06-04T22:14:55.489Z"
      },
      {
        "duration": 166,
        "start_time": "2023-06-04T22:15:18.532Z"
      },
      {
        "duration": 115,
        "start_time": "2023-06-04T23:01:30.096Z"
      },
      {
        "duration": 12,
        "start_time": "2023-06-04T23:03:08.710Z"
      },
      {
        "duration": 17,
        "start_time": "2023-06-04T23:05:05.160Z"
      },
      {
        "duration": 8,
        "start_time": "2023-06-04T23:07:37.320Z"
      },
      {
        "duration": 5,
        "start_time": "2023-06-04T23:09:00.030Z"
      },
      {
        "duration": 8,
        "start_time": "2023-06-04T23:09:08.236Z"
      },
      {
        "duration": 3,
        "start_time": "2023-06-04T23:09:50.334Z"
      },
      {
        "duration": 319,
        "start_time": "2023-06-04T23:09:55.820Z"
      },
      {
        "duration": 613,
        "start_time": "2023-06-04T23:10:49.520Z"
      },
      {
        "duration": 22505,
        "start_time": "2023-06-04T23:11:55.734Z"
      },
      {
        "duration": 22641,
        "start_time": "2023-06-04T23:12:24.293Z"
      },
      {
        "duration": 22515,
        "start_time": "2023-06-04T23:13:35.375Z"
      },
      {
        "duration": 1572,
        "start_time": "2023-06-05T07:33:12.261Z"
      },
      {
        "duration": 2171,
        "start_time": "2023-06-05T07:33:13.835Z"
      },
      {
        "duration": 20,
        "start_time": "2023-06-05T07:33:16.008Z"
      },
      {
        "duration": 13,
        "start_time": "2023-06-05T07:33:16.031Z"
      },
      {
        "duration": 20,
        "start_time": "2023-06-05T07:33:16.046Z"
      },
      {
        "duration": 15,
        "start_time": "2023-06-05T07:33:16.068Z"
      },
      {
        "duration": 239,
        "start_time": "2023-06-05T07:33:16.085Z"
      },
      {
        "duration": 260,
        "start_time": "2023-06-05T07:33:16.326Z"
      },
      {
        "duration": 5,
        "start_time": "2023-06-05T07:33:16.587Z"
      },
      {
        "duration": 21,
        "start_time": "2023-06-05T07:33:16.594Z"
      },
      {
        "duration": 46,
        "start_time": "2023-06-05T07:33:16.617Z"
      },
      {
        "duration": 7,
        "start_time": "2023-06-05T07:33:16.665Z"
      },
      {
        "duration": 8,
        "start_time": "2023-06-05T07:33:16.673Z"
      },
      {
        "duration": 15,
        "start_time": "2023-06-05T07:33:16.682Z"
      },
      {
        "duration": 23,
        "start_time": "2023-06-05T07:33:16.699Z"
      },
      {
        "duration": 32,
        "start_time": "2023-06-05T07:33:16.723Z"
      },
      {
        "duration": 19,
        "start_time": "2023-06-05T07:33:16.756Z"
      },
      {
        "duration": 38,
        "start_time": "2023-06-05T07:33:16.777Z"
      },
      {
        "duration": 21,
        "start_time": "2023-06-05T07:33:16.816Z"
      },
      {
        "duration": 23,
        "start_time": "2023-06-05T07:33:16.839Z"
      },
      {
        "duration": 25,
        "start_time": "2023-06-05T07:33:16.864Z"
      },
      {
        "duration": 40,
        "start_time": "2023-06-05T07:33:16.891Z"
      },
      {
        "duration": 14,
        "start_time": "2023-06-05T07:33:16.933Z"
      },
      {
        "duration": 7,
        "start_time": "2023-06-05T07:33:16.948Z"
      },
      {
        "duration": 11,
        "start_time": "2023-06-05T07:33:16.957Z"
      },
      {
        "duration": 10,
        "start_time": "2023-06-05T07:33:16.970Z"
      },
      {
        "duration": 240,
        "start_time": "2023-06-05T07:33:16.982Z"
      },
      {
        "duration": 241,
        "start_time": "2023-06-05T07:33:17.227Z"
      },
      {
        "duration": 251,
        "start_time": "2023-06-05T07:33:17.470Z"
      },
      {
        "duration": 154,
        "start_time": "2023-06-05T07:33:17.723Z"
      },
      {
        "duration": 137,
        "start_time": "2023-06-05T07:33:17.879Z"
      },
      {
        "duration": 10,
        "start_time": "2023-06-05T07:33:18.018Z"
      },
      {
        "duration": 165,
        "start_time": "2023-06-05T07:33:18.029Z"
      },
      {
        "duration": 11,
        "start_time": "2023-06-05T07:33:18.195Z"
      },
      {
        "duration": 28,
        "start_time": "2023-06-05T07:33:18.207Z"
      },
      {
        "duration": 40,
        "start_time": "2023-06-05T07:33:18.236Z"
      },
      {
        "duration": 28,
        "start_time": "2023-06-05T07:33:18.277Z"
      },
      {
        "duration": 138,
        "start_time": "2023-06-05T07:33:18.307Z"
      },
      {
        "duration": 4,
        "start_time": "2023-06-05T07:33:18.446Z"
      },
      {
        "duration": 122,
        "start_time": "2023-06-05T07:33:18.452Z"
      },
      {
        "duration": 14,
        "start_time": "2023-06-05T07:33:18.576Z"
      },
      {
        "duration": 25,
        "start_time": "2023-06-05T07:33:18.591Z"
      },
      {
        "duration": 20,
        "start_time": "2023-06-05T07:33:18.618Z"
      },
      {
        "duration": 12,
        "start_time": "2023-06-05T07:33:18.640Z"
      },
      {
        "duration": 26,
        "start_time": "2023-06-05T07:33:18.653Z"
      },
      {
        "duration": 33,
        "start_time": "2023-06-05T07:33:18.680Z"
      },
      {
        "duration": 31,
        "start_time": "2023-06-05T07:33:18.715Z"
      },
      {
        "duration": 2316,
        "start_time": "2023-06-05T07:33:18.748Z"
      },
      {
        "duration": 24701,
        "start_time": "2023-06-05T07:33:21.065Z"
      },
      {
        "duration": 627,
        "start_time": "2023-06-05T07:33:45.767Z"
      },
      {
        "duration": 2136,
        "start_time": "2023-06-05T07:33:46.485Z"
      },
      {
        "duration": 47767,
        "start_time": "2023-06-05T07:33:48.623Z"
      },
      {
        "duration": 7,
        "start_time": "2023-06-05T07:34:36.392Z"
      },
      {
        "duration": 26,
        "start_time": "2023-06-05T07:34:36.401Z"
      },
      {
        "duration": 1054,
        "start_time": "2023-06-05T07:34:36.428Z"
      },
      {
        "duration": 4,
        "start_time": "2023-06-05T07:34:37.484Z"
      },
      {
        "duration": 6,
        "start_time": "2023-06-05T07:34:37.490Z"
      },
      {
        "duration": 6,
        "start_time": "2023-06-05T07:34:37.498Z"
      },
      {
        "duration": 7,
        "start_time": "2023-06-05T07:34:37.506Z"
      },
      {
        "duration": 8,
        "start_time": "2023-06-05T07:34:37.515Z"
      },
      {
        "duration": 7,
        "start_time": "2023-06-05T07:34:37.525Z"
      },
      {
        "duration": 19,
        "start_time": "2023-06-05T07:34:37.533Z"
      },
      {
        "duration": 25243,
        "start_time": "2023-06-05T07:43:07.753Z"
      },
      {
        "duration": 25245,
        "start_time": "2023-06-05T07:44:12.343Z"
      },
      {
        "duration": 2392,
        "start_time": "2023-06-05T07:50:01.695Z"
      },
      {
        "duration": 116,
        "start_time": "2023-06-05T07:56:38.215Z"
      },
      {
        "duration": 12,
        "start_time": "2023-06-05T07:58:17.067Z"
      },
      {
        "duration": 9,
        "start_time": "2023-06-05T07:58:32.162Z"
      },
      {
        "duration": 9,
        "start_time": "2023-06-05T07:59:18.558Z"
      },
      {
        "duration": 5,
        "start_time": "2023-06-05T07:59:32.374Z"
      },
      {
        "duration": 3,
        "start_time": "2023-06-05T07:59:40.020Z"
      },
      {
        "duration": 2330,
        "start_time": "2023-06-05T07:59:44.414Z"
      },
      {
        "duration": 25247,
        "start_time": "2023-06-05T07:59:48.311Z"
      },
      {
        "duration": 812750,
        "start_time": "2023-06-05T08:00:50.037Z"
      },
      {
        "duration": 1564247,
        "start_time": "2023-06-05T08:19:55.312Z"
      },
      {
        "duration": 140581,
        "start_time": "2023-06-05T08:46:08.413Z"
      },
      {
        "duration": 4,
        "start_time": "2023-06-05T08:51:38.287Z"
      },
      {
        "duration": 4,
        "start_time": "2023-06-05T08:52:00.512Z"
      },
      {
        "duration": 788,
        "start_time": "2023-06-05T08:52:00.518Z"
      },
      {
        "duration": 17,
        "start_time": "2023-06-05T08:52:01.307Z"
      },
      {
        "duration": 56,
        "start_time": "2023-06-05T08:52:01.327Z"
      },
      {
        "duration": 48,
        "start_time": "2023-06-05T08:52:01.385Z"
      },
      {
        "duration": 48,
        "start_time": "2023-06-05T08:52:01.434Z"
      },
      {
        "duration": 231,
        "start_time": "2023-06-05T08:52:01.483Z"
      },
      {
        "duration": 303,
        "start_time": "2023-06-05T08:52:01.716Z"
      },
      {
        "duration": 5,
        "start_time": "2023-06-05T08:52:02.021Z"
      },
      {
        "duration": 214,
        "start_time": "2023-06-05T08:52:02.027Z"
      },
      {
        "duration": 34,
        "start_time": "2023-06-05T08:52:02.242Z"
      },
      {
        "duration": 55,
        "start_time": "2023-06-05T08:52:02.278Z"
      },
      {
        "duration": 44,
        "start_time": "2023-06-05T08:52:02.334Z"
      },
      {
        "duration": 59,
        "start_time": "2023-06-05T08:52:02.380Z"
      },
      {
        "duration": 39,
        "start_time": "2023-06-05T08:52:02.440Z"
      },
      {
        "duration": 41,
        "start_time": "2023-06-05T08:52:02.480Z"
      },
      {
        "duration": 55,
        "start_time": "2023-06-05T08:52:02.522Z"
      },
      {
        "duration": 55,
        "start_time": "2023-06-05T08:52:02.578Z"
      },
      {
        "duration": 170,
        "start_time": "2023-06-05T08:52:02.635Z"
      },
      {
        "duration": 37,
        "start_time": "2023-06-05T08:52:02.806Z"
      },
      {
        "duration": 20,
        "start_time": "2023-06-05T08:52:02.845Z"
      },
      {
        "duration": 18,
        "start_time": "2023-06-05T08:52:02.867Z"
      },
      {
        "duration": 17,
        "start_time": "2023-06-05T08:52:02.886Z"
      },
      {
        "duration": 6,
        "start_time": "2023-06-05T08:52:02.905Z"
      },
      {
        "duration": 20,
        "start_time": "2023-06-05T08:52:02.913Z"
      },
      {
        "duration": 12,
        "start_time": "2023-06-05T08:52:02.934Z"
      },
      {
        "duration": 259,
        "start_time": "2023-06-05T08:52:02.947Z"
      },
      {
        "duration": 243,
        "start_time": "2023-06-05T08:52:03.207Z"
      },
      {
        "duration": 250,
        "start_time": "2023-06-05T08:52:03.452Z"
      },
      {
        "duration": 164,
        "start_time": "2023-06-05T08:52:03.704Z"
      },
      {
        "duration": 141,
        "start_time": "2023-06-05T08:52:03.871Z"
      },
      {
        "duration": 12,
        "start_time": "2023-06-05T08:52:04.013Z"
      },
      {
        "duration": 169,
        "start_time": "2023-06-05T08:52:04.026Z"
      },
      {
        "duration": 8,
        "start_time": "2023-06-05T08:52:04.196Z"
      },
      {
        "duration": 10,
        "start_time": "2023-06-05T08:52:04.208Z"
      },
      {
        "duration": 16,
        "start_time": "2023-06-05T08:52:04.220Z"
      },
      {
        "duration": 11,
        "start_time": "2023-06-05T08:52:04.238Z"
      },
      {
        "duration": 181,
        "start_time": "2023-06-05T08:52:04.251Z"
      },
      {
        "duration": 14,
        "start_time": "2023-06-05T08:52:04.434Z"
      },
      {
        "duration": 180,
        "start_time": "2023-06-05T08:52:04.449Z"
      },
      {
        "duration": 0,
        "start_time": "2023-06-05T08:52:04.630Z"
      },
      {
        "duration": 8,
        "start_time": "2023-06-05T08:52:15.429Z"
      },
      {
        "duration": 4,
        "start_time": "2023-06-05T08:52:17.827Z"
      },
      {
        "duration": 4,
        "start_time": "2023-06-05T08:52:42.180Z"
      },
      {
        "duration": 721,
        "start_time": "2023-06-05T08:52:42.185Z"
      },
      {
        "duration": 18,
        "start_time": "2023-06-05T08:52:42.908Z"
      },
      {
        "duration": 8,
        "start_time": "2023-06-05T08:52:42.928Z"
      },
      {
        "duration": 2,
        "start_time": "2023-06-05T08:52:42.938Z"
      },
      {
        "duration": 17,
        "start_time": "2023-06-05T08:52:42.942Z"
      },
      {
        "duration": 211,
        "start_time": "2023-06-05T08:52:42.961Z"
      },
      {
        "duration": 318,
        "start_time": "2023-06-05T08:52:43.173Z"
      },
      {
        "duration": 4,
        "start_time": "2023-06-05T08:52:43.493Z"
      },
      {
        "duration": 9,
        "start_time": "2023-06-05T08:52:43.498Z"
      },
      {
        "duration": 18,
        "start_time": "2023-06-05T08:52:43.509Z"
      },
      {
        "duration": 13,
        "start_time": "2023-06-05T08:52:43.528Z"
      },
      {
        "duration": 17,
        "start_time": "2023-06-05T08:52:43.542Z"
      },
      {
        "duration": 12,
        "start_time": "2023-06-05T08:52:43.561Z"
      },
      {
        "duration": 7,
        "start_time": "2023-06-05T08:52:43.575Z"
      },
      {
        "duration": 15,
        "start_time": "2023-06-05T08:52:43.583Z"
      },
      {
        "duration": 6,
        "start_time": "2023-06-05T08:52:43.599Z"
      },
      {
        "duration": 12,
        "start_time": "2023-06-05T08:52:43.606Z"
      },
      {
        "duration": 17,
        "start_time": "2023-06-05T08:52:43.619Z"
      },
      {
        "duration": 7,
        "start_time": "2023-06-05T08:52:43.637Z"
      },
      {
        "duration": 4,
        "start_time": "2023-06-05T08:52:43.646Z"
      },
      {
        "duration": 11,
        "start_time": "2023-06-05T08:52:43.652Z"
      },
      {
        "duration": 6,
        "start_time": "2023-06-05T08:52:43.665Z"
      },
      {
        "duration": 24,
        "start_time": "2023-06-05T08:52:43.673Z"
      },
      {
        "duration": 9,
        "start_time": "2023-06-05T08:52:43.699Z"
      },
      {
        "duration": 10,
        "start_time": "2023-06-05T08:52:43.709Z"
      },
      {
        "duration": 242,
        "start_time": "2023-06-05T08:52:43.721Z"
      },
      {
        "duration": 237,
        "start_time": "2023-06-05T08:52:43.964Z"
      },
      {
        "duration": 263,
        "start_time": "2023-06-05T08:52:44.205Z"
      },
      {
        "duration": 148,
        "start_time": "2023-06-05T08:52:44.469Z"
      },
      {
        "duration": 164,
        "start_time": "2023-06-05T08:52:44.619Z"
      },
      {
        "duration": 9,
        "start_time": "2023-06-05T08:52:44.785Z"
      },
      {
        "duration": 169,
        "start_time": "2023-06-05T08:52:44.796Z"
      },
      {
        "duration": 19,
        "start_time": "2023-06-05T08:52:44.969Z"
      },
      {
        "duration": 20,
        "start_time": "2023-06-05T08:52:44.990Z"
      },
      {
        "duration": 42,
        "start_time": "2023-06-05T08:52:45.012Z"
      },
      {
        "duration": 19,
        "start_time": "2023-06-05T08:52:45.056Z"
      },
      {
        "duration": 179,
        "start_time": "2023-06-05T08:52:45.077Z"
      },
      {
        "duration": 6,
        "start_time": "2023-06-05T08:52:45.258Z"
      },
      {
        "duration": 19,
        "start_time": "2023-06-05T08:52:45.265Z"
      },
      {
        "duration": 8,
        "start_time": "2023-06-05T08:52:45.285Z"
      },
      {
        "duration": 4,
        "start_time": "2023-06-05T08:53:17.406Z"
      },
      {
        "duration": 730,
        "start_time": "2023-06-05T08:53:17.412Z"
      },
      {
        "duration": 18,
        "start_time": "2023-06-05T08:53:18.143Z"
      },
      {
        "duration": 7,
        "start_time": "2023-06-05T08:53:18.163Z"
      },
      {
        "duration": 4,
        "start_time": "2023-06-05T08:53:18.186Z"
      },
      {
        "duration": 22,
        "start_time": "2023-06-05T08:53:18.191Z"
      },
      {
        "duration": 313,
        "start_time": "2023-06-05T08:53:18.215Z"
      },
      {
        "duration": 204,
        "start_time": "2023-06-05T08:53:18.529Z"
      },
      {
        "duration": 5,
        "start_time": "2023-06-05T08:53:18.734Z"
      },
      {
        "duration": 18,
        "start_time": "2023-06-05T08:53:18.740Z"
      },
      {
        "duration": 16,
        "start_time": "2023-06-05T08:53:18.759Z"
      },
      {
        "duration": 9,
        "start_time": "2023-06-05T08:53:18.777Z"
      },
      {
        "duration": 7,
        "start_time": "2023-06-05T08:53:18.787Z"
      },
      {
        "duration": 13,
        "start_time": "2023-06-05T08:53:18.797Z"
      },
      {
        "duration": 15,
        "start_time": "2023-06-05T08:53:18.811Z"
      },
      {
        "duration": 22,
        "start_time": "2023-06-05T08:53:18.828Z"
      },
      {
        "duration": 26,
        "start_time": "2023-06-05T08:53:18.851Z"
      },
      {
        "duration": 11,
        "start_time": "2023-06-05T08:53:18.879Z"
      },
      {
        "duration": 14,
        "start_time": "2023-06-05T08:53:18.892Z"
      },
      {
        "duration": 9,
        "start_time": "2023-06-05T08:53:18.907Z"
      },
      {
        "duration": 5,
        "start_time": "2023-06-05T08:53:18.918Z"
      },
      {
        "duration": 19,
        "start_time": "2023-06-05T08:53:18.924Z"
      },
      {
        "duration": 7,
        "start_time": "2023-06-05T08:53:18.945Z"
      },
      {
        "duration": 6,
        "start_time": "2023-06-05T08:53:18.953Z"
      },
      {
        "duration": 7,
        "start_time": "2023-06-05T08:53:18.960Z"
      },
      {
        "duration": 17,
        "start_time": "2023-06-05T08:53:18.969Z"
      },
      {
        "duration": 236,
        "start_time": "2023-06-05T08:53:18.987Z"
      },
      {
        "duration": 239,
        "start_time": "2023-06-05T08:53:19.224Z"
      },
      {
        "duration": 246,
        "start_time": "2023-06-05T08:53:19.464Z"
      },
      {
        "duration": 142,
        "start_time": "2023-06-05T08:53:19.712Z"
      },
      {
        "duration": 145,
        "start_time": "2023-06-05T08:53:19.856Z"
      },
      {
        "duration": 10,
        "start_time": "2023-06-05T08:53:20.003Z"
      },
      {
        "duration": 181,
        "start_time": "2023-06-05T08:53:20.015Z"
      },
      {
        "duration": 9,
        "start_time": "2023-06-05T08:53:20.197Z"
      },
      {
        "duration": 47,
        "start_time": "2023-06-05T08:53:20.208Z"
      },
      {
        "duration": 64,
        "start_time": "2023-06-05T08:53:20.257Z"
      },
      {
        "duration": 32,
        "start_time": "2023-06-05T08:53:20.323Z"
      },
      {
        "duration": 160,
        "start_time": "2023-06-05T08:53:20.357Z"
      },
      {
        "duration": 14,
        "start_time": "2023-06-05T08:53:20.518Z"
      },
      {
        "duration": 54,
        "start_time": "2023-06-05T08:53:20.533Z"
      },
      {
        "duration": 20,
        "start_time": "2023-06-05T08:53:20.591Z"
      },
      {
        "duration": 1545,
        "start_time": "2023-06-05T08:55:37.611Z"
      },
      {
        "duration": 230,
        "start_time": "2023-06-05T08:56:05.282Z"
      },
      {
        "duration": 4,
        "start_time": "2023-06-05T08:56:20.043Z"
      },
      {
        "duration": 716,
        "start_time": "2023-06-05T08:56:20.050Z"
      },
      {
        "duration": 31,
        "start_time": "2023-06-05T08:56:20.768Z"
      },
      {
        "duration": 9,
        "start_time": "2023-06-05T08:56:20.801Z"
      },
      {
        "duration": 248,
        "start_time": "2023-06-05T08:56:20.812Z"
      },
      {
        "duration": 13,
        "start_time": "2023-06-05T08:56:21.061Z"
      },
      {
        "duration": 353,
        "start_time": "2023-06-05T08:56:21.075Z"
      },
      {
        "duration": 207,
        "start_time": "2023-06-05T08:56:21.430Z"
      },
      {
        "duration": 5,
        "start_time": "2023-06-05T08:56:21.638Z"
      },
      {
        "duration": 6,
        "start_time": "2023-06-05T08:56:21.645Z"
      },
      {
        "duration": 6,
        "start_time": "2023-06-05T08:56:21.653Z"
      },
      {
        "duration": 25,
        "start_time": "2023-06-05T08:56:21.660Z"
      },
      {
        "duration": 7,
        "start_time": "2023-06-05T08:56:21.686Z"
      },
      {
        "duration": 20,
        "start_time": "2023-06-05T08:56:21.695Z"
      },
      {
        "duration": 13,
        "start_time": "2023-06-05T08:56:21.716Z"
      },
      {
        "duration": 14,
        "start_time": "2023-06-05T08:56:21.730Z"
      },
      {
        "duration": 6,
        "start_time": "2023-06-05T08:56:21.745Z"
      },
      {
        "duration": 11,
        "start_time": "2023-06-05T08:56:21.752Z"
      },
      {
        "duration": 9,
        "start_time": "2023-06-05T08:56:21.764Z"
      },
      {
        "duration": 5,
        "start_time": "2023-06-05T08:56:21.784Z"
      },
      {
        "duration": 4,
        "start_time": "2023-06-05T08:56:21.790Z"
      },
      {
        "duration": 6,
        "start_time": "2023-06-05T08:56:21.795Z"
      },
      {
        "duration": 5,
        "start_time": "2023-06-05T08:56:21.803Z"
      },
      {
        "duration": 6,
        "start_time": "2023-06-05T08:56:21.809Z"
      },
      {
        "duration": 4,
        "start_time": "2023-06-05T08:56:21.817Z"
      },
      {
        "duration": 7,
        "start_time": "2023-06-05T08:56:21.823Z"
      },
      {
        "duration": 279,
        "start_time": "2023-06-05T08:56:21.832Z"
      },
      {
        "duration": 260,
        "start_time": "2023-06-05T08:56:22.112Z"
      },
      {
        "duration": 282,
        "start_time": "2023-06-05T08:56:22.375Z"
      },
      {
        "duration": 146,
        "start_time": "2023-06-05T08:56:22.659Z"
      },
      {
        "duration": 136,
        "start_time": "2023-06-05T08:56:22.806Z"
      },
      {
        "duration": 148,
        "start_time": "2023-06-05T08:56:22.944Z"
      },
      {
        "duration": 176,
        "start_time": "2023-06-05T08:56:23.094Z"
      },
      {
        "duration": 9,
        "start_time": "2023-06-05T08:56:23.271Z"
      },
      {
        "duration": 29,
        "start_time": "2023-06-05T08:56:23.285Z"
      },
      {
        "duration": 37,
        "start_time": "2023-06-05T08:56:23.315Z"
      },
      {
        "duration": 26,
        "start_time": "2023-06-05T08:56:23.354Z"
      },
      {
        "duration": 163,
        "start_time": "2023-06-05T08:56:23.381Z"
      },
      {
        "duration": 19,
        "start_time": "2023-06-05T08:56:23.546Z"
      },
      {
        "duration": 24,
        "start_time": "2023-06-05T08:56:23.567Z"
      },
      {
        "duration": 7,
        "start_time": "2023-06-05T08:56:23.593Z"
      },
      {
        "duration": 4250,
        "start_time": "2023-06-05T08:58:38.714Z"
      },
      {
        "duration": 3,
        "start_time": "2023-06-05T09:00:12.721Z"
      },
      {
        "duration": 726,
        "start_time": "2023-06-05T09:00:12.726Z"
      },
      {
        "duration": 17,
        "start_time": "2023-06-05T09:00:13.454Z"
      },
      {
        "duration": 17,
        "start_time": "2023-06-05T09:00:13.472Z"
      },
      {
        "duration": 13,
        "start_time": "2023-06-05T09:00:13.491Z"
      },
      {
        "duration": 19,
        "start_time": "2023-06-05T09:00:13.506Z"
      },
      {
        "duration": 211,
        "start_time": "2023-06-05T09:00:13.527Z"
      },
      {
        "duration": 331,
        "start_time": "2023-06-05T09:00:13.740Z"
      },
      {
        "duration": 11,
        "start_time": "2023-06-05T09:00:14.073Z"
      },
      {
        "duration": 11,
        "start_time": "2023-06-05T09:00:14.086Z"
      },
      {
        "duration": 12,
        "start_time": "2023-06-05T09:00:14.100Z"
      },
      {
        "duration": 22,
        "start_time": "2023-06-05T09:00:14.113Z"
      },
      {
        "duration": 18,
        "start_time": "2023-06-05T09:00:14.137Z"
      },
      {
        "duration": 16,
        "start_time": "2023-06-05T09:00:14.157Z"
      },
      {
        "duration": 14,
        "start_time": "2023-06-05T09:00:14.175Z"
      },
      {
        "duration": 15,
        "start_time": "2023-06-05T09:00:14.191Z"
      },
      {
        "duration": 13,
        "start_time": "2023-06-05T09:00:14.208Z"
      },
      {
        "duration": 24,
        "start_time": "2023-06-05T09:00:14.223Z"
      },
      {
        "duration": 7,
        "start_time": "2023-06-05T09:00:14.248Z"
      },
      {
        "duration": 8,
        "start_time": "2023-06-05T09:00:14.256Z"
      },
      {
        "duration": 19,
        "start_time": "2023-06-05T09:00:14.266Z"
      },
      {
        "duration": 24,
        "start_time": "2023-06-05T09:00:14.287Z"
      },
      {
        "duration": 33,
        "start_time": "2023-06-05T09:00:14.313Z"
      },
      {
        "duration": 49,
        "start_time": "2023-06-05T09:00:14.347Z"
      },
      {
        "duration": 60,
        "start_time": "2023-06-05T09:00:14.398Z"
      },
      {
        "duration": 47,
        "start_time": "2023-06-05T09:00:14.459Z"
      },
      {
        "duration": 251,
        "start_time": "2023-06-05T09:00:14.507Z"
      },
      {
        "duration": 230,
        "start_time": "2023-06-05T09:00:14.760Z"
      },
      {
        "duration": 246,
        "start_time": "2023-06-05T09:00:14.993Z"
      },
      {
        "duration": 140,
        "start_time": "2023-06-05T09:00:15.241Z"
      },
      {
        "duration": 144,
        "start_time": "2023-06-05T09:00:15.384Z"
      },
      {
        "duration": 12,
        "start_time": "2023-06-05T09:00:15.529Z"
      },
      {
        "duration": 180,
        "start_time": "2023-06-05T09:00:15.542Z"
      },
      {
        "duration": 10,
        "start_time": "2023-06-05T09:00:15.723Z"
      },
      {
        "duration": 13,
        "start_time": "2023-06-05T09:00:15.735Z"
      },
      {
        "duration": 31,
        "start_time": "2023-06-05T09:00:15.750Z"
      },
      {
        "duration": 8,
        "start_time": "2023-06-05T09:00:15.783Z"
      },
      {
        "duration": 26,
        "start_time": "2023-06-05T09:00:15.792Z"
      },
      {
        "duration": 162,
        "start_time": "2023-06-05T09:00:15.819Z"
      },
      {
        "duration": 6,
        "start_time": "2023-06-05T09:00:15.983Z"
      },
      {
        "duration": 21,
        "start_time": "2023-06-05T09:00:15.991Z"
      },
      {
        "duration": 24,
        "start_time": "2023-06-05T09:00:16.013Z"
      },
      {
        "duration": 3,
        "start_time": "2023-06-05T09:00:27.139Z"
      },
      {
        "duration": 3,
        "start_time": "2023-06-05T09:00:28.000Z"
      },
      {
        "duration": 3,
        "start_time": "2023-06-05T09:00:29.135Z"
      },
      {
        "duration": 5,
        "start_time": "2023-06-05T09:00:33.242Z"
      },
      {
        "duration": 14,
        "start_time": "2023-06-05T09:00:37.692Z"
      },
      {
        "duration": 2,
        "start_time": "2023-06-05T09:00:39.375Z"
      },
      {
        "duration": 2358,
        "start_time": "2023-06-05T09:00:40.516Z"
      },
      {
        "duration": 25911,
        "start_time": "2023-06-05T09:00:45.571Z"
      },
      {
        "duration": 4696,
        "start_time": "2023-06-05T09:01:17.062Z"
      },
      {
        "duration": 1293,
        "start_time": "2023-06-05T09:01:34.193Z"
      },
      {
        "duration": 2363,
        "start_time": "2023-06-05T09:01:41.624Z"
      },
      {
        "duration": 4414,
        "start_time": "2023-06-05T09:01:57.120Z"
      },
      {
        "duration": 3,
        "start_time": "2023-06-05T09:02:28.141Z"
      },
      {
        "duration": 4,
        "start_time": "2023-06-05T09:02:29.927Z"
      },
      {
        "duration": 9,
        "start_time": "2023-06-05T09:02:31.206Z"
      },
      {
        "duration": 110683,
        "start_time": "2023-06-05T09:02:45.415Z"
      },
      {
        "duration": 2487,
        "start_time": "2023-06-05T09:05:27.769Z"
      },
      {
        "duration": 12191,
        "start_time": "2023-06-05T09:05:37.722Z"
      },
      {
        "duration": 571,
        "start_time": "2023-06-05T09:05:59.318Z"
      },
      {
        "duration": 1803,
        "start_time": "2023-06-05T09:06:21.083Z"
      },
      {
        "duration": 2332,
        "start_time": "2023-06-05T09:06:34.679Z"
      },
      {
        "duration": 2021,
        "start_time": "2023-06-05T09:06:43.825Z"
      },
      {
        "duration": 588051,
        "start_time": "2023-06-05T09:07:07.583Z"
      },
      {
        "duration": 3,
        "start_time": "2023-06-05T09:17:49.805Z"
      },
      {
        "duration": 61,
        "start_time": "2023-06-05T09:19:43.073Z"
      },
      {
        "duration": 4,
        "start_time": "2023-06-05T09:19:57.618Z"
      },
      {
        "duration": 30,
        "start_time": "2023-06-05T09:20:01.098Z"
      },
      {
        "duration": 3,
        "start_time": "2023-06-05T09:20:48.495Z"
      },
      {
        "duration": 1398848,
        "start_time": "2023-06-05T09:20:52.792Z"
      },
      {
        "duration": 11474,
        "start_time": "2023-06-05T09:45:01.093Z"
      },
      {
        "duration": 5260,
        "start_time": "2023-06-05T09:45:35.262Z"
      },
      {
        "duration": 3,
        "start_time": "2023-06-05T09:46:56.404Z"
      },
      {
        "duration": 9,
        "start_time": "2023-06-05T09:56:17.838Z"
      },
      {
        "duration": 3,
        "start_time": "2023-06-05T09:56:30.955Z"
      },
      {
        "duration": 38707,
        "start_time": "2023-06-05T09:56:32.800Z"
      },
      {
        "duration": 4,
        "start_time": "2023-06-05T09:57:32.066Z"
      },
      {
        "duration": 12774,
        "start_time": "2023-06-05T09:58:36.651Z"
      },
      {
        "duration": 463,
        "start_time": "2023-06-05T09:58:59.249Z"
      },
      {
        "duration": 3,
        "start_time": "2023-06-05T10:00:00.507Z"
      },
      {
        "duration": 0,
        "start_time": "2023-06-05T10:07:48.694Z"
      },
      {
        "duration": 0,
        "start_time": "2023-06-05T10:07:48.696Z"
      },
      {
        "duration": 3,
        "start_time": "2023-06-05T10:07:59.411Z"
      },
      {
        "duration": 3990,
        "start_time": "2023-06-05T10:08:01.235Z"
      },
      {
        "duration": 3,
        "start_time": "2023-06-05T10:08:06.921Z"
      },
      {
        "duration": 4,
        "start_time": "2023-06-05T10:08:14.496Z"
      },
      {
        "duration": 31554,
        "start_time": "2023-06-05T10:08:40.919Z"
      },
      {
        "duration": 4,
        "start_time": "2023-06-05T10:09:17.403Z"
      },
      {
        "duration": 4,
        "start_time": "2023-06-05T10:11:24.983Z"
      },
      {
        "duration": 68274,
        "start_time": "2023-06-05T10:11:27.378Z"
      },
      {
        "duration": 5,
        "start_time": "2023-06-05T10:12:51.997Z"
      },
      {
        "duration": 121,
        "start_time": "2023-06-05T10:14:14.789Z"
      },
      {
        "duration": 158,
        "start_time": "2023-06-05T10:14:32.815Z"
      },
      {
        "duration": 1301,
        "start_time": "2023-06-05T10:14:58.105Z"
      },
      {
        "duration": 472,
        "start_time": "2023-06-05T10:15:10.516Z"
      },
      {
        "duration": 641,
        "start_time": "2023-06-05T10:15:34.578Z"
      },
      {
        "duration": 634,
        "start_time": "2023-06-05T10:16:31.675Z"
      },
      {
        "duration": 614,
        "start_time": "2023-06-05T10:16:37.806Z"
      },
      {
        "duration": 646,
        "start_time": "2023-06-05T10:17:01.477Z"
      },
      {
        "duration": 4,
        "start_time": "2023-06-05T10:18:14.095Z"
      },
      {
        "duration": 774,
        "start_time": "2023-06-05T10:18:14.101Z"
      },
      {
        "duration": 21,
        "start_time": "2023-06-05T10:18:14.877Z"
      },
      {
        "duration": 15,
        "start_time": "2023-06-05T10:18:14.899Z"
      },
      {
        "duration": 4,
        "start_time": "2023-06-05T10:18:14.916Z"
      },
      {
        "duration": 9,
        "start_time": "2023-06-05T10:18:14.921Z"
      },
      {
        "duration": 220,
        "start_time": "2023-06-05T10:18:14.931Z"
      },
      {
        "duration": 206,
        "start_time": "2023-06-05T10:18:15.153Z"
      },
      {
        "duration": 5,
        "start_time": "2023-06-05T10:18:15.361Z"
      },
      {
        "duration": 18,
        "start_time": "2023-06-05T10:18:15.367Z"
      },
      {
        "duration": 5,
        "start_time": "2023-06-05T10:18:15.387Z"
      },
      {
        "duration": 6,
        "start_time": "2023-06-05T10:18:15.393Z"
      },
      {
        "duration": 21,
        "start_time": "2023-06-05T10:18:15.401Z"
      },
      {
        "duration": 11,
        "start_time": "2023-06-05T10:18:15.424Z"
      },
      {
        "duration": 7,
        "start_time": "2023-06-05T10:18:15.437Z"
      },
      {
        "duration": 20,
        "start_time": "2023-06-05T10:18:15.446Z"
      },
      {
        "duration": 5,
        "start_time": "2023-06-05T10:18:15.468Z"
      },
      {
        "duration": 11,
        "start_time": "2023-06-05T10:18:15.475Z"
      },
      {
        "duration": 19,
        "start_time": "2023-06-05T10:18:15.488Z"
      },
      {
        "duration": 36,
        "start_time": "2023-06-05T10:18:15.509Z"
      },
      {
        "duration": 6,
        "start_time": "2023-06-05T10:18:15.546Z"
      },
      {
        "duration": 6,
        "start_time": "2023-06-05T10:18:15.553Z"
      },
      {
        "duration": 5,
        "start_time": "2023-06-05T10:18:15.561Z"
      },
      {
        "duration": 11,
        "start_time": "2023-06-05T10:18:15.567Z"
      },
      {
        "duration": 13,
        "start_time": "2023-06-05T10:18:15.580Z"
      },
      {
        "duration": 5,
        "start_time": "2023-06-05T10:18:15.595Z"
      },
      {
        "duration": 419,
        "start_time": "2023-06-05T10:18:15.601Z"
      },
      {
        "duration": 309,
        "start_time": "2023-06-05T10:18:16.022Z"
      },
      {
        "duration": 257,
        "start_time": "2023-06-05T10:18:16.335Z"
      },
      {
        "duration": 149,
        "start_time": "2023-06-05T10:18:16.594Z"
      },
      {
        "duration": 144,
        "start_time": "2023-06-05T10:18:16.745Z"
      },
      {
        "duration": 11,
        "start_time": "2023-06-05T10:18:16.891Z"
      },
      {
        "duration": 178,
        "start_time": "2023-06-05T10:18:16.903Z"
      },
      {
        "duration": 11,
        "start_time": "2023-06-05T10:18:17.086Z"
      },
      {
        "duration": 13,
        "start_time": "2023-06-05T10:18:17.099Z"
      },
      {
        "duration": 16,
        "start_time": "2023-06-05T10:18:17.114Z"
      },
      {
        "duration": 18,
        "start_time": "2023-06-05T10:18:17.132Z"
      },
      {
        "duration": 17,
        "start_time": "2023-06-05T10:18:17.152Z"
      },
      {
        "duration": 166,
        "start_time": "2023-06-05T10:18:17.171Z"
      },
      {
        "duration": 5,
        "start_time": "2023-06-05T10:18:17.339Z"
      },
      {
        "duration": 13,
        "start_time": "2023-06-05T10:18:17.346Z"
      },
      {
        "duration": 4,
        "start_time": "2023-06-05T10:18:17.361Z"
      },
      {
        "duration": 19,
        "start_time": "2023-06-05T10:18:17.367Z"
      },
      {
        "duration": 8,
        "start_time": "2023-06-05T10:18:17.388Z"
      },
      {
        "duration": 7,
        "start_time": "2023-06-05T10:18:17.397Z"
      },
      {
        "duration": 13,
        "start_time": "2023-06-05T10:18:17.406Z"
      },
      {
        "duration": 22,
        "start_time": "2023-06-05T10:18:17.421Z"
      },
      {
        "duration": 3,
        "start_time": "2023-06-05T10:18:17.445Z"
      },
      {
        "duration": 2373,
        "start_time": "2023-06-05T10:18:17.450Z"
      },
      {
        "duration": 12743,
        "start_time": "2023-06-05T10:18:19.824Z"
      },
      {
        "duration": 919,
        "start_time": "2023-06-05T10:18:32.569Z"
      },
      {
        "duration": 1494,
        "start_time": "2023-06-05T10:18:33.490Z"
      },
      {
        "duration": 3862,
        "start_time": "2023-06-05T10:18:34.986Z"
      },
      {
        "duration": 3,
        "start_time": "2023-06-05T10:18:38.849Z"
      },
      {
        "duration": 20,
        "start_time": "2023-06-05T10:18:38.854Z"
      },
      {
        "duration": 157187,
        "start_time": "2023-06-05T10:18:38.876Z"
      },
      {
        "duration": 6,
        "start_time": "2023-06-05T10:21:16.068Z"
      },
      {
        "duration": 280,
        "start_time": "2023-06-05T10:21:16.076Z"
      },
      {
        "duration": 0,
        "start_time": "2023-06-05T10:21:16.357Z"
      },
      {
        "duration": 0,
        "start_time": "2023-06-05T10:21:16.358Z"
      },
      {
        "duration": 0,
        "start_time": "2023-06-05T10:21:16.360Z"
      },
      {
        "duration": 0,
        "start_time": "2023-06-05T10:21:16.361Z"
      },
      {
        "duration": 0,
        "start_time": "2023-06-05T10:21:16.362Z"
      },
      {
        "duration": 0,
        "start_time": "2023-06-05T10:21:16.364Z"
      },
      {
        "duration": 0,
        "start_time": "2023-06-05T10:21:16.365Z"
      },
      {
        "duration": 0,
        "start_time": "2023-06-05T10:21:16.366Z"
      },
      {
        "duration": 0,
        "start_time": "2023-06-05T10:21:16.367Z"
      },
      {
        "duration": 7086,
        "start_time": "2023-06-05T10:21:52.491Z"
      },
      {
        "duration": 5863,
        "start_time": "2023-06-05T10:22:17.033Z"
      },
      {
        "duration": 48116,
        "start_time": "2023-06-05T10:22:57.900Z"
      },
      {
        "duration": 3,
        "start_time": "2023-06-05T10:23:46.018Z"
      },
      {
        "duration": 14,
        "start_time": "2023-06-05T10:23:46.024Z"
      },
      {
        "duration": 4027,
        "start_time": "2023-06-05T10:23:46.040Z"
      },
      {
        "duration": 4,
        "start_time": "2023-06-05T10:23:50.070Z"
      },
      {
        "duration": 3,
        "start_time": "2023-06-05T10:23:50.084Z"
      },
      {
        "duration": 66905,
        "start_time": "2023-06-05T10:24:31.431Z"
      },
      {
        "duration": 4,
        "start_time": "2023-06-05T10:25:38.337Z"
      },
      {
        "duration": 1120,
        "start_time": "2023-06-05T10:27:26.474Z"
      },
      {
        "duration": 1114,
        "start_time": "2023-06-05T10:27:39.053Z"
      },
      {
        "duration": 2913,
        "start_time": "2023-06-05T10:30:13.197Z"
      },
      {
        "duration": 4,
        "start_time": "2023-06-05T10:30:39.047Z"
      },
      {
        "duration": 4,
        "start_time": "2023-06-05T10:30:40.494Z"
      },
      {
        "duration": 4,
        "start_time": "2023-06-05T10:30:41.339Z"
      },
      {
        "duration": 6,
        "start_time": "2023-06-05T10:30:52.238Z"
      },
      {
        "duration": 5,
        "start_time": "2023-06-05T10:30:53.106Z"
      },
      {
        "duration": 5,
        "start_time": "2023-06-05T10:30:53.796Z"
      },
      {
        "duration": 4,
        "start_time": "2023-06-05T10:30:54.508Z"
      },
      {
        "duration": 4,
        "start_time": "2023-06-05T10:34:02.044Z"
      },
      {
        "duration": 4,
        "start_time": "2023-06-05T10:34:22.932Z"
      },
      {
        "duration": 748,
        "start_time": "2023-06-05T10:34:22.938Z"
      },
      {
        "duration": 18,
        "start_time": "2023-06-05T10:34:23.689Z"
      },
      {
        "duration": 12,
        "start_time": "2023-06-05T10:34:23.708Z"
      },
      {
        "duration": 7,
        "start_time": "2023-06-05T10:34:23.722Z"
      },
      {
        "duration": 13,
        "start_time": "2023-06-05T10:34:23.731Z"
      },
      {
        "duration": 208,
        "start_time": "2023-06-05T10:34:23.746Z"
      },
      {
        "duration": 201,
        "start_time": "2023-06-05T10:34:23.956Z"
      },
      {
        "duration": 6,
        "start_time": "2023-06-05T10:34:24.159Z"
      },
      {
        "duration": 23,
        "start_time": "2023-06-05T10:34:24.166Z"
      },
      {
        "duration": 16,
        "start_time": "2023-06-05T10:34:24.192Z"
      },
      {
        "duration": 22,
        "start_time": "2023-06-05T10:34:24.210Z"
      },
      {
        "duration": 41,
        "start_time": "2023-06-05T10:34:24.234Z"
      },
      {
        "duration": 31,
        "start_time": "2023-06-05T10:34:24.277Z"
      },
      {
        "duration": 26,
        "start_time": "2023-06-05T10:34:24.309Z"
      },
      {
        "duration": 71,
        "start_time": "2023-06-05T10:34:24.336Z"
      },
      {
        "duration": 69,
        "start_time": "2023-06-05T10:34:24.408Z"
      },
      {
        "duration": 31,
        "start_time": "2023-06-05T10:34:24.478Z"
      },
      {
        "duration": 35,
        "start_time": "2023-06-05T10:34:24.510Z"
      },
      {
        "duration": 21,
        "start_time": "2023-06-05T10:34:24.547Z"
      },
      {
        "duration": 19,
        "start_time": "2023-06-05T10:34:24.570Z"
      },
      {
        "duration": 21,
        "start_time": "2023-06-05T10:34:24.591Z"
      },
      {
        "duration": 23,
        "start_time": "2023-06-05T10:34:24.614Z"
      },
      {
        "duration": 7,
        "start_time": "2023-06-05T10:34:24.639Z"
      },
      {
        "duration": 9,
        "start_time": "2023-06-05T10:34:24.648Z"
      },
      {
        "duration": 9,
        "start_time": "2023-06-05T10:34:24.659Z"
      },
      {
        "duration": 259,
        "start_time": "2023-06-05T10:34:24.670Z"
      },
      {
        "duration": 253,
        "start_time": "2023-06-05T10:34:24.931Z"
      },
      {
        "duration": 265,
        "start_time": "2023-06-05T10:34:25.188Z"
      },
      {
        "duration": 158,
        "start_time": "2023-06-05T10:34:25.454Z"
      },
      {
        "duration": 148,
        "start_time": "2023-06-05T10:34:25.614Z"
      },
      {
        "duration": 21,
        "start_time": "2023-06-05T10:34:25.763Z"
      },
      {
        "duration": 415,
        "start_time": "2023-06-05T10:34:25.786Z"
      },
      {
        "duration": 10,
        "start_time": "2023-06-05T10:34:26.203Z"
      },
      {
        "duration": 11,
        "start_time": "2023-06-05T10:34:26.215Z"
      },
      {
        "duration": 12,
        "start_time": "2023-06-05T10:34:26.228Z"
      },
      {
        "duration": 7,
        "start_time": "2023-06-05T10:34:26.242Z"
      },
      {
        "duration": 34,
        "start_time": "2023-06-05T10:34:26.251Z"
      },
      {
        "duration": 163,
        "start_time": "2023-06-05T10:34:26.287Z"
      },
      {
        "duration": 5,
        "start_time": "2023-06-05T10:34:26.451Z"
      },
      {
        "duration": 11,
        "start_time": "2023-06-05T10:34:26.458Z"
      },
      {
        "duration": 14,
        "start_time": "2023-06-05T10:34:26.471Z"
      },
      {
        "duration": 3,
        "start_time": "2023-06-05T10:34:26.486Z"
      },
      {
        "duration": 8,
        "start_time": "2023-06-05T10:34:26.491Z"
      },
      {
        "duration": 5,
        "start_time": "2023-06-05T10:34:26.501Z"
      },
      {
        "duration": 6,
        "start_time": "2023-06-05T10:34:26.508Z"
      },
      {
        "duration": 26,
        "start_time": "2023-06-05T10:34:26.516Z"
      },
      {
        "duration": 2,
        "start_time": "2023-06-05T10:34:26.544Z"
      },
      {
        "duration": 2387,
        "start_time": "2023-06-05T10:34:26.548Z"
      },
      {
        "duration": 12539,
        "start_time": "2023-06-05T10:34:28.937Z"
      },
      {
        "duration": 713,
        "start_time": "2023-06-05T10:34:41.479Z"
      },
      {
        "duration": 1494,
        "start_time": "2023-06-05T10:34:42.194Z"
      },
      {
        "duration": 4277,
        "start_time": "2023-06-05T10:34:43.693Z"
      },
      {
        "duration": 3,
        "start_time": "2023-06-05T10:34:47.971Z"
      },
      {
        "duration": 19,
        "start_time": "2023-06-05T10:34:47.976Z"
      },
      {
        "duration": 123518,
        "start_time": "2023-06-05T10:34:47.997Z"
      },
      {
        "duration": 4,
        "start_time": "2023-06-05T10:36:51.517Z"
      },
      {
        "duration": 119850,
        "start_time": "2023-06-05T10:36:51.523Z"
      },
      {
        "duration": 4,
        "start_time": "2023-06-05T10:38:51.375Z"
      },
      {
        "duration": 6158,
        "start_time": "2023-06-05T10:39:11.169Z"
      },
      {
        "duration": 50113,
        "start_time": "2023-06-05T10:39:28.062Z"
      },
      {
        "duration": 3,
        "start_time": "2023-06-05T10:40:18.177Z"
      },
      {
        "duration": 48,
        "start_time": "2023-06-05T10:40:18.184Z"
      },
      {
        "duration": 69311,
        "start_time": "2023-06-05T10:40:18.234Z"
      },
      {
        "duration": 4,
        "start_time": "2023-06-05T10:41:27.546Z"
      },
      {
        "duration": 69225,
        "start_time": "2023-06-05T10:41:27.551Z"
      },
      {
        "duration": 4,
        "start_time": "2023-06-05T10:42:36.777Z"
      },
      {
        "duration": 106,
        "start_time": "2023-06-05T10:43:41.444Z"
      },
      {
        "duration": 64,
        "start_time": "2023-06-05T10:43:54.677Z"
      },
      {
        "duration": 3,
        "start_time": "2023-06-05T10:44:07.436Z"
      },
      {
        "duration": 69191,
        "start_time": "2023-06-05T10:45:47.945Z"
      },
      {
        "duration": 5,
        "start_time": "2023-06-05T10:46:57.138Z"
      },
      {
        "duration": 67177,
        "start_time": "2023-06-05T10:46:57.145Z"
      },
      {
        "duration": 4,
        "start_time": "2023-06-05T10:48:04.323Z"
      },
      {
        "duration": 809,
        "start_time": "2023-06-05T10:50:59.170Z"
      },
      {
        "duration": 5,
        "start_time": "2023-06-05T10:54:11.412Z"
      },
      {
        "duration": 3,
        "start_time": "2023-06-05T10:54:13.419Z"
      },
      {
        "duration": 1494,
        "start_time": "2023-06-05T10:54:35.741Z"
      },
      {
        "duration": 4,
        "start_time": "2023-06-05T10:54:40.867Z"
      },
      {
        "duration": 4,
        "start_time": "2023-06-05T10:54:41.422Z"
      },
      {
        "duration": 3,
        "start_time": "2023-06-05T10:54:42.003Z"
      },
      {
        "duration": 1421,
        "start_time": "2023-06-05T10:54:52.082Z"
      },
      {
        "duration": 4,
        "start_time": "2023-06-05T10:54:54.245Z"
      },
      {
        "duration": 4,
        "start_time": "2023-06-05T10:54:54.798Z"
      },
      {
        "duration": 4,
        "start_time": "2023-06-05T10:54:55.364Z"
      },
      {
        "duration": 1534,
        "start_time": "2023-06-05T10:55:10.461Z"
      },
      {
        "duration": 4,
        "start_time": "2023-06-05T10:55:12.946Z"
      },
      {
        "duration": 5,
        "start_time": "2023-06-05T10:55:13.352Z"
      },
      {
        "duration": 4,
        "start_time": "2023-06-05T10:55:13.891Z"
      },
      {
        "duration": 1603,
        "start_time": "2023-06-05T10:55:20.090Z"
      },
      {
        "duration": 4,
        "start_time": "2023-06-05T10:55:21.695Z"
      },
      {
        "duration": 4,
        "start_time": "2023-06-05T10:55:21.811Z"
      },
      {
        "duration": 4,
        "start_time": "2023-06-05T10:55:22.602Z"
      },
      {
        "duration": 4,
        "start_time": "2023-06-05T10:58:55.861Z"
      },
      {
        "duration": 11582,
        "start_time": "2023-06-05T10:58:59.021Z"
      },
      {
        "duration": 84814,
        "start_time": "2023-06-05T10:59:21.577Z"
      },
      {
        "duration": 8,
        "start_time": "2023-06-05T11:00:55.567Z"
      },
      {
        "duration": 3,
        "start_time": "2023-06-05T11:00:59.768Z"
      },
      {
        "duration": 78767,
        "start_time": "2023-06-05T11:01:00.296Z"
      },
      {
        "duration": 80733,
        "start_time": "2023-06-05T11:02:24.814Z"
      },
      {
        "duration": 6,
        "start_time": "2023-06-05T11:03:54.458Z"
      },
      {
        "duration": 1151,
        "start_time": "2023-06-05T11:05:49.039Z"
      },
      {
        "duration": 4,
        "start_time": "2023-06-05T11:05:52.821Z"
      },
      {
        "duration": 3,
        "start_time": "2023-06-05T11:05:53.569Z"
      },
      {
        "duration": 4,
        "start_time": "2023-06-05T11:05:54.411Z"
      },
      {
        "duration": 1400,
        "start_time": "2023-06-05T11:06:24.968Z"
      },
      {
        "duration": 4,
        "start_time": "2023-06-05T11:06:26.902Z"
      },
      {
        "duration": 5,
        "start_time": "2023-06-05T11:06:28.124Z"
      },
      {
        "duration": 3,
        "start_time": "2023-06-05T11:06:28.723Z"
      },
      {
        "duration": 1191,
        "start_time": "2023-06-05T11:06:47.031Z"
      },
      {
        "duration": 4,
        "start_time": "2023-06-05T11:06:50.636Z"
      },
      {
        "duration": 3,
        "start_time": "2023-06-05T11:06:51.346Z"
      },
      {
        "duration": 4,
        "start_time": "2023-06-05T11:06:51.950Z"
      },
      {
        "duration": 5,
        "start_time": "2023-06-05T11:06:54.068Z"
      },
      {
        "duration": 4,
        "start_time": "2023-06-05T11:06:54.354Z"
      },
      {
        "duration": 5,
        "start_time": "2023-06-05T11:06:54.647Z"
      },
      {
        "duration": 3,
        "start_time": "2023-06-05T11:06:55.631Z"
      },
      {
        "duration": 1291,
        "start_time": "2023-06-05T11:07:12.816Z"
      },
      {
        "duration": 4,
        "start_time": "2023-06-05T11:07:14.109Z"
      },
      {
        "duration": 6,
        "start_time": "2023-06-05T11:07:14.114Z"
      },
      {
        "duration": 4,
        "start_time": "2023-06-05T11:07:14.247Z"
      },
      {
        "duration": 5,
        "start_time": "2023-06-05T11:07:16.740Z"
      },
      {
        "duration": 4,
        "start_time": "2023-06-05T11:07:16.989Z"
      },
      {
        "duration": 4,
        "start_time": "2023-06-05T11:07:17.236Z"
      },
      {
        "duration": 4,
        "start_time": "2023-06-05T11:07:17.534Z"
      },
      {
        "duration": 5551,
        "start_time": "2023-06-05T11:07:51.960Z"
      },
      {
        "duration": 6100,
        "start_time": "2023-06-05T11:08:17.968Z"
      },
      {
        "duration": 1262,
        "start_time": "2023-06-05T11:09:11.532Z"
      },
      {
        "duration": 1904,
        "start_time": "2023-06-05T11:11:17.132Z"
      },
      {
        "duration": 4,
        "start_time": "2023-06-05T11:11:22.576Z"
      },
      {
        "duration": 4,
        "start_time": "2023-06-05T11:11:23.181Z"
      },
      {
        "duration": 5,
        "start_time": "2023-06-05T11:11:24.382Z"
      },
      {
        "duration": 5,
        "start_time": "2023-06-05T11:11:36.554Z"
      },
      {
        "duration": 4,
        "start_time": "2023-06-05T11:11:37.294Z"
      },
      {
        "duration": 4,
        "start_time": "2023-06-05T11:11:37.879Z"
      },
      {
        "duration": 4,
        "start_time": "2023-06-05T11:11:38.388Z"
      },
      {
        "duration": 2,
        "start_time": "2023-06-05T11:13:50.895Z"
      },
      {
        "duration": 2,
        "start_time": "2023-06-05T11:13:51.592Z"
      },
      {
        "duration": 117044,
        "start_time": "2023-06-05T11:13:55.424Z"
      },
      {
        "duration": 4,
        "start_time": "2023-06-05T11:15:52.470Z"
      },
      {
        "duration": 5125,
        "start_time": "2023-06-05T11:16:57.055Z"
      },
      {
        "duration": 109444,
        "start_time": "2023-06-05T11:17:20.075Z"
      },
      {
        "duration": 4,
        "start_time": "2023-06-05T11:19:09.521Z"
      },
      {
        "duration": 6539,
        "start_time": "2023-06-05T11:19:26.094Z"
      },
      {
        "duration": 3963,
        "start_time": "2023-06-05T11:20:00.724Z"
      },
      {
        "duration": 3,
        "start_time": "2023-06-05T11:20:13.404Z"
      },
      {
        "duration": 4,
        "start_time": "2023-06-05T11:20:13.976Z"
      },
      {
        "duration": 4,
        "start_time": "2023-06-05T11:20:14.857Z"
      },
      {
        "duration": 5,
        "start_time": "2023-06-05T11:20:18.935Z"
      },
      {
        "duration": 4,
        "start_time": "2023-06-05T11:20:19.641Z"
      },
      {
        "duration": 3,
        "start_time": "2023-06-05T11:20:20.121Z"
      },
      {
        "duration": 4,
        "start_time": "2023-06-05T11:20:20.887Z"
      },
      {
        "duration": 12,
        "start_time": "2023-06-05T11:20:53.210Z"
      },
      {
        "duration": 3,
        "start_time": "2023-06-05T11:21:11.546Z"
      },
      {
        "duration": 12,
        "start_time": "2023-06-05T11:21:12.347Z"
      },
      {
        "duration": 81232,
        "start_time": "2023-06-05T11:21:20.287Z"
      },
      {
        "duration": 4,
        "start_time": "2023-06-05T11:22:41.520Z"
      },
      {
        "duration": 1431,
        "start_time": "2023-06-05T11:24:35.588Z"
      },
      {
        "duration": 1332,
        "start_time": "2023-06-05T11:25:22.327Z"
      },
      {
        "duration": 4,
        "start_time": "2023-06-05T11:25:24.705Z"
      },
      {
        "duration": 5,
        "start_time": "2023-06-05T11:25:25.309Z"
      },
      {
        "duration": 4,
        "start_time": "2023-06-05T11:25:25.865Z"
      },
      {
        "duration": 5,
        "start_time": "2023-06-05T11:25:29.197Z"
      },
      {
        "duration": 4,
        "start_time": "2023-06-05T11:25:29.416Z"
      },
      {
        "duration": 6,
        "start_time": "2023-06-05T11:25:29.646Z"
      },
      {
        "duration": 5,
        "start_time": "2023-06-05T11:25:29.876Z"
      },
      {
        "duration": 4,
        "start_time": "2023-06-05T11:26:21.221Z"
      },
      {
        "duration": 800,
        "start_time": "2023-06-05T11:26:21.227Z"
      },
      {
        "duration": 19,
        "start_time": "2023-06-05T11:26:22.029Z"
      },
      {
        "duration": 7,
        "start_time": "2023-06-05T11:26:22.049Z"
      },
      {
        "duration": 22,
        "start_time": "2023-06-05T11:26:22.058Z"
      },
      {
        "duration": 9,
        "start_time": "2023-06-05T11:26:22.081Z"
      },
      {
        "duration": 204,
        "start_time": "2023-06-05T11:26:22.091Z"
      },
      {
        "duration": 208,
        "start_time": "2023-06-05T11:26:22.296Z"
      },
      {
        "duration": 4,
        "start_time": "2023-06-05T11:26:22.507Z"
      },
      {
        "duration": 18,
        "start_time": "2023-06-05T11:26:22.513Z"
      },
      {
        "duration": 11,
        "start_time": "2023-06-05T11:26:22.534Z"
      },
      {
        "duration": 3,
        "start_time": "2023-06-05T11:26:22.547Z"
      },
      {
        "duration": 13,
        "start_time": "2023-06-05T11:26:22.552Z"
      },
      {
        "duration": 9,
        "start_time": "2023-06-05T11:26:22.567Z"
      },
      {
        "duration": 14,
        "start_time": "2023-06-05T11:26:22.578Z"
      },
      {
        "duration": 15,
        "start_time": "2023-06-05T11:26:22.593Z"
      },
      {
        "duration": 5,
        "start_time": "2023-06-05T11:26:22.610Z"
      },
      {
        "duration": 21,
        "start_time": "2023-06-05T11:26:22.616Z"
      },
      {
        "duration": 23,
        "start_time": "2023-06-05T11:26:22.638Z"
      },
      {
        "duration": 11,
        "start_time": "2023-06-05T11:26:22.663Z"
      },
      {
        "duration": 7,
        "start_time": "2023-06-05T11:26:22.676Z"
      },
      {
        "duration": 13,
        "start_time": "2023-06-05T11:26:22.685Z"
      },
      {
        "duration": 9,
        "start_time": "2023-06-05T11:26:22.700Z"
      },
      {
        "duration": 9,
        "start_time": "2023-06-05T11:26:22.710Z"
      },
      {
        "duration": 13,
        "start_time": "2023-06-05T11:26:22.721Z"
      },
      {
        "duration": 10,
        "start_time": "2023-06-05T11:26:22.736Z"
      },
      {
        "duration": 230,
        "start_time": "2023-06-05T11:26:22.747Z"
      },
      {
        "duration": 234,
        "start_time": "2023-06-05T11:26:22.984Z"
      },
      {
        "duration": 233,
        "start_time": "2023-06-05T11:26:23.222Z"
      },
      {
        "duration": 139,
        "start_time": "2023-06-05T11:26:23.456Z"
      },
      {
        "duration": 131,
        "start_time": "2023-06-05T11:26:23.597Z"
      },
      {
        "duration": 9,
        "start_time": "2023-06-05T11:26:23.730Z"
      },
      {
        "duration": 158,
        "start_time": "2023-06-05T11:26:23.740Z"
      },
      {
        "duration": 8,
        "start_time": "2023-06-05T11:26:23.900Z"
      },
      {
        "duration": 8,
        "start_time": "2023-06-05T11:26:23.910Z"
      },
      {
        "duration": 12,
        "start_time": "2023-06-05T11:26:23.920Z"
      },
      {
        "duration": 7,
        "start_time": "2023-06-05T11:26:23.933Z"
      },
      {
        "duration": 10,
        "start_time": "2023-06-05T11:26:23.942Z"
      },
      {
        "duration": 166,
        "start_time": "2023-06-05T11:26:23.954Z"
      },
      {
        "duration": 4,
        "start_time": "2023-06-05T11:26:24.122Z"
      },
      {
        "duration": 11,
        "start_time": "2023-06-05T11:26:24.128Z"
      },
      {
        "duration": 2,
        "start_time": "2023-06-05T11:26:24.141Z"
      },
      {
        "duration": 15,
        "start_time": "2023-06-05T11:26:24.144Z"
      },
      {
        "duration": 6,
        "start_time": "2023-06-05T11:26:24.160Z"
      },
      {
        "duration": 5,
        "start_time": "2023-06-05T11:26:24.167Z"
      },
      {
        "duration": 11,
        "start_time": "2023-06-05T11:26:24.173Z"
      },
      {
        "duration": 24,
        "start_time": "2023-06-05T11:26:24.185Z"
      },
      {
        "duration": 17,
        "start_time": "2023-06-05T11:26:24.211Z"
      },
      {
        "duration": 2425,
        "start_time": "2023-06-05T11:26:24.230Z"
      },
      {
        "duration": 12095,
        "start_time": "2023-06-05T11:26:26.657Z"
      },
      {
        "duration": 534,
        "start_time": "2023-06-05T11:26:38.754Z"
      },
      {
        "duration": 1399,
        "start_time": "2023-06-05T11:26:39.289Z"
      },
      {
        "duration": 2228,
        "start_time": "2023-06-05T11:26:40.689Z"
      },
      {
        "duration": 2,
        "start_time": "2023-06-05T11:26:42.919Z"
      },
      {
        "duration": 26,
        "start_time": "2023-06-05T11:26:42.923Z"
      },
      {
        "duration": 80441,
        "start_time": "2023-06-05T11:26:42.950Z"
      },
      {
        "duration": 3,
        "start_time": "2023-06-05T11:28:03.393Z"
      },
      {
        "duration": 77445,
        "start_time": "2023-06-05T11:28:03.397Z"
      },
      {
        "duration": 4,
        "start_time": "2023-06-05T11:29:20.844Z"
      },
      {
        "duration": 4778,
        "start_time": "2023-06-05T11:29:20.849Z"
      },
      {
        "duration": 47139,
        "start_time": "2023-06-05T11:29:25.629Z"
      },
      {
        "duration": 3,
        "start_time": "2023-06-05T11:30:12.769Z"
      },
      {
        "duration": 17,
        "start_time": "2023-06-05T11:30:12.773Z"
      },
      {
        "duration": 65639,
        "start_time": "2023-06-05T11:30:12.792Z"
      },
      {
        "duration": 4,
        "start_time": "2023-06-05T11:31:18.433Z"
      },
      {
        "duration": 65077,
        "start_time": "2023-06-05T11:31:18.438Z"
      },
      {
        "duration": 5,
        "start_time": "2023-06-05T11:32:23.516Z"
      },
      {
        "duration": 794,
        "start_time": "2023-06-05T11:32:23.522Z"
      },
      {
        "duration": 4,
        "start_time": "2023-06-05T11:32:24.318Z"
      },
      {
        "duration": 25,
        "start_time": "2023-06-05T11:32:24.323Z"
      },
      {
        "duration": 1172,
        "start_time": "2023-06-05T11:32:24.350Z"
      },
      {
        "duration": 3,
        "start_time": "2023-06-05T11:32:25.524Z"
      },
      {
        "duration": 10,
        "start_time": "2023-06-05T11:32:25.529Z"
      },
      {
        "duration": 18,
        "start_time": "2023-06-05T11:32:25.540Z"
      },
      {
        "duration": 16,
        "start_time": "2023-06-05T11:32:25.559Z"
      },
      {
        "duration": 29,
        "start_time": "2023-06-05T11:32:25.576Z"
      },
      {
        "duration": 18,
        "start_time": "2023-06-05T11:32:25.607Z"
      },
      {
        "duration": 9,
        "start_time": "2023-06-05T11:32:25.626Z"
      },
      {
        "duration": 1245,
        "start_time": "2023-06-05T11:34:53.481Z"
      },
      {
        "duration": 5,
        "start_time": "2023-06-05T11:34:57.158Z"
      },
      {
        "duration": 4,
        "start_time": "2023-06-05T11:34:57.429Z"
      },
      {
        "duration": 3,
        "start_time": "2023-06-05T11:34:57.867Z"
      },
      {
        "duration": 1607,
        "start_time": "2023-06-05T11:35:10.344Z"
      },
      {
        "duration": 4,
        "start_time": "2023-06-05T11:35:11.953Z"
      },
      {
        "duration": 18,
        "start_time": "2023-06-05T11:35:11.959Z"
      },
      {
        "duration": 9,
        "start_time": "2023-06-05T11:35:11.979Z"
      },
      {
        "duration": 0,
        "start_time": "2023-06-05T11:35:45.230Z"
      },
      {
        "duration": 2,
        "start_time": "2023-06-05T11:35:49.912Z"
      },
      {
        "duration": 36915,
        "start_time": "2023-06-05T11:35:51.383Z"
      },
      {
        "duration": 5,
        "start_time": "2023-06-05T11:36:28.299Z"
      },
      {
        "duration": 40,
        "start_time": "2023-06-05T11:36:28.305Z"
      },
      {
        "duration": 9,
        "start_time": "2023-06-05T11:36:28.349Z"
      },
      {
        "duration": 5,
        "start_time": "2023-06-05T11:38:58.866Z"
      },
      {
        "duration": 744,
        "start_time": "2023-06-05T11:38:58.873Z"
      },
      {
        "duration": 19,
        "start_time": "2023-06-05T11:38:59.619Z"
      },
      {
        "duration": 10,
        "start_time": "2023-06-05T11:38:59.639Z"
      },
      {
        "duration": 4,
        "start_time": "2023-06-05T11:38:59.651Z"
      },
      {
        "duration": 6,
        "start_time": "2023-06-05T11:38:59.656Z"
      },
      {
        "duration": 397,
        "start_time": "2023-06-05T11:38:59.663Z"
      },
      {
        "duration": 195,
        "start_time": "2023-06-05T11:39:00.062Z"
      },
      {
        "duration": 4,
        "start_time": "2023-06-05T11:39:00.259Z"
      },
      {
        "duration": 29,
        "start_time": "2023-06-05T11:39:00.264Z"
      },
      {
        "duration": 49,
        "start_time": "2023-06-05T11:39:00.295Z"
      },
      {
        "duration": 57,
        "start_time": "2023-06-05T11:39:00.345Z"
      },
      {
        "duration": 44,
        "start_time": "2023-06-05T11:39:00.403Z"
      },
      {
        "duration": 62,
        "start_time": "2023-06-05T11:39:00.448Z"
      },
      {
        "duration": 27,
        "start_time": "2023-06-05T11:39:00.511Z"
      },
      {
        "duration": 41,
        "start_time": "2023-06-05T11:39:00.539Z"
      },
      {
        "duration": 42,
        "start_time": "2023-06-05T11:39:00.582Z"
      },
      {
        "duration": 28,
        "start_time": "2023-06-05T11:39:00.625Z"
      },
      {
        "duration": 62,
        "start_time": "2023-06-05T11:39:00.654Z"
      },
      {
        "duration": 63,
        "start_time": "2023-06-05T11:39:00.717Z"
      },
      {
        "duration": 38,
        "start_time": "2023-06-05T11:39:00.782Z"
      },
      {
        "duration": 37,
        "start_time": "2023-06-05T11:39:00.822Z"
      },
      {
        "duration": 62,
        "start_time": "2023-06-05T11:39:00.860Z"
      },
      {
        "duration": 30,
        "start_time": "2023-06-05T11:39:00.924Z"
      },
      {
        "duration": 52,
        "start_time": "2023-06-05T11:39:00.956Z"
      },
      {
        "duration": 58,
        "start_time": "2023-06-05T11:39:01.010Z"
      },
      {
        "duration": 271,
        "start_time": "2023-06-05T11:39:01.070Z"
      },
      {
        "duration": 234,
        "start_time": "2023-06-05T11:39:01.342Z"
      },
      {
        "duration": 253,
        "start_time": "2023-06-05T11:39:01.580Z"
      },
      {
        "duration": 164,
        "start_time": "2023-06-05T11:39:01.835Z"
      },
      {
        "duration": 151,
        "start_time": "2023-06-05T11:39:02.000Z"
      },
      {
        "duration": 10,
        "start_time": "2023-06-05T11:39:02.152Z"
      },
      {
        "duration": 182,
        "start_time": "2023-06-05T11:39:02.164Z"
      },
      {
        "duration": 9,
        "start_time": "2023-06-05T11:39:02.347Z"
      },
      {
        "duration": 19,
        "start_time": "2023-06-05T11:39:02.357Z"
      },
      {
        "duration": 15,
        "start_time": "2023-06-05T11:39:02.378Z"
      },
      {
        "duration": 33,
        "start_time": "2023-06-05T11:39:02.394Z"
      },
      {
        "duration": 36,
        "start_time": "2023-06-05T11:39:02.429Z"
      },
      {
        "duration": 141,
        "start_time": "2023-06-05T11:39:02.467Z"
      },
      {
        "duration": 5,
        "start_time": "2023-06-05T11:39:02.610Z"
      },
      {
        "duration": 22,
        "start_time": "2023-06-05T11:39:02.616Z"
      },
      {
        "duration": 3,
        "start_time": "2023-06-05T11:39:02.639Z"
      },
      {
        "duration": 6,
        "start_time": "2023-06-05T11:39:02.644Z"
      },
      {
        "duration": 4,
        "start_time": "2023-06-05T11:39:02.651Z"
      },
      {
        "duration": 8,
        "start_time": "2023-06-05T11:39:02.657Z"
      },
      {
        "duration": 10,
        "start_time": "2023-06-05T11:39:02.667Z"
      },
      {
        "duration": 2,
        "start_time": "2023-06-05T11:39:02.684Z"
      },
      {
        "duration": 8,
        "start_time": "2023-06-05T11:39:02.687Z"
      },
      {
        "duration": 2357,
        "start_time": "2023-06-05T11:39:02.696Z"
      },
      {
        "duration": 12350,
        "start_time": "2023-06-05T11:39:05.055Z"
      },
      {
        "duration": 682,
        "start_time": "2023-06-05T11:39:17.406Z"
      },
      {
        "duration": 1504,
        "start_time": "2023-06-05T11:39:18.089Z"
      },
      {
        "duration": 1582,
        "start_time": "2023-06-05T11:39:19.685Z"
      },
      {
        "duration": 3,
        "start_time": "2023-06-05T11:39:21.268Z"
      },
      {
        "duration": 7,
        "start_time": "2023-06-05T11:39:21.273Z"
      },
      {
        "duration": 64990,
        "start_time": "2023-06-05T11:39:21.281Z"
      },
      {
        "duration": 3,
        "start_time": "2023-06-05T11:40:26.273Z"
      },
      {
        "duration": 66272,
        "start_time": "2023-06-05T11:40:26.278Z"
      },
      {
        "duration": 3,
        "start_time": "2023-06-05T11:41:32.552Z"
      },
      {
        "duration": 3464,
        "start_time": "2023-06-05T11:41:32.556Z"
      },
      {
        "duration": 47460,
        "start_time": "2023-06-05T11:41:36.021Z"
      },
      {
        "duration": 2,
        "start_time": "2023-06-05T11:42:23.485Z"
      },
      {
        "duration": 22,
        "start_time": "2023-06-05T11:42:23.488Z"
      },
      {
        "duration": 66189,
        "start_time": "2023-06-05T11:42:23.512Z"
      },
      {
        "duration": 3,
        "start_time": "2023-06-05T11:43:29.703Z"
      },
      {
        "duration": 65686,
        "start_time": "2023-06-05T11:43:29.707Z"
      },
      {
        "duration": 3,
        "start_time": "2023-06-05T11:44:35.394Z"
      },
      {
        "duration": 796,
        "start_time": "2023-06-05T11:44:35.399Z"
      },
      {
        "duration": 4,
        "start_time": "2023-06-05T11:44:36.197Z"
      },
      {
        "duration": 28,
        "start_time": "2023-06-05T11:44:36.203Z"
      },
      {
        "duration": 36858,
        "start_time": "2023-06-05T11:44:36.233Z"
      },
      {
        "duration": 4,
        "start_time": "2023-06-05T11:45:13.092Z"
      },
      {
        "duration": 7,
        "start_time": "2023-06-05T11:45:13.097Z"
      },
      {
        "duration": 4,
        "start_time": "2023-06-05T11:45:13.106Z"
      },
      {
        "duration": 6,
        "start_time": "2023-06-05T11:45:13.111Z"
      },
      {
        "duration": 10,
        "start_time": "2023-06-05T11:45:13.119Z"
      },
      {
        "duration": 12,
        "start_time": "2023-06-05T11:45:13.130Z"
      },
      {
        "duration": 9,
        "start_time": "2023-06-05T11:45:13.143Z"
      },
      {
        "duration": 3191,
        "start_time": "2023-06-05T11:45:13.156Z"
      },
      {
        "duration": 1060,
        "start_time": "2023-06-05T11:45:44.311Z"
      },
      {
        "duration": 5,
        "start_time": "2023-06-05T11:45:47.683Z"
      },
      {
        "duration": 5,
        "start_time": "2023-06-05T11:45:48.110Z"
      },
      {
        "duration": 4,
        "start_time": "2023-06-05T11:45:50.273Z"
      },
      {
        "duration": 1091,
        "start_time": "2023-06-05T11:46:03.182Z"
      },
      {
        "duration": 5,
        "start_time": "2023-06-05T11:46:04.275Z"
      },
      {
        "duration": 30,
        "start_time": "2023-06-05T11:46:04.282Z"
      },
      {
        "duration": 4,
        "start_time": "2023-06-05T11:46:04.478Z"
      },
      {
        "duration": 58,
        "start_time": "2023-06-05T11:48:03.276Z"
      },
      {
        "duration": 65,
        "start_time": "2023-06-05T11:50:17.783Z"
      }
    ],
    "kernelspec": {
      "display_name": "Python 3 (ipykernel)",
      "language": "python",
      "name": "python3"
    },
    "language_info": {
      "codemirror_mode": {
        "name": "ipython",
        "version": 3
      },
      "file_extension": ".py",
      "mimetype": "text/x-python",
      "name": "python",
      "nbconvert_exporter": "python",
      "pygments_lexer": "ipython3",
      "version": "3.9.13"
    },
    "toc": {
      "base_numbering": 1,
      "nav_menu": {},
      "number_sections": true,
      "sideBar": true,
      "skip_h1_title": true,
      "title_cell": "Содержание",
      "title_sidebar": "Contents",
      "toc_cell": true,
      "toc_position": {
        "height": "calc(100% - 180px)",
        "left": "10px",
        "top": "150px",
        "width": "342.431px"
      },
      "toc_section_display": true,
      "toc_window_display": true
    },
    "colab": {
      "provenance": []
    }
  },
  "nbformat": 4,
  "nbformat_minor": 0
}