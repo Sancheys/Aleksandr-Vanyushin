{
 "cells": [
  {
   "cell_type": "markdown",
   "metadata": {},
   "source": [
    "# Выбор локации для скважины"
   ]
  },
  {
   "cell_type": "markdown",
   "metadata": {},
   "source": [
    "Допустим, вы работаете в добывающей компании «ГлавРосГосНефть». Нужно решить, где бурить новую скважину.\n",
    "\n",
    "Вам предоставлены пробы нефти в трёх регионах: в каждом 10 000 месторождений, где измерили качество нефти и объём её запасов. Постройте модель машинного обучения, которая поможет определить регион, где добыча принесёт наибольшую прибыль. Проанализируйте возможную прибыль и риски техникой *Bootstrap.*\n",
    "\n",
    "Шаги для выбора локации:\n",
    "\n",
    "- В избранном регионе ищут месторождения, для каждого определяют значения признаков;\n",
    "- Строят модель и оценивают объём запасов;\n",
    "- Выбирают месторождения с самым высокими оценками значений. Количество месторождений зависит от бюджета компании и стоимости разработки одной скважины;\n",
    "- Прибыль равна суммарной прибыли отобранных месторождений."
   ]
  },
  {
   "cell_type": "markdown",
   "metadata": {},
   "source": [
    "# Описание данных:"
   ]
  },
  {
   "cell_type": "markdown",
   "metadata": {},
   "source": [
    "**Данные геологоразведки трёх регионов находятся в файлах:**"
   ]
  },
  {
   "cell_type": "markdown",
   "metadata": {},
   "source": [
    "* d — уникальный идентификатор скважины;\n",
    "* f0, f1, f2 — три признака точек (неважно, что они означают, но сами признаки значимы);\n",
    "* product — объём запасов в скважине (тыс. баррелей)."
   ]
  },
  {
   "cell_type": "markdown",
   "metadata": {},
   "source": [
    "# Условия задачи:"
   ]
  },
  {
   "cell_type": "markdown",
   "metadata": {},
   "source": [
    "* Для обучения модели подходит только линейная регрессия (остальные — недостаточно предсказуемые).\n",
    "* При разведке региона исследуют 500 точек, из которых с помощью машинного обучения выбирают 200 лучших для разработки.\n",
    "* Бюджет на разработку скважин в регионе — 10 млрд рублей.\n",
    "* При нынешних ценах один баррель сырья приносит 450 рублей дохода. Доход с каждой единицы продукта составляет 450 тыс. рублей, поскольку объём указан в тысячах баррелей.\n",
    "* После оценки рисков нужно оставить лишь те регионы, в которых вероятность убытков меньше 2.5%. Среди них выбирают регион с наибольшей средней прибылью."
   ]
  },
  {
   "cell_type": "markdown",
   "metadata": {},
   "source": [
    "## Загрузка и подготовка данных"
   ]
  },
  {
   "cell_type": "code",
   "execution_count": 106,
   "metadata": {},
   "outputs": [],
   "source": [
    "import pandas as pd\n",
    "import numpy as np\n",
    "import seaborn as sns\n",
    "from scipy import stats as st\n",
    "from sklearn.metrics import mean_squared_error, accuracy_score\n",
    "from sklearn.model_selection import train_test_split\n",
    "from sklearn.linear_model import LinearRegression"
   ]
  },
  {
   "cell_type": "code",
   "execution_count": 107,
   "metadata": {},
   "outputs": [],
   "source": [
    "df_1 = pd.read_csv('/datasets/geo_data_0.csv')\n",
    "df_2 = pd.read_csv('/datasets/geo_data_1.csv')\n",
    "df_3 = pd.read_csv('/datasets/geo_data_2.csv')"
   ]
  },
  {
   "cell_type": "code",
   "execution_count": 108,
   "metadata": {},
   "outputs": [
    {
     "name": "stdout",
     "output_type": "stream",
     "text": [
      "<class 'pandas.core.frame.DataFrame'>\n",
      "RangeIndex: 100000 entries, 0 to 99999\n",
      "Data columns (total 5 columns):\n",
      " #   Column   Non-Null Count   Dtype  \n",
      "---  ------   --------------   -----  \n",
      " 0   id       100000 non-null  object \n",
      " 1   f0       100000 non-null  float64\n",
      " 2   f1       100000 non-null  float64\n",
      " 3   f2       100000 non-null  float64\n",
      " 4   product  100000 non-null  float64\n",
      "dtypes: float64(4), object(1)\n",
      "memory usage: 3.8+ MB\n"
     ]
    }
   ],
   "source": [
    "df_1.info()"
   ]
  },
  {
   "cell_type": "code",
   "execution_count": 109,
   "metadata": {},
   "outputs": [
    {
     "name": "stdout",
     "output_type": "stream",
     "text": [
      "<class 'pandas.core.frame.DataFrame'>\n",
      "RangeIndex: 100000 entries, 0 to 99999\n",
      "Data columns (total 5 columns):\n",
      " #   Column   Non-Null Count   Dtype  \n",
      "---  ------   --------------   -----  \n",
      " 0   id       100000 non-null  object \n",
      " 1   f0       100000 non-null  float64\n",
      " 2   f1       100000 non-null  float64\n",
      " 3   f2       100000 non-null  float64\n",
      " 4   product  100000 non-null  float64\n",
      "dtypes: float64(4), object(1)\n",
      "memory usage: 3.8+ MB\n",
      "None\n",
      "-------------------------\n",
      "id ['006OJ' '009eY' '00AfQ' ... 'zztWK' 'zzyhQ' 'zzzLH']\n",
      "id A5aEY    2\n",
      "Tdehs    2\n",
      "QcMuo    2\n",
      "fiKDv    2\n",
      "bxg6G    2\n",
      "        ..\n",
      "GrP0O    1\n",
      "NHtAG    1\n",
      "nH4jP    1\n",
      "jKe1Q    1\n",
      "e6e2a    1\n",
      "Name: id, Length: 99990, dtype: int64\n",
      "id : кол-во NaN 0 , процент NaN 0.0 %\n",
      "-------------------------\n",
      "f0 [-1.40860531 -1.35177299 -1.30222711 ...  2.33375269  2.33707957\n",
      "  2.36233081]\n",
      "f0 -1.218900    1\n",
      " 0.407085    1\n",
      " 1.162604    1\n",
      " 0.886105    1\n",
      " 0.031749    1\n",
      "            ..\n",
      " 0.425951    1\n",
      " 0.900468    1\n",
      " 0.865040    1\n",
      "-0.126201    1\n",
      " 1.751793    1\n",
      "Name: f0, Length: 100000, dtype: int64\n",
      "f0 : кол-во NaN 0 , процент NaN 0.0 %\n",
      "-------------------------\n",
      "f1 [-0.8482185  -0.84490792 -0.8205609  ...  1.33334561  1.33482762\n",
      "  1.34376933]\n",
      "f1  0.296390    1\n",
      "-0.360328    1\n",
      "-0.203243    1\n",
      " 0.040378    1\n",
      " 0.860821    1\n",
      "            ..\n",
      " 0.130016    1\n",
      " 0.105239    1\n",
      "-0.007497    1\n",
      " 1.086693    1\n",
      " 1.010051    1\n",
      "Name: f1, Length: 100000, dtype: int64\n",
      "f1 : кол-во NaN 0 , процент NaN 0.0 %\n",
      "-------------------------\n",
      "f2 [-12.08832812 -10.13834135 -10.13817115 ...  15.23032159  15.42837187\n",
      "  16.00379001]\n",
      "f2  4.623968    1\n",
      " 0.485455    1\n",
      " 0.899164    1\n",
      " 5.973383    1\n",
      " 4.349341    1\n",
      "            ..\n",
      " 5.279791    1\n",
      " 0.796217    1\n",
      "-1.651532    1\n",
      " 7.610327    1\n",
      " 4.001244    1\n",
      "Name: f2, Length: 100000, dtype: int64\n",
      "f2 : кол-во NaN 0 , процент NaN 0.0 %\n"
     ]
    }
   ],
   "source": [
    "temp = df_1.copy()\n",
    "list_c = [\n",
    "    'id', 'f0', 'f1', 'f2']\n",
    "print(temp.info())\n",
    "for col_l in list_c:\n",
    "  print('-'* 25)\n",
    "  print(col_l, temp[col_l].sort_values().unique())\n",
    "  print(col_l, temp[col_l].value_counts())\n",
    "  print(col_l,': кол-во NaN',temp[col_l].isna().sum(),\n",
    "        ', процент NaN', round(temp[col_l].isna().mean()*100,2),'%') "
   ]
  },
  {
   "cell_type": "code",
   "execution_count": 110,
   "metadata": {},
   "outputs": [
    {
     "name": "stdout",
     "output_type": "stream",
     "text": [
      "<class 'pandas.core.frame.DataFrame'>\n",
      "RangeIndex: 100000 entries, 0 to 99999\n",
      "Data columns (total 5 columns):\n",
      " #   Column   Non-Null Count   Dtype  \n",
      "---  ------   --------------   -----  \n",
      " 0   id       100000 non-null  object \n",
      " 1   f0       100000 non-null  float64\n",
      " 2   f1       100000 non-null  float64\n",
      " 3   f2       100000 non-null  float64\n",
      " 4   product  100000 non-null  float64\n",
      "dtypes: float64(4), object(1)\n",
      "memory usage: 3.8+ MB\n",
      "None\n",
      "-------------------------\n",
      "id ['0022J' '003Gl' '003Vx' ... 'zzv4E' 'zzy2c' 'zzzvI']\n",
      "id LHZR0    2\n",
      "bfPNe    2\n",
      "5ltQ6    2\n",
      "wt4Uk    2\n",
      "QVhNM    1\n",
      "        ..\n",
      "Yr1CE    1\n",
      "4NJjj    1\n",
      "YSQof    1\n",
      "7v3bp    1\n",
      "LfGSL    1\n",
      "Name: id, Length: 99996, dtype: int64\n",
      "id : кол-во NaN 0 , процент NaN 0.0 %\n",
      "-------------------------\n",
      "f0 [-31.60957602 -27.82961614 -26.64625507 ...  28.93082879  29.25906208\n",
      "  29.42175461]\n",
      "f0  9.471578     1\n",
      " 17.560369    1\n",
      " 20.515576    1\n",
      " 4.648343     1\n",
      " 8.195679     1\n",
      "             ..\n",
      "-8.003850     1\n",
      " 14.444814    1\n",
      "-9.439604     1\n",
      " 4.966853     1\n",
      " 2.442558     1\n",
      "Name: f0, Length: 100000, dtype: int64\n",
      "f0 : кол-во NaN 0 , процент NaN 0.0 %\n",
      "-------------------------\n",
      "f1 [-26.35859801 -25.38962242 -25.2915177  ...  16.0268693   16.7371962\n",
      "  18.73406263]\n",
      "f1 -7.148426     1\n",
      "-6.241057     1\n",
      " 0.219865     1\n",
      "-1.778543     1\n",
      "-9.636482     1\n",
      "             ..\n",
      "-9.680052     1\n",
      "-7.416345     1\n",
      "-7.319855     1\n",
      "-10.020829    1\n",
      "-0.688613     1\n",
      "Name: f1, Length: 100000, dtype: int64\n",
      "f1 : кол-во NaN 0 , процент NaN 0.0 %\n",
      "-------------------------\n",
      "f2 [-0.01814409 -0.01788668 -0.01768626 ...  5.01750345  5.01909142\n",
      "  5.01972056]\n",
      "f2 3.996243    1\n",
      "4.003988    1\n",
      "1.996189    1\n",
      "0.996936    1\n",
      "3.998589    1\n",
      "           ..\n",
      "1.004759    1\n",
      "4.997377    1\n",
      "3.003466    1\n",
      "0.001041    1\n",
      "4.992682    1\n",
      "Name: f2, Length: 100000, dtype: int64\n",
      "f2 : кол-во NaN 0 , процент NaN 0.0 %\n"
     ]
    }
   ],
   "source": [
    "temp = df_2.copy()\n",
    "list_c = [\n",
    "    'id', 'f0', 'f1', 'f2']\n",
    "print(temp.info())\n",
    "for col_l in list_c:\n",
    "  print('-'* 25)\n",
    "  print(col_l, temp[col_l].sort_values().unique())\n",
    "  print(col_l, temp[col_l].value_counts())\n",
    "  print(col_l,': кол-во NaN',temp[col_l].isna().sum(),\n",
    "        ', процент NaN', round(temp[col_l].isna().mean()*100,2),'%') "
   ]
  },
  {
   "cell_type": "code",
   "execution_count": 111,
   "metadata": {},
   "outputs": [
    {
     "name": "stdout",
     "output_type": "stream",
     "text": [
      "<class 'pandas.core.frame.DataFrame'>\n",
      "RangeIndex: 100000 entries, 0 to 99999\n",
      "Data columns (total 5 columns):\n",
      " #   Column   Non-Null Count   Dtype  \n",
      "---  ------   --------------   -----  \n",
      " 0   id       100000 non-null  object \n",
      " 1   f0       100000 non-null  float64\n",
      " 2   f1       100000 non-null  float64\n",
      " 3   f2       100000 non-null  float64\n",
      " 4   product  100000 non-null  float64\n",
      "dtypes: float64(4), object(1)\n",
      "memory usage: 3.8+ MB\n",
      "None\n",
      "-------------------------\n",
      "id ['009Gl' '00AuD' '00CaL' ... 'zzqqy' 'zzsKd' 'zzz9h']\n",
      "id xCHr8    2\n",
      "KUPhW    2\n",
      "VF7Jo    2\n",
      "Vcm5J    2\n",
      "ql5l5    1\n",
      "        ..\n",
      "F7ueb    1\n",
      "51bMq    1\n",
      "eWcKs    1\n",
      "EQj8O    1\n",
      "FWbqp    1\n",
      "Name: id, Length: 99996, dtype: int64\n",
      "id : кол-во NaN 0 , процент NaN 0.0 %\n",
      "-------------------------\n",
      "f0 [-8.76000362 -7.45058711 -7.18949804 ...  7.19461485  7.21552717\n",
      "  7.23826248]\n",
      "f0  1.936057    1\n",
      "-0.784222    1\n",
      "-2.351132    1\n",
      " 0.075698    1\n",
      " 2.018140    1\n",
      "            ..\n",
      " 1.839556    1\n",
      " 0.754413    1\n",
      "-0.401612    1\n",
      "-2.771517    1\n",
      "-0.107381    1\n",
      "Name: f0, Length: 100000, dtype: int64\n",
      "f0 : кол-во NaN 0 , процент NaN 0.0 %\n",
      "-------------------------\n",
      "f1 [-7.08401976 -6.74835677 -6.73299712 ...  7.10161842  7.76185714\n",
      "  7.84480127]\n",
      "f1 -0.424195    1\n",
      " 0.182324    1\n",
      " 0.577029    1\n",
      " 0.162839    1\n",
      " 1.018798    1\n",
      "            ..\n",
      " 3.052439    1\n",
      "-1.156062    1\n",
      "-1.470669    1\n",
      " 0.889380    1\n",
      " 1.717903    1\n",
      "Name: f1, Length: 100000, dtype: int64\n",
      "f1 : кол-во NaN 0 , процент NaN 0.0 %\n",
      "-------------------------\n",
      "f2 [-11.97033454 -11.61169048 -11.40724351 ...  16.31301122  16.35764509\n",
      "  16.73940206]\n",
      "f2  1.553554     1\n",
      " 1.549816     1\n",
      " 10.578156    1\n",
      " 1.456220     1\n",
      " 8.867106     1\n",
      "             ..\n",
      "-0.935811     1\n",
      " 0.516740     1\n",
      "-1.548120     1\n",
      " 2.036096     1\n",
      " 0.206914     1\n",
      "Name: f2, Length: 100000, dtype: int64\n",
      "f2 : кол-во NaN 0 , процент NaN 0.0 %\n"
     ]
    }
   ],
   "source": [
    "temp = df_3.copy()\n",
    "list_c = [\n",
    "    'id', 'f0', 'f1', 'f2']\n",
    "print(temp.info())\n",
    "for col_l in list_c:\n",
    "  print('-'* 25)\n",
    "  print(col_l, temp[col_l].sort_values().unique())\n",
    "  print(col_l, temp[col_l].value_counts())\n",
    "  print(col_l,': кол-во NaN',temp[col_l].isna().sum(),\n",
    "        ', процент NaN', round(temp[col_l].isna().mean()*100,2),'%') "
   ]
  },
  {
   "cell_type": "markdown",
   "metadata": {},
   "source": [
    "В столбце id присутствуют дубликаты, посмотрим на них."
   ]
  },
  {
   "cell_type": "code",
   "execution_count": 112,
   "metadata": {},
   "outputs": [
    {
     "data": {
      "text/html": [
       "<div>\n",
       "<style scoped>\n",
       "    .dataframe tbody tr th:only-of-type {\n",
       "        vertical-align: middle;\n",
       "    }\n",
       "\n",
       "    .dataframe tbody tr th {\n",
       "        vertical-align: top;\n",
       "    }\n",
       "\n",
       "    .dataframe thead th {\n",
       "        text-align: right;\n",
       "    }\n",
       "</style>\n",
       "<table border=\"1\" class=\"dataframe\">\n",
       "  <thead>\n",
       "    <tr style=\"text-align: right;\">\n",
       "      <th></th>\n",
       "      <th>id</th>\n",
       "      <th>f0</th>\n",
       "      <th>f1</th>\n",
       "      <th>f2</th>\n",
       "      <th>product</th>\n",
       "    </tr>\n",
       "  </thead>\n",
       "  <tbody>\n",
       "    <tr>\n",
       "      <th>1949</th>\n",
       "      <td>QcMuo</td>\n",
       "      <td>0.506563</td>\n",
       "      <td>-0.323775</td>\n",
       "      <td>-2.215583</td>\n",
       "      <td>75.496502</td>\n",
       "    </tr>\n",
       "    <tr>\n",
       "      <th>63593</th>\n",
       "      <td>QcMuo</td>\n",
       "      <td>0.635635</td>\n",
       "      <td>-0.473422</td>\n",
       "      <td>0.862670</td>\n",
       "      <td>64.578675</td>\n",
       "    </tr>\n",
       "  </tbody>\n",
       "</table>\n",
       "</div>"
      ],
      "text/plain": [
       "          id        f0        f1        f2    product\n",
       "1949   QcMuo  0.506563 -0.323775 -2.215583  75.496502\n",
       "63593  QcMuo  0.635635 -0.473422  0.862670  64.578675"
      ]
     },
     "execution_count": 112,
     "metadata": {},
     "output_type": "execute_result"
    }
   ],
   "source": [
    "df_1[df_1['id'] == 'QcMuo']"
   ]
  },
  {
   "cell_type": "code",
   "execution_count": 113,
   "metadata": {},
   "outputs": [
    {
     "data": {
      "text/html": [
       "<div>\n",
       "<style scoped>\n",
       "    .dataframe tbody tr th:only-of-type {\n",
       "        vertical-align: middle;\n",
       "    }\n",
       "\n",
       "    .dataframe tbody tr th {\n",
       "        vertical-align: top;\n",
       "    }\n",
       "\n",
       "    .dataframe thead th {\n",
       "        text-align: right;\n",
       "    }\n",
       "</style>\n",
       "<table border=\"1\" class=\"dataframe\">\n",
       "  <thead>\n",
       "    <tr style=\"text-align: right;\">\n",
       "      <th></th>\n",
       "      <th>id</th>\n",
       "      <th>f0</th>\n",
       "      <th>f1</th>\n",
       "      <th>f2</th>\n",
       "      <th>product</th>\n",
       "    </tr>\n",
       "  </thead>\n",
       "  <tbody>\n",
       "    <tr>\n",
       "      <th>1305</th>\n",
       "      <td>LHZR0</td>\n",
       "      <td>11.170835</td>\n",
       "      <td>-1.945066</td>\n",
       "      <td>3.002872</td>\n",
       "      <td>80.859783</td>\n",
       "    </tr>\n",
       "    <tr>\n",
       "      <th>41906</th>\n",
       "      <td>LHZR0</td>\n",
       "      <td>-8.989672</td>\n",
       "      <td>-4.286607</td>\n",
       "      <td>2.009139</td>\n",
       "      <td>57.085625</td>\n",
       "    </tr>\n",
       "  </tbody>\n",
       "</table>\n",
       "</div>"
      ],
      "text/plain": [
       "          id         f0        f1        f2    product\n",
       "1305   LHZR0  11.170835 -1.945066  3.002872  80.859783\n",
       "41906  LHZR0  -8.989672 -4.286607  2.009139  57.085625"
      ]
     },
     "execution_count": 113,
     "metadata": {},
     "output_type": "execute_result"
    }
   ],
   "source": [
    "df_2[df_2['id'] == 'LHZR0']"
   ]
  },
  {
   "cell_type": "code",
   "execution_count": 114,
   "metadata": {},
   "outputs": [
    {
     "data": {
      "text/html": [
       "<div>\n",
       "<style scoped>\n",
       "    .dataframe tbody tr th:only-of-type {\n",
       "        vertical-align: middle;\n",
       "    }\n",
       "\n",
       "    .dataframe tbody tr th {\n",
       "        vertical-align: top;\n",
       "    }\n",
       "\n",
       "    .dataframe thead th {\n",
       "        text-align: right;\n",
       "    }\n",
       "</style>\n",
       "<table border=\"1\" class=\"dataframe\">\n",
       "  <thead>\n",
       "    <tr style=\"text-align: right;\">\n",
       "      <th></th>\n",
       "      <th>id</th>\n",
       "      <th>f0</th>\n",
       "      <th>f1</th>\n",
       "      <th>f2</th>\n",
       "      <th>product</th>\n",
       "    </tr>\n",
       "  </thead>\n",
       "  <tbody>\n",
       "    <tr>\n",
       "      <th>11449</th>\n",
       "      <td>VF7Jo</td>\n",
       "      <td>2.122656</td>\n",
       "      <td>-0.858275</td>\n",
       "      <td>5.746001</td>\n",
       "      <td>181.716817</td>\n",
       "    </tr>\n",
       "    <tr>\n",
       "      <th>49564</th>\n",
       "      <td>VF7Jo</td>\n",
       "      <td>-0.883115</td>\n",
       "      <td>0.560537</td>\n",
       "      <td>0.723601</td>\n",
       "      <td>136.233420</td>\n",
       "    </tr>\n",
       "  </tbody>\n",
       "</table>\n",
       "</div>"
      ],
      "text/plain": [
       "          id        f0        f1        f2     product\n",
       "11449  VF7Jo  2.122656 -0.858275  5.746001  181.716817\n",
       "49564  VF7Jo -0.883115  0.560537  0.723601  136.233420"
      ]
     },
     "execution_count": 114,
     "metadata": {},
     "output_type": "execute_result"
    }
   ],
   "source": [
    "df_3[df_3['id'] == 'VF7Jo']"
   ]
  },
  {
   "cell_type": "markdown",
   "metadata": {},
   "source": [
    "В данных присутсвуют одинаковые id но сразными данными, выглядят они очень cтранно, но так как их мало, думаю можно просто их удалить.\n"
   ]
  },
  {
   "cell_type": "code",
   "execution_count": 115,
   "metadata": {},
   "outputs": [],
   "source": [
    "def clear_duplicat(df):\n",
    "    names = df['id'].value_counts().reset_index()\n",
    "    unique_names = names.query('id == 1')['index'].to_list()\n",
    "    df.query('id in @unique_names', inplace=True)"
   ]
  },
  {
   "cell_type": "code",
   "execution_count": 116,
   "metadata": {},
   "outputs": [],
   "source": [
    "clear_duplicat(df_1)\n",
    "clear_duplicat(df_2) \n",
    "clear_duplicat(df_3)"
   ]
  },
  {
   "cell_type": "code",
   "execution_count": 117,
   "metadata": {},
   "outputs": [
    {
     "name": "stdout",
     "output_type": "stream",
     "text": [
      "(99980, 5)\n",
      "(99992, 5)\n",
      "(99992, 5)\n"
     ]
    }
   ],
   "source": [
    "print(df_1.shape)\n",
    "print(df_2.shape) \n",
    "print(df_3.shape)"
   ]
  },
  {
   "cell_type": "markdown",
   "metadata": {},
   "source": [
    "Посмотрим как данные коррелируют между собой."
   ]
  },
  {
   "cell_type": "code",
   "execution_count": 118,
   "metadata": {},
   "outputs": [
    {
     "data": {
      "text/plain": [
       "<AxesSubplot:>"
      ]
     },
     "execution_count": 118,
     "metadata": {},
     "output_type": "execute_result"
    },
    {
     "data": {
      "image/png": "[encoded data removed]",
      "text/plain": [
       "<Figure size 432x288 with 2 Axes>"
      ]
     },
     "metadata": {
      "needs_background": "light"
     },
     "output_type": "display_data"
    }
   ],
   "source": [
    "sns.heatmap(df_1.corr(), annot=True)"
   ]
  },
  {
   "cell_type": "code",
   "execution_count": 119,
   "metadata": {},
   "outputs": [
    {
     "data": {
      "text/plain": [
       "<AxesSubplot:>"
      ]
     },
     "execution_count": 119,
     "metadata": {},
     "output_type": "execute_result"
    },
    {
     "data": {
      "image/png": "[encoded data removed]",
      "text/plain": [
       "<Figure size 432x288 with 2 Axes>"
      ]
     },
     "metadata": {
      "needs_background": "light"
     },
     "output_type": "display_data"
    }
   ],
   "source": [
    "sns.heatmap(df_2.corr(), annot=True)"
   ]
  },
  {
   "cell_type": "code",
   "execution_count": 120,
   "metadata": {},
   "outputs": [
    {
     "data": {
      "text/plain": [
       "<AxesSubplot:>"
      ]
     },
     "execution_count": 120,
     "metadata": {},
     "output_type": "execute_result"
    },
    {
     "data": {
      "image/png": "[encoded data removed]",
      "text/plain": [
       "<Figure size 432x288 with 2 Axes>"
      ]
     },
     "metadata": {
      "needs_background": "light"
     },
     "output_type": "display_data"
    }
   ],
   "source": [
    "sns.heatmap(df_3.corr(), annot=True)"
   ]
  },
  {
   "cell_type": "markdown",
   "metadata": {},
   "source": [
    "Из наблюдей можно сказать:\n",
    "\n",
    "    * 1й и 3й регион немного схожи в том как f2 коррелирует с product\n",
    "    * в целомрегионы обсалютно разные\n",
    "    * сильнее всего признак product коррелирует с признаком f2\n",
    "    * во 2ом регионее product и f2 сильно коррелируют"
   ]
  },
  {
   "cell_type": "markdown",
   "metadata": {},
   "source": [
    "**Вывод**\n",
    "\n",
    "* Изучили и общую информацию о данных\n",
    "* Выявили и удалили дуюликаты в id\n",
    "* Посморели как данные коррелируют между собой"
   ]
  },
  {
   "cell_type": "markdown",
   "metadata": {},
   "source": [
    "## Обучение и проверка модели"
   ]
  },
  {
   "cell_type": "code",
   "execution_count": 121,
   "metadata": {},
   "outputs": [],
   "source": [
    "def split(df):\n",
    "    target = df['product']\n",
    "    features = df.drop(['id', 'product'], axis=1)\n",
    "    features_train, features_valid, target_train, target_valid = train_test_split(features, target, test_size=.25, random_state=1)\n",
    "    model = LinearRegression()\n",
    "    model.fit(features_train, target_train)\n",
    "    return pd.Series(model.predict(features_valid)), target_valid"
   ]
  },
  {
   "cell_type": "code",
   "execution_count": 122,
   "metadata": {},
   "outputs": [],
   "source": [
    "predict_1, target_1 = split(df_1)\n",
    "predict_2, target_2 = split(df_2)\n",
    "predict_3, target_3 = split(df_3)"
   ]
  },
  {
   "cell_type": "code",
   "execution_count": 123,
   "metadata": {},
   "outputs": [],
   "source": [
    "def mean_product_rmse (targ, predictions):\n",
    "    mse = mean_squared_error(targ, predictions)\n",
    "    print('Средний запас сырья, тыс. баррелей:', predictions.mean())\n",
    "    print('RMSE:', mse ** 0.5)"
   ]
  },
  {
   "cell_type": "code",
   "execution_count": 124,
   "metadata": {},
   "outputs": [
    {
     "name": "stdout",
     "output_type": "stream",
     "text": [
      "1й регион\n",
      "\n",
      "Средний запас сырья, тыс. баррелей: 92.57117427399304\n",
      "RMSE: 37.65164533744765\n"
     ]
    }
   ],
   "source": [
    "print('1й регион')\n",
    "print()\n",
    "mean_product_rmse(target_1, predict_1)"
   ]
  },
  {
   "cell_type": "code",
   "execution_count": 125,
   "metadata": {},
   "outputs": [
    {
     "name": "stdout",
     "output_type": "stream",
     "text": [
      "2й регион\n",
      "\n",
      "Средний запас сырья, тыс. баррелей: 69.00877024308444\n",
      "RMSE: 0.887112373864716\n"
     ]
    }
   ],
   "source": [
    "print('2й регион')\n",
    "print()\n",
    "mean_product_rmse(target_2, predict_2)"
   ]
  },
  {
   "cell_type": "code",
   "execution_count": 126,
   "metadata": {},
   "outputs": [
    {
     "name": "stdout",
     "output_type": "stream",
     "text": [
      "3й регион\n",
      "\n",
      "Средний запас сырья, тыс. баррелей: 94.82610388045815\n",
      "RMSE: 39.857517273558194\n"
     ]
    }
   ],
   "source": [
    "print('3й регион')\n",
    "print()\n",
    "mean_product_rmse(target_3, predict_3)"
   ]
  },
  {
   "cell_type": "markdown",
   "metadata": {},
   "source": [
    "**Вывод:**\n",
    "\n",
    "* Разбили данные на валидационную и обущающую выборки\n",
    "* Обучили модель, сделали и сохранили предсказания для каждого региона.\n",
    "* Посчитали средний запас сырья для каждого региона по предсказаниям и RMSE, качественнее всего модель отработала для 2го региона, здесь метрика RMSE с самым маленьким значением - наверняка так влияет большой коэффициент корреляции между одним из признаков и целевым признаком\n",
    "* Средний предсказанный запас сырья больше всего у регионов 1 и 3, больше 90 тыс. бареллей. Здесь же значение RMSE получилось очень большим, почти половина этого числа"
   ]
  },
  {
   "cell_type": "markdown",
   "metadata": {},
   "source": [
    "## Подготовка к расчёту прибыли"
   ]
  },
  {
   "cell_type": "markdown",
   "metadata": {},
   "source": [
    "Из условия задачи возьмем, предоставленные значения"
   ]
  },
  {
   "cell_type": "code",
   "execution_count": 127,
   "metadata": {},
   "outputs": [],
   "source": [
    "# Колличество скважин\n",
    "borehole = 200 \n",
    "\n",
    "# Бюджет на разработку скважин в регионе\n",
    "budget = 10000000000\n",
    "\n",
    "# Доход с каждой единицы продукта\n",
    "revenue = 450000\n",
    "\n",
    "# Вероятность убытков меньше чем \n",
    "probability_of_losses = 0.025"
   ]
  },
  {
   "cell_type": "markdown",
   "metadata": {},
   "source": [
    "Посчитаем какой бюджет выделяеться на одну скважину в регионе."
   ]
  },
  {
   "cell_type": "code",
   "execution_count": 128,
   "metadata": {},
   "outputs": [
    {
     "data": {
      "text/plain": [
       "50000000.0"
      ]
     },
     "execution_count": 128,
     "metadata": {},
     "output_type": "execute_result"
    }
   ],
   "source": [
    "budget_for_one_borehole = budget/borehole\n",
    "budget_for_one_borehole"
   ]
  },
  {
   "cell_type": "markdown",
   "metadata": {},
   "source": [
    "Посмотрим на минимально среднеее количества продукта необходимое для того что бы проект был прибыльным."
   ]
  },
  {
   "cell_type": "code",
   "execution_count": 129,
   "metadata": {},
   "outputs": [
    {
     "data": {
      "text/plain": [
       "111.11111111111111"
      ]
     },
     "execution_count": 129,
     "metadata": {},
     "output_type": "execute_result"
    }
   ],
   "source": [
    "budget_for_one_borehole/revenue"
   ]
  },
  {
   "cell_type": "code",
   "execution_count": 130,
   "metadata": {},
   "outputs": [
    {
     "name": "stdout",
     "output_type": "stream",
     "text": [
      "Истинный средний запас сырья по регионам\n",
      "\n",
      "1й регион 92.32698630202161\n",
      "2й регион 69.0110496797081\n",
      "3й регион 94.77919925823326\n"
     ]
    }
   ],
   "source": [
    "print('Истинный средний запас сырья по регионам')\n",
    "print()\n",
    "print('1й регион', target_1.mean())\n",
    "print('2й регион', target_2.mean())\n",
    "print('3й регион', target_3.mean())"
   ]
  },
  {
   "cell_type": "markdown",
   "metadata": {},
   "source": [
    "Исходя из рассчетов, можно сделать вывод что не один регион не являтся прибыльным, но нам нужно только 500 скважин из которых выберется 200 лучших по прибольности."
   ]
  },
  {
   "cell_type": "code",
   "execution_count": 131,
   "metadata": {},
   "outputs": [],
   "source": [
    "def top_revenue(target, probabilites):\n",
    "    target = pd.Series(target).reset_index(drop=True)\n",
    "    probabilites = (pd.Series(probabilites).reset_index(drop=True)\n",
    "                    .sort_values(ascending=False))\n",
    "    select = target[probabilites.index][:borehole]\n",
    "    return((revenue*select.sum())- budget)/1000000000"
   ]
  },
  {
   "cell_type": "code",
   "execution_count": 132,
   "metadata": {},
   "outputs": [
    {
     "data": {
      "text/plain": [
       "3.184038917684292"
      ]
     },
     "execution_count": 132,
     "metadata": {},
     "output_type": "execute_result"
    }
   ],
   "source": [
    "top_revenue(target_1, predict_1)"
   ]
  },
  {
   "cell_type": "code",
   "execution_count": 133,
   "metadata": {},
   "outputs": [
    {
     "data": {
      "text/plain": [
       "2.4150866966815108"
      ]
     },
     "execution_count": 133,
     "metadata": {},
     "output_type": "execute_result"
    }
   ],
   "source": [
    "top_revenue(target_2, predict_2)"
   ]
  },
  {
   "cell_type": "code",
   "execution_count": 134,
   "metadata": {},
   "outputs": [
    {
     "data": {
      "text/plain": [
       "2.3892174412256564"
      ]
     },
     "execution_count": 134,
     "metadata": {},
     "output_type": "execute_result"
    }
   ],
   "source": [
    "top_revenue(target_3, predict_3)"
   ]
  },
  {
   "cell_type": "markdown",
   "metadata": {},
   "source": [
    "Из рассчетов видно что на данном этапе самым прибыльным получается 1й регион, доход более 3х млрд."
   ]
  },
  {
   "cell_type": "markdown",
   "metadata": {},
   "source": [
    "## Расчёт прибыли и рисков "
   ]
  },
  {
   "cell_type": "markdown",
   "metadata": {},
   "source": [
    "Посчитаем риски и прибыль для каждого региона."
   ]
  },
  {
   "cell_type": "code",
   "execution_count": 135,
   "metadata": {},
   "outputs": [],
   "source": [
    "state = np.random.RandomState(777)"
   ]
  },
  {
   "cell_type": "code",
   "execution_count": 136,
   "metadata": {},
   "outputs": [],
   "source": [
    "def bootstrap(target, predictions):\n",
    "    values = []\n",
    "    for i in range(1000):\n",
    "        target_subsample = target.reset_index(drop=True).sample(n=500, replace=True, random_state=state)\n",
    "        probs_subsample = predictions[target_subsample.index]\n",
    "        rev = top_revenue(target_subsample, probs_subsample)\n",
    "        values.append(rev)\n",
    "\n",
    "    values = pd.Series(values)\n",
    "    lower = values.quantile(probability_of_losses)\n",
    "    confidence_interval = st.t.interval(0.95, len(values)-1, values.mean(), values.sem())\n",
    "    lower = values.quantile(0.025)\n",
    "    upper = values.quantile(0.975)\n",
    "    mean = values.mean()\n",
    "\n",
    "    print(\"Средняя выручка:\", mean)\n",
    "    print(\"2.5%-квантиль:\", lower)\n",
    "    print(\"Доверительный интервал:\", confidence_interval)\n",
    "    print(\"Доверительный интервал по квантилям:\", (lower, upper))\n",
    "    print(\"Риски убытка:\", (values < 0).mean()*100)"
   ]
  },
  {
   "cell_type": "code",
   "execution_count": 137,
   "metadata": {
    "scrolled": true
   },
   "outputs": [
    {
     "name": "stdout",
     "output_type": "stream",
     "text": [
      "Средняя выручка: 0.4264146645290173\n",
      "2.5%-квантиль: -0.08362899806249957\n",
      "Доверительный интервал: (0.4100348134133467, 0.44279451564468786)\n",
      "Доверительный интервал по квантилям: (-0.08362899806249957, 0.95867923368282)\n",
      "Риски убытка: 6.1\n"
     ]
    }
   ],
   "source": [
    "bootstrap(target_1, predict_1)"
   ]
  },
  {
   "cell_type": "code",
   "execution_count": 138,
   "metadata": {},
   "outputs": [
    {
     "name": "stdout",
     "output_type": "stream",
     "text": [
      "Средняя выручка: 0.4730207464497119\n",
      "2.5%-квантиль: 0.05886060722922645\n",
      "Доверительный интервал: (0.460192507915547, 0.48584898498387685)\n",
      "Доверительный интервал по квантилям: (0.05886060722922645, 0.8779779849568642)\n",
      "Риски убытка: 1.0\n"
     ]
    }
   ],
   "source": [
    "bootstrap(target_2, predict_2)"
   ]
  },
  {
   "cell_type": "code",
   "execution_count": 139,
   "metadata": {},
   "outputs": [
    {
     "name": "stdout",
     "output_type": "stream",
     "text": [
      "Средняя выручка: 0.3940791082745665\n",
      "2.5%-квантиль: -0.14142354780635746\n",
      "Доверительный интервал: (0.3773341228659733, 0.4108240936831597)\n",
      "Доверительный интервал по квантилям: (-0.14142354780635746, 0.9216756400436849)\n",
      "Риски убытка: 7.3\n"
     ]
    }
   ],
   "source": [
    "bootstrap(target_3, predict_3)"
   ]
  },
  {
   "cell_type": "markdown",
   "metadata": {},
   "source": [
    "# Общий вывод:"
   ]
  },
  {
   "cell_type": "markdown",
   "metadata": {},
   "source": [
    "Исходя из расчетов можно сделать вывод, что самый прибыльный регион 2й. Его показатели средней выручки и доверительного интервала выше чем у 1го и 3го региона, а риск уже наоборот меньше. "
   ]
  }
 ],
 "metadata": {
  "ExecuteTimeLog": [
   {
    "duration": 1729,
    "start_time": "2023-06-03T11:38:53.641Z"
   },
   {
    "duration": 2304,
    "start_time": "2023-06-03T11:42:11.935Z"
   },
   {
    "duration": 18,
    "start_time": "2023-06-03T12:14:26.110Z"
   },
   {
    "duration": 205,
    "start_time": "2023-06-03T12:16:53.035Z"
   },
   {
    "duration": 61,
    "start_time": "2023-06-03T12:20:22.437Z"
   },
   {
    "duration": 127,
    "start_time": "2023-06-03T12:21:10.927Z"
   },
   {
    "duration": 40,
    "start_time": "2023-06-03T12:21:21.620Z"
   },
   {
    "duration": 58,
    "start_time": "2023-06-03T12:21:59.140Z"
   },
   {
    "duration": 657,
    "start_time": "2023-06-03T12:24:44.100Z"
   },
   {
    "duration": 331,
    "start_time": "2023-06-03T12:25:28.501Z"
   },
   {
    "duration": 11,
    "start_time": "2023-06-03T12:28:15.607Z"
   },
   {
    "duration": 47,
    "start_time": "2023-06-03T12:28:18.325Z"
   },
   {
    "duration": 5,
    "start_time": "2023-06-03T12:28:22.343Z"
   },
   {
    "duration": 5,
    "start_time": "2023-06-03T12:28:36.865Z"
   },
   {
    "duration": 334,
    "start_time": "2023-06-03T12:28:52.929Z"
   },
   {
    "duration": 335,
    "start_time": "2023-06-03T12:29:21.091Z"
   },
   {
    "duration": 334,
    "start_time": "2023-06-03T12:29:52.417Z"
   },
   {
    "duration": 375,
    "start_time": "2023-06-03T12:30:33.736Z"
   },
   {
    "duration": 344,
    "start_time": "2023-06-03T12:30:57.640Z"
   },
   {
    "duration": 424,
    "start_time": "2023-06-03T12:31:30.741Z"
   },
   {
    "duration": 428,
    "start_time": "2023-06-03T12:31:36.736Z"
   },
   {
    "duration": 15,
    "start_time": "2023-06-03T12:33:27.225Z"
   },
   {
    "duration": 22,
    "start_time": "2023-06-03T12:33:52.009Z"
   },
   {
    "duration": 15,
    "start_time": "2023-06-03T12:34:27.931Z"
   },
   {
    "duration": 15,
    "start_time": "2023-06-03T12:36:51.232Z"
   },
   {
    "duration": 10,
    "start_time": "2023-06-03T12:38:49.862Z"
   },
   {
    "duration": 16,
    "start_time": "2023-06-03T12:38:58.103Z"
   },
   {
    "duration": 411,
    "start_time": "2023-06-03T12:39:14.643Z"
   },
   {
    "duration": 334,
    "start_time": "2023-06-03T12:39:32.228Z"
   },
   {
    "duration": 301,
    "start_time": "2023-06-03T12:39:56.627Z"
   },
   {
    "duration": 320,
    "start_time": "2023-06-03T12:40:08.249Z"
   },
   {
    "duration": 3,
    "start_time": "2023-06-03T12:40:16.946Z"
   },
   {
    "duration": 2444,
    "start_time": "2023-06-03T12:40:16.951Z"
   },
   {
    "duration": 34,
    "start_time": "2023-06-03T12:40:19.397Z"
   },
   {
    "duration": 389,
    "start_time": "2023-06-03T12:40:19.433Z"
   },
   {
    "duration": 503,
    "start_time": "2023-06-03T12:40:19.824Z"
   },
   {
    "duration": 406,
    "start_time": "2023-06-03T12:40:20.330Z"
   },
   {
    "duration": 17,
    "start_time": "2023-06-03T12:40:20.741Z"
   },
   {
    "duration": 23,
    "start_time": "2023-06-03T12:40:20.760Z"
   },
   {
    "duration": 48,
    "start_time": "2023-06-03T12:40:20.787Z"
   },
   {
    "duration": 428,
    "start_time": "2023-06-03T12:40:20.837Z"
   },
   {
    "duration": 4,
    "start_time": "2023-06-03T12:41:05.441Z"
   },
   {
    "duration": 543,
    "start_time": "2023-06-03T12:41:05.447Z"
   },
   {
    "duration": 31,
    "start_time": "2023-06-03T12:41:05.992Z"
   },
   {
    "duration": 460,
    "start_time": "2023-06-03T12:41:06.039Z"
   },
   {
    "duration": 368,
    "start_time": "2023-06-03T12:41:06.501Z"
   },
   {
    "duration": 397,
    "start_time": "2023-06-03T12:41:06.870Z"
   },
   {
    "duration": 23,
    "start_time": "2023-06-03T12:41:07.269Z"
   },
   {
    "duration": 49,
    "start_time": "2023-06-03T12:41:07.294Z"
   },
   {
    "duration": 13,
    "start_time": "2023-06-03T12:41:07.347Z"
   },
   {
    "duration": 5,
    "start_time": "2023-06-03T12:44:33.495Z"
   },
   {
    "duration": 3,
    "start_time": "2023-06-03T12:46:02.843Z"
   },
   {
    "duration": 458,
    "start_time": "2023-06-03T12:46:59.171Z"
   },
   {
    "duration": 8,
    "start_time": "2023-06-03T12:47:00.730Z"
   },
   {
    "duration": 390,
    "start_time": "2023-06-03T12:47:46.396Z"
   },
   {
    "duration": 371,
    "start_time": "2023-06-03T12:48:09.268Z"
   },
   {
    "duration": 363,
    "start_time": "2023-06-03T12:48:46.738Z"
   },
   {
    "duration": 4,
    "start_time": "2023-06-03T12:55:35.743Z"
   },
   {
    "duration": 448,
    "start_time": "2023-06-03T12:55:56.260Z"
   },
   {
    "duration": 5,
    "start_time": "2023-06-03T12:56:10.812Z"
   },
   {
    "duration": 6,
    "start_time": "2023-06-03T12:56:46.267Z"
   },
   {
    "duration": 4,
    "start_time": "2023-06-03T12:57:01.266Z"
   },
   {
    "duration": 7,
    "start_time": "2023-06-03T12:57:31.702Z"
   },
   {
    "duration": 3,
    "start_time": "2023-06-03T12:59:18.138Z"
   },
   {
    "duration": 119,
    "start_time": "2023-06-03T12:59:37.734Z"
   },
   {
    "duration": 4,
    "start_time": "2023-06-03T13:00:15.460Z"
   },
   {
    "duration": 4,
    "start_time": "2023-06-03T13:00:37.138Z"
   },
   {
    "duration": 6,
    "start_time": "2023-06-03T13:00:47.538Z"
   },
   {
    "duration": 4,
    "start_time": "2023-06-03T13:02:34.697Z"
   },
   {
    "duration": 11,
    "start_time": "2023-06-03T13:02:57.193Z"
   },
   {
    "duration": 5,
    "start_time": "2023-06-03T13:03:09.497Z"
   },
   {
    "duration": 11,
    "start_time": "2023-06-03T13:03:10.610Z"
   },
   {
    "duration": 4,
    "start_time": "2023-06-03T13:03:48.851Z"
   },
   {
    "duration": 12,
    "start_time": "2023-06-03T13:03:59.893Z"
   },
   {
    "duration": 12,
    "start_time": "2023-06-03T13:04:11.504Z"
   },
   {
    "duration": 19,
    "start_time": "2023-06-03T13:04:52.132Z"
   },
   {
    "duration": 103,
    "start_time": "2023-06-03T13:07:38.940Z"
   },
   {
    "duration": 4,
    "start_time": "2023-06-03T13:08:03.840Z"
   },
   {
    "duration": 9,
    "start_time": "2023-06-03T13:08:44.572Z"
   },
   {
    "duration": 1371,
    "start_time": "2023-06-03T13:08:57.213Z"
   },
   {
    "duration": 1300,
    "start_time": "2023-06-03T13:09:09.622Z"
   },
   {
    "duration": 1470,
    "start_time": "2023-06-03T13:09:15.947Z"
   },
   {
    "duration": 1596,
    "start_time": "2023-06-04T08:31:08.506Z"
   },
   {
    "duration": 766,
    "start_time": "2023-06-04T08:31:10.104Z"
   },
   {
    "duration": 15,
    "start_time": "2023-06-04T08:31:10.871Z"
   },
   {
    "duration": 224,
    "start_time": "2023-06-04T08:31:10.887Z"
   },
   {
    "duration": 215,
    "start_time": "2023-06-04T08:31:11.113Z"
   },
   {
    "duration": 256,
    "start_time": "2023-06-04T08:31:11.329Z"
   },
   {
    "duration": 18,
    "start_time": "2023-06-04T08:31:11.587Z"
   },
   {
    "duration": 20,
    "start_time": "2023-06-04T08:31:11.606Z"
   },
   {
    "duration": 12,
    "start_time": "2023-06-04T08:31:11.628Z"
   },
   {
    "duration": 6,
    "start_time": "2023-06-04T08:31:11.642Z"
   },
   {
    "duration": 212,
    "start_time": "2023-06-04T08:31:11.649Z"
   },
   {
    "duration": 4,
    "start_time": "2023-06-04T08:31:11.862Z"
   },
   {
    "duration": 345,
    "start_time": "2023-06-04T08:31:11.868Z"
   },
   {
    "duration": 275,
    "start_time": "2023-06-04T08:31:12.215Z"
   },
   {
    "duration": 268,
    "start_time": "2023-06-04T08:31:12.491Z"
   },
   {
    "duration": 3,
    "start_time": "2023-06-04T08:31:12.761Z"
   },
   {
    "duration": 424,
    "start_time": "2023-06-04T08:31:12.766Z"
   },
   {
    "duration": 3,
    "start_time": "2023-06-04T08:31:13.192Z"
   },
   {
    "duration": 189,
    "start_time": "2023-06-04T08:31:13.196Z"
   },
   {
    "duration": 5,
    "start_time": "2023-06-04T08:31:13.386Z"
   },
   {
    "duration": 7,
    "start_time": "2023-06-04T08:31:13.393Z"
   },
   {
    "duration": 15,
    "start_time": "2023-06-04T08:31:13.401Z"
   },
   {
    "duration": 9,
    "start_time": "2023-06-04T08:31:13.417Z"
   },
   {
    "duration": 7,
    "start_time": "2023-06-04T08:31:13.427Z"
   },
   {
    "duration": 10,
    "start_time": "2023-06-04T08:31:13.435Z"
   },
   {
    "duration": 3,
    "start_time": "2023-06-04T08:31:13.447Z"
   },
   {
    "duration": 12,
    "start_time": "2023-06-04T08:31:13.451Z"
   },
   {
    "duration": 22,
    "start_time": "2023-06-04T08:31:13.464Z"
   },
   {
    "duration": 8,
    "start_time": "2023-06-04T08:31:13.487Z"
   },
   {
    "duration": 3,
    "start_time": "2023-06-04T08:31:13.496Z"
   },
   {
    "duration": 9,
    "start_time": "2023-06-04T08:31:13.500Z"
   },
   {
    "duration": 983,
    "start_time": "2023-06-04T08:31:13.510Z"
   },
   {
    "duration": 935,
    "start_time": "2023-06-04T08:31:14.494Z"
   },
   {
    "duration": 939,
    "start_time": "2023-06-04T08:31:15.431Z"
   },
   {
    "duration": 5,
    "start_time": "2023-06-04T08:34:06.639Z"
   },
   {
    "duration": 4,
    "start_time": "2023-06-04T08:34:21.672Z"
   },
   {
    "duration": 1055,
    "start_time": "2023-06-04T08:34:27.393Z"
   },
   {
    "duration": 9,
    "start_time": "2023-06-04T08:34:46.091Z"
   },
   {
    "duration": 1038,
    "start_time": "2023-06-04T08:34:47.914Z"
   },
   {
    "duration": 1026,
    "start_time": "2023-06-04T08:34:48.954Z"
   },
   {
    "duration": 936,
    "start_time": "2023-06-04T08:34:52.823Z"
   },
   {
    "duration": 4,
    "start_time": "2023-06-04T08:40:35.918Z"
   },
   {
    "duration": 370,
    "start_time": "2023-06-04T08:40:35.924Z"
   },
   {
    "duration": 12,
    "start_time": "2023-06-04T08:40:36.296Z"
   },
   {
    "duration": 238,
    "start_time": "2023-06-04T08:40:36.309Z"
   },
   {
    "duration": 238,
    "start_time": "2023-06-04T08:40:36.549Z"
   },
   {
    "duration": 222,
    "start_time": "2023-06-04T08:40:36.788Z"
   },
   {
    "duration": 15,
    "start_time": "2023-06-04T08:40:37.012Z"
   },
   {
    "duration": 52,
    "start_time": "2023-06-04T08:40:37.029Z"
   },
   {
    "duration": 27,
    "start_time": "2023-06-04T08:40:37.082Z"
   },
   {
    "duration": 11,
    "start_time": "2023-06-04T08:40:37.111Z"
   },
   {
    "duration": 188,
    "start_time": "2023-06-04T08:40:37.125Z"
   },
   {
    "duration": 3,
    "start_time": "2023-06-04T08:40:37.314Z"
   },
   {
    "duration": 299,
    "start_time": "2023-06-04T08:40:37.319Z"
   },
   {
    "duration": 349,
    "start_time": "2023-06-04T08:40:37.619Z"
   },
   {
    "duration": 282,
    "start_time": "2023-06-04T08:40:37.971Z"
   },
   {
    "duration": 2,
    "start_time": "2023-06-04T08:40:38.255Z"
   },
   {
    "duration": 228,
    "start_time": "2023-06-04T08:40:38.259Z"
   },
   {
    "duration": 3,
    "start_time": "2023-06-04T08:40:38.489Z"
   },
   {
    "duration": 192,
    "start_time": "2023-06-04T08:40:38.494Z"
   },
   {
    "duration": 5,
    "start_time": "2023-06-04T08:40:38.688Z"
   },
   {
    "duration": 16,
    "start_time": "2023-06-04T08:40:38.694Z"
   },
   {
    "duration": 11,
    "start_time": "2023-06-04T08:40:38.711Z"
   },
   {
    "duration": 15,
    "start_time": "2023-06-04T08:40:38.724Z"
   },
   {
    "duration": 15,
    "start_time": "2023-06-04T08:40:38.740Z"
   },
   {
    "duration": 13,
    "start_time": "2023-06-04T08:40:38.756Z"
   },
   {
    "duration": 24,
    "start_time": "2023-06-04T08:40:38.771Z"
   },
   {
    "duration": 40,
    "start_time": "2023-06-04T08:40:38.797Z"
   },
   {
    "duration": 16,
    "start_time": "2023-06-04T08:40:38.839Z"
   },
   {
    "duration": 16,
    "start_time": "2023-06-04T08:40:38.858Z"
   },
   {
    "duration": 16,
    "start_time": "2023-06-04T08:40:38.876Z"
   },
   {
    "duration": 11,
    "start_time": "2023-06-04T08:40:38.893Z"
   },
   {
    "duration": 983,
    "start_time": "2023-06-04T08:40:38.905Z"
   },
   {
    "duration": 939,
    "start_time": "2023-06-04T08:40:39.889Z"
   },
   {
    "duration": 935,
    "start_time": "2023-06-04T08:40:40.830Z"
   },
   {
    "duration": 6,
    "start_time": "2023-06-04T08:44:43.991Z"
   },
   {
    "duration": 1043,
    "start_time": "2023-06-04T08:44:45.029Z"
   },
   {
    "duration": 992,
    "start_time": "2023-06-04T08:44:54.524Z"
   },
   {
    "duration": 1008,
    "start_time": "2023-06-04T08:44:55.795Z"
   },
   {
    "duration": 5,
    "start_time": "2023-06-04T08:46:06.131Z"
   },
   {
    "duration": 953,
    "start_time": "2023-06-04T08:46:07.027Z"
   },
   {
    "duration": 954,
    "start_time": "2023-06-04T08:46:07.982Z"
   },
   {
    "duration": 1008,
    "start_time": "2023-06-04T08:46:08.937Z"
   },
   {
    "duration": 5,
    "start_time": "2023-06-04T08:47:23.524Z"
   },
   {
    "duration": 958,
    "start_time": "2023-06-04T08:47:24.570Z"
   },
   {
    "duration": 952,
    "start_time": "2023-06-04T08:47:27.005Z"
   },
   {
    "duration": 954,
    "start_time": "2023-06-04T08:47:29.210Z"
   },
   {
    "duration": 5,
    "start_time": "2023-06-04T08:47:51.786Z"
   },
   {
    "duration": 948,
    "start_time": "2023-06-04T08:47:53.067Z"
   },
   {
    "duration": 984,
    "start_time": "2023-06-04T08:48:00.231Z"
   },
   {
    "duration": 4,
    "start_time": "2023-06-04T08:48:10.063Z"
   },
   {
    "duration": 997,
    "start_time": "2023-06-04T08:48:13.852Z"
   },
   {
    "duration": 1004,
    "start_time": "2023-06-04T08:48:18.678Z"
   },
   {
    "duration": 996,
    "start_time": "2023-06-04T08:48:22.389Z"
   },
   {
    "duration": 5,
    "start_time": "2023-06-04T08:48:27.640Z"
   },
   {
    "duration": 989,
    "start_time": "2023-06-04T08:48:31.481Z"
   },
   {
    "duration": 977,
    "start_time": "2023-06-04T08:48:33.247Z"
   },
   {
    "duration": 1008,
    "start_time": "2023-06-04T08:48:35.244Z"
   },
   {
    "duration": 62,
    "start_time": "2023-06-04T08:49:43.838Z"
   },
   {
    "duration": 46,
    "start_time": "2023-06-04T08:49:55.852Z"
   },
   {
    "duration": 6,
    "start_time": "2023-06-04T08:50:05.502Z"
   },
   {
    "duration": 928,
    "start_time": "2023-06-04T08:50:08.417Z"
   },
   {
    "duration": 941,
    "start_time": "2023-06-04T08:50:10.099Z"
   },
   {
    "duration": 962,
    "start_time": "2023-06-04T08:50:12.011Z"
   },
   {
    "duration": 34,
    "start_time": "2023-06-04T08:51:05.652Z"
   },
   {
    "duration": 3,
    "start_time": "2023-06-04T08:56:26.227Z"
   },
   {
    "duration": 320,
    "start_time": "2023-06-04T08:56:26.231Z"
   },
   {
    "duration": 12,
    "start_time": "2023-06-04T08:56:26.553Z"
   },
   {
    "duration": 225,
    "start_time": "2023-06-04T08:56:26.567Z"
   },
   {
    "duration": 224,
    "start_time": "2023-06-04T08:56:26.793Z"
   },
   {
    "duration": 234,
    "start_time": "2023-06-04T08:56:27.018Z"
   },
   {
    "duration": 12,
    "start_time": "2023-06-04T08:56:27.254Z"
   },
   {
    "duration": 16,
    "start_time": "2023-06-04T08:56:27.285Z"
   },
   {
    "duration": 23,
    "start_time": "2023-06-04T08:56:27.303Z"
   },
   {
    "duration": 7,
    "start_time": "2023-06-04T08:56:27.328Z"
   },
   {
    "duration": 214,
    "start_time": "2023-06-04T08:56:27.339Z"
   },
   {
    "duration": 3,
    "start_time": "2023-06-04T08:56:27.555Z"
   },
   {
    "duration": 306,
    "start_time": "2023-06-04T08:56:27.559Z"
   },
   {
    "duration": 327,
    "start_time": "2023-06-04T08:56:27.868Z"
   },
   {
    "duration": 278,
    "start_time": "2023-06-04T08:56:28.196Z"
   },
   {
    "duration": 10,
    "start_time": "2023-06-04T08:56:28.475Z"
   },
   {
    "duration": 405,
    "start_time": "2023-06-04T08:56:28.486Z"
   },
   {
    "duration": 5,
    "start_time": "2023-06-04T08:56:28.893Z"
   },
   {
    "duration": 99,
    "start_time": "2023-06-04T08:56:28.899Z"
   },
   {
    "duration": 87,
    "start_time": "2023-06-04T08:56:29.000Z"
   },
   {
    "duration": 25,
    "start_time": "2023-06-04T08:56:29.089Z"
   },
   {
    "duration": 5,
    "start_time": "2023-06-04T08:56:29.115Z"
   },
   {
    "duration": 11,
    "start_time": "2023-06-04T08:56:29.121Z"
   },
   {
    "duration": 5,
    "start_time": "2023-06-04T08:56:29.134Z"
   },
   {
    "duration": 16,
    "start_time": "2023-06-04T08:56:29.141Z"
   },
   {
    "duration": 5,
    "start_time": "2023-06-04T08:56:29.159Z"
   },
   {
    "duration": 22,
    "start_time": "2023-06-04T08:56:29.166Z"
   },
   {
    "duration": 10,
    "start_time": "2023-06-04T08:56:29.190Z"
   },
   {
    "duration": 9,
    "start_time": "2023-06-04T08:56:29.204Z"
   },
   {
    "duration": 6,
    "start_time": "2023-06-04T08:56:29.215Z"
   },
   {
    "duration": 7,
    "start_time": "2023-06-04T08:56:29.223Z"
   },
   {
    "duration": 996,
    "start_time": "2023-06-04T08:56:29.231Z"
   },
   {
    "duration": 985,
    "start_time": "2023-06-04T08:56:30.228Z"
   },
   {
    "duration": 1089,
    "start_time": "2023-06-04T08:56:31.215Z"
   }
  ],
  "kernelspec": {
   "display_name": "Python 3 (ipykernel)",
   "language": "python",
   "name": "python3"
  },
  "language_info": {
   "codemirror_mode": {
    "name": "ipython",
    "version": 3
   },
   "file_extension": ".py",
   "mimetype": "text/x-python",
   "name": "python",
   "nbconvert_exporter": "python",
   "pygments_lexer": "ipython3",
   "version": "3.9.13"
  },
  "toc": {
   "base_numbering": 1,
   "nav_menu": {},
   "number_sections": true,
   "sideBar": true,
   "skip_h1_title": true,
   "title_cell": "Table of Contents",
   "title_sidebar": "Contents",
   "toc_cell": false,
   "toc_position": {
    "height": "calc(100% - 180px)",
    "left": "10px",
    "top": "150px",
    "width": "342.431px"
   },
   "toc_section_display": true,
   "toc_window_display": true
  }
 },
 "nbformat": 4,
 "nbformat_minor": 2
}
