{
 "cells": [
  {
   "cell_type": "markdown",
   "metadata": {
    "id": "6TQc-4HUUbz5"
   },
   "source": [
    "# Определение стоимости автомобилей"
   ]
  },
  {
   "cell_type": "markdown",
   "metadata": {
    "id": "d4kFHQwOUbz6"
   },
   "source": [
    "Сервис по продаже автомобилей с пробегом «Не бит, не крашен» разрабатывает приложение для привлечения новых клиентов. В нём можно быстро узнать рыночную стоимость своего автомобиля. В вашем распоряжении исторические данные: технические характеристики, комплектации и цены автомобилей. Вам нужно построить модель для определения стоимости.\n",
    "\n",
    "Заказчику важны:\n",
    "\n",
    "- качество предсказания;\n",
    "- скорость предсказания;\n",
    "- время обучения."
   ]
  },
  {
   "cell_type": "markdown",
   "metadata": {
    "id": "zvVMTEnYUbz7"
   },
   "source": [
    "**Признаки**\n",
    "\n",
    "- DateCrawled — дата скачивания анкеты из базы\n",
    "- VehicleType — тип автомобильного кузова\n",
    "- RegistrationYear — год регистрации автомобиля\n",
    "- Gearbox — тип коробки передач\n",
    "- Power — мощность (л. с.)\n",
    "- Model — модель автомобиля\n",
    "- Kilometer — пробег (км)\n",
    "- RegistrationMonth — месяц регистрации автомобиля\n",
    "- FuelType — тип топлива\n",
    "- Brand — марка автомобиля\n",
    "- Repaired — была машина в ремонте или нет\n",
    "- DateCreated — дата создания анкеты\n",
    "- NumberOfPictures — количество фотографий автомобиля\n",
    "- PostalCode — почтовый индекс владельца анкеты (пользователя)\n",
    "- LastSeen — дата последней активности пользователя\n",
    "\n",
    "**Целевой признак**\n",
    "\n",
    "- Price — цена (евро)"
   ]
  },
  {
   "cell_type": "markdown",
   "metadata": {
    "id": "S3B5gAN6Ubz9"
   },
   "source": [
    "## Подготовка данных"
   ]
  },
  {
   "cell_type": "code",
   "execution_count": 1,
   "metadata": {
    "colab": {
     "base_uri": "https://localhost:8080/"
    },
    "id": "4fsI6zgjUbz-",
    "outputId": "522fc5df-52e1-42d4-d09c-b5b8d4764f61"
   },
   "outputs": [
    {
     "name": "stdout",
     "output_type": "stream",
     "text": [
      "Requirement already satisfied: phik in /opt/conda/lib/python3.9/site-packages (0.12.3)\n",
      "Requirement already satisfied: numpy>=1.18.0 in /opt/conda/lib/python3.9/site-packages (from phik) (1.21.1)\n",
      "Requirement already satisfied: pandas>=0.25.1 in /opt/conda/lib/python3.9/site-packages (from phik) (1.2.4)\n",
      "Requirement already satisfied: matplotlib>=2.2.3 in /opt/conda/lib/python3.9/site-packages (from phik) (3.3.4)\n",
      "Requirement already satisfied: joblib>=0.14.1 in /opt/conda/lib/python3.9/site-packages (from phik) (1.3.2)\n",
      "Requirement already satisfied: scipy>=1.5.2 in /opt/conda/lib/python3.9/site-packages (from phik) (1.9.1)\n",
      "Requirement already satisfied: python-dateutil>=2.1 in /opt/conda/lib/python3.9/site-packages (from matplotlib>=2.2.3->phik) (2.8.1)\n",
      "Requirement already satisfied: pillow>=6.2.0 in /opt/conda/lib/python3.9/site-packages (from matplotlib>=2.2.3->phik) (8.4.0)\n",
      "Requirement already satisfied: pyparsing!=2.0.4,!=2.1.2,!=2.1.6,>=2.0.3 in /opt/conda/lib/python3.9/site-packages (from matplotlib>=2.2.3->phik) (2.4.7)\n",
      "Requirement already satisfied: kiwisolver>=1.0.1 in /opt/conda/lib/python3.9/site-packages (from matplotlib>=2.2.3->phik) (1.4.4)\n",
      "Requirement already satisfied: cycler>=0.10 in /opt/conda/lib/python3.9/site-packages (from matplotlib>=2.2.3->phik) (0.11.0)\n",
      "Requirement already satisfied: pytz>=2017.3 in /opt/conda/lib/python3.9/site-packages (from pandas>=0.25.1->phik) (2021.1)\n",
      "Requirement already satisfied: six>=1.5 in /opt/conda/lib/python3.9/site-packages (from python-dateutil>=2.1->matplotlib>=2.2.3->phik) (1.16.0)\n",
      "Note: you may need to restart the kernel to use updated packages.\n"
     ]
    }
   ],
   "source": [
    "pip install phik"
   ]
  },
  {
   "cell_type": "code",
   "execution_count": 2,
   "metadata": {
    "colab": {
     "base_uri": "https://localhost:8080/"
    },
    "id": "0OMjW0YFUgxD",
    "outputId": "49f1b56a-c55f-4ac5-b500-fb68a0615de7"
   },
   "outputs": [
    {
     "name": "stdout",
     "output_type": "stream",
     "text": [
      "Requirement already satisfied: catboost in /opt/conda/lib/python3.9/site-packages (1.0.3)\n",
      "Requirement already satisfied: graphviz in /opt/conda/lib/python3.9/site-packages (from catboost) (0.20.1)\n",
      "Requirement already satisfied: pandas>=0.24.0 in /opt/conda/lib/python3.9/site-packages (from catboost) (1.2.4)\n",
      "Requirement already satisfied: six in /opt/conda/lib/python3.9/site-packages (from catboost) (1.16.0)\n",
      "Requirement already satisfied: matplotlib in /opt/conda/lib/python3.9/site-packages (from catboost) (3.3.4)\n",
      "Requirement already satisfied: scipy in /opt/conda/lib/python3.9/site-packages (from catboost) (1.9.1)\n",
      "Requirement already satisfied: plotly in /opt/conda/lib/python3.9/site-packages (from catboost) (5.4.0)\n",
      "Requirement already satisfied: numpy>=1.16.0 in /opt/conda/lib/python3.9/site-packages (from catboost) (1.21.1)\n",
      "Requirement already satisfied: python-dateutil>=2.7.3 in /opt/conda/lib/python3.9/site-packages (from pandas>=0.24.0->catboost) (2.8.1)\n",
      "Requirement already satisfied: pytz>=2017.3 in /opt/conda/lib/python3.9/site-packages (from pandas>=0.24.0->catboost) (2021.1)\n",
      "Requirement already satisfied: pillow>=6.2.0 in /opt/conda/lib/python3.9/site-packages (from matplotlib->catboost) (8.4.0)\n",
      "Requirement already satisfied: cycler>=0.10 in /opt/conda/lib/python3.9/site-packages (from matplotlib->catboost) (0.11.0)\n",
      "Requirement already satisfied: kiwisolver>=1.0.1 in /opt/conda/lib/python3.9/site-packages (from matplotlib->catboost) (1.4.4)\n",
      "Requirement already satisfied: pyparsing!=2.0.4,!=2.1.2,!=2.1.6,>=2.0.3 in /opt/conda/lib/python3.9/site-packages (from matplotlib->catboost) (2.4.7)\n",
      "Requirement already satisfied: tenacity>=6.2.0 in /opt/conda/lib/python3.9/site-packages (from plotly->catboost) (8.0.1)\n",
      "Note: you may need to restart the kernel to use updated packages.\n"
     ]
    }
   ],
   "source": [
    "pip install catboost"
   ]
  },
  {
   "cell_type": "code",
   "execution_count": 3,
   "metadata": {
    "colab": {
     "base_uri": "https://localhost:8080/"
    },
    "id": "t5l1tiGAe7o1",
    "outputId": "5a39f5ff-a2f9-4b62-a75b-5327e1c0f64e"
   },
   "outputs": [
    {
     "name": "stdout",
     "output_type": "stream",
     "text": [
      "Requirement already satisfied: scikit-learn in /opt/conda/lib/python3.9/site-packages (1.3.1)\n",
      "Requirement already satisfied: numpy<2.0,>=1.17.3 in /opt/conda/lib/python3.9/site-packages (from scikit-learn) (1.21.1)\n",
      "Requirement already satisfied: joblib>=1.1.1 in /opt/conda/lib/python3.9/site-packages (from scikit-learn) (1.3.2)\n",
      "Requirement already satisfied: scipy>=1.5.0 in /opt/conda/lib/python3.9/site-packages (from scikit-learn) (1.9.1)\n",
      "Requirement already satisfied: threadpoolctl>=2.0.0 in /opt/conda/lib/python3.9/site-packages (from scikit-learn) (3.1.0)\n",
      "Note: you may need to restart the kernel to use updated packages.\n"
     ]
    }
   ],
   "source": [
    "pip install -U scikit-learn"
   ]
  },
  {
   "cell_type": "code",
   "execution_count": 4,
   "metadata": {
    "colab": {
     "base_uri": "https://localhost:8080/"
    },
    "id": "UiBt3YKze7o2",
    "outputId": "a154d20c-7550-45cc-e9a5-991f8f664959"
   },
   "outputs": [
    {
     "name": "stdout",
     "output_type": "stream",
     "text": [
      "Requirement already satisfied: lightgbm in /opt/conda/lib/python3.9/site-packages (3.3.1)\n",
      "Requirement already satisfied: scikit-learn!=0.22.0 in /opt/conda/lib/python3.9/site-packages (from lightgbm) (1.3.1)\n",
      "Requirement already satisfied: wheel in /opt/conda/lib/python3.9/site-packages (from lightgbm) (0.36.2)\n",
      "Requirement already satisfied: scipy in /opt/conda/lib/python3.9/site-packages (from lightgbm) (1.9.1)\n",
      "Requirement already satisfied: numpy in /opt/conda/lib/python3.9/site-packages (from lightgbm) (1.21.1)\n",
      "Requirement already satisfied: joblib>=1.1.1 in /opt/conda/lib/python3.9/site-packages (from scikit-learn!=0.22.0->lightgbm) (1.3.2)\n",
      "Requirement already satisfied: threadpoolctl>=2.0.0 in /opt/conda/lib/python3.9/site-packages (from scikit-learn!=0.22.0->lightgbm) (3.1.0)\n",
      "Note: you may need to restart the kernel to use updated packages.\n"
     ]
    }
   ],
   "source": [
    "pip install lightgbm"
   ]
  },
  {
   "cell_type": "code",
   "execution_count": 5,
   "metadata": {
    "id": "x9OEvaLtUb0D"
   },
   "outputs": [],
   "source": [
    "import pandas as pd\n",
    "pd.options.mode.chained_assignment = None\n",
    "import phik\n",
    "import matplotlib.pyplot as plt\n",
    "plt.rcParams[\"figure.figsize\"] = (10,5)\n",
    "import numpy as np\n",
    "from sklearn.metrics import mean_squared_error\n",
    "from sklearn.preprocessing import StandardScaler, OrdinalEncoder\n",
    "from sklearn.model_selection import train_test_split, cross_val_score\n",
    "from sklearn.linear_model import LinearRegression\n",
    "from catboost import CatBoostRegressor\n",
    "from sklearn import preprocessing\n",
    "from sklearn.model_selection import RandomizedSearchCV\n",
    "import seaborn as sns\n",
    "import time\n",
    "from sklearn.preprocessing import LabelEncoder\n",
    "from sklearn.compose import make_column_transformer\n",
    "from sklearn.preprocessing import OneHotEncoder, StandardScaler\n",
    "from sklearn.compose import ColumnTransformer\n",
    "from sklearn.pipeline import Pipeline\n",
    "from sklearn.impute import SimpleImputer\n",
    "from sklearn.model_selection import GridSearchCV, RandomizedSearchCV\n",
    "from sklearn.dummy import DummyClassifier\n",
    "from sklearn.neural_network import MLPRegressor\n",
    "from sklearn.dummy import DummyRegressor\n",
    "import os\n",
    "import lightgbm as lgb\n",
    "from lightgbm import LGBMRegressor"
   ]
  },
  {
   "cell_type": "code",
   "execution_count": 6,
   "metadata": {
    "id": "T8J7mNozX9i0"
   },
   "outputs": [],
   "source": [
    "pth1 = 'autos.csv'\n",
    "pth2 = '/datasets/autos.csv'\n",
    "\n",
    "if os.path.exists(pth1):\n",
    "    df = pd.read_csv(pth1)\n",
    "elif os.path.exists(pth2):\n",
    "    df = pd.read_csv(pth2)\n",
    "else:\n",
    "    print('Something is wrong')"
   ]
  },
  {
   "cell_type": "code",
   "execution_count": 7,
   "metadata": {
    "id": "A7HB-7Vpc3OI"
   },
   "outputs": [],
   "source": [
    "df_full = df.copy()"
   ]
  },
  {
   "cell_type": "code",
   "execution_count": 8,
   "metadata": {
    "colab": {
     "base_uri": "https://localhost:8080/",
     "height": 293
    },
    "id": "pztaO23KUb0H",
    "outputId": "87dea24a-60d5-4469-b8cd-fd0a85a1a03c"
   },
   "outputs": [
    {
     "data": {
      "text/html": [
       "<div>\n",
       "<style scoped>\n",
       "    .dataframe tbody tr th:only-of-type {\n",
       "        vertical-align: middle;\n",
       "    }\n",
       "\n",
       "    .dataframe tbody tr th {\n",
       "        vertical-align: top;\n",
       "    }\n",
       "\n",
       "    .dataframe thead th {\n",
       "        text-align: right;\n",
       "    }\n",
       "</style>\n",
       "<table border=\"1\" class=\"dataframe\">\n",
       "  <thead>\n",
       "    <tr style=\"text-align: right;\">\n",
       "      <th></th>\n",
       "      <th>DateCrawled</th>\n",
       "      <th>Price</th>\n",
       "      <th>VehicleType</th>\n",
       "      <th>RegistrationYear</th>\n",
       "      <th>Gearbox</th>\n",
       "      <th>Power</th>\n",
       "      <th>Model</th>\n",
       "      <th>Kilometer</th>\n",
       "      <th>RegistrationMonth</th>\n",
       "      <th>FuelType</th>\n",
       "      <th>Brand</th>\n",
       "      <th>Repaired</th>\n",
       "      <th>DateCreated</th>\n",
       "      <th>NumberOfPictures</th>\n",
       "      <th>PostalCode</th>\n",
       "      <th>LastSeen</th>\n",
       "    </tr>\n",
       "  </thead>\n",
       "  <tbody>\n",
       "    <tr>\n",
       "      <th>0</th>\n",
       "      <td>2016-03-24 11:52:17</td>\n",
       "      <td>480</td>\n",
       "      <td>NaN</td>\n",
       "      <td>1993</td>\n",
       "      <td>manual</td>\n",
       "      <td>0</td>\n",
       "      <td>golf</td>\n",
       "      <td>150000</td>\n",
       "      <td>0</td>\n",
       "      <td>petrol</td>\n",
       "      <td>volkswagen</td>\n",
       "      <td>NaN</td>\n",
       "      <td>2016-03-24 00:00:00</td>\n",
       "      <td>0</td>\n",
       "      <td>70435</td>\n",
       "      <td>2016-04-07 03:16:57</td>\n",
       "    </tr>\n",
       "    <tr>\n",
       "      <th>1</th>\n",
       "      <td>2016-03-24 10:58:45</td>\n",
       "      <td>18300</td>\n",
       "      <td>coupe</td>\n",
       "      <td>2011</td>\n",
       "      <td>manual</td>\n",
       "      <td>190</td>\n",
       "      <td>NaN</td>\n",
       "      <td>125000</td>\n",
       "      <td>5</td>\n",
       "      <td>gasoline</td>\n",
       "      <td>audi</td>\n",
       "      <td>yes</td>\n",
       "      <td>2016-03-24 00:00:00</td>\n",
       "      <td>0</td>\n",
       "      <td>66954</td>\n",
       "      <td>2016-04-07 01:46:50</td>\n",
       "    </tr>\n",
       "    <tr>\n",
       "      <th>2</th>\n",
       "      <td>2016-03-14 12:52:21</td>\n",
       "      <td>9800</td>\n",
       "      <td>suv</td>\n",
       "      <td>2004</td>\n",
       "      <td>auto</td>\n",
       "      <td>163</td>\n",
       "      <td>grand</td>\n",
       "      <td>125000</td>\n",
       "      <td>8</td>\n",
       "      <td>gasoline</td>\n",
       "      <td>jeep</td>\n",
       "      <td>NaN</td>\n",
       "      <td>2016-03-14 00:00:00</td>\n",
       "      <td>0</td>\n",
       "      <td>90480</td>\n",
       "      <td>2016-04-05 12:47:46</td>\n",
       "    </tr>\n",
       "    <tr>\n",
       "      <th>3</th>\n",
       "      <td>2016-03-17 16:54:04</td>\n",
       "      <td>1500</td>\n",
       "      <td>small</td>\n",
       "      <td>2001</td>\n",
       "      <td>manual</td>\n",
       "      <td>75</td>\n",
       "      <td>golf</td>\n",
       "      <td>150000</td>\n",
       "      <td>6</td>\n",
       "      <td>petrol</td>\n",
       "      <td>volkswagen</td>\n",
       "      <td>no</td>\n",
       "      <td>2016-03-17 00:00:00</td>\n",
       "      <td>0</td>\n",
       "      <td>91074</td>\n",
       "      <td>2016-03-17 17:40:17</td>\n",
       "    </tr>\n",
       "    <tr>\n",
       "      <th>4</th>\n",
       "      <td>2016-03-31 17:25:20</td>\n",
       "      <td>3600</td>\n",
       "      <td>small</td>\n",
       "      <td>2008</td>\n",
       "      <td>manual</td>\n",
       "      <td>69</td>\n",
       "      <td>fabia</td>\n",
       "      <td>90000</td>\n",
       "      <td>7</td>\n",
       "      <td>gasoline</td>\n",
       "      <td>skoda</td>\n",
       "      <td>no</td>\n",
       "      <td>2016-03-31 00:00:00</td>\n",
       "      <td>0</td>\n",
       "      <td>60437</td>\n",
       "      <td>2016-04-06 10:17:21</td>\n",
       "    </tr>\n",
       "  </tbody>\n",
       "</table>\n",
       "</div>"
      ],
      "text/plain": [
       "           DateCrawled  Price VehicleType  RegistrationYear Gearbox  Power  \\\n",
       "0  2016-03-24 11:52:17    480         NaN              1993  manual      0   \n",
       "1  2016-03-24 10:58:45  18300       coupe              2011  manual    190   \n",
       "2  2016-03-14 12:52:21   9800         suv              2004    auto    163   \n",
       "3  2016-03-17 16:54:04   1500       small              2001  manual     75   \n",
       "4  2016-03-31 17:25:20   3600       small              2008  manual     69   \n",
       "\n",
       "   Model  Kilometer  RegistrationMonth  FuelType       Brand Repaired  \\\n",
       "0   golf     150000                  0    petrol  volkswagen      NaN   \n",
       "1    NaN     125000                  5  gasoline        audi      yes   \n",
       "2  grand     125000                  8  gasoline        jeep      NaN   \n",
       "3   golf     150000                  6    petrol  volkswagen       no   \n",
       "4  fabia      90000                  7  gasoline       skoda       no   \n",
       "\n",
       "           DateCreated  NumberOfPictures  PostalCode             LastSeen  \n",
       "0  2016-03-24 00:00:00                 0       70435  2016-04-07 03:16:57  \n",
       "1  2016-03-24 00:00:00                 0       66954  2016-04-07 01:46:50  \n",
       "2  2016-03-14 00:00:00                 0       90480  2016-04-05 12:47:46  \n",
       "3  2016-03-17 00:00:00                 0       91074  2016-03-17 17:40:17  \n",
       "4  2016-03-31 00:00:00                 0       60437  2016-04-06 10:17:21  "
      ]
     },
     "execution_count": 8,
     "metadata": {},
     "output_type": "execute_result"
    }
   ],
   "source": [
    "df.head()"
   ]
  },
  {
   "cell_type": "markdown",
   "metadata": {
    "id": "loxRDudiUb0H"
   },
   "source": [
    "Проведем первичный осмотр данных и выявим их проблемы."
   ]
  },
  {
   "cell_type": "code",
   "execution_count": 9,
   "metadata": {
    "colab": {
     "base_uri": "https://localhost:8080/"
    },
    "id": "uFuHtARKUb0I",
    "outputId": "bf73f21d-f5c2-40ee-b11b-1393e40dfb96"
   },
   "outputs": [
    {
     "name": "stdout",
     "output_type": "stream",
     "text": [
      "<class 'pandas.core.frame.DataFrame'>\n",
      "RangeIndex: 354369 entries, 0 to 354368\n",
      "Data columns (total 16 columns):\n",
      " #   Column             Non-Null Count   Dtype \n",
      "---  ------             --------------   ----- \n",
      " 0   DateCrawled        354369 non-null  object\n",
      " 1   Price              354369 non-null  int64 \n",
      " 2   VehicleType        316879 non-null  object\n",
      " 3   RegistrationYear   354369 non-null  int64 \n",
      " 4   Gearbox            334536 non-null  object\n",
      " 5   Power              354369 non-null  int64 \n",
      " 6   Model              334664 non-null  object\n",
      " 7   Kilometer          354369 non-null  int64 \n",
      " 8   RegistrationMonth  354369 non-null  int64 \n",
      " 9   FuelType           321474 non-null  object\n",
      " 10  Brand              354369 non-null  object\n",
      " 11  Repaired           283215 non-null  object\n",
      " 12  DateCreated        354369 non-null  object\n",
      " 13  NumberOfPictures   354369 non-null  int64 \n",
      " 14  PostalCode         354369 non-null  int64 \n",
      " 15  LastSeen           354369 non-null  object\n",
      "dtypes: int64(7), object(9)\n",
      "memory usage: 43.3+ MB\n"
     ]
    }
   ],
   "source": [
    "df.info()"
   ]
  },
  {
   "cell_type": "code",
   "execution_count": 10,
   "metadata": {
    "colab": {
     "base_uri": "https://localhost:8080/"
    },
    "id": "ZLqveS0VUb0I",
    "outputId": "28194cd1-a655-4c83-9219-93719a5c8dcb"
   },
   "outputs": [
    {
     "data": {
      "text/plain": [
       "4"
      ]
     },
     "execution_count": 10,
     "metadata": {},
     "output_type": "execute_result"
    }
   ],
   "source": [
    "# Проверим дубликаты\n",
    "df.duplicated().sum()"
   ]
  },
  {
   "cell_type": "code",
   "execution_count": 11,
   "metadata": {
    "id": "P6KwEoNXUb0J"
   },
   "outputs": [],
   "source": [
    "#Удалим их\n",
    "df = df.drop_duplicates()"
   ]
  },
  {
   "cell_type": "code",
   "execution_count": 12,
   "metadata": {
    "colab": {
     "base_uri": "https://localhost:8080/",
     "height": 300
    },
    "id": "IAVUHKkaUb0J",
    "outputId": "c33b941a-602a-47cf-dc06-70d0227898a0"
   },
   "outputs": [
    {
     "data": {
      "text/html": [
       "<div>\n",
       "<style scoped>\n",
       "    .dataframe tbody tr th:only-of-type {\n",
       "        vertical-align: middle;\n",
       "    }\n",
       "\n",
       "    .dataframe tbody tr th {\n",
       "        vertical-align: top;\n",
       "    }\n",
       "\n",
       "    .dataframe thead th {\n",
       "        text-align: right;\n",
       "    }\n",
       "</style>\n",
       "<table border=\"1\" class=\"dataframe\">\n",
       "  <thead>\n",
       "    <tr style=\"text-align: right;\">\n",
       "      <th></th>\n",
       "      <th>Price</th>\n",
       "      <th>RegistrationYear</th>\n",
       "      <th>Power</th>\n",
       "      <th>Kilometer</th>\n",
       "      <th>RegistrationMonth</th>\n",
       "      <th>NumberOfPictures</th>\n",
       "      <th>PostalCode</th>\n",
       "    </tr>\n",
       "  </thead>\n",
       "  <tbody>\n",
       "    <tr>\n",
       "      <th>count</th>\n",
       "      <td>354365.000000</td>\n",
       "      <td>354365.000000</td>\n",
       "      <td>354365.000000</td>\n",
       "      <td>354365.000000</td>\n",
       "      <td>354365.000000</td>\n",
       "      <td>354365.0</td>\n",
       "      <td>354365.000000</td>\n",
       "    </tr>\n",
       "    <tr>\n",
       "      <th>mean</th>\n",
       "      <td>4416.679830</td>\n",
       "      <td>2004.234481</td>\n",
       "      <td>110.093816</td>\n",
       "      <td>128211.363989</td>\n",
       "      <td>5.714650</td>\n",
       "      <td>0.0</td>\n",
       "      <td>50508.503800</td>\n",
       "    </tr>\n",
       "    <tr>\n",
       "      <th>std</th>\n",
       "      <td>4514.176349</td>\n",
       "      <td>90.228466</td>\n",
       "      <td>189.851330</td>\n",
       "      <td>37905.083858</td>\n",
       "      <td>3.726432</td>\n",
       "      <td>0.0</td>\n",
       "      <td>25783.100078</td>\n",
       "    </tr>\n",
       "    <tr>\n",
       "      <th>min</th>\n",
       "      <td>0.000000</td>\n",
       "      <td>1000.000000</td>\n",
       "      <td>0.000000</td>\n",
       "      <td>5000.000000</td>\n",
       "      <td>0.000000</td>\n",
       "      <td>0.0</td>\n",
       "      <td>1067.000000</td>\n",
       "    </tr>\n",
       "    <tr>\n",
       "      <th>25%</th>\n",
       "      <td>1050.000000</td>\n",
       "      <td>1999.000000</td>\n",
       "      <td>69.000000</td>\n",
       "      <td>125000.000000</td>\n",
       "      <td>3.000000</td>\n",
       "      <td>0.0</td>\n",
       "      <td>30165.000000</td>\n",
       "    </tr>\n",
       "    <tr>\n",
       "      <th>50%</th>\n",
       "      <td>2700.000000</td>\n",
       "      <td>2003.000000</td>\n",
       "      <td>105.000000</td>\n",
       "      <td>150000.000000</td>\n",
       "      <td>6.000000</td>\n",
       "      <td>0.0</td>\n",
       "      <td>49413.000000</td>\n",
       "    </tr>\n",
       "    <tr>\n",
       "      <th>75%</th>\n",
       "      <td>6400.000000</td>\n",
       "      <td>2008.000000</td>\n",
       "      <td>143.000000</td>\n",
       "      <td>150000.000000</td>\n",
       "      <td>9.000000</td>\n",
       "      <td>0.0</td>\n",
       "      <td>71083.000000</td>\n",
       "    </tr>\n",
       "    <tr>\n",
       "      <th>max</th>\n",
       "      <td>20000.000000</td>\n",
       "      <td>9999.000000</td>\n",
       "      <td>20000.000000</td>\n",
       "      <td>150000.000000</td>\n",
       "      <td>12.000000</td>\n",
       "      <td>0.0</td>\n",
       "      <td>99998.000000</td>\n",
       "    </tr>\n",
       "  </tbody>\n",
       "</table>\n",
       "</div>"
      ],
      "text/plain": [
       "               Price  RegistrationYear          Power      Kilometer  \\\n",
       "count  354365.000000     354365.000000  354365.000000  354365.000000   \n",
       "mean     4416.679830       2004.234481     110.093816  128211.363989   \n",
       "std      4514.176349         90.228466     189.851330   37905.083858   \n",
       "min         0.000000       1000.000000       0.000000    5000.000000   \n",
       "25%      1050.000000       1999.000000      69.000000  125000.000000   \n",
       "50%      2700.000000       2003.000000     105.000000  150000.000000   \n",
       "75%      6400.000000       2008.000000     143.000000  150000.000000   \n",
       "max     20000.000000       9999.000000   20000.000000  150000.000000   \n",
       "\n",
       "       RegistrationMonth  NumberOfPictures     PostalCode  \n",
       "count      354365.000000          354365.0  354365.000000  \n",
       "mean            5.714650               0.0   50508.503800  \n",
       "std             3.726432               0.0   25783.100078  \n",
       "min             0.000000               0.0    1067.000000  \n",
       "25%             3.000000               0.0   30165.000000  \n",
       "50%             6.000000               0.0   49413.000000  \n",
       "75%             9.000000               0.0   71083.000000  \n",
       "max            12.000000               0.0   99998.000000  "
      ]
     },
     "execution_count": 12,
     "metadata": {},
     "output_type": "execute_result"
    }
   ],
   "source": [
    "df.describe()"
   ]
  },
  {
   "cell_type": "code",
   "execution_count": 13,
   "metadata": {
    "colab": {
     "base_uri": "https://localhost:8080/"
    },
    "id": "Ct55r2EaUb0J",
    "outputId": "9ace9a24-e4f4-4a22-a5e7-96125d4c26d5"
   },
   "outputs": [
    {
     "data": {
      "text/plain": [
       "DateCrawled          0.000000\n",
       "Price                0.000000\n",
       "VehicleType          0.105795\n",
       "RegistrationYear     0.000000\n",
       "Gearbox              0.055968\n",
       "Power                0.000000\n",
       "Model                0.055607\n",
       "Kilometer            0.000000\n",
       "RegistrationMonth    0.000000\n",
       "FuelType             0.092828\n",
       "Brand                0.000000\n",
       "Repaired             0.200793\n",
       "DateCreated          0.000000\n",
       "NumberOfPictures     0.000000\n",
       "PostalCode           0.000000\n",
       "LastSeen             0.000000\n",
       "dtype: float64"
      ]
     },
     "execution_count": 13,
     "metadata": {},
     "output_type": "execute_result"
    }
   ],
   "source": [
    "# посмотрим на пропуски\n",
    "df.isna().mean()"
   ]
  },
  {
   "cell_type": "markdown",
   "metadata": {
    "id": "G1CES_iRUb0K"
   },
   "source": [
    "**Вывод:**\n",
    "\n",
    "- В данных присутсвуют лишнии колонки\n",
    "- Были удалены дубликаты\n",
    "- Необходима обработка пропусков"
   ]
  },
  {
   "cell_type": "markdown",
   "metadata": {
    "id": "AUQgxetuUb0K"
   },
   "source": [
    "**Предобработка данных**"
   ]
  },
  {
   "cell_type": "markdown",
   "metadata": {
    "id": "WI-an5OxUb0L"
   },
   "source": [
    "Удалим лишнии колонки"
   ]
  },
  {
   "cell_type": "code",
   "execution_count": 14,
   "metadata": {
    "id": "ky7YFC62Ub0L"
   },
   "outputs": [],
   "source": [
    "df= df.drop(['DateCrawled', 'RegistrationMonth', 'DateCreated', 'NumberOfPictures', 'PostalCode', 'LastSeen'], axis='columns')"
   ]
  },
  {
   "cell_type": "code",
   "execution_count": 15,
   "metadata": {
    "colab": {
     "base_uri": "https://localhost:8080/"
    },
    "id": "2kW-UUI-Ub0L",
    "outputId": "4675bdf1-e50c-4dc6-9905-b5d25b55e74e"
   },
   "outputs": [
    {
     "name": "stdout",
     "output_type": "stream",
     "text": [
      "<class 'pandas.core.frame.DataFrame'>\n",
      "Int64Index: 354365 entries, 0 to 354368\n",
      "Data columns (total 10 columns):\n",
      " #   Column            Non-Null Count   Dtype \n",
      "---  ------            --------------   ----- \n",
      " 0   price             354365 non-null  int64 \n",
      " 1   vehicletype       316875 non-null  object\n",
      " 2   registrationyear  354365 non-null  int64 \n",
      " 3   gearbox           334532 non-null  object\n",
      " 4   power             354365 non-null  int64 \n",
      " 5   model             334660 non-null  object\n",
      " 6   kilometer         354365 non-null  int64 \n",
      " 7   fueltype          321470 non-null  object\n",
      " 8   brand             354365 non-null  object\n",
      " 9   repaired          283211 non-null  object\n",
      "dtypes: int64(4), object(6)\n",
      "memory usage: 29.7+ MB\n"
     ]
    }
   ],
   "source": [
    "# Переведем колонки в нижний регистр\n",
    "df.columns = df.columns.str.lower()\n",
    "df.info()"
   ]
  },
  {
   "cell_type": "code",
   "execution_count": 16,
   "metadata": {
    "colab": {
     "base_uri": "https://localhost:8080/",
     "height": 493
    },
    "id": "4dluAt7rUb0M",
    "outputId": "bfd5339e-edd5-41d4-e42a-5fcff1cfa093"
   },
   "outputs": [
    {
     "data": {
      "image/png": "[encoded data removed]",
      "text/plain": [
       "<Figure size 720x360 with 1 Axes>"
      ]
     },
     "metadata": {
      "needs_background": "light"
     },
     "output_type": "display_data"
    }
   ],
   "source": [
    "df.boxplot('price')\n",
    "plt.xlabel('price', fontsize=16)\n",
    "plt.ylabel(r'Цена', fontsize=16)\n",
    "plt.title(r'Цена автомобиля');"
   ]
  },
  {
   "cell_type": "code",
   "execution_count": 17,
   "metadata": {
    "colab": {
     "base_uri": "https://localhost:8080/",
     "height": 493
    },
    "id": "u997DV5YUb0M",
    "outputId": "bce2517c-e47c-4f2c-e2b7-1c6dbefa62ae"
   },
   "outputs": [
    {
     "data": {
      "image/png": "[encoded data removed]",
      "text/plain": [
       "<Figure size 720x360 with 1 Axes>"
      ]
     },
     "metadata": {
      "needs_background": "light"
     },
     "output_type": "display_data"
    }
   ],
   "source": [
    "df.boxplot('registrationyear')\n",
    "plt.xlabel('registrationyear', fontsize=16)\n",
    "plt.ylabel(r'Год', fontsize=16)\n",
    "plt.title(r'Год регистрации автомобиля');"
   ]
  },
  {
   "cell_type": "code",
   "execution_count": 18,
   "metadata": {
    "colab": {
     "base_uri": "https://localhost:8080/",
     "height": 493
    },
    "id": "FSEPehzYUb0N",
    "outputId": "2d76e8a1-b8c0-4a5c-ac99-f27c05ac24c4"
   },
   "outputs": [
    {
     "data": {
      "image/png": "[encoded data removed]",
      "text/plain": [
       "<Figure size 720x360 with 1 Axes>"
      ]
     },
     "metadata": {
      "needs_background": "light"
     },
     "output_type": "display_data"
    }
   ],
   "source": [
    "df.boxplot('power')\n",
    "plt.xlabel('power', fontsize=16)\n",
    "plt.ylabel(r'мощность (л. с.)', fontsize=16)\n",
    "plt.title(r'Мощность автомобилей в л.с.');"
   ]
  },
  {
   "cell_type": "code",
   "execution_count": 19,
   "metadata": {
    "colab": {
     "base_uri": "https://localhost:8080/",
     "height": 493
    },
    "id": "C7o63ZA5Ub0N",
    "outputId": "c895c369-06be-4a7c-ccbe-a7e876faddf2"
   },
   "outputs": [
    {
     "data": {
      "image/png": "[encoded data removed]",
      "text/plain": [
       "<Figure size 720x360 with 1 Axes>"
      ]
     },
     "metadata": {
      "needs_background": "light"
     },
     "output_type": "display_data"
    }
   ],
   "source": [
    "df.boxplot('kilometer')\n",
    "plt.xlabel('kilometer', fontsize=16)\n",
    "plt.ylabel(r'Пробег', fontsize=16)\n",
    "plt.title(r'Пробег автомобиля в км');"
   ]
  },
  {
   "cell_type": "code",
   "execution_count": 20,
   "metadata": {
    "colab": {
     "base_uri": "https://localhost:8080/",
     "height": 493
    },
    "id": "UKMzaNdqUb0O",
    "outputId": "2820deab-f834-4956-a077-8ac8e0b6392a"
   },
   "outputs": [
    {
     "data": {
      "image/png": "[encoded data removed]",
      "text/plain": [
       "<Figure size 720x360 with 1 Axes>"
      ]
     },
     "metadata": {
      "needs_background": "light"
     },
     "output_type": "display_data"
    }
   ],
   "source": [
    "df.boxplot()\n",
    "plt.xlabel('Названия колонок', fontsize=16)\n",
    "plt.ylabel(r'Количество', fontsize=16)\n",
    "plt.title(r'DF');"
   ]
  },
  {
   "cell_type": "markdown",
   "metadata": {
    "id": "geQQMHVNUb0P"
   },
   "source": [
    "Становитсья видно что в данных много выбросов, необходимо рассмотреть по подробнее некоторые важные колонки."
   ]
  },
  {
   "cell_type": "code",
   "execution_count": 21,
   "metadata": {
    "colab": {
     "base_uri": "https://localhost:8080/",
     "height": 493
    },
    "id": "ALxICuIEUb0P",
    "outputId": "cd0aaa50-eb47-49e4-d09e-25b05d535f4a"
   },
   "outputs": [
    {
     "data": {
      "image/png": "[encoded data removed]",
      "text/plain": [
       "<Figure size 720x360 with 1 Axes>"
      ]
     },
     "metadata": {
      "needs_background": "light"
     },
     "output_type": "display_data"
    }
   ],
   "source": [
    "df.boxplot('price')\n",
    "plt.xlabel('price', fontsize=16)\n",
    "plt.ylabel(r'Цена', fontsize=16)\n",
    "plt.title(r'Цена автомобиля');"
   ]
  },
  {
   "cell_type": "markdown",
   "metadata": {
    "id": "DCfHSm48Ub0Y"
   },
   "source": [
    "Цена на автомобиль не может быть нулевая, очистим данные от них."
   ]
  },
  {
   "cell_type": "code",
   "execution_count": 22,
   "metadata": {
    "id": "UUyu8BUpUb0Y"
   },
   "outputs": [],
   "source": [
    "df = df.query('price > 1000')"
   ]
  },
  {
   "cell_type": "markdown",
   "metadata": {
    "id": "rNqZjC0WUb0Z"
   },
   "source": [
    "Посмотрим на колонку **power**"
   ]
  },
  {
   "cell_type": "code",
   "execution_count": 23,
   "metadata": {
    "colab": {
     "base_uri": "https://localhost:8080/",
     "height": 493
    },
    "id": "_7jOmcKRUb0a",
    "outputId": "de6169c4-6b13-4a2a-a964-a68362537a23"
   },
   "outputs": [
    {
     "data": {
      "image/png": "[encoded data removed]",
      "text/plain": [
       "<Figure size 720x360 with 1 Axes>"
      ]
     },
     "metadata": {
      "needs_background": "light"
     },
     "output_type": "display_data"
    }
   ],
   "source": [
    "df.boxplot('power')\n",
    "plt.xlabel('power', fontsize=16)\n",
    "plt.ylabel(r'мощность (л. с.)', fontsize=16)\n",
    "plt.title(r'Мощность автомобилей в л.с.');"
   ]
  },
  {
   "cell_type": "markdown",
   "metadata": {
    "id": "EtvX_ezVUb0a"
   },
   "source": [
    "В данных очень сильные выбросы, проанализируем представленные бренды автомобилей и постараемся выявить границу реальных данных по мощности."
   ]
  },
  {
   "cell_type": "code",
   "execution_count": 24,
   "metadata": {
    "colab": {
     "base_uri": "https://localhost:8080/",
     "height": 557
    },
    "id": "wv74EHWaUb0a",
    "outputId": "53f8a0c7-fc0c-41a2-fa7e-d09f699ca30d"
   },
   "outputs": [
    {
     "data": {
      "text/plain": [
       "<AxesSubplot:>"
      ]
     },
     "execution_count": 24,
     "metadata": {},
     "output_type": "execute_result"
    },
    {
     "data": {
      "image/png": "[encoded data removed]",
      "text/plain": [
       "<Figure size 720x360 with 1 Axes>"
      ]
     },
     "metadata": {
      "needs_background": "light"
     },
     "output_type": "display_data"
    }
   ],
   "source": [
    "ax = df['brand'].value_counts()\n",
    "ax.plot(kind='bar')"
   ]
  },
  {
   "cell_type": "markdown",
   "metadata": {
    "id": "ofPpXCyiUb0b"
   },
   "source": [
    "В брендах отсутствуют громкие названия гиперкаров по типу Buggati имеющие более 1000л\\с а значит что значения мошности сильно завышены.\n",
    "\n",
    "Мощность серийных автомобилей очень редко превышает 600 л\\с, возьмем эту цифру за верхнюю границу, ну и машин с 0 мошностью не бывает."
   ]
  },
  {
   "cell_type": "code",
   "execution_count": 25,
   "metadata": {
    "id": "E5DNxLmnUb0b"
   },
   "outputs": [],
   "source": [
    "df = df.query('power > 50 and power < 600')"
   ]
  },
  {
   "cell_type": "code",
   "execution_count": 26,
   "metadata": {
    "colab": {
     "base_uri": "https://localhost:8080/",
     "height": 493
    },
    "id": "VMo0gUYZUb0b",
    "outputId": "2f6e6766-705e-48eb-cb3e-bb5cf7483784"
   },
   "outputs": [
    {
     "data": {
      "image/png": "[encoded data removed]",
      "text/plain": [
       "<Figure size 720x360 with 1 Axes>"
      ]
     },
     "metadata": {
      "needs_background": "light"
     },
     "output_type": "display_data"
    }
   ],
   "source": [
    "df.boxplot('power')\n",
    "plt.xlabel('power', fontsize=16)\n",
    "plt.ylabel(r'мощность (л. с.)', fontsize=16)\n",
    "plt.title(r'Мощность автомобилей в л.с.');"
   ]
  },
  {
   "cell_type": "markdown",
   "metadata": {
    "id": "HJshVdk7Ub0c"
   },
   "source": [
    "Взгляним на признак **registrationyear**"
   ]
  },
  {
   "cell_type": "code",
   "execution_count": 27,
   "metadata": {
    "colab": {
     "base_uri": "https://localhost:8080/",
     "height": 493
    },
    "id": "QfhZJlwyUb0c",
    "outputId": "e0db98b8-dd20-4e96-9bab-f26104d030ea"
   },
   "outputs": [
    {
     "data": {
      "image/png": "[encoded data removed]",
      "text/plain": [
       "<Figure size 720x360 with 1 Axes>"
      ]
     },
     "metadata": {
      "needs_background": "light"
     },
     "output_type": "display_data"
    }
   ],
   "source": [
    "df.boxplot('registrationyear')\n",
    "plt.xlabel('registrationyear', fontsize=16)\n",
    "plt.ylabel(r'Год', fontsize=16)\n",
    "plt.title(r'Год регистрации автомобиля');"
   ]
  },
  {
   "cell_type": "markdown",
   "metadata": {
    "id": "PuA-onb9Ub0d"
   },
   "source": [
    "Так же можем наблюдать не верные данные."
   ]
  },
  {
   "cell_type": "code",
   "execution_count": 28,
   "metadata": {
    "id": "dQjhDHg4Ub0d"
   },
   "outputs": [],
   "source": [
    "df = df.query('registrationyear > 1980 and registrationyear < 2016')"
   ]
  },
  {
   "cell_type": "code",
   "execution_count": 29,
   "metadata": {
    "colab": {
     "base_uri": "https://localhost:8080/",
     "height": 493
    },
    "id": "bdMW5eX-Ub0f",
    "outputId": "a710c888-dc15-4069-8bbe-6b89075b8a21"
   },
   "outputs": [
    {
     "data": {
      "image/png": "[encoded data removed]",
      "text/plain": [
       "<Figure size 720x360 with 1 Axes>"
      ]
     },
     "metadata": {
      "needs_background": "light"
     },
     "output_type": "display_data"
    }
   ],
   "source": [
    "# Посмотрим еще раз.\n",
    "df.boxplot('registrationyear')\n",
    "plt.xlabel('registrationyear', fontsize=16)\n",
    "plt.ylabel(r'Год', fontsize=16)\n",
    "plt.title(r'Год регистрации автомобиля');"
   ]
  },
  {
   "cell_type": "code",
   "execution_count": 30,
   "metadata": {
    "colab": {
     "base_uri": "https://localhost:8080/"
    },
    "id": "hCL4Nm0BUb0f",
    "outputId": "ec9f6b9c-0e40-4313-9201-f834d85e6418"
   },
   "outputs": [
    {
     "data": {
      "text/plain": [
       "array(['yes', nan, 'no'], dtype=object)"
      ]
     },
     "execution_count": 30,
     "metadata": {},
     "output_type": "execute_result"
    }
   ],
   "source": [
    "df['repaired'].unique()"
   ]
  },
  {
   "cell_type": "markdown",
   "metadata": {
    "id": "ZQ2yYJMpUb0g"
   },
   "source": [
    "Заполним пропуски в колонке **notrepaired** нулем 0 так как скорее всего при заполнении данных этот пункт пропускался из-за отсутсвия ремонта."
   ]
  },
  {
   "cell_type": "code",
   "execution_count": 31,
   "metadata": {
    "id": "vHuCBowtUb0g"
   },
   "outputs": [],
   "source": [
    "df['repaired'] = df['repaired'].fillna('no')"
   ]
  },
  {
   "cell_type": "code",
   "execution_count": 32,
   "metadata": {
    "colab": {
     "base_uri": "https://localhost:8080/"
    },
    "id": "KrFMNu39Ub0g",
    "outputId": "e2c524f0-b2ed-4781-9f0f-8d38c434904a"
   },
   "outputs": [
    {
     "data": {
      "text/plain": [
       "array(['yes', 'no'], dtype=object)"
      ]
     },
     "execution_count": 32,
     "metadata": {},
     "output_type": "execute_result"
    }
   ],
   "source": [
    "df['repaired'].unique()"
   ]
  },
  {
   "cell_type": "code",
   "execution_count": 33,
   "metadata": {
    "id": "_uDnUq5kUb0h"
   },
   "outputs": [],
   "source": [
    "df1 = df.copy()"
   ]
  },
  {
   "cell_type": "code",
   "execution_count": 34,
   "metadata": {
    "colab": {
     "base_uri": "https://localhost:8080/"
    },
    "id": "9oUO5-mAUb0i",
    "outputId": "76adaff7-19aa-4603-a562-8d6bc20e7ba8"
   },
   "outputs": [
    {
     "data": {
      "text/plain": [
       "price               0.000000\n",
       "vehicletype         0.010481\n",
       "registrationyear    0.000000\n",
       "gearbox             0.012795\n",
       "power               0.000000\n",
       "model               0.028038\n",
       "kilometer           0.000000\n",
       "fueltype            0.032699\n",
       "brand               0.000000\n",
       "repaired            0.000000\n",
       "dtype: float64"
      ]
     },
     "execution_count": 34,
     "metadata": {},
     "output_type": "execute_result"
    }
   ],
   "source": [
    "# Взгляним еще раз на пропуски.\n",
    "df.isna().mean()"
   ]
  },
  {
   "cell_type": "code",
   "execution_count": 35,
   "metadata": {
    "colab": {
     "base_uri": "https://localhost:8080/"
    },
    "id": "OKDD5FoEUb0i",
    "outputId": "50f0dcf3-8493-47c0-af66-42037e5fb3e8"
   },
   "outputs": [
    {
     "data": {
      "text/plain": [
       "array(['coupe', 'suv', 'small', 'convertible', 'bus', 'sedan', 'wagon',\n",
       "       'other', nan], dtype=object)"
      ]
     },
     "execution_count": 35,
     "metadata": {},
     "output_type": "execute_result"
    }
   ],
   "source": [
    "df['vehicletype'].unique()"
   ]
  },
  {
   "cell_type": "code",
   "execution_count": 36,
   "metadata": {
    "id": "LFgQTyAQUb0i"
   },
   "outputs": [],
   "source": [
    "df['vehicletype'] = df['vehicletype'].fillna('unknown')"
   ]
  },
  {
   "cell_type": "code",
   "execution_count": 37,
   "metadata": {
    "colab": {
     "base_uri": "https://localhost:8080/"
    },
    "id": "aRMVgv5cUb0j",
    "outputId": "ffc229c2-e9bd-40e0-d1fc-c694679ebeed"
   },
   "outputs": [
    {
     "data": {
      "text/plain": [
       "array(['manual', 'auto', nan], dtype=object)"
      ]
     },
     "execution_count": 37,
     "metadata": {},
     "output_type": "execute_result"
    }
   ],
   "source": [
    "df['gearbox'].unique()"
   ]
  },
  {
   "cell_type": "code",
   "execution_count": 38,
   "metadata": {
    "id": "N5Jp6cWmUb0j"
   },
   "outputs": [],
   "source": [
    "df['gearbox'] = df['gearbox'].fillna('unknown')"
   ]
  },
  {
   "cell_type": "code",
   "execution_count": 39,
   "metadata": {
    "colab": {
     "base_uri": "https://localhost:8080/"
    },
    "id": "-poSdMqXUb0j",
    "outputId": "6ab3fab4-6989-4c2a-8a5c-d15d01f283cf"
   },
   "outputs": [
    {
     "data": {
      "text/plain": [
       "array([nan, 'grand', 'golf', 'fabia', '2_reihe', 'c_max', '3_reihe',\n",
       "       'passat', 'navara', 'twingo', 'a_klasse', 'scirocco', '5er',\n",
       "       'civic', 'e_klasse', '3er', 'kadett', 'other', 'one', 'fortwo',\n",
       "       '1er', 'b_klasse', 'a8', 'jetta', 'c_klasse', 'micra', 'vito',\n",
       "       'sprinter', 'forester', 'xc_reihe', 'fiesta', 'scenic', 'a1',\n",
       "       'transporter', 'focus', 'a4', 'tt', 'astra', 'a6', 'jazz', 'polo',\n",
       "       'slk', '7er', 'combo', '80', '147', 'z_reihe', 'sorento', 'ibiza',\n",
       "       'mustang', 'eos', 'touran', 'getz', 'insignia', 'ka', 'megane',\n",
       "       'a3', 'cordoba', 'clio', 'impreza', 'lupo', 'berlingo', 'tiguan',\n",
       "       '6_reihe', 'c4', 'panda', 'up', 'i_reihe', 'ceed', '5_reihe',\n",
       "       'yeti', 'octavia', 'zafira', 'mii', 'rx_reihe', 'corsa', '6er',\n",
       "       'punto', 'fox', 'vectra', 'matiz', 'beetle', 'rio', 'touareg',\n",
       "       'logan', 'spider', 'cuore', 's_max', 'modus', 'a2', 'galaxy', 'c3',\n",
       "       'viano', 's_klasse', 'mondeo', 'sharan', 'avensis', 'roomster',\n",
       "       'sl', 'santa', 'leon', 'cooper', '4_reihe', 'a5', 'sportage',\n",
       "       'caddy', 'laguna', 'ptcruiser', 'clk', 'primera', 'exeo', '159',\n",
       "       'transit', 'juke', 'x_reihe', 'espace', 'carisma', 'accord',\n",
       "       'corolla', 'phaeton', 'verso', 'rav', 'qashqai', 'colt', 'swift',\n",
       "       'picanto', 'boxster', 'superb', 'stilo', 'alhambra', 'roadster',\n",
       "       '90', 'signum', 'crossfire', 'duster', 'kangoo', 'v50', 'mx_reihe',\n",
       "       'meriva', 'c_reihe', 'v_klasse', 'm_klasse', 'yaris', 'c5', 'aygo',\n",
       "       'almera', 'cc', '911', 'bora', 'agila', 'cl', 'tigra', '156',\n",
       "       '300c', '500', '100', 'cr_reihe', 'escort', 'spark', 'kuga',\n",
       "       'x_type', 'ducato', 's_type', 'x_trail', 'toledo', 'altea',\n",
       "       'voyager', 'carnival', 'v70', 'forfour', 'omega', 'tucson', 'c1',\n",
       "       'citigo', 'jimny', 'cayenne', 'wrangler', 'lybra', 'captiva',\n",
       "       'fusion', 'discovery', 'freelander', 'sandero', 'q7', 'note',\n",
       "       'antara', 'sirion', '900', 'cherokee', 'clubman', '1_reihe',\n",
       "       'arosa', 'defender', 'lancer', 'cx_reihe', 'legacy', 'pajero',\n",
       "       'c2', 'niva', 's60', 'm_reihe', 'nubira', 'vivaro', 'g_klasse',\n",
       "       'auris', 'galant', 'lodgy', 'range_rover', '850', 'ypsilon', 'q3',\n",
       "       'justy', 'calibra', 'serie_2', 'glk', 'charade', 'v40', 'croma',\n",
       "       'outlander', 'kaefer', 'doblo', 'musa', 'seicento', '9000',\n",
       "       'kalos', 'v60', 'bravo', 'r19', '200', 'b_max', 'lanos',\n",
       "       'range_rover_sport', 'aveo', 'rangerover', 'q5',\n",
       "       'range_rover_evoque', 'materia', 'terios', 'gl', 'delta', 'kalina',\n",
       "       'i3', '145', 'samara', 'amarok', 'kappa', 'move', 'elefantino'],\n",
       "      dtype=object)"
      ]
     },
     "execution_count": 39,
     "metadata": {},
     "output_type": "execute_result"
    }
   ],
   "source": [
    "df['model'].unique()"
   ]
  },
  {
   "cell_type": "code",
   "execution_count": 40,
   "metadata": {
    "id": "SeHzDR_CUb0k"
   },
   "outputs": [],
   "source": [
    "df['model'] = df['model'].fillna('unknown')"
   ]
  },
  {
   "cell_type": "code",
   "execution_count": 41,
   "metadata": {
    "colab": {
     "base_uri": "https://localhost:8080/"
    },
    "id": "qlMGPfH5Ub0k",
    "outputId": "6078cadb-7cde-4925-8977-a80f3d8c6d74"
   },
   "outputs": [
    {
     "data": {
      "text/plain": [
       "array(['gasoline', 'petrol', nan, 'lpg', 'other', 'hybrid', 'cng',\n",
       "       'electric'], dtype=object)"
      ]
     },
     "execution_count": 41,
     "metadata": {},
     "output_type": "execute_result"
    }
   ],
   "source": [
    "df['fueltype'].unique()"
   ]
  },
  {
   "cell_type": "code",
   "execution_count": 42,
   "metadata": {
    "id": "1YKjsoCNUb0k"
   },
   "outputs": [],
   "source": [
    "df['fueltype'] = df['fueltype'].fillna('unknown')"
   ]
  },
  {
   "cell_type": "code",
   "execution_count": 43,
   "metadata": {
    "colab": {
     "base_uri": "https://localhost:8080/"
    },
    "id": "RvR4PPcoUb0l",
    "outputId": "29ddd83e-49a4-4a63-84dc-9251d2d57d86"
   },
   "outputs": [
    {
     "data": {
      "text/plain": [
       "price               0.0\n",
       "vehicletype         0.0\n",
       "registrationyear    0.0\n",
       "gearbox             0.0\n",
       "power               0.0\n",
       "model               0.0\n",
       "kilometer           0.0\n",
       "fueltype            0.0\n",
       "brand               0.0\n",
       "repaired            0.0\n",
       "dtype: float64"
      ]
     },
     "execution_count": 43,
     "metadata": {},
     "output_type": "execute_result"
    }
   ],
   "source": [
    "df.isna().mean()"
   ]
  },
  {
   "cell_type": "code",
   "execution_count": 44,
   "metadata": {
    "colab": {
     "base_uri": "https://localhost:8080/"
    },
    "id": "xX-6P0NPUb0l",
    "outputId": "b9936cd4-c5c3-4ce3-b33d-6ef84f6299dd"
   },
   "outputs": [
    {
     "data": {
      "text/plain": [
       "price                int64\n",
       "vehicletype         object\n",
       "registrationyear     int64\n",
       "gearbox             object\n",
       "power                int64\n",
       "model               object\n",
       "kilometer            int64\n",
       "fueltype            object\n",
       "brand               object\n",
       "repaired            object\n",
       "dtype: object"
      ]
     },
     "execution_count": 44,
     "metadata": {},
     "output_type": "execute_result"
    }
   ],
   "source": [
    "df.dtypes"
   ]
  },
  {
   "cell_type": "markdown",
   "metadata": {
    "id": "qivf0I1GUb0l"
   },
   "source": [
    "Пропусков ~ 5% считаю это не значительным числом и просто удалю оставшиеся пропуски."
   ]
  },
  {
   "cell_type": "code",
   "execution_count": 45,
   "metadata": {
    "colab": {
     "base_uri": "https://localhost:8080/"
    },
    "id": "t9a8Brh0Ub0m",
    "outputId": "4b26691a-6077-4a13-ceb7-f0c5049daf9d"
   },
   "outputs": [
    {
     "name": "stdout",
     "output_type": "stream",
     "text": [
      "Из первоначальной базы данных понадобилась убрать 35.5% данных\n"
     ]
    }
   ],
   "source": [
    "print('Из первоначальной базы данных понадобилась убрать {0:.1f}% данных'.format((len(df_full) - len(df1)) / (len(df_full)/100)))"
   ]
  },
  {
   "cell_type": "code",
   "execution_count": 46,
   "metadata": {
    "colab": {
     "base_uri": "https://localhost:8080/"
    },
    "id": "IAP7ikwkUb0n",
    "outputId": "a32c9a42-fa35-4ba6-8a83-62988bad2b34"
   },
   "outputs": [
    {
     "name": "stdout",
     "output_type": "stream",
     "text": [
      "Из первоначальной базы данных понадобилась убрать 35.5% данных\n"
     ]
    }
   ],
   "source": [
    "print('Из первоначальной базы данных понадобилась убрать {0:.1f}% данных'.format((len(df_full) - len(df)) / (len(df_full)/100)))"
   ]
  },
  {
   "cell_type": "code",
   "execution_count": 47,
   "metadata": {
    "colab": {
     "base_uri": "https://localhost:8080/",
     "height": 506
    },
    "id": "IFPiiefXUb0n",
    "outputId": "68f923d5-55e5-4e15-9608-79cfff36f1e6"
   },
   "outputs": [
    {
     "data": {
      "image/png": "[encoded data removed]",
      "text/plain": [
       "<Figure size 720x360 with 2 Axes>"
      ]
     },
     "metadata": {
      "needs_background": "light"
     },
     "output_type": "display_data"
    }
   ],
   "source": [
    "sns.heatmap(df.corr(),annot = True);"
   ]
  },
  {
   "cell_type": "code",
   "execution_count": 48,
   "metadata": {
    "colab": {
     "base_uri": "https://localhost:8080/",
     "height": 363
    },
    "id": "NaevmxnJUb0n",
    "outputId": "b51d4639-020b-489b-ec5c-9bab86d6dd14"
   },
   "outputs": [
    {
     "data": {
      "text/html": [
       "<div>\n",
       "<style scoped>\n",
       "    .dataframe tbody tr th:only-of-type {\n",
       "        vertical-align: middle;\n",
       "    }\n",
       "\n",
       "    .dataframe tbody tr th {\n",
       "        vertical-align: top;\n",
       "    }\n",
       "\n",
       "    .dataframe thead th {\n",
       "        text-align: right;\n",
       "    }\n",
       "</style>\n",
       "<table border=\"1\" class=\"dataframe\">\n",
       "  <thead>\n",
       "    <tr style=\"text-align: right;\">\n",
       "      <th></th>\n",
       "      <th>price</th>\n",
       "      <th>vehicletype</th>\n",
       "      <th>registrationyear</th>\n",
       "      <th>gearbox</th>\n",
       "      <th>power</th>\n",
       "      <th>model</th>\n",
       "      <th>kilometer</th>\n",
       "      <th>fueltype</th>\n",
       "      <th>brand</th>\n",
       "      <th>repaired</th>\n",
       "    </tr>\n",
       "  </thead>\n",
       "  <tbody>\n",
       "    <tr>\n",
       "      <th>price</th>\n",
       "      <td>1.000000</td>\n",
       "      <td>0.216127</td>\n",
       "      <td>0.625108</td>\n",
       "      <td>0.263669</td>\n",
       "      <td>0.462004</td>\n",
       "      <td>0.531019</td>\n",
       "      <td>0.315369</td>\n",
       "      <td>0.193937</td>\n",
       "      <td>0.312743</td>\n",
       "      <td>0.166767</td>\n",
       "    </tr>\n",
       "    <tr>\n",
       "      <th>vehicletype</th>\n",
       "      <td>0.216127</td>\n",
       "      <td>1.000000</td>\n",
       "      <td>0.289321</td>\n",
       "      <td>0.363072</td>\n",
       "      <td>0.439331</td>\n",
       "      <td>0.908618</td>\n",
       "      <td>0.234938</td>\n",
       "      <td>0.363412</td>\n",
       "      <td>0.606058</td>\n",
       "      <td>0.040844</td>\n",
       "    </tr>\n",
       "    <tr>\n",
       "      <th>registrationyear</th>\n",
       "      <td>0.625108</td>\n",
       "      <td>0.289321</td>\n",
       "      <td>1.000000</td>\n",
       "      <td>0.092614</td>\n",
       "      <td>0.181113</td>\n",
       "      <td>0.637221</td>\n",
       "      <td>0.634197</td>\n",
       "      <td>0.286077</td>\n",
       "      <td>0.289351</td>\n",
       "      <td>0.057610</td>\n",
       "    </tr>\n",
       "    <tr>\n",
       "      <th>gearbox</th>\n",
       "      <td>0.263669</td>\n",
       "      <td>0.363072</td>\n",
       "      <td>0.092614</td>\n",
       "      <td>1.000000</td>\n",
       "      <td>0.470531</td>\n",
       "      <td>0.633592</td>\n",
       "      <td>0.085787</td>\n",
       "      <td>0.183834</td>\n",
       "      <td>0.520747</td>\n",
       "      <td>0.005158</td>\n",
       "    </tr>\n",
       "    <tr>\n",
       "      <th>power</th>\n",
       "      <td>0.462004</td>\n",
       "      <td>0.439331</td>\n",
       "      <td>0.181113</td>\n",
       "      <td>0.470531</td>\n",
       "      <td>1.000000</td>\n",
       "      <td>0.753914</td>\n",
       "      <td>0.149203</td>\n",
       "      <td>0.219997</td>\n",
       "      <td>0.546816</td>\n",
       "      <td>0.030013</td>\n",
       "    </tr>\n",
       "    <tr>\n",
       "      <th>model</th>\n",
       "      <td>0.531019</td>\n",
       "      <td>0.908618</td>\n",
       "      <td>0.637221</td>\n",
       "      <td>0.633592</td>\n",
       "      <td>0.753914</td>\n",
       "      <td>1.000000</td>\n",
       "      <td>0.465221</td>\n",
       "      <td>0.540106</td>\n",
       "      <td>0.997912</td>\n",
       "      <td>0.085646</td>\n",
       "    </tr>\n",
       "    <tr>\n",
       "      <th>kilometer</th>\n",
       "      <td>0.315369</td>\n",
       "      <td>0.234938</td>\n",
       "      <td>0.634197</td>\n",
       "      <td>0.085787</td>\n",
       "      <td>0.149203</td>\n",
       "      <td>0.465221</td>\n",
       "      <td>1.000000</td>\n",
       "      <td>0.214356</td>\n",
       "      <td>0.288574</td>\n",
       "      <td>0.062742</td>\n",
       "    </tr>\n",
       "    <tr>\n",
       "      <th>fueltype</th>\n",
       "      <td>0.193937</td>\n",
       "      <td>0.363412</td>\n",
       "      <td>0.286077</td>\n",
       "      <td>0.183834</td>\n",
       "      <td>0.219997</td>\n",
       "      <td>0.540106</td>\n",
       "      <td>0.214356</td>\n",
       "      <td>1.000000</td>\n",
       "      <td>0.305265</td>\n",
       "      <td>0.043081</td>\n",
       "    </tr>\n",
       "    <tr>\n",
       "      <th>brand</th>\n",
       "      <td>0.312743</td>\n",
       "      <td>0.606058</td>\n",
       "      <td>0.289351</td>\n",
       "      <td>0.520747</td>\n",
       "      <td>0.546816</td>\n",
       "      <td>0.997912</td>\n",
       "      <td>0.288574</td>\n",
       "      <td>0.305265</td>\n",
       "      <td>1.000000</td>\n",
       "      <td>0.037945</td>\n",
       "    </tr>\n",
       "    <tr>\n",
       "      <th>repaired</th>\n",
       "      <td>0.166767</td>\n",
       "      <td>0.040844</td>\n",
       "      <td>0.057610</td>\n",
       "      <td>0.005158</td>\n",
       "      <td>0.030013</td>\n",
       "      <td>0.085646</td>\n",
       "      <td>0.062742</td>\n",
       "      <td>0.043081</td>\n",
       "      <td>0.037945</td>\n",
       "      <td>1.000000</td>\n",
       "    </tr>\n",
       "  </tbody>\n",
       "</table>\n",
       "</div>"
      ],
      "text/plain": [
       "                     price  vehicletype  registrationyear   gearbox     power  \\\n",
       "price             1.000000     0.216127          0.625108  0.263669  0.462004   \n",
       "vehicletype       0.216127     1.000000          0.289321  0.363072  0.439331   \n",
       "registrationyear  0.625108     0.289321          1.000000  0.092614  0.181113   \n",
       "gearbox           0.263669     0.363072          0.092614  1.000000  0.470531   \n",
       "power             0.462004     0.439331          0.181113  0.470531  1.000000   \n",
       "model             0.531019     0.908618          0.637221  0.633592  0.753914   \n",
       "kilometer         0.315369     0.234938          0.634197  0.085787  0.149203   \n",
       "fueltype          0.193937     0.363412          0.286077  0.183834  0.219997   \n",
       "brand             0.312743     0.606058          0.289351  0.520747  0.546816   \n",
       "repaired          0.166767     0.040844          0.057610  0.005158  0.030013   \n",
       "\n",
       "                     model  kilometer  fueltype     brand  repaired  \n",
       "price             0.531019   0.315369  0.193937  0.312743  0.166767  \n",
       "vehicletype       0.908618   0.234938  0.363412  0.606058  0.040844  \n",
       "registrationyear  0.637221   0.634197  0.286077  0.289351  0.057610  \n",
       "gearbox           0.633592   0.085787  0.183834  0.520747  0.005158  \n",
       "power             0.753914   0.149203  0.219997  0.546816  0.030013  \n",
       "model             1.000000   0.465221  0.540106  0.997912  0.085646  \n",
       "kilometer         0.465221   1.000000  0.214356  0.288574  0.062742  \n",
       "fueltype          0.540106   0.214356  1.000000  0.305265  0.043081  \n",
       "brand             0.997912   0.288574  0.305265  1.000000  0.037945  \n",
       "repaired          0.085646   0.062742  0.043081  0.037945  1.000000  "
      ]
     },
     "execution_count": 48,
     "metadata": {},
     "output_type": "execute_result"
    }
   ],
   "source": [
    "df.phik_matrix(interval_cols=['price', 'power'])"
   ]
  },
  {
   "cell_type": "markdown",
   "metadata": {
    "id": "oca_itjpUb0o"
   },
   "source": [
    "**Вывод:**\n",
    "\n",
    "- Удалили лишнии колонки в данных\n",
    "- Поменяли регистр колонок\n",
    "- Детально взглянули на колонки **registrationyear**, **power**, **price** и убрали выбросы из них\n",
    "- Заполнили пропуски в колонке **repaired** а остальные просто удалили\n",
    "- Самая большая зависимость проглядывается с годом регистрации автомобиля, мощностью и моделью. Среднюю зависимость имеет пробег и бренд автомобиля."
   ]
  },
  {
   "cell_type": "markdown",
   "metadata": {
    "id": "zbgFEwSFUb0v"
   },
   "source": [
    "## Обучение моделей"
   ]
  },
  {
   "cell_type": "code",
   "execution_count": 49,
   "metadata": {
    "colab": {
     "base_uri": "https://localhost:8080/"
    },
    "id": "8tFCMQWfUb0x",
    "outputId": "b890c345-c3b1-4c69-f2a1-1697dd799e62"
   },
   "outputs": [
    {
     "name": "stdout",
     "output_type": "stream",
     "text": [
      "<class 'pandas.core.frame.DataFrame'>\n",
      "Int64Index: 228691 entries, 1 to 354368\n",
      "Data columns (total 10 columns):\n",
      " #   Column            Non-Null Count   Dtype \n",
      "---  ------            --------------   ----- \n",
      " 0   price             228691 non-null  int64 \n",
      " 1   vehicletype       228691 non-null  object\n",
      " 2   registrationyear  228691 non-null  int64 \n",
      " 3   gearbox           228691 non-null  object\n",
      " 4   power             228691 non-null  int64 \n",
      " 5   model             228691 non-null  object\n",
      " 6   kilometer         228691 non-null  int64 \n",
      " 7   fueltype          228691 non-null  object\n",
      " 8   brand             228691 non-null  object\n",
      " 9   repaired          228691 non-null  object\n",
      "dtypes: int64(4), object(6)\n",
      "memory usage: 19.2+ MB\n"
     ]
    }
   ],
   "source": [
    "df.info()"
   ]
  },
  {
   "cell_type": "code",
   "execution_count": 50,
   "metadata": {
    "id": "y3p2iT4ZUb0y"
   },
   "outputs": [],
   "source": [
    "#признаки для обучения моделей CBR и LGBM\n",
    "features = df1.drop(columns='price')\n",
    "target = df1['price']"
   ]
  },
  {
   "cell_type": "markdown",
   "metadata": {
    "id": "4spVBfm_Ub0y"
   },
   "source": [
    "**Разобьем выборку на train и test**"
   ]
  },
  {
   "cell_type": "code",
   "execution_count": 51,
   "metadata": {
    "id": "AFrV14fxUb0z"
   },
   "outputs": [],
   "source": [
    "features_train, features_test, target_train, target_test = train_test_split(features, target, random_state=888)"
   ]
  },
  {
   "cell_type": "markdown",
   "metadata": {
    "id": "Y2Pp4s2QUb0z"
   },
   "source": [
    "Проверим разбиение, так как делили на 4 части, должно получитсья 25% в каждой переменной"
   ]
  },
  {
   "cell_type": "code",
   "execution_count": 52,
   "metadata": {
    "colab": {
     "base_uri": "https://localhost:8080/"
    },
    "id": "BCImsar0Ub0z",
    "outputId": "382b2af6-b9dd-4f6e-85fa-91d5d56d8aab"
   },
   "outputs": [
    {
     "data": {
      "text/plain": [
       "25"
      ]
     },
     "execution_count": 52,
     "metadata": {},
     "output_type": "execute_result"
    }
   ],
   "source": [
    "round((len(df1) - len(features_train)) / (len(df1)/100))"
   ]
  },
  {
   "cell_type": "code",
   "execution_count": 53,
   "metadata": {
    "colab": {
     "base_uri": "https://localhost:8080/"
    },
    "id": "V77hQ5v3BL2a",
    "outputId": "3a5efd78-1243-4fa6-cc1f-d0b0917a1ca5"
   },
   "outputs": [
    {
     "name": "stdout",
     "output_type": "stream",
     "text": [
      "['vehicletype', 'gearbox', 'model', 'fueltype', 'brand', 'repaired']\n"
     ]
    }
   ],
   "source": [
    "ohe_features = features_train.select_dtypes(include='object').columns.to_list()\n",
    "print(ohe_features)"
   ]
  },
  {
   "cell_type": "code",
   "execution_count": 54,
   "metadata": {
    "colab": {
     "base_uri": "https://localhost:8080/"
    },
    "id": "fO5_6M7gBL2b",
    "outputId": "d9da735d-d4c6-4214-bc2b-7274c663dfa8"
   },
   "outputs": [
    {
     "name": "stdout",
     "output_type": "stream",
     "text": [
      "['registrationyear', 'power', 'kilometer']\n"
     ]
    }
   ],
   "source": [
    "num_features = features_train.select_dtypes(exclude='object').columns.to_list()\n",
    "print(num_features)"
   ]
  },
  {
   "cell_type": "code",
   "execution_count": 55,
   "metadata": {
    "id": "GZMQH0ZZBL2b"
   },
   "outputs": [],
   "source": [
    "col_transformer = make_column_transformer(\n",
    "    (\n",
    "        OneHotEncoder(drop='first', handle_unknown='ignore'),\n",
    "        ohe_features\n",
    "    ),\n",
    "    (\n",
    "        StandardScaler(),\n",
    "        num_features\n",
    "    ),\n",
    "    remainder='passthrough',\n",
    "    verbose_feature_names_out=False\n",
    ")"
   ]
  },
  {
   "cell_type": "code",
   "execution_count": 56,
   "metadata": {
    "id": "P5sC-1iwC2ik"
   },
   "outputs": [],
   "source": [
    "features_train = pd.DataFrame.sparse.from_spmatrix(\n",
    "    col_transformer.fit_transform(features_train),\n",
    "    columns=col_transformer.get_feature_names_out()\n",
    ")"
   ]
  },
  {
   "cell_type": "code",
   "execution_count": 57,
   "metadata": {
    "id": "xQ4GkLKEGD2o"
   },
   "outputs": [],
   "source": [
    "features_test = pd.DataFrame.sparse.from_spmatrix(\n",
    "    col_transformer.transform(features_test),\n",
    "    columns=col_transformer.get_feature_names_out()\n",
    ")"
   ]
  },
  {
   "cell_type": "markdown",
   "metadata": {
    "id": "1fxxGJn-Ub03"
   },
   "source": [
    "## Анализ моделей"
   ]
  },
  {
   "cell_type": "code",
   "execution_count": 58,
   "metadata": {
    "id": "3rTO03OnUb03"
   },
   "outputs": [],
   "source": [
    "def model_analysis(model, features_train, target_train):\n",
    "    start_time = time.time()\n",
    "    model.fit(features_train,target_train)\n",
    "    first_time = time.time() - start_time\n",
    "    start_time1 = time.time()\n",
    "    predict = model.predict(features_train)\n",
    "    second_time = time.time() - start_time1\n",
    "    rmse = np.sqrt(mean_squared_error(target_train, predict))\n",
    "    stat_data = [first_time, second_time, rmse]\n",
    "    return stat_data"
   ]
  },
  {
   "cell_type": "markdown",
   "metadata": {
    "id": "lhVAY6QnUb04"
   },
   "source": [
    "Приступим к обучению и проанализируем время работы и качество моделей."
   ]
  },
  {
   "cell_type": "markdown",
   "metadata": {
    "id": "1SbZ0oCSUb04"
   },
   "source": [
    "**CBR**"
   ]
  },
  {
   "cell_type": "code",
   "execution_count": 59,
   "metadata": {
    "id": "ZD7qBurJUb04"
   },
   "outputs": [],
   "source": [
    "cbr = CatBoostRegressor(iterations=220, learning_rate=0.12, thread_count=-1,\n",
    "                        random_state=888, max_depth=13, l2_leaf_reg=3.5,silent=True, loss_function='RMSE')"
   ]
  },
  {
   "cell_type": "code",
   "execution_count": 60,
   "metadata": {
    "id": "fnU5JomHUb04",
    "scrolled": true
   },
   "outputs": [],
   "source": [
    "\n",
    "model_cbr = model_analysis(cbr, features_train, target_train)"
   ]
  },
  {
   "cell_type": "code",
   "execution_count": 61,
   "metadata": {
    "colab": {
     "base_uri": "https://localhost:8080/"
    },
    "id": "zdC5kzCUUb05",
    "outputId": "2d5f9ffe-29a7-4476-85d6-ddef69139dc4"
   },
   "outputs": [
    {
     "data": {
      "text/plain": [
       "[35.98571562767029, 0.3347785472869873, 1497.7231135445256]"
      ]
     },
     "execution_count": 61,
     "metadata": {},
     "output_type": "execute_result"
    }
   ],
   "source": [
    "model_cbr"
   ]
  },
  {
   "cell_type": "markdown",
   "metadata": {
    "id": "Ny8YL7lCUb06"
   },
   "source": [
    "**LinearRegression**"
   ]
  },
  {
   "cell_type": "code",
   "execution_count": 62,
   "metadata": {
    "id": "u2A34SsDUb06"
   },
   "outputs": [],
   "source": [
    "lr = LinearRegression()"
   ]
  },
  {
   "cell_type": "code",
   "execution_count": 63,
   "metadata": {
    "id": "THmCK2G9Ub08"
   },
   "outputs": [],
   "source": [
    "model_lr= model_analysis(lr, features_train, target_train)"
   ]
  },
  {
   "cell_type": "code",
   "execution_count": 64,
   "metadata": {
    "colab": {
     "base_uri": "https://localhost:8080/"
    },
    "id": "FqIR_xZmUb08",
    "outputId": "8f6edca3-06d7-4ab9-ffca-7d5d76edc906"
   },
   "outputs": [
    {
     "data": {
      "text/plain": [
       "[39.50637245178223, 0.21158385276794434, 2402.834290018558]"
      ]
     },
     "execution_count": 64,
     "metadata": {},
     "output_type": "execute_result"
    }
   ],
   "source": [
    "model_lr"
   ]
  },
  {
   "cell_type": "markdown",
   "metadata": {
    "id": "sfMbQSAsUb09"
   },
   "source": [
    "**LightGBM**"
   ]
  },
  {
   "cell_type": "code",
   "execution_count": 65,
   "metadata": {
    "id": "sncy4JyTUb09"
   },
   "outputs": [],
   "source": [
    "lgbm = LGBMRegressor()"
   ]
  },
  {
   "cell_type": "code",
   "execution_count": 66,
   "metadata": {
    "id": "DrubdxFvUb09"
   },
   "outputs": [],
   "source": [
    "params_lgbm = {\n",
    "    'n_estimators': [25,80,220],\n",
    "    'learning_rate': [0.12],\n",
    "    'random_state' : [888]\n",
    "}"
   ]
  },
  {
   "cell_type": "code",
   "execution_count": 67,
   "metadata": {
    "id": "FNjaD0PNUb0-"
   },
   "outputs": [],
   "source": [
    "gs = GridSearchCV(lgbm,param_grid = params_lgbm, cv = 6, scoring='neg_root_mean_squared_error' )"
   ]
  },
  {
   "cell_type": "code",
   "execution_count": null,
   "metadata": {
    "colab": {
     "base_uri": "https://localhost:8080/",
     "height": 1000
    },
    "id": "whWCR_6wUb0-",
    "outputId": "28b34440-a8c6-488a-998d-b5ea093019fd"
   },
   "outputs": [],
   "source": [
    "gs.fit(features_train,target_train)"
   ]
  },
  {
   "cell_type": "code",
   "execution_count": null,
   "metadata": {
    "colab": {
     "base_uri": "https://localhost:8080/"
    },
    "id": "Qjac8twKUb0-",
    "outputId": "5365e6f0-b65d-46f0-dc65-f826bc7d56c4"
   },
   "outputs": [],
   "source": [
    "gs.best_score_"
   ]
  },
  {
   "cell_type": "code",
   "execution_count": null,
   "metadata": {
    "colab": {
     "base_uri": "https://localhost:8080/",
     "height": 75
    },
    "id": "Y9q7oOFYUb0-",
    "outputId": "618a8bc9-d998-4f88-ffb3-772e9571090c"
   },
   "outputs": [],
   "source": [
    "gs.best_estimator_"
   ]
  },
  {
   "cell_type": "code",
   "execution_count": null,
   "metadata": {
    "id": "5V8dkuoyUb0_"
   },
   "outputs": [],
   "source": [
    "lgbm_1 = gs.best_estimator_"
   ]
  },
  {
   "cell_type": "code",
   "execution_count": null,
   "metadata": {
    "colab": {
     "base_uri": "https://localhost:8080/"
    },
    "id": "pco7S_N2Ub0_",
    "outputId": "4259b9f7-ddb4-4de6-efb4-27ce480777d3"
   },
   "outputs": [],
   "source": [
    "model_lgbm = model_analysis(lgbm_1, features_train, target_train)"
   ]
  },
  {
   "cell_type": "code",
   "execution_count": null,
   "metadata": {
    "colab": {
     "base_uri": "https://localhost:8080/"
    },
    "id": "KSALiet-Ub0_",
    "outputId": "2849df07-b2e8-4721-ea41-1e3ed7c16f56"
   },
   "outputs": [],
   "source": [
    "model_lgbm"
   ]
  },
  {
   "cell_type": "code",
   "execution_count": null,
   "metadata": {
    "id": "akhEg7h1Ub1A"
   },
   "outputs": [],
   "source": [
    "results_df =  analysis_data= pd.DataFrame([model_cbr, model_lr, model_lgbm],\n",
    "             columns=['Learning Time', 'Predicting Time', 'RMSE'],\n",
    "                      index=['CatBoost','LinearRegression','LightGBM'])\n"
   ]
  },
  {
   "cell_type": "code",
   "execution_count": null,
   "metadata": {
    "colab": {
     "base_uri": "https://localhost:8080/",
     "height": 144
    },
    "id": "UlvOGBHAUb1A",
    "outputId": "aee7a2f4-487b-4417-d48c-a842cd824b6b"
   },
   "outputs": [],
   "source": [
    "results_df"
   ]
  },
  {
   "cell_type": "markdown",
   "metadata": {
    "id": "Q9TdICH0Ub1A"
   },
   "source": [
    "**Вывод.**\n",
    "\n",
    "Проанализируем полученные результаты.\n",
    "\n",
    "- **LinearRegression** имеет достаточно ,быстрое время обучения и предсказания, однако его качество самое низкое среди исследованных моделей.\n",
    "- **LightGBM** - достаточно качественная модель, емеет высокую скорость обучения и предсказания.\n",
    "- **CatBoost**  показало самую качественную модель, время обучения достаточно большое относительно других моделей, но самое быстрое предсказание.\n",
    "\n",
    "Исходя из данных можно посоветовать заказчику использовать CatBoost, так как это оптимальным выбор, который удовлетворит его запросы."
   ]
  },
  {
   "cell_type": "markdown",
   "metadata": {
    "id": "ezC7NpR8Ub1B"
   },
   "source": [
    "**Тестирование лучшей модели - CatBoost**"
   ]
  },
  {
   "cell_type": "code",
   "execution_count": null,
   "metadata": {
    "id": "LOnj-hT4qhEX"
   },
   "outputs": [],
   "source": [
    "def model_test_analysis(model, features_test, target_test):\n",
    "    start_time = time.time()\n",
    "    model.fit(features_train,target_train)\n",
    "    first_time = time.time() - start_time\n",
    "    start_time1 = time.time()\n",
    "    predict = model.predict(features_test)\n",
    "    second_time = time.time() - start_time1\n",
    "    rmse = np.sqrt(mean_squared_error(target_test, predict))\n",
    "    stat_data = [first_time, second_time, rmse]\n",
    "    return stat_data"
   ]
  },
  {
   "cell_type": "code",
   "execution_count": null,
   "metadata": {
    "id": "jowuocCYUb1B"
   },
   "outputs": [],
   "source": [
    "cbr_test = CatBoostRegressor(iterations=220, learning_rate=0.12, thread_count=-1,\n",
    "                        random_state=888, max_depth=13, l2_leaf_reg=3.5,silent=True, loss_function='RMSE')"
   ]
  },
  {
   "cell_type": "code",
   "execution_count": null,
   "metadata": {
    "id": "ybRLaiv3Ub1B"
   },
   "outputs": [],
   "source": [
    "model_cbr = model_test_analysis(cbr_test, features_test, target_test)"
   ]
  },
  {
   "cell_type": "code",
   "execution_count": null,
   "metadata": {
    "colab": {
     "base_uri": "https://localhost:8080/"
    },
    "id": "pnjPCm3yraD6",
    "outputId": "a194bcee-7e02-4931-d3dc-0c733a44dd62"
   },
   "outputs": [],
   "source": [
    "model_cbr"
   ]
  },
  {
   "cell_type": "markdown",
   "metadata": {
    "id": "Fz2tXfIrUb1C"
   },
   "source": [
    "Выбранная модель **CatBoost**  имеет значение **RMSE=1577**, т.е. удовлетворяет требования заказчика.\n"
   ]
  },
  {
   "cell_type": "markdown",
   "metadata": {
    "id": "7S0aKBQYUb1C"
   },
   "source": [
    "**Проверка модели на адекватность**"
   ]
  },
  {
   "cell_type": "code",
   "execution_count": null,
   "metadata": {
    "colab": {
     "base_uri": "https://localhost:8080/"
    },
    "id": "NIY2FP4AUb1C",
    "outputId": "e8e2d663-fddb-47bc-e2b3-80091476cfbb"
   },
   "outputs": [],
   "source": [
    "dummy = DummyRegressor(strategy=\"mean\")\n",
    "dummy.fit(features_train, target_train)\n",
    "test = dummy.predict(features_test)\n",
    "test_dummy = np.sqrt(mean_squared_error(target_test, test))\n",
    "test_dummy"
   ]
  }
 ],
 "metadata": {
  "ExecuteTimeLog": [
   {
    "duration": 48,
    "start_time": "2023-09-28T17:26:29.571Z"
   },
   {
    "duration": 1891,
    "start_time": "2023-09-28T17:26:52.947Z"
   },
   {
    "duration": 77,
    "start_time": "2023-09-28T17:26:54.840Z"
   },
   {
    "duration": 4,
    "start_time": "2023-09-28T17:28:23.337Z"
   },
   {
    "duration": 1293,
    "start_time": "2023-09-28T17:28:23.809Z"
   },
   {
    "duration": 5,
    "start_time": "2023-09-28T17:28:51.948Z"
   },
   {
    "duration": 995,
    "start_time": "2023-09-28T17:28:53.180Z"
   },
   {
    "duration": 6,
    "start_time": "2023-09-28T17:28:55.922Z"
   },
   {
    "duration": 1020,
    "start_time": "2023-09-28T17:28:55.930Z"
   },
   {
    "duration": 19,
    "start_time": "2023-09-28T17:29:35.223Z"
   },
   {
    "duration": 196,
    "start_time": "2023-09-28T17:30:06.617Z"
   },
   {
    "duration": 507,
    "start_time": "2023-09-28T17:30:26.462Z"
   },
   {
    "duration": 439,
    "start_time": "2023-09-28T17:30:38.742Z"
   },
   {
    "duration": 462,
    "start_time": "2023-09-28T17:30:44.031Z"
   },
   {
    "duration": 512,
    "start_time": "2023-09-28T17:31:05.098Z"
   },
   {
    "duration": 88,
    "start_time": "2023-09-28T17:31:12.406Z"
   },
   {
    "duration": 148,
    "start_time": "2023-09-28T17:31:28.133Z"
   },
   {
    "duration": 25,
    "start_time": "2023-09-28T17:35:00.635Z"
   },
   {
    "duration": 4,
    "start_time": "2023-09-28T17:35:15.479Z"
   },
   {
    "duration": 1477,
    "start_time": "2023-09-28T17:35:24.030Z"
   },
   {
    "duration": 503,
    "start_time": "2023-09-28T17:36:01.096Z"
   },
   {
    "duration": 28,
    "start_time": "2023-09-28T17:36:32.009Z"
   },
   {
    "duration": 325,
    "start_time": "2023-09-28T17:38:08.445Z"
   },
   {
    "duration": 437,
    "start_time": "2023-09-28T17:38:58.119Z"
   },
   {
    "duration": 28,
    "start_time": "2023-09-28T17:40:48.990Z"
   },
   {
    "duration": 304,
    "start_time": "2023-09-28T17:40:55.086Z"
   },
   {
    "duration": 97,
    "start_time": "2023-09-28T17:41:08.725Z"
   },
   {
    "duration": 358,
    "start_time": "2023-09-28T17:41:29.917Z"
   },
   {
    "duration": 133,
    "start_time": "2023-09-28T17:41:54.494Z"
   },
   {
    "duration": 26,
    "start_time": "2023-09-28T17:42:48.562Z"
   },
   {
    "duration": 389,
    "start_time": "2023-09-28T17:42:59.041Z"
   },
   {
    "duration": 1445,
    "start_time": "2023-09-28T17:43:38.632Z"
   },
   {
    "duration": 73,
    "start_time": "2023-09-28T17:43:57.349Z"
   },
   {
    "duration": 4,
    "start_time": "2023-09-28T17:44:08.839Z"
   },
   {
    "duration": 958,
    "start_time": "2023-09-28T17:44:08.845Z"
   },
   {
    "duration": 16,
    "start_time": "2023-09-28T17:44:09.805Z"
   },
   {
    "duration": 198,
    "start_time": "2023-09-28T17:44:09.823Z"
   },
   {
    "duration": 462,
    "start_time": "2023-09-28T17:44:10.023Z"
   },
   {
    "duration": 475,
    "start_time": "2023-09-28T17:44:10.487Z"
   },
   {
    "duration": 93,
    "start_time": "2023-09-28T17:44:10.964Z"
   },
   {
    "duration": 165,
    "start_time": "2023-09-28T17:44:11.059Z"
   },
   {
    "duration": 25,
    "start_time": "2023-09-28T17:44:11.226Z"
   },
   {
    "duration": 3,
    "start_time": "2023-09-28T17:44:11.254Z"
   },
   {
    "duration": 1504,
    "start_time": "2023-09-28T17:44:11.259Z"
   },
   {
    "duration": 528,
    "start_time": "2023-09-28T17:44:12.765Z"
   },
   {
    "duration": 24,
    "start_time": "2023-09-28T17:44:13.295Z"
   },
   {
    "duration": 375,
    "start_time": "2023-09-28T17:44:13.321Z"
   },
   {
    "duration": 377,
    "start_time": "2023-09-28T17:44:13.698Z"
   },
   {
    "duration": 26,
    "start_time": "2023-09-28T17:44:14.081Z"
   },
   {
    "duration": 323,
    "start_time": "2023-09-28T17:44:14.109Z"
   },
   {
    "duration": 479,
    "start_time": "2023-09-28T17:44:14.434Z"
   },
   {
    "duration": 28,
    "start_time": "2023-09-28T17:44:14.915Z"
   },
   {
    "duration": 428,
    "start_time": "2023-09-28T17:44:14.945Z"
   },
   {
    "duration": 1760,
    "start_time": "2023-09-28T17:44:15.377Z"
   },
   {
    "duration": 0,
    "start_time": "2023-09-28T17:44:17.139Z"
   },
   {
    "duration": 20,
    "start_time": "2023-09-28T17:45:33.514Z"
   },
   {
    "duration": 80,
    "start_time": "2023-09-28T17:45:37.235Z"
   },
   {
    "duration": 86,
    "start_time": "2023-09-28T17:46:55.365Z"
   },
   {
    "duration": 87,
    "start_time": "2023-09-28T17:47:10.751Z"
   },
   {
    "duration": 4,
    "start_time": "2023-09-28T17:47:21.529Z"
   },
   {
    "duration": 451,
    "start_time": "2023-09-28T17:48:45.897Z"
   },
   {
    "duration": 368,
    "start_time": "2023-09-28T17:51:05.209Z"
   },
   {
    "duration": 15,
    "start_time": "2023-09-28T17:51:13.374Z"
   },
   {
    "duration": 133,
    "start_time": "2023-09-28T17:51:28.336Z"
   },
   {
    "duration": 18,
    "start_time": "2023-09-28T17:51:38.232Z"
   },
   {
    "duration": 19,
    "start_time": "2023-09-28T17:51:48.310Z"
   },
   {
    "duration": 29,
    "start_time": "2023-09-28T17:52:31.990Z"
   },
   {
    "duration": 29,
    "start_time": "2023-09-28T17:53:23.875Z"
   },
   {
    "duration": 1336,
    "start_time": "2023-09-28T17:53:37.294Z"
   },
   {
    "duration": 5,
    "start_time": "2023-09-28T17:53:59.844Z"
   },
   {
    "duration": 6,
    "start_time": "2023-09-28T17:54:27.637Z"
   },
   {
    "duration": 58,
    "start_time": "2023-09-28T17:57:06.365Z"
   },
   {
    "duration": 42,
    "start_time": "2023-09-28T17:57:16.616Z"
   },
   {
    "duration": 5,
    "start_time": "2023-09-28T17:57:36.176Z"
   },
   {
    "duration": 53,
    "start_time": "2023-09-28T17:57:49.262Z"
   },
   {
    "duration": 47,
    "start_time": "2023-09-28T17:57:50.360Z"
   },
   {
    "duration": 5,
    "start_time": "2023-09-28T17:57:51.933Z"
   },
   {
    "duration": 4,
    "start_time": "2023-09-28T17:58:31.063Z"
   },
   {
    "duration": 4,
    "start_time": "2023-09-28T17:59:26.067Z"
   },
   {
    "duration": 159404,
    "start_time": "2023-09-28T17:59:35.364Z"
   },
   {
    "duration": 389,
    "start_time": "2023-09-28T18:02:31.222Z"
   },
   {
    "duration": 4,
    "start_time": "2023-09-28T18:05:15.809Z"
   },
   {
    "duration": 18684,
    "start_time": "2023-09-28T18:05:26.649Z"
   },
   {
    "duration": 124,
    "start_time": "2023-09-28T18:05:47.776Z"
   },
   {
    "duration": 6,
    "start_time": "2023-09-28T18:05:54.124Z"
   },
   {
    "duration": 4,
    "start_time": "2023-09-28T18:06:32.494Z"
   },
   {
    "duration": 55,
    "start_time": "2023-09-28T18:06:39.047Z"
   },
   {
    "duration": 71,
    "start_time": "2023-09-28T18:06:47.817Z"
   },
   {
    "duration": 3,
    "start_time": "2023-09-28T18:07:07.889Z"
   },
   {
    "duration": 422814,
    "start_time": "2023-09-28T18:07:16.470Z"
   },
   {
    "duration": 402,
    "start_time": "2023-09-28T18:15:34.286Z"
   },
   {
    "duration": 4,
    "start_time": "2023-09-28T18:16:07.702Z"
   },
   {
    "duration": 8,
    "start_time": "2023-09-28T18:16:20.310Z"
   },
   {
    "duration": 4,
    "start_time": "2023-09-28T18:19:23.012Z"
   },
   {
    "duration": 883,
    "start_time": "2023-09-28T18:19:23.018Z"
   },
   {
    "duration": 14,
    "start_time": "2023-09-28T18:19:23.903Z"
   },
   {
    "duration": 175,
    "start_time": "2023-09-28T18:19:23.919Z"
   },
   {
    "duration": 462,
    "start_time": "2023-09-28T18:19:24.096Z"
   },
   {
    "duration": 474,
    "start_time": "2023-09-28T18:19:24.560Z"
   },
   {
    "duration": 103,
    "start_time": "2023-09-28T18:19:25.036Z"
   },
   {
    "duration": 150,
    "start_time": "2023-09-28T18:19:25.141Z"
   },
   {
    "duration": 25,
    "start_time": "2023-09-28T18:19:25.293Z"
   },
   {
    "duration": 3,
    "start_time": "2023-09-28T18:19:25.320Z"
   },
   {
    "duration": 1618,
    "start_time": "2023-09-28T18:19:25.325Z"
   },
   {
    "duration": 524,
    "start_time": "2023-09-28T18:19:26.945Z"
   },
   {
    "duration": 29,
    "start_time": "2023-09-28T18:19:27.472Z"
   },
   {
    "duration": 353,
    "start_time": "2023-09-28T18:19:27.502Z"
   },
   {
    "duration": 383,
    "start_time": "2023-09-28T18:19:27.857Z"
   },
   {
    "duration": 24,
    "start_time": "2023-09-28T18:19:28.242Z"
   },
   {
    "duration": 313,
    "start_time": "2023-09-28T18:19:28.268Z"
   },
   {
    "duration": 380,
    "start_time": "2023-09-28T18:19:28.583Z"
   },
   {
    "duration": 33,
    "start_time": "2023-09-28T18:19:28.965Z"
   },
   {
    "duration": 418,
    "start_time": "2023-09-28T18:19:29.000Z"
   },
   {
    "duration": 20,
    "start_time": "2023-09-28T18:19:29.420Z"
   },
   {
    "duration": 87,
    "start_time": "2023-09-28T18:19:29.442Z"
   },
   {
    "duration": 100,
    "start_time": "2023-09-28T18:19:29.531Z"
   },
   {
    "duration": 4,
    "start_time": "2023-09-28T18:19:29.633Z"
   },
   {
    "duration": 388,
    "start_time": "2023-09-28T18:19:29.638Z"
   },
   {
    "duration": 386,
    "start_time": "2023-09-28T18:19:30.028Z"
   },
   {
    "duration": 13,
    "start_time": "2023-09-28T18:19:30.416Z"
   },
   {
    "duration": 146,
    "start_time": "2023-09-28T18:19:30.431Z"
   },
   {
    "duration": 17,
    "start_time": "2023-09-28T18:19:30.582Z"
   },
   {
    "duration": 63,
    "start_time": "2023-09-28T18:19:30.601Z"
   },
   {
    "duration": 54,
    "start_time": "2023-09-28T18:19:30.666Z"
   },
   {
    "duration": 56,
    "start_time": "2023-09-28T18:19:30.722Z"
   },
   {
    "duration": 46,
    "start_time": "2023-09-28T18:19:30.780Z"
   },
   {
    "duration": 75,
    "start_time": "2023-09-28T18:19:30.828Z"
   },
   {
    "duration": 172,
    "start_time": "2023-09-28T18:19:30.905Z"
   },
   {
    "duration": 88,
    "start_time": "2023-09-28T18:19:31.079Z"
   },
   {
    "duration": 168,
    "start_time": "2023-09-28T18:19:31.169Z"
   },
   {
    "duration": 72,
    "start_time": "2023-09-28T18:19:31.338Z"
   },
   {
    "duration": 49,
    "start_time": "2023-09-28T18:19:31.412Z"
   },
   {
    "duration": 147172,
    "start_time": "2023-09-28T18:19:31.463Z"
   },
   {
    "duration": 373,
    "start_time": "2023-09-28T18:21:58.637Z"
   },
   {
    "duration": 4,
    "start_time": "2023-09-28T18:21:59.012Z"
   },
   {
    "duration": 17938,
    "start_time": "2023-09-28T18:21:59.017Z"
   },
   {
    "duration": 96,
    "start_time": "2023-09-28T18:22:16.957Z"
   },
   {
    "duration": 7,
    "start_time": "2023-09-28T18:22:17.055Z"
   },
   {
    "duration": 6,
    "start_time": "2023-09-28T18:22:17.064Z"
   },
   {
    "duration": 53,
    "start_time": "2023-09-28T18:22:17.089Z"
   },
   {
    "duration": 138,
    "start_time": "2023-09-28T18:22:17.145Z"
   },
   {
    "duration": 6,
    "start_time": "2023-09-28T18:22:17.287Z"
   },
   {
    "duration": 171104,
    "start_time": "2023-09-28T18:22:17.295Z"
   },
   {
    "duration": 504,
    "start_time": "2023-09-28T18:25:08.401Z"
   },
   {
    "duration": 5,
    "start_time": "2023-09-28T18:25:08.907Z"
   },
   {
    "duration": 68,
    "start_time": "2023-09-28T18:25:08.914Z"
   },
   {
    "duration": 7836,
    "start_time": "2023-09-28T20:20:45.991Z"
   },
   {
    "duration": 1607,
    "start_time": "2023-09-28T20:20:53.829Z"
   },
   {
    "duration": 18,
    "start_time": "2023-09-28T20:20:55.438Z"
   },
   {
    "duration": 217,
    "start_time": "2023-09-28T20:20:55.458Z"
   },
   {
    "duration": 551,
    "start_time": "2023-09-28T20:20:55.677Z"
   },
   {
    "duration": 643,
    "start_time": "2023-09-28T20:20:56.230Z"
   },
   {
    "duration": 101,
    "start_time": "2023-09-28T20:20:56.875Z"
   },
   {
    "duration": 182,
    "start_time": "2023-09-28T20:20:56.978Z"
   },
   {
    "duration": 39,
    "start_time": "2023-09-28T20:20:57.163Z"
   },
   {
    "duration": 19,
    "start_time": "2023-09-28T20:20:57.205Z"
   },
   {
    "duration": 1715,
    "start_time": "2023-09-28T20:20:57.225Z"
   },
   {
    "duration": 570,
    "start_time": "2023-09-28T20:20:58.941Z"
   },
   {
    "duration": 41,
    "start_time": "2023-09-28T20:20:59.513Z"
   },
   {
    "duration": 388,
    "start_time": "2023-09-28T20:20:59.557Z"
   },
   {
    "duration": 469,
    "start_time": "2023-09-28T20:20:59.950Z"
   },
   {
    "duration": 34,
    "start_time": "2023-09-28T20:21:00.421Z"
   },
   {
    "duration": 372,
    "start_time": "2023-09-28T20:21:00.463Z"
   },
   {
    "duration": 405,
    "start_time": "2023-09-28T20:21:00.836Z"
   },
   {
    "duration": 34,
    "start_time": "2023-09-28T20:21:01.243Z"
   },
   {
    "duration": 438,
    "start_time": "2023-09-28T20:21:01.284Z"
   },
   {
    "duration": 28,
    "start_time": "2023-09-28T20:21:01.723Z"
   },
   {
    "duration": 121,
    "start_time": "2023-09-28T20:21:01.753Z"
   },
   {
    "duration": 104,
    "start_time": "2023-09-28T20:21:08.930Z"
   },
   {
    "duration": 1657,
    "start_time": "2023-09-29T09:52:51.713Z"
   },
   {
    "duration": 3017,
    "start_time": "2023-09-29T09:52:53.371Z"
   },
   {
    "duration": 15,
    "start_time": "2023-09-29T09:52:56.390Z"
   },
   {
    "duration": 156,
    "start_time": "2023-09-29T09:52:56.407Z"
   },
   {
    "duration": 488,
    "start_time": "2023-09-29T09:52:56.564Z"
   },
   {
    "duration": 475,
    "start_time": "2023-09-29T09:52:57.054Z"
   },
   {
    "duration": 97,
    "start_time": "2023-09-29T09:52:57.531Z"
   },
   {
    "duration": 146,
    "start_time": "2023-09-29T09:52:57.629Z"
   },
   {
    "duration": 50,
    "start_time": "2023-09-29T09:52:57.777Z"
   },
   {
    "duration": 25,
    "start_time": "2023-09-29T09:52:57.829Z"
   },
   {
    "duration": 1302,
    "start_time": "2023-09-29T09:52:57.856Z"
   },
   {
    "duration": 5,
    "start_time": "2023-09-29T09:53:41.726Z"
   },
   {
    "duration": 1391,
    "start_time": "2023-09-29T09:53:47.187Z"
   },
   {
    "duration": 1313,
    "start_time": "2023-09-29T09:54:01.896Z"
   },
   {
    "duration": 1532,
    "start_time": "2023-09-29T09:59:10.831Z"
   },
   {
    "duration": 1350,
    "start_time": "2023-09-29T09:59:30.659Z"
   },
   {
    "duration": 1527,
    "start_time": "2023-09-29T10:01:04.030Z"
   },
   {
    "duration": 95,
    "start_time": "2023-09-29T10:01:40.998Z"
   },
   {
    "duration": 108,
    "start_time": "2023-09-29T10:22:45.317Z"
   },
   {
    "duration": 651,
    "start_time": "2023-09-29T10:23:34.189Z"
   },
   {
    "duration": 108,
    "start_time": "2023-09-29T10:23:47.070Z"
   },
   {
    "duration": 672,
    "start_time": "2023-09-29T10:24:20.395Z"
   },
   {
    "duration": 738,
    "start_time": "2023-09-29T10:24:34.332Z"
   },
   {
    "duration": 1658,
    "start_time": "2023-09-29T10:24:56.802Z"
   },
   {
    "duration": 1371,
    "start_time": "2023-09-29T10:32:42.397Z"
   },
   {
    "duration": 4,
    "start_time": "2023-09-29T10:33:15.342Z"
   },
   {
    "duration": 884,
    "start_time": "2023-09-29T10:33:15.349Z"
   },
   {
    "duration": 16,
    "start_time": "2023-09-29T10:33:16.234Z"
   },
   {
    "duration": 164,
    "start_time": "2023-09-29T10:33:16.251Z"
   },
   {
    "duration": 446,
    "start_time": "2023-09-29T10:33:16.417Z"
   },
   {
    "duration": 490,
    "start_time": "2023-09-29T10:33:16.865Z"
   },
   {
    "duration": 99,
    "start_time": "2023-09-29T10:33:17.357Z"
   },
   {
    "duration": 133,
    "start_time": "2023-09-29T10:33:17.457Z"
   },
   {
    "duration": 40,
    "start_time": "2023-09-29T10:33:17.592Z"
   },
   {
    "duration": 4,
    "start_time": "2023-09-29T10:33:17.634Z"
   },
   {
    "duration": 115,
    "start_time": "2023-09-29T10:33:17.644Z"
   },
   {
    "duration": 0,
    "start_time": "2023-09-29T10:33:43.386Z"
   },
   {
    "duration": 0,
    "start_time": "2023-09-29T10:33:43.387Z"
   },
   {
    "duration": 0,
    "start_time": "2023-09-29T10:33:43.388Z"
   },
   {
    "duration": 0,
    "start_time": "2023-09-29T10:33:43.388Z"
   },
   {
    "duration": 0,
    "start_time": "2023-09-29T10:33:43.389Z"
   },
   {
    "duration": 0,
    "start_time": "2023-09-29T10:33:43.390Z"
   },
   {
    "duration": 0,
    "start_time": "2023-09-29T10:33:43.391Z"
   },
   {
    "duration": 0,
    "start_time": "2023-09-29T10:33:43.392Z"
   },
   {
    "duration": 0,
    "start_time": "2023-09-29T10:33:43.393Z"
   },
   {
    "duration": 0,
    "start_time": "2023-09-29T10:33:43.445Z"
   },
   {
    "duration": 0,
    "start_time": "2023-09-29T10:33:43.446Z"
   },
   {
    "duration": 0,
    "start_time": "2023-09-29T10:33:43.447Z"
   },
   {
    "duration": 0,
    "start_time": "2023-09-29T10:33:43.448Z"
   },
   {
    "duration": 0,
    "start_time": "2023-09-29T10:33:43.449Z"
   },
   {
    "duration": 0,
    "start_time": "2023-09-29T10:33:43.450Z"
   },
   {
    "duration": 0,
    "start_time": "2023-09-29T10:33:43.451Z"
   },
   {
    "duration": 0,
    "start_time": "2023-09-29T10:33:43.452Z"
   },
   {
    "duration": 0,
    "start_time": "2023-09-29T10:33:43.453Z"
   },
   {
    "duration": 0,
    "start_time": "2023-09-29T10:33:43.454Z"
   },
   {
    "duration": 0,
    "start_time": "2023-09-29T10:33:43.455Z"
   },
   {
    "duration": 1,
    "start_time": "2023-09-29T10:33:43.456Z"
   },
   {
    "duration": 0,
    "start_time": "2023-09-29T10:33:43.458Z"
   },
   {
    "duration": 0,
    "start_time": "2023-09-29T10:33:43.459Z"
   },
   {
    "duration": 0,
    "start_time": "2023-09-29T10:33:43.460Z"
   },
   {
    "duration": 0,
    "start_time": "2023-09-29T10:33:43.462Z"
   },
   {
    "duration": 0,
    "start_time": "2023-09-29T10:33:43.463Z"
   },
   {
    "duration": 0,
    "start_time": "2023-09-29T10:33:43.464Z"
   },
   {
    "duration": 0,
    "start_time": "2023-09-29T10:33:43.466Z"
   },
   {
    "duration": 0,
    "start_time": "2023-09-29T10:33:43.467Z"
   },
   {
    "duration": 0,
    "start_time": "2023-09-29T10:33:43.468Z"
   },
   {
    "duration": 0,
    "start_time": "2023-09-29T10:33:43.469Z"
   },
   {
    "duration": 0,
    "start_time": "2023-09-29T10:33:43.471Z"
   },
   {
    "duration": 0,
    "start_time": "2023-09-29T10:33:43.472Z"
   },
   {
    "duration": 0,
    "start_time": "2023-09-29T10:33:43.473Z"
   },
   {
    "duration": 0,
    "start_time": "2023-09-29T10:33:43.475Z"
   },
   {
    "duration": 0,
    "start_time": "2023-09-29T10:33:43.476Z"
   },
   {
    "duration": 0,
    "start_time": "2023-09-29T10:33:43.477Z"
   },
   {
    "duration": 0,
    "start_time": "2023-09-29T10:33:43.479Z"
   },
   {
    "duration": 0,
    "start_time": "2023-09-29T10:33:43.480Z"
   },
   {
    "duration": 0,
    "start_time": "2023-09-29T10:33:43.481Z"
   },
   {
    "duration": 0,
    "start_time": "2023-09-29T10:33:43.545Z"
   },
   {
    "duration": 0,
    "start_time": "2023-09-29T10:33:43.546Z"
   },
   {
    "duration": 0,
    "start_time": "2023-09-29T10:33:43.547Z"
   },
   {
    "duration": 0,
    "start_time": "2023-09-29T10:33:43.548Z"
   },
   {
    "duration": 0,
    "start_time": "2023-09-29T10:33:43.549Z"
   },
   {
    "duration": 0,
    "start_time": "2023-09-29T10:33:43.550Z"
   },
   {
    "duration": 0,
    "start_time": "2023-09-29T10:33:43.551Z"
   },
   {
    "duration": 0,
    "start_time": "2023-09-29T10:33:43.553Z"
   },
   {
    "duration": 0,
    "start_time": "2023-09-29T10:33:43.554Z"
   },
   {
    "duration": 0,
    "start_time": "2023-09-29T10:33:43.555Z"
   },
   {
    "duration": 0,
    "start_time": "2023-09-29T10:33:43.556Z"
   },
   {
    "duration": 0,
    "start_time": "2023-09-29T10:33:43.557Z"
   },
   {
    "duration": 0,
    "start_time": "2023-09-29T10:33:43.558Z"
   },
   {
    "duration": 0,
    "start_time": "2023-09-29T10:33:43.559Z"
   },
   {
    "duration": 0,
    "start_time": "2023-09-29T10:33:43.560Z"
   },
   {
    "duration": 0,
    "start_time": "2023-09-29T10:33:43.561Z"
   },
   {
    "duration": 0,
    "start_time": "2023-09-29T10:33:43.562Z"
   },
   {
    "duration": 0,
    "start_time": "2023-09-29T10:33:43.563Z"
   },
   {
    "duration": 4,
    "start_time": "2023-09-29T10:33:53.316Z"
   },
   {
    "duration": 844,
    "start_time": "2023-09-29T10:33:53.322Z"
   },
   {
    "duration": 18,
    "start_time": "2023-09-29T10:33:54.168Z"
   },
   {
    "duration": 271,
    "start_time": "2023-09-29T10:33:54.187Z"
   },
   {
    "duration": 423,
    "start_time": "2023-09-29T10:33:54.460Z"
   },
   {
    "duration": 484,
    "start_time": "2023-09-29T10:33:54.885Z"
   },
   {
    "duration": 103,
    "start_time": "2023-09-29T10:33:55.371Z"
   },
   {
    "duration": 149,
    "start_time": "2023-09-29T10:33:55.476Z"
   },
   {
    "duration": 32,
    "start_time": "2023-09-29T10:33:55.626Z"
   },
   {
    "duration": 3,
    "start_time": "2023-09-29T10:33:55.660Z"
   },
   {
    "duration": 105,
    "start_time": "2023-09-29T10:33:55.665Z"
   },
   {
    "duration": 1491,
    "start_time": "2023-09-29T10:33:55.771Z"
   },
   {
    "duration": 1515,
    "start_time": "2023-09-29T10:34:25.732Z"
   },
   {
    "duration": 478,
    "start_time": "2023-09-29T10:35:13.458Z"
   },
   {
    "duration": 23,
    "start_time": "2023-09-29T10:35:26.090Z"
   },
   {
    "duration": 414,
    "start_time": "2023-09-29T10:36:28.527Z"
   },
   {
    "duration": 85,
    "start_time": "2023-09-29T10:37:45.134Z"
   },
   {
    "duration": 2555,
    "start_time": "2023-09-29T10:38:29.526Z"
   },
   {
    "duration": 233,
    "start_time": "2023-09-29T10:39:45.698Z"
   },
   {
    "duration": 124,
    "start_time": "2023-09-29T10:40:17.867Z"
   },
   {
    "duration": 9,
    "start_time": "2023-09-29T10:41:45.684Z"
   },
   {
    "duration": 10,
    "start_time": "2023-09-29T10:42:12.066Z"
   },
   {
    "duration": 14,
    "start_time": "2023-09-29T10:42:18.852Z"
   },
   {
    "duration": 1265,
    "start_time": "2023-09-29T10:42:29.584Z"
   },
   {
    "duration": 471,
    "start_time": "2023-09-29T10:43:10.622Z"
   },
   {
    "duration": 394,
    "start_time": "2023-09-29T10:44:41.509Z"
   },
   {
    "duration": 395,
    "start_time": "2023-09-29T10:45:28.409Z"
   },
   {
    "duration": 315,
    "start_time": "2023-09-29T10:45:57.141Z"
   },
   {
    "duration": 345,
    "start_time": "2023-09-29T10:46:24.317Z"
   },
   {
    "duration": 315,
    "start_time": "2023-09-29T10:47:21.203Z"
   },
   {
    "duration": 427,
    "start_time": "2023-09-29T10:47:58.506Z"
   },
   {
    "duration": 441,
    "start_time": "2023-09-29T10:48:37.266Z"
   },
   {
    "duration": 156,
    "start_time": "2023-09-29T10:49:48.391Z"
   },
   {
    "duration": 19,
    "start_time": "2023-09-29T10:50:48.394Z"
   },
   {
    "duration": 260,
    "start_time": "2023-09-29T10:50:52.663Z"
   },
   {
    "duration": 275,
    "start_time": "2023-09-29T10:51:20.933Z"
   },
   {
    "duration": 291,
    "start_time": "2023-09-29T10:51:30.256Z"
   },
   {
    "duration": 17,
    "start_time": "2023-09-29T10:51:31.702Z"
   },
   {
    "duration": 333,
    "start_time": "2023-09-29T10:51:34.413Z"
   },
   {
    "duration": 236,
    "start_time": "2023-09-29T10:51:53.137Z"
   },
   {
    "duration": 256,
    "start_time": "2023-09-29T10:52:27.006Z"
   },
   {
    "duration": 16,
    "start_time": "2023-09-29T10:52:28.533Z"
   },
   {
    "duration": 88,
    "start_time": "2023-09-29T11:03:28.849Z"
   },
   {
    "duration": 286,
    "start_time": "2023-09-29T11:04:23.134Z"
   },
   {
    "duration": 263,
    "start_time": "2023-09-29T11:05:07.607Z"
   },
   {
    "duration": 8,
    "start_time": "2023-09-29T11:05:38.057Z"
   },
   {
    "duration": 22,
    "start_time": "2023-09-29T11:05:47.395Z"
   },
   {
    "duration": 13,
    "start_time": "2023-09-29T11:08:33.156Z"
   },
   {
    "duration": 12,
    "start_time": "2023-09-29T11:10:01.563Z"
   },
   {
    "duration": 5,
    "start_time": "2023-09-29T11:10:16.437Z"
   },
   {
    "duration": 857,
    "start_time": "2023-09-29T11:10:16.453Z"
   },
   {
    "duration": 12,
    "start_time": "2023-09-29T11:10:17.312Z"
   },
   {
    "duration": 159,
    "start_time": "2023-09-29T11:10:17.325Z"
   },
   {
    "duration": 411,
    "start_time": "2023-09-29T11:10:17.486Z"
   },
   {
    "duration": 409,
    "start_time": "2023-09-29T11:10:17.899Z"
   },
   {
    "duration": 100,
    "start_time": "2023-09-29T11:10:18.310Z"
   },
   {
    "duration": 140,
    "start_time": "2023-09-29T11:10:18.412Z"
   },
   {
    "duration": 25,
    "start_time": "2023-09-29T11:10:18.554Z"
   },
   {
    "duration": 107,
    "start_time": "2023-09-29T11:10:18.581Z"
   },
   {
    "duration": 497,
    "start_time": "2023-09-29T11:10:18.690Z"
   },
   {
    "duration": 493,
    "start_time": "2023-09-29T11:10:19.188Z"
   },
   {
    "duration": 391,
    "start_time": "2023-09-29T11:10:19.682Z"
   },
   {
    "duration": 529,
    "start_time": "2023-09-29T11:10:20.075Z"
   },
   {
    "duration": 1475,
    "start_time": "2023-09-29T11:10:20.607Z"
   },
   {
    "duration": 535,
    "start_time": "2023-09-29T11:10:22.084Z"
   },
   {
    "duration": 30,
    "start_time": "2023-09-29T11:10:22.621Z"
   },
   {
    "duration": 264,
    "start_time": "2023-09-29T11:10:22.658Z"
   },
   {
    "duration": 336,
    "start_time": "2023-09-29T11:10:22.923Z"
   },
   {
    "duration": 17,
    "start_time": "2023-09-29T11:10:23.261Z"
   },
   {
    "duration": 242,
    "start_time": "2023-09-29T11:10:23.280Z"
   },
   {
    "duration": 299,
    "start_time": "2023-09-29T11:10:23.523Z"
   },
   {
    "duration": 33,
    "start_time": "2023-09-29T11:10:23.824Z"
   },
   {
    "duration": 450,
    "start_time": "2023-09-29T11:10:23.859Z"
   },
   {
    "duration": 17,
    "start_time": "2023-09-29T11:10:24.311Z"
   },
   {
    "duration": 25,
    "start_time": "2023-09-29T11:10:24.346Z"
   },
   {
    "duration": 12,
    "start_time": "2023-09-29T11:10:46.561Z"
   },
   {
    "duration": 6,
    "start_time": "2023-09-29T11:11:07.643Z"
   },
   {
    "duration": 13,
    "start_time": "2023-09-29T11:11:47.893Z"
   },
   {
    "duration": 11,
    "start_time": "2023-09-29T11:11:49.431Z"
   },
   {
    "duration": 10,
    "start_time": "2023-09-29T11:11:50.211Z"
   },
   {
    "duration": 4,
    "start_time": "2023-09-29T11:11:53.538Z"
   },
   {
    "duration": 12,
    "start_time": "2023-09-29T11:12:05.967Z"
   },
   {
    "duration": 4,
    "start_time": "2023-09-29T11:12:13.271Z"
   },
   {
    "duration": 811,
    "start_time": "2023-09-29T11:12:13.276Z"
   },
   {
    "duration": 13,
    "start_time": "2023-09-29T11:12:14.089Z"
   },
   {
    "duration": 191,
    "start_time": "2023-09-29T11:12:14.104Z"
   },
   {
    "duration": 422,
    "start_time": "2023-09-29T11:12:14.297Z"
   },
   {
    "duration": 448,
    "start_time": "2023-09-29T11:12:14.720Z"
   },
   {
    "duration": 93,
    "start_time": "2023-09-29T11:12:15.170Z"
   },
   {
    "duration": 150,
    "start_time": "2023-09-29T11:12:15.264Z"
   },
   {
    "duration": 41,
    "start_time": "2023-09-29T11:12:15.415Z"
   },
   {
    "duration": 98,
    "start_time": "2023-09-29T11:12:15.459Z"
   },
   {
    "duration": 535,
    "start_time": "2023-09-29T11:12:15.560Z"
   },
   {
    "duration": 533,
    "start_time": "2023-09-29T11:12:16.097Z"
   },
   {
    "duration": 382,
    "start_time": "2023-09-29T11:12:16.632Z"
   },
   {
    "duration": 510,
    "start_time": "2023-09-29T11:12:17.016Z"
   },
   {
    "duration": 1535,
    "start_time": "2023-09-29T11:12:17.527Z"
   },
   {
    "duration": 499,
    "start_time": "2023-09-29T11:12:19.063Z"
   },
   {
    "duration": 18,
    "start_time": "2023-09-29T11:12:19.564Z"
   },
   {
    "duration": 282,
    "start_time": "2023-09-29T11:12:19.584Z"
   },
   {
    "duration": 324,
    "start_time": "2023-09-29T11:12:19.868Z"
   },
   {
    "duration": 16,
    "start_time": "2023-09-29T11:12:20.194Z"
   },
   {
    "duration": 262,
    "start_time": "2023-09-29T11:12:20.211Z"
   },
   {
    "duration": 309,
    "start_time": "2023-09-29T11:12:20.474Z"
   },
   {
    "duration": 16,
    "start_time": "2023-09-29T11:12:20.785Z"
   },
   {
    "duration": 332,
    "start_time": "2023-09-29T11:12:20.802Z"
   },
   {
    "duration": 27,
    "start_time": "2023-09-29T11:12:21.136Z"
   },
   {
    "duration": 24,
    "start_time": "2023-09-29T11:12:21.165Z"
   },
   {
    "duration": 13,
    "start_time": "2023-09-29T11:12:21.191Z"
   },
   {
    "duration": 11,
    "start_time": "2023-09-29T11:12:21.206Z"
   },
   {
    "duration": 99,
    "start_time": "2023-09-29T11:13:34.257Z"
   },
   {
    "duration": 65,
    "start_time": "2023-09-29T11:13:44.149Z"
   },
   {
    "duration": 52,
    "start_time": "2023-09-29T11:14:21.217Z"
   },
   {
    "duration": 56,
    "start_time": "2023-09-29T11:14:23.491Z"
   },
   {
    "duration": 11,
    "start_time": "2023-09-29T11:42:17.332Z"
   },
   {
    "duration": 4,
    "start_time": "2023-09-29T11:45:47.813Z"
   },
   {
    "duration": 805,
    "start_time": "2023-09-29T11:45:47.820Z"
   },
   {
    "duration": 18,
    "start_time": "2023-09-29T11:45:48.627Z"
   },
   {
    "duration": 141,
    "start_time": "2023-09-29T11:45:48.647Z"
   },
   {
    "duration": 375,
    "start_time": "2023-09-29T11:45:48.789Z"
   },
   {
    "duration": 404,
    "start_time": "2023-09-29T11:45:49.166Z"
   },
   {
    "duration": 88,
    "start_time": "2023-09-29T11:45:49.572Z"
   },
   {
    "duration": 138,
    "start_time": "2023-09-29T11:45:49.661Z"
   },
   {
    "duration": 23,
    "start_time": "2023-09-29T11:45:49.800Z"
   },
   {
    "duration": 106,
    "start_time": "2023-09-29T11:45:49.824Z"
   },
   {
    "duration": 515,
    "start_time": "2023-09-29T11:45:49.931Z"
   },
   {
    "duration": 483,
    "start_time": "2023-09-29T11:45:50.447Z"
   },
   {
    "duration": 383,
    "start_time": "2023-09-29T11:45:50.932Z"
   },
   {
    "duration": 511,
    "start_time": "2023-09-29T11:45:51.317Z"
   },
   {
    "duration": 1516,
    "start_time": "2023-09-29T11:45:51.830Z"
   },
   {
    "duration": 453,
    "start_time": "2023-09-29T11:45:53.347Z"
   },
   {
    "duration": 18,
    "start_time": "2023-09-29T11:45:53.802Z"
   },
   {
    "duration": 279,
    "start_time": "2023-09-29T11:45:53.822Z"
   },
   {
    "duration": 368,
    "start_time": "2023-09-29T11:45:54.103Z"
   },
   {
    "duration": 16,
    "start_time": "2023-09-29T11:45:54.472Z"
   },
   {
    "duration": 232,
    "start_time": "2023-09-29T11:45:54.490Z"
   },
   {
    "duration": 264,
    "start_time": "2023-09-29T11:45:54.724Z"
   },
   {
    "duration": 15,
    "start_time": "2023-09-29T11:45:54.990Z"
   },
   {
    "duration": 294,
    "start_time": "2023-09-29T11:45:55.007Z"
   },
   {
    "duration": 14,
    "start_time": "2023-09-29T11:45:55.302Z"
   },
   {
    "duration": 28,
    "start_time": "2023-09-29T11:45:55.318Z"
   },
   {
    "duration": 11,
    "start_time": "2023-09-29T11:45:55.347Z"
   },
   {
    "duration": 51,
    "start_time": "2023-09-29T11:45:55.360Z"
   },
   {
    "duration": 23,
    "start_time": "2023-09-29T11:45:55.413Z"
   },
   {
    "duration": 55,
    "start_time": "2023-09-29T11:45:55.437Z"
   },
   {
    "duration": 118,
    "start_time": "2023-09-29T11:45:55.494Z"
   },
   {
    "duration": 6,
    "start_time": "2023-09-29T11:52:16.855Z"
   },
   {
    "duration": 43,
    "start_time": "2023-09-29T11:52:23.241Z"
   },
   {
    "duration": 49,
    "start_time": "2023-09-29T11:52:31.388Z"
   },
   {
    "duration": 11,
    "start_time": "2023-09-29T11:52:32.625Z"
   },
   {
    "duration": 5,
    "start_time": "2023-09-29T11:52:41.177Z"
   },
   {
    "duration": 748,
    "start_time": "2023-09-29T11:52:41.184Z"
   },
   {
    "duration": 16,
    "start_time": "2023-09-29T11:52:41.934Z"
   },
   {
    "duration": 137,
    "start_time": "2023-09-29T11:52:41.952Z"
   },
   {
    "duration": 366,
    "start_time": "2023-09-29T11:52:42.091Z"
   },
   {
    "duration": 397,
    "start_time": "2023-09-29T11:52:42.458Z"
   },
   {
    "duration": 78,
    "start_time": "2023-09-29T11:52:42.856Z"
   },
   {
    "duration": 135,
    "start_time": "2023-09-29T11:52:42.945Z"
   },
   {
    "duration": 27,
    "start_time": "2023-09-29T11:52:43.082Z"
   },
   {
    "duration": 103,
    "start_time": "2023-09-29T11:52:43.111Z"
   },
   {
    "duration": 478,
    "start_time": "2023-09-29T11:52:43.216Z"
   },
   {
    "duration": 524,
    "start_time": "2023-09-29T11:52:43.695Z"
   },
   {
    "duration": 393,
    "start_time": "2023-09-29T11:52:44.221Z"
   },
   {
    "duration": 515,
    "start_time": "2023-09-29T11:52:44.616Z"
   },
   {
    "duration": 1483,
    "start_time": "2023-09-29T11:52:45.132Z"
   },
   {
    "duration": 607,
    "start_time": "2023-09-29T11:52:46.617Z"
   },
   {
    "duration": 28,
    "start_time": "2023-09-29T11:52:47.226Z"
   },
   {
    "duration": 311,
    "start_time": "2023-09-29T11:52:47.256Z"
   },
   {
    "duration": 516,
    "start_time": "2023-09-29T11:52:47.569Z"
   },
   {
    "duration": 18,
    "start_time": "2023-09-29T11:52:48.086Z"
   },
   {
    "duration": 277,
    "start_time": "2023-09-29T11:52:48.107Z"
   },
   {
    "duration": 352,
    "start_time": "2023-09-29T11:52:48.387Z"
   },
   {
    "duration": 15,
    "start_time": "2023-09-29T11:52:48.744Z"
   },
   {
    "duration": 395,
    "start_time": "2023-09-29T11:52:48.763Z"
   },
   {
    "duration": 13,
    "start_time": "2023-09-29T11:52:49.160Z"
   },
   {
    "duration": 29,
    "start_time": "2023-09-29T11:52:49.175Z"
   },
   {
    "duration": 13,
    "start_time": "2023-09-29T11:52:49.206Z"
   },
   {
    "duration": 28,
    "start_time": "2023-09-29T11:52:49.221Z"
   },
   {
    "duration": 55,
    "start_time": "2023-09-29T11:52:49.251Z"
   },
   {
    "duration": 21,
    "start_time": "2023-09-29T11:52:49.307Z"
   },
   {
    "duration": 88,
    "start_time": "2023-09-29T11:52:49.343Z"
   },
   {
    "duration": 102,
    "start_time": "2023-09-29T11:52:49.433Z"
   },
   {
    "duration": 11,
    "start_time": "2023-09-29T11:53:23.269Z"
   },
   {
    "duration": 11,
    "start_time": "2023-09-29T11:53:30.954Z"
   },
   {
    "duration": 49,
    "start_time": "2023-09-29T11:53:52.997Z"
   },
   {
    "duration": 4,
    "start_time": "2023-09-29T11:54:03.902Z"
   },
   {
    "duration": 875,
    "start_time": "2023-09-29T11:54:03.918Z"
   },
   {
    "duration": 13,
    "start_time": "2023-09-29T11:54:04.794Z"
   },
   {
    "duration": 168,
    "start_time": "2023-09-29T11:54:04.844Z"
   },
   {
    "duration": 388,
    "start_time": "2023-09-29T11:54:05.014Z"
   },
   {
    "duration": 387,
    "start_time": "2023-09-29T11:54:05.403Z"
   },
   {
    "duration": 93,
    "start_time": "2023-09-29T11:54:05.792Z"
   },
   {
    "duration": 133,
    "start_time": "2023-09-29T11:54:05.886Z"
   },
   {
    "duration": 31,
    "start_time": "2023-09-29T11:54:06.020Z"
   },
   {
    "duration": 96,
    "start_time": "2023-09-29T11:54:06.052Z"
   },
   {
    "duration": 476,
    "start_time": "2023-09-29T11:54:06.150Z"
   },
   {
    "duration": 464,
    "start_time": "2023-09-29T11:54:06.628Z"
   },
   {
    "duration": 366,
    "start_time": "2023-09-29T11:54:07.094Z"
   },
   {
    "duration": 484,
    "start_time": "2023-09-29T11:54:07.462Z"
   },
   {
    "duration": 1425,
    "start_time": "2023-09-29T11:54:07.947Z"
   },
   {
    "duration": 505,
    "start_time": "2023-09-29T11:54:09.374Z"
   },
   {
    "duration": 19,
    "start_time": "2023-09-29T11:54:09.881Z"
   },
   {
    "duration": 256,
    "start_time": "2023-09-29T11:54:09.901Z"
   },
   {
    "duration": 294,
    "start_time": "2023-09-29T11:54:10.159Z"
   },
   {
    "duration": 15,
    "start_time": "2023-09-29T11:54:10.455Z"
   },
   {
    "duration": 227,
    "start_time": "2023-09-29T11:54:10.471Z"
   },
   {
    "duration": 273,
    "start_time": "2023-09-29T11:54:10.700Z"
   },
   {
    "duration": 15,
    "start_time": "2023-09-29T11:54:10.975Z"
   },
   {
    "duration": 324,
    "start_time": "2023-09-29T11:54:10.991Z"
   },
   {
    "duration": 13,
    "start_time": "2023-09-29T11:54:11.317Z"
   },
   {
    "duration": 20,
    "start_time": "2023-09-29T11:54:11.331Z"
   },
   {
    "duration": 31,
    "start_time": "2023-09-29T11:54:11.353Z"
   },
   {
    "duration": 9,
    "start_time": "2023-09-29T11:54:11.386Z"
   },
   {
    "duration": 44,
    "start_time": "2023-09-29T11:54:11.398Z"
   },
   {
    "duration": 13,
    "start_time": "2023-09-29T11:54:11.444Z"
   },
   {
    "duration": 15,
    "start_time": "2023-09-29T11:54:11.459Z"
   },
   {
    "duration": 47,
    "start_time": "2023-09-29T11:54:11.475Z"
   },
   {
    "duration": 12,
    "start_time": "2023-09-29T11:54:41.252Z"
   },
   {
    "duration": 11,
    "start_time": "2023-09-29T11:54:41.904Z"
   },
   {
    "duration": 67,
    "start_time": "2023-09-29T11:54:44.163Z"
   },
   {
    "duration": 51,
    "start_time": "2023-09-29T11:55:25.647Z"
   },
   {
    "duration": 13,
    "start_time": "2023-09-29T11:56:04.832Z"
   },
   {
    "duration": 12,
    "start_time": "2023-09-29T11:56:22.071Z"
   },
   {
    "duration": 13,
    "start_time": "2023-09-29T11:57:11.901Z"
   },
   {
    "duration": 12,
    "start_time": "2023-09-29T11:57:40.490Z"
   },
   {
    "duration": 14,
    "start_time": "2023-09-29T11:58:16.189Z"
   },
   {
    "duration": 12,
    "start_time": "2023-09-29T11:58:52.245Z"
   },
   {
    "duration": 47,
    "start_time": "2023-09-29T11:58:55.367Z"
   },
   {
    "duration": 52,
    "start_time": "2023-09-29T11:59:10.884Z"
   },
   {
    "duration": 5,
    "start_time": "2023-09-29T11:59:42.706Z"
   },
   {
    "duration": 807,
    "start_time": "2023-09-29T11:59:42.713Z"
   },
   {
    "duration": 13,
    "start_time": "2023-09-29T11:59:43.521Z"
   },
   {
    "duration": 143,
    "start_time": "2023-09-29T11:59:43.535Z"
   },
   {
    "duration": 388,
    "start_time": "2023-09-29T11:59:43.681Z"
   },
   {
    "duration": 429,
    "start_time": "2023-09-29T11:59:44.071Z"
   },
   {
    "duration": 93,
    "start_time": "2023-09-29T11:59:44.502Z"
   },
   {
    "duration": 128,
    "start_time": "2023-09-29T11:59:44.596Z"
   },
   {
    "duration": 76,
    "start_time": "2023-09-29T11:59:44.726Z"
   },
   {
    "duration": 89,
    "start_time": "2023-09-29T11:59:44.804Z"
   },
   {
    "duration": 520,
    "start_time": "2023-09-29T11:59:44.895Z"
   },
   {
    "duration": 466,
    "start_time": "2023-09-29T11:59:45.417Z"
   },
   {
    "duration": 349,
    "start_time": "2023-09-29T11:59:45.884Z"
   },
   {
    "duration": 644,
    "start_time": "2023-09-29T11:59:46.244Z"
   },
   {
    "duration": 1493,
    "start_time": "2023-09-29T11:59:46.890Z"
   },
   {
    "duration": 534,
    "start_time": "2023-09-29T11:59:48.384Z"
   },
   {
    "duration": 27,
    "start_time": "2023-09-29T11:59:48.920Z"
   },
   {
    "duration": 270,
    "start_time": "2023-09-29T11:59:48.949Z"
   },
   {
    "duration": 364,
    "start_time": "2023-09-29T11:59:49.221Z"
   },
   {
    "duration": 17,
    "start_time": "2023-09-29T11:59:49.586Z"
   },
   {
    "duration": 261,
    "start_time": "2023-09-29T11:59:49.605Z"
   },
   {
    "duration": 298,
    "start_time": "2023-09-29T11:59:49.867Z"
   },
   {
    "duration": 15,
    "start_time": "2023-09-29T11:59:50.167Z"
   },
   {
    "duration": 290,
    "start_time": "2023-09-29T11:59:50.184Z"
   },
   {
    "duration": 13,
    "start_time": "2023-09-29T11:59:50.475Z"
   },
   {
    "duration": 27,
    "start_time": "2023-09-29T11:59:50.489Z"
   },
   {
    "duration": 45,
    "start_time": "2023-09-29T11:59:50.517Z"
   },
   {
    "duration": 38,
    "start_time": "2023-09-29T11:59:50.563Z"
   },
   {
    "duration": 67,
    "start_time": "2023-09-29T11:59:50.603Z"
   },
   {
    "duration": 69,
    "start_time": "2023-09-29T11:59:50.671Z"
   },
   {
    "duration": 43,
    "start_time": "2023-09-29T11:59:50.742Z"
   },
   {
    "duration": 48,
    "start_time": "2023-09-29T11:59:50.787Z"
   },
   {
    "duration": 30,
    "start_time": "2023-09-29T11:59:50.837Z"
   },
   {
    "duration": 43,
    "start_time": "2023-09-29T11:59:50.869Z"
   },
   {
    "duration": 69,
    "start_time": "2023-09-29T11:59:50.914Z"
   },
   {
    "duration": 31,
    "start_time": "2023-09-29T11:59:50.985Z"
   },
   {
    "duration": 28,
    "start_time": "2023-09-29T11:59:51.018Z"
   },
   {
    "duration": 79,
    "start_time": "2023-09-29T11:59:51.048Z"
   },
   {
    "duration": 50,
    "start_time": "2023-09-29T12:01:03.481Z"
   },
   {
    "duration": 4,
    "start_time": "2023-09-29T12:01:22.894Z"
   },
   {
    "duration": 6,
    "start_time": "2023-09-29T12:01:58.744Z"
   },
   {
    "duration": 828,
    "start_time": "2023-09-29T12:01:58.757Z"
   },
   {
    "duration": 12,
    "start_time": "2023-09-29T12:01:59.587Z"
   },
   {
    "duration": 159,
    "start_time": "2023-09-29T12:01:59.601Z"
   },
   {
    "duration": 429,
    "start_time": "2023-09-29T12:01:59.761Z"
   },
   {
    "duration": 463,
    "start_time": "2023-09-29T12:02:00.192Z"
   },
   {
    "duration": 102,
    "start_time": "2023-09-29T12:02:00.658Z"
   },
   {
    "duration": 141,
    "start_time": "2023-09-29T12:02:00.762Z"
   },
   {
    "duration": 69,
    "start_time": "2023-09-29T12:02:00.904Z"
   },
   {
    "duration": 116,
    "start_time": "2023-09-29T12:02:00.975Z"
   },
   {
    "duration": 569,
    "start_time": "2023-09-29T12:02:01.092Z"
   },
   {
    "duration": 534,
    "start_time": "2023-09-29T12:02:01.662Z"
   },
   {
    "duration": 406,
    "start_time": "2023-09-29T12:02:02.198Z"
   },
   {
    "duration": 564,
    "start_time": "2023-09-29T12:02:02.605Z"
   },
   {
    "duration": 1808,
    "start_time": "2023-09-29T12:02:03.172Z"
   },
   {
    "duration": 557,
    "start_time": "2023-09-29T12:02:04.982Z"
   },
   {
    "duration": 28,
    "start_time": "2023-09-29T12:02:05.540Z"
   },
   {
    "duration": 272,
    "start_time": "2023-09-29T12:02:05.569Z"
   },
   {
    "duration": 485,
    "start_time": "2023-09-29T12:02:05.844Z"
   },
   {
    "duration": 27,
    "start_time": "2023-09-29T12:02:06.331Z"
   },
   {
    "duration": 256,
    "start_time": "2023-09-29T12:02:06.360Z"
   },
   {
    "duration": 317,
    "start_time": "2023-09-29T12:02:06.618Z"
   },
   {
    "duration": 25,
    "start_time": "2023-09-29T12:02:06.937Z"
   },
   {
    "duration": 327,
    "start_time": "2023-09-29T12:02:06.964Z"
   },
   {
    "duration": 12,
    "start_time": "2023-09-29T12:02:07.292Z"
   },
   {
    "duration": 17,
    "start_time": "2023-09-29T12:02:07.306Z"
   },
   {
    "duration": 30,
    "start_time": "2023-09-29T12:02:07.324Z"
   },
   {
    "duration": 16,
    "start_time": "2023-09-29T12:02:07.355Z"
   },
   {
    "duration": 56,
    "start_time": "2023-09-29T12:02:07.373Z"
   },
   {
    "duration": 42,
    "start_time": "2023-09-29T12:02:07.430Z"
   },
   {
    "duration": 18,
    "start_time": "2023-09-29T12:02:07.473Z"
   },
   {
    "duration": 13,
    "start_time": "2023-09-29T12:02:07.493Z"
   },
   {
    "duration": 25,
    "start_time": "2023-09-29T12:02:07.507Z"
   },
   {
    "duration": 36,
    "start_time": "2023-09-29T12:02:07.533Z"
   },
   {
    "duration": 20,
    "start_time": "2023-09-29T12:02:07.572Z"
   },
   {
    "duration": 28,
    "start_time": "2023-09-29T12:02:07.594Z"
   },
   {
    "duration": 15,
    "start_time": "2023-09-29T12:02:07.623Z"
   },
   {
    "duration": 69,
    "start_time": "2023-09-29T12:02:07.639Z"
   },
   {
    "duration": 3,
    "start_time": "2023-09-29T12:02:07.710Z"
   },
   {
    "duration": 10,
    "start_time": "2023-09-29T12:02:07.714Z"
   },
   {
    "duration": 12,
    "start_time": "2023-09-29T12:02:07.726Z"
   },
   {
    "duration": 9,
    "start_time": "2023-09-29T12:02:53.434Z"
   },
   {
    "duration": 4,
    "start_time": "2023-09-29T12:04:05.294Z"
   },
   {
    "duration": 5,
    "start_time": "2023-09-29T12:04:58.110Z"
   },
   {
    "duration": 898,
    "start_time": "2023-09-29T12:04:58.116Z"
   },
   {
    "duration": 17,
    "start_time": "2023-09-29T12:04:59.017Z"
   },
   {
    "duration": 184,
    "start_time": "2023-09-29T12:04:59.036Z"
   },
   {
    "duration": 436,
    "start_time": "2023-09-29T12:04:59.222Z"
   },
   {
    "duration": 472,
    "start_time": "2023-09-29T12:04:59.661Z"
   },
   {
    "duration": 110,
    "start_time": "2023-09-29T12:05:00.135Z"
   },
   {
    "duration": 191,
    "start_time": "2023-09-29T12:05:00.247Z"
   },
   {
    "duration": 158,
    "start_time": "2023-09-29T12:05:00.440Z"
   },
   {
    "duration": 139,
    "start_time": "2023-09-29T12:05:00.600Z"
   },
   {
    "duration": 623,
    "start_time": "2023-09-29T12:05:00.742Z"
   },
   {
    "duration": 552,
    "start_time": "2023-09-29T12:05:01.368Z"
   },
   {
    "duration": 426,
    "start_time": "2023-09-29T12:05:01.921Z"
   },
   {
    "duration": 574,
    "start_time": "2023-09-29T12:05:02.349Z"
   },
   {
    "duration": 1778,
    "start_time": "2023-09-29T12:05:02.925Z"
   },
   {
    "duration": 604,
    "start_time": "2023-09-29T12:05:04.704Z"
   },
   {
    "duration": 20,
    "start_time": "2023-09-29T12:05:05.309Z"
   },
   {
    "duration": 307,
    "start_time": "2023-09-29T12:05:05.331Z"
   },
   {
    "duration": 350,
    "start_time": "2023-09-29T12:05:05.639Z"
   },
   {
    "duration": 15,
    "start_time": "2023-09-29T12:05:05.991Z"
   },
   {
    "duration": 281,
    "start_time": "2023-09-29T12:05:06.008Z"
   },
   {
    "duration": 334,
    "start_time": "2023-09-29T12:05:06.291Z"
   },
   {
    "duration": 25,
    "start_time": "2023-09-29T12:05:06.626Z"
   },
   {
    "duration": 339,
    "start_time": "2023-09-29T12:05:06.654Z"
   },
   {
    "duration": 13,
    "start_time": "2023-09-29T12:05:06.995Z"
   },
   {
    "duration": 29,
    "start_time": "2023-09-29T12:05:07.010Z"
   },
   {
    "duration": 39,
    "start_time": "2023-09-29T12:05:07.041Z"
   },
   {
    "duration": 14,
    "start_time": "2023-09-29T12:05:07.082Z"
   },
   {
    "duration": 51,
    "start_time": "2023-09-29T12:05:07.100Z"
   },
   {
    "duration": 30,
    "start_time": "2023-09-29T12:05:07.153Z"
   },
   {
    "duration": 31,
    "start_time": "2023-09-29T12:05:07.185Z"
   },
   {
    "duration": 13,
    "start_time": "2023-09-29T12:05:07.218Z"
   },
   {
    "duration": 38,
    "start_time": "2023-09-29T12:05:07.232Z"
   },
   {
    "duration": 21,
    "start_time": "2023-09-29T12:05:07.272Z"
   },
   {
    "duration": 17,
    "start_time": "2023-09-29T12:05:07.295Z"
   },
   {
    "duration": 18,
    "start_time": "2023-09-29T12:05:07.314Z"
   },
   {
    "duration": 38,
    "start_time": "2023-09-29T12:05:07.334Z"
   },
   {
    "duration": 77,
    "start_time": "2023-09-29T12:05:07.374Z"
   },
   {
    "duration": 4,
    "start_time": "2023-09-29T12:05:07.454Z"
   },
   {
    "duration": 10,
    "start_time": "2023-09-29T12:05:07.460Z"
   },
   {
    "duration": 101,
    "start_time": "2023-09-29T12:05:07.472Z"
   },
   {
    "duration": 4,
    "start_time": "2023-09-29T12:06:27.408Z"
   },
   {
    "duration": 877,
    "start_time": "2023-09-29T12:06:27.414Z"
   },
   {
    "duration": 13,
    "start_time": "2023-09-29T12:06:28.293Z"
   },
   {
    "duration": 175,
    "start_time": "2023-09-29T12:06:28.308Z"
   },
   {
    "duration": 449,
    "start_time": "2023-09-29T12:06:28.485Z"
   },
   {
    "duration": 457,
    "start_time": "2023-09-29T12:06:28.936Z"
   },
   {
    "duration": 109,
    "start_time": "2023-09-29T12:06:29.395Z"
   },
   {
    "duration": 160,
    "start_time": "2023-09-29T12:06:29.506Z"
   },
   {
    "duration": 23,
    "start_time": "2023-09-29T12:06:29.668Z"
   },
   {
    "duration": 108,
    "start_time": "2023-09-29T12:06:29.693Z"
   },
   {
    "duration": 601,
    "start_time": "2023-09-29T12:06:29.803Z"
   },
   {
    "duration": 585,
    "start_time": "2023-09-29T12:06:30.406Z"
   },
   {
    "duration": 430,
    "start_time": "2023-09-29T12:06:30.992Z"
   },
   {
    "duration": 588,
    "start_time": "2023-09-29T12:06:31.425Z"
   },
   {
    "duration": 1852,
    "start_time": "2023-09-29T12:06:32.015Z"
   },
   {
    "duration": 699,
    "start_time": "2023-09-29T12:06:33.868Z"
   },
   {
    "duration": 19,
    "start_time": "2023-09-29T12:06:34.569Z"
   },
   {
    "duration": 296,
    "start_time": "2023-09-29T12:06:34.590Z"
   },
   {
    "duration": 338,
    "start_time": "2023-09-29T12:06:34.889Z"
   },
   {
    "duration": 32,
    "start_time": "2023-09-29T12:06:35.229Z"
   },
   {
    "duration": 254,
    "start_time": "2023-09-29T12:06:35.263Z"
   },
   {
    "duration": 310,
    "start_time": "2023-09-29T12:06:35.519Z"
   },
   {
    "duration": 28,
    "start_time": "2023-09-29T12:06:35.831Z"
   },
   {
    "duration": 338,
    "start_time": "2023-09-29T12:06:35.862Z"
   },
   {
    "duration": 12,
    "start_time": "2023-09-29T12:06:36.202Z"
   },
   {
    "duration": 33,
    "start_time": "2023-09-29T12:06:36.215Z"
   },
   {
    "duration": 19,
    "start_time": "2023-09-29T12:06:36.252Z"
   },
   {
    "duration": 10,
    "start_time": "2023-09-29T12:06:36.273Z"
   },
   {
    "duration": 81,
    "start_time": "2023-09-29T12:06:36.285Z"
   },
   {
    "duration": 2,
    "start_time": "2023-09-29T12:06:36.368Z"
   },
   {
    "duration": 6,
    "start_time": "2023-09-29T12:06:36.372Z"
   },
   {
    "duration": 9,
    "start_time": "2023-09-29T12:06:36.380Z"
   },
   {
    "duration": 11,
    "start_time": "2023-09-29T12:06:36.391Z"
   },
   {
    "duration": 7,
    "start_time": "2023-09-29T12:06:36.404Z"
   },
   {
    "duration": 26,
    "start_time": "2023-09-29T12:06:36.413Z"
   },
   {
    "duration": 5,
    "start_time": "2023-09-29T12:06:36.440Z"
   },
   {
    "duration": 5,
    "start_time": "2023-09-29T12:06:36.447Z"
   },
   {
    "duration": 11,
    "start_time": "2023-09-29T12:06:36.454Z"
   },
   {
    "duration": 23,
    "start_time": "2023-09-29T12:06:36.466Z"
   },
   {
    "duration": 10,
    "start_time": "2023-09-29T12:06:36.490Z"
   },
   {
    "duration": 8,
    "start_time": "2023-09-29T12:06:36.504Z"
   },
   {
    "duration": 6,
    "start_time": "2023-09-29T12:06:51.081Z"
   },
   {
    "duration": 920,
    "start_time": "2023-09-29T12:06:51.089Z"
   },
   {
    "duration": 12,
    "start_time": "2023-09-29T12:06:52.011Z"
   },
   {
    "duration": 176,
    "start_time": "2023-09-29T12:06:52.025Z"
   },
   {
    "duration": 432,
    "start_time": "2023-09-29T12:06:52.203Z"
   },
   {
    "duration": 519,
    "start_time": "2023-09-29T12:06:52.637Z"
   },
   {
    "duration": 108,
    "start_time": "2023-09-29T12:06:53.162Z"
   },
   {
    "duration": 150,
    "start_time": "2023-09-29T12:06:53.272Z"
   },
   {
    "duration": 65,
    "start_time": "2023-09-29T12:06:53.424Z"
   },
   {
    "duration": 119,
    "start_time": "2023-09-29T12:06:53.492Z"
   },
   {
    "duration": 616,
    "start_time": "2023-09-29T12:06:53.613Z"
   },
   {
    "duration": 579,
    "start_time": "2023-09-29T12:06:54.231Z"
   },
   {
    "duration": 423,
    "start_time": "2023-09-29T12:06:54.812Z"
   },
   {
    "duration": 591,
    "start_time": "2023-09-29T12:06:55.237Z"
   },
   {
    "duration": 1776,
    "start_time": "2023-09-29T12:06:55.830Z"
   },
   {
    "duration": 602,
    "start_time": "2023-09-29T12:06:57.608Z"
   },
   {
    "duration": 19,
    "start_time": "2023-09-29T12:06:58.211Z"
   },
   {
    "duration": 302,
    "start_time": "2023-09-29T12:06:58.232Z"
   },
   {
    "duration": 376,
    "start_time": "2023-09-29T12:06:58.536Z"
   },
   {
    "duration": 16,
    "start_time": "2023-09-29T12:06:58.913Z"
   },
   {
    "duration": 280,
    "start_time": "2023-09-29T12:06:58.931Z"
   },
   {
    "duration": 323,
    "start_time": "2023-09-29T12:06:59.213Z"
   },
   {
    "duration": 24,
    "start_time": "2023-09-29T12:06:59.538Z"
   },
   {
    "duration": 323,
    "start_time": "2023-09-29T12:06:59.564Z"
   },
   {
    "duration": 13,
    "start_time": "2023-09-29T12:06:59.888Z"
   },
   {
    "duration": 16,
    "start_time": "2023-09-29T12:06:59.903Z"
   },
   {
    "duration": 25,
    "start_time": "2023-09-29T12:06:59.920Z"
   },
   {
    "duration": 12,
    "start_time": "2023-09-29T12:06:59.947Z"
   },
   {
    "duration": 53,
    "start_time": "2023-09-29T12:06:59.963Z"
   },
   {
    "duration": 47,
    "start_time": "2023-09-29T12:07:00.018Z"
   },
   {
    "duration": 59,
    "start_time": "2023-09-29T12:07:00.066Z"
   },
   {
    "duration": 49,
    "start_time": "2023-09-29T12:07:00.127Z"
   },
   {
    "duration": 70,
    "start_time": "2023-09-29T12:07:00.178Z"
   },
   {
    "duration": 44,
    "start_time": "2023-09-29T12:07:00.250Z"
   },
   {
    "duration": 51,
    "start_time": "2023-09-29T12:07:00.296Z"
   },
   {
    "duration": 53,
    "start_time": "2023-09-29T12:07:00.349Z"
   },
   {
    "duration": 32,
    "start_time": "2023-09-29T12:07:00.404Z"
   },
   {
    "duration": 57,
    "start_time": "2023-09-29T12:07:00.438Z"
   },
   {
    "duration": 107,
    "start_time": "2023-09-29T12:07:00.496Z"
   },
   {
    "duration": 108,
    "start_time": "2023-09-29T12:07:00.604Z"
   },
   {
    "duration": 51,
    "start_time": "2023-09-29T12:07:00.714Z"
   },
   {
    "duration": 3,
    "start_time": "2023-09-29T12:07:51.858Z"
   },
   {
    "duration": 955,
    "start_time": "2023-09-29T12:07:51.863Z"
   },
   {
    "duration": 13,
    "start_time": "2023-09-29T12:07:52.820Z"
   },
   {
    "duration": 167,
    "start_time": "2023-09-29T12:07:52.834Z"
   },
   {
    "duration": 416,
    "start_time": "2023-09-29T12:07:53.003Z"
   },
   {
    "duration": 606,
    "start_time": "2023-09-29T12:07:53.420Z"
   },
   {
    "duration": 100,
    "start_time": "2023-09-29T12:07:54.028Z"
   },
   {
    "duration": 204,
    "start_time": "2023-09-29T12:07:54.130Z"
   },
   {
    "duration": 40,
    "start_time": "2023-09-29T12:07:54.336Z"
   },
   {
    "duration": 110,
    "start_time": "2023-09-29T12:07:54.378Z"
   },
   {
    "duration": 577,
    "start_time": "2023-09-29T12:07:54.490Z"
   },
   {
    "duration": 547,
    "start_time": "2023-09-29T12:07:55.069Z"
   },
   {
    "duration": 410,
    "start_time": "2023-09-29T12:07:55.618Z"
   },
   {
    "duration": 641,
    "start_time": "2023-09-29T12:07:56.030Z"
   },
   {
    "duration": 1693,
    "start_time": "2023-09-29T12:07:56.672Z"
   },
   {
    "duration": 555,
    "start_time": "2023-09-29T12:07:58.367Z"
   },
   {
    "duration": 41,
    "start_time": "2023-09-29T12:07:58.923Z"
   },
   {
    "duration": 369,
    "start_time": "2023-09-29T12:07:58.965Z"
   },
   {
    "duration": 359,
    "start_time": "2023-09-29T12:07:59.336Z"
   },
   {
    "duration": 21,
    "start_time": "2023-09-29T12:07:59.697Z"
   },
   {
    "duration": 383,
    "start_time": "2023-09-29T12:07:59.720Z"
   },
   {
    "duration": 458,
    "start_time": "2023-09-29T12:08:00.105Z"
   },
   {
    "duration": 24,
    "start_time": "2023-09-29T12:08:00.565Z"
   },
   {
    "duration": 472,
    "start_time": "2023-09-29T12:08:00.590Z"
   },
   {
    "duration": 25,
    "start_time": "2023-09-29T12:08:01.065Z"
   },
   {
    "duration": 49,
    "start_time": "2023-09-29T12:08:01.092Z"
   },
   {
    "duration": 61,
    "start_time": "2023-09-29T12:08:01.143Z"
   },
   {
    "duration": 59,
    "start_time": "2023-09-29T12:08:01.206Z"
   },
   {
    "duration": 141,
    "start_time": "2023-09-29T12:08:01.267Z"
   },
   {
    "duration": 105,
    "start_time": "2023-09-29T12:08:01.410Z"
   },
   {
    "duration": 52,
    "start_time": "2023-09-29T12:08:01.517Z"
   },
   {
    "duration": 26,
    "start_time": "2023-09-29T12:08:01.571Z"
   },
   {
    "duration": 121,
    "start_time": "2023-09-29T12:08:01.599Z"
   },
   {
    "duration": 47,
    "start_time": "2023-09-29T12:08:01.722Z"
   },
   {
    "duration": 38,
    "start_time": "2023-09-29T12:08:01.771Z"
   },
   {
    "duration": 41,
    "start_time": "2023-09-29T12:08:01.811Z"
   },
   {
    "duration": 39,
    "start_time": "2023-09-29T12:08:01.861Z"
   },
   {
    "duration": 33,
    "start_time": "2023-09-29T12:08:01.902Z"
   },
   {
    "duration": 167,
    "start_time": "2023-09-29T12:08:01.937Z"
   },
   {
    "duration": 369,
    "start_time": "2023-09-29T12:08:02.106Z"
   },
   {
    "duration": 4,
    "start_time": "2023-09-29T12:08:02.476Z"
   },
   {
    "duration": 4,
    "start_time": "2023-09-29T12:10:34.117Z"
   },
   {
    "duration": 895,
    "start_time": "2023-09-29T12:10:34.124Z"
   },
   {
    "duration": 13,
    "start_time": "2023-09-29T12:10:35.021Z"
   },
   {
    "duration": 156,
    "start_time": "2023-09-29T12:10:35.048Z"
   },
   {
    "duration": 415,
    "start_time": "2023-09-29T12:10:35.206Z"
   },
   {
    "duration": 463,
    "start_time": "2023-09-29T12:10:35.623Z"
   },
   {
    "duration": 115,
    "start_time": "2023-09-29T12:10:36.088Z"
   },
   {
    "duration": 153,
    "start_time": "2023-09-29T12:10:36.204Z"
   },
   {
    "duration": 25,
    "start_time": "2023-09-29T12:10:36.360Z"
   },
   {
    "duration": 118,
    "start_time": "2023-09-29T12:10:36.387Z"
   },
   {
    "duration": 591,
    "start_time": "2023-09-29T12:10:36.507Z"
   },
   {
    "duration": 546,
    "start_time": "2023-09-29T12:10:37.099Z"
   },
   {
    "duration": 408,
    "start_time": "2023-09-29T12:10:37.647Z"
   },
   {
    "duration": 566,
    "start_time": "2023-09-29T12:10:38.057Z"
   },
   {
    "duration": 1624,
    "start_time": "2023-09-29T12:10:38.625Z"
   },
   {
    "duration": 564,
    "start_time": "2023-09-29T12:10:40.251Z"
   },
   {
    "duration": 29,
    "start_time": "2023-09-29T12:10:40.816Z"
   },
   {
    "duration": 343,
    "start_time": "2023-09-29T12:10:40.848Z"
   },
   {
    "duration": 514,
    "start_time": "2023-09-29T12:10:41.192Z"
   },
   {
    "duration": 24,
    "start_time": "2023-09-29T12:10:41.708Z"
   },
   {
    "duration": 318,
    "start_time": "2023-09-29T12:10:41.744Z"
   },
   {
    "duration": 357,
    "start_time": "2023-09-29T12:10:42.064Z"
   },
   {
    "duration": 26,
    "start_time": "2023-09-29T12:10:42.423Z"
   },
   {
    "duration": 351,
    "start_time": "2023-09-29T12:10:42.454Z"
   },
   {
    "duration": 14,
    "start_time": "2023-09-29T12:10:42.807Z"
   },
   {
    "duration": 45,
    "start_time": "2023-09-29T12:10:42.823Z"
   },
   {
    "duration": 20,
    "start_time": "2023-09-29T12:10:42.870Z"
   },
   {
    "duration": 11,
    "start_time": "2023-09-29T12:10:42.891Z"
   },
   {
    "duration": 96,
    "start_time": "2023-09-29T12:10:42.903Z"
   },
   {
    "duration": 25,
    "start_time": "2023-09-29T12:10:43.001Z"
   },
   {
    "duration": 36,
    "start_time": "2023-09-29T12:10:43.028Z"
   },
   {
    "duration": 26,
    "start_time": "2023-09-29T12:10:43.066Z"
   },
   {
    "duration": 32,
    "start_time": "2023-09-29T12:10:43.093Z"
   },
   {
    "duration": 29,
    "start_time": "2023-09-29T12:10:43.126Z"
   },
   {
    "duration": 14,
    "start_time": "2023-09-29T12:10:43.157Z"
   },
   {
    "duration": 13,
    "start_time": "2023-09-29T12:10:43.172Z"
   },
   {
    "duration": 11,
    "start_time": "2023-09-29T12:10:43.186Z"
   },
   {
    "duration": 16,
    "start_time": "2023-09-29T12:10:43.199Z"
   },
   {
    "duration": 90,
    "start_time": "2023-09-29T12:10:43.216Z"
   },
   {
    "duration": 118,
    "start_time": "2023-09-29T12:10:43.308Z"
   },
   {
    "duration": 15,
    "start_time": "2023-09-29T12:10:43.428Z"
   },
   {
    "duration": 6,
    "start_time": "2023-09-29T12:11:25.358Z"
   },
   {
    "duration": 870,
    "start_time": "2023-09-29T12:11:25.366Z"
   },
   {
    "duration": 23,
    "start_time": "2023-09-29T12:11:26.237Z"
   },
   {
    "duration": 171,
    "start_time": "2023-09-29T12:11:26.263Z"
   },
   {
    "duration": 449,
    "start_time": "2023-09-29T12:11:26.436Z"
   },
   {
    "duration": 440,
    "start_time": "2023-09-29T12:11:26.887Z"
   },
   {
    "duration": 89,
    "start_time": "2023-09-29T12:11:27.329Z"
   },
   {
    "duration": 159,
    "start_time": "2023-09-29T12:11:27.420Z"
   },
   {
    "duration": 29,
    "start_time": "2023-09-29T12:11:27.581Z"
   },
   {
    "duration": 107,
    "start_time": "2023-09-29T12:11:27.622Z"
   },
   {
    "duration": 572,
    "start_time": "2023-09-29T12:11:27.730Z"
   },
   {
    "duration": 511,
    "start_time": "2023-09-29T12:11:28.304Z"
   },
   {
    "duration": 397,
    "start_time": "2023-09-29T12:11:28.817Z"
   },
   {
    "duration": 576,
    "start_time": "2023-09-29T12:11:29.216Z"
   },
   {
    "duration": 1650,
    "start_time": "2023-09-29T12:11:29.794Z"
   },
   {
    "duration": 560,
    "start_time": "2023-09-29T12:11:31.446Z"
   },
   {
    "duration": 21,
    "start_time": "2023-09-29T12:11:32.007Z"
   },
   {
    "duration": 361,
    "start_time": "2023-09-29T12:11:32.029Z"
   },
   {
    "duration": 391,
    "start_time": "2023-09-29T12:11:32.391Z"
   },
   {
    "duration": 19,
    "start_time": "2023-09-29T12:11:32.783Z"
   },
   {
    "duration": 314,
    "start_time": "2023-09-29T12:11:32.803Z"
   },
   {
    "duration": 373,
    "start_time": "2023-09-29T12:11:33.119Z"
   },
   {
    "duration": 18,
    "start_time": "2023-09-29T12:11:33.494Z"
   },
   {
    "duration": 381,
    "start_time": "2023-09-29T12:11:33.515Z"
   },
   {
    "duration": 14,
    "start_time": "2023-09-29T12:11:33.898Z"
   },
   {
    "duration": 25,
    "start_time": "2023-09-29T12:11:33.913Z"
   },
   {
    "duration": 27,
    "start_time": "2023-09-29T12:11:33.940Z"
   },
   {
    "duration": 15,
    "start_time": "2023-09-29T12:11:33.969Z"
   },
   {
    "duration": 90,
    "start_time": "2023-09-29T12:11:33.985Z"
   },
   {
    "duration": 16,
    "start_time": "2023-09-29T12:11:34.077Z"
   },
   {
    "duration": 47,
    "start_time": "2023-09-29T12:11:34.095Z"
   },
   {
    "duration": 25,
    "start_time": "2023-09-29T12:11:34.149Z"
   },
   {
    "duration": 37,
    "start_time": "2023-09-29T12:11:34.177Z"
   },
   {
    "duration": 42,
    "start_time": "2023-09-29T12:11:34.216Z"
   },
   {
    "duration": 19,
    "start_time": "2023-09-29T12:11:34.265Z"
   },
   {
    "duration": 26,
    "start_time": "2023-09-29T12:11:34.286Z"
   },
   {
    "duration": 30,
    "start_time": "2023-09-29T12:11:34.314Z"
   },
   {
    "duration": 66,
    "start_time": "2023-09-29T12:11:34.346Z"
   },
   {
    "duration": 11,
    "start_time": "2023-09-29T12:11:34.414Z"
   },
   {
    "duration": 21,
    "start_time": "2023-09-29T12:11:34.427Z"
   },
   {
    "duration": 21,
    "start_time": "2023-09-29T12:11:34.450Z"
   },
   {
    "duration": 352,
    "start_time": "2023-09-29T12:12:05.007Z"
   },
   {
    "duration": 22,
    "start_time": "2023-09-29T12:16:23.482Z"
   },
   {
    "duration": 9,
    "start_time": "2023-09-29T12:16:52.640Z"
   },
   {
    "duration": 11,
    "start_time": "2023-09-29T12:17:13.269Z"
   },
   {
    "duration": 0,
    "start_time": "2023-09-29T12:17:13.282Z"
   },
   {
    "duration": 0,
    "start_time": "2023-09-29T12:17:13.283Z"
   },
   {
    "duration": 63,
    "start_time": "2023-09-29T12:17:13.286Z"
   },
   {
    "duration": 104,
    "start_time": "2023-09-29T12:17:13.351Z"
   },
   {
    "duration": 107,
    "start_time": "2023-09-29T12:17:13.456Z"
   },
   {
    "duration": 36,
    "start_time": "2023-09-29T12:17:13.565Z"
   },
   {
    "duration": 60,
    "start_time": "2023-09-29T12:17:13.603Z"
   },
   {
    "duration": 16,
    "start_time": "2023-09-29T12:17:13.664Z"
   },
   {
    "duration": 0,
    "start_time": "2023-09-29T12:17:13.682Z"
   },
   {
    "duration": 0,
    "start_time": "2023-09-29T12:17:13.683Z"
   },
   {
    "duration": 0,
    "start_time": "2023-09-29T12:17:13.684Z"
   },
   {
    "duration": 0,
    "start_time": "2023-09-29T12:17:13.685Z"
   },
   {
    "duration": 0,
    "start_time": "2023-09-29T12:17:13.686Z"
   },
   {
    "duration": 0,
    "start_time": "2023-09-29T12:17:13.687Z"
   },
   {
    "duration": 0,
    "start_time": "2023-09-29T12:17:13.687Z"
   },
   {
    "duration": 0,
    "start_time": "2023-09-29T12:17:13.689Z"
   },
   {
    "duration": 0,
    "start_time": "2023-09-29T12:17:13.690Z"
   },
   {
    "duration": 0,
    "start_time": "2023-09-29T12:17:13.691Z"
   },
   {
    "duration": 0,
    "start_time": "2023-09-29T12:17:13.691Z"
   },
   {
    "duration": 0,
    "start_time": "2023-09-29T12:17:13.692Z"
   },
   {
    "duration": 0,
    "start_time": "2023-09-29T12:17:13.693Z"
   },
   {
    "duration": 0,
    "start_time": "2023-09-29T12:17:13.694Z"
   },
   {
    "duration": 0,
    "start_time": "2023-09-29T12:17:13.694Z"
   },
   {
    "duration": 0,
    "start_time": "2023-09-29T12:17:13.695Z"
   },
   {
    "duration": 0,
    "start_time": "2023-09-29T12:17:13.696Z"
   },
   {
    "duration": 0,
    "start_time": "2023-09-29T12:17:13.697Z"
   },
   {
    "duration": 0,
    "start_time": "2023-09-29T12:17:13.698Z"
   },
   {
    "duration": 0,
    "start_time": "2023-09-29T12:17:13.698Z"
   },
   {
    "duration": 0,
    "start_time": "2023-09-29T12:17:13.699Z"
   },
   {
    "duration": 0,
    "start_time": "2023-09-29T12:17:13.700Z"
   },
   {
    "duration": 0,
    "start_time": "2023-09-29T12:17:13.701Z"
   },
   {
    "duration": 0,
    "start_time": "2023-09-29T12:17:13.702Z"
   },
   {
    "duration": 0,
    "start_time": "2023-09-29T12:17:13.702Z"
   },
   {
    "duration": 0,
    "start_time": "2023-09-29T12:17:13.745Z"
   },
   {
    "duration": 0,
    "start_time": "2023-09-29T12:17:13.746Z"
   },
   {
    "duration": 0,
    "start_time": "2023-09-29T12:17:13.747Z"
   },
   {
    "duration": 0,
    "start_time": "2023-09-29T12:17:13.747Z"
   },
   {
    "duration": 0,
    "start_time": "2023-09-29T12:17:13.749Z"
   },
   {
    "duration": 0,
    "start_time": "2023-09-29T12:17:13.750Z"
   },
   {
    "duration": 0,
    "start_time": "2023-09-29T12:17:13.751Z"
   },
   {
    "duration": 0,
    "start_time": "2023-09-29T12:17:13.752Z"
   },
   {
    "duration": 0,
    "start_time": "2023-09-29T12:17:13.753Z"
   },
   {
    "duration": 399,
    "start_time": "2023-09-29T12:18:39.495Z"
   },
   {
    "duration": 0,
    "start_time": "2023-09-29T12:18:39.897Z"
   },
   {
    "duration": 0,
    "start_time": "2023-09-29T12:18:39.898Z"
   },
   {
    "duration": 0,
    "start_time": "2023-09-29T12:18:39.899Z"
   },
   {
    "duration": 0,
    "start_time": "2023-09-29T12:18:39.900Z"
   },
   {
    "duration": 0,
    "start_time": "2023-09-29T12:18:39.901Z"
   },
   {
    "duration": 0,
    "start_time": "2023-09-29T12:18:39.902Z"
   },
   {
    "duration": 0,
    "start_time": "2023-09-29T12:18:39.903Z"
   },
   {
    "duration": 0,
    "start_time": "2023-09-29T12:18:39.903Z"
   },
   {
    "duration": 0,
    "start_time": "2023-09-29T12:18:39.904Z"
   },
   {
    "duration": 0,
    "start_time": "2023-09-29T12:18:39.905Z"
   },
   {
    "duration": 0,
    "start_time": "2023-09-29T12:18:39.906Z"
   },
   {
    "duration": 0,
    "start_time": "2023-09-29T12:18:39.907Z"
   },
   {
    "duration": 0,
    "start_time": "2023-09-29T12:18:39.908Z"
   },
   {
    "duration": 0,
    "start_time": "2023-09-29T12:18:39.909Z"
   },
   {
    "duration": 0,
    "start_time": "2023-09-29T12:18:39.911Z"
   },
   {
    "duration": 0,
    "start_time": "2023-09-29T12:18:39.912Z"
   },
   {
    "duration": 0,
    "start_time": "2023-09-29T12:18:39.913Z"
   },
   {
    "duration": 0,
    "start_time": "2023-09-29T12:18:39.914Z"
   },
   {
    "duration": 0,
    "start_time": "2023-09-29T12:18:39.915Z"
   },
   {
    "duration": 0,
    "start_time": "2023-09-29T12:18:39.944Z"
   },
   {
    "duration": 0,
    "start_time": "2023-09-29T12:18:39.945Z"
   },
   {
    "duration": 0,
    "start_time": "2023-09-29T12:18:39.946Z"
   },
   {
    "duration": 0,
    "start_time": "2023-09-29T12:18:39.947Z"
   },
   {
    "duration": 0,
    "start_time": "2023-09-29T12:18:39.949Z"
   },
   {
    "duration": 0,
    "start_time": "2023-09-29T12:18:39.950Z"
   },
   {
    "duration": 0,
    "start_time": "2023-09-29T12:18:39.951Z"
   },
   {
    "duration": 0,
    "start_time": "2023-09-29T12:18:39.952Z"
   },
   {
    "duration": 0,
    "start_time": "2023-09-29T12:18:39.953Z"
   },
   {
    "duration": 0,
    "start_time": "2023-09-29T12:18:39.954Z"
   },
   {
    "duration": 0,
    "start_time": "2023-09-29T12:18:39.955Z"
   },
   {
    "duration": 0,
    "start_time": "2023-09-29T12:18:39.956Z"
   },
   {
    "duration": 0,
    "start_time": "2023-09-29T12:18:39.957Z"
   },
   {
    "duration": 0,
    "start_time": "2023-09-29T12:18:39.958Z"
   },
   {
    "duration": 0,
    "start_time": "2023-09-29T12:18:39.958Z"
   },
   {
    "duration": 0,
    "start_time": "2023-09-29T12:18:39.959Z"
   },
   {
    "duration": 0,
    "start_time": "2023-09-29T12:18:39.961Z"
   },
   {
    "duration": 0,
    "start_time": "2023-09-29T12:18:39.962Z"
   },
   {
    "duration": 0,
    "start_time": "2023-09-29T12:18:39.962Z"
   },
   {
    "duration": 0,
    "start_time": "2023-09-29T12:18:39.963Z"
   },
   {
    "duration": 0,
    "start_time": "2023-09-29T12:18:39.964Z"
   },
   {
    "duration": 0,
    "start_time": "2023-09-29T12:18:39.965Z"
   },
   {
    "duration": 0,
    "start_time": "2023-09-29T12:18:39.966Z"
   },
   {
    "duration": 8,
    "start_time": "2023-09-29T12:22:01.846Z"
   },
   {
    "duration": 1131,
    "start_time": "2023-09-29T12:22:20.265Z"
   },
   {
    "duration": 101,
    "start_time": "2023-09-29T12:23:38.122Z"
   },
   {
    "duration": 3184,
    "start_time": "2023-09-29T12:23:45.724Z"
   },
   {
    "duration": 14,
    "start_time": "2023-09-29T12:23:53.383Z"
   },
   {
    "duration": 2274,
    "start_time": "2023-09-29T12:24:12.913Z"
   },
   {
    "duration": 5,
    "start_time": "2023-09-29T12:24:15.190Z"
   },
   {
    "duration": 941,
    "start_time": "2023-09-29T12:24:15.197Z"
   },
   {
    "duration": 22,
    "start_time": "2023-09-29T12:24:16.140Z"
   },
   {
    "duration": 161,
    "start_time": "2023-09-29T12:24:16.164Z"
   },
   {
    "duration": 505,
    "start_time": "2023-09-29T12:24:16.327Z"
   },
   {
    "duration": 550,
    "start_time": "2023-09-29T12:24:16.834Z"
   },
   {
    "duration": 108,
    "start_time": "2023-09-29T12:24:17.386Z"
   },
   {
    "duration": 164,
    "start_time": "2023-09-29T12:24:17.496Z"
   },
   {
    "duration": 32,
    "start_time": "2023-09-29T12:24:17.664Z"
   },
   {
    "duration": 143,
    "start_time": "2023-09-29T12:24:17.698Z"
   },
   {
    "duration": 496,
    "start_time": "2023-09-29T12:24:17.843Z"
   },
   {
    "duration": 440,
    "start_time": "2023-09-29T12:24:18.343Z"
   },
   {
    "duration": 414,
    "start_time": "2023-09-29T12:24:18.785Z"
   },
   {
    "duration": 570,
    "start_time": "2023-09-29T12:24:19.201Z"
   },
   {
    "duration": 1517,
    "start_time": "2023-09-29T12:24:19.773Z"
   },
   {
    "duration": 490,
    "start_time": "2023-09-29T12:24:21.292Z"
   },
   {
    "duration": 27,
    "start_time": "2023-09-29T12:24:21.784Z"
   },
   {
    "duration": 325,
    "start_time": "2023-09-29T12:24:21.812Z"
   },
   {
    "duration": 365,
    "start_time": "2023-09-29T12:24:22.139Z"
   },
   {
    "duration": 19,
    "start_time": "2023-09-29T12:24:22.506Z"
   },
   {
    "duration": 308,
    "start_time": "2023-09-29T12:24:22.527Z"
   },
   {
    "duration": 428,
    "start_time": "2023-09-29T12:24:22.836Z"
   },
   {
    "duration": 19,
    "start_time": "2023-09-29T12:24:23.268Z"
   },
   {
    "duration": 351,
    "start_time": "2023-09-29T12:24:23.288Z"
   },
   {
    "duration": 21,
    "start_time": "2023-09-29T12:24:23.640Z"
   },
   {
    "duration": 25,
    "start_time": "2023-09-29T12:24:23.663Z"
   },
   {
    "duration": 13,
    "start_time": "2023-09-29T12:24:23.691Z"
   },
   {
    "duration": 9,
    "start_time": "2023-09-29T12:24:23.705Z"
   },
   {
    "duration": 77,
    "start_time": "2023-09-29T12:24:23.716Z"
   },
   {
    "duration": 15,
    "start_time": "2023-09-29T12:24:23.794Z"
   },
   {
    "duration": 14,
    "start_time": "2023-09-29T12:24:23.811Z"
   },
   {
    "duration": 37,
    "start_time": "2023-09-29T12:24:23.827Z"
   },
   {
    "duration": 15,
    "start_time": "2023-09-29T12:24:23.866Z"
   },
   {
    "duration": 17,
    "start_time": "2023-09-29T12:24:23.882Z"
   },
   {
    "duration": 15,
    "start_time": "2023-09-29T12:24:23.901Z"
   },
   {
    "duration": 51,
    "start_time": "2023-09-29T12:24:23.918Z"
   },
   {
    "duration": 16,
    "start_time": "2023-09-29T12:24:23.970Z"
   },
   {
    "duration": 95,
    "start_time": "2023-09-29T12:24:23.987Z"
   },
   {
    "duration": 2,
    "start_time": "2023-09-29T12:24:24.085Z"
   },
   {
    "duration": 5,
    "start_time": "2023-09-29T12:24:24.089Z"
   },
   {
    "duration": 5,
    "start_time": "2023-09-29T12:24:24.095Z"
   },
   {
    "duration": 438,
    "start_time": "2023-09-29T12:24:24.102Z"
   },
   {
    "duration": 3914,
    "start_time": "2023-09-29T12:24:24.544Z"
   },
   {
    "duration": 84,
    "start_time": "2023-09-29T12:25:32.916Z"
   },
   {
    "duration": 12206,
    "start_time": "2023-09-29T12:28:30.266Z"
   },
   {
    "duration": 12,
    "start_time": "2023-09-29T12:29:27.073Z"
   },
   {
    "duration": 3578,
    "start_time": "2023-09-29T12:29:33.198Z"
   },
   {
    "duration": 12029,
    "start_time": "2023-09-29T12:30:36.293Z"
   },
   {
    "duration": 4,
    "start_time": "2023-09-29T12:43:20.159Z"
   },
   {
    "duration": 3,
    "start_time": "2023-09-29T12:44:03.243Z"
   },
   {
    "duration": 2185,
    "start_time": "2023-09-29T12:44:09.789Z"
   },
   {
    "duration": 5,
    "start_time": "2023-09-29T12:44:11.976Z"
   },
   {
    "duration": 852,
    "start_time": "2023-09-29T12:44:11.982Z"
   },
   {
    "duration": 16,
    "start_time": "2023-09-29T12:44:12.837Z"
   },
   {
    "duration": 136,
    "start_time": "2023-09-29T12:44:12.854Z"
   },
   {
    "duration": 422,
    "start_time": "2023-09-29T12:44:12.991Z"
   },
   {
    "duration": 464,
    "start_time": "2023-09-29T12:44:13.415Z"
   },
   {
    "duration": 90,
    "start_time": "2023-09-29T12:44:13.881Z"
   },
   {
    "duration": 175,
    "start_time": "2023-09-29T12:44:13.973Z"
   },
   {
    "duration": 27,
    "start_time": "2023-09-29T12:44:14.151Z"
   },
   {
    "duration": 123,
    "start_time": "2023-09-29T12:44:14.180Z"
   },
   {
    "duration": 458,
    "start_time": "2023-09-29T12:44:14.305Z"
   },
   {
    "duration": 427,
    "start_time": "2023-09-29T12:44:14.765Z"
   },
   {
    "duration": 388,
    "start_time": "2023-09-29T12:44:15.194Z"
   },
   {
    "duration": 521,
    "start_time": "2023-09-29T12:44:15.584Z"
   },
   {
    "duration": 1470,
    "start_time": "2023-09-29T12:44:16.106Z"
   },
   {
    "duration": 535,
    "start_time": "2023-09-29T12:44:17.578Z"
   },
   {
    "duration": 29,
    "start_time": "2023-09-29T12:44:18.115Z"
   },
   {
    "duration": 298,
    "start_time": "2023-09-29T12:44:18.146Z"
   },
   {
    "duration": 365,
    "start_time": "2023-09-29T12:44:18.445Z"
   },
   {
    "duration": 20,
    "start_time": "2023-09-29T12:44:18.811Z"
   },
   {
    "duration": 291,
    "start_time": "2023-09-29T12:44:18.845Z"
   },
   {
    "duration": 315,
    "start_time": "2023-09-29T12:44:19.138Z"
   },
   {
    "duration": 19,
    "start_time": "2023-09-29T12:44:19.454Z"
   },
   {
    "duration": 313,
    "start_time": "2023-09-29T12:44:19.474Z"
   },
   {
    "duration": 15,
    "start_time": "2023-09-29T12:44:19.790Z"
   },
   {
    "duration": 17,
    "start_time": "2023-09-29T12:44:19.807Z"
   },
   {
    "duration": 16,
    "start_time": "2023-09-29T12:44:19.843Z"
   },
   {
    "duration": 20,
    "start_time": "2023-09-29T12:44:19.861Z"
   },
   {
    "duration": 68,
    "start_time": "2023-09-29T12:44:19.883Z"
   },
   {
    "duration": 17,
    "start_time": "2023-09-29T12:44:19.953Z"
   },
   {
    "duration": 16,
    "start_time": "2023-09-29T12:44:19.971Z"
   },
   {
    "duration": 19,
    "start_time": "2023-09-29T12:44:19.988Z"
   },
   {
    "duration": 79,
    "start_time": "2023-09-29T12:44:20.009Z"
   },
   {
    "duration": 61,
    "start_time": "2023-09-29T12:44:20.090Z"
   },
   {
    "duration": 20,
    "start_time": "2023-09-29T12:44:20.154Z"
   },
   {
    "duration": 26,
    "start_time": "2023-09-29T12:44:20.176Z"
   },
   {
    "duration": 41,
    "start_time": "2023-09-29T12:44:20.204Z"
   },
   {
    "duration": 81,
    "start_time": "2023-09-29T12:44:20.247Z"
   },
   {
    "duration": 6,
    "start_time": "2023-09-29T12:44:20.330Z"
   },
   {
    "duration": 21,
    "start_time": "2023-09-29T12:44:20.337Z"
   },
   {
    "duration": 14,
    "start_time": "2023-09-29T12:44:20.360Z"
   },
   {
    "duration": 440,
    "start_time": "2023-09-29T12:44:20.376Z"
   },
   {
    "duration": 12607,
    "start_time": "2023-09-29T12:44:20.818Z"
   },
   {
    "duration": 3,
    "start_time": "2023-09-29T12:44:33.426Z"
   },
   {
    "duration": 60,
    "start_time": "2023-09-29T13:39:14.322Z"
   },
   {
    "duration": 62,
    "start_time": "2023-09-29T13:44:45.233Z"
   },
   {
    "duration": 2223,
    "start_time": "2023-09-29T13:47:10.309Z"
   },
   {
    "duration": 5,
    "start_time": "2023-09-29T13:47:12.535Z"
   },
   {
    "duration": 837,
    "start_time": "2023-09-29T13:47:12.542Z"
   },
   {
    "duration": 13,
    "start_time": "2023-09-29T13:47:13.381Z"
   },
   {
    "duration": 150,
    "start_time": "2023-09-29T13:47:13.395Z"
   },
   {
    "duration": 376,
    "start_time": "2023-09-29T13:47:13.547Z"
   },
   {
    "duration": 478,
    "start_time": "2023-09-29T13:47:13.925Z"
   },
   {
    "duration": 91,
    "start_time": "2023-09-29T13:47:14.404Z"
   },
   {
    "duration": 136,
    "start_time": "2023-09-29T13:47:14.496Z"
   },
   {
    "duration": 23,
    "start_time": "2023-09-29T13:47:14.644Z"
   },
   {
    "duration": 99,
    "start_time": "2023-09-29T13:47:14.669Z"
   },
   {
    "duration": 441,
    "start_time": "2023-09-29T13:47:14.770Z"
   },
   {
    "duration": 409,
    "start_time": "2023-09-29T13:47:15.212Z"
   },
   {
    "duration": 363,
    "start_time": "2023-09-29T13:47:15.623Z"
   },
   {
    "duration": 447,
    "start_time": "2023-09-29T13:47:15.987Z"
   },
   {
    "duration": 1315,
    "start_time": "2023-09-29T13:47:16.436Z"
   },
   {
    "duration": 577,
    "start_time": "2023-09-29T13:47:17.753Z"
   },
   {
    "duration": 29,
    "start_time": "2023-09-29T13:47:18.331Z"
   },
   {
    "duration": 308,
    "start_time": "2023-09-29T13:47:18.362Z"
   },
   {
    "duration": 344,
    "start_time": "2023-09-29T13:47:18.672Z"
   },
   {
    "duration": 29,
    "start_time": "2023-09-29T13:47:19.018Z"
   },
   {
    "duration": 288,
    "start_time": "2023-09-29T13:47:19.049Z"
   },
   {
    "duration": 301,
    "start_time": "2023-09-29T13:47:19.338Z"
   },
   {
    "duration": 18,
    "start_time": "2023-09-29T13:47:19.640Z"
   },
   {
    "duration": 313,
    "start_time": "2023-09-29T13:47:19.660Z"
   },
   {
    "duration": 15,
    "start_time": "2023-09-29T13:47:19.974Z"
   },
   {
    "duration": 28,
    "start_time": "2023-09-29T13:47:19.991Z"
   },
   {
    "duration": 45,
    "start_time": "2023-09-29T13:47:20.022Z"
   },
   {
    "duration": 34,
    "start_time": "2023-09-29T13:47:20.069Z"
   },
   {
    "duration": 85,
    "start_time": "2023-09-29T13:47:20.105Z"
   },
   {
    "duration": 19,
    "start_time": "2023-09-29T13:47:20.192Z"
   },
   {
    "duration": 21,
    "start_time": "2023-09-29T13:47:20.213Z"
   },
   {
    "duration": 18,
    "start_time": "2023-09-29T13:47:20.236Z"
   },
   {
    "duration": 32,
    "start_time": "2023-09-29T13:47:20.256Z"
   },
   {
    "duration": 22,
    "start_time": "2023-09-29T13:47:20.290Z"
   },
   {
    "duration": 34,
    "start_time": "2023-09-29T13:47:20.313Z"
   },
   {
    "duration": 20,
    "start_time": "2023-09-29T13:47:20.349Z"
   },
   {
    "duration": 17,
    "start_time": "2023-09-29T13:47:20.371Z"
   },
   {
    "duration": 65,
    "start_time": "2023-09-29T13:47:20.390Z"
   },
   {
    "duration": 3,
    "start_time": "2023-09-29T13:47:20.457Z"
   },
   {
    "duration": 24,
    "start_time": "2023-09-29T13:47:20.462Z"
   },
   {
    "duration": 55,
    "start_time": "2023-09-29T13:47:20.487Z"
   },
   {
    "duration": 350,
    "start_time": "2023-09-29T13:47:20.544Z"
   },
   {
    "duration": 12382,
    "start_time": "2023-09-29T13:47:20.896Z"
   },
   {
    "duration": 3,
    "start_time": "2023-09-29T13:47:33.279Z"
   },
   {
    "duration": 9,
    "start_time": "2023-09-29T13:47:33.283Z"
   },
   {
    "duration": 14,
    "start_time": "2023-09-29T13:47:33.293Z"
   },
   {
    "duration": 8,
    "start_time": "2023-09-29T13:47:33.308Z"
   },
   {
    "duration": 9,
    "start_time": "2023-09-29T13:47:33.317Z"
   },
   {
    "duration": 10,
    "start_time": "2023-09-29T13:47:33.327Z"
   },
   {
    "duration": 4,
    "start_time": "2023-09-29T13:47:33.339Z"
   },
   {
    "duration": 11,
    "start_time": "2023-09-29T13:47:33.345Z"
   },
   {
    "duration": 8,
    "start_time": "2023-09-29T13:47:33.358Z"
   },
   {
    "duration": 27,
    "start_time": "2023-09-29T13:47:33.367Z"
   },
   {
    "duration": 9,
    "start_time": "2023-09-29T13:47:33.396Z"
   },
   {
    "duration": 67,
    "start_time": "2023-09-29T13:47:33.406Z"
   },
   {
    "duration": 12,
    "start_time": "2023-09-29T13:47:33.475Z"
   },
   {
    "duration": 13,
    "start_time": "2023-09-29T13:47:33.489Z"
   },
   {
    "duration": 0,
    "start_time": "2023-09-29T13:47:33.503Z"
   },
   {
    "duration": 0,
    "start_time": "2023-09-29T13:47:33.504Z"
   },
   {
    "duration": 44,
    "start_time": "2023-09-29T13:49:18.122Z"
   },
   {
    "duration": 5,
    "start_time": "2023-09-29T13:49:21.132Z"
   },
   {
    "duration": 3,
    "start_time": "2023-09-29T13:53:05.160Z"
   },
   {
    "duration": 8,
    "start_time": "2023-09-29T14:05:55.803Z"
   },
   {
    "duration": 2351,
    "start_time": "2023-09-29T14:06:02.008Z"
   },
   {
    "duration": 5,
    "start_time": "2023-09-29T14:06:04.361Z"
   },
   {
    "duration": 937,
    "start_time": "2023-09-29T14:06:04.367Z"
   },
   {
    "duration": 13,
    "start_time": "2023-09-29T14:06:05.306Z"
   },
   {
    "duration": 196,
    "start_time": "2023-09-29T14:06:05.321Z"
   },
   {
    "duration": 454,
    "start_time": "2023-09-29T14:06:05.518Z"
   },
   {
    "duration": 446,
    "start_time": "2023-09-29T14:06:05.974Z"
   },
   {
    "duration": 95,
    "start_time": "2023-09-29T14:06:06.421Z"
   },
   {
    "duration": 149,
    "start_time": "2023-09-29T14:06:06.518Z"
   },
   {
    "duration": 22,
    "start_time": "2023-09-29T14:06:06.669Z"
   },
   {
    "duration": 104,
    "start_time": "2023-09-29T14:06:06.693Z"
   },
   {
    "duration": 473,
    "start_time": "2023-09-29T14:06:06.799Z"
   },
   {
    "duration": 433,
    "start_time": "2023-09-29T14:06:07.273Z"
   },
   {
    "duration": 489,
    "start_time": "2023-09-29T14:06:07.707Z"
   },
   {
    "duration": 462,
    "start_time": "2023-09-29T14:06:08.197Z"
   },
   {
    "duration": 1418,
    "start_time": "2023-09-29T14:06:08.661Z"
   },
   {
    "duration": 486,
    "start_time": "2023-09-29T14:06:10.080Z"
   },
   {
    "duration": 21,
    "start_time": "2023-09-29T14:06:10.568Z"
   },
   {
    "duration": 331,
    "start_time": "2023-09-29T14:06:10.591Z"
   },
   {
    "duration": 320,
    "start_time": "2023-09-29T14:06:10.923Z"
   },
   {
    "duration": 22,
    "start_time": "2023-09-29T14:06:11.250Z"
   },
   {
    "duration": 278,
    "start_time": "2023-09-29T14:06:11.274Z"
   },
   {
    "duration": 318,
    "start_time": "2023-09-29T14:06:11.554Z"
   },
   {
    "duration": 18,
    "start_time": "2023-09-29T14:06:11.873Z"
   },
   {
    "duration": 318,
    "start_time": "2023-09-29T14:06:11.893Z"
   },
   {
    "duration": 15,
    "start_time": "2023-09-29T14:06:12.212Z"
   },
   {
    "duration": 169,
    "start_time": "2023-09-29T14:06:12.229Z"
   },
   {
    "duration": 13,
    "start_time": "2023-09-29T14:06:12.402Z"
   },
   {
    "duration": 16,
    "start_time": "2023-09-29T14:06:12.417Z"
   },
   {
    "duration": 69,
    "start_time": "2023-09-29T14:06:12.435Z"
   },
   {
    "duration": 27,
    "start_time": "2023-09-29T14:06:12.506Z"
   },
   {
    "duration": 26,
    "start_time": "2023-09-29T14:06:12.534Z"
   },
   {
    "duration": 197,
    "start_time": "2023-09-29T14:06:12.562Z"
   },
   {
    "duration": 15,
    "start_time": "2023-09-29T14:06:12.760Z"
   },
   {
    "duration": 17,
    "start_time": "2023-09-29T14:06:12.777Z"
   },
   {
    "duration": 17,
    "start_time": "2023-09-29T14:06:12.796Z"
   },
   {
    "duration": 24,
    "start_time": "2023-09-29T14:06:12.815Z"
   },
   {
    "duration": 23,
    "start_time": "2023-09-29T14:06:12.840Z"
   },
   {
    "duration": 56,
    "start_time": "2023-09-29T14:06:12.864Z"
   },
   {
    "duration": 2,
    "start_time": "2023-09-29T14:06:12.922Z"
   },
   {
    "duration": 24,
    "start_time": "2023-09-29T14:06:12.926Z"
   },
   {
    "duration": 6,
    "start_time": "2023-09-29T14:06:12.951Z"
   },
   {
    "duration": 377,
    "start_time": "2023-09-29T14:06:12.959Z"
   },
   {
    "duration": 12753,
    "start_time": "2023-09-29T14:06:13.338Z"
   },
   {
    "duration": 2,
    "start_time": "2023-09-29T14:06:26.092Z"
   },
   {
    "duration": 6,
    "start_time": "2023-09-29T14:06:26.095Z"
   },
   {
    "duration": 6,
    "start_time": "2023-09-29T14:06:26.102Z"
   },
   {
    "duration": 7,
    "start_time": "2023-09-29T14:06:26.109Z"
   },
   {
    "duration": 13,
    "start_time": "2023-09-29T14:06:26.117Z"
   },
   {
    "duration": 9,
    "start_time": "2023-09-29T14:06:26.131Z"
   },
   {
    "duration": 17,
    "start_time": "2023-09-29T14:06:26.141Z"
   },
   {
    "duration": 11,
    "start_time": "2023-09-29T14:06:26.160Z"
   },
   {
    "duration": 12,
    "start_time": "2023-09-29T14:06:26.172Z"
   },
   {
    "duration": 19,
    "start_time": "2023-09-29T14:06:26.185Z"
   },
   {
    "duration": 5,
    "start_time": "2023-09-29T14:06:26.206Z"
   },
   {
    "duration": 78,
    "start_time": "2023-09-29T14:06:26.213Z"
   },
   {
    "duration": 12,
    "start_time": "2023-09-29T14:06:26.292Z"
   },
   {
    "duration": 2,
    "start_time": "2023-09-29T14:06:26.306Z"
   },
   {
    "duration": 64,
    "start_time": "2023-09-29T14:06:26.309Z"
   },
   {
    "duration": 4,
    "start_time": "2023-09-29T14:06:26.375Z"
   },
   {
    "duration": 20,
    "start_time": "2023-09-29T14:06:26.380Z"
   },
   {
    "duration": 13,
    "start_time": "2023-09-29T14:09:01.408Z"
   },
   {
    "duration": 19,
    "start_time": "2023-09-29T14:13:18.837Z"
   },
   {
    "duration": 9,
    "start_time": "2023-09-29T14:13:35.727Z"
   },
   {
    "duration": 6,
    "start_time": "2023-09-29T14:15:44.609Z"
   },
   {
    "duration": 9,
    "start_time": "2023-09-29T14:15:57.983Z"
   },
   {
    "duration": 5,
    "start_time": "2023-09-29T14:16:22.832Z"
   },
   {
    "duration": 9,
    "start_time": "2023-09-29T14:16:35.916Z"
   },
   {
    "duration": 11,
    "start_time": "2023-09-29T14:17:28.395Z"
   },
   {
    "duration": 11,
    "start_time": "2023-09-29T14:17:32.301Z"
   },
   {
    "duration": 2308,
    "start_time": "2023-09-29T14:18:32.756Z"
   },
   {
    "duration": 8,
    "start_time": "2023-09-29T14:18:35.067Z"
   },
   {
    "duration": 835,
    "start_time": "2023-09-29T14:18:35.077Z"
   },
   {
    "duration": 14,
    "start_time": "2023-09-29T14:18:35.913Z"
   },
   {
    "duration": 165,
    "start_time": "2023-09-29T14:18:35.928Z"
   },
   {
    "duration": 411,
    "start_time": "2023-09-29T14:18:36.095Z"
   },
   {
    "duration": 441,
    "start_time": "2023-09-29T14:18:36.508Z"
   },
   {
    "duration": 108,
    "start_time": "2023-09-29T14:18:36.951Z"
   },
   {
    "duration": 148,
    "start_time": "2023-09-29T14:18:37.060Z"
   },
   {
    "duration": 42,
    "start_time": "2023-09-29T14:18:37.210Z"
   },
   {
    "duration": 94,
    "start_time": "2023-09-29T14:18:37.255Z"
   },
   {
    "duration": 648,
    "start_time": "2023-09-29T14:18:37.351Z"
   },
   {
    "duration": 456,
    "start_time": "2023-09-29T14:18:38.001Z"
   },
   {
    "duration": 375,
    "start_time": "2023-09-29T14:18:38.459Z"
   },
   {
    "duration": 494,
    "start_time": "2023-09-29T14:18:38.836Z"
   },
   {
    "duration": 1368,
    "start_time": "2023-09-29T14:18:39.332Z"
   },
   {
    "duration": 459,
    "start_time": "2023-09-29T14:18:40.701Z"
   },
   {
    "duration": 19,
    "start_time": "2023-09-29T14:18:41.162Z"
   },
   {
    "duration": 307,
    "start_time": "2023-09-29T14:18:41.183Z"
   },
   {
    "duration": 322,
    "start_time": "2023-09-29T14:18:41.491Z"
   },
   {
    "duration": 18,
    "start_time": "2023-09-29T14:18:41.815Z"
   },
   {
    "duration": 283,
    "start_time": "2023-09-29T14:18:41.835Z"
   },
   {
    "duration": 340,
    "start_time": "2023-09-29T14:18:42.119Z"
   },
   {
    "duration": 18,
    "start_time": "2023-09-29T14:18:42.460Z"
   },
   {
    "duration": 322,
    "start_time": "2023-09-29T14:18:42.479Z"
   },
   {
    "duration": 21,
    "start_time": "2023-09-29T14:18:42.802Z"
   },
   {
    "duration": 26,
    "start_time": "2023-09-29T14:18:42.825Z"
   },
   {
    "duration": 13,
    "start_time": "2023-09-29T14:18:42.859Z"
   },
   {
    "duration": 12,
    "start_time": "2023-09-29T14:18:42.873Z"
   },
   {
    "duration": 65,
    "start_time": "2023-09-29T14:18:42.887Z"
   },
   {
    "duration": 17,
    "start_time": "2023-09-29T14:18:42.955Z"
   },
   {
    "duration": 16,
    "start_time": "2023-09-29T14:18:42.974Z"
   },
   {
    "duration": 16,
    "start_time": "2023-09-29T14:18:42.991Z"
   },
   {
    "duration": 20,
    "start_time": "2023-09-29T14:18:43.009Z"
   },
   {
    "duration": 34,
    "start_time": "2023-09-29T14:18:43.030Z"
   },
   {
    "duration": 14,
    "start_time": "2023-09-29T14:18:43.069Z"
   },
   {
    "duration": 17,
    "start_time": "2023-09-29T14:18:43.084Z"
   },
   {
    "duration": 28,
    "start_time": "2023-09-29T14:18:43.102Z"
   },
   {
    "duration": 78,
    "start_time": "2023-09-29T14:18:43.132Z"
   },
   {
    "duration": 2,
    "start_time": "2023-09-29T14:18:43.212Z"
   },
   {
    "duration": 19,
    "start_time": "2023-09-29T14:18:43.216Z"
   },
   {
    "duration": 21,
    "start_time": "2023-09-29T14:18:43.237Z"
   },
   {
    "duration": 339,
    "start_time": "2023-09-29T14:18:43.259Z"
   },
   {
    "duration": 13374,
    "start_time": "2023-09-29T14:18:43.599Z"
   },
   {
    "duration": 3,
    "start_time": "2023-09-29T14:18:56.974Z"
   },
   {
    "duration": 6,
    "start_time": "2023-09-29T14:18:56.978Z"
   },
   {
    "duration": 5,
    "start_time": "2023-09-29T14:18:56.985Z"
   },
   {
    "duration": 8,
    "start_time": "2023-09-29T14:18:56.991Z"
   },
   {
    "duration": 13,
    "start_time": "2023-09-29T14:18:57.000Z"
   },
   {
    "duration": 14,
    "start_time": "2023-09-29T14:18:57.014Z"
   },
   {
    "duration": 3,
    "start_time": "2023-09-29T14:18:57.030Z"
   },
   {
    "duration": 8,
    "start_time": "2023-09-29T14:18:57.034Z"
   },
   {
    "duration": 22,
    "start_time": "2023-09-29T14:18:57.044Z"
   },
   {
    "duration": 22,
    "start_time": "2023-09-29T14:18:57.068Z"
   },
   {
    "duration": 13,
    "start_time": "2023-09-29T14:18:57.091Z"
   },
   {
    "duration": 74,
    "start_time": "2023-09-29T14:18:57.105Z"
   },
   {
    "duration": 12,
    "start_time": "2023-09-29T14:18:57.180Z"
   },
   {
    "duration": 2,
    "start_time": "2023-09-29T14:18:57.193Z"
   },
   {
    "duration": 61,
    "start_time": "2023-09-29T14:18:57.196Z"
   },
   {
    "duration": 4,
    "start_time": "2023-09-29T14:18:57.259Z"
   },
   {
    "duration": 18,
    "start_time": "2023-09-29T14:18:57.265Z"
   },
   {
    "duration": 13,
    "start_time": "2023-09-29T14:18:57.284Z"
   },
   {
    "duration": 11,
    "start_time": "2023-09-29T14:18:57.298Z"
   },
   {
    "duration": 2,
    "start_time": "2023-09-29T14:21:13.287Z"
   },
   {
    "duration": 15,
    "start_time": "2023-09-29T14:21:14.149Z"
   },
   {
    "duration": 4,
    "start_time": "2023-09-29T14:21:24.880Z"
   },
   {
    "duration": 10,
    "start_time": "2023-09-29T14:21:25.462Z"
   },
   {
    "duration": 2286,
    "start_time": "2023-09-29T14:21:30.500Z"
   },
   {
    "duration": 4,
    "start_time": "2023-09-29T14:21:32.789Z"
   },
   {
    "duration": 831,
    "start_time": "2023-09-29T14:21:32.795Z"
   },
   {
    "duration": 18,
    "start_time": "2023-09-29T14:21:33.628Z"
   },
   {
    "duration": 160,
    "start_time": "2023-09-29T14:21:33.647Z"
   },
   {
    "duration": 417,
    "start_time": "2023-09-29T14:21:33.809Z"
   },
   {
    "duration": 477,
    "start_time": "2023-09-29T14:21:34.228Z"
   },
   {
    "duration": 86,
    "start_time": "2023-09-29T14:21:34.707Z"
   },
   {
    "duration": 142,
    "start_time": "2023-09-29T14:21:34.794Z"
   },
   {
    "duration": 29,
    "start_time": "2023-09-29T14:21:34.938Z"
   },
   {
    "duration": 113,
    "start_time": "2023-09-29T14:21:34.969Z"
   },
   {
    "duration": 456,
    "start_time": "2023-09-29T14:21:35.084Z"
   },
   {
    "duration": 432,
    "start_time": "2023-09-29T14:21:35.542Z"
   },
   {
    "duration": 388,
    "start_time": "2023-09-29T14:21:35.976Z"
   },
   {
    "duration": 471,
    "start_time": "2023-09-29T14:21:36.366Z"
   },
   {
    "duration": 1434,
    "start_time": "2023-09-29T14:21:36.838Z"
   },
   {
    "duration": 491,
    "start_time": "2023-09-29T14:21:38.274Z"
   },
   {
    "duration": 22,
    "start_time": "2023-09-29T14:21:38.766Z"
   },
   {
    "duration": 360,
    "start_time": "2023-09-29T14:21:38.789Z"
   },
   {
    "duration": 496,
    "start_time": "2023-09-29T14:21:39.151Z"
   },
   {
    "duration": 25,
    "start_time": "2023-09-29T14:21:39.649Z"
   },
   {
    "duration": 326,
    "start_time": "2023-09-29T14:21:39.675Z"
   },
   {
    "duration": 344,
    "start_time": "2023-09-29T14:21:40.002Z"
   },
   {
    "duration": 22,
    "start_time": "2023-09-29T14:21:40.348Z"
   },
   {
    "duration": 312,
    "start_time": "2023-09-29T14:21:40.372Z"
   },
   {
    "duration": 16,
    "start_time": "2023-09-29T14:21:40.686Z"
   },
   {
    "duration": 21,
    "start_time": "2023-09-29T14:21:40.704Z"
   },
   {
    "duration": 27,
    "start_time": "2023-09-29T14:21:40.730Z"
   },
   {
    "duration": 24,
    "start_time": "2023-09-29T14:21:40.758Z"
   },
   {
    "duration": 59,
    "start_time": "2023-09-29T14:21:40.783Z"
   },
   {
    "duration": 20,
    "start_time": "2023-09-29T14:21:40.844Z"
   },
   {
    "duration": 27,
    "start_time": "2023-09-29T14:21:40.865Z"
   },
   {
    "duration": 18,
    "start_time": "2023-09-29T14:21:40.894Z"
   },
   {
    "duration": 17,
    "start_time": "2023-09-29T14:21:40.914Z"
   },
   {
    "duration": 38,
    "start_time": "2023-09-29T14:21:40.933Z"
   },
   {
    "duration": 35,
    "start_time": "2023-09-29T14:21:40.973Z"
   },
   {
    "duration": 39,
    "start_time": "2023-09-29T14:21:41.009Z"
   },
   {
    "duration": 20,
    "start_time": "2023-09-29T14:21:41.050Z"
   },
   {
    "duration": 67,
    "start_time": "2023-09-29T14:21:41.071Z"
   },
   {
    "duration": 5,
    "start_time": "2023-09-29T14:21:41.139Z"
   },
   {
    "duration": 12,
    "start_time": "2023-09-29T14:21:41.146Z"
   },
   {
    "duration": 10,
    "start_time": "2023-09-29T14:21:41.159Z"
   },
   {
    "duration": 383,
    "start_time": "2023-09-29T14:21:41.170Z"
   },
   {
    "duration": 13445,
    "start_time": "2023-09-29T14:21:41.559Z"
   },
   {
    "duration": 2,
    "start_time": "2023-09-29T14:21:55.005Z"
   },
   {
    "duration": 17,
    "start_time": "2023-09-29T14:21:55.009Z"
   },
   {
    "duration": 29,
    "start_time": "2023-09-29T14:21:55.028Z"
   },
   {
    "duration": 18,
    "start_time": "2023-09-29T14:21:55.059Z"
   },
   {
    "duration": 12,
    "start_time": "2023-09-29T14:21:55.078Z"
   },
   {
    "duration": 21,
    "start_time": "2023-09-29T14:21:55.092Z"
   },
   {
    "duration": 18,
    "start_time": "2023-09-29T14:21:55.115Z"
   },
   {
    "duration": 45,
    "start_time": "2023-09-29T14:21:55.134Z"
   },
   {
    "duration": 10,
    "start_time": "2023-09-29T14:21:55.180Z"
   },
   {
    "duration": 16,
    "start_time": "2023-09-29T14:21:55.192Z"
   },
   {
    "duration": 17,
    "start_time": "2023-09-29T14:21:55.209Z"
   },
   {
    "duration": 79,
    "start_time": "2023-09-29T14:21:55.227Z"
   },
   {
    "duration": 12,
    "start_time": "2023-09-29T14:21:55.308Z"
   },
   {
    "duration": 12,
    "start_time": "2023-09-29T14:21:55.321Z"
   },
   {
    "duration": 63,
    "start_time": "2023-09-29T14:21:55.335Z"
   },
   {
    "duration": 4,
    "start_time": "2023-09-29T14:21:55.400Z"
   },
   {
    "duration": 13,
    "start_time": "2023-09-29T14:21:55.406Z"
   },
   {
    "duration": 12,
    "start_time": "2023-09-29T14:21:55.421Z"
   },
   {
    "duration": 13,
    "start_time": "2023-09-29T14:21:55.444Z"
   },
   {
    "duration": 15,
    "start_time": "2023-09-29T14:21:55.459Z"
   },
   {
    "duration": 3,
    "start_time": "2023-09-29T14:26:22.938Z"
   },
   {
    "duration": 25,
    "start_time": "2023-09-29T14:27:58.793Z"
   },
   {
    "duration": 35,
    "start_time": "2023-09-29T14:28:39.623Z"
   },
   {
    "duration": 166,
    "start_time": "2023-09-29T14:28:50.245Z"
   },
   {
    "duration": 22,
    "start_time": "2023-09-29T14:29:01.314Z"
   },
   {
    "duration": 16,
    "start_time": "2023-09-29T14:30:41.953Z"
   },
   {
    "duration": 26,
    "start_time": "2023-09-29T14:36:26.160Z"
   },
   {
    "duration": 9,
    "start_time": "2023-09-29T14:37:06.083Z"
   },
   {
    "duration": 4,
    "start_time": "2023-09-29T14:37:18.990Z"
   },
   {
    "duration": 2110,
    "start_time": "2023-09-29T14:38:31.158Z"
   },
   {
    "duration": 1558,
    "start_time": "2023-09-29T14:38:33.270Z"
   },
   {
    "duration": 845,
    "start_time": "2023-09-29T14:38:34.830Z"
   },
   {
    "duration": 15,
    "start_time": "2023-09-29T14:38:35.677Z"
   },
   {
    "duration": 162,
    "start_time": "2023-09-29T14:38:35.694Z"
   },
   {
    "duration": 449,
    "start_time": "2023-09-29T14:38:35.858Z"
   },
   {
    "duration": 470,
    "start_time": "2023-09-29T14:38:36.309Z"
   },
   {
    "duration": 91,
    "start_time": "2023-09-29T14:38:36.781Z"
   },
   {
    "duration": 129,
    "start_time": "2023-09-29T14:38:36.873Z"
   },
   {
    "duration": 47,
    "start_time": "2023-09-29T14:38:37.006Z"
   },
   {
    "duration": 103,
    "start_time": "2023-09-29T14:38:37.054Z"
   },
   {
    "duration": 434,
    "start_time": "2023-09-29T14:38:37.158Z"
   },
   {
    "duration": 396,
    "start_time": "2023-09-29T14:38:37.593Z"
   },
   {
    "duration": 366,
    "start_time": "2023-09-29T14:38:37.990Z"
   },
   {
    "duration": 537,
    "start_time": "2023-09-29T14:38:38.358Z"
   },
   {
    "duration": 1485,
    "start_time": "2023-09-29T14:38:38.897Z"
   },
   {
    "duration": 477,
    "start_time": "2023-09-29T14:38:40.384Z"
   },
   {
    "duration": 28,
    "start_time": "2023-09-29T14:38:40.863Z"
   },
   {
    "duration": 334,
    "start_time": "2023-09-29T14:38:40.893Z"
   },
   {
    "duration": 343,
    "start_time": "2023-09-29T14:38:41.228Z"
   },
   {
    "duration": 19,
    "start_time": "2023-09-29T14:38:41.573Z"
   },
   {
    "duration": 296,
    "start_time": "2023-09-29T14:38:41.594Z"
   },
   {
    "duration": 329,
    "start_time": "2023-09-29T14:38:41.892Z"
   },
   {
    "duration": 30,
    "start_time": "2023-09-29T14:38:42.222Z"
   },
   {
    "duration": 332,
    "start_time": "2023-09-29T14:38:42.253Z"
   },
   {
    "duration": 14,
    "start_time": "2023-09-29T14:38:42.586Z"
   },
   {
    "duration": 17,
    "start_time": "2023-09-29T14:38:42.602Z"
   },
   {
    "duration": 33,
    "start_time": "2023-09-29T14:38:42.623Z"
   },
   {
    "duration": 7,
    "start_time": "2023-09-29T14:38:42.660Z"
   },
   {
    "duration": 57,
    "start_time": "2023-09-29T14:38:42.669Z"
   },
   {
    "duration": 38,
    "start_time": "2023-09-29T14:38:42.728Z"
   },
   {
    "duration": 20,
    "start_time": "2023-09-29T14:38:42.768Z"
   },
   {
    "duration": 17,
    "start_time": "2023-09-29T14:38:42.790Z"
   },
   {
    "duration": 15,
    "start_time": "2023-09-29T14:38:42.809Z"
   },
   {
    "duration": 32,
    "start_time": "2023-09-29T14:38:42.825Z"
   },
   {
    "duration": 14,
    "start_time": "2023-09-29T14:38:42.859Z"
   },
   {
    "duration": 18,
    "start_time": "2023-09-29T14:38:42.875Z"
   },
   {
    "duration": 19,
    "start_time": "2023-09-29T14:38:42.894Z"
   },
   {
    "duration": 68,
    "start_time": "2023-09-29T14:38:42.915Z"
   },
   {
    "duration": 2,
    "start_time": "2023-09-29T14:38:42.985Z"
   },
   {
    "duration": 10,
    "start_time": "2023-09-29T14:38:42.988Z"
   },
   {
    "duration": 5,
    "start_time": "2023-09-29T14:38:42.999Z"
   },
   {
    "duration": 363,
    "start_time": "2023-09-29T14:38:43.005Z"
   },
   {
    "duration": 13229,
    "start_time": "2023-09-29T14:38:43.370Z"
   },
   {
    "duration": 3,
    "start_time": "2023-09-29T14:38:56.601Z"
   },
   {
    "duration": 26,
    "start_time": "2023-09-29T14:38:56.605Z"
   },
   {
    "duration": 22,
    "start_time": "2023-09-29T14:38:56.633Z"
   },
   {
    "duration": 21,
    "start_time": "2023-09-29T14:38:56.657Z"
   },
   {
    "duration": 5,
    "start_time": "2023-09-29T14:38:56.680Z"
   },
   {
    "duration": 7,
    "start_time": "2023-09-29T14:38:56.687Z"
   },
   {
    "duration": 6,
    "start_time": "2023-09-29T14:38:56.695Z"
   },
   {
    "duration": 4,
    "start_time": "2023-09-29T14:38:56.702Z"
   },
   {
    "duration": 8,
    "start_time": "2023-09-29T14:38:56.707Z"
   },
   {
    "duration": 4,
    "start_time": "2023-09-29T14:38:56.717Z"
   },
   {
    "duration": 4,
    "start_time": "2023-09-29T14:38:56.722Z"
   },
   {
    "duration": 82,
    "start_time": "2023-09-29T14:38:56.727Z"
   },
   {
    "duration": 16,
    "start_time": "2023-09-29T14:38:56.811Z"
   },
   {
    "duration": 5,
    "start_time": "2023-09-29T14:38:56.829Z"
   },
   {
    "duration": 48,
    "start_time": "2023-09-29T14:38:56.835Z"
   },
   {
    "duration": 4,
    "start_time": "2023-09-29T14:38:56.885Z"
   },
   {
    "duration": 25,
    "start_time": "2023-09-29T14:38:56.890Z"
   },
   {
    "duration": 32,
    "start_time": "2023-09-29T14:38:56.916Z"
   },
   {
    "duration": 8,
    "start_time": "2023-09-29T14:38:56.950Z"
   },
   {
    "duration": 3,
    "start_time": "2023-09-29T14:39:17.585Z"
   },
   {
    "duration": 10,
    "start_time": "2023-09-29T14:39:18.542Z"
   },
   {
    "duration": 109,
    "start_time": "2023-09-29T14:39:22.362Z"
   },
   {
    "duration": 95,
    "start_time": "2023-09-29T14:40:44.775Z"
   },
   {
    "duration": 9,
    "start_time": "2023-09-29T14:41:02.062Z"
   },
   {
    "duration": 9,
    "start_time": "2023-09-29T14:43:02.454Z"
   },
   {
    "duration": 9,
    "start_time": "2023-09-29T14:45:20.988Z"
   },
   {
    "duration": 10,
    "start_time": "2023-09-29T14:46:33.409Z"
   },
   {
    "duration": 26,
    "start_time": "2023-09-29T14:50:27.195Z"
   },
   {
    "duration": 28,
    "start_time": "2023-09-29T14:50:36.178Z"
   },
   {
    "duration": 4,
    "start_time": "2023-09-29T14:54:30.530Z"
   },
   {
    "duration": 4,
    "start_time": "2023-09-29T14:54:31.958Z"
   },
   {
    "duration": 9,
    "start_time": "2023-09-29T14:54:35.592Z"
   },
   {
    "duration": 10,
    "start_time": "2023-09-29T14:54:58.280Z"
   },
   {
    "duration": 2253,
    "start_time": "2023-09-29T14:56:27.044Z"
   },
   {
    "duration": 10,
    "start_time": "2023-09-29T14:56:29.299Z"
   },
   {
    "duration": 7,
    "start_time": "2023-09-29T14:56:29.310Z"
   },
   {
    "duration": 914,
    "start_time": "2023-09-29T14:56:29.319Z"
   },
   {
    "duration": 27,
    "start_time": "2023-09-29T14:56:30.234Z"
   },
   {
    "duration": 169,
    "start_time": "2023-09-29T14:56:30.262Z"
   },
   {
    "duration": 451,
    "start_time": "2023-09-29T14:56:30.433Z"
   },
   {
    "duration": 503,
    "start_time": "2023-09-29T14:56:30.886Z"
   },
   {
    "duration": 92,
    "start_time": "2023-09-29T14:56:31.391Z"
   },
   {
    "duration": 145,
    "start_time": "2023-09-29T14:56:31.486Z"
   },
   {
    "duration": 49,
    "start_time": "2023-09-29T14:56:31.633Z"
   },
   {
    "duration": 115,
    "start_time": "2023-09-29T14:56:31.683Z"
   },
   {
    "duration": 511,
    "start_time": "2023-09-29T14:56:31.799Z"
   },
   {
    "duration": 455,
    "start_time": "2023-09-29T14:56:32.312Z"
   },
   {
    "duration": 377,
    "start_time": "2023-09-29T14:56:32.769Z"
   },
   {
    "duration": 468,
    "start_time": "2023-09-29T14:56:33.150Z"
   },
   {
    "duration": 1468,
    "start_time": "2023-09-29T14:56:33.620Z"
   },
   {
    "duration": 476,
    "start_time": "2023-09-29T14:56:35.090Z"
   },
   {
    "duration": 22,
    "start_time": "2023-09-29T14:56:35.568Z"
   },
   {
    "duration": 315,
    "start_time": "2023-09-29T14:56:35.592Z"
   },
   {
    "duration": 450,
    "start_time": "2023-09-29T14:56:35.908Z"
   },
   {
    "duration": 19,
    "start_time": "2023-09-29T14:56:36.360Z"
   },
   {
    "duration": 298,
    "start_time": "2023-09-29T14:56:36.381Z"
   },
   {
    "duration": 325,
    "start_time": "2023-09-29T14:56:36.681Z"
   },
   {
    "duration": 19,
    "start_time": "2023-09-29T14:56:37.008Z"
   },
   {
    "duration": 332,
    "start_time": "2023-09-29T14:56:37.029Z"
   },
   {
    "duration": 16,
    "start_time": "2023-09-29T14:56:37.362Z"
   },
   {
    "duration": 27,
    "start_time": "2023-09-29T14:56:37.381Z"
   },
   {
    "duration": 19,
    "start_time": "2023-09-29T14:56:37.410Z"
   },
   {
    "duration": 18,
    "start_time": "2023-09-29T14:56:37.430Z"
   },
   {
    "duration": 61,
    "start_time": "2023-09-29T14:56:37.453Z"
   },
   {
    "duration": 16,
    "start_time": "2023-09-29T14:56:37.515Z"
   },
   {
    "duration": 28,
    "start_time": "2023-09-29T14:56:37.533Z"
   },
   {
    "duration": 21,
    "start_time": "2023-09-29T14:56:37.563Z"
   },
   {
    "duration": 37,
    "start_time": "2023-09-29T14:56:37.585Z"
   },
   {
    "duration": 16,
    "start_time": "2023-09-29T14:56:37.624Z"
   },
   {
    "duration": 22,
    "start_time": "2023-09-29T14:56:37.641Z"
   },
   {
    "duration": 19,
    "start_time": "2023-09-29T14:56:37.665Z"
   },
   {
    "duration": 17,
    "start_time": "2023-09-29T14:56:37.686Z"
   },
   {
    "duration": 69,
    "start_time": "2023-09-29T14:56:37.704Z"
   },
   {
    "duration": 3,
    "start_time": "2023-09-29T14:56:37.774Z"
   },
   {
    "duration": 44,
    "start_time": "2023-09-29T14:56:37.778Z"
   },
   {
    "duration": 8,
    "start_time": "2023-09-29T14:56:37.824Z"
   },
   {
    "duration": 365,
    "start_time": "2023-09-29T14:56:37.833Z"
   },
   {
    "duration": 12848,
    "start_time": "2023-09-29T14:56:38.199Z"
   },
   {
    "duration": 8,
    "start_time": "2023-09-29T14:56:51.050Z"
   },
   {
    "duration": 14,
    "start_time": "2023-09-29T14:56:51.059Z"
   },
   {
    "duration": 12,
    "start_time": "2023-09-29T14:56:51.075Z"
   },
   {
    "duration": 5,
    "start_time": "2023-09-29T14:56:51.089Z"
   },
   {
    "duration": 5,
    "start_time": "2023-09-29T14:56:51.095Z"
   },
   {
    "duration": 13,
    "start_time": "2023-09-29T14:56:51.101Z"
   },
   {
    "duration": 18,
    "start_time": "2023-09-29T14:56:51.116Z"
   },
   {
    "duration": 20,
    "start_time": "2023-09-29T14:56:51.136Z"
   },
   {
    "duration": 14,
    "start_time": "2023-09-29T14:56:51.158Z"
   },
   {
    "duration": 8,
    "start_time": "2023-09-29T14:56:51.174Z"
   },
   {
    "duration": 7,
    "start_time": "2023-09-29T14:56:51.184Z"
   },
   {
    "duration": 80,
    "start_time": "2023-09-29T14:56:51.193Z"
   },
   {
    "duration": 18,
    "start_time": "2023-09-29T14:56:51.275Z"
   },
   {
    "duration": 29,
    "start_time": "2023-09-29T14:56:51.294Z"
   },
   {
    "duration": 65,
    "start_time": "2023-09-29T14:56:51.324Z"
   },
   {
    "duration": 4,
    "start_time": "2023-09-29T14:56:51.390Z"
   },
   {
    "duration": 14,
    "start_time": "2023-09-29T14:56:51.396Z"
   },
   {
    "duration": 37,
    "start_time": "2023-09-29T14:56:51.411Z"
   },
   {
    "duration": 4,
    "start_time": "2023-09-29T14:56:51.457Z"
   },
   {
    "duration": 5,
    "start_time": "2023-09-29T14:56:54.104Z"
   },
   {
    "duration": 11,
    "start_time": "2023-09-29T14:57:01.112Z"
   },
   {
    "duration": 18,
    "start_time": "2023-09-29T14:57:10.674Z"
   },
   {
    "duration": 17,
    "start_time": "2023-09-29T15:01:26.367Z"
   },
   {
    "duration": 11,
    "start_time": "2023-09-29T15:01:57.983Z"
   },
   {
    "duration": 2467,
    "start_time": "2023-09-29T15:02:04.285Z"
   },
   {
    "duration": 5,
    "start_time": "2023-09-29T15:02:06.754Z"
   },
   {
    "duration": 23,
    "start_time": "2023-09-29T15:02:06.761Z"
   },
   {
    "duration": 854,
    "start_time": "2023-09-29T15:02:06.786Z"
   },
   {
    "duration": 14,
    "start_time": "2023-09-29T15:02:07.643Z"
   },
   {
    "duration": 154,
    "start_time": "2023-09-29T15:02:07.659Z"
   },
   {
    "duration": 400,
    "start_time": "2023-09-29T15:02:07.815Z"
   },
   {
    "duration": 411,
    "start_time": "2023-09-29T15:02:08.217Z"
   },
   {
    "duration": 88,
    "start_time": "2023-09-29T15:02:08.630Z"
   },
   {
    "duration": 137,
    "start_time": "2023-09-29T15:02:08.721Z"
   },
   {
    "duration": 29,
    "start_time": "2023-09-29T15:02:08.860Z"
   },
   {
    "duration": 108,
    "start_time": "2023-09-29T15:02:08.890Z"
   },
   {
    "duration": 453,
    "start_time": "2023-09-29T15:02:09.000Z"
   },
   {
    "duration": 404,
    "start_time": "2023-09-29T15:02:09.454Z"
   },
   {
    "duration": 363,
    "start_time": "2023-09-29T15:02:09.859Z"
   },
   {
    "duration": 462,
    "start_time": "2023-09-29T15:02:10.224Z"
   },
   {
    "duration": 1453,
    "start_time": "2023-09-29T15:02:10.688Z"
   },
   {
    "duration": 492,
    "start_time": "2023-09-29T15:02:12.143Z"
   },
   {
    "duration": 25,
    "start_time": "2023-09-29T15:02:12.636Z"
   },
   {
    "duration": 318,
    "start_time": "2023-09-29T15:02:12.662Z"
   },
   {
    "duration": 319,
    "start_time": "2023-09-29T15:02:12.981Z"
   },
   {
    "duration": 18,
    "start_time": "2023-09-29T15:02:13.302Z"
   },
   {
    "duration": 270,
    "start_time": "2023-09-29T15:02:13.322Z"
   },
   {
    "duration": 304,
    "start_time": "2023-09-29T15:02:13.594Z"
   },
   {
    "duration": 18,
    "start_time": "2023-09-29T15:02:13.900Z"
   },
   {
    "duration": 397,
    "start_time": "2023-09-29T15:02:13.919Z"
   },
   {
    "duration": 14,
    "start_time": "2023-09-29T15:02:14.317Z"
   },
   {
    "duration": 15,
    "start_time": "2023-09-29T15:02:14.343Z"
   },
   {
    "duration": 23,
    "start_time": "2023-09-29T15:02:14.360Z"
   },
   {
    "duration": 17,
    "start_time": "2023-09-29T15:02:14.385Z"
   },
   {
    "duration": 60,
    "start_time": "2023-09-29T15:02:14.404Z"
   },
   {
    "duration": 14,
    "start_time": "2023-09-29T15:02:14.466Z"
   },
   {
    "duration": 21,
    "start_time": "2023-09-29T15:02:14.482Z"
   },
   {
    "duration": 15,
    "start_time": "2023-09-29T15:02:14.505Z"
   },
   {
    "duration": 35,
    "start_time": "2023-09-29T15:02:14.521Z"
   },
   {
    "duration": 17,
    "start_time": "2023-09-29T15:02:14.558Z"
   },
   {
    "duration": 20,
    "start_time": "2023-09-29T15:02:14.577Z"
   },
   {
    "duration": 29,
    "start_time": "2023-09-29T15:02:14.599Z"
   },
   {
    "duration": 39,
    "start_time": "2023-09-29T15:02:14.630Z"
   },
   {
    "duration": 72,
    "start_time": "2023-09-29T15:02:14.671Z"
   },
   {
    "duration": 2,
    "start_time": "2023-09-29T15:02:14.745Z"
   },
   {
    "duration": 15,
    "start_time": "2023-09-29T15:02:14.748Z"
   },
   {
    "duration": 22,
    "start_time": "2023-09-29T15:02:14.764Z"
   },
   {
    "duration": 416,
    "start_time": "2023-09-29T15:02:14.788Z"
   },
   {
    "duration": 12529,
    "start_time": "2023-09-29T15:02:15.206Z"
   },
   {
    "duration": 2,
    "start_time": "2023-09-29T15:02:27.737Z"
   },
   {
    "duration": 12,
    "start_time": "2023-09-29T15:02:27.743Z"
   },
   {
    "duration": 25,
    "start_time": "2023-09-29T15:02:27.757Z"
   },
   {
    "duration": 7,
    "start_time": "2023-09-29T15:02:27.784Z"
   },
   {
    "duration": 6,
    "start_time": "2023-09-29T15:02:27.792Z"
   },
   {
    "duration": 10,
    "start_time": "2023-09-29T15:02:27.799Z"
   },
   {
    "duration": 6,
    "start_time": "2023-09-29T15:02:27.810Z"
   },
   {
    "duration": 6,
    "start_time": "2023-09-29T15:02:27.817Z"
   },
   {
    "duration": 6,
    "start_time": "2023-09-29T15:02:27.825Z"
   },
   {
    "duration": 7,
    "start_time": "2023-09-29T15:02:27.833Z"
   },
   {
    "duration": 8,
    "start_time": "2023-09-29T15:02:27.841Z"
   },
   {
    "duration": 68,
    "start_time": "2023-09-29T15:02:27.850Z"
   },
   {
    "duration": 14,
    "start_time": "2023-09-29T15:02:27.919Z"
   },
   {
    "duration": 7,
    "start_time": "2023-09-29T15:02:27.934Z"
   },
   {
    "duration": 45,
    "start_time": "2023-09-29T15:02:27.943Z"
   },
   {
    "duration": 4,
    "start_time": "2023-09-29T15:02:27.990Z"
   },
   {
    "duration": 19,
    "start_time": "2023-09-29T15:02:27.996Z"
   },
   {
    "duration": 13,
    "start_time": "2023-09-29T15:02:28.016Z"
   },
   {
    "duration": 4,
    "start_time": "2023-09-29T15:02:28.045Z"
   },
   {
    "duration": 11,
    "start_time": "2023-09-29T15:38:05.440Z"
   },
   {
    "duration": 10,
    "start_time": "2023-09-29T15:38:50.468Z"
   },
   {
    "duration": 4,
    "start_time": "2023-09-29T15:43:08.360Z"
   },
   {
    "duration": 10,
    "start_time": "2023-09-29T15:49:03.614Z"
   },
   {
    "duration": 2196,
    "start_time": "2023-09-29T15:52:37.182Z"
   },
   {
    "duration": 5,
    "start_time": "2023-09-29T15:52:39.380Z"
   },
   {
    "duration": 31,
    "start_time": "2023-09-29T15:52:39.387Z"
   },
   {
    "duration": 820,
    "start_time": "2023-09-29T15:52:39.420Z"
   },
   {
    "duration": 14,
    "start_time": "2023-09-29T15:52:40.242Z"
   },
   {
    "duration": 147,
    "start_time": "2023-09-29T15:52:40.258Z"
   },
   {
    "duration": 408,
    "start_time": "2023-09-29T15:52:40.407Z"
   },
   {
    "duration": 422,
    "start_time": "2023-09-29T15:52:40.817Z"
   },
   {
    "duration": 88,
    "start_time": "2023-09-29T15:52:41.241Z"
   },
   {
    "duration": 128,
    "start_time": "2023-09-29T15:52:41.344Z"
   },
   {
    "duration": 57,
    "start_time": "2023-09-29T15:52:41.474Z"
   },
   {
    "duration": 87,
    "start_time": "2023-09-29T15:52:41.532Z"
   },
   {
    "duration": 490,
    "start_time": "2023-09-29T15:52:41.621Z"
   },
   {
    "duration": 488,
    "start_time": "2023-09-29T15:52:42.113Z"
   },
   {
    "duration": 345,
    "start_time": "2023-09-29T15:52:42.602Z"
   },
   {
    "duration": 441,
    "start_time": "2023-09-29T15:52:42.949Z"
   },
   {
    "duration": 1396,
    "start_time": "2023-09-29T15:52:43.391Z"
   },
   {
    "duration": 456,
    "start_time": "2023-09-29T15:52:44.788Z"
   },
   {
    "duration": 22,
    "start_time": "2023-09-29T15:52:45.254Z"
   },
   {
    "duration": 302,
    "start_time": "2023-09-29T15:52:45.278Z"
   },
   {
    "duration": 328,
    "start_time": "2023-09-29T15:52:45.582Z"
   },
   {
    "duration": 19,
    "start_time": "2023-09-29T15:52:45.912Z"
   },
   {
    "duration": 276,
    "start_time": "2023-09-29T15:52:45.944Z"
   },
   {
    "duration": 334,
    "start_time": "2023-09-29T15:52:46.222Z"
   },
   {
    "duration": 18,
    "start_time": "2023-09-29T15:52:46.558Z"
   },
   {
    "duration": 319,
    "start_time": "2023-09-29T15:52:46.578Z"
   },
   {
    "duration": 13,
    "start_time": "2023-09-29T15:52:46.899Z"
   },
   {
    "duration": 28,
    "start_time": "2023-09-29T15:52:46.916Z"
   },
   {
    "duration": 13,
    "start_time": "2023-09-29T15:52:46.945Z"
   },
   {
    "duration": 12,
    "start_time": "2023-09-29T15:52:46.959Z"
   },
   {
    "duration": 74,
    "start_time": "2023-09-29T15:52:46.973Z"
   },
   {
    "duration": 15,
    "start_time": "2023-09-29T15:52:47.049Z"
   },
   {
    "duration": 22,
    "start_time": "2023-09-29T15:52:47.066Z"
   },
   {
    "duration": 24,
    "start_time": "2023-09-29T15:52:47.090Z"
   },
   {
    "duration": 19,
    "start_time": "2023-09-29T15:52:47.115Z"
   },
   {
    "duration": 22,
    "start_time": "2023-09-29T15:52:47.135Z"
   },
   {
    "duration": 15,
    "start_time": "2023-09-29T15:52:47.158Z"
   },
   {
    "duration": 21,
    "start_time": "2023-09-29T15:52:47.175Z"
   },
   {
    "duration": 23,
    "start_time": "2023-09-29T15:52:47.197Z"
   },
   {
    "duration": 63,
    "start_time": "2023-09-29T15:52:47.222Z"
   },
   {
    "duration": 10,
    "start_time": "2023-09-29T15:52:47.286Z"
   },
   {
    "duration": 17,
    "start_time": "2023-09-29T15:52:47.297Z"
   },
   {
    "duration": 10,
    "start_time": "2023-09-29T15:52:47.315Z"
   },
   {
    "duration": 12,
    "start_time": "2023-09-29T15:52:47.326Z"
   },
   {
    "duration": 356,
    "start_time": "2023-09-29T15:52:47.340Z"
   },
   {
    "duration": 12380,
    "start_time": "2023-09-29T15:52:47.697Z"
   },
   {
    "duration": 2,
    "start_time": "2023-09-29T15:53:00.079Z"
   },
   {
    "duration": 33,
    "start_time": "2023-09-29T15:53:00.082Z"
   },
   {
    "duration": 21,
    "start_time": "2023-09-29T15:53:00.116Z"
   },
   {
    "duration": 60,
    "start_time": "2023-09-29T15:53:00.138Z"
   },
   {
    "duration": 42,
    "start_time": "2023-09-29T15:53:00.200Z"
   },
   {
    "duration": 31,
    "start_time": "2023-09-29T15:53:00.244Z"
   },
   {
    "duration": 39,
    "start_time": "2023-09-29T15:53:00.277Z"
   },
   {
    "duration": 24,
    "start_time": "2023-09-29T15:53:00.318Z"
   },
   {
    "duration": 31,
    "start_time": "2023-09-29T15:53:00.344Z"
   },
   {
    "duration": 31,
    "start_time": "2023-09-29T15:53:00.376Z"
   },
   {
    "duration": 37,
    "start_time": "2023-09-29T15:53:00.409Z"
   },
   {
    "duration": 106,
    "start_time": "2023-09-29T15:53:00.447Z"
   },
   {
    "duration": 31,
    "start_time": "2023-09-29T15:53:00.555Z"
   },
   {
    "duration": 60,
    "start_time": "2023-09-29T15:53:00.587Z"
   },
   {
    "duration": 108,
    "start_time": "2023-09-29T15:53:00.649Z"
   },
   {
    "duration": 10,
    "start_time": "2023-09-29T15:53:00.759Z"
   },
   {
    "duration": 58,
    "start_time": "2023-09-29T15:53:00.770Z"
   },
   {
    "duration": 61,
    "start_time": "2023-09-29T15:53:00.830Z"
   },
   {
    "duration": 27,
    "start_time": "2023-09-29T15:53:00.893Z"
   },
   {
    "duration": 4,
    "start_time": "2023-09-29T15:53:46.053Z"
   },
   {
    "duration": 11,
    "start_time": "2023-09-29T15:53:49.016Z"
   },
   {
    "duration": 3,
    "start_time": "2023-09-29T15:57:38.197Z"
   },
   {
    "duration": 4,
    "start_time": "2023-09-29T15:57:46.679Z"
   },
   {
    "duration": 10,
    "start_time": "2023-09-29T15:58:22.718Z"
   },
   {
    "duration": 4,
    "start_time": "2023-09-29T15:58:50.089Z"
   },
   {
    "duration": 4,
    "start_time": "2023-09-29T15:59:12.797Z"
   },
   {
    "duration": 3,
    "start_time": "2023-09-29T16:01:06.802Z"
   },
   {
    "duration": 3,
    "start_time": "2023-09-29T16:01:29.873Z"
   },
   {
    "duration": 10,
    "start_time": "2023-09-29T16:01:31.146Z"
   },
   {
    "duration": 2161,
    "start_time": "2023-09-29T16:01:40.789Z"
   },
   {
    "duration": 5,
    "start_time": "2023-09-29T16:01:42.952Z"
   },
   {
    "duration": 38,
    "start_time": "2023-09-29T16:01:42.959Z"
   },
   {
    "duration": 785,
    "start_time": "2023-09-29T16:01:42.999Z"
   },
   {
    "duration": 13,
    "start_time": "2023-09-29T16:01:43.786Z"
   },
   {
    "duration": 146,
    "start_time": "2023-09-29T16:01:43.800Z"
   },
   {
    "duration": 441,
    "start_time": "2023-09-29T16:01:43.947Z"
   },
   {
    "duration": 391,
    "start_time": "2023-09-29T16:01:44.390Z"
   },
   {
    "duration": 89,
    "start_time": "2023-09-29T16:01:44.783Z"
   },
   {
    "duration": 129,
    "start_time": "2023-09-29T16:01:44.874Z"
   },
   {
    "duration": 101,
    "start_time": "2023-09-29T16:01:45.005Z"
   },
   {
    "duration": 100,
    "start_time": "2023-09-29T16:01:45.108Z"
   },
   {
    "duration": 445,
    "start_time": "2023-09-29T16:01:45.210Z"
   },
   {
    "duration": 415,
    "start_time": "2023-09-29T16:01:45.657Z"
   },
   {
    "duration": 366,
    "start_time": "2023-09-29T16:01:46.074Z"
   },
   {
    "duration": 447,
    "start_time": "2023-09-29T16:01:46.443Z"
   },
   {
    "duration": 1401,
    "start_time": "2023-09-29T16:01:46.891Z"
   },
   {
    "duration": 458,
    "start_time": "2023-09-29T16:01:48.294Z"
   },
   {
    "duration": 21,
    "start_time": "2023-09-29T16:01:48.754Z"
   },
   {
    "duration": 299,
    "start_time": "2023-09-29T16:01:48.776Z"
   },
   {
    "duration": 349,
    "start_time": "2023-09-29T16:01:49.077Z"
   },
   {
    "duration": 26,
    "start_time": "2023-09-29T16:01:49.428Z"
   },
   {
    "duration": 288,
    "start_time": "2023-09-29T16:01:49.456Z"
   },
   {
    "duration": 332,
    "start_time": "2023-09-29T16:01:49.746Z"
   },
   {
    "duration": 19,
    "start_time": "2023-09-29T16:01:50.080Z"
   },
   {
    "duration": 355,
    "start_time": "2023-09-29T16:01:50.101Z"
   },
   {
    "duration": 15,
    "start_time": "2023-09-29T16:01:50.457Z"
   },
   {
    "duration": 45,
    "start_time": "2023-09-29T16:01:50.476Z"
   },
   {
    "duration": 39,
    "start_time": "2023-09-29T16:01:50.522Z"
   },
   {
    "duration": 46,
    "start_time": "2023-09-29T16:01:50.562Z"
   },
   {
    "duration": 87,
    "start_time": "2023-09-29T16:01:50.610Z"
   },
   {
    "duration": 24,
    "start_time": "2023-09-29T16:01:50.699Z"
   },
   {
    "duration": 20,
    "start_time": "2023-09-29T16:01:50.724Z"
   },
   {
    "duration": 27,
    "start_time": "2023-09-29T16:01:50.746Z"
   },
   {
    "duration": 42,
    "start_time": "2023-09-29T16:01:50.775Z"
   },
   {
    "duration": 21,
    "start_time": "2023-09-29T16:01:50.818Z"
   },
   {
    "duration": 33,
    "start_time": "2023-09-29T16:01:50.841Z"
   },
   {
    "duration": 30,
    "start_time": "2023-09-29T16:01:50.876Z"
   },
   {
    "duration": 24,
    "start_time": "2023-09-29T16:01:50.908Z"
   },
   {
    "duration": 98,
    "start_time": "2023-09-29T16:01:50.934Z"
   },
   {
    "duration": 27,
    "start_time": "2023-09-29T16:01:51.034Z"
   },
   {
    "duration": 19,
    "start_time": "2023-09-29T16:01:51.063Z"
   },
   {
    "duration": 10,
    "start_time": "2023-09-29T16:01:51.084Z"
   },
   {
    "duration": 13,
    "start_time": "2023-09-29T16:01:51.096Z"
   },
   {
    "duration": 413,
    "start_time": "2023-09-29T16:01:51.111Z"
   },
   {
    "duration": 13048,
    "start_time": "2023-09-29T16:01:51.526Z"
   },
   {
    "duration": 3,
    "start_time": "2023-09-29T16:02:04.575Z"
   },
   {
    "duration": 23,
    "start_time": "2023-09-29T16:02:04.579Z"
   },
   {
    "duration": 9,
    "start_time": "2023-09-29T16:02:04.603Z"
   },
   {
    "duration": 15,
    "start_time": "2023-09-29T16:02:04.614Z"
   },
   {
    "duration": 8,
    "start_time": "2023-09-29T16:02:04.630Z"
   },
   {
    "duration": 26,
    "start_time": "2023-09-29T16:02:04.640Z"
   },
   {
    "duration": 55,
    "start_time": "2023-09-29T16:02:04.668Z"
   },
   {
    "duration": 20,
    "start_time": "2023-09-29T16:02:04.726Z"
   },
   {
    "duration": 9,
    "start_time": "2023-09-29T16:02:04.748Z"
   },
   {
    "duration": 16,
    "start_time": "2023-09-29T16:02:04.758Z"
   },
   {
    "duration": 14,
    "start_time": "2023-09-29T16:02:04.776Z"
   },
   {
    "duration": 73,
    "start_time": "2023-09-29T16:02:04.791Z"
   },
   {
    "duration": 24,
    "start_time": "2023-09-29T16:02:04.866Z"
   },
   {
    "duration": 33,
    "start_time": "2023-09-29T16:02:04.892Z"
   },
   {
    "duration": 69,
    "start_time": "2023-09-29T16:02:04.927Z"
   },
   {
    "duration": 4,
    "start_time": "2023-09-29T16:02:04.998Z"
   },
   {
    "duration": 41,
    "start_time": "2023-09-29T16:02:05.004Z"
   },
   {
    "duration": 27,
    "start_time": "2023-09-29T16:02:05.047Z"
   },
   {
    "duration": 3,
    "start_time": "2023-09-29T16:02:05.076Z"
   },
   {
    "duration": 5,
    "start_time": "2023-09-29T16:02:05.081Z"
   },
   {
    "duration": 6,
    "start_time": "2023-09-29T16:02:05.088Z"
   },
   {
    "duration": 11,
    "start_time": "2023-09-29T16:02:11.570Z"
   },
   {
    "duration": 4,
    "start_time": "2023-09-29T16:02:54.886Z"
   },
   {
    "duration": 10,
    "start_time": "2023-09-29T16:03:25.237Z"
   },
   {
    "duration": 26,
    "start_time": "2023-09-29T16:03:40.803Z"
   },
   {
    "duration": 3,
    "start_time": "2023-09-29T16:04:30.062Z"
   },
   {
    "duration": 293,
    "start_time": "2023-09-29T16:04:31.297Z"
   },
   {
    "duration": 376,
    "start_time": "2023-09-29T16:05:01.330Z"
   },
   {
    "duration": 99,
    "start_time": "2023-09-29T16:05:20.929Z"
   },
   {
    "duration": 31,
    "start_time": "2023-09-29T16:07:45.634Z"
   },
   {
    "duration": 58,
    "start_time": "2023-09-29T16:07:46.350Z"
   },
   {
    "duration": 14,
    "start_time": "2023-09-29T16:08:24.883Z"
   },
   {
    "duration": 60,
    "start_time": "2023-09-29T16:08:25.207Z"
   },
   {
    "duration": 55,
    "start_time": "2023-09-29T16:09:15.432Z"
   },
   {
    "duration": 67,
    "start_time": "2023-09-29T16:09:28.726Z"
   },
   {
    "duration": 4,
    "start_time": "2023-09-29T16:09:56.470Z"
   },
   {
    "duration": 57,
    "start_time": "2023-09-29T16:10:29.079Z"
   },
   {
    "duration": 12,
    "start_time": "2023-09-29T16:10:37.739Z"
   },
   {
    "duration": 42,
    "start_time": "2023-09-29T16:10:42.557Z"
   },
   {
    "duration": 5,
    "start_time": "2023-09-29T16:10:43.895Z"
   },
   {
    "duration": 41,
    "start_time": "2023-09-29T16:10:52.390Z"
   },
   {
    "duration": 4,
    "start_time": "2023-09-29T16:10:55.385Z"
   },
   {
    "duration": 9,
    "start_time": "2023-09-29T16:11:04.426Z"
   },
   {
    "duration": 14,
    "start_time": "2023-09-29T16:11:05.127Z"
   },
   {
    "duration": 3,
    "start_time": "2023-09-29T16:11:05.753Z"
   },
   {
    "duration": 10,
    "start_time": "2023-09-29T16:11:06.406Z"
   },
   {
    "duration": 10,
    "start_time": "2023-09-29T16:11:43.148Z"
   },
   {
    "duration": 12,
    "start_time": "2023-09-29T16:11:44.117Z"
   },
   {
    "duration": 10,
    "start_time": "2023-09-29T16:11:56.699Z"
   },
   {
    "duration": 2233,
    "start_time": "2023-09-29T16:12:22.899Z"
   },
   {
    "duration": 6,
    "start_time": "2023-09-29T16:12:25.134Z"
   },
   {
    "duration": 6,
    "start_time": "2023-09-29T16:12:25.141Z"
   },
   {
    "duration": 827,
    "start_time": "2023-09-29T16:12:25.149Z"
   },
   {
    "duration": 12,
    "start_time": "2023-09-29T16:12:25.978Z"
   },
   {
    "duration": 139,
    "start_time": "2023-09-29T16:12:25.992Z"
   },
   {
    "duration": 388,
    "start_time": "2023-09-29T16:12:26.133Z"
   },
   {
    "duration": 388,
    "start_time": "2023-09-29T16:12:26.522Z"
   },
   {
    "duration": 88,
    "start_time": "2023-09-29T16:12:26.912Z"
   },
   {
    "duration": 131,
    "start_time": "2023-09-29T16:12:27.003Z"
   },
   {
    "duration": 23,
    "start_time": "2023-09-29T16:12:27.145Z"
   },
   {
    "duration": 95,
    "start_time": "2023-09-29T16:12:27.170Z"
   },
   {
    "duration": 419,
    "start_time": "2023-09-29T16:12:27.267Z"
   },
   {
    "duration": 399,
    "start_time": "2023-09-29T16:12:27.688Z"
   },
   {
    "duration": 348,
    "start_time": "2023-09-29T16:12:28.089Z"
   },
   {
    "duration": 424,
    "start_time": "2023-09-29T16:12:28.438Z"
   },
   {
    "duration": 1315,
    "start_time": "2023-09-29T16:12:28.864Z"
   },
   {
    "duration": 444,
    "start_time": "2023-09-29T16:12:30.181Z"
   },
   {
    "duration": 27,
    "start_time": "2023-09-29T16:12:30.627Z"
   },
   {
    "duration": 288,
    "start_time": "2023-09-29T16:12:30.656Z"
   },
   {
    "duration": 426,
    "start_time": "2023-09-29T16:12:30.945Z"
   },
   {
    "duration": 21,
    "start_time": "2023-09-29T16:12:31.372Z"
   },
   {
    "duration": 266,
    "start_time": "2023-09-29T16:12:31.395Z"
   },
   {
    "duration": 297,
    "start_time": "2023-09-29T16:12:31.663Z"
   },
   {
    "duration": 17,
    "start_time": "2023-09-29T16:12:31.961Z"
   },
   {
    "duration": 295,
    "start_time": "2023-09-29T16:12:31.980Z"
   },
   {
    "duration": 14,
    "start_time": "2023-09-29T16:12:32.277Z"
   },
   {
    "duration": 19,
    "start_time": "2023-09-29T16:12:32.295Z"
   },
   {
    "duration": 61,
    "start_time": "2023-09-29T16:12:32.316Z"
   },
   {
    "duration": 34,
    "start_time": "2023-09-29T16:12:32.379Z"
   },
   {
    "duration": 65,
    "start_time": "2023-09-29T16:12:32.415Z"
   },
   {
    "duration": 21,
    "start_time": "2023-09-29T16:12:32.482Z"
   },
   {
    "duration": 32,
    "start_time": "2023-09-29T16:12:32.505Z"
   },
   {
    "duration": 26,
    "start_time": "2023-09-29T16:12:32.539Z"
   },
   {
    "duration": 17,
    "start_time": "2023-09-29T16:12:32.567Z"
   },
   {
    "duration": 20,
    "start_time": "2023-09-29T16:12:32.585Z"
   },
   {
    "duration": 23,
    "start_time": "2023-09-29T16:12:32.607Z"
   },
   {
    "duration": 16,
    "start_time": "2023-09-29T16:12:32.632Z"
   },
   {
    "duration": 23,
    "start_time": "2023-09-29T16:12:32.649Z"
   },
   {
    "duration": 68,
    "start_time": "2023-09-29T16:12:32.674Z"
   },
   {
    "duration": 33,
    "start_time": "2023-09-29T16:12:32.744Z"
   },
   {
    "duration": 58,
    "start_time": "2023-09-29T16:12:32.779Z"
   },
   {
    "duration": 67,
    "start_time": "2023-09-29T16:12:32.839Z"
   },
   {
    "duration": 3,
    "start_time": "2023-09-29T16:12:32.908Z"
   },
   {
    "duration": 6,
    "start_time": "2023-09-29T16:12:32.913Z"
   },
   {
    "duration": 371,
    "start_time": "2023-09-29T16:12:32.920Z"
   },
   {
    "duration": 12422,
    "start_time": "2023-09-29T16:12:33.292Z"
   },
   {
    "duration": 2,
    "start_time": "2023-09-29T16:12:45.715Z"
   },
   {
    "duration": 21,
    "start_time": "2023-09-29T16:12:45.718Z"
   },
   {
    "duration": 26,
    "start_time": "2023-09-29T16:12:45.740Z"
   },
   {
    "duration": 31,
    "start_time": "2023-09-29T16:12:45.767Z"
   },
   {
    "duration": 24,
    "start_time": "2023-09-29T16:12:45.799Z"
   },
   {
    "duration": 27,
    "start_time": "2023-09-29T16:12:45.825Z"
   },
   {
    "duration": 17,
    "start_time": "2023-09-29T16:12:45.853Z"
   },
   {
    "duration": 17,
    "start_time": "2023-09-29T16:12:45.872Z"
   },
   {
    "duration": 9,
    "start_time": "2023-09-29T16:12:45.890Z"
   },
   {
    "duration": 39,
    "start_time": "2023-09-29T16:12:45.901Z"
   },
   {
    "duration": 15,
    "start_time": "2023-09-29T16:12:45.942Z"
   },
   {
    "duration": 76,
    "start_time": "2023-09-29T16:12:45.958Z"
   },
   {
    "duration": 32,
    "start_time": "2023-09-29T16:12:46.035Z"
   },
   {
    "duration": 9,
    "start_time": "2023-09-29T16:12:46.069Z"
   },
   {
    "duration": 46,
    "start_time": "2023-09-29T16:12:46.080Z"
   },
   {
    "duration": 4,
    "start_time": "2023-09-29T16:12:46.128Z"
   },
   {
    "duration": 12,
    "start_time": "2023-09-29T16:12:46.134Z"
   },
   {
    "duration": 19,
    "start_time": "2023-09-29T16:12:46.147Z"
   },
   {
    "duration": 15,
    "start_time": "2023-09-29T16:12:46.168Z"
   },
   {
    "duration": 66,
    "start_time": "2023-09-29T16:15:18.716Z"
   },
   {
    "duration": 13,
    "start_time": "2023-09-29T16:16:01.497Z"
   },
   {
    "duration": 2,
    "start_time": "2023-09-29T16:16:03.338Z"
   },
   {
    "duration": 43,
    "start_time": "2023-09-29T16:16:03.875Z"
   },
   {
    "duration": 4,
    "start_time": "2023-09-29T16:16:05.126Z"
   },
   {
    "duration": 9,
    "start_time": "2023-09-29T16:16:06.655Z"
   },
   {
    "duration": 11,
    "start_time": "2023-09-29T16:16:08.691Z"
   },
   {
    "duration": 9,
    "start_time": "2023-09-29T16:16:09.578Z"
   },
   {
    "duration": 2167,
    "start_time": "2023-09-29T16:16:25.231Z"
   },
   {
    "duration": 5,
    "start_time": "2023-09-29T16:16:27.400Z"
   },
   {
    "duration": 7,
    "start_time": "2023-09-29T16:16:27.407Z"
   },
   {
    "duration": 772,
    "start_time": "2023-09-29T16:16:27.415Z"
   },
   {
    "duration": 13,
    "start_time": "2023-09-29T16:16:28.189Z"
   },
   {
    "duration": 146,
    "start_time": "2023-09-29T16:16:28.204Z"
   },
   {
    "duration": 377,
    "start_time": "2023-09-29T16:16:28.351Z"
   },
   {
    "duration": 410,
    "start_time": "2023-09-29T16:16:28.730Z"
   },
   {
    "duration": 83,
    "start_time": "2023-09-29T16:16:29.142Z"
   },
   {
    "duration": 151,
    "start_time": "2023-09-29T16:16:29.226Z"
   },
   {
    "duration": 26,
    "start_time": "2023-09-29T16:16:29.379Z"
   },
   {
    "duration": 99,
    "start_time": "2023-09-29T16:16:29.406Z"
   },
   {
    "duration": 435,
    "start_time": "2023-09-29T16:16:29.507Z"
   },
   {
    "duration": 432,
    "start_time": "2023-09-29T16:16:29.945Z"
   },
   {
    "duration": 360,
    "start_time": "2023-09-29T16:16:30.378Z"
   },
   {
    "duration": 435,
    "start_time": "2023-09-29T16:16:30.739Z"
   },
   {
    "duration": 1300,
    "start_time": "2023-09-29T16:16:31.175Z"
   },
   {
    "duration": 571,
    "start_time": "2023-09-29T16:16:32.476Z"
   },
   {
    "duration": 21,
    "start_time": "2023-09-29T16:16:33.049Z"
   },
   {
    "duration": 336,
    "start_time": "2023-09-29T16:16:33.072Z"
   },
   {
    "duration": 336,
    "start_time": "2023-09-29T16:16:33.410Z"
   },
   {
    "duration": 20,
    "start_time": "2023-09-29T16:16:33.748Z"
   },
   {
    "duration": 286,
    "start_time": "2023-09-29T16:16:33.770Z"
   },
   {
    "duration": 402,
    "start_time": "2023-09-29T16:16:34.058Z"
   },
   {
    "duration": 18,
    "start_time": "2023-09-29T16:16:34.461Z"
   },
   {
    "duration": 310,
    "start_time": "2023-09-29T16:16:34.481Z"
   },
   {
    "duration": 15,
    "start_time": "2023-09-29T16:16:34.793Z"
   },
   {
    "duration": 18,
    "start_time": "2023-09-29T16:16:34.810Z"
   },
   {
    "duration": 14,
    "start_time": "2023-09-29T16:16:34.844Z"
   },
   {
    "duration": 9,
    "start_time": "2023-09-29T16:16:34.860Z"
   },
   {
    "duration": 82,
    "start_time": "2023-09-29T16:16:34.870Z"
   },
   {
    "duration": 15,
    "start_time": "2023-09-29T16:16:34.953Z"
   },
   {
    "duration": 39,
    "start_time": "2023-09-29T16:16:34.969Z"
   },
   {
    "duration": 28,
    "start_time": "2023-09-29T16:16:35.013Z"
   },
   {
    "duration": 18,
    "start_time": "2023-09-29T16:16:35.043Z"
   },
   {
    "duration": 17,
    "start_time": "2023-09-29T16:16:35.063Z"
   },
   {
    "duration": 31,
    "start_time": "2023-09-29T16:16:35.081Z"
   },
   {
    "duration": 15,
    "start_time": "2023-09-29T16:16:35.113Z"
   },
   {
    "duration": 18,
    "start_time": "2023-09-29T16:16:35.129Z"
   },
   {
    "duration": 64,
    "start_time": "2023-09-29T16:16:35.149Z"
   },
   {
    "duration": 9,
    "start_time": "2023-09-29T16:16:35.218Z"
   },
   {
    "duration": 5,
    "start_time": "2023-09-29T16:16:35.229Z"
   },
   {
    "duration": 13,
    "start_time": "2023-09-29T16:16:35.236Z"
   },
   {
    "duration": 6,
    "start_time": "2023-09-29T16:16:35.250Z"
   },
   {
    "duration": 5,
    "start_time": "2023-09-29T16:16:35.257Z"
   },
   {
    "duration": 333,
    "start_time": "2023-09-29T16:16:35.263Z"
   },
   {
    "duration": 12451,
    "start_time": "2023-09-29T16:16:35.597Z"
   },
   {
    "duration": 2,
    "start_time": "2023-09-29T16:16:48.050Z"
   },
   {
    "duration": 5,
    "start_time": "2023-09-29T16:16:48.054Z"
   },
   {
    "duration": 10,
    "start_time": "2023-09-29T16:16:48.061Z"
   },
   {
    "duration": 4,
    "start_time": "2023-09-29T16:16:48.072Z"
   },
   {
    "duration": 10,
    "start_time": "2023-09-29T16:16:48.078Z"
   },
   {
    "duration": 25,
    "start_time": "2023-09-29T16:16:48.089Z"
   },
   {
    "duration": 6,
    "start_time": "2023-09-29T16:16:48.115Z"
   },
   {
    "duration": 13,
    "start_time": "2023-09-29T16:16:48.122Z"
   },
   {
    "duration": 4,
    "start_time": "2023-09-29T16:16:48.137Z"
   },
   {
    "duration": 4,
    "start_time": "2023-09-29T16:16:48.143Z"
   },
   {
    "duration": 5,
    "start_time": "2023-09-29T16:16:48.149Z"
   },
   {
    "duration": 70,
    "start_time": "2023-09-29T16:16:48.156Z"
   },
   {
    "duration": 21,
    "start_time": "2023-09-29T16:16:48.227Z"
   },
   {
    "duration": 3,
    "start_time": "2023-09-29T16:16:48.249Z"
   },
   {
    "duration": 62,
    "start_time": "2023-09-29T16:16:48.255Z"
   },
   {
    "duration": 4,
    "start_time": "2023-09-29T16:16:48.318Z"
   },
   {
    "duration": 27,
    "start_time": "2023-09-29T16:16:48.323Z"
   },
   {
    "duration": 24,
    "start_time": "2023-09-29T16:16:48.351Z"
   },
   {
    "duration": 11,
    "start_time": "2023-09-29T16:16:48.376Z"
   },
   {
    "duration": 304,
    "start_time": "2023-09-29T16:29:59.262Z"
   },
   {
    "duration": 2355,
    "start_time": "2023-09-29T16:30:09.038Z"
   },
   {
    "duration": 5,
    "start_time": "2023-09-29T16:30:11.395Z"
   },
   {
    "duration": 12,
    "start_time": "2023-09-29T16:30:11.401Z"
   },
   {
    "duration": 847,
    "start_time": "2023-09-29T16:30:11.415Z"
   },
   {
    "duration": 14,
    "start_time": "2023-09-29T16:30:12.264Z"
   },
   {
    "duration": 168,
    "start_time": "2023-09-29T16:30:12.279Z"
   },
   {
    "duration": 391,
    "start_time": "2023-09-29T16:30:12.449Z"
   },
   {
    "duration": 459,
    "start_time": "2023-09-29T16:30:12.845Z"
   },
   {
    "duration": 101,
    "start_time": "2023-09-29T16:30:13.306Z"
   },
   {
    "duration": 139,
    "start_time": "2023-09-29T16:30:13.410Z"
   },
   {
    "duration": 27,
    "start_time": "2023-09-29T16:30:13.550Z"
   },
   {
    "duration": 120,
    "start_time": "2023-09-29T16:30:13.580Z"
   },
   {
    "duration": 534,
    "start_time": "2023-09-29T16:30:13.702Z"
   },
   {
    "duration": 433,
    "start_time": "2023-09-29T16:30:14.238Z"
   },
   {
    "duration": 509,
    "start_time": "2023-09-29T16:30:14.672Z"
   },
   {
    "duration": 461,
    "start_time": "2023-09-29T16:30:15.183Z"
   },
   {
    "duration": 1411,
    "start_time": "2023-09-29T16:30:15.647Z"
   },
   {
    "duration": 443,
    "start_time": "2023-09-29T16:30:17.060Z"
   },
   {
    "duration": 21,
    "start_time": "2023-09-29T16:30:17.505Z"
   },
   {
    "duration": 303,
    "start_time": "2023-09-29T16:30:17.527Z"
   },
   {
    "duration": 358,
    "start_time": "2023-09-29T16:30:17.832Z"
   },
   {
    "duration": 19,
    "start_time": "2023-09-29T16:30:18.191Z"
   },
   {
    "duration": 320,
    "start_time": "2023-09-29T16:30:18.211Z"
   },
   {
    "duration": 341,
    "start_time": "2023-09-29T16:30:18.533Z"
   },
   {
    "duration": 21,
    "start_time": "2023-09-29T16:30:18.877Z"
   },
   {
    "duration": 326,
    "start_time": "2023-09-29T16:30:18.900Z"
   },
   {
    "duration": 23,
    "start_time": "2023-09-29T16:30:19.228Z"
   },
   {
    "duration": 17,
    "start_time": "2023-09-29T16:30:19.256Z"
   },
   {
    "duration": 23,
    "start_time": "2023-09-29T16:30:19.275Z"
   },
   {
    "duration": 11,
    "start_time": "2023-09-29T16:30:19.300Z"
   },
   {
    "duration": 71,
    "start_time": "2023-09-29T16:30:19.313Z"
   },
   {
    "duration": 15,
    "start_time": "2023-09-29T16:30:19.386Z"
   },
   {
    "duration": 18,
    "start_time": "2023-09-29T16:30:19.402Z"
   },
   {
    "duration": 28,
    "start_time": "2023-09-29T16:30:19.422Z"
   },
   {
    "duration": 19,
    "start_time": "2023-09-29T16:30:19.452Z"
   },
   {
    "duration": 17,
    "start_time": "2023-09-29T16:30:19.473Z"
   },
   {
    "duration": 20,
    "start_time": "2023-09-29T16:30:19.491Z"
   },
   {
    "duration": 15,
    "start_time": "2023-09-29T16:30:19.513Z"
   },
   {
    "duration": 14,
    "start_time": "2023-09-29T16:30:19.545Z"
   },
   {
    "duration": 61,
    "start_time": "2023-09-29T16:30:19.560Z"
   },
   {
    "duration": 12,
    "start_time": "2023-09-29T16:30:19.623Z"
   },
   {
    "duration": 6,
    "start_time": "2023-09-29T16:30:19.645Z"
   },
   {
    "duration": 9,
    "start_time": "2023-09-29T16:30:19.653Z"
   },
   {
    "duration": 7,
    "start_time": "2023-09-29T16:30:19.664Z"
   },
   {
    "duration": 10,
    "start_time": "2023-09-29T16:30:19.673Z"
   },
   {
    "duration": 404,
    "start_time": "2023-09-29T16:30:19.685Z"
   },
   {
    "duration": 12830,
    "start_time": "2023-09-29T16:30:20.091Z"
   },
   {
    "duration": 2,
    "start_time": "2023-09-29T16:30:32.922Z"
   },
   {
    "duration": 7,
    "start_time": "2023-09-29T16:30:32.926Z"
   },
   {
    "duration": 4,
    "start_time": "2023-09-29T16:30:32.935Z"
   },
   {
    "duration": 2,
    "start_time": "2023-09-29T16:30:32.944Z"
   },
   {
    "duration": 6,
    "start_time": "2023-09-29T16:30:32.947Z"
   },
   {
    "duration": 4,
    "start_time": "2023-09-29T16:30:32.955Z"
   },
   {
    "duration": 7,
    "start_time": "2023-09-29T16:30:32.961Z"
   },
   {
    "duration": 5,
    "start_time": "2023-09-29T16:30:32.969Z"
   },
   {
    "duration": 8,
    "start_time": "2023-09-29T16:30:32.975Z"
   },
   {
    "duration": 4,
    "start_time": "2023-09-29T16:30:32.985Z"
   },
   {
    "duration": 17,
    "start_time": "2023-09-29T16:30:32.990Z"
   },
   {
    "duration": 85,
    "start_time": "2023-09-29T16:30:33.008Z"
   },
   {
    "duration": 318,
    "start_time": "2023-09-29T16:30:33.094Z"
   },
   {
    "duration": 17,
    "start_time": "2023-09-29T16:30:33.413Z"
   },
   {
    "duration": 3,
    "start_time": "2023-09-29T16:30:33.431Z"
   },
   {
    "duration": 38,
    "start_time": "2023-09-29T16:30:33.435Z"
   },
   {
    "duration": 4,
    "start_time": "2023-09-29T16:30:33.474Z"
   },
   {
    "duration": 10,
    "start_time": "2023-09-29T16:30:33.479Z"
   },
   {
    "duration": 20,
    "start_time": "2023-09-29T16:30:33.492Z"
   },
   {
    "duration": 10,
    "start_time": "2023-09-29T16:30:37.932Z"
   },
   {
    "duration": 12,
    "start_time": "2023-09-29T16:30:46.852Z"
   },
   {
    "duration": 10,
    "start_time": "2023-09-29T16:45:35.507Z"
   },
   {
    "duration": 10,
    "start_time": "2023-09-29T16:45:39.312Z"
   },
   {
    "duration": 9,
    "start_time": "2023-09-29T16:46:44.421Z"
   },
   {
    "duration": 11,
    "start_time": "2023-09-29T16:46:49.860Z"
   },
   {
    "duration": 10,
    "start_time": "2023-09-29T16:46:50.274Z"
   },
   {
    "duration": 2229,
    "start_time": "2023-09-29T17:06:11.529Z"
   },
   {
    "duration": 1562,
    "start_time": "2023-09-29T17:06:13.761Z"
   },
   {
    "duration": 16,
    "start_time": "2023-09-29T17:06:15.324Z"
   },
   {
    "duration": 934,
    "start_time": "2023-09-29T17:06:15.345Z"
   },
   {
    "duration": 22,
    "start_time": "2023-09-29T17:06:16.281Z"
   },
   {
    "duration": 167,
    "start_time": "2023-09-29T17:06:16.305Z"
   },
   {
    "duration": 483,
    "start_time": "2023-09-29T17:06:16.474Z"
   },
   {
    "duration": 530,
    "start_time": "2023-09-29T17:06:16.960Z"
   },
   {
    "duration": 96,
    "start_time": "2023-09-29T17:06:17.492Z"
   },
   {
    "duration": 134,
    "start_time": "2023-09-29T17:06:17.590Z"
   },
   {
    "duration": 46,
    "start_time": "2023-09-29T17:06:17.726Z"
   },
   {
    "duration": 103,
    "start_time": "2023-09-29T17:06:17.774Z"
   },
   {
    "duration": 509,
    "start_time": "2023-09-29T17:06:17.880Z"
   },
   {
    "duration": 439,
    "start_time": "2023-09-29T17:06:18.391Z"
   },
   {
    "duration": 456,
    "start_time": "2023-09-29T17:06:18.832Z"
   },
   {
    "duration": 450,
    "start_time": "2023-09-29T17:06:19.291Z"
   },
   {
    "duration": 1373,
    "start_time": "2023-09-29T17:06:19.743Z"
   },
   {
    "duration": 454,
    "start_time": "2023-09-29T17:06:21.117Z"
   },
   {
    "duration": 29,
    "start_time": "2023-09-29T17:06:21.573Z"
   },
   {
    "duration": 333,
    "start_time": "2023-09-29T17:06:21.603Z"
   },
   {
    "duration": 372,
    "start_time": "2023-09-29T17:06:21.937Z"
   },
   {
    "duration": 23,
    "start_time": "2023-09-29T17:06:22.311Z"
   },
   {
    "duration": 278,
    "start_time": "2023-09-29T17:06:22.343Z"
   },
   {
    "duration": 313,
    "start_time": "2023-09-29T17:06:22.623Z"
   },
   {
    "duration": 23,
    "start_time": "2023-09-29T17:06:22.938Z"
   },
   {
    "duration": 376,
    "start_time": "2023-09-29T17:06:22.962Z"
   },
   {
    "duration": 15,
    "start_time": "2023-09-29T17:06:23.340Z"
   },
   {
    "duration": 26,
    "start_time": "2023-09-29T17:06:23.359Z"
   },
   {
    "duration": 24,
    "start_time": "2023-09-29T17:06:23.387Z"
   },
   {
    "duration": 9,
    "start_time": "2023-09-29T17:06:23.412Z"
   },
   {
    "duration": 69,
    "start_time": "2023-09-29T17:06:23.423Z"
   },
   {
    "duration": 22,
    "start_time": "2023-09-29T17:06:23.494Z"
   },
   {
    "duration": 28,
    "start_time": "2023-09-29T17:06:23.518Z"
   },
   {
    "duration": 24,
    "start_time": "2023-09-29T17:06:23.547Z"
   },
   {
    "duration": 28,
    "start_time": "2023-09-29T17:06:23.573Z"
   },
   {
    "duration": 45,
    "start_time": "2023-09-29T17:06:23.603Z"
   },
   {
    "duration": 28,
    "start_time": "2023-09-29T17:06:23.651Z"
   },
   {
    "duration": 16,
    "start_time": "2023-09-29T17:06:23.680Z"
   },
   {
    "duration": 19,
    "start_time": "2023-09-29T17:06:23.697Z"
   },
   {
    "duration": 63,
    "start_time": "2023-09-29T17:06:23.717Z"
   },
   {
    "duration": 5,
    "start_time": "2023-09-29T17:06:23.782Z"
   },
   {
    "duration": 9,
    "start_time": "2023-09-29T17:06:23.788Z"
   },
   {
    "duration": 5,
    "start_time": "2023-09-29T17:06:23.799Z"
   },
   {
    "duration": 10,
    "start_time": "2023-09-29T17:06:23.806Z"
   },
   {
    "duration": 6,
    "start_time": "2023-09-29T17:06:23.818Z"
   },
   {
    "duration": 401,
    "start_time": "2023-09-29T17:06:23.826Z"
   },
   {
    "duration": 12007,
    "start_time": "2023-09-29T17:06:24.229Z"
   },
   {
    "duration": 6,
    "start_time": "2023-09-29T17:06:36.238Z"
   },
   {
    "duration": 2,
    "start_time": "2023-09-29T17:06:36.246Z"
   },
   {
    "duration": 8,
    "start_time": "2023-09-29T17:06:36.249Z"
   },
   {
    "duration": 28,
    "start_time": "2023-09-29T17:06:36.258Z"
   },
   {
    "duration": 13,
    "start_time": "2023-09-29T17:06:36.288Z"
   },
   {
    "duration": 5,
    "start_time": "2023-09-29T17:06:36.303Z"
   },
   {
    "duration": 7,
    "start_time": "2023-09-29T17:06:36.310Z"
   },
   {
    "duration": 19,
    "start_time": "2023-09-29T17:06:36.319Z"
   },
   {
    "duration": 20,
    "start_time": "2023-09-29T17:06:36.341Z"
   },
   {
    "duration": 9,
    "start_time": "2023-09-29T17:06:36.363Z"
   },
   {
    "duration": 23,
    "start_time": "2023-09-29T17:06:36.374Z"
   },
   {
    "duration": 83,
    "start_time": "2023-09-29T17:06:36.399Z"
   },
   {
    "duration": 327,
    "start_time": "2023-09-29T17:06:36.485Z"
   },
   {
    "duration": 11,
    "start_time": "2023-09-29T17:06:36.814Z"
   },
   {
    "duration": 25,
    "start_time": "2023-09-29T17:06:36.827Z"
   },
   {
    "duration": 3,
    "start_time": "2023-09-29T17:06:36.853Z"
   },
   {
    "duration": 31,
    "start_time": "2023-09-29T17:06:36.857Z"
   },
   {
    "duration": 4,
    "start_time": "2023-09-29T17:06:36.890Z"
   },
   {
    "duration": 11,
    "start_time": "2023-09-29T17:06:36.895Z"
   },
   {
    "duration": 36,
    "start_time": "2023-09-29T17:06:36.908Z"
   },
   {
    "duration": 142,
    "start_time": "2023-09-29T17:06:54.007Z"
   },
   {
    "duration": 2402,
    "start_time": "2023-09-29T17:13:13.507Z"
   },
   {
    "duration": 5,
    "start_time": "2023-09-29T17:13:15.912Z"
   },
   {
    "duration": 881,
    "start_time": "2023-09-29T17:13:15.919Z"
   },
   {
    "duration": 13,
    "start_time": "2023-09-29T17:13:16.802Z"
   },
   {
    "duration": 149,
    "start_time": "2023-09-29T17:13:16.817Z"
   },
   {
    "duration": 440,
    "start_time": "2023-09-29T17:13:16.968Z"
   },
   {
    "duration": 416,
    "start_time": "2023-09-29T17:13:17.409Z"
   },
   {
    "duration": 90,
    "start_time": "2023-09-29T17:13:17.827Z"
   },
   {
    "duration": 132,
    "start_time": "2023-09-29T17:13:17.919Z"
   },
   {
    "duration": 29,
    "start_time": "2023-09-29T17:13:18.054Z"
   },
   {
    "duration": 107,
    "start_time": "2023-09-29T17:13:18.085Z"
   },
   {
    "duration": 459,
    "start_time": "2023-09-29T17:13:18.194Z"
   },
   {
    "duration": 465,
    "start_time": "2023-09-29T17:13:18.655Z"
   },
   {
    "duration": 364,
    "start_time": "2023-09-29T17:13:19.122Z"
   },
   {
    "duration": 425,
    "start_time": "2023-09-29T17:13:19.488Z"
   },
   {
    "duration": 1300,
    "start_time": "2023-09-29T17:13:19.914Z"
   },
   {
    "duration": 524,
    "start_time": "2023-09-29T17:13:21.215Z"
   },
   {
    "duration": 23,
    "start_time": "2023-09-29T17:13:21.743Z"
   },
   {
    "duration": 303,
    "start_time": "2023-09-29T17:13:21.767Z"
   },
   {
    "duration": 340,
    "start_time": "2023-09-29T17:13:22.071Z"
   },
   {
    "duration": 21,
    "start_time": "2023-09-29T17:13:22.412Z"
   },
   {
    "duration": 281,
    "start_time": "2023-09-29T17:13:22.434Z"
   },
   {
    "duration": 309,
    "start_time": "2023-09-29T17:13:22.717Z"
   },
   {
    "duration": 27,
    "start_time": "2023-09-29T17:13:23.027Z"
   },
   {
    "duration": 299,
    "start_time": "2023-09-29T17:13:23.056Z"
   },
   {
    "duration": 14,
    "start_time": "2023-09-29T17:13:23.356Z"
   },
   {
    "duration": 16,
    "start_time": "2023-09-29T17:13:23.371Z"
   },
   {
    "duration": 22,
    "start_time": "2023-09-29T17:13:23.391Z"
   },
   {
    "duration": 9,
    "start_time": "2023-09-29T17:13:23.415Z"
   },
   {
    "duration": 67,
    "start_time": "2023-09-29T17:13:23.426Z"
   },
   {
    "duration": 14,
    "start_time": "2023-09-29T17:13:23.494Z"
   },
   {
    "duration": 17,
    "start_time": "2023-09-29T17:13:23.510Z"
   },
   {
    "duration": 28,
    "start_time": "2023-09-29T17:13:23.528Z"
   },
   {
    "duration": 15,
    "start_time": "2023-09-29T17:13:23.557Z"
   },
   {
    "duration": 16,
    "start_time": "2023-09-29T17:13:23.574Z"
   },
   {
    "duration": 15,
    "start_time": "2023-09-29T17:13:23.591Z"
   },
   {
    "duration": 22,
    "start_time": "2023-09-29T17:13:23.607Z"
   },
   {
    "duration": 13,
    "start_time": "2023-09-29T17:13:23.644Z"
   },
   {
    "duration": 57,
    "start_time": "2023-09-29T17:13:23.658Z"
   },
   {
    "duration": 4,
    "start_time": "2023-09-29T17:13:23.716Z"
   },
   {
    "duration": 7,
    "start_time": "2023-09-29T17:13:23.722Z"
   },
   {
    "duration": 2,
    "start_time": "2023-09-29T17:13:23.744Z"
   },
   {
    "duration": 11,
    "start_time": "2023-09-29T17:13:23.748Z"
   },
   {
    "duration": 5,
    "start_time": "2023-09-29T17:13:23.760Z"
   },
   {
    "duration": 399,
    "start_time": "2023-09-29T17:13:23.766Z"
   },
   {
    "duration": 11987,
    "start_time": "2023-09-29T17:13:24.167Z"
   },
   {
    "duration": 2,
    "start_time": "2023-09-29T17:13:36.155Z"
   },
   {
    "duration": 8,
    "start_time": "2023-09-29T17:13:36.158Z"
   },
   {
    "duration": 6,
    "start_time": "2023-09-29T17:13:36.167Z"
   },
   {
    "duration": 6,
    "start_time": "2023-09-29T17:13:36.175Z"
   },
   {
    "duration": 8,
    "start_time": "2023-09-29T17:13:36.183Z"
   },
   {
    "duration": 5,
    "start_time": "2023-09-29T17:13:36.192Z"
   },
   {
    "duration": 5,
    "start_time": "2023-09-29T17:13:36.199Z"
   },
   {
    "duration": 7,
    "start_time": "2023-09-29T17:13:36.206Z"
   },
   {
    "duration": 7,
    "start_time": "2023-09-29T17:13:36.215Z"
   },
   {
    "duration": 8,
    "start_time": "2023-09-29T17:13:36.223Z"
   },
   {
    "duration": 7,
    "start_time": "2023-09-29T17:13:36.232Z"
   },
   {
    "duration": 69,
    "start_time": "2023-09-29T17:13:36.240Z"
   },
   {
    "duration": 6,
    "start_time": "2023-09-29T17:13:36.311Z"
   },
   {
    "duration": 26,
    "start_time": "2023-09-29T17:13:36.319Z"
   },
   {
    "duration": 18,
    "start_time": "2023-09-29T17:13:36.347Z"
   },
   {
    "duration": 2,
    "start_time": "2023-09-29T17:13:36.367Z"
   },
   {
    "duration": 47,
    "start_time": "2023-09-29T17:13:36.370Z"
   },
   {
    "duration": 4,
    "start_time": "2023-09-29T17:13:36.422Z"
   },
   {
    "duration": 24,
    "start_time": "2023-09-29T17:13:36.428Z"
   },
   {
    "duration": 13,
    "start_time": "2023-09-29T17:13:36.453Z"
   },
   {
    "duration": 10,
    "start_time": "2023-09-29T17:13:36.467Z"
   },
   {
    "duration": 10,
    "start_time": "2023-09-29T17:14:24.717Z"
   },
   {
    "duration": 341,
    "start_time": "2023-09-29T18:08:43.235Z"
   },
   {
    "duration": 12,
    "start_time": "2023-09-29T18:08:49.160Z"
   },
   {
    "duration": 9,
    "start_time": "2023-09-29T18:18:45.433Z"
   },
   {
    "duration": 46,
    "start_time": "2023-09-29T18:18:53.111Z"
   },
   {
    "duration": 19,
    "start_time": "2023-09-29T18:22:24.314Z"
   },
   {
    "duration": 42,
    "start_time": "2023-09-29T18:22:45.361Z"
   },
   {
    "duration": 23,
    "start_time": "2023-09-29T18:24:46.311Z"
   },
   {
    "duration": 31,
    "start_time": "2023-09-29T18:26:18.587Z"
   },
   {
    "duration": 4,
    "start_time": "2023-09-29T18:26:31.163Z"
   },
   {
    "duration": 37,
    "start_time": "2023-09-29T18:28:00.361Z"
   },
   {
    "duration": 35,
    "start_time": "2023-09-29T18:29:19.051Z"
   },
   {
    "duration": 4,
    "start_time": "2023-09-29T18:30:44.410Z"
   },
   {
    "duration": 3,
    "start_time": "2023-09-29T18:31:33.375Z"
   },
   {
    "duration": 9,
    "start_time": "2023-09-29T18:31:36.189Z"
   },
   {
    "duration": 109,
    "start_time": "2023-09-29T18:34:45.373Z"
   },
   {
    "duration": 86,
    "start_time": "2023-09-29T18:35:31.832Z"
   },
   {
    "duration": 1552,
    "start_time": "2023-09-29T18:36:09.135Z"
   },
   {
    "duration": 23914,
    "start_time": "2023-09-29T18:36:46.193Z"
   },
   {
    "duration": 3,
    "start_time": "2023-09-29T18:38:01.558Z"
   },
   {
    "duration": 22822,
    "start_time": "2023-09-29T18:38:19.271Z"
   },
   {
    "duration": 57,
    "start_time": "2023-09-29T18:38:42.094Z"
   },
   {
    "duration": 59,
    "start_time": "2023-09-29T18:43:24.572Z"
   },
   {
    "duration": 10,
    "start_time": "2023-09-29T18:43:55.602Z"
   },
   {
    "duration": 5,
    "start_time": "2023-09-29T18:44:11.364Z"
   },
   {
    "duration": 113,
    "start_time": "2023-09-29T18:44:19.475Z"
   },
   {
    "duration": 94,
    "start_time": "2023-09-29T18:44:52.929Z"
   },
   {
    "duration": 97,
    "start_time": "2023-09-29T18:44:59.370Z"
   },
   {
    "duration": 88,
    "start_time": "2023-09-29T18:45:13.061Z"
   },
   {
    "duration": 120,
    "start_time": "2023-09-29T18:46:01.341Z"
   },
   {
    "duration": 4,
    "start_time": "2023-09-29T18:46:36.710Z"
   },
   {
    "duration": 10584,
    "start_time": "2023-09-29T18:46:45.438Z"
   },
   {
    "duration": 32,
    "start_time": "2023-09-29T18:50:16.745Z"
   },
   {
    "duration": 5,
    "start_time": "2023-09-29T18:50:21.751Z"
   },
   {
    "duration": 2,
    "start_time": "2023-09-29T18:50:50.298Z"
   },
   {
    "duration": 37,
    "start_time": "2023-09-29T18:51:57.660Z"
   },
   {
    "duration": 3,
    "start_time": "2023-09-29T18:51:58.952Z"
   },
   {
    "duration": 3,
    "start_time": "2023-09-29T18:52:03.037Z"
   },
   {
    "duration": 24378,
    "start_time": "2023-09-29T18:52:07.310Z"
   },
   {
    "duration": 58,
    "start_time": "2023-09-29T18:52:35.457Z"
   },
   {
    "duration": 5,
    "start_time": "2023-09-29T18:52:43.793Z"
   },
   {
    "duration": 10712,
    "start_time": "2023-09-29T18:52:47.086Z"
   },
   {
    "duration": 32,
    "start_time": "2023-09-29T18:53:00.890Z"
   },
   {
    "duration": 5,
    "start_time": "2023-09-29T18:53:01.680Z"
   },
   {
    "duration": 3,
    "start_time": "2023-09-29T18:53:03.213Z"
   },
   {
    "duration": 127,
    "start_time": "2023-09-29T18:53:03.926Z"
   },
   {
    "duration": 110,
    "start_time": "2023-09-29T18:53:16.436Z"
   },
   {
    "duration": 115,
    "start_time": "2023-09-29T18:53:32.743Z"
   },
   {
    "duration": 102,
    "start_time": "2023-09-29T18:53:47.543Z"
   },
   {
    "duration": 13,
    "start_time": "2023-09-29T18:53:53.971Z"
   },
   {
    "duration": 3,
    "start_time": "2023-09-29T18:54:05.182Z"
   },
   {
    "duration": 388424,
    "start_time": "2023-09-29T18:54:08.929Z"
   },
   {
    "duration": 266,
    "start_time": "2023-09-29T19:02:47.289Z"
   },
   {
    "duration": 4,
    "start_time": "2023-09-29T19:02:51.369Z"
   },
   {
    "duration": 11,
    "start_time": "2023-09-29T19:02:53.925Z"
   },
   {
    "duration": 311,
    "start_time": "2023-09-29T19:11:24.851Z"
   },
   {
    "duration": 293,
    "start_time": "2023-09-29T19:11:35.254Z"
   },
   {
    "duration": 3,
    "start_time": "2023-09-29T19:14:47.437Z"
   },
   {
    "duration": 5,
    "start_time": "2023-09-29T19:14:52.935Z"
   },
   {
    "duration": 5,
    "start_time": "2023-09-29T19:15:12.175Z"
   },
   {
    "duration": 117,
    "start_time": "2023-09-29T19:15:19.684Z"
   },
   {
    "duration": 4,
    "start_time": "2023-09-29T19:15:26.895Z"
   },
   {
    "duration": 239,
    "start_time": "2023-09-29T19:16:29.321Z"
   },
   {
    "duration": 4,
    "start_time": "2023-09-29T19:16:33.866Z"
   },
   {
    "duration": 273,
    "start_time": "2023-09-29T19:16:36.874Z"
   },
   {
    "duration": 4,
    "start_time": "2023-09-29T19:16:38.182Z"
   },
   {
    "duration": 3,
    "start_time": "2023-09-29T19:25:48.394Z"
   },
   {
    "duration": 2225,
    "start_time": "2023-09-29T19:26:09.307Z"
   },
   {
    "duration": 1452,
    "start_time": "2023-09-29T19:26:11.534Z"
   },
   {
    "duration": 897,
    "start_time": "2023-09-29T19:26:12.987Z"
   },
   {
    "duration": 17,
    "start_time": "2023-09-29T19:26:13.887Z"
   },
   {
    "duration": 193,
    "start_time": "2023-09-29T19:26:13.906Z"
   },
   {
    "duration": 513,
    "start_time": "2023-09-29T19:26:14.101Z"
   },
   {
    "duration": 550,
    "start_time": "2023-09-29T19:26:14.615Z"
   },
   {
    "duration": 99,
    "start_time": "2023-09-29T19:26:15.167Z"
   },
   {
    "duration": 147,
    "start_time": "2023-09-29T19:26:15.267Z"
   },
   {
    "duration": 46,
    "start_time": "2023-09-29T19:26:15.416Z"
   },
   {
    "duration": 116,
    "start_time": "2023-09-29T19:26:15.463Z"
   },
   {
    "duration": 485,
    "start_time": "2023-09-29T19:26:15.581Z"
   },
   {
    "duration": 445,
    "start_time": "2023-09-29T19:26:16.067Z"
   },
   {
    "duration": 449,
    "start_time": "2023-09-29T19:26:16.514Z"
   },
   {
    "duration": 473,
    "start_time": "2023-09-29T19:26:16.964Z"
   },
   {
    "duration": 1393,
    "start_time": "2023-09-29T19:26:17.439Z"
   },
   {
    "duration": 464,
    "start_time": "2023-09-29T19:26:18.833Z"
   },
   {
    "duration": 27,
    "start_time": "2023-09-29T19:26:19.299Z"
   },
   {
    "duration": 328,
    "start_time": "2023-09-29T19:26:19.328Z"
   },
   {
    "duration": 327,
    "start_time": "2023-09-29T19:26:19.658Z"
   },
   {
    "duration": 20,
    "start_time": "2023-09-29T19:26:19.986Z"
   },
   {
    "duration": 295,
    "start_time": "2023-09-29T19:26:20.007Z"
   },
   {
    "duration": 317,
    "start_time": "2023-09-29T19:26:20.304Z"
   },
   {
    "duration": 38,
    "start_time": "2023-09-29T19:26:20.623Z"
   },
   {
    "duration": 325,
    "start_time": "2023-09-29T19:26:20.662Z"
   },
   {
    "duration": 16,
    "start_time": "2023-09-29T19:26:20.988Z"
   },
   {
    "duration": 31,
    "start_time": "2023-09-29T19:26:21.005Z"
   },
   {
    "duration": 26,
    "start_time": "2023-09-29T19:26:21.041Z"
   },
   {
    "duration": 8,
    "start_time": "2023-09-29T19:26:21.068Z"
   },
   {
    "duration": 79,
    "start_time": "2023-09-29T19:26:21.077Z"
   },
   {
    "duration": 15,
    "start_time": "2023-09-29T19:26:21.158Z"
   },
   {
    "duration": 21,
    "start_time": "2023-09-29T19:26:21.175Z"
   },
   {
    "duration": 26,
    "start_time": "2023-09-29T19:26:21.197Z"
   },
   {
    "duration": 16,
    "start_time": "2023-09-29T19:26:21.224Z"
   },
   {
    "duration": 25,
    "start_time": "2023-09-29T19:26:21.241Z"
   },
   {
    "duration": 16,
    "start_time": "2023-09-29T19:26:21.267Z"
   },
   {
    "duration": 17,
    "start_time": "2023-09-29T19:26:21.285Z"
   },
   {
    "duration": 15,
    "start_time": "2023-09-29T19:26:21.303Z"
   },
   {
    "duration": 78,
    "start_time": "2023-09-29T19:26:21.319Z"
   },
   {
    "duration": 5,
    "start_time": "2023-09-29T19:26:21.398Z"
   },
   {
    "duration": 3,
    "start_time": "2023-09-29T19:26:21.405Z"
   },
   {
    "duration": 5,
    "start_time": "2023-09-29T19:26:21.409Z"
   },
   {
    "duration": 7,
    "start_time": "2023-09-29T19:26:21.415Z"
   },
   {
    "duration": 23,
    "start_time": "2023-09-29T19:26:21.423Z"
   },
   {
    "duration": 347,
    "start_time": "2023-09-29T19:26:21.449Z"
   },
   {
    "duration": 13017,
    "start_time": "2023-09-29T19:26:21.797Z"
   },
   {
    "duration": 2,
    "start_time": "2023-09-29T19:26:34.816Z"
   },
   {
    "duration": 12,
    "start_time": "2023-09-29T19:26:34.819Z"
   },
   {
    "duration": 5,
    "start_time": "2023-09-29T19:26:34.832Z"
   },
   {
    "duration": 23,
    "start_time": "2023-09-29T19:26:34.838Z"
   },
   {
    "duration": 15,
    "start_time": "2023-09-29T19:26:34.862Z"
   },
   {
    "duration": 16,
    "start_time": "2023-09-29T19:26:34.878Z"
   },
   {
    "duration": 11,
    "start_time": "2023-09-29T19:26:34.896Z"
   },
   {
    "duration": 5,
    "start_time": "2023-09-29T19:26:34.908Z"
   },
   {
    "duration": 5,
    "start_time": "2023-09-29T19:26:34.914Z"
   },
   {
    "duration": 36,
    "start_time": "2023-09-29T19:26:34.920Z"
   },
   {
    "duration": 3,
    "start_time": "2023-09-29T19:26:34.959Z"
   },
   {
    "duration": 95,
    "start_time": "2023-09-29T19:26:34.963Z"
   },
   {
    "duration": 95,
    "start_time": "2023-09-29T19:26:35.061Z"
   },
   {
    "duration": 202,
    "start_time": "2023-09-29T19:26:35.158Z"
   },
   {
    "duration": 26,
    "start_time": "2023-09-29T19:26:35.361Z"
   },
   {
    "duration": 2,
    "start_time": "2023-09-29T19:26:35.388Z"
   },
   {
    "duration": 66,
    "start_time": "2023-09-29T19:26:35.392Z"
   },
   {
    "duration": 3,
    "start_time": "2023-09-29T19:26:35.460Z"
   },
   {
    "duration": 316,
    "start_time": "2023-09-29T19:26:35.465Z"
   },
   {
    "duration": 2,
    "start_time": "2023-09-29T19:26:35.783Z"
   },
   {
    "duration": 10,
    "start_time": "2023-09-29T19:26:35.786Z"
   },
   {
    "duration": 23451,
    "start_time": "2023-09-29T19:26:35.797Z"
   },
   {
    "duration": 76,
    "start_time": "2023-09-29T19:26:59.261Z"
   },
   {
    "duration": 3,
    "start_time": "2023-09-29T19:26:59.339Z"
   },
   {
    "duration": 10978,
    "start_time": "2023-09-29T19:26:59.349Z"
   },
   {
    "duration": 40,
    "start_time": "2023-09-29T19:27:10.329Z"
   },
   {
    "duration": 4,
    "start_time": "2023-09-29T19:27:10.370Z"
   },
   {
    "duration": 10,
    "start_time": "2023-09-29T19:27:10.376Z"
   },
   {
    "duration": 2660,
    "start_time": "2023-09-29T19:27:10.387Z"
   },
   {
    "duration": 112,
    "start_time": "2023-09-29T19:27:13.049Z"
   },
   {
    "duration": 6,
    "start_time": "2023-09-29T19:27:13.244Z"
   },
   {
    "duration": 48307,
    "start_time": "2023-09-29T19:27:13.252Z"
   },
   {
    "duration": 385,
    "start_time": "2023-09-29T19:28:01.565Z"
   },
   {
    "duration": 5,
    "start_time": "2023-09-29T19:28:01.956Z"
   },
   {
    "duration": 97,
    "start_time": "2023-09-29T19:28:01.963Z"
   },
   {
    "duration": 1,
    "start_time": "2023-09-29T19:28:02.061Z"
   },
   {
    "duration": 0,
    "start_time": "2023-09-29T19:28:02.063Z"
   },
   {
    "duration": 3,
    "start_time": "2023-09-29T19:28:40.637Z"
   },
   {
    "duration": 4,
    "start_time": "2023-09-29T19:28:49.009Z"
   },
   {
    "duration": 7,
    "start_time": "2023-09-29T19:29:00.960Z"
   },
   {
    "duration": 307,
    "start_time": "2023-09-29T19:29:03.938Z"
   },
   {
    "duration": 5,
    "start_time": "2023-09-29T19:29:06.111Z"
   },
   {
    "duration": 5017,
    "start_time": "2023-10-02T08:28:42.627Z"
   },
   {
    "duration": 1697,
    "start_time": "2023-10-02T08:28:47.646Z"
   },
   {
    "duration": 1199,
    "start_time": "2023-10-02T08:28:49.344Z"
   },
   {
    "duration": 17,
    "start_time": "2023-10-02T08:28:50.546Z"
   },
   {
    "duration": 161,
    "start_time": "2023-10-02T08:28:50.564Z"
   },
   {
    "duration": 465,
    "start_time": "2023-10-02T08:28:50.727Z"
   },
   {
    "duration": 469,
    "start_time": "2023-10-02T08:28:51.194Z"
   },
   {
    "duration": 95,
    "start_time": "2023-10-02T08:28:51.665Z"
   },
   {
    "duration": 146,
    "start_time": "2023-10-02T08:28:51.762Z"
   },
   {
    "duration": 38,
    "start_time": "2023-10-02T08:28:51.910Z"
   },
   {
    "duration": 99,
    "start_time": "2023-10-02T08:28:51.950Z"
   },
   {
    "duration": 486,
    "start_time": "2023-10-02T08:28:52.051Z"
   },
   {
    "duration": 461,
    "start_time": "2023-10-02T08:28:52.539Z"
   },
   {
    "duration": 457,
    "start_time": "2023-10-02T08:28:53.002Z"
   },
   {
    "duration": 494,
    "start_time": "2023-10-02T08:28:53.460Z"
   },
   {
    "duration": 1443,
    "start_time": "2023-10-02T08:28:53.956Z"
   },
   {
    "duration": 474,
    "start_time": "2023-10-02T08:28:55.401Z"
   },
   {
    "duration": 26,
    "start_time": "2023-10-02T08:28:55.877Z"
   },
   {
    "duration": 327,
    "start_time": "2023-10-02T08:28:55.905Z"
   },
   {
    "duration": 346,
    "start_time": "2023-10-02T08:28:56.234Z"
   },
   {
    "duration": 20,
    "start_time": "2023-10-02T08:28:56.581Z"
   },
   {
    "duration": 284,
    "start_time": "2023-10-02T08:28:56.603Z"
   },
   {
    "duration": 351,
    "start_time": "2023-10-02T08:28:56.889Z"
   },
   {
    "duration": 19,
    "start_time": "2023-10-02T08:28:57.244Z"
   },
   {
    "duration": 494,
    "start_time": "2023-10-02T08:28:57.265Z"
   },
   {
    "duration": 16,
    "start_time": "2023-10-02T08:28:57.761Z"
   },
   {
    "duration": 53,
    "start_time": "2023-10-02T08:28:57.778Z"
   },
   {
    "duration": 48,
    "start_time": "2023-10-02T08:28:57.835Z"
   },
   {
    "duration": 20,
    "start_time": "2023-10-02T08:28:57.884Z"
   },
   {
    "duration": 85,
    "start_time": "2023-10-02T08:28:57.905Z"
   },
   {
    "duration": 37,
    "start_time": "2023-10-02T08:28:57.992Z"
   },
   {
    "duration": 40,
    "start_time": "2023-10-02T08:28:58.031Z"
   },
   {
    "duration": 24,
    "start_time": "2023-10-02T08:28:58.073Z"
   },
   {
    "duration": 97,
    "start_time": "2023-10-02T08:28:58.099Z"
   },
   {
    "duration": 64,
    "start_time": "2023-10-02T08:28:58.197Z"
   },
   {
    "duration": 67,
    "start_time": "2023-10-02T08:28:58.263Z"
   },
   {
    "duration": 37,
    "start_time": "2023-10-02T08:28:58.332Z"
   },
   {
    "duration": 28,
    "start_time": "2023-10-02T08:28:58.371Z"
   },
   {
    "duration": 85,
    "start_time": "2023-10-02T08:28:58.400Z"
   },
   {
    "duration": 18,
    "start_time": "2023-10-02T08:28:58.487Z"
   },
   {
    "duration": 28,
    "start_time": "2023-10-02T08:28:58.507Z"
   },
   {
    "duration": 13,
    "start_time": "2023-10-02T08:28:58.537Z"
   },
   {
    "duration": 360,
    "start_time": "2023-10-02T08:28:58.552Z"
   },
   {
    "duration": 12433,
    "start_time": "2023-10-02T08:28:58.914Z"
   },
   {
    "duration": 539,
    "start_time": "2023-10-02T08:29:11.349Z"
   },
   {
    "duration": 414,
    "start_time": "2023-10-02T08:29:43.889Z"
   },
   {
    "duration": 12476,
    "start_time": "2023-10-02T08:30:07.209Z"
   },
   {
    "duration": 3807,
    "start_time": "2023-10-02T08:30:49.173Z"
   },
   {
    "duration": 423,
    "start_time": "2023-10-02T08:32:35.653Z"
   },
   {
    "duration": 439,
    "start_time": "2023-10-02T08:32:42.667Z"
   },
   {
    "duration": 425,
    "start_time": "2023-10-02T08:32:47.833Z"
   },
   {
    "duration": 60615,
    "start_time": "2023-10-02T08:32:53.759Z"
   },
   {
    "duration": 3862,
    "start_time": "2023-10-02T08:35:02.801Z"
   },
   {
    "duration": 60740,
    "start_time": "2023-10-02T08:35:22.742Z"
   },
   {
    "duration": 453,
    "start_time": "2023-10-02T08:38:17.880Z"
   },
   {
    "duration": 62892,
    "start_time": "2023-10-02T08:38:24.392Z"
   },
   {
    "duration": 329,
    "start_time": "2023-10-02T08:40:41.295Z"
   },
   {
    "duration": 3,
    "start_time": "2023-10-02T08:42:13.165Z"
   },
   {
    "duration": 2493,
    "start_time": "2023-10-02T08:42:22.916Z"
   },
   {
    "duration": 6,
    "start_time": "2023-10-02T08:42:25.412Z"
   },
   {
    "duration": 907,
    "start_time": "2023-10-02T08:42:25.420Z"
   },
   {
    "duration": 16,
    "start_time": "2023-10-02T08:42:26.329Z"
   },
   {
    "duration": 184,
    "start_time": "2023-10-02T08:42:26.347Z"
   },
   {
    "duration": 466,
    "start_time": "2023-10-02T08:42:26.533Z"
   },
   {
    "duration": 477,
    "start_time": "2023-10-02T08:42:27.001Z"
   },
   {
    "duration": 96,
    "start_time": "2023-10-02T08:42:27.479Z"
   },
   {
    "duration": 138,
    "start_time": "2023-10-02T08:42:27.577Z"
   },
   {
    "duration": 43,
    "start_time": "2023-10-02T08:42:27.718Z"
   },
   {
    "duration": 99,
    "start_time": "2023-10-02T08:42:27.763Z"
   },
   {
    "duration": 482,
    "start_time": "2023-10-02T08:42:27.863Z"
   },
   {
    "duration": 449,
    "start_time": "2023-10-02T08:42:28.347Z"
   },
   {
    "duration": 379,
    "start_time": "2023-10-02T08:42:28.798Z"
   },
   {
    "duration": 469,
    "start_time": "2023-10-02T08:42:29.179Z"
   },
   {
    "duration": 1405,
    "start_time": "2023-10-02T08:42:29.650Z"
   },
   {
    "duration": 491,
    "start_time": "2023-10-02T08:42:31.057Z"
   },
   {
    "duration": 21,
    "start_time": "2023-10-02T08:42:31.550Z"
   },
   {
    "duration": 329,
    "start_time": "2023-10-02T08:42:31.573Z"
   },
   {
    "duration": 487,
    "start_time": "2023-10-02T08:42:31.905Z"
   },
   {
    "duration": 22,
    "start_time": "2023-10-02T08:42:32.394Z"
   },
   {
    "duration": 397,
    "start_time": "2023-10-02T08:42:32.417Z"
   },
   {
    "duration": 323,
    "start_time": "2023-10-02T08:42:32.815Z"
   },
   {
    "duration": 20,
    "start_time": "2023-10-02T08:42:33.140Z"
   },
   {
    "duration": 342,
    "start_time": "2023-10-02T08:42:33.162Z"
   },
   {
    "duration": 16,
    "start_time": "2023-10-02T08:42:33.506Z"
   },
   {
    "duration": 30,
    "start_time": "2023-10-02T08:42:33.523Z"
   },
   {
    "duration": 19,
    "start_time": "2023-10-02T08:42:33.557Z"
   },
   {
    "duration": 27,
    "start_time": "2023-10-02T08:42:33.577Z"
   },
   {
    "duration": 70,
    "start_time": "2023-10-02T08:42:33.606Z"
   },
   {
    "duration": 20,
    "start_time": "2023-10-02T08:42:33.678Z"
   },
   {
    "duration": 36,
    "start_time": "2023-10-02T08:42:33.700Z"
   },
   {
    "duration": 16,
    "start_time": "2023-10-02T08:42:33.738Z"
   },
   {
    "duration": 24,
    "start_time": "2023-10-02T08:42:33.758Z"
   },
   {
    "duration": 25,
    "start_time": "2023-10-02T08:42:33.784Z"
   },
   {
    "duration": 44,
    "start_time": "2023-10-02T08:42:33.811Z"
   },
   {
    "duration": 39,
    "start_time": "2023-10-02T08:42:33.857Z"
   },
   {
    "duration": 39,
    "start_time": "2023-10-02T08:42:33.898Z"
   },
   {
    "duration": 94,
    "start_time": "2023-10-02T08:42:33.939Z"
   },
   {
    "duration": 18,
    "start_time": "2023-10-02T08:42:34.035Z"
   },
   {
    "duration": 13,
    "start_time": "2023-10-02T08:42:34.054Z"
   },
   {
    "duration": 36,
    "start_time": "2023-10-02T08:42:34.069Z"
   },
   {
    "duration": 440,
    "start_time": "2023-10-02T08:42:34.107Z"
   },
   {
    "duration": 12490,
    "start_time": "2023-10-02T08:42:34.550Z"
   },
   {
    "duration": 446,
    "start_time": "2023-10-02T08:42:47.041Z"
   },
   {
    "duration": 0,
    "start_time": "2023-10-02T08:42:47.489Z"
   },
   {
    "duration": 0,
    "start_time": "2023-10-02T08:42:47.490Z"
   },
   {
    "duration": 0,
    "start_time": "2023-10-02T08:42:47.492Z"
   },
   {
    "duration": 2361,
    "start_time": "2023-10-02T08:46:57.709Z"
   },
   {
    "duration": 6,
    "start_time": "2023-10-02T08:47:00.072Z"
   },
   {
    "duration": 952,
    "start_time": "2023-10-02T08:47:00.080Z"
   },
   {
    "duration": 17,
    "start_time": "2023-10-02T08:47:01.035Z"
   },
   {
    "duration": 338,
    "start_time": "2023-10-02T08:47:01.054Z"
   },
   {
    "duration": 559,
    "start_time": "2023-10-02T08:47:01.394Z"
   },
   {
    "duration": 467,
    "start_time": "2023-10-02T08:47:01.955Z"
   },
   {
    "duration": 90,
    "start_time": "2023-10-02T08:47:02.423Z"
   },
   {
    "duration": 138,
    "start_time": "2023-10-02T08:47:02.515Z"
   },
   {
    "duration": 59,
    "start_time": "2023-10-02T08:47:02.656Z"
   },
   {
    "duration": 109,
    "start_time": "2023-10-02T08:47:02.717Z"
   },
   {
    "duration": 517,
    "start_time": "2023-10-02T08:47:02.828Z"
   },
   {
    "duration": 536,
    "start_time": "2023-10-02T08:47:03.347Z"
   },
   {
    "duration": 398,
    "start_time": "2023-10-02T08:47:03.885Z"
   },
   {
    "duration": 543,
    "start_time": "2023-10-02T08:47:04.285Z"
   },
   {
    "duration": 1538,
    "start_time": "2023-10-02T08:47:04.830Z"
   },
   {
    "duration": 466,
    "start_time": "2023-10-02T08:47:06.370Z"
   },
   {
    "duration": 29,
    "start_time": "2023-10-02T08:47:06.838Z"
   },
   {
    "duration": 324,
    "start_time": "2023-10-02T08:47:06.869Z"
   },
   {
    "duration": 344,
    "start_time": "2023-10-02T08:47:07.195Z"
   },
   {
    "duration": 22,
    "start_time": "2023-10-02T08:47:07.540Z"
   },
   {
    "duration": 372,
    "start_time": "2023-10-02T08:47:07.564Z"
   },
   {
    "duration": 329,
    "start_time": "2023-10-02T08:47:07.938Z"
   },
   {
    "duration": 21,
    "start_time": "2023-10-02T08:47:08.269Z"
   },
   {
    "duration": 330,
    "start_time": "2023-10-02T08:47:08.291Z"
   },
   {
    "duration": 22,
    "start_time": "2023-10-02T08:47:08.622Z"
   },
   {
    "duration": 34,
    "start_time": "2023-10-02T08:47:08.646Z"
   },
   {
    "duration": 23,
    "start_time": "2023-10-02T08:47:08.683Z"
   },
   {
    "duration": 23,
    "start_time": "2023-10-02T08:47:08.708Z"
   },
   {
    "duration": 81,
    "start_time": "2023-10-02T08:47:08.733Z"
   },
   {
    "duration": 25,
    "start_time": "2023-10-02T08:47:08.816Z"
   },
   {
    "duration": 35,
    "start_time": "2023-10-02T08:47:08.843Z"
   },
   {
    "duration": 25,
    "start_time": "2023-10-02T08:47:08.880Z"
   },
   {
    "duration": 40,
    "start_time": "2023-10-02T08:47:08.907Z"
   },
   {
    "duration": 38,
    "start_time": "2023-10-02T08:47:08.949Z"
   },
   {
    "duration": 29,
    "start_time": "2023-10-02T08:47:08.988Z"
   },
   {
    "duration": 32,
    "start_time": "2023-10-02T08:47:09.019Z"
   },
   {
    "duration": 34,
    "start_time": "2023-10-02T08:47:09.053Z"
   },
   {
    "duration": 94,
    "start_time": "2023-10-02T08:47:09.089Z"
   },
   {
    "duration": 24,
    "start_time": "2023-10-02T08:47:09.184Z"
   },
   {
    "duration": 18,
    "start_time": "2023-10-02T08:47:09.210Z"
   },
   {
    "duration": 17,
    "start_time": "2023-10-02T08:47:09.230Z"
   },
   {
    "duration": 432,
    "start_time": "2023-10-02T08:47:09.249Z"
   },
   {
    "duration": 12881,
    "start_time": "2023-10-02T08:47:09.682Z"
   },
   {
    "duration": 4093,
    "start_time": "2023-10-02T08:47:22.564Z"
   },
   {
    "duration": 63778,
    "start_time": "2023-10-02T08:47:26.659Z"
   },
   {
    "duration": 62,
    "start_time": "2023-10-02T08:48:30.444Z"
   },
   {
    "duration": 120,
    "start_time": "2023-10-02T08:48:30.507Z"
   },
   {
    "duration": 8,
    "start_time": "2023-10-02T08:59:26.396Z"
   },
   {
    "duration": 16,
    "start_time": "2023-10-02T09:00:44.975Z"
   },
   {
    "duration": 2,
    "start_time": "2023-10-02T09:01:19.713Z"
   },
   {
    "duration": 8,
    "start_time": "2023-10-02T09:01:22.054Z"
   },
   {
    "duration": 471,
    "start_time": "2023-10-02T09:01:22.733Z"
   },
   {
    "duration": 526,
    "start_time": "2023-10-02T09:01:40.027Z"
   },
   {
    "duration": 548,
    "start_time": "2023-10-02T09:02:27.860Z"
   },
   {
    "duration": 566,
    "start_time": "2023-10-02T09:02:38.317Z"
   },
   {
    "duration": 486,
    "start_time": "2023-10-02T09:04:45.265Z"
   },
   {
    "duration": 2498,
    "start_time": "2023-10-02T09:05:26.680Z"
   },
   {
    "duration": 650,
    "start_time": "2023-10-02T09:05:55.898Z"
   },
   {
    "duration": 3644,
    "start_time": "2023-10-02T09:14:46.704Z"
   },
   {
    "duration": 6,
    "start_time": "2023-10-02T09:14:50.350Z"
   },
   {
    "duration": 1038,
    "start_time": "2023-10-02T09:14:50.357Z"
   },
   {
    "duration": 14,
    "start_time": "2023-10-02T09:14:51.397Z"
   },
   {
    "duration": 184,
    "start_time": "2023-10-02T09:14:51.413Z"
   },
   {
    "duration": 445,
    "start_time": "2023-10-02T09:14:51.599Z"
   },
   {
    "duration": 467,
    "start_time": "2023-10-02T09:14:52.047Z"
   },
   {
    "duration": 99,
    "start_time": "2023-10-02T09:14:52.516Z"
   },
   {
    "duration": 152,
    "start_time": "2023-10-02T09:14:52.617Z"
   },
   {
    "duration": 32,
    "start_time": "2023-10-02T09:14:52.772Z"
   },
   {
    "duration": 115,
    "start_time": "2023-10-02T09:14:52.806Z"
   },
   {
    "duration": 572,
    "start_time": "2023-10-02T09:14:52.923Z"
   },
   {
    "duration": 580,
    "start_time": "2023-10-02T09:14:53.497Z"
   },
   {
    "duration": 421,
    "start_time": "2023-10-02T09:14:54.078Z"
   },
   {
    "duration": 607,
    "start_time": "2023-10-02T09:14:54.501Z"
   },
   {
    "duration": 1505,
    "start_time": "2023-10-02T09:14:55.110Z"
   },
   {
    "duration": 522,
    "start_time": "2023-10-02T09:14:56.617Z"
   },
   {
    "duration": 21,
    "start_time": "2023-10-02T09:14:57.143Z"
   },
   {
    "duration": 322,
    "start_time": "2023-10-02T09:14:57.166Z"
   },
   {
    "duration": 358,
    "start_time": "2023-10-02T09:14:57.490Z"
   },
   {
    "duration": 20,
    "start_time": "2023-10-02T09:14:57.850Z"
   },
   {
    "duration": 329,
    "start_time": "2023-10-02T09:14:57.872Z"
   },
   {
    "duration": 350,
    "start_time": "2023-10-02T09:14:58.203Z"
   },
   {
    "duration": 19,
    "start_time": "2023-10-02T09:14:58.554Z"
   },
   {
    "duration": 461,
    "start_time": "2023-10-02T09:14:58.574Z"
   },
   {
    "duration": 24,
    "start_time": "2023-10-02T09:14:59.036Z"
   },
   {
    "duration": 32,
    "start_time": "2023-10-02T09:14:59.062Z"
   },
   {
    "duration": 48,
    "start_time": "2023-10-02T09:14:59.098Z"
   },
   {
    "duration": 31,
    "start_time": "2023-10-02T09:14:59.148Z"
   },
   {
    "duration": 79,
    "start_time": "2023-10-02T09:14:59.181Z"
   },
   {
    "duration": 32,
    "start_time": "2023-10-02T09:14:59.262Z"
   },
   {
    "duration": 32,
    "start_time": "2023-10-02T09:14:59.296Z"
   },
   {
    "duration": 20,
    "start_time": "2023-10-02T09:14:59.330Z"
   },
   {
    "duration": 28,
    "start_time": "2023-10-02T09:14:59.351Z"
   },
   {
    "duration": 41,
    "start_time": "2023-10-02T09:14:59.381Z"
   },
   {
    "duration": 54,
    "start_time": "2023-10-02T09:14:59.424Z"
   },
   {
    "duration": 53,
    "start_time": "2023-10-02T09:14:59.480Z"
   },
   {
    "duration": 45,
    "start_time": "2023-10-02T09:14:59.535Z"
   },
   {
    "duration": 81,
    "start_time": "2023-10-02T09:14:59.582Z"
   },
   {
    "duration": 27,
    "start_time": "2023-10-02T09:14:59.665Z"
   },
   {
    "duration": 30,
    "start_time": "2023-10-02T09:14:59.694Z"
   },
   {
    "duration": 12,
    "start_time": "2023-10-02T09:14:59.726Z"
   },
   {
    "duration": 462,
    "start_time": "2023-10-02T09:14:59.741Z"
   },
   {
    "duration": 12999,
    "start_time": "2023-10-02T09:15:00.206Z"
   },
   {
    "duration": 4255,
    "start_time": "2023-10-02T09:15:13.207Z"
   },
   {
    "duration": 65068,
    "start_time": "2023-10-02T09:15:17.464Z"
   },
   {
    "duration": 68,
    "start_time": "2023-10-02T09:16:22.534Z"
   },
   {
    "duration": 16,
    "start_time": "2023-10-02T09:16:22.604Z"
   },
   {
    "duration": 19,
    "start_time": "2023-10-02T09:16:22.622Z"
   },
   {
    "duration": 584,
    "start_time": "2023-10-02T09:16:22.643Z"
   },
   {
    "duration": 516,
    "start_time": "2023-10-02T09:16:23.229Z"
   },
   {
    "duration": 153,
    "start_time": "2023-10-02T09:16:23.747Z"
   },
   {
    "duration": 217,
    "start_time": "2023-10-02T09:16:23.903Z"
   },
   {
    "duration": 4,
    "start_time": "2023-10-02T09:16:24.122Z"
   },
   {
    "duration": 22,
    "start_time": "2023-10-02T09:16:24.127Z"
   },
   {
    "duration": 55,
    "start_time": "2023-10-02T09:16:24.151Z"
   },
   {
    "duration": 2,
    "start_time": "2023-10-02T09:39:39.722Z"
   },
   {
    "duration": 24115,
    "start_time": "2023-10-02T09:39:55.350Z"
   },
   {
    "duration": 4,
    "start_time": "2023-10-02T09:41:16.746Z"
   },
   {
    "duration": 12955,
    "start_time": "2023-10-02T09:41:27.081Z"
   },
   {
    "duration": 187,
    "start_time": "2023-10-02T09:41:56.017Z"
   },
   {
    "duration": 17,
    "start_time": "2023-10-02T09:41:59.693Z"
   },
   {
    "duration": 5,
    "start_time": "2023-10-02T09:42:34.428Z"
   },
   {
    "duration": 7,
    "start_time": "2023-10-02T09:42:43.164Z"
   },
   {
    "duration": 4,
    "start_time": "2023-10-02T10:22:43.308Z"
   },
   {
    "duration": 13426,
    "start_time": "2023-10-02T10:22:46.574Z"
   },
   {
    "duration": 3,
    "start_time": "2023-10-02T10:23:06.248Z"
   },
   {
    "duration": 19194,
    "start_time": "2023-10-02T10:23:06.958Z"
   },
   {
    "duration": 609,
    "start_time": "2023-10-02T10:23:26.244Z"
   },
   {
    "duration": 2535,
    "start_time": "2023-10-02T10:24:35.682Z"
   },
   {
    "duration": 6,
    "start_time": "2023-10-02T10:24:38.219Z"
   },
   {
    "duration": 937,
    "start_time": "2023-10-02T10:24:38.227Z"
   },
   {
    "duration": 13,
    "start_time": "2023-10-02T10:24:39.167Z"
   },
   {
    "duration": 166,
    "start_time": "2023-10-02T10:24:39.182Z"
   },
   {
    "duration": 414,
    "start_time": "2023-10-02T10:24:39.350Z"
   },
   {
    "duration": 480,
    "start_time": "2023-10-02T10:24:39.766Z"
   },
   {
    "duration": 100,
    "start_time": "2023-10-02T10:24:40.248Z"
   },
   {
    "duration": 145,
    "start_time": "2023-10-02T10:24:40.350Z"
   },
   {
    "duration": 34,
    "start_time": "2023-10-02T10:24:40.498Z"
   },
   {
    "duration": 117,
    "start_time": "2023-10-02T10:24:40.533Z"
   },
   {
    "duration": 496,
    "start_time": "2023-10-02T10:24:40.651Z"
   },
   {
    "duration": 458,
    "start_time": "2023-10-02T10:24:41.149Z"
   },
   {
    "duration": 487,
    "start_time": "2023-10-02T10:24:41.609Z"
   },
   {
    "duration": 503,
    "start_time": "2023-10-02T10:24:42.098Z"
   },
   {
    "duration": 1488,
    "start_time": "2023-10-02T10:24:42.603Z"
   },
   {
    "duration": 555,
    "start_time": "2023-10-02T10:24:44.093Z"
   },
   {
    "duration": 27,
    "start_time": "2023-10-02T10:24:44.650Z"
   },
   {
    "duration": 360,
    "start_time": "2023-10-02T10:24:44.680Z"
   },
   {
    "duration": 386,
    "start_time": "2023-10-02T10:24:45.042Z"
   },
   {
    "duration": 30,
    "start_time": "2023-10-02T10:24:45.430Z"
   },
   {
    "duration": 405,
    "start_time": "2023-10-02T10:24:45.462Z"
   },
   {
    "duration": 372,
    "start_time": "2023-10-02T10:24:45.869Z"
   },
   {
    "duration": 19,
    "start_time": "2023-10-02T10:24:46.244Z"
   },
   {
    "duration": 357,
    "start_time": "2023-10-02T10:24:46.265Z"
   },
   {
    "duration": 22,
    "start_time": "2023-10-02T10:24:46.624Z"
   },
   {
    "duration": 33,
    "start_time": "2023-10-02T10:24:46.648Z"
   },
   {
    "duration": 37,
    "start_time": "2023-10-02T10:24:46.685Z"
   },
   {
    "duration": 47,
    "start_time": "2023-10-02T10:24:46.724Z"
   },
   {
    "duration": 79,
    "start_time": "2023-10-02T10:24:46.773Z"
   },
   {
    "duration": 39,
    "start_time": "2023-10-02T10:24:46.854Z"
   },
   {
    "duration": 36,
    "start_time": "2023-10-02T10:24:46.895Z"
   },
   {
    "duration": 24,
    "start_time": "2023-10-02T10:24:46.932Z"
   },
   {
    "duration": 29,
    "start_time": "2023-10-02T10:24:46.958Z"
   },
   {
    "duration": 52,
    "start_time": "2023-10-02T10:24:46.989Z"
   },
   {
    "duration": 32,
    "start_time": "2023-10-02T10:24:47.043Z"
   },
   {
    "duration": 25,
    "start_time": "2023-10-02T10:24:47.077Z"
   },
   {
    "duration": 58,
    "start_time": "2023-10-02T10:24:47.104Z"
   },
   {
    "duration": 106,
    "start_time": "2023-10-02T10:24:47.165Z"
   },
   {
    "duration": 16,
    "start_time": "2023-10-02T10:24:47.272Z"
   },
   {
    "duration": 33,
    "start_time": "2023-10-02T10:24:47.289Z"
   },
   {
    "duration": 48,
    "start_time": "2023-10-02T10:24:47.324Z"
   },
   {
    "duration": 432,
    "start_time": "2023-10-02T10:24:47.374Z"
   },
   {
    "duration": 13419,
    "start_time": "2023-10-02T10:24:47.808Z"
   },
   {
    "duration": 4521,
    "start_time": "2023-10-02T10:25:01.229Z"
   },
   {
    "duration": 65136,
    "start_time": "2023-10-02T10:25:05.753Z"
   },
   {
    "duration": 72,
    "start_time": "2023-10-02T10:26:10.891Z"
   },
   {
    "duration": 19,
    "start_time": "2023-10-02T10:26:10.965Z"
   },
   {
    "duration": 38,
    "start_time": "2023-10-02T10:26:10.986Z"
   },
   {
    "duration": 590,
    "start_time": "2023-10-02T10:26:11.025Z"
   },
   {
    "duration": 496,
    "start_time": "2023-10-02T10:26:11.616Z"
   },
   {
    "duration": 146,
    "start_time": "2023-10-02T10:26:12.114Z"
   },
   {
    "duration": 201,
    "start_time": "2023-10-02T10:26:12.262Z"
   },
   {
    "duration": 4,
    "start_time": "2023-10-02T10:26:12.464Z"
   },
   {
    "duration": 8,
    "start_time": "2023-10-02T10:26:12.470Z"
   },
   {
    "duration": 17,
    "start_time": "2023-10-02T10:26:12.479Z"
   },
   {
    "duration": 13,
    "start_time": "2023-10-02T10:26:12.498Z"
   },
   {
    "duration": 23584,
    "start_time": "2023-10-02T10:26:12.512Z"
   },
   {
    "duration": 285,
    "start_time": "2023-10-02T10:26:36.098Z"
   },
   {
    "duration": 3,
    "start_time": "2023-10-02T10:26:36.384Z"
   },
   {
    "duration": 13015,
    "start_time": "2023-10-02T10:26:36.389Z"
   },
   {
    "duration": 156,
    "start_time": "2023-10-02T10:26:49.405Z"
   },
   {
    "duration": 5,
    "start_time": "2023-10-02T10:26:49.563Z"
   },
   {
    "duration": 12,
    "start_time": "2023-10-02T10:28:46.360Z"
   },
   {
    "duration": 532,
    "start_time": "2023-10-02T10:29:19.015Z"
   },
   {
    "duration": 159,
    "start_time": "2023-10-02T10:29:45.919Z"
   },
   {
    "duration": 3,
    "start_time": "2023-10-02T10:29:52.699Z"
   },
   {
    "duration": 8306,
    "start_time": "2023-10-02T10:29:55.066Z"
   },
   {
    "duration": 396280,
    "start_time": "2023-10-02T10:32:39.884Z"
   },
   {
    "duration": 1580,
    "start_time": "2023-10-02T10:40:41.878Z"
   },
   {
    "duration": 4,
    "start_time": "2023-10-02T10:40:46.813Z"
   },
   {
    "duration": 8,
    "start_time": "2023-10-02T10:40:50.440Z"
   },
   {
    "duration": 600,
    "start_time": "2023-10-02T10:41:49.645Z"
   },
   {
    "duration": 1598,
    "start_time": "2023-10-02T10:41:55.553Z"
   },
   {
    "duration": 15,
    "start_time": "2023-10-02T10:42:01.333Z"
   },
   {
    "duration": 8,
    "start_time": "2023-10-02T10:42:08.426Z"
   },
   {
    "duration": 3,
    "start_time": "2023-10-02T10:45:43.013Z"
   },
   {
    "duration": 4,
    "start_time": "2023-10-02T10:46:02.474Z"
   },
   {
    "duration": 10,
    "start_time": "2023-10-02T10:48:31.221Z"
   },
   {
    "duration": 6,
    "start_time": "2023-10-02T10:48:47.887Z"
   },
   {
    "duration": 3,
    "start_time": "2023-10-02T10:48:50.130Z"
   },
   {
    "duration": 4,
    "start_time": "2023-10-02T10:48:50.603Z"
   },
   {
    "duration": 10,
    "start_time": "2023-10-02T10:48:51.461Z"
   },
   {
    "duration": 14,
    "start_time": "2023-10-02T10:49:03.260Z"
   },
   {
    "duration": 14,
    "start_time": "2023-10-02T10:53:49.767Z"
   },
   {
    "duration": 5,
    "start_time": "2023-10-02T10:54:49.321Z"
   },
   {
    "duration": 153214,
    "start_time": "2023-10-02T10:54:56.660Z"
   },
   {
    "duration": 157651,
    "start_time": "2023-10-02T10:59:37.822Z"
   },
   {
    "duration": 6,
    "start_time": "2023-10-02T11:02:15.475Z"
   },
   {
    "duration": 2,
    "start_time": "2023-10-02T11:07:50.316Z"
   },
   {
    "duration": 4,
    "start_time": "2023-10-02T11:08:52.286Z"
   },
   {
    "duration": 995733,
    "start_time": "2023-10-02T11:08:52.926Z"
   },
   {
    "duration": 0,
    "start_time": "2023-10-02T11:25:28.661Z"
   },
   {
    "duration": 3,
    "start_time": "2023-10-02T11:26:19.226Z"
   },
   {
    "duration": 379710,
    "start_time": "2023-10-02T11:26:21.544Z"
   },
   {
    "duration": 4,
    "start_time": "2023-10-02T11:33:36.773Z"
   },
   {
    "duration": 3,
    "start_time": "2023-10-02T11:33:46.975Z"
   },
   {
    "duration": 3,
    "start_time": "2023-10-02T11:33:55.429Z"
   },
   {
    "duration": 2,
    "start_time": "2023-10-02T11:33:56.085Z"
   },
   {
    "duration": 10,
    "start_time": "2023-10-02T11:33:56.784Z"
   },
   {
    "duration": 2,
    "start_time": "2023-10-02T11:34:09.527Z"
   },
   {
    "duration": 27,
    "start_time": "2023-10-02T11:34:10.299Z"
   },
   {
    "duration": 9,
    "start_time": "2023-10-02T11:35:16.500Z"
   },
   {
    "duration": 9,
    "start_time": "2023-10-02T11:35:31.904Z"
   },
   {
    "duration": 3,
    "start_time": "2023-10-02T11:40:20.503Z"
   },
   {
    "duration": 3,
    "start_time": "2023-10-02T11:40:25.662Z"
   },
   {
    "duration": 39,
    "start_time": "2023-10-02T11:40:27.826Z"
   },
   {
    "duration": 3,
    "start_time": "2023-10-02T11:40:36.789Z"
   },
   {
    "duration": 34,
    "start_time": "2023-10-02T11:40:39.918Z"
   },
   {
    "duration": 3,
    "start_time": "2023-10-02T11:40:50.013Z"
   },
   {
    "duration": 30,
    "start_time": "2023-10-02T11:40:51.755Z"
   },
   {
    "duration": 3,
    "start_time": "2023-10-02T11:40:56.577Z"
   },
   {
    "duration": 28,
    "start_time": "2023-10-02T11:40:56.978Z"
   },
   {
    "duration": 3,
    "start_time": "2023-10-02T11:43:25.177Z"
   },
   {
    "duration": 9,
    "start_time": "2023-10-02T11:43:27.690Z"
   },
   {
    "duration": 9,
    "start_time": "2023-10-02T11:44:28.775Z"
   },
   {
    "duration": 3,
    "start_time": "2023-10-02T11:44:45.862Z"
   },
   {
    "duration": 2,
    "start_time": "2023-10-02T11:44:48.366Z"
   },
   {
    "duration": 81,
    "start_time": "2023-10-02T11:46:14.847Z"
   },
   {
    "duration": 98,
    "start_time": "2023-10-02T11:46:39.561Z"
   },
   {
    "duration": 108,
    "start_time": "2023-10-02T11:47:07.873Z"
   },
   {
    "duration": 3,
    "start_time": "2023-10-02T11:47:25.439Z"
   },
   {
    "duration": 32,
    "start_time": "2023-10-02T11:47:31.495Z"
   },
   {
    "duration": 3,
    "start_time": "2023-10-02T11:47:59.323Z"
   },
   {
    "duration": 3,
    "start_time": "2023-10-02T11:48:01.419Z"
   },
   {
    "duration": 3,
    "start_time": "2023-10-02T11:48:02.137Z"
   },
   {
    "duration": 32,
    "start_time": "2023-10-02T11:48:05.092Z"
   },
   {
    "duration": 29,
    "start_time": "2023-10-02T11:48:13.378Z"
   },
   {
    "duration": 3,
    "start_time": "2023-10-02T11:48:21.463Z"
   },
   {
    "duration": 192376,
    "start_time": "2023-10-02T11:48:22.469Z"
   },
   {
    "duration": 4,
    "start_time": "2023-10-02T11:51:58.788Z"
   },
   {
    "duration": 4,
    "start_time": "2023-10-02T11:52:01.910Z"
   },
   {
    "duration": 3,
    "start_time": "2023-10-02T11:52:20.303Z"
   },
   {
    "duration": 4,
    "start_time": "2023-10-02T11:53:59.315Z"
   },
   {
    "duration": 8,
    "start_time": "2023-10-02T11:54:18.337Z"
   },
   {
    "duration": 4,
    "start_time": "2023-10-02T11:56:49.133Z"
   },
   {
    "duration": 8,
    "start_time": "2023-10-02T11:56:49.881Z"
   },
   {
    "duration": 69,
    "start_time": "2023-10-02T12:13:00.311Z"
   },
   {
    "duration": 4,
    "start_time": "2023-10-02T12:14:07.594Z"
   },
   {
    "duration": 5,
    "start_time": "2023-10-02T12:14:30.850Z"
   },
   {
    "duration": 12,
    "start_time": "2023-10-02T12:17:43.284Z"
   },
   {
    "duration": 6,
    "start_time": "2023-10-02T12:18:19.383Z"
   },
   {
    "duration": 2,
    "start_time": "2023-10-02T12:18:27.818Z"
   },
   {
    "duration": 16,
    "start_time": "2023-10-02T12:18:45.859Z"
   },
   {
    "duration": 22,
    "start_time": "2023-10-02T12:21:13.614Z"
   },
   {
    "duration": 22,
    "start_time": "2023-10-02T12:21:26.752Z"
   },
   {
    "duration": 24,
    "start_time": "2023-10-02T12:21:39.043Z"
   },
   {
    "duration": 32,
    "start_time": "2023-10-02T12:22:14.610Z"
   },
   {
    "duration": 16,
    "start_time": "2023-10-02T12:22:59.458Z"
   },
   {
    "duration": 23,
    "start_time": "2023-10-02T12:24:08.529Z"
   },
   {
    "duration": 17,
    "start_time": "2023-10-02T12:24:18.847Z"
   },
   {
    "duration": 19,
    "start_time": "2023-10-02T12:24:27.574Z"
   },
   {
    "duration": 7,
    "start_time": "2023-10-02T12:30:08.915Z"
   },
   {
    "duration": 28,
    "start_time": "2023-10-02T12:30:09.474Z"
   },
   {
    "duration": 4,
    "start_time": "2023-10-02T12:30:10.083Z"
   },
   {
    "duration": 5,
    "start_time": "2023-10-02T12:31:23.210Z"
   },
   {
    "duration": 11,
    "start_time": "2023-10-02T12:31:55.665Z"
   },
   {
    "duration": 40,
    "start_time": "2023-10-02T12:31:56.194Z"
   },
   {
    "duration": 4,
    "start_time": "2023-10-02T12:31:56.691Z"
   },
   {
    "duration": 5,
    "start_time": "2023-10-02T12:32:20.386Z"
   },
   {
    "duration": 3,
    "start_time": "2023-10-02T12:32:57.273Z"
   },
   {
    "duration": 3,
    "start_time": "2023-10-02T12:33:20.962Z"
   },
   {
    "duration": 125452,
    "start_time": "2023-10-02T12:33:52.499Z"
   },
   {
    "duration": 5,
    "start_time": "2023-10-02T12:37:57.532Z"
   },
   {
    "duration": 2842,
    "start_time": "2023-10-02T12:39:51.511Z"
   },
   {
    "duration": 1921,
    "start_time": "2023-10-02T12:39:54.358Z"
   },
   {
    "duration": 1075,
    "start_time": "2023-10-02T12:39:56.281Z"
   },
   {
    "duration": 22,
    "start_time": "2023-10-02T12:39:57.360Z"
   },
   {
    "duration": 193,
    "start_time": "2023-10-02T12:39:57.384Z"
   },
   {
    "duration": 580,
    "start_time": "2023-10-02T12:39:57.580Z"
   },
   {
    "duration": 559,
    "start_time": "2023-10-02T12:39:58.162Z"
   },
   {
    "duration": 110,
    "start_time": "2023-10-02T12:39:58.723Z"
   },
   {
    "duration": 175,
    "start_time": "2023-10-02T12:39:58.835Z"
   },
   {
    "duration": 73,
    "start_time": "2023-10-02T12:39:59.012Z"
   },
   {
    "duration": 134,
    "start_time": "2023-10-02T12:39:59.086Z"
   },
   {
    "duration": 656,
    "start_time": "2023-10-02T12:39:59.222Z"
   },
   {
    "duration": 544,
    "start_time": "2023-10-02T12:39:59.880Z"
   },
   {
    "duration": 546,
    "start_time": "2023-10-02T12:40:00.426Z"
   },
   {
    "duration": 581,
    "start_time": "2023-10-02T12:40:00.974Z"
   },
   {
    "duration": 1836,
    "start_time": "2023-10-02T12:40:01.557Z"
   },
   {
    "duration": 613,
    "start_time": "2023-10-02T12:40:03.394Z"
   },
   {
    "duration": 39,
    "start_time": "2023-10-02T12:40:04.009Z"
   },
   {
    "duration": 468,
    "start_time": "2023-10-02T12:40:04.051Z"
   },
   {
    "duration": 479,
    "start_time": "2023-10-02T12:40:04.521Z"
   },
   {
    "duration": 21,
    "start_time": "2023-10-02T12:40:05.002Z"
   },
   {
    "duration": 331,
    "start_time": "2023-10-02T12:40:05.025Z"
   },
   {
    "duration": 368,
    "start_time": "2023-10-02T12:40:05.358Z"
   },
   {
    "duration": 31,
    "start_time": "2023-10-02T12:40:05.728Z"
   },
   {
    "duration": 427,
    "start_time": "2023-10-02T12:40:05.761Z"
   },
   {
    "duration": 17,
    "start_time": "2023-10-02T12:40:06.191Z"
   },
   {
    "duration": 52,
    "start_time": "2023-10-02T12:40:06.210Z"
   },
   {
    "duration": 17,
    "start_time": "2023-10-02T12:40:06.270Z"
   },
   {
    "duration": 38,
    "start_time": "2023-10-02T12:40:06.289Z"
   },
   {
    "duration": 96,
    "start_time": "2023-10-02T12:40:06.330Z"
   },
   {
    "duration": 59,
    "start_time": "2023-10-02T12:40:06.428Z"
   },
   {
    "duration": 39,
    "start_time": "2023-10-02T12:40:06.488Z"
   },
   {
    "duration": 46,
    "start_time": "2023-10-02T12:40:06.529Z"
   },
   {
    "duration": 27,
    "start_time": "2023-10-02T12:40:06.576Z"
   },
   {
    "duration": 32,
    "start_time": "2023-10-02T12:40:06.605Z"
   },
   {
    "duration": 70,
    "start_time": "2023-10-02T12:40:06.639Z"
   },
   {
    "duration": 52,
    "start_time": "2023-10-02T12:40:06.711Z"
   },
   {
    "duration": 80,
    "start_time": "2023-10-02T12:40:06.766Z"
   },
   {
    "duration": 91,
    "start_time": "2023-10-02T12:40:06.848Z"
   },
   {
    "duration": 39,
    "start_time": "2023-10-02T12:40:06.941Z"
   },
   {
    "duration": 22,
    "start_time": "2023-10-02T12:40:06.982Z"
   },
   {
    "duration": 42,
    "start_time": "2023-10-02T12:40:07.006Z"
   },
   {
    "duration": 455,
    "start_time": "2023-10-02T12:40:07.051Z"
   },
   {
    "duration": 15396,
    "start_time": "2023-10-02T12:40:07.508Z"
   },
   {
    "duration": 4921,
    "start_time": "2023-10-02T12:40:22.905Z"
   },
   {
    "duration": 67485,
    "start_time": "2023-10-02T12:40:27.828Z"
   },
   {
    "duration": 68,
    "start_time": "2023-10-02T12:41:35.315Z"
   },
   {
    "duration": 14,
    "start_time": "2023-10-02T12:41:35.384Z"
   },
   {
    "duration": 23,
    "start_time": "2023-10-02T12:41:35.399Z"
   },
   {
    "duration": 26,
    "start_time": "2023-10-02T12:41:35.424Z"
   },
   {
    "duration": 507,
    "start_time": "2023-10-02T12:41:35.451Z"
   },
   {
    "duration": 151,
    "start_time": "2023-10-02T12:41:35.960Z"
   },
   {
    "duration": 199,
    "start_time": "2023-10-02T12:41:36.112Z"
   },
   {
    "duration": 4,
    "start_time": "2023-10-02T12:41:36.313Z"
   },
   {
    "duration": 29,
    "start_time": "2023-10-02T12:41:36.319Z"
   },
   {
    "duration": 26,
    "start_time": "2023-10-02T12:41:36.350Z"
   },
   {
    "duration": 29,
    "start_time": "2023-10-02T12:41:36.377Z"
   },
   {
    "duration": 20,
    "start_time": "2023-10-02T12:41:36.408Z"
   },
   {
    "duration": 171003,
    "start_time": "2023-10-02T12:41:36.430Z"
   },
   {
    "duration": 5,
    "start_time": "2023-10-02T12:44:27.435Z"
   },
   {
    "duration": 21,
    "start_time": "2023-10-02T12:44:27.454Z"
   },
   {
    "duration": 133,
    "start_time": "2023-10-02T12:44:27.477Z"
   },
   {
    "duration": 0,
    "start_time": "2023-10-02T12:44:27.611Z"
   },
   {
    "duration": 0,
    "start_time": "2023-10-02T12:44:27.613Z"
   },
   {
    "duration": 0,
    "start_time": "2023-10-02T12:44:27.614Z"
   },
   {
    "duration": 0,
    "start_time": "2023-10-02T12:44:27.615Z"
   },
   {
    "duration": 0,
    "start_time": "2023-10-02T12:44:27.616Z"
   },
   {
    "duration": 0,
    "start_time": "2023-10-02T12:44:27.616Z"
   },
   {
    "duration": 0,
    "start_time": "2023-10-02T12:44:27.618Z"
   },
   {
    "duration": 0,
    "start_time": "2023-10-02T12:44:27.619Z"
   },
   {
    "duration": 0,
    "start_time": "2023-10-02T12:44:27.620Z"
   },
   {
    "duration": 0,
    "start_time": "2023-10-02T12:44:27.620Z"
   },
   {
    "duration": 0,
    "start_time": "2023-10-02T12:44:27.622Z"
   },
   {
    "duration": 0,
    "start_time": "2023-10-02T12:44:27.624Z"
   },
   {
    "duration": 0,
    "start_time": "2023-10-02T12:44:27.652Z"
   },
   {
    "duration": 0,
    "start_time": "2023-10-02T12:44:27.660Z"
   },
   {
    "duration": 3,
    "start_time": "2023-10-02T12:47:34.238Z"
   },
   {
    "duration": 4,
    "start_time": "2023-10-02T12:47:38.688Z"
   },
   {
    "duration": 260632,
    "start_time": "2023-10-02T12:47:39.417Z"
   },
   {
    "duration": 9,
    "start_time": "2023-10-02T12:52:00.052Z"
   },
   {
    "duration": 84,
    "start_time": "2023-10-02T12:52:00.063Z"
   },
   {
    "duration": 31,
    "start_time": "2023-10-02T12:52:00.149Z"
   },
   {
    "duration": 18,
    "start_time": "2023-10-02T12:52:00.184Z"
   },
   {
    "duration": 0,
    "start_time": "2023-10-02T13:07:54.168Z"
   },
   {
    "duration": 0,
    "start_time": "2023-10-02T13:07:54.169Z"
   },
   {
    "duration": 0,
    "start_time": "2023-10-02T13:07:54.170Z"
   },
   {
    "duration": 0,
    "start_time": "2023-10-02T13:07:54.171Z"
   },
   {
    "duration": 0,
    "start_time": "2023-10-02T13:07:54.172Z"
   },
   {
    "duration": 0,
    "start_time": "2023-10-02T13:07:54.173Z"
   },
   {
    "duration": 0,
    "start_time": "2023-10-02T13:07:54.174Z"
   },
   {
    "duration": 0,
    "start_time": "2023-10-02T13:07:54.175Z"
   },
   {
    "duration": 235980,
    "start_time": "2023-10-02T13:07:57.185Z"
   },
   {
    "duration": 6,
    "start_time": "2023-10-02T13:15:04.450Z"
   },
   {
    "duration": 4,
    "start_time": "2023-10-02T13:15:04.983Z"
   },
   {
    "duration": 3,
    "start_time": "2023-10-02T13:15:05.726Z"
   },
   {
    "duration": 8,
    "start_time": "2023-10-02T13:15:07.534Z"
   },
   {
    "duration": 74,
    "start_time": "2023-10-02T13:15:24.489Z"
   },
   {
    "duration": 5,
    "start_time": "2023-10-02T13:15:25.061Z"
   },
   {
    "duration": 18,
    "start_time": "2023-10-02T13:15:27.631Z"
   },
   {
    "duration": 69,
    "start_time": "2023-10-03T15:28:25.024Z"
   },
   {
    "duration": 62,
    "start_time": "2023-10-03T15:37:48.882Z"
   },
   {
    "duration": 18,
    "start_time": "2023-10-03T15:41:02.035Z"
   },
   {
    "duration": 3,
    "start_time": "2023-10-03T15:41:11.864Z"
   },
   {
    "duration": 103,
    "start_time": "2023-10-03T15:41:12.454Z"
   },
   {
    "duration": 9,
    "start_time": "2023-10-03T15:42:41.701Z"
   },
   {
    "duration": 2327,
    "start_time": "2023-10-03T15:42:56.495Z"
   },
   {
    "duration": 6,
    "start_time": "2023-10-03T15:42:58.824Z"
   },
   {
    "duration": 1186,
    "start_time": "2023-10-03T15:42:58.832Z"
   },
   {
    "duration": 14,
    "start_time": "2023-10-03T15:43:00.020Z"
   },
   {
    "duration": 223,
    "start_time": "2023-10-03T15:43:00.036Z"
   },
   {
    "duration": 555,
    "start_time": "2023-10-03T15:43:00.261Z"
   },
   {
    "duration": 455,
    "start_time": "2023-10-03T15:43:00.818Z"
   },
   {
    "duration": 103,
    "start_time": "2023-10-03T15:43:01.275Z"
   },
   {
    "duration": 148,
    "start_time": "2023-10-03T15:43:01.380Z"
   },
   {
    "duration": 48,
    "start_time": "2023-10-03T15:43:01.530Z"
   },
   {
    "duration": 148,
    "start_time": "2023-10-03T15:43:01.580Z"
   },
   {
    "duration": 620,
    "start_time": "2023-10-03T15:43:01.730Z"
   },
   {
    "duration": 517,
    "start_time": "2023-10-03T15:43:02.352Z"
   },
   {
    "duration": 395,
    "start_time": "2023-10-03T15:43:02.873Z"
   },
   {
    "duration": 496,
    "start_time": "2023-10-03T15:43:03.270Z"
   },
   {
    "duration": 1547,
    "start_time": "2023-10-03T15:43:03.768Z"
   },
   {
    "duration": 484,
    "start_time": "2023-10-03T15:43:05.316Z"
   },
   {
    "duration": 25,
    "start_time": "2023-10-03T15:43:05.802Z"
   },
   {
    "duration": 329,
    "start_time": "2023-10-03T15:43:05.829Z"
   },
   {
    "duration": 471,
    "start_time": "2023-10-03T15:43:06.160Z"
   },
   {
    "duration": 27,
    "start_time": "2023-10-03T15:43:06.633Z"
   },
   {
    "duration": 289,
    "start_time": "2023-10-03T15:43:06.662Z"
   },
   {
    "duration": 328,
    "start_time": "2023-10-03T15:43:06.952Z"
   },
   {
    "duration": 21,
    "start_time": "2023-10-03T15:43:07.282Z"
   },
   {
    "duration": 324,
    "start_time": "2023-10-03T15:43:07.304Z"
   },
   {
    "duration": 23,
    "start_time": "2023-10-03T15:43:07.630Z"
   },
   {
    "duration": 40,
    "start_time": "2023-10-03T15:43:07.655Z"
   },
   {
    "duration": 18,
    "start_time": "2023-10-03T15:43:07.697Z"
   },
   {
    "duration": 32,
    "start_time": "2023-10-03T15:43:07.716Z"
   },
   {
    "duration": 82,
    "start_time": "2023-10-03T15:43:07.749Z"
   },
   {
    "duration": 20,
    "start_time": "2023-10-03T15:43:07.833Z"
   },
   {
    "duration": 21,
    "start_time": "2023-10-03T15:43:07.855Z"
   },
   {
    "duration": 18,
    "start_time": "2023-10-03T15:43:07.878Z"
   },
   {
    "duration": 26,
    "start_time": "2023-10-03T15:43:07.898Z"
   },
   {
    "duration": 30,
    "start_time": "2023-10-03T15:43:07.925Z"
   },
   {
    "duration": 25,
    "start_time": "2023-10-03T15:43:07.957Z"
   },
   {
    "duration": 19,
    "start_time": "2023-10-03T15:43:07.984Z"
   },
   {
    "duration": 22,
    "start_time": "2023-10-03T15:43:08.005Z"
   },
   {
    "duration": 77,
    "start_time": "2023-10-03T15:43:08.028Z"
   },
   {
    "duration": 5,
    "start_time": "2023-10-03T15:43:08.107Z"
   },
   {
    "duration": 6,
    "start_time": "2023-10-03T15:43:08.115Z"
   },
   {
    "duration": 10,
    "start_time": "2023-10-03T15:43:08.122Z"
   },
   {
    "duration": 375,
    "start_time": "2023-10-03T15:43:08.143Z"
   },
   {
    "duration": 4069,
    "start_time": "2023-10-03T15:43:08.520Z"
   },
   {
    "duration": 69,
    "start_time": "2023-10-03T15:43:12.591Z"
   },
   {
    "duration": 2,
    "start_time": "2023-10-03T15:43:12.662Z"
   },
   {
    "duration": 78,
    "start_time": "2023-10-03T15:43:12.666Z"
   },
   {
    "duration": 537,
    "start_time": "2023-10-03T15:43:12.746Z"
   },
   {
    "duration": 152,
    "start_time": "2023-10-03T15:43:13.285Z"
   },
   {
    "duration": 204,
    "start_time": "2023-10-03T15:43:13.439Z"
   },
   {
    "duration": 4,
    "start_time": "2023-10-03T15:43:13.645Z"
   },
   {
    "duration": 9,
    "start_time": "2023-10-03T15:43:13.650Z"
   },
   {
    "duration": 85,
    "start_time": "2023-10-03T15:43:13.660Z"
   },
   {
    "duration": 3,
    "start_time": "2023-10-03T15:43:13.747Z"
   },
   {
    "duration": 149,
    "start_time": "2023-10-03T15:43:13.751Z"
   },
   {
    "duration": 10,
    "start_time": "2023-10-03T15:43:13.902Z"
   },
   {
    "duration": 13,
    "start_time": "2023-10-03T15:44:02.490Z"
   },
   {
    "duration": 27,
    "start_time": "2023-10-03T15:44:20.880Z"
   },
   {
    "duration": 3,
    "start_time": "2023-10-03T15:44:39.929Z"
   },
   {
    "duration": 2340,
    "start_time": "2023-10-03T15:45:28.793Z"
   },
   {
    "duration": 6,
    "start_time": "2023-10-03T15:45:31.136Z"
   },
   {
    "duration": 955,
    "start_time": "2023-10-03T15:45:31.143Z"
   },
   {
    "duration": 15,
    "start_time": "2023-10-03T15:45:32.101Z"
   },
   {
    "duration": 253,
    "start_time": "2023-10-03T15:45:32.117Z"
   },
   {
    "duration": 452,
    "start_time": "2023-10-03T15:45:32.372Z"
   },
   {
    "duration": 483,
    "start_time": "2023-10-03T15:45:32.826Z"
   },
   {
    "duration": 93,
    "start_time": "2023-10-03T15:45:33.310Z"
   },
   {
    "duration": 144,
    "start_time": "2023-10-03T15:45:33.404Z"
   },
   {
    "duration": 24,
    "start_time": "2023-10-03T15:45:33.550Z"
   },
   {
    "duration": 109,
    "start_time": "2023-10-03T15:45:33.576Z"
   },
   {
    "duration": 680,
    "start_time": "2023-10-03T15:45:33.687Z"
   },
   {
    "duration": 509,
    "start_time": "2023-10-03T15:45:34.369Z"
   },
   {
    "duration": 486,
    "start_time": "2023-10-03T15:45:34.881Z"
   },
   {
    "duration": 517,
    "start_time": "2023-10-03T15:45:35.369Z"
   },
   {
    "duration": 1554,
    "start_time": "2023-10-03T15:45:35.888Z"
   },
   {
    "duration": 492,
    "start_time": "2023-10-03T15:45:37.444Z"
   },
   {
    "duration": 23,
    "start_time": "2023-10-03T15:45:37.943Z"
   },
   {
    "duration": 352,
    "start_time": "2023-10-03T15:45:37.968Z"
   },
   {
    "duration": 379,
    "start_time": "2023-10-03T15:45:38.322Z"
   },
   {
    "duration": 20,
    "start_time": "2023-10-03T15:45:38.703Z"
   },
   {
    "duration": 307,
    "start_time": "2023-10-03T15:45:38.725Z"
   },
   {
    "duration": 374,
    "start_time": "2023-10-03T15:45:39.034Z"
   },
   {
    "duration": 21,
    "start_time": "2023-10-03T15:45:39.410Z"
   },
   {
    "duration": 357,
    "start_time": "2023-10-03T15:45:39.432Z"
   },
   {
    "duration": 15,
    "start_time": "2023-10-03T15:45:39.791Z"
   },
   {
    "duration": 60,
    "start_time": "2023-10-03T15:45:39.807Z"
   },
   {
    "duration": 62,
    "start_time": "2023-10-03T15:45:39.873Z"
   },
   {
    "duration": 36,
    "start_time": "2023-10-03T15:45:39.937Z"
   },
   {
    "duration": 75,
    "start_time": "2023-10-03T15:45:39.975Z"
   },
   {
    "duration": 22,
    "start_time": "2023-10-03T15:45:40.052Z"
   },
   {
    "duration": 37,
    "start_time": "2023-10-03T15:45:40.076Z"
   },
   {
    "duration": 37,
    "start_time": "2023-10-03T15:45:40.115Z"
   },
   {
    "duration": 42,
    "start_time": "2023-10-03T15:45:40.154Z"
   },
   {
    "duration": 25,
    "start_time": "2023-10-03T15:45:40.198Z"
   },
   {
    "duration": 55,
    "start_time": "2023-10-03T15:45:40.224Z"
   },
   {
    "duration": 56,
    "start_time": "2023-10-03T15:45:40.281Z"
   },
   {
    "duration": 32,
    "start_time": "2023-10-03T15:45:40.338Z"
   },
   {
    "duration": 76,
    "start_time": "2023-10-03T15:45:40.372Z"
   },
   {
    "duration": 8,
    "start_time": "2023-10-03T15:45:40.449Z"
   },
   {
    "duration": 21,
    "start_time": "2023-10-03T15:45:40.459Z"
   },
   {
    "duration": 15,
    "start_time": "2023-10-03T15:45:40.482Z"
   },
   {
    "duration": 430,
    "start_time": "2023-10-03T15:45:40.499Z"
   },
   {
    "duration": 4517,
    "start_time": "2023-10-03T15:45:40.931Z"
   },
   {
    "duration": 66,
    "start_time": "2023-10-03T15:45:45.450Z"
   },
   {
    "duration": 26,
    "start_time": "2023-10-03T15:45:45.518Z"
   },
   {
    "duration": 108,
    "start_time": "2023-10-03T15:45:45.546Z"
   },
   {
    "duration": 497,
    "start_time": "2023-10-03T15:45:45.655Z"
   },
   {
    "duration": 150,
    "start_time": "2023-10-03T15:45:46.154Z"
   },
   {
    "duration": 204,
    "start_time": "2023-10-03T15:45:46.306Z"
   },
   {
    "duration": 4,
    "start_time": "2023-10-03T15:45:46.511Z"
   },
   {
    "duration": 14,
    "start_time": "2023-10-03T15:45:46.517Z"
   },
   {
    "duration": 95,
    "start_time": "2023-10-03T15:45:46.532Z"
   },
   {
    "duration": 14,
    "start_time": "2023-10-03T15:45:46.629Z"
   },
   {
    "duration": 47,
    "start_time": "2023-10-03T15:45:46.645Z"
   },
   {
    "duration": 0,
    "start_time": "2023-10-03T15:45:46.694Z"
   },
   {
    "duration": 0,
    "start_time": "2023-10-03T15:45:46.695Z"
   },
   {
    "duration": 11,
    "start_time": "2023-10-03T15:47:06.528Z"
   },
   {
    "duration": 24,
    "start_time": "2023-10-03T15:48:07.371Z"
   },
   {
    "duration": 109,
    "start_time": "2023-10-03T15:48:57.101Z"
   },
   {
    "duration": 3,
    "start_time": "2023-10-03T15:48:59.002Z"
   },
   {
    "duration": 10,
    "start_time": "2023-10-03T15:48:59.773Z"
   },
   {
    "duration": 4,
    "start_time": "2023-10-03T15:49:16.411Z"
   },
   {
    "duration": 4,
    "start_time": "2023-10-03T15:49:34.372Z"
   },
   {
    "duration": 2423,
    "start_time": "2023-10-03T15:50:25.738Z"
   },
   {
    "duration": 6,
    "start_time": "2023-10-03T15:50:28.164Z"
   },
   {
    "duration": 859,
    "start_time": "2023-10-03T15:50:28.172Z"
   },
   {
    "duration": 19,
    "start_time": "2023-10-03T15:50:29.034Z"
   },
   {
    "duration": 150,
    "start_time": "2023-10-03T15:50:29.054Z"
   },
   {
    "duration": 412,
    "start_time": "2023-10-03T15:50:29.206Z"
   },
   {
    "duration": 445,
    "start_time": "2023-10-03T15:50:29.620Z"
   },
   {
    "duration": 99,
    "start_time": "2023-10-03T15:50:30.067Z"
   },
   {
    "duration": 136,
    "start_time": "2023-10-03T15:50:30.168Z"
   },
   {
    "duration": 75,
    "start_time": "2023-10-03T15:50:30.307Z"
   },
   {
    "duration": 116,
    "start_time": "2023-10-03T15:50:30.383Z"
   },
   {
    "duration": 507,
    "start_time": "2023-10-03T15:50:30.501Z"
   },
   {
    "duration": 435,
    "start_time": "2023-10-03T15:50:31.010Z"
   },
   {
    "duration": 383,
    "start_time": "2023-10-03T15:50:31.447Z"
   },
   {
    "duration": 482,
    "start_time": "2023-10-03T15:50:31.832Z"
   },
   {
    "duration": 1465,
    "start_time": "2023-10-03T15:50:32.315Z"
   },
   {
    "duration": 594,
    "start_time": "2023-10-03T15:50:33.783Z"
   },
   {
    "duration": 24,
    "start_time": "2023-10-03T15:50:34.379Z"
   },
   {
    "duration": 375,
    "start_time": "2023-10-03T15:50:34.406Z"
   },
   {
    "duration": 362,
    "start_time": "2023-10-03T15:50:34.783Z"
   },
   {
    "duration": 21,
    "start_time": "2023-10-03T15:50:35.148Z"
   },
   {
    "duration": 292,
    "start_time": "2023-10-03T15:50:35.171Z"
   },
   {
    "duration": 334,
    "start_time": "2023-10-03T15:50:35.465Z"
   },
   {
    "duration": 19,
    "start_time": "2023-10-03T15:50:35.800Z"
   },
   {
    "duration": 344,
    "start_time": "2023-10-03T15:50:35.820Z"
   },
   {
    "duration": 17,
    "start_time": "2023-10-03T15:50:36.166Z"
   },
   {
    "duration": 54,
    "start_time": "2023-10-03T15:50:36.184Z"
   },
   {
    "duration": 76,
    "start_time": "2023-10-03T15:50:36.242Z"
   },
   {
    "duration": 33,
    "start_time": "2023-10-03T15:50:36.319Z"
   },
   {
    "duration": 96,
    "start_time": "2023-10-03T15:50:36.354Z"
   },
   {
    "duration": 26,
    "start_time": "2023-10-03T15:50:36.452Z"
   },
   {
    "duration": 26,
    "start_time": "2023-10-03T15:50:36.480Z"
   },
   {
    "duration": 23,
    "start_time": "2023-10-03T15:50:36.507Z"
   },
   {
    "duration": 37,
    "start_time": "2023-10-03T15:50:36.532Z"
   },
   {
    "duration": 20,
    "start_time": "2023-10-03T15:50:36.571Z"
   },
   {
    "duration": 17,
    "start_time": "2023-10-03T15:50:36.592Z"
   },
   {
    "duration": 16,
    "start_time": "2023-10-03T15:50:36.610Z"
   },
   {
    "duration": 31,
    "start_time": "2023-10-03T15:50:36.627Z"
   },
   {
    "duration": 69,
    "start_time": "2023-10-03T15:50:36.659Z"
   },
   {
    "duration": 6,
    "start_time": "2023-10-03T15:50:36.730Z"
   },
   {
    "duration": 9,
    "start_time": "2023-10-03T15:50:36.738Z"
   },
   {
    "duration": 21,
    "start_time": "2023-10-03T15:50:36.748Z"
   },
   {
    "duration": 419,
    "start_time": "2023-10-03T15:50:36.770Z"
   },
   {
    "duration": 4142,
    "start_time": "2023-10-03T15:50:37.191Z"
   },
   {
    "duration": 66,
    "start_time": "2023-10-03T15:50:41.335Z"
   },
   {
    "duration": 8,
    "start_time": "2023-10-03T15:50:41.403Z"
   },
   {
    "duration": 77,
    "start_time": "2023-10-03T15:50:41.413Z"
   },
   {
    "duration": 515,
    "start_time": "2023-10-03T15:50:41.491Z"
   },
   {
    "duration": 144,
    "start_time": "2023-10-03T15:50:42.007Z"
   },
   {
    "duration": 206,
    "start_time": "2023-10-03T15:50:42.153Z"
   },
   {
    "duration": 4,
    "start_time": "2023-10-03T15:50:42.362Z"
   },
   {
    "duration": 30,
    "start_time": "2023-10-03T15:50:42.367Z"
   },
   {
    "duration": 49,
    "start_time": "2023-10-03T15:50:42.399Z"
   },
   {
    "duration": 80,
    "start_time": "2023-10-03T15:50:42.450Z"
   },
   {
    "duration": 29,
    "start_time": "2023-10-03T15:50:42.532Z"
   },
   {
    "duration": 182,
    "start_time": "2023-10-03T15:50:42.563Z"
   },
   {
    "duration": 5,
    "start_time": "2023-10-03T15:50:42.747Z"
   },
   {
    "duration": 28,
    "start_time": "2023-10-03T15:50:42.754Z"
   },
   {
    "duration": 31,
    "start_time": "2023-10-03T15:51:08.746Z"
   },
   {
    "duration": 2324,
    "start_time": "2023-10-03T16:50:12.613Z"
   },
   {
    "duration": 6,
    "start_time": "2023-10-03T16:50:14.940Z"
   },
   {
    "duration": 882,
    "start_time": "2023-10-03T16:50:14.948Z"
   },
   {
    "duration": 14,
    "start_time": "2023-10-03T16:50:15.833Z"
   },
   {
    "duration": 187,
    "start_time": "2023-10-03T16:50:15.849Z"
   },
   {
    "duration": 403,
    "start_time": "2023-10-03T16:50:16.038Z"
   },
   {
    "duration": 437,
    "start_time": "2023-10-03T16:50:16.442Z"
   },
   {
    "duration": 105,
    "start_time": "2023-10-03T16:50:16.881Z"
   },
   {
    "duration": 145,
    "start_time": "2023-10-03T16:50:16.989Z"
   },
   {
    "duration": 31,
    "start_time": "2023-10-03T16:50:17.143Z"
   },
   {
    "duration": 129,
    "start_time": "2023-10-03T16:50:17.176Z"
   },
   {
    "duration": 451,
    "start_time": "2023-10-03T16:50:17.307Z"
   },
   {
    "duration": 433,
    "start_time": "2023-10-03T16:50:17.760Z"
   },
   {
    "duration": 381,
    "start_time": "2023-10-03T16:50:18.195Z"
   },
   {
    "duration": 458,
    "start_time": "2023-10-03T16:50:18.577Z"
   },
   {
    "duration": 1529,
    "start_time": "2023-10-03T16:50:19.038Z"
   },
   {
    "duration": 456,
    "start_time": "2023-10-03T16:50:20.569Z"
   },
   {
    "duration": 35,
    "start_time": "2023-10-03T16:50:21.027Z"
   },
   {
    "duration": 321,
    "start_time": "2023-10-03T16:50:21.064Z"
   },
   {
    "duration": 346,
    "start_time": "2023-10-03T16:50:21.387Z"
   },
   {
    "duration": 26,
    "start_time": "2023-10-03T16:50:21.734Z"
   },
   {
    "duration": 285,
    "start_time": "2023-10-03T16:50:21.761Z"
   },
   {
    "duration": 333,
    "start_time": "2023-10-03T16:50:22.048Z"
   },
   {
    "duration": 21,
    "start_time": "2023-10-03T16:50:22.383Z"
   },
   {
    "duration": 340,
    "start_time": "2023-10-03T16:50:22.406Z"
   },
   {
    "duration": 16,
    "start_time": "2023-10-03T16:50:22.749Z"
   },
   {
    "duration": 20,
    "start_time": "2023-10-03T16:50:22.767Z"
   },
   {
    "duration": 14,
    "start_time": "2023-10-03T16:50:22.792Z"
   },
   {
    "duration": 13,
    "start_time": "2023-10-03T16:50:22.808Z"
   },
   {
    "duration": 63,
    "start_time": "2023-10-03T16:50:22.845Z"
   },
   {
    "duration": 15,
    "start_time": "2023-10-03T16:50:22.909Z"
   },
   {
    "duration": 30,
    "start_time": "2023-10-03T16:50:22.926Z"
   },
   {
    "duration": 19,
    "start_time": "2023-10-03T16:50:22.958Z"
   },
   {
    "duration": 18,
    "start_time": "2023-10-03T16:50:22.979Z"
   },
   {
    "duration": 19,
    "start_time": "2023-10-03T16:50:22.999Z"
   },
   {
    "duration": 37,
    "start_time": "2023-10-03T16:50:23.019Z"
   },
   {
    "duration": 17,
    "start_time": "2023-10-03T16:50:23.058Z"
   },
   {
    "duration": 22,
    "start_time": "2023-10-03T16:50:23.077Z"
   },
   {
    "duration": 68,
    "start_time": "2023-10-03T16:50:23.100Z"
   },
   {
    "duration": 5,
    "start_time": "2023-10-03T16:50:23.170Z"
   },
   {
    "duration": 14,
    "start_time": "2023-10-03T16:50:23.177Z"
   },
   {
    "duration": 7,
    "start_time": "2023-10-03T16:50:23.192Z"
   },
   {
    "duration": 417,
    "start_time": "2023-10-03T16:50:23.201Z"
   },
   {
    "duration": 4244,
    "start_time": "2023-10-03T16:50:23.620Z"
   },
   {
    "duration": 80,
    "start_time": "2023-10-03T16:50:27.866Z"
   },
   {
    "duration": 3,
    "start_time": "2023-10-03T16:50:27.948Z"
   },
   {
    "duration": 75,
    "start_time": "2023-10-03T16:50:27.953Z"
   },
   {
    "duration": 515,
    "start_time": "2023-10-03T16:50:28.030Z"
   },
   {
    "duration": 153,
    "start_time": "2023-10-03T16:50:28.547Z"
   },
   {
    "duration": 213,
    "start_time": "2023-10-03T16:50:28.703Z"
   },
   {
    "duration": 4,
    "start_time": "2023-10-03T16:50:28.917Z"
   },
   {
    "duration": 11,
    "start_time": "2023-10-03T16:50:28.923Z"
   },
   {
    "duration": 87,
    "start_time": "2023-10-03T16:50:28.936Z"
   },
   {
    "duration": 7,
    "start_time": "2023-10-03T16:50:29.025Z"
   },
   {
    "duration": 131,
    "start_time": "2023-10-03T16:50:29.033Z"
   },
   {
    "duration": 4,
    "start_time": "2023-10-03T16:50:29.166Z"
   },
   {
    "duration": 23,
    "start_time": "2023-10-03T16:50:29.172Z"
   },
   {
    "duration": 39,
    "start_time": "2023-10-03T16:50:29.197Z"
   },
   {
    "duration": 5,
    "start_time": "2023-10-03T16:50:29.237Z"
   },
   {
    "duration": 7,
    "start_time": "2023-10-03T16:50:29.243Z"
   },
   {
    "duration": 6,
    "start_time": "2023-10-03T16:50:29.251Z"
   },
   {
    "duration": 150875,
    "start_time": "2023-10-03T16:50:29.258Z"
   },
   {
    "duration": 5,
    "start_time": "2023-10-03T16:53:00.135Z"
   },
   {
    "duration": 3,
    "start_time": "2023-10-03T16:56:17.856Z"
   },
   {
    "duration": 3,
    "start_time": "2023-10-03T16:57:51.217Z"
   },
   {
    "duration": 0,
    "start_time": "2023-10-03T16:59:06.689Z"
   },
   {
    "duration": 0,
    "start_time": "2023-10-03T16:59:06.690Z"
   },
   {
    "duration": 3,
    "start_time": "2023-10-03T16:59:07.990Z"
   },
   {
    "duration": 2364,
    "start_time": "2023-10-03T17:02:02.779Z"
   },
   {
    "duration": 1615,
    "start_time": "2023-10-03T17:02:05.145Z"
   },
   {
    "duration": 928,
    "start_time": "2023-10-03T17:02:06.762Z"
   },
   {
    "duration": 17,
    "start_time": "2023-10-03T17:02:07.692Z"
   },
   {
    "duration": 182,
    "start_time": "2023-10-03T17:02:07.711Z"
   },
   {
    "duration": 494,
    "start_time": "2023-10-03T17:02:07.895Z"
   },
   {
    "duration": 487,
    "start_time": "2023-10-03T17:02:08.390Z"
   },
   {
    "duration": 96,
    "start_time": "2023-10-03T17:02:08.879Z"
   },
   {
    "duration": 146,
    "start_time": "2023-10-03T17:02:08.977Z"
   },
   {
    "duration": 51,
    "start_time": "2023-10-03T17:02:09.126Z"
   },
   {
    "duration": 126,
    "start_time": "2023-10-03T17:02:09.179Z"
   },
   {
    "duration": 502,
    "start_time": "2023-10-03T17:02:09.307Z"
   },
   {
    "duration": 443,
    "start_time": "2023-10-03T17:02:09.811Z"
   },
   {
    "duration": 457,
    "start_time": "2023-10-03T17:02:10.256Z"
   },
   {
    "duration": 488,
    "start_time": "2023-10-03T17:02:10.714Z"
   },
   {
    "duration": 1465,
    "start_time": "2023-10-03T17:02:11.203Z"
   },
   {
    "duration": 489,
    "start_time": "2023-10-03T17:02:12.670Z"
   },
   {
    "duration": 27,
    "start_time": "2023-10-03T17:02:13.161Z"
   },
   {
    "duration": 335,
    "start_time": "2023-10-03T17:02:13.190Z"
   },
   {
    "duration": 391,
    "start_time": "2023-10-03T17:02:13.527Z"
   },
   {
    "duration": 26,
    "start_time": "2023-10-03T17:02:13.920Z"
   },
   {
    "duration": 306,
    "start_time": "2023-10-03T17:02:13.948Z"
   },
   {
    "duration": 426,
    "start_time": "2023-10-03T17:02:14.256Z"
   },
   {
    "duration": 20,
    "start_time": "2023-10-03T17:02:14.684Z"
   },
   {
    "duration": 348,
    "start_time": "2023-10-03T17:02:14.706Z"
   },
   {
    "duration": 16,
    "start_time": "2023-10-03T17:02:15.055Z"
   },
   {
    "duration": 89,
    "start_time": "2023-10-03T17:02:15.073Z"
   },
   {
    "duration": 40,
    "start_time": "2023-10-03T17:02:15.166Z"
   },
   {
    "duration": 24,
    "start_time": "2023-10-03T17:02:15.208Z"
   },
   {
    "duration": 68,
    "start_time": "2023-10-03T17:02:15.233Z"
   },
   {
    "duration": 14,
    "start_time": "2023-10-03T17:02:15.303Z"
   },
   {
    "duration": 44,
    "start_time": "2023-10-03T17:02:15.319Z"
   },
   {
    "duration": 26,
    "start_time": "2023-10-03T17:02:15.364Z"
   },
   {
    "duration": 39,
    "start_time": "2023-10-03T17:02:15.391Z"
   },
   {
    "duration": 37,
    "start_time": "2023-10-03T17:02:15.432Z"
   },
   {
    "duration": 25,
    "start_time": "2023-10-03T17:02:15.470Z"
   },
   {
    "duration": 49,
    "start_time": "2023-10-03T17:02:15.496Z"
   },
   {
    "duration": 19,
    "start_time": "2023-10-03T17:02:15.547Z"
   },
   {
    "duration": 79,
    "start_time": "2023-10-03T17:02:15.568Z"
   },
   {
    "duration": 38,
    "start_time": "2023-10-03T17:02:15.649Z"
   },
   {
    "duration": 52,
    "start_time": "2023-10-03T17:02:15.689Z"
   },
   {
    "duration": 17,
    "start_time": "2023-10-03T17:02:15.743Z"
   },
   {
    "duration": 352,
    "start_time": "2023-10-03T17:02:15.762Z"
   },
   {
    "duration": 4175,
    "start_time": "2023-10-03T17:02:16.116Z"
   },
   {
    "duration": 64,
    "start_time": "2023-10-03T17:02:20.293Z"
   },
   {
    "duration": 19,
    "start_time": "2023-10-03T17:02:20.359Z"
   },
   {
    "duration": 94,
    "start_time": "2023-10-03T17:02:20.380Z"
   },
   {
    "duration": 573,
    "start_time": "2023-10-03T17:02:20.475Z"
   },
   {
    "duration": 150,
    "start_time": "2023-10-03T17:02:21.050Z"
   },
   {
    "duration": 204,
    "start_time": "2023-10-03T17:02:21.202Z"
   },
   {
    "duration": 4,
    "start_time": "2023-10-03T17:02:21.408Z"
   },
   {
    "duration": 20,
    "start_time": "2023-10-03T17:02:21.413Z"
   },
   {
    "duration": 95,
    "start_time": "2023-10-03T17:02:21.435Z"
   },
   {
    "duration": 5,
    "start_time": "2023-10-03T17:02:21.531Z"
   },
   {
    "duration": 149,
    "start_time": "2023-10-03T17:02:21.537Z"
   },
   {
    "duration": 3,
    "start_time": "2023-10-03T17:02:21.688Z"
   },
   {
    "duration": 79,
    "start_time": "2023-10-03T17:02:21.693Z"
   },
   {
    "duration": 101,
    "start_time": "2023-10-03T17:02:21.774Z"
   },
   {
    "duration": 9,
    "start_time": "2023-10-03T17:02:21.876Z"
   },
   {
    "duration": 149,
    "start_time": "2023-10-03T17:08:44.489Z"
   },
   {
    "duration": 12,
    "start_time": "2023-10-03T17:13:26.255Z"
   },
   {
    "duration": 12,
    "start_time": "2023-10-03T17:14:56.045Z"
   },
   {
    "duration": 15,
    "start_time": "2023-10-03T17:15:13.825Z"
   },
   {
    "duration": 13,
    "start_time": "2023-10-03T17:15:34.214Z"
   },
   {
    "duration": 12,
    "start_time": "2023-10-03T17:15:46.488Z"
   },
   {
    "duration": 13,
    "start_time": "2023-10-03T17:16:05.350Z"
   },
   {
    "duration": 19,
    "start_time": "2023-10-03T17:16:32.428Z"
   },
   {
    "duration": 12,
    "start_time": "2023-10-03T17:16:40.329Z"
   },
   {
    "duration": 12,
    "start_time": "2023-10-03T17:16:49.691Z"
   },
   {
    "duration": 12,
    "start_time": "2023-10-03T17:17:04.797Z"
   },
   {
    "duration": 15,
    "start_time": "2023-10-03T17:17:10.817Z"
   },
   {
    "duration": 11,
    "start_time": "2023-10-03T17:17:58.350Z"
   },
   {
    "duration": 12,
    "start_time": "2023-10-03T17:18:51.379Z"
   },
   {
    "duration": 85,
    "start_time": "2023-10-03T17:20:24.144Z"
   },
   {
    "duration": 11,
    "start_time": "2023-10-03T17:23:53.154Z"
   },
   {
    "duration": 11,
    "start_time": "2023-10-03T17:24:08.899Z"
   },
   {
    "duration": 12,
    "start_time": "2023-10-03T17:24:21.558Z"
   },
   {
    "duration": 14,
    "start_time": "2023-10-03T17:24:37.178Z"
   },
   {
    "duration": 12,
    "start_time": "2023-10-03T17:25:35.124Z"
   },
   {
    "duration": 113,
    "start_time": "2023-10-03T17:28:18.281Z"
   },
   {
    "duration": 109,
    "start_time": "2023-10-03T17:29:15.344Z"
   },
   {
    "duration": 89,
    "start_time": "2023-10-03T17:29:21.086Z"
   },
   {
    "duration": 104,
    "start_time": "2023-10-03T17:29:29.721Z"
   },
   {
    "duration": 105,
    "start_time": "2023-10-03T17:29:43.359Z"
   },
   {
    "duration": 86,
    "start_time": "2023-10-03T17:29:47.329Z"
   },
   {
    "duration": 89,
    "start_time": "2023-10-03T17:29:50.734Z"
   },
   {
    "duration": 132,
    "start_time": "2023-10-03T17:29:53.752Z"
   },
   {
    "duration": 119,
    "start_time": "2023-10-03T17:30:04.516Z"
   },
   {
    "duration": 106,
    "start_time": "2023-10-03T17:30:30.328Z"
   },
   {
    "duration": 104,
    "start_time": "2023-10-03T17:31:11.141Z"
   },
   {
    "duration": 158,
    "start_time": "2023-10-03T17:31:19.242Z"
   },
   {
    "duration": 90,
    "start_time": "2023-10-03T17:31:48.882Z"
   },
   {
    "duration": 82,
    "start_time": "2023-10-03T17:31:55.207Z"
   },
   {
    "duration": 80,
    "start_time": "2023-10-03T17:31:59.479Z"
   },
   {
    "duration": 80,
    "start_time": "2023-10-03T17:32:03.879Z"
   },
   {
    "duration": 98,
    "start_time": "2023-10-03T17:32:06.772Z"
   },
   {
    "duration": 163,
    "start_time": "2023-10-03T17:32:09.363Z"
   },
   {
    "duration": 151,
    "start_time": "2023-10-03T17:32:14.917Z"
   },
   {
    "duration": 79,
    "start_time": "2023-10-03T17:32:20.760Z"
   },
   {
    "duration": 77,
    "start_time": "2023-10-03T17:32:23.713Z"
   },
   {
    "duration": 85,
    "start_time": "2023-10-03T17:32:27.102Z"
   },
   {
    "duration": 95,
    "start_time": "2023-10-03T17:32:30.174Z"
   },
   {
    "duration": 82,
    "start_time": "2023-10-03T17:33:39.996Z"
   },
   {
    "duration": 83,
    "start_time": "2023-10-03T17:33:48.276Z"
   },
   {
    "duration": 80,
    "start_time": "2023-10-03T17:33:58.460Z"
   },
   {
    "duration": 112,
    "start_time": "2023-10-03T17:34:09.986Z"
   },
   {
    "duration": 12,
    "start_time": "2023-10-03T17:35:31.561Z"
   },
   {
    "duration": 25,
    "start_time": "2023-10-03T17:37:21.395Z"
   },
   {
    "duration": 16,
    "start_time": "2023-10-03T17:37:29.309Z"
   },
   {
    "duration": 6,
    "start_time": "2023-10-03T17:38:10.756Z"
   },
   {
    "duration": 39,
    "start_time": "2023-10-03T17:38:15.989Z"
   },
   {
    "duration": 28,
    "start_time": "2023-10-03T17:39:06.770Z"
   },
   {
    "duration": 10,
    "start_time": "2023-10-03T17:40:22.841Z"
   },
   {
    "duration": 23,
    "start_time": "2023-10-03T17:40:43.249Z"
   },
   {
    "duration": 25,
    "start_time": "2023-10-03T17:41:11.349Z"
   },
   {
    "duration": 7,
    "start_time": "2023-10-03T17:42:20.561Z"
   },
   {
    "duration": 24,
    "start_time": "2023-10-03T17:42:23.234Z"
   },
   {
    "duration": 6,
    "start_time": "2023-10-03T17:43:15.755Z"
   },
   {
    "duration": 23,
    "start_time": "2023-10-03T17:43:18.506Z"
   },
   {
    "duration": 5,
    "start_time": "2023-10-03T17:45:11.648Z"
   },
   {
    "duration": 29,
    "start_time": "2023-10-03T17:45:16.608Z"
   },
   {
    "duration": 10,
    "start_time": "2023-10-03T17:46:02.821Z"
   },
   {
    "duration": 4,
    "start_time": "2023-10-03T17:49:41.543Z"
   },
   {
    "duration": 92,
    "start_time": "2023-10-03T17:50:56.477Z"
   },
   {
    "duration": 3,
    "start_time": "2023-10-03T17:51:06.726Z"
   },
   {
    "duration": 2570,
    "start_time": "2023-10-03T18:13:31.903Z"
   },
   {
    "duration": 1468,
    "start_time": "2023-10-03T18:13:34.477Z"
   },
   {
    "duration": 928,
    "start_time": "2023-10-03T18:13:35.947Z"
   },
   {
    "duration": 20,
    "start_time": "2023-10-03T18:13:36.877Z"
   },
   {
    "duration": 173,
    "start_time": "2023-10-03T18:13:36.899Z"
   },
   {
    "duration": 498,
    "start_time": "2023-10-03T18:13:37.074Z"
   },
   {
    "duration": 523,
    "start_time": "2023-10-03T18:13:37.574Z"
   },
   {
    "duration": 102,
    "start_time": "2023-10-03T18:13:38.099Z"
   },
   {
    "duration": 166,
    "start_time": "2023-10-03T18:13:38.202Z"
   },
   {
    "duration": 45,
    "start_time": "2023-10-03T18:13:38.371Z"
   },
   {
    "duration": 115,
    "start_time": "2023-10-03T18:13:38.417Z"
   },
   {
    "duration": 462,
    "start_time": "2023-10-03T18:13:38.534Z"
   },
   {
    "duration": 452,
    "start_time": "2023-10-03T18:13:38.998Z"
   },
   {
    "duration": 475,
    "start_time": "2023-10-03T18:13:39.452Z"
   },
   {
    "duration": 500,
    "start_time": "2023-10-03T18:13:39.928Z"
   },
   {
    "duration": 1515,
    "start_time": "2023-10-03T18:13:40.429Z"
   },
   {
    "duration": 489,
    "start_time": "2023-10-03T18:13:41.945Z"
   },
   {
    "duration": 33,
    "start_time": "2023-10-03T18:13:42.436Z"
   },
   {
    "duration": 327,
    "start_time": "2023-10-03T18:13:42.471Z"
   },
   {
    "duration": 353,
    "start_time": "2023-10-03T18:13:42.800Z"
   },
   {
    "duration": 21,
    "start_time": "2023-10-03T18:13:43.155Z"
   },
   {
    "duration": 301,
    "start_time": "2023-10-03T18:13:43.177Z"
   },
   {
    "duration": 364,
    "start_time": "2023-10-03T18:13:43.480Z"
   },
   {
    "duration": 20,
    "start_time": "2023-10-03T18:13:43.846Z"
   },
   {
    "duration": 326,
    "start_time": "2023-10-03T18:13:43.867Z"
   },
   {
    "duration": 15,
    "start_time": "2023-10-03T18:13:44.195Z"
   },
   {
    "duration": 45,
    "start_time": "2023-10-03T18:13:44.212Z"
   },
   {
    "duration": 24,
    "start_time": "2023-10-03T18:13:44.261Z"
   },
   {
    "duration": 77,
    "start_time": "2023-10-03T18:13:44.287Z"
   },
   {
    "duration": 102,
    "start_time": "2023-10-03T18:13:44.366Z"
   },
   {
    "duration": 27,
    "start_time": "2023-10-03T18:13:44.470Z"
   },
   {
    "duration": 40,
    "start_time": "2023-10-03T18:13:44.499Z"
   },
   {
    "duration": 33,
    "start_time": "2023-10-03T18:13:44.542Z"
   },
   {
    "duration": 40,
    "start_time": "2023-10-03T18:13:44.578Z"
   },
   {
    "duration": 41,
    "start_time": "2023-10-03T18:13:44.621Z"
   },
   {
    "duration": 32,
    "start_time": "2023-10-03T18:13:44.664Z"
   },
   {
    "duration": 23,
    "start_time": "2023-10-03T18:13:44.698Z"
   },
   {
    "duration": 35,
    "start_time": "2023-10-03T18:13:44.723Z"
   },
   {
    "duration": 69,
    "start_time": "2023-10-03T18:13:44.760Z"
   },
   {
    "duration": 27,
    "start_time": "2023-10-03T18:13:44.831Z"
   },
   {
    "duration": 30,
    "start_time": "2023-10-03T18:13:44.859Z"
   },
   {
    "duration": 48,
    "start_time": "2023-10-03T18:13:44.891Z"
   },
   {
    "duration": 347,
    "start_time": "2023-10-03T18:13:44.941Z"
   },
   {
    "duration": 4231,
    "start_time": "2023-10-03T18:13:45.289Z"
   },
   {
    "duration": 67,
    "start_time": "2023-10-03T18:13:49.522Z"
   },
   {
    "duration": 140,
    "start_time": "2023-10-03T18:13:49.591Z"
   },
   {
    "duration": 161,
    "start_time": "2023-10-03T18:13:49.734Z"
   },
   {
    "duration": 548,
    "start_time": "2023-10-03T18:13:49.897Z"
   },
   {
    "duration": 147,
    "start_time": "2023-10-03T18:13:50.447Z"
   },
   {
    "duration": 214,
    "start_time": "2023-10-03T18:13:50.595Z"
   },
   {
    "duration": 5,
    "start_time": "2023-10-03T18:13:50.811Z"
   },
   {
    "duration": 23,
    "start_time": "2023-10-03T18:13:50.817Z"
   },
   {
    "duration": 82,
    "start_time": "2023-10-03T18:13:50.841Z"
   },
   {
    "duration": 12,
    "start_time": "2023-10-03T18:13:50.924Z"
   },
   {
    "duration": 146,
    "start_time": "2023-10-03T18:13:50.938Z"
   },
   {
    "duration": 4,
    "start_time": "2023-10-03T18:13:51.085Z"
   },
   {
    "duration": 34,
    "start_time": "2023-10-03T18:13:51.091Z"
   },
   {
    "duration": 52,
    "start_time": "2023-10-03T18:13:51.127Z"
   },
   {
    "duration": 12,
    "start_time": "2023-10-03T18:13:51.180Z"
   },
   {
    "duration": 65,
    "start_time": "2023-10-03T18:13:51.194Z"
   },
   {
    "duration": 45,
    "start_time": "2023-10-03T18:13:51.261Z"
   },
   {
    "duration": 2220,
    "start_time": "2023-10-03T18:21:29.477Z"
   },
   {
    "duration": 1476,
    "start_time": "2023-10-03T18:21:31.700Z"
   },
   {
    "duration": 1008,
    "start_time": "2023-10-03T18:21:33.177Z"
   },
   {
    "duration": 73,
    "start_time": "2023-10-03T18:21:34.188Z"
   },
   {
    "duration": 214,
    "start_time": "2023-10-03T18:21:34.262Z"
   },
   {
    "duration": 529,
    "start_time": "2023-10-03T18:21:34.478Z"
   },
   {
    "duration": 519,
    "start_time": "2023-10-03T18:21:35.008Z"
   },
   {
    "duration": 96,
    "start_time": "2023-10-03T18:21:35.529Z"
   },
   {
    "duration": 149,
    "start_time": "2023-10-03T18:21:35.626Z"
   },
   {
    "duration": 80,
    "start_time": "2023-10-03T18:21:35.777Z"
   },
   {
    "duration": 134,
    "start_time": "2023-10-03T18:21:35.859Z"
   },
   {
    "duration": 510,
    "start_time": "2023-10-03T18:21:35.996Z"
   },
   {
    "duration": 464,
    "start_time": "2023-10-03T18:21:36.508Z"
   },
   {
    "duration": 456,
    "start_time": "2023-10-03T18:21:36.974Z"
   },
   {
    "duration": 509,
    "start_time": "2023-10-03T18:21:37.432Z"
   },
   {
    "duration": 1565,
    "start_time": "2023-10-03T18:21:37.944Z"
   },
   {
    "duration": 480,
    "start_time": "2023-10-03T18:21:39.511Z"
   },
   {
    "duration": 28,
    "start_time": "2023-10-03T18:21:39.993Z"
   },
   {
    "duration": 322,
    "start_time": "2023-10-03T18:21:40.023Z"
   },
   {
    "duration": 371,
    "start_time": "2023-10-03T18:21:40.347Z"
   },
   {
    "duration": 26,
    "start_time": "2023-10-03T18:21:40.720Z"
   },
   {
    "duration": 306,
    "start_time": "2023-10-03T18:21:40.748Z"
   },
   {
    "duration": 349,
    "start_time": "2023-10-03T18:21:41.056Z"
   },
   {
    "duration": 19,
    "start_time": "2023-10-03T18:21:41.407Z"
   },
   {
    "duration": 352,
    "start_time": "2023-10-03T18:21:41.428Z"
   },
   {
    "duration": 16,
    "start_time": "2023-10-03T18:21:41.781Z"
   },
   {
    "duration": 34,
    "start_time": "2023-10-03T18:21:41.799Z"
   },
   {
    "duration": 40,
    "start_time": "2023-10-03T18:21:41.837Z"
   },
   {
    "duration": 8,
    "start_time": "2023-10-03T18:21:41.879Z"
   },
   {
    "duration": 68,
    "start_time": "2023-10-03T18:21:41.889Z"
   },
   {
    "duration": 25,
    "start_time": "2023-10-03T18:21:41.958Z"
   },
   {
    "duration": 37,
    "start_time": "2023-10-03T18:21:41.985Z"
   },
   {
    "duration": 35,
    "start_time": "2023-10-03T18:21:42.024Z"
   },
   {
    "duration": 34,
    "start_time": "2023-10-03T18:21:42.060Z"
   },
   {
    "duration": 19,
    "start_time": "2023-10-03T18:21:42.096Z"
   },
   {
    "duration": 49,
    "start_time": "2023-10-03T18:21:42.117Z"
   },
   {
    "duration": 25,
    "start_time": "2023-10-03T18:21:42.168Z"
   },
   {
    "duration": 25,
    "start_time": "2023-10-03T18:21:42.195Z"
   },
   {
    "duration": 71,
    "start_time": "2023-10-03T18:21:42.222Z"
   },
   {
    "duration": 16,
    "start_time": "2023-10-03T18:21:42.295Z"
   },
   {
    "duration": 19,
    "start_time": "2023-10-03T18:21:42.313Z"
   },
   {
    "duration": 20,
    "start_time": "2023-10-03T18:21:42.334Z"
   },
   {
    "duration": 359,
    "start_time": "2023-10-03T18:21:42.355Z"
   },
   {
    "duration": 4499,
    "start_time": "2023-10-03T18:21:42.716Z"
   },
   {
    "duration": 73,
    "start_time": "2023-10-03T18:21:47.217Z"
   },
   {
    "duration": 8,
    "start_time": "2023-10-03T18:21:47.292Z"
   },
   {
    "duration": 75,
    "start_time": "2023-10-03T18:21:47.302Z"
   },
   {
    "duration": 528,
    "start_time": "2023-10-03T18:21:47.379Z"
   },
   {
    "duration": 151,
    "start_time": "2023-10-03T18:21:47.909Z"
   },
   {
    "duration": 209,
    "start_time": "2023-10-03T18:21:48.062Z"
   },
   {
    "duration": 4,
    "start_time": "2023-10-03T18:21:48.273Z"
   },
   {
    "duration": 7,
    "start_time": "2023-10-03T18:21:48.278Z"
   },
   {
    "duration": 84,
    "start_time": "2023-10-03T18:21:48.286Z"
   },
   {
    "duration": 29,
    "start_time": "2023-10-03T18:21:48.371Z"
   },
   {
    "duration": 122,
    "start_time": "2023-10-03T18:21:48.402Z"
   },
   {
    "duration": 3,
    "start_time": "2023-10-03T18:21:48.526Z"
   },
   {
    "duration": 8,
    "start_time": "2023-10-03T18:21:48.531Z"
   },
   {
    "duration": 35,
    "start_time": "2023-10-03T18:21:48.543Z"
   },
   {
    "duration": 4,
    "start_time": "2023-10-03T18:21:48.580Z"
   },
   {
    "duration": 3,
    "start_time": "2023-10-03T18:22:15.081Z"
   },
   {
    "duration": 2,
    "start_time": "2023-10-03T18:22:16.949Z"
   },
   {
    "duration": 2462,
    "start_time": "2023-10-03T18:30:30.152Z"
   },
   {
    "duration": 1506,
    "start_time": "2023-10-03T18:30:32.616Z"
   },
   {
    "duration": 1077,
    "start_time": "2023-10-03T18:30:34.124Z"
   },
   {
    "duration": 19,
    "start_time": "2023-10-03T18:30:35.203Z"
   },
   {
    "duration": 172,
    "start_time": "2023-10-03T18:30:35.224Z"
   },
   {
    "duration": 488,
    "start_time": "2023-10-03T18:30:35.398Z"
   },
   {
    "duration": 536,
    "start_time": "2023-10-03T18:30:35.887Z"
   },
   {
    "duration": 95,
    "start_time": "2023-10-03T18:30:36.424Z"
   },
   {
    "duration": 142,
    "start_time": "2023-10-03T18:30:36.521Z"
   },
   {
    "duration": 38,
    "start_time": "2023-10-03T18:30:36.665Z"
   },
   {
    "duration": 97,
    "start_time": "2023-10-03T18:30:36.704Z"
   },
   {
    "duration": 514,
    "start_time": "2023-10-03T18:30:36.803Z"
   },
   {
    "duration": 445,
    "start_time": "2023-10-03T18:30:37.318Z"
   },
   {
    "duration": 448,
    "start_time": "2023-10-03T18:30:37.765Z"
   },
   {
    "duration": 473,
    "start_time": "2023-10-03T18:30:38.215Z"
   },
   {
    "duration": 1414,
    "start_time": "2023-10-03T18:30:38.689Z"
   },
   {
    "duration": 473,
    "start_time": "2023-10-03T18:30:40.104Z"
   },
   {
    "duration": 28,
    "start_time": "2023-10-03T18:30:40.579Z"
   },
   {
    "duration": 326,
    "start_time": "2023-10-03T18:30:40.609Z"
   },
   {
    "duration": 366,
    "start_time": "2023-10-03T18:30:40.937Z"
   },
   {
    "duration": 28,
    "start_time": "2023-10-03T18:30:41.305Z"
   },
   {
    "duration": 308,
    "start_time": "2023-10-03T18:30:41.335Z"
   },
   {
    "duration": 322,
    "start_time": "2023-10-03T18:30:41.645Z"
   },
   {
    "duration": 19,
    "start_time": "2023-10-03T18:30:41.969Z"
   },
   {
    "duration": 338,
    "start_time": "2023-10-03T18:30:41.990Z"
   },
   {
    "duration": 20,
    "start_time": "2023-10-03T18:30:42.330Z"
   },
   {
    "duration": 34,
    "start_time": "2023-10-03T18:30:42.351Z"
   },
   {
    "duration": 23,
    "start_time": "2023-10-03T18:30:42.389Z"
   },
   {
    "duration": 31,
    "start_time": "2023-10-03T18:30:42.414Z"
   },
   {
    "duration": 61,
    "start_time": "2023-10-03T18:30:42.447Z"
   },
   {
    "duration": 45,
    "start_time": "2023-10-03T18:30:42.510Z"
   },
   {
    "duration": 53,
    "start_time": "2023-10-03T18:30:42.556Z"
   },
   {
    "duration": 56,
    "start_time": "2023-10-03T18:30:42.611Z"
   },
   {
    "duration": 32,
    "start_time": "2023-10-03T18:30:42.668Z"
   },
   {
    "duration": 21,
    "start_time": "2023-10-03T18:30:42.702Z"
   },
   {
    "duration": 31,
    "start_time": "2023-10-03T18:30:42.725Z"
   },
   {
    "duration": 43,
    "start_time": "2023-10-03T18:30:42.758Z"
   },
   {
    "duration": 31,
    "start_time": "2023-10-03T18:30:42.803Z"
   },
   {
    "duration": 73,
    "start_time": "2023-10-03T18:30:42.836Z"
   },
   {
    "duration": 19,
    "start_time": "2023-10-03T18:30:42.910Z"
   },
   {
    "duration": 45,
    "start_time": "2023-10-03T18:30:42.931Z"
   },
   {
    "duration": 13,
    "start_time": "2023-10-03T18:30:42.978Z"
   },
   {
    "duration": 374,
    "start_time": "2023-10-03T18:30:42.993Z"
   },
   {
    "duration": 4261,
    "start_time": "2023-10-03T18:30:43.369Z"
   },
   {
    "duration": 67,
    "start_time": "2023-10-03T18:30:47.632Z"
   },
   {
    "duration": 34,
    "start_time": "2023-10-03T18:30:47.701Z"
   },
   {
    "duration": 77,
    "start_time": "2023-10-03T18:30:47.737Z"
   },
   {
    "duration": 533,
    "start_time": "2023-10-03T18:30:47.815Z"
   },
   {
    "duration": 150,
    "start_time": "2023-10-03T18:30:48.350Z"
   },
   {
    "duration": 203,
    "start_time": "2023-10-03T18:30:48.501Z"
   },
   {
    "duration": 5,
    "start_time": "2023-10-03T18:30:48.705Z"
   },
   {
    "duration": 28,
    "start_time": "2023-10-03T18:30:48.712Z"
   },
   {
    "duration": 79,
    "start_time": "2023-10-03T18:30:48.742Z"
   },
   {
    "duration": 17,
    "start_time": "2023-10-03T18:30:48.823Z"
   },
   {
    "duration": 129,
    "start_time": "2023-10-03T18:30:48.841Z"
   },
   {
    "duration": 4,
    "start_time": "2023-10-03T18:30:48.972Z"
   },
   {
    "duration": 32,
    "start_time": "2023-10-03T18:30:48.978Z"
   },
   {
    "duration": 76,
    "start_time": "2023-10-03T18:30:49.012Z"
   },
   {
    "duration": 5,
    "start_time": "2023-10-03T18:30:49.090Z"
   },
   {
    "duration": 52,
    "start_time": "2023-10-03T18:30:49.097Z"
   },
   {
    "duration": 23,
    "start_time": "2023-10-03T18:30:49.151Z"
   },
   {
    "duration": 509748,
    "start_time": "2023-10-03T18:30:49.176Z"
   },
   {
    "duration": 0,
    "start_time": "2023-10-03T18:39:18.926Z"
   },
   {
    "duration": 0,
    "start_time": "2023-10-03T18:39:18.928Z"
   },
   {
    "duration": 4,
    "start_time": "2023-10-03T18:39:31.157Z"
   },
   {
    "duration": 2387,
    "start_time": "2023-10-03T18:49:29.496Z"
   },
   {
    "duration": 1505,
    "start_time": "2023-10-03T18:49:31.885Z"
   },
   {
    "duration": 994,
    "start_time": "2023-10-03T18:49:33.392Z"
   },
   {
    "duration": 23,
    "start_time": "2023-10-03T18:49:34.389Z"
   },
   {
    "duration": 216,
    "start_time": "2023-10-03T18:49:34.414Z"
   },
   {
    "duration": 514,
    "start_time": "2023-10-03T18:49:34.643Z"
   },
   {
    "duration": 536,
    "start_time": "2023-10-03T18:49:35.159Z"
   },
   {
    "duration": 97,
    "start_time": "2023-10-03T18:49:35.696Z"
   },
   {
    "duration": 158,
    "start_time": "2023-10-03T18:49:35.795Z"
   },
   {
    "duration": 36,
    "start_time": "2023-10-03T18:49:35.961Z"
   },
   {
    "duration": 107,
    "start_time": "2023-10-03T18:49:35.999Z"
   },
   {
    "duration": 528,
    "start_time": "2023-10-03T18:49:36.108Z"
   },
   {
    "duration": 484,
    "start_time": "2023-10-03T18:49:36.638Z"
   },
   {
    "duration": 475,
    "start_time": "2023-10-03T18:49:37.124Z"
   },
   {
    "duration": 507,
    "start_time": "2023-10-03T18:49:37.600Z"
   },
   {
    "duration": 1559,
    "start_time": "2023-10-03T18:49:38.109Z"
   },
   {
    "duration": 490,
    "start_time": "2023-10-03T18:49:39.670Z"
   },
   {
    "duration": 29,
    "start_time": "2023-10-03T18:49:40.162Z"
   },
   {
    "duration": 338,
    "start_time": "2023-10-03T18:49:40.193Z"
   },
   {
    "duration": 362,
    "start_time": "2023-10-03T18:49:40.533Z"
   },
   {
    "duration": 20,
    "start_time": "2023-10-03T18:49:40.896Z"
   },
   {
    "duration": 317,
    "start_time": "2023-10-03T18:49:40.918Z"
   },
   {
    "duration": 340,
    "start_time": "2023-10-03T18:49:41.237Z"
   },
   {
    "duration": 19,
    "start_time": "2023-10-03T18:49:41.579Z"
   },
   {
    "duration": 362,
    "start_time": "2023-10-03T18:49:41.600Z"
   },
   {
    "duration": 16,
    "start_time": "2023-10-03T18:49:41.963Z"
   },
   {
    "duration": 30,
    "start_time": "2023-10-03T18:49:41.980Z"
   },
   {
    "duration": 19,
    "start_time": "2023-10-03T18:49:42.014Z"
   },
   {
    "duration": 28,
    "start_time": "2023-10-03T18:49:42.034Z"
   },
   {
    "duration": 72,
    "start_time": "2023-10-03T18:49:42.064Z"
   },
   {
    "duration": 27,
    "start_time": "2023-10-03T18:49:42.137Z"
   },
   {
    "duration": 14,
    "start_time": "2023-10-03T18:49:42.165Z"
   },
   {
    "duration": 23,
    "start_time": "2023-10-03T18:49:42.181Z"
   },
   {
    "duration": 19,
    "start_time": "2023-10-03T18:49:42.206Z"
   },
   {
    "duration": 36,
    "start_time": "2023-10-03T18:49:42.227Z"
   },
   {
    "duration": 24,
    "start_time": "2023-10-03T18:49:42.265Z"
   },
   {
    "duration": 33,
    "start_time": "2023-10-03T18:49:42.290Z"
   },
   {
    "duration": 33,
    "start_time": "2023-10-03T18:49:42.325Z"
   },
   {
    "duration": 62,
    "start_time": "2023-10-03T18:49:42.360Z"
   },
   {
    "duration": 13,
    "start_time": "2023-10-03T18:49:42.424Z"
   },
   {
    "duration": 15,
    "start_time": "2023-10-03T18:49:42.439Z"
   },
   {
    "duration": 24,
    "start_time": "2023-10-03T18:49:42.456Z"
   },
   {
    "duration": 397,
    "start_time": "2023-10-03T18:49:42.481Z"
   },
   {
    "duration": 4619,
    "start_time": "2023-10-03T18:49:42.880Z"
   },
   {
    "duration": 72,
    "start_time": "2023-10-03T18:49:47.500Z"
   },
   {
    "duration": 2,
    "start_time": "2023-10-03T18:49:47.574Z"
   },
   {
    "duration": 91,
    "start_time": "2023-10-03T18:49:47.578Z"
   },
   {
    "duration": 523,
    "start_time": "2023-10-03T18:49:47.670Z"
   },
   {
    "duration": 148,
    "start_time": "2023-10-03T18:49:48.195Z"
   },
   {
    "duration": 213,
    "start_time": "2023-10-03T18:49:48.351Z"
   },
   {
    "duration": 3,
    "start_time": "2023-10-03T18:49:48.566Z"
   },
   {
    "duration": 17,
    "start_time": "2023-10-03T18:49:48.571Z"
   },
   {
    "duration": 82,
    "start_time": "2023-10-03T18:49:48.589Z"
   },
   {
    "duration": 3,
    "start_time": "2023-10-03T18:49:48.673Z"
   },
   {
    "duration": 132,
    "start_time": "2023-10-03T18:49:48.677Z"
   },
   {
    "duration": 3,
    "start_time": "2023-10-03T18:49:48.811Z"
   },
   {
    "duration": 23,
    "start_time": "2023-10-03T18:49:48.816Z"
   },
   {
    "duration": 55,
    "start_time": "2023-10-03T18:49:48.842Z"
   },
   {
    "duration": 5,
    "start_time": "2023-10-03T18:49:48.899Z"
   },
   {
    "duration": 29,
    "start_time": "2023-10-03T18:49:48.905Z"
   },
   {
    "duration": 24,
    "start_time": "2023-10-03T18:49:48.936Z"
   },
   {
    "duration": 2380,
    "start_time": "2023-10-03T18:50:06.734Z"
   },
   {
    "duration": 1498,
    "start_time": "2023-10-03T18:50:09.118Z"
   },
   {
    "duration": 934,
    "start_time": "2023-10-03T18:50:10.617Z"
   },
   {
    "duration": 18,
    "start_time": "2023-10-03T18:50:11.553Z"
   },
   {
    "duration": 159,
    "start_time": "2023-10-03T18:50:11.574Z"
   },
   {
    "duration": 501,
    "start_time": "2023-10-03T18:50:11.735Z"
   },
   {
    "duration": 549,
    "start_time": "2023-10-03T18:50:12.238Z"
   },
   {
    "duration": 103,
    "start_time": "2023-10-03T18:50:12.789Z"
   },
   {
    "duration": 152,
    "start_time": "2023-10-03T18:50:12.894Z"
   },
   {
    "duration": 47,
    "start_time": "2023-10-03T18:50:13.049Z"
   },
   {
    "duration": 110,
    "start_time": "2023-10-03T18:50:13.099Z"
   },
   {
    "duration": 520,
    "start_time": "2023-10-03T18:50:13.211Z"
   },
   {
    "duration": 498,
    "start_time": "2023-10-03T18:50:13.733Z"
   },
   {
    "duration": 535,
    "start_time": "2023-10-03T18:50:14.235Z"
   },
   {
    "duration": 493,
    "start_time": "2023-10-03T18:50:14.771Z"
   },
   {
    "duration": 1480,
    "start_time": "2023-10-03T18:50:15.266Z"
   },
   {
    "duration": 513,
    "start_time": "2023-10-03T18:50:16.748Z"
   },
   {
    "duration": 30,
    "start_time": "2023-10-03T18:50:17.263Z"
   },
   {
    "duration": 332,
    "start_time": "2023-10-03T18:50:17.294Z"
   },
   {
    "duration": 356,
    "start_time": "2023-10-03T18:50:17.628Z"
   },
   {
    "duration": 22,
    "start_time": "2023-10-03T18:50:17.985Z"
   },
   {
    "duration": 307,
    "start_time": "2023-10-03T18:50:18.009Z"
   },
   {
    "duration": 329,
    "start_time": "2023-10-03T18:50:18.317Z"
   },
   {
    "duration": 21,
    "start_time": "2023-10-03T18:50:18.648Z"
   },
   {
    "duration": 342,
    "start_time": "2023-10-03T18:50:18.670Z"
   },
   {
    "duration": 16,
    "start_time": "2023-10-03T18:50:19.014Z"
   },
   {
    "duration": 25,
    "start_time": "2023-10-03T18:50:19.043Z"
   },
   {
    "duration": 34,
    "start_time": "2023-10-03T18:50:19.070Z"
   },
   {
    "duration": 18,
    "start_time": "2023-10-03T18:50:19.106Z"
   },
   {
    "duration": 77,
    "start_time": "2023-10-03T18:50:19.126Z"
   },
   {
    "duration": 31,
    "start_time": "2023-10-03T18:50:19.204Z"
   },
   {
    "duration": 26,
    "start_time": "2023-10-03T18:50:19.237Z"
   },
   {
    "duration": 30,
    "start_time": "2023-10-03T18:50:19.265Z"
   },
   {
    "duration": 29,
    "start_time": "2023-10-03T18:50:19.297Z"
   },
   {
    "duration": 46,
    "start_time": "2023-10-03T18:50:19.328Z"
   },
   {
    "duration": 32,
    "start_time": "2023-10-03T18:50:19.375Z"
   },
   {
    "duration": 39,
    "start_time": "2023-10-03T18:50:19.409Z"
   },
   {
    "duration": 47,
    "start_time": "2023-10-03T18:50:19.450Z"
   },
   {
    "duration": 67,
    "start_time": "2023-10-03T18:50:19.499Z"
   },
   {
    "duration": 12,
    "start_time": "2023-10-03T18:50:19.568Z"
   },
   {
    "duration": 20,
    "start_time": "2023-10-03T18:50:19.584Z"
   },
   {
    "duration": 18,
    "start_time": "2023-10-03T18:50:19.606Z"
   },
   {
    "duration": 362,
    "start_time": "2023-10-03T18:50:19.626Z"
   },
   {
    "duration": 4241,
    "start_time": "2023-10-03T18:50:19.990Z"
   },
   {
    "duration": 69,
    "start_time": "2023-10-03T18:50:24.233Z"
   },
   {
    "duration": 3,
    "start_time": "2023-10-03T18:50:24.303Z"
   },
   {
    "duration": 82,
    "start_time": "2023-10-03T18:50:24.307Z"
   },
   {
    "duration": 547,
    "start_time": "2023-10-03T18:50:24.392Z"
   },
   {
    "duration": 152,
    "start_time": "2023-10-03T18:50:24.941Z"
   },
   {
    "duration": 204,
    "start_time": "2023-10-03T18:50:25.096Z"
   },
   {
    "duration": 4,
    "start_time": "2023-10-03T18:50:25.302Z"
   },
   {
    "duration": 20,
    "start_time": "2023-10-03T18:50:25.308Z"
   },
   {
    "duration": 90,
    "start_time": "2023-10-03T18:50:25.330Z"
   },
   {
    "duration": 38,
    "start_time": "2023-10-03T18:50:25.421Z"
   },
   {
    "duration": 153,
    "start_time": "2023-10-03T18:50:25.461Z"
   },
   {
    "duration": 4,
    "start_time": "2023-10-03T18:50:25.615Z"
   },
   {
    "duration": 15,
    "start_time": "2023-10-03T18:50:25.621Z"
   },
   {
    "duration": 34,
    "start_time": "2023-10-03T18:50:25.638Z"
   },
   {
    "duration": 4,
    "start_time": "2023-10-03T18:50:25.673Z"
   },
   {
    "duration": 12,
    "start_time": "2023-10-03T18:50:25.679Z"
   },
   {
    "duration": 23,
    "start_time": "2023-10-03T18:50:25.692Z"
   },
   {
    "duration": 50,
    "start_time": "2023-10-03T19:31:54.934Z"
   },
   {
    "duration": 2412,
    "start_time": "2023-10-03T19:32:06.517Z"
   },
   {
    "duration": 1908,
    "start_time": "2023-10-03T19:32:08.932Z"
   },
   {
    "duration": 1207,
    "start_time": "2023-10-03T19:32:10.842Z"
   },
   {
    "duration": 19,
    "start_time": "2023-10-03T19:32:12.051Z"
   },
   {
    "duration": 171,
    "start_time": "2023-10-03T19:32:12.073Z"
   },
   {
    "duration": 469,
    "start_time": "2023-10-03T19:32:12.245Z"
   },
   {
    "duration": 506,
    "start_time": "2023-10-03T19:32:12.715Z"
   },
   {
    "duration": 102,
    "start_time": "2023-10-03T19:32:13.223Z"
   },
   {
    "duration": 145,
    "start_time": "2023-10-03T19:32:13.327Z"
   },
   {
    "duration": 32,
    "start_time": "2023-10-03T19:32:13.473Z"
   },
   {
    "duration": 160,
    "start_time": "2023-10-03T19:32:13.508Z"
   },
   {
    "duration": 529,
    "start_time": "2023-10-03T19:32:13.670Z"
   },
   {
    "duration": 547,
    "start_time": "2023-10-03T19:32:14.200Z"
   },
   {
    "duration": 471,
    "start_time": "2023-10-03T19:32:14.750Z"
   },
   {
    "duration": 473,
    "start_time": "2023-10-03T19:32:15.223Z"
   },
   {
    "duration": 1433,
    "start_time": "2023-10-03T19:32:15.698Z"
   },
   {
    "duration": 466,
    "start_time": "2023-10-03T19:32:17.133Z"
   },
   {
    "duration": 27,
    "start_time": "2023-10-03T19:32:17.601Z"
   },
   {
    "duration": 323,
    "start_time": "2023-10-03T19:32:17.629Z"
   },
   {
    "duration": 341,
    "start_time": "2023-10-03T19:32:17.953Z"
   },
   {
    "duration": 19,
    "start_time": "2023-10-03T19:32:18.296Z"
   },
   {
    "duration": 295,
    "start_time": "2023-10-03T19:32:18.317Z"
   },
   {
    "duration": 342,
    "start_time": "2023-10-03T19:32:18.614Z"
   },
   {
    "duration": 21,
    "start_time": "2023-10-03T19:32:18.958Z"
   },
   {
    "duration": 364,
    "start_time": "2023-10-03T19:32:18.982Z"
   },
   {
    "duration": 17,
    "start_time": "2023-10-03T19:32:19.348Z"
   },
   {
    "duration": 27,
    "start_time": "2023-10-03T19:32:19.366Z"
   },
   {
    "duration": 17,
    "start_time": "2023-10-03T19:32:19.395Z"
   },
   {
    "duration": 9,
    "start_time": "2023-10-03T19:32:19.414Z"
   },
   {
    "duration": 71,
    "start_time": "2023-10-03T19:32:19.444Z"
   },
   {
    "duration": 15,
    "start_time": "2023-10-03T19:32:19.517Z"
   },
   {
    "duration": 28,
    "start_time": "2023-10-03T19:32:19.534Z"
   },
   {
    "duration": 23,
    "start_time": "2023-10-03T19:32:19.564Z"
   },
   {
    "duration": 40,
    "start_time": "2023-10-03T19:32:19.589Z"
   },
   {
    "duration": 18,
    "start_time": "2023-10-03T19:32:19.631Z"
   },
   {
    "duration": 21,
    "start_time": "2023-10-03T19:32:19.652Z"
   },
   {
    "duration": 24,
    "start_time": "2023-10-03T19:32:19.675Z"
   },
   {
    "duration": 24,
    "start_time": "2023-10-03T19:32:19.701Z"
   },
   {
    "duration": 63,
    "start_time": "2023-10-03T19:32:19.726Z"
   },
   {
    "duration": 16,
    "start_time": "2023-10-03T19:32:19.791Z"
   },
   {
    "duration": 15,
    "start_time": "2023-10-03T19:32:19.811Z"
   },
   {
    "duration": 22,
    "start_time": "2023-10-03T19:32:19.827Z"
   },
   {
    "duration": 335,
    "start_time": "2023-10-03T19:32:19.851Z"
   },
   {
    "duration": 4245,
    "start_time": "2023-10-03T19:32:20.187Z"
   },
   {
    "duration": 75,
    "start_time": "2023-10-03T19:32:24.443Z"
   },
   {
    "duration": 60,
    "start_time": "2023-10-03T19:32:24.519Z"
   },
   {
    "duration": 145,
    "start_time": "2023-10-03T19:32:24.581Z"
   },
   {
    "duration": 541,
    "start_time": "2023-10-03T19:32:24.728Z"
   },
   {
    "duration": 144,
    "start_time": "2023-10-03T19:32:25.271Z"
   },
   {
    "duration": 207,
    "start_time": "2023-10-03T19:32:25.417Z"
   },
   {
    "duration": 4,
    "start_time": "2023-10-03T19:32:25.626Z"
   },
   {
    "duration": 44,
    "start_time": "2023-10-03T19:32:25.632Z"
   },
   {
    "duration": 82,
    "start_time": "2023-10-03T19:32:25.678Z"
   },
   {
    "duration": 15,
    "start_time": "2023-10-03T19:32:25.762Z"
   },
   {
    "duration": 141,
    "start_time": "2023-10-03T19:32:25.779Z"
   },
   {
    "duration": 3,
    "start_time": "2023-10-03T19:32:25.922Z"
   },
   {
    "duration": 17,
    "start_time": "2023-10-03T19:32:25.927Z"
   },
   {
    "duration": 29,
    "start_time": "2023-10-03T19:32:25.946Z"
   },
   {
    "duration": 5,
    "start_time": "2023-10-03T19:32:25.976Z"
   },
   {
    "duration": 30,
    "start_time": "2023-10-03T19:32:25.983Z"
   },
   {
    "duration": 12,
    "start_time": "2023-10-03T19:32:26.015Z"
   },
   {
    "duration": 4111,
    "start_time": "2023-10-03T20:03:17.003Z"
   },
   {
    "duration": 1608,
    "start_time": "2023-10-03T20:03:21.116Z"
   },
   {
    "duration": 1404,
    "start_time": "2023-10-03T20:03:22.725Z"
   },
   {
    "duration": 17,
    "start_time": "2023-10-03T20:03:24.131Z"
   },
   {
    "duration": 147,
    "start_time": "2023-10-03T20:03:24.149Z"
   },
   {
    "duration": 532,
    "start_time": "2023-10-03T20:03:24.298Z"
   },
   {
    "duration": 522,
    "start_time": "2023-10-03T20:03:24.832Z"
   },
   {
    "duration": 111,
    "start_time": "2023-10-03T20:03:25.356Z"
   },
   {
    "duration": 145,
    "start_time": "2023-10-03T20:03:25.468Z"
   },
   {
    "duration": 36,
    "start_time": "2023-10-03T20:03:25.615Z"
   },
   {
    "duration": 101,
    "start_time": "2023-10-03T20:03:25.653Z"
   },
   {
    "duration": 488,
    "start_time": "2023-10-03T20:03:25.756Z"
   },
   {
    "duration": 457,
    "start_time": "2023-10-03T20:03:26.246Z"
   },
   {
    "duration": 474,
    "start_time": "2023-10-03T20:03:26.705Z"
   },
   {
    "duration": 473,
    "start_time": "2023-10-03T20:03:27.181Z"
   },
   {
    "duration": 1485,
    "start_time": "2023-10-03T20:03:27.655Z"
   },
   {
    "duration": 466,
    "start_time": "2023-10-03T20:03:29.143Z"
   },
   {
    "duration": 35,
    "start_time": "2023-10-03T20:03:29.612Z"
   },
   {
    "duration": 322,
    "start_time": "2023-10-03T20:03:29.650Z"
   },
   {
    "duration": 371,
    "start_time": "2023-10-03T20:03:29.974Z"
   },
   {
    "duration": 21,
    "start_time": "2023-10-03T20:03:30.346Z"
   },
   {
    "duration": 302,
    "start_time": "2023-10-03T20:03:30.369Z"
   },
   {
    "duration": 338,
    "start_time": "2023-10-03T20:03:30.673Z"
   },
   {
    "duration": 19,
    "start_time": "2023-10-03T20:03:31.013Z"
   },
   {
    "duration": 395,
    "start_time": "2023-10-03T20:03:31.034Z"
   },
   {
    "duration": 17,
    "start_time": "2023-10-03T20:03:31.430Z"
   },
   {
    "duration": 58,
    "start_time": "2023-10-03T20:03:31.449Z"
   },
   {
    "duration": 47,
    "start_time": "2023-10-03T20:03:31.511Z"
   },
   {
    "duration": 27,
    "start_time": "2023-10-03T20:03:31.559Z"
   },
   {
    "duration": 104,
    "start_time": "2023-10-03T20:03:31.588Z"
   },
   {
    "duration": 41,
    "start_time": "2023-10-03T20:03:31.694Z"
   },
   {
    "duration": 54,
    "start_time": "2023-10-03T20:03:31.737Z"
   },
   {
    "duration": 44,
    "start_time": "2023-10-03T20:03:31.793Z"
   },
   {
    "duration": 40,
    "start_time": "2023-10-03T20:03:31.839Z"
   },
   {
    "duration": 124,
    "start_time": "2023-10-03T20:03:31.881Z"
   },
   {
    "duration": 30,
    "start_time": "2023-10-03T20:03:32.007Z"
   },
   {
    "duration": 43,
    "start_time": "2023-10-03T20:03:32.039Z"
   },
   {
    "duration": 33,
    "start_time": "2023-10-03T20:03:32.084Z"
   },
   {
    "duration": 92,
    "start_time": "2023-10-03T20:03:32.119Z"
   },
   {
    "duration": 20,
    "start_time": "2023-10-03T20:03:32.213Z"
   },
   {
    "duration": 24,
    "start_time": "2023-10-03T20:03:32.235Z"
   },
   {
    "duration": 28,
    "start_time": "2023-10-03T20:03:32.261Z"
   },
   {
    "duration": 379,
    "start_time": "2023-10-03T20:03:32.291Z"
   },
   {
    "duration": 4167,
    "start_time": "2023-10-03T20:03:32.671Z"
   },
   {
    "duration": 64,
    "start_time": "2023-10-03T20:03:36.840Z"
   },
   {
    "duration": 10,
    "start_time": "2023-10-03T20:03:36.906Z"
   },
   {
    "duration": 78,
    "start_time": "2023-10-03T20:03:36.917Z"
   },
   {
    "duration": 772,
    "start_time": "2023-10-03T20:03:36.997Z"
   },
   {
    "duration": 252,
    "start_time": "2023-10-03T20:03:37.771Z"
   },
   {
    "duration": 229,
    "start_time": "2023-10-03T20:03:38.024Z"
   },
   {
    "duration": 5,
    "start_time": "2023-10-03T20:03:38.255Z"
   },
   {
    "duration": 7,
    "start_time": "2023-10-03T20:03:38.263Z"
   },
   {
    "duration": 78,
    "start_time": "2023-10-03T20:03:38.272Z"
   },
   {
    "duration": 4,
    "start_time": "2023-10-03T20:03:38.352Z"
   },
   {
    "duration": 128,
    "start_time": "2023-10-03T20:03:38.357Z"
   },
   {
    "duration": 3,
    "start_time": "2023-10-03T20:03:38.487Z"
   },
   {
    "duration": 13,
    "start_time": "2023-10-03T20:03:38.492Z"
   },
   {
    "duration": 49,
    "start_time": "2023-10-03T20:03:38.507Z"
   },
   {
    "duration": 4,
    "start_time": "2023-10-03T20:03:38.557Z"
   },
   {
    "duration": 13,
    "start_time": "2023-10-03T20:03:38.563Z"
   },
   {
    "duration": 17,
    "start_time": "2023-10-03T20:03:38.578Z"
   },
   {
    "duration": 49,
    "start_time": "2023-10-03T20:56:37.944Z"
   },
   {
    "duration": 2296,
    "start_time": "2023-10-03T20:56:56.622Z"
   },
   {
    "duration": 1693,
    "start_time": "2023-10-03T20:56:58.920Z"
   },
   {
    "duration": 1235,
    "start_time": "2023-10-03T20:57:00.615Z"
   },
   {
    "duration": 18,
    "start_time": "2023-10-03T20:57:01.853Z"
   },
   {
    "duration": 215,
    "start_time": "2023-10-03T20:57:01.873Z"
   },
   {
    "duration": 490,
    "start_time": "2023-10-03T20:57:02.090Z"
   },
   {
    "duration": 519,
    "start_time": "2023-10-03T20:57:02.582Z"
   },
   {
    "duration": 93,
    "start_time": "2023-10-03T20:57:03.103Z"
   },
   {
    "duration": 150,
    "start_time": "2023-10-03T20:57:03.198Z"
   },
   {
    "duration": 33,
    "start_time": "2023-10-03T20:57:03.350Z"
   },
   {
    "duration": 108,
    "start_time": "2023-10-03T20:57:03.385Z"
   },
   {
    "duration": 502,
    "start_time": "2023-10-03T20:57:03.495Z"
   },
   {
    "duration": 453,
    "start_time": "2023-10-03T20:57:03.999Z"
   },
   {
    "duration": 465,
    "start_time": "2023-10-03T20:57:04.454Z"
   },
   {
    "duration": 479,
    "start_time": "2023-10-03T20:57:04.920Z"
   },
   {
    "duration": 1415,
    "start_time": "2023-10-03T20:57:05.401Z"
   },
   {
    "duration": 511,
    "start_time": "2023-10-03T20:57:06.818Z"
   },
   {
    "duration": 31,
    "start_time": "2023-10-03T20:57:07.331Z"
   },
   {
    "duration": 394,
    "start_time": "2023-10-03T20:57:07.364Z"
   },
   {
    "duration": 350,
    "start_time": "2023-10-03T20:57:07.759Z"
   },
   {
    "duration": 20,
    "start_time": "2023-10-03T20:57:08.110Z"
   },
   {
    "duration": 299,
    "start_time": "2023-10-03T20:57:08.131Z"
   },
   {
    "duration": 317,
    "start_time": "2023-10-03T20:57:08.432Z"
   },
   {
    "duration": 18,
    "start_time": "2023-10-03T20:57:08.751Z"
   },
   {
    "duration": 347,
    "start_time": "2023-10-03T20:57:08.770Z"
   },
   {
    "duration": 16,
    "start_time": "2023-10-03T20:57:09.119Z"
   },
   {
    "duration": 25,
    "start_time": "2023-10-03T20:57:09.136Z"
   },
   {
    "duration": 34,
    "start_time": "2023-10-03T20:57:09.165Z"
   },
   {
    "duration": 23,
    "start_time": "2023-10-03T20:57:09.201Z"
   },
   {
    "duration": 99,
    "start_time": "2023-10-03T20:57:09.226Z"
   },
   {
    "duration": 16,
    "start_time": "2023-10-03T20:57:09.327Z"
   },
   {
    "duration": 20,
    "start_time": "2023-10-03T20:57:09.344Z"
   },
   {
    "duration": 17,
    "start_time": "2023-10-03T20:57:09.366Z"
   },
   {
    "duration": 19,
    "start_time": "2023-10-03T20:57:09.384Z"
   },
   {
    "duration": 17,
    "start_time": "2023-10-03T20:57:09.404Z"
   },
   {
    "duration": 31,
    "start_time": "2023-10-03T20:57:09.423Z"
   },
   {
    "duration": 23,
    "start_time": "2023-10-03T20:57:09.455Z"
   },
   {
    "duration": 17,
    "start_time": "2023-10-03T20:57:09.480Z"
   },
   {
    "duration": 71,
    "start_time": "2023-10-03T20:57:09.498Z"
   },
   {
    "duration": 28,
    "start_time": "2023-10-03T20:57:09.571Z"
   },
   {
    "duration": 8,
    "start_time": "2023-10-03T20:57:09.601Z"
   },
   {
    "duration": 12,
    "start_time": "2023-10-03T20:57:09.611Z"
   },
   {
    "duration": 350,
    "start_time": "2023-10-03T20:57:09.624Z"
   },
   {
    "duration": 4208,
    "start_time": "2023-10-03T20:57:09.976Z"
   },
   {
    "duration": 71,
    "start_time": "2023-10-03T20:57:14.186Z"
   },
   {
    "duration": 2,
    "start_time": "2023-10-03T20:57:14.259Z"
   },
   {
    "duration": 68,
    "start_time": "2023-10-03T20:57:14.263Z"
   },
   {
    "duration": 580,
    "start_time": "2023-10-03T20:57:14.343Z"
   },
   {
    "duration": 148,
    "start_time": "2023-10-03T20:57:14.925Z"
   },
   {
    "duration": 200,
    "start_time": "2023-10-03T20:57:15.075Z"
   },
   {
    "duration": 5,
    "start_time": "2023-10-03T20:57:15.276Z"
   },
   {
    "duration": 30,
    "start_time": "2023-10-03T20:57:15.282Z"
   },
   {
    "duration": 108,
    "start_time": "2023-10-03T20:57:15.314Z"
   },
   {
    "duration": 2,
    "start_time": "2023-10-03T20:57:15.424Z"
   },
   {
    "duration": 113,
    "start_time": "2023-10-03T20:57:15.427Z"
   },
   {
    "duration": 4,
    "start_time": "2023-10-03T20:57:15.542Z"
   },
   {
    "duration": 10,
    "start_time": "2023-10-03T20:57:15.548Z"
   },
   {
    "duration": 40,
    "start_time": "2023-10-03T20:57:15.560Z"
   },
   {
    "duration": 5,
    "start_time": "2023-10-03T20:57:15.602Z"
   },
   {
    "duration": 29,
    "start_time": "2023-10-03T20:57:15.608Z"
   },
   {
    "duration": 25,
    "start_time": "2023-10-03T20:57:15.639Z"
   },
   {
    "duration": 48933,
    "start_time": "2023-10-03T22:30:03.777Z"
   },
   {
    "duration": 0,
    "start_time": "2023-10-03T22:30:52.712Z"
   },
   {
    "duration": 0,
    "start_time": "2023-10-03T22:30:52.713Z"
   },
   {
    "duration": 0,
    "start_time": "2023-10-03T22:30:52.714Z"
   },
   {
    "duration": 0,
    "start_time": "2023-10-03T22:30:52.716Z"
   },
   {
    "duration": 0,
    "start_time": "2023-10-03T22:30:52.717Z"
   },
   {
    "duration": 0,
    "start_time": "2023-10-03T22:30:52.718Z"
   },
   {
    "duration": 2219,
    "start_time": "2023-10-03T22:32:31.364Z"
   },
   {
    "duration": 1453,
    "start_time": "2023-10-03T22:32:33.585Z"
   },
   {
    "duration": 909,
    "start_time": "2023-10-03T22:32:35.040Z"
   },
   {
    "duration": 17,
    "start_time": "2023-10-03T22:32:35.951Z"
   },
   {
    "duration": 149,
    "start_time": "2023-10-03T22:32:35.969Z"
   },
   {
    "duration": 468,
    "start_time": "2023-10-03T22:32:36.119Z"
   },
   {
    "duration": 488,
    "start_time": "2023-10-03T22:32:36.589Z"
   },
   {
    "duration": 92,
    "start_time": "2023-10-03T22:32:37.078Z"
   },
   {
    "duration": 136,
    "start_time": "2023-10-03T22:32:37.171Z"
   },
   {
    "duration": 43,
    "start_time": "2023-10-03T22:32:37.309Z"
   },
   {
    "duration": 101,
    "start_time": "2023-10-03T22:32:37.354Z"
   },
   {
    "duration": 465,
    "start_time": "2023-10-03T22:32:37.457Z"
   },
   {
    "duration": 439,
    "start_time": "2023-10-03T22:32:37.923Z"
   },
   {
    "duration": 448,
    "start_time": "2023-10-03T22:32:38.363Z"
   },
   {
    "duration": 478,
    "start_time": "2023-10-03T22:32:38.813Z"
   },
   {
    "duration": 1386,
    "start_time": "2023-10-03T22:32:39.292Z"
   },
   {
    "duration": 466,
    "start_time": "2023-10-03T22:32:40.680Z"
   },
   {
    "duration": 29,
    "start_time": "2023-10-03T22:32:41.147Z"
   },
   {
    "duration": 312,
    "start_time": "2023-10-03T22:32:41.178Z"
   },
   {
    "duration": 337,
    "start_time": "2023-10-03T22:32:41.492Z"
   },
   {
    "duration": 31,
    "start_time": "2023-10-03T22:32:41.831Z"
   },
   {
    "duration": 289,
    "start_time": "2023-10-03T22:32:41.864Z"
   },
   {
    "duration": 328,
    "start_time": "2023-10-03T22:32:42.155Z"
   },
   {
    "duration": 19,
    "start_time": "2023-10-03T22:32:42.485Z"
   },
   {
    "duration": 336,
    "start_time": "2023-10-03T22:32:42.506Z"
   },
   {
    "duration": 16,
    "start_time": "2023-10-03T22:32:42.843Z"
   },
   {
    "duration": 49,
    "start_time": "2023-10-03T22:32:42.861Z"
   },
   {
    "duration": 30,
    "start_time": "2023-10-03T22:32:42.915Z"
   },
   {
    "duration": 24,
    "start_time": "2023-10-03T22:32:42.947Z"
   },
   {
    "duration": 63,
    "start_time": "2023-10-03T22:32:42.973Z"
   },
   {
    "duration": 22,
    "start_time": "2023-10-03T22:32:43.038Z"
   },
   {
    "duration": 22,
    "start_time": "2023-10-03T22:32:43.062Z"
   },
   {
    "duration": 22,
    "start_time": "2023-10-03T22:32:43.085Z"
   },
   {
    "duration": 39,
    "start_time": "2023-10-03T22:32:43.109Z"
   },
   {
    "duration": 30,
    "start_time": "2023-10-03T22:32:43.149Z"
   },
   {
    "duration": 15,
    "start_time": "2023-10-03T22:32:43.181Z"
   },
   {
    "duration": 17,
    "start_time": "2023-10-03T22:32:43.198Z"
   },
   {
    "duration": 36,
    "start_time": "2023-10-03T22:32:43.217Z"
   },
   {
    "duration": 76,
    "start_time": "2023-10-03T22:32:43.254Z"
   },
   {
    "duration": 7,
    "start_time": "2023-10-03T22:32:43.331Z"
   },
   {
    "duration": 16,
    "start_time": "2023-10-03T22:32:43.339Z"
   },
   {
    "duration": 7,
    "start_time": "2023-10-03T22:32:43.357Z"
   },
   {
    "duration": 341,
    "start_time": "2023-10-03T22:32:43.366Z"
   },
   {
    "duration": 4148,
    "start_time": "2023-10-03T22:32:43.710Z"
   },
   {
    "duration": 64,
    "start_time": "2023-10-03T22:32:47.860Z"
   },
   {
    "duration": 25,
    "start_time": "2023-10-03T22:32:47.926Z"
   },
   {
    "duration": 82,
    "start_time": "2023-10-03T22:32:47.953Z"
   },
   {
    "duration": 514,
    "start_time": "2023-10-03T22:32:48.037Z"
   },
   {
    "duration": 147,
    "start_time": "2023-10-03T22:32:48.552Z"
   },
   {
    "duration": 208,
    "start_time": "2023-10-03T22:32:48.701Z"
   },
   {
    "duration": 4,
    "start_time": "2023-10-03T22:32:48.911Z"
   },
   {
    "duration": 9,
    "start_time": "2023-10-03T22:32:48.916Z"
   },
   {
    "duration": 80,
    "start_time": "2023-10-03T22:32:48.927Z"
   },
   {
    "duration": 16,
    "start_time": "2023-10-03T22:32:49.009Z"
   },
   {
    "duration": 121,
    "start_time": "2023-10-03T22:32:49.027Z"
   },
   {
    "duration": 3,
    "start_time": "2023-10-03T22:32:49.150Z"
   },
   {
    "duration": 24,
    "start_time": "2023-10-03T22:32:49.154Z"
   },
   {
    "duration": 87,
    "start_time": "2023-10-03T22:32:49.180Z"
   },
   {
    "duration": 20,
    "start_time": "2023-10-03T22:32:49.268Z"
   },
   {
    "duration": 54,
    "start_time": "2023-10-03T22:32:49.290Z"
   },
   {
    "duration": 23,
    "start_time": "2023-10-03T22:32:49.346Z"
   },
   {
    "duration": 2328,
    "start_time": "2023-10-03T22:54:52.655Z"
   },
   {
    "duration": 1503,
    "start_time": "2023-10-03T22:54:54.986Z"
   },
   {
    "duration": 1216,
    "start_time": "2023-10-03T22:54:56.491Z"
   },
   {
    "duration": 17,
    "start_time": "2023-10-03T22:54:57.709Z"
   },
   {
    "duration": 158,
    "start_time": "2023-10-03T22:54:57.727Z"
   },
   {
    "duration": 479,
    "start_time": "2023-10-03T22:54:57.886Z"
   },
   {
    "duration": 523,
    "start_time": "2023-10-03T22:54:58.366Z"
   },
   {
    "duration": 96,
    "start_time": "2023-10-03T22:54:58.891Z"
   },
   {
    "duration": 140,
    "start_time": "2023-10-03T22:54:58.989Z"
   },
   {
    "duration": 42,
    "start_time": "2023-10-03T22:54:59.132Z"
   },
   {
    "duration": 108,
    "start_time": "2023-10-03T22:54:59.176Z"
   },
   {
    "duration": 488,
    "start_time": "2023-10-03T22:54:59.286Z"
   },
   {
    "duration": 459,
    "start_time": "2023-10-03T22:54:59.775Z"
   },
   {
    "duration": 445,
    "start_time": "2023-10-03T22:55:00.235Z"
   },
   {
    "duration": 487,
    "start_time": "2023-10-03T22:55:00.682Z"
   },
   {
    "duration": 1439,
    "start_time": "2023-10-03T22:55:01.171Z"
   },
   {
    "duration": 476,
    "start_time": "2023-10-03T22:55:02.612Z"
   },
   {
    "duration": 28,
    "start_time": "2023-10-03T22:55:03.090Z"
   },
   {
    "duration": 316,
    "start_time": "2023-10-03T22:55:03.119Z"
   },
   {
    "duration": 371,
    "start_time": "2023-10-03T22:55:03.436Z"
   },
   {
    "duration": 21,
    "start_time": "2023-10-03T22:55:03.809Z"
   },
   {
    "duration": 441,
    "start_time": "2023-10-03T22:55:03.832Z"
   },
   {
    "duration": 358,
    "start_time": "2023-10-03T22:55:04.275Z"
   },
   {
    "duration": 25,
    "start_time": "2023-10-03T22:55:04.635Z"
   },
   {
    "duration": 320,
    "start_time": "2023-10-03T22:55:04.662Z"
   },
   {
    "duration": 15,
    "start_time": "2023-10-03T22:55:04.984Z"
   },
   {
    "duration": 36,
    "start_time": "2023-10-03T22:55:05.001Z"
   },
   {
    "duration": 29,
    "start_time": "2023-10-03T22:55:05.042Z"
   },
   {
    "duration": 18,
    "start_time": "2023-10-03T22:55:05.072Z"
   },
   {
    "duration": 61,
    "start_time": "2023-10-03T22:55:05.092Z"
   },
   {
    "duration": 36,
    "start_time": "2023-10-03T22:55:05.155Z"
   },
   {
    "duration": 37,
    "start_time": "2023-10-03T22:55:05.193Z"
   },
   {
    "duration": 41,
    "start_time": "2023-10-03T22:55:05.232Z"
   },
   {
    "duration": 36,
    "start_time": "2023-10-03T22:55:05.275Z"
   },
   {
    "duration": 42,
    "start_time": "2023-10-03T22:55:05.312Z"
   },
   {
    "duration": 37,
    "start_time": "2023-10-03T22:55:05.356Z"
   },
   {
    "duration": 55,
    "start_time": "2023-10-03T22:55:05.395Z"
   },
   {
    "duration": 37,
    "start_time": "2023-10-03T22:55:05.452Z"
   },
   {
    "duration": 64,
    "start_time": "2023-10-03T22:55:05.490Z"
   },
   {
    "duration": 50,
    "start_time": "2023-10-03T22:55:05.555Z"
   },
   {
    "duration": 15,
    "start_time": "2023-10-03T22:55:05.606Z"
   },
   {
    "duration": 17,
    "start_time": "2023-10-03T22:55:05.623Z"
   },
   {
    "duration": 415,
    "start_time": "2023-10-03T22:55:05.641Z"
   },
   {
    "duration": 4112,
    "start_time": "2023-10-03T22:55:06.058Z"
   },
   {
    "duration": 72,
    "start_time": "2023-10-03T22:55:10.172Z"
   },
   {
    "duration": 2,
    "start_time": "2023-10-03T22:55:10.246Z"
   },
   {
    "duration": 87,
    "start_time": "2023-10-03T22:55:10.249Z"
   },
   {
    "duration": 528,
    "start_time": "2023-10-03T22:55:10.338Z"
   },
   {
    "duration": 152,
    "start_time": "2023-10-03T22:55:10.868Z"
   },
   {
    "duration": 200,
    "start_time": "2023-10-03T22:55:11.022Z"
   },
   {
    "duration": 4,
    "start_time": "2023-10-03T22:55:11.223Z"
   },
   {
    "duration": 6,
    "start_time": "2023-10-03T22:55:11.229Z"
   },
   {
    "duration": 81,
    "start_time": "2023-10-03T22:55:11.236Z"
   },
   {
    "duration": 3,
    "start_time": "2023-10-03T22:55:11.319Z"
   },
   {
    "duration": 110,
    "start_time": "2023-10-03T22:55:11.323Z"
   },
   {
    "duration": 10,
    "start_time": "2023-10-03T22:55:11.434Z"
   },
   {
    "duration": 3,
    "start_time": "2023-10-03T22:55:11.446Z"
   },
   {
    "duration": 39,
    "start_time": "2023-10-03T22:55:11.451Z"
   },
   {
    "duration": 4,
    "start_time": "2023-10-03T22:55:11.491Z"
   },
   {
    "duration": 8,
    "start_time": "2023-10-03T22:55:11.497Z"
   },
   {
    "duration": 5,
    "start_time": "2023-10-03T22:55:11.506Z"
   },
   {
    "duration": 2203,
    "start_time": "2023-10-03T23:16:23.790Z"
   },
   {
    "duration": 1570,
    "start_time": "2023-10-03T23:16:25.995Z"
   },
   {
    "duration": 1220,
    "start_time": "2023-10-03T23:16:27.567Z"
   },
   {
    "duration": 16,
    "start_time": "2023-10-03T23:16:28.789Z"
   },
   {
    "duration": 148,
    "start_time": "2023-10-03T23:16:28.807Z"
   },
   {
    "duration": 462,
    "start_time": "2023-10-03T23:16:28.957Z"
   },
   {
    "duration": 491,
    "start_time": "2023-10-03T23:16:29.421Z"
   },
   {
    "duration": 96,
    "start_time": "2023-10-03T23:16:29.913Z"
   },
   {
    "duration": 141,
    "start_time": "2023-10-03T23:16:30.011Z"
   },
   {
    "duration": 51,
    "start_time": "2023-10-03T23:16:30.154Z"
   },
   {
    "duration": 125,
    "start_time": "2023-10-03T23:16:30.207Z"
   },
   {
    "duration": 489,
    "start_time": "2023-10-03T23:16:30.334Z"
   },
   {
    "duration": 464,
    "start_time": "2023-10-03T23:16:30.825Z"
   },
   {
    "duration": 444,
    "start_time": "2023-10-03T23:16:31.290Z"
   },
   {
    "duration": 458,
    "start_time": "2023-10-03T23:16:31.735Z"
   },
   {
    "duration": 1392,
    "start_time": "2023-10-03T23:16:32.195Z"
   },
   {
    "duration": 496,
    "start_time": "2023-10-03T23:16:33.589Z"
   },
   {
    "duration": 27,
    "start_time": "2023-10-03T23:16:34.086Z"
   },
   {
    "duration": 317,
    "start_time": "2023-10-03T23:16:34.114Z"
   },
   {
    "duration": 358,
    "start_time": "2023-10-03T23:16:34.433Z"
   },
   {
    "duration": 24,
    "start_time": "2023-10-03T23:16:34.792Z"
   },
   {
    "duration": 306,
    "start_time": "2023-10-03T23:16:34.818Z"
   },
   {
    "duration": 313,
    "start_time": "2023-10-03T23:16:35.126Z"
   },
   {
    "duration": 20,
    "start_time": "2023-10-03T23:16:35.443Z"
   },
   {
    "duration": 332,
    "start_time": "2023-10-03T23:16:35.465Z"
   },
   {
    "duration": 14,
    "start_time": "2023-10-03T23:16:35.799Z"
   },
   {
    "duration": 27,
    "start_time": "2023-10-03T23:16:35.816Z"
   },
   {
    "duration": 38,
    "start_time": "2023-10-03T23:16:35.848Z"
   },
   {
    "duration": 16,
    "start_time": "2023-10-03T23:16:35.888Z"
   },
   {
    "duration": 70,
    "start_time": "2023-10-03T23:16:35.906Z"
   },
   {
    "duration": 15,
    "start_time": "2023-10-03T23:16:35.978Z"
   },
   {
    "duration": 27,
    "start_time": "2023-10-03T23:16:35.995Z"
   },
   {
    "duration": 48,
    "start_time": "2023-10-03T23:16:36.024Z"
   },
   {
    "duration": 33,
    "start_time": "2023-10-03T23:16:36.074Z"
   },
   {
    "duration": 38,
    "start_time": "2023-10-03T23:16:36.109Z"
   },
   {
    "duration": 58,
    "start_time": "2023-10-03T23:16:36.149Z"
   },
   {
    "duration": 48,
    "start_time": "2023-10-03T23:16:36.209Z"
   },
   {
    "duration": 15,
    "start_time": "2023-10-03T23:16:36.260Z"
   },
   {
    "duration": 73,
    "start_time": "2023-10-03T23:16:36.277Z"
   },
   {
    "duration": 5,
    "start_time": "2023-10-03T23:16:36.352Z"
   },
   {
    "duration": 12,
    "start_time": "2023-10-03T23:16:36.358Z"
   },
   {
    "duration": 7,
    "start_time": "2023-10-03T23:16:36.371Z"
   },
   {
    "duration": 348,
    "start_time": "2023-10-03T23:16:36.380Z"
   },
   {
    "duration": 4108,
    "start_time": "2023-10-03T23:16:36.729Z"
   },
   {
    "duration": 67,
    "start_time": "2023-10-03T23:16:40.839Z"
   },
   {
    "duration": 2,
    "start_time": "2023-10-03T23:16:40.907Z"
   },
   {
    "duration": 82,
    "start_time": "2023-10-03T23:16:40.911Z"
   },
   {
    "duration": 508,
    "start_time": "2023-10-03T23:16:40.995Z"
   },
   {
    "duration": 145,
    "start_time": "2023-10-03T23:16:41.504Z"
   },
   {
    "duration": 202,
    "start_time": "2023-10-03T23:16:41.650Z"
   },
   {
    "duration": 3,
    "start_time": "2023-10-03T23:16:41.854Z"
   },
   {
    "duration": 6,
    "start_time": "2023-10-03T23:16:41.859Z"
   },
   {
    "duration": 78,
    "start_time": "2023-10-03T23:16:41.867Z"
   },
   {
    "duration": 19,
    "start_time": "2023-10-03T23:16:41.947Z"
   },
   {
    "duration": 117,
    "start_time": "2023-10-03T23:16:41.967Z"
   },
   {
    "duration": 3,
    "start_time": "2023-10-03T23:16:42.086Z"
   },
   {
    "duration": 10,
    "start_time": "2023-10-03T23:16:42.091Z"
   },
   {
    "duration": 36,
    "start_time": "2023-10-03T23:16:42.103Z"
   },
   {
    "duration": 5,
    "start_time": "2023-10-03T23:16:42.141Z"
   },
   {
    "duration": 21,
    "start_time": "2023-10-03T23:16:42.147Z"
   },
   {
    "duration": 9,
    "start_time": "2023-10-03T23:16:42.170Z"
   },
   {
    "duration": 2225,
    "start_time": "2023-10-03T23:59:10.498Z"
   },
   {
    "duration": 1571,
    "start_time": "2023-10-03T23:59:13.800Z"
   },
   {
    "duration": 2175,
    "start_time": "2023-10-03T23:59:27.083Z"
   },
   {
    "duration": 7,
    "start_time": "2023-10-03T23:59:29.261Z"
   },
   {
    "duration": 1203,
    "start_time": "2023-10-03T23:59:29.269Z"
   },
   {
    "duration": 18,
    "start_time": "2023-10-03T23:59:30.474Z"
   },
   {
    "duration": 211,
    "start_time": "2023-10-03T23:59:30.493Z"
   },
   {
    "duration": 500,
    "start_time": "2023-10-03T23:59:30.706Z"
   },
   {
    "duration": 535,
    "start_time": "2023-10-03T23:59:31.208Z"
   },
   {
    "duration": 102,
    "start_time": "2023-10-03T23:59:31.745Z"
   },
   {
    "duration": 141,
    "start_time": "2023-10-03T23:59:31.848Z"
   },
   {
    "duration": 187,
    "start_time": "2023-10-03T23:59:31.993Z"
   },
   {
    "duration": 234,
    "start_time": "2023-10-03T23:59:32.182Z"
   },
   {
    "duration": 477,
    "start_time": "2023-10-03T23:59:32.418Z"
   },
   {
    "duration": 436,
    "start_time": "2023-10-03T23:59:32.897Z"
   },
   {
    "duration": 488,
    "start_time": "2023-10-03T23:59:33.336Z"
   },
   {
    "duration": 475,
    "start_time": "2023-10-03T23:59:33.826Z"
   },
   {
    "duration": 1452,
    "start_time": "2023-10-03T23:59:34.303Z"
   },
   {
    "duration": 466,
    "start_time": "2023-10-03T23:59:35.756Z"
   },
   {
    "duration": 37,
    "start_time": "2023-10-03T23:59:36.224Z"
   },
   {
    "duration": 332,
    "start_time": "2023-10-03T23:59:36.263Z"
   },
   {
    "duration": 347,
    "start_time": "2023-10-03T23:59:36.597Z"
   },
   {
    "duration": 21,
    "start_time": "2023-10-03T23:59:36.945Z"
   },
   {
    "duration": 295,
    "start_time": "2023-10-03T23:59:36.967Z"
   },
   {
    "duration": 338,
    "start_time": "2023-10-03T23:59:37.264Z"
   },
   {
    "duration": 22,
    "start_time": "2023-10-03T23:59:37.604Z"
   },
   {
    "duration": 343,
    "start_time": "2023-10-03T23:59:37.628Z"
   },
   {
    "duration": 17,
    "start_time": "2023-10-03T23:59:37.973Z"
   },
   {
    "duration": 20,
    "start_time": "2023-10-03T23:59:37.991Z"
   },
   {
    "duration": 32,
    "start_time": "2023-10-03T23:59:38.016Z"
   },
   {
    "duration": 12,
    "start_time": "2023-10-03T23:59:38.050Z"
   },
   {
    "duration": 68,
    "start_time": "2023-10-03T23:59:38.064Z"
   },
   {
    "duration": 24,
    "start_time": "2023-10-03T23:59:38.134Z"
   },
   {
    "duration": 27,
    "start_time": "2023-10-03T23:59:38.160Z"
   },
   {
    "duration": 40,
    "start_time": "2023-10-03T23:59:38.188Z"
   },
   {
    "duration": 27,
    "start_time": "2023-10-03T23:59:38.230Z"
   },
   {
    "duration": 38,
    "start_time": "2023-10-03T23:59:38.259Z"
   },
   {
    "duration": 34,
    "start_time": "2023-10-03T23:59:38.298Z"
   },
   {
    "duration": 20,
    "start_time": "2023-10-03T23:59:38.334Z"
   },
   {
    "duration": 24,
    "start_time": "2023-10-03T23:59:38.356Z"
   },
   {
    "duration": 66,
    "start_time": "2023-10-03T23:59:38.382Z"
   },
   {
    "duration": 5,
    "start_time": "2023-10-03T23:59:38.449Z"
   },
   {
    "duration": 9,
    "start_time": "2023-10-03T23:59:38.456Z"
   },
   {
    "duration": 8,
    "start_time": "2023-10-03T23:59:38.466Z"
   },
   {
    "duration": 438,
    "start_time": "2023-10-03T23:59:38.475Z"
   },
   {
    "duration": 3991,
    "start_time": "2023-10-03T23:59:38.915Z"
   },
   {
    "duration": 65,
    "start_time": "2023-10-03T23:59:42.907Z"
   },
   {
    "duration": 2,
    "start_time": "2023-10-03T23:59:42.974Z"
   },
   {
    "duration": 81,
    "start_time": "2023-10-03T23:59:42.978Z"
   },
   {
    "duration": 520,
    "start_time": "2023-10-03T23:59:43.061Z"
   },
   {
    "duration": 146,
    "start_time": "2023-10-03T23:59:43.583Z"
   },
   {
    "duration": 214,
    "start_time": "2023-10-03T23:59:43.731Z"
   },
   {
    "duration": 4,
    "start_time": "2023-10-03T23:59:43.946Z"
   },
   {
    "duration": 31,
    "start_time": "2023-10-03T23:59:43.951Z"
   },
   {
    "duration": 92,
    "start_time": "2023-10-03T23:59:43.983Z"
   },
   {
    "duration": 4,
    "start_time": "2023-10-03T23:59:44.077Z"
   },
   {
    "duration": 126,
    "start_time": "2023-10-03T23:59:44.082Z"
   },
   {
    "duration": 4,
    "start_time": "2023-10-03T23:59:44.210Z"
   },
   {
    "duration": 6,
    "start_time": "2023-10-03T23:59:44.216Z"
   },
   {
    "duration": 38,
    "start_time": "2023-10-03T23:59:44.224Z"
   },
   {
    "duration": 5,
    "start_time": "2023-10-03T23:59:44.264Z"
   },
   {
    "duration": 7,
    "start_time": "2023-10-03T23:59:44.271Z"
   },
   {
    "duration": 6,
    "start_time": "2023-10-03T23:59:44.279Z"
   },
   {
    "duration": 2356,
    "start_time": "2023-10-04T00:21:51.315Z"
   },
   {
    "duration": 1605,
    "start_time": "2023-10-04T00:21:53.674Z"
   },
   {
    "duration": 1216,
    "start_time": "2023-10-04T00:21:55.281Z"
   },
   {
    "duration": 17,
    "start_time": "2023-10-04T00:21:56.499Z"
   },
   {
    "duration": 151,
    "start_time": "2023-10-04T00:21:56.519Z"
   },
   {
    "duration": 496,
    "start_time": "2023-10-04T00:21:56.672Z"
   },
   {
    "duration": 530,
    "start_time": "2023-10-04T00:21:57.170Z"
   },
   {
    "duration": 106,
    "start_time": "2023-10-04T00:21:57.701Z"
   },
   {
    "duration": 145,
    "start_time": "2023-10-04T00:21:57.808Z"
   },
   {
    "duration": 49,
    "start_time": "2023-10-04T00:21:57.955Z"
   },
   {
    "duration": 123,
    "start_time": "2023-10-04T00:21:58.006Z"
   },
   {
    "duration": 487,
    "start_time": "2023-10-04T00:21:58.131Z"
   },
   {
    "duration": 467,
    "start_time": "2023-10-04T00:21:58.620Z"
   },
   {
    "duration": 472,
    "start_time": "2023-10-04T00:21:59.090Z"
   },
   {
    "duration": 483,
    "start_time": "2023-10-04T00:21:59.565Z"
   },
   {
    "duration": 1489,
    "start_time": "2023-10-04T00:22:00.050Z"
   },
   {
    "duration": 507,
    "start_time": "2023-10-04T00:22:01.543Z"
   },
   {
    "duration": 31,
    "start_time": "2023-10-04T00:22:02.052Z"
   },
   {
    "duration": 437,
    "start_time": "2023-10-04T00:22:02.085Z"
   },
   {
    "duration": 353,
    "start_time": "2023-10-04T00:22:02.524Z"
   },
   {
    "duration": 20,
    "start_time": "2023-10-04T00:22:02.879Z"
   },
   {
    "duration": 445,
    "start_time": "2023-10-04T00:22:02.901Z"
   },
   {
    "duration": 366,
    "start_time": "2023-10-04T00:22:03.348Z"
   },
   {
    "duration": 36,
    "start_time": "2023-10-04T00:22:03.716Z"
   },
   {
    "duration": 413,
    "start_time": "2023-10-04T00:22:03.753Z"
   },
   {
    "duration": 16,
    "start_time": "2023-10-04T00:22:04.169Z"
   },
   {
    "duration": 51,
    "start_time": "2023-10-04T00:22:04.187Z"
   },
   {
    "duration": 29,
    "start_time": "2023-10-04T00:22:04.240Z"
   },
   {
    "duration": 62,
    "start_time": "2023-10-04T00:22:04.271Z"
   },
   {
    "duration": 103,
    "start_time": "2023-10-04T00:22:04.335Z"
   },
   {
    "duration": 25,
    "start_time": "2023-10-04T00:22:04.443Z"
   },
   {
    "duration": 27,
    "start_time": "2023-10-04T00:22:04.472Z"
   },
   {
    "duration": 32,
    "start_time": "2023-10-04T00:22:04.501Z"
   },
   {
    "duration": 34,
    "start_time": "2023-10-04T00:22:04.534Z"
   },
   {
    "duration": 17,
    "start_time": "2023-10-04T00:22:04.569Z"
   },
   {
    "duration": 32,
    "start_time": "2023-10-04T00:22:04.587Z"
   },
   {
    "duration": 45,
    "start_time": "2023-10-04T00:22:04.620Z"
   },
   {
    "duration": 35,
    "start_time": "2023-10-04T00:22:04.667Z"
   },
   {
    "duration": 64,
    "start_time": "2023-10-04T00:22:04.704Z"
   },
   {
    "duration": 5,
    "start_time": "2023-10-04T00:22:04.770Z"
   },
   {
    "duration": 12,
    "start_time": "2023-10-04T00:22:04.778Z"
   },
   {
    "duration": 17,
    "start_time": "2023-10-04T00:22:04.792Z"
   },
   {
    "duration": 359,
    "start_time": "2023-10-04T00:22:04.811Z"
   },
   {
    "duration": 4190,
    "start_time": "2023-10-04T00:22:05.171Z"
   },
   {
    "duration": 67,
    "start_time": "2023-10-04T00:22:09.362Z"
   },
   {
    "duration": 13,
    "start_time": "2023-10-04T00:22:09.431Z"
   },
   {
    "duration": 88,
    "start_time": "2023-10-04T00:22:09.447Z"
   },
   {
    "duration": 562,
    "start_time": "2023-10-04T00:22:09.537Z"
   },
   {
    "duration": 151,
    "start_time": "2023-10-04T00:22:10.101Z"
   },
   {
    "duration": 216,
    "start_time": "2023-10-04T00:22:10.254Z"
   },
   {
    "duration": 4,
    "start_time": "2023-10-04T00:22:10.472Z"
   },
   {
    "duration": 5,
    "start_time": "2023-10-04T00:22:10.478Z"
   },
   {
    "duration": 78,
    "start_time": "2023-10-04T00:22:10.485Z"
   },
   {
    "duration": 3,
    "start_time": "2023-10-04T00:22:10.565Z"
   },
   {
    "duration": 130,
    "start_time": "2023-10-04T00:22:10.569Z"
   },
   {
    "duration": 4,
    "start_time": "2023-10-04T00:22:10.701Z"
   },
   {
    "duration": 11,
    "start_time": "2023-10-04T00:22:10.706Z"
   },
   {
    "duration": 46,
    "start_time": "2023-10-04T00:22:10.719Z"
   },
   {
    "duration": 4,
    "start_time": "2023-10-04T00:22:10.767Z"
   },
   {
    "duration": 4,
    "start_time": "2023-10-04T00:22:10.773Z"
   },
   {
    "duration": 7,
    "start_time": "2023-10-04T00:22:10.779Z"
   },
   {
    "duration": 144151,
    "start_time": "2023-10-04T00:22:22.867Z"
   },
   {
    "duration": 5,
    "start_time": "2023-10-04T00:26:49.110Z"
   },
   {
    "duration": 4,
    "start_time": "2023-10-04T00:26:51.513Z"
   },
   {
    "duration": 2,
    "start_time": "2023-10-04T00:26:55.666Z"
   },
   {
    "duration": 2,
    "start_time": "2023-10-04T00:26:56.187Z"
   },
   {
    "duration": 142995,
    "start_time": "2023-10-04T00:27:01.069Z"
   },
   {
    "duration": 81,
    "start_time": "2023-10-04T00:29:24.066Z"
   },
   {
    "duration": 11,
    "start_time": "2023-10-04T00:29:24.150Z"
   },
   {
    "duration": 86,
    "start_time": "2023-10-04T00:29:24.164Z"
   },
   {
    "duration": 9,
    "start_time": "2023-10-04T00:29:24.251Z"
   },
   {
    "duration": 210809,
    "start_time": "2023-10-04T00:29:24.262Z"
   },
   {
    "duration": 4,
    "start_time": "2023-10-04T00:32:55.073Z"
   },
   {
    "duration": 10,
    "start_time": "2023-10-04T00:32:55.079Z"
   },
   {
    "duration": 56,
    "start_time": "2023-10-04T00:32:55.091Z"
   },
   {
    "duration": 15,
    "start_time": "2023-10-04T00:32:55.150Z"
   },
   {
    "duration": 124,
    "start_time": "2023-10-04T00:32:55.166Z"
   },
   {
    "duration": 5,
    "start_time": "2023-10-04T00:32:55.291Z"
   },
   {
    "duration": 28,
    "start_time": "2023-10-04T00:32:55.298Z"
   },
   {
    "duration": 6,
    "start_time": "2023-10-04T00:32:55.328Z"
   },
   {
    "duration": 2256,
    "start_time": "2023-10-04T00:34:53.819Z"
   },
   {
    "duration": 1410,
    "start_time": "2023-10-04T00:34:56.077Z"
   },
   {
    "duration": 884,
    "start_time": "2023-10-04T00:34:57.488Z"
   },
   {
    "duration": 18,
    "start_time": "2023-10-04T00:34:58.375Z"
   },
   {
    "duration": 152,
    "start_time": "2023-10-04T00:34:58.394Z"
   },
   {
    "duration": 451,
    "start_time": "2023-10-04T00:34:58.548Z"
   },
   {
    "duration": 483,
    "start_time": "2023-10-04T00:34:59.000Z"
   },
   {
    "duration": 94,
    "start_time": "2023-10-04T00:34:59.486Z"
   },
   {
    "duration": 137,
    "start_time": "2023-10-04T00:34:59.581Z"
   },
   {
    "duration": 42,
    "start_time": "2023-10-04T00:34:59.721Z"
   },
   {
    "duration": 103,
    "start_time": "2023-10-04T00:34:59.765Z"
   },
   {
    "duration": 455,
    "start_time": "2023-10-04T00:34:59.870Z"
   },
   {
    "duration": 459,
    "start_time": "2023-10-04T00:35:00.327Z"
   },
   {
    "duration": 449,
    "start_time": "2023-10-04T00:35:00.788Z"
   },
   {
    "duration": 473,
    "start_time": "2023-10-04T00:35:01.244Z"
   },
   {
    "duration": 1438,
    "start_time": "2023-10-04T00:35:01.719Z"
   },
   {
    "duration": 463,
    "start_time": "2023-10-04T00:35:03.159Z"
   },
   {
    "duration": 38,
    "start_time": "2023-10-04T00:35:03.624Z"
   },
   {
    "duration": 337,
    "start_time": "2023-10-04T00:35:03.664Z"
   },
   {
    "duration": 338,
    "start_time": "2023-10-04T00:35:04.003Z"
   },
   {
    "duration": 25,
    "start_time": "2023-10-04T00:35:04.343Z"
   },
   {
    "duration": 312,
    "start_time": "2023-10-04T00:35:04.369Z"
   },
   {
    "duration": 333,
    "start_time": "2023-10-04T00:35:04.683Z"
   },
   {
    "duration": 33,
    "start_time": "2023-10-04T00:35:05.018Z"
   },
   {
    "duration": 326,
    "start_time": "2023-10-04T00:35:05.054Z"
   },
   {
    "duration": 15,
    "start_time": "2023-10-04T00:35:05.382Z"
   },
   {
    "duration": 58,
    "start_time": "2023-10-04T00:35:05.398Z"
   },
   {
    "duration": 25,
    "start_time": "2023-10-04T00:35:05.460Z"
   },
   {
    "duration": 33,
    "start_time": "2023-10-04T00:35:05.487Z"
   },
   {
    "duration": 76,
    "start_time": "2023-10-04T00:35:05.521Z"
   },
   {
    "duration": 43,
    "start_time": "2023-10-04T00:35:05.599Z"
   },
   {
    "duration": 57,
    "start_time": "2023-10-04T00:35:05.644Z"
   },
   {
    "duration": 59,
    "start_time": "2023-10-04T00:35:05.702Z"
   },
   {
    "duration": 30,
    "start_time": "2023-10-04T00:35:05.762Z"
   },
   {
    "duration": 24,
    "start_time": "2023-10-04T00:35:05.793Z"
   },
   {
    "duration": 29,
    "start_time": "2023-10-04T00:35:05.818Z"
   },
   {
    "duration": 61,
    "start_time": "2023-10-04T00:35:05.848Z"
   },
   {
    "duration": 25,
    "start_time": "2023-10-04T00:35:05.910Z"
   },
   {
    "duration": 101,
    "start_time": "2023-10-04T00:35:05.936Z"
   },
   {
    "duration": 19,
    "start_time": "2023-10-04T00:35:06.039Z"
   },
   {
    "duration": 26,
    "start_time": "2023-10-04T00:35:06.059Z"
   },
   {
    "duration": 17,
    "start_time": "2023-10-04T00:35:06.087Z"
   },
   {
    "duration": 365,
    "start_time": "2023-10-04T00:35:06.106Z"
   },
   {
    "duration": 3993,
    "start_time": "2023-10-04T00:35:06.473Z"
   },
   {
    "duration": 65,
    "start_time": "2023-10-04T00:35:10.467Z"
   },
   {
    "duration": 3,
    "start_time": "2023-10-04T00:35:10.543Z"
   },
   {
    "duration": 73,
    "start_time": "2023-10-04T00:35:10.547Z"
   },
   {
    "duration": 497,
    "start_time": "2023-10-04T00:35:10.621Z"
   },
   {
    "duration": 146,
    "start_time": "2023-10-04T00:35:11.120Z"
   },
   {
    "duration": 196,
    "start_time": "2023-10-04T00:35:11.267Z"
   },
   {
    "duration": 3,
    "start_time": "2023-10-04T00:35:11.465Z"
   },
   {
    "duration": 20,
    "start_time": "2023-10-04T00:35:11.470Z"
   },
   {
    "duration": 76,
    "start_time": "2023-10-04T00:35:11.491Z"
   },
   {
    "duration": 12,
    "start_time": "2023-10-04T00:35:11.569Z"
   },
   {
    "duration": 122,
    "start_time": "2023-10-04T00:35:11.583Z"
   },
   {
    "duration": 4,
    "start_time": "2023-10-04T00:35:11.706Z"
   },
   {
    "duration": 17,
    "start_time": "2023-10-04T00:35:11.711Z"
   },
   {
    "duration": 47,
    "start_time": "2023-10-04T00:35:11.729Z"
   },
   {
    "duration": 4,
    "start_time": "2023-10-04T00:35:11.777Z"
   },
   {
    "duration": 21,
    "start_time": "2023-10-04T00:35:11.782Z"
   },
   {
    "duration": 8,
    "start_time": "2023-10-04T00:35:11.805Z"
   },
   {
    "duration": 139453,
    "start_time": "2023-10-04T00:35:11.815Z"
   },
   {
    "duration": 4,
    "start_time": "2023-10-04T00:37:31.270Z"
   },
   {
    "duration": 43,
    "start_time": "2023-10-04T00:37:31.276Z"
   },
   {
    "duration": 25,
    "start_time": "2023-10-04T00:37:31.321Z"
   },
   {
    "duration": 33,
    "start_time": "2023-10-04T00:37:31.348Z"
   },
   {
    "duration": 86961,
    "start_time": "2023-10-04T00:37:31.383Z"
   },
   {
    "duration": 6,
    "start_time": "2023-10-04T00:38:58.347Z"
   },
   {
    "duration": 90,
    "start_time": "2023-10-04T00:38:58.355Z"
   },
   {
    "duration": 31,
    "start_time": "2023-10-04T00:38:58.446Z"
   },
   {
    "duration": 28,
    "start_time": "2023-10-04T00:38:58.478Z"
   },
   {
    "duration": 108656,
    "start_time": "2023-10-04T00:38:58.508Z"
   },
   {
    "duration": 6,
    "start_time": "2023-10-04T00:40:47.166Z"
   },
   {
    "duration": 18,
    "start_time": "2023-10-04T00:40:47.173Z"
   },
   {
    "duration": 35,
    "start_time": "2023-10-04T00:40:47.192Z"
   },
   {
    "duration": 55,
    "start_time": "2023-10-04T00:40:47.229Z"
   },
   {
    "duration": 149,
    "start_time": "2023-10-04T00:40:47.287Z"
   },
   {
    "duration": 9,
    "start_time": "2023-10-04T00:40:47.437Z"
   },
   {
    "duration": 42,
    "start_time": "2023-10-04T00:40:47.448Z"
   },
   {
    "duration": 45,
    "start_time": "2023-10-04T00:40:47.492Z"
   },
   {
    "duration": 44,
    "start_time": "2023-10-05T13:13:59.783Z"
   },
   {
    "duration": 3269,
    "start_time": "2023-10-05T13:14:05.513Z"
   },
   {
    "duration": 1658,
    "start_time": "2023-10-05T13:14:08.785Z"
   },
   {
    "duration": 1147,
    "start_time": "2023-10-05T13:14:10.445Z"
   },
   {
    "duration": 17,
    "start_time": "2023-10-05T13:14:11.593Z"
   },
   {
    "duration": 139,
    "start_time": "2023-10-05T13:14:11.612Z"
   },
   {
    "duration": 443,
    "start_time": "2023-10-05T13:14:11.753Z"
   },
   {
    "duration": 490,
    "start_time": "2023-10-05T13:14:12.197Z"
   },
   {
    "duration": 89,
    "start_time": "2023-10-05T13:14:12.689Z"
   },
   {
    "duration": 141,
    "start_time": "2023-10-05T13:14:12.779Z"
   },
   {
    "duration": 50,
    "start_time": "2023-10-05T13:14:12.921Z"
   },
   {
    "duration": 116,
    "start_time": "2023-10-05T13:14:12.972Z"
   },
   {
    "duration": 459,
    "start_time": "2023-10-05T13:14:13.090Z"
   },
   {
    "duration": 416,
    "start_time": "2023-10-05T13:14:13.550Z"
   },
   {
    "duration": 413,
    "start_time": "2023-10-05T13:14:13.969Z"
   },
   {
    "duration": 467,
    "start_time": "2023-10-05T13:14:14.384Z"
   },
   {
    "duration": 1450,
    "start_time": "2023-10-05T13:14:14.852Z"
   },
   {
    "duration": 501,
    "start_time": "2023-10-05T13:14:16.304Z"
   },
   {
    "duration": 27,
    "start_time": "2023-10-05T13:14:16.806Z"
   },
   {
    "duration": 301,
    "start_time": "2023-10-05T13:14:16.834Z"
   },
   {
    "duration": 352,
    "start_time": "2023-10-05T13:14:17.137Z"
   },
   {
    "duration": 20,
    "start_time": "2023-10-05T13:14:17.491Z"
   },
   {
    "duration": 305,
    "start_time": "2023-10-05T13:14:17.513Z"
   },
   {
    "duration": 325,
    "start_time": "2023-10-05T13:14:17.820Z"
   },
   {
    "duration": 18,
    "start_time": "2023-10-05T13:14:18.149Z"
   },
   {
    "duration": 327,
    "start_time": "2023-10-05T13:14:18.168Z"
   },
   {
    "duration": 14,
    "start_time": "2023-10-05T13:14:18.497Z"
   },
   {
    "duration": 36,
    "start_time": "2023-10-05T13:14:18.512Z"
   },
   {
    "duration": 26,
    "start_time": "2023-10-05T13:14:18.550Z"
   },
   {
    "duration": 29,
    "start_time": "2023-10-05T13:14:18.578Z"
   },
   {
    "duration": 71,
    "start_time": "2023-10-05T13:14:18.608Z"
   },
   {
    "duration": 20,
    "start_time": "2023-10-05T13:14:18.680Z"
   },
   {
    "duration": 22,
    "start_time": "2023-10-05T13:14:18.702Z"
   },
   {
    "duration": 28,
    "start_time": "2023-10-05T13:14:18.725Z"
   },
   {
    "duration": 33,
    "start_time": "2023-10-05T13:14:18.754Z"
   },
   {
    "duration": 41,
    "start_time": "2023-10-05T13:14:18.788Z"
   },
   {
    "duration": 36,
    "start_time": "2023-10-05T13:14:18.831Z"
   },
   {
    "duration": 40,
    "start_time": "2023-10-05T13:14:18.869Z"
   },
   {
    "duration": 43,
    "start_time": "2023-10-05T13:14:18.911Z"
   },
   {
    "duration": 86,
    "start_time": "2023-10-05T13:14:18.955Z"
   },
   {
    "duration": 82,
    "start_time": "2023-10-05T13:14:19.042Z"
   },
   {
    "duration": 20,
    "start_time": "2023-10-05T13:14:19.128Z"
   },
   {
    "duration": 41,
    "start_time": "2023-10-05T13:14:19.149Z"
   },
   {
    "duration": 454,
    "start_time": "2023-10-05T13:14:19.192Z"
   },
   {
    "duration": 4063,
    "start_time": "2023-10-05T13:14:19.647Z"
   },
   {
    "duration": 65,
    "start_time": "2023-10-05T13:14:23.711Z"
   },
   {
    "duration": 86,
    "start_time": "2023-10-05T13:14:23.778Z"
   },
   {
    "duration": 112,
    "start_time": "2023-10-05T13:14:23.866Z"
   },
   {
    "duration": 579,
    "start_time": "2023-10-05T13:14:23.980Z"
   },
   {
    "duration": 144,
    "start_time": "2023-10-05T13:14:24.560Z"
   },
   {
    "duration": 198,
    "start_time": "2023-10-05T13:14:24.706Z"
   },
   {
    "duration": 4,
    "start_time": "2023-10-05T13:14:24.905Z"
   },
   {
    "duration": 92,
    "start_time": "2023-10-05T13:14:24.911Z"
   },
   {
    "duration": 23,
    "start_time": "2023-10-05T13:14:25.005Z"
   },
   {
    "duration": 127,
    "start_time": "2023-10-05T13:14:25.030Z"
   },
   {
    "duration": 4,
    "start_time": "2023-10-05T13:14:25.159Z"
   },
   {
    "duration": 17,
    "start_time": "2023-10-05T13:14:25.165Z"
   },
   {
    "duration": 54,
    "start_time": "2023-10-05T13:14:25.183Z"
   },
   {
    "duration": 4,
    "start_time": "2023-10-05T13:14:25.239Z"
   },
   {
    "duration": 91,
    "start_time": "2023-10-05T13:14:25.244Z"
   },
   {
    "duration": 3,
    "start_time": "2023-10-05T13:15:20.283Z"
   },
   {
    "duration": 3,
    "start_time": "2023-10-05T13:15:22.325Z"
   },
   {
    "duration": 77,
    "start_time": "2023-10-05T13:15:24.495Z"
   },
   {
    "duration": 81,
    "start_time": "2023-10-05T13:17:29.635Z"
   },
   {
    "duration": 168,
    "start_time": "2023-10-05T13:17:52.818Z"
   },
   {
    "duration": 11,
    "start_time": "2023-10-05T13:18:36.463Z"
   },
   {
    "duration": 14,
    "start_time": "2023-10-05T13:18:48.387Z"
   },
   {
    "duration": 11,
    "start_time": "2023-10-05T13:18:53.134Z"
   },
   {
    "duration": 12,
    "start_time": "2023-10-05T13:18:57.397Z"
   },
   {
    "duration": 3,
    "start_time": "2023-10-05T13:47:31.463Z"
   },
   {
    "duration": 8,
    "start_time": "2023-10-05T13:48:24.070Z"
   },
   {
    "duration": 3,
    "start_time": "2023-10-05T13:48:37.301Z"
   },
   {
    "duration": 3,
    "start_time": "2023-10-05T13:48:39.442Z"
   },
   {
    "duration": 12,
    "start_time": "2023-10-05T13:48:44.155Z"
   },
   {
    "duration": 4,
    "start_time": "2023-10-05T13:49:19.200Z"
   },
   {
    "duration": 3,
    "start_time": "2023-10-05T13:49:23.296Z"
   },
   {
    "duration": 13,
    "start_time": "2023-10-05T13:49:23.754Z"
   },
   {
    "duration": 3,
    "start_time": "2023-10-05T13:50:41.536Z"
   },
   {
    "duration": 4,
    "start_time": "2023-10-05T13:50:43.738Z"
   },
   {
    "duration": 12424,
    "start_time": "2023-10-05T13:50:46.365Z"
   },
   {
    "duration": 4,
    "start_time": "2023-10-05T13:51:30.242Z"
   },
   {
    "duration": 4,
    "start_time": "2023-10-05T13:52:00.332Z"
   },
   {
    "duration": 12455,
    "start_time": "2023-10-05T13:52:00.902Z"
   },
   {
    "duration": 4,
    "start_time": "2023-10-05T13:52:28.424Z"
   },
   {
    "duration": 3,
    "start_time": "2023-10-05T13:52:54.346Z"
   },
   {
    "duration": 19820,
    "start_time": "2023-10-05T13:53:21.429Z"
   },
   {
    "duration": 3,
    "start_time": "2023-10-05T13:53:42.854Z"
   },
   {
    "duration": 3,
    "start_time": "2023-10-05T13:53:58.779Z"
   },
   {
    "duration": 3,
    "start_time": "2023-10-05T13:54:03.598Z"
   },
   {
    "duration": 10,
    "start_time": "2023-10-05T13:54:38.807Z"
   },
   {
    "duration": 12,
    "start_time": "2023-10-05T13:54:56.372Z"
   },
   {
    "duration": 74,
    "start_time": "2023-10-05T13:57:00.700Z"
   },
   {
    "duration": 9,
    "start_time": "2023-10-05T13:57:43.292Z"
   },
   {
    "duration": 8,
    "start_time": "2023-10-05T13:57:48.848Z"
   },
   {
    "duration": 2,
    "start_time": "2023-10-05T13:58:08.855Z"
   },
   {
    "duration": 3,
    "start_time": "2023-10-05T13:58:09.416Z"
   },
   {
    "duration": 9,
    "start_time": "2023-10-05T13:59:47.897Z"
   },
   {
    "duration": 3,
    "start_time": "2023-10-05T14:00:20.434Z"
   },
   {
    "duration": 9,
    "start_time": "2023-10-05T14:00:21.195Z"
   },
   {
    "duration": 3,
    "start_time": "2023-10-05T14:03:02.276Z"
   },
   {
    "duration": 9,
    "start_time": "2023-10-05T14:03:06.631Z"
   },
   {
    "duration": 2242,
    "start_time": "2023-10-05T14:03:17.535Z"
   },
   {
    "duration": 6,
    "start_time": "2023-10-05T14:03:19.779Z"
   },
   {
    "duration": 894,
    "start_time": "2023-10-05T14:03:19.787Z"
   },
   {
    "duration": 14,
    "start_time": "2023-10-05T14:03:20.684Z"
   },
   {
    "duration": 189,
    "start_time": "2023-10-05T14:03:20.700Z"
   },
   {
    "duration": 477,
    "start_time": "2023-10-05T14:03:20.891Z"
   },
   {
    "duration": 439,
    "start_time": "2023-10-05T14:03:21.369Z"
   },
   {
    "duration": 92,
    "start_time": "2023-10-05T14:03:21.810Z"
   },
   {
    "duration": 134,
    "start_time": "2023-10-05T14:03:21.904Z"
   },
   {
    "duration": 42,
    "start_time": "2023-10-05T14:03:22.040Z"
   },
   {
    "duration": 96,
    "start_time": "2023-10-05T14:03:22.083Z"
   },
   {
    "duration": 486,
    "start_time": "2023-10-05T14:03:22.181Z"
   },
   {
    "duration": 439,
    "start_time": "2023-10-05T14:03:22.669Z"
   },
   {
    "duration": 395,
    "start_time": "2023-10-05T14:03:23.110Z"
   },
   {
    "duration": 453,
    "start_time": "2023-10-05T14:03:23.506Z"
   },
   {
    "duration": 961,
    "start_time": "2023-10-05T14:03:23.961Z"
   },
   {
    "duration": 0,
    "start_time": "2023-10-05T14:03:24.924Z"
   },
   {
    "duration": 0,
    "start_time": "2023-10-05T14:03:24.927Z"
   },
   {
    "duration": 0,
    "start_time": "2023-10-05T14:03:24.928Z"
   },
   {
    "duration": 0,
    "start_time": "2023-10-05T14:03:24.929Z"
   },
   {
    "duration": 0,
    "start_time": "2023-10-05T14:03:24.931Z"
   },
   {
    "duration": 0,
    "start_time": "2023-10-05T14:03:24.932Z"
   },
   {
    "duration": 0,
    "start_time": "2023-10-05T14:03:24.934Z"
   },
   {
    "duration": 0,
    "start_time": "2023-10-05T14:03:24.949Z"
   },
   {
    "duration": 0,
    "start_time": "2023-10-05T14:03:24.951Z"
   },
   {
    "duration": 0,
    "start_time": "2023-10-05T14:03:24.952Z"
   },
   {
    "duration": 0,
    "start_time": "2023-10-05T14:03:24.953Z"
   },
   {
    "duration": 0,
    "start_time": "2023-10-05T14:03:24.954Z"
   },
   {
    "duration": 0,
    "start_time": "2023-10-05T14:03:24.956Z"
   },
   {
    "duration": 0,
    "start_time": "2023-10-05T14:03:24.957Z"
   },
   {
    "duration": 0,
    "start_time": "2023-10-05T14:03:24.959Z"
   },
   {
    "duration": 0,
    "start_time": "2023-10-05T14:03:24.960Z"
   },
   {
    "duration": 0,
    "start_time": "2023-10-05T14:03:24.962Z"
   },
   {
    "duration": 0,
    "start_time": "2023-10-05T14:03:24.963Z"
   },
   {
    "duration": 0,
    "start_time": "2023-10-05T14:03:24.965Z"
   },
   {
    "duration": 0,
    "start_time": "2023-10-05T14:03:24.966Z"
   },
   {
    "duration": 0,
    "start_time": "2023-10-05T14:03:24.968Z"
   },
   {
    "duration": 0,
    "start_time": "2023-10-05T14:03:24.969Z"
   },
   {
    "duration": 0,
    "start_time": "2023-10-05T14:03:24.970Z"
   },
   {
    "duration": 0,
    "start_time": "2023-10-05T14:03:24.971Z"
   },
   {
    "duration": 0,
    "start_time": "2023-10-05T14:03:24.974Z"
   },
   {
    "duration": 0,
    "start_time": "2023-10-05T14:03:24.975Z"
   },
   {
    "duration": 0,
    "start_time": "2023-10-05T14:03:24.976Z"
   },
   {
    "duration": 0,
    "start_time": "2023-10-05T14:03:24.978Z"
   },
   {
    "duration": 0,
    "start_time": "2023-10-05T14:03:24.979Z"
   },
   {
    "duration": 0,
    "start_time": "2023-10-05T14:03:24.980Z"
   },
   {
    "duration": 0,
    "start_time": "2023-10-05T14:03:24.982Z"
   },
   {
    "duration": 0,
    "start_time": "2023-10-05T14:03:24.983Z"
   },
   {
    "duration": 0,
    "start_time": "2023-10-05T14:03:24.985Z"
   },
   {
    "duration": 0,
    "start_time": "2023-10-05T14:03:24.986Z"
   },
   {
    "duration": 0,
    "start_time": "2023-10-05T14:03:24.988Z"
   },
   {
    "duration": 0,
    "start_time": "2023-10-05T14:03:25.050Z"
   },
   {
    "duration": 0,
    "start_time": "2023-10-05T14:03:25.052Z"
   },
   {
    "duration": 0,
    "start_time": "2023-10-05T14:03:25.053Z"
   },
   {
    "duration": 0,
    "start_time": "2023-10-05T14:03:25.054Z"
   },
   {
    "duration": 0,
    "start_time": "2023-10-05T14:03:25.056Z"
   },
   {
    "duration": 0,
    "start_time": "2023-10-05T14:03:25.057Z"
   },
   {
    "duration": 0,
    "start_time": "2023-10-05T14:03:25.058Z"
   },
   {
    "duration": 0,
    "start_time": "2023-10-05T14:03:25.060Z"
   },
   {
    "duration": 0,
    "start_time": "2023-10-05T14:03:25.061Z"
   },
   {
    "duration": 0,
    "start_time": "2023-10-05T14:03:25.062Z"
   },
   {
    "duration": 0,
    "start_time": "2023-10-05T14:03:25.064Z"
   },
   {
    "duration": 0,
    "start_time": "2023-10-05T14:03:25.065Z"
   },
   {
    "duration": 0,
    "start_time": "2023-10-05T14:03:25.066Z"
   },
   {
    "duration": 0,
    "start_time": "2023-10-05T14:03:25.067Z"
   },
   {
    "duration": 1,
    "start_time": "2023-10-05T14:03:25.068Z"
   },
   {
    "duration": 0,
    "start_time": "2023-10-05T14:03:25.070Z"
   },
   {
    "duration": 2250,
    "start_time": "2023-10-05T14:03:40.389Z"
   },
   {
    "duration": 1518,
    "start_time": "2023-10-05T14:03:42.642Z"
   },
   {
    "duration": 936,
    "start_time": "2023-10-05T14:03:44.161Z"
   },
   {
    "duration": 17,
    "start_time": "2023-10-05T14:03:45.099Z"
   },
   {
    "duration": 159,
    "start_time": "2023-10-05T14:03:45.118Z"
   },
   {
    "duration": 490,
    "start_time": "2023-10-05T14:03:45.279Z"
   },
   {
    "duration": 569,
    "start_time": "2023-10-05T14:03:45.771Z"
   },
   {
    "duration": 125,
    "start_time": "2023-10-05T14:03:46.343Z"
   },
   {
    "duration": 144,
    "start_time": "2023-10-05T14:03:46.471Z"
   },
   {
    "duration": 55,
    "start_time": "2023-10-05T14:03:46.619Z"
   },
   {
    "duration": 147,
    "start_time": "2023-10-05T14:03:46.676Z"
   },
   {
    "duration": 525,
    "start_time": "2023-10-05T14:03:46.824Z"
   },
   {
    "duration": 527,
    "start_time": "2023-10-05T14:03:47.351Z"
   },
   {
    "duration": 464,
    "start_time": "2023-10-05T14:03:47.880Z"
   },
   {
    "duration": 503,
    "start_time": "2023-10-05T14:03:48.346Z"
   },
   {
    "duration": 1553,
    "start_time": "2023-10-05T14:03:48.851Z"
   },
   {
    "duration": 467,
    "start_time": "2023-10-05T14:03:50.406Z"
   },
   {
    "duration": 26,
    "start_time": "2023-10-05T14:03:50.875Z"
   },
   {
    "duration": 316,
    "start_time": "2023-10-05T14:03:50.902Z"
   },
   {
    "duration": 353,
    "start_time": "2023-10-05T14:03:51.220Z"
   },
   {
    "duration": 20,
    "start_time": "2023-10-05T14:03:51.575Z"
   },
   {
    "duration": 289,
    "start_time": "2023-10-05T14:03:51.597Z"
   },
   {
    "duration": 318,
    "start_time": "2023-10-05T14:03:51.887Z"
   },
   {
    "duration": 20,
    "start_time": "2023-10-05T14:03:52.207Z"
   },
   {
    "duration": 357,
    "start_time": "2023-10-05T14:03:52.229Z"
   },
   {
    "duration": 18,
    "start_time": "2023-10-05T14:03:52.588Z"
   },
   {
    "duration": 21,
    "start_time": "2023-10-05T14:03:52.609Z"
   },
   {
    "duration": 29,
    "start_time": "2023-10-05T14:03:52.635Z"
   },
   {
    "duration": 20,
    "start_time": "2023-10-05T14:03:52.666Z"
   },
   {
    "duration": 96,
    "start_time": "2023-10-05T14:03:52.688Z"
   },
   {
    "duration": 28,
    "start_time": "2023-10-05T14:03:52.785Z"
   },
   {
    "duration": 26,
    "start_time": "2023-10-05T14:03:52.815Z"
   },
   {
    "duration": 47,
    "start_time": "2023-10-05T14:03:52.843Z"
   },
   {
    "duration": 38,
    "start_time": "2023-10-05T14:03:52.891Z"
   },
   {
    "duration": 26,
    "start_time": "2023-10-05T14:03:52.931Z"
   },
   {
    "duration": 28,
    "start_time": "2023-10-05T14:03:52.958Z"
   },
   {
    "duration": 30,
    "start_time": "2023-10-05T14:03:52.987Z"
   },
   {
    "duration": 53,
    "start_time": "2023-10-05T14:03:53.019Z"
   },
   {
    "duration": 66,
    "start_time": "2023-10-05T14:03:53.074Z"
   },
   {
    "duration": 10,
    "start_time": "2023-10-05T14:03:53.141Z"
   },
   {
    "duration": 34,
    "start_time": "2023-10-05T14:03:53.153Z"
   },
   {
    "duration": 14,
    "start_time": "2023-10-05T14:03:53.189Z"
   },
   {
    "duration": 368,
    "start_time": "2023-10-05T14:03:53.205Z"
   },
   {
    "duration": 4118,
    "start_time": "2023-10-05T14:03:53.575Z"
   },
   {
    "duration": 63,
    "start_time": "2023-10-05T14:03:57.695Z"
   },
   {
    "duration": 43,
    "start_time": "2023-10-05T14:03:57.760Z"
   },
   {
    "duration": 121,
    "start_time": "2023-10-05T14:03:57.805Z"
   },
   {
    "duration": 577,
    "start_time": "2023-10-05T14:03:57.928Z"
   },
   {
    "duration": 146,
    "start_time": "2023-10-05T14:03:58.507Z"
   },
   {
    "duration": 200,
    "start_time": "2023-10-05T14:03:58.654Z"
   },
   {
    "duration": 4,
    "start_time": "2023-10-05T14:03:58.856Z"
   },
   {
    "duration": 105,
    "start_time": "2023-10-05T14:03:58.861Z"
   },
   {
    "duration": 16,
    "start_time": "2023-10-05T14:03:58.968Z"
   },
   {
    "duration": 132,
    "start_time": "2023-10-05T14:03:58.986Z"
   },
   {
    "duration": 6,
    "start_time": "2023-10-05T14:03:59.119Z"
   },
   {
    "duration": 21,
    "start_time": "2023-10-05T14:03:59.127Z"
   },
   {
    "duration": 32,
    "start_time": "2023-10-05T14:03:59.151Z"
   },
   {
    "duration": 5,
    "start_time": "2023-10-05T14:03:59.185Z"
   },
   {
    "duration": 21,
    "start_time": "2023-10-05T14:03:59.192Z"
   },
   {
    "duration": 13738,
    "start_time": "2023-10-05T14:03:59.215Z"
   },
   {
    "duration": 5,
    "start_time": "2023-10-05T14:04:12.956Z"
   },
   {
    "duration": 9,
    "start_time": "2023-10-05T14:04:12.962Z"
   },
   {
    "duration": 22076,
    "start_time": "2023-10-05T14:04:12.974Z"
   },
   {
    "duration": 5,
    "start_time": "2023-10-05T14:04:35.052Z"
   },
   {
    "duration": 95,
    "start_time": "2023-10-05T14:04:35.058Z"
   },
   {
    "duration": 13,
    "start_time": "2023-10-05T14:04:35.155Z"
   },
   {
    "duration": 4,
    "start_time": "2023-10-05T14:05:09.482Z"
   },
   {
    "duration": 4,
    "start_time": "2023-10-05T14:05:11.132Z"
   },
   {
    "duration": 124,
    "start_time": "2023-10-05T14:05:12.775Z"
   },
   {
    "duration": 10,
    "start_time": "2023-10-05T14:06:31.197Z"
   },
   {
    "duration": 13,
    "start_time": "2023-10-05T14:07:14.063Z"
   },
   {
    "duration": 10,
    "start_time": "2023-10-05T14:07:19.565Z"
   },
   {
    "duration": 88,
    "start_time": "2023-10-05T14:08:39.562Z"
   },
   {
    "duration": 3,
    "start_time": "2023-10-05T14:09:36.970Z"
   },
   {
    "duration": 144369,
    "start_time": "2023-10-05T14:10:25.430Z"
   },
   {
    "duration": 2208,
    "start_time": "2023-10-05T14:35:48.795Z"
   },
   {
    "duration": 2086,
    "start_time": "2023-10-05T14:36:06.874Z"
   },
   {
    "duration": 1453,
    "start_time": "2023-10-05T14:36:08.962Z"
   },
   {
    "duration": 861,
    "start_time": "2023-10-05T14:36:10.416Z"
   },
   {
    "duration": 17,
    "start_time": "2023-10-05T14:36:11.278Z"
   },
   {
    "duration": 161,
    "start_time": "2023-10-05T14:36:11.297Z"
   },
   {
    "duration": 438,
    "start_time": "2023-10-05T14:36:11.460Z"
   },
   {
    "duration": 479,
    "start_time": "2023-10-05T14:36:11.900Z"
   },
   {
    "duration": 95,
    "start_time": "2023-10-05T14:36:12.380Z"
   },
   {
    "duration": 136,
    "start_time": "2023-10-05T14:36:12.477Z"
   },
   {
    "duration": 62,
    "start_time": "2023-10-05T14:36:12.614Z"
   },
   {
    "duration": 130,
    "start_time": "2023-10-05T14:36:12.678Z"
   },
   {
    "duration": 457,
    "start_time": "2023-10-05T14:36:12.810Z"
   },
   {
    "duration": 432,
    "start_time": "2023-10-05T14:36:13.268Z"
   },
   {
    "duration": 437,
    "start_time": "2023-10-05T14:36:13.703Z"
   },
   {
    "duration": 467,
    "start_time": "2023-10-05T14:36:14.142Z"
   },
   {
    "duration": 1377,
    "start_time": "2023-10-05T14:36:14.611Z"
   },
   {
    "duration": 522,
    "start_time": "2023-10-05T14:36:15.990Z"
   },
   {
    "duration": 35,
    "start_time": "2023-10-05T14:36:16.514Z"
   },
   {
    "duration": 339,
    "start_time": "2023-10-05T14:36:16.551Z"
   },
   {
    "duration": 348,
    "start_time": "2023-10-05T14:36:16.892Z"
   },
   {
    "duration": 20,
    "start_time": "2023-10-05T14:36:17.242Z"
   },
   {
    "duration": 347,
    "start_time": "2023-10-05T14:36:17.264Z"
   },
   {
    "duration": 312,
    "start_time": "2023-10-05T14:36:17.612Z"
   },
   {
    "duration": 24,
    "start_time": "2023-10-05T14:36:17.926Z"
   },
   {
    "duration": 308,
    "start_time": "2023-10-05T14:36:17.951Z"
   },
   {
    "duration": 15,
    "start_time": "2023-10-05T14:36:18.260Z"
   },
   {
    "duration": 53,
    "start_time": "2023-10-05T14:36:18.276Z"
   },
   {
    "duration": 91,
    "start_time": "2023-10-05T14:36:18.331Z"
   },
   {
    "duration": 346,
    "start_time": "2023-10-05T14:36:18.424Z"
   },
   {
    "duration": 93,
    "start_time": "2023-10-05T14:36:18.771Z"
   },
   {
    "duration": 32,
    "start_time": "2023-10-05T14:36:18.866Z"
   },
   {
    "duration": 21,
    "start_time": "2023-10-05T14:36:18.900Z"
   },
   {
    "duration": 32,
    "start_time": "2023-10-05T14:36:18.923Z"
   },
   {
    "duration": 33,
    "start_time": "2023-10-05T14:36:18.957Z"
   },
   {
    "duration": 28,
    "start_time": "2023-10-05T14:36:18.992Z"
   },
   {
    "duration": 36,
    "start_time": "2023-10-05T14:36:19.022Z"
   },
   {
    "duration": 25,
    "start_time": "2023-10-05T14:36:19.060Z"
   },
   {
    "duration": 45,
    "start_time": "2023-10-05T14:36:19.087Z"
   },
   {
    "duration": 75,
    "start_time": "2023-10-05T14:36:19.135Z"
   },
   {
    "duration": 12,
    "start_time": "2023-10-05T14:36:19.212Z"
   },
   {
    "duration": 12,
    "start_time": "2023-10-05T14:36:19.229Z"
   },
   {
    "duration": 21,
    "start_time": "2023-10-05T14:36:19.243Z"
   },
   {
    "duration": 402,
    "start_time": "2023-10-05T14:36:19.266Z"
   },
   {
    "duration": 4091,
    "start_time": "2023-10-05T14:36:19.669Z"
   },
   {
    "duration": 67,
    "start_time": "2023-10-05T14:36:23.762Z"
   },
   {
    "duration": 39,
    "start_time": "2023-10-05T14:36:23.830Z"
   },
   {
    "duration": 89,
    "start_time": "2023-10-05T14:36:23.870Z"
   },
   {
    "duration": 513,
    "start_time": "2023-10-05T14:36:23.961Z"
   },
   {
    "duration": 141,
    "start_time": "2023-10-05T14:36:24.476Z"
   },
   {
    "duration": 206,
    "start_time": "2023-10-05T14:36:24.619Z"
   },
   {
    "duration": 5,
    "start_time": "2023-10-05T14:36:24.826Z"
   },
   {
    "duration": 97,
    "start_time": "2023-10-05T14:36:24.832Z"
   },
   {
    "duration": 3,
    "start_time": "2023-10-05T14:36:24.931Z"
   },
   {
    "duration": 126,
    "start_time": "2023-10-05T14:36:24.936Z"
   },
   {
    "duration": 5,
    "start_time": "2023-10-05T14:36:25.064Z"
   },
   {
    "duration": 42,
    "start_time": "2023-10-05T14:36:25.070Z"
   },
   {
    "duration": 44,
    "start_time": "2023-10-05T14:36:25.113Z"
   },
   {
    "duration": 4,
    "start_time": "2023-10-05T14:36:25.159Z"
   },
   {
    "duration": 37,
    "start_time": "2023-10-05T14:36:25.165Z"
   },
   {
    "duration": 12824,
    "start_time": "2023-10-05T14:36:25.204Z"
   },
   {
    "duration": 4,
    "start_time": "2023-10-05T14:36:38.030Z"
   },
   {
    "duration": 23,
    "start_time": "2023-10-05T14:36:38.036Z"
   },
   {
    "duration": 20095,
    "start_time": "2023-10-05T14:36:38.061Z"
   },
   {
    "duration": 4,
    "start_time": "2023-10-05T14:36:58.159Z"
   },
   {
    "duration": 27,
    "start_time": "2023-10-05T14:36:58.250Z"
   },
   {
    "duration": 24,
    "start_time": "2023-10-05T14:36:58.279Z"
   },
   {
    "duration": 28,
    "start_time": "2023-10-05T14:36:58.304Z"
   },
   {
    "duration": 144662,
    "start_time": "2023-10-05T14:36:58.333Z"
   },
   {
    "duration": 0,
    "start_time": "2023-10-05T14:39:22.997Z"
   },
   {
    "duration": 0,
    "start_time": "2023-10-05T14:39:22.998Z"
   },
   {
    "duration": 0,
    "start_time": "2023-10-05T14:39:22.999Z"
   },
   {
    "duration": 0,
    "start_time": "2023-10-05T14:39:23.000Z"
   },
   {
    "duration": 23854,
    "start_time": "2023-10-05T14:40:09.009Z"
   },
   {
    "duration": 12,
    "start_time": "2023-10-05T14:40:36.294Z"
   },
   {
    "duration": 2091,
    "start_time": "2023-10-05T14:40:53.482Z"
   },
   {
    "duration": 1475,
    "start_time": "2023-10-05T14:40:55.575Z"
   },
   {
    "duration": 850,
    "start_time": "2023-10-05T14:40:57.052Z"
   },
   {
    "duration": 18,
    "start_time": "2023-10-05T14:40:57.904Z"
   },
   {
    "duration": 145,
    "start_time": "2023-10-05T14:40:57.923Z"
   },
   {
    "duration": 456,
    "start_time": "2023-10-05T14:40:58.070Z"
   },
   {
    "duration": 501,
    "start_time": "2023-10-05T14:40:58.528Z"
   },
   {
    "duration": 92,
    "start_time": "2023-10-05T14:40:59.031Z"
   },
   {
    "duration": 239,
    "start_time": "2023-10-05T14:40:59.124Z"
   },
   {
    "duration": 53,
    "start_time": "2023-10-05T14:40:59.367Z"
   },
   {
    "duration": 129,
    "start_time": "2023-10-05T14:40:59.422Z"
   },
   {
    "duration": 512,
    "start_time": "2023-10-05T14:40:59.552Z"
   },
   {
    "duration": 465,
    "start_time": "2023-10-05T14:41:00.066Z"
   },
   {
    "duration": 431,
    "start_time": "2023-10-05T14:41:00.533Z"
   },
   {
    "duration": 461,
    "start_time": "2023-10-05T14:41:00.965Z"
   },
   {
    "duration": 1380,
    "start_time": "2023-10-05T14:41:01.427Z"
   },
   {
    "duration": 482,
    "start_time": "2023-10-05T14:41:02.808Z"
   },
   {
    "duration": 27,
    "start_time": "2023-10-05T14:41:03.291Z"
   },
   {
    "duration": 296,
    "start_time": "2023-10-05T14:41:03.320Z"
   },
   {
    "duration": 317,
    "start_time": "2023-10-05T14:41:03.617Z"
   },
   {
    "duration": 29,
    "start_time": "2023-10-05T14:41:03.936Z"
   },
   {
    "duration": 366,
    "start_time": "2023-10-05T14:41:03.967Z"
   },
   {
    "duration": 318,
    "start_time": "2023-10-05T14:41:04.334Z"
   },
   {
    "duration": 19,
    "start_time": "2023-10-05T14:41:04.654Z"
   },
   {
    "duration": 310,
    "start_time": "2023-10-05T14:41:04.675Z"
   },
   {
    "duration": 15,
    "start_time": "2023-10-05T14:41:04.986Z"
   },
   {
    "duration": 33,
    "start_time": "2023-10-05T14:41:05.002Z"
   },
   {
    "duration": 33,
    "start_time": "2023-10-05T14:41:05.040Z"
   },
   {
    "duration": 46,
    "start_time": "2023-10-05T14:41:05.075Z"
   },
   {
    "duration": 75,
    "start_time": "2023-10-05T14:41:05.122Z"
   },
   {
    "duration": 31,
    "start_time": "2023-10-05T14:41:05.199Z"
   },
   {
    "duration": 27,
    "start_time": "2023-10-05T14:41:05.232Z"
   },
   {
    "duration": 24,
    "start_time": "2023-10-05T14:41:05.261Z"
   },
   {
    "duration": 36,
    "start_time": "2023-10-05T14:41:05.287Z"
   },
   {
    "duration": 33,
    "start_time": "2023-10-05T14:41:05.325Z"
   },
   {
    "duration": 43,
    "start_time": "2023-10-05T14:41:05.360Z"
   },
   {
    "duration": 45,
    "start_time": "2023-10-05T14:41:05.404Z"
   },
   {
    "duration": 27,
    "start_time": "2023-10-05T14:41:05.451Z"
   },
   {
    "duration": 80,
    "start_time": "2023-10-05T14:41:05.480Z"
   },
   {
    "duration": 42,
    "start_time": "2023-10-05T14:41:05.561Z"
   },
   {
    "duration": 41,
    "start_time": "2023-10-05T14:41:05.604Z"
   },
   {
    "duration": 25,
    "start_time": "2023-10-05T14:41:05.646Z"
   },
   {
    "duration": 398,
    "start_time": "2023-10-05T14:41:05.672Z"
   },
   {
    "duration": 3916,
    "start_time": "2023-10-05T14:41:06.072Z"
   },
   {
    "duration": 66,
    "start_time": "2023-10-05T14:41:09.989Z"
   },
   {
    "duration": 26,
    "start_time": "2023-10-05T14:41:10.057Z"
   },
   {
    "duration": 73,
    "start_time": "2023-10-05T14:41:10.084Z"
   },
   {
    "duration": 520,
    "start_time": "2023-10-05T14:41:10.159Z"
   },
   {
    "duration": 140,
    "start_time": "2023-10-05T14:41:10.681Z"
   },
   {
    "duration": 195,
    "start_time": "2023-10-05T14:41:10.822Z"
   },
   {
    "duration": 4,
    "start_time": "2023-10-05T14:41:11.019Z"
   },
   {
    "duration": 71,
    "start_time": "2023-10-05T14:41:11.024Z"
   },
   {
    "duration": 2,
    "start_time": "2023-10-05T14:41:11.096Z"
   },
   {
    "duration": 112,
    "start_time": "2023-10-05T14:41:11.100Z"
   },
   {
    "duration": 4,
    "start_time": "2023-10-05T14:41:11.214Z"
   },
   {
    "duration": 153,
    "start_time": "2023-10-05T14:41:11.219Z"
   },
   {
    "duration": 62,
    "start_time": "2023-10-05T14:41:11.373Z"
   },
   {
    "duration": 3,
    "start_time": "2023-10-05T14:41:11.437Z"
   },
   {
    "duration": 19,
    "start_time": "2023-10-05T14:41:11.441Z"
   },
   {
    "duration": 12259,
    "start_time": "2023-10-05T14:41:11.462Z"
   },
   {
    "duration": 4,
    "start_time": "2023-10-05T14:41:23.722Z"
   },
   {
    "duration": 16,
    "start_time": "2023-10-05T14:41:23.728Z"
   },
   {
    "duration": 18814,
    "start_time": "2023-10-05T14:41:23.745Z"
   },
   {
    "duration": 12,
    "start_time": "2023-10-05T14:41:42.561Z"
   },
   {
    "duration": 84,
    "start_time": "2023-10-05T14:41:42.574Z"
   },
   {
    "duration": 52,
    "start_time": "2023-10-05T14:41:42.661Z"
   },
   {
    "duration": 31,
    "start_time": "2023-10-05T14:41:42.715Z"
   },
   {
    "duration": 2173,
    "start_time": "2023-10-05T14:42:32.576Z"
   },
   {
    "duration": 1508,
    "start_time": "2023-10-05T14:42:34.751Z"
   },
   {
    "duration": 924,
    "start_time": "2023-10-05T14:42:36.261Z"
   },
   {
    "duration": 16,
    "start_time": "2023-10-05T14:42:37.188Z"
   },
   {
    "duration": 156,
    "start_time": "2023-10-05T14:42:37.205Z"
   },
   {
    "duration": 446,
    "start_time": "2023-10-05T14:42:37.363Z"
   },
   {
    "duration": 490,
    "start_time": "2023-10-05T14:42:37.811Z"
   },
   {
    "duration": 93,
    "start_time": "2023-10-05T14:42:38.303Z"
   },
   {
    "duration": 153,
    "start_time": "2023-10-05T14:42:38.399Z"
   },
   {
    "duration": 33,
    "start_time": "2023-10-05T14:42:38.554Z"
   },
   {
    "duration": 140,
    "start_time": "2023-10-05T14:42:38.589Z"
   },
   {
    "duration": 504,
    "start_time": "2023-10-05T14:42:38.731Z"
   },
   {
    "duration": 447,
    "start_time": "2023-10-05T14:42:39.237Z"
   },
   {
    "duration": 421,
    "start_time": "2023-10-05T14:42:39.686Z"
   },
   {
    "duration": 459,
    "start_time": "2023-10-05T14:42:40.108Z"
   },
   {
    "duration": 1340,
    "start_time": "2023-10-05T14:42:40.568Z"
   },
   {
    "duration": 442,
    "start_time": "2023-10-05T14:42:41.910Z"
   },
   {
    "duration": 27,
    "start_time": "2023-10-05T14:42:42.354Z"
   },
   {
    "duration": 328,
    "start_time": "2023-10-05T14:42:42.383Z"
   },
   {
    "duration": 330,
    "start_time": "2023-10-05T14:42:42.713Z"
   },
   {
    "duration": 21,
    "start_time": "2023-10-05T14:42:43.045Z"
   },
   {
    "duration": 272,
    "start_time": "2023-10-05T14:42:43.068Z"
   },
   {
    "duration": 342,
    "start_time": "2023-10-05T14:42:43.342Z"
   },
   {
    "duration": 23,
    "start_time": "2023-10-05T14:42:43.686Z"
   },
   {
    "duration": 321,
    "start_time": "2023-10-05T14:42:43.712Z"
   },
   {
    "duration": 20,
    "start_time": "2023-10-05T14:42:44.035Z"
   },
   {
    "duration": 30,
    "start_time": "2023-10-05T14:42:44.056Z"
   },
   {
    "duration": 17,
    "start_time": "2023-10-05T14:42:44.089Z"
   },
   {
    "duration": 21,
    "start_time": "2023-10-05T14:42:44.107Z"
   },
   {
    "duration": 63,
    "start_time": "2023-10-05T14:42:44.130Z"
   },
   {
    "duration": 16,
    "start_time": "2023-10-05T14:42:44.194Z"
   },
   {
    "duration": 30,
    "start_time": "2023-10-05T14:42:44.212Z"
   },
   {
    "duration": 16,
    "start_time": "2023-10-05T14:42:44.244Z"
   },
   {
    "duration": 40,
    "start_time": "2023-10-05T14:42:44.262Z"
   },
   {
    "duration": 27,
    "start_time": "2023-10-05T14:42:44.303Z"
   },
   {
    "duration": 21,
    "start_time": "2023-10-05T14:42:44.332Z"
   },
   {
    "duration": 19,
    "start_time": "2023-10-05T14:42:44.354Z"
   },
   {
    "duration": 18,
    "start_time": "2023-10-05T14:42:44.374Z"
   },
   {
    "duration": 69,
    "start_time": "2023-10-05T14:42:44.393Z"
   },
   {
    "duration": 30,
    "start_time": "2023-10-05T14:42:44.464Z"
   },
   {
    "duration": 6,
    "start_time": "2023-10-05T14:42:44.496Z"
   },
   {
    "duration": 21,
    "start_time": "2023-10-05T14:42:44.503Z"
   },
   {
    "duration": 363,
    "start_time": "2023-10-05T14:42:44.525Z"
   },
   {
    "duration": 4256,
    "start_time": "2023-10-05T14:42:44.890Z"
   },
   {
    "duration": 84,
    "start_time": "2023-10-05T14:42:49.150Z"
   },
   {
    "duration": 16,
    "start_time": "2023-10-05T14:42:49.236Z"
   },
   {
    "duration": 103,
    "start_time": "2023-10-05T14:42:49.254Z"
   },
   {
    "duration": 565,
    "start_time": "2023-10-05T14:42:49.359Z"
   },
   {
    "duration": 139,
    "start_time": "2023-10-05T14:42:49.925Z"
   },
   {
    "duration": 190,
    "start_time": "2023-10-05T14:42:50.066Z"
   },
   {
    "duration": 4,
    "start_time": "2023-10-05T14:42:50.257Z"
   },
   {
    "duration": 105,
    "start_time": "2023-10-05T14:42:50.262Z"
   },
   {
    "duration": 17,
    "start_time": "2023-10-05T14:42:50.369Z"
   },
   {
    "duration": 130,
    "start_time": "2023-10-05T14:42:50.388Z"
   },
   {
    "duration": 4,
    "start_time": "2023-10-05T14:42:50.519Z"
   },
   {
    "duration": 17,
    "start_time": "2023-10-05T14:42:50.524Z"
   },
   {
    "duration": 43,
    "start_time": "2023-10-05T14:42:50.543Z"
   },
   {
    "duration": 3,
    "start_time": "2023-10-05T14:42:50.588Z"
   },
   {
    "duration": 23,
    "start_time": "2023-10-05T14:42:50.592Z"
   },
   {
    "duration": 13305,
    "start_time": "2023-10-05T14:42:50.617Z"
   },
   {
    "duration": 4,
    "start_time": "2023-10-05T14:43:03.923Z"
   },
   {
    "duration": 13075,
    "start_time": "2023-10-05T14:43:56.602Z"
   },
   {
    "duration": 5,
    "start_time": "2023-10-05T14:44:09.679Z"
   },
   {
    "duration": 37,
    "start_time": "2023-10-05T14:44:09.686Z"
   },
   {
    "duration": 19524,
    "start_time": "2023-10-05T14:44:09.726Z"
   },
   {
    "duration": 5,
    "start_time": "2023-10-05T14:44:29.252Z"
   },
   {
    "duration": 104,
    "start_time": "2023-10-05T14:44:29.259Z"
   },
   {
    "duration": 15,
    "start_time": "2023-10-05T14:44:29.365Z"
   },
   {
    "duration": 16,
    "start_time": "2023-10-05T14:44:29.381Z"
   },
   {
    "duration": 3719,
    "start_time": "2023-10-06T16:46:27.998Z"
   },
   {
    "duration": 2271,
    "start_time": "2023-10-06T16:46:31.720Z"
   },
   {
    "duration": 1698,
    "start_time": "2023-10-06T16:46:33.994Z"
   },
   {
    "duration": 1326,
    "start_time": "2023-10-06T16:46:35.694Z"
   },
   {
    "duration": 44,
    "start_time": "2023-10-06T16:46:37.022Z"
   },
   {
    "duration": 40,
    "start_time": "2023-10-06T16:46:37.067Z"
   },
   {
    "duration": 160,
    "start_time": "2023-10-06T16:46:37.109Z"
   },
   {
    "duration": 455,
    "start_time": "2023-10-06T16:46:37.271Z"
   },
   {
    "duration": 530,
    "start_time": "2023-10-06T16:46:37.727Z"
   },
   {
    "duration": 104,
    "start_time": "2023-10-06T16:46:38.259Z"
   },
   {
    "duration": 141,
    "start_time": "2023-10-06T16:46:38.365Z"
   },
   {
    "duration": 61,
    "start_time": "2023-10-06T16:46:38.507Z"
   },
   {
    "duration": 169,
    "start_time": "2023-10-06T16:46:38.569Z"
   },
   {
    "duration": 609,
    "start_time": "2023-10-06T16:46:38.740Z"
   },
   {
    "duration": 464,
    "start_time": "2023-10-06T16:46:39.351Z"
   },
   {
    "duration": 458,
    "start_time": "2023-10-06T16:46:39.824Z"
   },
   {
    "duration": 555,
    "start_time": "2023-10-06T16:46:40.284Z"
   },
   {
    "duration": 1535,
    "start_time": "2023-10-06T16:46:40.841Z"
   },
   {
    "duration": 482,
    "start_time": "2023-10-06T16:46:42.379Z"
   },
   {
    "duration": 27,
    "start_time": "2023-10-06T16:46:42.863Z"
   },
   {
    "duration": 332,
    "start_time": "2023-10-06T16:46:42.892Z"
   },
   {
    "duration": 359,
    "start_time": "2023-10-06T16:46:43.225Z"
   },
   {
    "duration": 20,
    "start_time": "2023-10-06T16:46:43.586Z"
   },
   {
    "duration": 293,
    "start_time": "2023-10-06T16:46:43.608Z"
   },
   {
    "duration": 337,
    "start_time": "2023-10-06T16:46:43.903Z"
   },
   {
    "duration": 19,
    "start_time": "2023-10-06T16:46:44.243Z"
   },
   {
    "duration": 620,
    "start_time": "2023-10-06T16:46:44.264Z"
   },
   {
    "duration": 17,
    "start_time": "2023-10-06T16:46:44.890Z"
   },
   {
    "duration": 36,
    "start_time": "2023-10-06T16:46:44.909Z"
   },
   {
    "duration": 30,
    "start_time": "2023-10-06T16:46:44.947Z"
   },
   {
    "duration": 9,
    "start_time": "2023-10-06T16:46:44.979Z"
   },
   {
    "duration": 97,
    "start_time": "2023-10-06T16:46:44.990Z"
   },
   {
    "duration": 42,
    "start_time": "2023-10-06T16:46:45.089Z"
   },
   {
    "duration": 22,
    "start_time": "2023-10-06T16:46:45.133Z"
   },
   {
    "duration": 29,
    "start_time": "2023-10-06T16:46:45.157Z"
   },
   {
    "duration": 17,
    "start_time": "2023-10-06T16:46:45.188Z"
   },
   {
    "duration": 18,
    "start_time": "2023-10-06T16:46:45.207Z"
   },
   {
    "duration": 29,
    "start_time": "2023-10-06T16:46:45.226Z"
   },
   {
    "duration": 16,
    "start_time": "2023-10-06T16:46:45.257Z"
   },
   {
    "duration": 21,
    "start_time": "2023-10-06T16:46:45.275Z"
   },
   {
    "duration": 67,
    "start_time": "2023-10-06T16:46:45.298Z"
   },
   {
    "duration": 12,
    "start_time": "2023-10-06T16:46:45.366Z"
   },
   {
    "duration": 32,
    "start_time": "2023-10-06T16:46:45.380Z"
   },
   {
    "duration": 6,
    "start_time": "2023-10-06T16:46:45.414Z"
   },
   {
    "duration": 469,
    "start_time": "2023-10-06T16:46:45.422Z"
   },
   {
    "duration": 4241,
    "start_time": "2023-10-06T16:46:45.894Z"
   },
   {
    "duration": 66,
    "start_time": "2023-10-06T16:46:50.136Z"
   },
   {
    "duration": 3,
    "start_time": "2023-10-06T16:46:50.204Z"
   },
   {
    "duration": 79,
    "start_time": "2023-10-06T16:46:50.224Z"
   },
   {
    "duration": 572,
    "start_time": "2023-10-06T16:46:50.305Z"
   },
   {
    "duration": 148,
    "start_time": "2023-10-06T16:46:50.879Z"
   },
   {
    "duration": 218,
    "start_time": "2023-10-06T16:46:51.029Z"
   },
   {
    "duration": 5,
    "start_time": "2023-10-06T16:46:51.249Z"
   },
   {
    "duration": 88,
    "start_time": "2023-10-06T16:46:51.256Z"
   },
   {
    "duration": 14,
    "start_time": "2023-10-06T16:46:51.346Z"
   },
   {
    "duration": 131,
    "start_time": "2023-10-06T16:46:51.361Z"
   },
   {
    "duration": 4,
    "start_time": "2023-10-06T16:46:51.494Z"
   },
   {
    "duration": 15,
    "start_time": "2023-10-06T16:46:51.500Z"
   },
   {
    "duration": 59,
    "start_time": "2023-10-06T16:46:51.517Z"
   },
   {
    "duration": 4,
    "start_time": "2023-10-06T16:46:51.578Z"
   },
   {
    "duration": 7,
    "start_time": "2023-10-06T16:46:51.584Z"
   },
   {
    "duration": 32575,
    "start_time": "2023-10-06T16:46:51.593Z"
   },
   {
    "duration": 4,
    "start_time": "2023-10-06T16:47:24.170Z"
   },
   {
    "duration": 88,
    "start_time": "2023-10-06T16:47:24.175Z"
   },
   {
    "duration": 21373,
    "start_time": "2023-10-06T16:47:24.265Z"
   },
   {
    "duration": 9,
    "start_time": "2023-10-06T16:47:45.728Z"
   },
   {
    "duration": 82,
    "start_time": "2023-10-06T16:47:45.742Z"
   },
   {
    "duration": 27,
    "start_time": "2023-10-06T16:47:45.827Z"
   },
   {
    "duration": 68,
    "start_time": "2023-10-06T16:47:45.856Z"
   },
   {
    "duration": 1045682,
    "start_time": "2023-10-06T16:47:45.927Z"
   },
   {
    "duration": 0,
    "start_time": "2023-10-06T17:05:11.611Z"
   },
   {
    "duration": 0,
    "start_time": "2023-10-06T17:05:11.612Z"
   },
   {
    "duration": 0,
    "start_time": "2023-10-06T17:05:11.614Z"
   },
   {
    "duration": 0,
    "start_time": "2023-10-06T17:05:11.617Z"
   },
   {
    "duration": 0,
    "start_time": "2023-10-06T17:05:11.624Z"
   },
   {
    "duration": 0,
    "start_time": "2023-10-06T17:05:11.625Z"
   },
   {
    "duration": 0,
    "start_time": "2023-10-06T17:05:11.626Z"
   },
   {
    "duration": 0,
    "start_time": "2023-10-06T17:05:11.627Z"
   },
   {
    "duration": 0,
    "start_time": "2023-10-06T17:05:11.628Z"
   },
   {
    "duration": 0,
    "start_time": "2023-10-06T17:05:11.631Z"
   },
   {
    "duration": 0,
    "start_time": "2023-10-06T17:05:11.632Z"
   },
   {
    "duration": 0,
    "start_time": "2023-10-06T17:05:11.633Z"
   },
   {
    "duration": 2261,
    "start_time": "2023-10-06T17:07:51.794Z"
   },
   {
    "duration": 2351,
    "start_time": "2023-10-06T17:07:54.058Z"
   },
   {
    "duration": 1853,
    "start_time": "2023-10-06T17:07:56.412Z"
   },
   {
    "duration": 982,
    "start_time": "2023-10-06T17:07:58.268Z"
   },
   {
    "duration": 50,
    "start_time": "2023-10-06T17:07:59.252Z"
   },
   {
    "duration": 34,
    "start_time": "2023-10-06T17:07:59.304Z"
   },
   {
    "duration": 202,
    "start_time": "2023-10-06T17:07:59.340Z"
   },
   {
    "duration": 565,
    "start_time": "2023-10-06T17:07:59.544Z"
   },
   {
    "duration": 637,
    "start_time": "2023-10-06T17:08:00.111Z"
   },
   {
    "duration": 136,
    "start_time": "2023-10-06T17:08:00.751Z"
   },
   {
    "duration": 246,
    "start_time": "2023-10-06T17:08:00.890Z"
   },
   {
    "duration": 318,
    "start_time": "2023-10-06T17:08:01.138Z"
   },
   {
    "duration": 616,
    "start_time": "2023-10-06T17:08:01.461Z"
   },
   {
    "duration": 897,
    "start_time": "2023-10-06T17:08:02.079Z"
   },
   {
    "duration": 640,
    "start_time": "2023-10-06T17:08:02.978Z"
   },
   {
    "duration": 701,
    "start_time": "2023-10-06T17:08:03.623Z"
   },
   {
    "duration": 544,
    "start_time": "2023-10-06T17:08:04.327Z"
   },
   {
    "duration": 1918,
    "start_time": "2023-10-06T17:08:04.873Z"
   },
   {
    "duration": 648,
    "start_time": "2023-10-06T17:08:06.796Z"
   },
   {
    "duration": 32,
    "start_time": "2023-10-06T17:08:07.446Z"
   },
   {
    "duration": 551,
    "start_time": "2023-10-06T17:08:07.480Z"
   },
   {
    "duration": 451,
    "start_time": "2023-10-06T17:08:08.033Z"
   },
   {
    "duration": 21,
    "start_time": "2023-10-06T17:08:08.486Z"
   },
   {
    "duration": 577,
    "start_time": "2023-10-06T17:08:08.508Z"
   },
   {
    "duration": 404,
    "start_time": "2023-10-06T17:08:09.086Z"
   },
   {
    "duration": 19,
    "start_time": "2023-10-06T17:08:09.492Z"
   },
   {
    "duration": 443,
    "start_time": "2023-10-06T17:08:09.513Z"
   },
   {
    "duration": 16,
    "start_time": "2023-10-06T17:08:09.959Z"
   },
   {
    "duration": 151,
    "start_time": "2023-10-06T17:08:09.976Z"
   },
   {
    "duration": 301,
    "start_time": "2023-10-06T17:08:10.130Z"
   },
   {
    "duration": 48,
    "start_time": "2023-10-06T17:08:10.433Z"
   },
   {
    "duration": 124,
    "start_time": "2023-10-06T17:08:10.484Z"
   },
   {
    "duration": 91,
    "start_time": "2023-10-06T17:08:10.610Z"
   },
   {
    "duration": 70,
    "start_time": "2023-10-06T17:08:10.703Z"
   },
   {
    "duration": 91,
    "start_time": "2023-10-06T17:08:10.775Z"
   },
   {
    "duration": 91,
    "start_time": "2023-10-06T17:08:10.869Z"
   },
   {
    "duration": 122,
    "start_time": "2023-10-06T17:08:10.963Z"
   },
   {
    "duration": 122,
    "start_time": "2023-10-06T17:08:11.087Z"
   },
   {
    "duration": 90,
    "start_time": "2023-10-06T17:08:11.211Z"
   },
   {
    "duration": 110,
    "start_time": "2023-10-06T17:08:11.303Z"
   },
   {
    "duration": 170,
    "start_time": "2023-10-06T17:08:11.416Z"
   },
   {
    "duration": 60,
    "start_time": "2023-10-06T17:08:11.589Z"
   },
   {
    "duration": 36,
    "start_time": "2023-10-06T17:08:11.651Z"
   },
   {
    "duration": 31,
    "start_time": "2023-10-06T17:08:11.689Z"
   },
   {
    "duration": 464,
    "start_time": "2023-10-06T17:08:11.722Z"
   },
   {
    "duration": 5178,
    "start_time": "2023-10-06T17:08:12.188Z"
   },
   {
    "duration": 76,
    "start_time": "2023-10-06T17:08:17.367Z"
   },
   {
    "duration": 2,
    "start_time": "2023-10-06T17:08:17.445Z"
   },
   {
    "duration": 36,
    "start_time": "2023-10-06T17:08:17.449Z"
   },
   {
    "duration": 74,
    "start_time": "2023-10-06T17:08:17.487Z"
   },
   {
    "duration": 4,
    "start_time": "2023-10-06T17:08:17.563Z"
   },
   {
    "duration": 5,
    "start_time": "2023-10-06T17:08:20.801Z"
   },
   {
    "duration": 156,
    "start_time": "2023-10-06T17:08:22.352Z"
   },
   {
    "duration": 21,
    "start_time": "2023-10-06T17:15:35.029Z"
   },
   {
    "duration": 13,
    "start_time": "2023-10-06T17:17:00.475Z"
   },
   {
    "duration": 9,
    "start_time": "2023-10-06T17:17:37.925Z"
   },
   {
    "duration": 10,
    "start_time": "2023-10-06T17:17:58.643Z"
   },
   {
    "duration": 12,
    "start_time": "2023-10-06T17:18:06.229Z"
   },
   {
    "duration": 3,
    "start_time": "2023-10-06T18:09:17.008Z"
   },
   {
    "duration": 2,
    "start_time": "2023-10-06T18:09:17.015Z"
   },
   {
    "duration": 6,
    "start_time": "2023-10-06T18:09:17.019Z"
   },
   {
    "duration": 1000,
    "start_time": "2023-10-06T18:09:17.040Z"
   },
   {
    "duration": 32,
    "start_time": "2023-10-06T18:09:18.042Z"
   },
   {
    "duration": 14,
    "start_time": "2023-10-06T18:09:18.076Z"
   },
   {
    "duration": 160,
    "start_time": "2023-10-06T18:09:18.091Z"
   },
   {
    "duration": 494,
    "start_time": "2023-10-06T18:09:18.254Z"
   },
   {
    "duration": 518,
    "start_time": "2023-10-06T18:09:18.750Z"
   },
   {
    "duration": 110,
    "start_time": "2023-10-06T18:09:19.270Z"
   },
   {
    "duration": 171,
    "start_time": "2023-10-06T18:09:19.382Z"
   },
   {
    "duration": 44,
    "start_time": "2023-10-06T18:09:19.555Z"
   },
   {
    "duration": 109,
    "start_time": "2023-10-06T18:09:19.601Z"
   },
   {
    "duration": 601,
    "start_time": "2023-10-06T18:09:19.712Z"
   },
   {
    "duration": 548,
    "start_time": "2023-10-06T18:09:20.315Z"
   },
   {
    "duration": 437,
    "start_time": "2023-10-06T18:09:20.865Z"
   },
   {
    "duration": 517,
    "start_time": "2023-10-06T18:09:21.305Z"
   },
   {
    "duration": 1634,
    "start_time": "2023-10-06T18:09:21.824Z"
   },
   {
    "duration": 655,
    "start_time": "2023-10-06T18:09:23.459Z"
   },
   {
    "duration": 36,
    "start_time": "2023-10-06T18:09:24.116Z"
   },
   {
    "duration": 350,
    "start_time": "2023-10-06T18:09:24.154Z"
   },
   {
    "duration": 392,
    "start_time": "2023-10-06T18:09:24.505Z"
   },
   {
    "duration": 41,
    "start_time": "2023-10-06T18:09:24.899Z"
   },
   {
    "duration": 321,
    "start_time": "2023-10-06T18:09:24.942Z"
   },
   {
    "duration": 351,
    "start_time": "2023-10-06T18:09:25.265Z"
   },
   {
    "duration": 30,
    "start_time": "2023-10-06T18:09:25.617Z"
   },
   {
    "duration": 438,
    "start_time": "2023-10-06T18:09:25.649Z"
   },
   {
    "duration": 35,
    "start_time": "2023-10-06T18:09:26.089Z"
   },
   {
    "duration": 24,
    "start_time": "2023-10-06T18:09:26.126Z"
   },
   {
    "duration": 43,
    "start_time": "2023-10-06T18:09:26.152Z"
   },
   {
    "duration": 14,
    "start_time": "2023-10-06T18:09:26.197Z"
   },
   {
    "duration": 75,
    "start_time": "2023-10-06T18:09:26.213Z"
   },
   {
    "duration": 63,
    "start_time": "2023-10-06T18:09:26.290Z"
   },
   {
    "duration": 42,
    "start_time": "2023-10-06T18:09:26.354Z"
   },
   {
    "duration": 44,
    "start_time": "2023-10-06T18:09:26.397Z"
   },
   {
    "duration": 29,
    "start_time": "2023-10-06T18:09:26.443Z"
   },
   {
    "duration": 25,
    "start_time": "2023-10-06T18:09:26.474Z"
   },
   {
    "duration": 16,
    "start_time": "2023-10-06T18:09:26.501Z"
   },
   {
    "duration": 28,
    "start_time": "2023-10-06T18:09:26.519Z"
   },
   {
    "duration": 25,
    "start_time": "2023-10-06T18:09:26.549Z"
   },
   {
    "duration": 75,
    "start_time": "2023-10-06T18:09:26.577Z"
   },
   {
    "duration": 6,
    "start_time": "2023-10-06T18:09:26.654Z"
   },
   {
    "duration": 10,
    "start_time": "2023-10-06T18:09:26.661Z"
   },
   {
    "duration": 6,
    "start_time": "2023-10-06T18:09:26.676Z"
   },
   {
    "duration": 385,
    "start_time": "2023-10-06T18:09:26.684Z"
   },
   {
    "duration": 4435,
    "start_time": "2023-10-06T18:09:27.071Z"
   },
   {
    "duration": 79,
    "start_time": "2023-10-06T18:09:31.508Z"
   },
   {
    "duration": 28,
    "start_time": "2023-10-06T18:09:31.589Z"
   },
   {
    "duration": 56,
    "start_time": "2023-10-06T18:09:31.619Z"
   },
   {
    "duration": 77,
    "start_time": "2023-10-06T18:09:31.677Z"
   },
   {
    "duration": 4,
    "start_time": "2023-10-06T18:09:31.756Z"
   },
   {
    "duration": 43,
    "start_time": "2023-10-06T18:09:31.762Z"
   },
   {
    "duration": 42,
    "start_time": "2023-10-06T18:09:31.807Z"
   },
   {
    "duration": 34,
    "start_time": "2023-10-06T18:09:31.851Z"
   },
   {
    "duration": 0,
    "start_time": "2023-10-06T18:09:31.886Z"
   },
   {
    "duration": 0,
    "start_time": "2023-10-06T18:09:31.887Z"
   },
   {
    "duration": 0,
    "start_time": "2023-10-06T18:09:31.888Z"
   },
   {
    "duration": 0,
    "start_time": "2023-10-06T18:09:31.890Z"
   },
   {
    "duration": 0,
    "start_time": "2023-10-06T18:09:31.891Z"
   },
   {
    "duration": 0,
    "start_time": "2023-10-06T18:09:31.892Z"
   },
   {
    "duration": 0,
    "start_time": "2023-10-06T18:09:31.894Z"
   },
   {
    "duration": 0,
    "start_time": "2023-10-06T18:09:31.895Z"
   },
   {
    "duration": 0,
    "start_time": "2023-10-06T18:09:31.897Z"
   },
   {
    "duration": 0,
    "start_time": "2023-10-06T18:09:31.898Z"
   },
   {
    "duration": 0,
    "start_time": "2023-10-06T18:09:31.900Z"
   },
   {
    "duration": 0,
    "start_time": "2023-10-06T18:09:31.901Z"
   },
   {
    "duration": 0,
    "start_time": "2023-10-06T18:09:31.903Z"
   },
   {
    "duration": 0,
    "start_time": "2023-10-06T18:09:31.905Z"
   },
   {
    "duration": 0,
    "start_time": "2023-10-06T18:09:31.907Z"
   },
   {
    "duration": 0,
    "start_time": "2023-10-06T18:09:31.908Z"
   },
   {
    "duration": 0,
    "start_time": "2023-10-06T18:09:31.909Z"
   },
   {
    "duration": 0,
    "start_time": "2023-10-06T18:09:31.911Z"
   },
   {
    "duration": 0,
    "start_time": "2023-10-06T18:09:31.912Z"
   },
   {
    "duration": 0,
    "start_time": "2023-10-06T18:09:31.913Z"
   },
   {
    "duration": 0,
    "start_time": "2023-10-06T18:09:31.924Z"
   },
   {
    "duration": 0,
    "start_time": "2023-10-06T18:09:31.926Z"
   },
   {
    "duration": 1,
    "start_time": "2023-10-06T18:09:31.927Z"
   },
   {
    "duration": 0,
    "start_time": "2023-10-06T18:09:31.929Z"
   },
   {
    "duration": 0,
    "start_time": "2023-10-06T18:09:31.931Z"
   },
   {
    "duration": 0,
    "start_time": "2023-10-06T18:09:31.932Z"
   },
   {
    "duration": 0,
    "start_time": "2023-10-06T18:09:31.934Z"
   },
   {
    "duration": 1,
    "start_time": "2023-10-06T18:09:31.935Z"
   },
   {
    "duration": 0,
    "start_time": "2023-10-06T18:09:31.937Z"
   },
   {
    "duration": 0,
    "start_time": "2023-10-06T18:09:31.939Z"
   },
   {
    "duration": 0,
    "start_time": "2023-10-06T18:09:31.941Z"
   },
   {
    "duration": 10,
    "start_time": "2023-10-06T18:09:41.384Z"
   },
   {
    "duration": 5,
    "start_time": "2023-10-06T18:31:35.726Z"
   },
   {
    "duration": 55,
    "start_time": "2023-10-06T18:31:35.733Z"
   },
   {
    "duration": 1503,
    "start_time": "2023-10-06T18:31:35.791Z"
   },
   {
    "duration": 1404,
    "start_time": "2023-10-06T18:31:37.297Z"
   },
   {
    "duration": 1603,
    "start_time": "2023-10-06T18:31:38.705Z"
   },
   {
    "duration": 1054,
    "start_time": "2023-10-06T18:31:40.310Z"
   },
   {
    "duration": 59,
    "start_time": "2023-10-06T18:31:41.366Z"
   },
   {
    "duration": 18,
    "start_time": "2023-10-06T18:31:41.427Z"
   },
   {
    "duration": 242,
    "start_time": "2023-10-06T18:31:41.447Z"
   },
   {
    "duration": 509,
    "start_time": "2023-10-06T18:31:41.691Z"
   },
   {
    "duration": 559,
    "start_time": "2023-10-06T18:31:42.203Z"
   },
   {
    "duration": 105,
    "start_time": "2023-10-06T18:31:42.764Z"
   },
   {
    "duration": 159,
    "start_time": "2023-10-06T18:31:42.871Z"
   },
   {
    "duration": 35,
    "start_time": "2023-10-06T18:31:43.032Z"
   },
   {
    "duration": 130,
    "start_time": "2023-10-06T18:31:43.069Z"
   },
   {
    "duration": 527,
    "start_time": "2023-10-06T18:31:43.201Z"
   },
   {
    "duration": 545,
    "start_time": "2023-10-06T18:31:43.730Z"
   },
   {
    "duration": 629,
    "start_time": "2023-10-06T18:31:44.277Z"
   },
   {
    "duration": 518,
    "start_time": "2023-10-06T18:31:44.908Z"
   },
   {
    "duration": 1661,
    "start_time": "2023-10-06T18:31:45.429Z"
   },
   {
    "duration": 526,
    "start_time": "2023-10-06T18:31:47.093Z"
   },
   {
    "duration": 29,
    "start_time": "2023-10-06T18:31:47.623Z"
   },
   {
    "duration": 337,
    "start_time": "2023-10-06T18:31:47.656Z"
   },
   {
    "duration": 451,
    "start_time": "2023-10-06T18:31:47.995Z"
   },
   {
    "duration": 22,
    "start_time": "2023-10-06T18:31:48.448Z"
   },
   {
    "duration": 508,
    "start_time": "2023-10-06T18:31:48.472Z"
   },
   {
    "duration": 370,
    "start_time": "2023-10-06T18:31:48.982Z"
   },
   {
    "duration": 20,
    "start_time": "2023-10-06T18:31:49.354Z"
   },
   {
    "duration": 434,
    "start_time": "2023-10-06T18:31:49.379Z"
   },
   {
    "duration": 32,
    "start_time": "2023-10-06T18:31:49.816Z"
   },
   {
    "duration": 18,
    "start_time": "2023-10-06T18:31:49.850Z"
   },
   {
    "duration": 33,
    "start_time": "2023-10-06T18:31:49.870Z"
   },
   {
    "duration": 22,
    "start_time": "2023-10-06T18:31:49.906Z"
   },
   {
    "duration": 87,
    "start_time": "2023-10-06T18:31:49.930Z"
   },
   {
    "duration": 49,
    "start_time": "2023-10-06T18:31:50.019Z"
   },
   {
    "duration": 176,
    "start_time": "2023-10-06T18:31:50.071Z"
   },
   {
    "duration": 31,
    "start_time": "2023-10-06T18:31:50.249Z"
   },
   {
    "duration": 134,
    "start_time": "2023-10-06T18:31:50.283Z"
   },
   {
    "duration": 47,
    "start_time": "2023-10-06T18:31:50.419Z"
   },
   {
    "duration": 59,
    "start_time": "2023-10-06T18:31:50.468Z"
   },
   {
    "duration": 114,
    "start_time": "2023-10-06T18:31:50.530Z"
   },
   {
    "duration": 65,
    "start_time": "2023-10-06T18:31:50.646Z"
   },
   {
    "duration": 92,
    "start_time": "2023-10-06T18:31:50.714Z"
   },
   {
    "duration": 18,
    "start_time": "2023-10-06T18:31:50.808Z"
   },
   {
    "duration": 31,
    "start_time": "2023-10-06T18:31:50.828Z"
   },
   {
    "duration": 23,
    "start_time": "2023-10-06T18:31:50.861Z"
   },
   {
    "duration": 446,
    "start_time": "2023-10-06T18:31:50.886Z"
   },
   {
    "duration": 4535,
    "start_time": "2023-10-06T18:31:51.336Z"
   },
   {
    "duration": 125,
    "start_time": "2023-10-06T18:31:55.873Z"
   },
   {
    "duration": 3,
    "start_time": "2023-10-06T18:31:56.000Z"
   },
   {
    "duration": 39,
    "start_time": "2023-10-06T18:31:56.005Z"
   },
   {
    "duration": 67,
    "start_time": "2023-10-06T18:31:56.046Z"
   },
   {
    "duration": 9,
    "start_time": "2023-10-06T18:31:56.115Z"
   },
   {
    "duration": 16,
    "start_time": "2023-10-06T18:31:56.125Z"
   },
   {
    "duration": 12,
    "start_time": "2023-10-06T18:31:56.142Z"
   },
   {
    "duration": 143,
    "start_time": "2023-10-06T18:31:56.156Z"
   },
   {
    "duration": 0,
    "start_time": "2023-10-06T18:31:56.301Z"
   },
   {
    "duration": 0,
    "start_time": "2023-10-06T18:31:56.302Z"
   },
   {
    "duration": 0,
    "start_time": "2023-10-06T18:31:56.303Z"
   },
   {
    "duration": 0,
    "start_time": "2023-10-06T18:31:56.304Z"
   },
   {
    "duration": 0,
    "start_time": "2023-10-06T18:31:56.305Z"
   },
   {
    "duration": 0,
    "start_time": "2023-10-06T18:31:56.306Z"
   },
   {
    "duration": 0,
    "start_time": "2023-10-06T18:31:56.307Z"
   },
   {
    "duration": 0,
    "start_time": "2023-10-06T18:31:56.325Z"
   },
   {
    "duration": 0,
    "start_time": "2023-10-06T18:31:56.326Z"
   },
   {
    "duration": 0,
    "start_time": "2023-10-06T18:31:56.328Z"
   },
   {
    "duration": 0,
    "start_time": "2023-10-06T18:31:56.329Z"
   },
   {
    "duration": 0,
    "start_time": "2023-10-06T18:31:56.331Z"
   },
   {
    "duration": 0,
    "start_time": "2023-10-06T18:31:56.332Z"
   },
   {
    "duration": 0,
    "start_time": "2023-10-06T18:31:56.334Z"
   },
   {
    "duration": 0,
    "start_time": "2023-10-06T18:31:56.336Z"
   },
   {
    "duration": 0,
    "start_time": "2023-10-06T18:31:56.337Z"
   },
   {
    "duration": 0,
    "start_time": "2023-10-06T18:31:56.339Z"
   },
   {
    "duration": 0,
    "start_time": "2023-10-06T18:31:56.341Z"
   },
   {
    "duration": 0,
    "start_time": "2023-10-06T18:31:56.342Z"
   },
   {
    "duration": 0,
    "start_time": "2023-10-06T18:31:56.344Z"
   },
   {
    "duration": 0,
    "start_time": "2023-10-06T18:31:56.346Z"
   },
   {
    "duration": 0,
    "start_time": "2023-10-06T18:31:56.350Z"
   },
   {
    "duration": 1,
    "start_time": "2023-10-06T18:31:56.351Z"
   },
   {
    "duration": 0,
    "start_time": "2023-10-06T18:31:56.353Z"
   },
   {
    "duration": 0,
    "start_time": "2023-10-06T18:31:56.355Z"
   },
   {
    "duration": 0,
    "start_time": "2023-10-06T18:31:56.357Z"
   },
   {
    "duration": 0,
    "start_time": "2023-10-06T18:31:56.359Z"
   },
   {
    "duration": 0,
    "start_time": "2023-10-06T18:31:56.360Z"
   },
   {
    "duration": 1,
    "start_time": "2023-10-06T18:31:56.362Z"
   },
   {
    "duration": 0,
    "start_time": "2023-10-06T18:31:56.433Z"
   },
   {
    "duration": 0,
    "start_time": "2023-10-06T18:31:56.435Z"
   },
   {
    "duration": 1574,
    "start_time": "2023-10-06T18:34:11.342Z"
   },
   {
    "duration": 1476,
    "start_time": "2023-10-06T18:34:23.163Z"
   },
   {
    "duration": 4606,
    "start_time": "2023-10-06T18:34:40.211Z"
   },
   {
    "duration": 3,
    "start_time": "2023-10-06T18:35:23.915Z"
   },
   {
    "duration": 270,
    "start_time": "2023-10-06T18:35:23.920Z"
   },
   {
    "duration": 2878,
    "start_time": "2023-10-06T18:35:24.192Z"
   },
   {
    "duration": 6830,
    "start_time": "2023-10-06T18:35:27.072Z"
   },
   {
    "duration": 7,
    "start_time": "2023-10-06T18:35:33.904Z"
   },
   {
    "duration": 1129,
    "start_time": "2023-10-06T18:35:33.913Z"
   },
   {
    "duration": 49,
    "start_time": "2023-10-06T18:35:35.043Z"
   },
   {
    "duration": 124,
    "start_time": "2023-10-06T18:35:35.094Z"
   },
   {
    "duration": 364,
    "start_time": "2023-10-06T18:35:35.220Z"
   },
   {
    "duration": 660,
    "start_time": "2023-10-06T18:35:35.586Z"
   },
   {
    "duration": 495,
    "start_time": "2023-10-06T18:35:36.250Z"
   },
   {
    "duration": 108,
    "start_time": "2023-10-06T18:35:36.747Z"
   },
   {
    "duration": 170,
    "start_time": "2023-10-06T18:35:36.858Z"
   },
   {
    "duration": 38,
    "start_time": "2023-10-06T18:35:37.037Z"
   },
   {
    "duration": 118,
    "start_time": "2023-10-06T18:35:37.077Z"
   },
   {
    "duration": 698,
    "start_time": "2023-10-06T18:35:37.197Z"
   },
   {
    "duration": 516,
    "start_time": "2023-10-06T18:35:37.897Z"
   },
   {
    "duration": 405,
    "start_time": "2023-10-06T18:35:38.415Z"
   },
   {
    "duration": 522,
    "start_time": "2023-10-06T18:35:38.822Z"
   },
   {
    "duration": 1564,
    "start_time": "2023-10-06T18:35:39.346Z"
   },
   {
    "duration": 639,
    "start_time": "2023-10-06T18:35:40.912Z"
   },
   {
    "duration": 23,
    "start_time": "2023-10-06T18:35:41.553Z"
   },
   {
    "duration": 420,
    "start_time": "2023-10-06T18:35:41.578Z"
   },
   {
    "duration": 374,
    "start_time": "2023-10-06T18:35:42.000Z"
   },
   {
    "duration": 22,
    "start_time": "2023-10-06T18:35:42.376Z"
   },
   {
    "duration": 319,
    "start_time": "2023-10-06T18:35:42.399Z"
   },
   {
    "duration": 360,
    "start_time": "2023-10-06T18:35:42.719Z"
   },
   {
    "duration": 21,
    "start_time": "2023-10-06T18:35:43.081Z"
   },
   {
    "duration": 447,
    "start_time": "2023-10-06T18:35:43.107Z"
   },
   {
    "duration": 16,
    "start_time": "2023-10-06T18:35:43.555Z"
   },
   {
    "duration": 68,
    "start_time": "2023-10-06T18:35:43.573Z"
   },
   {
    "duration": 85,
    "start_time": "2023-10-06T18:35:43.643Z"
   },
   {
    "duration": 96,
    "start_time": "2023-10-06T18:35:43.732Z"
   },
   {
    "duration": 134,
    "start_time": "2023-10-06T18:35:43.837Z"
   },
   {
    "duration": 110,
    "start_time": "2023-10-06T18:35:43.973Z"
   },
   {
    "duration": 70,
    "start_time": "2023-10-06T18:35:44.085Z"
   },
   {
    "duration": 61,
    "start_time": "2023-10-06T18:35:44.157Z"
   },
   {
    "duration": 45,
    "start_time": "2023-10-06T18:35:44.221Z"
   },
   {
    "duration": 44,
    "start_time": "2023-10-06T18:35:44.268Z"
   },
   {
    "duration": 29,
    "start_time": "2023-10-06T18:35:44.314Z"
   },
   {
    "duration": 24,
    "start_time": "2023-10-06T18:35:44.345Z"
   },
   {
    "duration": 17,
    "start_time": "2023-10-06T18:35:44.371Z"
   },
   {
    "duration": 77,
    "start_time": "2023-10-06T18:35:44.389Z"
   },
   {
    "duration": 15,
    "start_time": "2023-10-06T18:35:44.468Z"
   },
   {
    "duration": 11,
    "start_time": "2023-10-06T18:35:44.484Z"
   },
   {
    "duration": 46,
    "start_time": "2023-10-06T18:35:44.497Z"
   },
   {
    "duration": 454,
    "start_time": "2023-10-06T18:35:44.545Z"
   },
   {
    "duration": 4493,
    "start_time": "2023-10-06T18:35:45.001Z"
   },
   {
    "duration": 79,
    "start_time": "2023-10-06T18:35:49.495Z"
   },
   {
    "duration": 21,
    "start_time": "2023-10-06T18:35:49.576Z"
   },
   {
    "duration": 52,
    "start_time": "2023-10-06T18:35:49.599Z"
   },
   {
    "duration": 52,
    "start_time": "2023-10-06T18:35:49.652Z"
   },
   {
    "duration": 4,
    "start_time": "2023-10-06T18:35:49.706Z"
   },
   {
    "duration": 34,
    "start_time": "2023-10-06T18:35:49.712Z"
   },
   {
    "duration": 42,
    "start_time": "2023-10-06T18:35:49.748Z"
   },
   {
    "duration": 55,
    "start_time": "2023-10-06T18:35:49.792Z"
   },
   {
    "duration": 0,
    "start_time": "2023-10-06T18:35:49.849Z"
   },
   {
    "duration": 0,
    "start_time": "2023-10-06T18:35:49.850Z"
   },
   {
    "duration": 0,
    "start_time": "2023-10-06T18:35:49.851Z"
   },
   {
    "duration": 0,
    "start_time": "2023-10-06T18:35:49.852Z"
   },
   {
    "duration": 0,
    "start_time": "2023-10-06T18:35:49.854Z"
   },
   {
    "duration": 0,
    "start_time": "2023-10-06T18:35:49.855Z"
   },
   {
    "duration": 0,
    "start_time": "2023-10-06T18:35:49.856Z"
   },
   {
    "duration": 0,
    "start_time": "2023-10-06T18:35:49.857Z"
   },
   {
    "duration": 0,
    "start_time": "2023-10-06T18:35:49.859Z"
   },
   {
    "duration": 0,
    "start_time": "2023-10-06T18:35:49.860Z"
   },
   {
    "duration": 0,
    "start_time": "2023-10-06T18:35:49.861Z"
   },
   {
    "duration": 0,
    "start_time": "2023-10-06T18:35:49.862Z"
   },
   {
    "duration": 0,
    "start_time": "2023-10-06T18:35:49.863Z"
   },
   {
    "duration": 0,
    "start_time": "2023-10-06T18:35:49.864Z"
   },
   {
    "duration": 0,
    "start_time": "2023-10-06T18:35:49.865Z"
   },
   {
    "duration": 0,
    "start_time": "2023-10-06T18:35:49.866Z"
   },
   {
    "duration": 0,
    "start_time": "2023-10-06T18:35:49.867Z"
   },
   {
    "duration": 0,
    "start_time": "2023-10-06T18:35:49.869Z"
   },
   {
    "duration": 0,
    "start_time": "2023-10-06T18:35:49.870Z"
   },
   {
    "duration": 0,
    "start_time": "2023-10-06T18:35:49.870Z"
   },
   {
    "duration": 0,
    "start_time": "2023-10-06T18:35:49.872Z"
   },
   {
    "duration": 0,
    "start_time": "2023-10-06T18:35:49.873Z"
   },
   {
    "duration": 0,
    "start_time": "2023-10-06T18:35:49.874Z"
   },
   {
    "duration": 0,
    "start_time": "2023-10-06T18:35:49.876Z"
   },
   {
    "duration": 0,
    "start_time": "2023-10-06T18:35:49.877Z"
   },
   {
    "duration": 0,
    "start_time": "2023-10-06T18:35:49.878Z"
   },
   {
    "duration": 0,
    "start_time": "2023-10-06T18:35:49.879Z"
   },
   {
    "duration": 0,
    "start_time": "2023-10-06T18:35:49.880Z"
   },
   {
    "duration": 0,
    "start_time": "2023-10-06T18:35:49.881Z"
   },
   {
    "duration": 0,
    "start_time": "2023-10-06T18:35:49.882Z"
   },
   {
    "duration": 0,
    "start_time": "2023-10-06T18:35:49.883Z"
   },
   {
    "duration": 4,
    "start_time": "2023-10-06T18:36:31.747Z"
   },
   {
    "duration": 12,
    "start_time": "2023-10-06T18:36:31.753Z"
   },
   {
    "duration": 2539,
    "start_time": "2023-10-06T18:36:31.767Z"
   },
   {
    "duration": 2407,
    "start_time": "2023-10-06T18:36:34.308Z"
   },
   {
    "duration": 1571,
    "start_time": "2023-10-06T18:36:36.718Z"
   },
   {
    "duration": 971,
    "start_time": "2023-10-06T18:36:38.290Z"
   },
   {
    "duration": 52,
    "start_time": "2023-10-06T18:36:39.263Z"
   },
   {
    "duration": 21,
    "start_time": "2023-10-06T18:36:39.324Z"
   },
   {
    "duration": 158,
    "start_time": "2023-10-06T18:36:39.347Z"
   },
   {
    "duration": 511,
    "start_time": "2023-10-06T18:36:39.507Z"
   },
   {
    "duration": 571,
    "start_time": "2023-10-06T18:36:40.023Z"
   },
   {
    "duration": 111,
    "start_time": "2023-10-06T18:36:40.596Z"
   },
   {
    "duration": 163,
    "start_time": "2023-10-06T18:36:40.709Z"
   },
   {
    "duration": 68,
    "start_time": "2023-10-06T18:36:40.874Z"
   },
   {
    "duration": 129,
    "start_time": "2023-10-06T18:36:40.945Z"
   },
   {
    "duration": 549,
    "start_time": "2023-10-06T18:36:41.076Z"
   },
   {
    "duration": 571,
    "start_time": "2023-10-06T18:36:41.628Z"
   },
   {
    "duration": 544,
    "start_time": "2023-10-06T18:36:42.201Z"
   },
   {
    "duration": 526,
    "start_time": "2023-10-06T18:36:42.747Z"
   },
   {
    "duration": 1522,
    "start_time": "2023-10-06T18:36:43.275Z"
   },
   {
    "duration": 542,
    "start_time": "2023-10-06T18:36:44.799Z"
   },
   {
    "duration": 29,
    "start_time": "2023-10-06T18:36:45.343Z"
   },
   {
    "duration": 341,
    "start_time": "2023-10-06T18:36:45.374Z"
   },
   {
    "duration": 460,
    "start_time": "2023-10-06T18:36:45.723Z"
   },
   {
    "duration": 24,
    "start_time": "2023-10-06T18:36:46.186Z"
   },
   {
    "duration": 338,
    "start_time": "2023-10-06T18:36:46.225Z"
   },
   {
    "duration": 420,
    "start_time": "2023-10-06T18:36:46.565Z"
   },
   {
    "duration": 19,
    "start_time": "2023-10-06T18:36:46.986Z"
   },
   {
    "duration": 432,
    "start_time": "2023-10-06T18:36:47.009Z"
   },
   {
    "duration": 16,
    "start_time": "2023-10-06T18:36:47.442Z"
   },
   {
    "duration": 203,
    "start_time": "2023-10-06T18:36:47.459Z"
   },
   {
    "duration": 91,
    "start_time": "2023-10-06T18:36:47.664Z"
   },
   {
    "duration": 73,
    "start_time": "2023-10-06T18:36:47.757Z"
   },
   {
    "duration": 170,
    "start_time": "2023-10-06T18:36:47.833Z"
   },
   {
    "duration": 108,
    "start_time": "2023-10-06T18:36:48.005Z"
   },
   {
    "duration": 71,
    "start_time": "2023-10-06T18:36:48.114Z"
   },
   {
    "duration": 39,
    "start_time": "2023-10-06T18:36:48.187Z"
   },
   {
    "duration": 45,
    "start_time": "2023-10-06T18:36:48.228Z"
   },
   {
    "duration": 196,
    "start_time": "2023-10-06T18:36:48.276Z"
   },
   {
    "duration": 205,
    "start_time": "2023-10-06T18:36:48.474Z"
   },
   {
    "duration": 71,
    "start_time": "2023-10-06T18:36:48.682Z"
   },
   {
    "duration": 139,
    "start_time": "2023-10-06T18:36:48.755Z"
   },
   {
    "duration": 108,
    "start_time": "2023-10-06T18:36:48.896Z"
   },
   {
    "duration": 66,
    "start_time": "2023-10-06T18:36:49.006Z"
   },
   {
    "duration": 191,
    "start_time": "2023-10-06T18:36:49.074Z"
   },
   {
    "duration": 99,
    "start_time": "2023-10-06T18:36:49.267Z"
   },
   {
    "duration": 504,
    "start_time": "2023-10-06T18:36:49.368Z"
   },
   {
    "duration": 4417,
    "start_time": "2023-10-06T18:36:49.874Z"
   },
   {
    "duration": 82,
    "start_time": "2023-10-06T18:36:54.294Z"
   },
   {
    "duration": 54,
    "start_time": "2023-10-06T18:36:54.378Z"
   },
   {
    "duration": 107,
    "start_time": "2023-10-06T18:36:54.434Z"
   },
   {
    "duration": 78,
    "start_time": "2023-10-06T18:36:54.543Z"
   },
   {
    "duration": 49,
    "start_time": "2023-10-06T18:36:54.626Z"
   },
   {
    "duration": 75,
    "start_time": "2023-10-06T18:36:54.676Z"
   },
   {
    "duration": 169,
    "start_time": "2023-10-06T18:36:54.752Z"
   },
   {
    "duration": 231,
    "start_time": "2023-10-06T18:36:54.923Z"
   },
   {
    "duration": 0,
    "start_time": "2023-10-06T18:36:55.157Z"
   },
   {
    "duration": 0,
    "start_time": "2023-10-06T18:36:55.158Z"
   },
   {
    "duration": 0,
    "start_time": "2023-10-06T18:36:55.159Z"
   },
   {
    "duration": 1,
    "start_time": "2023-10-06T18:36:55.159Z"
   },
   {
    "duration": 0,
    "start_time": "2023-10-06T18:36:55.161Z"
   },
   {
    "duration": 0,
    "start_time": "2023-10-06T18:36:55.162Z"
   },
   {
    "duration": 0,
    "start_time": "2023-10-06T18:36:55.163Z"
   },
   {
    "duration": 0,
    "start_time": "2023-10-06T18:36:55.164Z"
   },
   {
    "duration": 0,
    "start_time": "2023-10-06T18:36:55.165Z"
   },
   {
    "duration": 0,
    "start_time": "2023-10-06T18:36:55.166Z"
   },
   {
    "duration": 0,
    "start_time": "2023-10-06T18:36:55.167Z"
   },
   {
    "duration": 0,
    "start_time": "2023-10-06T18:36:55.169Z"
   },
   {
    "duration": 0,
    "start_time": "2023-10-06T18:36:55.169Z"
   },
   {
    "duration": 0,
    "start_time": "2023-10-06T18:36:55.170Z"
   },
   {
    "duration": 0,
    "start_time": "2023-10-06T18:36:55.172Z"
   },
   {
    "duration": 0,
    "start_time": "2023-10-06T18:36:55.173Z"
   },
   {
    "duration": 0,
    "start_time": "2023-10-06T18:36:55.174Z"
   },
   {
    "duration": 0,
    "start_time": "2023-10-06T18:36:55.175Z"
   },
   {
    "duration": 0,
    "start_time": "2023-10-06T18:36:55.176Z"
   },
   {
    "duration": 0,
    "start_time": "2023-10-06T18:36:55.178Z"
   },
   {
    "duration": 0,
    "start_time": "2023-10-06T18:36:55.179Z"
   },
   {
    "duration": 0,
    "start_time": "2023-10-06T18:36:55.181Z"
   },
   {
    "duration": 0,
    "start_time": "2023-10-06T18:36:55.232Z"
   },
   {
    "duration": 0,
    "start_time": "2023-10-06T18:36:55.234Z"
   },
   {
    "duration": 0,
    "start_time": "2023-10-06T18:36:55.235Z"
   },
   {
    "duration": 1,
    "start_time": "2023-10-06T18:36:55.235Z"
   },
   {
    "duration": 0,
    "start_time": "2023-10-06T18:36:55.238Z"
   },
   {
    "duration": 0,
    "start_time": "2023-10-06T18:36:55.240Z"
   },
   {
    "duration": 0,
    "start_time": "2023-10-06T18:36:55.241Z"
   },
   {
    "duration": 0,
    "start_time": "2023-10-06T18:36:55.242Z"
   },
   {
    "duration": 0,
    "start_time": "2023-10-06T18:36:55.243Z"
   },
   {
    "duration": 4,
    "start_time": "2023-10-06T18:39:14.555Z"
   },
   {
    "duration": 21,
    "start_time": "2023-10-06T18:39:14.561Z"
   },
   {
    "duration": 2501,
    "start_time": "2023-10-06T18:39:14.584Z"
   },
   {
    "duration": 2356,
    "start_time": "2023-10-06T18:39:17.088Z"
   },
   {
    "duration": 8022,
    "start_time": "2023-10-06T18:39:19.447Z"
   },
   {
    "duration": 1868,
    "start_time": "2023-10-06T18:39:27.471Z"
   },
   {
    "duration": 0,
    "start_time": "2023-10-06T18:39:29.343Z"
   },
   {
    "duration": 0,
    "start_time": "2023-10-06T18:39:29.344Z"
   },
   {
    "duration": 0,
    "start_time": "2023-10-06T18:39:29.345Z"
   },
   {
    "duration": 0,
    "start_time": "2023-10-06T18:39:29.346Z"
   },
   {
    "duration": 0,
    "start_time": "2023-10-06T18:39:29.347Z"
   },
   {
    "duration": 0,
    "start_time": "2023-10-06T18:39:29.349Z"
   },
   {
    "duration": 0,
    "start_time": "2023-10-06T18:39:29.350Z"
   },
   {
    "duration": 0,
    "start_time": "2023-10-06T18:39:29.352Z"
   },
   {
    "duration": 0,
    "start_time": "2023-10-06T18:39:29.353Z"
   },
   {
    "duration": 0,
    "start_time": "2023-10-06T18:39:29.355Z"
   },
   {
    "duration": 0,
    "start_time": "2023-10-06T18:39:29.356Z"
   },
   {
    "duration": 0,
    "start_time": "2023-10-06T18:39:29.358Z"
   },
   {
    "duration": 0,
    "start_time": "2023-10-06T18:39:29.359Z"
   },
   {
    "duration": 0,
    "start_time": "2023-10-06T18:39:29.361Z"
   },
   {
    "duration": 0,
    "start_time": "2023-10-06T18:39:29.363Z"
   },
   {
    "duration": 0,
    "start_time": "2023-10-06T18:39:29.364Z"
   },
   {
    "duration": 0,
    "start_time": "2023-10-06T18:39:29.366Z"
   },
   {
    "duration": 0,
    "start_time": "2023-10-06T18:39:29.367Z"
   },
   {
    "duration": 0,
    "start_time": "2023-10-06T18:39:29.368Z"
   },
   {
    "duration": 0,
    "start_time": "2023-10-06T18:39:29.370Z"
   },
   {
    "duration": 0,
    "start_time": "2023-10-06T18:39:29.371Z"
   },
   {
    "duration": 0,
    "start_time": "2023-10-06T18:39:29.373Z"
   },
   {
    "duration": 0,
    "start_time": "2023-10-06T18:39:29.375Z"
   },
   {
    "duration": 0,
    "start_time": "2023-10-06T18:39:29.376Z"
   },
   {
    "duration": 0,
    "start_time": "2023-10-06T18:39:29.424Z"
   },
   {
    "duration": 0,
    "start_time": "2023-10-06T18:39:29.427Z"
   },
   {
    "duration": 0,
    "start_time": "2023-10-06T18:39:29.430Z"
   },
   {
    "duration": 0,
    "start_time": "2023-10-06T18:39:29.431Z"
   },
   {
    "duration": 0,
    "start_time": "2023-10-06T18:39:29.439Z"
   },
   {
    "duration": 0,
    "start_time": "2023-10-06T18:39:29.440Z"
   },
   {
    "duration": 0,
    "start_time": "2023-10-06T18:39:29.441Z"
   },
   {
    "duration": 0,
    "start_time": "2023-10-06T18:39:29.442Z"
   },
   {
    "duration": 0,
    "start_time": "2023-10-06T18:39:29.443Z"
   },
   {
    "duration": 0,
    "start_time": "2023-10-06T18:39:29.444Z"
   },
   {
    "duration": 0,
    "start_time": "2023-10-06T18:39:29.447Z"
   },
   {
    "duration": 0,
    "start_time": "2023-10-06T18:39:29.448Z"
   },
   {
    "duration": 0,
    "start_time": "2023-10-06T18:39:29.450Z"
   },
   {
    "duration": 0,
    "start_time": "2023-10-06T18:39:29.451Z"
   },
   {
    "duration": 0,
    "start_time": "2023-10-06T18:39:29.453Z"
   },
   {
    "duration": 0,
    "start_time": "2023-10-06T18:39:29.454Z"
   },
   {
    "duration": 0,
    "start_time": "2023-10-06T18:39:29.456Z"
   },
   {
    "duration": 0,
    "start_time": "2023-10-06T18:39:29.458Z"
   },
   {
    "duration": 0,
    "start_time": "2023-10-06T18:39:29.459Z"
   },
   {
    "duration": 0,
    "start_time": "2023-10-06T18:39:29.460Z"
   },
   {
    "duration": 0,
    "start_time": "2023-10-06T18:39:29.462Z"
   },
   {
    "duration": 0,
    "start_time": "2023-10-06T18:39:29.463Z"
   },
   {
    "duration": 0,
    "start_time": "2023-10-06T18:39:29.466Z"
   },
   {
    "duration": 0,
    "start_time": "2023-10-06T18:39:29.468Z"
   },
   {
    "duration": 0,
    "start_time": "2023-10-06T18:39:29.469Z"
   },
   {
    "duration": 0,
    "start_time": "2023-10-06T18:39:29.471Z"
   },
   {
    "duration": 0,
    "start_time": "2023-10-06T18:39:29.524Z"
   },
   {
    "duration": 0,
    "start_time": "2023-10-06T18:39:29.525Z"
   },
   {
    "duration": 0,
    "start_time": "2023-10-06T18:39:29.526Z"
   },
   {
    "duration": 0,
    "start_time": "2023-10-06T18:39:29.526Z"
   },
   {
    "duration": 0,
    "start_time": "2023-10-06T18:39:29.527Z"
   },
   {
    "duration": 0,
    "start_time": "2023-10-06T18:39:29.528Z"
   },
   {
    "duration": 0,
    "start_time": "2023-10-06T18:39:29.530Z"
   },
   {
    "duration": 0,
    "start_time": "2023-10-06T18:39:29.531Z"
   },
   {
    "duration": 0,
    "start_time": "2023-10-06T18:39:29.533Z"
   },
   {
    "duration": 0,
    "start_time": "2023-10-06T18:39:29.534Z"
   },
   {
    "duration": 0,
    "start_time": "2023-10-06T18:39:29.535Z"
   },
   {
    "duration": 0,
    "start_time": "2023-10-06T18:39:29.537Z"
   },
   {
    "duration": 0,
    "start_time": "2023-10-06T18:39:29.540Z"
   },
   {
    "duration": 0,
    "start_time": "2023-10-06T18:39:29.542Z"
   },
   {
    "duration": 0,
    "start_time": "2023-10-06T18:39:29.543Z"
   },
   {
    "duration": 0,
    "start_time": "2023-10-06T18:39:29.544Z"
   },
   {
    "duration": 0,
    "start_time": "2023-10-06T18:39:29.545Z"
   },
   {
    "duration": 0,
    "start_time": "2023-10-06T18:39:29.547Z"
   },
   {
    "duration": 0,
    "start_time": "2023-10-06T18:39:29.547Z"
   },
   {
    "duration": 0,
    "start_time": "2023-10-06T18:39:29.548Z"
   },
   {
    "duration": 0,
    "start_time": "2023-10-06T18:39:29.549Z"
   },
   {
    "duration": 0,
    "start_time": "2023-10-06T18:39:29.550Z"
   },
   {
    "duration": 0,
    "start_time": "2023-10-06T18:39:29.551Z"
   },
   {
    "duration": 0,
    "start_time": "2023-10-06T18:39:29.552Z"
   },
   {
    "duration": 0,
    "start_time": "2023-10-06T18:39:29.554Z"
   },
   {
    "duration": 0,
    "start_time": "2023-10-06T18:39:29.554Z"
   },
   {
    "duration": 0,
    "start_time": "2023-10-06T18:39:29.555Z"
   },
   {
    "duration": 0,
    "start_time": "2023-10-06T18:39:29.556Z"
   },
   {
    "duration": 0,
    "start_time": "2023-10-06T18:39:29.557Z"
   },
   {
    "duration": 0,
    "start_time": "2023-10-06T18:39:29.558Z"
   },
   {
    "duration": 0,
    "start_time": "2023-10-06T18:39:29.559Z"
   },
   {
    "duration": 0,
    "start_time": "2023-10-06T18:39:29.560Z"
   },
   {
    "duration": 2660,
    "start_time": "2023-10-06T18:41:15.005Z"
   },
   {
    "duration": 28,
    "start_time": "2023-10-06T18:41:27.307Z"
   },
   {
    "duration": 2538,
    "start_time": "2023-10-06T18:42:25.406Z"
   },
   {
    "duration": 24,
    "start_time": "2023-10-06T18:42:30.598Z"
   },
   {
    "duration": 3,
    "start_time": "2023-10-06T18:44:37.472Z"
   },
   {
    "duration": 19,
    "start_time": "2023-10-06T18:44:41.039Z"
   },
   {
    "duration": 3,
    "start_time": "2023-10-06T18:48:55.177Z"
   },
   {
    "duration": 7,
    "start_time": "2023-10-06T18:48:55.183Z"
   },
   {
    "duration": 2917,
    "start_time": "2023-10-06T18:48:55.192Z"
   },
   {
    "duration": 2660,
    "start_time": "2023-10-06T18:48:58.112Z"
   },
   {
    "duration": 2761,
    "start_time": "2023-10-06T18:49:00.775Z"
   },
   {
    "duration": 7,
    "start_time": "2023-10-06T18:49:03.541Z"
   },
   {
    "duration": 64,
    "start_time": "2023-10-06T18:49:03.549Z"
   },
   {
    "duration": 0,
    "start_time": "2023-10-06T18:49:03.617Z"
   },
   {
    "duration": 0,
    "start_time": "2023-10-06T18:49:03.618Z"
   },
   {
    "duration": 0,
    "start_time": "2023-10-06T18:49:03.619Z"
   },
   {
    "duration": 0,
    "start_time": "2023-10-06T18:49:03.620Z"
   },
   {
    "duration": 0,
    "start_time": "2023-10-06T18:49:03.621Z"
   },
   {
    "duration": 0,
    "start_time": "2023-10-06T18:49:03.622Z"
   },
   {
    "duration": 0,
    "start_time": "2023-10-06T18:49:03.629Z"
   },
   {
    "duration": 0,
    "start_time": "2023-10-06T18:49:03.634Z"
   },
   {
    "duration": 0,
    "start_time": "2023-10-06T18:49:03.637Z"
   },
   {
    "duration": 0,
    "start_time": "2023-10-06T18:49:03.637Z"
   },
   {
    "duration": 0,
    "start_time": "2023-10-06T18:49:03.638Z"
   },
   {
    "duration": 0,
    "start_time": "2023-10-06T18:49:03.638Z"
   },
   {
    "duration": 0,
    "start_time": "2023-10-06T18:49:03.641Z"
   },
   {
    "duration": 0,
    "start_time": "2023-10-06T18:49:03.641Z"
   },
   {
    "duration": 0,
    "start_time": "2023-10-06T18:49:03.642Z"
   },
   {
    "duration": 0,
    "start_time": "2023-10-06T18:49:03.648Z"
   },
   {
    "duration": 0,
    "start_time": "2023-10-06T18:49:03.650Z"
   },
   {
    "duration": 0,
    "start_time": "2023-10-06T18:49:03.652Z"
   },
   {
    "duration": 0,
    "start_time": "2023-10-06T18:49:03.653Z"
   },
   {
    "duration": 0,
    "start_time": "2023-10-06T18:49:03.654Z"
   },
   {
    "duration": 0,
    "start_time": "2023-10-06T18:49:03.655Z"
   },
   {
    "duration": 0,
    "start_time": "2023-10-06T18:49:03.656Z"
   },
   {
    "duration": 0,
    "start_time": "2023-10-06T18:49:03.658Z"
   },
   {
    "duration": 0,
    "start_time": "2023-10-06T18:49:03.659Z"
   },
   {
    "duration": 0,
    "start_time": "2023-10-06T18:49:03.661Z"
   },
   {
    "duration": 0,
    "start_time": "2023-10-06T18:49:03.662Z"
   },
   {
    "duration": 0,
    "start_time": "2023-10-06T18:49:03.663Z"
   },
   {
    "duration": 0,
    "start_time": "2023-10-06T18:49:03.664Z"
   },
   {
    "duration": 0,
    "start_time": "2023-10-06T18:49:03.665Z"
   },
   {
    "duration": 0,
    "start_time": "2023-10-06T18:49:03.667Z"
   },
   {
    "duration": 0,
    "start_time": "2023-10-06T18:49:03.668Z"
   },
   {
    "duration": 0,
    "start_time": "2023-10-06T18:49:03.669Z"
   },
   {
    "duration": 0,
    "start_time": "2023-10-06T18:49:03.670Z"
   },
   {
    "duration": 0,
    "start_time": "2023-10-06T18:49:03.671Z"
   },
   {
    "duration": 0,
    "start_time": "2023-10-06T18:49:03.672Z"
   },
   {
    "duration": 0,
    "start_time": "2023-10-06T18:49:03.673Z"
   },
   {
    "duration": 0,
    "start_time": "2023-10-06T18:49:03.674Z"
   },
   {
    "duration": 0,
    "start_time": "2023-10-06T18:49:03.680Z"
   },
   {
    "duration": 0,
    "start_time": "2023-10-06T18:49:03.682Z"
   },
   {
    "duration": 0,
    "start_time": "2023-10-06T18:49:03.683Z"
   },
   {
    "duration": 0,
    "start_time": "2023-10-06T18:49:03.726Z"
   },
   {
    "duration": 0,
    "start_time": "2023-10-06T18:49:03.727Z"
   },
   {
    "duration": 0,
    "start_time": "2023-10-06T18:49:03.728Z"
   },
   {
    "duration": 0,
    "start_time": "2023-10-06T18:49:03.729Z"
   },
   {
    "duration": 0,
    "start_time": "2023-10-06T18:49:03.730Z"
   },
   {
    "duration": 0,
    "start_time": "2023-10-06T18:49:03.733Z"
   },
   {
    "duration": 0,
    "start_time": "2023-10-06T18:49:03.734Z"
   },
   {
    "duration": 0,
    "start_time": "2023-10-06T18:49:03.735Z"
   },
   {
    "duration": 0,
    "start_time": "2023-10-06T18:49:03.737Z"
   },
   {
    "duration": 0,
    "start_time": "2023-10-06T18:49:03.738Z"
   },
   {
    "duration": 0,
    "start_time": "2023-10-06T18:49:03.739Z"
   },
   {
    "duration": 0,
    "start_time": "2023-10-06T18:49:03.740Z"
   },
   {
    "duration": 0,
    "start_time": "2023-10-06T18:49:03.741Z"
   },
   {
    "duration": 0,
    "start_time": "2023-10-06T18:49:03.742Z"
   },
   {
    "duration": 0,
    "start_time": "2023-10-06T18:49:03.742Z"
   },
   {
    "duration": 0,
    "start_time": "2023-10-06T18:49:03.743Z"
   },
   {
    "duration": 0,
    "start_time": "2023-10-06T18:49:03.744Z"
   },
   {
    "duration": 0,
    "start_time": "2023-10-06T18:49:03.745Z"
   },
   {
    "duration": 0,
    "start_time": "2023-10-06T18:49:03.746Z"
   },
   {
    "duration": 0,
    "start_time": "2023-10-06T18:49:03.747Z"
   },
   {
    "duration": 0,
    "start_time": "2023-10-06T18:49:03.748Z"
   },
   {
    "duration": 0,
    "start_time": "2023-10-06T18:49:03.749Z"
   },
   {
    "duration": 0,
    "start_time": "2023-10-06T18:49:03.750Z"
   },
   {
    "duration": 0,
    "start_time": "2023-10-06T18:49:03.751Z"
   },
   {
    "duration": 0,
    "start_time": "2023-10-06T18:49:03.751Z"
   },
   {
    "duration": 0,
    "start_time": "2023-10-06T18:49:03.897Z"
   },
   {
    "duration": 0,
    "start_time": "2023-10-06T18:49:03.899Z"
   },
   {
    "duration": 0,
    "start_time": "2023-10-06T18:49:03.900Z"
   },
   {
    "duration": 0,
    "start_time": "2023-10-06T18:49:03.902Z"
   },
   {
    "duration": 0,
    "start_time": "2023-10-06T18:49:03.928Z"
   },
   {
    "duration": 0,
    "start_time": "2023-10-06T18:49:03.929Z"
   },
   {
    "duration": 0,
    "start_time": "2023-10-06T18:49:03.934Z"
   },
   {
    "duration": 0,
    "start_time": "2023-10-06T18:49:03.935Z"
   },
   {
    "duration": 0,
    "start_time": "2023-10-06T18:49:03.936Z"
   },
   {
    "duration": 0,
    "start_time": "2023-10-06T18:49:03.936Z"
   },
   {
    "duration": 0,
    "start_time": "2023-10-06T18:49:03.938Z"
   },
   {
    "duration": 0,
    "start_time": "2023-10-06T18:49:03.939Z"
   },
   {
    "duration": 0,
    "start_time": "2023-10-06T18:49:03.939Z"
   },
   {
    "duration": 0,
    "start_time": "2023-10-06T18:49:03.940Z"
   },
   {
    "duration": 0,
    "start_time": "2023-10-06T18:49:03.941Z"
   },
   {
    "duration": 0,
    "start_time": "2023-10-06T18:49:03.942Z"
   },
   {
    "duration": 0,
    "start_time": "2023-10-06T18:49:03.943Z"
   },
   {
    "duration": 47,
    "start_time": "2023-10-06T18:49:51.270Z"
   },
   {
    "duration": 3,
    "start_time": "2023-10-06T18:49:55.309Z"
   },
   {
    "duration": 74,
    "start_time": "2023-10-06T18:49:55.313Z"
   },
   {
    "duration": 2668,
    "start_time": "2023-10-06T18:49:55.389Z"
   },
   {
    "duration": 2693,
    "start_time": "2023-10-06T18:49:58.060Z"
   },
   {
    "duration": 2637,
    "start_time": "2023-10-06T18:50:00.756Z"
   },
   {
    "duration": 3,
    "start_time": "2023-10-06T18:50:03.395Z"
   },
   {
    "duration": 15,
    "start_time": "2023-10-06T18:50:03.400Z"
   },
   {
    "duration": 1173,
    "start_time": "2023-10-06T18:50:03.417Z"
   },
   {
    "duration": 65,
    "start_time": "2023-10-06T18:50:04.592Z"
   },
   {
    "duration": 18,
    "start_time": "2023-10-06T18:50:04.659Z"
   },
   {
    "duration": 207,
    "start_time": "2023-10-06T18:50:04.679Z"
   },
   {
    "duration": 532,
    "start_time": "2023-10-06T18:50:04.887Z"
   },
   {
    "duration": 615,
    "start_time": "2023-10-06T18:50:05.426Z"
   },
   {
    "duration": 120,
    "start_time": "2023-10-06T18:50:06.045Z"
   },
   {
    "duration": 171,
    "start_time": "2023-10-06T18:50:06.167Z"
   },
   {
    "duration": 56,
    "start_time": "2023-10-06T18:50:06.346Z"
   },
   {
    "duration": 139,
    "start_time": "2023-10-06T18:50:06.404Z"
   },
   {
    "duration": 611,
    "start_time": "2023-10-06T18:50:06.554Z"
   },
   {
    "duration": 519,
    "start_time": "2023-10-06T18:50:07.167Z"
   },
   {
    "duration": 464,
    "start_time": "2023-10-06T18:50:07.687Z"
   },
   {
    "duration": 556,
    "start_time": "2023-10-06T18:50:08.153Z"
   },
   {
    "duration": 1810,
    "start_time": "2023-10-06T18:50:08.711Z"
   },
   {
    "duration": 614,
    "start_time": "2023-10-06T18:50:10.527Z"
   },
   {
    "duration": 32,
    "start_time": "2023-10-06T18:50:11.142Z"
   },
   {
    "duration": 406,
    "start_time": "2023-10-06T18:50:11.176Z"
   },
   {
    "duration": 425,
    "start_time": "2023-10-06T18:50:11.584Z"
   },
   {
    "duration": 45,
    "start_time": "2023-10-06T18:50:12.011Z"
   },
   {
    "duration": 502,
    "start_time": "2023-10-06T18:50:12.058Z"
   },
   {
    "duration": 418,
    "start_time": "2023-10-06T18:50:12.566Z"
   },
   {
    "duration": 19,
    "start_time": "2023-10-06T18:50:12.986Z"
   },
   {
    "duration": 454,
    "start_time": "2023-10-06T18:50:13.007Z"
   },
   {
    "duration": 15,
    "start_time": "2023-10-06T18:50:13.463Z"
   },
   {
    "duration": 79,
    "start_time": "2023-10-06T18:50:13.479Z"
   },
   {
    "duration": 50,
    "start_time": "2023-10-06T18:50:13.560Z"
   },
   {
    "duration": 46,
    "start_time": "2023-10-06T18:50:13.612Z"
   },
   {
    "duration": 158,
    "start_time": "2023-10-06T18:50:13.660Z"
   },
   {
    "duration": 96,
    "start_time": "2023-10-06T18:50:13.821Z"
   },
   {
    "duration": 75,
    "start_time": "2023-10-06T18:50:13.919Z"
   },
   {
    "duration": 30,
    "start_time": "2023-10-06T18:50:13.995Z"
   },
   {
    "duration": 30,
    "start_time": "2023-10-06T18:50:14.035Z"
   },
   {
    "duration": 18,
    "start_time": "2023-10-06T18:50:14.066Z"
   },
   {
    "duration": 16,
    "start_time": "2023-10-06T18:50:14.086Z"
   },
   {
    "duration": 53,
    "start_time": "2023-10-06T18:50:14.104Z"
   },
   {
    "duration": 17,
    "start_time": "2023-10-06T18:50:14.160Z"
   },
   {
    "duration": 120,
    "start_time": "2023-10-06T18:50:14.178Z"
   },
   {
    "duration": 54,
    "start_time": "2023-10-06T18:50:14.300Z"
   },
   {
    "duration": 34,
    "start_time": "2023-10-06T18:50:14.357Z"
   },
   {
    "duration": 24,
    "start_time": "2023-10-06T18:50:14.393Z"
   },
   {
    "duration": 492,
    "start_time": "2023-10-06T18:50:14.419Z"
   },
   {
    "duration": 5133,
    "start_time": "2023-10-06T18:50:14.913Z"
   },
   {
    "duration": 99,
    "start_time": "2023-10-06T18:50:20.048Z"
   },
   {
    "duration": 86,
    "start_time": "2023-10-06T18:50:20.154Z"
   },
   {
    "duration": 103,
    "start_time": "2023-10-06T18:50:20.242Z"
   },
   {
    "duration": 78,
    "start_time": "2023-10-06T18:50:20.349Z"
   },
   {
    "duration": 11,
    "start_time": "2023-10-06T18:50:20.429Z"
   },
   {
    "duration": 63,
    "start_time": "2023-10-06T18:50:20.442Z"
   },
   {
    "duration": 96,
    "start_time": "2023-10-06T18:50:20.507Z"
   },
   {
    "duration": 103,
    "start_time": "2023-10-06T18:50:20.604Z"
   },
   {
    "duration": 0,
    "start_time": "2023-10-06T18:50:20.709Z"
   },
   {
    "duration": 0,
    "start_time": "2023-10-06T18:50:20.711Z"
   },
   {
    "duration": 1,
    "start_time": "2023-10-06T18:50:20.712Z"
   },
   {
    "duration": 0,
    "start_time": "2023-10-06T18:50:20.714Z"
   },
   {
    "duration": 0,
    "start_time": "2023-10-06T18:50:20.717Z"
   },
   {
    "duration": 0,
    "start_time": "2023-10-06T18:50:20.718Z"
   },
   {
    "duration": 0,
    "start_time": "2023-10-06T18:50:20.719Z"
   },
   {
    "duration": 0,
    "start_time": "2023-10-06T18:50:20.722Z"
   },
   {
    "duration": 0,
    "start_time": "2023-10-06T18:50:20.723Z"
   },
   {
    "duration": 0,
    "start_time": "2023-10-06T18:50:20.724Z"
   },
   {
    "duration": 0,
    "start_time": "2023-10-06T18:50:20.725Z"
   },
   {
    "duration": 0,
    "start_time": "2023-10-06T18:50:20.726Z"
   },
   {
    "duration": 0,
    "start_time": "2023-10-06T18:50:20.730Z"
   },
   {
    "duration": 0,
    "start_time": "2023-10-06T18:50:20.731Z"
   },
   {
    "duration": 0,
    "start_time": "2023-10-06T18:50:20.733Z"
   },
   {
    "duration": 0,
    "start_time": "2023-10-06T18:50:20.734Z"
   },
   {
    "duration": 0,
    "start_time": "2023-10-06T18:50:20.735Z"
   },
   {
    "duration": 0,
    "start_time": "2023-10-06T18:50:20.736Z"
   },
   {
    "duration": 0,
    "start_time": "2023-10-06T18:50:20.738Z"
   },
   {
    "duration": 0,
    "start_time": "2023-10-06T18:50:20.739Z"
   },
   {
    "duration": 0,
    "start_time": "2023-10-06T18:50:20.740Z"
   },
   {
    "duration": 0,
    "start_time": "2023-10-06T18:50:20.741Z"
   },
   {
    "duration": 0,
    "start_time": "2023-10-06T18:50:20.743Z"
   },
   {
    "duration": 0,
    "start_time": "2023-10-06T18:50:20.744Z"
   },
   {
    "duration": 0,
    "start_time": "2023-10-06T18:50:20.745Z"
   },
   {
    "duration": 0,
    "start_time": "2023-10-06T18:50:20.747Z"
   },
   {
    "duration": 0,
    "start_time": "2023-10-06T18:50:20.748Z"
   },
   {
    "duration": 0,
    "start_time": "2023-10-06T18:50:20.750Z"
   },
   {
    "duration": 0,
    "start_time": "2023-10-06T18:50:20.751Z"
   },
   {
    "duration": 0,
    "start_time": "2023-10-06T18:50:20.752Z"
   },
   {
    "duration": 0,
    "start_time": "2023-10-06T18:50:20.754Z"
   },
   {
    "duration": 2709,
    "start_time": "2023-10-06T18:50:42.551Z"
   },
   {
    "duration": 3,
    "start_time": "2023-10-06T18:50:45.877Z"
   },
   {
    "duration": 6,
    "start_time": "2023-10-06T18:50:46.303Z"
   },
   {
    "duration": 3,
    "start_time": "2023-10-06T18:50:48.753Z"
   },
   {
    "duration": 14,
    "start_time": "2023-10-06T18:50:48.758Z"
   },
   {
    "duration": 2839,
    "start_time": "2023-10-06T18:50:48.774Z"
   },
   {
    "duration": 2737,
    "start_time": "2023-10-06T18:50:51.617Z"
   },
   {
    "duration": 2797,
    "start_time": "2023-10-06T18:50:54.359Z"
   },
   {
    "duration": 3,
    "start_time": "2023-10-06T18:50:57.159Z"
   },
   {
    "duration": 22,
    "start_time": "2023-10-06T18:50:57.164Z"
   },
   {
    "duration": 2527,
    "start_time": "2023-10-06T18:50:57.188Z"
   },
   {
    "duration": 57,
    "start_time": "2023-10-06T18:50:59.717Z"
   },
   {
    "duration": 15,
    "start_time": "2023-10-06T18:50:59.776Z"
   },
   {
    "duration": 258,
    "start_time": "2023-10-06T18:50:59.793Z"
   },
   {
    "duration": 641,
    "start_time": "2023-10-06T18:51:00.061Z"
   },
   {
    "duration": 583,
    "start_time": "2023-10-06T18:51:00.705Z"
   },
   {
    "duration": 279,
    "start_time": "2023-10-06T18:51:01.290Z"
   },
   {
    "duration": 225,
    "start_time": "2023-10-06T18:51:01.571Z"
   },
   {
    "duration": 93,
    "start_time": "2023-10-06T18:51:01.798Z"
   },
   {
    "duration": 147,
    "start_time": "2023-10-06T18:51:01.893Z"
   },
   {
    "duration": 747,
    "start_time": "2023-10-06T18:51:02.042Z"
   },
   {
    "duration": 683,
    "start_time": "2023-10-06T18:51:02.791Z"
   },
   {
    "duration": 474,
    "start_time": "2023-10-06T18:51:03.476Z"
   },
   {
    "duration": 649,
    "start_time": "2023-10-06T18:51:03.953Z"
   },
   {
    "duration": 2039,
    "start_time": "2023-10-06T18:51:04.603Z"
   },
   {
    "duration": 653,
    "start_time": "2023-10-06T18:51:06.647Z"
   },
   {
    "duration": 44,
    "start_time": "2023-10-06T18:51:07.302Z"
   },
   {
    "duration": 384,
    "start_time": "2023-10-06T18:51:07.349Z"
   },
   {
    "duration": 436,
    "start_time": "2023-10-06T18:51:07.735Z"
   },
   {
    "duration": 23,
    "start_time": "2023-10-06T18:51:08.173Z"
   },
   {
    "duration": 391,
    "start_time": "2023-10-06T18:51:08.198Z"
   },
   {
    "duration": 424,
    "start_time": "2023-10-06T18:51:08.590Z"
   },
   {
    "duration": 35,
    "start_time": "2023-10-06T18:51:09.017Z"
   },
   {
    "duration": 409,
    "start_time": "2023-10-06T18:51:09.058Z"
   },
   {
    "duration": 16,
    "start_time": "2023-10-06T18:51:09.469Z"
   },
   {
    "duration": 24,
    "start_time": "2023-10-06T18:51:09.487Z"
   },
   {
    "duration": 32,
    "start_time": "2023-10-06T18:51:09.523Z"
   },
   {
    "duration": 13,
    "start_time": "2023-10-06T18:51:09.557Z"
   },
   {
    "duration": 78,
    "start_time": "2023-10-06T18:51:09.571Z"
   },
   {
    "duration": 22,
    "start_time": "2023-10-06T18:51:09.654Z"
   },
   {
    "duration": 25,
    "start_time": "2023-10-06T18:51:09.678Z"
   },
   {
    "duration": 169,
    "start_time": "2023-10-06T18:51:09.705Z"
   },
   {
    "duration": 72,
    "start_time": "2023-10-06T18:51:09.876Z"
   },
   {
    "duration": 29,
    "start_time": "2023-10-06T18:51:09.954Z"
   },
   {
    "duration": 40,
    "start_time": "2023-10-06T18:51:09.985Z"
   },
   {
    "duration": 32,
    "start_time": "2023-10-06T18:51:10.028Z"
   },
   {
    "duration": 23,
    "start_time": "2023-10-06T18:51:10.064Z"
   },
   {
    "duration": 87,
    "start_time": "2023-10-06T18:51:10.089Z"
   },
   {
    "duration": 5,
    "start_time": "2023-10-06T18:51:10.178Z"
   },
   {
    "duration": 15,
    "start_time": "2023-10-06T18:51:10.184Z"
   },
   {
    "duration": 17,
    "start_time": "2023-10-06T18:51:10.202Z"
   },
   {
    "duration": 525,
    "start_time": "2023-10-06T18:51:10.221Z"
   },
   {
    "duration": 5335,
    "start_time": "2023-10-06T18:51:10.755Z"
   },
   {
    "duration": 115,
    "start_time": "2023-10-06T18:51:16.092Z"
   },
   {
    "duration": 72,
    "start_time": "2023-10-06T18:51:16.209Z"
   },
   {
    "duration": 134,
    "start_time": "2023-10-06T18:51:16.283Z"
   },
   {
    "duration": 81,
    "start_time": "2023-10-06T18:51:16.419Z"
   },
   {
    "duration": 5,
    "start_time": "2023-10-06T18:51:16.502Z"
   },
   {
    "duration": 45,
    "start_time": "2023-10-06T18:51:16.508Z"
   },
   {
    "duration": 83,
    "start_time": "2023-10-06T18:51:16.555Z"
   },
   {
    "duration": 44,
    "start_time": "2023-10-06T18:51:16.640Z"
   },
   {
    "duration": 0,
    "start_time": "2023-10-06T18:51:16.686Z"
   },
   {
    "duration": 0,
    "start_time": "2023-10-06T18:51:16.687Z"
   },
   {
    "duration": 0,
    "start_time": "2023-10-06T18:51:16.688Z"
   },
   {
    "duration": 0,
    "start_time": "2023-10-06T18:51:16.689Z"
   },
   {
    "duration": 0,
    "start_time": "2023-10-06T18:51:16.690Z"
   },
   {
    "duration": 0,
    "start_time": "2023-10-06T18:51:16.691Z"
   },
   {
    "duration": 0,
    "start_time": "2023-10-06T18:51:16.692Z"
   },
   {
    "duration": 0,
    "start_time": "2023-10-06T18:51:16.693Z"
   },
   {
    "duration": 0,
    "start_time": "2023-10-06T18:51:16.694Z"
   },
   {
    "duration": 0,
    "start_time": "2023-10-06T18:51:16.696Z"
   },
   {
    "duration": 0,
    "start_time": "2023-10-06T18:51:16.697Z"
   },
   {
    "duration": 0,
    "start_time": "2023-10-06T18:51:16.698Z"
   },
   {
    "duration": 0,
    "start_time": "2023-10-06T18:51:16.699Z"
   },
   {
    "duration": 0,
    "start_time": "2023-10-06T18:51:16.700Z"
   },
   {
    "duration": 0,
    "start_time": "2023-10-06T18:51:16.701Z"
   },
   {
    "duration": 0,
    "start_time": "2023-10-06T18:51:16.702Z"
   },
   {
    "duration": 0,
    "start_time": "2023-10-06T18:51:16.703Z"
   },
   {
    "duration": 0,
    "start_time": "2023-10-06T18:51:16.704Z"
   },
   {
    "duration": 0,
    "start_time": "2023-10-06T18:51:16.706Z"
   },
   {
    "duration": 0,
    "start_time": "2023-10-06T18:51:16.707Z"
   },
   {
    "duration": 0,
    "start_time": "2023-10-06T18:51:16.708Z"
   },
   {
    "duration": 0,
    "start_time": "2023-10-06T18:51:16.709Z"
   },
   {
    "duration": 0,
    "start_time": "2023-10-06T18:51:16.710Z"
   },
   {
    "duration": 0,
    "start_time": "2023-10-06T18:51:16.711Z"
   },
   {
    "duration": 0,
    "start_time": "2023-10-06T18:51:16.731Z"
   },
   {
    "duration": 0,
    "start_time": "2023-10-06T18:51:16.732Z"
   },
   {
    "duration": 0,
    "start_time": "2023-10-06T18:51:16.733Z"
   },
   {
    "duration": 0,
    "start_time": "2023-10-06T18:51:16.733Z"
   },
   {
    "duration": 0,
    "start_time": "2023-10-06T18:51:16.734Z"
   },
   {
    "duration": 1,
    "start_time": "2023-10-06T18:51:16.734Z"
   },
   {
    "duration": 0,
    "start_time": "2023-10-06T18:51:16.735Z"
   },
   {
    "duration": 9213,
    "start_time": "2023-10-06T18:54:46.059Z"
   },
   {
    "duration": 18,
    "start_time": "2023-10-06T18:55:08.953Z"
   },
   {
    "duration": 121,
    "start_time": "2023-10-06T18:56:39.958Z"
   },
   {
    "duration": 4,
    "start_time": "2023-10-06T18:57:29.120Z"
   },
   {
    "duration": 15,
    "start_time": "2023-10-06T18:57:29.128Z"
   },
   {
    "duration": 3821,
    "start_time": "2023-10-06T18:57:29.154Z"
   },
   {
    "duration": 390,
    "start_time": "2023-10-06T18:57:32.977Z"
   },
   {
    "duration": 1837,
    "start_time": "2023-10-06T18:57:33.369Z"
   },
   {
    "duration": 1260,
    "start_time": "2023-10-06T18:57:35.207Z"
   },
   {
    "duration": 64,
    "start_time": "2023-10-06T18:57:36.468Z"
   },
   {
    "duration": 104,
    "start_time": "2023-10-06T18:57:36.534Z"
   },
   {
    "duration": 247,
    "start_time": "2023-10-06T18:57:36.645Z"
   },
   {
    "duration": 560,
    "start_time": "2023-10-06T18:57:36.894Z"
   },
   {
    "duration": 614,
    "start_time": "2023-10-06T18:57:37.457Z"
   },
   {
    "duration": 113,
    "start_time": "2023-10-06T18:57:38.073Z"
   },
   {
    "duration": 213,
    "start_time": "2023-10-06T18:57:38.187Z"
   },
   {
    "duration": 190,
    "start_time": "2023-10-06T18:57:38.401Z"
   },
   {
    "duration": 151,
    "start_time": "2023-10-06T18:57:38.592Z"
   },
   {
    "duration": 572,
    "start_time": "2023-10-06T18:57:38.756Z"
   },
   {
    "duration": 550,
    "start_time": "2023-10-06T18:57:39.335Z"
   },
   {
    "duration": 455,
    "start_time": "2023-10-06T18:57:39.887Z"
   },
   {
    "duration": 662,
    "start_time": "2023-10-06T18:57:40.344Z"
   },
   {
    "duration": 1761,
    "start_time": "2023-10-06T18:57:41.008Z"
   },
   {
    "duration": 592,
    "start_time": "2023-10-06T18:57:42.772Z"
   },
   {
    "duration": 28,
    "start_time": "2023-10-06T18:57:43.366Z"
   },
   {
    "duration": 388,
    "start_time": "2023-10-06T18:57:43.396Z"
   },
   {
    "duration": 398,
    "start_time": "2023-10-06T18:57:43.786Z"
   },
   {
    "duration": 20,
    "start_time": "2023-10-06T18:57:44.186Z"
   },
   {
    "duration": 353,
    "start_time": "2023-10-06T18:57:44.209Z"
   },
   {
    "duration": 397,
    "start_time": "2023-10-06T18:57:44.564Z"
   },
   {
    "duration": 20,
    "start_time": "2023-10-06T18:57:44.963Z"
   },
   {
    "duration": 562,
    "start_time": "2023-10-06T18:57:44.987Z"
   },
   {
    "duration": 19,
    "start_time": "2023-10-06T18:57:45.551Z"
   },
   {
    "duration": 214,
    "start_time": "2023-10-06T18:57:45.572Z"
   },
   {
    "duration": 62,
    "start_time": "2023-10-06T18:57:45.789Z"
   },
   {
    "duration": 11,
    "start_time": "2023-10-06T18:57:45.857Z"
   },
   {
    "duration": 125,
    "start_time": "2023-10-06T18:57:45.870Z"
   },
   {
    "duration": 37,
    "start_time": "2023-10-06T18:57:45.997Z"
   },
   {
    "duration": 36,
    "start_time": "2023-10-06T18:57:46.041Z"
   },
   {
    "duration": 32,
    "start_time": "2023-10-06T18:57:46.080Z"
   },
   {
    "duration": 43,
    "start_time": "2023-10-06T18:57:46.114Z"
   },
   {
    "duration": 22,
    "start_time": "2023-10-06T18:57:46.162Z"
   },
   {
    "duration": 79,
    "start_time": "2023-10-06T18:57:46.186Z"
   },
   {
    "duration": 25,
    "start_time": "2023-10-06T18:57:46.267Z"
   },
   {
    "duration": 35,
    "start_time": "2023-10-06T18:57:46.294Z"
   },
   {
    "duration": 81,
    "start_time": "2023-10-06T18:57:46.331Z"
   },
   {
    "duration": 30,
    "start_time": "2023-10-06T18:57:46.414Z"
   },
   {
    "duration": 29,
    "start_time": "2023-10-06T18:57:46.446Z"
   },
   {
    "duration": 29,
    "start_time": "2023-10-06T18:57:46.476Z"
   },
   {
    "duration": 380,
    "start_time": "2023-10-06T18:57:46.506Z"
   },
   {
    "duration": 4990,
    "start_time": "2023-10-06T18:57:46.888Z"
   },
   {
    "duration": 90,
    "start_time": "2023-10-06T18:57:51.879Z"
   },
   {
    "duration": 36,
    "start_time": "2023-10-06T18:57:51.971Z"
   },
   {
    "duration": 49,
    "start_time": "2023-10-06T18:57:52.009Z"
   },
   {
    "duration": 95,
    "start_time": "2023-10-06T18:57:52.060Z"
   },
   {
    "duration": 4,
    "start_time": "2023-10-06T18:57:52.156Z"
   },
   {
    "duration": 28,
    "start_time": "2023-10-06T18:57:52.162Z"
   },
   {
    "duration": 24,
    "start_time": "2023-10-06T18:57:52.191Z"
   },
   {
    "duration": 46,
    "start_time": "2023-10-06T18:57:52.217Z"
   },
   {
    "duration": 517,
    "start_time": "2023-10-06T18:57:52.265Z"
   },
   {
    "duration": 183,
    "start_time": "2023-10-06T18:57:52.783Z"
   },
   {
    "duration": 95,
    "start_time": "2023-10-06T18:57:52.968Z"
   },
   {
    "duration": 174,
    "start_time": "2023-10-06T18:57:53.064Z"
   },
   {
    "duration": 122,
    "start_time": "2023-10-06T18:57:53.239Z"
   },
   {
    "duration": 51,
    "start_time": "2023-10-06T18:57:53.363Z"
   },
   {
    "duration": 70,
    "start_time": "2023-10-06T18:57:53.416Z"
   },
   {
    "duration": 117,
    "start_time": "2023-10-06T18:57:53.488Z"
   },
   {
    "duration": 4,
    "start_time": "2023-10-06T18:57:53.606Z"
   },
   {
    "duration": 42,
    "start_time": "2023-10-06T18:57:53.612Z"
   },
   {
    "duration": 35633,
    "start_time": "2023-10-06T18:57:53.656Z"
   },
   {
    "duration": 3,
    "start_time": "2023-10-06T18:58:29.291Z"
   },
   {
    "duration": 18,
    "start_time": "2023-10-06T18:58:29.296Z"
   },
   {
    "duration": 30420,
    "start_time": "2023-10-06T18:58:29.315Z"
   },
   {
    "duration": 14,
    "start_time": "2023-10-06T18:58:59.738Z"
   },
   {
    "duration": 133,
    "start_time": "2023-10-06T18:58:59.754Z"
   },
   {
    "duration": 0,
    "start_time": "2023-10-06T18:58:59.889Z"
   },
   {
    "duration": 0,
    "start_time": "2023-10-06T18:58:59.891Z"
   },
   {
    "duration": 0,
    "start_time": "2023-10-06T18:58:59.893Z"
   },
   {
    "duration": 0,
    "start_time": "2023-10-06T18:58:59.894Z"
   },
   {
    "duration": 0,
    "start_time": "2023-10-06T18:58:59.895Z"
   },
   {
    "duration": 0,
    "start_time": "2023-10-06T18:58:59.897Z"
   },
   {
    "duration": 0,
    "start_time": "2023-10-06T18:58:59.898Z"
   },
   {
    "duration": 0,
    "start_time": "2023-10-06T18:58:59.900Z"
   },
   {
    "duration": 0,
    "start_time": "2023-10-06T18:58:59.923Z"
   },
   {
    "duration": 0,
    "start_time": "2023-10-06T18:58:59.925Z"
   },
   {
    "duration": 0,
    "start_time": "2023-10-06T18:58:59.926Z"
   },
   {
    "duration": 0,
    "start_time": "2023-10-06T18:58:59.927Z"
   },
   {
    "duration": 0,
    "start_time": "2023-10-06T18:58:59.928Z"
   },
   {
    "duration": 0,
    "start_time": "2023-10-06T18:58:59.929Z"
   },
   {
    "duration": 0,
    "start_time": "2023-10-06T18:58:59.930Z"
   },
   {
    "duration": 441,
    "start_time": "2023-10-06T18:59:59.427Z"
   },
   {
    "duration": 2694,
    "start_time": "2023-10-06T19:00:13.897Z"
   },
   {
    "duration": 25,
    "start_time": "2023-10-06T19:00:18.955Z"
   },
   {
    "duration": 4,
    "start_time": "2023-10-06T19:00:26.751Z"
   },
   {
    "duration": 150,
    "start_time": "2023-10-06T19:00:26.757Z"
   },
   {
    "duration": 3260,
    "start_time": "2023-10-06T19:00:26.909Z"
   },
   {
    "duration": 2722,
    "start_time": "2023-10-06T19:00:30.172Z"
   },
   {
    "duration": 1888,
    "start_time": "2023-10-06T19:00:32.898Z"
   },
   {
    "duration": 0,
    "start_time": "2023-10-06T19:00:34.791Z"
   },
   {
    "duration": 0,
    "start_time": "2023-10-06T19:00:34.792Z"
   },
   {
    "duration": 0,
    "start_time": "2023-10-06T19:00:34.794Z"
   },
   {
    "duration": 0,
    "start_time": "2023-10-06T19:00:34.795Z"
   },
   {
    "duration": 0,
    "start_time": "2023-10-06T19:00:34.796Z"
   },
   {
    "duration": 0,
    "start_time": "2023-10-06T19:00:34.797Z"
   },
   {
    "duration": 0,
    "start_time": "2023-10-06T19:00:34.798Z"
   },
   {
    "duration": 0,
    "start_time": "2023-10-06T19:00:34.909Z"
   },
   {
    "duration": 0,
    "start_time": "2023-10-06T19:00:34.912Z"
   },
   {
    "duration": 0,
    "start_time": "2023-10-06T19:00:34.928Z"
   },
   {
    "duration": 0,
    "start_time": "2023-10-06T19:00:34.929Z"
   },
   {
    "duration": 0,
    "start_time": "2023-10-06T19:00:34.931Z"
   },
   {
    "duration": 0,
    "start_time": "2023-10-06T19:00:34.933Z"
   },
   {
    "duration": 0,
    "start_time": "2023-10-06T19:00:34.934Z"
   },
   {
    "duration": 0,
    "start_time": "2023-10-06T19:00:34.935Z"
   },
   {
    "duration": 0,
    "start_time": "2023-10-06T19:00:34.936Z"
   },
   {
    "duration": 0,
    "start_time": "2023-10-06T19:00:34.938Z"
   },
   {
    "duration": 0,
    "start_time": "2023-10-06T19:00:34.939Z"
   },
   {
    "duration": 0,
    "start_time": "2023-10-06T19:00:34.940Z"
   },
   {
    "duration": 0,
    "start_time": "2023-10-06T19:00:34.941Z"
   },
   {
    "duration": 0,
    "start_time": "2023-10-06T19:00:34.943Z"
   },
   {
    "duration": 0,
    "start_time": "2023-10-06T19:00:34.944Z"
   },
   {
    "duration": 0,
    "start_time": "2023-10-06T19:00:34.945Z"
   },
   {
    "duration": 0,
    "start_time": "2023-10-06T19:00:34.946Z"
   },
   {
    "duration": 0,
    "start_time": "2023-10-06T19:00:34.947Z"
   },
   {
    "duration": 0,
    "start_time": "2023-10-06T19:00:34.949Z"
   },
   {
    "duration": 0,
    "start_time": "2023-10-06T19:00:34.951Z"
   },
   {
    "duration": 0,
    "start_time": "2023-10-06T19:00:34.952Z"
   },
   {
    "duration": 0,
    "start_time": "2023-10-06T19:00:34.953Z"
   },
   {
    "duration": 0,
    "start_time": "2023-10-06T19:00:34.955Z"
   },
   {
    "duration": 0,
    "start_time": "2023-10-06T19:00:34.956Z"
   },
   {
    "duration": 0,
    "start_time": "2023-10-06T19:00:34.958Z"
   },
   {
    "duration": 0,
    "start_time": "2023-10-06T19:00:34.959Z"
   },
   {
    "duration": 0,
    "start_time": "2023-10-06T19:00:34.960Z"
   },
   {
    "duration": 0,
    "start_time": "2023-10-06T19:00:34.961Z"
   },
   {
    "duration": 0,
    "start_time": "2023-10-06T19:00:34.963Z"
   },
   {
    "duration": 0,
    "start_time": "2023-10-06T19:00:34.964Z"
   },
   {
    "duration": 1,
    "start_time": "2023-10-06T19:00:34.965Z"
   },
   {
    "duration": 0,
    "start_time": "2023-10-06T19:00:34.969Z"
   },
   {
    "duration": 0,
    "start_time": "2023-10-06T19:00:34.970Z"
   },
   {
    "duration": 0,
    "start_time": "2023-10-06T19:00:34.971Z"
   },
   {
    "duration": 0,
    "start_time": "2023-10-06T19:00:34.973Z"
   },
   {
    "duration": 0,
    "start_time": "2023-10-06T19:00:34.974Z"
   },
   {
    "duration": 0,
    "start_time": "2023-10-06T19:00:34.975Z"
   },
   {
    "duration": 0,
    "start_time": "2023-10-06T19:00:34.976Z"
   },
   {
    "duration": 0,
    "start_time": "2023-10-06T19:00:35.027Z"
   },
   {
    "duration": 0,
    "start_time": "2023-10-06T19:00:35.028Z"
   },
   {
    "duration": 0,
    "start_time": "2023-10-06T19:00:35.029Z"
   },
   {
    "duration": 0,
    "start_time": "2023-10-06T19:00:35.030Z"
   },
   {
    "duration": 0,
    "start_time": "2023-10-06T19:00:35.030Z"
   },
   {
    "duration": 0,
    "start_time": "2023-10-06T19:00:35.032Z"
   },
   {
    "duration": 0,
    "start_time": "2023-10-06T19:00:35.033Z"
   },
   {
    "duration": 0,
    "start_time": "2023-10-06T19:00:35.039Z"
   },
   {
    "duration": 0,
    "start_time": "2023-10-06T19:00:35.041Z"
   },
   {
    "duration": 0,
    "start_time": "2023-10-06T19:00:35.042Z"
   },
   {
    "duration": 0,
    "start_time": "2023-10-06T19:00:35.043Z"
   },
   {
    "duration": 0,
    "start_time": "2023-10-06T19:00:35.045Z"
   },
   {
    "duration": 0,
    "start_time": "2023-10-06T19:00:35.046Z"
   },
   {
    "duration": 0,
    "start_time": "2023-10-06T19:00:35.050Z"
   },
   {
    "duration": 0,
    "start_time": "2023-10-06T19:00:35.052Z"
   },
   {
    "duration": 0,
    "start_time": "2023-10-06T19:00:35.053Z"
   },
   {
    "duration": 0,
    "start_time": "2023-10-06T19:00:35.054Z"
   },
   {
    "duration": 0,
    "start_time": "2023-10-06T19:00:35.056Z"
   },
   {
    "duration": 0,
    "start_time": "2023-10-06T19:00:35.058Z"
   },
   {
    "duration": 0,
    "start_time": "2023-10-06T19:00:35.059Z"
   },
   {
    "duration": 0,
    "start_time": "2023-10-06T19:00:35.061Z"
   },
   {
    "duration": 0,
    "start_time": "2023-10-06T19:00:35.063Z"
   },
   {
    "duration": 0,
    "start_time": "2023-10-06T19:00:35.064Z"
   },
   {
    "duration": 0,
    "start_time": "2023-10-06T19:00:35.066Z"
   },
   {
    "duration": 0,
    "start_time": "2023-10-06T19:00:35.067Z"
   },
   {
    "duration": 0,
    "start_time": "2023-10-06T19:00:35.069Z"
   },
   {
    "duration": 0,
    "start_time": "2023-10-06T19:00:35.071Z"
   },
   {
    "duration": 0,
    "start_time": "2023-10-06T19:00:35.072Z"
   },
   {
    "duration": 0,
    "start_time": "2023-10-06T19:00:35.125Z"
   },
   {
    "duration": 0,
    "start_time": "2023-10-06T19:00:35.127Z"
   },
   {
    "duration": 0,
    "start_time": "2023-10-06T19:00:35.128Z"
   },
   {
    "duration": 0,
    "start_time": "2023-10-06T19:00:35.130Z"
   },
   {
    "duration": 0,
    "start_time": "2023-10-06T19:00:35.133Z"
   },
   {
    "duration": 0,
    "start_time": "2023-10-06T19:00:35.134Z"
   },
   {
    "duration": 0,
    "start_time": "2023-10-06T19:00:35.136Z"
   },
   {
    "duration": 0,
    "start_time": "2023-10-06T19:00:35.137Z"
   },
   {
    "duration": 0,
    "start_time": "2023-10-06T19:00:35.138Z"
   },
   {
    "duration": 2904,
    "start_time": "2023-10-06T19:10:59.754Z"
   },
   {
    "duration": 33,
    "start_time": "2023-10-06T19:11:05.848Z"
   },
   {
    "duration": 30533,
    "start_time": "2023-10-06T19:11:33.155Z"
   },
   {
    "duration": 26,
    "start_time": "2023-10-06T19:12:03.691Z"
   },
   {
    "duration": 20,
    "start_time": "2023-10-06T19:12:53.380Z"
   },
   {
    "duration": 4,
    "start_time": "2023-10-06T19:13:24.304Z"
   },
   {
    "duration": 180,
    "start_time": "2023-10-06T19:13:24.310Z"
   },
   {
    "duration": 3570,
    "start_time": "2023-10-06T19:13:24.492Z"
   },
   {
    "duration": 2620,
    "start_time": "2023-10-06T19:13:28.065Z"
   },
   {
    "duration": 2922,
    "start_time": "2023-10-06T19:13:30.687Z"
   },
   {
    "duration": 2901,
    "start_time": "2023-10-06T19:13:33.611Z"
   },
   {
    "duration": 2531,
    "start_time": "2023-10-06T19:13:36.514Z"
   },
   {
    "duration": 0,
    "start_time": "2023-10-06T19:13:39.052Z"
   },
   {
    "duration": 0,
    "start_time": "2023-10-06T19:13:39.053Z"
   },
   {
    "duration": 0,
    "start_time": "2023-10-06T19:13:39.054Z"
   },
   {
    "duration": 0,
    "start_time": "2023-10-06T19:13:39.055Z"
   },
   {
    "duration": 0,
    "start_time": "2023-10-06T19:13:39.056Z"
   },
   {
    "duration": 0,
    "start_time": "2023-10-06T19:13:39.057Z"
   },
   {
    "duration": 0,
    "start_time": "2023-10-06T19:13:39.058Z"
   },
   {
    "duration": 0,
    "start_time": "2023-10-06T19:13:39.060Z"
   },
   {
    "duration": 0,
    "start_time": "2023-10-06T19:13:39.061Z"
   },
   {
    "duration": 0,
    "start_time": "2023-10-06T19:13:39.062Z"
   },
   {
    "duration": 1,
    "start_time": "2023-10-06T19:13:39.062Z"
   },
   {
    "duration": 0,
    "start_time": "2023-10-06T19:13:39.064Z"
   },
   {
    "duration": 1,
    "start_time": "2023-10-06T19:13:39.064Z"
   },
   {
    "duration": 0,
    "start_time": "2023-10-06T19:13:39.065Z"
   },
   {
    "duration": 0,
    "start_time": "2023-10-06T19:13:39.067Z"
   },
   {
    "duration": 0,
    "start_time": "2023-10-06T19:13:39.068Z"
   },
   {
    "duration": 0,
    "start_time": "2023-10-06T19:13:39.069Z"
   },
   {
    "duration": 0,
    "start_time": "2023-10-06T19:13:39.070Z"
   },
   {
    "duration": 0,
    "start_time": "2023-10-06T19:13:39.071Z"
   },
   {
    "duration": 0,
    "start_time": "2023-10-06T19:13:39.072Z"
   },
   {
    "duration": 0,
    "start_time": "2023-10-06T19:13:39.073Z"
   },
   {
    "duration": 0,
    "start_time": "2023-10-06T19:13:39.074Z"
   },
   {
    "duration": 0,
    "start_time": "2023-10-06T19:13:39.075Z"
   },
   {
    "duration": 0,
    "start_time": "2023-10-06T19:13:39.076Z"
   },
   {
    "duration": 0,
    "start_time": "2023-10-06T19:13:39.078Z"
   },
   {
    "duration": 0,
    "start_time": "2023-10-06T19:13:39.079Z"
   },
   {
    "duration": 0,
    "start_time": "2023-10-06T19:13:39.081Z"
   },
   {
    "duration": 0,
    "start_time": "2023-10-06T19:13:39.082Z"
   },
   {
    "duration": 0,
    "start_time": "2023-10-06T19:13:39.088Z"
   },
   {
    "duration": 0,
    "start_time": "2023-10-06T19:13:39.090Z"
   },
   {
    "duration": 0,
    "start_time": "2023-10-06T19:13:39.091Z"
   },
   {
    "duration": 0,
    "start_time": "2023-10-06T19:13:39.132Z"
   },
   {
    "duration": 0,
    "start_time": "2023-10-06T19:13:39.133Z"
   },
   {
    "duration": 0,
    "start_time": "2023-10-06T19:13:39.134Z"
   },
   {
    "duration": 0,
    "start_time": "2023-10-06T19:13:39.134Z"
   },
   {
    "duration": 0,
    "start_time": "2023-10-06T19:13:39.135Z"
   },
   {
    "duration": 0,
    "start_time": "2023-10-06T19:13:39.136Z"
   },
   {
    "duration": 0,
    "start_time": "2023-10-06T19:13:39.137Z"
   },
   {
    "duration": 0,
    "start_time": "2023-10-06T19:13:39.137Z"
   },
   {
    "duration": 0,
    "start_time": "2023-10-06T19:13:39.138Z"
   },
   {
    "duration": 0,
    "start_time": "2023-10-06T19:13:39.139Z"
   },
   {
    "duration": 0,
    "start_time": "2023-10-06T19:13:39.142Z"
   },
   {
    "duration": 0,
    "start_time": "2023-10-06T19:13:39.144Z"
   },
   {
    "duration": 0,
    "start_time": "2023-10-06T19:13:39.145Z"
   },
   {
    "duration": 0,
    "start_time": "2023-10-06T19:13:39.146Z"
   },
   {
    "duration": 0,
    "start_time": "2023-10-06T19:13:39.147Z"
   },
   {
    "duration": 0,
    "start_time": "2023-10-06T19:13:39.148Z"
   },
   {
    "duration": 0,
    "start_time": "2023-10-06T19:13:39.149Z"
   },
   {
    "duration": 0,
    "start_time": "2023-10-06T19:13:39.150Z"
   },
   {
    "duration": 0,
    "start_time": "2023-10-06T19:13:39.152Z"
   },
   {
    "duration": 0,
    "start_time": "2023-10-06T19:13:39.153Z"
   },
   {
    "duration": 0,
    "start_time": "2023-10-06T19:13:39.154Z"
   },
   {
    "duration": 0,
    "start_time": "2023-10-06T19:13:39.155Z"
   },
   {
    "duration": 1,
    "start_time": "2023-10-06T19:13:39.156Z"
   },
   {
    "duration": 0,
    "start_time": "2023-10-06T19:13:39.158Z"
   },
   {
    "duration": 0,
    "start_time": "2023-10-06T19:13:39.159Z"
   },
   {
    "duration": 0,
    "start_time": "2023-10-06T19:13:39.160Z"
   },
   {
    "duration": 0,
    "start_time": "2023-10-06T19:13:39.161Z"
   },
   {
    "duration": 0,
    "start_time": "2023-10-06T19:13:39.162Z"
   },
   {
    "duration": 0,
    "start_time": "2023-10-06T19:13:39.164Z"
   },
   {
    "duration": 0,
    "start_time": "2023-10-06T19:13:39.165Z"
   },
   {
    "duration": 0,
    "start_time": "2023-10-06T19:13:39.166Z"
   },
   {
    "duration": 0,
    "start_time": "2023-10-06T19:13:39.167Z"
   },
   {
    "duration": 0,
    "start_time": "2023-10-06T19:13:39.168Z"
   },
   {
    "duration": 0,
    "start_time": "2023-10-06T19:13:39.168Z"
   },
   {
    "duration": 0,
    "start_time": "2023-10-06T19:13:39.169Z"
   },
   {
    "duration": 0,
    "start_time": "2023-10-06T19:13:39.171Z"
   },
   {
    "duration": 0,
    "start_time": "2023-10-06T19:13:39.172Z"
   },
   {
    "duration": 0,
    "start_time": "2023-10-06T19:13:39.173Z"
   },
   {
    "duration": 0,
    "start_time": "2023-10-06T19:13:39.174Z"
   },
   {
    "duration": 0,
    "start_time": "2023-10-06T19:13:39.175Z"
   },
   {
    "duration": 0,
    "start_time": "2023-10-06T19:13:39.175Z"
   },
   {
    "duration": 0,
    "start_time": "2023-10-06T19:13:39.177Z"
   },
   {
    "duration": 0,
    "start_time": "2023-10-06T19:13:39.177Z"
   },
   {
    "duration": 0,
    "start_time": "2023-10-06T19:13:39.226Z"
   },
   {
    "duration": 0,
    "start_time": "2023-10-06T19:13:39.227Z"
   },
   {
    "duration": 0,
    "start_time": "2023-10-06T19:13:39.228Z"
   },
   {
    "duration": 0,
    "start_time": "2023-10-06T19:13:39.233Z"
   },
   {
    "duration": 0,
    "start_time": "2023-10-06T19:13:39.234Z"
   },
   {
    "duration": 0,
    "start_time": "2023-10-06T19:13:39.235Z"
   },
   {
    "duration": 0,
    "start_time": "2023-10-06T19:13:39.236Z"
   },
   {
    "duration": 0,
    "start_time": "2023-10-06T19:13:39.237Z"
   },
   {
    "duration": 6,
    "start_time": "2023-10-06T19:13:50.052Z"
   },
   {
    "duration": 7,
    "start_time": "2023-10-06T19:14:11.544Z"
   },
   {
    "duration": 11,
    "start_time": "2023-10-06T19:14:11.553Z"
   },
   {
    "duration": 3109,
    "start_time": "2023-10-06T19:14:11.566Z"
   },
   {
    "duration": 2851,
    "start_time": "2023-10-06T19:14:14.678Z"
   },
   {
    "duration": 4,
    "start_time": "2023-10-06T19:14:17.532Z"
   },
   {
    "duration": 54,
    "start_time": "2023-10-06T19:14:17.538Z"
   },
   {
    "duration": 2370,
    "start_time": "2023-10-06T19:14:17.593Z"
   },
   {
    "duration": 1155,
    "start_time": "2023-10-06T19:14:19.965Z"
   },
   {
    "duration": 30,
    "start_time": "2023-10-06T19:14:21.124Z"
   },
   {
    "duration": 155,
    "start_time": "2023-10-06T19:14:21.157Z"
   },
   {
    "duration": 324,
    "start_time": "2023-10-06T19:14:21.314Z"
   },
   {
    "duration": 502,
    "start_time": "2023-10-06T19:14:21.645Z"
   },
   {
    "duration": 539,
    "start_time": "2023-10-06T19:14:22.149Z"
   },
   {
    "duration": 99,
    "start_time": "2023-10-06T19:14:22.691Z"
   },
   {
    "duration": 165,
    "start_time": "2023-10-06T19:14:22.792Z"
   },
   {
    "duration": 103,
    "start_time": "2023-10-06T19:14:22.963Z"
   },
   {
    "duration": 181,
    "start_time": "2023-10-06T19:14:23.068Z"
   },
   {
    "duration": 706,
    "start_time": "2023-10-06T19:14:23.256Z"
   },
   {
    "duration": 545,
    "start_time": "2023-10-06T19:14:23.965Z"
   },
   {
    "duration": 466,
    "start_time": "2023-10-06T19:14:24.512Z"
   },
   {
    "duration": 535,
    "start_time": "2023-10-06T19:14:24.979Z"
   },
   {
    "duration": 1754,
    "start_time": "2023-10-06T19:14:25.515Z"
   },
   {
    "duration": 728,
    "start_time": "2023-10-06T19:14:27.271Z"
   },
   {
    "duration": 36,
    "start_time": "2023-10-06T19:14:28.001Z"
   },
   {
    "duration": 350,
    "start_time": "2023-10-06T19:14:28.043Z"
   },
   {
    "duration": 387,
    "start_time": "2023-10-06T19:14:28.395Z"
   },
   {
    "duration": 22,
    "start_time": "2023-10-06T19:14:28.784Z"
   },
   {
    "duration": 482,
    "start_time": "2023-10-06T19:14:28.808Z"
   },
   {
    "duration": 392,
    "start_time": "2023-10-06T19:14:29.292Z"
   },
   {
    "duration": 20,
    "start_time": "2023-10-06T19:14:29.686Z"
   },
   {
    "duration": 392,
    "start_time": "2023-10-06T19:14:29.708Z"
   },
   {
    "duration": 26,
    "start_time": "2023-10-06T19:14:30.102Z"
   },
   {
    "duration": 159,
    "start_time": "2023-10-06T19:14:30.137Z"
   },
   {
    "duration": 524,
    "start_time": "2023-10-06T19:14:30.297Z"
   },
   {
    "duration": 273,
    "start_time": "2023-10-06T19:14:30.823Z"
   },
   {
    "duration": 97,
    "start_time": "2023-10-06T19:14:31.098Z"
   },
   {
    "duration": 218,
    "start_time": "2023-10-06T19:14:31.196Z"
   },
   {
    "duration": 167,
    "start_time": "2023-10-06T19:14:31.415Z"
   },
   {
    "duration": 101,
    "start_time": "2023-10-06T19:14:31.584Z"
   },
   {
    "duration": 66,
    "start_time": "2023-10-06T19:14:31.687Z"
   },
   {
    "duration": 57,
    "start_time": "2023-10-06T19:14:31.763Z"
   },
   {
    "duration": 66,
    "start_time": "2023-10-06T19:14:31.821Z"
   },
   {
    "duration": 57,
    "start_time": "2023-10-06T19:14:31.889Z"
   },
   {
    "duration": 40,
    "start_time": "2023-10-06T19:14:31.949Z"
   },
   {
    "duration": 124,
    "start_time": "2023-10-06T19:14:31.991Z"
   },
   {
    "duration": 241,
    "start_time": "2023-10-06T19:14:32.117Z"
   },
   {
    "duration": 59,
    "start_time": "2023-10-06T19:14:32.362Z"
   },
   {
    "duration": 403,
    "start_time": "2023-10-06T19:14:32.422Z"
   },
   {
    "duration": 460,
    "start_time": "2023-10-06T19:14:32.827Z"
   },
   {
    "duration": 0,
    "start_time": "2023-10-06T19:14:33.289Z"
   },
   {
    "duration": 0,
    "start_time": "2023-10-06T19:14:33.290Z"
   },
   {
    "duration": 0,
    "start_time": "2023-10-06T19:14:33.291Z"
   },
   {
    "duration": 0,
    "start_time": "2023-10-06T19:14:33.292Z"
   },
   {
    "duration": 0,
    "start_time": "2023-10-06T19:14:33.293Z"
   },
   {
    "duration": 0,
    "start_time": "2023-10-06T19:14:33.294Z"
   },
   {
    "duration": 0,
    "start_time": "2023-10-06T19:14:33.295Z"
   },
   {
    "duration": 0,
    "start_time": "2023-10-06T19:14:33.296Z"
   },
   {
    "duration": 0,
    "start_time": "2023-10-06T19:14:33.297Z"
   },
   {
    "duration": 0,
    "start_time": "2023-10-06T19:14:33.298Z"
   },
   {
    "duration": 0,
    "start_time": "2023-10-06T19:14:33.299Z"
   },
   {
    "duration": 0,
    "start_time": "2023-10-06T19:14:33.300Z"
   },
   {
    "duration": 0,
    "start_time": "2023-10-06T19:14:33.301Z"
   },
   {
    "duration": 0,
    "start_time": "2023-10-06T19:14:33.302Z"
   },
   {
    "duration": 0,
    "start_time": "2023-10-06T19:14:33.326Z"
   },
   {
    "duration": 0,
    "start_time": "2023-10-06T19:14:33.326Z"
   },
   {
    "duration": 0,
    "start_time": "2023-10-06T19:14:33.328Z"
   },
   {
    "duration": 0,
    "start_time": "2023-10-06T19:14:33.329Z"
   },
   {
    "duration": 0,
    "start_time": "2023-10-06T19:14:33.330Z"
   },
   {
    "duration": 0,
    "start_time": "2023-10-06T19:14:33.332Z"
   },
   {
    "duration": 0,
    "start_time": "2023-10-06T19:14:33.333Z"
   },
   {
    "duration": 0,
    "start_time": "2023-10-06T19:14:33.335Z"
   },
   {
    "duration": 0,
    "start_time": "2023-10-06T19:14:33.336Z"
   },
   {
    "duration": 0,
    "start_time": "2023-10-06T19:14:33.337Z"
   },
   {
    "duration": 0,
    "start_time": "2023-10-06T19:14:33.338Z"
   },
   {
    "duration": 0,
    "start_time": "2023-10-06T19:14:33.339Z"
   },
   {
    "duration": 0,
    "start_time": "2023-10-06T19:14:33.340Z"
   },
   {
    "duration": 0,
    "start_time": "2023-10-06T19:14:33.342Z"
   },
   {
    "duration": 0,
    "start_time": "2023-10-06T19:14:33.343Z"
   },
   {
    "duration": 0,
    "start_time": "2023-10-06T19:14:33.344Z"
   },
   {
    "duration": 0,
    "start_time": "2023-10-06T19:14:33.345Z"
   },
   {
    "duration": 0,
    "start_time": "2023-10-06T19:14:33.347Z"
   },
   {
    "duration": 0,
    "start_time": "2023-10-06T19:14:33.348Z"
   },
   {
    "duration": 0,
    "start_time": "2023-10-06T19:14:33.349Z"
   },
   {
    "duration": 0,
    "start_time": "2023-10-06T19:14:33.350Z"
   },
   {
    "duration": 0,
    "start_time": "2023-10-06T19:14:33.352Z"
   },
   {
    "duration": 0,
    "start_time": "2023-10-06T19:14:33.353Z"
   },
   {
    "duration": 0,
    "start_time": "2023-10-06T19:14:33.354Z"
   },
   {
    "duration": 0,
    "start_time": "2023-10-06T19:14:33.355Z"
   },
   {
    "duration": 0,
    "start_time": "2023-10-06T19:14:33.357Z"
   },
   {
    "duration": 34,
    "start_time": "2023-10-06T19:14:45.914Z"
   },
   {
    "duration": 4646,
    "start_time": "2023-10-06T19:14:59.748Z"
   },
   {
    "duration": 7,
    "start_time": "2023-10-06T19:15:12.849Z"
   },
   {
    "duration": 110,
    "start_time": "2023-10-06T19:15:12.857Z"
   },
   {
    "duration": 3388,
    "start_time": "2023-10-06T19:15:12.969Z"
   },
   {
    "duration": 2802,
    "start_time": "2023-10-06T19:15:16.360Z"
   },
   {
    "duration": 4,
    "start_time": "2023-10-06T19:15:19.165Z"
   },
   {
    "duration": 6,
    "start_time": "2023-10-06T19:15:19.170Z"
   },
   {
    "duration": 2379,
    "start_time": "2023-10-06T19:15:19.178Z"
   },
   {
    "duration": 1150,
    "start_time": "2023-10-06T19:15:21.559Z"
   },
   {
    "duration": 43,
    "start_time": "2023-10-06T19:15:22.711Z"
   },
   {
    "duration": 15,
    "start_time": "2023-10-06T19:15:22.759Z"
   },
   {
    "duration": 204,
    "start_time": "2023-10-06T19:15:22.775Z"
   },
   {
    "duration": 522,
    "start_time": "2023-10-06T19:15:22.981Z"
   },
   {
    "duration": 572,
    "start_time": "2023-10-06T19:15:23.506Z"
   },
   {
    "duration": 97,
    "start_time": "2023-10-06T19:15:24.079Z"
   },
   {
    "duration": 161,
    "start_time": "2023-10-06T19:15:24.177Z"
   },
   {
    "duration": 49,
    "start_time": "2023-10-06T19:15:24.340Z"
   },
   {
    "duration": 123,
    "start_time": "2023-10-06T19:15:24.390Z"
   },
   {
    "duration": 638,
    "start_time": "2023-10-06T19:15:24.515Z"
   },
   {
    "duration": 514,
    "start_time": "2023-10-06T19:15:25.155Z"
   },
   {
    "duration": 508,
    "start_time": "2023-10-06T19:15:25.671Z"
   },
   {
    "duration": 547,
    "start_time": "2023-10-06T19:15:26.181Z"
   },
   {
    "duration": 1722,
    "start_time": "2023-10-06T19:15:26.730Z"
   },
   {
    "duration": 659,
    "start_time": "2023-10-06T19:15:28.455Z"
   },
   {
    "duration": 35,
    "start_time": "2023-10-06T19:15:29.116Z"
   },
   {
    "duration": 391,
    "start_time": "2023-10-06T19:15:29.153Z"
   },
   {
    "duration": 411,
    "start_time": "2023-10-06T19:15:29.551Z"
   },
   {
    "duration": 23,
    "start_time": "2023-10-06T19:15:29.964Z"
   },
   {
    "duration": 423,
    "start_time": "2023-10-06T19:15:29.990Z"
   },
   {
    "duration": 424,
    "start_time": "2023-10-06T19:15:30.416Z"
   },
   {
    "duration": 32,
    "start_time": "2023-10-06T19:15:30.846Z"
   },
   {
    "duration": 524,
    "start_time": "2023-10-06T19:15:30.882Z"
   },
   {
    "duration": 40,
    "start_time": "2023-10-06T19:15:31.407Z"
   },
   {
    "duration": 41,
    "start_time": "2023-10-06T19:15:31.450Z"
   },
   {
    "duration": 46,
    "start_time": "2023-10-06T19:15:31.493Z"
   },
   {
    "duration": 63,
    "start_time": "2023-10-06T19:15:31.540Z"
   },
   {
    "duration": 99,
    "start_time": "2023-10-06T19:15:31.605Z"
   },
   {
    "duration": 169,
    "start_time": "2023-10-06T19:15:31.710Z"
   },
   {
    "duration": 200,
    "start_time": "2023-10-06T19:15:31.880Z"
   },
   {
    "duration": 196,
    "start_time": "2023-10-06T19:15:32.082Z"
   },
   {
    "duration": 132,
    "start_time": "2023-10-06T19:15:32.280Z"
   },
   {
    "duration": 266,
    "start_time": "2023-10-06T19:15:32.414Z"
   },
   {
    "duration": 225,
    "start_time": "2023-10-06T19:15:32.682Z"
   },
   {
    "duration": 165,
    "start_time": "2023-10-06T19:15:32.909Z"
   },
   {
    "duration": 116,
    "start_time": "2023-10-06T19:15:33.076Z"
   },
   {
    "duration": 216,
    "start_time": "2023-10-06T19:15:33.194Z"
   },
   {
    "duration": 42,
    "start_time": "2023-10-06T19:15:33.412Z"
   },
   {
    "duration": 215,
    "start_time": "2023-10-06T19:15:33.455Z"
   },
   {
    "duration": 191,
    "start_time": "2023-10-06T19:15:33.672Z"
   },
   {
    "duration": 440,
    "start_time": "2023-10-06T19:15:33.865Z"
   },
   {
    "duration": 0,
    "start_time": "2023-10-06T19:15:34.307Z"
   },
   {
    "duration": 0,
    "start_time": "2023-10-06T19:15:34.308Z"
   },
   {
    "duration": 0,
    "start_time": "2023-10-06T19:15:34.309Z"
   },
   {
    "duration": 0,
    "start_time": "2023-10-06T19:15:34.310Z"
   },
   {
    "duration": 0,
    "start_time": "2023-10-06T19:15:34.311Z"
   },
   {
    "duration": 0,
    "start_time": "2023-10-06T19:15:34.313Z"
   },
   {
    "duration": 0,
    "start_time": "2023-10-06T19:15:34.326Z"
   },
   {
    "duration": 0,
    "start_time": "2023-10-06T19:15:34.326Z"
   },
   {
    "duration": 0,
    "start_time": "2023-10-06T19:15:34.334Z"
   },
   {
    "duration": 0,
    "start_time": "2023-10-06T19:15:34.335Z"
   },
   {
    "duration": 0,
    "start_time": "2023-10-06T19:15:34.335Z"
   },
   {
    "duration": 0,
    "start_time": "2023-10-06T19:15:34.337Z"
   },
   {
    "duration": 0,
    "start_time": "2023-10-06T19:15:34.338Z"
   },
   {
    "duration": 0,
    "start_time": "2023-10-06T19:15:34.338Z"
   },
   {
    "duration": 0,
    "start_time": "2023-10-06T19:15:34.339Z"
   },
   {
    "duration": 1,
    "start_time": "2023-10-06T19:15:34.339Z"
   },
   {
    "duration": 0,
    "start_time": "2023-10-06T19:15:34.344Z"
   },
   {
    "duration": 0,
    "start_time": "2023-10-06T19:15:34.345Z"
   },
   {
    "duration": 0,
    "start_time": "2023-10-06T19:15:34.346Z"
   },
   {
    "duration": 0,
    "start_time": "2023-10-06T19:15:34.347Z"
   },
   {
    "duration": 0,
    "start_time": "2023-10-06T19:15:34.349Z"
   },
   {
    "duration": 0,
    "start_time": "2023-10-06T19:15:34.350Z"
   },
   {
    "duration": 0,
    "start_time": "2023-10-06T19:15:34.351Z"
   },
   {
    "duration": 0,
    "start_time": "2023-10-06T19:15:34.352Z"
   },
   {
    "duration": 0,
    "start_time": "2023-10-06T19:15:34.353Z"
   },
   {
    "duration": 0,
    "start_time": "2023-10-06T19:15:34.354Z"
   },
   {
    "duration": 0,
    "start_time": "2023-10-06T19:15:34.355Z"
   },
   {
    "duration": 0,
    "start_time": "2023-10-06T19:15:34.356Z"
   },
   {
    "duration": 0,
    "start_time": "2023-10-06T19:15:34.357Z"
   },
   {
    "duration": 0,
    "start_time": "2023-10-06T19:15:34.358Z"
   },
   {
    "duration": 0,
    "start_time": "2023-10-06T19:15:34.359Z"
   },
   {
    "duration": 0,
    "start_time": "2023-10-06T19:15:34.360Z"
   },
   {
    "duration": 0,
    "start_time": "2023-10-06T19:15:34.361Z"
   },
   {
    "duration": 0,
    "start_time": "2023-10-06T19:15:34.362Z"
   },
   {
    "duration": 0,
    "start_time": "2023-10-06T19:15:34.363Z"
   },
   {
    "duration": 0,
    "start_time": "2023-10-06T19:15:34.365Z"
   },
   {
    "duration": 0,
    "start_time": "2023-10-06T19:15:34.366Z"
   },
   {
    "duration": 0,
    "start_time": "2023-10-06T19:15:34.366Z"
   },
   {
    "duration": 0,
    "start_time": "2023-10-06T19:15:34.367Z"
   },
   {
    "duration": 0,
    "start_time": "2023-10-06T19:15:34.368Z"
   },
   {
    "duration": 4695,
    "start_time": "2023-10-06T19:16:10.104Z"
   },
   {
    "duration": 2832,
    "start_time": "2023-10-06T19:17:37.388Z"
   },
   {
    "duration": 6,
    "start_time": "2023-10-06T19:17:52.442Z"
   },
   {
    "duration": 186,
    "start_time": "2023-10-06T19:17:52.450Z"
   },
   {
    "duration": 3443,
    "start_time": "2023-10-06T19:17:52.638Z"
   },
   {
    "duration": 2657,
    "start_time": "2023-10-06T19:17:56.085Z"
   },
   {
    "duration": 2908,
    "start_time": "2023-10-06T19:17:58.744Z"
   },
   {
    "duration": 3,
    "start_time": "2023-10-06T19:18:01.654Z"
   },
   {
    "duration": 254,
    "start_time": "2023-10-06T19:18:01.659Z"
   },
   {
    "duration": 2321,
    "start_time": "2023-10-06T19:18:01.915Z"
   },
   {
    "duration": 1146,
    "start_time": "2023-10-06T19:18:04.245Z"
   },
   {
    "duration": 38,
    "start_time": "2023-10-06T19:18:05.392Z"
   },
   {
    "duration": 55,
    "start_time": "2023-10-06T19:18:05.433Z"
   },
   {
    "duration": 263,
    "start_time": "2023-10-06T19:18:05.490Z"
   },
   {
    "duration": 611,
    "start_time": "2023-10-06T19:18:05.758Z"
   },
   {
    "duration": 601,
    "start_time": "2023-10-06T19:18:06.371Z"
   },
   {
    "duration": 106,
    "start_time": "2023-10-06T19:18:06.975Z"
   },
   {
    "duration": 333,
    "start_time": "2023-10-06T19:18:07.083Z"
   },
   {
    "duration": 292,
    "start_time": "2023-10-06T19:18:07.418Z"
   },
   {
    "duration": 125,
    "start_time": "2023-10-06T19:18:07.712Z"
   },
   {
    "duration": 564,
    "start_time": "2023-10-06T19:18:07.845Z"
   },
   {
    "duration": 554,
    "start_time": "2023-10-06T19:18:08.411Z"
   },
   {
    "duration": 444,
    "start_time": "2023-10-06T19:18:08.967Z"
   },
   {
    "duration": 549,
    "start_time": "2023-10-06T19:18:09.413Z"
   },
   {
    "duration": 1703,
    "start_time": "2023-10-06T19:18:09.964Z"
   },
   {
    "duration": 679,
    "start_time": "2023-10-06T19:18:11.668Z"
   },
   {
    "duration": 27,
    "start_time": "2023-10-06T19:18:12.348Z"
   },
   {
    "duration": 365,
    "start_time": "2023-10-06T19:18:12.377Z"
   },
   {
    "duration": 397,
    "start_time": "2023-10-06T19:18:12.748Z"
   },
   {
    "duration": 40,
    "start_time": "2023-10-06T19:18:13.147Z"
   },
   {
    "duration": 342,
    "start_time": "2023-10-06T19:18:13.206Z"
   },
   {
    "duration": 369,
    "start_time": "2023-10-06T19:18:13.553Z"
   },
   {
    "duration": 33,
    "start_time": "2023-10-06T19:18:13.923Z"
   },
   {
    "duration": 404,
    "start_time": "2023-10-06T19:18:13.959Z"
   },
   {
    "duration": 17,
    "start_time": "2023-10-06T19:18:14.366Z"
   },
   {
    "duration": 19,
    "start_time": "2023-10-06T19:18:14.385Z"
   },
   {
    "duration": 30,
    "start_time": "2023-10-06T19:18:14.406Z"
   },
   {
    "duration": 45,
    "start_time": "2023-10-06T19:18:14.438Z"
   },
   {
    "duration": 81,
    "start_time": "2023-10-06T19:18:14.485Z"
   },
   {
    "duration": 24,
    "start_time": "2023-10-06T19:18:14.568Z"
   },
   {
    "duration": 67,
    "start_time": "2023-10-06T19:18:14.594Z"
   },
   {
    "duration": 24,
    "start_time": "2023-10-06T19:18:14.664Z"
   },
   {
    "duration": 21,
    "start_time": "2023-10-06T19:18:14.690Z"
   },
   {
    "duration": 33,
    "start_time": "2023-10-06T19:18:14.713Z"
   },
   {
    "duration": 21,
    "start_time": "2023-10-06T19:18:14.750Z"
   },
   {
    "duration": 15,
    "start_time": "2023-10-06T19:18:14.772Z"
   },
   {
    "duration": 18,
    "start_time": "2023-10-06T19:18:14.789Z"
   },
   {
    "duration": 93,
    "start_time": "2023-10-06T19:18:14.808Z"
   },
   {
    "duration": 6,
    "start_time": "2023-10-06T19:18:14.903Z"
   },
   {
    "duration": 34,
    "start_time": "2023-10-06T19:18:14.910Z"
   },
   {
    "duration": 12,
    "start_time": "2023-10-06T19:18:14.945Z"
   },
   {
    "duration": 162,
    "start_time": "2023-10-06T19:18:14.958Z"
   },
   {
    "duration": 0,
    "start_time": "2023-10-06T19:18:15.122Z"
   },
   {
    "duration": 0,
    "start_time": "2023-10-06T19:18:15.123Z"
   },
   {
    "duration": 0,
    "start_time": "2023-10-06T19:18:15.124Z"
   },
   {
    "duration": 0,
    "start_time": "2023-10-06T19:18:15.125Z"
   },
   {
    "duration": 0,
    "start_time": "2023-10-06T19:18:15.125Z"
   },
   {
    "duration": 0,
    "start_time": "2023-10-06T19:18:15.126Z"
   },
   {
    "duration": 1,
    "start_time": "2023-10-06T19:18:15.126Z"
   },
   {
    "duration": 0,
    "start_time": "2023-10-06T19:18:15.129Z"
   },
   {
    "duration": 0,
    "start_time": "2023-10-06T19:18:15.130Z"
   },
   {
    "duration": 0,
    "start_time": "2023-10-06T19:18:15.131Z"
   },
   {
    "duration": 0,
    "start_time": "2023-10-06T19:18:15.133Z"
   },
   {
    "duration": 0,
    "start_time": "2023-10-06T19:18:15.133Z"
   },
   {
    "duration": 0,
    "start_time": "2023-10-06T19:18:15.134Z"
   },
   {
    "duration": 0,
    "start_time": "2023-10-06T19:18:15.135Z"
   },
   {
    "duration": 1,
    "start_time": "2023-10-06T19:18:15.135Z"
   },
   {
    "duration": 0,
    "start_time": "2023-10-06T19:18:15.136Z"
   },
   {
    "duration": 0,
    "start_time": "2023-10-06T19:18:15.137Z"
   },
   {
    "duration": 0,
    "start_time": "2023-10-06T19:18:15.138Z"
   },
   {
    "duration": 0,
    "start_time": "2023-10-06T19:18:15.138Z"
   },
   {
    "duration": 0,
    "start_time": "2023-10-06T19:18:15.139Z"
   },
   {
    "duration": 0,
    "start_time": "2023-10-06T19:18:15.139Z"
   },
   {
    "duration": 0,
    "start_time": "2023-10-06T19:18:15.140Z"
   },
   {
    "duration": 0,
    "start_time": "2023-10-06T19:18:15.141Z"
   },
   {
    "duration": 0,
    "start_time": "2023-10-06T19:18:15.141Z"
   },
   {
    "duration": 0,
    "start_time": "2023-10-06T19:18:15.142Z"
   },
   {
    "duration": 0,
    "start_time": "2023-10-06T19:18:15.143Z"
   },
   {
    "duration": 0,
    "start_time": "2023-10-06T19:18:15.144Z"
   },
   {
    "duration": 0,
    "start_time": "2023-10-06T19:18:15.145Z"
   },
   {
    "duration": 0,
    "start_time": "2023-10-06T19:18:15.145Z"
   },
   {
    "duration": 0,
    "start_time": "2023-10-06T19:18:15.151Z"
   },
   {
    "duration": 0,
    "start_time": "2023-10-06T19:18:15.151Z"
   },
   {
    "duration": 0,
    "start_time": "2023-10-06T19:18:15.160Z"
   },
   {
    "duration": 0,
    "start_time": "2023-10-06T19:18:15.161Z"
   },
   {
    "duration": 0,
    "start_time": "2023-10-06T19:18:15.162Z"
   },
   {
    "duration": 0,
    "start_time": "2023-10-06T19:18:15.163Z"
   },
   {
    "duration": 0,
    "start_time": "2023-10-06T19:18:15.164Z"
   },
   {
    "duration": 0,
    "start_time": "2023-10-06T19:18:15.165Z"
   },
   {
    "duration": 0,
    "start_time": "2023-10-06T19:18:15.166Z"
   },
   {
    "duration": 0,
    "start_time": "2023-10-06T19:18:15.167Z"
   },
   {
    "duration": 0,
    "start_time": "2023-10-06T19:18:15.168Z"
   },
   {
    "duration": 3,
    "start_time": "2023-10-06T19:18:44.156Z"
   },
   {
    "duration": 44,
    "start_time": "2023-10-06T19:18:44.161Z"
   },
   {
    "duration": 3789,
    "start_time": "2023-10-06T19:18:44.207Z"
   },
   {
    "duration": 2988,
    "start_time": "2023-10-06T19:18:47.999Z"
   },
   {
    "duration": 3177,
    "start_time": "2023-10-06T19:18:50.990Z"
   },
   {
    "duration": 3,
    "start_time": "2023-10-06T19:18:54.169Z"
   },
   {
    "duration": 14,
    "start_time": "2023-10-06T19:18:54.173Z"
   },
   {
    "duration": 2426,
    "start_time": "2023-10-06T19:18:54.189Z"
   },
   {
    "duration": 1162,
    "start_time": "2023-10-06T19:18:56.617Z"
   },
   {
    "duration": 32,
    "start_time": "2023-10-06T19:18:57.781Z"
   },
   {
    "duration": 24,
    "start_time": "2023-10-06T19:18:57.824Z"
   },
   {
    "duration": 160,
    "start_time": "2023-10-06T19:18:57.849Z"
   },
   {
    "duration": 564,
    "start_time": "2023-10-06T19:18:58.011Z"
   },
   {
    "duration": 557,
    "start_time": "2023-10-06T19:18:58.578Z"
   },
   {
    "duration": 101,
    "start_time": "2023-10-06T19:18:59.140Z"
   },
   {
    "duration": 146,
    "start_time": "2023-10-06T19:18:59.244Z"
   },
   {
    "duration": 44,
    "start_time": "2023-10-06T19:18:59.391Z"
   },
   {
    "duration": 117,
    "start_time": "2023-10-06T19:18:59.437Z"
   },
   {
    "duration": 652,
    "start_time": "2023-10-06T19:18:59.556Z"
   },
   {
    "duration": 577,
    "start_time": "2023-10-06T19:19:00.210Z"
   },
   {
    "duration": 450,
    "start_time": "2023-10-06T19:19:00.789Z"
   },
   {
    "duration": 557,
    "start_time": "2023-10-06T19:19:01.246Z"
   },
   {
    "duration": 1889,
    "start_time": "2023-10-06T19:19:01.806Z"
   },
   {
    "duration": 687,
    "start_time": "2023-10-06T19:19:03.696Z"
   },
   {
    "duration": 23,
    "start_time": "2023-10-06T19:19:04.385Z"
   },
   {
    "duration": 598,
    "start_time": "2023-10-06T19:19:04.410Z"
   },
   {
    "duration": 382,
    "start_time": "2023-10-06T19:19:05.009Z"
   },
   {
    "duration": 21,
    "start_time": "2023-10-06T19:19:05.393Z"
   },
   {
    "duration": 445,
    "start_time": "2023-10-06T19:19:05.423Z"
   },
   {
    "duration": 410,
    "start_time": "2023-10-06T19:19:05.873Z"
   },
   {
    "duration": 20,
    "start_time": "2023-10-06T19:19:06.285Z"
   },
   {
    "duration": 584,
    "start_time": "2023-10-06T19:19:06.307Z"
   },
   {
    "duration": 17,
    "start_time": "2023-10-06T19:19:06.893Z"
   },
   {
    "duration": 120,
    "start_time": "2023-10-06T19:19:06.930Z"
   },
   {
    "duration": 160,
    "start_time": "2023-10-06T19:19:07.056Z"
   },
   {
    "duration": 200,
    "start_time": "2023-10-06T19:19:07.218Z"
   },
   {
    "duration": 168,
    "start_time": "2023-10-06T19:19:07.420Z"
   },
   {
    "duration": 125,
    "start_time": "2023-10-06T19:19:07.590Z"
   },
   {
    "duration": 69,
    "start_time": "2023-10-06T19:19:07.717Z"
   },
   {
    "duration": 127,
    "start_time": "2023-10-06T19:19:07.788Z"
   },
   {
    "duration": 154,
    "start_time": "2023-10-06T19:19:07.919Z"
   },
   {
    "duration": 112,
    "start_time": "2023-10-06T19:19:08.075Z"
   },
   {
    "duration": 76,
    "start_time": "2023-10-06T19:19:08.189Z"
   },
   {
    "duration": 117,
    "start_time": "2023-10-06T19:19:08.268Z"
   },
   {
    "duration": 175,
    "start_time": "2023-10-06T19:19:08.387Z"
   },
   {
    "duration": 178,
    "start_time": "2023-10-06T19:19:08.564Z"
   },
   {
    "duration": 20,
    "start_time": "2023-10-06T19:19:08.753Z"
   },
   {
    "duration": 78,
    "start_time": "2023-10-06T19:19:08.775Z"
   },
   {
    "duration": 37,
    "start_time": "2023-10-06T19:19:08.855Z"
   },
   {
    "duration": 60,
    "start_time": "2023-10-06T19:19:08.895Z"
   },
   {
    "duration": 4548,
    "start_time": "2023-10-06T19:19:08.958Z"
   },
   {
    "duration": 81,
    "start_time": "2023-10-06T19:19:13.508Z"
   },
   {
    "duration": 44,
    "start_time": "2023-10-06T19:19:13.591Z"
   },
   {
    "duration": 78,
    "start_time": "2023-10-06T19:19:13.636Z"
   },
   {
    "duration": 78,
    "start_time": "2023-10-06T19:19:13.716Z"
   },
   {
    "duration": 4,
    "start_time": "2023-10-06T19:19:13.796Z"
   },
   {
    "duration": 17,
    "start_time": "2023-10-06T19:19:13.802Z"
   },
   {
    "duration": 73,
    "start_time": "2023-10-06T19:19:13.822Z"
   },
   {
    "duration": 72,
    "start_time": "2023-10-06T19:19:13.897Z"
   },
   {
    "duration": 432,
    "start_time": "2023-10-06T19:19:13.971Z"
   },
   {
    "duration": 165,
    "start_time": "2023-10-06T19:19:14.405Z"
   },
   {
    "duration": 75,
    "start_time": "2023-10-06T19:19:14.571Z"
   },
   {
    "duration": 8,
    "start_time": "2023-10-06T19:19:14.647Z"
   },
   {
    "duration": 2,
    "start_time": "2023-10-06T19:19:14.658Z"
   },
   {
    "duration": 14,
    "start_time": "2023-10-06T19:19:14.662Z"
   },
   {
    "duration": 41,
    "start_time": "2023-10-06T19:19:14.678Z"
   },
   {
    "duration": 91,
    "start_time": "2023-10-06T19:19:14.721Z"
   },
   {
    "duration": 4,
    "start_time": "2023-10-06T19:19:14.814Z"
   },
   {
    "duration": 23,
    "start_time": "2023-10-06T19:19:14.819Z"
   },
   {
    "duration": 2269,
    "start_time": "2023-10-06T19:19:14.847Z"
   },
   {
    "duration": 0,
    "start_time": "2023-10-06T19:19:17.118Z"
   },
   {
    "duration": 0,
    "start_time": "2023-10-06T19:19:17.119Z"
   },
   {
    "duration": 0,
    "start_time": "2023-10-06T19:19:17.121Z"
   },
   {
    "duration": 0,
    "start_time": "2023-10-06T19:19:17.122Z"
   },
   {
    "duration": 0,
    "start_time": "2023-10-06T19:19:17.123Z"
   },
   {
    "duration": 0,
    "start_time": "2023-10-06T19:19:17.124Z"
   },
   {
    "duration": 0,
    "start_time": "2023-10-06T19:19:17.126Z"
   },
   {
    "duration": 0,
    "start_time": "2023-10-06T19:19:17.131Z"
   },
   {
    "duration": 0,
    "start_time": "2023-10-06T19:19:17.133Z"
   },
   {
    "duration": 0,
    "start_time": "2023-10-06T19:19:17.134Z"
   },
   {
    "duration": 0,
    "start_time": "2023-10-06T19:19:17.135Z"
   },
   {
    "duration": 0,
    "start_time": "2023-10-06T19:19:17.136Z"
   },
   {
    "duration": 1,
    "start_time": "2023-10-06T19:19:17.137Z"
   },
   {
    "duration": 0,
    "start_time": "2023-10-06T19:19:17.141Z"
   },
   {
    "duration": 0,
    "start_time": "2023-10-06T19:19:17.142Z"
   },
   {
    "duration": 0,
    "start_time": "2023-10-06T19:19:17.142Z"
   },
   {
    "duration": 0,
    "start_time": "2023-10-06T19:19:17.143Z"
   },
   {
    "duration": 0,
    "start_time": "2023-10-06T19:19:17.150Z"
   },
   {
    "duration": 0,
    "start_time": "2023-10-06T19:19:17.152Z"
   },
   {
    "duration": 0,
    "start_time": "2023-10-06T19:19:17.154Z"
   },
   {
    "duration": 3,
    "start_time": "2023-10-06T19:20:26.411Z"
   },
   {
    "duration": 39,
    "start_time": "2023-10-06T19:20:26.416Z"
   },
   {
    "duration": 3161,
    "start_time": "2023-10-06T19:20:26.457Z"
   },
   {
    "duration": 2816,
    "start_time": "2023-10-06T19:20:29.621Z"
   },
   {
    "duration": 3,
    "start_time": "2023-10-06T19:22:45.613Z"
   },
   {
    "duration": 32,
    "start_time": "2023-10-06T19:22:45.618Z"
   },
   {
    "duration": 23,
    "start_time": "2023-10-06T19:22:45.652Z"
   },
   {
    "duration": 26,
    "start_time": "2023-10-06T19:22:45.676Z"
   },
   {
    "duration": 26,
    "start_time": "2023-10-06T19:22:45.703Z"
   },
   {
    "duration": 42,
    "start_time": "2023-10-06T19:22:45.731Z"
   },
   {
    "duration": 436,
    "start_time": "2023-10-06T19:22:45.776Z"
   },
   {
    "duration": 0,
    "start_time": "2023-10-06T19:22:46.215Z"
   },
   {
    "duration": 0,
    "start_time": "2023-10-06T19:22:46.216Z"
   },
   {
    "duration": 0,
    "start_time": "2023-10-06T19:22:46.217Z"
   },
   {
    "duration": 0,
    "start_time": "2023-10-06T19:22:46.218Z"
   },
   {
    "duration": 0,
    "start_time": "2023-10-06T19:22:46.219Z"
   },
   {
    "duration": 0,
    "start_time": "2023-10-06T19:22:46.220Z"
   },
   {
    "duration": 0,
    "start_time": "2023-10-06T19:22:46.239Z"
   },
   {
    "duration": 0,
    "start_time": "2023-10-06T19:22:46.240Z"
   },
   {
    "duration": 0,
    "start_time": "2023-10-06T19:22:46.240Z"
   },
   {
    "duration": 0,
    "start_time": "2023-10-06T19:22:46.241Z"
   },
   {
    "duration": 0,
    "start_time": "2023-10-06T19:22:46.241Z"
   },
   {
    "duration": 0,
    "start_time": "2023-10-06T19:22:46.242Z"
   },
   {
    "duration": 0,
    "start_time": "2023-10-06T19:22:46.242Z"
   },
   {
    "duration": 0,
    "start_time": "2023-10-06T19:22:46.243Z"
   },
   {
    "duration": 0,
    "start_time": "2023-10-06T19:22:46.243Z"
   },
   {
    "duration": 0,
    "start_time": "2023-10-06T19:22:46.244Z"
   },
   {
    "duration": 0,
    "start_time": "2023-10-06T19:22:46.244Z"
   },
   {
    "duration": 0,
    "start_time": "2023-10-06T19:22:46.245Z"
   },
   {
    "duration": 0,
    "start_time": "2023-10-06T19:22:46.245Z"
   },
   {
    "duration": 0,
    "start_time": "2023-10-06T19:22:46.246Z"
   },
   {
    "duration": 0,
    "start_time": "2023-10-06T19:22:46.246Z"
   },
   {
    "duration": 0,
    "start_time": "2023-10-06T19:22:46.248Z"
   },
   {
    "duration": 0,
    "start_time": "2023-10-06T19:22:46.249Z"
   },
   {
    "duration": 0,
    "start_time": "2023-10-06T19:22:46.249Z"
   },
   {
    "duration": 0,
    "start_time": "2023-10-06T19:22:46.250Z"
   },
   {
    "duration": 0,
    "start_time": "2023-10-06T19:22:46.250Z"
   },
   {
    "duration": 0,
    "start_time": "2023-10-06T19:22:46.251Z"
   },
   {
    "duration": 0,
    "start_time": "2023-10-06T19:22:46.251Z"
   },
   {
    "duration": 0,
    "start_time": "2023-10-06T19:22:46.252Z"
   },
   {
    "duration": 0,
    "start_time": "2023-10-06T19:22:46.253Z"
   },
   {
    "duration": 0,
    "start_time": "2023-10-06T19:22:46.254Z"
   },
   {
    "duration": 0,
    "start_time": "2023-10-06T19:22:46.255Z"
   },
   {
    "duration": 0,
    "start_time": "2023-10-06T19:22:46.255Z"
   },
   {
    "duration": 0,
    "start_time": "2023-10-06T19:22:46.258Z"
   },
   {
    "duration": 0,
    "start_time": "2023-10-06T19:22:46.259Z"
   },
   {
    "duration": 0,
    "start_time": "2023-10-06T19:22:46.260Z"
   },
   {
    "duration": 0,
    "start_time": "2023-10-06T19:22:46.261Z"
   },
   {
    "duration": 0,
    "start_time": "2023-10-06T19:22:46.262Z"
   },
   {
    "duration": 0,
    "start_time": "2023-10-06T19:22:46.263Z"
   },
   {
    "duration": 0,
    "start_time": "2023-10-06T19:22:46.264Z"
   },
   {
    "duration": 0,
    "start_time": "2023-10-06T19:22:46.267Z"
   },
   {
    "duration": 0,
    "start_time": "2023-10-06T19:22:46.268Z"
   },
   {
    "duration": 0,
    "start_time": "2023-10-06T19:22:46.269Z"
   },
   {
    "duration": 0,
    "start_time": "2023-10-06T19:22:46.270Z"
   },
   {
    "duration": 0,
    "start_time": "2023-10-06T19:22:46.271Z"
   },
   {
    "duration": 0,
    "start_time": "2023-10-06T19:22:46.272Z"
   },
   {
    "duration": 0,
    "start_time": "2023-10-06T19:22:46.273Z"
   },
   {
    "duration": 0,
    "start_time": "2023-10-06T19:22:46.273Z"
   },
   {
    "duration": 0,
    "start_time": "2023-10-06T19:22:46.274Z"
   },
   {
    "duration": 0,
    "start_time": "2023-10-06T19:22:46.275Z"
   },
   {
    "duration": 0,
    "start_time": "2023-10-06T19:22:46.276Z"
   },
   {
    "duration": 0,
    "start_time": "2023-10-06T19:22:46.277Z"
   },
   {
    "duration": 0,
    "start_time": "2023-10-06T19:22:46.278Z"
   },
   {
    "duration": 0,
    "start_time": "2023-10-06T19:22:46.279Z"
   },
   {
    "duration": 0,
    "start_time": "2023-10-06T19:22:46.280Z"
   },
   {
    "duration": 0,
    "start_time": "2023-10-06T19:22:46.281Z"
   },
   {
    "duration": 0,
    "start_time": "2023-10-06T19:22:46.282Z"
   },
   {
    "duration": 0,
    "start_time": "2023-10-06T19:22:46.282Z"
   },
   {
    "duration": 0,
    "start_time": "2023-10-06T19:22:46.283Z"
   },
   {
    "duration": 0,
    "start_time": "2023-10-06T19:22:46.284Z"
   },
   {
    "duration": 0,
    "start_time": "2023-10-06T19:22:46.285Z"
   },
   {
    "duration": 0,
    "start_time": "2023-10-06T19:22:46.286Z"
   },
   {
    "duration": 0,
    "start_time": "2023-10-06T19:22:46.287Z"
   },
   {
    "duration": 0,
    "start_time": "2023-10-06T19:22:46.288Z"
   },
   {
    "duration": 0,
    "start_time": "2023-10-06T19:22:46.289Z"
   },
   {
    "duration": 0,
    "start_time": "2023-10-06T19:22:46.289Z"
   },
   {
    "duration": 0,
    "start_time": "2023-10-06T19:22:46.291Z"
   },
   {
    "duration": 0,
    "start_time": "2023-10-06T19:22:46.291Z"
   },
   {
    "duration": 0,
    "start_time": "2023-10-06T19:22:46.292Z"
   },
   {
    "duration": 0,
    "start_time": "2023-10-06T19:22:46.293Z"
   },
   {
    "duration": 0,
    "start_time": "2023-10-06T19:22:46.294Z"
   },
   {
    "duration": 0,
    "start_time": "2023-10-06T19:22:46.295Z"
   },
   {
    "duration": 0,
    "start_time": "2023-10-06T19:22:46.296Z"
   },
   {
    "duration": 0,
    "start_time": "2023-10-06T19:22:46.297Z"
   },
   {
    "duration": 0,
    "start_time": "2023-10-06T19:22:46.297Z"
   },
   {
    "duration": 0,
    "start_time": "2023-10-06T19:22:46.299Z"
   },
   {
    "duration": 0,
    "start_time": "2023-10-06T19:22:46.299Z"
   },
   {
    "duration": 0,
    "start_time": "2023-10-06T19:22:46.300Z"
   },
   {
    "duration": 0,
    "start_time": "2023-10-06T19:22:46.301Z"
   },
   {
    "duration": 0,
    "start_time": "2023-10-06T19:22:46.352Z"
   },
   {
    "duration": 1,
    "start_time": "2023-10-06T19:22:46.352Z"
   },
   {
    "duration": 19,
    "start_time": "2023-10-06T19:22:46.357Z"
   },
   {
    "duration": 3050,
    "start_time": "2023-10-06T19:23:06.206Z"
   },
   {
    "duration": 2030,
    "start_time": "2023-10-06T19:23:24.449Z"
   },
   {
    "duration": 2,
    "start_time": "2023-10-06T19:23:26.480Z"
   },
   {
    "duration": 15,
    "start_time": "2023-10-06T19:23:26.483Z"
   },
   {
    "duration": 3,
    "start_time": "2023-10-06T19:23:26.499Z"
   },
   {
    "duration": 11,
    "start_time": "2023-10-06T19:23:26.503Z"
   },
   {
    "duration": 9,
    "start_time": "2023-10-06T19:23:26.515Z"
   },
   {
    "duration": 1212,
    "start_time": "2023-10-06T19:23:26.525Z"
   },
   {
    "duration": 1227,
    "start_time": "2023-10-06T19:23:27.740Z"
   },
   {
    "duration": 39,
    "start_time": "2023-10-06T19:23:28.973Z"
   },
   {
    "duration": 14,
    "start_time": "2023-10-06T19:23:29.014Z"
   },
   {
    "duration": 141,
    "start_time": "2023-10-06T19:23:29.029Z"
   },
   {
    "duration": 408,
    "start_time": "2023-10-06T19:23:29.177Z"
   },
   {
    "duration": 447,
    "start_time": "2023-10-06T19:23:29.586Z"
   },
   {
    "duration": 103,
    "start_time": "2023-10-06T19:23:30.034Z"
   },
   {
    "duration": 139,
    "start_time": "2023-10-06T19:23:30.139Z"
   },
   {
    "duration": 57,
    "start_time": "2023-10-06T19:23:30.279Z"
   },
   {
    "duration": 123,
    "start_time": "2023-10-06T19:23:30.337Z"
   },
   {
    "duration": 427,
    "start_time": "2023-10-06T19:23:30.465Z"
   },
   {
    "duration": 483,
    "start_time": "2023-10-06T19:23:30.893Z"
   },
   {
    "duration": 357,
    "start_time": "2023-10-06T19:23:31.377Z"
   },
   {
    "duration": 447,
    "start_time": "2023-10-06T19:23:31.735Z"
   },
   {
    "duration": 1328,
    "start_time": "2023-10-06T19:23:32.183Z"
   },
   {
    "duration": 424,
    "start_time": "2023-10-06T19:23:33.513Z"
   },
   {
    "duration": 32,
    "start_time": "2023-10-06T19:23:33.939Z"
   },
   {
    "duration": 306,
    "start_time": "2023-10-06T19:23:33.972Z"
   },
   {
    "duration": 300,
    "start_time": "2023-10-06T19:23:34.281Z"
   },
   {
    "duration": 18,
    "start_time": "2023-10-06T19:23:34.582Z"
   },
   {
    "duration": 286,
    "start_time": "2023-10-06T19:23:34.603Z"
   },
   {
    "duration": 309,
    "start_time": "2023-10-06T19:23:34.890Z"
   },
   {
    "duration": 17,
    "start_time": "2023-10-06T19:23:35.201Z"
   },
   {
    "duration": 306,
    "start_time": "2023-10-06T19:23:35.219Z"
   },
   {
    "duration": 51,
    "start_time": "2023-10-06T19:23:35.527Z"
   },
   {
    "duration": 21,
    "start_time": "2023-10-06T19:23:35.581Z"
   },
   {
    "duration": 34,
    "start_time": "2023-10-06T19:23:35.604Z"
   },
   {
    "duration": 26,
    "start_time": "2023-10-06T19:23:35.648Z"
   },
   {
    "duration": 44,
    "start_time": "2023-10-06T19:23:35.684Z"
   },
   {
    "duration": 37,
    "start_time": "2023-10-06T19:23:35.730Z"
   },
   {
    "duration": 15,
    "start_time": "2023-10-06T19:23:35.768Z"
   },
   {
    "duration": 12,
    "start_time": "2023-10-06T19:23:35.784Z"
   },
   {
    "duration": 17,
    "start_time": "2023-10-06T19:23:35.798Z"
   },
   {
    "duration": 65,
    "start_time": "2023-10-06T19:23:35.817Z"
   },
   {
    "duration": 19,
    "start_time": "2023-10-06T19:23:35.883Z"
   },
   {
    "duration": 13,
    "start_time": "2023-10-06T19:23:35.903Z"
   },
   {
    "duration": 58,
    "start_time": "2023-10-06T19:23:35.917Z"
   },
   {
    "duration": 42,
    "start_time": "2023-10-06T19:23:35.977Z"
   },
   {
    "duration": 8,
    "start_time": "2023-10-06T19:23:36.020Z"
   },
   {
    "duration": 7,
    "start_time": "2023-10-06T19:23:36.030Z"
   },
   {
    "duration": 24,
    "start_time": "2023-10-06T19:23:36.038Z"
   },
   {
    "duration": 18,
    "start_time": "2023-10-06T19:23:36.067Z"
   },
   {
    "duration": 4023,
    "start_time": "2023-10-06T19:23:36.086Z"
   },
   {
    "duration": 73,
    "start_time": "2023-10-06T19:23:40.110Z"
   },
   {
    "duration": 3,
    "start_time": "2023-10-06T19:23:40.184Z"
   },
   {
    "duration": 31,
    "start_time": "2023-10-06T19:23:40.188Z"
   },
   {
    "duration": 64,
    "start_time": "2023-10-06T19:23:40.220Z"
   },
   {
    "duration": 4,
    "start_time": "2023-10-06T19:23:40.285Z"
   },
   {
    "duration": 20,
    "start_time": "2023-10-06T19:23:40.290Z"
   },
   {
    "duration": 26,
    "start_time": "2023-10-06T19:23:40.311Z"
   },
   {
    "duration": 84,
    "start_time": "2023-10-06T19:23:40.347Z"
   },
   {
    "duration": 0,
    "start_time": "2023-10-06T19:23:40.432Z"
   },
   {
    "duration": 6639,
    "start_time": "2023-10-06T19:23:58.551Z"
   },
   {
    "duration": 12,
    "start_time": "2023-10-06T19:24:27.813Z"
   },
   {
    "duration": 2081,
    "start_time": "2023-10-06T19:24:30.598Z"
   },
   {
    "duration": 3,
    "start_time": "2023-10-06T19:24:32.681Z"
   },
   {
    "duration": 2438,
    "start_time": "2023-10-06T19:24:32.686Z"
   },
   {
    "duration": 2,
    "start_time": "2023-10-06T19:24:35.127Z"
   },
   {
    "duration": 136,
    "start_time": "2023-10-06T19:24:35.130Z"
   },
   {
    "duration": 11,
    "start_time": "2023-10-06T19:24:35.267Z"
   },
   {
    "duration": 13,
    "start_time": "2023-10-06T19:24:35.279Z"
   },
   {
    "duration": 869,
    "start_time": "2023-10-06T19:24:35.293Z"
   },
   {
    "duration": 40,
    "start_time": "2023-10-06T19:24:36.169Z"
   },
   {
    "duration": 11,
    "start_time": "2023-10-06T19:24:36.211Z"
   },
   {
    "duration": 159,
    "start_time": "2023-10-06T19:24:36.224Z"
   },
   {
    "duration": 379,
    "start_time": "2023-10-06T19:24:36.385Z"
   },
   {
    "duration": 407,
    "start_time": "2023-10-06T19:24:36.765Z"
   },
   {
    "duration": 77,
    "start_time": "2023-10-06T19:24:37.179Z"
   },
   {
    "duration": 131,
    "start_time": "2023-10-06T19:24:37.258Z"
   },
   {
    "duration": 21,
    "start_time": "2023-10-06T19:24:37.391Z"
   },
   {
    "duration": 93,
    "start_time": "2023-10-06T19:24:37.414Z"
   },
   {
    "duration": 431,
    "start_time": "2023-10-06T19:24:37.508Z"
   },
   {
    "duration": 371,
    "start_time": "2023-10-06T19:24:37.957Z"
   },
   {
    "duration": 374,
    "start_time": "2023-10-06T19:24:38.330Z"
   },
   {
    "duration": 430,
    "start_time": "2023-10-06T19:24:38.705Z"
   },
   {
    "duration": 1261,
    "start_time": "2023-10-06T19:24:39.136Z"
   },
   {
    "duration": 478,
    "start_time": "2023-10-06T19:24:40.398Z"
   },
   {
    "duration": 23,
    "start_time": "2023-10-06T19:24:40.877Z"
   },
   {
    "duration": 329,
    "start_time": "2023-10-06T19:24:40.902Z"
   },
   {
    "duration": 303,
    "start_time": "2023-10-06T19:24:41.233Z"
   },
   {
    "duration": 27,
    "start_time": "2023-10-06T19:24:41.537Z"
   },
   {
    "duration": 302,
    "start_time": "2023-10-06T19:24:41.580Z"
   },
   {
    "duration": 296,
    "start_time": "2023-10-06T19:24:41.884Z"
   },
   {
    "duration": 18,
    "start_time": "2023-10-06T19:24:42.182Z"
   },
   {
    "duration": 302,
    "start_time": "2023-10-06T19:24:42.201Z"
   },
   {
    "duration": 12,
    "start_time": "2023-10-06T19:24:42.505Z"
   },
   {
    "duration": 68,
    "start_time": "2023-10-06T19:24:42.518Z"
   },
   {
    "duration": 20,
    "start_time": "2023-10-06T19:24:42.587Z"
   },
   {
    "duration": 17,
    "start_time": "2023-10-06T19:24:42.609Z"
   },
   {
    "duration": 79,
    "start_time": "2023-10-06T19:24:42.628Z"
   },
   {
    "duration": 75,
    "start_time": "2023-10-06T19:24:42.708Z"
   },
   {
    "duration": 23,
    "start_time": "2023-10-06T19:24:42.785Z"
   },
   {
    "duration": 26,
    "start_time": "2023-10-06T19:24:42.810Z"
   },
   {
    "duration": 40,
    "start_time": "2023-10-06T19:24:42.837Z"
   },
   {
    "duration": 19,
    "start_time": "2023-10-06T19:24:42.878Z"
   },
   {
    "duration": 22,
    "start_time": "2023-10-06T19:24:42.898Z"
   },
   {
    "duration": 23,
    "start_time": "2023-10-06T19:24:42.921Z"
   },
   {
    "duration": 25,
    "start_time": "2023-10-06T19:24:42.953Z"
   },
   {
    "duration": 42,
    "start_time": "2023-10-06T19:24:42.981Z"
   },
   {
    "duration": 5,
    "start_time": "2023-10-06T19:24:43.025Z"
   },
   {
    "duration": 3,
    "start_time": "2023-10-06T19:24:43.031Z"
   },
   {
    "duration": 9,
    "start_time": "2023-10-06T19:24:43.036Z"
   },
   {
    "duration": 17,
    "start_time": "2023-10-06T19:24:43.051Z"
   },
   {
    "duration": 4048,
    "start_time": "2023-10-06T19:24:43.074Z"
   },
   {
    "duration": 70,
    "start_time": "2023-10-06T19:24:47.123Z"
   },
   {
    "duration": 7,
    "start_time": "2023-10-06T19:24:47.194Z"
   },
   {
    "duration": 25,
    "start_time": "2023-10-06T19:24:47.202Z"
   },
   {
    "duration": 53,
    "start_time": "2023-10-06T19:24:47.228Z"
   },
   {
    "duration": 9,
    "start_time": "2023-10-06T19:24:47.282Z"
   },
   {
    "duration": 21,
    "start_time": "2023-10-06T19:24:47.292Z"
   },
   {
    "duration": 29,
    "start_time": "2023-10-06T19:24:47.315Z"
   },
   {
    "duration": 18,
    "start_time": "2023-10-06T19:24:47.368Z"
   },
   {
    "duration": 0,
    "start_time": "2023-10-06T19:24:47.388Z"
   },
   {
    "duration": 0,
    "start_time": "2023-10-06T19:24:47.388Z"
   },
   {
    "duration": 0,
    "start_time": "2023-10-06T19:24:47.389Z"
   },
   {
    "duration": 0,
    "start_time": "2023-10-06T19:24:47.390Z"
   },
   {
    "duration": 0,
    "start_time": "2023-10-06T19:24:47.391Z"
   },
   {
    "duration": 0,
    "start_time": "2023-10-06T19:24:47.391Z"
   },
   {
    "duration": 0,
    "start_time": "2023-10-06T19:24:47.392Z"
   },
   {
    "duration": 0,
    "start_time": "2023-10-06T19:24:47.393Z"
   },
   {
    "duration": 0,
    "start_time": "2023-10-06T19:24:47.393Z"
   },
   {
    "duration": 0,
    "start_time": "2023-10-06T19:24:47.394Z"
   },
   {
    "duration": 0,
    "start_time": "2023-10-06T19:24:47.395Z"
   },
   {
    "duration": 0,
    "start_time": "2023-10-06T19:24:47.396Z"
   },
   {
    "duration": 0,
    "start_time": "2023-10-06T19:24:47.397Z"
   },
   {
    "duration": 0,
    "start_time": "2023-10-06T19:24:47.397Z"
   },
   {
    "duration": 0,
    "start_time": "2023-10-06T19:24:47.398Z"
   },
   {
    "duration": 0,
    "start_time": "2023-10-06T19:24:47.399Z"
   },
   {
    "duration": 0,
    "start_time": "2023-10-06T19:24:47.399Z"
   },
   {
    "duration": 0,
    "start_time": "2023-10-06T19:24:47.400Z"
   },
   {
    "duration": 0,
    "start_time": "2023-10-06T19:24:47.401Z"
   },
   {
    "duration": 0,
    "start_time": "2023-10-06T19:24:47.401Z"
   },
   {
    "duration": 0,
    "start_time": "2023-10-06T19:24:47.402Z"
   },
   {
    "duration": 0,
    "start_time": "2023-10-06T19:24:47.403Z"
   },
   {
    "duration": 0,
    "start_time": "2023-10-06T19:24:47.404Z"
   },
   {
    "duration": 0,
    "start_time": "2023-10-06T19:24:47.405Z"
   },
   {
    "duration": 0,
    "start_time": "2023-10-06T19:24:47.406Z"
   },
   {
    "duration": 0,
    "start_time": "2023-10-06T19:24:47.406Z"
   },
   {
    "duration": 0,
    "start_time": "2023-10-06T19:24:47.407Z"
   },
   {
    "duration": 0,
    "start_time": "2023-10-06T19:24:47.408Z"
   },
   {
    "duration": 0,
    "start_time": "2023-10-06T19:24:47.409Z"
   },
   {
    "duration": 0,
    "start_time": "2023-10-06T19:24:47.409Z"
   },
   {
    "duration": 0,
    "start_time": "2023-10-06T19:24:47.412Z"
   },
   {
    "duration": 2047,
    "start_time": "2023-10-06T19:25:17.970Z"
   },
   {
    "duration": 2,
    "start_time": "2023-10-06T19:25:20.019Z"
   },
   {
    "duration": 2488,
    "start_time": "2023-10-06T19:25:20.022Z"
   },
   {
    "duration": 2061,
    "start_time": "2023-10-06T19:25:22.512Z"
   },
   {
    "duration": 2,
    "start_time": "2023-10-06T19:25:24.578Z"
   },
   {
    "duration": 19,
    "start_time": "2023-10-06T19:25:24.582Z"
   },
   {
    "duration": 1182,
    "start_time": "2023-10-06T19:25:24.602Z"
   },
   {
    "duration": 814,
    "start_time": "2023-10-06T19:25:25.785Z"
   },
   {
    "duration": 60,
    "start_time": "2023-10-06T19:25:26.600Z"
   },
   {
    "duration": 18,
    "start_time": "2023-10-06T19:25:26.668Z"
   },
   {
    "duration": 126,
    "start_time": "2023-10-06T19:25:26.687Z"
   },
   {
    "duration": 413,
    "start_time": "2023-10-06T19:25:26.814Z"
   },
   {
    "duration": 458,
    "start_time": "2023-10-06T19:25:27.228Z"
   },
   {
    "duration": 92,
    "start_time": "2023-10-06T19:25:27.690Z"
   },
   {
    "duration": 123,
    "start_time": "2023-10-06T19:25:27.784Z"
   },
   {
    "duration": 39,
    "start_time": "2023-10-06T19:25:27.909Z"
   },
   {
    "duration": 86,
    "start_time": "2023-10-06T19:25:27.949Z"
   },
   {
    "duration": 425,
    "start_time": "2023-10-06T19:25:28.037Z"
   },
   {
    "duration": 369,
    "start_time": "2023-10-06T19:25:28.466Z"
   },
   {
    "duration": 395,
    "start_time": "2023-10-06T19:25:28.839Z"
   },
   {
    "duration": 497,
    "start_time": "2023-10-06T19:25:29.236Z"
   },
   {
    "duration": 1369,
    "start_time": "2023-10-06T19:25:29.735Z"
   },
   {
    "duration": 425,
    "start_time": "2023-10-06T19:25:31.105Z"
   },
   {
    "duration": 44,
    "start_time": "2023-10-06T19:25:31.532Z"
   },
   {
    "duration": 320,
    "start_time": "2023-10-06T19:25:31.577Z"
   },
   {
    "duration": 318,
    "start_time": "2023-10-06T19:25:31.898Z"
   },
   {
    "duration": 51,
    "start_time": "2023-10-06T19:25:32.218Z"
   },
   {
    "duration": 325,
    "start_time": "2023-10-06T19:25:32.278Z"
   },
   {
    "duration": 371,
    "start_time": "2023-10-06T19:25:32.605Z"
   },
   {
    "duration": 18,
    "start_time": "2023-10-06T19:25:32.978Z"
   },
   {
    "duration": 302,
    "start_time": "2023-10-06T19:25:32.998Z"
   },
   {
    "duration": 13,
    "start_time": "2023-10-06T19:25:33.301Z"
   },
   {
    "duration": 57,
    "start_time": "2023-10-06T19:25:33.315Z"
   },
   {
    "duration": 14,
    "start_time": "2023-10-06T19:25:33.377Z"
   },
   {
    "duration": 7,
    "start_time": "2023-10-06T19:25:33.393Z"
   },
   {
    "duration": 54,
    "start_time": "2023-10-06T19:25:33.401Z"
   },
   {
    "duration": 32,
    "start_time": "2023-10-06T19:25:33.456Z"
   },
   {
    "duration": 10,
    "start_time": "2023-10-06T19:25:33.489Z"
   },
   {
    "duration": 12,
    "start_time": "2023-10-06T19:25:33.500Z"
   },
   {
    "duration": 12,
    "start_time": "2023-10-06T19:25:33.514Z"
   },
   {
    "duration": 34,
    "start_time": "2023-10-06T19:25:33.531Z"
   },
   {
    "duration": 20,
    "start_time": "2023-10-06T19:25:33.567Z"
   },
   {
    "duration": 34,
    "start_time": "2023-10-06T19:25:33.588Z"
   },
   {
    "duration": 11,
    "start_time": "2023-10-06T19:25:33.623Z"
   },
   {
    "duration": 66,
    "start_time": "2023-10-06T19:25:33.636Z"
   },
   {
    "duration": 4,
    "start_time": "2023-10-06T19:25:33.703Z"
   },
   {
    "duration": 4,
    "start_time": "2023-10-06T19:25:33.708Z"
   },
   {
    "duration": 8,
    "start_time": "2023-10-06T19:25:33.713Z"
   },
   {
    "duration": 9,
    "start_time": "2023-10-06T19:25:33.722Z"
   },
   {
    "duration": 4244,
    "start_time": "2023-10-06T19:25:33.732Z"
   },
   {
    "duration": 47,
    "start_time": "2023-10-06T19:25:37.981Z"
   },
   {
    "duration": 1,
    "start_time": "2023-10-06T19:25:38.029Z"
   },
   {
    "duration": 33,
    "start_time": "2023-10-06T19:25:38.048Z"
   },
   {
    "duration": 40,
    "start_time": "2023-10-06T19:25:38.082Z"
   },
   {
    "duration": 3,
    "start_time": "2023-10-06T19:25:38.124Z"
   },
   {
    "duration": 21,
    "start_time": "2023-10-06T19:25:38.128Z"
   },
   {
    "duration": 10,
    "start_time": "2023-10-06T19:25:38.150Z"
   },
   {
    "duration": 3,
    "start_time": "2023-10-06T19:25:38.161Z"
   },
   {
    "duration": 401,
    "start_time": "2023-10-06T19:25:38.166Z"
   },
   {
    "duration": 136,
    "start_time": "2023-10-06T19:25:38.569Z"
   },
   {
    "duration": 53,
    "start_time": "2023-10-06T19:25:38.707Z"
   },
   {
    "duration": 11,
    "start_time": "2023-10-06T19:25:38.762Z"
   },
   {
    "duration": 2,
    "start_time": "2023-10-06T19:25:38.776Z"
   },
   {
    "duration": 4,
    "start_time": "2023-10-06T19:25:38.780Z"
   },
   {
    "duration": 3,
    "start_time": "2023-10-06T19:25:38.785Z"
   },
   {
    "duration": 70,
    "start_time": "2023-10-06T19:25:38.789Z"
   },
   {
    "duration": 9,
    "start_time": "2023-10-06T19:25:38.860Z"
   },
   {
    "duration": 22,
    "start_time": "2023-10-06T19:25:38.870Z"
   },
   {
    "duration": 28824,
    "start_time": "2023-10-06T19:25:38.893Z"
   },
   {
    "duration": 3,
    "start_time": "2023-10-06T19:26:07.719Z"
   },
   {
    "duration": 13,
    "start_time": "2023-10-06T19:26:07.723Z"
   },
   {
    "duration": 21849,
    "start_time": "2023-10-06T19:26:07.737Z"
   },
   {
    "duration": 4,
    "start_time": "2023-10-06T19:26:29.587Z"
   },
   {
    "duration": 21,
    "start_time": "2023-10-06T19:26:29.593Z"
   },
   {
    "duration": 46,
    "start_time": "2023-10-06T19:26:29.616Z"
   },
   {
    "duration": 24,
    "start_time": "2023-10-06T19:26:29.664Z"
   },
   {
    "duration": 2179,
    "start_time": "2023-10-06T19:29:54.855Z"
   },
   {
    "duration": 8,
    "start_time": "2023-10-06T19:29:57.036Z"
   },
   {
    "duration": 2543,
    "start_time": "2023-10-06T19:29:57.045Z"
   },
   {
    "duration": 2205,
    "start_time": "2023-10-06T19:29:59.590Z"
   },
   {
    "duration": 2,
    "start_time": "2023-10-06T19:30:01.798Z"
   },
   {
    "duration": 28,
    "start_time": "2023-10-06T19:30:01.801Z"
   },
   {
    "duration": 1454,
    "start_time": "2023-10-06T19:30:01.830Z"
   },
   {
    "duration": 897,
    "start_time": "2023-10-06T19:30:03.287Z"
   },
   {
    "duration": 47,
    "start_time": "2023-10-06T19:30:04.186Z"
   },
   {
    "duration": 20,
    "start_time": "2023-10-06T19:30:04.235Z"
   },
   {
    "duration": 151,
    "start_time": "2023-10-06T19:30:04.256Z"
   },
   {
    "duration": 485,
    "start_time": "2023-10-06T19:30:04.409Z"
   },
   {
    "duration": 481,
    "start_time": "2023-10-06T19:30:04.895Z"
   },
   {
    "duration": 93,
    "start_time": "2023-10-06T19:30:05.383Z"
   },
   {
    "duration": 134,
    "start_time": "2023-10-06T19:30:05.478Z"
   },
   {
    "duration": 205,
    "start_time": "2023-10-06T19:30:05.614Z"
   },
   {
    "duration": 148,
    "start_time": "2023-10-06T19:30:05.821Z"
   },
   {
    "duration": 497,
    "start_time": "2023-10-06T19:30:05.974Z"
   },
   {
    "duration": 445,
    "start_time": "2023-10-06T19:30:06.477Z"
   },
   {
    "duration": 390,
    "start_time": "2023-10-06T19:30:06.923Z"
   },
   {
    "duration": 581,
    "start_time": "2023-10-06T19:30:07.315Z"
   },
   {
    "duration": 1407,
    "start_time": "2023-10-06T19:30:07.898Z"
   },
   {
    "duration": 486,
    "start_time": "2023-10-06T19:30:09.307Z"
   },
   {
    "duration": 28,
    "start_time": "2023-10-06T19:30:09.795Z"
   },
   {
    "duration": 322,
    "start_time": "2023-10-06T19:30:09.824Z"
   },
   {
    "duration": 370,
    "start_time": "2023-10-06T19:30:10.148Z"
   },
   {
    "duration": 17,
    "start_time": "2023-10-06T19:30:10.519Z"
   },
   {
    "duration": 304,
    "start_time": "2023-10-06T19:30:10.537Z"
   },
   {
    "duration": 315,
    "start_time": "2023-10-06T19:30:10.842Z"
   },
   {
    "duration": 36,
    "start_time": "2023-10-06T19:30:11.159Z"
   },
   {
    "duration": 329,
    "start_time": "2023-10-06T19:30:11.197Z"
   },
   {
    "duration": 16,
    "start_time": "2023-10-06T19:30:11.528Z"
   },
   {
    "duration": 28,
    "start_time": "2023-10-06T19:30:11.552Z"
   },
   {
    "duration": 22,
    "start_time": "2023-10-06T19:30:11.581Z"
   },
   {
    "duration": 16,
    "start_time": "2023-10-06T19:30:11.605Z"
   },
   {
    "duration": 76,
    "start_time": "2023-10-06T19:30:11.622Z"
   },
   {
    "duration": 13,
    "start_time": "2023-10-06T19:30:11.699Z"
   },
   {
    "duration": 12,
    "start_time": "2023-10-06T19:30:11.713Z"
   },
   {
    "duration": 25,
    "start_time": "2023-10-06T19:30:11.726Z"
   },
   {
    "duration": 31,
    "start_time": "2023-10-06T19:30:11.753Z"
   },
   {
    "duration": 14,
    "start_time": "2023-10-06T19:30:11.791Z"
   },
   {
    "duration": 13,
    "start_time": "2023-10-06T19:30:11.806Z"
   },
   {
    "duration": 33,
    "start_time": "2023-10-06T19:30:11.820Z"
   },
   {
    "duration": 24,
    "start_time": "2023-10-06T19:30:11.855Z"
   },
   {
    "duration": 66,
    "start_time": "2023-10-06T19:30:11.882Z"
   },
   {
    "duration": 9,
    "start_time": "2023-10-06T19:30:11.958Z"
   },
   {
    "duration": 14,
    "start_time": "2023-10-06T19:30:11.970Z"
   },
   {
    "duration": 3,
    "start_time": "2023-10-06T19:30:11.986Z"
   },
   {
    "duration": 299,
    "start_time": "2023-10-06T19:30:11.990Z"
   },
   {
    "duration": 4538,
    "start_time": "2023-10-06T19:30:12.292Z"
   },
   {
    "duration": 88,
    "start_time": "2023-10-06T19:30:16.831Z"
   },
   {
    "duration": 2,
    "start_time": "2023-10-06T19:30:16.920Z"
   },
   {
    "duration": 25,
    "start_time": "2023-10-06T19:30:16.924Z"
   },
   {
    "duration": 44,
    "start_time": "2023-10-06T19:30:16.953Z"
   },
   {
    "duration": 3,
    "start_time": "2023-10-06T19:30:16.999Z"
   },
   {
    "duration": 32,
    "start_time": "2023-10-06T19:30:17.003Z"
   },
   {
    "duration": 36,
    "start_time": "2023-10-06T19:30:17.036Z"
   },
   {
    "duration": 12,
    "start_time": "2023-10-06T19:30:17.084Z"
   },
   {
    "duration": 481,
    "start_time": "2023-10-06T19:30:17.098Z"
   },
   {
    "duration": 150,
    "start_time": "2023-10-06T19:30:17.581Z"
   },
   {
    "duration": 76,
    "start_time": "2023-10-06T19:30:17.732Z"
   },
   {
    "duration": 2,
    "start_time": "2023-10-06T19:30:17.809Z"
   },
   {
    "duration": 3,
    "start_time": "2023-10-06T19:30:17.812Z"
   },
   {
    "duration": 4,
    "start_time": "2023-10-06T19:30:17.816Z"
   },
   {
    "duration": 4,
    "start_time": "2023-10-06T19:30:17.821Z"
   },
   {
    "duration": 94,
    "start_time": "2023-10-06T19:30:17.844Z"
   },
   {
    "duration": 10,
    "start_time": "2023-10-06T19:30:17.953Z"
   },
   {
    "duration": 4,
    "start_time": "2023-10-06T19:30:17.964Z"
   },
   {
    "duration": 31780,
    "start_time": "2023-10-06T19:30:17.969Z"
   },
   {
    "duration": 5,
    "start_time": "2023-10-06T19:30:49.750Z"
   },
   {
    "duration": 2,
    "start_time": "2023-10-06T19:30:49.757Z"
   },
   {
    "duration": 22283,
    "start_time": "2023-10-06T19:30:49.761Z"
   },
   {
    "duration": 20,
    "start_time": "2023-10-06T19:31:12.061Z"
   },
   {
    "duration": 5,
    "start_time": "2023-10-06T19:31:12.083Z"
   },
   {
    "duration": 2,
    "start_time": "2023-10-06T19:31:12.091Z"
   },
   {
    "duration": 4,
    "start_time": "2023-10-06T19:31:12.095Z"
   },
   {
    "duration": 2128,
    "start_time": "2023-10-07T10:49:56.252Z"
   },
   {
    "duration": 1974,
    "start_time": "2023-10-07T10:49:58.382Z"
   },
   {
    "duration": 2738,
    "start_time": "2023-10-07T10:50:00.357Z"
   },
   {
    "duration": 2059,
    "start_time": "2023-10-07T10:50:03.097Z"
   },
   {
    "duration": 11,
    "start_time": "2023-10-07T10:50:05.158Z"
   },
   {
    "duration": 805,
    "start_time": "2023-10-07T10:50:05.170Z"
   },
   {
    "duration": 44,
    "start_time": "2023-10-07T10:50:05.980Z"
   },
   {
    "duration": 12,
    "start_time": "2023-10-07T10:50:06.025Z"
   },
   {
    "duration": 162,
    "start_time": "2023-10-07T10:50:06.038Z"
   },
   {
    "duration": 448,
    "start_time": "2023-10-07T10:50:06.202Z"
   },
   {
    "duration": 388,
    "start_time": "2023-10-07T10:50:06.665Z"
   },
   {
    "duration": 111,
    "start_time": "2023-10-07T10:50:07.066Z"
   },
   {
    "duration": 124,
    "start_time": "2023-10-07T10:50:07.178Z"
   },
   {
    "duration": 22,
    "start_time": "2023-10-07T10:50:07.305Z"
   },
   {
    "duration": 93,
    "start_time": "2023-10-07T10:50:07.328Z"
   },
   {
    "duration": 413,
    "start_time": "2023-10-07T10:50:07.423Z"
   },
   {
    "duration": 388,
    "start_time": "2023-10-07T10:50:07.846Z"
   },
   {
    "duration": 423,
    "start_time": "2023-10-07T10:50:08.249Z"
   },
   {
    "duration": 415,
    "start_time": "2023-10-07T10:50:08.673Z"
   },
   {
    "duration": 1325,
    "start_time": "2023-10-07T10:50:09.089Z"
   },
   {
    "duration": 438,
    "start_time": "2023-10-07T10:50:10.416Z"
   },
   {
    "duration": 26,
    "start_time": "2023-10-07T10:50:10.865Z"
   },
   {
    "duration": 314,
    "start_time": "2023-10-07T10:50:10.892Z"
   },
   {
    "duration": 396,
    "start_time": "2023-10-07T10:50:11.207Z"
   },
   {
    "duration": 22,
    "start_time": "2023-10-07T10:50:11.605Z"
   },
   {
    "duration": 278,
    "start_time": "2023-10-07T10:50:11.628Z"
   },
   {
    "duration": 287,
    "start_time": "2023-10-07T10:50:11.907Z"
   },
   {
    "duration": 19,
    "start_time": "2023-10-07T10:50:12.195Z"
   },
   {
    "duration": 363,
    "start_time": "2023-10-07T10:50:12.215Z"
   },
   {
    "duration": 20,
    "start_time": "2023-10-07T10:50:12.583Z"
   },
   {
    "duration": 15,
    "start_time": "2023-10-07T10:50:12.605Z"
   },
   {
    "duration": 54,
    "start_time": "2023-10-07T10:50:12.621Z"
   },
   {
    "duration": 19,
    "start_time": "2023-10-07T10:50:12.688Z"
   },
   {
    "duration": 79,
    "start_time": "2023-10-07T10:50:12.709Z"
   },
   {
    "duration": 17,
    "start_time": "2023-10-07T10:50:12.790Z"
   },
   {
    "duration": 12,
    "start_time": "2023-10-07T10:50:12.809Z"
   },
   {
    "duration": 23,
    "start_time": "2023-10-07T10:50:12.822Z"
   },
   {
    "duration": 24,
    "start_time": "2023-10-07T10:50:12.846Z"
   },
   {
    "duration": 28,
    "start_time": "2023-10-07T10:50:12.871Z"
   },
   {
    "duration": 21,
    "start_time": "2023-10-07T10:50:12.900Z"
   },
   {
    "duration": 12,
    "start_time": "2023-10-07T10:50:12.924Z"
   },
   {
    "duration": 44,
    "start_time": "2023-10-07T10:50:12.937Z"
   },
   {
    "duration": 42,
    "start_time": "2023-10-07T10:50:12.982Z"
   },
   {
    "duration": 4,
    "start_time": "2023-10-07T10:50:13.025Z"
   },
   {
    "duration": 8,
    "start_time": "2023-10-07T10:50:13.030Z"
   },
   {
    "duration": 15,
    "start_time": "2023-10-07T10:50:13.039Z"
   },
   {
    "duration": 321,
    "start_time": "2023-10-07T10:50:13.055Z"
   },
   {
    "duration": 3939,
    "start_time": "2023-10-07T10:50:13.377Z"
   },
   {
    "duration": 72,
    "start_time": "2023-10-07T10:50:17.317Z"
   },
   {
    "duration": 8,
    "start_time": "2023-10-07T10:50:17.391Z"
   },
   {
    "duration": 18,
    "start_time": "2023-10-07T10:50:17.400Z"
   },
   {
    "duration": 39,
    "start_time": "2023-10-07T10:50:17.419Z"
   },
   {
    "duration": 16,
    "start_time": "2023-10-07T10:50:17.468Z"
   },
   {
    "duration": 9,
    "start_time": "2023-10-07T10:50:17.485Z"
   },
   {
    "duration": 4,
    "start_time": "2023-10-07T10:50:17.495Z"
   },
   {
    "duration": 6,
    "start_time": "2023-10-07T10:50:17.500Z"
   },
   {
    "duration": 399,
    "start_time": "2023-10-07T10:50:17.507Z"
   },
   {
    "duration": 153,
    "start_time": "2023-10-07T10:50:17.907Z"
   },
   {
    "duration": 56,
    "start_time": "2023-10-07T10:50:18.065Z"
   },
   {
    "duration": 4,
    "start_time": "2023-10-07T10:50:18.123Z"
   },
   {
    "duration": 6,
    "start_time": "2023-10-07T10:50:18.128Z"
   },
   {
    "duration": 20,
    "start_time": "2023-10-07T10:50:18.135Z"
   },
   {
    "duration": 7,
    "start_time": "2023-10-07T10:50:18.161Z"
   },
   {
    "duration": 53,
    "start_time": "2023-10-07T10:50:18.169Z"
   },
   {
    "duration": 3,
    "start_time": "2023-10-07T10:50:18.223Z"
   },
   {
    "duration": 34,
    "start_time": "2023-10-07T10:50:18.227Z"
   },
   {
    "duration": 29855,
    "start_time": "2023-10-07T10:50:18.263Z"
   },
   {
    "duration": 3,
    "start_time": "2023-10-07T10:50:48.119Z"
   },
   {
    "duration": 16,
    "start_time": "2023-10-07T10:50:48.123Z"
   },
   {
    "duration": 21945,
    "start_time": "2023-10-07T10:50:48.148Z"
   },
   {
    "duration": 14,
    "start_time": "2023-10-07T10:51:10.150Z"
   },
   {
    "duration": 22,
    "start_time": "2023-10-07T10:51:10.165Z"
   },
   {
    "duration": 10,
    "start_time": "2023-10-07T10:51:10.188Z"
   },
   {
    "duration": 9,
    "start_time": "2023-10-07T10:51:10.199Z"
   },
   {
    "duration": 1949,
    "start_time": "2023-10-07T10:51:56.952Z"
   },
   {
    "duration": 1928,
    "start_time": "2023-10-07T10:51:58.903Z"
   },
   {
    "duration": 2460,
    "start_time": "2023-10-07T10:52:00.833Z"
   },
   {
    "duration": 1906,
    "start_time": "2023-10-07T10:52:03.295Z"
   },
   {
    "duration": 1174,
    "start_time": "2023-10-07T10:52:05.202Z"
   },
   {
    "duration": 796,
    "start_time": "2023-10-07T10:52:06.382Z"
   },
   {
    "duration": 34,
    "start_time": "2023-10-07T10:52:07.180Z"
   },
   {
    "duration": 42,
    "start_time": "2023-10-07T10:52:07.216Z"
   },
   {
    "duration": 141,
    "start_time": "2023-10-07T10:52:07.259Z"
   },
   {
    "duration": 408,
    "start_time": "2023-10-07T10:52:07.402Z"
   },
   {
    "duration": 440,
    "start_time": "2023-10-07T10:52:07.811Z"
   },
   {
    "duration": 104,
    "start_time": "2023-10-07T10:52:08.268Z"
   },
   {
    "duration": 131,
    "start_time": "2023-10-07T10:52:08.373Z"
   },
   {
    "duration": 29,
    "start_time": "2023-10-07T10:52:08.505Z"
   },
   {
    "duration": 95,
    "start_time": "2023-10-07T10:52:08.535Z"
   },
   {
    "duration": 438,
    "start_time": "2023-10-07T10:52:08.632Z"
   },
   {
    "duration": 371,
    "start_time": "2023-10-07T10:52:09.088Z"
   },
   {
    "duration": 374,
    "start_time": "2023-10-07T10:52:09.460Z"
   },
   {
    "duration": 477,
    "start_time": "2023-10-07T10:52:09.836Z"
   },
   {
    "duration": 1253,
    "start_time": "2023-10-07T10:52:10.315Z"
   },
   {
    "duration": 438,
    "start_time": "2023-10-07T10:52:11.569Z"
   },
   {
    "duration": 47,
    "start_time": "2023-10-07T10:52:12.008Z"
   },
   {
    "duration": 276,
    "start_time": "2023-10-07T10:52:12.065Z"
   },
   {
    "duration": 333,
    "start_time": "2023-10-07T10:52:12.342Z"
   },
   {
    "duration": 21,
    "start_time": "2023-10-07T10:52:12.680Z"
   },
   {
    "duration": 292,
    "start_time": "2023-10-07T10:52:12.702Z"
   },
   {
    "duration": 305,
    "start_time": "2023-10-07T10:52:12.996Z"
   },
   {
    "duration": 16,
    "start_time": "2023-10-07T10:52:13.304Z"
   },
   {
    "duration": 309,
    "start_time": "2023-10-07T10:52:13.321Z"
   },
   {
    "duration": 32,
    "start_time": "2023-10-07T10:52:13.631Z"
   },
   {
    "duration": 28,
    "start_time": "2023-10-07T10:52:13.665Z"
   },
   {
    "duration": 12,
    "start_time": "2023-10-07T10:52:13.694Z"
   },
   {
    "duration": 5,
    "start_time": "2023-10-07T10:52:13.707Z"
   },
   {
    "duration": 71,
    "start_time": "2023-10-07T10:52:13.714Z"
   },
   {
    "duration": 30,
    "start_time": "2023-10-07T10:52:13.786Z"
   },
   {
    "duration": 10,
    "start_time": "2023-10-07T10:52:13.817Z"
   },
   {
    "duration": 24,
    "start_time": "2023-10-07T10:52:13.828Z"
   },
   {
    "duration": 32,
    "start_time": "2023-10-07T10:52:13.853Z"
   },
   {
    "duration": 24,
    "start_time": "2023-10-07T10:52:13.886Z"
   },
   {
    "duration": 49,
    "start_time": "2023-10-07T10:52:13.911Z"
   },
   {
    "duration": 23,
    "start_time": "2023-10-07T10:52:13.961Z"
   },
   {
    "duration": 11,
    "start_time": "2023-10-07T10:52:13.988Z"
   },
   {
    "duration": 88,
    "start_time": "2023-10-07T10:52:14.001Z"
   },
   {
    "duration": 4,
    "start_time": "2023-10-07T10:52:14.091Z"
   },
   {
    "duration": 5,
    "start_time": "2023-10-07T10:52:14.096Z"
   },
   {
    "duration": 6,
    "start_time": "2023-10-07T10:52:14.102Z"
   },
   {
    "duration": 325,
    "start_time": "2023-10-07T10:52:14.109Z"
   },
   {
    "duration": 3981,
    "start_time": "2023-10-07T10:52:14.435Z"
   },
   {
    "duration": 71,
    "start_time": "2023-10-07T10:52:18.418Z"
   },
   {
    "duration": 2,
    "start_time": "2023-10-07T10:52:18.490Z"
   },
   {
    "duration": 14,
    "start_time": "2023-10-07T10:52:18.493Z"
   },
   {
    "duration": 50,
    "start_time": "2023-10-07T10:52:18.508Z"
   },
   {
    "duration": 4,
    "start_time": "2023-10-07T10:52:18.563Z"
   },
   {
    "duration": 12,
    "start_time": "2023-10-07T10:52:18.578Z"
   },
   {
    "duration": 3,
    "start_time": "2023-10-07T10:52:18.592Z"
   },
   {
    "duration": 7,
    "start_time": "2023-10-07T10:52:18.596Z"
   },
   {
    "duration": 402,
    "start_time": "2023-10-07T10:52:18.604Z"
   },
   {
    "duration": 127,
    "start_time": "2023-10-07T10:52:19.007Z"
   },
   {
    "duration": 24,
    "start_time": "2023-10-07T10:52:19.136Z"
   },
   {
    "duration": 13,
    "start_time": "2023-10-07T10:52:19.172Z"
   },
   {
    "duration": 5,
    "start_time": "2023-10-07T10:52:19.186Z"
   },
   {
    "duration": 3,
    "start_time": "2023-10-07T10:52:19.193Z"
   },
   {
    "duration": 28565,
    "start_time": "2023-10-07T10:52:19.197Z"
   },
   {
    "duration": 7,
    "start_time": "2023-10-07T10:52:47.763Z"
   },
   {
    "duration": 10,
    "start_time": "2023-10-07T10:52:47.779Z"
   },
   {
    "duration": 18677,
    "start_time": "2023-10-07T10:52:47.791Z"
   },
   {
    "duration": 5,
    "start_time": "2023-10-07T10:53:06.469Z"
   },
   {
    "duration": 13,
    "start_time": "2023-10-07T10:53:06.475Z"
   },
   {
    "duration": 6,
    "start_time": "2023-10-07T10:53:06.489Z"
   },
   {
    "duration": 4,
    "start_time": "2023-10-07T10:53:06.496Z"
   },
   {
    "duration": 3607,
    "start_time": "2023-10-08T12:13:15.632Z"
   },
   {
    "duration": 2436,
    "start_time": "2023-10-08T12:13:19.242Z"
   },
   {
    "duration": 7062,
    "start_time": "2023-10-08T12:13:21.681Z"
   },
   {
    "duration": 2716,
    "start_time": "2023-10-08T12:13:28.746Z"
   },
   {
    "duration": 1692,
    "start_time": "2023-10-08T12:13:31.465Z"
   },
   {
    "duration": 3190,
    "start_time": "2023-10-08T12:13:33.159Z"
   },
   {
    "duration": 57,
    "start_time": "2023-10-08T12:13:36.351Z"
   },
   {
    "duration": 20,
    "start_time": "2023-10-08T12:13:36.410Z"
   },
   {
    "duration": 169,
    "start_time": "2023-10-08T12:13:36.432Z"
   },
   {
    "duration": 553,
    "start_time": "2023-10-08T12:13:36.605Z"
   },
   {
    "duration": 579,
    "start_time": "2023-10-08T12:13:37.160Z"
   },
   {
    "duration": 120,
    "start_time": "2023-10-08T12:13:37.741Z"
   },
   {
    "duration": 161,
    "start_time": "2023-10-08T12:13:37.863Z"
   },
   {
    "duration": 46,
    "start_time": "2023-10-08T12:13:38.026Z"
   },
   {
    "duration": 115,
    "start_time": "2023-10-08T12:13:38.074Z"
   },
   {
    "duration": 553,
    "start_time": "2023-10-08T12:13:38.191Z"
   },
   {
    "duration": 601,
    "start_time": "2023-10-08T12:13:38.746Z"
   },
   {
    "duration": 393,
    "start_time": "2023-10-08T12:13:39.357Z"
   },
   {
    "duration": 617,
    "start_time": "2023-10-08T12:13:39.757Z"
   },
   {
    "duration": 1559,
    "start_time": "2023-10-08T12:13:40.376Z"
   },
   {
    "duration": 532,
    "start_time": "2023-10-08T12:13:41.937Z"
   },
   {
    "duration": 31,
    "start_time": "2023-10-08T12:13:42.470Z"
   },
   {
    "duration": 339,
    "start_time": "2023-10-08T12:13:42.503Z"
   },
   {
    "duration": 384,
    "start_time": "2023-10-08T12:13:42.845Z"
   },
   {
    "duration": 35,
    "start_time": "2023-10-08T12:13:43.231Z"
   },
   {
    "duration": 311,
    "start_time": "2023-10-08T12:13:43.268Z"
   },
   {
    "duration": 384,
    "start_time": "2023-10-08T12:13:43.581Z"
   },
   {
    "duration": 21,
    "start_time": "2023-10-08T12:13:43.970Z"
   },
   {
    "duration": 382,
    "start_time": "2023-10-08T12:13:43.993Z"
   },
   {
    "duration": 17,
    "start_time": "2023-10-08T12:13:44.377Z"
   },
   {
    "duration": 38,
    "start_time": "2023-10-08T12:13:44.395Z"
   },
   {
    "duration": 39,
    "start_time": "2023-10-08T12:13:44.435Z"
   },
   {
    "duration": 17,
    "start_time": "2023-10-08T12:13:44.475Z"
   },
   {
    "duration": 79,
    "start_time": "2023-10-08T12:13:44.494Z"
   },
   {
    "duration": 52,
    "start_time": "2023-10-08T12:13:44.574Z"
   },
   {
    "duration": 37,
    "start_time": "2023-10-08T12:13:44.628Z"
   },
   {
    "duration": 32,
    "start_time": "2023-10-08T12:13:44.667Z"
   },
   {
    "duration": 60,
    "start_time": "2023-10-08T12:13:44.701Z"
   },
   {
    "duration": 40,
    "start_time": "2023-10-08T12:13:44.763Z"
   },
   {
    "duration": 34,
    "start_time": "2023-10-08T12:13:44.805Z"
   },
   {
    "duration": 55,
    "start_time": "2023-10-08T12:13:44.842Z"
   },
   {
    "duration": 28,
    "start_time": "2023-10-08T12:13:44.900Z"
   },
   {
    "duration": 80,
    "start_time": "2023-10-08T12:13:44.931Z"
   },
   {
    "duration": 85,
    "start_time": "2023-10-08T12:13:45.014Z"
   },
   {
    "duration": 76,
    "start_time": "2023-10-08T12:13:45.101Z"
   },
   {
    "duration": 54,
    "start_time": "2023-10-08T12:13:45.179Z"
   },
   {
    "duration": 416,
    "start_time": "2023-10-08T12:13:45.235Z"
   },
   {
    "duration": 4671,
    "start_time": "2023-10-08T12:13:45.657Z"
   },
   {
    "duration": 77,
    "start_time": "2023-10-08T12:13:50.329Z"
   },
   {
    "duration": 19,
    "start_time": "2023-10-08T12:13:50.408Z"
   },
   {
    "duration": 78,
    "start_time": "2023-10-08T12:13:50.429Z"
   },
   {
    "duration": 4,
    "start_time": "2023-10-08T12:13:50.509Z"
   },
   {
    "duration": 24,
    "start_time": "2023-10-08T12:13:50.515Z"
   },
   {
    "duration": 20,
    "start_time": "2023-10-08T12:13:50.541Z"
   },
   {
    "duration": 38,
    "start_time": "2023-10-08T12:13:50.563Z"
   },
   {
    "duration": 438,
    "start_time": "2023-10-08T12:13:50.602Z"
   },
   {
    "duration": 140,
    "start_time": "2023-10-08T12:13:51.042Z"
   },
   {
    "duration": 5,
    "start_time": "2023-10-08T12:13:51.184Z"
   },
   {
    "duration": 27,
    "start_time": "2023-10-08T12:13:51.190Z"
   },
   {
    "duration": 34352,
    "start_time": "2023-10-08T12:13:51.219Z"
   },
   {
    "duration": 4,
    "start_time": "2023-10-08T12:14:25.573Z"
   },
   {
    "duration": 14,
    "start_time": "2023-10-08T12:14:25.579Z"
   },
   {
    "duration": 44885,
    "start_time": "2023-10-08T12:14:25.594Z"
   },
   {
    "duration": 5,
    "start_time": "2023-10-08T12:15:10.482Z"
   },
   {
    "duration": 30,
    "start_time": "2023-10-08T12:15:10.489Z"
   },
   {
    "duration": 15,
    "start_time": "2023-10-08T12:15:10.522Z"
   },
   {
    "duration": 16,
    "start_time": "2023-10-08T12:15:10.539Z"
   },
   {
    "duration": 150913,
    "start_time": "2023-10-08T12:15:10.557Z"
   },
   {
    "duration": 4,
    "start_time": "2023-10-08T12:17:41.472Z"
   },
   {
    "duration": 8,
    "start_time": "2023-10-08T12:17:41.557Z"
   },
   {
    "duration": 6,
    "start_time": "2023-10-08T12:17:41.566Z"
   },
   {
    "duration": 13386,
    "start_time": "2023-10-08T12:17:41.573Z"
   },
   {
    "duration": 5,
    "start_time": "2023-10-08T12:17:54.961Z"
   },
   {
    "duration": 15,
    "start_time": "2023-10-08T12:17:54.968Z"
   },
   {
    "duration": 17,
    "start_time": "2023-10-08T12:17:54.985Z"
   },
   {
    "duration": 13,
    "start_time": "2023-10-08T12:17:55.004Z"
   },
   {
    "duration": 38,
    "start_time": "2023-10-08T12:17:55.019Z"
   },
   {
    "duration": 26258,
    "start_time": "2023-10-08T12:17:55.059Z"
   },
   {
    "duration": 4,
    "start_time": "2023-10-08T12:18:21.319Z"
   },
   {
    "duration": 99,
    "start_time": "2023-10-08T12:18:21.325Z"
   },
   {
    "duration": 2547,
    "start_time": "2023-10-08T12:19:42.370Z"
   },
   {
    "duration": 2522,
    "start_time": "2023-10-08T12:19:44.920Z"
   },
   {
    "duration": 3022,
    "start_time": "2023-10-08T12:19:47.444Z"
   },
   {
    "duration": 2475,
    "start_time": "2023-10-08T12:19:50.468Z"
   },
   {
    "duration": 1553,
    "start_time": "2023-10-08T12:19:52.946Z"
   },
   {
    "duration": 1175,
    "start_time": "2023-10-08T12:19:54.501Z"
   },
   {
    "duration": 55,
    "start_time": "2023-10-08T12:19:55.678Z"
   },
   {
    "duration": 31,
    "start_time": "2023-10-08T12:19:55.735Z"
   },
   {
    "duration": 176,
    "start_time": "2023-10-08T12:19:55.768Z"
   },
   {
    "duration": 594,
    "start_time": "2023-10-08T12:19:55.947Z"
   },
   {
    "duration": 655,
    "start_time": "2023-10-08T12:19:56.543Z"
   },
   {
    "duration": 123,
    "start_time": "2023-10-08T12:19:57.200Z"
   },
   {
    "duration": 159,
    "start_time": "2023-10-08T12:19:57.325Z"
   },
   {
    "duration": 109,
    "start_time": "2023-10-08T12:19:57.486Z"
   },
   {
    "duration": 109,
    "start_time": "2023-10-08T12:19:57.597Z"
   },
   {
    "duration": 600,
    "start_time": "2023-10-08T12:19:57.708Z"
   },
   {
    "duration": 527,
    "start_time": "2023-10-08T12:19:58.310Z"
   },
   {
    "duration": 451,
    "start_time": "2023-10-08T12:19:58.840Z"
   },
   {
    "duration": 637,
    "start_time": "2023-10-08T12:19:59.293Z"
   },
   {
    "duration": 1757,
    "start_time": "2023-10-08T12:19:59.932Z"
   },
   {
    "duration": 592,
    "start_time": "2023-10-08T12:20:01.691Z"
   },
   {
    "duration": 38,
    "start_time": "2023-10-08T12:20:02.285Z"
   },
   {
    "duration": 382,
    "start_time": "2023-10-08T12:20:02.325Z"
   },
   {
    "duration": 402,
    "start_time": "2023-10-08T12:20:02.710Z"
   },
   {
    "duration": 26,
    "start_time": "2023-10-08T12:20:03.115Z"
   },
   {
    "duration": 363,
    "start_time": "2023-10-08T12:20:03.157Z"
   },
   {
    "duration": 410,
    "start_time": "2023-10-08T12:20:03.523Z"
   },
   {
    "duration": 37,
    "start_time": "2023-10-08T12:20:03.939Z"
   },
   {
    "duration": 467,
    "start_time": "2023-10-08T12:20:03.979Z"
   },
   {
    "duration": 17,
    "start_time": "2023-10-08T12:20:04.457Z"
   },
   {
    "duration": 46,
    "start_time": "2023-10-08T12:20:04.476Z"
   },
   {
    "duration": 30,
    "start_time": "2023-10-08T12:20:04.524Z"
   },
   {
    "duration": 34,
    "start_time": "2023-10-08T12:20:04.556Z"
   },
   {
    "duration": 80,
    "start_time": "2023-10-08T12:20:04.592Z"
   },
   {
    "duration": 22,
    "start_time": "2023-10-08T12:20:04.674Z"
   },
   {
    "duration": 30,
    "start_time": "2023-10-08T12:20:04.698Z"
   },
   {
    "duration": 34,
    "start_time": "2023-10-08T12:20:04.730Z"
   },
   {
    "duration": 37,
    "start_time": "2023-10-08T12:20:04.766Z"
   },
   {
    "duration": 23,
    "start_time": "2023-10-08T12:20:04.805Z"
   },
   {
    "duration": 23,
    "start_time": "2023-10-08T12:20:04.830Z"
   },
   {
    "duration": 64,
    "start_time": "2023-10-08T12:20:04.855Z"
   },
   {
    "duration": 37,
    "start_time": "2023-10-08T12:20:04.921Z"
   },
   {
    "duration": 113,
    "start_time": "2023-10-08T12:20:04.960Z"
   },
   {
    "duration": 34,
    "start_time": "2023-10-08T12:20:05.076Z"
   },
   {
    "duration": 13,
    "start_time": "2023-10-08T12:20:05.112Z"
   },
   {
    "duration": 12,
    "start_time": "2023-10-08T12:20:05.127Z"
   },
   {
    "duration": 419,
    "start_time": "2023-10-08T12:20:05.141Z"
   },
   {
    "duration": 5118,
    "start_time": "2023-10-08T12:20:05.562Z"
   },
   {
    "duration": 82,
    "start_time": "2023-10-08T12:20:10.682Z"
   },
   {
    "duration": 40,
    "start_time": "2023-10-08T12:20:10.766Z"
   },
   {
    "duration": 89,
    "start_time": "2023-10-08T12:20:10.808Z"
   },
   {
    "duration": 5,
    "start_time": "2023-10-08T12:20:10.899Z"
   },
   {
    "duration": 44,
    "start_time": "2023-10-08T12:20:10.906Z"
   },
   {
    "duration": 49,
    "start_time": "2023-10-08T12:20:10.952Z"
   },
   {
    "duration": 70,
    "start_time": "2023-10-08T12:20:11.004Z"
   },
   {
    "duration": 510,
    "start_time": "2023-10-08T12:20:11.077Z"
   },
   {
    "duration": 157,
    "start_time": "2023-10-08T12:20:11.590Z"
   },
   {
    "duration": 8,
    "start_time": "2023-10-08T12:20:11.749Z"
   },
   {
    "duration": 5,
    "start_time": "2023-10-08T12:20:11.759Z"
   },
   {
    "duration": 34965,
    "start_time": "2023-10-08T12:20:11.765Z"
   },
   {
    "duration": 4,
    "start_time": "2023-10-08T12:20:46.732Z"
   },
   {
    "duration": 4,
    "start_time": "2023-10-08T12:20:46.737Z"
   },
   {
    "duration": 41744,
    "start_time": "2023-10-08T12:20:46.743Z"
   },
   {
    "duration": 4,
    "start_time": "2023-10-08T12:21:28.489Z"
   },
   {
    "duration": 7,
    "start_time": "2023-10-08T12:21:28.494Z"
   },
   {
    "duration": 8,
    "start_time": "2023-10-08T12:21:28.503Z"
   },
   {
    "duration": 13,
    "start_time": "2023-10-08T12:21:28.513Z"
   },
   {
    "duration": 104339,
    "start_time": "2023-10-08T12:21:28.528Z"
   },
   {
    "duration": 0,
    "start_time": "2023-10-08T12:23:12.869Z"
   },
   {
    "duration": 0,
    "start_time": "2023-10-08T12:23:12.870Z"
   },
   {
    "duration": 0,
    "start_time": "2023-10-08T12:23:12.871Z"
   },
   {
    "duration": 0,
    "start_time": "2023-10-08T12:23:12.873Z"
   },
   {
    "duration": 0,
    "start_time": "2023-10-08T12:23:12.874Z"
   },
   {
    "duration": 0,
    "start_time": "2023-10-08T12:23:12.875Z"
   },
   {
    "duration": 0,
    "start_time": "2023-10-08T12:23:12.876Z"
   },
   {
    "duration": 0,
    "start_time": "2023-10-08T12:23:12.877Z"
   },
   {
    "duration": 0,
    "start_time": "2023-10-08T12:23:12.878Z"
   },
   {
    "duration": 0,
    "start_time": "2023-10-08T12:23:12.879Z"
   },
   {
    "duration": 0,
    "start_time": "2023-10-08T12:23:12.881Z"
   },
   {
    "duration": 0,
    "start_time": "2023-10-08T12:23:12.882Z"
   },
   {
    "duration": 4,
    "start_time": "2023-10-08T12:23:16.225Z"
   },
   {
    "duration": 4,
    "start_time": "2023-10-08T12:23:17.567Z"
   },
   {
    "duration": 36142,
    "start_time": "2023-10-08T12:23:18.387Z"
   },
   {
    "duration": 4,
    "start_time": "2023-10-08T12:23:54.532Z"
   },
   {
    "duration": 20,
    "start_time": "2023-10-08T12:23:54.538Z"
   },
   {
    "duration": 3,
    "start_time": "2023-10-08T12:25:10.517Z"
   },
   {
    "duration": 33971,
    "start_time": "2023-10-08T12:25:49.503Z"
   },
   {
    "duration": 122,
    "start_time": "2023-10-08T12:26:23.476Z"
   },
   {
    "duration": 110,
    "start_time": "2023-10-08T12:26:36.243Z"
   },
   {
    "duration": 5,
    "start_time": "2023-10-08T12:26:48.544Z"
   },
   {
    "duration": 4,
    "start_time": "2023-10-08T12:27:03.797Z"
   },
   {
    "duration": 4,
    "start_time": "2023-10-08T12:27:16.435Z"
   },
   {
    "duration": 2653,
    "start_time": "2023-10-08T12:28:10.319Z"
   },
   {
    "duration": 2655,
    "start_time": "2023-10-08T12:28:12.975Z"
   },
   {
    "duration": 3171,
    "start_time": "2023-10-08T12:28:15.633Z"
   },
   {
    "duration": 2728,
    "start_time": "2023-10-08T12:28:18.807Z"
   },
   {
    "duration": 1580,
    "start_time": "2023-10-08T12:28:21.537Z"
   },
   {
    "duration": 1156,
    "start_time": "2023-10-08T12:28:23.119Z"
   },
   {
    "duration": 62,
    "start_time": "2023-10-08T12:28:24.277Z"
   },
   {
    "duration": 39,
    "start_time": "2023-10-08T12:28:24.341Z"
   },
   {
    "duration": 197,
    "start_time": "2023-10-08T12:28:24.381Z"
   },
   {
    "duration": 658,
    "start_time": "2023-10-08T12:28:24.581Z"
   },
   {
    "duration": 683,
    "start_time": "2023-10-08T12:28:25.241Z"
   },
   {
    "duration": 120,
    "start_time": "2023-10-08T12:28:25.926Z"
   },
   {
    "duration": 171,
    "start_time": "2023-10-08T12:28:26.056Z"
   },
   {
    "duration": 58,
    "start_time": "2023-10-08T12:28:26.229Z"
   },
   {
    "duration": 126,
    "start_time": "2023-10-08T12:28:26.289Z"
   },
   {
    "duration": 632,
    "start_time": "2023-10-08T12:28:26.417Z"
   },
   {
    "duration": 564,
    "start_time": "2023-10-08T12:28:27.051Z"
   },
   {
    "duration": 466,
    "start_time": "2023-10-08T12:28:27.617Z"
   },
   {
    "duration": 683,
    "start_time": "2023-10-08T12:28:28.086Z"
   },
   {
    "duration": 1920,
    "start_time": "2023-10-08T12:28:28.771Z"
   },
   {
    "duration": 620,
    "start_time": "2023-10-08T12:28:30.694Z"
   },
   {
    "duration": 42,
    "start_time": "2023-10-08T12:28:31.316Z"
   },
   {
    "duration": 435,
    "start_time": "2023-10-08T12:28:31.362Z"
   },
   {
    "duration": 445,
    "start_time": "2023-10-08T12:28:31.799Z"
   },
   {
    "duration": 39,
    "start_time": "2023-10-08T12:28:32.246Z"
   },
   {
    "duration": 352,
    "start_time": "2023-10-08T12:28:32.287Z"
   },
   {
    "duration": 446,
    "start_time": "2023-10-08T12:28:32.641Z"
   },
   {
    "duration": 23,
    "start_time": "2023-10-08T12:28:33.092Z"
   },
   {
    "duration": 431,
    "start_time": "2023-10-08T12:28:33.116Z"
   },
   {
    "duration": 25,
    "start_time": "2023-10-08T12:28:33.558Z"
   },
   {
    "duration": 35,
    "start_time": "2023-10-08T12:28:33.584Z"
   },
   {
    "duration": 32,
    "start_time": "2023-10-08T12:28:33.621Z"
   },
   {
    "duration": 36,
    "start_time": "2023-10-08T12:28:33.654Z"
   },
   {
    "duration": 74,
    "start_time": "2023-10-08T12:28:33.693Z"
   },
   {
    "duration": 18,
    "start_time": "2023-10-08T12:28:33.770Z"
   },
   {
    "duration": 30,
    "start_time": "2023-10-08T12:28:33.790Z"
   },
   {
    "duration": 26,
    "start_time": "2023-10-08T12:28:33.822Z"
   },
   {
    "duration": 44,
    "start_time": "2023-10-08T12:28:33.850Z"
   },
   {
    "duration": 32,
    "start_time": "2023-10-08T12:28:33.896Z"
   },
   {
    "duration": 40,
    "start_time": "2023-10-08T12:28:33.930Z"
   },
   {
    "duration": 49,
    "start_time": "2023-10-08T12:28:33.972Z"
   },
   {
    "duration": 24,
    "start_time": "2023-10-08T12:28:34.023Z"
   },
   {
    "duration": 80,
    "start_time": "2023-10-08T12:28:34.049Z"
   },
   {
    "duration": 5,
    "start_time": "2023-10-08T12:28:34.131Z"
   },
   {
    "duration": 17,
    "start_time": "2023-10-08T12:28:34.139Z"
   },
   {
    "duration": 6,
    "start_time": "2023-10-08T12:28:34.159Z"
   },
   {
    "duration": 361,
    "start_time": "2023-10-08T12:28:34.167Z"
   },
   {
    "duration": 5147,
    "start_time": "2023-10-08T12:28:34.530Z"
   },
   {
    "duration": 82,
    "start_time": "2023-10-08T12:28:39.679Z"
   },
   {
    "duration": 26,
    "start_time": "2023-10-08T12:28:39.764Z"
   },
   {
    "duration": 79,
    "start_time": "2023-10-08T12:28:39.791Z"
   },
   {
    "duration": 4,
    "start_time": "2023-10-08T12:28:39.873Z"
   },
   {
    "duration": 45,
    "start_time": "2023-10-08T12:28:39.879Z"
   },
   {
    "duration": 48,
    "start_time": "2023-10-08T12:28:39.925Z"
   },
   {
    "duration": 35,
    "start_time": "2023-10-08T12:28:39.975Z"
   },
   {
    "duration": 516,
    "start_time": "2023-10-08T12:28:40.012Z"
   },
   {
    "duration": 166,
    "start_time": "2023-10-08T12:28:40.530Z"
   },
   {
    "duration": 5,
    "start_time": "2023-10-08T12:28:40.699Z"
   },
   {
    "duration": 69,
    "start_time": "2023-10-08T12:28:40.707Z"
   },
   {
    "duration": 36330,
    "start_time": "2023-10-08T12:28:40.778Z"
   },
   {
    "duration": 5,
    "start_time": "2023-10-08T12:29:17.110Z"
   },
   {
    "duration": 23,
    "start_time": "2023-10-08T12:29:17.117Z"
   },
   {
    "duration": 39739,
    "start_time": "2023-10-08T12:29:17.142Z"
   },
   {
    "duration": 5,
    "start_time": "2023-10-08T12:29:56.883Z"
   },
   {
    "duration": 18,
    "start_time": "2023-10-08T12:29:56.889Z"
   },
   {
    "duration": 6,
    "start_time": "2023-10-08T12:29:56.909Z"
   },
   {
    "duration": 29,
    "start_time": "2023-10-08T12:29:56.917Z"
   }
  ],
  "colab": {
   "provenance": []
  },
  "kernelspec": {
   "display_name": "Python 3 (ipykernel)",
   "language": "python",
   "name": "python3"
  },
  "language_info": {
   "codemirror_mode": {
    "name": "ipython",
    "version": 3
   },
   "file_extension": ".py",
   "mimetype": "text/x-python",
   "name": "python",
   "nbconvert_exporter": "python",
   "pygments_lexer": "ipython3",
   "version": "3.9.13"
  },
  "toc": {
   "base_numbering": 1,
   "nav_menu": {},
   "number_sections": true,
   "sideBar": true,
   "skip_h1_title": true,
   "title_cell": "Table of Contents",
   "title_sidebar": "Contents",
   "toc_cell": false,
   "toc_position": {},
   "toc_section_display": true,
   "toc_window_display": false
  }
 },
 "nbformat": 4,
 "nbformat_minor": 2
}
