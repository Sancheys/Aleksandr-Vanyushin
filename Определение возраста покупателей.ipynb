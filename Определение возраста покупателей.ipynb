{
 "cells": [
  {
   "cell_type": "markdown",
   "metadata": {},
   "source": [
    "# Определение возраста покупателей"
   ]
  },
  {
   "cell_type": "markdown",
   "metadata": {},
   "source": [
    "## Исследовательский анализ данных"
   ]
  },
  {
   "cell_type": "markdown",
   "metadata": {},
   "source": [
    "**Подготовка**"
   ]
  },
  {
   "cell_type": "markdown",
   "metadata": {},
   "source": [
    "**Описание проекта**"
   ]
  },
  {
   "cell_type": "markdown",
   "metadata": {},
   "source": [
    "Сетевой супермаркет «Хлеб-Соль» внедряет систему компьютерного зрения для обработки фотографий покупателей. Фотофиксация в прикассовой зоне поможет определять возраст клиентов, чтобы:\n",
    "\n",
    "* Анализировать покупки и предлагать товары, которые могут заинтересовать покупателей этой возрастной группы;\n",
    "\n",
    "* Контролировать добросовестность кассиров при продаже алкоголя.\n",
    "\n",
    "Постройте модель, которая по фотографии определит приблизительный возраст человека. В вашем распоряжении набор фотографий людей с указанием возраста.\n",
    "Инструкция по выполнению проекта"
   ]
  },
  {
   "cell_type": "code",
   "execution_count": null,
   "metadata": {},
   "outputs": [],
   "source": [
    "from tensorflow.keras.layers import GlobalAveragePooling2D, Dense\n",
    "from tensorflow.keras.models import Sequential\n",
    "from tensorflow.keras.optimizers import Adam\n",
    "from tensorflow.keras.preprocessing.image import ImageDataGenerator\n",
    "import numpy as np\n",
    "from tensorflow.keras.applications.resnet import ResNet50\n",
    "import pandas as pd \n",
    "import matplotlib.pyplot as plt"
   ]
  },
  {
   "cell_type": "markdown",
   "metadata": {},
   "source": [
    "**Исследовательский анализ данных**"
   ]
  },
  {
   "cell_type": "code",
   "execution_count": null,
   "metadata": {},
   "outputs": [],
   "source": [
    "labels_data = pd.read_csv('/datasets/faces/labels.csv')"
   ]
  },
  {
   "cell_type": "code",
   "execution_count": null,
   "metadata": {},
   "outputs": [],
   "source": [
    "labels_data.info()"
   ]
  },
  {
   "cell_type": "code",
   "execution_count": null,
   "metadata": {},
   "outputs": [],
   "source": [
    "labels_data.sample(5)"
   ]
  },
  {
   "cell_type": "markdown",
   "metadata": {},
   "source": [
    "Посмотрим на распределение возраста в датасете"
   ]
  },
  {
   "cell_type": "code",
   "execution_count": null,
   "metadata": {
    "scrolled": true
   },
   "outputs": [],
   "source": [
    "labels_data.plot(kind='hist', bins=40, y='real_age',grid=True, title='Возраст', figsize=(12,8));"
   ]
  },
  {
   "cell_type": "code",
   "execution_count": null,
   "metadata": {},
   "outputs": [],
   "source": [
    "labels_data['real_age'].describe()"
   ]
  },
  {
   "cell_type": "markdown",
   "metadata": {},
   "source": [
    "Данные выглядят правдоподобно и близки к нормальному распределению."
   ]
  },
  {
   "cell_type": "markdown",
   "metadata": {},
   "source": [
    "Взгляним на фотографии"
   ]
  },
  {
   "cell_type": "code",
   "execution_count": null,
   "metadata": {},
   "outputs": [],
   "source": [
    "train_datagen = ImageDataGenerator(rescale=1./255)\n",
    "train_gen_flow = train_datagen.flow_from_dataframe(\n",
    "        dataframe=labels_data,\n",
    "        directory='/datasets/faces/final_files/',\n",
    "        x_col='file_name',\n",
    "        y_col='real_age',\n",
    "        target_size=(224, 224),\n",
    "        batch_size=32,\n",
    "        class_mode='raw',\n",
    "        seed=137)"
   ]
  },
  {
   "cell_type": "code",
   "execution_count": null,
   "metadata": {},
   "outputs": [],
   "source": [
    "features, target  = next(train_gen_flow)\n",
    "\n",
    "plt.figure(figsize=(5, 5))\n",
    "\n",
    "for i in range(1,10):\n",
    "    plt.imshow(features[i])\n",
    "    print(f'Возраст человека на фото: {target[i]}')\n",
    "    plt.show()"
   ]
  },
  {
   "cell_type": "markdown",
   "metadata": {},
   "source": [
    "В нашей выборке присутствуют 7591 изображение людей.\n",
    "Как можно видеть на первый взгляд возраст на фото проставлен довольно-таки правоподобно, но что касается самих фотографий у некоторых качество оставляет желать лучшего, все фотографии довольно-таки разнородные.\n",
    "Все эти факторы отрицательно скажуться на обучении нейросети."
   ]
  },
  {
   "cell_type": "markdown",
   "metadata": {},
   "source": [
    "## Обучение модели"
   ]
  },
  {
   "cell_type": "markdown",
   "metadata": {},
   "source": [
    "Перенесите сюда код обучения модели и её результат вывода на экран.\n",
    "\n",
    "\n",
    "(Код в этом разделе запускается в отдельном GPU-тренажёре, поэтому оформлен не как ячейка с кодом, а как код в текстовой ячейке)"
   ]
  },
  {
   "cell_type": "markdown",
   "metadata": {},
   "source": [
    "```python\n",
    "\n",
    "from tensorflow.keras.layers import Conv2D, Flatten, Dense, AvgPool2D,MaxPooling2D,GlobalAveragePooling2D\n",
    "from tensorflow.keras.models import Sequential\n",
    "from tensorflow.keras.optimizers import Adam\n",
    "from tensorflow.keras.preprocessing.image import ImageDataGenerator\n",
    "from tensorflow.keras.applications.resnet import ResNet50\n",
    "import numpy as np\n",
    "import pandas as pd\n",
    "\n",
    "\n",
    "\n",
    "def load_test(path):\n",
    "    labels = pd.read_csv(path+'labels.csv') \n",
    "    test_datagen = ImageDataGenerator(rescale=1./255,\n",
    "                                    validation_split=0.25)\n",
    "    test_datagen_flow = test_datagen.flow_from_dataframe(dataframe=labels,\n",
    "        directory=path + 'final_files/',\n",
    "        x_col='file_name',\n",
    "        y_col='real_age',\n",
    "        target_size=(224, 224),\n",
    "        batch_size=32,\n",
    "        class_mode='raw',\n",
    "        subset='validation',\n",
    "        seed=12345) \n",
    "    return test_datagen_flow\n",
    "\n",
    "\n",
    "def load_train(path):\n",
    "    labels = pd.read_csv(path+'labels.csv') \n",
    "    train_datagen = ImageDataGenerator(rescale=1./255,\n",
    "                                   validation_split=0.25,\n",
    "                                   horizontal_flip=True,\n",
    "                                   brightness_range=(0.8, 1.))\n",
    "\n",
    "    train_datagen_flow = train_datagen.flow_from_dataframe(dataframe=labels,\n",
    "      directory=path + 'final_files/',\n",
    "      x_col='file_name',\n",
    "      y_col='real_age',\n",
    "      target_size=(224, 224),\n",
    "      batch_size=32,\n",
    "      class_mode='raw',\n",
    "      subset='training',\n",
    "      seed=12345)\n",
    "    return train_datagen_flow\n",
    "\n",
    "\n",
    "def create_model(input_shape):\n",
    "\n",
    "    backbone = ResNet50(input_shape=input_shape,\n",
    "                    weights='imagenet', \n",
    "                    include_top=False)\n",
    "\n",
    "    model = Sequential()\n",
    "    model.add(backbone)\n",
    "    model.add(GlobalAveragePooling2D()) \n",
    "    model.add(Dense(1, activation='relu')) \n",
    "    optimizer = Adam(lr=0.0003)\n",
    "    model.compile(optimizer=optimizer,loss='mean_squared_error',metrics=['mae'])\n",
    "\n",
    "    return model\n",
    "\n",
    "def train_model(model, train_data, test_data, batch_size=None, epochs=10,\n",
    "               steps_per_epoch=None, validation_steps=None):\n",
    "\n",
    "    model.fit(train_data, \n",
    "              validation_data=test_data,\n",
    "              batch_size=batch_size, epochs=epochs,\n",
    "              steps_per_epoch=steps_per_epoch,\n",
    "              validation_steps=validation_steps,\n",
    "              verbose=2)\n",
    "\n",
    "    return model\n",
    "    \n",
    "```"
   ]
  },
  {
   "cell_type": "markdown",
   "metadata": {},
   "source": [
    "```\n",
    "178/178 - 76s - loss: 227.0062 - mae: 10.7340 - val_loss: 948.0737 - val_mae: 25.9828\n",
    "Epoch 2/10\n",
    "178/178 - 40s - loss: 75.9079 - mae: 6.5531 - val_loss: 839.5826 - val_mae: 24.0144\n",
    "Epoch 3/10\n",
    "178/178 - 40s - loss: 51.7291 - mae: 5.4490 - val_loss: 355.2442 - val_mae: 14.0155\n",
    "Epoch 4/10\n",
    "178/178 - 40s - loss: 36.1733 - mae: 4.6386 - val_loss: 160.0754 - val_mae: 9.2868\n",
    "Epoch 5/10\n",
    "178/178 - 40s - loss: 27.2285 - mae: 3.9635 - val_loss: 74.6577 - val_mae: 6.5135\n",
    "Epoch 6/10\n",
    "178/178 - 46s - loss: 22.3493 - mae: 3.6300 - val_loss: 66.5288 - val_mae: 6.0564\n",
    "Epoch 7/10\n",
    "178/178 - 46s - loss: 18.6005 - mae: 3.3206 - val_loss: 67.2085 - val_mae: 6.2107\n",
    "Epoch 8/10\n",
    "178/178 - 44s - loss: 16.5282 - mae: 3.1085 - val_loss: 67.7921 - val_mae: 6.2244\n",
    "Epoch 9/10\n",
    "178/178 - 46s - loss: 15.7851 - mae: 2.9943 - val_loss: 81.1924 - val_mae: 6.7124\n",
    "Epoch 10/10\n",
    "178/178 - 45s - loss: 12.2088 - mae: 2.6826 - val_loss: 75.0295 - val_mae: 6.3857\n",
    "WARNING:tensorflow:sample_weight modes were coerced from\n",
    "  ...\n",
    "    to  \n",
    "  ['...']\n",
    "60/60 - 10s - loss: 75.0295 - mae: 6.3857\n",
    "Test MAE: 6.3857\n",
    "\n",
    "```"
   ]
  },
  {
   "cell_type": "markdown",
   "metadata": {},
   "source": [
    "## Анализ обученной модели"
   ]
  },
  {
   "cell_type": "markdown",
   "metadata": {},
   "source": [
    "\n",
    "Не смотря, на выше перечисленные недостатки базы данных, нейросеть достаточно хорошо справилась, MAE = 6.3, хотя было использованно 10 эпох и горизонтальный поворот фотографий, при настройке сети на 5 эпох, лучший результат был MAE = 6.9, но в выводе мы видим что лучший результат был достигнут на 6й эпохе. Если применить код (пример внизу) то обучение можно остановить достигнув желаймых показателей. Но в принципе сеть справилась с задачей и по нагрузке на сервер, времени обучения и результатам, считаю ее оптимальной.\n",
    "\n",
    "``` python\n",
    "\n",
    "class myCallback(tf.keras.callbacks.Callback):\n",
    "  def on_epoch_end(self, epoch, logs={}):\n",
    "    if(logs.get('accuracy')>0.95):\n",
    "      print(\"\\nReached 95% accuracy so cancelling training!\")\n",
    "      self.model.stop_training = True\n",
    "```      \n",
    "Что косаетсья бизнеса, я думаю что модель от части решает задачи бизнеса, предложение актуальных товаров, по моему мнению задача странная, в прикассовой зоне анализировать возраст и предлогать товар? когда весь ассортимент товаров за спиной у покупателя, в прикассовой зоне очень ограниченный ассортимент товара который можно предложить, скорее лучше анализировать при в ходе непосредственно в магазин, что относиться к добросовестности кассиров с этой задачей модель справиться гораздо лучше относительно первой, но тоже необходимо брать во внимание что модель может ошибаться.\n"
   ]
  },
  {
   "cell_type": "markdown",
   "metadata": {},
   "source": [
    "## Чек-лист"
   ]
  },
  {
   "cell_type": "markdown",
   "metadata": {},
   "source": [
    "- [x]  Jupyter Notebook открыт\n",
    "- [ ]  Весь код выполняется без ошибок\n",
    "- [ ]  Ячейки с кодом расположены в порядке исполнения\n",
    "- [ ]  Исследовательский анализ данных выполнен\n",
    "- [ ]  Результаты исследовательского анализа данных перенесены в финальную тетрадь\n",
    "- [ ]  MAE модели не больше 8\n",
    "- [ ]  Код обучения модели скопирован в финальную тетрадь\n",
    "- [ ]  Результат вывода модели на экран перенесён в финальную тетрадь\n",
    "- [ ]  По итогам обучения модели сделаны выводы"
   ]
  },
  {
   "cell_type": "code",
   "execution_count": null,
   "metadata": {},
   "outputs": [],
   "source": []
  }
 ],
 "metadata": {
  "ExecuteTimeLog": [
   {
    "duration": 2620,
    "start_time": "2023-12-08T00:34:16.592Z"
   },
   {
    "duration": 94,
    "start_time": "2023-12-08T00:40:16.200Z"
   },
   {
    "duration": 14,
    "start_time": "2023-12-08T00:40:28.568Z"
   },
   {
    "duration": 13,
    "start_time": "2023-12-08T00:40:39.692Z"
   },
   {
    "duration": 242,
    "start_time": "2023-12-08T00:41:43.878Z"
   },
   {
    "duration": 8,
    "start_time": "2023-12-08T00:41:56.158Z"
   },
   {
    "duration": 83030,
    "start_time": "2023-12-08T00:42:27.266Z"
   },
   {
    "duration": 3021,
    "start_time": "2023-12-08T00:43:50.298Z"
   }
  ],
  "kernelspec": {
   "display_name": "Python 3 (ipykernel)",
   "language": "python",
   "name": "python3"
  },
  "language_info": {
   "codemirror_mode": {
    "name": "ipython",
    "version": 3
   },
   "file_extension": ".py",
   "mimetype": "text/x-python",
   "name": "python",
   "nbconvert_exporter": "python",
   "pygments_lexer": "ipython3",
   "version": "3.9.13"
  },
  "toc": {
   "base_numbering": 1,
   "nav_menu": {},
   "number_sections": true,
   "sideBar": true,
   "skip_h1_title": true,
   "title_cell": "Table of Contents",
   "title_sidebar": "Contents",
   "toc_cell": false,
   "toc_position": {},
   "toc_section_display": true,
   "toc_window_display": false
  }
 },
 "nbformat": 4,
 "nbformat_minor": 2
}
