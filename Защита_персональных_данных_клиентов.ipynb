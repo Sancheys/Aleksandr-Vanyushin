{
 "cells": [
  {
   "cell_type": "markdown",
   "metadata": {
    "toc": true
   },
   "source": [
    "<h1>Содержание<span class=\"tocSkip\"></span></h1>\n",
    "<div class=\"toc\"><ul class=\"toc-item\"><li><span><a href=\"#Загрузка-данных\" data-toc-modified-id=\"Загрузка-данных-1\"><span class=\"toc-item-num\">1&nbsp;&nbsp;</span>Загрузка данных</a></span></li><li><span><a href=\"#Умножение-матриц\" data-toc-modified-id=\"Умножение-матриц-2\"><span class=\"toc-item-num\">2&nbsp;&nbsp;</span>Умножение матриц</a></span></li><li><span><a href=\"#Алгоритм-преобразования\" data-toc-modified-id=\"Алгоритм-преобразования-3\"><span class=\"toc-item-num\">3&nbsp;&nbsp;</span>Алгоритм преобразования</a></span></li><li><span><a href=\"#Проверка-алгоритма\" data-toc-modified-id=\"Проверка-алгоритма-4\"><span class=\"toc-item-num\">4&nbsp;&nbsp;</span>Проверка алгоритма</a></span></li><li><span><a href=\"#Чек-лист-проверки\" data-toc-modified-id=\"Чек-лист-проверки-5\"><span class=\"toc-item-num\">5&nbsp;&nbsp;</span>Чек-лист проверки</a></span></li></ul></div>"
   ]
  },
  {
   "cell_type": "markdown",
   "metadata": {},
   "source": [
    "# Защита персональных данных клиентов"
   ]
  },
  {
   "cell_type": "markdown",
   "metadata": {},
   "source": [
    "Вам нужно защитить данные клиентов страховой компании «Хоть потоп». Разработайте такой метод преобразования данных, чтобы по ним было сложно восстановить персональную информацию. Обоснуйте корректность его работы.\n",
    "\n",
    "Нужно защитить данные, чтобы при преобразовании качество моделей машинного обучения не ухудшилось. Подбирать наилучшую модель не требуется."
   ]
  },
  {
   "cell_type": "code",
   "execution_count": 1,
   "metadata": {},
   "outputs": [],
   "source": [
    "import pandas as pd\n",
    "import numpy as np\n",
    "import matplotlib.pyplot as plt\n",
    "import seaborn as sns\n",
    "import os\n",
    "import urllib.request\n",
    "from pathlib import Path\n",
    "from sklearn.model_selection import train_test_split\n",
    "from sklearn.linear_model import LinearRegression\n",
    "from sklearn.preprocessing import StandardScaler\n",
    "from sklearn.metrics import r2_score, mean_squared_error"
   ]
  },
  {
   "cell_type": "markdown",
   "metadata": {},
   "source": [
    "## Загрузка данных"
   ]
  },
  {
   "cell_type": "code",
   "execution_count": 2,
   "metadata": {},
   "outputs": [],
   "source": [
    "df = pd.read_csv('/datasets/insurance.csv')"
   ]
  },
  {
   "cell_type": "code",
   "execution_count": 3,
   "metadata": {},
   "outputs": [
    {
     "name": "stdout",
     "output_type": "stream",
     "text": [
      "<class 'pandas.core.frame.DataFrame'>\n",
      "RangeIndex: 5000 entries, 0 to 4999\n",
      "Data columns (total 5 columns):\n",
      " #   Column             Non-Null Count  Dtype  \n",
      "---  ------             --------------  -----  \n",
      " 0   Пол                5000 non-null   int64  \n",
      " 1   Возраст            5000 non-null   float64\n",
      " 2   Зарплата           5000 non-null   float64\n",
      " 3   Члены семьи        5000 non-null   int64  \n",
      " 4   Страховые выплаты  5000 non-null   int64  \n",
      "dtypes: float64(2), int64(3)\n",
      "memory usage: 195.4 KB\n"
     ]
    }
   ],
   "source": [
    "df.info()"
   ]
  },
  {
   "cell_type": "code",
   "execution_count": 4,
   "metadata": {},
   "outputs": [
    {
     "data": {
      "text/html": [
       "<div>\n",
       "<style scoped>\n",
       "    .dataframe tbody tr th:only-of-type {\n",
       "        vertical-align: middle;\n",
       "    }\n",
       "\n",
       "    .dataframe tbody tr th {\n",
       "        vertical-align: top;\n",
       "    }\n",
       "\n",
       "    .dataframe thead th {\n",
       "        text-align: right;\n",
       "    }\n",
       "</style>\n",
       "<table border=\"1\" class=\"dataframe\">\n",
       "  <thead>\n",
       "    <tr style=\"text-align: right;\">\n",
       "      <th></th>\n",
       "      <th>Пол</th>\n",
       "      <th>Возраст</th>\n",
       "      <th>Зарплата</th>\n",
       "      <th>Члены семьи</th>\n",
       "      <th>Страховые выплаты</th>\n",
       "    </tr>\n",
       "  </thead>\n",
       "  <tbody>\n",
       "    <tr>\n",
       "      <th>0</th>\n",
       "      <td>1</td>\n",
       "      <td>41.0</td>\n",
       "      <td>49600.0</td>\n",
       "      <td>1</td>\n",
       "      <td>0</td>\n",
       "    </tr>\n",
       "    <tr>\n",
       "      <th>1</th>\n",
       "      <td>0</td>\n",
       "      <td>46.0</td>\n",
       "      <td>38000.0</td>\n",
       "      <td>1</td>\n",
       "      <td>1</td>\n",
       "    </tr>\n",
       "    <tr>\n",
       "      <th>2</th>\n",
       "      <td>0</td>\n",
       "      <td>29.0</td>\n",
       "      <td>21000.0</td>\n",
       "      <td>0</td>\n",
       "      <td>0</td>\n",
       "    </tr>\n",
       "    <tr>\n",
       "      <th>3</th>\n",
       "      <td>0</td>\n",
       "      <td>21.0</td>\n",
       "      <td>41700.0</td>\n",
       "      <td>2</td>\n",
       "      <td>0</td>\n",
       "    </tr>\n",
       "    <tr>\n",
       "      <th>4</th>\n",
       "      <td>1</td>\n",
       "      <td>28.0</td>\n",
       "      <td>26100.0</td>\n",
       "      <td>0</td>\n",
       "      <td>0</td>\n",
       "    </tr>\n",
       "  </tbody>\n",
       "</table>\n",
       "</div>"
      ],
      "text/plain": [
       "   Пол  Возраст  Зарплата  Члены семьи  Страховые выплаты\n",
       "0    1     41.0   49600.0            1                  0\n",
       "1    0     46.0   38000.0            1                  1\n",
       "2    0     29.0   21000.0            0                  0\n",
       "3    0     21.0   41700.0            2                  0\n",
       "4    1     28.0   26100.0            0                  0"
      ]
     },
     "execution_count": 4,
     "metadata": {},
     "output_type": "execute_result"
    }
   ],
   "source": [
    "df.head()"
   ]
  },
  {
   "cell_type": "markdown",
   "metadata": {},
   "source": [
    "Данные представлены в 5 колонках, 4 из них признаки и один целевой признак **Страховые выплаты**. Пропуски в данных отсутсвуют."
   ]
  },
  {
   "cell_type": "code",
   "execution_count": 5,
   "metadata": {},
   "outputs": [
    {
     "data": {
      "text/html": [
       "<div>\n",
       "<style scoped>\n",
       "    .dataframe tbody tr th:only-of-type {\n",
       "        vertical-align: middle;\n",
       "    }\n",
       "\n",
       "    .dataframe tbody tr th {\n",
       "        vertical-align: top;\n",
       "    }\n",
       "\n",
       "    .dataframe thead th {\n",
       "        text-align: right;\n",
       "    }\n",
       "</style>\n",
       "<table border=\"1\" class=\"dataframe\">\n",
       "  <thead>\n",
       "    <tr style=\"text-align: right;\">\n",
       "      <th></th>\n",
       "      <th>Пол</th>\n",
       "      <th>Возраст</th>\n",
       "      <th>Зарплата</th>\n",
       "      <th>Члены семьи</th>\n",
       "      <th>Страховые выплаты</th>\n",
       "    </tr>\n",
       "  </thead>\n",
       "  <tbody>\n",
       "    <tr>\n",
       "      <th>count</th>\n",
       "      <td>5000.000000</td>\n",
       "      <td>5000.000000</td>\n",
       "      <td>5000.000000</td>\n",
       "      <td>5000.000000</td>\n",
       "      <td>5000.000000</td>\n",
       "    </tr>\n",
       "    <tr>\n",
       "      <th>mean</th>\n",
       "      <td>0.499000</td>\n",
       "      <td>30.952800</td>\n",
       "      <td>39916.360000</td>\n",
       "      <td>1.194200</td>\n",
       "      <td>0.148000</td>\n",
       "    </tr>\n",
       "    <tr>\n",
       "      <th>std</th>\n",
       "      <td>0.500049</td>\n",
       "      <td>8.440807</td>\n",
       "      <td>9900.083569</td>\n",
       "      <td>1.091387</td>\n",
       "      <td>0.463183</td>\n",
       "    </tr>\n",
       "    <tr>\n",
       "      <th>min</th>\n",
       "      <td>0.000000</td>\n",
       "      <td>18.000000</td>\n",
       "      <td>5300.000000</td>\n",
       "      <td>0.000000</td>\n",
       "      <td>0.000000</td>\n",
       "    </tr>\n",
       "    <tr>\n",
       "      <th>25%</th>\n",
       "      <td>0.000000</td>\n",
       "      <td>24.000000</td>\n",
       "      <td>33300.000000</td>\n",
       "      <td>0.000000</td>\n",
       "      <td>0.000000</td>\n",
       "    </tr>\n",
       "    <tr>\n",
       "      <th>50%</th>\n",
       "      <td>0.000000</td>\n",
       "      <td>30.000000</td>\n",
       "      <td>40200.000000</td>\n",
       "      <td>1.000000</td>\n",
       "      <td>0.000000</td>\n",
       "    </tr>\n",
       "    <tr>\n",
       "      <th>75%</th>\n",
       "      <td>1.000000</td>\n",
       "      <td>37.000000</td>\n",
       "      <td>46600.000000</td>\n",
       "      <td>2.000000</td>\n",
       "      <td>0.000000</td>\n",
       "    </tr>\n",
       "    <tr>\n",
       "      <th>max</th>\n",
       "      <td>1.000000</td>\n",
       "      <td>65.000000</td>\n",
       "      <td>79000.000000</td>\n",
       "      <td>6.000000</td>\n",
       "      <td>5.000000</td>\n",
       "    </tr>\n",
       "  </tbody>\n",
       "</table>\n",
       "</div>"
      ],
      "text/plain": [
       "               Пол      Возраст      Зарплата  Члены семьи  Страховые выплаты\n",
       "count  5000.000000  5000.000000   5000.000000  5000.000000        5000.000000\n",
       "mean      0.499000    30.952800  39916.360000     1.194200           0.148000\n",
       "std       0.500049     8.440807   9900.083569     1.091387           0.463183\n",
       "min       0.000000    18.000000   5300.000000     0.000000           0.000000\n",
       "25%       0.000000    24.000000  33300.000000     0.000000           0.000000\n",
       "50%       0.000000    30.000000  40200.000000     1.000000           0.000000\n",
       "75%       1.000000    37.000000  46600.000000     2.000000           0.000000\n",
       "max       1.000000    65.000000  79000.000000     6.000000           5.000000"
      ]
     },
     "execution_count": 5,
     "metadata": {},
     "output_type": "execute_result"
    }
   ],
   "source": [
    "df.describe()"
   ]
  },
  {
   "cell_type": "markdown",
   "metadata": {},
   "source": [
    "## Умножение матриц"
   ]
  },
  {
   "cell_type": "markdown",
   "metadata": {},
   "source": [
    "В этом задании вы можете записывать формулы в *Jupyter Notebook.*\n",
    "\n",
    "Чтобы записать формулу внутри текста, окружите её символами доллара \\\\$; если снаружи —  двойными символами \\\\$\\\\$. Эти формулы записываются на языке вёрстки *LaTeX.* \n",
    "\n",
    "Для примера мы записали формулы линейной регрессии. Можете их скопировать и отредактировать, чтобы решить задачу.\n",
    "\n",
    "Работать в *LaTeX* необязательно."
   ]
  },
  {
   "cell_type": "markdown",
   "metadata": {},
   "source": [
    "Обозначения:\n",
    "\n",
    "- $X$ — матрица признаков (нулевой столбец состоит из единиц)\n",
    "\n",
    "- $y$ — вектор целевого признака\n",
    "\n",
    "- $P$ — матрица, на которую умножаются признаки\n",
    "\n",
    "- $w$ — вектор весов линейной регрессии (нулевой элемент равен сдвигу)"
   ]
  },
  {
   "cell_type": "markdown",
   "metadata": {},
   "source": [
    "Предсказания:\n",
    "\n",
    "$$\n",
    "a = Xw\n",
    "$$\n",
    "\n",
    "Задача обучения:\n",
    "\n",
    "$$\n",
    "w = \\arg\\min_w MSE(Xw, y)\n",
    "$$\n",
    "\n",
    "Формула обучения:\n",
    "\n",
    "$$\n",
    "w = (X^T X)^{-1} X^T y\n",
    "$$"
   ]
  },
  {
   "cell_type": "markdown",
   "metadata": {},
   "source": [
    "**Ответ:** \n",
    "\n",
    "При умножении матрицы признаков на обратимую матрицу, качество линейной регресии не изменится.\n",
    "  \n",
    "**Обоснование:** \n",
    "\n",
    "Формула расчета весов для линейной регрессии:\n",
    "\n",
    "$$\n",
    "w = (X^T X)^{-1} X^T y\n",
    "$$\n",
    "\n",
    "Представим новую матрицу признаков $X1$ как произведение старой $X$ на матрицу $P$ (обратимую):\n",
    "\n",
    "$$\n",
    "X1 = X * P\n",
    "$$\n",
    "\n",
    "Подставим новое значение $X1$ в формулу $w_1$:\n",
    "\n",
    "$$\n",
    "w_1 = ((XP)^T XP)^{-1} (XP)^T y\n",
    "$$\n",
    "\n",
    "Раскроем первое произведение $(XP)^T$:\n",
    "\n",
    "$$\n",
    "w_1 = (P^T X^T XP)^{-1} P^T X^T y\n",
    "$$\n",
    "\n",
    "Перегруппируем множители в скобках, чтобы это выглядело как произведение трех множителей:\n",
    "\n",
    "$$\n",
    "w_1 = (P^T (X^T X) P)^{-1} P^T X^T y\n",
    "$$\n",
    "\n",
    "Раскроем скобки $(P^T (X^T X) P)^{-1}$:\n",
    "\n",
    "$$\n",
    "w_1 = P^{-1} (X^T X)^{-1} (P^T)^{-1} P^T X^T y\n",
    "$$\n",
    "\n",
    "Так как $P$ по условию обратимая, то произведение $(P^T)^{-1} P^T$ равно $E$ (единичная матрица):\n",
    "\n",
    "$$\n",
    "w_1 = P^{-1} (X^T X)^{-1} EX^T y = P^{-1} (X^T X)^{-1} X^T y\n",
    "$$\n",
    "\n",
    "Можно заметить, что справа получилась формула для $w$:\n",
    "\n",
    "$$\n",
    "w_1= P^{-1} (X^T X)^{-1} X^T y = P^{-1} w\n",
    "$$\n",
    "\n",
    "Подставим новое значение весов $𝑤1$ в формулу для предсказаний линейной регрессии. Предсказания модели расчитываются по формуле:\n",
    "\n",
    "$$\n",
    "a = Xw\n",
    "$$\n",
    "\n",
    "Подставим в эту формулу значения $X1$ и $w1$ для того, чтобы на их основе вычислить предсказания модели $a1$:\n",
    "\n",
    "$$\n",
    "a1 = X1 w1 = X P P^{-1}w\n",
    "$$\n",
    "\n",
    "Так как $P$ по условию обратимая, то произведение $P P^{-1}$ снова равно $E$:\n",
    "\n",
    "$$\n",
    "a1 = X P P^{-1}w = X E w = X w = a\n",
    "$$\n",
    "\n",
    "Мы доказали, что предсказания $a1$ для матрицы признаков, умноженных на обратимую матрицу $P$ равны предсказаниям $a$.\n",
    "Следовательно, отвечая на вопрос изменится ли качество линейной регрессии при умножении признаков на обратимую матрицу - нет, не изменится. В данном случае, параметры линейной регрессии в исходной задаче $w$ и в преобразованной $w1$ связаны следующим образом:\n",
    "\n",
    "$$\n",
    "w_1 = P^{-1} w\n",
    "$$\n",
    "\n",
    "**Вывод:** \n",
    "\n",
    "При умножении признаков на обратимую матрицу, предсказания модели не поменяется, но поменяются веса для новых признаков. Придется переобучать модель на новых признаках."
   ]
  },
  {
   "cell_type": "markdown",
   "metadata": {},
   "source": [
    "## Алгоритм преобразования"
   ]
  },
  {
   "cell_type": "markdown",
   "metadata": {},
   "source": [
    "**Алгоритм**\n"
   ]
  },
  {
   "cell_type": "markdown",
   "metadata": {},
   "source": [
    "Чтобы защитить данные и не потерять качество модели машинного обучения, нужно умножить признаки на обратимую матрицу $P$. Для этого алгоритм преобразования данных должен содержать процесс создания подобной матрицы $P$ и ее умножения на матрицу признаков."
   ]
  },
  {
   "cell_type": "code",
   "execution_count": 6,
   "metadata": {},
   "outputs": [
    {
     "data": {
      "text/plain": [
       "array([[-1.37023376, -0.20079945,  1.75960975, -1.38941971],\n",
       "       [-0.5178702 ,  0.1443537 ,  1.12785048, -1.85104476],\n",
       "       [ 0.91822537, -0.42094989, -0.12915581, -1.22411056],\n",
       "       [-0.56699341, -1.55872637,  1.85070574,  1.37624124]])"
      ]
     },
     "execution_count": 6,
     "metadata": {},
     "output_type": "execute_result"
    }
   ],
   "source": [
    "# Создами рандомную матрицу, такого же размера как и исходная \n",
    "random_matrix = np.random.randn(4,4)\n",
    "random_matrix"
   ]
  },
  {
   "cell_type": "code",
   "execution_count": 7,
   "metadata": {},
   "outputs": [
    {
     "data": {
      "text/plain": [
       "array([[-2.07604466,  2.24405216, -0.38555871,  0.57938761],\n",
       "       [-1.99682489,  2.58262697, -1.3823172 ,  0.22817306],\n",
       "       [-1.81263601,  2.46474021, -0.88253317,  0.70010551],\n",
       "       [-0.67935137,  0.53512615, -0.53766323,  0.28227539]])"
      ]
     },
     "execution_count": 7,
     "metadata": {},
     "output_type": "execute_result"
    }
   ],
   "source": [
    "# Проверим на обратимость, если матрица не обратима будет ошибка.\n",
    "matrix_inverted = np.linalg.inv(random_matrix)\n",
    "matrix_inverted"
   ]
  },
  {
   "cell_type": "markdown",
   "metadata": {},
   "source": [
    "Из формул известно, что предсказания модели при преобразовании не поменяются, а значит качество модели тоже не должно меняться, так как качество модели - это производная от предсказаний (которые одинаковы до и после преобразований) и целевого признака.\n",
    "\n",
    "Подкрепим теоритические рассуждения примером на цифрах из таблицы. Для этого самостоятельно расчитаем вектора предсказаний $a$ и $a1$ по формулам и сравним их между собой."
   ]
  },
  {
   "cell_type": "code",
   "execution_count": 23,
   "metadata": {},
   "outputs": [],
   "source": [
    "features = df.drop('Страховые выплаты', axis=1)\n",
    "target = df['Страховые выплаты']"
   ]
  },
  {
   "cell_type": "code",
   "execution_count": 24,
   "metadata": {},
   "outputs": [],
   "source": [
    "scaler = StandardScaler()\n",
    "scaler.fit(features)\n",
    "features_scaled = scaler.transform(features)"
   ]
  },
  {
   "cell_type": "code",
   "execution_count": 25,
   "metadata": {},
   "outputs": [],
   "source": [
    "features_scaled_p = features_scaled @ matrix_inverted"
   ]
  },
  {
   "cell_type": "code",
   "execution_count": 26,
   "metadata": {},
   "outputs": [],
   "source": [
    "x = np.concatenate((np.ones((features_scaled.shape[0], 1)), features_scaled), axis=1)\n",
    "x1 = np.concatenate((np.ones((features_scaled_p.shape[0], 1)), features_scaled_p), axis=1)\n",
    "y = target\n",
    "w = np.linalg.inv(x.T.dot(x)).dot(x.T).dot(y)\n",
    "w1 = np.linalg.inv(x1.T.dot(x1)).dot(x1.T).dot(y)"
   ]
  },
  {
   "cell_type": "code",
   "execution_count": 27,
   "metadata": {},
   "outputs": [],
   "source": [
    "a = x @ w\n",
    "a1 = x1 @ w1"
   ]
  },
  {
   "cell_type": "code",
   "execution_count": 28,
   "metadata": {},
   "outputs": [
    {
     "data": {
      "text/plain": [
       "-1.221177835502435e-13"
      ]
     },
     "execution_count": 28,
     "metadata": {},
     "output_type": "execute_result"
    }
   ],
   "source": [
    "diff = a - a1\n",
    "diff.sum()"
   ]
  },
  {
   "cell_type": "markdown",
   "metadata": {},
   "source": [
    "**Обоснование**\n"
   ]
  },
  {
   "cell_type": "markdown",
   "metadata": {},
   "source": [
    "Исходя из полученных данных мы видим, что сумма расхождений совсем маленькая. Это значит $𝑎$ равен $𝑎1$. Мы доказали, что преобразование не приводит к разным предсказаниям модели и не ухудшает качество модели."
   ]
  },
  {
   "cell_type": "markdown",
   "metadata": {},
   "source": [
    "## Проверка алгоритма"
   ]
  },
  {
   "cell_type": "code",
   "execution_count": 29,
   "metadata": {},
   "outputs": [
    {
     "name": "stdout",
     "output_type": "stream",
     "text": [
      "MSE Score: 0.12334688941710859\n",
      "R2_Score на исходных данных:  0.4249455028666801\n"
     ]
    }
   ],
   "source": [
    "# Создадим модель линенйной решресии для исходных данных и посмотрим на ее метрику R2\n",
    "model = LinearRegression()\n",
    "model.fit(features,target)\n",
    "predictions = model.predict(features)\n",
    "mse = mean_squared_error(target, predictions)\n",
    "print('MSE Score:', mse)\n",
    "print('R2_Score на исходных данных: ',r2_score(target, predictions))"
   ]
  },
  {
   "cell_type": "code",
   "execution_count": 30,
   "metadata": {},
   "outputs": [
    {
     "name": "stdout",
     "output_type": "stream",
     "text": [
      "MSE Score: 0.12334688941711054\n",
      "R2_Score для преобразованных  признаков:  0.424945502866671\n"
     ]
    }
   ],
   "source": [
    "# Создадим модель линенйной решресии для преобразованных данных и посмотрим на ее метрику R2 и сравним \n",
    "features_matrix = features @ random_matrix\n",
    "model.fit(features_matrix, target)\n",
    "predictions_matrix = model.predict(features_matrix)\n",
    "mse = mean_squared_error(target, predictions_matrix)\n",
    "print('MSE Score:', mse)\n",
    "print('R2_Score для преобразованных  признаков: ',r2_score(target, predictions_matrix))"
   ]
  },
  {
   "cell_type": "markdown",
   "metadata": {},
   "source": [
    "**Вывод:**\n",
    "    \n",
    "Исходя из показателей метрик, мы защитили и сохранили данные и не повлияли на качество модели."
   ]
  }
 ],
 "metadata": {
  "ExecuteTimeLog": [
   {
    "duration": 1875,
    "start_time": "2023-09-23T14:03:22.151Z"
   },
   {
    "duration": 95,
    "start_time": "2023-09-23T14:03:24.931Z"
   },
   {
    "duration": 14,
    "start_time": "2023-09-23T14:03:45.941Z"
   },
   {
    "duration": 15,
    "start_time": "2023-09-23T14:03:53.634Z"
   },
   {
    "duration": 107,
    "start_time": "2023-09-23T15:08:54.768Z"
   },
   {
    "duration": 5,
    "start_time": "2023-09-23T15:09:58.366Z"
   },
   {
    "duration": 9,
    "start_time": "2023-09-23T15:10:19.954Z"
   },
   {
    "duration": 5,
    "start_time": "2023-09-23T15:11:44.987Z"
   },
   {
    "duration": 9,
    "start_time": "2023-09-23T15:11:55.284Z"
   },
   {
    "duration": 10,
    "start_time": "2023-09-23T15:12:06.625Z"
   },
   {
    "duration": 80,
    "start_time": "2023-09-23T15:12:20.242Z"
   },
   {
    "duration": 4,
    "start_time": "2023-09-23T15:12:34.531Z"
   },
   {
    "duration": 4,
    "start_time": "2023-09-23T15:12:42.655Z"
   },
   {
    "duration": 4,
    "start_time": "2023-09-23T15:12:52.936Z"
   },
   {
    "duration": 3,
    "start_time": "2023-09-23T15:13:00.054Z"
   },
   {
    "duration": 4,
    "start_time": "2023-09-23T15:13:15.465Z"
   },
   {
    "duration": 38,
    "start_time": "2023-09-23T15:21:00.707Z"
   },
   {
    "duration": 10,
    "start_time": "2023-09-23T15:21:33.280Z"
   },
   {
    "duration": 10,
    "start_time": "2023-09-23T15:22:04.034Z"
   },
   {
    "duration": 100,
    "start_time": "2023-09-23T15:22:59.567Z"
   },
   {
    "duration": 2849,
    "start_time": "2023-09-23T16:23:49.494Z"
   },
   {
    "duration": 177,
    "start_time": "2023-09-23T16:23:52.348Z"
   },
   {
    "duration": 14,
    "start_time": "2023-09-23T16:23:52.527Z"
   },
   {
    "duration": 38,
    "start_time": "2023-09-23T16:23:52.543Z"
   },
   {
    "duration": 8,
    "start_time": "2023-09-23T16:23:52.583Z"
   },
   {
    "duration": 19,
    "start_time": "2023-09-23T16:23:52.593Z"
   },
   {
    "duration": 40,
    "start_time": "2023-09-23T16:23:52.660Z"
   },
   {
    "duration": 32,
    "start_time": "2023-09-23T16:23:52.757Z"
   },
   {
    "duration": 6,
    "start_time": "2023-09-23T16:23:52.797Z"
   },
   {
    "duration": 92,
    "start_time": "2023-09-23T16:23:52.808Z"
   },
   {
    "duration": 54,
    "start_time": "2023-09-23T16:23:52.905Z"
   },
   {
    "duration": 10,
    "start_time": "2023-09-23T16:23:52.963Z"
   },
   {
    "duration": 22,
    "start_time": "2023-09-23T16:23:52.983Z"
   },
   {
    "duration": 8,
    "start_time": "2023-09-23T16:23:53.063Z"
   },
   {
    "duration": 14,
    "start_time": "2023-09-23T16:23:53.077Z"
   },
   {
    "duration": 120,
    "start_time": "2023-09-23T16:23:53.093Z"
   },
   {
    "duration": 91,
    "start_time": "2023-09-23T16:23:53.275Z"
   },
   {
    "duration": 1749,
    "start_time": "2023-09-27T23:47:24.660Z"
   },
   {
    "duration": 78,
    "start_time": "2023-09-27T23:47:26.411Z"
   },
   {
    "duration": 13,
    "start_time": "2023-09-27T23:47:26.491Z"
   },
   {
    "duration": 22,
    "start_time": "2023-09-27T23:47:26.505Z"
   },
   {
    "duration": 6,
    "start_time": "2023-09-27T23:47:26.529Z"
   },
   {
    "duration": 49,
    "start_time": "2023-09-27T23:47:26.537Z"
   },
   {
    "duration": 15,
    "start_time": "2023-09-27T23:47:26.680Z"
   },
   {
    "duration": 18,
    "start_time": "2023-09-27T23:47:26.697Z"
   },
   {
    "duration": 22,
    "start_time": "2023-09-27T23:47:26.716Z"
   },
   {
    "duration": 41,
    "start_time": "2023-09-27T23:47:26.741Z"
   },
   {
    "duration": 2,
    "start_time": "2023-09-27T23:47:26.784Z"
   },
   {
    "duration": 95,
    "start_time": "2023-09-27T23:47:26.788Z"
   },
   {
    "duration": 98,
    "start_time": "2023-09-27T23:47:26.885Z"
   },
   {
    "duration": 196,
    "start_time": "2023-09-27T23:47:26.986Z"
   },
   {
    "duration": 9,
    "start_time": "2023-09-27T23:47:27.184Z"
   },
   {
    "duration": 44,
    "start_time": "2023-09-27T23:47:27.195Z"
   },
   {
    "duration": 51,
    "start_time": "2023-09-27T23:47:27.241Z"
   },
   {
    "duration": 17,
    "start_time": "2023-09-28T00:00:56.560Z"
   },
   {
    "duration": 13,
    "start_time": "2023-09-28T00:00:59.144Z"
   },
   {
    "duration": 12,
    "start_time": "2023-09-28T00:01:43.544Z"
   },
   {
    "duration": 12,
    "start_time": "2023-09-28T00:01:44.256Z"
   },
   {
    "duration": 217,
    "start_time": "2023-09-28T00:02:34.696Z"
   },
   {
    "duration": 4,
    "start_time": "2023-09-28T00:14:00.977Z"
   },
   {
    "duration": 3,
    "start_time": "2023-09-28T00:14:01.512Z"
   },
   {
    "duration": 6,
    "start_time": "2023-09-28T00:14:02.478Z"
   },
   {
    "duration": 11,
    "start_time": "2023-09-28T00:14:03.016Z"
   },
   {
    "duration": 3,
    "start_time": "2023-09-28T00:14:03.452Z"
   },
   {
    "duration": 5,
    "start_time": "2023-09-28T00:14:03.901Z"
   },
   {
    "duration": 4,
    "start_time": "2023-09-28T00:14:05.510Z"
   },
   {
    "duration": 4,
    "start_time": "2023-09-28T00:14:05.952Z"
   },
   {
    "duration": 5,
    "start_time": "2023-09-28T00:14:06.581Z"
   },
   {
    "duration": 4,
    "start_time": "2023-09-28T00:16:35.853Z"
   },
   {
    "duration": 7,
    "start_time": "2023-09-28T00:16:36.106Z"
   },
   {
    "duration": 4,
    "start_time": "2023-09-28T00:16:38.242Z"
   },
   {
    "duration": 4,
    "start_time": "2023-09-28T00:16:38.668Z"
   },
   {
    "duration": 3,
    "start_time": "2023-09-28T00:16:38.951Z"
   },
   {
    "duration": 4,
    "start_time": "2023-09-28T00:16:39.253Z"
   },
   {
    "duration": 4,
    "start_time": "2023-09-28T00:16:40.345Z"
   },
   {
    "duration": 3,
    "start_time": "2023-09-28T00:16:40.634Z"
   },
   {
    "duration": 3,
    "start_time": "2023-09-28T00:16:41.920Z"
   },
   {
    "duration": 23,
    "start_time": "2023-09-28T00:44:18.822Z"
   },
   {
    "duration": 3,
    "start_time": "2023-09-28T00:49:16.142Z"
   },
   {
    "duration": 9,
    "start_time": "2023-09-28T00:49:16.621Z"
   },
   {
    "duration": 6,
    "start_time": "2023-09-28T00:49:17.037Z"
   },
   {
    "duration": 7,
    "start_time": "2023-09-28T00:49:17.410Z"
   },
   {
    "duration": 3,
    "start_time": "2023-09-28T00:49:18.050Z"
   },
   {
    "duration": 5,
    "start_time": "2023-09-28T00:49:19.860Z"
   },
   {
    "duration": 4,
    "start_time": "2023-09-28T00:49:20.264Z"
   },
   {
    "duration": 3,
    "start_time": "2023-09-28T00:49:22.054Z"
   },
   {
    "duration": 5,
    "start_time": "2023-09-28T00:49:23.060Z"
   },
   {
    "duration": 12,
    "start_time": "2023-09-28T00:50:04.129Z"
   },
   {
    "duration": 13,
    "start_time": "2023-09-28T00:50:05.137Z"
   },
   {
    "duration": 491,
    "start_time": "2023-09-28T00:52:23.507Z"
   },
   {
    "duration": 714,
    "start_time": "2023-09-28T00:52:33.717Z"
   },
   {
    "duration": 4,
    "start_time": "2023-09-28T00:52:49.578Z"
   },
   {
    "duration": 5,
    "start_time": "2023-09-28T00:53:19.937Z"
   },
   {
    "duration": 4,
    "start_time": "2023-09-28T00:53:34.127Z"
   },
   {
    "duration": 7,
    "start_time": "2023-09-28T00:53:34.555Z"
   },
   {
    "duration": 6,
    "start_time": "2023-09-28T00:53:34.893Z"
   },
   {
    "duration": 5,
    "start_time": "2023-09-28T00:53:35.220Z"
   },
   {
    "duration": 3,
    "start_time": "2023-09-28T00:53:35.547Z"
   },
   {
    "duration": 6,
    "start_time": "2023-09-28T00:53:35.884Z"
   },
   {
    "duration": 4,
    "start_time": "2023-09-28T00:53:36.226Z"
   },
   {
    "duration": 4,
    "start_time": "2023-09-28T00:53:36.607Z"
   },
   {
    "duration": 4,
    "start_time": "2023-09-28T00:53:38.108Z"
   },
   {
    "duration": 7,
    "start_time": "2023-09-28T00:53:52.526Z"
   },
   {
    "duration": 5,
    "start_time": "2023-09-28T00:53:52.833Z"
   },
   {
    "duration": 3,
    "start_time": "2023-09-28T00:53:53.128Z"
   },
   {
    "duration": 5,
    "start_time": "2023-09-28T00:53:54.497Z"
   },
   {
    "duration": 5,
    "start_time": "2023-09-28T00:53:54.804Z"
   },
   {
    "duration": 4,
    "start_time": "2023-09-28T00:53:55.193Z"
   },
   {
    "duration": 4,
    "start_time": "2023-09-28T00:53:55.812Z"
   },
   {
    "duration": 12,
    "start_time": "2023-09-28T00:53:58.975Z"
   },
   {
    "duration": 12,
    "start_time": "2023-09-28T00:53:59.983Z"
   },
   {
    "duration": 106,
    "start_time": "2023-09-28T00:54:36.960Z"
   },
   {
    "duration": 4,
    "start_time": "2023-09-28T00:54:48.560Z"
   },
   {
    "duration": 43,
    "start_time": "2023-09-28T00:54:48.565Z"
   },
   {
    "duration": 11,
    "start_time": "2023-09-28T00:54:48.610Z"
   },
   {
    "duration": 10,
    "start_time": "2023-09-28T00:54:48.622Z"
   },
   {
    "duration": 28,
    "start_time": "2023-09-28T00:54:48.634Z"
   },
   {
    "duration": 4,
    "start_time": "2023-09-28T00:54:48.663Z"
   },
   {
    "duration": 17,
    "start_time": "2023-09-28T00:54:48.669Z"
   },
   {
    "duration": 14,
    "start_time": "2023-09-28T00:54:48.687Z"
   },
   {
    "duration": 80,
    "start_time": "2023-09-28T00:54:48.703Z"
   },
   {
    "duration": 7,
    "start_time": "2023-09-28T00:54:48.785Z"
   },
   {
    "duration": 6,
    "start_time": "2023-09-28T00:54:48.882Z"
   },
   {
    "duration": 9,
    "start_time": "2023-09-28T00:54:48.980Z"
   },
   {
    "duration": 9,
    "start_time": "2023-09-28T00:54:48.991Z"
   },
   {
    "duration": 82,
    "start_time": "2023-09-28T00:54:49.002Z"
   },
   {
    "duration": 98,
    "start_time": "2023-09-28T00:54:49.086Z"
   },
   {
    "duration": 18,
    "start_time": "2023-09-28T00:54:49.186Z"
   },
   {
    "duration": 108,
    "start_time": "2023-09-28T00:54:49.285Z"
   },
   {
    "duration": 4,
    "start_time": "2023-09-28T00:55:13.345Z"
   },
   {
    "duration": 6,
    "start_time": "2023-09-28T00:56:33.613Z"
   },
   {
    "duration": 5,
    "start_time": "2023-09-28T00:56:34.102Z"
   },
   {
    "duration": 4,
    "start_time": "2023-09-28T00:56:34.406Z"
   },
   {
    "duration": 5,
    "start_time": "2023-09-28T00:56:34.648Z"
   },
   {
    "duration": 6,
    "start_time": "2023-09-28T00:56:34.886Z"
   },
   {
    "duration": 3,
    "start_time": "2023-09-28T00:56:35.116Z"
   },
   {
    "duration": 4,
    "start_time": "2023-09-28T00:56:35.586Z"
   },
   {
    "duration": 5,
    "start_time": "2023-09-28T00:58:10.340Z"
   },
   {
    "duration": 9,
    "start_time": "2023-09-28T00:58:10.761Z"
   },
   {
    "duration": 4,
    "start_time": "2023-09-28T00:58:11.103Z"
   },
   {
    "duration": 7,
    "start_time": "2023-09-28T00:58:11.442Z"
   },
   {
    "duration": 2,
    "start_time": "2023-09-28T00:58:11.784Z"
   },
   {
    "duration": 4,
    "start_time": "2023-09-28T00:58:12.161Z"
   },
   {
    "duration": 4,
    "start_time": "2023-09-28T00:58:12.476Z"
   },
   {
    "duration": 2,
    "start_time": "2023-09-28T00:58:12.766Z"
   },
   {
    "duration": 4,
    "start_time": "2023-09-28T00:58:13.204Z"
   },
   {
    "duration": 3,
    "start_time": "2023-09-28T00:58:21.381Z"
   },
   {
    "duration": 34,
    "start_time": "2023-09-28T00:58:21.386Z"
   },
   {
    "duration": 10,
    "start_time": "2023-09-28T00:58:21.422Z"
   },
   {
    "duration": 8,
    "start_time": "2023-09-28T00:58:21.434Z"
   },
   {
    "duration": 26,
    "start_time": "2023-09-28T00:58:21.444Z"
   },
   {
    "duration": 10,
    "start_time": "2023-09-28T00:58:21.472Z"
   },
   {
    "duration": 8,
    "start_time": "2023-09-28T00:58:21.484Z"
   },
   {
    "duration": 7,
    "start_time": "2023-09-28T00:58:21.494Z"
   },
   {
    "duration": 86,
    "start_time": "2023-09-28T00:58:21.504Z"
   },
   {
    "duration": 88,
    "start_time": "2023-09-28T00:58:21.593Z"
   },
   {
    "duration": 3,
    "start_time": "2023-09-28T00:58:21.684Z"
   },
   {
    "duration": 96,
    "start_time": "2023-09-28T00:58:21.689Z"
   },
   {
    "duration": 92,
    "start_time": "2023-09-28T00:58:21.790Z"
   },
   {
    "duration": 8,
    "start_time": "2023-09-28T00:58:21.885Z"
   },
   {
    "duration": 95,
    "start_time": "2023-09-28T00:58:21.986Z"
   },
   {
    "duration": 4,
    "start_time": "2023-09-28T00:58:22.083Z"
   },
   {
    "duration": 14,
    "start_time": "2023-09-28T00:58:22.089Z"
   },
   {
    "duration": 104,
    "start_time": "2023-09-28T00:58:22.183Z"
   },
   {
    "duration": 4,
    "start_time": "2023-09-28T00:58:34.995Z"
   },
   {
    "duration": 34,
    "start_time": "2023-09-28T00:58:35.001Z"
   },
   {
    "duration": 12,
    "start_time": "2023-09-28T00:58:35.037Z"
   },
   {
    "duration": 40,
    "start_time": "2023-09-28T00:58:35.051Z"
   },
   {
    "duration": 49,
    "start_time": "2023-09-28T00:58:35.093Z"
   },
   {
    "duration": 4,
    "start_time": "2023-09-28T00:58:35.144Z"
   },
   {
    "duration": 24,
    "start_time": "2023-09-28T00:58:35.150Z"
   },
   {
    "duration": 14,
    "start_time": "2023-09-28T00:58:35.180Z"
   },
   {
    "duration": 91,
    "start_time": "2023-09-28T00:58:35.196Z"
   },
   {
    "duration": 15,
    "start_time": "2023-09-28T00:58:35.290Z"
   },
   {
    "duration": 78,
    "start_time": "2023-09-28T00:58:35.306Z"
   },
   {
    "duration": 103,
    "start_time": "2023-09-28T00:58:35.388Z"
   },
   {
    "duration": 132,
    "start_time": "2023-09-28T00:58:35.494Z"
   },
   {
    "duration": 13,
    "start_time": "2023-09-28T00:58:35.629Z"
   },
   {
    "duration": 43,
    "start_time": "2023-09-28T00:58:35.644Z"
   },
   {
    "duration": 117,
    "start_time": "2023-09-28T00:58:35.690Z"
   },
   {
    "duration": 38,
    "start_time": "2023-09-28T00:58:35.809Z"
   },
   {
    "duration": 104,
    "start_time": "2023-09-28T00:58:35.886Z"
   },
   {
    "duration": 3,
    "start_time": "2023-09-28T00:59:03.635Z"
   },
   {
    "duration": 34,
    "start_time": "2023-09-28T00:59:03.640Z"
   },
   {
    "duration": 11,
    "start_time": "2023-09-28T00:59:03.675Z"
   },
   {
    "duration": 9,
    "start_time": "2023-09-28T00:59:03.688Z"
   },
   {
    "duration": 25,
    "start_time": "2023-09-28T00:59:03.699Z"
   },
   {
    "duration": 4,
    "start_time": "2023-09-28T00:59:03.726Z"
   },
   {
    "duration": 23,
    "start_time": "2023-09-28T00:59:03.731Z"
   },
   {
    "duration": 7,
    "start_time": "2023-09-28T00:59:03.781Z"
   },
   {
    "duration": 86,
    "start_time": "2023-09-28T00:59:03.795Z"
   },
   {
    "duration": 4,
    "start_time": "2023-09-28T00:59:03.883Z"
   },
   {
    "duration": 13,
    "start_time": "2023-09-28T00:59:03.890Z"
   },
   {
    "duration": 6,
    "start_time": "2023-09-28T00:59:03.982Z"
   },
   {
    "duration": 94,
    "start_time": "2023-09-28T00:59:03.991Z"
   },
   {
    "duration": 9,
    "start_time": "2023-09-28T00:59:04.088Z"
   },
   {
    "duration": 86,
    "start_time": "2023-09-28T00:59:04.100Z"
   },
   {
    "duration": 94,
    "start_time": "2023-09-28T00:59:04.189Z"
   },
   {
    "duration": 18,
    "start_time": "2023-09-28T00:59:04.285Z"
   },
   {
    "duration": 181,
    "start_time": "2023-09-28T00:59:04.305Z"
   },
   {
    "duration": 2488,
    "start_time": "2023-09-28T08:58:12.410Z"
   },
   {
    "duration": 77,
    "start_time": "2023-09-28T08:58:14.900Z"
   },
   {
    "duration": 12,
    "start_time": "2023-09-28T08:58:14.978Z"
   },
   {
    "duration": 12,
    "start_time": "2023-09-28T08:58:14.992Z"
   },
   {
    "duration": 26,
    "start_time": "2023-09-28T08:58:15.006Z"
   },
   {
    "duration": 33,
    "start_time": "2023-09-28T08:58:15.034Z"
   },
   {
    "duration": 27,
    "start_time": "2023-09-28T08:58:15.069Z"
   },
   {
    "duration": 9,
    "start_time": "2023-09-28T08:58:15.143Z"
   },
   {
    "duration": 102,
    "start_time": "2023-09-28T08:58:15.156Z"
   },
   {
    "duration": 16,
    "start_time": "2023-09-28T08:58:15.261Z"
   },
   {
    "duration": 65,
    "start_time": "2023-09-28T08:58:15.280Z"
   },
   {
    "duration": 99,
    "start_time": "2023-09-28T08:58:15.347Z"
   },
   {
    "duration": 5,
    "start_time": "2023-09-28T08:58:15.448Z"
   },
   {
    "duration": 95,
    "start_time": "2023-09-28T08:58:15.456Z"
   },
   {
    "duration": 4,
    "start_time": "2023-09-28T08:58:15.554Z"
   },
   {
    "duration": 95,
    "start_time": "2023-09-28T08:58:15.560Z"
   },
   {
    "duration": 108,
    "start_time": "2023-09-28T08:58:15.656Z"
   },
   {
    "duration": 278,
    "start_time": "2023-09-28T08:58:15.767Z"
   },
   {
    "duration": 5,
    "start_time": "2023-09-28T09:02:27.963Z"
   },
   {
    "duration": 13,
    "start_time": "2023-09-28T09:11:13.391Z"
   },
   {
    "duration": 66,
    "start_time": "2023-09-28T10:48:58.944Z"
   },
   {
    "duration": 1743,
    "start_time": "2023-09-28T10:49:04.506Z"
   },
   {
    "duration": 95,
    "start_time": "2023-09-28T10:49:06.251Z"
   },
   {
    "duration": 15,
    "start_time": "2023-09-28T10:49:06.348Z"
   },
   {
    "duration": 85,
    "start_time": "2023-09-28T10:49:06.365Z"
   },
   {
    "duration": 66,
    "start_time": "2023-09-28T10:49:06.452Z"
   },
   {
    "duration": 108,
    "start_time": "2023-09-28T10:49:06.521Z"
   },
   {
    "duration": 14,
    "start_time": "2023-09-28T10:49:06.632Z"
   },
   {
    "duration": 13,
    "start_time": "2023-09-28T10:49:06.650Z"
   },
   {
    "duration": 13,
    "start_time": "2023-09-28T10:49:06.757Z"
   },
   {
    "duration": 85,
    "start_time": "2023-09-28T10:49:06.773Z"
   },
   {
    "duration": 4,
    "start_time": "2023-09-28T10:49:06.860Z"
   },
   {
    "duration": 204,
    "start_time": "2023-09-28T10:49:06.866Z"
   },
   {
    "duration": 8,
    "start_time": "2023-09-28T10:49:07.072Z"
   },
   {
    "duration": 80,
    "start_time": "2023-09-28T10:49:07.083Z"
   },
   {
    "duration": 91,
    "start_time": "2023-09-28T10:49:07.166Z"
   },
   {
    "duration": 11,
    "start_time": "2023-09-28T10:49:07.259Z"
   },
   {
    "duration": 27,
    "start_time": "2023-09-28T10:49:07.271Z"
   },
   {
    "duration": 157,
    "start_time": "2023-09-28T10:49:07.300Z"
   },
   {
    "duration": 96,
    "start_time": "2023-09-28T10:49:53.106Z"
   },
   {
    "duration": 16,
    "start_time": "2023-09-28T10:58:10.268Z"
   },
   {
    "duration": 13,
    "start_time": "2023-09-28T10:59:39.923Z"
   },
   {
    "duration": 80,
    "start_time": "2023-09-28T11:08:08.329Z"
   },
   {
    "duration": 3,
    "start_time": "2023-09-28T11:08:12.482Z"
   },
   {
    "duration": 16,
    "start_time": "2023-09-28T11:08:13.139Z"
   },
   {
    "duration": 18,
    "start_time": "2023-09-28T11:08:37.933Z"
   },
   {
    "duration": 15,
    "start_time": "2023-09-28T11:08:52.925Z"
   },
   {
    "duration": 13,
    "start_time": "2023-09-28T11:09:48.258Z"
   },
   {
    "duration": 7,
    "start_time": "2023-09-28T11:10:12.127Z"
   },
   {
    "duration": 11,
    "start_time": "2023-09-28T11:10:16.315Z"
   },
   {
    "duration": 9,
    "start_time": "2023-09-28T11:10:26.464Z"
   },
   {
    "duration": 10,
    "start_time": "2023-09-28T11:12:18.498Z"
   },
   {
    "duration": 10,
    "start_time": "2023-09-28T11:12:22.703Z"
   },
   {
    "duration": 11,
    "start_time": "2023-09-28T11:12:58.501Z"
   },
   {
    "duration": 38,
    "start_time": "2023-09-28T11:13:31.621Z"
   },
   {
    "duration": 9,
    "start_time": "2023-09-28T11:13:36.321Z"
   },
   {
    "duration": 3,
    "start_time": "2023-09-28T11:13:40.642Z"
   },
   {
    "duration": 10,
    "start_time": "2023-09-28T11:13:45.216Z"
   },
   {
    "duration": 10,
    "start_time": "2023-09-28T11:13:50.236Z"
   },
   {
    "duration": 3,
    "start_time": "2023-09-28T11:13:50.520Z"
   },
   {
    "duration": 9,
    "start_time": "2023-09-28T11:13:50.826Z"
   },
   {
    "duration": 6,
    "start_time": "2023-09-28T11:13:51.721Z"
   },
   {
    "duration": 4,
    "start_time": "2023-09-28T11:14:18.262Z"
   },
   {
    "duration": 44,
    "start_time": "2023-09-28T11:14:18.268Z"
   },
   {
    "duration": 13,
    "start_time": "2023-09-28T11:14:18.314Z"
   },
   {
    "duration": 16,
    "start_time": "2023-09-28T11:14:18.328Z"
   },
   {
    "duration": 34,
    "start_time": "2023-09-28T11:14:18.347Z"
   },
   {
    "duration": 5,
    "start_time": "2023-09-28T11:14:18.383Z"
   },
   {
    "duration": 10,
    "start_time": "2023-09-28T11:14:18.390Z"
   },
   {
    "duration": 54,
    "start_time": "2023-09-28T11:14:18.403Z"
   },
   {
    "duration": 242,
    "start_time": "2023-09-28T11:14:18.460Z"
   },
   {
    "duration": 4,
    "start_time": "2023-09-28T11:14:18.704Z"
   },
   {
    "duration": 6,
    "start_time": "2023-09-28T11:14:18.710Z"
   },
   {
    "duration": 41,
    "start_time": "2023-09-28T11:14:18.719Z"
   },
   {
    "duration": 5,
    "start_time": "2023-09-28T11:14:18.856Z"
   },
   {
    "duration": 11,
    "start_time": "2023-09-28T11:14:18.864Z"
   },
   {
    "duration": 4,
    "start_time": "2023-09-28T11:14:18.958Z"
   },
   {
    "duration": 93,
    "start_time": "2023-09-28T11:14:18.967Z"
   },
   {
    "duration": 15,
    "start_time": "2023-09-28T11:14:19.062Z"
   },
   {
    "duration": 79,
    "start_time": "2023-09-28T11:14:19.080Z"
   },
   {
    "duration": 98,
    "start_time": "2023-09-28T11:14:19.166Z"
   },
   {
    "duration": 91,
    "start_time": "2023-09-28T11:14:19.267Z"
   },
   {
    "duration": 100,
    "start_time": "2023-09-28T11:14:19.361Z"
   },
   {
    "duration": 0,
    "start_time": "2023-09-28T11:14:19.463Z"
   },
   {
    "duration": 13,
    "start_time": "2023-09-28T11:14:38.872Z"
   },
   {
    "duration": 4,
    "start_time": "2023-09-28T11:15:30.745Z"
   },
   {
    "duration": 11,
    "start_time": "2023-09-28T11:15:33.174Z"
   },
   {
    "duration": 9,
    "start_time": "2023-09-28T11:15:39.152Z"
   },
   {
    "duration": 12,
    "start_time": "2023-09-28T11:15:41.863Z"
   },
   {
    "duration": 4,
    "start_time": "2023-09-28T11:15:55.621Z"
   },
   {
    "duration": 13,
    "start_time": "2023-09-28T11:16:03.326Z"
   },
   {
    "duration": 13,
    "start_time": "2023-09-28T11:16:18.230Z"
   },
   {
    "duration": 4,
    "start_time": "2023-09-28T11:16:18.782Z"
   },
   {
    "duration": 13,
    "start_time": "2023-09-28T11:16:19.959Z"
   },
   {
    "duration": 4,
    "start_time": "2023-09-28T11:16:20.497Z"
   },
   {
    "duration": 15,
    "start_time": "2023-09-28T11:16:53.013Z"
   },
   {
    "duration": 3,
    "start_time": "2023-09-28T11:16:53.816Z"
   },
   {
    "duration": 14,
    "start_time": "2023-09-28T11:16:59.163Z"
   },
   {
    "duration": 4,
    "start_time": "2023-09-28T11:17:00.420Z"
   },
   {
    "duration": 10,
    "start_time": "2023-09-28T11:17:04.619Z"
   },
   {
    "duration": 10,
    "start_time": "2023-09-28T11:17:09.142Z"
   },
   {
    "duration": 13,
    "start_time": "2023-09-28T11:17:13.174Z"
   },
   {
    "duration": 13,
    "start_time": "2023-09-28T11:24:54.480Z"
   },
   {
    "duration": 4,
    "start_time": "2023-09-28T11:25:27.257Z"
   },
   {
    "duration": 37,
    "start_time": "2023-09-28T11:25:27.263Z"
   },
   {
    "duration": 11,
    "start_time": "2023-09-28T11:25:27.302Z"
   },
   {
    "duration": 15,
    "start_time": "2023-09-28T11:25:27.315Z"
   },
   {
    "duration": 40,
    "start_time": "2023-09-28T11:25:27.333Z"
   },
   {
    "duration": 6,
    "start_time": "2023-09-28T11:25:27.375Z"
   },
   {
    "duration": 18,
    "start_time": "2023-09-28T11:25:27.383Z"
   },
   {
    "duration": 54,
    "start_time": "2023-09-28T11:25:27.403Z"
   },
   {
    "duration": 12,
    "start_time": "2023-09-28T11:25:27.459Z"
   },
   {
    "duration": 85,
    "start_time": "2023-09-28T11:25:27.473Z"
   },
   {
    "duration": 17,
    "start_time": "2023-09-28T11:25:27.560Z"
   },
   {
    "duration": 90,
    "start_time": "2023-09-28T11:25:27.579Z"
   },
   {
    "duration": 98,
    "start_time": "2023-09-28T11:25:27.673Z"
   },
   {
    "duration": 13,
    "start_time": "2023-09-28T11:25:27.774Z"
   },
   {
    "duration": 84,
    "start_time": "2023-09-28T11:25:27.790Z"
   },
   {
    "duration": 109,
    "start_time": "2023-09-28T11:25:27.876Z"
   },
   {
    "duration": 53,
    "start_time": "2023-09-28T11:25:27.989Z"
   },
   {
    "duration": 21,
    "start_time": "2023-09-28T11:25:28.045Z"
   },
   {
    "duration": 97,
    "start_time": "2023-09-28T11:25:28.069Z"
   },
   {
    "duration": 88,
    "start_time": "2023-09-28T11:25:28.169Z"
   },
   {
    "duration": 108,
    "start_time": "2023-09-28T11:25:28.260Z"
   },
   {
    "duration": 0,
    "start_time": "2023-09-28T11:25:28.370Z"
   },
   {
    "duration": 0,
    "start_time": "2023-09-28T11:25:28.371Z"
   },
   {
    "duration": 14,
    "start_time": "2023-09-28T11:26:08.225Z"
   },
   {
    "duration": 5,
    "start_time": "2023-09-28T11:26:59.742Z"
   },
   {
    "duration": 15,
    "start_time": "2023-09-28T11:27:01.230Z"
   },
   {
    "duration": 14,
    "start_time": "2023-09-28T11:28:04.992Z"
   },
   {
    "duration": 13,
    "start_time": "2023-09-28T11:28:17.722Z"
   },
   {
    "duration": 140,
    "start_time": "2023-09-28T11:28:36.416Z"
   },
   {
    "duration": 14,
    "start_time": "2023-09-28T11:28:50.872Z"
   },
   {
    "duration": 4,
    "start_time": "2023-09-28T11:29:42.595Z"
   },
   {
    "duration": 43,
    "start_time": "2023-09-28T11:29:42.601Z"
   },
   {
    "duration": 12,
    "start_time": "2023-09-28T11:29:42.646Z"
   },
   {
    "duration": 34,
    "start_time": "2023-09-28T11:29:42.662Z"
   },
   {
    "duration": 39,
    "start_time": "2023-09-28T11:29:42.698Z"
   },
   {
    "duration": 4,
    "start_time": "2023-09-28T11:29:42.739Z"
   },
   {
    "duration": 47,
    "start_time": "2023-09-28T11:29:42.745Z"
   },
   {
    "duration": 70,
    "start_time": "2023-09-28T11:29:42.796Z"
   },
   {
    "duration": 86,
    "start_time": "2023-09-28T11:29:42.870Z"
   },
   {
    "duration": 6,
    "start_time": "2023-09-28T11:29:42.959Z"
   },
   {
    "duration": 90,
    "start_time": "2023-09-28T11:29:42.967Z"
   },
   {
    "duration": 122,
    "start_time": "2023-09-28T11:29:43.059Z"
   },
   {
    "duration": 24,
    "start_time": "2023-09-28T11:29:43.183Z"
   },
   {
    "duration": 53,
    "start_time": "2023-09-28T11:29:43.210Z"
   },
   {
    "duration": 197,
    "start_time": "2023-09-28T11:29:43.267Z"
   },
   {
    "duration": 21,
    "start_time": "2023-09-28T11:29:43.467Z"
   },
   {
    "duration": 11,
    "start_time": "2023-09-28T11:29:43.490Z"
   },
   {
    "duration": 10,
    "start_time": "2023-09-28T11:29:43.558Z"
   },
   {
    "duration": 20,
    "start_time": "2023-09-28T11:29:43.656Z"
   },
   {
    "duration": 87,
    "start_time": "2023-09-28T11:29:43.678Z"
   },
   {
    "duration": 100,
    "start_time": "2023-09-28T11:29:43.768Z"
   },
   {
    "duration": 204,
    "start_time": "2023-09-28T11:29:43.870Z"
   },
   {
    "duration": 3159,
    "start_time": "2023-09-28T11:49:06.779Z"
   },
   {
    "duration": 101,
    "start_time": "2023-09-28T11:49:09.941Z"
   },
   {
    "duration": 15,
    "start_time": "2023-09-28T11:49:10.044Z"
   },
   {
    "duration": 42,
    "start_time": "2023-09-28T11:49:10.063Z"
   },
   {
    "duration": 49,
    "start_time": "2023-09-28T11:49:10.107Z"
   },
   {
    "duration": 8,
    "start_time": "2023-09-28T11:49:10.161Z"
   },
   {
    "duration": 14,
    "start_time": "2023-09-28T11:49:10.173Z"
   },
   {
    "duration": 95,
    "start_time": "2023-09-28T11:49:10.262Z"
   },
   {
    "duration": 14,
    "start_time": "2023-09-28T11:49:10.364Z"
   },
   {
    "duration": 23,
    "start_time": "2023-09-28T11:49:10.380Z"
   },
   {
    "duration": 66,
    "start_time": "2023-09-28T11:49:10.406Z"
   },
   {
    "duration": 3,
    "start_time": "2023-09-28T11:49:10.474Z"
   },
   {
    "duration": 99,
    "start_time": "2023-09-28T11:49:10.558Z"
   },
   {
    "duration": 18,
    "start_time": "2023-09-28T11:49:10.660Z"
   },
   {
    "duration": 181,
    "start_time": "2023-09-28T11:49:10.681Z"
   },
   {
    "duration": 21,
    "start_time": "2023-09-28T11:49:10.864Z"
   },
   {
    "duration": 33,
    "start_time": "2023-09-28T11:49:10.887Z"
   },
   {
    "duration": 26,
    "start_time": "2023-09-28T11:49:10.961Z"
   },
   {
    "duration": 77,
    "start_time": "2023-09-28T11:49:10.998Z"
   },
   {
    "duration": 10,
    "start_time": "2023-09-28T11:49:11.078Z"
   },
   {
    "duration": 106,
    "start_time": "2023-09-28T11:49:11.094Z"
   },
   {
    "duration": 98,
    "start_time": "2023-09-28T11:49:11.261Z"
   },
   {
    "duration": 1822,
    "start_time": "2023-09-28T12:54:33.430Z"
   },
   {
    "duration": 82,
    "start_time": "2023-09-28T12:54:35.255Z"
   },
   {
    "duration": 18,
    "start_time": "2023-09-28T12:54:35.339Z"
   },
   {
    "duration": 43,
    "start_time": "2023-09-28T12:54:35.360Z"
   },
   {
    "duration": 42,
    "start_time": "2023-09-28T12:54:35.404Z"
   },
   {
    "duration": 23,
    "start_time": "2023-09-28T12:54:35.448Z"
   },
   {
    "duration": 57,
    "start_time": "2023-09-28T12:54:35.473Z"
   },
   {
    "duration": 173,
    "start_time": "2023-09-28T12:54:35.537Z"
   },
   {
    "duration": 37,
    "start_time": "2023-09-28T12:54:35.712Z"
   },
   {
    "duration": 31,
    "start_time": "2023-09-28T12:54:35.753Z"
   },
   {
    "duration": 35,
    "start_time": "2023-09-28T12:54:35.785Z"
   },
   {
    "duration": 36,
    "start_time": "2023-09-28T12:54:35.822Z"
   },
   {
    "duration": 45,
    "start_time": "2023-09-28T12:54:35.860Z"
   },
   {
    "duration": 34,
    "start_time": "2023-09-28T12:54:35.907Z"
   },
   {
    "duration": 33,
    "start_time": "2023-09-28T12:54:35.944Z"
   },
   {
    "duration": 19,
    "start_time": "2023-09-28T12:54:35.980Z"
   },
   {
    "duration": 173,
    "start_time": "2023-09-28T12:54:36.001Z"
   },
   {
    "duration": 0,
    "start_time": "2023-09-28T12:54:36.176Z"
   },
   {
    "duration": 0,
    "start_time": "2023-09-28T12:54:36.178Z"
   },
   {
    "duration": 0,
    "start_time": "2023-09-28T12:54:36.180Z"
   },
   {
    "duration": 0,
    "start_time": "2023-09-28T12:54:36.182Z"
   },
   {
    "duration": 0,
    "start_time": "2023-09-28T12:54:36.184Z"
   },
   {
    "duration": 13,
    "start_time": "2023-09-28T12:55:28.485Z"
   },
   {
    "duration": 4,
    "start_time": "2023-09-28T12:55:34.494Z"
   },
   {
    "duration": 9,
    "start_time": "2023-09-28T12:55:34.956Z"
   },
   {
    "duration": 28,
    "start_time": "2023-09-28T12:55:36.892Z"
   },
   {
    "duration": 3,
    "start_time": "2023-09-28T12:55:38.526Z"
   },
   {
    "duration": 15,
    "start_time": "2023-09-28T12:55:38.961Z"
   },
   {
    "duration": 21,
    "start_time": "2023-09-28T13:10:58.913Z"
   },
   {
    "duration": 29,
    "start_time": "2023-09-28T13:11:56.695Z"
   },
   {
    "duration": 4,
    "start_time": "2023-09-28T13:12:53.771Z"
   },
   {
    "duration": 67,
    "start_time": "2023-09-28T13:12:53.778Z"
   },
   {
    "duration": 13,
    "start_time": "2023-09-28T13:12:53.847Z"
   },
   {
    "duration": 45,
    "start_time": "2023-09-28T13:12:53.863Z"
   },
   {
    "duration": 68,
    "start_time": "2023-09-28T13:12:53.911Z"
   },
   {
    "duration": 17,
    "start_time": "2023-09-28T13:12:53.981Z"
   },
   {
    "duration": 40,
    "start_time": "2023-09-28T13:12:54.000Z"
   },
   {
    "duration": 67,
    "start_time": "2023-09-28T13:12:54.043Z"
   },
   {
    "duration": 97,
    "start_time": "2023-09-28T13:12:54.113Z"
   },
   {
    "duration": 49,
    "start_time": "2023-09-28T13:12:54.212Z"
   },
   {
    "duration": 36,
    "start_time": "2023-09-28T13:12:54.263Z"
   },
   {
    "duration": 31,
    "start_time": "2023-09-28T13:12:54.301Z"
   },
   {
    "duration": 39,
    "start_time": "2023-09-28T13:12:54.334Z"
   },
   {
    "duration": 37,
    "start_time": "2023-09-28T13:12:54.375Z"
   },
   {
    "duration": 53,
    "start_time": "2023-09-28T13:12:54.414Z"
   },
   {
    "duration": 36,
    "start_time": "2023-09-28T13:12:54.469Z"
   },
   {
    "duration": 46,
    "start_time": "2023-09-28T13:12:54.507Z"
   },
   {
    "duration": 44,
    "start_time": "2023-09-28T13:12:54.555Z"
   },
   {
    "duration": 27,
    "start_time": "2023-09-28T13:12:54.601Z"
   },
   {
    "duration": 58,
    "start_time": "2023-09-28T13:12:54.630Z"
   },
   {
    "duration": 41,
    "start_time": "2023-09-28T13:12:54.690Z"
   },
   {
    "duration": 82,
    "start_time": "2023-09-28T13:12:54.733Z"
   },
   {
    "duration": 120,
    "start_time": "2023-09-28T13:12:54.819Z"
   },
   {
    "duration": 183,
    "start_time": "2023-09-28T13:12:54.944Z"
   },
   {
    "duration": 5,
    "start_time": "2023-09-28T13:14:47.649Z"
   },
   {
    "duration": 42,
    "start_time": "2023-09-28T13:14:47.657Z"
   },
   {
    "duration": 16,
    "start_time": "2023-09-28T13:14:47.701Z"
   },
   {
    "duration": 13,
    "start_time": "2023-09-28T13:14:47.720Z"
   },
   {
    "duration": 43,
    "start_time": "2023-09-28T13:14:47.735Z"
   },
   {
    "duration": 9,
    "start_time": "2023-09-28T13:14:47.781Z"
   },
   {
    "duration": 22,
    "start_time": "2023-09-28T13:14:47.792Z"
   },
   {
    "duration": 13,
    "start_time": "2023-09-28T13:14:47.816Z"
   },
   {
    "duration": 15,
    "start_time": "2023-09-28T13:14:47.909Z"
   },
   {
    "duration": 91,
    "start_time": "2023-09-28T13:14:47.927Z"
   },
   {
    "duration": 36,
    "start_time": "2023-09-28T13:14:48.020Z"
   },
   {
    "duration": 34,
    "start_time": "2023-09-28T13:14:48.057Z"
   },
   {
    "duration": 22,
    "start_time": "2023-09-28T13:14:48.093Z"
   },
   {
    "duration": 13,
    "start_time": "2023-09-28T13:14:48.118Z"
   },
   {
    "duration": 42,
    "start_time": "2023-09-28T13:14:48.133Z"
   },
   {
    "duration": 30,
    "start_time": "2023-09-28T13:14:48.178Z"
   },
   {
    "duration": 27,
    "start_time": "2023-09-28T13:14:48.211Z"
   },
   {
    "duration": 39,
    "start_time": "2023-09-28T13:14:48.240Z"
   },
   {
    "duration": 6,
    "start_time": "2023-09-28T13:14:48.281Z"
   },
   {
    "duration": 22,
    "start_time": "2023-09-28T13:14:48.289Z"
   },
   {
    "duration": 99,
    "start_time": "2023-09-28T13:14:48.312Z"
   },
   {
    "duration": 93,
    "start_time": "2023-09-28T13:14:48.419Z"
   },
   {
    "duration": 25,
    "start_time": "2023-09-28T13:14:48.515Z"
   },
   {
    "duration": 173,
    "start_time": "2023-09-28T13:14:48.546Z"
   },
   {
    "duration": 5,
    "start_time": "2023-09-28T13:15:05.239Z"
   },
   {
    "duration": 56,
    "start_time": "2023-09-28T13:15:05.246Z"
   },
   {
    "duration": 19,
    "start_time": "2023-09-28T13:15:05.304Z"
   },
   {
    "duration": 67,
    "start_time": "2023-09-28T13:15:05.327Z"
   },
   {
    "duration": 61,
    "start_time": "2023-09-28T13:15:05.397Z"
   },
   {
    "duration": 5,
    "start_time": "2023-09-28T13:15:05.461Z"
   },
   {
    "duration": 32,
    "start_time": "2023-09-28T13:15:05.468Z"
   },
   {
    "duration": 107,
    "start_time": "2023-09-28T13:15:05.503Z"
   },
   {
    "duration": 40,
    "start_time": "2023-09-28T13:15:05.614Z"
   },
   {
    "duration": 45,
    "start_time": "2023-09-28T13:15:05.656Z"
   },
   {
    "duration": 40,
    "start_time": "2023-09-28T13:15:05.703Z"
   },
   {
    "duration": 34,
    "start_time": "2023-09-28T13:15:05.745Z"
   },
   {
    "duration": 69,
    "start_time": "2023-09-28T13:15:05.781Z"
   },
   {
    "duration": 51,
    "start_time": "2023-09-28T13:15:05.852Z"
   },
   {
    "duration": 69,
    "start_time": "2023-09-28T13:15:05.905Z"
   },
   {
    "duration": 23,
    "start_time": "2023-09-28T13:15:05.977Z"
   },
   {
    "duration": 37,
    "start_time": "2023-09-28T13:15:06.003Z"
   },
   {
    "duration": 39,
    "start_time": "2023-09-28T13:15:06.043Z"
   },
   {
    "duration": 20,
    "start_time": "2023-09-28T13:15:06.084Z"
   },
   {
    "duration": 30,
    "start_time": "2023-09-28T13:15:06.107Z"
   },
   {
    "duration": 73,
    "start_time": "2023-09-28T13:15:06.140Z"
   },
   {
    "duration": 220,
    "start_time": "2023-09-28T13:15:06.216Z"
   },
   {
    "duration": 68,
    "start_time": "2023-09-28T13:15:06.439Z"
   },
   {
    "duration": 203,
    "start_time": "2023-09-28T13:15:06.512Z"
   },
   {
    "duration": 82,
    "start_time": "2023-09-28T13:15:53.932Z"
   },
   {
    "duration": 4,
    "start_time": "2023-09-28T13:16:04.819Z"
   },
   {
    "duration": 51,
    "start_time": "2023-09-28T13:16:04.826Z"
   },
   {
    "duration": 14,
    "start_time": "2023-09-28T13:16:04.879Z"
   },
   {
    "duration": 15,
    "start_time": "2023-09-28T13:16:04.895Z"
   },
   {
    "duration": 38,
    "start_time": "2023-09-28T13:16:04.913Z"
   },
   {
    "duration": 5,
    "start_time": "2023-09-28T13:16:04.953Z"
   },
   {
    "duration": 10,
    "start_time": "2023-09-28T13:16:04.960Z"
   },
   {
    "duration": 4,
    "start_time": "2023-09-28T13:16:05.010Z"
   },
   {
    "duration": 95,
    "start_time": "2023-09-28T13:16:05.016Z"
   },
   {
    "duration": 14,
    "start_time": "2023-09-28T13:16:05.114Z"
   },
   {
    "duration": 29,
    "start_time": "2023-09-28T13:16:05.131Z"
   },
   {
    "duration": 45,
    "start_time": "2023-09-28T13:16:05.162Z"
   },
   {
    "duration": 53,
    "start_time": "2023-09-28T13:16:05.210Z"
   },
   {
    "duration": 8,
    "start_time": "2023-09-28T13:16:05.265Z"
   },
   {
    "duration": 12,
    "start_time": "2023-09-28T13:16:05.276Z"
   },
   {
    "duration": 32,
    "start_time": "2023-09-28T13:16:05.291Z"
   },
   {
    "duration": 76,
    "start_time": "2023-09-28T13:16:05.326Z"
   },
   {
    "duration": 56,
    "start_time": "2023-09-28T13:16:05.405Z"
   },
   {
    "duration": 164,
    "start_time": "2023-09-28T13:16:05.463Z"
   },
   {
    "duration": 38,
    "start_time": "2023-09-28T13:16:05.629Z"
   },
   {
    "duration": 49,
    "start_time": "2023-09-28T13:16:05.668Z"
   },
   {
    "duration": 95,
    "start_time": "2023-09-28T13:16:05.720Z"
   },
   {
    "duration": 119,
    "start_time": "2023-09-28T13:16:05.819Z"
   },
   {
    "duration": 112,
    "start_time": "2023-09-28T13:16:06.009Z"
   },
   {
    "duration": 5,
    "start_time": "2023-09-28T13:22:07.162Z"
   },
   {
    "duration": 54,
    "start_time": "2023-09-28T13:22:07.170Z"
   },
   {
    "duration": 11,
    "start_time": "2023-09-28T13:22:07.227Z"
   },
   {
    "duration": 23,
    "start_time": "2023-09-28T13:22:07.240Z"
   },
   {
    "duration": 28,
    "start_time": "2023-09-28T13:22:07.265Z"
   },
   {
    "duration": 32,
    "start_time": "2023-09-28T13:22:07.295Z"
   },
   {
    "duration": 40,
    "start_time": "2023-09-28T13:22:07.329Z"
   },
   {
    "duration": 8,
    "start_time": "2023-09-28T13:22:07.371Z"
   },
   {
    "duration": 44,
    "start_time": "2023-09-28T13:22:07.382Z"
   },
   {
    "duration": 78,
    "start_time": "2023-09-28T13:22:07.433Z"
   },
   {
    "duration": 7,
    "start_time": "2023-09-28T13:22:07.521Z"
   },
   {
    "duration": 13,
    "start_time": "2023-09-28T13:22:07.530Z"
   },
   {
    "duration": 6,
    "start_time": "2023-09-28T13:22:07.545Z"
   },
   {
    "duration": 6,
    "start_time": "2023-09-28T13:22:07.553Z"
   },
   {
    "duration": 7,
    "start_time": "2023-09-28T13:22:07.561Z"
   },
   {
    "duration": 8,
    "start_time": "2023-09-28T13:22:07.570Z"
   },
   {
    "duration": 20,
    "start_time": "2023-09-28T13:22:07.580Z"
   },
   {
    "duration": 18,
    "start_time": "2023-09-28T13:22:07.602Z"
   },
   {
    "duration": 7,
    "start_time": "2023-09-28T13:22:07.622Z"
   },
   {
    "duration": 9,
    "start_time": "2023-09-28T13:22:07.631Z"
   },
   {
    "duration": 96,
    "start_time": "2023-09-28T13:22:07.642Z"
   },
   {
    "duration": 15,
    "start_time": "2023-09-28T13:22:07.810Z"
   },
   {
    "duration": 35,
    "start_time": "2023-09-28T13:22:07.827Z"
   },
   {
    "duration": 161,
    "start_time": "2023-09-28T13:22:07.864Z"
   },
   {
    "duration": 32,
    "start_time": "2023-09-28T13:25:36.094Z"
   },
   {
    "duration": 12,
    "start_time": "2023-09-28T13:25:50.727Z"
   },
   {
    "duration": 5,
    "start_time": "2023-09-28T13:25:53.388Z"
   },
   {
    "duration": 5,
    "start_time": "2023-09-28T13:25:58.235Z"
   },
   {
    "duration": 60,
    "start_time": "2023-09-28T13:25:58.242Z"
   },
   {
    "duration": 18,
    "start_time": "2023-09-28T13:25:58.304Z"
   },
   {
    "duration": 14,
    "start_time": "2023-09-28T13:25:58.325Z"
   },
   {
    "duration": 34,
    "start_time": "2023-09-28T13:25:58.341Z"
   },
   {
    "duration": 5,
    "start_time": "2023-09-28T13:25:58.377Z"
   },
   {
    "duration": 41,
    "start_time": "2023-09-28T13:25:58.383Z"
   },
   {
    "duration": 8,
    "start_time": "2023-09-28T13:25:58.426Z"
   },
   {
    "duration": 7,
    "start_time": "2023-09-28T13:25:58.518Z"
   },
   {
    "duration": 13,
    "start_time": "2023-09-28T13:25:58.528Z"
   },
   {
    "duration": 10,
    "start_time": "2023-09-28T13:25:58.543Z"
   },
   {
    "duration": 16,
    "start_time": "2023-09-28T13:25:58.555Z"
   },
   {
    "duration": 7,
    "start_time": "2023-09-28T13:25:58.573Z"
   },
   {
    "duration": 4,
    "start_time": "2023-09-28T13:25:58.621Z"
   },
   {
    "duration": 6,
    "start_time": "2023-09-28T13:25:58.627Z"
   },
   {
    "duration": 22,
    "start_time": "2023-09-28T13:25:58.635Z"
   },
   {
    "duration": 25,
    "start_time": "2023-09-28T13:25:58.659Z"
   },
   {
    "duration": 30,
    "start_time": "2023-09-28T13:25:58.686Z"
   },
   {
    "duration": 6,
    "start_time": "2023-09-28T13:25:58.719Z"
   },
   {
    "duration": 11,
    "start_time": "2023-09-28T13:25:58.727Z"
   },
   {
    "duration": 168,
    "start_time": "2023-09-28T13:25:58.740Z"
   },
   {
    "duration": 7,
    "start_time": "2023-09-28T13:25:58.910Z"
   },
   {
    "duration": 89,
    "start_time": "2023-09-28T13:25:58.920Z"
   },
   {
    "duration": 14,
    "start_time": "2023-09-28T13:25:59.108Z"
   },
   {
    "duration": 233,
    "start_time": "2023-09-28T13:26:55.881Z"
   },
   {
    "duration": 90,
    "start_time": "2023-09-28T13:28:47.724Z"
   },
   {
    "duration": 7,
    "start_time": "2023-09-28T13:36:18.110Z"
   },
   {
    "duration": 40,
    "start_time": "2023-09-28T13:36:18.119Z"
   },
   {
    "duration": 11,
    "start_time": "2023-09-28T13:36:18.160Z"
   },
   {
    "duration": 11,
    "start_time": "2023-09-28T13:36:18.173Z"
   },
   {
    "duration": 36,
    "start_time": "2023-09-28T13:36:18.185Z"
   },
   {
    "duration": 6,
    "start_time": "2023-09-28T13:36:18.223Z"
   },
   {
    "duration": 7,
    "start_time": "2023-09-28T13:36:18.231Z"
   },
   {
    "duration": 73,
    "start_time": "2023-09-28T13:36:18.240Z"
   },
   {
    "duration": 18,
    "start_time": "2023-09-28T13:36:18.315Z"
   },
   {
    "duration": 77,
    "start_time": "2023-09-28T13:36:18.338Z"
   },
   {
    "duration": 19,
    "start_time": "2023-09-28T13:36:18.417Z"
   },
   {
    "duration": 9,
    "start_time": "2023-09-28T13:36:18.437Z"
   },
   {
    "duration": 5,
    "start_time": "2023-09-28T13:36:18.448Z"
   },
   {
    "duration": 5,
    "start_time": "2023-09-28T13:36:18.455Z"
   },
   {
    "duration": 20,
    "start_time": "2023-09-28T13:36:18.462Z"
   },
   {
    "duration": 16,
    "start_time": "2023-09-28T13:36:18.483Z"
   },
   {
    "duration": 7,
    "start_time": "2023-09-28T13:36:18.501Z"
   },
   {
    "duration": 26,
    "start_time": "2023-09-28T13:36:18.510Z"
   },
   {
    "duration": 22,
    "start_time": "2023-09-28T13:36:18.538Z"
   },
   {
    "duration": 18,
    "start_time": "2023-09-28T13:36:18.562Z"
   },
   {
    "duration": 15,
    "start_time": "2023-09-28T13:36:18.582Z"
   },
   {
    "duration": 10,
    "start_time": "2023-09-28T13:36:18.600Z"
   },
   {
    "duration": 6,
    "start_time": "2023-09-28T13:36:18.615Z"
   },
   {
    "duration": 13,
    "start_time": "2023-09-28T13:36:18.624Z"
   },
   {
    "duration": 5,
    "start_time": "2023-09-28T13:36:18.638Z"
   },
   {
    "duration": 75,
    "start_time": "2023-09-28T13:36:18.646Z"
   },
   {
    "duration": 195,
    "start_time": "2023-09-28T13:36:18.724Z"
   },
   {
    "duration": 10,
    "start_time": "2023-09-28T13:37:28.038Z"
   },
   {
    "duration": 10,
    "start_time": "2023-09-28T13:37:37.557Z"
   },
   {
    "duration": 8,
    "start_time": "2023-09-28T13:37:50.523Z"
   },
   {
    "duration": 4,
    "start_time": "2023-09-28T13:37:50.942Z"
   },
   {
    "duration": 3,
    "start_time": "2023-09-28T13:38:34.991Z"
   },
   {
    "duration": 10,
    "start_time": "2023-09-28T13:40:38.626Z"
   },
   {
    "duration": 26,
    "start_time": "2023-09-28T13:40:46.994Z"
   },
   {
    "duration": 10,
    "start_time": "2023-09-28T13:40:47.556Z"
   },
   {
    "duration": 17,
    "start_time": "2023-09-28T13:41:23.110Z"
   },
   {
    "duration": 3,
    "start_time": "2023-09-28T13:41:25.579Z"
   },
   {
    "duration": 5,
    "start_time": "2023-09-28T13:41:53.987Z"
   },
   {
    "duration": 4,
    "start_time": "2023-09-28T13:42:25.879Z"
   },
   {
    "duration": 89,
    "start_time": "2023-09-28T13:42:25.886Z"
   },
   {
    "duration": 12,
    "start_time": "2023-09-28T13:42:25.976Z"
   },
   {
    "duration": 11,
    "start_time": "2023-09-28T13:42:25.991Z"
   },
   {
    "duration": 29,
    "start_time": "2023-09-28T13:42:26.004Z"
   },
   {
    "duration": 35,
    "start_time": "2023-09-28T13:42:26.035Z"
   },
   {
    "duration": 25,
    "start_time": "2023-09-28T13:42:26.072Z"
   },
   {
    "duration": 24,
    "start_time": "2023-09-28T13:42:26.099Z"
   },
   {
    "duration": 4,
    "start_time": "2023-09-28T13:42:26.126Z"
   },
   {
    "duration": 81,
    "start_time": "2023-09-28T13:42:26.132Z"
   },
   {
    "duration": 72,
    "start_time": "2023-09-28T13:42:26.216Z"
   },
   {
    "duration": 30,
    "start_time": "2023-09-28T13:42:26.291Z"
   },
   {
    "duration": 39,
    "start_time": "2023-09-28T13:42:26.323Z"
   },
   {
    "duration": 12,
    "start_time": "2023-09-28T13:42:26.364Z"
   },
   {
    "duration": 13,
    "start_time": "2023-09-28T13:42:26.378Z"
   },
   {
    "duration": 10,
    "start_time": "2023-09-28T13:42:26.393Z"
   },
   {
    "duration": 17,
    "start_time": "2023-09-28T13:42:26.405Z"
   },
   {
    "duration": 20,
    "start_time": "2023-09-28T13:42:26.424Z"
   },
   {
    "duration": 10,
    "start_time": "2023-09-28T13:42:26.447Z"
   },
   {
    "duration": 10,
    "start_time": "2023-09-28T13:42:26.459Z"
   },
   {
    "duration": 12,
    "start_time": "2023-09-28T13:42:26.471Z"
   },
   {
    "duration": 14,
    "start_time": "2023-09-28T13:42:26.484Z"
   },
   {
    "duration": 35,
    "start_time": "2023-09-28T13:42:26.499Z"
   },
   {
    "duration": 41,
    "start_time": "2023-09-28T13:42:26.538Z"
   },
   {
    "duration": 15,
    "start_time": "2023-09-28T13:42:26.581Z"
   },
   {
    "duration": 10,
    "start_time": "2023-09-28T13:42:26.598Z"
   },
   {
    "duration": 18,
    "start_time": "2023-09-28T13:42:26.611Z"
   },
   {
    "duration": 103,
    "start_time": "2023-09-28T13:42:26.632Z"
   },
   {
    "duration": 26,
    "start_time": "2023-09-28T13:42:26.809Z"
   },
   {
    "duration": 188,
    "start_time": "2023-09-28T13:42:26.837Z"
   },
   {
    "duration": 97,
    "start_time": "2023-09-28T13:43:21.473Z"
   },
   {
    "duration": 4,
    "start_time": "2023-09-28T13:48:08.459Z"
   },
   {
    "duration": 10,
    "start_time": "2023-09-28T13:48:08.933Z"
   },
   {
    "duration": 3,
    "start_time": "2023-09-28T13:48:09.480Z"
   },
   {
    "duration": 6,
    "start_time": "2023-09-28T13:48:10.024Z"
   },
   {
    "duration": 4,
    "start_time": "2023-09-28T13:48:10.562Z"
   },
   {
    "duration": 5,
    "start_time": "2023-09-28T13:48:11.122Z"
   },
   {
    "duration": 4,
    "start_time": "2023-09-28T13:48:15.029Z"
   },
   {
    "duration": 404,
    "start_time": "2023-09-28T13:48:15.036Z"
   },
   {
    "duration": 602,
    "start_time": "2023-09-28T13:48:15.442Z"
   },
   {
    "duration": 314,
    "start_time": "2023-09-28T13:48:16.046Z"
   },
   {
    "duration": 81,
    "start_time": "2023-09-28T13:48:16.363Z"
   },
   {
    "duration": 5,
    "start_time": "2023-09-28T13:48:16.446Z"
   },
   {
    "duration": 11,
    "start_time": "2023-09-28T13:48:16.453Z"
   },
   {
    "duration": 47,
    "start_time": "2023-09-28T13:48:16.466Z"
   },
   {
    "duration": 6,
    "start_time": "2023-09-28T13:48:16.516Z"
   },
   {
    "duration": 4,
    "start_time": "2023-09-28T13:48:16.525Z"
   },
   {
    "duration": 80,
    "start_time": "2023-09-28T13:48:16.531Z"
   },
   {
    "duration": 4,
    "start_time": "2023-09-28T13:48:16.614Z"
   },
   {
    "duration": 7,
    "start_time": "2023-09-28T13:48:16.620Z"
   },
   {
    "duration": 2,
    "start_time": "2023-09-28T13:48:16.631Z"
   },
   {
    "duration": 5,
    "start_time": "2023-09-28T13:48:16.635Z"
   },
   {
    "duration": 4,
    "start_time": "2023-09-28T13:48:16.642Z"
   },
   {
    "duration": 8,
    "start_time": "2023-09-28T13:48:16.648Z"
   },
   {
    "duration": 7,
    "start_time": "2023-09-28T13:48:16.658Z"
   },
   {
    "duration": 6,
    "start_time": "2023-09-28T13:48:16.667Z"
   },
   {
    "duration": 6,
    "start_time": "2023-09-28T13:48:16.675Z"
   },
   {
    "duration": 28,
    "start_time": "2023-09-28T13:48:16.682Z"
   },
   {
    "duration": 3,
    "start_time": "2023-09-28T13:48:16.716Z"
   },
   {
    "duration": 9,
    "start_time": "2023-09-28T13:48:16.724Z"
   },
   {
    "duration": 12,
    "start_time": "2023-09-28T13:48:16.734Z"
   },
   {
    "duration": 5,
    "start_time": "2023-09-28T13:48:16.748Z"
   },
   {
    "duration": 11,
    "start_time": "2023-09-28T13:48:16.755Z"
   },
   {
    "duration": 45,
    "start_time": "2023-09-28T13:48:16.767Z"
   },
   {
    "duration": 101,
    "start_time": "2023-09-28T13:48:16.813Z"
   },
   {
    "duration": 94,
    "start_time": "2023-09-28T13:48:16.916Z"
   },
   {
    "duration": 111,
    "start_time": "2023-09-28T13:48:17.012Z"
   },
   {
    "duration": 2492,
    "start_time": "2023-09-28T16:06:20.454Z"
   },
   {
    "duration": 83,
    "start_time": "2023-09-28T16:06:22.948Z"
   },
   {
    "duration": 14,
    "start_time": "2023-09-28T16:06:23.033Z"
   },
   {
    "duration": 23,
    "start_time": "2023-09-28T16:06:23.049Z"
   },
   {
    "duration": 31,
    "start_time": "2023-09-28T16:06:23.074Z"
   },
   {
    "duration": 5,
    "start_time": "2023-09-28T16:06:23.107Z"
   },
   {
    "duration": 13,
    "start_time": "2023-09-28T16:06:23.114Z"
   },
   {
    "duration": 18,
    "start_time": "2023-09-28T16:06:23.157Z"
   },
   {
    "duration": 80,
    "start_time": "2023-09-28T16:06:23.177Z"
   },
   {
    "duration": 2,
    "start_time": "2023-09-28T16:06:23.260Z"
   },
   {
    "duration": 7,
    "start_time": "2023-09-28T16:06:23.264Z"
   },
   {
    "duration": 4,
    "start_time": "2023-09-28T16:06:23.273Z"
   },
   {
    "duration": 9,
    "start_time": "2023-09-28T16:06:23.279Z"
   },
   {
    "duration": 5,
    "start_time": "2023-09-28T16:06:23.290Z"
   },
   {
    "duration": 6,
    "start_time": "2023-09-28T16:06:23.297Z"
   },
   {
    "duration": 5,
    "start_time": "2023-09-28T16:06:23.304Z"
   },
   {
    "duration": 6,
    "start_time": "2023-09-28T16:06:23.310Z"
   },
   {
    "duration": 6,
    "start_time": "2023-09-28T16:06:23.317Z"
   },
   {
    "duration": 9,
    "start_time": "2023-09-28T16:06:23.325Z"
   },
   {
    "duration": 22,
    "start_time": "2023-09-28T16:06:23.335Z"
   },
   {
    "duration": 5,
    "start_time": "2023-09-28T16:06:23.359Z"
   },
   {
    "duration": 30,
    "start_time": "2023-09-28T16:06:23.366Z"
   },
   {
    "duration": 15,
    "start_time": "2023-09-28T16:06:23.398Z"
   },
   {
    "duration": 13,
    "start_time": "2023-09-28T16:06:23.414Z"
   },
   {
    "duration": 3,
    "start_time": "2023-09-28T16:06:23.429Z"
   },
   {
    "duration": 8,
    "start_time": "2023-09-28T16:06:23.434Z"
   },
   {
    "duration": 7,
    "start_time": "2023-09-28T16:06:23.457Z"
   },
   {
    "duration": 98,
    "start_time": "2023-09-28T16:06:23.470Z"
   },
   {
    "duration": 88,
    "start_time": "2023-09-28T16:06:23.570Z"
   },
   {
    "duration": 106,
    "start_time": "2023-09-28T16:06:23.660Z"
   },
   {
    "duration": 2308,
    "start_time": "2023-09-28T16:09:03.680Z"
   },
   {
    "duration": 33,
    "start_time": "2023-09-28T16:09:05.990Z"
   },
   {
    "duration": 13,
    "start_time": "2023-09-28T16:09:06.025Z"
   },
   {
    "duration": 44,
    "start_time": "2023-09-28T16:09:06.040Z"
   },
   {
    "duration": 57,
    "start_time": "2023-09-28T16:09:06.086Z"
   },
   {
    "duration": 9,
    "start_time": "2023-09-28T16:09:06.145Z"
   },
   {
    "duration": 24,
    "start_time": "2023-09-28T16:09:06.156Z"
   },
   {
    "duration": 75,
    "start_time": "2023-09-28T16:09:06.182Z"
   },
   {
    "duration": 97,
    "start_time": "2023-09-28T16:09:06.259Z"
   },
   {
    "duration": 14,
    "start_time": "2023-09-28T16:09:06.360Z"
   },
   {
    "duration": 21,
    "start_time": "2023-09-28T16:09:06.376Z"
   },
   {
    "duration": 36,
    "start_time": "2023-09-28T16:09:06.399Z"
   },
   {
    "duration": 34,
    "start_time": "2023-09-28T16:09:06.436Z"
   },
   {
    "duration": 14,
    "start_time": "2023-09-28T16:09:06.472Z"
   },
   {
    "duration": 19,
    "start_time": "2023-09-28T16:09:06.488Z"
   },
   {
    "duration": 21,
    "start_time": "2023-09-28T16:09:06.509Z"
   },
   {
    "duration": 26,
    "start_time": "2023-09-28T16:09:06.532Z"
   },
   {
    "duration": 29,
    "start_time": "2023-09-28T16:09:06.561Z"
   },
   {
    "duration": 37,
    "start_time": "2023-09-28T16:09:06.591Z"
   },
   {
    "duration": 38,
    "start_time": "2023-09-28T16:09:06.630Z"
   },
   {
    "duration": 27,
    "start_time": "2023-09-28T16:09:06.670Z"
   },
   {
    "duration": 23,
    "start_time": "2023-09-28T16:09:06.699Z"
   },
   {
    "duration": 37,
    "start_time": "2023-09-28T16:09:06.724Z"
   },
   {
    "duration": 32,
    "start_time": "2023-09-28T16:09:06.763Z"
   },
   {
    "duration": 32,
    "start_time": "2023-09-28T16:09:06.797Z"
   },
   {
    "duration": 32,
    "start_time": "2023-09-28T16:09:06.831Z"
   },
   {
    "duration": 90,
    "start_time": "2023-09-28T16:09:06.867Z"
   },
   {
    "duration": 97,
    "start_time": "2023-09-28T16:09:06.962Z"
   },
   {
    "duration": 44,
    "start_time": "2023-09-28T16:09:07.061Z"
   },
   {
    "duration": 106,
    "start_time": "2023-09-28T16:09:07.158Z"
   },
   {
    "duration": 5,
    "start_time": "2023-09-28T16:12:36.117Z"
   },
   {
    "duration": 4,
    "start_time": "2023-09-28T16:12:44.322Z"
   },
   {
    "duration": 111,
    "start_time": "2023-09-28T16:13:34.673Z"
   },
   {
    "duration": 13,
    "start_time": "2023-09-28T16:13:39.660Z"
   },
   {
    "duration": 13,
    "start_time": "2023-09-28T16:13:53.865Z"
   },
   {
    "duration": 5,
    "start_time": "2023-09-28T16:14:06.223Z"
   },
   {
    "duration": 4,
    "start_time": "2023-09-28T16:14:13.436Z"
   },
   {
    "duration": 6,
    "start_time": "2023-09-28T16:14:27.967Z"
   },
   {
    "duration": 7,
    "start_time": "2023-09-28T16:14:42.127Z"
   },
   {
    "duration": 7,
    "start_time": "2023-09-28T16:15:01.696Z"
   },
   {
    "duration": 116,
    "start_time": "2023-09-28T16:21:37.600Z"
   },
   {
    "duration": 2196,
    "start_time": "2023-09-28T16:22:42.801Z"
   },
   {
    "duration": 33,
    "start_time": "2023-09-28T16:22:44.999Z"
   },
   {
    "duration": 16,
    "start_time": "2023-09-28T16:22:45.034Z"
   },
   {
    "duration": 44,
    "start_time": "2023-09-28T16:22:45.052Z"
   },
   {
    "duration": 42,
    "start_time": "2023-09-28T16:22:45.098Z"
   },
   {
    "duration": 5,
    "start_time": "2023-09-28T16:22:45.142Z"
   },
   {
    "duration": 8,
    "start_time": "2023-09-28T16:22:45.148Z"
   },
   {
    "duration": 11,
    "start_time": "2023-09-28T16:22:45.158Z"
   },
   {
    "duration": 8,
    "start_time": "2023-09-28T16:22:45.171Z"
   },
   {
    "duration": 3,
    "start_time": "2023-09-28T16:22:45.256Z"
   },
   {
    "duration": 13,
    "start_time": "2023-09-28T16:22:45.262Z"
   },
   {
    "duration": 3,
    "start_time": "2023-09-28T16:22:45.357Z"
   },
   {
    "duration": 10,
    "start_time": "2023-09-28T16:22:45.362Z"
   },
   {
    "duration": 23,
    "start_time": "2023-09-28T16:22:45.374Z"
   },
   {
    "duration": 13,
    "start_time": "2023-09-28T16:22:45.399Z"
   },
   {
    "duration": 15,
    "start_time": "2023-09-28T16:22:45.414Z"
   },
   {
    "duration": 14,
    "start_time": "2023-09-28T16:22:45.431Z"
   },
   {
    "duration": 9,
    "start_time": "2023-09-28T16:22:45.448Z"
   },
   {
    "duration": 8,
    "start_time": "2023-09-28T16:22:45.459Z"
   },
   {
    "duration": 13,
    "start_time": "2023-09-28T16:22:45.469Z"
   },
   {
    "duration": 5,
    "start_time": "2023-09-28T16:22:45.484Z"
   },
   {
    "duration": 10,
    "start_time": "2023-09-28T16:22:45.490Z"
   },
   {
    "duration": 30,
    "start_time": "2023-09-28T16:22:45.502Z"
   },
   {
    "duration": 12,
    "start_time": "2023-09-28T16:22:45.534Z"
   },
   {
    "duration": 4,
    "start_time": "2023-09-28T16:22:45.548Z"
   },
   {
    "duration": 11,
    "start_time": "2023-09-28T16:22:45.553Z"
   },
   {
    "duration": 91,
    "start_time": "2023-09-28T16:22:45.566Z"
   },
   {
    "duration": 103,
    "start_time": "2023-09-28T16:22:45.663Z"
   },
   {
    "duration": 97,
    "start_time": "2023-09-28T16:22:45.770Z"
   },
   {
    "duration": 0,
    "start_time": "2023-09-28T16:22:45.870Z"
   },
   {
    "duration": 0,
    "start_time": "2023-09-28T16:22:45.957Z"
   },
   {
    "duration": 0,
    "start_time": "2023-09-28T16:22:45.959Z"
   },
   {
    "duration": 2356,
    "start_time": "2023-09-28T16:23:11.576Z"
   },
   {
    "duration": 33,
    "start_time": "2023-09-28T16:23:13.934Z"
   },
   {
    "duration": 14,
    "start_time": "2023-09-28T16:23:13.969Z"
   },
   {
    "duration": 14,
    "start_time": "2023-09-28T16:23:13.985Z"
   },
   {
    "duration": 28,
    "start_time": "2023-09-28T16:23:14.001Z"
   },
   {
    "duration": 5,
    "start_time": "2023-09-28T16:23:14.031Z"
   },
   {
    "duration": 7,
    "start_time": "2023-09-28T16:23:14.057Z"
   },
   {
    "duration": 89,
    "start_time": "2023-09-28T16:23:14.068Z"
   },
   {
    "duration": 97,
    "start_time": "2023-09-28T16:23:14.159Z"
   },
   {
    "duration": 5,
    "start_time": "2023-09-28T16:23:14.260Z"
   },
   {
    "duration": 27,
    "start_time": "2023-09-28T16:23:14.267Z"
   },
   {
    "duration": 12,
    "start_time": "2023-09-28T16:23:14.297Z"
   },
   {
    "duration": 11,
    "start_time": "2023-09-28T16:23:14.312Z"
   },
   {
    "duration": 8,
    "start_time": "2023-09-28T16:23:14.326Z"
   },
   {
    "duration": 7,
    "start_time": "2023-09-28T16:23:14.336Z"
   },
   {
    "duration": 3,
    "start_time": "2023-09-28T16:23:14.346Z"
   },
   {
    "duration": 4,
    "start_time": "2023-09-28T16:23:14.351Z"
   },
   {
    "duration": 6,
    "start_time": "2023-09-28T16:23:14.357Z"
   },
   {
    "duration": 5,
    "start_time": "2023-09-28T16:23:14.365Z"
   },
   {
    "duration": 13,
    "start_time": "2023-09-28T16:23:14.371Z"
   },
   {
    "duration": 19,
    "start_time": "2023-09-28T16:23:14.385Z"
   },
   {
    "duration": 7,
    "start_time": "2023-09-28T16:23:14.406Z"
   },
   {
    "duration": 10,
    "start_time": "2023-09-28T16:23:14.415Z"
   },
   {
    "duration": 10,
    "start_time": "2023-09-28T16:23:14.427Z"
   },
   {
    "duration": 3,
    "start_time": "2023-09-28T16:23:14.439Z"
   },
   {
    "duration": 14,
    "start_time": "2023-09-28T16:23:14.443Z"
   },
   {
    "duration": 102,
    "start_time": "2023-09-28T16:23:14.459Z"
   },
   {
    "duration": 92,
    "start_time": "2023-09-28T16:23:14.566Z"
   },
   {
    "duration": 15,
    "start_time": "2023-09-28T16:23:14.661Z"
   },
   {
    "duration": 189,
    "start_time": "2023-09-28T16:23:14.678Z"
   }
  ],
  "kernelspec": {
   "display_name": "Python 3 (ipykernel)",
   "language": "python",
   "name": "python3"
  },
  "language_info": {
   "codemirror_mode": {
    "name": "ipython",
    "version": 3
   },
   "file_extension": ".py",
   "mimetype": "text/x-python",
   "name": "python",
   "nbconvert_exporter": "python",
   "pygments_lexer": "ipython3",
   "version": "3.9.13"
  },
  "toc": {
   "base_numbering": 1,
   "nav_menu": {},
   "number_sections": true,
   "sideBar": true,
   "skip_h1_title": true,
   "title_cell": "Содержание",
   "title_sidebar": "Contents",
   "toc_cell": true,
   "toc_position": {
    "height": "calc(100% - 180px)",
    "left": "10px",
    "top": "150px",
    "width": "307px"
   },
   "toc_section_display": true,
   "toc_window_display": true
  }
 },
 "nbformat": 4,
 "nbformat_minor": 2
}
