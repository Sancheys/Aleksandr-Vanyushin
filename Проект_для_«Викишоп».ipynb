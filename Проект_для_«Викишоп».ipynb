{
 "cells": [
  {
   "cell_type": "markdown",
   "metadata": {
    "id": "sUxTx83d9yYt",
    "toc": true
   },
   "source": [
    "<h1>Содержание<span class=\"tocSkip\"></span></h1>\n",
    "<div class=\"toc\"><ul class=\"toc-item\"><li><span><a href=\"#Подготовка\" data-toc-modified-id=\"Подготовка-1\"><span class=\"toc-item-num\">1&nbsp;&nbsp;</span>Подготовка</a></span></li><li><span><a href=\"#Обучение\" data-toc-modified-id=\"Обучение-2\"><span class=\"toc-item-num\">2&nbsp;&nbsp;</span>Обучение</a></span></li><li><span><a href=\"#Выводы\" data-toc-modified-id=\"Выводы-3\"><span class=\"toc-item-num\">3&nbsp;&nbsp;</span>Выводы</a></span></li><li><span><a href=\"#Чек-лист-проверки\" data-toc-modified-id=\"Чек-лист-проверки-4\"><span class=\"toc-item-num\">4&nbsp;&nbsp;</span>Чек-лист проверки</a></span></li></ul></div>"
   ]
  },
  {
   "cell_type": "markdown",
   "metadata": {
    "id": "p-IpxP2B9yYu"
   },
   "source": [
    "# Проект для «Викишоп»"
   ]
  },
  {
   "cell_type": "markdown",
   "metadata": {
    "id": "gZKhhgT29yYv"
   },
   "source": [
    "Интернет-магазин «Викишоп» запускает новый сервис. Теперь пользователи могут редактировать и дополнять описания товаров, как в вики-сообществах. То есть клиенты предлагают свои правки и комментируют изменения других. Магазину нужен инструмент, который будет искать токсичные комментарии и отправлять их на модерацию.\n",
    "\n",
    "Обучите модель классифицировать комментарии на позитивные и негативные. В вашем распоряжении набор данных с разметкой о токсичности правок.\n",
    "\n",
    "Постройте модель со значением метрики качества *F1* не меньше 0.75.\n",
    "\n",
    "**Инструкция по выполнению проекта**\n",
    "\n",
    "1. Загрузите и подготовьте данные.\n",
    "2. Обучите разные модели.\n",
    "3. Сделайте выводы.\n",
    "\n",
    "Для выполнения проекта применять *BERT* необязательно, но вы можете попробовать.\n",
    "\n",
    "**Описание данных**\n",
    "\n",
    "Данные находятся в файле `toxic_comments.csv`. Столбец *text* в нём содержит текст комментария, а *toxic* — целевой признак."
   ]
  },
  {
   "cell_type": "markdown",
   "metadata": {
    "id": "ndDmYifc9yYw"
   },
   "source": [
    "## Подготовка"
   ]
  },
  {
   "cell_type": "code",
   "execution_count": 1,
   "metadata": {
    "colab": {
     "base_uri": "https://localhost:8080/"
    },
    "id": "agzoQg7s9yYx",
    "outputId": "3bf3b579-43ad-4c51-a15f-a9d62e272513"
   },
   "outputs": [
    {
     "name": "stdout",
     "output_type": "stream",
     "text": [
      "Requirement already satisfied: eli5 in /opt/conda/lib/python3.9/site-packages (0.13.0)\n",
      "Requirement already satisfied: six in /opt/conda/lib/python3.9/site-packages (from eli5) (1.16.0)\n",
      "Requirement already satisfied: attrs>17.1.0 in /opt/conda/lib/python3.9/site-packages (from eli5) (21.2.0)\n",
      "Requirement already satisfied: tabulate>=0.7.7 in /opt/conda/lib/python3.9/site-packages (from eli5) (0.9.0)\n",
      "Requirement already satisfied: jinja2>=3.0.0 in /opt/conda/lib/python3.9/site-packages (from eli5) (3.0.1)\n",
      "Requirement already satisfied: numpy>=1.9.0 in /opt/conda/lib/python3.9/site-packages (from eli5) (1.21.1)\n",
      "Requirement already satisfied: scipy in /opt/conda/lib/python3.9/site-packages (from eli5) (1.9.1)\n",
      "Requirement already satisfied: scikit-learn>=0.20 in /opt/conda/lib/python3.9/site-packages (from eli5) (0.24.1)\n",
      "Requirement already satisfied: graphviz in /opt/conda/lib/python3.9/site-packages (from eli5) (0.20.1)\n",
      "Requirement already satisfied: MarkupSafe>=2.0 in /opt/conda/lib/python3.9/site-packages (from jinja2>=3.0.0->eli5) (2.1.1)\n",
      "Requirement already satisfied: joblib>=0.11 in /opt/conda/lib/python3.9/site-packages (from scikit-learn>=0.20->eli5) (1.1.0)\n",
      "Requirement already satisfied: threadpoolctl>=2.0.0 in /opt/conda/lib/python3.9/site-packages (from scikit-learn>=0.20->eli5) (3.1.0)\n",
      "Note: you may need to restart the kernel to use updated packages.\n"
     ]
    }
   ],
   "source": [
    "pip install eli5"
   ]
  },
  {
   "cell_type": "code",
   "execution_count": 2,
   "metadata": {
    "id": "aiqXAEsw9yY1"
   },
   "outputs": [],
   "source": [
    "import re\n",
    "import warnings\n",
    "\n",
    "import pandas as pd\n",
    "import seaborn as sns\n",
    "import numpy as np\n",
    "import matplotlib.pyplot as plt\n",
    "import spacy\n",
    "import os\n",
    "import eli5\n",
    "\n",
    "import spacy\n",
    "from spacy.lang.en.stop_words import STOP_WORDS\n",
    "import en_core_web_sm\n",
    "\n",
    "from tqdm import tqdm\n",
    "from nltk.corpus import stopwords as nltk_stopwords\n",
    "from sklearn.feature_extraction.text import TfidfVectorizer\n",
    "from sklearn.model_selection import train_test_split, cross_val_score, GridSearchCV, StratifiedKFold\n",
    "from sklearn.linear_model import LogisticRegression\n",
    "from lightgbm import LGBMRegressor\n",
    "from catboost import CatBoostRegressor\n",
    "from sklearn.ensemble import RandomForestClassifier\n",
    "from sklearn.metrics import f1_score, accuracy_score\n",
    "from sklearn.pipeline import Pipeline\n",
    "from joblib import dump, load"
   ]
  },
  {
   "cell_type": "code",
   "execution_count": 3,
   "metadata": {
    "id": "5o2bTCBC9yY2"
   },
   "outputs": [],
   "source": [
    "data = \"toxic_comments1\"\n",
    "data_grid = \"grid\""
   ]
  },
  {
   "cell_type": "code",
   "execution_count": 4,
   "metadata": {
    "id": "d19nwX9W9yY3"
   },
   "outputs": [],
   "source": [
    "pth1 = 'toxic_comments.csv'\n",
    "pth2 = '/datasets/toxic_comments.csv'\n",
    "\n",
    "if os.path.exists(pth1):\n",
    "    df = pd.read_csv(pth1, index_col=[0])\n",
    "elif os.path.exists(pth2):\n",
    "    df = pd.read_csv(pth2, index_col=[0])\n",
    "else:\n",
    "    print('Something is wrong')"
   ]
  },
  {
   "cell_type": "code",
   "execution_count": 5,
   "metadata": {
    "id": "TPP3dCNz9yY5"
   },
   "outputs": [],
   "source": [
    "random = 777"
   ]
  },
  {
   "cell_type": "code",
   "execution_count": 6,
   "metadata": {
    "colab": {
     "base_uri": "https://localhost:8080/",
     "height": 206
    },
    "id": "PASR0Oqc9yY6",
    "outputId": "f00be5e9-15d5-438f-bb53-184cd8c2fb69"
   },
   "outputs": [
    {
     "data": {
      "text/html": [
       "<div>\n",
       "<style scoped>\n",
       "    .dataframe tbody tr th:only-of-type {\n",
       "        vertical-align: middle;\n",
       "    }\n",
       "\n",
       "    .dataframe tbody tr th {\n",
       "        vertical-align: top;\n",
       "    }\n",
       "\n",
       "    .dataframe thead th {\n",
       "        text-align: right;\n",
       "    }\n",
       "</style>\n",
       "<table border=\"1\" class=\"dataframe\">\n",
       "  <thead>\n",
       "    <tr style=\"text-align: right;\">\n",
       "      <th></th>\n",
       "      <th>text</th>\n",
       "      <th>toxic</th>\n",
       "    </tr>\n",
       "  </thead>\n",
       "  <tbody>\n",
       "    <tr>\n",
       "      <th>0</th>\n",
       "      <td>Explanation\\nWhy the edits made under my usern...</td>\n",
       "      <td>0</td>\n",
       "    </tr>\n",
       "    <tr>\n",
       "      <th>1</th>\n",
       "      <td>D'aww! He matches this background colour I'm s...</td>\n",
       "      <td>0</td>\n",
       "    </tr>\n",
       "    <tr>\n",
       "      <th>2</th>\n",
       "      <td>Hey man, I'm really not trying to edit war. It...</td>\n",
       "      <td>0</td>\n",
       "    </tr>\n",
       "    <tr>\n",
       "      <th>3</th>\n",
       "      <td>\"\\nMore\\nI can't make any real suggestions on ...</td>\n",
       "      <td>0</td>\n",
       "    </tr>\n",
       "    <tr>\n",
       "      <th>4</th>\n",
       "      <td>You, sir, are my hero. Any chance you remember...</td>\n",
       "      <td>0</td>\n",
       "    </tr>\n",
       "  </tbody>\n",
       "</table>\n",
       "</div>"
      ],
      "text/plain": [
       "                                                text  toxic\n",
       "0  Explanation\\nWhy the edits made under my usern...      0\n",
       "1  D'aww! He matches this background colour I'm s...      0\n",
       "2  Hey man, I'm really not trying to edit war. It...      0\n",
       "3  \"\\nMore\\nI can't make any real suggestions on ...      0\n",
       "4  You, sir, are my hero. Any chance you remember...      0"
      ]
     },
     "execution_count": 6,
     "metadata": {},
     "output_type": "execute_result"
    }
   ],
   "source": [
    "df.head(5)"
   ]
  },
  {
   "cell_type": "code",
   "execution_count": 7,
   "metadata": {
    "colab": {
     "base_uri": "https://localhost:8080/"
    },
    "id": "pTBZjH5i9yY6",
    "outputId": "4a2bf7d2-29b1-4d1e-d2e0-69def4e16805"
   },
   "outputs": [
    {
     "name": "stdout",
     "output_type": "stream",
     "text": [
      "<class 'pandas.core.frame.DataFrame'>\n",
      "Int64Index: 159292 entries, 0 to 159450\n",
      "Data columns (total 2 columns):\n",
      " #   Column  Non-Null Count   Dtype \n",
      "---  ------  --------------   ----- \n",
      " 0   text    159292 non-null  object\n",
      " 1   toxic   159292 non-null  int64 \n",
      "dtypes: int64(1), object(1)\n",
      "memory usage: 3.6+ MB\n"
     ]
    }
   ],
   "source": [
    "df.info()"
   ]
  },
  {
   "cell_type": "code",
   "execution_count": 8,
   "metadata": {
    "colab": {
     "base_uri": "https://localhost:8080/"
    },
    "id": "hO594oZO9yY7",
    "outputId": "12ac694b-53b8-4842-b057-3b8522e89fa6"
   },
   "outputs": [
    {
     "data": {
      "text/plain": [
       "0"
      ]
     },
     "execution_count": 8,
     "metadata": {},
     "output_type": "execute_result"
    }
   ],
   "source": [
    "df.duplicated().sum()"
   ]
  },
  {
   "cell_type": "code",
   "execution_count": 9,
   "metadata": {
    "colab": {
     "base_uri": "https://localhost:8080/"
    },
    "id": "6q48bCfj9yY8",
    "outputId": "7b2f57f8-0eac-4187-95de-95ad3c222fba"
   },
   "outputs": [
    {
     "data": {
      "text/plain": [
       "0"
      ]
     },
     "execution_count": 9,
     "metadata": {},
     "output_type": "execute_result"
    }
   ],
   "source": [
    "df.duplicated().sum()"
   ]
  },
  {
   "cell_type": "code",
   "execution_count": 10,
   "metadata": {
    "colab": {
     "base_uri": "https://localhost:8080/"
    },
    "id": "o11hvD3b9yY9",
    "outputId": "de304291-7cb7-4c29-c739-506f4248f663"
   },
   "outputs": [
    {
     "data": {
      "text/plain": [
       "(159292, 2)"
      ]
     },
     "execution_count": 10,
     "metadata": {},
     "output_type": "execute_result"
    }
   ],
   "source": [
    "df.shape"
   ]
  },
  {
   "cell_type": "code",
   "execution_count": 11,
   "metadata": {
    "colab": {
     "base_uri": "https://localhost:8080/"
    },
    "id": "_QBIBWP89yY-",
    "outputId": "50268317-06ae-40c3-8093-f84a14e55831"
   },
   "outputs": [
    {
     "data": {
      "text/plain": [
       "0    143106\n",
       "1     16186\n",
       "Name: toxic, dtype: int64"
      ]
     },
     "execution_count": 11,
     "metadata": {},
     "output_type": "execute_result"
    }
   ],
   "source": [
    "df['toxic'].value_counts()"
   ]
  },
  {
   "cell_type": "code",
   "execution_count": 12,
   "metadata": {
    "colab": {
     "base_uri": "https://localhost:8080/",
     "height": 598
    },
    "id": "BwpJ4S7V9yY_",
    "outputId": "10033db0-a064-47a6-ca50-728013085185"
   },
   "outputs": [
    {
     "data": {
      "image/png": "[encoded data removed]",
      "text/plain": [
       "<Figure size 504x504 with 1 Axes>"
      ]
     },
     "metadata": {},
     "output_type": "display_data"
    }
   ],
   "source": [
    "df['toxic'].value_counts().plot(kind='pie', autopct='%.1f', figsize=(7,7))\n",
    "plt.legend(['Позитивные','Токсичные'])\n",
    "plt.title('Процент позитивных и токсичных коментариев');"
   ]
  },
  {
   "cell_type": "markdown",
   "metadata": {
    "id": "tgG9IQ1d9yZA"
   },
   "source": [
    "* Присутсвует сильный дизбаланс классов.\n",
    "* В строках содержатся спец.символы"
   ]
  },
  {
   "cell_type": "markdown",
   "metadata": {
    "id": "-67UjADj9yZB"
   },
   "source": [
    "**Предобработка**"
   ]
  },
  {
   "cell_type": "markdown",
   "metadata": {
    "id": "kj4_abxq9yZB"
   },
   "source": [
    "**Очистка**"
   ]
  },
  {
   "cell_type": "markdown",
   "metadata": {
    "id": "ubBHzQHc9yZC"
   },
   "source": [
    "Очистим тексты с помощию регулярных выражений:\n",
    "\n",
    "* Приведем все к нижнему регистру\n",
    "* Удалим спец символы \\n \\r\n",
    "* Выберем только слова"
   ]
  },
  {
   "cell_type": "code",
   "execution_count": 13,
   "metadata": {
    "id": "AM07lTxj9yZC"
   },
   "outputs": [],
   "source": [
    "def clean(text):\n",
    "    text = text.lower()\n",
    "    text = re.sub(r\"(?:\\n|\\r)\", \" \", text)\n",
    "    text = re.sub(r\"[^a-zA-Z ]+\", \"\", text).strip()\n",
    "\n",
    "    return text"
   ]
  },
  {
   "cell_type": "code",
   "execution_count": 14,
   "metadata": {
    "id": "xMGXbuoB9yZD"
   },
   "outputs": [],
   "source": [
    "df['clean_text'] = df['text'].apply(clean)"
   ]
  },
  {
   "cell_type": "code",
   "execution_count": 15,
   "metadata": {
    "colab": {
     "base_uri": "https://localhost:8080/",
     "height": 206
    },
    "id": "gR8SWV5k9yZD",
    "outputId": "f7fb6455-74cb-461f-edb4-39cf1f0c2e6c"
   },
   "outputs": [
    {
     "data": {
      "text/html": [
       "<div>\n",
       "<style scoped>\n",
       "    .dataframe tbody tr th:only-of-type {\n",
       "        vertical-align: middle;\n",
       "    }\n",
       "\n",
       "    .dataframe tbody tr th {\n",
       "        vertical-align: top;\n",
       "    }\n",
       "\n",
       "    .dataframe thead th {\n",
       "        text-align: right;\n",
       "    }\n",
       "</style>\n",
       "<table border=\"1\" class=\"dataframe\">\n",
       "  <thead>\n",
       "    <tr style=\"text-align: right;\">\n",
       "      <th></th>\n",
       "      <th>text</th>\n",
       "      <th>toxic</th>\n",
       "      <th>clean_text</th>\n",
       "    </tr>\n",
       "  </thead>\n",
       "  <tbody>\n",
       "    <tr>\n",
       "      <th>43955</th>\n",
       "      <td>I DID IMPROVE THE TOPIC, BY ASKING TO NOT BE S...</td>\n",
       "      <td>0</td>\n",
       "      <td>i did improve the topic by asking to not be sp...</td>\n",
       "    </tr>\n",
       "    <tr>\n",
       "      <th>121354</th>\n",
       "      <td>Half of 26 are what I hope seeing \\n\\nBetter s...</td>\n",
       "      <td>0</td>\n",
       "      <td>half of  are what i hope seeing   better solut...</td>\n",
       "    </tr>\n",
       "    <tr>\n",
       "      <th>12989</th>\n",
       "      <td>\"\\n\\nI don't know the poet articles you speak ...</td>\n",
       "      <td>0</td>\n",
       "      <td>i dont know the poet articles you speak of so ...</td>\n",
       "    </tr>\n",
       "    <tr>\n",
       "      <th>26826</th>\n",
       "      <td>\"But as to appease Floquenbeam - \"\"I believe t...</td>\n",
       "      <td>0</td>\n",
       "      <td>but as to appease floquenbeam  i believe this ...</td>\n",
       "    </tr>\n",
       "    <tr>\n",
       "      <th>37386</th>\n",
       "      <td>\"The so-called Flag of Ireland should be remov...</td>\n",
       "      <td>0</td>\n",
       "      <td>the socalled flag of ireland should be removed...</td>\n",
       "    </tr>\n",
       "  </tbody>\n",
       "</table>\n",
       "</div>"
      ],
      "text/plain": [
       "                                                     text  toxic  \\\n",
       "43955   I DID IMPROVE THE TOPIC, BY ASKING TO NOT BE S...      0   \n",
       "121354  Half of 26 are what I hope seeing \\n\\nBetter s...      0   \n",
       "12989   \"\\n\\nI don't know the poet articles you speak ...      0   \n",
       "26826   \"But as to appease Floquenbeam - \"\"I believe t...      0   \n",
       "37386   \"The so-called Flag of Ireland should be remov...      0   \n",
       "\n",
       "                                               clean_text  \n",
       "43955   i did improve the topic by asking to not be sp...  \n",
       "121354  half of  are what i hope seeing   better solut...  \n",
       "12989   i dont know the poet articles you speak of so ...  \n",
       "26826   but as to appease floquenbeam  i believe this ...  \n",
       "37386   the socalled flag of ireland should be removed...  "
      ]
     },
     "execution_count": 15,
     "metadata": {},
     "output_type": "execute_result"
    }
   ],
   "source": [
    "df.sample(5)"
   ]
  },
  {
   "cell_type": "markdown",
   "metadata": {
    "id": "8VMFhr1-9yZE"
   },
   "source": [
    "**Лемантизация**"
   ]
  },
  {
   "cell_type": "code",
   "execution_count": 16,
   "metadata": {
    "id": "QihLRnVR9yZE"
   },
   "outputs": [],
   "source": [
    "nlp = en_core_web_sm.load()"
   ]
  },
  {
   "cell_type": "code",
   "execution_count": 17,
   "metadata": {
    "id": "r6s7LePb9yZF"
   },
   "outputs": [],
   "source": [
    "def lemmatize(text):\n",
    "    temp = []\n",
    "    for token in nlp(text):\n",
    "        if token.is_stop == False:\n",
    "            temp.append(token.lemma_)\n",
    "    return \" \".join(temp)"
   ]
  },
  {
   "cell_type": "code",
   "execution_count": 18,
   "metadata": {
    "colab": {
     "base_uri": "https://localhost:8080/"
    },
    "id": "nspnrOgC9yZF",
    "outputId": "16085c56-792c-4100-baa7-f62fab372986"
   },
   "outputs": [],
   "source": [
    "tqdm.pandas()\n",
    "df['text_lemma'] = df['clean_text'].progress_apply(lemmatize)"
   ]
  },
  {
   "cell_type": "code",
   "execution_count": 19,
   "metadata": {
    "colab": {
     "base_uri": "https://localhost:8080/"
    },
    "id": "36ciCjCE9yZH",
    "outputId": "bb583722-e3b8-4905-86c5-4aa41f4b5ddf"
   },
   "outputs": [
    {
     "data": {},
     "execution_count": 19,
     "metadata": {},
     "output_type": "execute_result"
    }
   ],
   "source": [
    "dump(df,data)"
   ]
  },
  {
   "cell_type": "code",
   "execution_count": 16,
   "metadata": {
    "id": "R4hFwtDN9yZI"
   },
   "outputs": [],
   "source": [
    "df = load(data)"
   ]
  },
  {
   "cell_type": "code",
   "execution_count": 17,
   "metadata": {
    "colab": {
     "base_uri": "https://localhost:8080/",
     "height": 276
    },
    "id": "rcVXhLsf9yZI",
    "outputId": "9d7958e2-0008-4593-971a-a2d6485ac268"
   },
   "outputs": [
    {
     "data": {
      "text/html": [
       "<div>\n",
       "<style scoped>\n",
       "    .dataframe tbody tr th:only-of-type {\n",
       "        vertical-align: middle;\n",
       "    }\n",
       "\n",
       "    .dataframe tbody tr th {\n",
       "        vertical-align: top;\n",
       "    }\n",
       "\n",
       "    .dataframe thead th {\n",
       "        text-align: right;\n",
       "    }\n",
       "</style>\n",
       "<table border=\"1\" class=\"dataframe\">\n",
       "  <thead>\n",
       "    <tr style=\"text-align: right;\">\n",
       "      <th></th>\n",
       "      <th>text</th>\n",
       "      <th>toxic</th>\n",
       "      <th>clean_text</th>\n",
       "      <th>text_lemma</th>\n",
       "    </tr>\n",
       "  </thead>\n",
       "  <tbody>\n",
       "    <tr>\n",
       "      <th>108493</th>\n",
       "      <td>Only  being Russian guy.</td>\n",
       "      <td>0</td>\n",
       "      <td>only  being russian guy</td>\n",
       "      <td>russian guy</td>\n",
       "    </tr>\n",
       "    <tr>\n",
       "      <th>151207</th>\n",
       "      <td>\"\\n\\nI am not very experienced in Wikipedia, b...</td>\n",
       "      <td>0</td>\n",
       "      <td>i am not very experienced in wikipedia but i f...</td>\n",
       "      <td>experienced wikipedia feel recent incident par...</td>\n",
       "    </tr>\n",
       "    <tr>\n",
       "      <th>101077</th>\n",
       "      <td>...and see next section. Let's continue this t...</td>\n",
       "      <td>0</td>\n",
       "      <td>and see next section lets continue this there</td>\n",
       "      <td>section let continue</td>\n",
       "    </tr>\n",
       "    <tr>\n",
       "      <th>103057</th>\n",
       "      <td>Please do not remove or change images, especia...</td>\n",
       "      <td>0</td>\n",
       "      <td>please do not remove or change images especial...</td>\n",
       "      <td>remove change image especially intro box conse...</td>\n",
       "    </tr>\n",
       "    <tr>\n",
       "      <th>70173</th>\n",
       "      <td>\"\\n\\nSorry, no?  \"\"No\"\" is what a master says ...</td>\n",
       "      <td>1</td>\n",
       "      <td>sorry no  no is what a master says to a dog  n...</td>\n",
       "      <td>sorry   master say dog   parent say child   cl...</td>\n",
       "    </tr>\n",
       "  </tbody>\n",
       "</table>\n",
       "</div>"
      ],
      "text/plain": [
       "                                                     text  toxic  \\\n",
       "108493                           Only  being Russian guy.      0   \n",
       "151207  \"\\n\\nI am not very experienced in Wikipedia, b...      0   \n",
       "101077  ...and see next section. Let's continue this t...      0   \n",
       "103057  Please do not remove or change images, especia...      0   \n",
       "70173   \"\\n\\nSorry, no?  \"\"No\"\" is what a master says ...      1   \n",
       "\n",
       "                                               clean_text  \\\n",
       "108493                            only  being russian guy   \n",
       "151207  i am not very experienced in wikipedia but i f...   \n",
       "101077      and see next section lets continue this there   \n",
       "103057  please do not remove or change images especial...   \n",
       "70173   sorry no  no is what a master says to a dog  n...   \n",
       "\n",
       "                                               text_lemma  \n",
       "108493                                        russian guy  \n",
       "151207  experienced wikipedia feel recent incident par...  \n",
       "101077                               section let continue  \n",
       "103057  remove change image especially intro box conse...  \n",
       "70173   sorry   master say dog   parent say child   cl...  "
      ]
     },
     "execution_count": 17,
     "metadata": {},
     "output_type": "execute_result"
    }
   ],
   "source": [
    "df.sample(5)"
   ]
  },
  {
   "cell_type": "code",
   "execution_count": 18,
   "metadata": {
    "colab": {
     "base_uri": "https://localhost:8080/"
    },
    "id": "WadnyEuc9yZJ",
    "outputId": "f4c4d0bc-9412-4664-ae70-865e53426705"
   },
   "outputs": [
    {
     "data": {
      "text/plain": [
       "text          0\n",
       "toxic         0\n",
       "clean_text    0\n",
       "text_lemma    0\n",
       "dtype: int64"
      ]
     },
     "execution_count": 18,
     "metadata": {},
     "output_type": "execute_result"
    }
   ],
   "source": [
    "df.isna().sum()"
   ]
  },
  {
   "cell_type": "markdown",
   "metadata": {
    "id": "-54kCz6L9yZK"
   },
   "source": [
    "Разделим выборку"
   ]
  },
  {
   "cell_type": "code",
   "execution_count": 22,
   "metadata": {
    "id": "F41ZI1_39yZK"
   },
   "outputs": [],
   "source": [
    "x = df.drop(columns=['toxic'])\n",
    "y = df['toxic']"
   ]
  },
  {
   "cell_type": "code",
   "execution_count": 23,
   "metadata": {
    "id": "54F0iZYO9yZL"
   },
   "outputs": [],
   "source": [
    "x_train, x_test, y_train, y_test = train_test_split(x, y,\n",
    "                                                    shuffle=True,\n",
    "                                                    test_size=0.2,\n",
    "                                                    random_state=random)"
   ]
  },
  {
   "cell_type": "code",
   "execution_count": 24,
   "metadata": {
    "id": "h_J7o6RE9yZM"
   },
   "outputs": [],
   "source": [
    "x_valid, x_valid, y_valid, y_valid = train_test_split(x_train, y_train,\n",
    "                                                                 shuffle=True,\n",
    "                                                                 test_size=0.2,\n",
    "                                                                 random_state=random)"
   ]
  },
  {
   "cell_type": "code",
   "execution_count": 25,
   "metadata": {
    "colab": {
     "base_uri": "https://localhost:8080/"
    },
    "id": "yTO01x9D9yZo",
    "outputId": "28aa3871-400d-4cec-d964-c3cbfcd67858"
   },
   "outputs": [
    {
     "name": "stdout",
     "output_type": "stream",
     "text": [
      "Train:\n",
      "(127433, 3) (127433,)\n",
      "Valid:\n",
      "(25487, 3) (25487,)\n",
      "Test:\n",
      "(31859, 3) (31859,)\n"
     ]
    }
   ],
   "source": [
    "print('Train:')\n",
    "print(x_train.shape, y_train.shape)\n",
    "print('Valid:')\n",
    "print(x_valid.shape, y_valid.shape)\n",
    "print('Test:')\n",
    "print(x_test.shape, y_test.shape)"
   ]
  },
  {
   "cell_type": "markdown",
   "metadata": {
    "id": "cNScKhHn9yZp"
   },
   "source": [
    "## Обучение"
   ]
  },
  {
   "cell_type": "markdown",
   "metadata": {
    "id": "s6B-6Jf09yZp"
   },
   "source": [
    "**Tf-idf и LogisticRegression**"
   ]
  },
  {
   "cell_type": "markdown",
   "metadata": {
    "id": "-Z7-dcd_9yZq"
   },
   "source": [
    "1. Составим пайплайн: Tf-idf -> Classifier\n",
    "2. В качестве Classifier попробуем LogisticRegression, так как остальные не отрабатывают за приемлемое время на таком количестве признаков"
   ]
  },
  {
   "cell_type": "code",
   "execution_count": 25,
   "metadata": {
    "id": "09ztqxTD9yZq"
   },
   "outputs": [],
   "source": [
    "pipe = Pipeline([\n",
    "    ('vectorizer', TfidfVectorizer(ngram_range=(1, 1))),\n",
    "    ('model', LogisticRegression(random_state=random, solver='liblinear'))\n",
    "    ])"
   ]
  },
  {
   "cell_type": "code",
   "execution_count": 28,
   "metadata": {
    "colab": {
     "base_uri": "https://localhost:8080/"
    },
    "id": "rGXEppdn9yZr",
    "outputId": "a5790b70-50ac-491a-f4cf-0de5e5f0b666"
   },
   "outputs": [],
   "source": [
    "for col in ['clean_text', 'text_lemma']:\n",
    "    pipe.fit(x_train[col], y_train);\n",
    "    y_valid_pred = pipe.predict(x_valid[col])\n",
    "    f1 = f1_score(y_valid, y_valid_pred)\n",
    "    print('F1 for', col, 'is', f1)"
   ]
  },
  {
   "cell_type": "markdown",
   "metadata": {
    "id": "CQRTQYDG9yZ-"
   },
   "source": [
    "Лемантизированный текст дает метрику лучше чем просто очищенный текс."
   ]
  },
  {
   "cell_type": "markdown",
   "metadata": {
    "id": "4PJ8hz7I9yZ_"
   },
   "source": [
    "Посмотрим на самые важные слова"
   ]
  },
  {
   "cell_type": "code",
   "execution_count": 29,
   "metadata": {
    "id": "H3-rDtf89yaA"
   },
   "outputs": [],
   "source": [
    "eli5.show_weights(pipe, top=50)"
   ]
  },
  {
   "cell_type": "markdown",
   "metadata": {
    "id": "_LixbkC49yaB"
   },
   "source": [
    "Попробуем улучшить результат."
   ]
  },
  {
   "cell_type": "code",
   "execution_count": 30,
   "metadata": {
    "id": "XJngvQ-s9yaC"
   },
   "outputs": [],
   "source": [
    "pipe = Pipeline([\n",
    "    ('vectorizer', TfidfVectorizer(ngram_range=(1, 1))),\n",
    "    ('model', LogisticRegression(random_state=random, solver='liblinear', max_iter=500)) #lbfgs\n",
    "    ])\n",
    "\n",
    "params = [\n",
    "        {\n",
    "            'vectorizer__ngram_range': [(1, 1), (1, 2), (2, 2)],\n",
    "            'model': [LogisticRegression(random_state=random, solver='liblinear')],\n",
    "            'model__C': [1, 10, 50, 100, 200]\n",
    "        }\n",
    "]"
   ]
  },
  {
   "cell_type": "code",
   "execution_count": 31,
   "metadata": {
    "id": "pkGcNUmd9yaD"
   },
   "outputs": [],
   "source": [
    "cv = StratifiedKFold(n_splits=3, shuffle=True, random_state=random)\n",
    "\n",
    "grid = GridSearchCV(pipe, param_grid=params, scoring='f1', cv=cv, verbose=False)"
   ]
  },
  {
   "cell_type": "code",
   "execution_count": 32,
   "metadata": {
    "colab": {
     "base_uri": "https://localhost:8080/",
     "height": 189
    },
    "id": "vg_TYOQr9yaF",
    "outputId": "aa917937-a8fa-4c11-df35-212b9fc9a177"
   },
   "outputs": [
    {
     "data": {},
     "execution_count": 32,
     "metadata": {},
     "output_type": "execute_result"
    }
   ],
   "source": [
    "%%time\n",
    "grid.fit(x_train['text_lemma'], y_train)"
   ]
  },
  {
   "cell_type": "code",
   "execution_count": 33,
   "metadata": {
    "id": "90YsY5sV9yaG"
   },
   "outputs": [],
   "source": [
    "dump(grid, data_grid);"
   ]
  },
  {
   "cell_type": "code",
   "execution_count": 37,
   "metadata": {
    "colab": {
     "base_uri": "https://localhost:8080/"
    },
    "id": "gwE4v6ag9yaH",
    "outputId": "f8527b74-55a7-4181-d9ed-ce6c450ba926"
   },
   "outputs": [
    {
     "data": {
      "text/plain": [
       "({'model': LogisticRegression(C=100, random_state=777, solver='liblinear'),\n",
       "  'model__C': 100,\n",
       "  'vectorizer__ngram_range': (1, 2)},\n",
       " 0.7778460510408879)"
      ]
     },
     "execution_count": 37,
     "metadata": {},
     "output_type": "execute_result"
    }
   ],
   "source": [
    "grid = load(data_grid)\n",
    "grid.best_params_, grid.best_score_"
   ]
  },
  {
   "cell_type": "code",
   "execution_count": 35,
   "metadata": {
    "colab": {
     "base_uri": "https://localhost:8080/",
     "height": 128
    },
    "id": "YkOMzwjk9yaI",
    "outputId": "255e91d8-06c6-4535-8d46-6c5c723345ab"
   },
   "outputs": [
    {
     "data": {},
     "execution_count": 35,
     "metadata": {},
     "output_type": "execute_result"
    }
   ],
   "source": [
    "grid.best_estimator_"
   ]
  },
  {
   "cell_type": "markdown",
   "metadata": {
    "id": "DBFgpwwzug48"
   },
   "source": [
    "**RandomForestClassifier**"
   ]
  },
  {
   "cell_type": "code",
   "execution_count": 19,
   "metadata": {
    "id": "GbJIntqTu3pg"
   },
   "outputs": [],
   "source": [
    "stopwords = list(nltk_stopwords.words('english'))"
   ]
  },
  {
   "cell_type": "code",
   "execution_count": 20,
   "metadata": {
    "id": "yXnBVITYu6oA"
   },
   "outputs": [],
   "source": [
    "count_tf_idf = TfidfVectorizer(stop_words=stopwords)"
   ]
  },
  {
   "cell_type": "code",
   "execution_count": 26,
   "metadata": {
    "id": "HU-TDwolueei"
   },
   "outputs": [],
   "source": [
    "x_train_vector = count_tf_idf.fit_transform(x_train['text_lemma'])\n",
    "x_test_vector = count_tf_idf.transform(x_test['text_lemma'])"
   ]
  },
  {
   "cell_type": "code",
   "execution_count": 27,
   "metadata": {
    "id": "1v4U658luez4"
   },
   "outputs": [],
   "source": [
    "forest_model = RandomForestClassifier(random_state=random, class_weight='balanced')\n",
    "forest_param = {'max_depth':[3, 7, 19],\n",
    "                'n_estimators':[90, 145, 290],\n",
    "                'max_features': [3, 5, 8]}"
   ]
  },
  {
   "cell_type": "code",
   "execution_count": 28,
   "metadata": {
    "id": "amEuwU_YufBC"
   },
   "outputs": [],
   "source": [
    "grid_forest = GridSearchCV(forest_model, param_grid=forest_param, scoring='f1', cv=4, n_jobs=-1)"
   ]
  },
  {
   "cell_type": "code",
   "execution_count": 29,
   "metadata": {
    "colab": {
     "base_uri": "https://localhost:8080/",
     "height": 119
    },
    "id": "o_QtcGT3vAgS",
    "outputId": "107907b0-97e4-4325-c8d7-aad327572e6b"
   },
   "outputs": [
    {
     "data": {
      "text/plain": [
       "GridSearchCV(cv=4,\n",
       "             estimator=RandomForestClassifier(class_weight='balanced',\n",
       "                                              random_state=777),\n",
       "             n_jobs=-1,\n",
       "             param_grid={'max_depth': [3, 7, 19], 'max_features': [3, 5, 8],\n",
       "                         'n_estimators': [90, 145, 290]},\n",
       "             scoring='f1')"
      ]
     },
     "execution_count": 29,
     "metadata": {},
     "output_type": "execute_result"
    }
   ],
   "source": [
    "grid_forest.fit(x_train_vector, y_train)"
   ]
  },
  {
   "cell_type": "code",
   "execution_count": 30,
   "metadata": {
    "colab": {
     "base_uri": "https://localhost:8080/"
    },
    "id": "ki2h9B8IvAja",
    "outputId": "7d03609c-5b63-452e-902b-e6b9f21697fa"
   },
   "outputs": [
    {
     "data": {
      "text/plain": [
       "0.2975889118130798"
      ]
     },
     "execution_count": 30,
     "metadata": {},
     "output_type": "execute_result"
    }
   ],
   "source": [
    "grid_forest.best_score_"
   ]
  },
  {
   "cell_type": "markdown",
   "metadata": {
    "id": "g284rxwRvbAU"
   },
   "source": [
    "**DecisionTreeClassifier**"
   ]
  },
  {
   "cell_type": "code",
   "execution_count": 31,
   "metadata": {
    "id": "4Y5l53G053ox"
   },
   "outputs": [],
   "source": [
    "from sklearn.tree import DecisionTreeClassifier"
   ]
  },
  {
   "cell_type": "code",
   "execution_count": 32,
   "metadata": {
    "id": "POSO6WLUvAmx"
   },
   "outputs": [],
   "source": [
    "decision_model = DecisionTreeClassifier(random_state=random, class_weight='balanced')\n",
    "decision_param = {'max_depth':[3, 7, 19]}"
   ]
  },
  {
   "cell_type": "code",
   "execution_count": 33,
   "metadata": {
    "id": "v98FoftzvAp9"
   },
   "outputs": [],
   "source": [
    "grid_decision = GridSearchCV(decision_model, param_grid=decision_param, scoring='f1', cv=4, n_jobs=-1)"
   ]
  },
  {
   "cell_type": "code",
   "execution_count": 34,
   "metadata": {
    "colab": {
     "base_uri": "https://localhost:8080/",
     "height": 154
    },
    "id": "kUyS_l2LzUNn",
    "outputId": "552a37a1-2142-4521-deb6-13c7fde6469f"
   },
   "outputs": [
    {
     "name": "stdout",
     "output_type": "stream",
     "text": [
      "CPU times: user 2min 46s, sys: 95.8 ms, total: 2min 46s\n",
      "Wall time: 2min 46s\n"
     ]
    },
    {
     "data": {
      "text/plain": [
       "GridSearchCV(cv=4,\n",
       "             estimator=DecisionTreeClassifier(class_weight='balanced',\n",
       "                                              random_state=777),\n",
       "             n_jobs=-1, param_grid={'max_depth': [3, 7, 19]}, scoring='f1')"
      ]
     },
     "execution_count": 34,
     "metadata": {},
     "output_type": "execute_result"
    }
   ],
   "source": [
    "%%time\n",
    "grid_decision.fit(x_train_vector, y_train)"
   ]
  },
  {
   "cell_type": "code",
   "execution_count": 35,
   "metadata": {
    "colab": {
     "base_uri": "https://localhost:8080/"
    },
    "id": "jpQiTy3pzZUB",
    "outputId": "9dc45b34-f93f-411a-f175-d48a322ac6c9"
   },
   "outputs": [
    {
     "data": {
      "text/plain": [
       "0.6320931226408381"
      ]
     },
     "execution_count": 35,
     "metadata": {},
     "output_type": "execute_result"
    }
   ],
   "source": [
    "grid_decision.best_score_"
   ]
  },
  {
   "cell_type": "markdown",
   "metadata": {
    "id": "f9ln_Wc89yaJ"
   },
   "source": [
    "## Выводы"
   ]
  },
  {
   "cell_type": "code",
   "execution_count": 38,
   "metadata": {
    "colab": {
     "base_uri": "https://localhost:8080/"
    },
    "id": "KcpaPmY39yaK",
    "outputId": "64bc16cd-9167-425f-819c-8e951798c98d"
   },
   "outputs": [
    {
     "data": {
      "text/plain": [
       "0.7839727195225916"
      ]
     },
     "execution_count": 38,
     "metadata": {},
     "output_type": "execute_result"
    }
   ],
   "source": [
    "test = grid.best_estimator_\n",
    "\n",
    "test.fit(x_train['text_lemma'], y_train)\n",
    "\n",
    "pred = test.predict(x_test['text_lemma'])\n",
    "\n",
    "f1_score(y_test, pred)"
   ]
  },
  {
   "cell_type": "markdown",
   "metadata": {
    "id": "7V_eWcTw9yaN"
   },
   "source": [
    "Модель, LogisticRegressionудовлетворяет требованиям заказчика.\n",
    "\n",
    "В ходе тестирования это модель показала значение метрики f1 = 0.78397"
   ]
  }
 ],
 "metadata": {
  "ExecuteTimeLog": [
   {
    "duration": 49301,
    "start_time": "2023-10-14T22:38:34.244Z"
   },
   {
    "duration": 0,
    "start_time": "2023-10-14T22:39:23.554Z"
   },
   {
    "duration": 9,
    "start_time": "2023-10-14T22:40:09.245Z"
   },
   {
    "duration": 101,
    "start_time": "2023-10-14T22:40:14.546Z"
   },
   {
    "duration": 23,
    "start_time": "2023-10-14T22:42:30.945Z"
   },
   {
    "duration": 11,
    "start_time": "2023-10-14T22:42:35.041Z"
   },
   {
    "duration": 10950,
    "start_time": "2023-10-14T22:42:36.345Z"
   },
   {
    "duration": 2307,
    "start_time": "2023-10-14T22:42:58.502Z"
   },
   {
    "duration": 3,
    "start_time": "2023-10-14T22:43:23.360Z"
   },
   {
    "duration": 11,
    "start_time": "2023-10-14T22:43:56.950Z"
   },
   {
    "duration": 33,
    "start_time": "2023-10-14T22:44:32.192Z"
   },
   {
    "duration": 209,
    "start_time": "2023-10-14T22:44:41.403Z"
   },
   {
    "duration": 4,
    "start_time": "2023-10-14T22:45:01.800Z"
   },
   {
    "duration": 6,
    "start_time": "2023-10-14T22:45:17.942Z"
   },
   {
    "duration": 186,
    "start_time": "2023-10-14T22:46:16.884Z"
   },
   {
    "duration": 157,
    "start_time": "2023-10-14T22:47:23.262Z"
   },
   {
    "duration": 156,
    "start_time": "2023-10-14T22:47:33.967Z"
   },
   {
    "duration": 212,
    "start_time": "2023-10-14T22:55:43.835Z"
   },
   {
    "duration": 4,
    "start_time": "2023-10-14T22:57:20.530Z"
   },
   {
    "duration": 2644,
    "start_time": "2023-10-14T22:57:43.086Z"
   },
   {
    "duration": 36,
    "start_time": "2023-10-14T22:57:50.053Z"
   },
   {
    "duration": 3,
    "start_time": "2023-10-14T23:01:37.563Z"
   },
   {
    "duration": 393,
    "start_time": "2023-10-14T23:01:51.739Z"
   },
   {
    "duration": 18,
    "start_time": "2023-10-14T23:02:30.792Z"
   },
   {
    "duration": 33,
    "start_time": "2023-10-14T23:03:28.109Z"
   },
   {
    "duration": 768,
    "start_time": "2023-10-14T23:03:35.779Z"
   },
   {
    "duration": 3,
    "start_time": "2023-10-14T23:03:37.309Z"
   },
   {
    "duration": 2442351,
    "start_time": "2023-10-14T23:03:40.840Z"
   },
   {
    "duration": 18,
    "start_time": "2023-10-14T23:44:23.193Z"
   },
   {
    "duration": 0,
    "start_time": "2023-10-14T23:44:23.212Z"
   },
   {
    "duration": 4,
    "start_time": "2023-10-14T23:46:03.070Z"
   },
   {
    "duration": 7511,
    "start_time": "2023-10-14T23:46:08.282Z"
   },
   {
    "duration": 48,
    "start_time": "2023-10-14T23:46:15.795Z"
   },
   {
    "duration": 818,
    "start_time": "2023-10-14T23:46:15.845Z"
   },
   {
    "duration": 22,
    "start_time": "2023-10-14T23:50:18.520Z"
   },
   {
    "duration": 50,
    "start_time": "2023-10-14T23:52:34.643Z"
   },
   {
    "duration": 3,
    "start_time": "2023-10-14T23:55:01.935Z"
   },
   {
    "duration": 85,
    "start_time": "2023-10-14T23:56:01.880Z"
   },
   {
    "duration": 3,
    "start_time": "2023-10-14T23:56:14.628Z"
   },
   {
    "duration": 2,
    "start_time": "2023-10-14T23:56:21.500Z"
   },
   {
    "duration": 26,
    "start_time": "2023-10-14T23:57:14.837Z"
   },
   {
    "duration": 6,
    "start_time": "2023-10-14T23:57:28.569Z"
   },
   {
    "duration": 691,
    "start_time": "2023-10-14T23:58:09.299Z"
   },
   {
    "duration": 4,
    "start_time": "2023-10-14T23:58:41.866Z"
   },
   {
    "duration": 3,
    "start_time": "2023-10-14T23:58:42.669Z"
   },
   {
    "duration": 650,
    "start_time": "2023-10-14T23:58:43.431Z"
   },
   {
    "duration": 3,
    "start_time": "2023-10-15T00:04:44.162Z"
   },
   {
    "duration": 3,
    "start_time": "2023-10-15T00:04:44.642Z"
   },
   {
    "duration": 441,
    "start_time": "2023-10-15T00:04:45.278Z"
   },
   {
    "duration": 3,
    "start_time": "2023-10-15T00:05:14.052Z"
   },
   {
    "duration": 3,
    "start_time": "2023-10-15T00:05:14.672Z"
   },
   {
    "duration": 167,
    "start_time": "2023-10-15T00:05:15.309Z"
   },
   {
    "duration": 3,
    "start_time": "2023-10-15T00:05:22.450Z"
   },
   {
    "duration": 3,
    "start_time": "2023-10-15T00:05:22.843Z"
   },
   {
    "duration": 4,
    "start_time": "2023-10-15T00:05:23.319Z"
   },
   {
    "duration": 196,
    "start_time": "2023-10-15T00:05:23.773Z"
   },
   {
    "duration": 4,
    "start_time": "2023-10-15T00:05:37.678Z"
   },
   {
    "duration": 2,
    "start_time": "2023-10-15T00:05:38.079Z"
   },
   {
    "duration": 2,
    "start_time": "2023-10-15T00:05:38.577Z"
   },
   {
    "duration": 186,
    "start_time": "2023-10-15T00:05:39.058Z"
   },
   {
    "duration": 20,
    "start_time": "2023-10-15T00:06:50.154Z"
   },
   {
    "duration": 3,
    "start_time": "2023-10-15T00:07:02.853Z"
   },
   {
    "duration": 35,
    "start_time": "2023-10-15T00:07:29.553Z"
   },
   {
    "duration": 26,
    "start_time": "2023-10-15T00:07:47.640Z"
   },
   {
    "duration": 4,
    "start_time": "2023-10-15T00:07:54.777Z"
   },
   {
    "duration": 57,
    "start_time": "2023-10-15T00:08:42.353Z"
   },
   {
    "duration": 5,
    "start_time": "2023-10-15T00:09:05.374Z"
   },
   {
    "duration": 48,
    "start_time": "2023-10-15T00:09:18.480Z"
   },
   {
    "duration": 56,
    "start_time": "2023-10-15T00:09:18.952Z"
   },
   {
    "duration": 6,
    "start_time": "2023-10-15T00:09:19.472Z"
   },
   {
    "duration": 49,
    "start_time": "2023-10-15T00:09:36.367Z"
   },
   {
    "duration": 5,
    "start_time": "2023-10-15T00:09:37.061Z"
   },
   {
    "duration": 25,
    "start_time": "2023-10-15T00:09:41.280Z"
   },
   {
    "duration": 64,
    "start_time": "2023-10-15T00:09:41.644Z"
   },
   {
    "duration": 47,
    "start_time": "2023-10-15T00:09:42.087Z"
   },
   {
    "duration": 20,
    "start_time": "2023-10-15T00:09:42.555Z"
   },
   {
    "duration": 7,
    "start_time": "2023-10-15T00:11:03.860Z"
   },
   {
    "duration": 3,
    "start_time": "2023-10-15T00:11:22.254Z"
   },
   {
    "duration": 19,
    "start_time": "2023-10-15T00:11:53.518Z"
   },
   {
    "duration": 18218,
    "start_time": "2023-10-15T00:12:42.087Z"
   },
   {
    "duration": 32864,
    "start_time": "2023-10-15T00:14:11.916Z"
   },
   {
    "duration": 18,
    "start_time": "2023-10-15T00:17:04.693Z"
   },
   {
    "duration": 5671,
    "start_time": "2023-10-15T00:17:35.033Z"
   },
   {
    "duration": 729,
    "start_time": "2023-10-15T00:17:48.423Z"
   },
   {
    "duration": 245,
    "start_time": "2023-10-15T00:18:08.489Z"
   },
   {
    "duration": 20,
    "start_time": "2023-10-15T00:19:49.319Z"
   },
   {
    "duration": 30,
    "start_time": "2023-10-15T00:20:23.619Z"
   },
   {
    "duration": 5,
    "start_time": "2023-10-15T00:21:02.388Z"
   },
   {
    "duration": 3,
    "start_time": "2023-10-15T00:21:08.831Z"
   },
   {
    "duration": 139,
    "start_time": "2023-10-15T00:22:08.572Z"
   },
   {
    "duration": 1357259,
    "start_time": "2023-10-15T00:22:14.539Z"
   },
   {
    "duration": 5,
    "start_time": "2023-10-15T00:55:06.702Z"
   },
   {
    "duration": 2352,
    "start_time": "2023-10-15T00:57:44.920Z"
   },
   {
    "duration": 19,
    "start_time": "2023-10-15T01:02:30.667Z"
   },
   {
    "duration": 20,
    "start_time": "2023-10-15T01:03:29.232Z"
   },
   {
    "duration": 79050,
    "start_time": "2023-10-15T01:05:52.054Z"
   },
   {
    "duration": 18,
    "start_time": "2023-10-15T01:08:18.577Z"
   },
   {
    "duration": 17,
    "start_time": "2023-10-15T01:09:08.764Z"
   },
   {
    "duration": 15,
    "start_time": "2023-10-15T01:11:12.454Z"
   },
   {
    "duration": 17,
    "start_time": "2023-10-15T01:12:51.793Z"
   },
   {
    "duration": 23,
    "start_time": "2023-10-15T01:13:32.390Z"
   },
   {
    "duration": 23,
    "start_time": "2023-10-15T01:16:54.441Z"
   },
   {
    "duration": 46942,
    "start_time": "2023-10-15T01:18:59.352Z"
   },
   {
    "duration": 50049,
    "start_time": "2023-10-15T01:21:31.420Z"
   },
   {
    "duration": 50899,
    "start_time": "2023-10-15T01:27:16.783Z"
   },
   {
    "duration": 7,
    "start_time": "2023-10-15T01:29:47.765Z"
   },
   {
    "duration": 50249,
    "start_time": "2023-10-15T01:29:54.764Z"
   },
   {
    "duration": 74194,
    "start_time": "2023-10-15T01:31:06.895Z"
   },
   {
    "duration": 50486,
    "start_time": "2023-10-15T01:32:52.260Z"
   },
   {
    "duration": 5,
    "start_time": "2023-10-15T01:36:52.470Z"
   },
   {
    "duration": 13804,
    "start_time": "2023-10-15T01:37:03.277Z"
   },
   {
    "duration": 6459,
    "start_time": "2023-10-15T01:37:46.016Z"
   },
   {
    "duration": 50186,
    "start_time": "2023-10-15T01:38:00.902Z"
   },
   {
    "duration": 6,
    "start_time": "2023-10-15T01:44:51.390Z"
   },
   {
    "duration": 6064,
    "start_time": "2023-10-15T01:45:13.893Z"
   },
   {
    "duration": 13620,
    "start_time": "2023-10-15T01:45:41.528Z"
   },
   {
    "duration": 3,
    "start_time": "2023-10-15T01:46:26.841Z"
   },
   {
    "duration": 4,
    "start_time": "2023-10-15T01:46:28.750Z"
   },
   {
    "duration": 3,
    "start_time": "2023-10-15T01:46:31.216Z"
   },
   {
    "duration": 5823,
    "start_time": "2023-10-15T01:46:48.056Z"
   },
   {
    "duration": 19453,
    "start_time": "2023-10-15T01:46:53.881Z"
   },
   {
    "duration": 18,
    "start_time": "2023-10-15T01:47:55.943Z"
   },
   {
    "duration": 2171,
    "start_time": "2023-10-15T01:48:33.953Z"
   },
   {
    "duration": 5678,
    "start_time": "2023-10-15T01:48:36.126Z"
   },
   {
    "duration": 4,
    "start_time": "2023-10-15T01:48:41.806Z"
   },
   {
    "duration": 930,
    "start_time": "2023-10-15T01:48:41.812Z"
   },
   {
    "duration": 3,
    "start_time": "2023-10-15T01:48:42.744Z"
   },
   {
    "duration": 13,
    "start_time": "2023-10-15T01:48:42.748Z"
   },
   {
    "duration": 33,
    "start_time": "2023-10-15T01:48:42.763Z"
   },
   {
    "duration": 237,
    "start_time": "2023-10-15T01:48:42.798Z"
   },
   {
    "duration": 193,
    "start_time": "2023-10-15T01:48:43.036Z"
   },
   {
    "duration": 4,
    "start_time": "2023-10-15T01:48:43.231Z"
   },
   {
    "duration": 5,
    "start_time": "2023-10-15T01:48:43.243Z"
   },
   {
    "duration": 181,
    "start_time": "2023-10-15T01:48:43.250Z"
   },
   {
    "duration": 3,
    "start_time": "2023-10-15T01:48:43.433Z"
   },
   {
    "duration": 2574,
    "start_time": "2023-10-15T01:48:43.443Z"
   },
   {
    "duration": 42,
    "start_time": "2023-10-15T01:48:46.019Z"
   },
   {
    "duration": 494,
    "start_time": "2023-10-15T01:48:46.063Z"
   },
   {
    "duration": 3,
    "start_time": "2023-10-15T01:48:46.558Z"
   },
   {
    "duration": 21702,
    "start_time": "2023-10-15T01:48:46.563Z"
   },
   {
    "duration": 0,
    "start_time": "2023-10-15T01:49:08.267Z"
   },
   {
    "duration": 0,
    "start_time": "2023-10-15T01:49:08.269Z"
   },
   {
    "duration": 0,
    "start_time": "2023-10-15T01:49:08.270Z"
   },
   {
    "duration": 0,
    "start_time": "2023-10-15T01:49:08.271Z"
   },
   {
    "duration": 0,
    "start_time": "2023-10-15T01:49:08.272Z"
   },
   {
    "duration": 0,
    "start_time": "2023-10-15T01:49:08.273Z"
   },
   {
    "duration": 1,
    "start_time": "2023-10-15T01:49:08.274Z"
   },
   {
    "duration": 0,
    "start_time": "2023-10-15T01:49:08.276Z"
   },
   {
    "duration": 0,
    "start_time": "2023-10-15T01:49:08.276Z"
   },
   {
    "duration": 0,
    "start_time": "2023-10-15T01:49:08.277Z"
   },
   {
    "duration": 0,
    "start_time": "2023-10-15T01:49:08.279Z"
   },
   {
    "duration": 0,
    "start_time": "2023-10-15T01:49:08.280Z"
   },
   {
    "duration": 0,
    "start_time": "2023-10-15T01:49:08.281Z"
   },
   {
    "duration": 0,
    "start_time": "2023-10-15T01:49:08.282Z"
   },
   {
    "duration": 0,
    "start_time": "2023-10-15T01:49:08.283Z"
   },
   {
    "duration": 1,
    "start_time": "2023-10-15T01:49:08.284Z"
   },
   {
    "duration": 0,
    "start_time": "2023-10-15T01:49:08.286Z"
   },
   {
    "duration": 0,
    "start_time": "2023-10-15T01:49:08.287Z"
   },
   {
    "duration": 0,
    "start_time": "2023-10-15T01:49:08.288Z"
   },
   {
    "duration": 6870,
    "start_time": "2023-10-15T01:49:44.102Z"
   },
   {
    "duration": 18,
    "start_time": "2023-10-15T01:49:53.839Z"
   },
   {
    "duration": 3450,
    "start_time": "2023-10-15T01:50:16.134Z"
   },
   {
    "duration": 5161,
    "start_time": "2023-10-15T01:50:31.118Z"
   },
   {
    "duration": 11,
    "start_time": "2023-10-15T01:50:37.960Z"
   },
   {
    "duration": 67,
    "start_time": "2023-10-15T01:50:55.979Z"
   },
   {
    "duration": 17,
    "start_time": "2023-10-15T01:50:57.592Z"
   },
   {
    "duration": 46,
    "start_time": "2023-10-15T01:50:58.282Z"
   },
   {
    "duration": 45,
    "start_time": "2023-10-15T01:51:00.056Z"
   },
   {
    "duration": 5,
    "start_time": "2023-10-15T01:51:00.542Z"
   },
   {
    "duration": 19,
    "start_time": "2023-10-15T01:51:10.829Z"
   },
   {
    "duration": 4,
    "start_time": "2023-10-15T01:51:27.471Z"
   },
   {
    "duration": 31695,
    "start_time": "2023-10-15T01:51:28.190Z"
   },
   {
    "duration": 237,
    "start_time": "2023-10-15T01:51:59.887Z"
   },
   {
    "duration": 6889,
    "start_time": "2023-10-15T01:52:00.126Z"
   },
   {
    "duration": 5,
    "start_time": "2023-10-15T01:52:11.976Z"
   },
   {
    "duration": 6,
    "start_time": "2023-10-15T01:52:14.222Z"
   },
   {
    "duration": 50139,
    "start_time": "2023-10-15T01:52:18.062Z"
   },
   {
    "duration": 2190,
    "start_time": "2023-10-15T02:00:23.118Z"
   },
   {
    "duration": 4226,
    "start_time": "2023-10-15T02:00:28.202Z"
   },
   {
    "duration": 5,
    "start_time": "2023-10-15T02:00:32.430Z"
   },
   {
    "duration": 989,
    "start_time": "2023-10-15T02:00:33.383Z"
   },
   {
    "duration": 4,
    "start_time": "2023-10-15T02:00:34.374Z"
   },
   {
    "duration": 11,
    "start_time": "2023-10-15T02:00:35.193Z"
   },
   {
    "duration": 33,
    "start_time": "2023-10-15T02:00:36.924Z"
   },
   {
    "duration": 227,
    "start_time": "2023-10-15T02:00:37.511Z"
   },
   {
    "duration": 194,
    "start_time": "2023-10-15T02:00:38.035Z"
   },
   {
    "duration": 4,
    "start_time": "2023-10-15T02:00:38.519Z"
   },
   {
    "duration": 7,
    "start_time": "2023-10-15T02:00:39.342Z"
   },
   {
    "duration": 165,
    "start_time": "2023-10-15T02:00:40.054Z"
   },
   {
    "duration": 3,
    "start_time": "2023-10-15T02:00:44.573Z"
   },
   {
    "duration": 2540,
    "start_time": "2023-10-15T02:00:45.284Z"
   },
   {
    "duration": 39,
    "start_time": "2023-10-15T02:00:49.912Z"
   },
   {
    "duration": 500,
    "start_time": "2023-10-15T02:00:52.922Z"
   },
   {
    "duration": 3,
    "start_time": "2023-10-15T02:00:58.564Z"
   },
   {
    "duration": 3,
    "start_time": "2023-10-15T02:01:12.113Z"
   },
   {
    "duration": 6019,
    "start_time": "2023-10-15T02:01:25.030Z"
   },
   {
    "duration": 11,
    "start_time": "2023-10-15T02:01:31.828Z"
   },
   {
    "duration": 67,
    "start_time": "2023-10-15T02:01:34.130Z"
   },
   {
    "duration": 16,
    "start_time": "2023-10-15T02:01:36.682Z"
   },
   {
    "duration": 45,
    "start_time": "2023-10-15T02:01:39.614Z"
   },
   {
    "duration": 42,
    "start_time": "2023-10-15T02:01:40.188Z"
   },
   {
    "duration": 5,
    "start_time": "2023-10-15T02:01:41.994Z"
   },
   {
    "duration": 4,
    "start_time": "2023-10-15T02:01:59.047Z"
   },
   {
    "duration": 31597,
    "start_time": "2023-10-15T02:02:00.199Z"
   },
   {
    "duration": 236,
    "start_time": "2023-10-15T02:02:31.798Z"
   },
   {
    "duration": 3,
    "start_time": "2023-10-15T02:03:17.154Z"
   },
   {
    "duration": 7081,
    "start_time": "2023-10-15T02:03:27.326Z"
   },
   {
    "duration": 50041,
    "start_time": "2023-10-15T02:03:55.593Z"
   },
   {
    "duration": 1863,
    "start_time": "2023-10-20T21:58:16.964Z"
   },
   {
    "duration": 16159,
    "start_time": "2023-10-20T21:58:21.820Z"
   },
   {
    "duration": 5,
    "start_time": "2023-10-20T21:58:37.981Z"
   },
   {
    "duration": 2231,
    "start_time": "2023-10-20T21:58:37.987Z"
   },
   {
    "duration": 3,
    "start_time": "2023-10-20T21:58:40.220Z"
   },
   {
    "duration": 15,
    "start_time": "2023-10-20T21:58:40.224Z"
   },
   {
    "duration": 31,
    "start_time": "2023-10-20T21:58:40.240Z"
   },
   {
    "duration": 229,
    "start_time": "2023-10-20T21:58:40.272Z"
   },
   {
    "duration": 207,
    "start_time": "2023-10-20T21:58:40.502Z"
   },
   {
    "duration": 4,
    "start_time": "2023-10-20T21:58:40.711Z"
   },
   {
    "duration": 7,
    "start_time": "2023-10-20T21:58:40.717Z"
   },
   {
    "duration": 149,
    "start_time": "2023-10-20T21:58:40.740Z"
   },
   {
    "duration": 2,
    "start_time": "2023-10-20T21:58:40.891Z"
   },
   {
    "duration": 2482,
    "start_time": "2023-10-20T21:58:42.156Z"
   },
   {
    "duration": 23,
    "start_time": "2023-10-20T21:58:44.639Z"
   },
   {
    "duration": 2921,
    "start_time": "2023-10-20T21:58:52.528Z"
   },
   {
    "duration": 28,
    "start_time": "2023-10-20T21:58:57.106Z"
   },
   {
    "duration": 41,
    "start_time": "2023-10-20T21:58:58.356Z"
   },
   {
    "duration": 7,
    "start_time": "2023-10-20T21:59:18.889Z"
   },
   {
    "duration": 2,
    "start_time": "2023-10-20T21:59:19.932Z"
   },
   {
    "duration": 298,
    "start_time": "2023-10-20T21:59:21.050Z"
   },
   {
    "duration": 10,
    "start_time": "2023-10-20T21:59:40.580Z"
   },
   {
    "duration": 33,
    "start_time": "2023-10-20T21:59:41.175Z"
   },
   {
    "duration": 25,
    "start_time": "2023-10-20T21:59:42.382Z"
   },
   {
    "duration": 4,
    "start_time": "2023-10-20T21:59:42.957Z"
   },
   {
    "duration": 4091,
    "start_time": "2023-10-20T21:59:52.257Z"
   },
   {
    "duration": 3,
    "start_time": "2023-10-20T21:59:58.498Z"
   },
   {
    "duration": 2,
    "start_time": "2023-10-20T21:59:59.350Z"
   },
   {
    "duration": 580241,
    "start_time": "2023-10-20T21:59:59.715Z"
   },
   {
    "duration": 3,
    "start_time": "2023-10-20T22:09:39.958Z"
   },
   {
    "duration": 3,
    "start_time": "2023-10-20T22:09:39.962Z"
   },
   {
    "duration": 3,
    "start_time": "2023-10-20T22:09:39.967Z"
   },
   {
    "duration": 4,
    "start_time": "2023-10-20T22:09:39.971Z"
   },
   {
    "duration": 166545,
    "start_time": "2023-10-20T22:09:39.977Z"
   },
   {
    "duration": 3,
    "start_time": "2023-10-20T22:12:26.523Z"
   },
   {
    "duration": 24,
    "start_time": "2023-10-20T22:12:26.528Z"
   },
   {
    "duration": 6301,
    "start_time": "2023-10-20T22:13:13.141Z"
   },
   {
    "duration": 35216,
    "start_time": "2023-10-20T22:13:24.387Z"
   }
  ],
  "colab": {
   "provenance": []
  },
  "kernelspec": {
   "display_name": "Python 3 (ipykernel)",
   "language": "python",
   "name": "python3"
  },
  "language_info": {
   "codemirror_mode": {
    "name": "ipython",
    "version": 3
   },
   "file_extension": ".py",
   "mimetype": "text/x-python",
   "name": "python",
   "nbconvert_exporter": "python",
   "pygments_lexer": "ipython3",
   "version": "3.9.13"
  },
  "toc": {
   "base_numbering": 1,
   "nav_menu": {},
   "number_sections": true,
   "sideBar": true,
   "skip_h1_title": true,
   "title_cell": "Содержание",
   "title_sidebar": "Contents",
   "toc_cell": true,
   "toc_position": {
    "height": "calc(100% - 180px)",
    "left": "10px",
    "top": "150px",
    "width": "302.391px"
   },
   "toc_section_display": true,
   "toc_window_display": false
  }
 },
 "nbformat": 4,
 "nbformat_minor": 2
}
